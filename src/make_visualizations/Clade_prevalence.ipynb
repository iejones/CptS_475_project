{
 "cells": [
  {
   "cell_type": "markdown",
   "id": "98db0888",
   "metadata": {},
   "source": [
    "See how prevalent each clade is over time in a big picture view"
   ]
  },
  {
   "cell_type": "code",
   "execution_count": 1,
   "id": "2019c2ff",
   "metadata": {},
   "outputs": [],
   "source": [
    "# set up\n",
    "import pandas as pd\n",
    "import os\n",
    "import plotly.graph_objects as go\n",
    "import plotly.express as px\n",
    "\n",
    "project_folder = os.path.join(\"..\", \"..\")"
   ]
  },
  {
   "cell_type": "code",
   "execution_count": 2,
   "id": "c88430e6",
   "metadata": {},
   "outputs": [
    {
     "data": {
      "text/html": [
       "<div>\n",
       "<style scoped>\n",
       "    .dataframe tbody tr th:only-of-type {\n",
       "        vertical-align: middle;\n",
       "    }\n",
       "\n",
       "    .dataframe tbody tr th {\n",
       "        vertical-align: top;\n",
       "    }\n",
       "\n",
       "    .dataframe thead th {\n",
       "        text-align: right;\n",
       "    }\n",
       "</style>\n",
       "<table border=\"1\" class=\"dataframe\">\n",
       "  <thead>\n",
       "    <tr style=\"text-align: right;\">\n",
       "      <th></th>\n",
       "      <th>state</th>\n",
       "      <th>p_sequence</th>\n",
       "      <th>p_accession</th>\n",
       "      <th>date</th>\n",
       "      <th>count</th>\n",
       "      <th>n_accession</th>\n",
       "      <th>n_sequence</th>\n",
       "      <th>clade</th>\n",
       "    </tr>\n",
       "  </thead>\n",
       "  <tbody>\n",
       "    <tr>\n",
       "      <th>0</th>\n",
       "      <td>GA</td>\n",
       "      <td>\"MFVFLVLLPLVSSQCVNLTTRTQLPPAYTNSFTRGVYYPDKVFRS...</td>\n",
       "      <td>QVJ86123</td>\n",
       "      <td>2021</td>\n",
       "      <td>1</td>\n",
       "      <td>MZ217195</td>\n",
       "      <td>ATTAAAGGTTTATACCTTCCCAGGTAACAAACCAACCAACTTTCGA...</td>\n",
       "      <td>20B</td>\n",
       "    </tr>\n",
       "  </tbody>\n",
       "</table>\n",
       "</div>"
      ],
      "text/plain": [
       "  state                                         p_sequence p_accession  date  \\\n",
       "0    GA  \"MFVFLVLLPLVSSQCVNLTTRTQLPPAYTNSFTRGVYYPDKVFRS...    QVJ86123  2021   \n",
       "\n",
       "   count n_accession                                         n_sequence clade  \n",
       "0      1    MZ217195  ATTAAAGGTTTATACCTTCCCAGGTAACAAACCAACCAACTTTCGA...   20B  "
      ]
     },
     "execution_count": 2,
     "metadata": {},
     "output_type": "execute_result"
    }
   ],
   "source": [
    "# read in our timespan dataframes\n",
    "dfs = []\n",
    "for i in range(11):\n",
    "    dfs.append(pd.read_csv(os.path.join(project_folder, 'data', 'final', \"T\" + str(i + 1) + \".csv\")))\n",
    "\n",
    "dfs[4].head(1)"
   ]
  },
  {
   "cell_type": "code",
   "execution_count": 3,
   "id": "f0d60e0f",
   "metadata": {},
   "outputs": [
    {
     "data": {
      "text/html": [
       "<div>\n",
       "<style scoped>\n",
       "    .dataframe tbody tr th:only-of-type {\n",
       "        vertical-align: middle;\n",
       "    }\n",
       "\n",
       "    .dataframe tbody tr th {\n",
       "        vertical-align: top;\n",
       "    }\n",
       "\n",
       "    .dataframe thead th {\n",
       "        text-align: right;\n",
       "    }\n",
       "</style>\n",
       "<table border=\"1\" class=\"dataframe\">\n",
       "  <thead>\n",
       "    <tr style=\"text-align: right;\">\n",
       "      <th></th>\n",
       "      <th>timespan</th>\n",
       "      <th>start</th>\n",
       "      <th>end</th>\n",
       "    </tr>\n",
       "  </thead>\n",
       "  <tbody>\n",
       "    <tr>\n",
       "      <th>0</th>\n",
       "      <td>1</td>\n",
       "      <td>Jan 1, 2020</td>\n",
       "      <td>Mar 20, 2020</td>\n",
       "    </tr>\n",
       "    <tr>\n",
       "      <th>1</th>\n",
       "      <td>2</td>\n",
       "      <td>Mar 21, 2020</td>\n",
       "      <td>Apr 30, 2020</td>\n",
       "    </tr>\n",
       "  </tbody>\n",
       "</table>\n",
       "</div>"
      ],
      "text/plain": [
       "   timespan         start           end\n",
       "0         1   Jan 1, 2020  Mar 20, 2020\n",
       "1         2  Mar 21, 2020  Apr 30, 2020"
      ]
     },
     "execution_count": 3,
     "metadata": {},
     "output_type": "execute_result"
    }
   ],
   "source": [
    "# read in timespan labels\n",
    "timespan_labels_df = pd.read_csv(os.path.join(project_folder, 'data','origonal', 'timespan_dates.txt'), sep = '\\t')\n",
    "timespan_labels_df.head(2)"
   ]
  },
  {
   "cell_type": "code",
   "execution_count": 4,
   "id": "1e8fb370",
   "metadata": {},
   "outputs": [
    {
     "data": {
      "text/plain": [
       "'Mar 21, 2020 to Apr 30, 2020'"
      ]
     },
     "execution_count": 4,
     "metadata": {},
     "output_type": "execute_result"
    }
   ],
   "source": [
    "# make timestamp dictionary from dataframe for easy labeling\n",
    "timestamp_dictionary = {i:start + \" to \" + end for (i, start, end) in zip(timespan_labels_df['timespan'], timespan_labels_df['start'],timespan_labels_df['end'])}\n",
    "timestamp_dictionary[2]"
   ]
  },
  {
   "cell_type": "code",
   "execution_count": 7,
   "id": "590c2235",
   "metadata": {},
   "outputs": [
    {
     "data": {
      "application/vnd.plotly.v1+json": {
       "config": {
        "plotlyServerURL": "https://plot.ly"
       },
       "data": [
        {
         "marker": {
          "color": "rgb(158,1,66)"
         },
         "name": "Jan 1, 2020 to Mar 20, 2020",
         "type": "bar",
         "x": [
          "19A",
          "19B",
          "20A",
          "20B",
          "20C"
         ],
         "y": [
          15,
          1476,
          42,
          9,
          75
         ]
        },
        {
         "marker": {
          "color": "rgb(213,62,79)"
         },
         "name": "Mar 21, 2020 to Apr 30, 2020",
         "type": "bar",
         "x": [
          "19A",
          "19B",
          "20A",
          "20B",
          "20C",
          "20G"
         ],
         "y": [
          39,
          1184,
          198,
          16,
          304,
          2
         ]
        },
        {
         "marker": {
          "color": "rgb(244,109,67)"
         },
         "name": "May 1, 2020 to Sep 20, 2020",
         "type": "bar",
         "x": [
          "19A",
          "19B",
          "20A",
          "20B",
          "20C",
          "20G"
         ],
         "y": [
          8,
          215,
          443,
          302,
          1378,
          113
         ]
        },
        {
         "marker": {
          "color": "rgb(253,174,97)"
         },
         "name": "Sep 21, 2020 to Dec 31, 2020",
         "type": "bar",
         "x": [
          "19A",
          "19B",
          "20A",
          "20B",
          "20C",
          "20E (EU1)",
          "20G",
          "21C (Epsilon)"
         ],
         "y": [
          1,
          26,
          883,
          1106,
          722,
          3,
          1332,
          353
         ]
        },
        {
         "marker": {
          "color": "rgb(254,224,139)"
         },
         "name": "Jan 1, 2020 to Jan 31, 2021",
         "type": "bar",
         "x": [
          "19A",
          "19B",
          "20A",
          "20B",
          "20C",
          "20D",
          "20E (EU1)",
          "20G",
          "20J (Gamma, V3)",
          "21C (Epsilon)",
          "21F (Iota)"
         ],
         "y": [
          2,
          11,
          1033,
          707,
          4022,
          4,
          29,
          2179,
          3,
          891,
          37
         ]
        },
        {
         "marker": {
          "color": "rgb(255,255,191)"
         },
         "name": "Feb 1, 2021 to Feb 28, 2021",
         "type": "bar",
         "x": [
          "19B",
          "20A",
          "20B",
          "20C",
          "20E (EU1)",
          "20G",
          "20J (Gamma, V3)",
          "21C (Epsilon)",
          "21F (Iota)"
         ],
         "y": [
          17,
          1262,
          1222,
          725,
          4,
          6909,
          22,
          903,
          337
         ]
        },
        {
         "marker": {
          "color": "rgb(230,245,152)"
         },
         "name": "Mar 1, 2021 to Mar 31, 2021",
         "type": "bar",
         "x": [
          "19B",
          "20A",
          "20B",
          "20C",
          "20E (EU1)",
          "20G",
          "20I (Alpha, V1)",
          "20J (Gamma, V3)",
          "21B (Kappa)",
          "21C (Epsilon)",
          "21F (Iota)"
         ],
         "y": [
          40,
          505,
          669,
          757,
          2,
          2508,
          2,
          103,
          6,
          670,
          719
         ]
        },
        {
         "marker": {
          "color": "rgb(171,221,164)"
         },
         "name": "Apr 1, 2021 to Apr 30, 2021",
         "type": "bar",
         "x": [
          "19B",
          "20A",
          "20B",
          "20C",
          "20D",
          "20E (EU1)",
          "20G",
          "20I (Alpha, V1)",
          "20J (Gamma, V3)",
          "21B (Kappa)",
          "21C (Epsilon)",
          "21D (Eta)",
          "21F (Iota)",
          "21G (Lambda)"
         ],
         "y": [
          45,
          136,
          633,
          305,
          9,
          1,
          635,
          12,
          432,
          55,
          537,
          3,
          3299,
          5
         ]
        },
        {
         "marker": {
          "color": "rgb(102,194,165)"
         },
         "name": "May 1, 2021 to May 31, 2021",
         "type": "bar",
         "x": [
          "19B",
          "20A",
          "20B",
          "20C",
          "20D",
          "20G",
          "20I (Alpha, V1)",
          "20J (Gamma, V3)",
          "21B (Kappa)",
          "21C (Epsilon)",
          "21D (Eta)",
          "21F (Iota)",
          "21G (Lambda)",
          "21H (Mu)"
         ],
         "y": [
          28,
          14,
          462,
          29,
          1,
          68,
          24,
          2122,
          20,
          269,
          1,
          2746,
          1,
          2
         ]
        },
        {
         "marker": {
          "color": "rgb(50,136,189)"
         },
         "name": "Jun 1, 2021 to June 30, 2021",
         "type": "bar",
         "x": [
          "19B",
          "20A",
          "20B",
          "20C",
          "20D",
          "20G",
          "20I (Alpha, V1)",
          "20J (Gamma, V3)",
          "21A (Delta)",
          "21C (Epsilon)",
          "21D (Eta)",
          "21F (Iota)",
          "21G (Lambda)",
          "21H (Mu)",
          "21I (Delta)",
          "21J (Delta)"
         ],
         "y": [
          14,
          5,
          46,
          207,
          21,
          5,
          4385,
          887,
          143,
          9,
          8,
          409,
          21,
          5,
          1,
          1
         ]
        },
        {
         "marker": {
          "color": "rgb(94,79,162)"
         },
         "name": "Jul 1, 2021 to Jul 31, 2021",
         "type": "bar",
         "x": [
          "19B",
          "20A",
          "20B",
          "20C",
          "20D",
          "20G",
          "20H (Beta, V2)",
          "20I (Alpha, V1)",
          "20J (Gamma, V3)",
          "21A (Delta)",
          "21C (Epsilon)",
          "21F (Iota)",
          "21G (Lambda)",
          "21H (Mu)",
          "21I (Delta)",
          "21J (Delta)"
         ],
         "y": [
          26,
          12,
          25,
          105,
          15,
          6,
          3,
          1809,
          731,
          1628,
          1,
          97,
          27,
          9,
          33,
          307
         ]
        }
       ],
       "layout": {
        "barmode": "group",
        "template": {
         "data": {
          "bar": [
           {
            "error_x": {
             "color": "#2a3f5f"
            },
            "error_y": {
             "color": "#2a3f5f"
            },
            "marker": {
             "line": {
              "color": "#E5ECF6",
              "width": 0.5
             },
             "pattern": {
              "fillmode": "overlay",
              "size": 10,
              "solidity": 0.2
             }
            },
            "type": "bar"
           }
          ],
          "barpolar": [
           {
            "marker": {
             "line": {
              "color": "#E5ECF6",
              "width": 0.5
             },
             "pattern": {
              "fillmode": "overlay",
              "size": 10,
              "solidity": 0.2
             }
            },
            "type": "barpolar"
           }
          ],
          "carpet": [
           {
            "aaxis": {
             "endlinecolor": "#2a3f5f",
             "gridcolor": "white",
             "linecolor": "white",
             "minorgridcolor": "white",
             "startlinecolor": "#2a3f5f"
            },
            "baxis": {
             "endlinecolor": "#2a3f5f",
             "gridcolor": "white",
             "linecolor": "white",
             "minorgridcolor": "white",
             "startlinecolor": "#2a3f5f"
            },
            "type": "carpet"
           }
          ],
          "choropleth": [
           {
            "colorbar": {
             "outlinewidth": 0,
             "ticks": ""
            },
            "type": "choropleth"
           }
          ],
          "contour": [
           {
            "colorbar": {
             "outlinewidth": 0,
             "ticks": ""
            },
            "colorscale": [
             [
              0,
              "#0d0887"
             ],
             [
              0.1111111111111111,
              "#46039f"
             ],
             [
              0.2222222222222222,
              "#7201a8"
             ],
             [
              0.3333333333333333,
              "#9c179e"
             ],
             [
              0.4444444444444444,
              "#bd3786"
             ],
             [
              0.5555555555555556,
              "#d8576b"
             ],
             [
              0.6666666666666666,
              "#ed7953"
             ],
             [
              0.7777777777777778,
              "#fb9f3a"
             ],
             [
              0.8888888888888888,
              "#fdca26"
             ],
             [
              1,
              "#f0f921"
             ]
            ],
            "type": "contour"
           }
          ],
          "contourcarpet": [
           {
            "colorbar": {
             "outlinewidth": 0,
             "ticks": ""
            },
            "type": "contourcarpet"
           }
          ],
          "heatmap": [
           {
            "colorbar": {
             "outlinewidth": 0,
             "ticks": ""
            },
            "colorscale": [
             [
              0,
              "#0d0887"
             ],
             [
              0.1111111111111111,
              "#46039f"
             ],
             [
              0.2222222222222222,
              "#7201a8"
             ],
             [
              0.3333333333333333,
              "#9c179e"
             ],
             [
              0.4444444444444444,
              "#bd3786"
             ],
             [
              0.5555555555555556,
              "#d8576b"
             ],
             [
              0.6666666666666666,
              "#ed7953"
             ],
             [
              0.7777777777777778,
              "#fb9f3a"
             ],
             [
              0.8888888888888888,
              "#fdca26"
             ],
             [
              1,
              "#f0f921"
             ]
            ],
            "type": "heatmap"
           }
          ],
          "heatmapgl": [
           {
            "colorbar": {
             "outlinewidth": 0,
             "ticks": ""
            },
            "colorscale": [
             [
              0,
              "#0d0887"
             ],
             [
              0.1111111111111111,
              "#46039f"
             ],
             [
              0.2222222222222222,
              "#7201a8"
             ],
             [
              0.3333333333333333,
              "#9c179e"
             ],
             [
              0.4444444444444444,
              "#bd3786"
             ],
             [
              0.5555555555555556,
              "#d8576b"
             ],
             [
              0.6666666666666666,
              "#ed7953"
             ],
             [
              0.7777777777777778,
              "#fb9f3a"
             ],
             [
              0.8888888888888888,
              "#fdca26"
             ],
             [
              1,
              "#f0f921"
             ]
            ],
            "type": "heatmapgl"
           }
          ],
          "histogram": [
           {
            "marker": {
             "pattern": {
              "fillmode": "overlay",
              "size": 10,
              "solidity": 0.2
             }
            },
            "type": "histogram"
           }
          ],
          "histogram2d": [
           {
            "colorbar": {
             "outlinewidth": 0,
             "ticks": ""
            },
            "colorscale": [
             [
              0,
              "#0d0887"
             ],
             [
              0.1111111111111111,
              "#46039f"
             ],
             [
              0.2222222222222222,
              "#7201a8"
             ],
             [
              0.3333333333333333,
              "#9c179e"
             ],
             [
              0.4444444444444444,
              "#bd3786"
             ],
             [
              0.5555555555555556,
              "#d8576b"
             ],
             [
              0.6666666666666666,
              "#ed7953"
             ],
             [
              0.7777777777777778,
              "#fb9f3a"
             ],
             [
              0.8888888888888888,
              "#fdca26"
             ],
             [
              1,
              "#f0f921"
             ]
            ],
            "type": "histogram2d"
           }
          ],
          "histogram2dcontour": [
           {
            "colorbar": {
             "outlinewidth": 0,
             "ticks": ""
            },
            "colorscale": [
             [
              0,
              "#0d0887"
             ],
             [
              0.1111111111111111,
              "#46039f"
             ],
             [
              0.2222222222222222,
              "#7201a8"
             ],
             [
              0.3333333333333333,
              "#9c179e"
             ],
             [
              0.4444444444444444,
              "#bd3786"
             ],
             [
              0.5555555555555556,
              "#d8576b"
             ],
             [
              0.6666666666666666,
              "#ed7953"
             ],
             [
              0.7777777777777778,
              "#fb9f3a"
             ],
             [
              0.8888888888888888,
              "#fdca26"
             ],
             [
              1,
              "#f0f921"
             ]
            ],
            "type": "histogram2dcontour"
           }
          ],
          "mesh3d": [
           {
            "colorbar": {
             "outlinewidth": 0,
             "ticks": ""
            },
            "type": "mesh3d"
           }
          ],
          "parcoords": [
           {
            "line": {
             "colorbar": {
              "outlinewidth": 0,
              "ticks": ""
             }
            },
            "type": "parcoords"
           }
          ],
          "pie": [
           {
            "automargin": true,
            "type": "pie"
           }
          ],
          "scatter": [
           {
            "marker": {
             "colorbar": {
              "outlinewidth": 0,
              "ticks": ""
             }
            },
            "type": "scatter"
           }
          ],
          "scatter3d": [
           {
            "line": {
             "colorbar": {
              "outlinewidth": 0,
              "ticks": ""
             }
            },
            "marker": {
             "colorbar": {
              "outlinewidth": 0,
              "ticks": ""
             }
            },
            "type": "scatter3d"
           }
          ],
          "scattercarpet": [
           {
            "marker": {
             "colorbar": {
              "outlinewidth": 0,
              "ticks": ""
             }
            },
            "type": "scattercarpet"
           }
          ],
          "scattergeo": [
           {
            "marker": {
             "colorbar": {
              "outlinewidth": 0,
              "ticks": ""
             }
            },
            "type": "scattergeo"
           }
          ],
          "scattergl": [
           {
            "marker": {
             "colorbar": {
              "outlinewidth": 0,
              "ticks": ""
             }
            },
            "type": "scattergl"
           }
          ],
          "scattermapbox": [
           {
            "marker": {
             "colorbar": {
              "outlinewidth": 0,
              "ticks": ""
             }
            },
            "type": "scattermapbox"
           }
          ],
          "scatterpolar": [
           {
            "marker": {
             "colorbar": {
              "outlinewidth": 0,
              "ticks": ""
             }
            },
            "type": "scatterpolar"
           }
          ],
          "scatterpolargl": [
           {
            "marker": {
             "colorbar": {
              "outlinewidth": 0,
              "ticks": ""
             }
            },
            "type": "scatterpolargl"
           }
          ],
          "scatterternary": [
           {
            "marker": {
             "colorbar": {
              "outlinewidth": 0,
              "ticks": ""
             }
            },
            "type": "scatterternary"
           }
          ],
          "surface": [
           {
            "colorbar": {
             "outlinewidth": 0,
             "ticks": ""
            },
            "colorscale": [
             [
              0,
              "#0d0887"
             ],
             [
              0.1111111111111111,
              "#46039f"
             ],
             [
              0.2222222222222222,
              "#7201a8"
             ],
             [
              0.3333333333333333,
              "#9c179e"
             ],
             [
              0.4444444444444444,
              "#bd3786"
             ],
             [
              0.5555555555555556,
              "#d8576b"
             ],
             [
              0.6666666666666666,
              "#ed7953"
             ],
             [
              0.7777777777777778,
              "#fb9f3a"
             ],
             [
              0.8888888888888888,
              "#fdca26"
             ],
             [
              1,
              "#f0f921"
             ]
            ],
            "type": "surface"
           }
          ],
          "table": [
           {
            "cells": {
             "fill": {
              "color": "#EBF0F8"
             },
             "line": {
              "color": "white"
             }
            },
            "header": {
             "fill": {
              "color": "#C8D4E3"
             },
             "line": {
              "color": "white"
             }
            },
            "type": "table"
           }
          ]
         },
         "layout": {
          "annotationdefaults": {
           "arrowcolor": "#2a3f5f",
           "arrowhead": 0,
           "arrowwidth": 1
          },
          "autotypenumbers": "strict",
          "coloraxis": {
           "colorbar": {
            "outlinewidth": 0,
            "ticks": ""
           }
          },
          "colorscale": {
           "diverging": [
            [
             0,
             "#8e0152"
            ],
            [
             0.1,
             "#c51b7d"
            ],
            [
             0.2,
             "#de77ae"
            ],
            [
             0.3,
             "#f1b6da"
            ],
            [
             0.4,
             "#fde0ef"
            ],
            [
             0.5,
             "#f7f7f7"
            ],
            [
             0.6,
             "#e6f5d0"
            ],
            [
             0.7,
             "#b8e186"
            ],
            [
             0.8,
             "#7fbc41"
            ],
            [
             0.9,
             "#4d9221"
            ],
            [
             1,
             "#276419"
            ]
           ],
           "sequential": [
            [
             0,
             "#0d0887"
            ],
            [
             0.1111111111111111,
             "#46039f"
            ],
            [
             0.2222222222222222,
             "#7201a8"
            ],
            [
             0.3333333333333333,
             "#9c179e"
            ],
            [
             0.4444444444444444,
             "#bd3786"
            ],
            [
             0.5555555555555556,
             "#d8576b"
            ],
            [
             0.6666666666666666,
             "#ed7953"
            ],
            [
             0.7777777777777778,
             "#fb9f3a"
            ],
            [
             0.8888888888888888,
             "#fdca26"
            ],
            [
             1,
             "#f0f921"
            ]
           ],
           "sequentialminus": [
            [
             0,
             "#0d0887"
            ],
            [
             0.1111111111111111,
             "#46039f"
            ],
            [
             0.2222222222222222,
             "#7201a8"
            ],
            [
             0.3333333333333333,
             "#9c179e"
            ],
            [
             0.4444444444444444,
             "#bd3786"
            ],
            [
             0.5555555555555556,
             "#d8576b"
            ],
            [
             0.6666666666666666,
             "#ed7953"
            ],
            [
             0.7777777777777778,
             "#fb9f3a"
            ],
            [
             0.8888888888888888,
             "#fdca26"
            ],
            [
             1,
             "#f0f921"
            ]
           ]
          },
          "colorway": [
           "#636efa",
           "#EF553B",
           "#00cc96",
           "#ab63fa",
           "#FFA15A",
           "#19d3f3",
           "#FF6692",
           "#B6E880",
           "#FF97FF",
           "#FECB52"
          ],
          "font": {
           "color": "#2a3f5f"
          },
          "geo": {
           "bgcolor": "white",
           "lakecolor": "white",
           "landcolor": "#E5ECF6",
           "showlakes": true,
           "showland": true,
           "subunitcolor": "white"
          },
          "hoverlabel": {
           "align": "left"
          },
          "hovermode": "closest",
          "mapbox": {
           "style": "light"
          },
          "paper_bgcolor": "white",
          "plot_bgcolor": "#E5ECF6",
          "polar": {
           "angularaxis": {
            "gridcolor": "white",
            "linecolor": "white",
            "ticks": ""
           },
           "bgcolor": "#E5ECF6",
           "radialaxis": {
            "gridcolor": "white",
            "linecolor": "white",
            "ticks": ""
           }
          },
          "scene": {
           "xaxis": {
            "backgroundcolor": "#E5ECF6",
            "gridcolor": "white",
            "gridwidth": 2,
            "linecolor": "white",
            "showbackground": true,
            "ticks": "",
            "zerolinecolor": "white"
           },
           "yaxis": {
            "backgroundcolor": "#E5ECF6",
            "gridcolor": "white",
            "gridwidth": 2,
            "linecolor": "white",
            "showbackground": true,
            "ticks": "",
            "zerolinecolor": "white"
           },
           "zaxis": {
            "backgroundcolor": "#E5ECF6",
            "gridcolor": "white",
            "gridwidth": 2,
            "linecolor": "white",
            "showbackground": true,
            "ticks": "",
            "zerolinecolor": "white"
           }
          },
          "shapedefaults": {
           "line": {
            "color": "#2a3f5f"
           }
          },
          "ternary": {
           "aaxis": {
            "gridcolor": "white",
            "linecolor": "white",
            "ticks": ""
           },
           "baxis": {
            "gridcolor": "white",
            "linecolor": "white",
            "ticks": ""
           },
           "bgcolor": "#E5ECF6",
           "caxis": {
            "gridcolor": "white",
            "linecolor": "white",
            "ticks": ""
           }
          },
          "title": {
           "x": 0.05
          },
          "xaxis": {
           "automargin": true,
           "gridcolor": "white",
           "linecolor": "white",
           "ticks": "",
           "title": {
            "standoff": 15
           },
           "zerolinecolor": "white",
           "zerolinewidth": 2
          },
          "yaxis": {
           "automargin": true,
           "gridcolor": "white",
           "linecolor": "white",
           "ticks": "",
           "title": {
            "standoff": 15
           },
           "zerolinecolor": "white",
           "zerolinewidth": 2
          }
         }
        },
        "title": {
         "text": "Total reports of each clade by timestamp"
        }
       }
      },
      "text/html": [
       "<div>                            <div id=\"40a872a8-5c4c-461c-a71f-32e7ee6f60e1\" class=\"plotly-graph-div\" style=\"height:525px; width:100%;\"></div>            <script type=\"text/javascript\">                require([\"plotly\"], function(Plotly) {                    window.PLOTLYENV=window.PLOTLYENV || {};                                    if (document.getElementById(\"40a872a8-5c4c-461c-a71f-32e7ee6f60e1\")) {                    Plotly.newPlot(                        \"40a872a8-5c4c-461c-a71f-32e7ee6f60e1\",                        [{\"marker\":{\"color\":\"rgb(158,1,66)\"},\"name\":\"Jan 1, 2020 to Mar 20, 2020\",\"x\":[\"19A\",\"19B\",\"20A\",\"20B\",\"20C\"],\"y\":[15,1476,42,9,75],\"type\":\"bar\"},{\"marker\":{\"color\":\"rgb(213,62,79)\"},\"name\":\"Mar 21, 2020 to Apr 30, 2020\",\"x\":[\"19A\",\"19B\",\"20A\",\"20B\",\"20C\",\"20G\"],\"y\":[39,1184,198,16,304,2],\"type\":\"bar\"},{\"marker\":{\"color\":\"rgb(244,109,67)\"},\"name\":\"May 1, 2020 to Sep 20, 2020\",\"x\":[\"19A\",\"19B\",\"20A\",\"20B\",\"20C\",\"20G\"],\"y\":[8,215,443,302,1378,113],\"type\":\"bar\"},{\"marker\":{\"color\":\"rgb(253,174,97)\"},\"name\":\"Sep 21, 2020 to Dec 31, 2020\",\"x\":[\"19A\",\"19B\",\"20A\",\"20B\",\"20C\",\"20E (EU1)\",\"20G\",\"21C (Epsilon)\"],\"y\":[1,26,883,1106,722,3,1332,353],\"type\":\"bar\"},{\"marker\":{\"color\":\"rgb(254,224,139)\"},\"name\":\"Jan 1, 2020 to Jan 31, 2021\",\"x\":[\"19A\",\"19B\",\"20A\",\"20B\",\"20C\",\"20D\",\"20E (EU1)\",\"20G\",\"20J (Gamma, V3)\",\"21C (Epsilon)\",\"21F (Iota)\"],\"y\":[2,11,1033,707,4022,4,29,2179,3,891,37],\"type\":\"bar\"},{\"marker\":{\"color\":\"rgb(255,255,191)\"},\"name\":\"Feb 1, 2021 to Feb 28, 2021\",\"x\":[\"19B\",\"20A\",\"20B\",\"20C\",\"20E (EU1)\",\"20G\",\"20J (Gamma, V3)\",\"21C (Epsilon)\",\"21F (Iota)\"],\"y\":[17,1262,1222,725,4,6909,22,903,337],\"type\":\"bar\"},{\"marker\":{\"color\":\"rgb(230,245,152)\"},\"name\":\"Mar 1, 2021 to Mar 31, 2021\",\"x\":[\"19B\",\"20A\",\"20B\",\"20C\",\"20E (EU1)\",\"20G\",\"20I (Alpha, V1)\",\"20J (Gamma, V3)\",\"21B (Kappa)\",\"21C (Epsilon)\",\"21F (Iota)\"],\"y\":[40,505,669,757,2,2508,2,103,6,670,719],\"type\":\"bar\"},{\"marker\":{\"color\":\"rgb(171,221,164)\"},\"name\":\"Apr 1, 2021 to Apr 30, 2021\",\"x\":[\"19B\",\"20A\",\"20B\",\"20C\",\"20D\",\"20E (EU1)\",\"20G\",\"20I (Alpha, V1)\",\"20J (Gamma, V3)\",\"21B (Kappa)\",\"21C (Epsilon)\",\"21D (Eta)\",\"21F (Iota)\",\"21G (Lambda)\"],\"y\":[45,136,633,305,9,1,635,12,432,55,537,3,3299,5],\"type\":\"bar\"},{\"marker\":{\"color\":\"rgb(102,194,165)\"},\"name\":\"May 1, 2021 to May 31, 2021\",\"x\":[\"19B\",\"20A\",\"20B\",\"20C\",\"20D\",\"20G\",\"20I (Alpha, V1)\",\"20J (Gamma, V3)\",\"21B (Kappa)\",\"21C (Epsilon)\",\"21D (Eta)\",\"21F (Iota)\",\"21G (Lambda)\",\"21H (Mu)\"],\"y\":[28,14,462,29,1,68,24,2122,20,269,1,2746,1,2],\"type\":\"bar\"},{\"marker\":{\"color\":\"rgb(50,136,189)\"},\"name\":\"Jun 1, 2021 to June 30, 2021\",\"x\":[\"19B\",\"20A\",\"20B\",\"20C\",\"20D\",\"20G\",\"20I (Alpha, V1)\",\"20J (Gamma, V3)\",\"21A (Delta)\",\"21C (Epsilon)\",\"21D (Eta)\",\"21F (Iota)\",\"21G (Lambda)\",\"21H (Mu)\",\"21I (Delta)\",\"21J (Delta)\"],\"y\":[14,5,46,207,21,5,4385,887,143,9,8,409,21,5,1,1],\"type\":\"bar\"},{\"marker\":{\"color\":\"rgb(94,79,162)\"},\"name\":\"Jul 1, 2021 to Jul 31, 2021\",\"x\":[\"19B\",\"20A\",\"20B\",\"20C\",\"20D\",\"20G\",\"20H (Beta, V2)\",\"20I (Alpha, V1)\",\"20J (Gamma, V3)\",\"21A (Delta)\",\"21C (Epsilon)\",\"21F (Iota)\",\"21G (Lambda)\",\"21H (Mu)\",\"21I (Delta)\",\"21J (Delta)\"],\"y\":[26,12,25,105,15,6,3,1809,731,1628,1,97,27,9,33,307],\"type\":\"bar\"}],                        {\"template\":{\"data\":{\"bar\":[{\"error_x\":{\"color\":\"#2a3f5f\"},\"error_y\":{\"color\":\"#2a3f5f\"},\"marker\":{\"line\":{\"color\":\"#E5ECF6\",\"width\":0.5},\"pattern\":{\"fillmode\":\"overlay\",\"size\":10,\"solidity\":0.2}},\"type\":\"bar\"}],\"barpolar\":[{\"marker\":{\"line\":{\"color\":\"#E5ECF6\",\"width\":0.5},\"pattern\":{\"fillmode\":\"overlay\",\"size\":10,\"solidity\":0.2}},\"type\":\"barpolar\"}],\"carpet\":[{\"aaxis\":{\"endlinecolor\":\"#2a3f5f\",\"gridcolor\":\"white\",\"linecolor\":\"white\",\"minorgridcolor\":\"white\",\"startlinecolor\":\"#2a3f5f\"},\"baxis\":{\"endlinecolor\":\"#2a3f5f\",\"gridcolor\":\"white\",\"linecolor\":\"white\",\"minorgridcolor\":\"white\",\"startlinecolor\":\"#2a3f5f\"},\"type\":\"carpet\"}],\"choropleth\":[{\"colorbar\":{\"outlinewidth\":0,\"ticks\":\"\"},\"type\":\"choropleth\"}],\"contour\":[{\"colorbar\":{\"outlinewidth\":0,\"ticks\":\"\"},\"colorscale\":[[0.0,\"#0d0887\"],[0.1111111111111111,\"#46039f\"],[0.2222222222222222,\"#7201a8\"],[0.3333333333333333,\"#9c179e\"],[0.4444444444444444,\"#bd3786\"],[0.5555555555555556,\"#d8576b\"],[0.6666666666666666,\"#ed7953\"],[0.7777777777777778,\"#fb9f3a\"],[0.8888888888888888,\"#fdca26\"],[1.0,\"#f0f921\"]],\"type\":\"contour\"}],\"contourcarpet\":[{\"colorbar\":{\"outlinewidth\":0,\"ticks\":\"\"},\"type\":\"contourcarpet\"}],\"heatmap\":[{\"colorbar\":{\"outlinewidth\":0,\"ticks\":\"\"},\"colorscale\":[[0.0,\"#0d0887\"],[0.1111111111111111,\"#46039f\"],[0.2222222222222222,\"#7201a8\"],[0.3333333333333333,\"#9c179e\"],[0.4444444444444444,\"#bd3786\"],[0.5555555555555556,\"#d8576b\"],[0.6666666666666666,\"#ed7953\"],[0.7777777777777778,\"#fb9f3a\"],[0.8888888888888888,\"#fdca26\"],[1.0,\"#f0f921\"]],\"type\":\"heatmap\"}],\"heatmapgl\":[{\"colorbar\":{\"outlinewidth\":0,\"ticks\":\"\"},\"colorscale\":[[0.0,\"#0d0887\"],[0.1111111111111111,\"#46039f\"],[0.2222222222222222,\"#7201a8\"],[0.3333333333333333,\"#9c179e\"],[0.4444444444444444,\"#bd3786\"],[0.5555555555555556,\"#d8576b\"],[0.6666666666666666,\"#ed7953\"],[0.7777777777777778,\"#fb9f3a\"],[0.8888888888888888,\"#fdca26\"],[1.0,\"#f0f921\"]],\"type\":\"heatmapgl\"}],\"histogram\":[{\"marker\":{\"pattern\":{\"fillmode\":\"overlay\",\"size\":10,\"solidity\":0.2}},\"type\":\"histogram\"}],\"histogram2d\":[{\"colorbar\":{\"outlinewidth\":0,\"ticks\":\"\"},\"colorscale\":[[0.0,\"#0d0887\"],[0.1111111111111111,\"#46039f\"],[0.2222222222222222,\"#7201a8\"],[0.3333333333333333,\"#9c179e\"],[0.4444444444444444,\"#bd3786\"],[0.5555555555555556,\"#d8576b\"],[0.6666666666666666,\"#ed7953\"],[0.7777777777777778,\"#fb9f3a\"],[0.8888888888888888,\"#fdca26\"],[1.0,\"#f0f921\"]],\"type\":\"histogram2d\"}],\"histogram2dcontour\":[{\"colorbar\":{\"outlinewidth\":0,\"ticks\":\"\"},\"colorscale\":[[0.0,\"#0d0887\"],[0.1111111111111111,\"#46039f\"],[0.2222222222222222,\"#7201a8\"],[0.3333333333333333,\"#9c179e\"],[0.4444444444444444,\"#bd3786\"],[0.5555555555555556,\"#d8576b\"],[0.6666666666666666,\"#ed7953\"],[0.7777777777777778,\"#fb9f3a\"],[0.8888888888888888,\"#fdca26\"],[1.0,\"#f0f921\"]],\"type\":\"histogram2dcontour\"}],\"mesh3d\":[{\"colorbar\":{\"outlinewidth\":0,\"ticks\":\"\"},\"type\":\"mesh3d\"}],\"parcoords\":[{\"line\":{\"colorbar\":{\"outlinewidth\":0,\"ticks\":\"\"}},\"type\":\"parcoords\"}],\"pie\":[{\"automargin\":true,\"type\":\"pie\"}],\"scatter\":[{\"marker\":{\"colorbar\":{\"outlinewidth\":0,\"ticks\":\"\"}},\"type\":\"scatter\"}],\"scatter3d\":[{\"line\":{\"colorbar\":{\"outlinewidth\":0,\"ticks\":\"\"}},\"marker\":{\"colorbar\":{\"outlinewidth\":0,\"ticks\":\"\"}},\"type\":\"scatter3d\"}],\"scattercarpet\":[{\"marker\":{\"colorbar\":{\"outlinewidth\":0,\"ticks\":\"\"}},\"type\":\"scattercarpet\"}],\"scattergeo\":[{\"marker\":{\"colorbar\":{\"outlinewidth\":0,\"ticks\":\"\"}},\"type\":\"scattergeo\"}],\"scattergl\":[{\"marker\":{\"colorbar\":{\"outlinewidth\":0,\"ticks\":\"\"}},\"type\":\"scattergl\"}],\"scattermapbox\":[{\"marker\":{\"colorbar\":{\"outlinewidth\":0,\"ticks\":\"\"}},\"type\":\"scattermapbox\"}],\"scatterpolar\":[{\"marker\":{\"colorbar\":{\"outlinewidth\":0,\"ticks\":\"\"}},\"type\":\"scatterpolar\"}],\"scatterpolargl\":[{\"marker\":{\"colorbar\":{\"outlinewidth\":0,\"ticks\":\"\"}},\"type\":\"scatterpolargl\"}],\"scatterternary\":[{\"marker\":{\"colorbar\":{\"outlinewidth\":0,\"ticks\":\"\"}},\"type\":\"scatterternary\"}],\"surface\":[{\"colorbar\":{\"outlinewidth\":0,\"ticks\":\"\"},\"colorscale\":[[0.0,\"#0d0887\"],[0.1111111111111111,\"#46039f\"],[0.2222222222222222,\"#7201a8\"],[0.3333333333333333,\"#9c179e\"],[0.4444444444444444,\"#bd3786\"],[0.5555555555555556,\"#d8576b\"],[0.6666666666666666,\"#ed7953\"],[0.7777777777777778,\"#fb9f3a\"],[0.8888888888888888,\"#fdca26\"],[1.0,\"#f0f921\"]],\"type\":\"surface\"}],\"table\":[{\"cells\":{\"fill\":{\"color\":\"#EBF0F8\"},\"line\":{\"color\":\"white\"}},\"header\":{\"fill\":{\"color\":\"#C8D4E3\"},\"line\":{\"color\":\"white\"}},\"type\":\"table\"}]},\"layout\":{\"annotationdefaults\":{\"arrowcolor\":\"#2a3f5f\",\"arrowhead\":0,\"arrowwidth\":1},\"autotypenumbers\":\"strict\",\"coloraxis\":{\"colorbar\":{\"outlinewidth\":0,\"ticks\":\"\"}},\"colorscale\":{\"diverging\":[[0,\"#8e0152\"],[0.1,\"#c51b7d\"],[0.2,\"#de77ae\"],[0.3,\"#f1b6da\"],[0.4,\"#fde0ef\"],[0.5,\"#f7f7f7\"],[0.6,\"#e6f5d0\"],[0.7,\"#b8e186\"],[0.8,\"#7fbc41\"],[0.9,\"#4d9221\"],[1,\"#276419\"]],\"sequential\":[[0.0,\"#0d0887\"],[0.1111111111111111,\"#46039f\"],[0.2222222222222222,\"#7201a8\"],[0.3333333333333333,\"#9c179e\"],[0.4444444444444444,\"#bd3786\"],[0.5555555555555556,\"#d8576b\"],[0.6666666666666666,\"#ed7953\"],[0.7777777777777778,\"#fb9f3a\"],[0.8888888888888888,\"#fdca26\"],[1.0,\"#f0f921\"]],\"sequentialminus\":[[0.0,\"#0d0887\"],[0.1111111111111111,\"#46039f\"],[0.2222222222222222,\"#7201a8\"],[0.3333333333333333,\"#9c179e\"],[0.4444444444444444,\"#bd3786\"],[0.5555555555555556,\"#d8576b\"],[0.6666666666666666,\"#ed7953\"],[0.7777777777777778,\"#fb9f3a\"],[0.8888888888888888,\"#fdca26\"],[1.0,\"#f0f921\"]]},\"colorway\":[\"#636efa\",\"#EF553B\",\"#00cc96\",\"#ab63fa\",\"#FFA15A\",\"#19d3f3\",\"#FF6692\",\"#B6E880\",\"#FF97FF\",\"#FECB52\"],\"font\":{\"color\":\"#2a3f5f\"},\"geo\":{\"bgcolor\":\"white\",\"lakecolor\":\"white\",\"landcolor\":\"#E5ECF6\",\"showlakes\":true,\"showland\":true,\"subunitcolor\":\"white\"},\"hoverlabel\":{\"align\":\"left\"},\"hovermode\":\"closest\",\"mapbox\":{\"style\":\"light\"},\"paper_bgcolor\":\"white\",\"plot_bgcolor\":\"#E5ECF6\",\"polar\":{\"angularaxis\":{\"gridcolor\":\"white\",\"linecolor\":\"white\",\"ticks\":\"\"},\"bgcolor\":\"#E5ECF6\",\"radialaxis\":{\"gridcolor\":\"white\",\"linecolor\":\"white\",\"ticks\":\"\"}},\"scene\":{\"xaxis\":{\"backgroundcolor\":\"#E5ECF6\",\"gridcolor\":\"white\",\"gridwidth\":2,\"linecolor\":\"white\",\"showbackground\":true,\"ticks\":\"\",\"zerolinecolor\":\"white\"},\"yaxis\":{\"backgroundcolor\":\"#E5ECF6\",\"gridcolor\":\"white\",\"gridwidth\":2,\"linecolor\":\"white\",\"showbackground\":true,\"ticks\":\"\",\"zerolinecolor\":\"white\"},\"zaxis\":{\"backgroundcolor\":\"#E5ECF6\",\"gridcolor\":\"white\",\"gridwidth\":2,\"linecolor\":\"white\",\"showbackground\":true,\"ticks\":\"\",\"zerolinecolor\":\"white\"}},\"shapedefaults\":{\"line\":{\"color\":\"#2a3f5f\"}},\"ternary\":{\"aaxis\":{\"gridcolor\":\"white\",\"linecolor\":\"white\",\"ticks\":\"\"},\"baxis\":{\"gridcolor\":\"white\",\"linecolor\":\"white\",\"ticks\":\"\"},\"bgcolor\":\"#E5ECF6\",\"caxis\":{\"gridcolor\":\"white\",\"linecolor\":\"white\",\"ticks\":\"\"}},\"title\":{\"x\":0.05},\"xaxis\":{\"automargin\":true,\"gridcolor\":\"white\",\"linecolor\":\"white\",\"ticks\":\"\",\"title\":{\"standoff\":15},\"zerolinecolor\":\"white\",\"zerolinewidth\":2},\"yaxis\":{\"automargin\":true,\"gridcolor\":\"white\",\"linecolor\":\"white\",\"ticks\":\"\",\"title\":{\"standoff\":15},\"zerolinecolor\":\"white\",\"zerolinewidth\":2}}},\"barmode\":\"group\",\"title\":{\"text\":\"Total reports of each clade by timestamp\"}},                        {\"responsive\": true}                    ).then(function(){\n",
       "                            \n",
       "var gd = document.getElementById('40a872a8-5c4c-461c-a71f-32e7ee6f60e1');\n",
       "var x = new MutationObserver(function (mutations, observer) {{\n",
       "        var display = window.getComputedStyle(gd).display;\n",
       "        if (!display || display === 'none') {{\n",
       "            console.log([gd, 'removed!']);\n",
       "            Plotly.purge(gd);\n",
       "            observer.disconnect();\n",
       "        }}\n",
       "}});\n",
       "\n",
       "// Listen for the removal of the full notebook cells\n",
       "var notebookContainer = gd.closest('#notebook-container');\n",
       "if (notebookContainer) {{\n",
       "    x.observe(notebookContainer, {childList: true});\n",
       "}}\n",
       "\n",
       "// Listen for the clearing of the current output cell\n",
       "var outputEl = gd.closest('.output');\n",
       "if (outputEl) {{\n",
       "    x.observe(outputEl, {childList: true});\n",
       "}}\n",
       "\n",
       "                        })                };                });            </script>        </div>"
      ]
     },
     "metadata": {},
     "output_type": "display_data"
    }
   ],
   "source": [
    "\n",
    "data = []\n",
    "colors = px.colors.diverging.Spectral\n",
    "for i in range(11):\n",
    "    q = dfs[i].groupby(\"clade\").sum('count')\n",
    "    b = go.Bar(name = timestamp_dictionary[i + 1], x=q.index, y=q['count'], marker_color=colors[i])\n",
    "    data.append(b)\n",
    "  \n",
    "fig = go.Figure(data=data)\n",
    "fig.update_layout(barmode='group', title = \"Total reports of each clade by timestamp\")\n",
    "fig.show()\n",
    "fig.write_image(os.path.join(project_folder, \"visualizations\", \"Total reports of each clade by timestamp.png\"), width=2000, height=1000)"
   ]
  },
  {
   "cell_type": "code",
   "execution_count": 36,
   "id": "98b88502",
   "metadata": {},
   "outputs": [
    {
     "name": "stdout",
     "output_type": "stream",
     "text": [
      "{'19A': 0, '19B': 1, '20A': 2, '20B': 3, '20C': 4, '20D': 5, '20E (EU1)': 6, '20G': 7, '20H (Beta, V2)': 8, '20I (Alpha, V1)': 9, '20J (Gamma, V3)': 10, '21A (Delta)': 11, '21B (Kappa)': 12, '21C (Epsilon)': 13, '21D (Eta)': 14, '21F (Iota)': 15, '21G (Lambda)': 16, '21H (Mu)': 17, '21I (Delta)': 18, '21J (Delta)': 19}\n",
      "None\n"
     ]
    },
    {
     "data": {
      "application/vnd.plotly.v1+json": {
       "config": {
        "plotlyServerURL": "https://plot.ly"
       },
       "data": [
        {
         "marker": {
          "color": "rgb(158,1,66)"
         },
         "name": "19A",
         "type": "bar",
         "x": [
          "Jan 1, 2020 to Mar 20, 2020",
          "Mar 21, 2020 to Apr 30, 2020",
          "May 1, 2020 to Sep 20, 2020",
          "Sep 21, 2020 to Dec 31, 2020",
          "Jan 1, 2020 to Jan 31, 2021"
         ],
         "y": [
          15,
          39,
          8,
          1,
          2
         ]
        },
        {
         "marker": {
          "color": "rgb(213,62,79)"
         },
         "name": "19B",
         "type": "bar",
         "x": [
          "Jan 1, 2020 to Mar 20, 2020",
          "Mar 21, 2020 to Apr 30, 2020",
          "May 1, 2020 to Sep 20, 2020",
          "Sep 21, 2020 to Dec 31, 2020",
          "Jan 1, 2020 to Jan 31, 2021",
          "Feb 1, 2021 to Feb 28, 2021",
          "Mar 1, 2021 to Mar 31, 2021",
          "Apr 1, 2021 to Apr 30, 2021",
          "May 1, 2021 to May 31, 2021",
          "Jun 1, 2021 to June 30, 2021",
          "Jul 1, 2021 to Jul 31, 2021"
         ],
         "y": [
          1476,
          1184,
          215,
          26,
          11,
          17,
          40,
          45,
          28,
          14,
          26
         ]
        },
        {
         "marker": {
          "color": "rgb(244,109,67)"
         },
         "name": "20A",
         "type": "bar",
         "x": [
          "Jan 1, 2020 to Mar 20, 2020",
          "Mar 21, 2020 to Apr 30, 2020",
          "May 1, 2020 to Sep 20, 2020",
          "Sep 21, 2020 to Dec 31, 2020",
          "Jan 1, 2020 to Jan 31, 2021",
          "Feb 1, 2021 to Feb 28, 2021",
          "Mar 1, 2021 to Mar 31, 2021",
          "Apr 1, 2021 to Apr 30, 2021",
          "May 1, 2021 to May 31, 2021",
          "Jun 1, 2021 to June 30, 2021",
          "Jul 1, 2021 to Jul 31, 2021"
         ],
         "y": [
          42,
          198,
          443,
          883,
          1033,
          1262,
          505,
          136,
          14,
          5,
          12
         ]
        },
        {
         "marker": {
          "color": "rgb(253,174,97)"
         },
         "name": "20B",
         "type": "bar",
         "x": [
          "Jan 1, 2020 to Mar 20, 2020",
          "Mar 21, 2020 to Apr 30, 2020",
          "May 1, 2020 to Sep 20, 2020",
          "Sep 21, 2020 to Dec 31, 2020",
          "Jan 1, 2020 to Jan 31, 2021",
          "Feb 1, 2021 to Feb 28, 2021",
          "Mar 1, 2021 to Mar 31, 2021",
          "Apr 1, 2021 to Apr 30, 2021",
          "May 1, 2021 to May 31, 2021",
          "Jun 1, 2021 to June 30, 2021",
          "Jul 1, 2021 to Jul 31, 2021"
         ],
         "y": [
          9,
          16,
          302,
          1106,
          707,
          1222,
          669,
          633,
          462,
          46,
          25
         ]
        },
        {
         "marker": {
          "color": "rgb(254,224,139)"
         },
         "name": "20C",
         "type": "bar",
         "x": [
          "Jan 1, 2020 to Mar 20, 2020",
          "Mar 21, 2020 to Apr 30, 2020",
          "May 1, 2020 to Sep 20, 2020",
          "Sep 21, 2020 to Dec 31, 2020",
          "Jan 1, 2020 to Jan 31, 2021",
          "Feb 1, 2021 to Feb 28, 2021",
          "Mar 1, 2021 to Mar 31, 2021",
          "Apr 1, 2021 to Apr 30, 2021",
          "May 1, 2021 to May 31, 2021",
          "Jun 1, 2021 to June 30, 2021",
          "Jul 1, 2021 to Jul 31, 2021"
         ],
         "y": [
          75,
          304,
          1378,
          722,
          4022,
          725,
          757,
          305,
          29,
          207,
          105
         ]
        },
        {
         "marker": {
          "color": "rgb(171,221,164)"
         },
         "name": "20G",
         "type": "bar",
         "x": [
          "Mar 21, 2020 to Apr 30, 2020",
          "May 1, 2020 to Sep 20, 2020",
          "Sep 21, 2020 to Dec 31, 2020",
          "Jan 1, 2020 to Jan 31, 2021",
          "Feb 1, 2021 to Feb 28, 2021",
          "Mar 1, 2021 to Mar 31, 2021",
          "Apr 1, 2021 to Apr 30, 2021",
          "May 1, 2021 to May 31, 2021",
          "Jun 1, 2021 to June 30, 2021",
          "Jul 1, 2021 to Jul 31, 2021"
         ],
         "y": [
          2,
          113,
          1332,
          2179,
          6909,
          2508,
          635,
          68,
          5,
          6
         ]
        },
        {
         "marker": {
          "color": "rgb(230,245,152)"
         },
         "name": "20E (EU1)",
         "type": "bar",
         "x": [
          "Sep 21, 2020 to Dec 31, 2020",
          "Jan 1, 2020 to Jan 31, 2021",
          "Feb 1, 2021 to Feb 28, 2021",
          "Mar 1, 2021 to Mar 31, 2021",
          "Apr 1, 2021 to Apr 30, 2021"
         ],
         "y": [
          3,
          29,
          4,
          2,
          1
         ]
        },
        {
         "marker": {
          "color": "rgb(253,174,97)"
         },
         "name": "21C (Epsilon)",
         "type": "bar",
         "x": [
          "Sep 21, 2020 to Dec 31, 2020",
          "Jan 1, 2020 to Jan 31, 2021",
          "Feb 1, 2021 to Feb 28, 2021",
          "Mar 1, 2021 to Mar 31, 2021",
          "Apr 1, 2021 to Apr 30, 2021",
          "May 1, 2021 to May 31, 2021",
          "Jun 1, 2021 to June 30, 2021",
          "Jul 1, 2021 to Jul 31, 2021"
         ],
         "y": [
          353,
          891,
          903,
          670,
          537,
          269,
          9,
          1
         ]
        },
        {
         "marker": {
          "color": "rgb(255,255,191)"
         },
         "name": "20D",
         "type": "bar",
         "x": [
          "Jan 1, 2020 to Jan 31, 2021",
          "Apr 1, 2021 to Apr 30, 2021",
          "May 1, 2021 to May 31, 2021",
          "Jun 1, 2021 to June 30, 2021",
          "Jul 1, 2021 to Jul 31, 2021"
         ],
         "y": [
          4,
          9,
          1,
          21,
          15
         ]
        },
        {
         "marker": {
          "color": "rgb(158,1,66)"
         },
         "name": "20J (Gamma, V3)",
         "type": "bar",
         "x": [
          "Jan 1, 2020 to Jan 31, 2021",
          "Feb 1, 2021 to Feb 28, 2021",
          "Mar 1, 2021 to Mar 31, 2021",
          "Apr 1, 2021 to Apr 30, 2021",
          "May 1, 2021 to May 31, 2021",
          "Jun 1, 2021 to June 30, 2021",
          "Jul 1, 2021 to Jul 31, 2021"
         ],
         "y": [
          3,
          22,
          103,
          432,
          2122,
          887,
          731
         ]
        },
        {
         "marker": {
          "color": "rgb(255,255,191)"
         },
         "name": "21F (Iota)",
         "type": "bar",
         "x": [
          "Jan 1, 2020 to Jan 31, 2021",
          "Feb 1, 2021 to Feb 28, 2021",
          "Mar 1, 2021 to Mar 31, 2021",
          "Apr 1, 2021 to Apr 30, 2021",
          "May 1, 2021 to May 31, 2021",
          "Jun 1, 2021 to June 30, 2021",
          "Jul 1, 2021 to Jul 31, 2021"
         ],
         "y": [
          37,
          337,
          719,
          3299,
          2746,
          409,
          97
         ]
        },
        {
         "marker": {
          "color": "rgb(50,136,189)"
         },
         "name": "20I (Alpha, V1)",
         "type": "bar",
         "x": [
          "Mar 1, 2021 to Mar 31, 2021",
          "Apr 1, 2021 to Apr 30, 2021",
          "May 1, 2021 to May 31, 2021",
          "Jun 1, 2021 to June 30, 2021",
          "Jul 1, 2021 to Jul 31, 2021"
         ],
         "y": [
          2,
          12,
          24,
          4385,
          1809
         ]
        },
        {
         "marker": {
          "color": "rgb(244,109,67)"
         },
         "name": "21B (Kappa)",
         "type": "bar",
         "x": [
          "Mar 1, 2021 to Mar 31, 2021",
          "Apr 1, 2021 to Apr 30, 2021",
          "May 1, 2021 to May 31, 2021"
         ],
         "y": [
          6,
          55,
          20
         ]
        },
        {
         "marker": {
          "color": "rgb(254,224,139)"
         },
         "name": "21D (Eta)",
         "type": "bar",
         "x": [
          "Apr 1, 2021 to Apr 30, 2021",
          "May 1, 2021 to May 31, 2021",
          "Jun 1, 2021 to June 30, 2021"
         ],
         "y": [
          3,
          1,
          8
         ]
        },
        {
         "marker": {
          "color": "rgb(230,245,152)"
         },
         "name": "21G (Lambda)",
         "type": "bar",
         "x": [
          "Apr 1, 2021 to Apr 30, 2021",
          "May 1, 2021 to May 31, 2021",
          "Jun 1, 2021 to June 30, 2021",
          "Jul 1, 2021 to Jul 31, 2021"
         ],
         "y": [
          5,
          1,
          21,
          27
         ]
        },
        {
         "marker": {
          "color": "rgb(171,221,164)"
         },
         "name": "21H (Mu)",
         "type": "bar",
         "x": [
          "May 1, 2021 to May 31, 2021",
          "Jun 1, 2021 to June 30, 2021",
          "Jul 1, 2021 to Jul 31, 2021"
         ],
         "y": [
          2,
          5,
          9
         ]
        },
        {
         "marker": {
          "color": "rgb(213,62,79)"
         },
         "name": "21A (Delta)",
         "type": "bar",
         "x": [
          "Jun 1, 2021 to June 30, 2021",
          "Jul 1, 2021 to Jul 31, 2021"
         ],
         "y": [
          143,
          1628
         ]
        },
        {
         "marker": {
          "color": "rgb(102,194,165)"
         },
         "name": "21I (Delta)",
         "type": "bar",
         "x": [
          "Jun 1, 2021 to June 30, 2021",
          "Jul 1, 2021 to Jul 31, 2021"
         ],
         "y": [
          1,
          33
         ]
        },
        {
         "marker": {
          "color": "rgb(50,136,189)"
         },
         "name": "21J (Delta)",
         "type": "bar",
         "x": [
          "Jun 1, 2021 to June 30, 2021",
          "Jul 1, 2021 to Jul 31, 2021"
         ],
         "y": [
          1,
          307
         ]
        },
        {
         "marker": {
          "color": "rgb(102,194,165)"
         },
         "name": "20H (Beta, V2)",
         "type": "bar",
         "x": [
          "Jul 1, 2021 to Jul 31, 2021"
         ],
         "y": [
          3
         ]
        }
       ],
       "layout": {
        "barmode": "group",
        "template": {
         "data": {
          "bar": [
           {
            "error_x": {
             "color": "#2a3f5f"
            },
            "error_y": {
             "color": "#2a3f5f"
            },
            "marker": {
             "line": {
              "color": "#E5ECF6",
              "width": 0.5
             },
             "pattern": {
              "fillmode": "overlay",
              "size": 10,
              "solidity": 0.2
             }
            },
            "type": "bar"
           }
          ],
          "barpolar": [
           {
            "marker": {
             "line": {
              "color": "#E5ECF6",
              "width": 0.5
             },
             "pattern": {
              "fillmode": "overlay",
              "size": 10,
              "solidity": 0.2
             }
            },
            "type": "barpolar"
           }
          ],
          "carpet": [
           {
            "aaxis": {
             "endlinecolor": "#2a3f5f",
             "gridcolor": "white",
             "linecolor": "white",
             "minorgridcolor": "white",
             "startlinecolor": "#2a3f5f"
            },
            "baxis": {
             "endlinecolor": "#2a3f5f",
             "gridcolor": "white",
             "linecolor": "white",
             "minorgridcolor": "white",
             "startlinecolor": "#2a3f5f"
            },
            "type": "carpet"
           }
          ],
          "choropleth": [
           {
            "colorbar": {
             "outlinewidth": 0,
             "ticks": ""
            },
            "type": "choropleth"
           }
          ],
          "contour": [
           {
            "colorbar": {
             "outlinewidth": 0,
             "ticks": ""
            },
            "colorscale": [
             [
              0,
              "#0d0887"
             ],
             [
              0.1111111111111111,
              "#46039f"
             ],
             [
              0.2222222222222222,
              "#7201a8"
             ],
             [
              0.3333333333333333,
              "#9c179e"
             ],
             [
              0.4444444444444444,
              "#bd3786"
             ],
             [
              0.5555555555555556,
              "#d8576b"
             ],
             [
              0.6666666666666666,
              "#ed7953"
             ],
             [
              0.7777777777777778,
              "#fb9f3a"
             ],
             [
              0.8888888888888888,
              "#fdca26"
             ],
             [
              1,
              "#f0f921"
             ]
            ],
            "type": "contour"
           }
          ],
          "contourcarpet": [
           {
            "colorbar": {
             "outlinewidth": 0,
             "ticks": ""
            },
            "type": "contourcarpet"
           }
          ],
          "heatmap": [
           {
            "colorbar": {
             "outlinewidth": 0,
             "ticks": ""
            },
            "colorscale": [
             [
              0,
              "#0d0887"
             ],
             [
              0.1111111111111111,
              "#46039f"
             ],
             [
              0.2222222222222222,
              "#7201a8"
             ],
             [
              0.3333333333333333,
              "#9c179e"
             ],
             [
              0.4444444444444444,
              "#bd3786"
             ],
             [
              0.5555555555555556,
              "#d8576b"
             ],
             [
              0.6666666666666666,
              "#ed7953"
             ],
             [
              0.7777777777777778,
              "#fb9f3a"
             ],
             [
              0.8888888888888888,
              "#fdca26"
             ],
             [
              1,
              "#f0f921"
             ]
            ],
            "type": "heatmap"
           }
          ],
          "heatmapgl": [
           {
            "colorbar": {
             "outlinewidth": 0,
             "ticks": ""
            },
            "colorscale": [
             [
              0,
              "#0d0887"
             ],
             [
              0.1111111111111111,
              "#46039f"
             ],
             [
              0.2222222222222222,
              "#7201a8"
             ],
             [
              0.3333333333333333,
              "#9c179e"
             ],
             [
              0.4444444444444444,
              "#bd3786"
             ],
             [
              0.5555555555555556,
              "#d8576b"
             ],
             [
              0.6666666666666666,
              "#ed7953"
             ],
             [
              0.7777777777777778,
              "#fb9f3a"
             ],
             [
              0.8888888888888888,
              "#fdca26"
             ],
             [
              1,
              "#f0f921"
             ]
            ],
            "type": "heatmapgl"
           }
          ],
          "histogram": [
           {
            "marker": {
             "pattern": {
              "fillmode": "overlay",
              "size": 10,
              "solidity": 0.2
             }
            },
            "type": "histogram"
           }
          ],
          "histogram2d": [
           {
            "colorbar": {
             "outlinewidth": 0,
             "ticks": ""
            },
            "colorscale": [
             [
              0,
              "#0d0887"
             ],
             [
              0.1111111111111111,
              "#46039f"
             ],
             [
              0.2222222222222222,
              "#7201a8"
             ],
             [
              0.3333333333333333,
              "#9c179e"
             ],
             [
              0.4444444444444444,
              "#bd3786"
             ],
             [
              0.5555555555555556,
              "#d8576b"
             ],
             [
              0.6666666666666666,
              "#ed7953"
             ],
             [
              0.7777777777777778,
              "#fb9f3a"
             ],
             [
              0.8888888888888888,
              "#fdca26"
             ],
             [
              1,
              "#f0f921"
             ]
            ],
            "type": "histogram2d"
           }
          ],
          "histogram2dcontour": [
           {
            "colorbar": {
             "outlinewidth": 0,
             "ticks": ""
            },
            "colorscale": [
             [
              0,
              "#0d0887"
             ],
             [
              0.1111111111111111,
              "#46039f"
             ],
             [
              0.2222222222222222,
              "#7201a8"
             ],
             [
              0.3333333333333333,
              "#9c179e"
             ],
             [
              0.4444444444444444,
              "#bd3786"
             ],
             [
              0.5555555555555556,
              "#d8576b"
             ],
             [
              0.6666666666666666,
              "#ed7953"
             ],
             [
              0.7777777777777778,
              "#fb9f3a"
             ],
             [
              0.8888888888888888,
              "#fdca26"
             ],
             [
              1,
              "#f0f921"
             ]
            ],
            "type": "histogram2dcontour"
           }
          ],
          "mesh3d": [
           {
            "colorbar": {
             "outlinewidth": 0,
             "ticks": ""
            },
            "type": "mesh3d"
           }
          ],
          "parcoords": [
           {
            "line": {
             "colorbar": {
              "outlinewidth": 0,
              "ticks": ""
             }
            },
            "type": "parcoords"
           }
          ],
          "pie": [
           {
            "automargin": true,
            "type": "pie"
           }
          ],
          "scatter": [
           {
            "marker": {
             "colorbar": {
              "outlinewidth": 0,
              "ticks": ""
             }
            },
            "type": "scatter"
           }
          ],
          "scatter3d": [
           {
            "line": {
             "colorbar": {
              "outlinewidth": 0,
              "ticks": ""
             }
            },
            "marker": {
             "colorbar": {
              "outlinewidth": 0,
              "ticks": ""
             }
            },
            "type": "scatter3d"
           }
          ],
          "scattercarpet": [
           {
            "marker": {
             "colorbar": {
              "outlinewidth": 0,
              "ticks": ""
             }
            },
            "type": "scattercarpet"
           }
          ],
          "scattergeo": [
           {
            "marker": {
             "colorbar": {
              "outlinewidth": 0,
              "ticks": ""
             }
            },
            "type": "scattergeo"
           }
          ],
          "scattergl": [
           {
            "marker": {
             "colorbar": {
              "outlinewidth": 0,
              "ticks": ""
             }
            },
            "type": "scattergl"
           }
          ],
          "scattermapbox": [
           {
            "marker": {
             "colorbar": {
              "outlinewidth": 0,
              "ticks": ""
             }
            },
            "type": "scattermapbox"
           }
          ],
          "scatterpolar": [
           {
            "marker": {
             "colorbar": {
              "outlinewidth": 0,
              "ticks": ""
             }
            },
            "type": "scatterpolar"
           }
          ],
          "scatterpolargl": [
           {
            "marker": {
             "colorbar": {
              "outlinewidth": 0,
              "ticks": ""
             }
            },
            "type": "scatterpolargl"
           }
          ],
          "scatterternary": [
           {
            "marker": {
             "colorbar": {
              "outlinewidth": 0,
              "ticks": ""
             }
            },
            "type": "scatterternary"
           }
          ],
          "surface": [
           {
            "colorbar": {
             "outlinewidth": 0,
             "ticks": ""
            },
            "colorscale": [
             [
              0,
              "#0d0887"
             ],
             [
              0.1111111111111111,
              "#46039f"
             ],
             [
              0.2222222222222222,
              "#7201a8"
             ],
             [
              0.3333333333333333,
              "#9c179e"
             ],
             [
              0.4444444444444444,
              "#bd3786"
             ],
             [
              0.5555555555555556,
              "#d8576b"
             ],
             [
              0.6666666666666666,
              "#ed7953"
             ],
             [
              0.7777777777777778,
              "#fb9f3a"
             ],
             [
              0.8888888888888888,
              "#fdca26"
             ],
             [
              1,
              "#f0f921"
             ]
            ],
            "type": "surface"
           }
          ],
          "table": [
           {
            "cells": {
             "fill": {
              "color": "#EBF0F8"
             },
             "line": {
              "color": "white"
             }
            },
            "header": {
             "fill": {
              "color": "#C8D4E3"
             },
             "line": {
              "color": "white"
             }
            },
            "type": "table"
           }
          ]
         },
         "layout": {
          "annotationdefaults": {
           "arrowcolor": "#2a3f5f",
           "arrowhead": 0,
           "arrowwidth": 1
          },
          "autotypenumbers": "strict",
          "coloraxis": {
           "colorbar": {
            "outlinewidth": 0,
            "ticks": ""
           }
          },
          "colorscale": {
           "diverging": [
            [
             0,
             "#8e0152"
            ],
            [
             0.1,
             "#c51b7d"
            ],
            [
             0.2,
             "#de77ae"
            ],
            [
             0.3,
             "#f1b6da"
            ],
            [
             0.4,
             "#fde0ef"
            ],
            [
             0.5,
             "#f7f7f7"
            ],
            [
             0.6,
             "#e6f5d0"
            ],
            [
             0.7,
             "#b8e186"
            ],
            [
             0.8,
             "#7fbc41"
            ],
            [
             0.9,
             "#4d9221"
            ],
            [
             1,
             "#276419"
            ]
           ],
           "sequential": [
            [
             0,
             "#0d0887"
            ],
            [
             0.1111111111111111,
             "#46039f"
            ],
            [
             0.2222222222222222,
             "#7201a8"
            ],
            [
             0.3333333333333333,
             "#9c179e"
            ],
            [
             0.4444444444444444,
             "#bd3786"
            ],
            [
             0.5555555555555556,
             "#d8576b"
            ],
            [
             0.6666666666666666,
             "#ed7953"
            ],
            [
             0.7777777777777778,
             "#fb9f3a"
            ],
            [
             0.8888888888888888,
             "#fdca26"
            ],
            [
             1,
             "#f0f921"
            ]
           ],
           "sequentialminus": [
            [
             0,
             "#0d0887"
            ],
            [
             0.1111111111111111,
             "#46039f"
            ],
            [
             0.2222222222222222,
             "#7201a8"
            ],
            [
             0.3333333333333333,
             "#9c179e"
            ],
            [
             0.4444444444444444,
             "#bd3786"
            ],
            [
             0.5555555555555556,
             "#d8576b"
            ],
            [
             0.6666666666666666,
             "#ed7953"
            ],
            [
             0.7777777777777778,
             "#fb9f3a"
            ],
            [
             0.8888888888888888,
             "#fdca26"
            ],
            [
             1,
             "#f0f921"
            ]
           ]
          },
          "colorway": [
           "#636efa",
           "#EF553B",
           "#00cc96",
           "#ab63fa",
           "#FFA15A",
           "#19d3f3",
           "#FF6692",
           "#B6E880",
           "#FF97FF",
           "#FECB52"
          ],
          "font": {
           "color": "#2a3f5f"
          },
          "geo": {
           "bgcolor": "white",
           "lakecolor": "white",
           "landcolor": "#E5ECF6",
           "showlakes": true,
           "showland": true,
           "subunitcolor": "white"
          },
          "hoverlabel": {
           "align": "left"
          },
          "hovermode": "closest",
          "mapbox": {
           "style": "light"
          },
          "paper_bgcolor": "white",
          "plot_bgcolor": "#E5ECF6",
          "polar": {
           "angularaxis": {
            "gridcolor": "white",
            "linecolor": "white",
            "ticks": ""
           },
           "bgcolor": "#E5ECF6",
           "radialaxis": {
            "gridcolor": "white",
            "linecolor": "white",
            "ticks": ""
           }
          },
          "scene": {
           "xaxis": {
            "backgroundcolor": "#E5ECF6",
            "gridcolor": "white",
            "gridwidth": 2,
            "linecolor": "white",
            "showbackground": true,
            "ticks": "",
            "zerolinecolor": "white"
           },
           "yaxis": {
            "backgroundcolor": "#E5ECF6",
            "gridcolor": "white",
            "gridwidth": 2,
            "linecolor": "white",
            "showbackground": true,
            "ticks": "",
            "zerolinecolor": "white"
           },
           "zaxis": {
            "backgroundcolor": "#E5ECF6",
            "gridcolor": "white",
            "gridwidth": 2,
            "linecolor": "white",
            "showbackground": true,
            "ticks": "",
            "zerolinecolor": "white"
           }
          },
          "shapedefaults": {
           "line": {
            "color": "#2a3f5f"
           }
          },
          "ternary": {
           "aaxis": {
            "gridcolor": "white",
            "linecolor": "white",
            "ticks": ""
           },
           "baxis": {
            "gridcolor": "white",
            "linecolor": "white",
            "ticks": ""
           },
           "bgcolor": "#E5ECF6",
           "caxis": {
            "gridcolor": "white",
            "linecolor": "white",
            "ticks": ""
           }
          },
          "title": {
           "x": 0.05
          },
          "xaxis": {
           "automargin": true,
           "gridcolor": "white",
           "linecolor": "white",
           "ticks": "",
           "title": {
            "standoff": 15
           },
           "zerolinecolor": "white",
           "zerolinewidth": 2
          },
          "yaxis": {
           "automargin": true,
           "gridcolor": "white",
           "linecolor": "white",
           "ticks": "",
           "title": {
            "standoff": 15
           },
           "zerolinecolor": "white",
           "zerolinewidth": 2
          }
         }
        },
        "title": {
         "text": "Total reports of each clade by timestamp -- Flipped"
        }
       }
      },
      "text/html": [
       "<div>                            <div id=\"66b92999-e889-4999-9a45-c895433c7039\" class=\"plotly-graph-div\" style=\"height:525px; width:100%;\"></div>            <script type=\"text/javascript\">                require([\"plotly\"], function(Plotly) {                    window.PLOTLYENV=window.PLOTLYENV || {};                                    if (document.getElementById(\"66b92999-e889-4999-9a45-c895433c7039\")) {                    Plotly.newPlot(                        \"66b92999-e889-4999-9a45-c895433c7039\",                        [{\"marker\":{\"color\":\"rgb(158,1,66)\"},\"name\":\"19A\",\"x\":[\"Jan 1, 2020 to Mar 20, 2020\",\"Mar 21, 2020 to Apr 30, 2020\",\"May 1, 2020 to Sep 20, 2020\",\"Sep 21, 2020 to Dec 31, 2020\",\"Jan 1, 2020 to Jan 31, 2021\"],\"y\":[15,39,8,1,2],\"type\":\"bar\"},{\"marker\":{\"color\":\"rgb(213,62,79)\"},\"name\":\"19B\",\"x\":[\"Jan 1, 2020 to Mar 20, 2020\",\"Mar 21, 2020 to Apr 30, 2020\",\"May 1, 2020 to Sep 20, 2020\",\"Sep 21, 2020 to Dec 31, 2020\",\"Jan 1, 2020 to Jan 31, 2021\",\"Feb 1, 2021 to Feb 28, 2021\",\"Mar 1, 2021 to Mar 31, 2021\",\"Apr 1, 2021 to Apr 30, 2021\",\"May 1, 2021 to May 31, 2021\",\"Jun 1, 2021 to June 30, 2021\",\"Jul 1, 2021 to Jul 31, 2021\"],\"y\":[1476,1184,215,26,11,17,40,45,28,14,26],\"type\":\"bar\"},{\"marker\":{\"color\":\"rgb(244,109,67)\"},\"name\":\"20A\",\"x\":[\"Jan 1, 2020 to Mar 20, 2020\",\"Mar 21, 2020 to Apr 30, 2020\",\"May 1, 2020 to Sep 20, 2020\",\"Sep 21, 2020 to Dec 31, 2020\",\"Jan 1, 2020 to Jan 31, 2021\",\"Feb 1, 2021 to Feb 28, 2021\",\"Mar 1, 2021 to Mar 31, 2021\",\"Apr 1, 2021 to Apr 30, 2021\",\"May 1, 2021 to May 31, 2021\",\"Jun 1, 2021 to June 30, 2021\",\"Jul 1, 2021 to Jul 31, 2021\"],\"y\":[42,198,443,883,1033,1262,505,136,14,5,12],\"type\":\"bar\"},{\"marker\":{\"color\":\"rgb(253,174,97)\"},\"name\":\"20B\",\"x\":[\"Jan 1, 2020 to Mar 20, 2020\",\"Mar 21, 2020 to Apr 30, 2020\",\"May 1, 2020 to Sep 20, 2020\",\"Sep 21, 2020 to Dec 31, 2020\",\"Jan 1, 2020 to Jan 31, 2021\",\"Feb 1, 2021 to Feb 28, 2021\",\"Mar 1, 2021 to Mar 31, 2021\",\"Apr 1, 2021 to Apr 30, 2021\",\"May 1, 2021 to May 31, 2021\",\"Jun 1, 2021 to June 30, 2021\",\"Jul 1, 2021 to Jul 31, 2021\"],\"y\":[9,16,302,1106,707,1222,669,633,462,46,25],\"type\":\"bar\"},{\"marker\":{\"color\":\"rgb(254,224,139)\"},\"name\":\"20C\",\"x\":[\"Jan 1, 2020 to Mar 20, 2020\",\"Mar 21, 2020 to Apr 30, 2020\",\"May 1, 2020 to Sep 20, 2020\",\"Sep 21, 2020 to Dec 31, 2020\",\"Jan 1, 2020 to Jan 31, 2021\",\"Feb 1, 2021 to Feb 28, 2021\",\"Mar 1, 2021 to Mar 31, 2021\",\"Apr 1, 2021 to Apr 30, 2021\",\"May 1, 2021 to May 31, 2021\",\"Jun 1, 2021 to June 30, 2021\",\"Jul 1, 2021 to Jul 31, 2021\"],\"y\":[75,304,1378,722,4022,725,757,305,29,207,105],\"type\":\"bar\"},{\"marker\":{\"color\":\"rgb(171,221,164)\"},\"name\":\"20G\",\"x\":[\"Mar 21, 2020 to Apr 30, 2020\",\"May 1, 2020 to Sep 20, 2020\",\"Sep 21, 2020 to Dec 31, 2020\",\"Jan 1, 2020 to Jan 31, 2021\",\"Feb 1, 2021 to Feb 28, 2021\",\"Mar 1, 2021 to Mar 31, 2021\",\"Apr 1, 2021 to Apr 30, 2021\",\"May 1, 2021 to May 31, 2021\",\"Jun 1, 2021 to June 30, 2021\",\"Jul 1, 2021 to Jul 31, 2021\"],\"y\":[2,113,1332,2179,6909,2508,635,68,5,6],\"type\":\"bar\"},{\"marker\":{\"color\":\"rgb(230,245,152)\"},\"name\":\"20E (EU1)\",\"x\":[\"Sep 21, 2020 to Dec 31, 2020\",\"Jan 1, 2020 to Jan 31, 2021\",\"Feb 1, 2021 to Feb 28, 2021\",\"Mar 1, 2021 to Mar 31, 2021\",\"Apr 1, 2021 to Apr 30, 2021\"],\"y\":[3,29,4,2,1],\"type\":\"bar\"},{\"marker\":{\"color\":\"rgb(253,174,97)\"},\"name\":\"21C (Epsilon)\",\"x\":[\"Sep 21, 2020 to Dec 31, 2020\",\"Jan 1, 2020 to Jan 31, 2021\",\"Feb 1, 2021 to Feb 28, 2021\",\"Mar 1, 2021 to Mar 31, 2021\",\"Apr 1, 2021 to Apr 30, 2021\",\"May 1, 2021 to May 31, 2021\",\"Jun 1, 2021 to June 30, 2021\",\"Jul 1, 2021 to Jul 31, 2021\"],\"y\":[353,891,903,670,537,269,9,1],\"type\":\"bar\"},{\"marker\":{\"color\":\"rgb(255,255,191)\"},\"name\":\"20D\",\"x\":[\"Jan 1, 2020 to Jan 31, 2021\",\"Apr 1, 2021 to Apr 30, 2021\",\"May 1, 2021 to May 31, 2021\",\"Jun 1, 2021 to June 30, 2021\",\"Jul 1, 2021 to Jul 31, 2021\"],\"y\":[4,9,1,21,15],\"type\":\"bar\"},{\"marker\":{\"color\":\"rgb(158,1,66)\"},\"name\":\"20J (Gamma, V3)\",\"x\":[\"Jan 1, 2020 to Jan 31, 2021\",\"Feb 1, 2021 to Feb 28, 2021\",\"Mar 1, 2021 to Mar 31, 2021\",\"Apr 1, 2021 to Apr 30, 2021\",\"May 1, 2021 to May 31, 2021\",\"Jun 1, 2021 to June 30, 2021\",\"Jul 1, 2021 to Jul 31, 2021\"],\"y\":[3,22,103,432,2122,887,731],\"type\":\"bar\"},{\"marker\":{\"color\":\"rgb(255,255,191)\"},\"name\":\"21F (Iota)\",\"x\":[\"Jan 1, 2020 to Jan 31, 2021\",\"Feb 1, 2021 to Feb 28, 2021\",\"Mar 1, 2021 to Mar 31, 2021\",\"Apr 1, 2021 to Apr 30, 2021\",\"May 1, 2021 to May 31, 2021\",\"Jun 1, 2021 to June 30, 2021\",\"Jul 1, 2021 to Jul 31, 2021\"],\"y\":[37,337,719,3299,2746,409,97],\"type\":\"bar\"},{\"marker\":{\"color\":\"rgb(50,136,189)\"},\"name\":\"20I (Alpha, V1)\",\"x\":[\"Mar 1, 2021 to Mar 31, 2021\",\"Apr 1, 2021 to Apr 30, 2021\",\"May 1, 2021 to May 31, 2021\",\"Jun 1, 2021 to June 30, 2021\",\"Jul 1, 2021 to Jul 31, 2021\"],\"y\":[2,12,24,4385,1809],\"type\":\"bar\"},{\"marker\":{\"color\":\"rgb(244,109,67)\"},\"name\":\"21B (Kappa)\",\"x\":[\"Mar 1, 2021 to Mar 31, 2021\",\"Apr 1, 2021 to Apr 30, 2021\",\"May 1, 2021 to May 31, 2021\"],\"y\":[6,55,20],\"type\":\"bar\"},{\"marker\":{\"color\":\"rgb(254,224,139)\"},\"name\":\"21D (Eta)\",\"x\":[\"Apr 1, 2021 to Apr 30, 2021\",\"May 1, 2021 to May 31, 2021\",\"Jun 1, 2021 to June 30, 2021\"],\"y\":[3,1,8],\"type\":\"bar\"},{\"marker\":{\"color\":\"rgb(230,245,152)\"},\"name\":\"21G (Lambda)\",\"x\":[\"Apr 1, 2021 to Apr 30, 2021\",\"May 1, 2021 to May 31, 2021\",\"Jun 1, 2021 to June 30, 2021\",\"Jul 1, 2021 to Jul 31, 2021\"],\"y\":[5,1,21,27],\"type\":\"bar\"},{\"marker\":{\"color\":\"rgb(171,221,164)\"},\"name\":\"21H (Mu)\",\"x\":[\"May 1, 2021 to May 31, 2021\",\"Jun 1, 2021 to June 30, 2021\",\"Jul 1, 2021 to Jul 31, 2021\"],\"y\":[2,5,9],\"type\":\"bar\"},{\"marker\":{\"color\":\"rgb(213,62,79)\"},\"name\":\"21A (Delta)\",\"x\":[\"Jun 1, 2021 to June 30, 2021\",\"Jul 1, 2021 to Jul 31, 2021\"],\"y\":[143,1628],\"type\":\"bar\"},{\"marker\":{\"color\":\"rgb(102,194,165)\"},\"name\":\"21I (Delta)\",\"x\":[\"Jun 1, 2021 to June 30, 2021\",\"Jul 1, 2021 to Jul 31, 2021\"],\"y\":[1,33],\"type\":\"bar\"},{\"marker\":{\"color\":\"rgb(50,136,189)\"},\"name\":\"21J (Delta)\",\"x\":[\"Jun 1, 2021 to June 30, 2021\",\"Jul 1, 2021 to Jul 31, 2021\"],\"y\":[1,307],\"type\":\"bar\"},{\"marker\":{\"color\":\"rgb(102,194,165)\"},\"name\":\"20H (Beta, V2)\",\"x\":[\"Jul 1, 2021 to Jul 31, 2021\"],\"y\":[3],\"type\":\"bar\"}],                        {\"template\":{\"data\":{\"bar\":[{\"error_x\":{\"color\":\"#2a3f5f\"},\"error_y\":{\"color\":\"#2a3f5f\"},\"marker\":{\"line\":{\"color\":\"#E5ECF6\",\"width\":0.5},\"pattern\":{\"fillmode\":\"overlay\",\"size\":10,\"solidity\":0.2}},\"type\":\"bar\"}],\"barpolar\":[{\"marker\":{\"line\":{\"color\":\"#E5ECF6\",\"width\":0.5},\"pattern\":{\"fillmode\":\"overlay\",\"size\":10,\"solidity\":0.2}},\"type\":\"barpolar\"}],\"carpet\":[{\"aaxis\":{\"endlinecolor\":\"#2a3f5f\",\"gridcolor\":\"white\",\"linecolor\":\"white\",\"minorgridcolor\":\"white\",\"startlinecolor\":\"#2a3f5f\"},\"baxis\":{\"endlinecolor\":\"#2a3f5f\",\"gridcolor\":\"white\",\"linecolor\":\"white\",\"minorgridcolor\":\"white\",\"startlinecolor\":\"#2a3f5f\"},\"type\":\"carpet\"}],\"choropleth\":[{\"colorbar\":{\"outlinewidth\":0,\"ticks\":\"\"},\"type\":\"choropleth\"}],\"contour\":[{\"colorbar\":{\"outlinewidth\":0,\"ticks\":\"\"},\"colorscale\":[[0.0,\"#0d0887\"],[0.1111111111111111,\"#46039f\"],[0.2222222222222222,\"#7201a8\"],[0.3333333333333333,\"#9c179e\"],[0.4444444444444444,\"#bd3786\"],[0.5555555555555556,\"#d8576b\"],[0.6666666666666666,\"#ed7953\"],[0.7777777777777778,\"#fb9f3a\"],[0.8888888888888888,\"#fdca26\"],[1.0,\"#f0f921\"]],\"type\":\"contour\"}],\"contourcarpet\":[{\"colorbar\":{\"outlinewidth\":0,\"ticks\":\"\"},\"type\":\"contourcarpet\"}],\"heatmap\":[{\"colorbar\":{\"outlinewidth\":0,\"ticks\":\"\"},\"colorscale\":[[0.0,\"#0d0887\"],[0.1111111111111111,\"#46039f\"],[0.2222222222222222,\"#7201a8\"],[0.3333333333333333,\"#9c179e\"],[0.4444444444444444,\"#bd3786\"],[0.5555555555555556,\"#d8576b\"],[0.6666666666666666,\"#ed7953\"],[0.7777777777777778,\"#fb9f3a\"],[0.8888888888888888,\"#fdca26\"],[1.0,\"#f0f921\"]],\"type\":\"heatmap\"}],\"heatmapgl\":[{\"colorbar\":{\"outlinewidth\":0,\"ticks\":\"\"},\"colorscale\":[[0.0,\"#0d0887\"],[0.1111111111111111,\"#46039f\"],[0.2222222222222222,\"#7201a8\"],[0.3333333333333333,\"#9c179e\"],[0.4444444444444444,\"#bd3786\"],[0.5555555555555556,\"#d8576b\"],[0.6666666666666666,\"#ed7953\"],[0.7777777777777778,\"#fb9f3a\"],[0.8888888888888888,\"#fdca26\"],[1.0,\"#f0f921\"]],\"type\":\"heatmapgl\"}],\"histogram\":[{\"marker\":{\"pattern\":{\"fillmode\":\"overlay\",\"size\":10,\"solidity\":0.2}},\"type\":\"histogram\"}],\"histogram2d\":[{\"colorbar\":{\"outlinewidth\":0,\"ticks\":\"\"},\"colorscale\":[[0.0,\"#0d0887\"],[0.1111111111111111,\"#46039f\"],[0.2222222222222222,\"#7201a8\"],[0.3333333333333333,\"#9c179e\"],[0.4444444444444444,\"#bd3786\"],[0.5555555555555556,\"#d8576b\"],[0.6666666666666666,\"#ed7953\"],[0.7777777777777778,\"#fb9f3a\"],[0.8888888888888888,\"#fdca26\"],[1.0,\"#f0f921\"]],\"type\":\"histogram2d\"}],\"histogram2dcontour\":[{\"colorbar\":{\"outlinewidth\":0,\"ticks\":\"\"},\"colorscale\":[[0.0,\"#0d0887\"],[0.1111111111111111,\"#46039f\"],[0.2222222222222222,\"#7201a8\"],[0.3333333333333333,\"#9c179e\"],[0.4444444444444444,\"#bd3786\"],[0.5555555555555556,\"#d8576b\"],[0.6666666666666666,\"#ed7953\"],[0.7777777777777778,\"#fb9f3a\"],[0.8888888888888888,\"#fdca26\"],[1.0,\"#f0f921\"]],\"type\":\"histogram2dcontour\"}],\"mesh3d\":[{\"colorbar\":{\"outlinewidth\":0,\"ticks\":\"\"},\"type\":\"mesh3d\"}],\"parcoords\":[{\"line\":{\"colorbar\":{\"outlinewidth\":0,\"ticks\":\"\"}},\"type\":\"parcoords\"}],\"pie\":[{\"automargin\":true,\"type\":\"pie\"}],\"scatter\":[{\"marker\":{\"colorbar\":{\"outlinewidth\":0,\"ticks\":\"\"}},\"type\":\"scatter\"}],\"scatter3d\":[{\"line\":{\"colorbar\":{\"outlinewidth\":0,\"ticks\":\"\"}},\"marker\":{\"colorbar\":{\"outlinewidth\":0,\"ticks\":\"\"}},\"type\":\"scatter3d\"}],\"scattercarpet\":[{\"marker\":{\"colorbar\":{\"outlinewidth\":0,\"ticks\":\"\"}},\"type\":\"scattercarpet\"}],\"scattergeo\":[{\"marker\":{\"colorbar\":{\"outlinewidth\":0,\"ticks\":\"\"}},\"type\":\"scattergeo\"}],\"scattergl\":[{\"marker\":{\"colorbar\":{\"outlinewidth\":0,\"ticks\":\"\"}},\"type\":\"scattergl\"}],\"scattermapbox\":[{\"marker\":{\"colorbar\":{\"outlinewidth\":0,\"ticks\":\"\"}},\"type\":\"scattermapbox\"}],\"scatterpolar\":[{\"marker\":{\"colorbar\":{\"outlinewidth\":0,\"ticks\":\"\"}},\"type\":\"scatterpolar\"}],\"scatterpolargl\":[{\"marker\":{\"colorbar\":{\"outlinewidth\":0,\"ticks\":\"\"}},\"type\":\"scatterpolargl\"}],\"scatterternary\":[{\"marker\":{\"colorbar\":{\"outlinewidth\":0,\"ticks\":\"\"}},\"type\":\"scatterternary\"}],\"surface\":[{\"colorbar\":{\"outlinewidth\":0,\"ticks\":\"\"},\"colorscale\":[[0.0,\"#0d0887\"],[0.1111111111111111,\"#46039f\"],[0.2222222222222222,\"#7201a8\"],[0.3333333333333333,\"#9c179e\"],[0.4444444444444444,\"#bd3786\"],[0.5555555555555556,\"#d8576b\"],[0.6666666666666666,\"#ed7953\"],[0.7777777777777778,\"#fb9f3a\"],[0.8888888888888888,\"#fdca26\"],[1.0,\"#f0f921\"]],\"type\":\"surface\"}],\"table\":[{\"cells\":{\"fill\":{\"color\":\"#EBF0F8\"},\"line\":{\"color\":\"white\"}},\"header\":{\"fill\":{\"color\":\"#C8D4E3\"},\"line\":{\"color\":\"white\"}},\"type\":\"table\"}]},\"layout\":{\"annotationdefaults\":{\"arrowcolor\":\"#2a3f5f\",\"arrowhead\":0,\"arrowwidth\":1},\"autotypenumbers\":\"strict\",\"coloraxis\":{\"colorbar\":{\"outlinewidth\":0,\"ticks\":\"\"}},\"colorscale\":{\"diverging\":[[0,\"#8e0152\"],[0.1,\"#c51b7d\"],[0.2,\"#de77ae\"],[0.3,\"#f1b6da\"],[0.4,\"#fde0ef\"],[0.5,\"#f7f7f7\"],[0.6,\"#e6f5d0\"],[0.7,\"#b8e186\"],[0.8,\"#7fbc41\"],[0.9,\"#4d9221\"],[1,\"#276419\"]],\"sequential\":[[0.0,\"#0d0887\"],[0.1111111111111111,\"#46039f\"],[0.2222222222222222,\"#7201a8\"],[0.3333333333333333,\"#9c179e\"],[0.4444444444444444,\"#bd3786\"],[0.5555555555555556,\"#d8576b\"],[0.6666666666666666,\"#ed7953\"],[0.7777777777777778,\"#fb9f3a\"],[0.8888888888888888,\"#fdca26\"],[1.0,\"#f0f921\"]],\"sequentialminus\":[[0.0,\"#0d0887\"],[0.1111111111111111,\"#46039f\"],[0.2222222222222222,\"#7201a8\"],[0.3333333333333333,\"#9c179e\"],[0.4444444444444444,\"#bd3786\"],[0.5555555555555556,\"#d8576b\"],[0.6666666666666666,\"#ed7953\"],[0.7777777777777778,\"#fb9f3a\"],[0.8888888888888888,\"#fdca26\"],[1.0,\"#f0f921\"]]},\"colorway\":[\"#636efa\",\"#EF553B\",\"#00cc96\",\"#ab63fa\",\"#FFA15A\",\"#19d3f3\",\"#FF6692\",\"#B6E880\",\"#FF97FF\",\"#FECB52\"],\"font\":{\"color\":\"#2a3f5f\"},\"geo\":{\"bgcolor\":\"white\",\"lakecolor\":\"white\",\"landcolor\":\"#E5ECF6\",\"showlakes\":true,\"showland\":true,\"subunitcolor\":\"white\"},\"hoverlabel\":{\"align\":\"left\"},\"hovermode\":\"closest\",\"mapbox\":{\"style\":\"light\"},\"paper_bgcolor\":\"white\",\"plot_bgcolor\":\"#E5ECF6\",\"polar\":{\"angularaxis\":{\"gridcolor\":\"white\",\"linecolor\":\"white\",\"ticks\":\"\"},\"bgcolor\":\"#E5ECF6\",\"radialaxis\":{\"gridcolor\":\"white\",\"linecolor\":\"white\",\"ticks\":\"\"}},\"scene\":{\"xaxis\":{\"backgroundcolor\":\"#E5ECF6\",\"gridcolor\":\"white\",\"gridwidth\":2,\"linecolor\":\"white\",\"showbackground\":true,\"ticks\":\"\",\"zerolinecolor\":\"white\"},\"yaxis\":{\"backgroundcolor\":\"#E5ECF6\",\"gridcolor\":\"white\",\"gridwidth\":2,\"linecolor\":\"white\",\"showbackground\":true,\"ticks\":\"\",\"zerolinecolor\":\"white\"},\"zaxis\":{\"backgroundcolor\":\"#E5ECF6\",\"gridcolor\":\"white\",\"gridwidth\":2,\"linecolor\":\"white\",\"showbackground\":true,\"ticks\":\"\",\"zerolinecolor\":\"white\"}},\"shapedefaults\":{\"line\":{\"color\":\"#2a3f5f\"}},\"ternary\":{\"aaxis\":{\"gridcolor\":\"white\",\"linecolor\":\"white\",\"ticks\":\"\"},\"baxis\":{\"gridcolor\":\"white\",\"linecolor\":\"white\",\"ticks\":\"\"},\"bgcolor\":\"#E5ECF6\",\"caxis\":{\"gridcolor\":\"white\",\"linecolor\":\"white\",\"ticks\":\"\"}},\"title\":{\"x\":0.05},\"xaxis\":{\"automargin\":true,\"gridcolor\":\"white\",\"linecolor\":\"white\",\"ticks\":\"\",\"title\":{\"standoff\":15},\"zerolinecolor\":\"white\",\"zerolinewidth\":2},\"yaxis\":{\"automargin\":true,\"gridcolor\":\"white\",\"linecolor\":\"white\",\"ticks\":\"\",\"title\":{\"standoff\":15},\"zerolinecolor\":\"white\",\"zerolinewidth\":2}}},\"barmode\":\"group\",\"title\":{\"text\":\"Total reports of each clade by timestamp -- Flipped\"}},                        {\"responsive\": true}                    ).then(function(){\n",
       "                            \n",
       "var gd = document.getElementById('66b92999-e889-4999-9a45-c895433c7039');\n",
       "var x = new MutationObserver(function (mutations, observer) {{\n",
       "        var display = window.getComputedStyle(gd).display;\n",
       "        if (!display || display === 'none') {{\n",
       "            console.log([gd, 'removed!']);\n",
       "            Plotly.purge(gd);\n",
       "            observer.disconnect();\n",
       "        }}\n",
       "}});\n",
       "\n",
       "// Listen for the removal of the full notebook cells\n",
       "var notebookContainer = gd.closest('#notebook-container');\n",
       "if (notebookContainer) {{\n",
       "    x.observe(notebookContainer, {childList: true});\n",
       "}}\n",
       "\n",
       "// Listen for the clearing of the current output cell\n",
       "var outputEl = gd.closest('.output');\n",
       "if (outputEl) {{\n",
       "    x.observe(outputEl, {childList: true});\n",
       "}}\n",
       "\n",
       "                        })                };                });            </script>        </div>"
      ]
     },
     "metadata": {},
     "output_type": "display_data"
    }
   ],
   "source": [
    "# timestamp on x-axis and colors as clades\n",
    "data = []\n",
    "colors = px.colors.diverging.Spectral\n",
    "clades = ['19A','19B','20A','20B','20C', '20G', '20E (EU1)', \"21C (Epsilon)\", \"20D\", \"20J (Gamma, V3)\",\n",
    "          \"21F (Iota)\", \"20I (Alpha, V1)\", \"21B (Kappa)\", \"21D (Eta)\", \"21G (Lambda)\", \"21H (Mu)\", \"21A (Delta)\", \"21I (Delta)\", \"21J (Delta)\", \"20H (Beta, V2)\"]\n",
    "clades.sort()\n",
    "\n",
    "clade_to_integer = {clade:i for i,clade in enumerate(clades)}\n",
    "print(print(clade_to_integer))\n",
    "clade_info = {}\n",
    "for i in range(11):\n",
    "    q = dfs[i].groupby(\"clade\").sum('count')\n",
    "    for clade, count in zip(q.index, q['count']):\n",
    "        clade_dict = clade_info.get(clade, dict())\n",
    "        x = clade_dict.get('x', list())\n",
    "        x.append(i)\n",
    "        clade_dict['x'] = x\n",
    "        y = clade_dict.get('y', list())\n",
    "        y.append(count)\n",
    "        clade_dict['y'] = y\n",
    "        clade_info[clade] = clade_dict\n",
    "for clade_name, info in clade_info.items():  \n",
    "    b = go.Bar(name = clade_name, x=list(map(lambda xi: timestamp_dictionary[xi+1],info['x'])), y=info['y'], marker_color=colors[clade_to_integer.get(clade_name, 0) % 10])\n",
    "    data.append(b)\n",
    "  \n",
    "fig = go.Figure(data=data)\n",
    "fig.update_layout(barmode='group', title = \"Total reports of each clade by timestamp -- Flipped\")\n",
    "fig.show()"
   ]
  },
  {
   "cell_type": "code",
   "execution_count": null,
   "id": "5f7638e6",
   "metadata": {},
   "outputs": [],
   "source": [
    "Too many colors since not in rainbow order. could try grouping into "
   ]
  }
 ],
 "metadata": {
  "kernelspec": {
   "display_name": "Python 3 (ipykernel)",
   "language": "python",
   "name": "python3"
  },
  "language_info": {
   "codemirror_mode": {
    "name": "ipython",
    "version": 3
   },
   "file_extension": ".py",
   "mimetype": "text/x-python",
   "name": "python",
   "nbconvert_exporter": "python",
   "pygments_lexer": "ipython3",
   "version": "3.9.7"
  }
 },
 "nbformat": 4,
 "nbformat_minor": 5
}
