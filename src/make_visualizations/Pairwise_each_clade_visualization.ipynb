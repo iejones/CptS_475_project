{
 "cells": [
  {
   "cell_type": "markdown",
   "id": "bc4a38b4",
   "metadata": {},
   "source": [
    "Pairwise sequence alignment of each clade, with 19A as the baseline. We select the most seen sequence of each clade to represent the clade. "
   ]
  },
  {
   "cell_type": "code",
   "execution_count": 1,
   "id": "254d323c",
   "metadata": {},
   "outputs": [],
   "source": [
    "import pandas as pd\n",
    "import os\n",
    "\n",
    "project_folder = os.path.join(\"..\", \"..\")"
   ]
  },
  {
   "cell_type": "code",
   "execution_count": 111,
   "id": "7924f39b",
   "metadata": {},
   "outputs": [
    {
     "data": {
      "text/html": [
       "<div>\n",
       "<style scoped>\n",
       "    .dataframe tbody tr th:only-of-type {\n",
       "        vertical-align: middle;\n",
       "    }\n",
       "\n",
       "    .dataframe tbody tr th {\n",
       "        vertical-align: top;\n",
       "    }\n",
       "\n",
       "    .dataframe thead th {\n",
       "        text-align: right;\n",
       "    }\n",
       "</style>\n",
       "<table border=\"1\" class=\"dataframe\">\n",
       "  <thead>\n",
       "    <tr style=\"text-align: right;\">\n",
       "      <th></th>\n",
       "      <th>state</th>\n",
       "      <th>p_sequence</th>\n",
       "      <th>p_accession</th>\n",
       "      <th>date</th>\n",
       "      <th>count</th>\n",
       "      <th>n_accession</th>\n",
       "      <th>n_sequence</th>\n",
       "      <th>clade</th>\n",
       "      <th>timespan</th>\n",
       "    </tr>\n",
       "  </thead>\n",
       "  <tbody>\n",
       "    <tr>\n",
       "      <th>0</th>\n",
       "      <td>MA</td>\n",
       "      <td>\"MFVFLVLLPLVSSQCVNLTTRTQLPPAYTNSFTRGVYYPDKVFRS...</td>\n",
       "      <td>QTP71261</td>\n",
       "      <td>2020</td>\n",
       "      <td>2</td>\n",
       "      <td>MW885877</td>\n",
       "      <td>GGTAACAAACCAACCAACTTTCGATCTCTTGTAGATCTGTTCTCTA...</td>\n",
       "      <td>20A</td>\n",
       "      <td>1</td>\n",
       "    </tr>\n",
       "  </tbody>\n",
       "</table>\n",
       "</div>"
      ],
      "text/plain": [
       "  state                                         p_sequence p_accession  date  \\\n",
       "0    MA  \"MFVFLVLLPLVSSQCVNLTTRTQLPPAYTNSFTRGVYYPDKVFRS...    QTP71261  2020   \n",
       "\n",
       "   count n_accession                                         n_sequence clade  \\\n",
       "0      2    MW885877  GGTAACAAACCAACCAACTTTCGATCTCTTGTAGATCTGTTCTCTA...   20A   \n",
       "\n",
       "   timespan  \n",
       "0         1  "
      ]
     },
     "execution_count": 111,
     "metadata": {},
     "output_type": "execute_result"
    }
   ],
   "source": [
    "df = pd.read_csv(os.path.join(project_folder, 'data', 'final', \"all.csv\"))\n",
    "df.head(1)"
   ]
  },
  {
   "cell_type": "code",
   "execution_count": 112,
   "id": "35b73682",
   "metadata": {},
   "outputs": [
    {
     "data": {
      "text/html": [
       "<div>\n",
       "<style scoped>\n",
       "    .dataframe tbody tr th:only-of-type {\n",
       "        vertical-align: middle;\n",
       "    }\n",
       "\n",
       "    .dataframe tbody tr th {\n",
       "        vertical-align: top;\n",
       "    }\n",
       "\n",
       "    .dataframe thead th {\n",
       "        text-align: right;\n",
       "    }\n",
       "</style>\n",
       "<table border=\"1\" class=\"dataframe\">\n",
       "  <thead>\n",
       "    <tr style=\"text-align: right;\">\n",
       "      <th></th>\n",
       "      <th>state</th>\n",
       "      <th>p_sequence</th>\n",
       "      <th>p_accession</th>\n",
       "      <th>date</th>\n",
       "      <th>count</th>\n",
       "      <th>n_accession</th>\n",
       "      <th>n_sequence</th>\n",
       "      <th>clade</th>\n",
       "      <th>timespan_x</th>\n",
       "      <th>timespan_y</th>\n",
       "    </tr>\n",
       "  </thead>\n",
       "  <tbody>\n",
       "    <tr>\n",
       "      <th>0</th>\n",
       "      <td>CA</td>\n",
       "      <td>\"MFVFFVLLPLVSSQCVNLTTRTQLPPAYTNSFTRGVYYPDKVFRS...</td>\n",
       "      <td>QOF09449</td>\n",
       "      <td>2020-03-22</td>\n",
       "      <td>19</td>\n",
       "      <td>MW064459</td>\n",
       "      <td>AGATCTGTTCTTTAAACGAACTTTAAAATCTGTGTGGCTGTCACTC...</td>\n",
       "      <td>19A</td>\n",
       "      <td>2</td>\n",
       "      <td>5</td>\n",
       "    </tr>\n",
       "    <tr>\n",
       "      <th>1</th>\n",
       "      <td>WA</td>\n",
       "      <td>\"MFVFLVLLPLVSSQCVNLTTRTQLPPAYTNSFTRGVYYPDKVFRS...</td>\n",
       "      <td>QLJ57227</td>\n",
       "      <td>2020</td>\n",
       "      <td>1367</td>\n",
       "      <td>MT252714</td>\n",
       "      <td>CTTGTAGATCTGTTCTCTAAACGAACTTTAAAATCTGTGTGGCTGT...</td>\n",
       "      <td>19B</td>\n",
       "      <td>1</td>\n",
       "      <td>11</td>\n",
       "    </tr>\n",
       "    <tr>\n",
       "      <th>2</th>\n",
       "      <td>MD</td>\n",
       "      <td>\"MFVFLVLLPLVSSQCVNLTTRTQLPPAYTNSFTRGVYYPDKVFRS...</td>\n",
       "      <td>QVR40114</td>\n",
       "      <td>2/1/21</td>\n",
       "      <td>450</td>\n",
       "      <td>MZ267382</td>\n",
       "      <td>ATTAAAGGTTTATACCTTCCCAGGTAACAAACCAACCAACTTTCGA...</td>\n",
       "      <td>20A</td>\n",
       "      <td>6</td>\n",
       "      <td>11</td>\n",
       "    </tr>\n",
       "    <tr>\n",
       "      <th>3</th>\n",
       "      <td>CA</td>\n",
       "      <td>\"MFVFLVLLPLVSSQCVNLTTRTQLPPAYTNSFTRGVYYPDKVFRS...</td>\n",
       "      <td>QSW59156</td>\n",
       "      <td>2/1/21</td>\n",
       "      <td>659</td>\n",
       "      <td>MW739404</td>\n",
       "      <td>AACCAACTTTCGATCTCTTGTAGATCTGTTCTCTAAACGAACTTTA...</td>\n",
       "      <td>20B</td>\n",
       "      <td>6</td>\n",
       "      <td>11</td>\n",
       "    </tr>\n",
       "    <tr>\n",
       "      <th>4</th>\n",
       "      <td>VA</td>\n",
       "      <td>\"MFVFLVLLPLVSSQCVNLTTRTQLPPAYTNSFTRGVYYPDKVFRS...</td>\n",
       "      <td>QTN63407</td>\n",
       "      <td>2021-01</td>\n",
       "      <td>3558</td>\n",
       "      <td>MW868904</td>\n",
       "      <td>ACTTTCGATCTCTTGTAGATCTGTTCTCTAAACGAACTTTAAAATC...</td>\n",
       "      <td>20C</td>\n",
       "      <td>5</td>\n",
       "      <td>11</td>\n",
       "    </tr>\n",
       "    <tr>\n",
       "      <th>5</th>\n",
       "      <td>PA</td>\n",
       "      <td>\"MFVFFVLLPLVSSQCVNLTTRTQLPPAYTNSFTRGVYYPDKVFRS...</td>\n",
       "      <td>QWU02970</td>\n",
       "      <td>2021-06-03</td>\n",
       "      <td>11</td>\n",
       "      <td>MZ412281</td>\n",
       "      <td>CTTTCGATCTCTTGTAGATCTGTTCTCTAAACGAACTTTAAAATCT...</td>\n",
       "      <td>20D</td>\n",
       "      <td>10</td>\n",
       "      <td>11</td>\n",
       "    </tr>\n",
       "    <tr>\n",
       "      <th>6</th>\n",
       "      <td>NY</td>\n",
       "      <td>\"MFVFLVLLPLVSSQCVNLTTRTQLPPAYTNSFTRGVYYPDKVFRS...</td>\n",
       "      <td>QQX01070</td>\n",
       "      <td>2021-01-02</td>\n",
       "      <td>23</td>\n",
       "      <td>MW518168</td>\n",
       "      <td>GTAACAAACCAACCAACTTTCGATCTCTTGTAGATCTGTTCTCTAA...</td>\n",
       "      <td>20E (EU1)</td>\n",
       "      <td>5</td>\n",
       "      <td>8</td>\n",
       "    </tr>\n",
       "    <tr>\n",
       "      <th>7</th>\n",
       "      <td>TX</td>\n",
       "      <td>\"MFVFLVLLPLVSSQCVNLTTRTQLPPAYTNSFTRGVYYPDKVFRS...</td>\n",
       "      <td>QVR40162</td>\n",
       "      <td>2/1/21</td>\n",
       "      <td>3755</td>\n",
       "      <td>MZ267386</td>\n",
       "      <td>ATTAAAGGTTTATACCTTCCCAGGTAACAAACCAACCAACTTTCGA...</td>\n",
       "      <td>20G</td>\n",
       "      <td>6</td>\n",
       "      <td>11</td>\n",
       "    </tr>\n",
       "    <tr>\n",
       "      <th>8</th>\n",
       "      <td>FL</td>\n",
       "      <td>\"MFVFLVLLPLVSSQCVNFTTRTQLPPAYTNSFTRGVYYPDKVFRS...</td>\n",
       "      <td>UAR25116</td>\n",
       "      <td>2021-07-11</td>\n",
       "      <td>3</td>\n",
       "      <td>OK129036</td>\n",
       "      <td>AGATCTGTTCTCTAAACGAACTTTAAAATCTGTGTGGCTGTCACTC...</td>\n",
       "      <td>20H (Beta, V2)</td>\n",
       "      <td>11</td>\n",
       "      <td>11</td>\n",
       "    </tr>\n",
       "    <tr>\n",
       "      <th>9</th>\n",
       "      <td>VA</td>\n",
       "      <td>\"MFVFFVLLPLVSSQCVNLTTRTQLPPAYTNSFTRGVYYPDKVFRS...</td>\n",
       "      <td>QXP14639</td>\n",
       "      <td>2021-06</td>\n",
       "      <td>2493</td>\n",
       "      <td>MZ571287</td>\n",
       "      <td>TTTCGATCTCTTGTAGATCTGTTCTCTAAACGAACTTTAAAATCTG...</td>\n",
       "      <td>20I (Alpha, V1)</td>\n",
       "      <td>10</td>\n",
       "      <td>11</td>\n",
       "    </tr>\n",
       "    <tr>\n",
       "      <th>10</th>\n",
       "      <td>VA</td>\n",
       "      <td>\"MFVFLVLLPLVSSQCVNFTNRTQLPSAYTNSFTRGVYYPDKVFRS...</td>\n",
       "      <td>QWY94091</td>\n",
       "      <td>2021-05</td>\n",
       "      <td>1509</td>\n",
       "      <td>MZ451365</td>\n",
       "      <td>ACTTTCGATCTCTTGTAGATCTGTTCTCTAAACGAACTTTAAAATC...</td>\n",
       "      <td>20J (Gamma, V3)</td>\n",
       "      <td>9</td>\n",
       "      <td>11</td>\n",
       "    </tr>\n",
       "    <tr>\n",
       "      <th>11</th>\n",
       "      <td>NJ</td>\n",
       "      <td>\"MFVFLVLLPLVSSQCVNLRTRTQLPPAYTNSFTRGVYYPDKVFRS...</td>\n",
       "      <td>QZD09591</td>\n",
       "      <td>2021-07-01</td>\n",
       "      <td>750</td>\n",
       "      <td>MZ849750</td>\n",
       "      <td>CTGCATGCTTAGTGCACTCACGCAGTATAATTAATAACTAATTACT...</td>\n",
       "      <td>21A (Delta)</td>\n",
       "      <td>11</td>\n",
       "      <td>11</td>\n",
       "    </tr>\n",
       "    <tr>\n",
       "      <th>12</th>\n",
       "      <td>WI</td>\n",
       "      <td>\"MFVFLVLLPLVSSQCVNLTTRTQLPPAYTNSFTRGVYYPDKVFRS...</td>\n",
       "      <td>QUH89695</td>\n",
       "      <td>2021-04-02</td>\n",
       "      <td>14</td>\n",
       "      <td>MZ037253</td>\n",
       "      <td>AGATCTGTTCTCTAAACGAACTTTAAAATCTGTGTGGCTGTCACTC...</td>\n",
       "      <td>21B (Kappa)</td>\n",
       "      <td>8</td>\n",
       "      <td>9</td>\n",
       "    </tr>\n",
       "    <tr>\n",
       "      <th>13</th>\n",
       "      <td>CA</td>\n",
       "      <td>\"MFVFLVLLPLVSIQCVNLTTRTQLPPAYTNSFTRGVYYPDKVFRS...</td>\n",
       "      <td>QTI97781</td>\n",
       "      <td>2/1/21</td>\n",
       "      <td>719</td>\n",
       "      <td>MW838313</td>\n",
       "      <td>TAAAGGTTTATACCTTCCCAGGTAACAAACCAACCAACTTTCGATC...</td>\n",
       "      <td>21C (Epsilon)</td>\n",
       "      <td>6</td>\n",
       "      <td>11</td>\n",
       "    </tr>\n",
       "    <tr>\n",
       "      <th>14</th>\n",
       "      <td>MD</td>\n",
       "      <td>\"MFVFLVLLPLVSSQCVNLTTRTQLPPAYTNSFTRGVYYPDKVFRS...</td>\n",
       "      <td>QWU01313</td>\n",
       "      <td>2021-06-01</td>\n",
       "      <td>7</td>\n",
       "      <td>MZ412141</td>\n",
       "      <td>GAACTTTAAAATCTGTGTGGCTGTCACTCGGCTGCATGCTTAGTGC...</td>\n",
       "      <td>21D (Eta)</td>\n",
       "      <td>10</td>\n",
       "      <td>10</td>\n",
       "    </tr>\n",
       "    <tr>\n",
       "      <th>15</th>\n",
       "      <td>NY</td>\n",
       "      <td>\"MFVFFVLLPLVSSQCVNLTTRTQLPPAYTNSFTRGVYYPDKVFRS...</td>\n",
       "      <td>QUQ04393</td>\n",
       "      <td>2021-04-01</td>\n",
       "      <td>1005</td>\n",
       "      <td>MZ082876</td>\n",
       "      <td>AAAGGTTTATACCTTCCCAGGTAACAAACCAACCAACTTTCGATCT...</td>\n",
       "      <td>21F (Iota)</td>\n",
       "      <td>8</td>\n",
       "      <td>11</td>\n",
       "    </tr>\n",
       "    <tr>\n",
       "      <th>16</th>\n",
       "      <td>FL</td>\n",
       "      <td>\"MFVFFVLLPLVSSQCVNLTTRTQLPPAYTNSFTRGVYYPDKVFRS...</td>\n",
       "      <td>QXL64433</td>\n",
       "      <td>2021-06-02</td>\n",
       "      <td>16</td>\n",
       "      <td>MZ538752</td>\n",
       "      <td>TACCTTCCCAGGTAACAAACCAACCAACTTTCGATCTCTTGTAGAT...</td>\n",
       "      <td>21G (Lambda)</td>\n",
       "      <td>10</td>\n",
       "      <td>11</td>\n",
       "    </tr>\n",
       "    <tr>\n",
       "      <th>17</th>\n",
       "      <td>FL</td>\n",
       "      <td>\"MFVFFVLLPLVSSQCVNLTTRTQLPPAYTNSFTRGVYYPDKVFRS...</td>\n",
       "      <td>QXL64492</td>\n",
       "      <td>2021-06-06</td>\n",
       "      <td>4</td>\n",
       "      <td>MZ538757</td>\n",
       "      <td>ATCTCTTGTAGATCTGTTCTCTAAACGAACTTTAAAATCTGTGTGG...</td>\n",
       "      <td>21H (Mu)</td>\n",
       "      <td>10</td>\n",
       "      <td>11</td>\n",
       "    </tr>\n",
       "    <tr>\n",
       "      <th>18</th>\n",
       "      <td>LA</td>\n",
       "      <td>\"MFVFLVLLPLVSSQCVNLRTRTQLPPAYTNSFTRGVYYPDKVFRS...</td>\n",
       "      <td>QXY23330</td>\n",
       "      <td>2021-07-12</td>\n",
       "      <td>8</td>\n",
       "      <td>MZ637305</td>\n",
       "      <td>ACTTTCGATCTCTTGTAGATCTGTTCTCTAAACGAACTTTAAAATC...</td>\n",
       "      <td>21I (Delta)</td>\n",
       "      <td>11</td>\n",
       "      <td>11</td>\n",
       "    </tr>\n",
       "    <tr>\n",
       "      <th>19</th>\n",
       "      <td>LA</td>\n",
       "      <td>\"MFVFLVLLPLVSSQCVNLRTRTQLPPAYTNSFTRGVYYPDKVFRS...</td>\n",
       "      <td>QXO37508</td>\n",
       "      <td>2021-07-05</td>\n",
       "      <td>129</td>\n",
       "      <td>MZ568101</td>\n",
       "      <td>AGGTTTATACCTTCCCAGGTAACAAACCAACCAACTTTCGATCTCT...</td>\n",
       "      <td>21J (Delta)</td>\n",
       "      <td>11</td>\n",
       "      <td>11</td>\n",
       "    </tr>\n",
       "  </tbody>\n",
       "</table>\n",
       "</div>"
      ],
      "text/plain": [
       "   state                                         p_sequence p_accession  \\\n",
       "0     CA  \"MFVFFVLLPLVSSQCVNLTTRTQLPPAYTNSFTRGVYYPDKVFRS...    QOF09449   \n",
       "1     WA  \"MFVFLVLLPLVSSQCVNLTTRTQLPPAYTNSFTRGVYYPDKVFRS...    QLJ57227   \n",
       "2     MD  \"MFVFLVLLPLVSSQCVNLTTRTQLPPAYTNSFTRGVYYPDKVFRS...    QVR40114   \n",
       "3     CA  \"MFVFLVLLPLVSSQCVNLTTRTQLPPAYTNSFTRGVYYPDKVFRS...    QSW59156   \n",
       "4     VA  \"MFVFLVLLPLVSSQCVNLTTRTQLPPAYTNSFTRGVYYPDKVFRS...    QTN63407   \n",
       "5     PA  \"MFVFFVLLPLVSSQCVNLTTRTQLPPAYTNSFTRGVYYPDKVFRS...    QWU02970   \n",
       "6     NY  \"MFVFLVLLPLVSSQCVNLTTRTQLPPAYTNSFTRGVYYPDKVFRS...    QQX01070   \n",
       "7     TX  \"MFVFLVLLPLVSSQCVNLTTRTQLPPAYTNSFTRGVYYPDKVFRS...    QVR40162   \n",
       "8     FL  \"MFVFLVLLPLVSSQCVNFTTRTQLPPAYTNSFTRGVYYPDKVFRS...    UAR25116   \n",
       "9     VA  \"MFVFFVLLPLVSSQCVNLTTRTQLPPAYTNSFTRGVYYPDKVFRS...    QXP14639   \n",
       "10    VA  \"MFVFLVLLPLVSSQCVNFTNRTQLPSAYTNSFTRGVYYPDKVFRS...    QWY94091   \n",
       "11    NJ  \"MFVFLVLLPLVSSQCVNLRTRTQLPPAYTNSFTRGVYYPDKVFRS...    QZD09591   \n",
       "12    WI  \"MFVFLVLLPLVSSQCVNLTTRTQLPPAYTNSFTRGVYYPDKVFRS...    QUH89695   \n",
       "13    CA  \"MFVFLVLLPLVSIQCVNLTTRTQLPPAYTNSFTRGVYYPDKVFRS...    QTI97781   \n",
       "14    MD  \"MFVFLVLLPLVSSQCVNLTTRTQLPPAYTNSFTRGVYYPDKVFRS...    QWU01313   \n",
       "15    NY  \"MFVFFVLLPLVSSQCVNLTTRTQLPPAYTNSFTRGVYYPDKVFRS...    QUQ04393   \n",
       "16    FL  \"MFVFFVLLPLVSSQCVNLTTRTQLPPAYTNSFTRGVYYPDKVFRS...    QXL64433   \n",
       "17    FL  \"MFVFFVLLPLVSSQCVNLTTRTQLPPAYTNSFTRGVYYPDKVFRS...    QXL64492   \n",
       "18    LA  \"MFVFLVLLPLVSSQCVNLRTRTQLPPAYTNSFTRGVYYPDKVFRS...    QXY23330   \n",
       "19    LA  \"MFVFLVLLPLVSSQCVNLRTRTQLPPAYTNSFTRGVYYPDKVFRS...    QXO37508   \n",
       "\n",
       "          date  count n_accession  \\\n",
       "0   2020-03-22     19    MW064459   \n",
       "1         2020   1367    MT252714   \n",
       "2       2/1/21    450    MZ267382   \n",
       "3       2/1/21    659    MW739404   \n",
       "4      2021-01   3558    MW868904   \n",
       "5   2021-06-03     11    MZ412281   \n",
       "6   2021-01-02     23    MW518168   \n",
       "7       2/1/21   3755    MZ267386   \n",
       "8   2021-07-11      3    OK129036   \n",
       "9      2021-06   2493    MZ571287   \n",
       "10     2021-05   1509    MZ451365   \n",
       "11  2021-07-01    750    MZ849750   \n",
       "12  2021-04-02     14    MZ037253   \n",
       "13      2/1/21    719    MW838313   \n",
       "14  2021-06-01      7    MZ412141   \n",
       "15  2021-04-01   1005    MZ082876   \n",
       "16  2021-06-02     16    MZ538752   \n",
       "17  2021-06-06      4    MZ538757   \n",
       "18  2021-07-12      8    MZ637305   \n",
       "19  2021-07-05    129    MZ568101   \n",
       "\n",
       "                                           n_sequence            clade  \\\n",
       "0   AGATCTGTTCTTTAAACGAACTTTAAAATCTGTGTGGCTGTCACTC...              19A   \n",
       "1   CTTGTAGATCTGTTCTCTAAACGAACTTTAAAATCTGTGTGGCTGT...              19B   \n",
       "2   ATTAAAGGTTTATACCTTCCCAGGTAACAAACCAACCAACTTTCGA...              20A   \n",
       "3   AACCAACTTTCGATCTCTTGTAGATCTGTTCTCTAAACGAACTTTA...              20B   \n",
       "4   ACTTTCGATCTCTTGTAGATCTGTTCTCTAAACGAACTTTAAAATC...              20C   \n",
       "5   CTTTCGATCTCTTGTAGATCTGTTCTCTAAACGAACTTTAAAATCT...              20D   \n",
       "6   GTAACAAACCAACCAACTTTCGATCTCTTGTAGATCTGTTCTCTAA...        20E (EU1)   \n",
       "7   ATTAAAGGTTTATACCTTCCCAGGTAACAAACCAACCAACTTTCGA...              20G   \n",
       "8   AGATCTGTTCTCTAAACGAACTTTAAAATCTGTGTGGCTGTCACTC...   20H (Beta, V2)   \n",
       "9   TTTCGATCTCTTGTAGATCTGTTCTCTAAACGAACTTTAAAATCTG...  20I (Alpha, V1)   \n",
       "10  ACTTTCGATCTCTTGTAGATCTGTTCTCTAAACGAACTTTAAAATC...  20J (Gamma, V3)   \n",
       "11  CTGCATGCTTAGTGCACTCACGCAGTATAATTAATAACTAATTACT...      21A (Delta)   \n",
       "12  AGATCTGTTCTCTAAACGAACTTTAAAATCTGTGTGGCTGTCACTC...      21B (Kappa)   \n",
       "13  TAAAGGTTTATACCTTCCCAGGTAACAAACCAACCAACTTTCGATC...    21C (Epsilon)   \n",
       "14  GAACTTTAAAATCTGTGTGGCTGTCACTCGGCTGCATGCTTAGTGC...        21D (Eta)   \n",
       "15  AAAGGTTTATACCTTCCCAGGTAACAAACCAACCAACTTTCGATCT...       21F (Iota)   \n",
       "16  TACCTTCCCAGGTAACAAACCAACCAACTTTCGATCTCTTGTAGAT...     21G (Lambda)   \n",
       "17  ATCTCTTGTAGATCTGTTCTCTAAACGAACTTTAAAATCTGTGTGG...         21H (Mu)   \n",
       "18  ACTTTCGATCTCTTGTAGATCTGTTCTCTAAACGAACTTTAAAATC...      21I (Delta)   \n",
       "19  AGGTTTATACCTTCCCAGGTAACAAACCAACCAACTTTCGATCTCT...      21J (Delta)   \n",
       "\n",
       "    timespan_x  timespan_y  \n",
       "0            2           5  \n",
       "1            1          11  \n",
       "2            6          11  \n",
       "3            6          11  \n",
       "4            5          11  \n",
       "5           10          11  \n",
       "6            5           8  \n",
       "7            6          11  \n",
       "8           11          11  \n",
       "9           10          11  \n",
       "10           9          11  \n",
       "11          11          11  \n",
       "12           8           9  \n",
       "13           6          11  \n",
       "14          10          10  \n",
       "15           8          11  \n",
       "16          10          11  \n",
       "17          10          11  \n",
       "18          11          11  \n",
       "19          11          11  "
      ]
     },
     "execution_count": 112,
     "metadata": {},
     "output_type": "execute_result"
    }
   ],
   "source": [
    "temp = df.groupby('clade', as_index = False).max('count')\n",
    "df = df.merge(temp, on=['clade', 'count']).sort_values('clade', ignore_index = True) # reindex so order of clade matches index\n",
    "df.head(20)"
   ]
  },
  {
   "cell_type": "code",
   "execution_count": 147,
   "id": "90fa5e9f",
   "metadata": {},
   "outputs": [],
   "source": [
    "from Bio import Align\n",
    "from Bio.Align import substitution_matrices\n",
    "import plotly.graph_objects as go\n",
    "from plotly.subplots import make_subplots"
   ]
  },
  {
   "cell_type": "code",
   "execution_count": 166,
   "id": "eae5c26b",
   "metadata": {},
   "outputs": [],
   "source": [
    "def make_aligner():\n",
    "    aligner = Align.PairwiseAligner(match = 4,\n",
    "         mismatch = -1, \n",
    "         target_open_gap_score = -1000, \n",
    "         target_extend_gap_score  = -1000,\n",
    "         query_open_gap_score = -20,\n",
    "         query_extend_gap_score = -4) # parameters from this paper https://www.ncbi.nlm.nih.gov/pmc/articles/PMC7314508/\n",
    "\n",
    "    substitution_matrices.load() \n",
    "    matrix = substitution_matrices.load(\"BLOSUM62\")\n",
    "    aligner.substitution_matrix = matrix\n",
    "    return aligner\n",
    "\n",
    "def get_relevent_seqs(df,baseline_index, clade_index):\n",
    "    seq1 = df.loc[baseline_index]\n",
    "    seq2 = df.loc[clade_index]\n",
    "    aligner = make_aligner()\n",
    "    alignments = aligner.align(seq1['p_sequence'][1:-1], seq2['p_sequence'][1:-1])\n",
    "    target_row = df.loc[df['p_accession'] == seq1['p_accession']].to_dict('records')[0]\n",
    "    query_row =df.loc[df['p_accession'] == seq2['p_accession']].to_dict('records')[0]\n",
    "    return alignments, target_row, query_row\n",
    "    \n",
    "def calc_traces_labels_and_subtitle(df,baseline_index, clade_index, debug = False):\n",
    "    alignments, target_row, query_row = get_relevent_seqs(df,baseline_index, clade_index)\n",
    "    string_alignments = alignments[0].format().split('\\n')\n",
    "    target = string_alignments[0]\n",
    "    match_type = string_alignments[1]\n",
    "    query = string_alignments[2]\n",
    "    y_height = 1\n",
    "    length = len(target)\n",
    "    if debug:\n",
    "        print(length)\n",
    "        \n",
    "    x_insert =[None]\n",
    "    x_delete =[None]\n",
    "    x_sub_low =[None]\n",
    "    x_sub_high =[None] # none means it will show in legend even when there is no data\n",
    "\n",
    "    labels = []\n",
    "    yshift = 18\n",
    "    level = 0\n",
    "    for i in range(0, length):\n",
    "        if match_type[i] == '.':\n",
    "            # substitution, low conservation\n",
    "            x_sub_low.append(i)\n",
    "            labels.append({\"text\":target[i] + str(i) + query[i], 'x':i, 'y':y_height , \n",
    "                           'font' :{'size': 12}, 'showarrow':False, 'yshift': yshift * (level % 2 + 1), 'yanchor':'middle', 'xanchor':'center'})\n",
    "           \n",
    "            if yshift < 0:\n",
    "                level = level + 1\n",
    "            yshift = -yshift\n",
    "        elif match_type[i] == ':':\n",
    "            # subsitution, high conservation\n",
    "            x_sub_high.append(i)\n",
    "            labels.append({\"text\":target[i] + str(i) + query[i], 'x' :i,  'y':y_height , \n",
    "                           'font' :{'size': 12}, 'showarrow':False, 'yshift': yshift * (level % 2 + 1), 'yanchor':'middle', 'xanchor':'center'})\n",
    "            if yshift < 0:\n",
    "                level = level + 1\n",
    "            yshift = -yshift\n",
    "        elif match_type[i] == '-':\n",
    "            # deletion or insertion\n",
    "            if target[i] =='-':\n",
    "                # insertion\n",
    "                x_insert.append(i)\n",
    "                labels.append({\"text\":str(i) + query[i], 'x' :i,  'y':y_height , \n",
    "                           'font' :{'size': 12}, 'showarrow':False, 'yshift': yshift * (level % 2 + 1), 'yanchor':'middle', 'xanchor':'center'})\n",
    "                if yshift < 0:\n",
    "                    level = level + 1\n",
    "                yshift = -yshift\n",
    "            else: \n",
    "                # deletion (alg not allowed to match gap to gap)\n",
    "                x_delete.append(i)\n",
    "                labels.append({\"text\": target[i] + str(i), 'x' :i, 'y':y_height , \n",
    "                           'font' :{'size': 12}, 'showarrow':False, 'yshift': yshift * (level % 2 + 1), 'yanchor':'middle', 'xanchor':'center'})\n",
    "                if yshift < 0:\n",
    "                    level = level + 1\n",
    "                yshift = -yshift\n",
    "                \n",
    "    total = len(x_insert)+ len(x_delete) +len(x_sub_low) + len(x_sub_high) - 4 # total number of changes\n",
    "    if total == 0:\n",
    "        # same sequence /exact match\n",
    "        labels.append({'x':680, 'y':1, 'text':'Same Sequence', 'yanchor':'bottom','showarrow':False, 'textangle':0, 'font':{'size':16}})\n",
    "        total = 1 # exact match, won't affect bars because each is 0, do want to avoid division by zero\n",
    "    counts = [len(x_insert)-1, len(x_delete) - 1, len(x_sub_low) -1 , len(x_sub_high) - 1 ]\n",
    "    names = ['Insertions', 'Deletions', 'Substitution, semi-conservative', 'Substitution, conservative']\n",
    "    \n",
    "    if debug:\n",
    "        print(total)\n",
    "\n",
    "    score_percentage = (alignments[0].score / 6722)# best score is when all positions match, match contributes score of 4\n",
    "    \n",
    "    traces =  [go.Scatter( # base gray line\n",
    "            mode = \"lines\",\n",
    "            x =  [0, length],\n",
    "            y = [y_height, y_height], \n",
    "            name = \"sequence line\",\n",
    "            line = {'color':  'gray'},\n",
    "            showlegend = False,\n",
    "            hoverinfo = 'skip',\n",
    "            visible = False\n",
    "        ),\n",
    "         go.Scatter( # S1  line\n",
    "            mode = \"lines\",\n",
    "            x =  [14, 685],\n",
    "            y = [y_height, y_height], \n",
    "            name = \"S1\",\n",
    "            line = {'color':  'plum', 'width' : 3},\n",
    "            legendgroup = 'Subunit',\n",
    "            showlegend = True,\n",
    "            hoverinfo = 'skip',\n",
    "            visible = False\n",
    "        ),\n",
    "         go.Scatter( # S2  line\n",
    "            mode = \"lines\",\n",
    "            x =  [686, 1273],\n",
    "            y = [y_height, y_height], \n",
    "            name = \"S2\",\n",
    "            line = {'color':  'pink', 'width':3},\n",
    "            legendgroup = 'Subunit',\n",
    "            showlegend = True,\n",
    "            hoverinfo = 'skip',\n",
    "            visible = False\n",
    "        ),\n",
    "        go.Scatter( # insert markers\n",
    "            mode = \"markers\",\n",
    "            x = x_insert ,\n",
    "            y = [y_height for y in x_insert], \n",
    "            name = \"insertion\",\n",
    "            marker=dict(size=8, color = 'orange', symbol = 'square'),\n",
    "            legendgroup = 'changes',\n",
    "            showlegend = True,\n",
    "            hoverinfo = 'x',\n",
    "            visible = False\n",
    "        ),\n",
    "          go.Scatter( # delete markers\n",
    "            mode = \"markers\",\n",
    "            x = x_delete,\n",
    "            y = [y_height for y in x_delete], \n",
    "            name = \"deletion\",\n",
    "            marker=dict(size=8, color = 'red', symbol = 'square'),\n",
    "            legendgroup = 'changes',\n",
    "            showlegend = True,\n",
    "            hoverinfo = 'x',\n",
    "            visible = False\n",
    "        ),\n",
    "         go.Scatter( # sub semi markers\n",
    "            mode = \"markers\",\n",
    "            x = x_sub_low ,\n",
    "            y = [y_height for y in x_sub_low], \n",
    "            name = \"substitution, semi-conservative\",\n",
    "            marker=dict(size=8, color = 'blue', symbol = 'circle'),\n",
    "            legendgroup = 'changes',\n",
    "             showlegend = True,\n",
    "            hoverinfo = 'x',\n",
    "            visible = False\n",
    "        ),\n",
    "          go.Scatter( # sub conservative markers\n",
    "            mode = \"markers\",\n",
    "            x = x_sub_high ,\n",
    "            y = [y_height for y in x_sub_high], \n",
    "            name = \"substitution, conservative\",\n",
    "            marker=dict(size=8, color = 'lightblue', symbol = 'circle'),\n",
    "            legendgroup = 'changes',\n",
    "            showlegend = True,\n",
    "            hoverinfo = 'x',\n",
    "            visible = False\n",
    "        ),\n",
    "         # go.Bar( # score bar\n",
    "          #   x = [length,  score_percentage * length], \n",
    "           #  y = [0.08, 0.08],\n",
    "            # orientation = 'h',\n",
    "             #showlegend = False,\n",
    "          #   width = 0.16,\n",
    "           #  text = [None, int(alignments[0].score)], # score should always be int, we don't need decimal precision and don't want .0 cluttering\n",
    "            # textposition = ['inside', \"outside\"],\n",
    "            # marker_color =['lightgray', 'lightgray'],\n",
    "             #marker = dict(pattern = {'bgcolor':['lightgray', 'gray'], 'shape':['', '/'], 'size':5}),\n",
    "             #hoverinfo = 'skip',\n",
    "            #visible = False\n",
    "         #) ,\n",
    "        go.Bar( # counts bars\n",
    "             name = \"counts\",\n",
    "             x = [1540, 1590, 1640,1700], \n",
    "             y = [(c/total) *0.85 for c in counts ],\n",
    "             showlegend = False,\n",
    "             width = 30,\n",
    "             text =  counts, \n",
    "             marker_color =['orange', 'red', 'blue', 'lightblue'],\n",
    "             marker = {'line' :dict(width = 2, color = ['orange','red','blue','lightblue'])},\n",
    "             textposition = 'outside',\n",
    "             hoverinfo = 'skip', # can't get the names without them in x,y,text\n",
    "            visible = False\n",
    "         )\n",
    "\n",
    "    ]\n",
    "    \n",
    "    labels.append({'x': 0.1, 'y':0 ,'text': \"Alignment Score: {:.2f}%\".format(score_percentage * 100) ,'font': { 'size': 14},'showarrow':False, 'xanchor':'left', 'yanchor':'bottom' })\n",
    "    labels.append({'x':1450, 'y':0, 'text':'counts', 'yanchor':'bottom','showarrow':False, 'textangle':0})\n",
    "    subtitle = \"{2} ({3}) difference from {0} ({1})\".format(target_row['clade'], target_row['p_accession'], query_row['clade'], query_row['p_accession'])\n",
    "    title = \"Spike Protein Comparison<br><sup>of Most Frequent Sequence of Selected Clade to Baseline <br>{0}<sup>\".format(subtitle)\n",
    "\n",
    "    return [dict(data = traces), dict(annotations = labels, title = dict(text = title, x = 0.1))]\n",
    "        \n",
    "\n",
    "def plot_alignment_plotly(df, save = False, debug = False):\n",
    "    pairwise = dict()\n",
    " \n",
    "    \n",
    "    \n",
    "    def get_state(pairwise, query):\n",
    "        states = pairwise[query]\n",
    "\n",
    "        visible = []\n",
    "        for i in range(1,20):\n",
    "            if i == query: \n",
    "                visible = visible + [True, True, True, True, True, True, True, True]\n",
    "            else:\n",
    "                visible = visible + [False, False,False,False,False,False,False,False]\n",
    "        return [dict(visible = visible),states[1]]\n",
    "    \n",
    "    \n",
    "    \n",
    "   \n",
    "    traces = []\n",
    "    for i  in range(1,20):\n",
    "        pairwise[i] = calc_traces_labels_and_subtitle(df, 0, i)\n",
    "        new_traces = pairwise[i][0]['data']\n",
    "        \n",
    "        if i == 1:\n",
    "            for t in new_traces:\n",
    "                t.visible = True\n",
    "                \n",
    "        traces = traces + new_traces\n",
    "    fig = go.Figure(traces)        \n",
    "    states = pairwise[1]\n",
    "\n",
    "    fig.update_xaxes(\n",
    "            range = [-15,1850],\n",
    "            showgrid=False, # thin lines in the background\n",
    "            zeroline= False, # thick line at x=0\n",
    "            visible= False  # numbers below\n",
    "            )\n",
    "\n",
    "    fig.update_yaxes(\n",
    "            range =[0,1.5],\n",
    "            showgrid= False, # thin lines in the background\n",
    "            zeroline= False, # thick line at x=0\n",
    "            visible= False  # numbers below\n",
    "            )\n",
    "    \n",
    "    button_layer_1_height = 0.7\n",
    "    fig.update_layout(plot_bgcolor='white',\n",
    "                      height=380,\n",
    "                      width = 1100,\n",
    "                      barmode = 'overlay',\n",
    "                      title = states[1]['title'],\n",
    "                      legend=dict(\n",
    "                                yanchor=\"middle\",\n",
    "                                y=1,\n",
    "                                xanchor=\"right\",\n",
    "                                x=1\n",
    "                    ),\n",
    "                      annotations= states[1]['annotations'],\n",
    "                      \n",
    "                      updatemenus=[\n",
    "                               \n",
    "                                  dict(\n",
    "                                    buttons=list([\n",
    "                                        dict(\n",
    "                                            label=\"19B\",\n",
    "                                             method=\"update\",\n",
    "                                             args = get_state(pairwise,query = 1)\n",
    "                                        ),\n",
    "                                        dict(\n",
    "                                            label=\"20A\",\n",
    "                                            method=\"update\",\n",
    "                                            args = get_state(pairwise,query = 2)\n",
    "                                        ),\n",
    "                                        dict(\n",
    "                                            label=\"20B\",\n",
    "                                            method=\"update\",\n",
    "                                            args = get_state(pairwise,query = 3)\n",
    "                                        ),\n",
    "                                        dict(\n",
    "                                            label=\"20C\",\n",
    "                                            method=\"update\",\n",
    "                                            args = get_state(pairwise,query = 4)\n",
    "                                        ),\n",
    "                                        dict(\n",
    "                                            label=\"20D\",\n",
    "                                            method=\"update\",\n",
    "                                            args = get_state(pairwise,query = 5)\n",
    "                                        ),\n",
    "                                        dict(\n",
    "                                            label=\"20E (EU1)\",\n",
    "                                            method=\"update\",\n",
    "                                            args = get_state(pairwise,query = 6)\n",
    "                                        ),\n",
    "                                        dict(\n",
    "                                            label=\"20G\",\n",
    "                                            method=\"update\",\n",
    "                                            args = get_state(pairwise,query = 7)\n",
    "                                        ) ,\n",
    "                                        dict(\n",
    "                                            label=\"20H (Beta, V2)\",\n",
    "                                            method=\"update\",\n",
    "                                            args = get_state(pairwise,query = 8)\n",
    "                                        )  ,\n",
    "                                        dict(\n",
    "                                            label=\"20I (Alpha, V1)\",\n",
    "                                            method=\"update\",\n",
    "                                            args = get_state(pairwise,query = 9)\n",
    "                                        ),\n",
    "                                         dict(\n",
    "                                            label=\"20J (Gamma, V3)\",\n",
    "                                             method=\"update\",\n",
    "                                             args = get_state(pairwise,query = 10)\n",
    "                                        ),\n",
    "                                        dict(\n",
    "                                            label=\"21A (Delta)\",\n",
    "                                            method=\"update\",\n",
    "                                            args = get_state(pairwise,query = 11)\n",
    "                                        ),\n",
    "                                        dict(\n",
    "                                            label=\"21B (Kappa)\",\n",
    "                                            method=\"update\",\n",
    "                                            args = get_state(pairwise,query = 12)\n",
    "                                        ),\n",
    "                                        dict(\n",
    "                                            label=\"21C (Epsilon)\",\n",
    "                                            method=\"update\",\n",
    "                                            args = get_state(pairwise,query = 13)\n",
    "                                        ),\n",
    "                                        dict(\n",
    "                                            label=\"21D (Eta)\",\n",
    "                                            method=\"update\",\n",
    "                                            args = get_state(pairwise,query = 14)\n",
    "                                        ),\n",
    "                                        dict(\n",
    "                                            label=\"21F (Iota)\",\n",
    "                                            method=\"update\",\n",
    "                                            args = get_state(pairwise,query = 15)\n",
    "                                        ),\n",
    "                                        dict(\n",
    "                                            label=\"21G (Lambda)\t\",\n",
    "                                            method=\"update\",\n",
    "                                            args = get_state(pairwise,query = 16)\n",
    "                                        ) ,\n",
    "                                        dict(\n",
    "                                            label=\"21H (Mu)\",\n",
    "                                            method=\"update\",\n",
    "                                            args = get_state(pairwise,query = 17)\n",
    "                                        )  ,\n",
    "                                        dict(\n",
    "                                            label=\"21I (Delta)\",\n",
    "                                            method=\"update\",\n",
    "                                            args = get_state(pairwise,query = 18)\n",
    "                                        ),\n",
    "                                        dict(\n",
    "                                            label=\"21J (Delta)\",\n",
    "                                            method=\"update\",\n",
    "                                            args = get_state(pairwise,query = 18)\n",
    "                                        )  \n",
    "                                        \n",
    "                                    ]),\n",
    "                                    direction = 'down',\n",
    "                                    pad={\"r\": 10, \"t\": 10},\n",
    "                                    showactive=True,\n",
    "                                    x=0.5,\n",
    "                                    xanchor=\"left\",\n",
    "                                    y=1.4,\n",
    "                                    yanchor=\"top\"\n",
    "                                    \n",
    "                                )]\n",
    "    )\n",
    "    fig.show()\n",
    "    if save:\n",
    "        fig.write_html('../../visualizations/compare_most_frequent_seq_for_each_clade_to_19A.html')"
   ]
  },
  {
   "cell_type": "code",
   "execution_count": 167,
   "id": "172faa48",
   "metadata": {},
   "outputs": [
    {
     "data": {
      "application/vnd.plotly.v1+json": {
       "config": {
        "plotlyServerURL": "https://plot.ly"
       },
       "data": [
        {
         "hoverinfo": "skip",
         "line": {
          "color": "gray"
         },
         "mode": "lines",
         "name": "sequence line",
         "showlegend": false,
         "type": "scatter",
         "visible": true,
         "x": [
          0,
          1273
         ],
         "y": [
          1,
          1
         ]
        },
        {
         "hoverinfo": "skip",
         "legendgroup": "Subunit",
         "line": {
          "color": "plum",
          "width": 3
         },
         "mode": "lines",
         "name": "S1",
         "showlegend": true,
         "type": "scatter",
         "visible": true,
         "x": [
          14,
          685
         ],
         "y": [
          1,
          1
         ]
        },
        {
         "hoverinfo": "skip",
         "legendgroup": "Subunit",
         "line": {
          "color": "pink",
          "width": 3
         },
         "mode": "lines",
         "name": "S2",
         "showlegend": true,
         "type": "scatter",
         "visible": true,
         "x": [
          686,
          1273
         ],
         "y": [
          1,
          1
         ]
        },
        {
         "hoverinfo": "x",
         "legendgroup": "changes",
         "marker": {
          "color": "orange",
          "size": 8,
          "symbol": "square"
         },
         "mode": "markers",
         "name": "insertion",
         "showlegend": true,
         "type": "scatter",
         "visible": true,
         "x": [
          null
         ],
         "y": [
          1
         ]
        },
        {
         "hoverinfo": "x",
         "legendgroup": "changes",
         "marker": {
          "color": "red",
          "size": 8,
          "symbol": "square"
         },
         "mode": "markers",
         "name": "deletion",
         "showlegend": true,
         "type": "scatter",
         "visible": true,
         "x": [
          null
         ],
         "y": [
          1
         ]
        },
        {
         "hoverinfo": "x",
         "legendgroup": "changes",
         "marker": {
          "color": "blue",
          "size": 8,
          "symbol": "circle"
         },
         "mode": "markers",
         "name": "substitution, semi-conservative",
         "showlegend": true,
         "type": "scatter",
         "visible": true,
         "x": [
          null,
          4
         ],
         "y": [
          1,
          1
         ]
        },
        {
         "hoverinfo": "x",
         "legendgroup": "changes",
         "marker": {
          "color": "lightblue",
          "size": 8,
          "symbol": "circle"
         },
         "mode": "markers",
         "name": "substitution, conservative",
         "showlegend": true,
         "type": "scatter",
         "visible": true,
         "x": [
          null
         ],
         "y": [
          1
         ]
        },
        {
         "hoverinfo": "skip",
         "marker": {
          "color": [
           "orange",
           "red",
           "blue",
           "lightblue"
          ],
          "line": {
           "color": [
            "orange",
            "red",
            "blue",
            "lightblue"
           ],
           "width": 2
          }
         },
         "name": "counts",
         "showlegend": false,
         "text": [
          "0",
          "0",
          "1",
          "0"
         ],
         "textposition": "outside",
         "type": "bar",
         "visible": true,
         "width": 30,
         "x": [
          1540,
          1590,
          1640,
          1700
         ],
         "y": [
          0,
          0,
          0.85,
          0
         ]
        },
        {
         "hoverinfo": "skip",
         "line": {
          "color": "gray"
         },
         "mode": "lines",
         "name": "sequence line",
         "showlegend": false,
         "type": "scatter",
         "visible": false,
         "x": [
          0,
          1273
         ],
         "y": [
          1,
          1
         ]
        },
        {
         "hoverinfo": "skip",
         "legendgroup": "Subunit",
         "line": {
          "color": "plum",
          "width": 3
         },
         "mode": "lines",
         "name": "S1",
         "showlegend": true,
         "type": "scatter",
         "visible": false,
         "x": [
          14,
          685
         ],
         "y": [
          1,
          1
         ]
        },
        {
         "hoverinfo": "skip",
         "legendgroup": "Subunit",
         "line": {
          "color": "pink",
          "width": 3
         },
         "mode": "lines",
         "name": "S2",
         "showlegend": true,
         "type": "scatter",
         "visible": false,
         "x": [
          686,
          1273
         ],
         "y": [
          1,
          1
         ]
        },
        {
         "hoverinfo": "x",
         "legendgroup": "changes",
         "marker": {
          "color": "orange",
          "size": 8,
          "symbol": "square"
         },
         "mode": "markers",
         "name": "insertion",
         "showlegend": true,
         "type": "scatter",
         "visible": false,
         "x": [
          null
         ],
         "y": [
          1
         ]
        },
        {
         "hoverinfo": "x",
         "legendgroup": "changes",
         "marker": {
          "color": "red",
          "size": 8,
          "symbol": "square"
         },
         "mode": "markers",
         "name": "deletion",
         "showlegend": true,
         "type": "scatter",
         "visible": false,
         "x": [
          null
         ],
         "y": [
          1
         ]
        },
        {
         "hoverinfo": "x",
         "legendgroup": "changes",
         "marker": {
          "color": "blue",
          "size": 8,
          "symbol": "circle"
         },
         "mode": "markers",
         "name": "substitution, semi-conservative",
         "showlegend": true,
         "type": "scatter",
         "visible": false,
         "x": [
          null,
          4,
          613,
          680
         ],
         "y": [
          1,
          1,
          1,
          1
         ]
        },
        {
         "hoverinfo": "x",
         "legendgroup": "changes",
         "marker": {
          "color": "lightblue",
          "size": 8,
          "symbol": "circle"
         },
         "mode": "markers",
         "name": "substitution, conservative",
         "showlegend": true,
         "type": "scatter",
         "visible": false,
         "x": [
          null
         ],
         "y": [
          1
         ]
        },
        {
         "hoverinfo": "skip",
         "marker": {
          "color": [
           "orange",
           "red",
           "blue",
           "lightblue"
          ],
          "line": {
           "color": [
            "orange",
            "red",
            "blue",
            "lightblue"
           ],
           "width": 2
          }
         },
         "name": "counts",
         "showlegend": false,
         "text": [
          "0",
          "0",
          "3",
          "0"
         ],
         "textposition": "outside",
         "type": "bar",
         "visible": false,
         "width": 30,
         "x": [
          1540,
          1590,
          1640,
          1700
         ],
         "y": [
          0,
          0,
          0.85,
          0
         ]
        },
        {
         "hoverinfo": "skip",
         "line": {
          "color": "gray"
         },
         "mode": "lines",
         "name": "sequence line",
         "showlegend": false,
         "type": "scatter",
         "visible": false,
         "x": [
          0,
          1273
         ],
         "y": [
          1,
          1
         ]
        },
        {
         "hoverinfo": "skip",
         "legendgroup": "Subunit",
         "line": {
          "color": "plum",
          "width": 3
         },
         "mode": "lines",
         "name": "S1",
         "showlegend": true,
         "type": "scatter",
         "visible": false,
         "x": [
          14,
          685
         ],
         "y": [
          1,
          1
         ]
        },
        {
         "hoverinfo": "skip",
         "legendgroup": "Subunit",
         "line": {
          "color": "pink",
          "width": 3
         },
         "mode": "lines",
         "name": "S2",
         "showlegend": true,
         "type": "scatter",
         "visible": false,
         "x": [
          686,
          1273
         ],
         "y": [
          1,
          1
         ]
        },
        {
         "hoverinfo": "x",
         "legendgroup": "changes",
         "marker": {
          "color": "orange",
          "size": 8,
          "symbol": "square"
         },
         "mode": "markers",
         "name": "insertion",
         "showlegend": true,
         "type": "scatter",
         "visible": false,
         "x": [
          null
         ],
         "y": [
          1
         ]
        },
        {
         "hoverinfo": "x",
         "legendgroup": "changes",
         "marker": {
          "color": "red",
          "size": 8,
          "symbol": "square"
         },
         "mode": "markers",
         "name": "deletion",
         "showlegend": true,
         "type": "scatter",
         "visible": false,
         "x": [
          null
         ],
         "y": [
          1
         ]
        },
        {
         "hoverinfo": "x",
         "legendgroup": "changes",
         "marker": {
          "color": "blue",
          "size": 8,
          "symbol": "circle"
         },
         "mode": "markers",
         "name": "substitution, semi-conservative",
         "showlegend": true,
         "type": "scatter",
         "visible": false,
         "x": [
          null,
          4,
          477,
          613,
          680,
          731
         ],
         "y": [
          1,
          1,
          1,
          1,
          1,
          1
         ]
        },
        {
         "hoverinfo": "x",
         "legendgroup": "changes",
         "marker": {
          "color": "lightblue",
          "size": 8,
          "symbol": "circle"
         },
         "mode": "markers",
         "name": "substitution, conservative",
         "showlegend": true,
         "type": "scatter",
         "visible": false,
         "x": [
          null
         ],
         "y": [
          1
         ]
        },
        {
         "hoverinfo": "skip",
         "marker": {
          "color": [
           "orange",
           "red",
           "blue",
           "lightblue"
          ],
          "line": {
           "color": [
            "orange",
            "red",
            "blue",
            "lightblue"
           ],
           "width": 2
          }
         },
         "name": "counts",
         "showlegend": false,
         "text": [
          "0",
          "0",
          "5",
          "0"
         ],
         "textposition": "outside",
         "type": "bar",
         "visible": false,
         "width": 30,
         "x": [
          1540,
          1590,
          1640,
          1700
         ],
         "y": [
          0,
          0,
          0.85,
          0
         ]
        },
        {
         "hoverinfo": "skip",
         "line": {
          "color": "gray"
         },
         "mode": "lines",
         "name": "sequence line",
         "showlegend": false,
         "type": "scatter",
         "visible": false,
         "x": [
          0,
          1273
         ],
         "y": [
          1,
          1
         ]
        },
        {
         "hoverinfo": "skip",
         "legendgroup": "Subunit",
         "line": {
          "color": "plum",
          "width": 3
         },
         "mode": "lines",
         "name": "S1",
         "showlegend": true,
         "type": "scatter",
         "visible": false,
         "x": [
          14,
          685
         ],
         "y": [
          1,
          1
         ]
        },
        {
         "hoverinfo": "skip",
         "legendgroup": "Subunit",
         "line": {
          "color": "pink",
          "width": 3
         },
         "mode": "lines",
         "name": "S2",
         "showlegend": true,
         "type": "scatter",
         "visible": false,
         "x": [
          686,
          1273
         ],
         "y": [
          1,
          1
         ]
        },
        {
         "hoverinfo": "x",
         "legendgroup": "changes",
         "marker": {
          "color": "orange",
          "size": 8,
          "symbol": "square"
         },
         "mode": "markers",
         "name": "insertion",
         "showlegend": true,
         "type": "scatter",
         "visible": false,
         "x": [
          null
         ],
         "y": [
          1
         ]
        },
        {
         "hoverinfo": "x",
         "legendgroup": "changes",
         "marker": {
          "color": "red",
          "size": 8,
          "symbol": "square"
         },
         "mode": "markers",
         "name": "deletion",
         "showlegend": true,
         "type": "scatter",
         "visible": false,
         "x": [
          null
         ],
         "y": [
          1
         ]
        },
        {
         "hoverinfo": "x",
         "legendgroup": "changes",
         "marker": {
          "color": "blue",
          "size": 8,
          "symbol": "circle"
         },
         "mode": "markers",
         "name": "substitution, semi-conservative",
         "showlegend": true,
         "type": "scatter",
         "visible": false,
         "x": [
          null,
          4,
          613
         ],
         "y": [
          1,
          1,
          1
         ]
        },
        {
         "hoverinfo": "x",
         "legendgroup": "changes",
         "marker": {
          "color": "lightblue",
          "size": 8,
          "symbol": "circle"
         },
         "mode": "markers",
         "name": "substitution, conservative",
         "showlegend": true,
         "type": "scatter",
         "visible": false,
         "x": [
          null
         ],
         "y": [
          1
         ]
        },
        {
         "hoverinfo": "skip",
         "marker": {
          "color": [
           "orange",
           "red",
           "blue",
           "lightblue"
          ],
          "line": {
           "color": [
            "orange",
            "red",
            "blue",
            "lightblue"
           ],
           "width": 2
          }
         },
         "name": "counts",
         "showlegend": false,
         "text": [
          "0",
          "0",
          "2",
          "0"
         ],
         "textposition": "outside",
         "type": "bar",
         "visible": false,
         "width": 30,
         "x": [
          1540,
          1590,
          1640,
          1700
         ],
         "y": [
          0,
          0,
          0.85,
          0
         ]
        },
        {
         "hoverinfo": "skip",
         "line": {
          "color": "gray"
         },
         "mode": "lines",
         "name": "sequence line",
         "showlegend": false,
         "type": "scatter",
         "visible": false,
         "x": [
          0,
          1273
         ],
         "y": [
          1,
          1
         ]
        },
        {
         "hoverinfo": "skip",
         "legendgroup": "Subunit",
         "line": {
          "color": "plum",
          "width": 3
         },
         "mode": "lines",
         "name": "S1",
         "showlegend": true,
         "type": "scatter",
         "visible": false,
         "x": [
          14,
          685
         ],
         "y": [
          1,
          1
         ]
        },
        {
         "hoverinfo": "skip",
         "legendgroup": "Subunit",
         "line": {
          "color": "pink",
          "width": 3
         },
         "mode": "lines",
         "name": "S2",
         "showlegend": true,
         "type": "scatter",
         "visible": false,
         "x": [
          686,
          1273
         ],
         "y": [
          1,
          1
         ]
        },
        {
         "hoverinfo": "x",
         "legendgroup": "changes",
         "marker": {
          "color": "orange",
          "size": 8,
          "symbol": "square"
         },
         "mode": "markers",
         "name": "insertion",
         "showlegend": true,
         "type": "scatter",
         "visible": false,
         "x": [
          null
         ],
         "y": [
          1
         ]
        },
        {
         "hoverinfo": "x",
         "legendgroup": "changes",
         "marker": {
          "color": "red",
          "size": 8,
          "symbol": "square"
         },
         "mode": "markers",
         "name": "deletion",
         "showlegend": true,
         "type": "scatter",
         "visible": false,
         "x": [
          null
         ],
         "y": [
          1
         ]
        },
        {
         "hoverinfo": "x",
         "legendgroup": "changes",
         "marker": {
          "color": "blue",
          "size": 8,
          "symbol": "circle"
         },
         "mode": "markers",
         "name": "substitution, semi-conservative",
         "showlegend": true,
         "type": "scatter",
         "visible": false,
         "x": [
          null,
          76,
          94,
          252,
          476,
          613,
          956,
          1249
         ],
         "y": [
          1,
          1,
          1,
          1,
          1,
          1,
          1,
          1
         ]
        },
        {
         "hoverinfo": "x",
         "legendgroup": "changes",
         "marker": {
          "color": "lightblue",
          "size": 8,
          "symbol": "circle"
         },
         "mode": "markers",
         "name": "substitution, conservative",
         "showlegend": true,
         "type": "scatter",
         "visible": false,
         "x": [
          null
         ],
         "y": [
          1
         ]
        },
        {
         "hoverinfo": "skip",
         "marker": {
          "color": [
           "orange",
           "red",
           "blue",
           "lightblue"
          ],
          "line": {
           "color": [
            "orange",
            "red",
            "blue",
            "lightblue"
           ],
           "width": 2
          }
         },
         "name": "counts",
         "showlegend": false,
         "text": [
          "0",
          "0",
          "7",
          "0"
         ],
         "textposition": "outside",
         "type": "bar",
         "visible": false,
         "width": 30,
         "x": [
          1540,
          1590,
          1640,
          1700
         ],
         "y": [
          0,
          0,
          0.85,
          0
         ]
        },
        {
         "hoverinfo": "skip",
         "line": {
          "color": "gray"
         },
         "mode": "lines",
         "name": "sequence line",
         "showlegend": false,
         "type": "scatter",
         "visible": false,
         "x": [
          0,
          1273
         ],
         "y": [
          1,
          1
         ]
        },
        {
         "hoverinfo": "skip",
         "legendgroup": "Subunit",
         "line": {
          "color": "plum",
          "width": 3
         },
         "mode": "lines",
         "name": "S1",
         "showlegend": true,
         "type": "scatter",
         "visible": false,
         "x": [
          14,
          685
         ],
         "y": [
          1,
          1
         ]
        },
        {
         "hoverinfo": "skip",
         "legendgroup": "Subunit",
         "line": {
          "color": "pink",
          "width": 3
         },
         "mode": "lines",
         "name": "S2",
         "showlegend": true,
         "type": "scatter",
         "visible": false,
         "x": [
          686,
          1273
         ],
         "y": [
          1,
          1
         ]
        },
        {
         "hoverinfo": "x",
         "legendgroup": "changes",
         "marker": {
          "color": "orange",
          "size": 8,
          "symbol": "square"
         },
         "mode": "markers",
         "name": "insertion",
         "showlegend": true,
         "type": "scatter",
         "visible": false,
         "x": [
          null
         ],
         "y": [
          1
         ]
        },
        {
         "hoverinfo": "x",
         "legendgroup": "changes",
         "marker": {
          "color": "red",
          "size": 8,
          "symbol": "square"
         },
         "mode": "markers",
         "name": "deletion",
         "showlegend": true,
         "type": "scatter",
         "visible": false,
         "x": [
          null
         ],
         "y": [
          1
         ]
        },
        {
         "hoverinfo": "x",
         "legendgroup": "changes",
         "marker": {
          "color": "blue",
          "size": 8,
          "symbol": "circle"
         },
         "mode": "markers",
         "name": "substitution, semi-conservative",
         "showlegend": true,
         "type": "scatter",
         "visible": false,
         "x": [
          null,
          4,
          221,
          613
         ],
         "y": [
          1,
          1,
          1,
          1
         ]
        },
        {
         "hoverinfo": "x",
         "legendgroup": "changes",
         "marker": {
          "color": "lightblue",
          "size": 8,
          "symbol": "circle"
         },
         "mode": "markers",
         "name": "substitution, conservative",
         "showlegend": true,
         "type": "scatter",
         "visible": false,
         "x": [
          null
         ],
         "y": [
          1
         ]
        },
        {
         "hoverinfo": "skip",
         "marker": {
          "color": [
           "orange",
           "red",
           "blue",
           "lightblue"
          ],
          "line": {
           "color": [
            "orange",
            "red",
            "blue",
            "lightblue"
           ],
           "width": 2
          }
         },
         "name": "counts",
         "showlegend": false,
         "text": [
          "0",
          "0",
          "3",
          "0"
         ],
         "textposition": "outside",
         "type": "bar",
         "visible": false,
         "width": 30,
         "x": [
          1540,
          1590,
          1640,
          1700
         ],
         "y": [
          0,
          0,
          0.85,
          0
         ]
        },
        {
         "hoverinfo": "skip",
         "line": {
          "color": "gray"
         },
         "mode": "lines",
         "name": "sequence line",
         "showlegend": false,
         "type": "scatter",
         "visible": false,
         "x": [
          0,
          1273
         ],
         "y": [
          1,
          1
         ]
        },
        {
         "hoverinfo": "skip",
         "legendgroup": "Subunit",
         "line": {
          "color": "plum",
          "width": 3
         },
         "mode": "lines",
         "name": "S1",
         "showlegend": true,
         "type": "scatter",
         "visible": false,
         "x": [
          14,
          685
         ],
         "y": [
          1,
          1
         ]
        },
        {
         "hoverinfo": "skip",
         "legendgroup": "Subunit",
         "line": {
          "color": "pink",
          "width": 3
         },
         "mode": "lines",
         "name": "S2",
         "showlegend": true,
         "type": "scatter",
         "visible": false,
         "x": [
          686,
          1273
         ],
         "y": [
          1,
          1
         ]
        },
        {
         "hoverinfo": "x",
         "legendgroup": "changes",
         "marker": {
          "color": "orange",
          "size": 8,
          "symbol": "square"
         },
         "mode": "markers",
         "name": "insertion",
         "showlegend": true,
         "type": "scatter",
         "visible": false,
         "x": [
          null
         ],
         "y": [
          1
         ]
        },
        {
         "hoverinfo": "x",
         "legendgroup": "changes",
         "marker": {
          "color": "red",
          "size": 8,
          "symbol": "square"
         },
         "mode": "markers",
         "name": "deletion",
         "showlegend": true,
         "type": "scatter",
         "visible": false,
         "x": [
          null
         ],
         "y": [
          1
         ]
        },
        {
         "hoverinfo": "x",
         "legendgroup": "changes",
         "marker": {
          "color": "blue",
          "size": 8,
          "symbol": "circle"
         },
         "mode": "markers",
         "name": "substitution, semi-conservative",
         "showlegend": true,
         "type": "scatter",
         "visible": false,
         "x": [
          null,
          4,
          613
         ],
         "y": [
          1,
          1,
          1
         ]
        },
        {
         "hoverinfo": "x",
         "legendgroup": "changes",
         "marker": {
          "color": "lightblue",
          "size": 8,
          "symbol": "circle"
         },
         "mode": "markers",
         "name": "substitution, conservative",
         "showlegend": true,
         "type": "scatter",
         "visible": false,
         "x": [
          null
         ],
         "y": [
          1
         ]
        },
        {
         "hoverinfo": "skip",
         "marker": {
          "color": [
           "orange",
           "red",
           "blue",
           "lightblue"
          ],
          "line": {
           "color": [
            "orange",
            "red",
            "blue",
            "lightblue"
           ],
           "width": 2
          }
         },
         "name": "counts",
         "showlegend": false,
         "text": [
          "0",
          "0",
          "2",
          "0"
         ],
         "textposition": "outside",
         "type": "bar",
         "visible": false,
         "width": 30,
         "x": [
          1540,
          1590,
          1640,
          1700
         ],
         "y": [
          0,
          0,
          0.85,
          0
         ]
        },
        {
         "hoverinfo": "skip",
         "line": {
          "color": "gray"
         },
         "mode": "lines",
         "name": "sequence line",
         "showlegend": false,
         "type": "scatter",
         "visible": false,
         "x": [
          0,
          1273
         ],
         "y": [
          1,
          1
         ]
        },
        {
         "hoverinfo": "skip",
         "legendgroup": "Subunit",
         "line": {
          "color": "plum",
          "width": 3
         },
         "mode": "lines",
         "name": "S1",
         "showlegend": true,
         "type": "scatter",
         "visible": false,
         "x": [
          14,
          685
         ],
         "y": [
          1,
          1
         ]
        },
        {
         "hoverinfo": "skip",
         "legendgroup": "Subunit",
         "line": {
          "color": "pink",
          "width": 3
         },
         "mode": "lines",
         "name": "S2",
         "showlegend": true,
         "type": "scatter",
         "visible": false,
         "x": [
          686,
          1273
         ],
         "y": [
          1,
          1
         ]
        },
        {
         "hoverinfo": "x",
         "legendgroup": "changes",
         "marker": {
          "color": "orange",
          "size": 8,
          "symbol": "square"
         },
         "mode": "markers",
         "name": "insertion",
         "showlegend": true,
         "type": "scatter",
         "visible": false,
         "x": [
          null
         ],
         "y": [
          1
         ]
        },
        {
         "hoverinfo": "x",
         "legendgroup": "changes",
         "marker": {
          "color": "red",
          "size": 8,
          "symbol": "square"
         },
         "mode": "markers",
         "name": "deletion",
         "showlegend": true,
         "type": "scatter",
         "visible": false,
         "x": [
          null,
          240,
          241,
          242
         ],
         "y": [
          1,
          1,
          1,
          1
         ]
        },
        {
         "hoverinfo": "x",
         "legendgroup": "changes",
         "marker": {
          "color": "blue",
          "size": 8,
          "symbol": "circle"
         },
         "mode": "markers",
         "name": "substitution, semi-conservative",
         "showlegend": true,
         "type": "scatter",
         "visible": false,
         "x": [
          null,
          4,
          17,
          79,
          137,
          214,
          416,
          483,
          500,
          613,
          700
         ],
         "y": [
          1,
          1,
          1,
          1,
          1,
          1,
          1,
          1,
          1,
          1,
          1
         ]
        },
        {
         "hoverinfo": "x",
         "legendgroup": "changes",
         "marker": {
          "color": "lightblue",
          "size": 8,
          "symbol": "circle"
         },
         "mode": "markers",
         "name": "substitution, conservative",
         "showlegend": true,
         "type": "scatter",
         "visible": false,
         "x": [
          null
         ],
         "y": [
          1
         ]
        },
        {
         "hoverinfo": "skip",
         "marker": {
          "color": [
           "orange",
           "red",
           "blue",
           "lightblue"
          ],
          "line": {
           "color": [
            "orange",
            "red",
            "blue",
            "lightblue"
           ],
           "width": 2
          }
         },
         "name": "counts",
         "showlegend": false,
         "text": [
          "0",
          "3",
          "10",
          "0"
         ],
         "textposition": "outside",
         "type": "bar",
         "visible": false,
         "width": 30,
         "x": [
          1540,
          1590,
          1640,
          1700
         ],
         "y": [
          0,
          0.19615384615384615,
          0.6538461538461539,
          0
         ]
        },
        {
         "hoverinfo": "skip",
         "line": {
          "color": "gray"
         },
         "mode": "lines",
         "name": "sequence line",
         "showlegend": false,
         "type": "scatter",
         "visible": false,
         "x": [
          0,
          1273
         ],
         "y": [
          1,
          1
         ]
        },
        {
         "hoverinfo": "skip",
         "legendgroup": "Subunit",
         "line": {
          "color": "plum",
          "width": 3
         },
         "mode": "lines",
         "name": "S1",
         "showlegend": true,
         "type": "scatter",
         "visible": false,
         "x": [
          14,
          685
         ],
         "y": [
          1,
          1
         ]
        },
        {
         "hoverinfo": "skip",
         "legendgroup": "Subunit",
         "line": {
          "color": "pink",
          "width": 3
         },
         "mode": "lines",
         "name": "S2",
         "showlegend": true,
         "type": "scatter",
         "visible": false,
         "x": [
          686,
          1273
         ],
         "y": [
          1,
          1
         ]
        },
        {
         "hoverinfo": "x",
         "legendgroup": "changes",
         "marker": {
          "color": "orange",
          "size": 8,
          "symbol": "square"
         },
         "mode": "markers",
         "name": "insertion",
         "showlegend": true,
         "type": "scatter",
         "visible": false,
         "x": [
          null
         ],
         "y": [
          1
         ]
        },
        {
         "hoverinfo": "x",
         "legendgroup": "changes",
         "marker": {
          "color": "red",
          "size": 8,
          "symbol": "square"
         },
         "mode": "markers",
         "name": "deletion",
         "showlegend": true,
         "type": "scatter",
         "visible": false,
         "x": [
          null
         ],
         "y": [
          1
         ]
        },
        {
         "hoverinfo": "x",
         "legendgroup": "changes",
         "marker": {
          "color": "blue",
          "size": 8,
          "symbol": "circle"
         },
         "mode": "markers",
         "name": "substitution, semi-conservative",
         "showlegend": true,
         "type": "scatter",
         "visible": false,
         "x": [
          null,
          94,
          252,
          483,
          613,
          700,
          817
         ],
         "y": [
          1,
          1,
          1,
          1,
          1,
          1,
          1
         ]
        },
        {
         "hoverinfo": "x",
         "legendgroup": "changes",
         "marker": {
          "color": "lightblue",
          "size": 8,
          "symbol": "circle"
         },
         "mode": "markers",
         "name": "substitution, conservative",
         "showlegend": true,
         "type": "scatter",
         "visible": false,
         "x": [
          null
         ],
         "y": [
          1
         ]
        },
        {
         "hoverinfo": "skip",
         "marker": {
          "color": [
           "orange",
           "red",
           "blue",
           "lightblue"
          ],
          "line": {
           "color": [
            "orange",
            "red",
            "blue",
            "lightblue"
           ],
           "width": 2
          }
         },
         "name": "counts",
         "showlegend": false,
         "text": [
          "0",
          "0",
          "6",
          "0"
         ],
         "textposition": "outside",
         "type": "bar",
         "visible": false,
         "width": 30,
         "x": [
          1540,
          1590,
          1640,
          1700
         ],
         "y": [
          0,
          0,
          0.85,
          0
         ]
        },
        {
         "hoverinfo": "skip",
         "line": {
          "color": "gray"
         },
         "mode": "lines",
         "name": "sequence line",
         "showlegend": false,
         "type": "scatter",
         "visible": false,
         "x": [
          0,
          1273
         ],
         "y": [
          1,
          1
         ]
        },
        {
         "hoverinfo": "skip",
         "legendgroup": "Subunit",
         "line": {
          "color": "plum",
          "width": 3
         },
         "mode": "lines",
         "name": "S1",
         "showlegend": true,
         "type": "scatter",
         "visible": false,
         "x": [
          14,
          685
         ],
         "y": [
          1,
          1
         ]
        },
        {
         "hoverinfo": "skip",
         "legendgroup": "Subunit",
         "line": {
          "color": "pink",
          "width": 3
         },
         "mode": "lines",
         "name": "S2",
         "showlegend": true,
         "type": "scatter",
         "visible": false,
         "x": [
          686,
          1273
         ],
         "y": [
          1,
          1
         ]
        },
        {
         "hoverinfo": "x",
         "legendgroup": "changes",
         "marker": {
          "color": "orange",
          "size": 8,
          "symbol": "square"
         },
         "mode": "markers",
         "name": "insertion",
         "showlegend": true,
         "type": "scatter",
         "visible": false,
         "x": [
          null
         ],
         "y": [
          1
         ]
        },
        {
         "hoverinfo": "x",
         "legendgroup": "changes",
         "marker": {
          "color": "red",
          "size": 8,
          "symbol": "square"
         },
         "mode": "markers",
         "name": "deletion",
         "showlegend": true,
         "type": "scatter",
         "visible": false,
         "x": [
          null
         ],
         "y": [
          1
         ]
        },
        {
         "hoverinfo": "x",
         "legendgroup": "changes",
         "marker": {
          "color": "blue",
          "size": 8,
          "symbol": "circle"
         },
         "mode": "markers",
         "name": "substitution, semi-conservative",
         "showlegend": true,
         "type": "scatter",
         "visible": false,
         "x": [
          null,
          4,
          17,
          19,
          25,
          137,
          189,
          416,
          483,
          500,
          613,
          654,
          1026,
          1175
         ],
         "y": [
          1,
          1,
          1,
          1,
          1,
          1,
          1,
          1,
          1,
          1,
          1,
          1,
          1,
          1
         ]
        },
        {
         "hoverinfo": "x",
         "legendgroup": "changes",
         "marker": {
          "color": "lightblue",
          "size": 8,
          "symbol": "circle"
         },
         "mode": "markers",
         "name": "substitution, conservative",
         "showlegend": true,
         "type": "scatter",
         "visible": false,
         "x": [
          null
         ],
         "y": [
          1
         ]
        },
        {
         "hoverinfo": "skip",
         "marker": {
          "color": [
           "orange",
           "red",
           "blue",
           "lightblue"
          ],
          "line": {
           "color": [
            "orange",
            "red",
            "blue",
            "lightblue"
           ],
           "width": 2
          }
         },
         "name": "counts",
         "showlegend": false,
         "text": [
          "0",
          "0",
          "13",
          "0"
         ],
         "textposition": "outside",
         "type": "bar",
         "visible": false,
         "width": 30,
         "x": [
          1540,
          1590,
          1640,
          1700
         ],
         "y": [
          0,
          0,
          0.85,
          0
         ]
        },
        {
         "hoverinfo": "skip",
         "line": {
          "color": "gray"
         },
         "mode": "lines",
         "name": "sequence line",
         "showlegend": false,
         "type": "scatter",
         "visible": false,
         "x": [
          0,
          1273
         ],
         "y": [
          1,
          1
         ]
        },
        {
         "hoverinfo": "skip",
         "legendgroup": "Subunit",
         "line": {
          "color": "plum",
          "width": 3
         },
         "mode": "lines",
         "name": "S1",
         "showlegend": true,
         "type": "scatter",
         "visible": false,
         "x": [
          14,
          685
         ],
         "y": [
          1,
          1
         ]
        },
        {
         "hoverinfo": "skip",
         "legendgroup": "Subunit",
         "line": {
          "color": "pink",
          "width": 3
         },
         "mode": "lines",
         "name": "S2",
         "showlegend": true,
         "type": "scatter",
         "visible": false,
         "x": [
          686,
          1273
         ],
         "y": [
          1,
          1
         ]
        },
        {
         "hoverinfo": "x",
         "legendgroup": "changes",
         "marker": {
          "color": "orange",
          "size": 8,
          "symbol": "square"
         },
         "mode": "markers",
         "name": "insertion",
         "showlegend": true,
         "type": "scatter",
         "visible": false,
         "x": [
          null
         ],
         "y": [
          1
         ]
        },
        {
         "hoverinfo": "x",
         "legendgroup": "changes",
         "marker": {
          "color": "red",
          "size": 8,
          "symbol": "square"
         },
         "mode": "markers",
         "name": "deletion",
         "showlegend": true,
         "type": "scatter",
         "visible": false,
         "x": [
          null,
          155,
          156
         ],
         "y": [
          1,
          1,
          1
         ]
        },
        {
         "hoverinfo": "x",
         "legendgroup": "changes",
         "marker": {
          "color": "blue",
          "size": 8,
          "symbol": "circle"
         },
         "mode": "markers",
         "name": "substitution, semi-conservative",
         "showlegend": true,
         "type": "scatter",
         "visible": false,
         "x": [
          null,
          4,
          18,
          76,
          141,
          157,
          451,
          477,
          613,
          680,
          949
         ],
         "y": [
          1,
          1,
          1,
          1,
          1,
          1,
          1,
          1,
          1,
          1,
          1
         ]
        },
        {
         "hoverinfo": "x",
         "legendgroup": "changes",
         "marker": {
          "color": "lightblue",
          "size": 8,
          "symbol": "circle"
         },
         "mode": "markers",
         "name": "substitution, conservative",
         "showlegend": true,
         "type": "scatter",
         "visible": false,
         "x": [
          null
         ],
         "y": [
          1
         ]
        },
        {
         "hoverinfo": "skip",
         "marker": {
          "color": [
           "orange",
           "red",
           "blue",
           "lightblue"
          ],
          "line": {
           "color": [
            "orange",
            "red",
            "blue",
            "lightblue"
           ],
           "width": 2
          }
         },
         "name": "counts",
         "showlegend": false,
         "text": [
          "0",
          "2",
          "10",
          "0"
         ],
         "textposition": "outside",
         "type": "bar",
         "visible": false,
         "width": 30,
         "x": [
          1540,
          1590,
          1640,
          1700
         ],
         "y": [
          0,
          0.14166666666666666,
          0.7083333333333334,
          0
         ]
        },
        {
         "hoverinfo": "skip",
         "line": {
          "color": "gray"
         },
         "mode": "lines",
         "name": "sequence line",
         "showlegend": false,
         "type": "scatter",
         "visible": false,
         "x": [
          0,
          1273
         ],
         "y": [
          1,
          1
         ]
        },
        {
         "hoverinfo": "skip",
         "legendgroup": "Subunit",
         "line": {
          "color": "plum",
          "width": 3
         },
         "mode": "lines",
         "name": "S1",
         "showlegend": true,
         "type": "scatter",
         "visible": false,
         "x": [
          14,
          685
         ],
         "y": [
          1,
          1
         ]
        },
        {
         "hoverinfo": "skip",
         "legendgroup": "Subunit",
         "line": {
          "color": "pink",
          "width": 3
         },
         "mode": "lines",
         "name": "S2",
         "showlegend": true,
         "type": "scatter",
         "visible": false,
         "x": [
          686,
          1273
         ],
         "y": [
          1,
          1
         ]
        },
        {
         "hoverinfo": "x",
         "legendgroup": "changes",
         "marker": {
          "color": "orange",
          "size": 8,
          "symbol": "square"
         },
         "mode": "markers",
         "name": "insertion",
         "showlegend": true,
         "type": "scatter",
         "visible": false,
         "x": [
          null
         ],
         "y": [
          1
         ]
        },
        {
         "hoverinfo": "x",
         "legendgroup": "changes",
         "marker": {
          "color": "red",
          "size": 8,
          "symbol": "square"
         },
         "mode": "markers",
         "name": "deletion",
         "showlegend": true,
         "type": "scatter",
         "visible": false,
         "x": [
          null
         ],
         "y": [
          1
         ]
        },
        {
         "hoverinfo": "x",
         "legendgroup": "changes",
         "marker": {
          "color": "blue",
          "size": 8,
          "symbol": "circle"
         },
         "mode": "markers",
         "name": "substitution, semi-conservative",
         "showlegend": true,
         "type": "scatter",
         "visible": false,
         "x": [
          null,
          4,
          94,
          141,
          153,
          451,
          483,
          613,
          680,
          1070
         ],
         "y": [
          1,
          1,
          1,
          1,
          1,
          1,
          1,
          1,
          1,
          1
         ]
        },
        {
         "hoverinfo": "x",
         "legendgroup": "changes",
         "marker": {
          "color": "lightblue",
          "size": 8,
          "symbol": "circle"
         },
         "mode": "markers",
         "name": "substitution, conservative",
         "showlegend": true,
         "type": "scatter",
         "visible": false,
         "x": [
          null
         ],
         "y": [
          1
         ]
        },
        {
         "hoverinfo": "skip",
         "marker": {
          "color": [
           "orange",
           "red",
           "blue",
           "lightblue"
          ],
          "line": {
           "color": [
            "orange",
            "red",
            "blue",
            "lightblue"
           ],
           "width": 2
          }
         },
         "name": "counts",
         "showlegend": false,
         "text": [
          "0",
          "0",
          "9",
          "0"
         ],
         "textposition": "outside",
         "type": "bar",
         "visible": false,
         "width": 30,
         "x": [
          1540,
          1590,
          1640,
          1700
         ],
         "y": [
          0,
          0,
          0.85,
          0
         ]
        },
        {
         "hoverinfo": "skip",
         "line": {
          "color": "gray"
         },
         "mode": "lines",
         "name": "sequence line",
         "showlegend": false,
         "type": "scatter",
         "visible": false,
         "x": [
          0,
          1273
         ],
         "y": [
          1,
          1
         ]
        },
        {
         "hoverinfo": "skip",
         "legendgroup": "Subunit",
         "line": {
          "color": "plum",
          "width": 3
         },
         "mode": "lines",
         "name": "S1",
         "showlegend": true,
         "type": "scatter",
         "visible": false,
         "x": [
          14,
          685
         ],
         "y": [
          1,
          1
         ]
        },
        {
         "hoverinfo": "skip",
         "legendgroup": "Subunit",
         "line": {
          "color": "pink",
          "width": 3
         },
         "mode": "lines",
         "name": "S2",
         "showlegend": true,
         "type": "scatter",
         "visible": false,
         "x": [
          686,
          1273
         ],
         "y": [
          1,
          1
         ]
        },
        {
         "hoverinfo": "x",
         "legendgroup": "changes",
         "marker": {
          "color": "orange",
          "size": 8,
          "symbol": "square"
         },
         "mode": "markers",
         "name": "insertion",
         "showlegend": true,
         "type": "scatter",
         "visible": false,
         "x": [
          null
         ],
         "y": [
          1
         ]
        },
        {
         "hoverinfo": "x",
         "legendgroup": "changes",
         "marker": {
          "color": "red",
          "size": 8,
          "symbol": "square"
         },
         "mode": "markers",
         "name": "deletion",
         "showlegend": true,
         "type": "scatter",
         "visible": false,
         "x": [
          null
         ],
         "y": [
          1
         ]
        },
        {
         "hoverinfo": "x",
         "legendgroup": "changes",
         "marker": {
          "color": "blue",
          "size": 8,
          "symbol": "circle"
         },
         "mode": "markers",
         "name": "substitution, semi-conservative",
         "showlegend": true,
         "type": "scatter",
         "visible": false,
         "x": [
          null,
          4,
          12,
          151,
          451,
          613
         ],
         "y": [
          1,
          1,
          1,
          1,
          1,
          1
         ]
        },
        {
         "hoverinfo": "x",
         "legendgroup": "changes",
         "marker": {
          "color": "lightblue",
          "size": 8,
          "symbol": "circle"
         },
         "mode": "markers",
         "name": "substitution, conservative",
         "showlegend": true,
         "type": "scatter",
         "visible": false,
         "x": [
          null
         ],
         "y": [
          1
         ]
        },
        {
         "hoverinfo": "skip",
         "marker": {
          "color": [
           "orange",
           "red",
           "blue",
           "lightblue"
          ],
          "line": {
           "color": [
            "orange",
            "red",
            "blue",
            "lightblue"
           ],
           "width": 2
          }
         },
         "name": "counts",
         "showlegend": false,
         "text": [
          "0",
          "0",
          "5",
          "0"
         ],
         "textposition": "outside",
         "type": "bar",
         "visible": false,
         "width": 30,
         "x": [
          1540,
          1590,
          1640,
          1700
         ],
         "y": [
          0,
          0,
          0.85,
          0
         ]
        },
        {
         "hoverinfo": "skip",
         "line": {
          "color": "gray"
         },
         "mode": "lines",
         "name": "sequence line",
         "showlegend": false,
         "type": "scatter",
         "visible": false,
         "x": [
          0,
          1273
         ],
         "y": [
          1,
          1
         ]
        },
        {
         "hoverinfo": "skip",
         "legendgroup": "Subunit",
         "line": {
          "color": "plum",
          "width": 3
         },
         "mode": "lines",
         "name": "S1",
         "showlegend": true,
         "type": "scatter",
         "visible": false,
         "x": [
          14,
          685
         ],
         "y": [
          1,
          1
         ]
        },
        {
         "hoverinfo": "skip",
         "legendgroup": "Subunit",
         "line": {
          "color": "pink",
          "width": 3
         },
         "mode": "lines",
         "name": "S2",
         "showlegend": true,
         "type": "scatter",
         "visible": false,
         "x": [
          686,
          1273
         ],
         "y": [
          1,
          1
         ]
        },
        {
         "hoverinfo": "x",
         "legendgroup": "changes",
         "marker": {
          "color": "orange",
          "size": 8,
          "symbol": "square"
         },
         "mode": "markers",
         "name": "insertion",
         "showlegend": true,
         "type": "scatter",
         "visible": false,
         "x": [
          null
         ],
         "y": [
          1
         ]
        },
        {
         "hoverinfo": "x",
         "legendgroup": "changes",
         "marker": {
          "color": "red",
          "size": 8,
          "symbol": "square"
         },
         "mode": "markers",
         "name": "deletion",
         "showlegend": true,
         "type": "scatter",
         "visible": false,
         "x": [
          null
         ],
         "y": [
          1
         ]
        },
        {
         "hoverinfo": "x",
         "legendgroup": "changes",
         "marker": {
          "color": "blue",
          "size": 8,
          "symbol": "circle"
         },
         "mode": "markers",
         "name": "substitution, semi-conservative",
         "showlegend": true,
         "type": "scatter",
         "visible": false,
         "x": [
          null,
          4,
          483,
          613,
          1175
         ],
         "y": [
          1,
          1,
          1,
          1,
          1
         ]
        },
        {
         "hoverinfo": "x",
         "legendgroup": "changes",
         "marker": {
          "color": "lightblue",
          "size": 8,
          "symbol": "circle"
         },
         "mode": "markers",
         "name": "substitution, conservative",
         "showlegend": true,
         "type": "scatter",
         "visible": false,
         "x": [
          null
         ],
         "y": [
          1
         ]
        },
        {
         "hoverinfo": "skip",
         "marker": {
          "color": [
           "orange",
           "red",
           "blue",
           "lightblue"
          ],
          "line": {
           "color": [
            "orange",
            "red",
            "blue",
            "lightblue"
           ],
           "width": 2
          }
         },
         "name": "counts",
         "showlegend": false,
         "text": [
          "0",
          "0",
          "4",
          "0"
         ],
         "textposition": "outside",
         "type": "bar",
         "visible": false,
         "width": 30,
         "x": [
          1540,
          1590,
          1640,
          1700
         ],
         "y": [
          0,
          0,
          0.85,
          0
         ]
        },
        {
         "hoverinfo": "skip",
         "line": {
          "color": "gray"
         },
         "mode": "lines",
         "name": "sequence line",
         "showlegend": false,
         "type": "scatter",
         "visible": false,
         "x": [
          0,
          1273
         ],
         "y": [
          1,
          1
         ]
        },
        {
         "hoverinfo": "skip",
         "legendgroup": "Subunit",
         "line": {
          "color": "plum",
          "width": 3
         },
         "mode": "lines",
         "name": "S1",
         "showlegend": true,
         "type": "scatter",
         "visible": false,
         "x": [
          14,
          685
         ],
         "y": [
          1,
          1
         ]
        },
        {
         "hoverinfo": "skip",
         "legendgroup": "Subunit",
         "line": {
          "color": "pink",
          "width": 3
         },
         "mode": "lines",
         "name": "S2",
         "showlegend": true,
         "type": "scatter",
         "visible": false,
         "x": [
          686,
          1273
         ],
         "y": [
          1,
          1
         ]
        },
        {
         "hoverinfo": "x",
         "legendgroup": "changes",
         "marker": {
          "color": "orange",
          "size": 8,
          "symbol": "square"
         },
         "mode": "markers",
         "name": "insertion",
         "showlegend": true,
         "type": "scatter",
         "visible": false,
         "x": [
          null
         ],
         "y": [
          1
         ]
        },
        {
         "hoverinfo": "x",
         "legendgroup": "changes",
         "marker": {
          "color": "red",
          "size": 8,
          "symbol": "square"
         },
         "mode": "markers",
         "name": "deletion",
         "showlegend": true,
         "type": "scatter",
         "visible": false,
         "x": [
          null
         ],
         "y": [
          1
         ]
        },
        {
         "hoverinfo": "x",
         "legendgroup": "changes",
         "marker": {
          "color": "blue",
          "size": 8,
          "symbol": "circle"
         },
         "mode": "markers",
         "name": "substitution, semi-conservative",
         "showlegend": true,
         "type": "scatter",
         "visible": false,
         "x": [
          null,
          94,
          252,
          476,
          613,
          956
         ],
         "y": [
          1,
          1,
          1,
          1,
          1,
          1
         ]
        },
        {
         "hoverinfo": "x",
         "legendgroup": "changes",
         "marker": {
          "color": "lightblue",
          "size": 8,
          "symbol": "circle"
         },
         "mode": "markers",
         "name": "substitution, conservative",
         "showlegend": true,
         "type": "scatter",
         "visible": false,
         "x": [
          null
         ],
         "y": [
          1
         ]
        },
        {
         "hoverinfo": "skip",
         "marker": {
          "color": [
           "orange",
           "red",
           "blue",
           "lightblue"
          ],
          "line": {
           "color": [
            "orange",
            "red",
            "blue",
            "lightblue"
           ],
           "width": 2
          }
         },
         "name": "counts",
         "showlegend": false,
         "text": [
          "0",
          "0",
          "5",
          "0"
         ],
         "textposition": "outside",
         "type": "bar",
         "visible": false,
         "width": 30,
         "x": [
          1540,
          1590,
          1640,
          1700
         ],
         "y": [
          0,
          0,
          0.85,
          0
         ]
        },
        {
         "hoverinfo": "skip",
         "line": {
          "color": "gray"
         },
         "mode": "lines",
         "name": "sequence line",
         "showlegend": false,
         "type": "scatter",
         "visible": false,
         "x": [
          0,
          1273
         ],
         "y": [
          1,
          1
         ]
        },
        {
         "hoverinfo": "skip",
         "legendgroup": "Subunit",
         "line": {
          "color": "plum",
          "width": 3
         },
         "mode": "lines",
         "name": "S1",
         "showlegend": true,
         "type": "scatter",
         "visible": false,
         "x": [
          14,
          685
         ],
         "y": [
          1,
          1
         ]
        },
        {
         "hoverinfo": "skip",
         "legendgroup": "Subunit",
         "line": {
          "color": "pink",
          "width": 3
         },
         "mode": "lines",
         "name": "S2",
         "showlegend": true,
         "type": "scatter",
         "visible": false,
         "x": [
          686,
          1273
         ],
         "y": [
          1,
          1
         ]
        },
        {
         "hoverinfo": "x",
         "legendgroup": "changes",
         "marker": {
          "color": "orange",
          "size": 8,
          "symbol": "square"
         },
         "mode": "markers",
         "name": "insertion",
         "showlegend": true,
         "type": "scatter",
         "visible": false,
         "x": [
          null
         ],
         "y": [
          1
         ]
        },
        {
         "hoverinfo": "x",
         "legendgroup": "changes",
         "marker": {
          "color": "red",
          "size": 8,
          "symbol": "square"
         },
         "mode": "markers",
         "name": "deletion",
         "showlegend": true,
         "type": "scatter",
         "visible": false,
         "x": [
          null
         ],
         "y": [
          1
         ]
        },
        {
         "hoverinfo": "x",
         "legendgroup": "changes",
         "marker": {
          "color": "blue",
          "size": 8,
          "symbol": "circle"
         },
         "mode": "markers",
         "name": "substitution, semi-conservative",
         "showlegend": true,
         "type": "scatter",
         "visible": false,
         "x": [
          null,
          94,
          476,
          613,
          700
         ],
         "y": [
          1,
          1,
          1,
          1,
          1
         ]
        },
        {
         "hoverinfo": "x",
         "legendgroup": "changes",
         "marker": {
          "color": "lightblue",
          "size": 8,
          "symbol": "circle"
         },
         "mode": "markers",
         "name": "substitution, conservative",
         "showlegend": true,
         "type": "scatter",
         "visible": false,
         "x": [
          null
         ],
         "y": [
          1
         ]
        },
        {
         "hoverinfo": "skip",
         "marker": {
          "color": [
           "orange",
           "red",
           "blue",
           "lightblue"
          ],
          "line": {
           "color": [
            "orange",
            "red",
            "blue",
            "lightblue"
           ],
           "width": 2
          }
         },
         "name": "counts",
         "showlegend": false,
         "text": [
          "0",
          "0",
          "4",
          "0"
         ],
         "textposition": "outside",
         "type": "bar",
         "visible": false,
         "width": 30,
         "x": [
          1540,
          1590,
          1640,
          1700
         ],
         "y": [
          0,
          0,
          0.85,
          0
         ]
        },
        {
         "hoverinfo": "skip",
         "line": {
          "color": "gray"
         },
         "mode": "lines",
         "name": "sequence line",
         "showlegend": false,
         "type": "scatter",
         "visible": false,
         "x": [
          0,
          1273
         ],
         "y": [
          1,
          1
         ]
        },
        {
         "hoverinfo": "skip",
         "legendgroup": "Subunit",
         "line": {
          "color": "plum",
          "width": 3
         },
         "mode": "lines",
         "name": "S1",
         "showlegend": true,
         "type": "scatter",
         "visible": false,
         "x": [
          14,
          685
         ],
         "y": [
          1,
          1
         ]
        },
        {
         "hoverinfo": "skip",
         "legendgroup": "Subunit",
         "line": {
          "color": "pink",
          "width": 3
         },
         "mode": "lines",
         "name": "S2",
         "showlegend": true,
         "type": "scatter",
         "visible": false,
         "x": [
          686,
          1273
         ],
         "y": [
          1,
          1
         ]
        },
        {
         "hoverinfo": "x",
         "legendgroup": "changes",
         "marker": {
          "color": "orange",
          "size": 8,
          "symbol": "square"
         },
         "mode": "markers",
         "name": "insertion",
         "showlegend": true,
         "type": "scatter",
         "visible": false,
         "x": [
          null
         ],
         "y": [
          1
         ]
        },
        {
         "hoverinfo": "x",
         "legendgroup": "changes",
         "marker": {
          "color": "red",
          "size": 8,
          "symbol": "square"
         },
         "mode": "markers",
         "name": "deletion",
         "showlegend": true,
         "type": "scatter",
         "visible": false,
         "x": [
          null
         ],
         "y": [
          1
         ]
        },
        {
         "hoverinfo": "x",
         "legendgroup": "changes",
         "marker": {
          "color": "blue",
          "size": 8,
          "symbol": "circle"
         },
         "mode": "markers",
         "name": "substitution, semi-conservative",
         "showlegend": true,
         "type": "scatter",
         "visible": false,
         "x": [
          null,
          94,
          249,
          252,
          483,
          613,
          700
         ],
         "y": [
          1,
          1,
          1,
          1,
          1,
          1,
          1
         ]
        },
        {
         "hoverinfo": "x",
         "legendgroup": "changes",
         "marker": {
          "color": "lightblue",
          "size": 8,
          "symbol": "circle"
         },
         "mode": "markers",
         "name": "substitution, conservative",
         "showlegend": true,
         "type": "scatter",
         "visible": false,
         "x": [
          null
         ],
         "y": [
          1
         ]
        },
        {
         "hoverinfo": "skip",
         "marker": {
          "color": [
           "orange",
           "red",
           "blue",
           "lightblue"
          ],
          "line": {
           "color": [
            "orange",
            "red",
            "blue",
            "lightblue"
           ],
           "width": 2
          }
         },
         "name": "counts",
         "showlegend": false,
         "text": [
          "0",
          "0",
          "6",
          "0"
         ],
         "textposition": "outside",
         "type": "bar",
         "visible": false,
         "width": 30,
         "x": [
          1540,
          1590,
          1640,
          1700
         ],
         "y": [
          0,
          0,
          0.85,
          0
         ]
        },
        {
         "hoverinfo": "skip",
         "line": {
          "color": "gray"
         },
         "mode": "lines",
         "name": "sequence line",
         "showlegend": false,
         "type": "scatter",
         "visible": false,
         "x": [
          0,
          1273
         ],
         "y": [
          1,
          1
         ]
        },
        {
         "hoverinfo": "skip",
         "legendgroup": "Subunit",
         "line": {
          "color": "plum",
          "width": 3
         },
         "mode": "lines",
         "name": "S1",
         "showlegend": true,
         "type": "scatter",
         "visible": false,
         "x": [
          14,
          685
         ],
         "y": [
          1,
          1
         ]
        },
        {
         "hoverinfo": "skip",
         "legendgroup": "Subunit",
         "line": {
          "color": "pink",
          "width": 3
         },
         "mode": "lines",
         "name": "S2",
         "showlegend": true,
         "type": "scatter",
         "visible": false,
         "x": [
          686,
          1273
         ],
         "y": [
          1,
          1
         ]
        },
        {
         "hoverinfo": "x",
         "legendgroup": "changes",
         "marker": {
          "color": "orange",
          "size": 8,
          "symbol": "square"
         },
         "mode": "markers",
         "name": "insertion",
         "showlegend": true,
         "type": "scatter",
         "visible": false,
         "x": [
          null
         ],
         "y": [
          1
         ]
        },
        {
         "hoverinfo": "x",
         "legendgroup": "changes",
         "marker": {
          "color": "red",
          "size": 8,
          "symbol": "square"
         },
         "mode": "markers",
         "name": "deletion",
         "showlegend": true,
         "type": "scatter",
         "visible": false,
         "x": [
          null
         ],
         "y": [
          1
         ]
        },
        {
         "hoverinfo": "x",
         "legendgroup": "changes",
         "marker": {
          "color": "blue",
          "size": 8,
          "symbol": "circle"
         },
         "mode": "markers",
         "name": "substitution, semi-conservative",
         "showlegend": true,
         "type": "scatter",
         "visible": false,
         "x": [
          null,
          4,
          18,
          156,
          157,
          221,
          451,
          477,
          613,
          680,
          949,
          1263
         ],
         "y": [
          1,
          1,
          1,
          1,
          1,
          1,
          1,
          1,
          1,
          1,
          1,
          1
         ]
        },
        {
         "hoverinfo": "x",
         "legendgroup": "changes",
         "marker": {
          "color": "lightblue",
          "size": 8,
          "symbol": "circle"
         },
         "mode": "markers",
         "name": "substitution, conservative",
         "showlegend": true,
         "type": "scatter",
         "visible": false,
         "x": [
          null
         ],
         "y": [
          1
         ]
        },
        {
         "hoverinfo": "skip",
         "marker": {
          "color": [
           "orange",
           "red",
           "blue",
           "lightblue"
          ],
          "line": {
           "color": [
            "orange",
            "red",
            "blue",
            "lightblue"
           ],
           "width": 2
          }
         },
         "name": "counts",
         "showlegend": false,
         "text": [
          "0",
          "0",
          "11",
          "0"
         ],
         "textposition": "outside",
         "type": "bar",
         "visible": false,
         "width": 30,
         "x": [
          1540,
          1590,
          1640,
          1700
         ],
         "y": [
          0,
          0,
          0.85,
          0
         ]
        },
        {
         "hoverinfo": "skip",
         "line": {
          "color": "gray"
         },
         "mode": "lines",
         "name": "sequence line",
         "showlegend": false,
         "type": "scatter",
         "visible": false,
         "x": [
          0,
          1273
         ],
         "y": [
          1,
          1
         ]
        },
        {
         "hoverinfo": "skip",
         "legendgroup": "Subunit",
         "line": {
          "color": "plum",
          "width": 3
         },
         "mode": "lines",
         "name": "S1",
         "showlegend": true,
         "type": "scatter",
         "visible": false,
         "x": [
          14,
          685
         ],
         "y": [
          1,
          1
         ]
        },
        {
         "hoverinfo": "skip",
         "legendgroup": "Subunit",
         "line": {
          "color": "pink",
          "width": 3
         },
         "mode": "lines",
         "name": "S2",
         "showlegend": true,
         "type": "scatter",
         "visible": false,
         "x": [
          686,
          1273
         ],
         "y": [
          1,
          1
         ]
        },
        {
         "hoverinfo": "x",
         "legendgroup": "changes",
         "marker": {
          "color": "orange",
          "size": 8,
          "symbol": "square"
         },
         "mode": "markers",
         "name": "insertion",
         "showlegend": true,
         "type": "scatter",
         "visible": false,
         "x": [
          null
         ],
         "y": [
          1
         ]
        },
        {
         "hoverinfo": "x",
         "legendgroup": "changes",
         "marker": {
          "color": "red",
          "size": 8,
          "symbol": "square"
         },
         "mode": "markers",
         "name": "deletion",
         "showlegend": true,
         "type": "scatter",
         "visible": false,
         "x": [
          null
         ],
         "y": [
          1
         ]
        },
        {
         "hoverinfo": "x",
         "legendgroup": "changes",
         "marker": {
          "color": "blue",
          "size": 8,
          "symbol": "circle"
         },
         "mode": "markers",
         "name": "substitution, semi-conservative",
         "showlegend": true,
         "type": "scatter",
         "visible": false,
         "x": [
          null,
          4,
          18,
          156,
          157,
          451,
          477,
          613,
          680,
          949
         ],
         "y": [
          1,
          1,
          1,
          1,
          1,
          1,
          1,
          1,
          1,
          1
         ]
        },
        {
         "hoverinfo": "x",
         "legendgroup": "changes",
         "marker": {
          "color": "lightblue",
          "size": 8,
          "symbol": "circle"
         },
         "mode": "markers",
         "name": "substitution, conservative",
         "showlegend": true,
         "type": "scatter",
         "visible": false,
         "x": [
          null
         ],
         "y": [
          1
         ]
        },
        {
         "hoverinfo": "skip",
         "marker": {
          "color": [
           "orange",
           "red",
           "blue",
           "lightblue"
          ],
          "line": {
           "color": [
            "orange",
            "red",
            "blue",
            "lightblue"
           ],
           "width": 2
          }
         },
         "name": "counts",
         "showlegend": false,
         "text": [
          "0",
          "0",
          "9",
          "0"
         ],
         "textposition": "outside",
         "type": "bar",
         "visible": false,
         "width": 30,
         "x": [
          1540,
          1590,
          1640,
          1700
         ],
         "y": [
          0,
          0,
          0.85,
          0
         ]
        }
       ],
       "layout": {
        "annotations": [
         {
          "font": {
           "size": 12
          },
          "showarrow": false,
          "text": "F4L",
          "x": 4,
          "xanchor": "center",
          "y": 1,
          "yanchor": "middle",
          "yshift": 18
         },
         {
          "font": {
           "size": 14
          },
          "showarrow": false,
          "text": "Alignment Score: 99.94%",
          "x": 0.1,
          "xanchor": "left",
          "y": 0,
          "yanchor": "bottom"
         },
         {
          "showarrow": false,
          "text": "counts",
          "textangle": 0,
          "x": 1450,
          "y": 0,
          "yanchor": "bottom"
         }
        ],
        "barmode": "overlay",
        "height": 380,
        "legend": {
         "x": 1,
         "xanchor": "right",
         "y": 1,
         "yanchor": "middle"
        },
        "plot_bgcolor": "white",
        "template": {
         "data": {
          "bar": [
           {
            "error_x": {
             "color": "#2a3f5f"
            },
            "error_y": {
             "color": "#2a3f5f"
            },
            "marker": {
             "line": {
              "color": "#E5ECF6",
              "width": 0.5
             },
             "pattern": {
              "fillmode": "overlay",
              "size": 10,
              "solidity": 0.2
             }
            },
            "type": "bar"
           }
          ],
          "barpolar": [
           {
            "marker": {
             "line": {
              "color": "#E5ECF6",
              "width": 0.5
             },
             "pattern": {
              "fillmode": "overlay",
              "size": 10,
              "solidity": 0.2
             }
            },
            "type": "barpolar"
           }
          ],
          "carpet": [
           {
            "aaxis": {
             "endlinecolor": "#2a3f5f",
             "gridcolor": "white",
             "linecolor": "white",
             "minorgridcolor": "white",
             "startlinecolor": "#2a3f5f"
            },
            "baxis": {
             "endlinecolor": "#2a3f5f",
             "gridcolor": "white",
             "linecolor": "white",
             "minorgridcolor": "white",
             "startlinecolor": "#2a3f5f"
            },
            "type": "carpet"
           }
          ],
          "choropleth": [
           {
            "colorbar": {
             "outlinewidth": 0,
             "ticks": ""
            },
            "type": "choropleth"
           }
          ],
          "contour": [
           {
            "colorbar": {
             "outlinewidth": 0,
             "ticks": ""
            },
            "colorscale": [
             [
              0,
              "#0d0887"
             ],
             [
              0.1111111111111111,
              "#46039f"
             ],
             [
              0.2222222222222222,
              "#7201a8"
             ],
             [
              0.3333333333333333,
              "#9c179e"
             ],
             [
              0.4444444444444444,
              "#bd3786"
             ],
             [
              0.5555555555555556,
              "#d8576b"
             ],
             [
              0.6666666666666666,
              "#ed7953"
             ],
             [
              0.7777777777777778,
              "#fb9f3a"
             ],
             [
              0.8888888888888888,
              "#fdca26"
             ],
             [
              1,
              "#f0f921"
             ]
            ],
            "type": "contour"
           }
          ],
          "contourcarpet": [
           {
            "colorbar": {
             "outlinewidth": 0,
             "ticks": ""
            },
            "type": "contourcarpet"
           }
          ],
          "heatmap": [
           {
            "colorbar": {
             "outlinewidth": 0,
             "ticks": ""
            },
            "colorscale": [
             [
              0,
              "#0d0887"
             ],
             [
              0.1111111111111111,
              "#46039f"
             ],
             [
              0.2222222222222222,
              "#7201a8"
             ],
             [
              0.3333333333333333,
              "#9c179e"
             ],
             [
              0.4444444444444444,
              "#bd3786"
             ],
             [
              0.5555555555555556,
              "#d8576b"
             ],
             [
              0.6666666666666666,
              "#ed7953"
             ],
             [
              0.7777777777777778,
              "#fb9f3a"
             ],
             [
              0.8888888888888888,
              "#fdca26"
             ],
             [
              1,
              "#f0f921"
             ]
            ],
            "type": "heatmap"
           }
          ],
          "heatmapgl": [
           {
            "colorbar": {
             "outlinewidth": 0,
             "ticks": ""
            },
            "colorscale": [
             [
              0,
              "#0d0887"
             ],
             [
              0.1111111111111111,
              "#46039f"
             ],
             [
              0.2222222222222222,
              "#7201a8"
             ],
             [
              0.3333333333333333,
              "#9c179e"
             ],
             [
              0.4444444444444444,
              "#bd3786"
             ],
             [
              0.5555555555555556,
              "#d8576b"
             ],
             [
              0.6666666666666666,
              "#ed7953"
             ],
             [
              0.7777777777777778,
              "#fb9f3a"
             ],
             [
              0.8888888888888888,
              "#fdca26"
             ],
             [
              1,
              "#f0f921"
             ]
            ],
            "type": "heatmapgl"
           }
          ],
          "histogram": [
           {
            "marker": {
             "pattern": {
              "fillmode": "overlay",
              "size": 10,
              "solidity": 0.2
             }
            },
            "type": "histogram"
           }
          ],
          "histogram2d": [
           {
            "colorbar": {
             "outlinewidth": 0,
             "ticks": ""
            },
            "colorscale": [
             [
              0,
              "#0d0887"
             ],
             [
              0.1111111111111111,
              "#46039f"
             ],
             [
              0.2222222222222222,
              "#7201a8"
             ],
             [
              0.3333333333333333,
              "#9c179e"
             ],
             [
              0.4444444444444444,
              "#bd3786"
             ],
             [
              0.5555555555555556,
              "#d8576b"
             ],
             [
              0.6666666666666666,
              "#ed7953"
             ],
             [
              0.7777777777777778,
              "#fb9f3a"
             ],
             [
              0.8888888888888888,
              "#fdca26"
             ],
             [
              1,
              "#f0f921"
             ]
            ],
            "type": "histogram2d"
           }
          ],
          "histogram2dcontour": [
           {
            "colorbar": {
             "outlinewidth": 0,
             "ticks": ""
            },
            "colorscale": [
             [
              0,
              "#0d0887"
             ],
             [
              0.1111111111111111,
              "#46039f"
             ],
             [
              0.2222222222222222,
              "#7201a8"
             ],
             [
              0.3333333333333333,
              "#9c179e"
             ],
             [
              0.4444444444444444,
              "#bd3786"
             ],
             [
              0.5555555555555556,
              "#d8576b"
             ],
             [
              0.6666666666666666,
              "#ed7953"
             ],
             [
              0.7777777777777778,
              "#fb9f3a"
             ],
             [
              0.8888888888888888,
              "#fdca26"
             ],
             [
              1,
              "#f0f921"
             ]
            ],
            "type": "histogram2dcontour"
           }
          ],
          "mesh3d": [
           {
            "colorbar": {
             "outlinewidth": 0,
             "ticks": ""
            },
            "type": "mesh3d"
           }
          ],
          "parcoords": [
           {
            "line": {
             "colorbar": {
              "outlinewidth": 0,
              "ticks": ""
             }
            },
            "type": "parcoords"
           }
          ],
          "pie": [
           {
            "automargin": true,
            "type": "pie"
           }
          ],
          "scatter": [
           {
            "marker": {
             "colorbar": {
              "outlinewidth": 0,
              "ticks": ""
             }
            },
            "type": "scatter"
           }
          ],
          "scatter3d": [
           {
            "line": {
             "colorbar": {
              "outlinewidth": 0,
              "ticks": ""
             }
            },
            "marker": {
             "colorbar": {
              "outlinewidth": 0,
              "ticks": ""
             }
            },
            "type": "scatter3d"
           }
          ],
          "scattercarpet": [
           {
            "marker": {
             "colorbar": {
              "outlinewidth": 0,
              "ticks": ""
             }
            },
            "type": "scattercarpet"
           }
          ],
          "scattergeo": [
           {
            "marker": {
             "colorbar": {
              "outlinewidth": 0,
              "ticks": ""
             }
            },
            "type": "scattergeo"
           }
          ],
          "scattergl": [
           {
            "marker": {
             "colorbar": {
              "outlinewidth": 0,
              "ticks": ""
             }
            },
            "type": "scattergl"
           }
          ],
          "scattermapbox": [
           {
            "marker": {
             "colorbar": {
              "outlinewidth": 0,
              "ticks": ""
             }
            },
            "type": "scattermapbox"
           }
          ],
          "scatterpolar": [
           {
            "marker": {
             "colorbar": {
              "outlinewidth": 0,
              "ticks": ""
             }
            },
            "type": "scatterpolar"
           }
          ],
          "scatterpolargl": [
           {
            "marker": {
             "colorbar": {
              "outlinewidth": 0,
              "ticks": ""
             }
            },
            "type": "scatterpolargl"
           }
          ],
          "scatterternary": [
           {
            "marker": {
             "colorbar": {
              "outlinewidth": 0,
              "ticks": ""
             }
            },
            "type": "scatterternary"
           }
          ],
          "surface": [
           {
            "colorbar": {
             "outlinewidth": 0,
             "ticks": ""
            },
            "colorscale": [
             [
              0,
              "#0d0887"
             ],
             [
              0.1111111111111111,
              "#46039f"
             ],
             [
              0.2222222222222222,
              "#7201a8"
             ],
             [
              0.3333333333333333,
              "#9c179e"
             ],
             [
              0.4444444444444444,
              "#bd3786"
             ],
             [
              0.5555555555555556,
              "#d8576b"
             ],
             [
              0.6666666666666666,
              "#ed7953"
             ],
             [
              0.7777777777777778,
              "#fb9f3a"
             ],
             [
              0.8888888888888888,
              "#fdca26"
             ],
             [
              1,
              "#f0f921"
             ]
            ],
            "type": "surface"
           }
          ],
          "table": [
           {
            "cells": {
             "fill": {
              "color": "#EBF0F8"
             },
             "line": {
              "color": "white"
             }
            },
            "header": {
             "fill": {
              "color": "#C8D4E3"
             },
             "line": {
              "color": "white"
             }
            },
            "type": "table"
           }
          ]
         },
         "layout": {
          "annotationdefaults": {
           "arrowcolor": "#2a3f5f",
           "arrowhead": 0,
           "arrowwidth": 1
          },
          "autotypenumbers": "strict",
          "coloraxis": {
           "colorbar": {
            "outlinewidth": 0,
            "ticks": ""
           }
          },
          "colorscale": {
           "diverging": [
            [
             0,
             "#8e0152"
            ],
            [
             0.1,
             "#c51b7d"
            ],
            [
             0.2,
             "#de77ae"
            ],
            [
             0.3,
             "#f1b6da"
            ],
            [
             0.4,
             "#fde0ef"
            ],
            [
             0.5,
             "#f7f7f7"
            ],
            [
             0.6,
             "#e6f5d0"
            ],
            [
             0.7,
             "#b8e186"
            ],
            [
             0.8,
             "#7fbc41"
            ],
            [
             0.9,
             "#4d9221"
            ],
            [
             1,
             "#276419"
            ]
           ],
           "sequential": [
            [
             0,
             "#0d0887"
            ],
            [
             0.1111111111111111,
             "#46039f"
            ],
            [
             0.2222222222222222,
             "#7201a8"
            ],
            [
             0.3333333333333333,
             "#9c179e"
            ],
            [
             0.4444444444444444,
             "#bd3786"
            ],
            [
             0.5555555555555556,
             "#d8576b"
            ],
            [
             0.6666666666666666,
             "#ed7953"
            ],
            [
             0.7777777777777778,
             "#fb9f3a"
            ],
            [
             0.8888888888888888,
             "#fdca26"
            ],
            [
             1,
             "#f0f921"
            ]
           ],
           "sequentialminus": [
            [
             0,
             "#0d0887"
            ],
            [
             0.1111111111111111,
             "#46039f"
            ],
            [
             0.2222222222222222,
             "#7201a8"
            ],
            [
             0.3333333333333333,
             "#9c179e"
            ],
            [
             0.4444444444444444,
             "#bd3786"
            ],
            [
             0.5555555555555556,
             "#d8576b"
            ],
            [
             0.6666666666666666,
             "#ed7953"
            ],
            [
             0.7777777777777778,
             "#fb9f3a"
            ],
            [
             0.8888888888888888,
             "#fdca26"
            ],
            [
             1,
             "#f0f921"
            ]
           ]
          },
          "colorway": [
           "#636efa",
           "#EF553B",
           "#00cc96",
           "#ab63fa",
           "#FFA15A",
           "#19d3f3",
           "#FF6692",
           "#B6E880",
           "#FF97FF",
           "#FECB52"
          ],
          "font": {
           "color": "#2a3f5f"
          },
          "geo": {
           "bgcolor": "white",
           "lakecolor": "white",
           "landcolor": "#E5ECF6",
           "showlakes": true,
           "showland": true,
           "subunitcolor": "white"
          },
          "hoverlabel": {
           "align": "left"
          },
          "hovermode": "closest",
          "mapbox": {
           "style": "light"
          },
          "paper_bgcolor": "white",
          "plot_bgcolor": "#E5ECF6",
          "polar": {
           "angularaxis": {
            "gridcolor": "white",
            "linecolor": "white",
            "ticks": ""
           },
           "bgcolor": "#E5ECF6",
           "radialaxis": {
            "gridcolor": "white",
            "linecolor": "white",
            "ticks": ""
           }
          },
          "scene": {
           "xaxis": {
            "backgroundcolor": "#E5ECF6",
            "gridcolor": "white",
            "gridwidth": 2,
            "linecolor": "white",
            "showbackground": true,
            "ticks": "",
            "zerolinecolor": "white"
           },
           "yaxis": {
            "backgroundcolor": "#E5ECF6",
            "gridcolor": "white",
            "gridwidth": 2,
            "linecolor": "white",
            "showbackground": true,
            "ticks": "",
            "zerolinecolor": "white"
           },
           "zaxis": {
            "backgroundcolor": "#E5ECF6",
            "gridcolor": "white",
            "gridwidth": 2,
            "linecolor": "white",
            "showbackground": true,
            "ticks": "",
            "zerolinecolor": "white"
           }
          },
          "shapedefaults": {
           "line": {
            "color": "#2a3f5f"
           }
          },
          "ternary": {
           "aaxis": {
            "gridcolor": "white",
            "linecolor": "white",
            "ticks": ""
           },
           "baxis": {
            "gridcolor": "white",
            "linecolor": "white",
            "ticks": ""
           },
           "bgcolor": "#E5ECF6",
           "caxis": {
            "gridcolor": "white",
            "linecolor": "white",
            "ticks": ""
           }
          },
          "title": {
           "x": 0.05
          },
          "xaxis": {
           "automargin": true,
           "gridcolor": "white",
           "linecolor": "white",
           "ticks": "",
           "title": {
            "standoff": 15
           },
           "zerolinecolor": "white",
           "zerolinewidth": 2
          },
          "yaxis": {
           "automargin": true,
           "gridcolor": "white",
           "linecolor": "white",
           "ticks": "",
           "title": {
            "standoff": 15
           },
           "zerolinecolor": "white",
           "zerolinewidth": 2
          }
         }
        },
        "title": {
         "text": "Spike Protein Comparison<br><sup>of Most Frequent Sequence of Selected Clade to Baseline <br>19B (QLJ57227) difference from 19A (QOF09449)<sup>",
         "x": 0.1
        },
        "updatemenus": [
         {
          "buttons": [
           {
            "args": [
             {
              "visible": [
               true,
               true,
               true,
               true,
               true,
               true,
               true,
               true,
               false,
               false,
               false,
               false,
               false,
               false,
               false,
               false,
               false,
               false,
               false,
               false,
               false,
               false,
               false,
               false,
               false,
               false,
               false,
               false,
               false,
               false,
               false,
               false,
               false,
               false,
               false,
               false,
               false,
               false,
               false,
               false,
               false,
               false,
               false,
               false,
               false,
               false,
               false,
               false,
               false,
               false,
               false,
               false,
               false,
               false,
               false,
               false,
               false,
               false,
               false,
               false,
               false,
               false,
               false,
               false,
               false,
               false,
               false,
               false,
               false,
               false,
               false,
               false,
               false,
               false,
               false,
               false,
               false,
               false,
               false,
               false,
               false,
               false,
               false,
               false,
               false,
               false,
               false,
               false,
               false,
               false,
               false,
               false,
               false,
               false,
               false,
               false,
               false,
               false,
               false,
               false,
               false,
               false,
               false,
               false,
               false,
               false,
               false,
               false,
               false,
               false,
               false,
               false,
               false,
               false,
               false,
               false,
               false,
               false,
               false,
               false,
               false,
               false,
               false,
               false,
               false,
               false,
               false,
               false,
               false,
               false,
               false,
               false,
               false,
               false,
               false,
               false,
               false,
               false,
               false,
               false,
               false,
               false,
               false,
               false,
               false,
               false,
               false,
               false,
               false,
               false,
               false,
               false
              ]
             },
             {
              "annotations": [
               {
                "font": {
                 "size": 12
                },
                "showarrow": false,
                "text": "F4L",
                "x": 4,
                "xanchor": "center",
                "y": 1,
                "yanchor": "middle",
                "yshift": 18
               },
               {
                "font": {
                 "size": 14
                },
                "showarrow": false,
                "text": "Alignment Score: 99.94%",
                "x": 0.1,
                "xanchor": "left",
                "y": 0,
                "yanchor": "bottom"
               },
               {
                "showarrow": false,
                "text": "counts",
                "textangle": 0,
                "x": 1450,
                "y": 0,
                "yanchor": "bottom"
               }
              ],
              "title": {
               "text": "Spike Protein Comparison<br><sup>of Most Frequent Sequence of Selected Clade to Baseline <br>19B (QLJ57227) difference from 19A (QOF09449)<sup>",
               "x": 0.1
              }
             }
            ],
            "label": "19B",
            "method": "update"
           },
           {
            "args": [
             {
              "visible": [
               false,
               false,
               false,
               false,
               false,
               false,
               false,
               false,
               true,
               true,
               true,
               true,
               true,
               true,
               true,
               true,
               false,
               false,
               false,
               false,
               false,
               false,
               false,
               false,
               false,
               false,
               false,
               false,
               false,
               false,
               false,
               false,
               false,
               false,
               false,
               false,
               false,
               false,
               false,
               false,
               false,
               false,
               false,
               false,
               false,
               false,
               false,
               false,
               false,
               false,
               false,
               false,
               false,
               false,
               false,
               false,
               false,
               false,
               false,
               false,
               false,
               false,
               false,
               false,
               false,
               false,
               false,
               false,
               false,
               false,
               false,
               false,
               false,
               false,
               false,
               false,
               false,
               false,
               false,
               false,
               false,
               false,
               false,
               false,
               false,
               false,
               false,
               false,
               false,
               false,
               false,
               false,
               false,
               false,
               false,
               false,
               false,
               false,
               false,
               false,
               false,
               false,
               false,
               false,
               false,
               false,
               false,
               false,
               false,
               false,
               false,
               false,
               false,
               false,
               false,
               false,
               false,
               false,
               false,
               false,
               false,
               false,
               false,
               false,
               false,
               false,
               false,
               false,
               false,
               false,
               false,
               false,
               false,
               false,
               false,
               false,
               false,
               false,
               false,
               false,
               false,
               false,
               false,
               false,
               false,
               false,
               false,
               false,
               false,
               false,
               false,
               false
              ]
             },
             {
              "annotations": [
               {
                "font": {
                 "size": 12
                },
                "showarrow": false,
                "text": "F4L",
                "x": 4,
                "xanchor": "center",
                "y": 1,
                "yanchor": "middle",
                "yshift": 18
               },
               {
                "font": {
                 "size": 12
                },
                "showarrow": false,
                "text": "D613G",
                "x": 613,
                "xanchor": "center",
                "y": 1,
                "yanchor": "middle",
                "yshift": -18
               },
               {
                "font": {
                 "size": 12
                },
                "showarrow": false,
                "text": "P680H",
                "x": 680,
                "xanchor": "center",
                "y": 1,
                "yanchor": "middle",
                "yshift": 36
               },
               {
                "font": {
                 "size": 14
                },
                "showarrow": false,
                "text": "Alignment Score: 99.70%",
                "x": 0.1,
                "xanchor": "left",
                "y": 0,
                "yanchor": "bottom"
               },
               {
                "showarrow": false,
                "text": "counts",
                "textangle": 0,
                "x": 1450,
                "y": 0,
                "yanchor": "bottom"
               }
              ],
              "title": {
               "text": "Spike Protein Comparison<br><sup>of Most Frequent Sequence of Selected Clade to Baseline <br>20A (QVR40114) difference from 19A (QOF09449)<sup>",
               "x": 0.1
              }
             }
            ],
            "label": "20A",
            "method": "update"
           },
           {
            "args": [
             {
              "visible": [
               false,
               false,
               false,
               false,
               false,
               false,
               false,
               false,
               false,
               false,
               false,
               false,
               false,
               false,
               false,
               false,
               true,
               true,
               true,
               true,
               true,
               true,
               true,
               true,
               false,
               false,
               false,
               false,
               false,
               false,
               false,
               false,
               false,
               false,
               false,
               false,
               false,
               false,
               false,
               false,
               false,
               false,
               false,
               false,
               false,
               false,
               false,
               false,
               false,
               false,
               false,
               false,
               false,
               false,
               false,
               false,
               false,
               false,
               false,
               false,
               false,
               false,
               false,
               false,
               false,
               false,
               false,
               false,
               false,
               false,
               false,
               false,
               false,
               false,
               false,
               false,
               false,
               false,
               false,
               false,
               false,
               false,
               false,
               false,
               false,
               false,
               false,
               false,
               false,
               false,
               false,
               false,
               false,
               false,
               false,
               false,
               false,
               false,
               false,
               false,
               false,
               false,
               false,
               false,
               false,
               false,
               false,
               false,
               false,
               false,
               false,
               false,
               false,
               false,
               false,
               false,
               false,
               false,
               false,
               false,
               false,
               false,
               false,
               false,
               false,
               false,
               false,
               false,
               false,
               false,
               false,
               false,
               false,
               false,
               false,
               false,
               false,
               false,
               false,
               false,
               false,
               false,
               false,
               false,
               false,
               false,
               false,
               false,
               false,
               false,
               false,
               false
              ]
             },
             {
              "annotations": [
               {
                "font": {
                 "size": 12
                },
                "showarrow": false,
                "text": "F4L",
                "x": 4,
                "xanchor": "center",
                "y": 1,
                "yanchor": "middle",
                "yshift": 18
               },
               {
                "font": {
                 "size": 12
                },
                "showarrow": false,
                "text": "T477K",
                "x": 477,
                "xanchor": "center",
                "y": 1,
                "yanchor": "middle",
                "yshift": -18
               },
               {
                "font": {
                 "size": 12
                },
                "showarrow": false,
                "text": "D613G",
                "x": 613,
                "xanchor": "center",
                "y": 1,
                "yanchor": "middle",
                "yshift": 36
               },
               {
                "font": {
                 "size": 12
                },
                "showarrow": false,
                "text": "P680H",
                "x": 680,
                "xanchor": "center",
                "y": 1,
                "yanchor": "middle",
                "yshift": -36
               },
               {
                "font": {
                 "size": 12
                },
                "showarrow": false,
                "text": "T731A",
                "x": 731,
                "xanchor": "center",
                "y": 1,
                "yanchor": "middle",
                "yshift": 18
               },
               {
                "font": {
                 "size": 14
                },
                "showarrow": false,
                "text": "Alignment Score: 99.54%",
                "x": 0.1,
                "xanchor": "left",
                "y": 0,
                "yanchor": "bottom"
               },
               {
                "showarrow": false,
                "text": "counts",
                "textangle": 0,
                "x": 1450,
                "y": 0,
                "yanchor": "bottom"
               }
              ],
              "title": {
               "text": "Spike Protein Comparison<br><sup>of Most Frequent Sequence of Selected Clade to Baseline <br>20B (QSW59156) difference from 19A (QOF09449)<sup>",
               "x": 0.1
              }
             }
            ],
            "label": "20B",
            "method": "update"
           },
           {
            "args": [
             {
              "visible": [
               false,
               false,
               false,
               false,
               false,
               false,
               false,
               false,
               false,
               false,
               false,
               false,
               false,
               false,
               false,
               false,
               false,
               false,
               false,
               false,
               false,
               false,
               false,
               false,
               true,
               true,
               true,
               true,
               true,
               true,
               true,
               true,
               false,
               false,
               false,
               false,
               false,
               false,
               false,
               false,
               false,
               false,
               false,
               false,
               false,
               false,
               false,
               false,
               false,
               false,
               false,
               false,
               false,
               false,
               false,
               false,
               false,
               false,
               false,
               false,
               false,
               false,
               false,
               false,
               false,
               false,
               false,
               false,
               false,
               false,
               false,
               false,
               false,
               false,
               false,
               false,
               false,
               false,
               false,
               false,
               false,
               false,
               false,
               false,
               false,
               false,
               false,
               false,
               false,
               false,
               false,
               false,
               false,
               false,
               false,
               false,
               false,
               false,
               false,
               false,
               false,
               false,
               false,
               false,
               false,
               false,
               false,
               false,
               false,
               false,
               false,
               false,
               false,
               false,
               false,
               false,
               false,
               false,
               false,
               false,
               false,
               false,
               false,
               false,
               false,
               false,
               false,
               false,
               false,
               false,
               false,
               false,
               false,
               false,
               false,
               false,
               false,
               false,
               false,
               false,
               false,
               false,
               false,
               false,
               false,
               false,
               false,
               false,
               false,
               false,
               false,
               false
              ]
             },
             {
              "annotations": [
               {
                "font": {
                 "size": 12
                },
                "showarrow": false,
                "text": "F4L",
                "x": 4,
                "xanchor": "center",
                "y": 1,
                "yanchor": "middle",
                "yshift": 18
               },
               {
                "font": {
                 "size": 12
                },
                "showarrow": false,
                "text": "D613G",
                "x": 613,
                "xanchor": "center",
                "y": 1,
                "yanchor": "middle",
                "yshift": -18
               },
               {
                "font": {
                 "size": 14
                },
                "showarrow": false,
                "text": "Alignment Score: 99.84%",
                "x": 0.1,
                "xanchor": "left",
                "y": 0,
                "yanchor": "bottom"
               },
               {
                "showarrow": false,
                "text": "counts",
                "textangle": 0,
                "x": 1450,
                "y": 0,
                "yanchor": "bottom"
               }
              ],
              "title": {
               "text": "Spike Protein Comparison<br><sup>of Most Frequent Sequence of Selected Clade to Baseline <br>20C (QTN63407) difference from 19A (QOF09449)<sup>",
               "x": 0.1
              }
             }
            ],
            "label": "20C",
            "method": "update"
           },
           {
            "args": [
             {
              "visible": [
               false,
               false,
               false,
               false,
               false,
               false,
               false,
               false,
               false,
               false,
               false,
               false,
               false,
               false,
               false,
               false,
               false,
               false,
               false,
               false,
               false,
               false,
               false,
               false,
               false,
               false,
               false,
               false,
               false,
               false,
               false,
               false,
               true,
               true,
               true,
               true,
               true,
               true,
               true,
               true,
               false,
               false,
               false,
               false,
               false,
               false,
               false,
               false,
               false,
               false,
               false,
               false,
               false,
               false,
               false,
               false,
               false,
               false,
               false,
               false,
               false,
               false,
               false,
               false,
               false,
               false,
               false,
               false,
               false,
               false,
               false,
               false,
               false,
               false,
               false,
               false,
               false,
               false,
               false,
               false,
               false,
               false,
               false,
               false,
               false,
               false,
               false,
               false,
               false,
               false,
               false,
               false,
               false,
               false,
               false,
               false,
               false,
               false,
               false,
               false,
               false,
               false,
               false,
               false,
               false,
               false,
               false,
               false,
               false,
               false,
               false,
               false,
               false,
               false,
               false,
               false,
               false,
               false,
               false,
               false,
               false,
               false,
               false,
               false,
               false,
               false,
               false,
               false,
               false,
               false,
               false,
               false,
               false,
               false,
               false,
               false,
               false,
               false,
               false,
               false,
               false,
               false,
               false,
               false,
               false,
               false,
               false,
               false,
               false,
               false,
               false,
               false
              ]
             },
             {
              "annotations": [
               {
                "font": {
                 "size": 12
                },
                "showarrow": false,
                "text": "K76N",
                "x": 76,
                "xanchor": "center",
                "y": 1,
                "yanchor": "middle",
                "yshift": 18
               },
               {
                "font": {
                 "size": 12
                },
                "showarrow": false,
                "text": "T94I",
                "x": 94,
                "xanchor": "center",
                "y": 1,
                "yanchor": "middle",
                "yshift": -18
               },
               {
                "font": {
                 "size": 12
                },
                "showarrow": false,
                "text": "D252G",
                "x": 252,
                "xanchor": "center",
                "y": 1,
                "yanchor": "middle",
                "yshift": 36
               },
               {
                "font": {
                 "size": 12
                },
                "showarrow": false,
                "text": "S476N",
                "x": 476,
                "xanchor": "center",
                "y": 1,
                "yanchor": "middle",
                "yshift": -36
               },
               {
                "font": {
                 "size": 12
                },
                "showarrow": false,
                "text": "D613G",
                "x": 613,
                "xanchor": "center",
                "y": 1,
                "yanchor": "middle",
                "yshift": 18
               },
               {
                "font": {
                 "size": 12
                },
                "showarrow": false,
                "text": "Q956R",
                "x": 956,
                "xanchor": "center",
                "y": 1,
                "yanchor": "middle",
                "yshift": -18
               },
               {
                "font": {
                 "size": 12
                },
                "showarrow": false,
                "text": "C1249F",
                "x": 1249,
                "xanchor": "center",
                "y": 1,
                "yanchor": "middle",
                "yshift": 36
               },
               {
                "font": {
                 "size": 14
                },
                "showarrow": false,
                "text": "Alignment Score: 99.39%",
                "x": 0.1,
                "xanchor": "left",
                "y": 0,
                "yanchor": "bottom"
               },
               {
                "showarrow": false,
                "text": "counts",
                "textangle": 0,
                "x": 1450,
                "y": 0,
                "yanchor": "bottom"
               }
              ],
              "title": {
               "text": "Spike Protein Comparison<br><sup>of Most Frequent Sequence of Selected Clade to Baseline <br>20D (QWU02970) difference from 19A (QOF09449)<sup>",
               "x": 0.1
              }
             }
            ],
            "label": "20D",
            "method": "update"
           },
           {
            "args": [
             {
              "visible": [
               false,
               false,
               false,
               false,
               false,
               false,
               false,
               false,
               false,
               false,
               false,
               false,
               false,
               false,
               false,
               false,
               false,
               false,
               false,
               false,
               false,
               false,
               false,
               false,
               false,
               false,
               false,
               false,
               false,
               false,
               false,
               false,
               false,
               false,
               false,
               false,
               false,
               false,
               false,
               false,
               true,
               true,
               true,
               true,
               true,
               true,
               true,
               true,
               false,
               false,
               false,
               false,
               false,
               false,
               false,
               false,
               false,
               false,
               false,
               false,
               false,
               false,
               false,
               false,
               false,
               false,
               false,
               false,
               false,
               false,
               false,
               false,
               false,
               false,
               false,
               false,
               false,
               false,
               false,
               false,
               false,
               false,
               false,
               false,
               false,
               false,
               false,
               false,
               false,
               false,
               false,
               false,
               false,
               false,
               false,
               false,
               false,
               false,
               false,
               false,
               false,
               false,
               false,
               false,
               false,
               false,
               false,
               false,
               false,
               false,
               false,
               false,
               false,
               false,
               false,
               false,
               false,
               false,
               false,
               false,
               false,
               false,
               false,
               false,
               false,
               false,
               false,
               false,
               false,
               false,
               false,
               false,
               false,
               false,
               false,
               false,
               false,
               false,
               false,
               false,
               false,
               false,
               false,
               false,
               false,
               false,
               false,
               false,
               false,
               false,
               false,
               false
              ]
             },
             {
              "annotations": [
               {
                "font": {
                 "size": 12
                },
                "showarrow": false,
                "text": "F4L",
                "x": 4,
                "xanchor": "center",
                "y": 1,
                "yanchor": "middle",
                "yshift": 18
               },
               {
                "font": {
                 "size": 12
                },
                "showarrow": false,
                "text": "A221V",
                "x": 221,
                "xanchor": "center",
                "y": 1,
                "yanchor": "middle",
                "yshift": -18
               },
               {
                "font": {
                 "size": 12
                },
                "showarrow": false,
                "text": "D613G",
                "x": 613,
                "xanchor": "center",
                "y": 1,
                "yanchor": "middle",
                "yshift": 36
               },
               {
                "font": {
                 "size": 14
                },
                "showarrow": false,
                "text": "Alignment Score: 99.78%",
                "x": 0.1,
                "xanchor": "left",
                "y": 0,
                "yanchor": "bottom"
               },
               {
                "showarrow": false,
                "text": "counts",
                "textangle": 0,
                "x": 1450,
                "y": 0,
                "yanchor": "bottom"
               }
              ],
              "title": {
               "text": "Spike Protein Comparison<br><sup>of Most Frequent Sequence of Selected Clade to Baseline <br>20E (EU1) (QQX01070) difference from 19A (QOF09449)<sup>",
               "x": 0.1
              }
             }
            ],
            "label": "20E (EU1)",
            "method": "update"
           },
           {
            "args": [
             {
              "visible": [
               false,
               false,
               false,
               false,
               false,
               false,
               false,
               false,
               false,
               false,
               false,
               false,
               false,
               false,
               false,
               false,
               false,
               false,
               false,
               false,
               false,
               false,
               false,
               false,
               false,
               false,
               false,
               false,
               false,
               false,
               false,
               false,
               false,
               false,
               false,
               false,
               false,
               false,
               false,
               false,
               false,
               false,
               false,
               false,
               false,
               false,
               false,
               false,
               true,
               true,
               true,
               true,
               true,
               true,
               true,
               true,
               false,
               false,
               false,
               false,
               false,
               false,
               false,
               false,
               false,
               false,
               false,
               false,
               false,
               false,
               false,
               false,
               false,
               false,
               false,
               false,
               false,
               false,
               false,
               false,
               false,
               false,
               false,
               false,
               false,
               false,
               false,
               false,
               false,
               false,
               false,
               false,
               false,
               false,
               false,
               false,
               false,
               false,
               false,
               false,
               false,
               false,
               false,
               false,
               false,
               false,
               false,
               false,
               false,
               false,
               false,
               false,
               false,
               false,
               false,
               false,
               false,
               false,
               false,
               false,
               false,
               false,
               false,
               false,
               false,
               false,
               false,
               false,
               false,
               false,
               false,
               false,
               false,
               false,
               false,
               false,
               false,
               false,
               false,
               false,
               false,
               false,
               false,
               false,
               false,
               false,
               false,
               false,
               false,
               false,
               false,
               false
              ]
             },
             {
              "annotations": [
               {
                "font": {
                 "size": 12
                },
                "showarrow": false,
                "text": "F4L",
                "x": 4,
                "xanchor": "center",
                "y": 1,
                "yanchor": "middle",
                "yshift": 18
               },
               {
                "font": {
                 "size": 12
                },
                "showarrow": false,
                "text": "D613G",
                "x": 613,
                "xanchor": "center",
                "y": 1,
                "yanchor": "middle",
                "yshift": -18
               },
               {
                "font": {
                 "size": 14
                },
                "showarrow": false,
                "text": "Alignment Score: 99.84%",
                "x": 0.1,
                "xanchor": "left",
                "y": 0,
                "yanchor": "bottom"
               },
               {
                "showarrow": false,
                "text": "counts",
                "textangle": 0,
                "x": 1450,
                "y": 0,
                "yanchor": "bottom"
               }
              ],
              "title": {
               "text": "Spike Protein Comparison<br><sup>of Most Frequent Sequence of Selected Clade to Baseline <br>20G (QVR40162) difference from 19A (QOF09449)<sup>",
               "x": 0.1
              }
             }
            ],
            "label": "20G",
            "method": "update"
           },
           {
            "args": [
             {
              "visible": [
               false,
               false,
               false,
               false,
               false,
               false,
               false,
               false,
               false,
               false,
               false,
               false,
               false,
               false,
               false,
               false,
               false,
               false,
               false,
               false,
               false,
               false,
               false,
               false,
               false,
               false,
               false,
               false,
               false,
               false,
               false,
               false,
               false,
               false,
               false,
               false,
               false,
               false,
               false,
               false,
               false,
               false,
               false,
               false,
               false,
               false,
               false,
               false,
               false,
               false,
               false,
               false,
               false,
               false,
               false,
               false,
               true,
               true,
               true,
               true,
               true,
               true,
               true,
               true,
               false,
               false,
               false,
               false,
               false,
               false,
               false,
               false,
               false,
               false,
               false,
               false,
               false,
               false,
               false,
               false,
               false,
               false,
               false,
               false,
               false,
               false,
               false,
               false,
               false,
               false,
               false,
               false,
               false,
               false,
               false,
               false,
               false,
               false,
               false,
               false,
               false,
               false,
               false,
               false,
               false,
               false,
               false,
               false,
               false,
               false,
               false,
               false,
               false,
               false,
               false,
               false,
               false,
               false,
               false,
               false,
               false,
               false,
               false,
               false,
               false,
               false,
               false,
               false,
               false,
               false,
               false,
               false,
               false,
               false,
               false,
               false,
               false,
               false,
               false,
               false,
               false,
               false,
               false,
               false,
               false,
               false,
               false,
               false,
               false,
               false,
               false,
               false
              ]
             },
             {
              "annotations": [
               {
                "font": {
                 "size": 12
                },
                "showarrow": false,
                "text": "F4L",
                "x": 4,
                "xanchor": "center",
                "y": 1,
                "yanchor": "middle",
                "yshift": 18
               },
               {
                "font": {
                 "size": 12
                },
                "showarrow": false,
                "text": "L17F",
                "x": 17,
                "xanchor": "center",
                "y": 1,
                "yanchor": "middle",
                "yshift": -18
               },
               {
                "font": {
                 "size": 12
                },
                "showarrow": false,
                "text": "D79A",
                "x": 79,
                "xanchor": "center",
                "y": 1,
                "yanchor": "middle",
                "yshift": 36
               },
               {
                "font": {
                 "size": 12
                },
                "showarrow": false,
                "text": "D137Y",
                "x": 137,
                "xanchor": "center",
                "y": 1,
                "yanchor": "middle",
                "yshift": -36
               },
               {
                "font": {
                 "size": 12
                },
                "showarrow": false,
                "text": "D214G",
                "x": 214,
                "xanchor": "center",
                "y": 1,
                "yanchor": "middle",
                "yshift": 18
               },
               {
                "font": {
                 "size": 12
                },
                "showarrow": false,
                "text": "L240",
                "x": 240,
                "xanchor": "center",
                "y": 1,
                "yanchor": "middle",
                "yshift": -18
               },
               {
                "font": {
                 "size": 12
                },
                "showarrow": false,
                "text": "L241",
                "x": 241,
                "xanchor": "center",
                "y": 1,
                "yanchor": "middle",
                "yshift": 36
               },
               {
                "font": {
                 "size": 12
                },
                "showarrow": false,
                "text": "A242",
                "x": 242,
                "xanchor": "center",
                "y": 1,
                "yanchor": "middle",
                "yshift": -36
               },
               {
                "font": {
                 "size": 12
                },
                "showarrow": false,
                "text": "K416N",
                "x": 416,
                "xanchor": "center",
                "y": 1,
                "yanchor": "middle",
                "yshift": 18
               },
               {
                "font": {
                 "size": 12
                },
                "showarrow": false,
                "text": "E483K",
                "x": 483,
                "xanchor": "center",
                "y": 1,
                "yanchor": "middle",
                "yshift": -18
               },
               {
                "font": {
                 "size": 12
                },
                "showarrow": false,
                "text": "N500Y",
                "x": 500,
                "xanchor": "center",
                "y": 1,
                "yanchor": "middle",
                "yshift": 36
               },
               {
                "font": {
                 "size": 12
                },
                "showarrow": false,
                "text": "D613G",
                "x": 613,
                "xanchor": "center",
                "y": 1,
                "yanchor": "middle",
                "yshift": -36
               },
               {
                "font": {
                 "size": 12
                },
                "showarrow": false,
                "text": "A700V",
                "x": 700,
                "xanchor": "center",
                "y": 1,
                "yanchor": "middle",
                "yshift": 18
               },
               {
                "font": {
                 "size": 14
                },
                "showarrow": false,
                "text": "Alignment Score: 98.51%",
                "x": 0.1,
                "xanchor": "left",
                "y": 0,
                "yanchor": "bottom"
               },
               {
                "showarrow": false,
                "text": "counts",
                "textangle": 0,
                "x": 1450,
                "y": 0,
                "yanchor": "bottom"
               }
              ],
              "title": {
               "text": "Spike Protein Comparison<br><sup>of Most Frequent Sequence of Selected Clade to Baseline <br>20H (Beta, V2) (UAR25116) difference from 19A (QOF09449)<sup>",
               "x": 0.1
              }
             }
            ],
            "label": "20H (Beta, V2)",
            "method": "update"
           },
           {
            "args": [
             {
              "visible": [
               false,
               false,
               false,
               false,
               false,
               false,
               false,
               false,
               false,
               false,
               false,
               false,
               false,
               false,
               false,
               false,
               false,
               false,
               false,
               false,
               false,
               false,
               false,
               false,
               false,
               false,
               false,
               false,
               false,
               false,
               false,
               false,
               false,
               false,
               false,
               false,
               false,
               false,
               false,
               false,
               false,
               false,
               false,
               false,
               false,
               false,
               false,
               false,
               false,
               false,
               false,
               false,
               false,
               false,
               false,
               false,
               false,
               false,
               false,
               false,
               false,
               false,
               false,
               false,
               true,
               true,
               true,
               true,
               true,
               true,
               true,
               true,
               false,
               false,
               false,
               false,
               false,
               false,
               false,
               false,
               false,
               false,
               false,
               false,
               false,
               false,
               false,
               false,
               false,
               false,
               false,
               false,
               false,
               false,
               false,
               false,
               false,
               false,
               false,
               false,
               false,
               false,
               false,
               false,
               false,
               false,
               false,
               false,
               false,
               false,
               false,
               false,
               false,
               false,
               false,
               false,
               false,
               false,
               false,
               false,
               false,
               false,
               false,
               false,
               false,
               false,
               false,
               false,
               false,
               false,
               false,
               false,
               false,
               false,
               false,
               false,
               false,
               false,
               false,
               false,
               false,
               false,
               false,
               false,
               false,
               false,
               false,
               false,
               false,
               false,
               false,
               false
              ]
             },
             {
              "annotations": [
               {
                "font": {
                 "size": 12
                },
                "showarrow": false,
                "text": "T94I",
                "x": 94,
                "xanchor": "center",
                "y": 1,
                "yanchor": "middle",
                "yshift": 18
               },
               {
                "font": {
                 "size": 12
                },
                "showarrow": false,
                "text": "D252G",
                "x": 252,
                "xanchor": "center",
                "y": 1,
                "yanchor": "middle",
                "yshift": -18
               },
               {
                "font": {
                 "size": 12
                },
                "showarrow": false,
                "text": "E483K",
                "x": 483,
                "xanchor": "center",
                "y": 1,
                "yanchor": "middle",
                "yshift": 36
               },
               {
                "font": {
                 "size": 12
                },
                "showarrow": false,
                "text": "D613G",
                "x": 613,
                "xanchor": "center",
                "y": 1,
                "yanchor": "middle",
                "yshift": -36
               },
               {
                "font": {
                 "size": 12
                },
                "showarrow": false,
                "text": "A700V",
                "x": 700,
                "xanchor": "center",
                "y": 1,
                "yanchor": "middle",
                "yshift": 18
               },
               {
                "font": {
                 "size": 12
                },
                "showarrow": false,
                "text": "I817V",
                "x": 817,
                "xanchor": "center",
                "y": 1,
                "yanchor": "middle",
                "yshift": -18
               },
               {
                "font": {
                 "size": 14
                },
                "showarrow": false,
                "text": "Alignment Score: 99.60%",
                "x": 0.1,
                "xanchor": "left",
                "y": 0,
                "yanchor": "bottom"
               },
               {
                "showarrow": false,
                "text": "counts",
                "textangle": 0,
                "x": 1450,
                "y": 0,
                "yanchor": "bottom"
               }
              ],
              "title": {
               "text": "Spike Protein Comparison<br><sup>of Most Frequent Sequence of Selected Clade to Baseline <br>20I (Alpha, V1) (QXP14639) difference from 19A (QOF09449)<sup>",
               "x": 0.1
              }
             }
            ],
            "label": "20I (Alpha, V1)",
            "method": "update"
           },
           {
            "args": [
             {
              "visible": [
               false,
               false,
               false,
               false,
               false,
               false,
               false,
               false,
               false,
               false,
               false,
               false,
               false,
               false,
               false,
               false,
               false,
               false,
               false,
               false,
               false,
               false,
               false,
               false,
               false,
               false,
               false,
               false,
               false,
               false,
               false,
               false,
               false,
               false,
               false,
               false,
               false,
               false,
               false,
               false,
               false,
               false,
               false,
               false,
               false,
               false,
               false,
               false,
               false,
               false,
               false,
               false,
               false,
               false,
               false,
               false,
               false,
               false,
               false,
               false,
               false,
               false,
               false,
               false,
               false,
               false,
               false,
               false,
               false,
               false,
               false,
               false,
               true,
               true,
               true,
               true,
               true,
               true,
               true,
               true,
               false,
               false,
               false,
               false,
               false,
               false,
               false,
               false,
               false,
               false,
               false,
               false,
               false,
               false,
               false,
               false,
               false,
               false,
               false,
               false,
               false,
               false,
               false,
               false,
               false,
               false,
               false,
               false,
               false,
               false,
               false,
               false,
               false,
               false,
               false,
               false,
               false,
               false,
               false,
               false,
               false,
               false,
               false,
               false,
               false,
               false,
               false,
               false,
               false,
               false,
               false,
               false,
               false,
               false,
               false,
               false,
               false,
               false,
               false,
               false,
               false,
               false,
               false,
               false,
               false,
               false,
               false,
               false,
               false,
               false,
               false,
               false
              ]
             },
             {
              "annotations": [
               {
                "font": {
                 "size": 12
                },
                "showarrow": false,
                "text": "F4L",
                "x": 4,
                "xanchor": "center",
                "y": 1,
                "yanchor": "middle",
                "yshift": 18
               },
               {
                "font": {
                 "size": 12
                },
                "showarrow": false,
                "text": "L17F",
                "x": 17,
                "xanchor": "center",
                "y": 1,
                "yanchor": "middle",
                "yshift": -18
               },
               {
                "font": {
                 "size": 12
                },
                "showarrow": false,
                "text": "T19N",
                "x": 19,
                "xanchor": "center",
                "y": 1,
                "yanchor": "middle",
                "yshift": 36
               },
               {
                "font": {
                 "size": 12
                },
                "showarrow": false,
                "text": "P25S",
                "x": 25,
                "xanchor": "center",
                "y": 1,
                "yanchor": "middle",
                "yshift": -36
               },
               {
                "font": {
                 "size": 12
                },
                "showarrow": false,
                "text": "D137Y",
                "x": 137,
                "xanchor": "center",
                "y": 1,
                "yanchor": "middle",
                "yshift": 18
               },
               {
                "font": {
                 "size": 12
                },
                "showarrow": false,
                "text": "R189S",
                "x": 189,
                "xanchor": "center",
                "y": 1,
                "yanchor": "middle",
                "yshift": -18
               },
               {
                "font": {
                 "size": 12
                },
                "showarrow": false,
                "text": "K416T",
                "x": 416,
                "xanchor": "center",
                "y": 1,
                "yanchor": "middle",
                "yshift": 36
               },
               {
                "font": {
                 "size": 12
                },
                "showarrow": false,
                "text": "E483K",
                "x": 483,
                "xanchor": "center",
                "y": 1,
                "yanchor": "middle",
                "yshift": -36
               },
               {
                "font": {
                 "size": 12
                },
                "showarrow": false,
                "text": "N500Y",
                "x": 500,
                "xanchor": "center",
                "y": 1,
                "yanchor": "middle",
                "yshift": 18
               },
               {
                "font": {
                 "size": 12
                },
                "showarrow": false,
                "text": "D613G",
                "x": 613,
                "xanchor": "center",
                "y": 1,
                "yanchor": "middle",
                "yshift": -18
               },
               {
                "font": {
                 "size": 12
                },
                "showarrow": false,
                "text": "H654Y",
                "x": 654,
                "xanchor": "center",
                "y": 1,
                "yanchor": "middle",
                "yshift": 36
               },
               {
                "font": {
                 "size": 12
                },
                "showarrow": false,
                "text": "T1026I",
                "x": 1026,
                "xanchor": "center",
                "y": 1,
                "yanchor": "middle",
                "yshift": -36
               },
               {
                "font": {
                 "size": 12
                },
                "showarrow": false,
                "text": "V1175F",
                "x": 1175,
                "xanchor": "center",
                "y": 1,
                "yanchor": "middle",
                "yshift": 18
               },
               {
                "font": {
                 "size": 14
                },
                "showarrow": false,
                "text": "Alignment Score: 98.84%",
                "x": 0.1,
                "xanchor": "left",
                "y": 0,
                "yanchor": "bottom"
               },
               {
                "showarrow": false,
                "text": "counts",
                "textangle": 0,
                "x": 1450,
                "y": 0,
                "yanchor": "bottom"
               }
              ],
              "title": {
               "text": "Spike Protein Comparison<br><sup>of Most Frequent Sequence of Selected Clade to Baseline <br>20J (Gamma, V3) (QWY94091) difference from 19A (QOF09449)<sup>",
               "x": 0.1
              }
             }
            ],
            "label": "20J (Gamma, V3)",
            "method": "update"
           },
           {
            "args": [
             {
              "visible": [
               false,
               false,
               false,
               false,
               false,
               false,
               false,
               false,
               false,
               false,
               false,
               false,
               false,
               false,
               false,
               false,
               false,
               false,
               false,
               false,
               false,
               false,
               false,
               false,
               false,
               false,
               false,
               false,
               false,
               false,
               false,
               false,
               false,
               false,
               false,
               false,
               false,
               false,
               false,
               false,
               false,
               false,
               false,
               false,
               false,
               false,
               false,
               false,
               false,
               false,
               false,
               false,
               false,
               false,
               false,
               false,
               false,
               false,
               false,
               false,
               false,
               false,
               false,
               false,
               false,
               false,
               false,
               false,
               false,
               false,
               false,
               false,
               false,
               false,
               false,
               false,
               false,
               false,
               false,
               false,
               true,
               true,
               true,
               true,
               true,
               true,
               true,
               true,
               false,
               false,
               false,
               false,
               false,
               false,
               false,
               false,
               false,
               false,
               false,
               false,
               false,
               false,
               false,
               false,
               false,
               false,
               false,
               false,
               false,
               false,
               false,
               false,
               false,
               false,
               false,
               false,
               false,
               false,
               false,
               false,
               false,
               false,
               false,
               false,
               false,
               false,
               false,
               false,
               false,
               false,
               false,
               false,
               false,
               false,
               false,
               false,
               false,
               false,
               false,
               false,
               false,
               false,
               false,
               false,
               false,
               false,
               false,
               false,
               false,
               false,
               false,
               false
              ]
             },
             {
              "annotations": [
               {
                "font": {
                 "size": 12
                },
                "showarrow": false,
                "text": "F4L",
                "x": 4,
                "xanchor": "center",
                "y": 1,
                "yanchor": "middle",
                "yshift": 18
               },
               {
                "font": {
                 "size": 12
                },
                "showarrow": false,
                "text": "T18R",
                "x": 18,
                "xanchor": "center",
                "y": 1,
                "yanchor": "middle",
                "yshift": -18
               },
               {
                "font": {
                 "size": 12
                },
                "showarrow": false,
                "text": "K76T",
                "x": 76,
                "xanchor": "center",
                "y": 1,
                "yanchor": "middle",
                "yshift": 36
               },
               {
                "font": {
                 "size": 12
                },
                "showarrow": false,
                "text": "G141D",
                "x": 141,
                "xanchor": "center",
                "y": 1,
                "yanchor": "middle",
                "yshift": -36
               },
               {
                "font": {
                 "size": 12
                },
                "showarrow": false,
                "text": "E155",
                "x": 155,
                "xanchor": "center",
                "y": 1,
                "yanchor": "middle",
                "yshift": 18
               },
               {
                "font": {
                 "size": 12
                },
                "showarrow": false,
                "text": "F156",
                "x": 156,
                "xanchor": "center",
                "y": 1,
                "yanchor": "middle",
                "yshift": -18
               },
               {
                "font": {
                 "size": 12
                },
                "showarrow": false,
                "text": "R157G",
                "x": 157,
                "xanchor": "center",
                "y": 1,
                "yanchor": "middle",
                "yshift": 36
               },
               {
                "font": {
                 "size": 12
                },
                "showarrow": false,
                "text": "L451R",
                "x": 451,
                "xanchor": "center",
                "y": 1,
                "yanchor": "middle",
                "yshift": -36
               },
               {
                "font": {
                 "size": 12
                },
                "showarrow": false,
                "text": "T477K",
                "x": 477,
                "xanchor": "center",
                "y": 1,
                "yanchor": "middle",
                "yshift": 18
               },
               {
                "font": {
                 "size": 12
                },
                "showarrow": false,
                "text": "D613G",
                "x": 613,
                "xanchor": "center",
                "y": 1,
                "yanchor": "middle",
                "yshift": -18
               },
               {
                "font": {
                 "size": 12
                },
                "showarrow": false,
                "text": "P680R",
                "x": 680,
                "xanchor": "center",
                "y": 1,
                "yanchor": "middle",
                "yshift": 36
               },
               {
                "font": {
                 "size": 12
                },
                "showarrow": false,
                "text": "D949N",
                "x": 949,
                "xanchor": "center",
                "y": 1,
                "yanchor": "middle",
                "yshift": -36
               },
               {
                "font": {
                 "size": 14
                },
                "showarrow": false,
                "text": "Alignment Score: 98.54%",
                "x": 0.1,
                "xanchor": "left",
                "y": 0,
                "yanchor": "bottom"
               },
               {
                "showarrow": false,
                "text": "counts",
                "textangle": 0,
                "x": 1450,
                "y": 0,
                "yanchor": "bottom"
               }
              ],
              "title": {
               "text": "Spike Protein Comparison<br><sup>of Most Frequent Sequence of Selected Clade to Baseline <br>21A (Delta) (QZD09591) difference from 19A (QOF09449)<sup>",
               "x": 0.1
              }
             }
            ],
            "label": "21A (Delta)",
            "method": "update"
           },
           {
            "args": [
             {
              "visible": [
               false,
               false,
               false,
               false,
               false,
               false,
               false,
               false,
               false,
               false,
               false,
               false,
               false,
               false,
               false,
               false,
               false,
               false,
               false,
               false,
               false,
               false,
               false,
               false,
               false,
               false,
               false,
               false,
               false,
               false,
               false,
               false,
               false,
               false,
               false,
               false,
               false,
               false,
               false,
               false,
               false,
               false,
               false,
               false,
               false,
               false,
               false,
               false,
               false,
               false,
               false,
               false,
               false,
               false,
               false,
               false,
               false,
               false,
               false,
               false,
               false,
               false,
               false,
               false,
               false,
               false,
               false,
               false,
               false,
               false,
               false,
               false,
               false,
               false,
               false,
               false,
               false,
               false,
               false,
               false,
               false,
               false,
               false,
               false,
               false,
               false,
               false,
               false,
               true,
               true,
               true,
               true,
               true,
               true,
               true,
               true,
               false,
               false,
               false,
               false,
               false,
               false,
               false,
               false,
               false,
               false,
               false,
               false,
               false,
               false,
               false,
               false,
               false,
               false,
               false,
               false,
               false,
               false,
               false,
               false,
               false,
               false,
               false,
               false,
               false,
               false,
               false,
               false,
               false,
               false,
               false,
               false,
               false,
               false,
               false,
               false,
               false,
               false,
               false,
               false,
               false,
               false,
               false,
               false,
               false,
               false,
               false,
               false,
               false,
               false,
               false,
               false
              ]
             },
             {
              "annotations": [
               {
                "font": {
                 "size": 12
                },
                "showarrow": false,
                "text": "F4L",
                "x": 4,
                "xanchor": "center",
                "y": 1,
                "yanchor": "middle",
                "yshift": 18
               },
               {
                "font": {
                 "size": 12
                },
                "showarrow": false,
                "text": "T94I",
                "x": 94,
                "xanchor": "center",
                "y": 1,
                "yanchor": "middle",
                "yshift": -18
               },
               {
                "font": {
                 "size": 12
                },
                "showarrow": false,
                "text": "G141D",
                "x": 141,
                "xanchor": "center",
                "y": 1,
                "yanchor": "middle",
                "yshift": 36
               },
               {
                "font": {
                 "size": 12
                },
                "showarrow": false,
                "text": "E153K",
                "x": 153,
                "xanchor": "center",
                "y": 1,
                "yanchor": "middle",
                "yshift": -36
               },
               {
                "font": {
                 "size": 12
                },
                "showarrow": false,
                "text": "L451R",
                "x": 451,
                "xanchor": "center",
                "y": 1,
                "yanchor": "middle",
                "yshift": 18
               },
               {
                "font": {
                 "size": 12
                },
                "showarrow": false,
                "text": "E483Q",
                "x": 483,
                "xanchor": "center",
                "y": 1,
                "yanchor": "middle",
                "yshift": -18
               },
               {
                "font": {
                 "size": 12
                },
                "showarrow": false,
                "text": "D613G",
                "x": 613,
                "xanchor": "center",
                "y": 1,
                "yanchor": "middle",
                "yshift": 36
               },
               {
                "font": {
                 "size": 12
                },
                "showarrow": false,
                "text": "P680R",
                "x": 680,
                "xanchor": "center",
                "y": 1,
                "yanchor": "middle",
                "yshift": -36
               },
               {
                "font": {
                 "size": 12
                },
                "showarrow": false,
                "text": "Q1070H",
                "x": 1070,
                "xanchor": "center",
                "y": 1,
                "yanchor": "middle",
                "yshift": 18
               },
               {
                "font": {
                 "size": 14
                },
                "showarrow": false,
                "text": "Alignment Score: 99.24%",
                "x": 0.1,
                "xanchor": "left",
                "y": 0,
                "yanchor": "bottom"
               },
               {
                "showarrow": false,
                "text": "counts",
                "textangle": 0,
                "x": 1450,
                "y": 0,
                "yanchor": "bottom"
               }
              ],
              "title": {
               "text": "Spike Protein Comparison<br><sup>of Most Frequent Sequence of Selected Clade to Baseline <br>21B (Kappa) (QUH89695) difference from 19A (QOF09449)<sup>",
               "x": 0.1
              }
             }
            ],
            "label": "21B (Kappa)",
            "method": "update"
           },
           {
            "args": [
             {
              "visible": [
               false,
               false,
               false,
               false,
               false,
               false,
               false,
               false,
               false,
               false,
               false,
               false,
               false,
               false,
               false,
               false,
               false,
               false,
               false,
               false,
               false,
               false,
               false,
               false,
               false,
               false,
               false,
               false,
               false,
               false,
               false,
               false,
               false,
               false,
               false,
               false,
               false,
               false,
               false,
               false,
               false,
               false,
               false,
               false,
               false,
               false,
               false,
               false,
               false,
               false,
               false,
               false,
               false,
               false,
               false,
               false,
               false,
               false,
               false,
               false,
               false,
               false,
               false,
               false,
               false,
               false,
               false,
               false,
               false,
               false,
               false,
               false,
               false,
               false,
               false,
               false,
               false,
               false,
               false,
               false,
               false,
               false,
               false,
               false,
               false,
               false,
               false,
               false,
               false,
               false,
               false,
               false,
               false,
               false,
               false,
               false,
               true,
               true,
               true,
               true,
               true,
               true,
               true,
               true,
               false,
               false,
               false,
               false,
               false,
               false,
               false,
               false,
               false,
               false,
               false,
               false,
               false,
               false,
               false,
               false,
               false,
               false,
               false,
               false,
               false,
               false,
               false,
               false,
               false,
               false,
               false,
               false,
               false,
               false,
               false,
               false,
               false,
               false,
               false,
               false,
               false,
               false,
               false,
               false,
               false,
               false,
               false,
               false,
               false,
               false,
               false,
               false
              ]
             },
             {
              "annotations": [
               {
                "font": {
                 "size": 12
                },
                "showarrow": false,
                "text": "F4L",
                "x": 4,
                "xanchor": "center",
                "y": 1,
                "yanchor": "middle",
                "yshift": 18
               },
               {
                "font": {
                 "size": 12
                },
                "showarrow": false,
                "text": "S12I",
                "x": 12,
                "xanchor": "center",
                "y": 1,
                "yanchor": "middle",
                "yshift": -18
               },
               {
                "font": {
                 "size": 12
                },
                "showarrow": false,
                "text": "W151C",
                "x": 151,
                "xanchor": "center",
                "y": 1,
                "yanchor": "middle",
                "yshift": 36
               },
               {
                "font": {
                 "size": 12
                },
                "showarrow": false,
                "text": "L451R",
                "x": 451,
                "xanchor": "center",
                "y": 1,
                "yanchor": "middle",
                "yshift": -36
               },
               {
                "font": {
                 "size": 12
                },
                "showarrow": false,
                "text": "D613G",
                "x": 613,
                "xanchor": "center",
                "y": 1,
                "yanchor": "middle",
                "yshift": 18
               },
               {
                "font": {
                 "size": 14
                },
                "showarrow": false,
                "text": "Alignment Score: 99.46%",
                "x": 0.1,
                "xanchor": "left",
                "y": 0,
                "yanchor": "bottom"
               },
               {
                "showarrow": false,
                "text": "counts",
                "textangle": 0,
                "x": 1450,
                "y": 0,
                "yanchor": "bottom"
               }
              ],
              "title": {
               "text": "Spike Protein Comparison<br><sup>of Most Frequent Sequence of Selected Clade to Baseline <br>21C (Epsilon) (QTI97781) difference from 19A (QOF09449)<sup>",
               "x": 0.1
              }
             }
            ],
            "label": "21C (Epsilon)",
            "method": "update"
           },
           {
            "args": [
             {
              "visible": [
               false,
               false,
               false,
               false,
               false,
               false,
               false,
               false,
               false,
               false,
               false,
               false,
               false,
               false,
               false,
               false,
               false,
               false,
               false,
               false,
               false,
               false,
               false,
               false,
               false,
               false,
               false,
               false,
               false,
               false,
               false,
               false,
               false,
               false,
               false,
               false,
               false,
               false,
               false,
               false,
               false,
               false,
               false,
               false,
               false,
               false,
               false,
               false,
               false,
               false,
               false,
               false,
               false,
               false,
               false,
               false,
               false,
               false,
               false,
               false,
               false,
               false,
               false,
               false,
               false,
               false,
               false,
               false,
               false,
               false,
               false,
               false,
               false,
               false,
               false,
               false,
               false,
               false,
               false,
               false,
               false,
               false,
               false,
               false,
               false,
               false,
               false,
               false,
               false,
               false,
               false,
               false,
               false,
               false,
               false,
               false,
               false,
               false,
               false,
               false,
               false,
               false,
               false,
               false,
               true,
               true,
               true,
               true,
               true,
               true,
               true,
               true,
               false,
               false,
               false,
               false,
               false,
               false,
               false,
               false,
               false,
               false,
               false,
               false,
               false,
               false,
               false,
               false,
               false,
               false,
               false,
               false,
               false,
               false,
               false,
               false,
               false,
               false,
               false,
               false,
               false,
               false,
               false,
               false,
               false,
               false,
               false,
               false,
               false,
               false,
               false,
               false
              ]
             },
             {
              "annotations": [
               {
                "font": {
                 "size": 12
                },
                "showarrow": false,
                "text": "F4L",
                "x": 4,
                "xanchor": "center",
                "y": 1,
                "yanchor": "middle",
                "yshift": 18
               },
               {
                "font": {
                 "size": 12
                },
                "showarrow": false,
                "text": "E483K",
                "x": 483,
                "xanchor": "center",
                "y": 1,
                "yanchor": "middle",
                "yshift": -18
               },
               {
                "font": {
                 "size": 12
                },
                "showarrow": false,
                "text": "D613G",
                "x": 613,
                "xanchor": "center",
                "y": 1,
                "yanchor": "middle",
                "yshift": 36
               },
               {
                "font": {
                 "size": 12
                },
                "showarrow": false,
                "text": "V1175F",
                "x": 1175,
                "xanchor": "center",
                "y": 1,
                "yanchor": "middle",
                "yshift": -36
               },
               {
                "font": {
                 "size": 14
                },
                "showarrow": false,
                "text": "Alignment Score: 99.70%",
                "x": 0.1,
                "xanchor": "left",
                "y": 0,
                "yanchor": "bottom"
               },
               {
                "showarrow": false,
                "text": "counts",
                "textangle": 0,
                "x": 1450,
                "y": 0,
                "yanchor": "bottom"
               }
              ],
              "title": {
               "text": "Spike Protein Comparison<br><sup>of Most Frequent Sequence of Selected Clade to Baseline <br>21D (Eta) (QWU01313) difference from 19A (QOF09449)<sup>",
               "x": 0.1
              }
             }
            ],
            "label": "21D (Eta)",
            "method": "update"
           },
           {
            "args": [
             {
              "visible": [
               false,
               false,
               false,
               false,
               false,
               false,
               false,
               false,
               false,
               false,
               false,
               false,
               false,
               false,
               false,
               false,
               false,
               false,
               false,
               false,
               false,
               false,
               false,
               false,
               false,
               false,
               false,
               false,
               false,
               false,
               false,
               false,
               false,
               false,
               false,
               false,
               false,
               false,
               false,
               false,
               false,
               false,
               false,
               false,
               false,
               false,
               false,
               false,
               false,
               false,
               false,
               false,
               false,
               false,
               false,
               false,
               false,
               false,
               false,
               false,
               false,
               false,
               false,
               false,
               false,
               false,
               false,
               false,
               false,
               false,
               false,
               false,
               false,
               false,
               false,
               false,
               false,
               false,
               false,
               false,
               false,
               false,
               false,
               false,
               false,
               false,
               false,
               false,
               false,
               false,
               false,
               false,
               false,
               false,
               false,
               false,
               false,
               false,
               false,
               false,
               false,
               false,
               false,
               false,
               false,
               false,
               false,
               false,
               false,
               false,
               false,
               false,
               true,
               true,
               true,
               true,
               true,
               true,
               true,
               true,
               false,
               false,
               false,
               false,
               false,
               false,
               false,
               false,
               false,
               false,
               false,
               false,
               false,
               false,
               false,
               false,
               false,
               false,
               false,
               false,
               false,
               false,
               false,
               false,
               false,
               false,
               false,
               false,
               false,
               false,
               false,
               false
              ]
             },
             {
              "annotations": [
               {
                "font": {
                 "size": 12
                },
                "showarrow": false,
                "text": "T94I",
                "x": 94,
                "xanchor": "center",
                "y": 1,
                "yanchor": "middle",
                "yshift": 18
               },
               {
                "font": {
                 "size": 12
                },
                "showarrow": false,
                "text": "D252G",
                "x": 252,
                "xanchor": "center",
                "y": 1,
                "yanchor": "middle",
                "yshift": -18
               },
               {
                "font": {
                 "size": 12
                },
                "showarrow": false,
                "text": "S476N",
                "x": 476,
                "xanchor": "center",
                "y": 1,
                "yanchor": "middle",
                "yshift": 36
               },
               {
                "font": {
                 "size": 12
                },
                "showarrow": false,
                "text": "D613G",
                "x": 613,
                "xanchor": "center",
                "y": 1,
                "yanchor": "middle",
                "yshift": -36
               },
               {
                "font": {
                 "size": 12
                },
                "showarrow": false,
                "text": "Q956R",
                "x": 956,
                "xanchor": "center",
                "y": 1,
                "yanchor": "middle",
                "yshift": 18
               },
               {
                "font": {
                 "size": 14
                },
                "showarrow": false,
                "text": "Alignment Score: 99.63%",
                "x": 0.1,
                "xanchor": "left",
                "y": 0,
                "yanchor": "bottom"
               },
               {
                "showarrow": false,
                "text": "counts",
                "textangle": 0,
                "x": 1450,
                "y": 0,
                "yanchor": "bottom"
               }
              ],
              "title": {
               "text": "Spike Protein Comparison<br><sup>of Most Frequent Sequence of Selected Clade to Baseline <br>21F (Iota) (QUQ04393) difference from 19A (QOF09449)<sup>",
               "x": 0.1
              }
             }
            ],
            "label": "21F (Iota)",
            "method": "update"
           },
           {
            "args": [
             {
              "visible": [
               false,
               false,
               false,
               false,
               false,
               false,
               false,
               false,
               false,
               false,
               false,
               false,
               false,
               false,
               false,
               false,
               false,
               false,
               false,
               false,
               false,
               false,
               false,
               false,
               false,
               false,
               false,
               false,
               false,
               false,
               false,
               false,
               false,
               false,
               false,
               false,
               false,
               false,
               false,
               false,
               false,
               false,
               false,
               false,
               false,
               false,
               false,
               false,
               false,
               false,
               false,
               false,
               false,
               false,
               false,
               false,
               false,
               false,
               false,
               false,
               false,
               false,
               false,
               false,
               false,
               false,
               false,
               false,
               false,
               false,
               false,
               false,
               false,
               false,
               false,
               false,
               false,
               false,
               false,
               false,
               false,
               false,
               false,
               false,
               false,
               false,
               false,
               false,
               false,
               false,
               false,
               false,
               false,
               false,
               false,
               false,
               false,
               false,
               false,
               false,
               false,
               false,
               false,
               false,
               false,
               false,
               false,
               false,
               false,
               false,
               false,
               false,
               false,
               false,
               false,
               false,
               false,
               false,
               false,
               false,
               true,
               true,
               true,
               true,
               true,
               true,
               true,
               true,
               false,
               false,
               false,
               false,
               false,
               false,
               false,
               false,
               false,
               false,
               false,
               false,
               false,
               false,
               false,
               false,
               false,
               false,
               false,
               false,
               false,
               false,
               false,
               false
              ]
             },
             {
              "annotations": [
               {
                "font": {
                 "size": 12
                },
                "showarrow": false,
                "text": "T94I",
                "x": 94,
                "xanchor": "center",
                "y": 1,
                "yanchor": "middle",
                "yshift": 18
               },
               {
                "font": {
                 "size": 12
                },
                "showarrow": false,
                "text": "S476N",
                "x": 476,
                "xanchor": "center",
                "y": 1,
                "yanchor": "middle",
                "yshift": -18
               },
               {
                "font": {
                 "size": 12
                },
                "showarrow": false,
                "text": "D613G",
                "x": 613,
                "xanchor": "center",
                "y": 1,
                "yanchor": "middle",
                "yshift": 36
               },
               {
                "font": {
                 "size": 12
                },
                "showarrow": false,
                "text": "A700V",
                "x": 700,
                "xanchor": "center",
                "y": 1,
                "yanchor": "middle",
                "yshift": -36
               },
               {
                "font": {
                 "size": 14
                },
                "showarrow": false,
                "text": "Alignment Score: 99.73%",
                "x": 0.1,
                "xanchor": "left",
                "y": 0,
                "yanchor": "bottom"
               },
               {
                "showarrow": false,
                "text": "counts",
                "textangle": 0,
                "x": 1450,
                "y": 0,
                "yanchor": "bottom"
               }
              ],
              "title": {
               "text": "Spike Protein Comparison<br><sup>of Most Frequent Sequence of Selected Clade to Baseline <br>21G (Lambda) (QXL64433) difference from 19A (QOF09449)<sup>",
               "x": 0.1
              }
             }
            ],
            "label": "21G (Lambda)\t",
            "method": "update"
           },
           {
            "args": [
             {
              "visible": [
               false,
               false,
               false,
               false,
               false,
               false,
               false,
               false,
               false,
               false,
               false,
               false,
               false,
               false,
               false,
               false,
               false,
               false,
               false,
               false,
               false,
               false,
               false,
               false,
               false,
               false,
               false,
               false,
               false,
               false,
               false,
               false,
               false,
               false,
               false,
               false,
               false,
               false,
               false,
               false,
               false,
               false,
               false,
               false,
               false,
               false,
               false,
               false,
               false,
               false,
               false,
               false,
               false,
               false,
               false,
               false,
               false,
               false,
               false,
               false,
               false,
               false,
               false,
               false,
               false,
               false,
               false,
               false,
               false,
               false,
               false,
               false,
               false,
               false,
               false,
               false,
               false,
               false,
               false,
               false,
               false,
               false,
               false,
               false,
               false,
               false,
               false,
               false,
               false,
               false,
               false,
               false,
               false,
               false,
               false,
               false,
               false,
               false,
               false,
               false,
               false,
               false,
               false,
               false,
               false,
               false,
               false,
               false,
               false,
               false,
               false,
               false,
               false,
               false,
               false,
               false,
               false,
               false,
               false,
               false,
               false,
               false,
               false,
               false,
               false,
               false,
               false,
               false,
               true,
               true,
               true,
               true,
               true,
               true,
               true,
               true,
               false,
               false,
               false,
               false,
               false,
               false,
               false,
               false,
               false,
               false,
               false,
               false,
               false,
               false,
               false,
               false
              ]
             },
             {
              "annotations": [
               {
                "font": {
                 "size": 12
                },
                "showarrow": false,
                "text": "T94I",
                "x": 94,
                "xanchor": "center",
                "y": 1,
                "yanchor": "middle",
                "yshift": 18
               },
               {
                "font": {
                 "size": 12
                },
                "showarrow": false,
                "text": "T249A",
                "x": 249,
                "xanchor": "center",
                "y": 1,
                "yanchor": "middle",
                "yshift": -18
               },
               {
                "font": {
                 "size": 12
                },
                "showarrow": false,
                "text": "D252G",
                "x": 252,
                "xanchor": "center",
                "y": 1,
                "yanchor": "middle",
                "yshift": 36
               },
               {
                "font": {
                 "size": 12
                },
                "showarrow": false,
                "text": "E483K",
                "x": 483,
                "xanchor": "center",
                "y": 1,
                "yanchor": "middle",
                "yshift": -36
               },
               {
                "font": {
                 "size": 12
                },
                "showarrow": false,
                "text": "D613G",
                "x": 613,
                "xanchor": "center",
                "y": 1,
                "yanchor": "middle",
                "yshift": 18
               },
               {
                "font": {
                 "size": 12
                },
                "showarrow": false,
                "text": "A700V",
                "x": 700,
                "xanchor": "center",
                "y": 1,
                "yanchor": "middle",
                "yshift": -18
               },
               {
                "font": {
                 "size": 14
                },
                "showarrow": false,
                "text": "Alignment Score: 99.54%",
                "x": 0.1,
                "xanchor": "left",
                "y": 0,
                "yanchor": "bottom"
               },
               {
                "showarrow": false,
                "text": "counts",
                "textangle": 0,
                "x": 1450,
                "y": 0,
                "yanchor": "bottom"
               }
              ],
              "title": {
               "text": "Spike Protein Comparison<br><sup>of Most Frequent Sequence of Selected Clade to Baseline <br>21H (Mu) (QXL64492) difference from 19A (QOF09449)<sup>",
               "x": 0.1
              }
             }
            ],
            "label": "21H (Mu)",
            "method": "update"
           },
           {
            "args": [
             {
              "visible": [
               false,
               false,
               false,
               false,
               false,
               false,
               false,
               false,
               false,
               false,
               false,
               false,
               false,
               false,
               false,
               false,
               false,
               false,
               false,
               false,
               false,
               false,
               false,
               false,
               false,
               false,
               false,
               false,
               false,
               false,
               false,
               false,
               false,
               false,
               false,
               false,
               false,
               false,
               false,
               false,
               false,
               false,
               false,
               false,
               false,
               false,
               false,
               false,
               false,
               false,
               false,
               false,
               false,
               false,
               false,
               false,
               false,
               false,
               false,
               false,
               false,
               false,
               false,
               false,
               false,
               false,
               false,
               false,
               false,
               false,
               false,
               false,
               false,
               false,
               false,
               false,
               false,
               false,
               false,
               false,
               false,
               false,
               false,
               false,
               false,
               false,
               false,
               false,
               false,
               false,
               false,
               false,
               false,
               false,
               false,
               false,
               false,
               false,
               false,
               false,
               false,
               false,
               false,
               false,
               false,
               false,
               false,
               false,
               false,
               false,
               false,
               false,
               false,
               false,
               false,
               false,
               false,
               false,
               false,
               false,
               false,
               false,
               false,
               false,
               false,
               false,
               false,
               false,
               false,
               false,
               false,
               false,
               false,
               false,
               false,
               false,
               true,
               true,
               true,
               true,
               true,
               true,
               true,
               true,
               false,
               false,
               false,
               false,
               false,
               false,
               false,
               false
              ]
             },
             {
              "annotations": [
               {
                "font": {
                 "size": 12
                },
                "showarrow": false,
                "text": "F4L",
                "x": 4,
                "xanchor": "center",
                "y": 1,
                "yanchor": "middle",
                "yshift": 18
               },
               {
                "font": {
                 "size": 12
                },
                "showarrow": false,
                "text": "T18R",
                "x": 18,
                "xanchor": "center",
                "y": 1,
                "yanchor": "middle",
                "yshift": -18
               },
               {
                "font": {
                 "size": 12
                },
                "showarrow": false,
                "text": "F156C",
                "x": 156,
                "xanchor": "center",
                "y": 1,
                "yanchor": "middle",
                "yshift": 36
               },
               {
                "font": {
                 "size": 12
                },
                "showarrow": false,
                "text": "R157G",
                "x": 157,
                "xanchor": "center",
                "y": 1,
                "yanchor": "middle",
                "yshift": -36
               },
               {
                "font": {
                 "size": 12
                },
                "showarrow": false,
                "text": "A221V",
                "x": 221,
                "xanchor": "center",
                "y": 1,
                "yanchor": "middle",
                "yshift": 18
               },
               {
                "font": {
                 "size": 12
                },
                "showarrow": false,
                "text": "L451R",
                "x": 451,
                "xanchor": "center",
                "y": 1,
                "yanchor": "middle",
                "yshift": -18
               },
               {
                "font": {
                 "size": 12
                },
                "showarrow": false,
                "text": "T477K",
                "x": 477,
                "xanchor": "center",
                "y": 1,
                "yanchor": "middle",
                "yshift": 36
               },
               {
                "font": {
                 "size": 12
                },
                "showarrow": false,
                "text": "D613G",
                "x": 613,
                "xanchor": "center",
                "y": 1,
                "yanchor": "middle",
                "yshift": -36
               },
               {
                "font": {
                 "size": 12
                },
                "showarrow": false,
                "text": "P680R",
                "x": 680,
                "xanchor": "center",
                "y": 1,
                "yanchor": "middle",
                "yshift": 18
               },
               {
                "font": {
                 "size": 12
                },
                "showarrow": false,
                "text": "D949N",
                "x": 949,
                "xanchor": "center",
                "y": 1,
                "yanchor": "middle",
                "yshift": -18
               },
               {
                "font": {
                 "size": 12
                },
                "showarrow": false,
                "text": "V1263L",
                "x": 1263,
                "xanchor": "center",
                "y": 1,
                "yanchor": "middle",
                "yshift": 36
               },
               {
                "font": {
                 "size": 14
                },
                "showarrow": false,
                "text": "Alignment Score: 99.03%",
                "x": 0.1,
                "xanchor": "left",
                "y": 0,
                "yanchor": "bottom"
               },
               {
                "showarrow": false,
                "text": "counts",
                "textangle": 0,
                "x": 1450,
                "y": 0,
                "yanchor": "bottom"
               }
              ],
              "title": {
               "text": "Spike Protein Comparison<br><sup>of Most Frequent Sequence of Selected Clade to Baseline <br>21I (Delta) (QXY23330) difference from 19A (QOF09449)<sup>",
               "x": 0.1
              }
             }
            ],
            "label": "21I (Delta)",
            "method": "update"
           },
           {
            "args": [
             {
              "visible": [
               false,
               false,
               false,
               false,
               false,
               false,
               false,
               false,
               false,
               false,
               false,
               false,
               false,
               false,
               false,
               false,
               false,
               false,
               false,
               false,
               false,
               false,
               false,
               false,
               false,
               false,
               false,
               false,
               false,
               false,
               false,
               false,
               false,
               false,
               false,
               false,
               false,
               false,
               false,
               false,
               false,
               false,
               false,
               false,
               false,
               false,
               false,
               false,
               false,
               false,
               false,
               false,
               false,
               false,
               false,
               false,
               false,
               false,
               false,
               false,
               false,
               false,
               false,
               false,
               false,
               false,
               false,
               false,
               false,
               false,
               false,
               false,
               false,
               false,
               false,
               false,
               false,
               false,
               false,
               false,
               false,
               false,
               false,
               false,
               false,
               false,
               false,
               false,
               false,
               false,
               false,
               false,
               false,
               false,
               false,
               false,
               false,
               false,
               false,
               false,
               false,
               false,
               false,
               false,
               false,
               false,
               false,
               false,
               false,
               false,
               false,
               false,
               false,
               false,
               false,
               false,
               false,
               false,
               false,
               false,
               false,
               false,
               false,
               false,
               false,
               false,
               false,
               false,
               false,
               false,
               false,
               false,
               false,
               false,
               false,
               false,
               true,
               true,
               true,
               true,
               true,
               true,
               true,
               true,
               false,
               false,
               false,
               false,
               false,
               false,
               false,
               false
              ]
             },
             {
              "annotations": [
               {
                "font": {
                 "size": 12
                },
                "showarrow": false,
                "text": "F4L",
                "x": 4,
                "xanchor": "center",
                "y": 1,
                "yanchor": "middle",
                "yshift": 18
               },
               {
                "font": {
                 "size": 12
                },
                "showarrow": false,
                "text": "T18R",
                "x": 18,
                "xanchor": "center",
                "y": 1,
                "yanchor": "middle",
                "yshift": -18
               },
               {
                "font": {
                 "size": 12
                },
                "showarrow": false,
                "text": "F156C",
                "x": 156,
                "xanchor": "center",
                "y": 1,
                "yanchor": "middle",
                "yshift": 36
               },
               {
                "font": {
                 "size": 12
                },
                "showarrow": false,
                "text": "R157G",
                "x": 157,
                "xanchor": "center",
                "y": 1,
                "yanchor": "middle",
                "yshift": -36
               },
               {
                "font": {
                 "size": 12
                },
                "showarrow": false,
                "text": "A221V",
                "x": 221,
                "xanchor": "center",
                "y": 1,
                "yanchor": "middle",
                "yshift": 18
               },
               {
                "font": {
                 "size": 12
                },
                "showarrow": false,
                "text": "L451R",
                "x": 451,
                "xanchor": "center",
                "y": 1,
                "yanchor": "middle",
                "yshift": -18
               },
               {
                "font": {
                 "size": 12
                },
                "showarrow": false,
                "text": "T477K",
                "x": 477,
                "xanchor": "center",
                "y": 1,
                "yanchor": "middle",
                "yshift": 36
               },
               {
                "font": {
                 "size": 12
                },
                "showarrow": false,
                "text": "D613G",
                "x": 613,
                "xanchor": "center",
                "y": 1,
                "yanchor": "middle",
                "yshift": -36
               },
               {
                "font": {
                 "size": 12
                },
                "showarrow": false,
                "text": "P680R",
                "x": 680,
                "xanchor": "center",
                "y": 1,
                "yanchor": "middle",
                "yshift": 18
               },
               {
                "font": {
                 "size": 12
                },
                "showarrow": false,
                "text": "D949N",
                "x": 949,
                "xanchor": "center",
                "y": 1,
                "yanchor": "middle",
                "yshift": -18
               },
               {
                "font": {
                 "size": 12
                },
                "showarrow": false,
                "text": "V1263L",
                "x": 1263,
                "xanchor": "center",
                "y": 1,
                "yanchor": "middle",
                "yshift": 36
               },
               {
                "font": {
                 "size": 14
                },
                "showarrow": false,
                "text": "Alignment Score: 99.03%",
                "x": 0.1,
                "xanchor": "left",
                "y": 0,
                "yanchor": "bottom"
               },
               {
                "showarrow": false,
                "text": "counts",
                "textangle": 0,
                "x": 1450,
                "y": 0,
                "yanchor": "bottom"
               }
              ],
              "title": {
               "text": "Spike Protein Comparison<br><sup>of Most Frequent Sequence of Selected Clade to Baseline <br>21I (Delta) (QXY23330) difference from 19A (QOF09449)<sup>",
               "x": 0.1
              }
             }
            ],
            "label": "21J (Delta)",
            "method": "update"
           }
          ],
          "direction": "down",
          "pad": {
           "r": 10,
           "t": 10
          },
          "showactive": true,
          "x": 0.5,
          "xanchor": "left",
          "y": 1.4,
          "yanchor": "top"
         }
        ],
        "width": 1100,
        "xaxis": {
         "range": [
          -15,
          1850
         ],
         "showgrid": false,
         "visible": false,
         "zeroline": false
        },
        "yaxis": {
         "range": [
          0,
          1.5
         ],
         "showgrid": false,
         "visible": false,
         "zeroline": false
        }
       }
      },
      "text/html": [
       "<div>                            <div id=\"c5b990a0-e5f7-44a5-9631-5f022bf100db\" class=\"plotly-graph-div\" style=\"height:380px; width:1100px;\"></div>            <script type=\"text/javascript\">                require([\"plotly\"], function(Plotly) {                    window.PLOTLYENV=window.PLOTLYENV || {};                                    if (document.getElementById(\"c5b990a0-e5f7-44a5-9631-5f022bf100db\")) {                    Plotly.newPlot(                        \"c5b990a0-e5f7-44a5-9631-5f022bf100db\",                        [{\"hoverinfo\":\"skip\",\"line\":{\"color\":\"gray\"},\"mode\":\"lines\",\"name\":\"sequence line\",\"showlegend\":false,\"visible\":true,\"x\":[0,1273],\"y\":[1,1],\"type\":\"scatter\"},{\"hoverinfo\":\"skip\",\"legendgroup\":\"Subunit\",\"line\":{\"color\":\"plum\",\"width\":3},\"mode\":\"lines\",\"name\":\"S1\",\"showlegend\":true,\"visible\":true,\"x\":[14,685],\"y\":[1,1],\"type\":\"scatter\"},{\"hoverinfo\":\"skip\",\"legendgroup\":\"Subunit\",\"line\":{\"color\":\"pink\",\"width\":3},\"mode\":\"lines\",\"name\":\"S2\",\"showlegend\":true,\"visible\":true,\"x\":[686,1273],\"y\":[1,1],\"type\":\"scatter\"},{\"hoverinfo\":\"x\",\"legendgroup\":\"changes\",\"marker\":{\"color\":\"orange\",\"size\":8,\"symbol\":\"square\"},\"mode\":\"markers\",\"name\":\"insertion\",\"showlegend\":true,\"visible\":true,\"x\":[null],\"y\":[1],\"type\":\"scatter\"},{\"hoverinfo\":\"x\",\"legendgroup\":\"changes\",\"marker\":{\"color\":\"red\",\"size\":8,\"symbol\":\"square\"},\"mode\":\"markers\",\"name\":\"deletion\",\"showlegend\":true,\"visible\":true,\"x\":[null],\"y\":[1],\"type\":\"scatter\"},{\"hoverinfo\":\"x\",\"legendgroup\":\"changes\",\"marker\":{\"color\":\"blue\",\"size\":8,\"symbol\":\"circle\"},\"mode\":\"markers\",\"name\":\"substitution, semi-conservative\",\"showlegend\":true,\"visible\":true,\"x\":[null,4],\"y\":[1,1],\"type\":\"scatter\"},{\"hoverinfo\":\"x\",\"legendgroup\":\"changes\",\"marker\":{\"color\":\"lightblue\",\"size\":8,\"symbol\":\"circle\"},\"mode\":\"markers\",\"name\":\"substitution, conservative\",\"showlegend\":true,\"visible\":true,\"x\":[null],\"y\":[1],\"type\":\"scatter\"},{\"hoverinfo\":\"skip\",\"marker\":{\"color\":[\"orange\",\"red\",\"blue\",\"lightblue\"],\"line\":{\"color\":[\"orange\",\"red\",\"blue\",\"lightblue\"],\"width\":2}},\"name\":\"counts\",\"showlegend\":false,\"text\":[\"0\",\"0\",\"1\",\"0\"],\"textposition\":\"outside\",\"visible\":true,\"width\":30,\"x\":[1540,1590,1640,1700],\"y\":[0.0,0.0,0.85,0.0],\"type\":\"bar\"},{\"hoverinfo\":\"skip\",\"line\":{\"color\":\"gray\"},\"mode\":\"lines\",\"name\":\"sequence line\",\"showlegend\":false,\"visible\":false,\"x\":[0,1273],\"y\":[1,1],\"type\":\"scatter\"},{\"hoverinfo\":\"skip\",\"legendgroup\":\"Subunit\",\"line\":{\"color\":\"plum\",\"width\":3},\"mode\":\"lines\",\"name\":\"S1\",\"showlegend\":true,\"visible\":false,\"x\":[14,685],\"y\":[1,1],\"type\":\"scatter\"},{\"hoverinfo\":\"skip\",\"legendgroup\":\"Subunit\",\"line\":{\"color\":\"pink\",\"width\":3},\"mode\":\"lines\",\"name\":\"S2\",\"showlegend\":true,\"visible\":false,\"x\":[686,1273],\"y\":[1,1],\"type\":\"scatter\"},{\"hoverinfo\":\"x\",\"legendgroup\":\"changes\",\"marker\":{\"color\":\"orange\",\"size\":8,\"symbol\":\"square\"},\"mode\":\"markers\",\"name\":\"insertion\",\"showlegend\":true,\"visible\":false,\"x\":[null],\"y\":[1],\"type\":\"scatter\"},{\"hoverinfo\":\"x\",\"legendgroup\":\"changes\",\"marker\":{\"color\":\"red\",\"size\":8,\"symbol\":\"square\"},\"mode\":\"markers\",\"name\":\"deletion\",\"showlegend\":true,\"visible\":false,\"x\":[null],\"y\":[1],\"type\":\"scatter\"},{\"hoverinfo\":\"x\",\"legendgroup\":\"changes\",\"marker\":{\"color\":\"blue\",\"size\":8,\"symbol\":\"circle\"},\"mode\":\"markers\",\"name\":\"substitution, semi-conservative\",\"showlegend\":true,\"visible\":false,\"x\":[null,4,613,680],\"y\":[1,1,1,1],\"type\":\"scatter\"},{\"hoverinfo\":\"x\",\"legendgroup\":\"changes\",\"marker\":{\"color\":\"lightblue\",\"size\":8,\"symbol\":\"circle\"},\"mode\":\"markers\",\"name\":\"substitution, conservative\",\"showlegend\":true,\"visible\":false,\"x\":[null],\"y\":[1],\"type\":\"scatter\"},{\"hoverinfo\":\"skip\",\"marker\":{\"color\":[\"orange\",\"red\",\"blue\",\"lightblue\"],\"line\":{\"color\":[\"orange\",\"red\",\"blue\",\"lightblue\"],\"width\":2}},\"name\":\"counts\",\"showlegend\":false,\"text\":[\"0\",\"0\",\"3\",\"0\"],\"textposition\":\"outside\",\"visible\":false,\"width\":30,\"x\":[1540,1590,1640,1700],\"y\":[0.0,0.0,0.85,0.0],\"type\":\"bar\"},{\"hoverinfo\":\"skip\",\"line\":{\"color\":\"gray\"},\"mode\":\"lines\",\"name\":\"sequence line\",\"showlegend\":false,\"visible\":false,\"x\":[0,1273],\"y\":[1,1],\"type\":\"scatter\"},{\"hoverinfo\":\"skip\",\"legendgroup\":\"Subunit\",\"line\":{\"color\":\"plum\",\"width\":3},\"mode\":\"lines\",\"name\":\"S1\",\"showlegend\":true,\"visible\":false,\"x\":[14,685],\"y\":[1,1],\"type\":\"scatter\"},{\"hoverinfo\":\"skip\",\"legendgroup\":\"Subunit\",\"line\":{\"color\":\"pink\",\"width\":3},\"mode\":\"lines\",\"name\":\"S2\",\"showlegend\":true,\"visible\":false,\"x\":[686,1273],\"y\":[1,1],\"type\":\"scatter\"},{\"hoverinfo\":\"x\",\"legendgroup\":\"changes\",\"marker\":{\"color\":\"orange\",\"size\":8,\"symbol\":\"square\"},\"mode\":\"markers\",\"name\":\"insertion\",\"showlegend\":true,\"visible\":false,\"x\":[null],\"y\":[1],\"type\":\"scatter\"},{\"hoverinfo\":\"x\",\"legendgroup\":\"changes\",\"marker\":{\"color\":\"red\",\"size\":8,\"symbol\":\"square\"},\"mode\":\"markers\",\"name\":\"deletion\",\"showlegend\":true,\"visible\":false,\"x\":[null],\"y\":[1],\"type\":\"scatter\"},{\"hoverinfo\":\"x\",\"legendgroup\":\"changes\",\"marker\":{\"color\":\"blue\",\"size\":8,\"symbol\":\"circle\"},\"mode\":\"markers\",\"name\":\"substitution, semi-conservative\",\"showlegend\":true,\"visible\":false,\"x\":[null,4,477,613,680,731],\"y\":[1,1,1,1,1,1],\"type\":\"scatter\"},{\"hoverinfo\":\"x\",\"legendgroup\":\"changes\",\"marker\":{\"color\":\"lightblue\",\"size\":8,\"symbol\":\"circle\"},\"mode\":\"markers\",\"name\":\"substitution, conservative\",\"showlegend\":true,\"visible\":false,\"x\":[null],\"y\":[1],\"type\":\"scatter\"},{\"hoverinfo\":\"skip\",\"marker\":{\"color\":[\"orange\",\"red\",\"blue\",\"lightblue\"],\"line\":{\"color\":[\"orange\",\"red\",\"blue\",\"lightblue\"],\"width\":2}},\"name\":\"counts\",\"showlegend\":false,\"text\":[\"0\",\"0\",\"5\",\"0\"],\"textposition\":\"outside\",\"visible\":false,\"width\":30,\"x\":[1540,1590,1640,1700],\"y\":[0.0,0.0,0.85,0.0],\"type\":\"bar\"},{\"hoverinfo\":\"skip\",\"line\":{\"color\":\"gray\"},\"mode\":\"lines\",\"name\":\"sequence line\",\"showlegend\":false,\"visible\":false,\"x\":[0,1273],\"y\":[1,1],\"type\":\"scatter\"},{\"hoverinfo\":\"skip\",\"legendgroup\":\"Subunit\",\"line\":{\"color\":\"plum\",\"width\":3},\"mode\":\"lines\",\"name\":\"S1\",\"showlegend\":true,\"visible\":false,\"x\":[14,685],\"y\":[1,1],\"type\":\"scatter\"},{\"hoverinfo\":\"skip\",\"legendgroup\":\"Subunit\",\"line\":{\"color\":\"pink\",\"width\":3},\"mode\":\"lines\",\"name\":\"S2\",\"showlegend\":true,\"visible\":false,\"x\":[686,1273],\"y\":[1,1],\"type\":\"scatter\"},{\"hoverinfo\":\"x\",\"legendgroup\":\"changes\",\"marker\":{\"color\":\"orange\",\"size\":8,\"symbol\":\"square\"},\"mode\":\"markers\",\"name\":\"insertion\",\"showlegend\":true,\"visible\":false,\"x\":[null],\"y\":[1],\"type\":\"scatter\"},{\"hoverinfo\":\"x\",\"legendgroup\":\"changes\",\"marker\":{\"color\":\"red\",\"size\":8,\"symbol\":\"square\"},\"mode\":\"markers\",\"name\":\"deletion\",\"showlegend\":true,\"visible\":false,\"x\":[null],\"y\":[1],\"type\":\"scatter\"},{\"hoverinfo\":\"x\",\"legendgroup\":\"changes\",\"marker\":{\"color\":\"blue\",\"size\":8,\"symbol\":\"circle\"},\"mode\":\"markers\",\"name\":\"substitution, semi-conservative\",\"showlegend\":true,\"visible\":false,\"x\":[null,4,613],\"y\":[1,1,1],\"type\":\"scatter\"},{\"hoverinfo\":\"x\",\"legendgroup\":\"changes\",\"marker\":{\"color\":\"lightblue\",\"size\":8,\"symbol\":\"circle\"},\"mode\":\"markers\",\"name\":\"substitution, conservative\",\"showlegend\":true,\"visible\":false,\"x\":[null],\"y\":[1],\"type\":\"scatter\"},{\"hoverinfo\":\"skip\",\"marker\":{\"color\":[\"orange\",\"red\",\"blue\",\"lightblue\"],\"line\":{\"color\":[\"orange\",\"red\",\"blue\",\"lightblue\"],\"width\":2}},\"name\":\"counts\",\"showlegend\":false,\"text\":[\"0\",\"0\",\"2\",\"0\"],\"textposition\":\"outside\",\"visible\":false,\"width\":30,\"x\":[1540,1590,1640,1700],\"y\":[0.0,0.0,0.85,0.0],\"type\":\"bar\"},{\"hoverinfo\":\"skip\",\"line\":{\"color\":\"gray\"},\"mode\":\"lines\",\"name\":\"sequence line\",\"showlegend\":false,\"visible\":false,\"x\":[0,1273],\"y\":[1,1],\"type\":\"scatter\"},{\"hoverinfo\":\"skip\",\"legendgroup\":\"Subunit\",\"line\":{\"color\":\"plum\",\"width\":3},\"mode\":\"lines\",\"name\":\"S1\",\"showlegend\":true,\"visible\":false,\"x\":[14,685],\"y\":[1,1],\"type\":\"scatter\"},{\"hoverinfo\":\"skip\",\"legendgroup\":\"Subunit\",\"line\":{\"color\":\"pink\",\"width\":3},\"mode\":\"lines\",\"name\":\"S2\",\"showlegend\":true,\"visible\":false,\"x\":[686,1273],\"y\":[1,1],\"type\":\"scatter\"},{\"hoverinfo\":\"x\",\"legendgroup\":\"changes\",\"marker\":{\"color\":\"orange\",\"size\":8,\"symbol\":\"square\"},\"mode\":\"markers\",\"name\":\"insertion\",\"showlegend\":true,\"visible\":false,\"x\":[null],\"y\":[1],\"type\":\"scatter\"},{\"hoverinfo\":\"x\",\"legendgroup\":\"changes\",\"marker\":{\"color\":\"red\",\"size\":8,\"symbol\":\"square\"},\"mode\":\"markers\",\"name\":\"deletion\",\"showlegend\":true,\"visible\":false,\"x\":[null],\"y\":[1],\"type\":\"scatter\"},{\"hoverinfo\":\"x\",\"legendgroup\":\"changes\",\"marker\":{\"color\":\"blue\",\"size\":8,\"symbol\":\"circle\"},\"mode\":\"markers\",\"name\":\"substitution, semi-conservative\",\"showlegend\":true,\"visible\":false,\"x\":[null,76,94,252,476,613,956,1249],\"y\":[1,1,1,1,1,1,1,1],\"type\":\"scatter\"},{\"hoverinfo\":\"x\",\"legendgroup\":\"changes\",\"marker\":{\"color\":\"lightblue\",\"size\":8,\"symbol\":\"circle\"},\"mode\":\"markers\",\"name\":\"substitution, conservative\",\"showlegend\":true,\"visible\":false,\"x\":[null],\"y\":[1],\"type\":\"scatter\"},{\"hoverinfo\":\"skip\",\"marker\":{\"color\":[\"orange\",\"red\",\"blue\",\"lightblue\"],\"line\":{\"color\":[\"orange\",\"red\",\"blue\",\"lightblue\"],\"width\":2}},\"name\":\"counts\",\"showlegend\":false,\"text\":[\"0\",\"0\",\"7\",\"0\"],\"textposition\":\"outside\",\"visible\":false,\"width\":30,\"x\":[1540,1590,1640,1700],\"y\":[0.0,0.0,0.85,0.0],\"type\":\"bar\"},{\"hoverinfo\":\"skip\",\"line\":{\"color\":\"gray\"},\"mode\":\"lines\",\"name\":\"sequence line\",\"showlegend\":false,\"visible\":false,\"x\":[0,1273],\"y\":[1,1],\"type\":\"scatter\"},{\"hoverinfo\":\"skip\",\"legendgroup\":\"Subunit\",\"line\":{\"color\":\"plum\",\"width\":3},\"mode\":\"lines\",\"name\":\"S1\",\"showlegend\":true,\"visible\":false,\"x\":[14,685],\"y\":[1,1],\"type\":\"scatter\"},{\"hoverinfo\":\"skip\",\"legendgroup\":\"Subunit\",\"line\":{\"color\":\"pink\",\"width\":3},\"mode\":\"lines\",\"name\":\"S2\",\"showlegend\":true,\"visible\":false,\"x\":[686,1273],\"y\":[1,1],\"type\":\"scatter\"},{\"hoverinfo\":\"x\",\"legendgroup\":\"changes\",\"marker\":{\"color\":\"orange\",\"size\":8,\"symbol\":\"square\"},\"mode\":\"markers\",\"name\":\"insertion\",\"showlegend\":true,\"visible\":false,\"x\":[null],\"y\":[1],\"type\":\"scatter\"},{\"hoverinfo\":\"x\",\"legendgroup\":\"changes\",\"marker\":{\"color\":\"red\",\"size\":8,\"symbol\":\"square\"},\"mode\":\"markers\",\"name\":\"deletion\",\"showlegend\":true,\"visible\":false,\"x\":[null],\"y\":[1],\"type\":\"scatter\"},{\"hoverinfo\":\"x\",\"legendgroup\":\"changes\",\"marker\":{\"color\":\"blue\",\"size\":8,\"symbol\":\"circle\"},\"mode\":\"markers\",\"name\":\"substitution, semi-conservative\",\"showlegend\":true,\"visible\":false,\"x\":[null,4,221,613],\"y\":[1,1,1,1],\"type\":\"scatter\"},{\"hoverinfo\":\"x\",\"legendgroup\":\"changes\",\"marker\":{\"color\":\"lightblue\",\"size\":8,\"symbol\":\"circle\"},\"mode\":\"markers\",\"name\":\"substitution, conservative\",\"showlegend\":true,\"visible\":false,\"x\":[null],\"y\":[1],\"type\":\"scatter\"},{\"hoverinfo\":\"skip\",\"marker\":{\"color\":[\"orange\",\"red\",\"blue\",\"lightblue\"],\"line\":{\"color\":[\"orange\",\"red\",\"blue\",\"lightblue\"],\"width\":2}},\"name\":\"counts\",\"showlegend\":false,\"text\":[\"0\",\"0\",\"3\",\"0\"],\"textposition\":\"outside\",\"visible\":false,\"width\":30,\"x\":[1540,1590,1640,1700],\"y\":[0.0,0.0,0.85,0.0],\"type\":\"bar\"},{\"hoverinfo\":\"skip\",\"line\":{\"color\":\"gray\"},\"mode\":\"lines\",\"name\":\"sequence line\",\"showlegend\":false,\"visible\":false,\"x\":[0,1273],\"y\":[1,1],\"type\":\"scatter\"},{\"hoverinfo\":\"skip\",\"legendgroup\":\"Subunit\",\"line\":{\"color\":\"plum\",\"width\":3},\"mode\":\"lines\",\"name\":\"S1\",\"showlegend\":true,\"visible\":false,\"x\":[14,685],\"y\":[1,1],\"type\":\"scatter\"},{\"hoverinfo\":\"skip\",\"legendgroup\":\"Subunit\",\"line\":{\"color\":\"pink\",\"width\":3},\"mode\":\"lines\",\"name\":\"S2\",\"showlegend\":true,\"visible\":false,\"x\":[686,1273],\"y\":[1,1],\"type\":\"scatter\"},{\"hoverinfo\":\"x\",\"legendgroup\":\"changes\",\"marker\":{\"color\":\"orange\",\"size\":8,\"symbol\":\"square\"},\"mode\":\"markers\",\"name\":\"insertion\",\"showlegend\":true,\"visible\":false,\"x\":[null],\"y\":[1],\"type\":\"scatter\"},{\"hoverinfo\":\"x\",\"legendgroup\":\"changes\",\"marker\":{\"color\":\"red\",\"size\":8,\"symbol\":\"square\"},\"mode\":\"markers\",\"name\":\"deletion\",\"showlegend\":true,\"visible\":false,\"x\":[null],\"y\":[1],\"type\":\"scatter\"},{\"hoverinfo\":\"x\",\"legendgroup\":\"changes\",\"marker\":{\"color\":\"blue\",\"size\":8,\"symbol\":\"circle\"},\"mode\":\"markers\",\"name\":\"substitution, semi-conservative\",\"showlegend\":true,\"visible\":false,\"x\":[null,4,613],\"y\":[1,1,1],\"type\":\"scatter\"},{\"hoverinfo\":\"x\",\"legendgroup\":\"changes\",\"marker\":{\"color\":\"lightblue\",\"size\":8,\"symbol\":\"circle\"},\"mode\":\"markers\",\"name\":\"substitution, conservative\",\"showlegend\":true,\"visible\":false,\"x\":[null],\"y\":[1],\"type\":\"scatter\"},{\"hoverinfo\":\"skip\",\"marker\":{\"color\":[\"orange\",\"red\",\"blue\",\"lightblue\"],\"line\":{\"color\":[\"orange\",\"red\",\"blue\",\"lightblue\"],\"width\":2}},\"name\":\"counts\",\"showlegend\":false,\"text\":[\"0\",\"0\",\"2\",\"0\"],\"textposition\":\"outside\",\"visible\":false,\"width\":30,\"x\":[1540,1590,1640,1700],\"y\":[0.0,0.0,0.85,0.0],\"type\":\"bar\"},{\"hoverinfo\":\"skip\",\"line\":{\"color\":\"gray\"},\"mode\":\"lines\",\"name\":\"sequence line\",\"showlegend\":false,\"visible\":false,\"x\":[0,1273],\"y\":[1,1],\"type\":\"scatter\"},{\"hoverinfo\":\"skip\",\"legendgroup\":\"Subunit\",\"line\":{\"color\":\"plum\",\"width\":3},\"mode\":\"lines\",\"name\":\"S1\",\"showlegend\":true,\"visible\":false,\"x\":[14,685],\"y\":[1,1],\"type\":\"scatter\"},{\"hoverinfo\":\"skip\",\"legendgroup\":\"Subunit\",\"line\":{\"color\":\"pink\",\"width\":3},\"mode\":\"lines\",\"name\":\"S2\",\"showlegend\":true,\"visible\":false,\"x\":[686,1273],\"y\":[1,1],\"type\":\"scatter\"},{\"hoverinfo\":\"x\",\"legendgroup\":\"changes\",\"marker\":{\"color\":\"orange\",\"size\":8,\"symbol\":\"square\"},\"mode\":\"markers\",\"name\":\"insertion\",\"showlegend\":true,\"visible\":false,\"x\":[null],\"y\":[1],\"type\":\"scatter\"},{\"hoverinfo\":\"x\",\"legendgroup\":\"changes\",\"marker\":{\"color\":\"red\",\"size\":8,\"symbol\":\"square\"},\"mode\":\"markers\",\"name\":\"deletion\",\"showlegend\":true,\"visible\":false,\"x\":[null,240,241,242],\"y\":[1,1,1,1],\"type\":\"scatter\"},{\"hoverinfo\":\"x\",\"legendgroup\":\"changes\",\"marker\":{\"color\":\"blue\",\"size\":8,\"symbol\":\"circle\"},\"mode\":\"markers\",\"name\":\"substitution, semi-conservative\",\"showlegend\":true,\"visible\":false,\"x\":[null,4,17,79,137,214,416,483,500,613,700],\"y\":[1,1,1,1,1,1,1,1,1,1,1],\"type\":\"scatter\"},{\"hoverinfo\":\"x\",\"legendgroup\":\"changes\",\"marker\":{\"color\":\"lightblue\",\"size\":8,\"symbol\":\"circle\"},\"mode\":\"markers\",\"name\":\"substitution, conservative\",\"showlegend\":true,\"visible\":false,\"x\":[null],\"y\":[1],\"type\":\"scatter\"},{\"hoverinfo\":\"skip\",\"marker\":{\"color\":[\"orange\",\"red\",\"blue\",\"lightblue\"],\"line\":{\"color\":[\"orange\",\"red\",\"blue\",\"lightblue\"],\"width\":2}},\"name\":\"counts\",\"showlegend\":false,\"text\":[\"0\",\"3\",\"10\",\"0\"],\"textposition\":\"outside\",\"visible\":false,\"width\":30,\"x\":[1540,1590,1640,1700],\"y\":[0.0,0.19615384615384615,0.6538461538461539,0.0],\"type\":\"bar\"},{\"hoverinfo\":\"skip\",\"line\":{\"color\":\"gray\"},\"mode\":\"lines\",\"name\":\"sequence line\",\"showlegend\":false,\"visible\":false,\"x\":[0,1273],\"y\":[1,1],\"type\":\"scatter\"},{\"hoverinfo\":\"skip\",\"legendgroup\":\"Subunit\",\"line\":{\"color\":\"plum\",\"width\":3},\"mode\":\"lines\",\"name\":\"S1\",\"showlegend\":true,\"visible\":false,\"x\":[14,685],\"y\":[1,1],\"type\":\"scatter\"},{\"hoverinfo\":\"skip\",\"legendgroup\":\"Subunit\",\"line\":{\"color\":\"pink\",\"width\":3},\"mode\":\"lines\",\"name\":\"S2\",\"showlegend\":true,\"visible\":false,\"x\":[686,1273],\"y\":[1,1],\"type\":\"scatter\"},{\"hoverinfo\":\"x\",\"legendgroup\":\"changes\",\"marker\":{\"color\":\"orange\",\"size\":8,\"symbol\":\"square\"},\"mode\":\"markers\",\"name\":\"insertion\",\"showlegend\":true,\"visible\":false,\"x\":[null],\"y\":[1],\"type\":\"scatter\"},{\"hoverinfo\":\"x\",\"legendgroup\":\"changes\",\"marker\":{\"color\":\"red\",\"size\":8,\"symbol\":\"square\"},\"mode\":\"markers\",\"name\":\"deletion\",\"showlegend\":true,\"visible\":false,\"x\":[null],\"y\":[1],\"type\":\"scatter\"},{\"hoverinfo\":\"x\",\"legendgroup\":\"changes\",\"marker\":{\"color\":\"blue\",\"size\":8,\"symbol\":\"circle\"},\"mode\":\"markers\",\"name\":\"substitution, semi-conservative\",\"showlegend\":true,\"visible\":false,\"x\":[null,94,252,483,613,700,817],\"y\":[1,1,1,1,1,1,1],\"type\":\"scatter\"},{\"hoverinfo\":\"x\",\"legendgroup\":\"changes\",\"marker\":{\"color\":\"lightblue\",\"size\":8,\"symbol\":\"circle\"},\"mode\":\"markers\",\"name\":\"substitution, conservative\",\"showlegend\":true,\"visible\":false,\"x\":[null],\"y\":[1],\"type\":\"scatter\"},{\"hoverinfo\":\"skip\",\"marker\":{\"color\":[\"orange\",\"red\",\"blue\",\"lightblue\"],\"line\":{\"color\":[\"orange\",\"red\",\"blue\",\"lightblue\"],\"width\":2}},\"name\":\"counts\",\"showlegend\":false,\"text\":[\"0\",\"0\",\"6\",\"0\"],\"textposition\":\"outside\",\"visible\":false,\"width\":30,\"x\":[1540,1590,1640,1700],\"y\":[0.0,0.0,0.85,0.0],\"type\":\"bar\"},{\"hoverinfo\":\"skip\",\"line\":{\"color\":\"gray\"},\"mode\":\"lines\",\"name\":\"sequence line\",\"showlegend\":false,\"visible\":false,\"x\":[0,1273],\"y\":[1,1],\"type\":\"scatter\"},{\"hoverinfo\":\"skip\",\"legendgroup\":\"Subunit\",\"line\":{\"color\":\"plum\",\"width\":3},\"mode\":\"lines\",\"name\":\"S1\",\"showlegend\":true,\"visible\":false,\"x\":[14,685],\"y\":[1,1],\"type\":\"scatter\"},{\"hoverinfo\":\"skip\",\"legendgroup\":\"Subunit\",\"line\":{\"color\":\"pink\",\"width\":3},\"mode\":\"lines\",\"name\":\"S2\",\"showlegend\":true,\"visible\":false,\"x\":[686,1273],\"y\":[1,1],\"type\":\"scatter\"},{\"hoverinfo\":\"x\",\"legendgroup\":\"changes\",\"marker\":{\"color\":\"orange\",\"size\":8,\"symbol\":\"square\"},\"mode\":\"markers\",\"name\":\"insertion\",\"showlegend\":true,\"visible\":false,\"x\":[null],\"y\":[1],\"type\":\"scatter\"},{\"hoverinfo\":\"x\",\"legendgroup\":\"changes\",\"marker\":{\"color\":\"red\",\"size\":8,\"symbol\":\"square\"},\"mode\":\"markers\",\"name\":\"deletion\",\"showlegend\":true,\"visible\":false,\"x\":[null],\"y\":[1],\"type\":\"scatter\"},{\"hoverinfo\":\"x\",\"legendgroup\":\"changes\",\"marker\":{\"color\":\"blue\",\"size\":8,\"symbol\":\"circle\"},\"mode\":\"markers\",\"name\":\"substitution, semi-conservative\",\"showlegend\":true,\"visible\":false,\"x\":[null,4,17,19,25,137,189,416,483,500,613,654,1026,1175],\"y\":[1,1,1,1,1,1,1,1,1,1,1,1,1,1],\"type\":\"scatter\"},{\"hoverinfo\":\"x\",\"legendgroup\":\"changes\",\"marker\":{\"color\":\"lightblue\",\"size\":8,\"symbol\":\"circle\"},\"mode\":\"markers\",\"name\":\"substitution, conservative\",\"showlegend\":true,\"visible\":false,\"x\":[null],\"y\":[1],\"type\":\"scatter\"},{\"hoverinfo\":\"skip\",\"marker\":{\"color\":[\"orange\",\"red\",\"blue\",\"lightblue\"],\"line\":{\"color\":[\"orange\",\"red\",\"blue\",\"lightblue\"],\"width\":2}},\"name\":\"counts\",\"showlegend\":false,\"text\":[\"0\",\"0\",\"13\",\"0\"],\"textposition\":\"outside\",\"visible\":false,\"width\":30,\"x\":[1540,1590,1640,1700],\"y\":[0.0,0.0,0.85,0.0],\"type\":\"bar\"},{\"hoverinfo\":\"skip\",\"line\":{\"color\":\"gray\"},\"mode\":\"lines\",\"name\":\"sequence line\",\"showlegend\":false,\"visible\":false,\"x\":[0,1273],\"y\":[1,1],\"type\":\"scatter\"},{\"hoverinfo\":\"skip\",\"legendgroup\":\"Subunit\",\"line\":{\"color\":\"plum\",\"width\":3},\"mode\":\"lines\",\"name\":\"S1\",\"showlegend\":true,\"visible\":false,\"x\":[14,685],\"y\":[1,1],\"type\":\"scatter\"},{\"hoverinfo\":\"skip\",\"legendgroup\":\"Subunit\",\"line\":{\"color\":\"pink\",\"width\":3},\"mode\":\"lines\",\"name\":\"S2\",\"showlegend\":true,\"visible\":false,\"x\":[686,1273],\"y\":[1,1],\"type\":\"scatter\"},{\"hoverinfo\":\"x\",\"legendgroup\":\"changes\",\"marker\":{\"color\":\"orange\",\"size\":8,\"symbol\":\"square\"},\"mode\":\"markers\",\"name\":\"insertion\",\"showlegend\":true,\"visible\":false,\"x\":[null],\"y\":[1],\"type\":\"scatter\"},{\"hoverinfo\":\"x\",\"legendgroup\":\"changes\",\"marker\":{\"color\":\"red\",\"size\":8,\"symbol\":\"square\"},\"mode\":\"markers\",\"name\":\"deletion\",\"showlegend\":true,\"visible\":false,\"x\":[null,155,156],\"y\":[1,1,1],\"type\":\"scatter\"},{\"hoverinfo\":\"x\",\"legendgroup\":\"changes\",\"marker\":{\"color\":\"blue\",\"size\":8,\"symbol\":\"circle\"},\"mode\":\"markers\",\"name\":\"substitution, semi-conservative\",\"showlegend\":true,\"visible\":false,\"x\":[null,4,18,76,141,157,451,477,613,680,949],\"y\":[1,1,1,1,1,1,1,1,1,1,1],\"type\":\"scatter\"},{\"hoverinfo\":\"x\",\"legendgroup\":\"changes\",\"marker\":{\"color\":\"lightblue\",\"size\":8,\"symbol\":\"circle\"},\"mode\":\"markers\",\"name\":\"substitution, conservative\",\"showlegend\":true,\"visible\":false,\"x\":[null],\"y\":[1],\"type\":\"scatter\"},{\"hoverinfo\":\"skip\",\"marker\":{\"color\":[\"orange\",\"red\",\"blue\",\"lightblue\"],\"line\":{\"color\":[\"orange\",\"red\",\"blue\",\"lightblue\"],\"width\":2}},\"name\":\"counts\",\"showlegend\":false,\"text\":[\"0\",\"2\",\"10\",\"0\"],\"textposition\":\"outside\",\"visible\":false,\"width\":30,\"x\":[1540,1590,1640,1700],\"y\":[0.0,0.14166666666666666,0.7083333333333334,0.0],\"type\":\"bar\"},{\"hoverinfo\":\"skip\",\"line\":{\"color\":\"gray\"},\"mode\":\"lines\",\"name\":\"sequence line\",\"showlegend\":false,\"visible\":false,\"x\":[0,1273],\"y\":[1,1],\"type\":\"scatter\"},{\"hoverinfo\":\"skip\",\"legendgroup\":\"Subunit\",\"line\":{\"color\":\"plum\",\"width\":3},\"mode\":\"lines\",\"name\":\"S1\",\"showlegend\":true,\"visible\":false,\"x\":[14,685],\"y\":[1,1],\"type\":\"scatter\"},{\"hoverinfo\":\"skip\",\"legendgroup\":\"Subunit\",\"line\":{\"color\":\"pink\",\"width\":3},\"mode\":\"lines\",\"name\":\"S2\",\"showlegend\":true,\"visible\":false,\"x\":[686,1273],\"y\":[1,1],\"type\":\"scatter\"},{\"hoverinfo\":\"x\",\"legendgroup\":\"changes\",\"marker\":{\"color\":\"orange\",\"size\":8,\"symbol\":\"square\"},\"mode\":\"markers\",\"name\":\"insertion\",\"showlegend\":true,\"visible\":false,\"x\":[null],\"y\":[1],\"type\":\"scatter\"},{\"hoverinfo\":\"x\",\"legendgroup\":\"changes\",\"marker\":{\"color\":\"red\",\"size\":8,\"symbol\":\"square\"},\"mode\":\"markers\",\"name\":\"deletion\",\"showlegend\":true,\"visible\":false,\"x\":[null],\"y\":[1],\"type\":\"scatter\"},{\"hoverinfo\":\"x\",\"legendgroup\":\"changes\",\"marker\":{\"color\":\"blue\",\"size\":8,\"symbol\":\"circle\"},\"mode\":\"markers\",\"name\":\"substitution, semi-conservative\",\"showlegend\":true,\"visible\":false,\"x\":[null,4,94,141,153,451,483,613,680,1070],\"y\":[1,1,1,1,1,1,1,1,1,1],\"type\":\"scatter\"},{\"hoverinfo\":\"x\",\"legendgroup\":\"changes\",\"marker\":{\"color\":\"lightblue\",\"size\":8,\"symbol\":\"circle\"},\"mode\":\"markers\",\"name\":\"substitution, conservative\",\"showlegend\":true,\"visible\":false,\"x\":[null],\"y\":[1],\"type\":\"scatter\"},{\"hoverinfo\":\"skip\",\"marker\":{\"color\":[\"orange\",\"red\",\"blue\",\"lightblue\"],\"line\":{\"color\":[\"orange\",\"red\",\"blue\",\"lightblue\"],\"width\":2}},\"name\":\"counts\",\"showlegend\":false,\"text\":[\"0\",\"0\",\"9\",\"0\"],\"textposition\":\"outside\",\"visible\":false,\"width\":30,\"x\":[1540,1590,1640,1700],\"y\":[0.0,0.0,0.85,0.0],\"type\":\"bar\"},{\"hoverinfo\":\"skip\",\"line\":{\"color\":\"gray\"},\"mode\":\"lines\",\"name\":\"sequence line\",\"showlegend\":false,\"visible\":false,\"x\":[0,1273],\"y\":[1,1],\"type\":\"scatter\"},{\"hoverinfo\":\"skip\",\"legendgroup\":\"Subunit\",\"line\":{\"color\":\"plum\",\"width\":3},\"mode\":\"lines\",\"name\":\"S1\",\"showlegend\":true,\"visible\":false,\"x\":[14,685],\"y\":[1,1],\"type\":\"scatter\"},{\"hoverinfo\":\"skip\",\"legendgroup\":\"Subunit\",\"line\":{\"color\":\"pink\",\"width\":3},\"mode\":\"lines\",\"name\":\"S2\",\"showlegend\":true,\"visible\":false,\"x\":[686,1273],\"y\":[1,1],\"type\":\"scatter\"},{\"hoverinfo\":\"x\",\"legendgroup\":\"changes\",\"marker\":{\"color\":\"orange\",\"size\":8,\"symbol\":\"square\"},\"mode\":\"markers\",\"name\":\"insertion\",\"showlegend\":true,\"visible\":false,\"x\":[null],\"y\":[1],\"type\":\"scatter\"},{\"hoverinfo\":\"x\",\"legendgroup\":\"changes\",\"marker\":{\"color\":\"red\",\"size\":8,\"symbol\":\"square\"},\"mode\":\"markers\",\"name\":\"deletion\",\"showlegend\":true,\"visible\":false,\"x\":[null],\"y\":[1],\"type\":\"scatter\"},{\"hoverinfo\":\"x\",\"legendgroup\":\"changes\",\"marker\":{\"color\":\"blue\",\"size\":8,\"symbol\":\"circle\"},\"mode\":\"markers\",\"name\":\"substitution, semi-conservative\",\"showlegend\":true,\"visible\":false,\"x\":[null,4,12,151,451,613],\"y\":[1,1,1,1,1,1],\"type\":\"scatter\"},{\"hoverinfo\":\"x\",\"legendgroup\":\"changes\",\"marker\":{\"color\":\"lightblue\",\"size\":8,\"symbol\":\"circle\"},\"mode\":\"markers\",\"name\":\"substitution, conservative\",\"showlegend\":true,\"visible\":false,\"x\":[null],\"y\":[1],\"type\":\"scatter\"},{\"hoverinfo\":\"skip\",\"marker\":{\"color\":[\"orange\",\"red\",\"blue\",\"lightblue\"],\"line\":{\"color\":[\"orange\",\"red\",\"blue\",\"lightblue\"],\"width\":2}},\"name\":\"counts\",\"showlegend\":false,\"text\":[\"0\",\"0\",\"5\",\"0\"],\"textposition\":\"outside\",\"visible\":false,\"width\":30,\"x\":[1540,1590,1640,1700],\"y\":[0.0,0.0,0.85,0.0],\"type\":\"bar\"},{\"hoverinfo\":\"skip\",\"line\":{\"color\":\"gray\"},\"mode\":\"lines\",\"name\":\"sequence line\",\"showlegend\":false,\"visible\":false,\"x\":[0,1273],\"y\":[1,1],\"type\":\"scatter\"},{\"hoverinfo\":\"skip\",\"legendgroup\":\"Subunit\",\"line\":{\"color\":\"plum\",\"width\":3},\"mode\":\"lines\",\"name\":\"S1\",\"showlegend\":true,\"visible\":false,\"x\":[14,685],\"y\":[1,1],\"type\":\"scatter\"},{\"hoverinfo\":\"skip\",\"legendgroup\":\"Subunit\",\"line\":{\"color\":\"pink\",\"width\":3},\"mode\":\"lines\",\"name\":\"S2\",\"showlegend\":true,\"visible\":false,\"x\":[686,1273],\"y\":[1,1],\"type\":\"scatter\"},{\"hoverinfo\":\"x\",\"legendgroup\":\"changes\",\"marker\":{\"color\":\"orange\",\"size\":8,\"symbol\":\"square\"},\"mode\":\"markers\",\"name\":\"insertion\",\"showlegend\":true,\"visible\":false,\"x\":[null],\"y\":[1],\"type\":\"scatter\"},{\"hoverinfo\":\"x\",\"legendgroup\":\"changes\",\"marker\":{\"color\":\"red\",\"size\":8,\"symbol\":\"square\"},\"mode\":\"markers\",\"name\":\"deletion\",\"showlegend\":true,\"visible\":false,\"x\":[null],\"y\":[1],\"type\":\"scatter\"},{\"hoverinfo\":\"x\",\"legendgroup\":\"changes\",\"marker\":{\"color\":\"blue\",\"size\":8,\"symbol\":\"circle\"},\"mode\":\"markers\",\"name\":\"substitution, semi-conservative\",\"showlegend\":true,\"visible\":false,\"x\":[null,4,483,613,1175],\"y\":[1,1,1,1,1],\"type\":\"scatter\"},{\"hoverinfo\":\"x\",\"legendgroup\":\"changes\",\"marker\":{\"color\":\"lightblue\",\"size\":8,\"symbol\":\"circle\"},\"mode\":\"markers\",\"name\":\"substitution, conservative\",\"showlegend\":true,\"visible\":false,\"x\":[null],\"y\":[1],\"type\":\"scatter\"},{\"hoverinfo\":\"skip\",\"marker\":{\"color\":[\"orange\",\"red\",\"blue\",\"lightblue\"],\"line\":{\"color\":[\"orange\",\"red\",\"blue\",\"lightblue\"],\"width\":2}},\"name\":\"counts\",\"showlegend\":false,\"text\":[\"0\",\"0\",\"4\",\"0\"],\"textposition\":\"outside\",\"visible\":false,\"width\":30,\"x\":[1540,1590,1640,1700],\"y\":[0.0,0.0,0.85,0.0],\"type\":\"bar\"},{\"hoverinfo\":\"skip\",\"line\":{\"color\":\"gray\"},\"mode\":\"lines\",\"name\":\"sequence line\",\"showlegend\":false,\"visible\":false,\"x\":[0,1273],\"y\":[1,1],\"type\":\"scatter\"},{\"hoverinfo\":\"skip\",\"legendgroup\":\"Subunit\",\"line\":{\"color\":\"plum\",\"width\":3},\"mode\":\"lines\",\"name\":\"S1\",\"showlegend\":true,\"visible\":false,\"x\":[14,685],\"y\":[1,1],\"type\":\"scatter\"},{\"hoverinfo\":\"skip\",\"legendgroup\":\"Subunit\",\"line\":{\"color\":\"pink\",\"width\":3},\"mode\":\"lines\",\"name\":\"S2\",\"showlegend\":true,\"visible\":false,\"x\":[686,1273],\"y\":[1,1],\"type\":\"scatter\"},{\"hoverinfo\":\"x\",\"legendgroup\":\"changes\",\"marker\":{\"color\":\"orange\",\"size\":8,\"symbol\":\"square\"},\"mode\":\"markers\",\"name\":\"insertion\",\"showlegend\":true,\"visible\":false,\"x\":[null],\"y\":[1],\"type\":\"scatter\"},{\"hoverinfo\":\"x\",\"legendgroup\":\"changes\",\"marker\":{\"color\":\"red\",\"size\":8,\"symbol\":\"square\"},\"mode\":\"markers\",\"name\":\"deletion\",\"showlegend\":true,\"visible\":false,\"x\":[null],\"y\":[1],\"type\":\"scatter\"},{\"hoverinfo\":\"x\",\"legendgroup\":\"changes\",\"marker\":{\"color\":\"blue\",\"size\":8,\"symbol\":\"circle\"},\"mode\":\"markers\",\"name\":\"substitution, semi-conservative\",\"showlegend\":true,\"visible\":false,\"x\":[null,94,252,476,613,956],\"y\":[1,1,1,1,1,1],\"type\":\"scatter\"},{\"hoverinfo\":\"x\",\"legendgroup\":\"changes\",\"marker\":{\"color\":\"lightblue\",\"size\":8,\"symbol\":\"circle\"},\"mode\":\"markers\",\"name\":\"substitution, conservative\",\"showlegend\":true,\"visible\":false,\"x\":[null],\"y\":[1],\"type\":\"scatter\"},{\"hoverinfo\":\"skip\",\"marker\":{\"color\":[\"orange\",\"red\",\"blue\",\"lightblue\"],\"line\":{\"color\":[\"orange\",\"red\",\"blue\",\"lightblue\"],\"width\":2}},\"name\":\"counts\",\"showlegend\":false,\"text\":[\"0\",\"0\",\"5\",\"0\"],\"textposition\":\"outside\",\"visible\":false,\"width\":30,\"x\":[1540,1590,1640,1700],\"y\":[0.0,0.0,0.85,0.0],\"type\":\"bar\"},{\"hoverinfo\":\"skip\",\"line\":{\"color\":\"gray\"},\"mode\":\"lines\",\"name\":\"sequence line\",\"showlegend\":false,\"visible\":false,\"x\":[0,1273],\"y\":[1,1],\"type\":\"scatter\"},{\"hoverinfo\":\"skip\",\"legendgroup\":\"Subunit\",\"line\":{\"color\":\"plum\",\"width\":3},\"mode\":\"lines\",\"name\":\"S1\",\"showlegend\":true,\"visible\":false,\"x\":[14,685],\"y\":[1,1],\"type\":\"scatter\"},{\"hoverinfo\":\"skip\",\"legendgroup\":\"Subunit\",\"line\":{\"color\":\"pink\",\"width\":3},\"mode\":\"lines\",\"name\":\"S2\",\"showlegend\":true,\"visible\":false,\"x\":[686,1273],\"y\":[1,1],\"type\":\"scatter\"},{\"hoverinfo\":\"x\",\"legendgroup\":\"changes\",\"marker\":{\"color\":\"orange\",\"size\":8,\"symbol\":\"square\"},\"mode\":\"markers\",\"name\":\"insertion\",\"showlegend\":true,\"visible\":false,\"x\":[null],\"y\":[1],\"type\":\"scatter\"},{\"hoverinfo\":\"x\",\"legendgroup\":\"changes\",\"marker\":{\"color\":\"red\",\"size\":8,\"symbol\":\"square\"},\"mode\":\"markers\",\"name\":\"deletion\",\"showlegend\":true,\"visible\":false,\"x\":[null],\"y\":[1],\"type\":\"scatter\"},{\"hoverinfo\":\"x\",\"legendgroup\":\"changes\",\"marker\":{\"color\":\"blue\",\"size\":8,\"symbol\":\"circle\"},\"mode\":\"markers\",\"name\":\"substitution, semi-conservative\",\"showlegend\":true,\"visible\":false,\"x\":[null,94,476,613,700],\"y\":[1,1,1,1,1],\"type\":\"scatter\"},{\"hoverinfo\":\"x\",\"legendgroup\":\"changes\",\"marker\":{\"color\":\"lightblue\",\"size\":8,\"symbol\":\"circle\"},\"mode\":\"markers\",\"name\":\"substitution, conservative\",\"showlegend\":true,\"visible\":false,\"x\":[null],\"y\":[1],\"type\":\"scatter\"},{\"hoverinfo\":\"skip\",\"marker\":{\"color\":[\"orange\",\"red\",\"blue\",\"lightblue\"],\"line\":{\"color\":[\"orange\",\"red\",\"blue\",\"lightblue\"],\"width\":2}},\"name\":\"counts\",\"showlegend\":false,\"text\":[\"0\",\"0\",\"4\",\"0\"],\"textposition\":\"outside\",\"visible\":false,\"width\":30,\"x\":[1540,1590,1640,1700],\"y\":[0.0,0.0,0.85,0.0],\"type\":\"bar\"},{\"hoverinfo\":\"skip\",\"line\":{\"color\":\"gray\"},\"mode\":\"lines\",\"name\":\"sequence line\",\"showlegend\":false,\"visible\":false,\"x\":[0,1273],\"y\":[1,1],\"type\":\"scatter\"},{\"hoverinfo\":\"skip\",\"legendgroup\":\"Subunit\",\"line\":{\"color\":\"plum\",\"width\":3},\"mode\":\"lines\",\"name\":\"S1\",\"showlegend\":true,\"visible\":false,\"x\":[14,685],\"y\":[1,1],\"type\":\"scatter\"},{\"hoverinfo\":\"skip\",\"legendgroup\":\"Subunit\",\"line\":{\"color\":\"pink\",\"width\":3},\"mode\":\"lines\",\"name\":\"S2\",\"showlegend\":true,\"visible\":false,\"x\":[686,1273],\"y\":[1,1],\"type\":\"scatter\"},{\"hoverinfo\":\"x\",\"legendgroup\":\"changes\",\"marker\":{\"color\":\"orange\",\"size\":8,\"symbol\":\"square\"},\"mode\":\"markers\",\"name\":\"insertion\",\"showlegend\":true,\"visible\":false,\"x\":[null],\"y\":[1],\"type\":\"scatter\"},{\"hoverinfo\":\"x\",\"legendgroup\":\"changes\",\"marker\":{\"color\":\"red\",\"size\":8,\"symbol\":\"square\"},\"mode\":\"markers\",\"name\":\"deletion\",\"showlegend\":true,\"visible\":false,\"x\":[null],\"y\":[1],\"type\":\"scatter\"},{\"hoverinfo\":\"x\",\"legendgroup\":\"changes\",\"marker\":{\"color\":\"blue\",\"size\":8,\"symbol\":\"circle\"},\"mode\":\"markers\",\"name\":\"substitution, semi-conservative\",\"showlegend\":true,\"visible\":false,\"x\":[null,94,249,252,483,613,700],\"y\":[1,1,1,1,1,1,1],\"type\":\"scatter\"},{\"hoverinfo\":\"x\",\"legendgroup\":\"changes\",\"marker\":{\"color\":\"lightblue\",\"size\":8,\"symbol\":\"circle\"},\"mode\":\"markers\",\"name\":\"substitution, conservative\",\"showlegend\":true,\"visible\":false,\"x\":[null],\"y\":[1],\"type\":\"scatter\"},{\"hoverinfo\":\"skip\",\"marker\":{\"color\":[\"orange\",\"red\",\"blue\",\"lightblue\"],\"line\":{\"color\":[\"orange\",\"red\",\"blue\",\"lightblue\"],\"width\":2}},\"name\":\"counts\",\"showlegend\":false,\"text\":[\"0\",\"0\",\"6\",\"0\"],\"textposition\":\"outside\",\"visible\":false,\"width\":30,\"x\":[1540,1590,1640,1700],\"y\":[0.0,0.0,0.85,0.0],\"type\":\"bar\"},{\"hoverinfo\":\"skip\",\"line\":{\"color\":\"gray\"},\"mode\":\"lines\",\"name\":\"sequence line\",\"showlegend\":false,\"visible\":false,\"x\":[0,1273],\"y\":[1,1],\"type\":\"scatter\"},{\"hoverinfo\":\"skip\",\"legendgroup\":\"Subunit\",\"line\":{\"color\":\"plum\",\"width\":3},\"mode\":\"lines\",\"name\":\"S1\",\"showlegend\":true,\"visible\":false,\"x\":[14,685],\"y\":[1,1],\"type\":\"scatter\"},{\"hoverinfo\":\"skip\",\"legendgroup\":\"Subunit\",\"line\":{\"color\":\"pink\",\"width\":3},\"mode\":\"lines\",\"name\":\"S2\",\"showlegend\":true,\"visible\":false,\"x\":[686,1273],\"y\":[1,1],\"type\":\"scatter\"},{\"hoverinfo\":\"x\",\"legendgroup\":\"changes\",\"marker\":{\"color\":\"orange\",\"size\":8,\"symbol\":\"square\"},\"mode\":\"markers\",\"name\":\"insertion\",\"showlegend\":true,\"visible\":false,\"x\":[null],\"y\":[1],\"type\":\"scatter\"},{\"hoverinfo\":\"x\",\"legendgroup\":\"changes\",\"marker\":{\"color\":\"red\",\"size\":8,\"symbol\":\"square\"},\"mode\":\"markers\",\"name\":\"deletion\",\"showlegend\":true,\"visible\":false,\"x\":[null],\"y\":[1],\"type\":\"scatter\"},{\"hoverinfo\":\"x\",\"legendgroup\":\"changes\",\"marker\":{\"color\":\"blue\",\"size\":8,\"symbol\":\"circle\"},\"mode\":\"markers\",\"name\":\"substitution, semi-conservative\",\"showlegend\":true,\"visible\":false,\"x\":[null,4,18,156,157,221,451,477,613,680,949,1263],\"y\":[1,1,1,1,1,1,1,1,1,1,1,1],\"type\":\"scatter\"},{\"hoverinfo\":\"x\",\"legendgroup\":\"changes\",\"marker\":{\"color\":\"lightblue\",\"size\":8,\"symbol\":\"circle\"},\"mode\":\"markers\",\"name\":\"substitution, conservative\",\"showlegend\":true,\"visible\":false,\"x\":[null],\"y\":[1],\"type\":\"scatter\"},{\"hoverinfo\":\"skip\",\"marker\":{\"color\":[\"orange\",\"red\",\"blue\",\"lightblue\"],\"line\":{\"color\":[\"orange\",\"red\",\"blue\",\"lightblue\"],\"width\":2}},\"name\":\"counts\",\"showlegend\":false,\"text\":[\"0\",\"0\",\"11\",\"0\"],\"textposition\":\"outside\",\"visible\":false,\"width\":30,\"x\":[1540,1590,1640,1700],\"y\":[0.0,0.0,0.85,0.0],\"type\":\"bar\"},{\"hoverinfo\":\"skip\",\"line\":{\"color\":\"gray\"},\"mode\":\"lines\",\"name\":\"sequence line\",\"showlegend\":false,\"visible\":false,\"x\":[0,1273],\"y\":[1,1],\"type\":\"scatter\"},{\"hoverinfo\":\"skip\",\"legendgroup\":\"Subunit\",\"line\":{\"color\":\"plum\",\"width\":3},\"mode\":\"lines\",\"name\":\"S1\",\"showlegend\":true,\"visible\":false,\"x\":[14,685],\"y\":[1,1],\"type\":\"scatter\"},{\"hoverinfo\":\"skip\",\"legendgroup\":\"Subunit\",\"line\":{\"color\":\"pink\",\"width\":3},\"mode\":\"lines\",\"name\":\"S2\",\"showlegend\":true,\"visible\":false,\"x\":[686,1273],\"y\":[1,1],\"type\":\"scatter\"},{\"hoverinfo\":\"x\",\"legendgroup\":\"changes\",\"marker\":{\"color\":\"orange\",\"size\":8,\"symbol\":\"square\"},\"mode\":\"markers\",\"name\":\"insertion\",\"showlegend\":true,\"visible\":false,\"x\":[null],\"y\":[1],\"type\":\"scatter\"},{\"hoverinfo\":\"x\",\"legendgroup\":\"changes\",\"marker\":{\"color\":\"red\",\"size\":8,\"symbol\":\"square\"},\"mode\":\"markers\",\"name\":\"deletion\",\"showlegend\":true,\"visible\":false,\"x\":[null],\"y\":[1],\"type\":\"scatter\"},{\"hoverinfo\":\"x\",\"legendgroup\":\"changes\",\"marker\":{\"color\":\"blue\",\"size\":8,\"symbol\":\"circle\"},\"mode\":\"markers\",\"name\":\"substitution, semi-conservative\",\"showlegend\":true,\"visible\":false,\"x\":[null,4,18,156,157,451,477,613,680,949],\"y\":[1,1,1,1,1,1,1,1,1,1],\"type\":\"scatter\"},{\"hoverinfo\":\"x\",\"legendgroup\":\"changes\",\"marker\":{\"color\":\"lightblue\",\"size\":8,\"symbol\":\"circle\"},\"mode\":\"markers\",\"name\":\"substitution, conservative\",\"showlegend\":true,\"visible\":false,\"x\":[null],\"y\":[1],\"type\":\"scatter\"},{\"hoverinfo\":\"skip\",\"marker\":{\"color\":[\"orange\",\"red\",\"blue\",\"lightblue\"],\"line\":{\"color\":[\"orange\",\"red\",\"blue\",\"lightblue\"],\"width\":2}},\"name\":\"counts\",\"showlegend\":false,\"text\":[\"0\",\"0\",\"9\",\"0\"],\"textposition\":\"outside\",\"visible\":false,\"width\":30,\"x\":[1540,1590,1640,1700],\"y\":[0.0,0.0,0.85,0.0],\"type\":\"bar\"}],                        {\"template\":{\"data\":{\"bar\":[{\"error_x\":{\"color\":\"#2a3f5f\"},\"error_y\":{\"color\":\"#2a3f5f\"},\"marker\":{\"line\":{\"color\":\"#E5ECF6\",\"width\":0.5},\"pattern\":{\"fillmode\":\"overlay\",\"size\":10,\"solidity\":0.2}},\"type\":\"bar\"}],\"barpolar\":[{\"marker\":{\"line\":{\"color\":\"#E5ECF6\",\"width\":0.5},\"pattern\":{\"fillmode\":\"overlay\",\"size\":10,\"solidity\":0.2}},\"type\":\"barpolar\"}],\"carpet\":[{\"aaxis\":{\"endlinecolor\":\"#2a3f5f\",\"gridcolor\":\"white\",\"linecolor\":\"white\",\"minorgridcolor\":\"white\",\"startlinecolor\":\"#2a3f5f\"},\"baxis\":{\"endlinecolor\":\"#2a3f5f\",\"gridcolor\":\"white\",\"linecolor\":\"white\",\"minorgridcolor\":\"white\",\"startlinecolor\":\"#2a3f5f\"},\"type\":\"carpet\"}],\"choropleth\":[{\"colorbar\":{\"outlinewidth\":0,\"ticks\":\"\"},\"type\":\"choropleth\"}],\"contour\":[{\"colorbar\":{\"outlinewidth\":0,\"ticks\":\"\"},\"colorscale\":[[0.0,\"#0d0887\"],[0.1111111111111111,\"#46039f\"],[0.2222222222222222,\"#7201a8\"],[0.3333333333333333,\"#9c179e\"],[0.4444444444444444,\"#bd3786\"],[0.5555555555555556,\"#d8576b\"],[0.6666666666666666,\"#ed7953\"],[0.7777777777777778,\"#fb9f3a\"],[0.8888888888888888,\"#fdca26\"],[1.0,\"#f0f921\"]],\"type\":\"contour\"}],\"contourcarpet\":[{\"colorbar\":{\"outlinewidth\":0,\"ticks\":\"\"},\"type\":\"contourcarpet\"}],\"heatmap\":[{\"colorbar\":{\"outlinewidth\":0,\"ticks\":\"\"},\"colorscale\":[[0.0,\"#0d0887\"],[0.1111111111111111,\"#46039f\"],[0.2222222222222222,\"#7201a8\"],[0.3333333333333333,\"#9c179e\"],[0.4444444444444444,\"#bd3786\"],[0.5555555555555556,\"#d8576b\"],[0.6666666666666666,\"#ed7953\"],[0.7777777777777778,\"#fb9f3a\"],[0.8888888888888888,\"#fdca26\"],[1.0,\"#f0f921\"]],\"type\":\"heatmap\"}],\"heatmapgl\":[{\"colorbar\":{\"outlinewidth\":0,\"ticks\":\"\"},\"colorscale\":[[0.0,\"#0d0887\"],[0.1111111111111111,\"#46039f\"],[0.2222222222222222,\"#7201a8\"],[0.3333333333333333,\"#9c179e\"],[0.4444444444444444,\"#bd3786\"],[0.5555555555555556,\"#d8576b\"],[0.6666666666666666,\"#ed7953\"],[0.7777777777777778,\"#fb9f3a\"],[0.8888888888888888,\"#fdca26\"],[1.0,\"#f0f921\"]],\"type\":\"heatmapgl\"}],\"histogram\":[{\"marker\":{\"pattern\":{\"fillmode\":\"overlay\",\"size\":10,\"solidity\":0.2}},\"type\":\"histogram\"}],\"histogram2d\":[{\"colorbar\":{\"outlinewidth\":0,\"ticks\":\"\"},\"colorscale\":[[0.0,\"#0d0887\"],[0.1111111111111111,\"#46039f\"],[0.2222222222222222,\"#7201a8\"],[0.3333333333333333,\"#9c179e\"],[0.4444444444444444,\"#bd3786\"],[0.5555555555555556,\"#d8576b\"],[0.6666666666666666,\"#ed7953\"],[0.7777777777777778,\"#fb9f3a\"],[0.8888888888888888,\"#fdca26\"],[1.0,\"#f0f921\"]],\"type\":\"histogram2d\"}],\"histogram2dcontour\":[{\"colorbar\":{\"outlinewidth\":0,\"ticks\":\"\"},\"colorscale\":[[0.0,\"#0d0887\"],[0.1111111111111111,\"#46039f\"],[0.2222222222222222,\"#7201a8\"],[0.3333333333333333,\"#9c179e\"],[0.4444444444444444,\"#bd3786\"],[0.5555555555555556,\"#d8576b\"],[0.6666666666666666,\"#ed7953\"],[0.7777777777777778,\"#fb9f3a\"],[0.8888888888888888,\"#fdca26\"],[1.0,\"#f0f921\"]],\"type\":\"histogram2dcontour\"}],\"mesh3d\":[{\"colorbar\":{\"outlinewidth\":0,\"ticks\":\"\"},\"type\":\"mesh3d\"}],\"parcoords\":[{\"line\":{\"colorbar\":{\"outlinewidth\":0,\"ticks\":\"\"}},\"type\":\"parcoords\"}],\"pie\":[{\"automargin\":true,\"type\":\"pie\"}],\"scatter\":[{\"marker\":{\"colorbar\":{\"outlinewidth\":0,\"ticks\":\"\"}},\"type\":\"scatter\"}],\"scatter3d\":[{\"line\":{\"colorbar\":{\"outlinewidth\":0,\"ticks\":\"\"}},\"marker\":{\"colorbar\":{\"outlinewidth\":0,\"ticks\":\"\"}},\"type\":\"scatter3d\"}],\"scattercarpet\":[{\"marker\":{\"colorbar\":{\"outlinewidth\":0,\"ticks\":\"\"}},\"type\":\"scattercarpet\"}],\"scattergeo\":[{\"marker\":{\"colorbar\":{\"outlinewidth\":0,\"ticks\":\"\"}},\"type\":\"scattergeo\"}],\"scattergl\":[{\"marker\":{\"colorbar\":{\"outlinewidth\":0,\"ticks\":\"\"}},\"type\":\"scattergl\"}],\"scattermapbox\":[{\"marker\":{\"colorbar\":{\"outlinewidth\":0,\"ticks\":\"\"}},\"type\":\"scattermapbox\"}],\"scatterpolar\":[{\"marker\":{\"colorbar\":{\"outlinewidth\":0,\"ticks\":\"\"}},\"type\":\"scatterpolar\"}],\"scatterpolargl\":[{\"marker\":{\"colorbar\":{\"outlinewidth\":0,\"ticks\":\"\"}},\"type\":\"scatterpolargl\"}],\"scatterternary\":[{\"marker\":{\"colorbar\":{\"outlinewidth\":0,\"ticks\":\"\"}},\"type\":\"scatterternary\"}],\"surface\":[{\"colorbar\":{\"outlinewidth\":0,\"ticks\":\"\"},\"colorscale\":[[0.0,\"#0d0887\"],[0.1111111111111111,\"#46039f\"],[0.2222222222222222,\"#7201a8\"],[0.3333333333333333,\"#9c179e\"],[0.4444444444444444,\"#bd3786\"],[0.5555555555555556,\"#d8576b\"],[0.6666666666666666,\"#ed7953\"],[0.7777777777777778,\"#fb9f3a\"],[0.8888888888888888,\"#fdca26\"],[1.0,\"#f0f921\"]],\"type\":\"surface\"}],\"table\":[{\"cells\":{\"fill\":{\"color\":\"#EBF0F8\"},\"line\":{\"color\":\"white\"}},\"header\":{\"fill\":{\"color\":\"#C8D4E3\"},\"line\":{\"color\":\"white\"}},\"type\":\"table\"}]},\"layout\":{\"annotationdefaults\":{\"arrowcolor\":\"#2a3f5f\",\"arrowhead\":0,\"arrowwidth\":1},\"autotypenumbers\":\"strict\",\"coloraxis\":{\"colorbar\":{\"outlinewidth\":0,\"ticks\":\"\"}},\"colorscale\":{\"diverging\":[[0,\"#8e0152\"],[0.1,\"#c51b7d\"],[0.2,\"#de77ae\"],[0.3,\"#f1b6da\"],[0.4,\"#fde0ef\"],[0.5,\"#f7f7f7\"],[0.6,\"#e6f5d0\"],[0.7,\"#b8e186\"],[0.8,\"#7fbc41\"],[0.9,\"#4d9221\"],[1,\"#276419\"]],\"sequential\":[[0.0,\"#0d0887\"],[0.1111111111111111,\"#46039f\"],[0.2222222222222222,\"#7201a8\"],[0.3333333333333333,\"#9c179e\"],[0.4444444444444444,\"#bd3786\"],[0.5555555555555556,\"#d8576b\"],[0.6666666666666666,\"#ed7953\"],[0.7777777777777778,\"#fb9f3a\"],[0.8888888888888888,\"#fdca26\"],[1.0,\"#f0f921\"]],\"sequentialminus\":[[0.0,\"#0d0887\"],[0.1111111111111111,\"#46039f\"],[0.2222222222222222,\"#7201a8\"],[0.3333333333333333,\"#9c179e\"],[0.4444444444444444,\"#bd3786\"],[0.5555555555555556,\"#d8576b\"],[0.6666666666666666,\"#ed7953\"],[0.7777777777777778,\"#fb9f3a\"],[0.8888888888888888,\"#fdca26\"],[1.0,\"#f0f921\"]]},\"colorway\":[\"#636efa\",\"#EF553B\",\"#00cc96\",\"#ab63fa\",\"#FFA15A\",\"#19d3f3\",\"#FF6692\",\"#B6E880\",\"#FF97FF\",\"#FECB52\"],\"font\":{\"color\":\"#2a3f5f\"},\"geo\":{\"bgcolor\":\"white\",\"lakecolor\":\"white\",\"landcolor\":\"#E5ECF6\",\"showlakes\":true,\"showland\":true,\"subunitcolor\":\"white\"},\"hoverlabel\":{\"align\":\"left\"},\"hovermode\":\"closest\",\"mapbox\":{\"style\":\"light\"},\"paper_bgcolor\":\"white\",\"plot_bgcolor\":\"#E5ECF6\",\"polar\":{\"angularaxis\":{\"gridcolor\":\"white\",\"linecolor\":\"white\",\"ticks\":\"\"},\"bgcolor\":\"#E5ECF6\",\"radialaxis\":{\"gridcolor\":\"white\",\"linecolor\":\"white\",\"ticks\":\"\"}},\"scene\":{\"xaxis\":{\"backgroundcolor\":\"#E5ECF6\",\"gridcolor\":\"white\",\"gridwidth\":2,\"linecolor\":\"white\",\"showbackground\":true,\"ticks\":\"\",\"zerolinecolor\":\"white\"},\"yaxis\":{\"backgroundcolor\":\"#E5ECF6\",\"gridcolor\":\"white\",\"gridwidth\":2,\"linecolor\":\"white\",\"showbackground\":true,\"ticks\":\"\",\"zerolinecolor\":\"white\"},\"zaxis\":{\"backgroundcolor\":\"#E5ECF6\",\"gridcolor\":\"white\",\"gridwidth\":2,\"linecolor\":\"white\",\"showbackground\":true,\"ticks\":\"\",\"zerolinecolor\":\"white\"}},\"shapedefaults\":{\"line\":{\"color\":\"#2a3f5f\"}},\"ternary\":{\"aaxis\":{\"gridcolor\":\"white\",\"linecolor\":\"white\",\"ticks\":\"\"},\"baxis\":{\"gridcolor\":\"white\",\"linecolor\":\"white\",\"ticks\":\"\"},\"bgcolor\":\"#E5ECF6\",\"caxis\":{\"gridcolor\":\"white\",\"linecolor\":\"white\",\"ticks\":\"\"}},\"title\":{\"x\":0.05},\"xaxis\":{\"automargin\":true,\"gridcolor\":\"white\",\"linecolor\":\"white\",\"ticks\":\"\",\"title\":{\"standoff\":15},\"zerolinecolor\":\"white\",\"zerolinewidth\":2},\"yaxis\":{\"automargin\":true,\"gridcolor\":\"white\",\"linecolor\":\"white\",\"ticks\":\"\",\"title\":{\"standoff\":15},\"zerolinecolor\":\"white\",\"zerolinewidth\":2}}},\"xaxis\":{\"range\":[-15,1850],\"showgrid\":false,\"zeroline\":false,\"visible\":false},\"yaxis\":{\"range\":[0,1.5],\"showgrid\":false,\"zeroline\":false,\"visible\":false},\"title\":{\"text\":\"Spike Protein Comparison<br><sup>of Most Frequent Sequence of Selected Clade to Baseline <br>19B (QLJ57227) difference from 19A (QOF09449)<sup>\",\"x\":0.1},\"legend\":{\"yanchor\":\"middle\",\"y\":1,\"xanchor\":\"right\",\"x\":1},\"plot_bgcolor\":\"white\",\"height\":380,\"width\":1100,\"barmode\":\"overlay\",\"annotations\":[{\"font\":{\"size\":12},\"showarrow\":false,\"text\":\"F4L\",\"x\":4,\"xanchor\":\"center\",\"y\":1,\"yanchor\":\"middle\",\"yshift\":18},{\"font\":{\"size\":14},\"showarrow\":false,\"text\":\"Alignment Score: 99.94%\",\"x\":0.1,\"xanchor\":\"left\",\"y\":0,\"yanchor\":\"bottom\"},{\"showarrow\":false,\"text\":\"counts\",\"textangle\":0,\"x\":1450,\"y\":0,\"yanchor\":\"bottom\"}],\"updatemenus\":[{\"buttons\":[{\"args\":[{\"visible\":[true,true,true,true,true,true,true,true,false,false,false,false,false,false,false,false,false,false,false,false,false,false,false,false,false,false,false,false,false,false,false,false,false,false,false,false,false,false,false,false,false,false,false,false,false,false,false,false,false,false,false,false,false,false,false,false,false,false,false,false,false,false,false,false,false,false,false,false,false,false,false,false,false,false,false,false,false,false,false,false,false,false,false,false,false,false,false,false,false,false,false,false,false,false,false,false,false,false,false,false,false,false,false,false,false,false,false,false,false,false,false,false,false,false,false,false,false,false,false,false,false,false,false,false,false,false,false,false,false,false,false,false,false,false,false,false,false,false,false,false,false,false,false,false,false,false,false,false,false,false,false,false]},{\"annotations\":[{\"text\":\"F4L\",\"x\":4,\"y\":1,\"font\":{\"size\":12},\"showarrow\":false,\"yshift\":18,\"yanchor\":\"middle\",\"xanchor\":\"center\"},{\"x\":0.1,\"y\":0,\"text\":\"Alignment Score: 99.94%\",\"font\":{\"size\":14},\"showarrow\":false,\"xanchor\":\"left\",\"yanchor\":\"bottom\"},{\"x\":1450,\"y\":0,\"text\":\"counts\",\"yanchor\":\"bottom\",\"showarrow\":false,\"textangle\":0}],\"title\":{\"text\":\"Spike Protein Comparison<br><sup>of Most Frequent Sequence of Selected Clade to Baseline <br>19B (QLJ57227) difference from 19A (QOF09449)<sup>\",\"x\":0.1}}],\"label\":\"19B\",\"method\":\"update\"},{\"args\":[{\"visible\":[false,false,false,false,false,false,false,false,true,true,true,true,true,true,true,true,false,false,false,false,false,false,false,false,false,false,false,false,false,false,false,false,false,false,false,false,false,false,false,false,false,false,false,false,false,false,false,false,false,false,false,false,false,false,false,false,false,false,false,false,false,false,false,false,false,false,false,false,false,false,false,false,false,false,false,false,false,false,false,false,false,false,false,false,false,false,false,false,false,false,false,false,false,false,false,false,false,false,false,false,false,false,false,false,false,false,false,false,false,false,false,false,false,false,false,false,false,false,false,false,false,false,false,false,false,false,false,false,false,false,false,false,false,false,false,false,false,false,false,false,false,false,false,false,false,false,false,false,false,false,false,false]},{\"annotations\":[{\"text\":\"F4L\",\"x\":4,\"y\":1,\"font\":{\"size\":12},\"showarrow\":false,\"yshift\":18,\"yanchor\":\"middle\",\"xanchor\":\"center\"},{\"text\":\"D613G\",\"x\":613,\"y\":1,\"font\":{\"size\":12},\"showarrow\":false,\"yshift\":-18,\"yanchor\":\"middle\",\"xanchor\":\"center\"},{\"text\":\"P680H\",\"x\":680,\"y\":1,\"font\":{\"size\":12},\"showarrow\":false,\"yshift\":36,\"yanchor\":\"middle\",\"xanchor\":\"center\"},{\"x\":0.1,\"y\":0,\"text\":\"Alignment Score: 99.70%\",\"font\":{\"size\":14},\"showarrow\":false,\"xanchor\":\"left\",\"yanchor\":\"bottom\"},{\"x\":1450,\"y\":0,\"text\":\"counts\",\"yanchor\":\"bottom\",\"showarrow\":false,\"textangle\":0}],\"title\":{\"text\":\"Spike Protein Comparison<br><sup>of Most Frequent Sequence of Selected Clade to Baseline <br>20A (QVR40114) difference from 19A (QOF09449)<sup>\",\"x\":0.1}}],\"label\":\"20A\",\"method\":\"update\"},{\"args\":[{\"visible\":[false,false,false,false,false,false,false,false,false,false,false,false,false,false,false,false,true,true,true,true,true,true,true,true,false,false,false,false,false,false,false,false,false,false,false,false,false,false,false,false,false,false,false,false,false,false,false,false,false,false,false,false,false,false,false,false,false,false,false,false,false,false,false,false,false,false,false,false,false,false,false,false,false,false,false,false,false,false,false,false,false,false,false,false,false,false,false,false,false,false,false,false,false,false,false,false,false,false,false,false,false,false,false,false,false,false,false,false,false,false,false,false,false,false,false,false,false,false,false,false,false,false,false,false,false,false,false,false,false,false,false,false,false,false,false,false,false,false,false,false,false,false,false,false,false,false,false,false,false,false,false,false]},{\"annotations\":[{\"text\":\"F4L\",\"x\":4,\"y\":1,\"font\":{\"size\":12},\"showarrow\":false,\"yshift\":18,\"yanchor\":\"middle\",\"xanchor\":\"center\"},{\"text\":\"T477K\",\"x\":477,\"y\":1,\"font\":{\"size\":12},\"showarrow\":false,\"yshift\":-18,\"yanchor\":\"middle\",\"xanchor\":\"center\"},{\"text\":\"D613G\",\"x\":613,\"y\":1,\"font\":{\"size\":12},\"showarrow\":false,\"yshift\":36,\"yanchor\":\"middle\",\"xanchor\":\"center\"},{\"text\":\"P680H\",\"x\":680,\"y\":1,\"font\":{\"size\":12},\"showarrow\":false,\"yshift\":-36,\"yanchor\":\"middle\",\"xanchor\":\"center\"},{\"text\":\"T731A\",\"x\":731,\"y\":1,\"font\":{\"size\":12},\"showarrow\":false,\"yshift\":18,\"yanchor\":\"middle\",\"xanchor\":\"center\"},{\"x\":0.1,\"y\":0,\"text\":\"Alignment Score: 99.54%\",\"font\":{\"size\":14},\"showarrow\":false,\"xanchor\":\"left\",\"yanchor\":\"bottom\"},{\"x\":1450,\"y\":0,\"text\":\"counts\",\"yanchor\":\"bottom\",\"showarrow\":false,\"textangle\":0}],\"title\":{\"text\":\"Spike Protein Comparison<br><sup>of Most Frequent Sequence of Selected Clade to Baseline <br>20B (QSW59156) difference from 19A (QOF09449)<sup>\",\"x\":0.1}}],\"label\":\"20B\",\"method\":\"update\"},{\"args\":[{\"visible\":[false,false,false,false,false,false,false,false,false,false,false,false,false,false,false,false,false,false,false,false,false,false,false,false,true,true,true,true,true,true,true,true,false,false,false,false,false,false,false,false,false,false,false,false,false,false,false,false,false,false,false,false,false,false,false,false,false,false,false,false,false,false,false,false,false,false,false,false,false,false,false,false,false,false,false,false,false,false,false,false,false,false,false,false,false,false,false,false,false,false,false,false,false,false,false,false,false,false,false,false,false,false,false,false,false,false,false,false,false,false,false,false,false,false,false,false,false,false,false,false,false,false,false,false,false,false,false,false,false,false,false,false,false,false,false,false,false,false,false,false,false,false,false,false,false,false,false,false,false,false,false,false]},{\"annotations\":[{\"text\":\"F4L\",\"x\":4,\"y\":1,\"font\":{\"size\":12},\"showarrow\":false,\"yshift\":18,\"yanchor\":\"middle\",\"xanchor\":\"center\"},{\"text\":\"D613G\",\"x\":613,\"y\":1,\"font\":{\"size\":12},\"showarrow\":false,\"yshift\":-18,\"yanchor\":\"middle\",\"xanchor\":\"center\"},{\"x\":0.1,\"y\":0,\"text\":\"Alignment Score: 99.84%\",\"font\":{\"size\":14},\"showarrow\":false,\"xanchor\":\"left\",\"yanchor\":\"bottom\"},{\"x\":1450,\"y\":0,\"text\":\"counts\",\"yanchor\":\"bottom\",\"showarrow\":false,\"textangle\":0}],\"title\":{\"text\":\"Spike Protein Comparison<br><sup>of Most Frequent Sequence of Selected Clade to Baseline <br>20C (QTN63407) difference from 19A (QOF09449)<sup>\",\"x\":0.1}}],\"label\":\"20C\",\"method\":\"update\"},{\"args\":[{\"visible\":[false,false,false,false,false,false,false,false,false,false,false,false,false,false,false,false,false,false,false,false,false,false,false,false,false,false,false,false,false,false,false,false,true,true,true,true,true,true,true,true,false,false,false,false,false,false,false,false,false,false,false,false,false,false,false,false,false,false,false,false,false,false,false,false,false,false,false,false,false,false,false,false,false,false,false,false,false,false,false,false,false,false,false,false,false,false,false,false,false,false,false,false,false,false,false,false,false,false,false,false,false,false,false,false,false,false,false,false,false,false,false,false,false,false,false,false,false,false,false,false,false,false,false,false,false,false,false,false,false,false,false,false,false,false,false,false,false,false,false,false,false,false,false,false,false,false,false,false,false,false,false,false]},{\"annotations\":[{\"text\":\"K76N\",\"x\":76,\"y\":1,\"font\":{\"size\":12},\"showarrow\":false,\"yshift\":18,\"yanchor\":\"middle\",\"xanchor\":\"center\"},{\"text\":\"T94I\",\"x\":94,\"y\":1,\"font\":{\"size\":12},\"showarrow\":false,\"yshift\":-18,\"yanchor\":\"middle\",\"xanchor\":\"center\"},{\"text\":\"D252G\",\"x\":252,\"y\":1,\"font\":{\"size\":12},\"showarrow\":false,\"yshift\":36,\"yanchor\":\"middle\",\"xanchor\":\"center\"},{\"text\":\"S476N\",\"x\":476,\"y\":1,\"font\":{\"size\":12},\"showarrow\":false,\"yshift\":-36,\"yanchor\":\"middle\",\"xanchor\":\"center\"},{\"text\":\"D613G\",\"x\":613,\"y\":1,\"font\":{\"size\":12},\"showarrow\":false,\"yshift\":18,\"yanchor\":\"middle\",\"xanchor\":\"center\"},{\"text\":\"Q956R\",\"x\":956,\"y\":1,\"font\":{\"size\":12},\"showarrow\":false,\"yshift\":-18,\"yanchor\":\"middle\",\"xanchor\":\"center\"},{\"text\":\"C1249F\",\"x\":1249,\"y\":1,\"font\":{\"size\":12},\"showarrow\":false,\"yshift\":36,\"yanchor\":\"middle\",\"xanchor\":\"center\"},{\"x\":0.1,\"y\":0,\"text\":\"Alignment Score: 99.39%\",\"font\":{\"size\":14},\"showarrow\":false,\"xanchor\":\"left\",\"yanchor\":\"bottom\"},{\"x\":1450,\"y\":0,\"text\":\"counts\",\"yanchor\":\"bottom\",\"showarrow\":false,\"textangle\":0}],\"title\":{\"text\":\"Spike Protein Comparison<br><sup>of Most Frequent Sequence of Selected Clade to Baseline <br>20D (QWU02970) difference from 19A (QOF09449)<sup>\",\"x\":0.1}}],\"label\":\"20D\",\"method\":\"update\"},{\"args\":[{\"visible\":[false,false,false,false,false,false,false,false,false,false,false,false,false,false,false,false,false,false,false,false,false,false,false,false,false,false,false,false,false,false,false,false,false,false,false,false,false,false,false,false,true,true,true,true,true,true,true,true,false,false,false,false,false,false,false,false,false,false,false,false,false,false,false,false,false,false,false,false,false,false,false,false,false,false,false,false,false,false,false,false,false,false,false,false,false,false,false,false,false,false,false,false,false,false,false,false,false,false,false,false,false,false,false,false,false,false,false,false,false,false,false,false,false,false,false,false,false,false,false,false,false,false,false,false,false,false,false,false,false,false,false,false,false,false,false,false,false,false,false,false,false,false,false,false,false,false,false,false,false,false,false,false]},{\"annotations\":[{\"text\":\"F4L\",\"x\":4,\"y\":1,\"font\":{\"size\":12},\"showarrow\":false,\"yshift\":18,\"yanchor\":\"middle\",\"xanchor\":\"center\"},{\"text\":\"A221V\",\"x\":221,\"y\":1,\"font\":{\"size\":12},\"showarrow\":false,\"yshift\":-18,\"yanchor\":\"middle\",\"xanchor\":\"center\"},{\"text\":\"D613G\",\"x\":613,\"y\":1,\"font\":{\"size\":12},\"showarrow\":false,\"yshift\":36,\"yanchor\":\"middle\",\"xanchor\":\"center\"},{\"x\":0.1,\"y\":0,\"text\":\"Alignment Score: 99.78%\",\"font\":{\"size\":14},\"showarrow\":false,\"xanchor\":\"left\",\"yanchor\":\"bottom\"},{\"x\":1450,\"y\":0,\"text\":\"counts\",\"yanchor\":\"bottom\",\"showarrow\":false,\"textangle\":0}],\"title\":{\"text\":\"Spike Protein Comparison<br><sup>of Most Frequent Sequence of Selected Clade to Baseline <br>20E (EU1) (QQX01070) difference from 19A (QOF09449)<sup>\",\"x\":0.1}}],\"label\":\"20E (EU1)\",\"method\":\"update\"},{\"args\":[{\"visible\":[false,false,false,false,false,false,false,false,false,false,false,false,false,false,false,false,false,false,false,false,false,false,false,false,false,false,false,false,false,false,false,false,false,false,false,false,false,false,false,false,false,false,false,false,false,false,false,false,true,true,true,true,true,true,true,true,false,false,false,false,false,false,false,false,false,false,false,false,false,false,false,false,false,false,false,false,false,false,false,false,false,false,false,false,false,false,false,false,false,false,false,false,false,false,false,false,false,false,false,false,false,false,false,false,false,false,false,false,false,false,false,false,false,false,false,false,false,false,false,false,false,false,false,false,false,false,false,false,false,false,false,false,false,false,false,false,false,false,false,false,false,false,false,false,false,false,false,false,false,false,false,false]},{\"annotations\":[{\"text\":\"F4L\",\"x\":4,\"y\":1,\"font\":{\"size\":12},\"showarrow\":false,\"yshift\":18,\"yanchor\":\"middle\",\"xanchor\":\"center\"},{\"text\":\"D613G\",\"x\":613,\"y\":1,\"font\":{\"size\":12},\"showarrow\":false,\"yshift\":-18,\"yanchor\":\"middle\",\"xanchor\":\"center\"},{\"x\":0.1,\"y\":0,\"text\":\"Alignment Score: 99.84%\",\"font\":{\"size\":14},\"showarrow\":false,\"xanchor\":\"left\",\"yanchor\":\"bottom\"},{\"x\":1450,\"y\":0,\"text\":\"counts\",\"yanchor\":\"bottom\",\"showarrow\":false,\"textangle\":0}],\"title\":{\"text\":\"Spike Protein Comparison<br><sup>of Most Frequent Sequence of Selected Clade to Baseline <br>20G (QVR40162) difference from 19A (QOF09449)<sup>\",\"x\":0.1}}],\"label\":\"20G\",\"method\":\"update\"},{\"args\":[{\"visible\":[false,false,false,false,false,false,false,false,false,false,false,false,false,false,false,false,false,false,false,false,false,false,false,false,false,false,false,false,false,false,false,false,false,false,false,false,false,false,false,false,false,false,false,false,false,false,false,false,false,false,false,false,false,false,false,false,true,true,true,true,true,true,true,true,false,false,false,false,false,false,false,false,false,false,false,false,false,false,false,false,false,false,false,false,false,false,false,false,false,false,false,false,false,false,false,false,false,false,false,false,false,false,false,false,false,false,false,false,false,false,false,false,false,false,false,false,false,false,false,false,false,false,false,false,false,false,false,false,false,false,false,false,false,false,false,false,false,false,false,false,false,false,false,false,false,false,false,false,false,false,false,false]},{\"annotations\":[{\"text\":\"F4L\",\"x\":4,\"y\":1,\"font\":{\"size\":12},\"showarrow\":false,\"yshift\":18,\"yanchor\":\"middle\",\"xanchor\":\"center\"},{\"text\":\"L17F\",\"x\":17,\"y\":1,\"font\":{\"size\":12},\"showarrow\":false,\"yshift\":-18,\"yanchor\":\"middle\",\"xanchor\":\"center\"},{\"text\":\"D79A\",\"x\":79,\"y\":1,\"font\":{\"size\":12},\"showarrow\":false,\"yshift\":36,\"yanchor\":\"middle\",\"xanchor\":\"center\"},{\"text\":\"D137Y\",\"x\":137,\"y\":1,\"font\":{\"size\":12},\"showarrow\":false,\"yshift\":-36,\"yanchor\":\"middle\",\"xanchor\":\"center\"},{\"text\":\"D214G\",\"x\":214,\"y\":1,\"font\":{\"size\":12},\"showarrow\":false,\"yshift\":18,\"yanchor\":\"middle\",\"xanchor\":\"center\"},{\"text\":\"L240\",\"x\":240,\"y\":1,\"font\":{\"size\":12},\"showarrow\":false,\"yshift\":-18,\"yanchor\":\"middle\",\"xanchor\":\"center\"},{\"text\":\"L241\",\"x\":241,\"y\":1,\"font\":{\"size\":12},\"showarrow\":false,\"yshift\":36,\"yanchor\":\"middle\",\"xanchor\":\"center\"},{\"text\":\"A242\",\"x\":242,\"y\":1,\"font\":{\"size\":12},\"showarrow\":false,\"yshift\":-36,\"yanchor\":\"middle\",\"xanchor\":\"center\"},{\"text\":\"K416N\",\"x\":416,\"y\":1,\"font\":{\"size\":12},\"showarrow\":false,\"yshift\":18,\"yanchor\":\"middle\",\"xanchor\":\"center\"},{\"text\":\"E483K\",\"x\":483,\"y\":1,\"font\":{\"size\":12},\"showarrow\":false,\"yshift\":-18,\"yanchor\":\"middle\",\"xanchor\":\"center\"},{\"text\":\"N500Y\",\"x\":500,\"y\":1,\"font\":{\"size\":12},\"showarrow\":false,\"yshift\":36,\"yanchor\":\"middle\",\"xanchor\":\"center\"},{\"text\":\"D613G\",\"x\":613,\"y\":1,\"font\":{\"size\":12},\"showarrow\":false,\"yshift\":-36,\"yanchor\":\"middle\",\"xanchor\":\"center\"},{\"text\":\"A700V\",\"x\":700,\"y\":1,\"font\":{\"size\":12},\"showarrow\":false,\"yshift\":18,\"yanchor\":\"middle\",\"xanchor\":\"center\"},{\"x\":0.1,\"y\":0,\"text\":\"Alignment Score: 98.51%\",\"font\":{\"size\":14},\"showarrow\":false,\"xanchor\":\"left\",\"yanchor\":\"bottom\"},{\"x\":1450,\"y\":0,\"text\":\"counts\",\"yanchor\":\"bottom\",\"showarrow\":false,\"textangle\":0}],\"title\":{\"text\":\"Spike Protein Comparison<br><sup>of Most Frequent Sequence of Selected Clade to Baseline <br>20H (Beta, V2) (UAR25116) difference from 19A (QOF09449)<sup>\",\"x\":0.1}}],\"label\":\"20H (Beta, V2)\",\"method\":\"update\"},{\"args\":[{\"visible\":[false,false,false,false,false,false,false,false,false,false,false,false,false,false,false,false,false,false,false,false,false,false,false,false,false,false,false,false,false,false,false,false,false,false,false,false,false,false,false,false,false,false,false,false,false,false,false,false,false,false,false,false,false,false,false,false,false,false,false,false,false,false,false,false,true,true,true,true,true,true,true,true,false,false,false,false,false,false,false,false,false,false,false,false,false,false,false,false,false,false,false,false,false,false,false,false,false,false,false,false,false,false,false,false,false,false,false,false,false,false,false,false,false,false,false,false,false,false,false,false,false,false,false,false,false,false,false,false,false,false,false,false,false,false,false,false,false,false,false,false,false,false,false,false,false,false,false,false,false,false,false,false]},{\"annotations\":[{\"text\":\"T94I\",\"x\":94,\"y\":1,\"font\":{\"size\":12},\"showarrow\":false,\"yshift\":18,\"yanchor\":\"middle\",\"xanchor\":\"center\"},{\"text\":\"D252G\",\"x\":252,\"y\":1,\"font\":{\"size\":12},\"showarrow\":false,\"yshift\":-18,\"yanchor\":\"middle\",\"xanchor\":\"center\"},{\"text\":\"E483K\",\"x\":483,\"y\":1,\"font\":{\"size\":12},\"showarrow\":false,\"yshift\":36,\"yanchor\":\"middle\",\"xanchor\":\"center\"},{\"text\":\"D613G\",\"x\":613,\"y\":1,\"font\":{\"size\":12},\"showarrow\":false,\"yshift\":-36,\"yanchor\":\"middle\",\"xanchor\":\"center\"},{\"text\":\"A700V\",\"x\":700,\"y\":1,\"font\":{\"size\":12},\"showarrow\":false,\"yshift\":18,\"yanchor\":\"middle\",\"xanchor\":\"center\"},{\"text\":\"I817V\",\"x\":817,\"y\":1,\"font\":{\"size\":12},\"showarrow\":false,\"yshift\":-18,\"yanchor\":\"middle\",\"xanchor\":\"center\"},{\"x\":0.1,\"y\":0,\"text\":\"Alignment Score: 99.60%\",\"font\":{\"size\":14},\"showarrow\":false,\"xanchor\":\"left\",\"yanchor\":\"bottom\"},{\"x\":1450,\"y\":0,\"text\":\"counts\",\"yanchor\":\"bottom\",\"showarrow\":false,\"textangle\":0}],\"title\":{\"text\":\"Spike Protein Comparison<br><sup>of Most Frequent Sequence of Selected Clade to Baseline <br>20I (Alpha, V1) (QXP14639) difference from 19A (QOF09449)<sup>\",\"x\":0.1}}],\"label\":\"20I (Alpha, V1)\",\"method\":\"update\"},{\"args\":[{\"visible\":[false,false,false,false,false,false,false,false,false,false,false,false,false,false,false,false,false,false,false,false,false,false,false,false,false,false,false,false,false,false,false,false,false,false,false,false,false,false,false,false,false,false,false,false,false,false,false,false,false,false,false,false,false,false,false,false,false,false,false,false,false,false,false,false,false,false,false,false,false,false,false,false,true,true,true,true,true,true,true,true,false,false,false,false,false,false,false,false,false,false,false,false,false,false,false,false,false,false,false,false,false,false,false,false,false,false,false,false,false,false,false,false,false,false,false,false,false,false,false,false,false,false,false,false,false,false,false,false,false,false,false,false,false,false,false,false,false,false,false,false,false,false,false,false,false,false,false,false,false,false,false,false]},{\"annotations\":[{\"text\":\"F4L\",\"x\":4,\"y\":1,\"font\":{\"size\":12},\"showarrow\":false,\"yshift\":18,\"yanchor\":\"middle\",\"xanchor\":\"center\"},{\"text\":\"L17F\",\"x\":17,\"y\":1,\"font\":{\"size\":12},\"showarrow\":false,\"yshift\":-18,\"yanchor\":\"middle\",\"xanchor\":\"center\"},{\"text\":\"T19N\",\"x\":19,\"y\":1,\"font\":{\"size\":12},\"showarrow\":false,\"yshift\":36,\"yanchor\":\"middle\",\"xanchor\":\"center\"},{\"text\":\"P25S\",\"x\":25,\"y\":1,\"font\":{\"size\":12},\"showarrow\":false,\"yshift\":-36,\"yanchor\":\"middle\",\"xanchor\":\"center\"},{\"text\":\"D137Y\",\"x\":137,\"y\":1,\"font\":{\"size\":12},\"showarrow\":false,\"yshift\":18,\"yanchor\":\"middle\",\"xanchor\":\"center\"},{\"text\":\"R189S\",\"x\":189,\"y\":1,\"font\":{\"size\":12},\"showarrow\":false,\"yshift\":-18,\"yanchor\":\"middle\",\"xanchor\":\"center\"},{\"text\":\"K416T\",\"x\":416,\"y\":1,\"font\":{\"size\":12},\"showarrow\":false,\"yshift\":36,\"yanchor\":\"middle\",\"xanchor\":\"center\"},{\"text\":\"E483K\",\"x\":483,\"y\":1,\"font\":{\"size\":12},\"showarrow\":false,\"yshift\":-36,\"yanchor\":\"middle\",\"xanchor\":\"center\"},{\"text\":\"N500Y\",\"x\":500,\"y\":1,\"font\":{\"size\":12},\"showarrow\":false,\"yshift\":18,\"yanchor\":\"middle\",\"xanchor\":\"center\"},{\"text\":\"D613G\",\"x\":613,\"y\":1,\"font\":{\"size\":12},\"showarrow\":false,\"yshift\":-18,\"yanchor\":\"middle\",\"xanchor\":\"center\"},{\"text\":\"H654Y\",\"x\":654,\"y\":1,\"font\":{\"size\":12},\"showarrow\":false,\"yshift\":36,\"yanchor\":\"middle\",\"xanchor\":\"center\"},{\"text\":\"T1026I\",\"x\":1026,\"y\":1,\"font\":{\"size\":12},\"showarrow\":false,\"yshift\":-36,\"yanchor\":\"middle\",\"xanchor\":\"center\"},{\"text\":\"V1175F\",\"x\":1175,\"y\":1,\"font\":{\"size\":12},\"showarrow\":false,\"yshift\":18,\"yanchor\":\"middle\",\"xanchor\":\"center\"},{\"x\":0.1,\"y\":0,\"text\":\"Alignment Score: 98.84%\",\"font\":{\"size\":14},\"showarrow\":false,\"xanchor\":\"left\",\"yanchor\":\"bottom\"},{\"x\":1450,\"y\":0,\"text\":\"counts\",\"yanchor\":\"bottom\",\"showarrow\":false,\"textangle\":0}],\"title\":{\"text\":\"Spike Protein Comparison<br><sup>of Most Frequent Sequence of Selected Clade to Baseline <br>20J (Gamma, V3) (QWY94091) difference from 19A (QOF09449)<sup>\",\"x\":0.1}}],\"label\":\"20J (Gamma, V3)\",\"method\":\"update\"},{\"args\":[{\"visible\":[false,false,false,false,false,false,false,false,false,false,false,false,false,false,false,false,false,false,false,false,false,false,false,false,false,false,false,false,false,false,false,false,false,false,false,false,false,false,false,false,false,false,false,false,false,false,false,false,false,false,false,false,false,false,false,false,false,false,false,false,false,false,false,false,false,false,false,false,false,false,false,false,false,false,false,false,false,false,false,false,true,true,true,true,true,true,true,true,false,false,false,false,false,false,false,false,false,false,false,false,false,false,false,false,false,false,false,false,false,false,false,false,false,false,false,false,false,false,false,false,false,false,false,false,false,false,false,false,false,false,false,false,false,false,false,false,false,false,false,false,false,false,false,false,false,false,false,false,false,false,false,false]},{\"annotations\":[{\"text\":\"F4L\",\"x\":4,\"y\":1,\"font\":{\"size\":12},\"showarrow\":false,\"yshift\":18,\"yanchor\":\"middle\",\"xanchor\":\"center\"},{\"text\":\"T18R\",\"x\":18,\"y\":1,\"font\":{\"size\":12},\"showarrow\":false,\"yshift\":-18,\"yanchor\":\"middle\",\"xanchor\":\"center\"},{\"text\":\"K76T\",\"x\":76,\"y\":1,\"font\":{\"size\":12},\"showarrow\":false,\"yshift\":36,\"yanchor\":\"middle\",\"xanchor\":\"center\"},{\"text\":\"G141D\",\"x\":141,\"y\":1,\"font\":{\"size\":12},\"showarrow\":false,\"yshift\":-36,\"yanchor\":\"middle\",\"xanchor\":\"center\"},{\"text\":\"E155\",\"x\":155,\"y\":1,\"font\":{\"size\":12},\"showarrow\":false,\"yshift\":18,\"yanchor\":\"middle\",\"xanchor\":\"center\"},{\"text\":\"F156\",\"x\":156,\"y\":1,\"font\":{\"size\":12},\"showarrow\":false,\"yshift\":-18,\"yanchor\":\"middle\",\"xanchor\":\"center\"},{\"text\":\"R157G\",\"x\":157,\"y\":1,\"font\":{\"size\":12},\"showarrow\":false,\"yshift\":36,\"yanchor\":\"middle\",\"xanchor\":\"center\"},{\"text\":\"L451R\",\"x\":451,\"y\":1,\"font\":{\"size\":12},\"showarrow\":false,\"yshift\":-36,\"yanchor\":\"middle\",\"xanchor\":\"center\"},{\"text\":\"T477K\",\"x\":477,\"y\":1,\"font\":{\"size\":12},\"showarrow\":false,\"yshift\":18,\"yanchor\":\"middle\",\"xanchor\":\"center\"},{\"text\":\"D613G\",\"x\":613,\"y\":1,\"font\":{\"size\":12},\"showarrow\":false,\"yshift\":-18,\"yanchor\":\"middle\",\"xanchor\":\"center\"},{\"text\":\"P680R\",\"x\":680,\"y\":1,\"font\":{\"size\":12},\"showarrow\":false,\"yshift\":36,\"yanchor\":\"middle\",\"xanchor\":\"center\"},{\"text\":\"D949N\",\"x\":949,\"y\":1,\"font\":{\"size\":12},\"showarrow\":false,\"yshift\":-36,\"yanchor\":\"middle\",\"xanchor\":\"center\"},{\"x\":0.1,\"y\":0,\"text\":\"Alignment Score: 98.54%\",\"font\":{\"size\":14},\"showarrow\":false,\"xanchor\":\"left\",\"yanchor\":\"bottom\"},{\"x\":1450,\"y\":0,\"text\":\"counts\",\"yanchor\":\"bottom\",\"showarrow\":false,\"textangle\":0}],\"title\":{\"text\":\"Spike Protein Comparison<br><sup>of Most Frequent Sequence of Selected Clade to Baseline <br>21A (Delta) (QZD09591) difference from 19A (QOF09449)<sup>\",\"x\":0.1}}],\"label\":\"21A (Delta)\",\"method\":\"update\"},{\"args\":[{\"visible\":[false,false,false,false,false,false,false,false,false,false,false,false,false,false,false,false,false,false,false,false,false,false,false,false,false,false,false,false,false,false,false,false,false,false,false,false,false,false,false,false,false,false,false,false,false,false,false,false,false,false,false,false,false,false,false,false,false,false,false,false,false,false,false,false,false,false,false,false,false,false,false,false,false,false,false,false,false,false,false,false,false,false,false,false,false,false,false,false,true,true,true,true,true,true,true,true,false,false,false,false,false,false,false,false,false,false,false,false,false,false,false,false,false,false,false,false,false,false,false,false,false,false,false,false,false,false,false,false,false,false,false,false,false,false,false,false,false,false,false,false,false,false,false,false,false,false,false,false,false,false,false,false]},{\"annotations\":[{\"text\":\"F4L\",\"x\":4,\"y\":1,\"font\":{\"size\":12},\"showarrow\":false,\"yshift\":18,\"yanchor\":\"middle\",\"xanchor\":\"center\"},{\"text\":\"T94I\",\"x\":94,\"y\":1,\"font\":{\"size\":12},\"showarrow\":false,\"yshift\":-18,\"yanchor\":\"middle\",\"xanchor\":\"center\"},{\"text\":\"G141D\",\"x\":141,\"y\":1,\"font\":{\"size\":12},\"showarrow\":false,\"yshift\":36,\"yanchor\":\"middle\",\"xanchor\":\"center\"},{\"text\":\"E153K\",\"x\":153,\"y\":1,\"font\":{\"size\":12},\"showarrow\":false,\"yshift\":-36,\"yanchor\":\"middle\",\"xanchor\":\"center\"},{\"text\":\"L451R\",\"x\":451,\"y\":1,\"font\":{\"size\":12},\"showarrow\":false,\"yshift\":18,\"yanchor\":\"middle\",\"xanchor\":\"center\"},{\"text\":\"E483Q\",\"x\":483,\"y\":1,\"font\":{\"size\":12},\"showarrow\":false,\"yshift\":-18,\"yanchor\":\"middle\",\"xanchor\":\"center\"},{\"text\":\"D613G\",\"x\":613,\"y\":1,\"font\":{\"size\":12},\"showarrow\":false,\"yshift\":36,\"yanchor\":\"middle\",\"xanchor\":\"center\"},{\"text\":\"P680R\",\"x\":680,\"y\":1,\"font\":{\"size\":12},\"showarrow\":false,\"yshift\":-36,\"yanchor\":\"middle\",\"xanchor\":\"center\"},{\"text\":\"Q1070H\",\"x\":1070,\"y\":1,\"font\":{\"size\":12},\"showarrow\":false,\"yshift\":18,\"yanchor\":\"middle\",\"xanchor\":\"center\"},{\"x\":0.1,\"y\":0,\"text\":\"Alignment Score: 99.24%\",\"font\":{\"size\":14},\"showarrow\":false,\"xanchor\":\"left\",\"yanchor\":\"bottom\"},{\"x\":1450,\"y\":0,\"text\":\"counts\",\"yanchor\":\"bottom\",\"showarrow\":false,\"textangle\":0}],\"title\":{\"text\":\"Spike Protein Comparison<br><sup>of Most Frequent Sequence of Selected Clade to Baseline <br>21B (Kappa) (QUH89695) difference from 19A (QOF09449)<sup>\",\"x\":0.1}}],\"label\":\"21B (Kappa)\",\"method\":\"update\"},{\"args\":[{\"visible\":[false,false,false,false,false,false,false,false,false,false,false,false,false,false,false,false,false,false,false,false,false,false,false,false,false,false,false,false,false,false,false,false,false,false,false,false,false,false,false,false,false,false,false,false,false,false,false,false,false,false,false,false,false,false,false,false,false,false,false,false,false,false,false,false,false,false,false,false,false,false,false,false,false,false,false,false,false,false,false,false,false,false,false,false,false,false,false,false,false,false,false,false,false,false,false,false,true,true,true,true,true,true,true,true,false,false,false,false,false,false,false,false,false,false,false,false,false,false,false,false,false,false,false,false,false,false,false,false,false,false,false,false,false,false,false,false,false,false,false,false,false,false,false,false,false,false,false,false,false,false,false,false]},{\"annotations\":[{\"text\":\"F4L\",\"x\":4,\"y\":1,\"font\":{\"size\":12},\"showarrow\":false,\"yshift\":18,\"yanchor\":\"middle\",\"xanchor\":\"center\"},{\"text\":\"S12I\",\"x\":12,\"y\":1,\"font\":{\"size\":12},\"showarrow\":false,\"yshift\":-18,\"yanchor\":\"middle\",\"xanchor\":\"center\"},{\"text\":\"W151C\",\"x\":151,\"y\":1,\"font\":{\"size\":12},\"showarrow\":false,\"yshift\":36,\"yanchor\":\"middle\",\"xanchor\":\"center\"},{\"text\":\"L451R\",\"x\":451,\"y\":1,\"font\":{\"size\":12},\"showarrow\":false,\"yshift\":-36,\"yanchor\":\"middle\",\"xanchor\":\"center\"},{\"text\":\"D613G\",\"x\":613,\"y\":1,\"font\":{\"size\":12},\"showarrow\":false,\"yshift\":18,\"yanchor\":\"middle\",\"xanchor\":\"center\"},{\"x\":0.1,\"y\":0,\"text\":\"Alignment Score: 99.46%\",\"font\":{\"size\":14},\"showarrow\":false,\"xanchor\":\"left\",\"yanchor\":\"bottom\"},{\"x\":1450,\"y\":0,\"text\":\"counts\",\"yanchor\":\"bottom\",\"showarrow\":false,\"textangle\":0}],\"title\":{\"text\":\"Spike Protein Comparison<br><sup>of Most Frequent Sequence of Selected Clade to Baseline <br>21C (Epsilon) (QTI97781) difference from 19A (QOF09449)<sup>\",\"x\":0.1}}],\"label\":\"21C (Epsilon)\",\"method\":\"update\"},{\"args\":[{\"visible\":[false,false,false,false,false,false,false,false,false,false,false,false,false,false,false,false,false,false,false,false,false,false,false,false,false,false,false,false,false,false,false,false,false,false,false,false,false,false,false,false,false,false,false,false,false,false,false,false,false,false,false,false,false,false,false,false,false,false,false,false,false,false,false,false,false,false,false,false,false,false,false,false,false,false,false,false,false,false,false,false,false,false,false,false,false,false,false,false,false,false,false,false,false,false,false,false,false,false,false,false,false,false,false,false,true,true,true,true,true,true,true,true,false,false,false,false,false,false,false,false,false,false,false,false,false,false,false,false,false,false,false,false,false,false,false,false,false,false,false,false,false,false,false,false,false,false,false,false,false,false,false,false]},{\"annotations\":[{\"text\":\"F4L\",\"x\":4,\"y\":1,\"font\":{\"size\":12},\"showarrow\":false,\"yshift\":18,\"yanchor\":\"middle\",\"xanchor\":\"center\"},{\"text\":\"E483K\",\"x\":483,\"y\":1,\"font\":{\"size\":12},\"showarrow\":false,\"yshift\":-18,\"yanchor\":\"middle\",\"xanchor\":\"center\"},{\"text\":\"D613G\",\"x\":613,\"y\":1,\"font\":{\"size\":12},\"showarrow\":false,\"yshift\":36,\"yanchor\":\"middle\",\"xanchor\":\"center\"},{\"text\":\"V1175F\",\"x\":1175,\"y\":1,\"font\":{\"size\":12},\"showarrow\":false,\"yshift\":-36,\"yanchor\":\"middle\",\"xanchor\":\"center\"},{\"x\":0.1,\"y\":0,\"text\":\"Alignment Score: 99.70%\",\"font\":{\"size\":14},\"showarrow\":false,\"xanchor\":\"left\",\"yanchor\":\"bottom\"},{\"x\":1450,\"y\":0,\"text\":\"counts\",\"yanchor\":\"bottom\",\"showarrow\":false,\"textangle\":0}],\"title\":{\"text\":\"Spike Protein Comparison<br><sup>of Most Frequent Sequence of Selected Clade to Baseline <br>21D (Eta) (QWU01313) difference from 19A (QOF09449)<sup>\",\"x\":0.1}}],\"label\":\"21D (Eta)\",\"method\":\"update\"},{\"args\":[{\"visible\":[false,false,false,false,false,false,false,false,false,false,false,false,false,false,false,false,false,false,false,false,false,false,false,false,false,false,false,false,false,false,false,false,false,false,false,false,false,false,false,false,false,false,false,false,false,false,false,false,false,false,false,false,false,false,false,false,false,false,false,false,false,false,false,false,false,false,false,false,false,false,false,false,false,false,false,false,false,false,false,false,false,false,false,false,false,false,false,false,false,false,false,false,false,false,false,false,false,false,false,false,false,false,false,false,false,false,false,false,false,false,false,false,true,true,true,true,true,true,true,true,false,false,false,false,false,false,false,false,false,false,false,false,false,false,false,false,false,false,false,false,false,false,false,false,false,false,false,false,false,false,false,false]},{\"annotations\":[{\"text\":\"T94I\",\"x\":94,\"y\":1,\"font\":{\"size\":12},\"showarrow\":false,\"yshift\":18,\"yanchor\":\"middle\",\"xanchor\":\"center\"},{\"text\":\"D252G\",\"x\":252,\"y\":1,\"font\":{\"size\":12},\"showarrow\":false,\"yshift\":-18,\"yanchor\":\"middle\",\"xanchor\":\"center\"},{\"text\":\"S476N\",\"x\":476,\"y\":1,\"font\":{\"size\":12},\"showarrow\":false,\"yshift\":36,\"yanchor\":\"middle\",\"xanchor\":\"center\"},{\"text\":\"D613G\",\"x\":613,\"y\":1,\"font\":{\"size\":12},\"showarrow\":false,\"yshift\":-36,\"yanchor\":\"middle\",\"xanchor\":\"center\"},{\"text\":\"Q956R\",\"x\":956,\"y\":1,\"font\":{\"size\":12},\"showarrow\":false,\"yshift\":18,\"yanchor\":\"middle\",\"xanchor\":\"center\"},{\"x\":0.1,\"y\":0,\"text\":\"Alignment Score: 99.63%\",\"font\":{\"size\":14},\"showarrow\":false,\"xanchor\":\"left\",\"yanchor\":\"bottom\"},{\"x\":1450,\"y\":0,\"text\":\"counts\",\"yanchor\":\"bottom\",\"showarrow\":false,\"textangle\":0}],\"title\":{\"text\":\"Spike Protein Comparison<br><sup>of Most Frequent Sequence of Selected Clade to Baseline <br>21F (Iota) (QUQ04393) difference from 19A (QOF09449)<sup>\",\"x\":0.1}}],\"label\":\"21F (Iota)\",\"method\":\"update\"},{\"args\":[{\"visible\":[false,false,false,false,false,false,false,false,false,false,false,false,false,false,false,false,false,false,false,false,false,false,false,false,false,false,false,false,false,false,false,false,false,false,false,false,false,false,false,false,false,false,false,false,false,false,false,false,false,false,false,false,false,false,false,false,false,false,false,false,false,false,false,false,false,false,false,false,false,false,false,false,false,false,false,false,false,false,false,false,false,false,false,false,false,false,false,false,false,false,false,false,false,false,false,false,false,false,false,false,false,false,false,false,false,false,false,false,false,false,false,false,false,false,false,false,false,false,false,false,true,true,true,true,true,true,true,true,false,false,false,false,false,false,false,false,false,false,false,false,false,false,false,false,false,false,false,false,false,false,false,false]},{\"annotations\":[{\"text\":\"T94I\",\"x\":94,\"y\":1,\"font\":{\"size\":12},\"showarrow\":false,\"yshift\":18,\"yanchor\":\"middle\",\"xanchor\":\"center\"},{\"text\":\"S476N\",\"x\":476,\"y\":1,\"font\":{\"size\":12},\"showarrow\":false,\"yshift\":-18,\"yanchor\":\"middle\",\"xanchor\":\"center\"},{\"text\":\"D613G\",\"x\":613,\"y\":1,\"font\":{\"size\":12},\"showarrow\":false,\"yshift\":36,\"yanchor\":\"middle\",\"xanchor\":\"center\"},{\"text\":\"A700V\",\"x\":700,\"y\":1,\"font\":{\"size\":12},\"showarrow\":false,\"yshift\":-36,\"yanchor\":\"middle\",\"xanchor\":\"center\"},{\"x\":0.1,\"y\":0,\"text\":\"Alignment Score: 99.73%\",\"font\":{\"size\":14},\"showarrow\":false,\"xanchor\":\"left\",\"yanchor\":\"bottom\"},{\"x\":1450,\"y\":0,\"text\":\"counts\",\"yanchor\":\"bottom\",\"showarrow\":false,\"textangle\":0}],\"title\":{\"text\":\"Spike Protein Comparison<br><sup>of Most Frequent Sequence of Selected Clade to Baseline <br>21G (Lambda) (QXL64433) difference from 19A (QOF09449)<sup>\",\"x\":0.1}}],\"label\":\"21G (Lambda)\\t\",\"method\":\"update\"},{\"args\":[{\"visible\":[false,false,false,false,false,false,false,false,false,false,false,false,false,false,false,false,false,false,false,false,false,false,false,false,false,false,false,false,false,false,false,false,false,false,false,false,false,false,false,false,false,false,false,false,false,false,false,false,false,false,false,false,false,false,false,false,false,false,false,false,false,false,false,false,false,false,false,false,false,false,false,false,false,false,false,false,false,false,false,false,false,false,false,false,false,false,false,false,false,false,false,false,false,false,false,false,false,false,false,false,false,false,false,false,false,false,false,false,false,false,false,false,false,false,false,false,false,false,false,false,false,false,false,false,false,false,false,false,true,true,true,true,true,true,true,true,false,false,false,false,false,false,false,false,false,false,false,false,false,false,false,false]},{\"annotations\":[{\"text\":\"T94I\",\"x\":94,\"y\":1,\"font\":{\"size\":12},\"showarrow\":false,\"yshift\":18,\"yanchor\":\"middle\",\"xanchor\":\"center\"},{\"text\":\"T249A\",\"x\":249,\"y\":1,\"font\":{\"size\":12},\"showarrow\":false,\"yshift\":-18,\"yanchor\":\"middle\",\"xanchor\":\"center\"},{\"text\":\"D252G\",\"x\":252,\"y\":1,\"font\":{\"size\":12},\"showarrow\":false,\"yshift\":36,\"yanchor\":\"middle\",\"xanchor\":\"center\"},{\"text\":\"E483K\",\"x\":483,\"y\":1,\"font\":{\"size\":12},\"showarrow\":false,\"yshift\":-36,\"yanchor\":\"middle\",\"xanchor\":\"center\"},{\"text\":\"D613G\",\"x\":613,\"y\":1,\"font\":{\"size\":12},\"showarrow\":false,\"yshift\":18,\"yanchor\":\"middle\",\"xanchor\":\"center\"},{\"text\":\"A700V\",\"x\":700,\"y\":1,\"font\":{\"size\":12},\"showarrow\":false,\"yshift\":-18,\"yanchor\":\"middle\",\"xanchor\":\"center\"},{\"x\":0.1,\"y\":0,\"text\":\"Alignment Score: 99.54%\",\"font\":{\"size\":14},\"showarrow\":false,\"xanchor\":\"left\",\"yanchor\":\"bottom\"},{\"x\":1450,\"y\":0,\"text\":\"counts\",\"yanchor\":\"bottom\",\"showarrow\":false,\"textangle\":0}],\"title\":{\"text\":\"Spike Protein Comparison<br><sup>of Most Frequent Sequence of Selected Clade to Baseline <br>21H (Mu) (QXL64492) difference from 19A (QOF09449)<sup>\",\"x\":0.1}}],\"label\":\"21H (Mu)\",\"method\":\"update\"},{\"args\":[{\"visible\":[false,false,false,false,false,false,false,false,false,false,false,false,false,false,false,false,false,false,false,false,false,false,false,false,false,false,false,false,false,false,false,false,false,false,false,false,false,false,false,false,false,false,false,false,false,false,false,false,false,false,false,false,false,false,false,false,false,false,false,false,false,false,false,false,false,false,false,false,false,false,false,false,false,false,false,false,false,false,false,false,false,false,false,false,false,false,false,false,false,false,false,false,false,false,false,false,false,false,false,false,false,false,false,false,false,false,false,false,false,false,false,false,false,false,false,false,false,false,false,false,false,false,false,false,false,false,false,false,false,false,false,false,false,false,false,false,true,true,true,true,true,true,true,true,false,false,false,false,false,false,false,false]},{\"annotations\":[{\"text\":\"F4L\",\"x\":4,\"y\":1,\"font\":{\"size\":12},\"showarrow\":false,\"yshift\":18,\"yanchor\":\"middle\",\"xanchor\":\"center\"},{\"text\":\"T18R\",\"x\":18,\"y\":1,\"font\":{\"size\":12},\"showarrow\":false,\"yshift\":-18,\"yanchor\":\"middle\",\"xanchor\":\"center\"},{\"text\":\"F156C\",\"x\":156,\"y\":1,\"font\":{\"size\":12},\"showarrow\":false,\"yshift\":36,\"yanchor\":\"middle\",\"xanchor\":\"center\"},{\"text\":\"R157G\",\"x\":157,\"y\":1,\"font\":{\"size\":12},\"showarrow\":false,\"yshift\":-36,\"yanchor\":\"middle\",\"xanchor\":\"center\"},{\"text\":\"A221V\",\"x\":221,\"y\":1,\"font\":{\"size\":12},\"showarrow\":false,\"yshift\":18,\"yanchor\":\"middle\",\"xanchor\":\"center\"},{\"text\":\"L451R\",\"x\":451,\"y\":1,\"font\":{\"size\":12},\"showarrow\":false,\"yshift\":-18,\"yanchor\":\"middle\",\"xanchor\":\"center\"},{\"text\":\"T477K\",\"x\":477,\"y\":1,\"font\":{\"size\":12},\"showarrow\":false,\"yshift\":36,\"yanchor\":\"middle\",\"xanchor\":\"center\"},{\"text\":\"D613G\",\"x\":613,\"y\":1,\"font\":{\"size\":12},\"showarrow\":false,\"yshift\":-36,\"yanchor\":\"middle\",\"xanchor\":\"center\"},{\"text\":\"P680R\",\"x\":680,\"y\":1,\"font\":{\"size\":12},\"showarrow\":false,\"yshift\":18,\"yanchor\":\"middle\",\"xanchor\":\"center\"},{\"text\":\"D949N\",\"x\":949,\"y\":1,\"font\":{\"size\":12},\"showarrow\":false,\"yshift\":-18,\"yanchor\":\"middle\",\"xanchor\":\"center\"},{\"text\":\"V1263L\",\"x\":1263,\"y\":1,\"font\":{\"size\":12},\"showarrow\":false,\"yshift\":36,\"yanchor\":\"middle\",\"xanchor\":\"center\"},{\"x\":0.1,\"y\":0,\"text\":\"Alignment Score: 99.03%\",\"font\":{\"size\":14},\"showarrow\":false,\"xanchor\":\"left\",\"yanchor\":\"bottom\"},{\"x\":1450,\"y\":0,\"text\":\"counts\",\"yanchor\":\"bottom\",\"showarrow\":false,\"textangle\":0}],\"title\":{\"text\":\"Spike Protein Comparison<br><sup>of Most Frequent Sequence of Selected Clade to Baseline <br>21I (Delta) (QXY23330) difference from 19A (QOF09449)<sup>\",\"x\":0.1}}],\"label\":\"21I (Delta)\",\"method\":\"update\"},{\"args\":[{\"visible\":[false,false,false,false,false,false,false,false,false,false,false,false,false,false,false,false,false,false,false,false,false,false,false,false,false,false,false,false,false,false,false,false,false,false,false,false,false,false,false,false,false,false,false,false,false,false,false,false,false,false,false,false,false,false,false,false,false,false,false,false,false,false,false,false,false,false,false,false,false,false,false,false,false,false,false,false,false,false,false,false,false,false,false,false,false,false,false,false,false,false,false,false,false,false,false,false,false,false,false,false,false,false,false,false,false,false,false,false,false,false,false,false,false,false,false,false,false,false,false,false,false,false,false,false,false,false,false,false,false,false,false,false,false,false,false,false,true,true,true,true,true,true,true,true,false,false,false,false,false,false,false,false]},{\"annotations\":[{\"text\":\"F4L\",\"x\":4,\"y\":1,\"font\":{\"size\":12},\"showarrow\":false,\"yshift\":18,\"yanchor\":\"middle\",\"xanchor\":\"center\"},{\"text\":\"T18R\",\"x\":18,\"y\":1,\"font\":{\"size\":12},\"showarrow\":false,\"yshift\":-18,\"yanchor\":\"middle\",\"xanchor\":\"center\"},{\"text\":\"F156C\",\"x\":156,\"y\":1,\"font\":{\"size\":12},\"showarrow\":false,\"yshift\":36,\"yanchor\":\"middle\",\"xanchor\":\"center\"},{\"text\":\"R157G\",\"x\":157,\"y\":1,\"font\":{\"size\":12},\"showarrow\":false,\"yshift\":-36,\"yanchor\":\"middle\",\"xanchor\":\"center\"},{\"text\":\"A221V\",\"x\":221,\"y\":1,\"font\":{\"size\":12},\"showarrow\":false,\"yshift\":18,\"yanchor\":\"middle\",\"xanchor\":\"center\"},{\"text\":\"L451R\",\"x\":451,\"y\":1,\"font\":{\"size\":12},\"showarrow\":false,\"yshift\":-18,\"yanchor\":\"middle\",\"xanchor\":\"center\"},{\"text\":\"T477K\",\"x\":477,\"y\":1,\"font\":{\"size\":12},\"showarrow\":false,\"yshift\":36,\"yanchor\":\"middle\",\"xanchor\":\"center\"},{\"text\":\"D613G\",\"x\":613,\"y\":1,\"font\":{\"size\":12},\"showarrow\":false,\"yshift\":-36,\"yanchor\":\"middle\",\"xanchor\":\"center\"},{\"text\":\"P680R\",\"x\":680,\"y\":1,\"font\":{\"size\":12},\"showarrow\":false,\"yshift\":18,\"yanchor\":\"middle\",\"xanchor\":\"center\"},{\"text\":\"D949N\",\"x\":949,\"y\":1,\"font\":{\"size\":12},\"showarrow\":false,\"yshift\":-18,\"yanchor\":\"middle\",\"xanchor\":\"center\"},{\"text\":\"V1263L\",\"x\":1263,\"y\":1,\"font\":{\"size\":12},\"showarrow\":false,\"yshift\":36,\"yanchor\":\"middle\",\"xanchor\":\"center\"},{\"x\":0.1,\"y\":0,\"text\":\"Alignment Score: 99.03%\",\"font\":{\"size\":14},\"showarrow\":false,\"xanchor\":\"left\",\"yanchor\":\"bottom\"},{\"x\":1450,\"y\":0,\"text\":\"counts\",\"yanchor\":\"bottom\",\"showarrow\":false,\"textangle\":0}],\"title\":{\"text\":\"Spike Protein Comparison<br><sup>of Most Frequent Sequence of Selected Clade to Baseline <br>21I (Delta) (QXY23330) difference from 19A (QOF09449)<sup>\",\"x\":0.1}}],\"label\":\"21J (Delta)\",\"method\":\"update\"}],\"direction\":\"down\",\"pad\":{\"r\":10,\"t\":10},\"showactive\":true,\"x\":0.5,\"xanchor\":\"left\",\"y\":1.4,\"yanchor\":\"top\"}]},                        {\"responsive\": true}                    ).then(function(){\n",
       "                            \n",
       "var gd = document.getElementById('c5b990a0-e5f7-44a5-9631-5f022bf100db');\n",
       "var x = new MutationObserver(function (mutations, observer) {{\n",
       "        var display = window.getComputedStyle(gd).display;\n",
       "        if (!display || display === 'none') {{\n",
       "            console.log([gd, 'removed!']);\n",
       "            Plotly.purge(gd);\n",
       "            observer.disconnect();\n",
       "        }}\n",
       "}});\n",
       "\n",
       "// Listen for the removal of the full notebook cells\n",
       "var notebookContainer = gd.closest('#notebook-container');\n",
       "if (notebookContainer) {{\n",
       "    x.observe(notebookContainer, {childList: true});\n",
       "}}\n",
       "\n",
       "// Listen for the clearing of the current output cell\n",
       "var outputEl = gd.closest('.output');\n",
       "if (outputEl) {{\n",
       "    x.observe(outputEl, {childList: true});\n",
       "}}\n",
       "\n",
       "                        })                };                });            </script>        </div>"
      ]
     },
     "metadata": {},
     "output_type": "display_data"
    }
   ],
   "source": [
    "plot_alignment_plotly(df, save = True, debug = False)"
   ]
  },
  {
   "cell_type": "code",
   "execution_count": null,
   "id": "958eac69",
   "metadata": {},
   "outputs": [],
   "source": []
  }
 ],
 "metadata": {
  "kernelspec": {
   "display_name": "Python 3 (ipykernel)",
   "language": "python",
   "name": "python3"
  },
  "language_info": {
   "codemirror_mode": {
    "name": "ipython",
    "version": 3
   },
   "file_extension": ".py",
   "mimetype": "text/x-python",
   "name": "python",
   "nbconvert_exporter": "python",
   "pygments_lexer": "ipython3",
   "version": "3.9.7"
  }
 },
 "nbformat": 4,
 "nbformat_minor": 5
}
