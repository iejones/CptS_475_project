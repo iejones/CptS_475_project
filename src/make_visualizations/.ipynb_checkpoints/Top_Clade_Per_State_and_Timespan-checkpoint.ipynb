{
 "cells": [
  {
   "cell_type": "markdown",
   "id": "ec5e5e0a",
   "metadata": {},
   "source": [
    "We want to find the top clade in each state for each timespan and map it on the us states. "
   ]
  },
  {
   "cell_type": "code",
   "execution_count": 1,
   "id": "b064b9db",
   "metadata": {},
   "outputs": [],
   "source": [
    "# set up\n",
    "import pandas as pd\n",
    "import plotly.express as px\n",
    "import os\n",
    "\n",
    "project_folder = os.path.join(\"..\", \"..\")"
   ]
  },
  {
   "cell_type": "code",
   "execution_count": 2,
   "id": "d228fe64",
   "metadata": {},
   "outputs": [
    {
     "data": {
      "text/html": [
       "<div>\n",
       "<style scoped>\n",
       "    .dataframe tbody tr th:only-of-type {\n",
       "        vertical-align: middle;\n",
       "    }\n",
       "\n",
       "    .dataframe tbody tr th {\n",
       "        vertical-align: top;\n",
       "    }\n",
       "\n",
       "    .dataframe thead th {\n",
       "        text-align: right;\n",
       "    }\n",
       "</style>\n",
       "<table border=\"1\" class=\"dataframe\">\n",
       "  <thead>\n",
       "    <tr style=\"text-align: right;\">\n",
       "      <th></th>\n",
       "      <th>state</th>\n",
       "      <th>p_sequence</th>\n",
       "      <th>p_accession</th>\n",
       "      <th>date</th>\n",
       "      <th>count</th>\n",
       "      <th>n_accession</th>\n",
       "      <th>n_sequence</th>\n",
       "      <th>clade</th>\n",
       "      <th>timespan</th>\n",
       "    </tr>\n",
       "  </thead>\n",
       "  <tbody>\n",
       "    <tr>\n",
       "      <th>0</th>\n",
       "      <td>MA</td>\n",
       "      <td>\"MFVFLVLLPLVSSQCVNLTTRTQLPPAYTNSFTRGVYYPDKVFRS...</td>\n",
       "      <td>QTP71261</td>\n",
       "      <td>2020</td>\n",
       "      <td>2</td>\n",
       "      <td>MW885877</td>\n",
       "      <td>GGTAACAAACCAACCAACTTTCGATCTCTTGTAGATCTGTTCTCTA...</td>\n",
       "      <td>20A</td>\n",
       "      <td>1</td>\n",
       "    </tr>\n",
       "    <tr>\n",
       "      <th>1</th>\n",
       "      <td>WA</td>\n",
       "      <td>\"MFVFLVLLPLVSSQCVNLTTRTQLPPAYTNSFTRGVYYPDKVFRS...</td>\n",
       "      <td>QLJ57227</td>\n",
       "      <td>2020</td>\n",
       "      <td>1367</td>\n",
       "      <td>MT252714</td>\n",
       "      <td>CTTGTAGATCTGTTCTCTAAACGAACTTTAAAATCTGTGTGGCTGT...</td>\n",
       "      <td>19B</td>\n",
       "      <td>1</td>\n",
       "    </tr>\n",
       "    <tr>\n",
       "      <th>2</th>\n",
       "      <td>WA</td>\n",
       "      <td>\"MFVFLVLLPLVSSQCVNLTTRTQLPPAYTNSFTRGVYYPDKVFRS...</td>\n",
       "      <td>QLJ57383</td>\n",
       "      <td>2020</td>\n",
       "      <td>1</td>\n",
       "      <td>MT252753</td>\n",
       "      <td>CCCTTHAACTTTCGATCTCTTGTAGATCTGTTCTCTAAACGAACTT...</td>\n",
       "      <td>19A</td>\n",
       "      <td>1</td>\n",
       "    </tr>\n",
       "    <tr>\n",
       "      <th>3</th>\n",
       "      <td>CA</td>\n",
       "      <td>\"MFVFLVLLPLVSSQCVNLTTRTQLPPAYTNSFTRGVYYPDKVFRS...</td>\n",
       "      <td>QHW06059</td>\n",
       "      <td>2020-01-29</td>\n",
       "      <td>2</td>\n",
       "      <td>MT027064</td>\n",
       "      <td>ATTAAAGGTTTATACCTTCCCAGGTAACAAACCAACCAACTTTCGA...</td>\n",
       "      <td>19A</td>\n",
       "      <td>1</td>\n",
       "    </tr>\n",
       "    <tr>\n",
       "      <th>4</th>\n",
       "      <td>WA</td>\n",
       "      <td>\"MFVFLVLLPLVSSQCVNLTTRTQLPPAYTNSFTRGVYYPDKVFRS...</td>\n",
       "      <td>QKS89879</td>\n",
       "      <td>2020-02-29</td>\n",
       "      <td>26</td>\n",
       "      <td>MT627216</td>\n",
       "      <td>TAAAGGTTTATACCTTCCCAGGTAACAAACCAACCAACTTTCGATC...</td>\n",
       "      <td>19B</td>\n",
       "      <td>1</td>\n",
       "    </tr>\n",
       "  </tbody>\n",
       "</table>\n",
       "</div>"
      ],
      "text/plain": [
       "  state                                         p_sequence p_accession  \\\n",
       "0    MA  \"MFVFLVLLPLVSSQCVNLTTRTQLPPAYTNSFTRGVYYPDKVFRS...    QTP71261   \n",
       "1    WA  \"MFVFLVLLPLVSSQCVNLTTRTQLPPAYTNSFTRGVYYPDKVFRS...    QLJ57227   \n",
       "2    WA  \"MFVFLVLLPLVSSQCVNLTTRTQLPPAYTNSFTRGVYYPDKVFRS...    QLJ57383   \n",
       "3    CA  \"MFVFLVLLPLVSSQCVNLTTRTQLPPAYTNSFTRGVYYPDKVFRS...    QHW06059   \n",
       "4    WA  \"MFVFLVLLPLVSSQCVNLTTRTQLPPAYTNSFTRGVYYPDKVFRS...    QKS89879   \n",
       "\n",
       "         date  count n_accession  \\\n",
       "0        2020      2    MW885877   \n",
       "1        2020   1367    MT252714   \n",
       "2        2020      1    MT252753   \n",
       "3  2020-01-29      2    MT027064   \n",
       "4  2020-02-29     26    MT627216   \n",
       "\n",
       "                                          n_sequence clade  timespan  \n",
       "0  GGTAACAAACCAACCAACTTTCGATCTCTTGTAGATCTGTTCTCTA...   20A         1  \n",
       "1  CTTGTAGATCTGTTCTCTAAACGAACTTTAAAATCTGTGTGGCTGT...   19B         1  \n",
       "2  CCCTTHAACTTTCGATCTCTTGTAGATCTGTTCTCTAAACGAACTT...   19A         1  \n",
       "3  ATTAAAGGTTTATACCTTCCCAGGTAACAAACCAACCAACTTTCGA...   19A         1  \n",
       "4  TAAAGGTTTATACCTTCCCAGGTAACAAACCAACCAACTTTCGATC...   19B         1  "
      ]
     },
     "execution_count": 2,
     "metadata": {},
     "output_type": "execute_result"
    }
   ],
   "source": [
    "df = pd.read_csv(os.path.join(project_folder, 'data', 'final', \"all.csv\"))\n",
    "df.head()"
   ]
  },
  {
   "cell_type": "code",
   "execution_count": 3,
   "id": "b0920d2a",
   "metadata": {},
   "outputs": [],
   "source": [
    "def transform_to_top_clade(timeperiod_df, single_timespan = False):\n",
    "    by_columns = ['state', 'timespan','clade']\n",
    "    if single_timespan:\n",
    "        by_columns = ['state','clade'] \n",
    "    \n",
    "    timeperiod_df = timeperiod_df.groupby(by = by_columns, as_index=False).agg({\"count\":\"sum\"}) #.sort_values(by=['state','count'])\n",
    "    by_columns.remove(\"clade\")\n",
    "    max_values_df = timeperiod_df.groupby(by = by_columns, as_index=False).agg({\"count\":\"max\"})\n",
    "    df = max_values_df.merge(timeperiod_df, how ='inner',  on= by_columns.append('count'))\n",
    "    if single_timespan:\n",
    "        return df\n",
    "    return df.sort_values(by='timespan')\n",
    "# not sure what to do with ties yet"
   ]
  },
  {
   "cell_type": "code",
   "execution_count": 4,
   "id": "c29fe8b1",
   "metadata": {},
   "outputs": [],
   "source": [
    "# px.colors.diverging.Spectral blended\n",
    "rainbow_20 = ['rgb(158,1,66)',\n",
    "              'rgb(186,32,73)',\n",
    "             'rgb(213,62,79)',\n",
    "              'rgb(229,86,73)',\n",
    "             'rgb(244,109,67)',\n",
    "              'rgb(249,142,82)',\n",
    "             'rgb(253,174,97)',\n",
    "              'rgb(254,199,118)',\n",
    "             'rgb(254,224,139)',\n",
    "              'rgb(255,240,165)',\n",
    "             'rgb(255,255,191)',\n",
    "              'rgb(243,250,172)',\n",
    "             'rgb(230,245,152)',\n",
    "              'rgb(201,233,158)',\n",
    "             'rgb(171,221,164)',\n",
    "              'rgb(137,208,165)',\n",
    "             'rgb(102,194,165)',\n",
    "              'rgb(76,165,177)',\n",
    "             'rgb(50,136,189)',\n",
    "              'rgb(72,108,176)',\n",
    "             'rgb(94,79,162)',\n",
    "             'rgb(67,56,116)', 'rgb(40,34,69)']\n",
    "\n",
    "clades = ['19A','19B','20A','20B','20C', '20G', '20E (EU1)', \"21C (Epsilon)\", \"20D\", \"20J (Gamma, V3)\",\n",
    "          \"21F (Iota)\", \"20I (Alpha, V1)\", \"21B (Kappa)\", \"21D (Eta)\", \"21G (Lambda)\", \"21H (Mu)\", \"21A (Delta)\", \"21I (Delta)\", \"21J (Delta)\", \"20H (Beta, V2)\"]\n",
    "clades.sort()"
   ]
  },
  {
   "cell_type": "code",
   "execution_count": 9,
   "id": "07ced86f",
   "metadata": {},
   "outputs": [],
   "source": [
    "# https://plotly.com/python-api-reference/generated/plotly.express.scatter_geo\n",
    "def plot_top_clade_bubble(per_capita = False, population_dictionary= {}, save = False):\n",
    "    temp_df = transform_to_top_clade(df)\n",
    "    temp_df['per_capita'] = temp_df['count']\n",
    "    title = \"Top clade (most recordings) for each state and timestamp\"\n",
    "    hover_data_dict = {'clade':True, 'count':True, 'state':False, 'timespan':False, 'per_capita':False}\n",
    "    if per_capita:\n",
    "        temp_df['per_capita'] = (temp_df['count'] / temp_df['state'].map(population_dictionary) )* 100000\n",
    "        temp_df['per_capita'] = temp_df['per_capita'].fillna(0)\n",
    "        hover_data_dict['per_capita'] = True\n",
    "        title = \"Top clade Per Capita (most recordings per 100,000 people) for each state and timestamp\" \n",
    "    fig = px.scatter_geo(temp_df, locations=\"state\", color=\"clade\", \n",
    "                         size=\"per_capita\", size_max = 60,\n",
    "                         hover_name=\"state\", hover_data = hover_data_dict,\n",
    "                         animation_frame=\"timespan\",\n",
    "                        locationmode=\"USA-states\", scope='usa',projection='albers usa', \n",
    "                         title = title,\n",
    "                        category_orders = {\"clade\":clades}, color_discrete_sequence =rainbow_20)\n",
    "    fig.show()\n",
    "    if save:\n",
    "        fig.write_html(os.path.join(project_folder, 'visualizations', 'Top Clade Bubble Maps', save +\".html\"))"
   ]
  },
  {
   "cell_type": "code",
   "execution_count": 11,
   "id": "0f98b2ea",
   "metadata": {},
   "outputs": [
    {
     "data": {
      "application/vnd.plotly.v1+json": {
       "config": {
        "plotlyServerURL": "https://plot.ly"
       },
       "data": [
        {
         "customdata": [
          [
           "19A",
           10,
           "CA",
           1,
           10
          ]
         ],
         "geo": "geo",
         "hovertemplate": "<b>%{hovertext}</b><br><br>clade=%{customdata[0]}<br>count=%{customdata[1]}<extra></extra>",
         "hovertext": [
          "CA"
         ],
         "legendgroup": "19A",
         "locationmode": "USA-states",
         "locations": [
          "CA"
         ],
         "marker": {
          "color": "rgb(158,1,66)",
          "size": [
           10
          ],
          "sizemode": "area",
          "sizeref": 1.175,
          "symbol": "circle"
         },
         "mode": "markers",
         "name": "19A",
         "showlegend": true,
         "type": "scattergeo"
        },
        {
         "customdata": [
          [
           "19B",
           2,
           "AZ",
           1,
           2
          ],
          [
           "19B",
           1444,
           "WA",
           1,
           1444
          ],
          [
           "19B",
           1,
           "CO",
           1,
           1
          ],
          [
           "19B",
           2,
           "FL",
           1,
           2
          ],
          [
           "19B",
           12,
           "UT",
           1,
           12
          ],
          [
           "19B",
           2,
           "NV",
           1,
           2
          ]
         ],
         "geo": "geo",
         "hovertemplate": "<b>%{hovertext}</b><br><br>clade=%{customdata[0]}<br>count=%{customdata[1]}<extra></extra>",
         "hovertext": [
          "AZ",
          "WA",
          "CO",
          "FL",
          "UT",
          "NV"
         ],
         "legendgroup": "19B",
         "locationmode": "USA-states",
         "locations": [
          "AZ",
          "WA",
          "CO",
          "FL",
          "UT",
          "NV"
         ],
         "marker": {
          "color": "rgb(186,32,73)",
          "size": [
           2,
           1444,
           1,
           2,
           12,
           2
          ],
          "sizemode": "area",
          "sizeref": 1.175,
          "symbol": "circle"
         },
         "mode": "markers",
         "name": "19B",
         "showlegend": true,
         "type": "scattergeo"
        },
        {
         "customdata": [
          [
           "20A",
           6,
           "WI",
           1,
           6
          ],
          [
           "20A",
           9,
           "IN",
           1,
           9
          ],
          [
           "20A",
           5,
           "IA",
           1,
           5
          ],
          [
           "20A",
           4,
           "MA",
           1,
           4
          ],
          [
           "20A",
           3,
           "VA",
           1,
           3
          ],
          [
           "20A",
           3,
           "ME",
           1,
           3
          ],
          [
           "20A",
           1,
           "MD",
           1,
           1
          ]
         ],
         "geo": "geo",
         "hovertemplate": "<b>%{hovertext}</b><br><br>clade=%{customdata[0]}<br>count=%{customdata[1]}<extra></extra>",
         "hovertext": [
          "WI",
          "IN",
          "IA",
          "MA",
          "VA",
          "ME",
          "MD"
         ],
         "legendgroup": "20A",
         "locationmode": "USA-states",
         "locations": [
          "WI",
          "IN",
          "IA",
          "MA",
          "VA",
          "ME",
          "MD"
         ],
         "marker": {
          "color": "rgb(213,62,79)",
          "size": [
           6,
           9,
           5,
           4,
           3,
           3,
           1
          ],
          "sizemode": "area",
          "sizeref": 1.175,
          "symbol": "circle"
         },
         "mode": "markers",
         "name": "20A",
         "showlegend": true,
         "type": "scattergeo"
        },
        {
         "customdata": [
          [
           "20B",
           2,
           "GA",
           1,
           2
          ]
         ],
         "geo": "geo",
         "hovertemplate": "<b>%{hovertext}</b><br><br>clade=%{customdata[0]}<br>count=%{customdata[1]}<extra></extra>",
         "hovertext": [
          "GA"
         ],
         "legendgroup": "20B",
         "locationmode": "USA-states",
         "locations": [
          "GA"
         ],
         "marker": {
          "color": "rgb(229,86,73)",
          "size": [
           2
          ],
          "sizemode": "area",
          "sizeref": 1.175,
          "symbol": "circle"
         },
         "mode": "markers",
         "name": "20B",
         "showlegend": true,
         "type": "scattergeo"
        },
        {
         "customdata": [
          [
           "20C",
           1,
           "LA",
           1,
           1
          ],
          [
           "20C",
           1,
           "PA",
           1,
           1
          ],
          [
           "20C",
           23,
           "NY",
           1,
           23
          ],
          [
           "20C",
           1,
           "ID",
           1,
           1
          ],
          [
           "20C",
           1,
           "TX",
           1,
           1
          ],
          [
           "20C",
           2,
           "CT",
           1,
           2
          ],
          [
           "20C",
           8,
           "MN",
           1,
           8
          ],
          [
           "20C",
           9,
           "MI",
           1,
           9
          ],
          [
           "20C",
           1,
           "MD",
           1,
           1
          ]
         ],
         "geo": "geo",
         "hovertemplate": "<b>%{hovertext}</b><br><br>clade=%{customdata[0]}<br>count=%{customdata[1]}<extra></extra>",
         "hovertext": [
          "LA",
          "PA",
          "NY",
          "ID",
          "TX",
          "CT",
          "MN",
          "MI",
          "MD"
         ],
         "legendgroup": "20C",
         "locationmode": "USA-states",
         "locations": [
          "LA",
          "PA",
          "NY",
          "ID",
          "TX",
          "CT",
          "MN",
          "MI",
          "MD"
         ],
         "marker": {
          "color": "rgb(244,109,67)",
          "size": [
           1,
           1,
           23,
           1,
           1,
           2,
           8,
           9,
           1
          ],
          "sizemode": "area",
          "sizeref": 1.175,
          "symbol": "circle"
         },
         "mode": "markers",
         "name": "20C",
         "showlegend": true,
         "type": "scattergeo"
        }
       ],
       "frames": [
        {
         "data": [
          {
           "customdata": [
            [
             "19A",
             10,
             "CA",
             1,
             10
            ]
           ],
           "geo": "geo",
           "hovertemplate": "<b>%{hovertext}</b><br><br>clade=%{customdata[0]}<br>count=%{customdata[1]}<extra></extra>",
           "hovertext": [
            "CA"
           ],
           "legendgroup": "19A",
           "locationmode": "USA-states",
           "locations": [
            "CA"
           ],
           "marker": {
            "color": "rgb(158,1,66)",
            "size": [
             10
            ],
            "sizemode": "area",
            "sizeref": 1.175,
            "symbol": "circle"
           },
           "mode": "markers",
           "name": "19A",
           "showlegend": true,
           "type": "scattergeo"
          },
          {
           "customdata": [
            [
             "19B",
             2,
             "AZ",
             1,
             2
            ],
            [
             "19B",
             1444,
             "WA",
             1,
             1444
            ],
            [
             "19B",
             1,
             "CO",
             1,
             1
            ],
            [
             "19B",
             2,
             "FL",
             1,
             2
            ],
            [
             "19B",
             12,
             "UT",
             1,
             12
            ],
            [
             "19B",
             2,
             "NV",
             1,
             2
            ]
           ],
           "geo": "geo",
           "hovertemplate": "<b>%{hovertext}</b><br><br>clade=%{customdata[0]}<br>count=%{customdata[1]}<extra></extra>",
           "hovertext": [
            "AZ",
            "WA",
            "CO",
            "FL",
            "UT",
            "NV"
           ],
           "legendgroup": "19B",
           "locationmode": "USA-states",
           "locations": [
            "AZ",
            "WA",
            "CO",
            "FL",
            "UT",
            "NV"
           ],
           "marker": {
            "color": "rgb(186,32,73)",
            "size": [
             2,
             1444,
             1,
             2,
             12,
             2
            ],
            "sizemode": "area",
            "sizeref": 1.175,
            "symbol": "circle"
           },
           "mode": "markers",
           "name": "19B",
           "showlegend": true,
           "type": "scattergeo"
          },
          {
           "customdata": [
            [
             "20A",
             6,
             "WI",
             1,
             6
            ],
            [
             "20A",
             9,
             "IN",
             1,
             9
            ],
            [
             "20A",
             5,
             "IA",
             1,
             5
            ],
            [
             "20A",
             4,
             "MA",
             1,
             4
            ],
            [
             "20A",
             3,
             "VA",
             1,
             3
            ],
            [
             "20A",
             3,
             "ME",
             1,
             3
            ],
            [
             "20A",
             1,
             "MD",
             1,
             1
            ]
           ],
           "geo": "geo",
           "hovertemplate": "<b>%{hovertext}</b><br><br>clade=%{customdata[0]}<br>count=%{customdata[1]}<extra></extra>",
           "hovertext": [
            "WI",
            "IN",
            "IA",
            "MA",
            "VA",
            "ME",
            "MD"
           ],
           "legendgroup": "20A",
           "locationmode": "USA-states",
           "locations": [
            "WI",
            "IN",
            "IA",
            "MA",
            "VA",
            "ME",
            "MD"
           ],
           "marker": {
            "color": "rgb(213,62,79)",
            "size": [
             6,
             9,
             5,
             4,
             3,
             3,
             1
            ],
            "sizemode": "area",
            "sizeref": 1.175,
            "symbol": "circle"
           },
           "mode": "markers",
           "name": "20A",
           "showlegend": true,
           "type": "scattergeo"
          },
          {
           "customdata": [
            [
             "20B",
             2,
             "GA",
             1,
             2
            ]
           ],
           "geo": "geo",
           "hovertemplate": "<b>%{hovertext}</b><br><br>clade=%{customdata[0]}<br>count=%{customdata[1]}<extra></extra>",
           "hovertext": [
            "GA"
           ],
           "legendgroup": "20B",
           "locationmode": "USA-states",
           "locations": [
            "GA"
           ],
           "marker": {
            "color": "rgb(229,86,73)",
            "size": [
             2
            ],
            "sizemode": "area",
            "sizeref": 1.175,
            "symbol": "circle"
           },
           "mode": "markers",
           "name": "20B",
           "showlegend": true,
           "type": "scattergeo"
          },
          {
           "customdata": [
            [
             "20C",
             1,
             "LA",
             1,
             1
            ],
            [
             "20C",
             1,
             "PA",
             1,
             1
            ],
            [
             "20C",
             23,
             "NY",
             1,
             23
            ],
            [
             "20C",
             1,
             "ID",
             1,
             1
            ],
            [
             "20C",
             1,
             "TX",
             1,
             1
            ],
            [
             "20C",
             2,
             "CT",
             1,
             2
            ],
            [
             "20C",
             8,
             "MN",
             1,
             8
            ],
            [
             "20C",
             9,
             "MI",
             1,
             9
            ],
            [
             "20C",
             1,
             "MD",
             1,
             1
            ]
           ],
           "geo": "geo",
           "hovertemplate": "<b>%{hovertext}</b><br><br>clade=%{customdata[0]}<br>count=%{customdata[1]}<extra></extra>",
           "hovertext": [
            "LA",
            "PA",
            "NY",
            "ID",
            "TX",
            "CT",
            "MN",
            "MI",
            "MD"
           ],
           "legendgroup": "20C",
           "locationmode": "USA-states",
           "locations": [
            "LA",
            "PA",
            "NY",
            "ID",
            "TX",
            "CT",
            "MN",
            "MI",
            "MD"
           ],
           "marker": {
            "color": "rgb(244,109,67)",
            "size": [
             1,
             1,
             23,
             1,
             1,
             2,
             8,
             9,
             1
            ],
            "sizemode": "area",
            "sizeref": 1.175,
            "symbol": "circle"
           },
           "mode": "markers",
           "name": "20C",
           "showlegend": true,
           "type": "scattergeo"
          }
         ],
         "name": "1"
        },
        {
         "data": [
          {
           "customdata": [
            [
             "19A",
             3,
             "MD",
             2,
             3
            ]
           ],
           "geo": "geo",
           "hovertemplate": "<b>%{hovertext}</b><br><br>clade=%{customdata[0]}<br>count=%{customdata[1]}<extra></extra>",
           "hovertext": [
            "MD"
           ],
           "legendgroup": "19A",
           "locationmode": "USA-states",
           "locations": [
            "MD"
           ],
           "marker": {
            "color": "rgb(158,1,66)",
            "size": [
             3
            ],
            "sizemode": "area",
            "sizeref": 1.175,
            "symbol": "circle"
           },
           "mode": "markers",
           "name": "19A",
           "showlegend": true,
           "type": "scattergeo"
          },
          {
           "customdata": [
            [
             "19B",
             1172,
             "WA",
             2,
             1172
            ]
           ],
           "geo": "geo",
           "hovertemplate": "<b>%{hovertext}</b><br><br>clade=%{customdata[0]}<br>count=%{customdata[1]}<extra></extra>",
           "hovertext": [
            "WA"
           ],
           "legendgroup": "19B",
           "locationmode": "USA-states",
           "locations": [
            "WA"
           ],
           "marker": {
            "color": "rgb(186,32,73)",
            "size": [
             1172
            ],
            "sizemode": "area",
            "sizeref": 1.175,
            "symbol": "circle"
           },
           "mode": "markers",
           "name": "19B",
           "showlegend": true,
           "type": "scattergeo"
          },
          {
           "customdata": [
            [
             "20A",
             15,
             "FL",
             2,
             15
            ],
            [
             "20A",
             2,
             "CT",
             2,
             2
            ],
            [
             "20A",
             1,
             "NM",
             2,
             1
            ],
            [
             "20A",
             21,
             "AK",
             2,
             21
            ],
            [
             "20A",
             85,
             "MA",
             2,
             85
            ],
            [
             "20A",
             5,
             "WI",
             2,
             5
            ]
           ],
           "geo": "geo",
           "hovertemplate": "<b>%{hovertext}</b><br><br>clade=%{customdata[0]}<br>count=%{customdata[1]}<extra></extra>",
           "hovertext": [
            "FL",
            "CT",
            "NM",
            "AK",
            "MA",
            "WI"
           ],
           "legendgroup": "20A",
           "locationmode": "USA-states",
           "locations": [
            "FL",
            "CT",
            "NM",
            "AK",
            "MA",
            "WI"
           ],
           "marker": {
            "color": "rgb(213,62,79)",
            "size": [
             15,
             2,
             1,
             21,
             85,
             5
            ],
            "sizemode": "area",
            "sizeref": 1.175,
            "symbol": "circle"
           },
           "mode": "markers",
           "name": "20A",
           "showlegend": true,
           "type": "scattergeo"
          },
          {
           "customdata": [
            [
             "20C",
             18,
             "MN",
             2,
             18
            ],
            [
             "20C",
             1,
             "TX",
             2,
             1
            ],
            [
             "20C",
             1,
             "PR",
             2,
             1
            ],
            [
             "20C",
             1,
             "TN",
             2,
             1
            ],
            [
             "20C",
             61,
             "MI",
             2,
             61
            ],
            [
             "20C",
             2,
             "ND",
             2,
             2
            ],
            [
             "20C",
             1,
             "ME",
             2,
             1
            ],
            [
             "20C",
             1,
             "ID",
             2,
             1
            ],
            [
             "20C",
             4,
             "UT",
             2,
             4
            ],
            [
             "20C",
             2,
             "IL",
             2,
             2
            ],
            [
             "20C",
             1,
             "WY",
             2,
             1
            ],
            [
             "20C",
             13,
             "PA",
             2,
             13
            ],
            [
             "20C",
             25,
             "VA",
             2,
             25
            ],
            [
             "20C",
             19,
             "LA",
             2,
             19
            ],
            [
             "20C",
             5,
             "NY",
             2,
             5
            ],
            [
             "20C",
             80,
             "CA",
             2,
             80
            ]
           ],
           "geo": "geo",
           "hovertemplate": "<b>%{hovertext}</b><br><br>clade=%{customdata[0]}<br>count=%{customdata[1]}<extra></extra>",
           "hovertext": [
            "MN",
            "TX",
            "PR",
            "TN",
            "MI",
            "ND",
            "ME",
            "ID",
            "UT",
            "IL",
            "WY",
            "PA",
            "VA",
            "LA",
            "NY",
            "CA"
           ],
           "legendgroup": "20C",
           "locationmode": "USA-states",
           "locations": [
            "MN",
            "TX",
            "PR",
            "TN",
            "MI",
            "ND",
            "ME",
            "ID",
            "UT",
            "IL",
            "WY",
            "PA",
            "VA",
            "LA",
            "NY",
            "CA"
           ],
           "marker": {
            "color": "rgb(244,109,67)",
            "size": [
             18,
             1,
             1,
             1,
             61,
             2,
             1,
             1,
             4,
             2,
             1,
             13,
             25,
             19,
             5,
             80
            ],
            "sizemode": "area",
            "sizeref": 1.175,
            "symbol": "circle"
           },
           "mode": "markers",
           "name": "20C",
           "showlegend": true,
           "type": "scattergeo"
          }
         ],
         "name": "2"
        },
        {
         "data": [
          {
           "customdata": [
            [
             "19B",
             1,
             "NY",
             3,
             1
            ],
            [
             "19B",
             209,
             "WA",
             3,
             209
            ]
           ],
           "geo": "geo",
           "hovertemplate": "<b>%{hovertext}</b><br><br>clade=%{customdata[0]}<br>count=%{customdata[1]}<extra></extra>",
           "hovertext": [
            "NY",
            "WA"
           ],
           "legendgroup": "19B",
           "locationmode": "USA-states",
           "locations": [
            "NY",
            "WA"
           ],
           "marker": {
            "color": "rgb(186,32,73)",
            "size": [
             1,
             209
            ],
            "sizemode": "area",
            "sizeref": 1.175,
            "symbol": "circle"
           },
           "mode": "markers",
           "name": "19B",
           "showlegend": true,
           "type": "scattergeo"
          },
          {
           "customdata": [
            [
             "20A",
             2,
             "IL",
             3,
             2
            ],
            [
             "20A",
             1,
             "NV",
             3,
             1
            ],
            [
             "20A",
             8,
             "AK",
             3,
             8
            ]
           ],
           "geo": "geo",
           "hovertemplate": "<b>%{hovertext}</b><br><br>clade=%{customdata[0]}<br>count=%{customdata[1]}<extra></extra>",
           "hovertext": [
            "IL",
            "NV",
            "AK"
           ],
           "legendgroup": "20A",
           "locationmode": "USA-states",
           "locations": [
            "IL",
            "NV",
            "AK"
           ],
           "marker": {
            "color": "rgb(213,62,79)",
            "size": [
             2,
             1,
             8
            ],
            "sizemode": "area",
            "sizeref": 1.175,
            "symbol": "circle"
           },
           "mode": "markers",
           "name": "20A",
           "showlegend": true,
           "type": "scattergeo"
          },
          {
           "customdata": [
            [
             "20B",
             1,
             "NJ",
             3,
             1
            ],
            [
             "20B",
             5,
             "NC",
             3,
             5
            ]
           ],
           "geo": "geo",
           "hovertemplate": "<b>%{hovertext}</b><br><br>clade=%{customdata[0]}<br>count=%{customdata[1]}<extra></extra>",
           "hovertext": [
            "NJ",
            "NC"
           ],
           "legendgroup": "20B",
           "locationmode": "USA-states",
           "locations": [
            "NJ",
            "NC"
           ],
           "marker": {
            "color": "rgb(229,86,73)",
            "size": [
             1,
             5
            ],
            "sizemode": "area",
            "sizeref": 1.175,
            "symbol": "circle"
           },
           "mode": "markers",
           "name": "20B",
           "showlegend": true,
           "type": "scattergeo"
          },
          {
           "customdata": [
            [
             "20C",
             4,
             "PA",
             3,
             4
            ],
            [
             "20C",
             14,
             "UT",
             3,
             14
            ],
            [
             "20C",
             1,
             "NV",
             3,
             1
            ],
            [
             "20C",
             60,
             "MA",
             3,
             60
            ],
            [
             "20C",
             173,
             "MN",
             3,
             173
            ],
            [
             "20C",
             121,
             "FL",
             3,
             121
            ],
            [
             "20C",
             3,
             "LA",
             3,
             3
            ],
            [
             "20C",
             26,
             "GA",
             3,
             26
            ],
            [
             "20C",
             17,
             "SC",
             3,
             17
            ],
            [
             "20C",
             20,
             "MD",
             3,
             20
            ],
            [
             "20C",
             11,
             "OH",
             3,
             11
            ],
            [
             "20C",
             52,
             "NM",
             3,
             52
            ],
            [
             "20C",
             1,
             "AR",
             3,
             1
            ],
            [
             "20C",
             50,
             "WI",
             3,
             50
            ],
            [
             "20C",
             1,
             "AL",
             3,
             1
            ],
            [
             "20C",
             363,
             "CA",
             3,
             363
            ],
            [
             "20C",
             348,
             "VA",
             3,
             348
            ]
           ],
           "geo": "geo",
           "hovertemplate": "<b>%{hovertext}</b><br><br>clade=%{customdata[0]}<br>count=%{customdata[1]}<extra></extra>",
           "hovertext": [
            "PA",
            "UT",
            "NV",
            "MA",
            "MN",
            "FL",
            "LA",
            "GA",
            "SC",
            "MD",
            "OH",
            "NM",
            "AR",
            "WI",
            "AL",
            "CA",
            "VA"
           ],
           "legendgroup": "20C",
           "locationmode": "USA-states",
           "locations": [
            "PA",
            "UT",
            "NV",
            "MA",
            "MN",
            "FL",
            "LA",
            "GA",
            "SC",
            "MD",
            "OH",
            "NM",
            "AR",
            "WI",
            "AL",
            "CA",
            "VA"
           ],
           "marker": {
            "color": "rgb(244,109,67)",
            "size": [
             4,
             14,
             1,
             60,
             173,
             121,
             3,
             26,
             17,
             20,
             11,
             52,
             1,
             50,
             1,
             363,
             348
            ],
            "sizemode": "area",
            "sizeref": 1.175,
            "symbol": "circle"
           },
           "mode": "markers",
           "name": "20C",
           "showlegend": true,
           "type": "scattergeo"
          },
          {
           "customdata": [
            [
             "20G",
             1,
             "KY",
             3,
             1
            ],
            [
             "20G",
             43,
             "TX",
             3,
             43
            ]
           ],
           "geo": "geo",
           "hovertemplate": "<b>%{hovertext}</b><br><br>clade=%{customdata[0]}<br>count=%{customdata[1]}<extra></extra>",
           "hovertext": [
            "KY",
            "TX"
           ],
           "legendgroup": "20G",
           "locationmode": "USA-states",
           "locations": [
            "KY",
            "TX"
           ],
           "marker": {
            "color": "rgb(254,199,118)",
            "size": [
             1,
             43
            ],
            "sizemode": "area",
            "sizeref": 1.175,
            "symbol": "circle"
           },
           "mode": "markers",
           "name": "20G",
           "showlegend": true,
           "type": "scattergeo"
          }
         ],
         "name": "3"
        },
        {
         "data": [
          {
           "customdata": [
            [
             "19B",
             26,
             "WA",
             4,
             26
            ]
           ],
           "geo": "geo",
           "hovertemplate": "<b>%{hovertext}</b><br><br>clade=%{customdata[0]}<br>count=%{customdata[1]}<extra></extra>",
           "hovertext": [
            "WA"
           ],
           "legendgroup": "19B",
           "locationmode": "USA-states",
           "locations": [
            "WA"
           ],
           "marker": {
            "color": "rgb(186,32,73)",
            "size": [
             26
            ],
            "sizemode": "area",
            "sizeref": 1.175,
            "symbol": "circle"
           },
           "mode": "markers",
           "name": "19B",
           "showlegend": true,
           "type": "scattergeo"
          },
          {
           "customdata": [
            [
             "20A",
             7,
             "OK",
             4,
             7
            ],
            [
             "20A",
             2,
             "WY",
             4,
             2
            ],
            [
             "20A",
             1,
             "NH",
             4,
             1
            ],
            [
             "20A",
             1,
             "RI",
             4,
             1
            ],
            [
             "20A",
             115,
             "FL",
             4,
             115
            ],
            [
             "20A",
             82,
             "MD",
             4,
             82
            ],
            [
             "20A",
             1,
             "DE",
             4,
             1
            ],
            [
             "20A",
             4,
             "LA",
             4,
             4
            ],
            [
             "20A",
             2,
             "NY",
             4,
             2
            ],
            [
             "20A",
             5,
             "GU",
             4,
             5
            ],
            [
             "20A",
             11,
             "NV",
             4,
             11
            ]
           ],
           "geo": "geo",
           "hovertemplate": "<b>%{hovertext}</b><br><br>clade=%{customdata[0]}<br>count=%{customdata[1]}<extra></extra>",
           "hovertext": [
            "OK",
            "WY",
            "NH",
            "RI",
            "FL",
            "MD",
            "DE",
            "LA",
            "NY",
            "GU",
            "NV"
           ],
           "legendgroup": "20A",
           "locationmode": "USA-states",
           "locations": [
            "OK",
            "WY",
            "NH",
            "RI",
            "FL",
            "MD",
            "DE",
            "LA",
            "NY",
            "GU",
            "NV"
           ],
           "marker": {
            "color": "rgb(213,62,79)",
            "size": [
             7,
             2,
             1,
             1,
             115,
             82,
             1,
             4,
             2,
             5,
             11
            ],
            "sizemode": "area",
            "sizeref": 1.175,
            "symbol": "circle"
           },
           "mode": "markers",
           "name": "20A",
           "showlegend": true,
           "type": "scattergeo"
          },
          {
           "customdata": [
            [
             "20B",
             4,
             "CO",
             4,
             4
            ],
            [
             "20B",
             3,
             "NC",
             4,
             3
            ],
            [
             "20B",
             121,
             "KS",
             4,
             121
            ],
            [
             "20B",
             66,
             "MA",
             4,
             66
            ],
            [
             "20B",
             99,
             "AK",
             4,
             99
            ],
            [
             "20B",
             19,
             "TX",
             4,
             19
            ],
            [
             "20B",
             425,
             "VA",
             4,
             425
            ],
            [
             "20B",
             2,
             "AZ",
             4,
             2
            ],
            [
             "20B",
             2,
             "NY",
             4,
             2
            ]
           ],
           "geo": "geo",
           "hovertemplate": "<b>%{hovertext}</b><br><br>clade=%{customdata[0]}<br>count=%{customdata[1]}<extra></extra>",
           "hovertext": [
            "CO",
            "NC",
            "KS",
            "MA",
            "AK",
            "TX",
            "VA",
            "AZ",
            "NY"
           ],
           "legendgroup": "20B",
           "locationmode": "USA-states",
           "locations": [
            "CO",
            "NC",
            "KS",
            "MA",
            "AK",
            "TX",
            "VA",
            "AZ",
            "NY"
           ],
           "marker": {
            "color": "rgb(229,86,73)",
            "size": [
             4,
             3,
             121,
             66,
             99,
             19,
             425,
             2,
             2
            ],
            "sizemode": "area",
            "sizeref": 1.175,
            "symbol": "circle"
           },
           "mode": "markers",
           "name": "20B",
           "showlegend": true,
           "type": "scattergeo"
          },
          {
           "customdata": [
            [
             "20C",
             8,
             "NJ",
             4,
             8
            ],
            [
             "20C",
             7,
             "SC",
             4,
             7
            ],
            [
             "20C",
             1,
             "MI",
             4,
             1
            ],
            [
             "20C",
             55,
             "NM",
             4,
             55
            ],
            [
             "20C",
             4,
             "IN",
             4,
             4
            ],
            [
             "20C",
             60,
             "CT",
             4,
             60
            ],
            [
             "20C",
             1,
             "VT",
             4,
             1
            ],
            [
             "20C",
             28,
             "NE",
             4,
             28
            ],
            [
             "20C",
             52,
             "MN",
             4,
             52
            ]
           ],
           "geo": "geo",
           "hovertemplate": "<b>%{hovertext}</b><br><br>clade=%{customdata[0]}<br>count=%{customdata[1]}<extra></extra>",
           "hovertext": [
            "NJ",
            "SC",
            "MI",
            "NM",
            "IN",
            "CT",
            "VT",
            "NE",
            "MN"
           ],
           "legendgroup": "20C",
           "locationmode": "USA-states",
           "locations": [
            "NJ",
            "SC",
            "MI",
            "NM",
            "IN",
            "CT",
            "VT",
            "NE",
            "MN"
           ],
           "marker": {
            "color": "rgb(244,109,67)",
            "size": [
             8,
             7,
             1,
             55,
             4,
             60,
             1,
             28,
             52
            ],
            "sizemode": "area",
            "sizeref": 1.175,
            "symbol": "circle"
           },
           "mode": "markers",
           "name": "20C",
           "showlegend": true,
           "type": "scattergeo"
          },
          {
           "customdata": [
            [
             "20G",
             2,
             "MT",
             4,
             2
            ],
            [
             "20G",
             6,
             "OH",
             4,
             6
            ],
            [
             "20G",
             349,
             "SD",
             4,
             349
            ],
            [
             "20G",
             250,
             "AL",
             4,
             250
            ],
            [
             "20G",
             3,
             "IA",
             4,
             3
            ],
            [
             "20G",
             5,
             "ND",
             4,
             5
            ],
            [
             "20G",
             3,
             "MS",
             4,
             3
            ],
            [
             "20G",
             39,
             "OR",
             4,
             39
            ],
            [
             "20G",
             11,
             "KY",
             4,
             11
            ],
            [
             "20G",
             6,
             "ID",
             4,
             6
            ],
            [
             "20G",
             16,
             "MO",
             4,
             16
            ],
            [
             "20G",
             5,
             "WV",
             4,
             5
            ],
            [
             "20G",
             5,
             "IL",
             4,
             5
            ],
            [
             "20G",
             4,
             "PA",
             4,
             4
            ],
            [
             "20G",
             1,
             "HI",
             4,
             1
            ],
            [
             "20G",
             3,
             "NC",
             4,
             3
            ],
            [
             "20G",
             25,
             "GA",
             4,
             25
            ],
            [
             "20G",
             44,
             "WI",
             4,
             44
            ],
            [
             "20G",
             1,
             "UT",
             4,
             1
            ],
            [
             "20G",
             17,
             "TN",
             4,
             17
            ]
           ],
           "geo": "geo",
           "hovertemplate": "<b>%{hovertext}</b><br><br>clade=%{customdata[0]}<br>count=%{customdata[1]}<extra></extra>",
           "hovertext": [
            "MT",
            "OH",
            "SD",
            "AL",
            "IA",
            "ND",
            "MS",
            "OR",
            "KY",
            "ID",
            "MO",
            "WV",
            "IL",
            "PA",
            "HI",
            "NC",
            "GA",
            "WI",
            "UT",
            "TN"
           ],
           "legendgroup": "20G",
           "locationmode": "USA-states",
           "locations": [
            "MT",
            "OH",
            "SD",
            "AL",
            "IA",
            "ND",
            "MS",
            "OR",
            "KY",
            "ID",
            "MO",
            "WV",
            "IL",
            "PA",
            "HI",
            "NC",
            "GA",
            "WI",
            "UT",
            "TN"
           ],
           "marker": {
            "color": "rgb(254,199,118)",
            "size": [
             2,
             6,
             349,
             250,
             3,
             5,
             3,
             39,
             11,
             6,
             16,
             5,
             5,
             4,
             1,
             3,
             25,
             44,
             1,
             17
            ],
            "sizemode": "area",
            "sizeref": 1.175,
            "symbol": "circle"
           },
           "mode": "markers",
           "name": "20G",
           "showlegend": true,
           "type": "scattergeo"
          },
          {
           "customdata": [
            [
             "21C (Epsilon)",
             347,
             "CA",
             4,
             347
            ]
           ],
           "geo": "geo",
           "hovertemplate": "<b>%{hovertext}</b><br><br>clade=%{customdata[0]}<br>count=%{customdata[1]}<extra></extra>",
           "hovertext": [
            "CA"
           ],
           "legendgroup": "21C (Epsilon)",
           "locationmode": "USA-states",
           "locations": [
            "CA"
           ],
           "marker": {
            "color": "rgb(201,233,158)",
            "size": [
             347
            ],
            "sizemode": "area",
            "sizeref": 1.175,
            "symbol": "circle"
           },
           "mode": "markers",
           "name": "21C (Epsilon)",
           "showlegend": true,
           "type": "scattergeo"
          }
         ],
         "name": "4"
        },
        {
         "data": [
          {
           "customdata": [
            [
             "19B",
             2,
             "NH",
             5,
             2
            ]
           ],
           "geo": "geo",
           "hovertemplate": "<b>%{hovertext}</b><br><br>clade=%{customdata[0]}<br>count=%{customdata[1]}<extra></extra>",
           "hovertext": [
            "NH"
           ],
           "legendgroup": "19B",
           "locationmode": "USA-states",
           "locations": [
            "NH"
           ],
           "marker": {
            "color": "rgb(186,32,73)",
            "size": [
             2
            ],
            "sizemode": "area",
            "sizeref": 1.175,
            "symbol": "circle"
           },
           "mode": "markers",
           "name": "19B",
           "showlegend": true,
           "type": "scattergeo"
          },
          {
           "customdata": [
            [
             "20A",
             33,
             "MS",
             5,
             33
            ],
            [
             "20A",
             32,
             "AR",
             5,
             32
            ],
            [
             "20A",
             30,
             "WI",
             5,
             30
            ],
            [
             "20A",
             2,
             "GU",
             5,
             2
            ],
            [
             "20A",
             17,
             "UT",
             5,
             17
            ],
            [
             "20A",
             2,
             "PR",
             5,
             2
            ],
            [
             "20A",
             7,
             "ID",
             5,
             7
            ],
            [
             "20A",
             249,
             "CA",
             5,
             249
            ]
           ],
           "geo": "geo",
           "hovertemplate": "<b>%{hovertext}</b><br><br>clade=%{customdata[0]}<br>count=%{customdata[1]}<extra></extra>",
           "hovertext": [
            "MS",
            "AR",
            "WI",
            "GU",
            "UT",
            "PR",
            "ID",
            "CA"
           ],
           "legendgroup": "20A",
           "locationmode": "USA-states",
           "locations": [
            "MS",
            "AR",
            "WI",
            "GU",
            "UT",
            "PR",
            "ID",
            "CA"
           ],
           "marker": {
            "color": "rgb(213,62,79)",
            "size": [
             33,
             32,
             30,
             2,
             17,
             2,
             7,
             249
            ],
            "sizemode": "area",
            "sizeref": 1.175,
            "symbol": "circle"
           },
           "mode": "markers",
           "name": "20A",
           "showlegend": true,
           "type": "scattergeo"
          },
          {
           "customdata": [
            [
             "20B",
             35,
             "WA",
             5,
             35
            ],
            [
             "20B",
             6,
             "AK",
             5,
             6
            ],
            [
             "20B",
             15,
             "RI",
             5,
             15
            ]
           ],
           "geo": "geo",
           "hovertemplate": "<b>%{hovertext}</b><br><br>clade=%{customdata[0]}<br>count=%{customdata[1]}<extra></extra>",
           "hovertext": [
            "WA",
            "AK",
            "RI"
           ],
           "legendgroup": "20B",
           "locationmode": "USA-states",
           "locations": [
            "WA",
            "AK",
            "RI"
           ],
           "marker": {
            "color": "rgb(229,86,73)",
            "size": [
             35,
             6,
             15
            ],
            "sizemode": "area",
            "sizeref": 1.175,
            "symbol": "circle"
           },
           "mode": "markers",
           "name": "20B",
           "showlegend": true,
           "type": "scattergeo"
          },
          {
           "customdata": [
            [
             "20C",
             3614,
             "VA",
             5,
             3614
            ],
            [
             "20C",
             32,
             "CT",
             5,
             32
            ],
            [
             "20C",
             3,
             "DE",
             5,
             3
            ],
            [
             "20C",
             1,
             "HI",
             5,
             1
            ]
           ],
           "geo": "geo",
           "hovertemplate": "<b>%{hovertext}</b><br><br>clade=%{customdata[0]}<br>count=%{customdata[1]}<extra></extra>",
           "hovertext": [
            "VA",
            "CT",
            "DE",
            "HI"
           ],
           "legendgroup": "20C",
           "locationmode": "USA-states",
           "locations": [
            "VA",
            "CT",
            "DE",
            "HI"
           ],
           "marker": {
            "color": "rgb(244,109,67)",
            "size": [
             3614,
             32,
             3,
             1
            ],
            "sizemode": "area",
            "sizeref": 1.175,
            "symbol": "circle"
           },
           "mode": "markers",
           "name": "20C",
           "showlegend": true,
           "type": "scattergeo"
          },
          {
           "customdata": [
            [
             "20G",
             8,
             "ME",
             5,
             8
            ],
            [
             "20G",
             10,
             "NV",
             5,
             10
            ],
            [
             "20G",
             102,
             "MA",
             5,
             102
            ],
            [
             "20G",
             8,
             "WY",
             5,
             8
            ],
            [
             "20G",
             3,
             "OR",
             5,
             3
            ],
            [
             "20G",
             48,
             "ND",
             5,
             48
            ],
            [
             "20G",
             30,
             "NY",
             5,
             30
            ],
            [
             "20G",
             7,
             "OK",
             5,
             7
            ],
            [
             "20G",
             48,
             "MD",
             5,
             48
            ],
            [
             "20G",
             15,
             "LA",
             5,
             15
            ],
            [
             "20G",
             35,
             "OH",
             5,
             35
            ],
            [
             "20G",
             16,
             "AZ",
             5,
             16
            ],
            [
             "20G",
             17,
             "KY",
             5,
             17
            ],
            [
             "20G",
             53,
             "IN",
             5,
             53
            ],
            [
             "20G",
             51,
             "NM",
             5,
             51
            ],
            [
             "20G",
             21,
             "KS",
             5,
             21
            ],
            [
             "20G",
             101,
             "AL",
             5,
             101
            ],
            [
             "20G",
             10,
             "WV",
             5,
             10
            ],
            [
             "20G",
             19,
             "CO",
             5,
             19
            ],
            [
             "20G",
             26,
             "TN",
             5,
             26
            ],
            [
             "20G",
             2,
             "NH",
             5,
             2
            ],
            [
             "20G",
             58,
             "GA",
             5,
             58
            ],
            [
             "20G",
             6,
             "AK",
             5,
             6
            ],
            [
             "20G",
             3,
             "VT",
             5,
             3
            ],
            [
             "20G",
             88,
             "NC",
             5,
             88
            ],
            [
             "20G",
             62,
             "TX",
             5,
             62
            ],
            [
             "20G",
             61,
             "FL",
             5,
             61
            ],
            [
             "20G",
             78,
             "MN",
             5,
             78
            ],
            [
             "20G",
             46,
             "MO",
             5,
             46
            ],
            [
             "20G",
             65,
             "MT",
             5,
             65
            ],
            [
             "20G",
             2,
             "GU",
             5,
             2
            ],
            [
             "20G",
             1,
             "HI",
             5,
             1
            ],
            [
             "20G",
             36,
             "MI",
             5,
             36
            ],
            [
             "20G",
             10,
             "IL",
             5,
             10
            ],
            [
             "20G",
             5,
             "NJ",
             5,
             5
            ],
            [
             "20G",
             3,
             "IA",
             5,
             3
            ],
            [
             "20G",
             32,
             "SC",
             5,
             32
            ],
            [
             "20G",
             40,
             "PA",
             5,
             40
            ],
            [
             "20G",
             2,
             "NE",
             5,
             2
            ],
            [
             "20G",
             2,
             "SD",
             5,
             2
            ]
           ],
           "geo": "geo",
           "hovertemplate": "<b>%{hovertext}</b><br><br>clade=%{customdata[0]}<br>count=%{customdata[1]}<extra></extra>",
           "hovertext": [
            "ME",
            "NV",
            "MA",
            "WY",
            "OR",
            "ND",
            "NY",
            "OK",
            "MD",
            "LA",
            "OH",
            "AZ",
            "KY",
            "IN",
            "NM",
            "KS",
            "AL",
            "WV",
            "CO",
            "TN",
            "NH",
            "GA",
            "AK",
            "VT",
            "NC",
            "TX",
            "FL",
            "MN",
            "MO",
            "MT",
            "GU",
            "HI",
            "MI",
            "IL",
            "NJ",
            "IA",
            "SC",
            "PA",
            "NE",
            "SD"
           ],
           "legendgroup": "20G",
           "locationmode": "USA-states",
           "locations": [
            "ME",
            "NV",
            "MA",
            "WY",
            "OR",
            "ND",
            "NY",
            "OK",
            "MD",
            "LA",
            "OH",
            "AZ",
            "KY",
            "IN",
            "NM",
            "KS",
            "AL",
            "WV",
            "CO",
            "TN",
            "NH",
            "GA",
            "AK",
            "VT",
            "NC",
            "TX",
            "FL",
            "MN",
            "MO",
            "MT",
            "GU",
            "HI",
            "MI",
            "IL",
            "NJ",
            "IA",
            "SC",
            "PA",
            "NE",
            "SD"
           ],
           "marker": {
            "color": "rgb(254,199,118)",
            "size": [
             8,
             10,
             102,
             8,
             3,
             48,
             30,
             7,
             48,
             15,
             35,
             16,
             17,
             53,
             51,
             21,
             101,
             10,
             19,
             26,
             2,
             58,
             6,
             3,
             88,
             62,
             61,
             78,
             46,
             65,
             2,
             1,
             36,
             10,
             5,
             3,
             32,
             40,
             2,
             2
            ],
            "sizemode": "area",
            "sizeref": 1.175,
            "symbol": "circle"
           },
           "mode": "markers",
           "name": "20G",
           "showlegend": true,
           "type": "scattergeo"
          },
          {
           "customdata": [
            [
             "21C (Epsilon)",
             1,
             "HI",
             5,
             1
            ]
           ],
           "geo": "geo",
           "hovertemplate": "<b>%{hovertext}</b><br><br>clade=%{customdata[0]}<br>count=%{customdata[1]}<extra></extra>",
           "hovertext": [
            "HI"
           ],
           "legendgroup": "21C (Epsilon)",
           "locationmode": "USA-states",
           "locations": [
            "HI"
           ],
           "marker": {
            "color": "rgb(201,233,158)",
            "size": [
             1
            ],
            "sizemode": "area",
            "sizeref": 1.175,
            "symbol": "circle"
           },
           "mode": "markers",
           "name": "21C (Epsilon)",
           "showlegend": true,
           "type": "scattergeo"
          }
         ],
         "name": "5"
        },
        {
         "data": [
          {
           "customdata": [
            [
             "20A",
             450,
             "MD",
             6,
             450
            ],
            [
             "20A",
             3,
             "NE",
             6,
             3
            ],
            [
             "20A",
             2,
             "IA",
             6,
             2
            ],
            [
             "20A",
             31,
             "CO",
             6,
             31
            ],
            [
             "20A",
             56,
             "AR",
             6,
             56
            ],
            [
             "20A",
             23,
             "NY",
             6,
             23
            ],
            [
             "20A",
             27,
             "AZ",
             6,
             27
            ]
           ],
           "geo": "geo",
           "hovertemplate": "<b>%{hovertext}</b><br><br>clade=%{customdata[0]}<br>count=%{customdata[1]}<extra></extra>",
           "hovertext": [
            "MD",
            "NE",
            "IA",
            "CO",
            "AR",
            "NY",
            "AZ"
           ],
           "legendgroup": "20A",
           "locationmode": "USA-states",
           "locations": [
            "MD",
            "NE",
            "IA",
            "CO",
            "AR",
            "NY",
            "AZ"
           ],
           "marker": {
            "color": "rgb(213,62,79)",
            "size": [
             450,
             3,
             2,
             31,
             56,
             23,
             27
            ],
            "sizemode": "area",
            "sizeref": 1.175,
            "symbol": "circle"
           },
           "mode": "markers",
           "name": "20A",
           "showlegend": true,
           "type": "scattergeo"
          },
          {
           "customdata": [
            [
             "20B",
             61,
             "NH",
             6,
             61
            ],
            [
             "20B",
             36,
             "NM",
             6,
             36
            ],
            [
             "20B",
             3,
             "VT",
             6,
             3
            ],
            [
             "20B",
             2,
             "MT",
             6,
             2
            ],
            [
             "20B",
             28,
             "WA",
             6,
             28
            ]
           ],
           "geo": "geo",
           "hovertemplate": "<b>%{hovertext}</b><br><br>clade=%{customdata[0]}<br>count=%{customdata[1]}<extra></extra>",
           "hovertext": [
            "NH",
            "NM",
            "VT",
            "MT",
            "WA"
           ],
           "legendgroup": "20B",
           "locationmode": "USA-states",
           "locations": [
            "NH",
            "NM",
            "VT",
            "MT",
            "WA"
           ],
           "marker": {
            "color": "rgb(229,86,73)",
            "size": [
             61,
             36,
             3,
             2,
             28
            ],
            "sizemode": "area",
            "sizeref": 1.175,
            "symbol": "circle"
           },
           "mode": "markers",
           "name": "20B",
           "showlegend": true,
           "type": "scattergeo"
          },
          {
           "customdata": [
            [
             "20C",
             72,
             "ME",
             6,
             72
            ],
            [
             "20C",
             96,
             "RI",
             6,
             96
            ],
            [
             "20C",
             30,
             "TN",
             6,
             30
            ],
            [
             "20C",
             6,
             "VA",
             6,
             6
            ],
            [
             "20C",
             177,
             "MA",
             6,
             177
            ],
            [
             "20C",
             2,
             "KS",
             6,
             2
            ],
            [
             "20C",
             13,
             "OR",
             6,
             13
            ],
            [
             "20C",
             10,
             "MS",
             6,
             10
            ]
           ],
           "geo": "geo",
           "hovertemplate": "<b>%{hovertext}</b><br><br>clade=%{customdata[0]}<br>count=%{customdata[1]}<extra></extra>",
           "hovertext": [
            "ME",
            "RI",
            "TN",
            "VA",
            "MA",
            "KS",
            "OR",
            "MS"
           ],
           "legendgroup": "20C",
           "locationmode": "USA-states",
           "locations": [
            "ME",
            "RI",
            "TN",
            "VA",
            "MA",
            "KS",
            "OR",
            "MS"
           ],
           "marker": {
            "color": "rgb(244,109,67)",
            "size": [
             72,
             96,
             30,
             6,
             177,
             2,
             13,
             10
            ],
            "sizemode": "area",
            "sizeref": 1.175,
            "symbol": "circle"
           },
           "mode": "markers",
           "name": "20C",
           "showlegend": true,
           "type": "scattergeo"
          },
          {
           "customdata": [
            [
             "20G",
             18,
             "NJ",
             6,
             18
            ],
            [
             "20G",
             71,
             "MN",
             6,
             71
            ],
            [
             "20G",
             22,
             "AL",
             6,
             22
            ],
            [
             "20G",
             86,
             "MO",
             6,
             86
            ],
            [
             "20G",
             114,
             "AK",
             6,
             114
            ],
            [
             "20G",
             30,
             "MI",
             6,
             30
            ],
            [
             "20G",
             13,
             "WY",
             6,
             13
            ],
            [
             "20G",
             27,
             "UT",
             6,
             27
            ],
            [
             "20G",
             39,
             "NC",
             6,
             39
            ],
            [
             "20G",
             177,
             "SC",
             6,
             177
            ],
            [
             "20G",
             24,
             "HI",
             6,
             24
            ],
            [
             "20G",
             619,
             "GA",
             6,
             619
            ],
            [
             "20G",
             4230,
             "TX",
             6,
             4230
            ],
            [
             "20G",
             29,
             "CT",
             6,
             29
            ],
            [
             "20G",
             5,
             "DC",
             6,
             5
            ],
            [
             "20G",
             4,
             "ID",
             6,
             4
            ],
            [
             "20G",
             10,
             "WV",
             6,
             10
            ],
            [
             "20G",
             3,
             "NE",
             6,
             3
            ],
            [
             "20G",
             58,
             "IL",
             6,
             58
            ],
            [
             "20G",
             122,
             "NV",
             6,
             122
            ],
            [
             "20G",
             47,
             "ND",
             6,
             47
            ],
            [
             "20G",
             10,
             "WI",
             6,
             10
            ],
            [
             "20G",
             44,
             "LA",
             6,
             44
            ],
            [
             "20G",
             123,
             "KY",
             6,
             123
            ],
            [
             "20G",
             106,
             "OH",
             6,
             106
            ],
            [
             "20G",
             4,
             "OK",
             6,
             4
            ],
            [
             "20G",
             57,
             "IN",
             6,
             57
            ],
            [
             "20G",
             132,
             "PA",
             6,
             132
            ]
           ],
           "geo": "geo",
           "hovertemplate": "<b>%{hovertext}</b><br><br>clade=%{customdata[0]}<br>count=%{customdata[1]}<extra></extra>",
           "hovertext": [
            "NJ",
            "MN",
            "AL",
            "MO",
            "AK",
            "MI",
            "WY",
            "UT",
            "NC",
            "SC",
            "HI",
            "GA",
            "TX",
            "CT",
            "DC",
            "ID",
            "WV",
            "NE",
            "IL",
            "NV",
            "ND",
            "WI",
            "LA",
            "KY",
            "OH",
            "OK",
            "IN",
            "PA"
           ],
           "legendgroup": "20G",
           "locationmode": "USA-states",
           "locations": [
            "NJ",
            "MN",
            "AL",
            "MO",
            "AK",
            "MI",
            "WY",
            "UT",
            "NC",
            "SC",
            "HI",
            "GA",
            "TX",
            "CT",
            "DC",
            "ID",
            "WV",
            "NE",
            "IL",
            "NV",
            "ND",
            "WI",
            "LA",
            "KY",
            "OH",
            "OK",
            "IN",
            "PA"
           ],
           "marker": {
            "color": "rgb(254,199,118)",
            "size": [
             18,
             71,
             22,
             86,
             114,
             30,
             13,
             27,
             39,
             177,
             24,
             619,
             4230,
             29,
             5,
             4,
             10,
             3,
             58,
             122,
             47,
             10,
             44,
             123,
             106,
             4,
             57,
             132
            ],
            "sizemode": "area",
            "sizeref": 1.175,
            "symbol": "circle"
           },
           "mode": "markers",
           "name": "20G",
           "showlegend": true,
           "type": "scattergeo"
          },
          {
           "customdata": [
            [
             "21C (Epsilon)",
             799,
             "CA",
             6,
             799
            ]
           ],
           "geo": "geo",
           "hovertemplate": "<b>%{hovertext}</b><br><br>clade=%{customdata[0]}<br>count=%{customdata[1]}<extra></extra>",
           "hovertext": [
            "CA"
           ],
           "legendgroup": "21C (Epsilon)",
           "locationmode": "USA-states",
           "locations": [
            "CA"
           ],
           "marker": {
            "color": "rgb(201,233,158)",
            "size": [
             799
            ],
            "sizemode": "area",
            "sizeref": 1.175,
            "symbol": "circle"
           },
           "mode": "markers",
           "name": "21C (Epsilon)",
           "showlegend": true,
           "type": "scattergeo"
          },
          {
           "customdata": [
            [
             "21F (Iota)",
             271,
             "FL",
             6,
             271
            ]
           ],
           "geo": "geo",
           "hovertemplate": "<b>%{hovertext}</b><br><br>clade=%{customdata[0]}<br>count=%{customdata[1]}<extra></extra>",
           "hovertext": [
            "FL"
           ],
           "legendgroup": "21F (Iota)",
           "locationmode": "USA-states",
           "locations": [
            "FL"
           ],
           "marker": {
            "color": "rgb(137,208,165)",
            "size": [
             271
            ],
            "sizemode": "area",
            "sizeref": 1.175,
            "symbol": "circle"
           },
           "mode": "markers",
           "name": "21F (Iota)",
           "showlegend": true,
           "type": "scattergeo"
          }
         ],
         "name": "6"
        },
        {
         "data": [
          {
           "customdata": [
            [
             "20A",
             31,
             "NH",
             7,
             31
            ],
            [
             "20A",
             11,
             "SD",
             7,
             11
            ],
            [
             "20A",
             178,
             "PA",
             7,
             178
            ],
            [
             "20A",
             31,
             "OK",
             7,
             31
            ]
           ],
           "geo": "geo",
           "hovertemplate": "<b>%{hovertext}</b><br><br>clade=%{customdata[0]}<br>count=%{customdata[1]}<extra></extra>",
           "hovertext": [
            "NH",
            "SD",
            "PA",
            "OK"
           ],
           "legendgroup": "20A",
           "locationmode": "USA-states",
           "locations": [
            "NH",
            "SD",
            "PA",
            "OK"
           ],
           "marker": {
            "color": "rgb(213,62,79)",
            "size": [
             31,
             11,
             178,
             31
            ],
            "sizemode": "area",
            "sizeref": 1.175,
            "symbol": "circle"
           },
           "mode": "markers",
           "name": "20A",
           "showlegend": true,
           "type": "scattergeo"
          },
          {
           "customdata": [
            [
             "20B",
             3,
             "ND",
             7,
             3
            ],
            [
             "20B",
             8,
             "VA",
             7,
             8
            ],
            [
             "20B",
             37,
             "NM",
             7,
             37
            ],
            [
             "20B",
             4,
             "WY",
             7,
             4
            ],
            [
             "20B",
             7,
             "AK",
             7,
             7
            ]
           ],
           "geo": "geo",
           "hovertemplate": "<b>%{hovertext}</b><br><br>clade=%{customdata[0]}<br>count=%{customdata[1]}<extra></extra>",
           "hovertext": [
            "ND",
            "VA",
            "NM",
            "WY",
            "AK"
           ],
           "legendgroup": "20B",
           "locationmode": "USA-states",
           "locations": [
            "ND",
            "VA",
            "NM",
            "WY",
            "AK"
           ],
           "marker": {
            "color": "rgb(229,86,73)",
            "size": [
             3,
             8,
             37,
             4,
             7
            ],
            "sizemode": "area",
            "sizeref": 1.175,
            "symbol": "circle"
           },
           "mode": "markers",
           "name": "20B",
           "showlegend": true,
           "type": "scattergeo"
          },
          {
           "customdata": [
            [
             "20C",
             294,
             "NJ",
             7,
             294
            ],
            [
             "20C",
             44,
             "DE",
             7,
             44
            ]
           ],
           "geo": "geo",
           "hovertemplate": "<b>%{hovertext}</b><br><br>clade=%{customdata[0]}<br>count=%{customdata[1]}<extra></extra>",
           "hovertext": [
            "NJ",
            "DE"
           ],
           "legendgroup": "20C",
           "locationmode": "USA-states",
           "locations": [
            "NJ",
            "DE"
           ],
           "marker": {
            "color": "rgb(244,109,67)",
            "size": [
             294,
             44
            ],
            "sizemode": "area",
            "sizeref": 1.175,
            "symbol": "circle"
           },
           "mode": "markers",
           "name": "20C",
           "showlegend": true,
           "type": "scattergeo"
          },
          {
           "customdata": [
            [
             "20G",
             49,
             "NC",
             7,
             49
            ],
            [
             "20G",
             127,
             "TX",
             7,
             127
            ],
            [
             "20G",
             30,
             "TN",
             7,
             30
            ],
            [
             "20G",
             55,
             "SC",
             7,
             55
            ],
            [
             "20G",
             7,
             "NE",
             7,
             7
            ],
            [
             "20G",
             4,
             "UT",
             7,
             4
            ],
            [
             "20G",
             50,
             "NY",
             7,
             50
            ],
            [
             "20G",
             19,
             "NV",
             7,
             19
            ],
            [
             "20G",
             19,
             "WI",
             7,
             19
            ],
            [
             "20G",
             44,
             "WV",
             7,
             44
            ],
            [
             "20G",
             31,
             "NH",
             7,
             31
            ],
            [
             "20G",
             540,
             "OH",
             7,
             540
            ],
            [
             "20G",
             6,
             "PR",
             7,
             6
            ],
            [
             "20G",
             4,
             "KS",
             7,
             4
            ],
            [
             "20G",
             100,
             "FL",
             7,
             100
            ],
            [
             "20G",
             14,
             "MD",
             7,
             14
            ],
            [
             "20G",
             134,
             "MI",
             7,
             134
            ],
            [
             "20G",
             67,
             "IA",
             7,
             67
            ],
            [
             "20G",
             25,
             "ID",
             7,
             25
            ],
            [
             "20G",
             5,
             "AR",
             7,
             5
            ],
            [
             "20G",
             315,
             "MN",
             7,
             315
            ],
            [
             "20G",
             10,
             "CO",
             7,
             10
            ],
            [
             "20G",
             43,
             "IN",
             7,
             43
            ],
            [
             "20G",
             7,
             "MO",
             7,
             7
            ],
            [
             "20G",
             27,
             "AL",
             7,
             27
            ],
            [
             "20G",
             18,
             "LA",
             7,
             18
            ],
            [
             "20G",
             141,
             "CT",
             7,
             141
            ],
            [
             "20G",
             28,
             "KY",
             7,
             28
            ],
            [
             "20G",
             29,
             "ME",
             7,
             29
            ],
            [
             "20G",
             92,
             "IL",
             7,
             92
            ],
            [
             "20G",
             68,
             "GA",
             7,
             68
            ]
           ],
           "geo": "geo",
           "hovertemplate": "<b>%{hovertext}</b><br><br>clade=%{customdata[0]}<br>count=%{customdata[1]}<extra></extra>",
           "hovertext": [
            "NC",
            "TX",
            "TN",
            "SC",
            "NE",
            "UT",
            "NY",
            "NV",
            "WI",
            "WV",
            "NH",
            "OH",
            "PR",
            "KS",
            "FL",
            "MD",
            "MI",
            "IA",
            "ID",
            "AR",
            "MN",
            "CO",
            "IN",
            "MO",
            "AL",
            "LA",
            "CT",
            "KY",
            "ME",
            "IL",
            "GA"
           ],
           "legendgroup": "20G",
           "locationmode": "USA-states",
           "locations": [
            "NC",
            "TX",
            "TN",
            "SC",
            "NE",
            "UT",
            "NY",
            "NV",
            "WI",
            "WV",
            "NH",
            "OH",
            "PR",
            "KS",
            "FL",
            "MD",
            "MI",
            "IA",
            "ID",
            "AR",
            "MN",
            "CO",
            "IN",
            "MO",
            "AL",
            "LA",
            "CT",
            "KY",
            "ME",
            "IL",
            "GA"
           ],
           "marker": {
            "color": "rgb(254,199,118)",
            "size": [
             49,
             127,
             30,
             55,
             7,
             4,
             50,
             19,
             19,
             44,
             31,
             540,
             6,
             4,
             100,
             14,
             134,
             67,
             25,
             5,
             315,
             10,
             43,
             7,
             27,
             18,
             141,
             28,
             29,
             92,
             68
            ],
            "sizemode": "area",
            "sizeref": 1.175,
            "symbol": "circle"
           },
           "mode": "markers",
           "name": "20G",
           "showlegend": true,
           "type": "scattergeo"
          },
          {
           "customdata": [
            [
             "21C (Epsilon)",
             2,
             "WA",
             7,
             2
            ],
            [
             "21C (Epsilon)",
             8,
             "VT",
             7,
             8
            ],
            [
             "21C (Epsilon)",
             5,
             "OR",
             7,
             5
            ],
            [
             "21C (Epsilon)",
             82,
             "MS",
             7,
             82
            ],
            [
             "21C (Epsilon)",
             23,
             "AZ",
             7,
             23
            ],
            [
             "21C (Epsilon)",
             289,
             "CA",
             7,
             289
            ],
            [
             "21C (Epsilon)",
             4,
             "MT",
             7,
             4
            ],
            [
             "21C (Epsilon)",
             3,
             "HI",
             7,
             3
            ]
           ],
           "geo": "geo",
           "hovertemplate": "<b>%{hovertext}</b><br><br>clade=%{customdata[0]}<br>count=%{customdata[1]}<extra></extra>",
           "hovertext": [
            "WA",
            "VT",
            "OR",
            "MS",
            "AZ",
            "CA",
            "MT",
            "HI"
           ],
           "legendgroup": "21C (Epsilon)",
           "locationmode": "USA-states",
           "locations": [
            "WA",
            "VT",
            "OR",
            "MS",
            "AZ",
            "CA",
            "MT",
            "HI"
           ],
           "marker": {
            "color": "rgb(201,233,158)",
            "size": [
             2,
             8,
             5,
             82,
             23,
             289,
             4,
             3
            ],
            "sizemode": "area",
            "sizeref": 1.175,
            "symbol": "circle"
           },
           "mode": "markers",
           "name": "21C (Epsilon)",
           "showlegend": true,
           "type": "scattergeo"
          },
          {
           "customdata": [
            [
             "21F (Iota)",
             65,
             "RI",
             7,
             65
            ],
            [
             "21F (Iota)",
             135,
             "MA",
             7,
             135
            ],
            [
             "21F (Iota)",
             7,
             "DC",
             7,
             7
            ]
           ],
           "geo": "geo",
           "hovertemplate": "<b>%{hovertext}</b><br><br>clade=%{customdata[0]}<br>count=%{customdata[1]}<extra></extra>",
           "hovertext": [
            "RI",
            "MA",
            "DC"
           ],
           "legendgroup": "21F (Iota)",
           "locationmode": "USA-states",
           "locations": [
            "RI",
            "MA",
            "DC"
           ],
           "marker": {
            "color": "rgb(137,208,165)",
            "size": [
             65,
             135,
             7
            ],
            "sizemode": "area",
            "sizeref": 1.175,
            "symbol": "circle"
           },
           "mode": "markers",
           "name": "21F (Iota)",
           "showlegend": true,
           "type": "scattergeo"
          }
         ],
         "name": "7"
        },
        {
         "data": [
          {
           "customdata": [
            [
             "20A",
             1,
             "KS",
             8,
             1
            ],
            [
             "20A",
             1,
             "SD",
             8,
             1
            ]
           ],
           "geo": "geo",
           "hovertemplate": "<b>%{hovertext}</b><br><br>clade=%{customdata[0]}<br>count=%{customdata[1]}<extra></extra>",
           "hovertext": [
            "KS",
            "SD"
           ],
           "legendgroup": "20A",
           "locationmode": "USA-states",
           "locations": [
            "KS",
            "SD"
           ],
           "marker": {
            "color": "rgb(213,62,79)",
            "size": [
             1,
             1
            ],
            "sizemode": "area",
            "sizeref": 1.175,
            "symbol": "circle"
           },
           "mode": "markers",
           "name": "20A",
           "showlegend": true,
           "type": "scattergeo"
          },
          {
           "customdata": [
            [
             "20B",
             9,
             "DC",
             8,
             9
            ],
            [
             "20B",
             11,
             "NM",
             8,
             11
            ],
            [
             "20B",
             5,
             "UT",
             8,
             5
            ],
            [
             "20B",
             83,
             "TX",
             8,
             83
            ],
            [
             "20B",
             9,
             "NV",
             8,
             9
            ],
            [
             "20B",
             1,
             "KS",
             8,
             1
            ],
            [
             "20B",
             1,
             "HI",
             8,
             1
            ],
            [
             "20B",
             1,
             "AL",
             8,
             1
            ],
            [
             "20B",
             47,
             "AK",
             8,
             47
            ],
            [
             "20B",
             6,
             "IA",
             8,
             6
            ],
            [
             "20B",
             4,
             "NE",
             8,
             4
            ]
           ],
           "geo": "geo",
           "hovertemplate": "<b>%{hovertext}</b><br><br>clade=%{customdata[0]}<br>count=%{customdata[1]}<extra></extra>",
           "hovertext": [
            "DC",
            "NM",
            "UT",
            "TX",
            "NV",
            "KS",
            "HI",
            "AL",
            "AK",
            "IA",
            "NE"
           ],
           "legendgroup": "20B",
           "locationmode": "USA-states",
           "locations": [
            "DC",
            "NM",
            "UT",
            "TX",
            "NV",
            "KS",
            "HI",
            "AL",
            "AK",
            "IA",
            "NE"
           ],
           "marker": {
            "color": "rgb(229,86,73)",
            "size": [
             9,
             11,
             5,
             83,
             9,
             1,
             1,
             1,
             47,
             6,
             4
            ],
            "sizemode": "area",
            "sizeref": 1.175,
            "symbol": "circle"
           },
           "mode": "markers",
           "name": "20B",
           "showlegend": true,
           "type": "scattergeo"
          },
          {
           "customdata": [
            [
             "20C",
             7,
             "VA",
             8,
             7
            ],
            [
             "20C",
             3,
             "KY",
             8,
             3
            ],
            [
             "20C",
             2,
             "ND",
             8,
             2
            ]
           ],
           "geo": "geo",
           "hovertemplate": "<b>%{hovertext}</b><br><br>clade=%{customdata[0]}<br>count=%{customdata[1]}<extra></extra>",
           "hovertext": [
            "VA",
            "KY",
            "ND"
           ],
           "legendgroup": "20C",
           "locationmode": "USA-states",
           "locations": [
            "VA",
            "KY",
            "ND"
           ],
           "marker": {
            "color": "rgb(244,109,67)",
            "size": [
             7,
             3,
             2
            ],
            "sizemode": "area",
            "sizeref": 1.175,
            "symbol": "circle"
           },
           "mode": "markers",
           "name": "20C",
           "showlegend": true,
           "type": "scattergeo"
          },
          {
           "customdata": [
            [
             "20G",
             17,
             "IN",
             8,
             17
            ],
            [
             "20G",
             28,
             "OH",
             8,
             28
            ],
            [
             "20G",
             5,
             "AZ",
             8,
             5
            ],
            [
             "20G",
             5,
             "WV",
             8,
             5
            ],
            [
             "20G",
             20,
             "TN",
             8,
             20
            ],
            [
             "20G",
             1,
             "SD",
             8,
             1
            ],
            [
             "20G",
             2,
             "MT",
             8,
             2
            ],
            [
             "20G",
             6,
             "SC",
             8,
             6
            ],
            [
             "20G",
             91,
             "MI",
             8,
             91
            ],
            [
             "20G",
             1,
             "KS",
             8,
             1
            ],
            [
             "20G",
             70,
             "WI",
             8,
             70
            ]
           ],
           "geo": "geo",
           "hovertemplate": "<b>%{hovertext}</b><br><br>clade=%{customdata[0]}<br>count=%{customdata[1]}<extra></extra>",
           "hovertext": [
            "IN",
            "OH",
            "AZ",
            "WV",
            "TN",
            "SD",
            "MT",
            "SC",
            "MI",
            "KS",
            "WI"
           ],
           "legendgroup": "20G",
           "locationmode": "USA-states",
           "locations": [
            "IN",
            "OH",
            "AZ",
            "WV",
            "TN",
            "SD",
            "MT",
            "SC",
            "MI",
            "KS",
            "WI"
           ],
           "marker": {
            "color": "rgb(254,199,118)",
            "size": [
             17,
             28,
             5,
             5,
             20,
             1,
             2,
             6,
             91,
             1,
             70
            ],
            "sizemode": "area",
            "sizeref": 1.175,
            "symbol": "circle"
           },
           "mode": "markers",
           "name": "20G",
           "showlegend": true,
           "type": "scattergeo"
          },
          {
           "customdata": [
            [
             "20J (Gamma, V3)",
             124,
             "IL",
             8,
             124
            ],
            [
             "20J (Gamma, V3)",
             41,
             "GA",
             8,
             41
            ],
            [
             "20J (Gamma, V3)",
             1,
             "HI",
             8,
             1
            ],
            [
             "20J (Gamma, V3)",
             1,
             "KS",
             8,
             1
            ],
            [
             "20J (Gamma, V3)",
             5,
             "WA",
             8,
             5
            ]
           ],
           "geo": "geo",
           "hovertemplate": "<b>%{hovertext}</b><br><br>clade=%{customdata[0]}<br>count=%{customdata[1]}<extra></extra>",
           "hovertext": [
            "IL",
            "GA",
            "HI",
            "KS",
            "WA"
           ],
           "legendgroup": "20J (Gamma, V3)",
           "locationmode": "USA-states",
           "locations": [
            "IL",
            "GA",
            "HI",
            "KS",
            "WA"
           ],
           "marker": {
            "color": "rgb(255,255,191)",
            "size": [
             124,
             41,
             1,
             1,
             5
            ],
            "sizemode": "area",
            "sizeref": 1.175,
            "symbol": "circle"
           },
           "mode": "markers",
           "name": "20J (Gamma, V3)",
           "showlegend": true,
           "type": "scattergeo"
          },
          {
           "customdata": [
            [
             "21B (Kappa)",
             1,
             "OK",
             8,
             1
            ]
           ],
           "geo": "geo",
           "hovertemplate": "<b>%{hovertext}</b><br><br>clade=%{customdata[0]}<br>count=%{customdata[1]}<extra></extra>",
           "hovertext": [
            "OK"
           ],
           "legendgroup": "21B (Kappa)",
           "locationmode": "USA-states",
           "locations": [
            "OK"
           ],
           "marker": {
            "color": "rgb(230,245,152)",
            "size": [
             1
            ],
            "sizemode": "area",
            "sizeref": 1.175,
            "symbol": "circle"
           },
           "mode": "markers",
           "name": "21B (Kappa)",
           "showlegend": true,
           "type": "scattergeo"
          },
          {
           "customdata": [
            [
             "21C (Epsilon)",
             78,
             "CA",
             8,
             78
            ],
            [
             "21C (Epsilon)",
             2,
             "ID",
             8,
             2
            ],
            [
             "21C (Epsilon)",
             70,
             "CO",
             8,
             70
            ],
            [
             "21C (Epsilon)",
             2,
             "ND",
             8,
             2
            ],
            [
             "21C (Epsilon)",
             75,
             "WY",
             8,
             75
            ],
            [
             "21C (Epsilon)",
             70,
             "MN",
             8,
             70
            ],
            [
             "21C (Epsilon)",
             4,
             "AR",
             8,
             4
            ],
            [
             "21C (Epsilon)",
             1,
             "OK",
             8,
             1
            ],
            [
             "21C (Epsilon)",
             33,
             "OR",
             8,
             33
            ],
            [
             "21C (Epsilon)",
             1,
             "HI",
             8,
             1
            ]
           ],
           "geo": "geo",
           "hovertemplate": "<b>%{hovertext}</b><br><br>clade=%{customdata[0]}<br>count=%{customdata[1]}<extra></extra>",
           "hovertext": [
            "CA",
            "ID",
            "CO",
            "ND",
            "WY",
            "MN",
            "AR",
            "OK",
            "OR",
            "HI"
           ],
           "legendgroup": "21C (Epsilon)",
           "locationmode": "USA-states",
           "locations": [
            "CA",
            "ID",
            "CO",
            "ND",
            "WY",
            "MN",
            "AR",
            "OK",
            "OR",
            "HI"
           ],
           "marker": {
            "color": "rgb(201,233,158)",
            "size": [
             78,
             2,
             70,
             2,
             75,
             70,
             4,
             1,
             33,
             1
            ],
            "sizemode": "area",
            "sizeref": 1.175,
            "symbol": "circle"
           },
           "mode": "markers",
           "name": "21C (Epsilon)",
           "showlegend": true,
           "type": "scattergeo"
          },
          {
           "customdata": [
            [
             "21F (Iota)",
             8,
             "LA",
             8,
             8
            ],
            [
             "21F (Iota)",
             2,
             "DE",
             8,
             2
            ],
            [
             "21F (Iota)",
             49,
             "MD",
             8,
             49
            ],
            [
             "21F (Iota)",
             15,
             "PR",
             8,
             15
            ],
            [
             "21F (Iota)",
             296,
             "PA",
             8,
             296
            ],
            [
             "21F (Iota)",
             115,
             "MA",
             8,
             115
            ],
            [
             "21F (Iota)",
             1092,
             "NY",
             8,
             1092
            ],
            [
             "21F (Iota)",
             45,
             "VT",
             8,
             45
            ],
            [
             "21F (Iota)",
             448,
             "CT",
             8,
             448
            ],
            [
             "21F (Iota)",
             117,
             "FL",
             8,
             117
            ],
            [
             "21F (Iota)",
             107,
             "MO",
             8,
             107
            ],
            [
             "21F (Iota)",
             76,
             "NC",
             8,
             76
            ],
            [
             "21F (Iota)",
             1,
             "SD",
             8,
             1
            ],
            [
             "21F (Iota)",
             285,
             "NJ",
             8,
             285
            ],
            [
             "21F (Iota)",
             6,
             "ME",
             8,
             6
            ],
            [
             "21F (Iota)",
             263,
             "RI",
             8,
             263
            ],
            [
             "21F (Iota)",
             64,
             "NH",
             8,
             64
            ]
           ],
           "geo": "geo",
           "hovertemplate": "<b>%{hovertext}</b><br><br>clade=%{customdata[0]}<br>count=%{customdata[1]}<extra></extra>",
           "hovertext": [
            "LA",
            "DE",
            "MD",
            "PR",
            "PA",
            "MA",
            "NY",
            "VT",
            "CT",
            "FL",
            "MO",
            "NC",
            "SD",
            "NJ",
            "ME",
            "RI",
            "NH"
           ],
           "legendgroup": "21F (Iota)",
           "locationmode": "USA-states",
           "locations": [
            "LA",
            "DE",
            "MD",
            "PR",
            "PA",
            "MA",
            "NY",
            "VT",
            "CT",
            "FL",
            "MO",
            "NC",
            "SD",
            "NJ",
            "ME",
            "RI",
            "NH"
           ],
           "marker": {
            "color": "rgb(137,208,165)",
            "size": [
             8,
             2,
             49,
             15,
             296,
             115,
             1092,
             45,
             448,
             117,
             107,
             76,
             1,
             285,
             6,
             263,
             64
            ],
            "sizemode": "area",
            "sizeref": 1.175,
            "symbol": "circle"
           },
           "mode": "markers",
           "name": "21F (Iota)",
           "showlegend": true,
           "type": "scattergeo"
          }
         ],
         "name": "8"
        },
        {
         "data": [
          {
           "customdata": [
            [
             "19B",
             15,
             "GA",
             9,
             15
            ]
           ],
           "geo": "geo",
           "hovertemplate": "<b>%{hovertext}</b><br><br>clade=%{customdata[0]}<br>count=%{customdata[1]}<extra></extra>",
           "hovertext": [
            "GA"
           ],
           "legendgroup": "19B",
           "locationmode": "USA-states",
           "locations": [
            "GA"
           ],
           "marker": {
            "color": "rgb(186,32,73)",
            "size": [
             15
            ],
            "sizemode": "area",
            "sizeref": 1.175,
            "symbol": "circle"
           },
           "mode": "markers",
           "name": "19B",
           "showlegend": true,
           "type": "scattergeo"
          },
          {
           "customdata": [
            [
             "20B",
             1,
             "OK",
             9,
             1
            ],
            [
             "20B",
             3,
             "KY",
             9,
             3
            ]
           ],
           "geo": "geo",
           "hovertemplate": "<b>%{hovertext}</b><br><br>clade=%{customdata[0]}<br>count=%{customdata[1]}<extra></extra>",
           "hovertext": [
            "OK",
            "KY"
           ],
           "legendgroup": "20B",
           "locationmode": "USA-states",
           "locations": [
            "OK",
            "KY"
           ],
           "marker": {
            "color": "rgb(229,86,73)",
            "size": [
             1,
             3
            ],
            "sizemode": "area",
            "sizeref": 1.175,
            "symbol": "circle"
           },
           "mode": "markers",
           "name": "20B",
           "showlegend": true,
           "type": "scattergeo"
          },
          {
           "customdata": [
            [
             "20C",
             1,
             "NV",
             9,
             1
            ]
           ],
           "geo": "geo",
           "hovertemplate": "<b>%{hovertext}</b><br><br>clade=%{customdata[0]}<br>count=%{customdata[1]}<extra></extra>",
           "hovertext": [
            "NV"
           ],
           "legendgroup": "20C",
           "locationmode": "USA-states",
           "locations": [
            "NV"
           ],
           "marker": {
            "color": "rgb(244,109,67)",
            "size": [
             1
            ],
            "sizemode": "area",
            "sizeref": 1.175,
            "symbol": "circle"
           },
           "mode": "markers",
           "name": "20C",
           "showlegend": true,
           "type": "scattergeo"
          },
          {
           "customdata": [
            [
             "20G",
             21,
             "AZ",
             9,
             21
            ],
            [
             "20G",
             2,
             "AL",
             9,
             2
            ]
           ],
           "geo": "geo",
           "hovertemplate": "<b>%{hovertext}</b><br><br>clade=%{customdata[0]}<br>count=%{customdata[1]}<extra></extra>",
           "hovertext": [
            "AZ",
            "AL"
           ],
           "legendgroup": "20G",
           "locationmode": "USA-states",
           "locations": [
            "AZ",
            "AL"
           ],
           "marker": {
            "color": "rgb(254,199,118)",
            "size": [
             21,
             2
            ],
            "sizemode": "area",
            "sizeref": 1.175,
            "symbol": "circle"
           },
           "mode": "markers",
           "name": "20G",
           "showlegend": true,
           "type": "scattergeo"
          },
          {
           "customdata": [
            [
             "20I (Alpha, V1)",
             19,
             "LA",
             9,
             19
            ]
           ],
           "geo": "geo",
           "hovertemplate": "<b>%{hovertext}</b><br><br>clade=%{customdata[0]}<br>count=%{customdata[1]}<extra></extra>",
           "hovertext": [
            "LA"
           ],
           "legendgroup": "20I (Alpha, V1)",
           "locationmode": "USA-states",
           "locations": [
            "LA"
           ],
           "marker": {
            "color": "rgb(255,240,165)",
            "size": [
             19
            ],
            "sizemode": "area",
            "sizeref": 1.175,
            "symbol": "circle"
           },
           "mode": "markers",
           "name": "20I (Alpha, V1)",
           "showlegend": true,
           "type": "scattergeo"
          },
          {
           "customdata": [
            [
             "20J (Gamma, V3)",
             187,
             "IL",
             9,
             187
            ],
            [
             "20J (Gamma, V3)",
             17,
             "TX",
             9,
             17
            ],
            [
             "20J (Gamma, V3)",
             4,
             "ID",
             9,
             4
            ],
            [
             "20J (Gamma, V3)",
             1,
             "IA",
             9,
             1
            ],
            [
             "20J (Gamma, V3)",
             78,
             "FL",
             9,
             78
            ],
            [
             "20J (Gamma, V3)",
             3,
             "TN",
             9,
             3
            ],
            [
             "20J (Gamma, V3)",
             1,
             "HI",
             9,
             1
            ],
            [
             "20J (Gamma, V3)",
             22,
             "IN",
             9,
             22
            ],
            [
             "20J (Gamma, V3)",
             1525,
             "VA",
             9,
             1525
            ],
            [
             "20J (Gamma, V3)",
             10,
             "WA",
             9,
             10
            ],
            [
             "20J (Gamma, V3)",
             72,
             "CA",
             9,
             72
            ],
            [
             "20J (Gamma, V3)",
             3,
             "MT",
             9,
             3
            ],
            [
             "20J (Gamma, V3)",
             14,
             "OH",
             9,
             14
            ],
            [
             "20J (Gamma, V3)",
             2,
             "KS",
             9,
             2
            ],
            [
             "20J (Gamma, V3)",
             1,
             "NE",
             9,
             1
            ]
           ],
           "geo": "geo",
           "hovertemplate": "<b>%{hovertext}</b><br><br>clade=%{customdata[0]}<br>count=%{customdata[1]}<extra></extra>",
           "hovertext": [
            "IL",
            "TX",
            "ID",
            "IA",
            "FL",
            "TN",
            "HI",
            "IN",
            "VA",
            "WA",
            "CA",
            "MT",
            "OH",
            "KS",
            "NE"
           ],
           "legendgroup": "20J (Gamma, V3)",
           "locationmode": "USA-states",
           "locations": [
            "IL",
            "TX",
            "ID",
            "IA",
            "FL",
            "TN",
            "HI",
            "IN",
            "VA",
            "WA",
            "CA",
            "MT",
            "OH",
            "KS",
            "NE"
           ],
           "marker": {
            "color": "rgb(255,255,191)",
            "size": [
             187,
             17,
             4,
             1,
             78,
             3,
             1,
             22,
             1525,
             10,
             72,
             3,
             14,
             2,
             1
            ],
            "sizemode": "area",
            "sizeref": 1.175,
            "symbol": "circle"
           },
           "mode": "markers",
           "name": "20J (Gamma, V3)",
           "showlegend": true,
           "type": "scattergeo"
          },
          {
           "customdata": [
            [
             "21C (Epsilon)",
             12,
             "OR",
             9,
             12
            ],
            [
             "21C (Epsilon)",
             2,
             "UT",
             9,
             2
            ],
            [
             "21C (Epsilon)",
             166,
             "AK",
             9,
             166
            ]
           ],
           "geo": "geo",
           "hovertemplate": "<b>%{hovertext}</b><br><br>clade=%{customdata[0]}<br>count=%{customdata[1]}<extra></extra>",
           "hovertext": [
            "OR",
            "UT",
            "AK"
           ],
           "legendgroup": "21C (Epsilon)",
           "locationmode": "USA-states",
           "locations": [
            "OR",
            "UT",
            "AK"
           ],
           "marker": {
            "color": "rgb(201,233,158)",
            "size": [
             12,
             2,
             166
            ],
            "sizemode": "area",
            "sizeref": 1.175,
            "symbol": "circle"
           },
           "mode": "markers",
           "name": "21C (Epsilon)",
           "showlegend": true,
           "type": "scattergeo"
          },
          {
           "customdata": [
            [
             "21F (Iota)",
             3,
             "MT",
             9,
             3
            ],
            [
             "21F (Iota)",
             81,
             "PA",
             9,
             81
            ],
            [
             "21F (Iota)",
             3,
             "PR",
             9,
             3
            ],
            [
             "21F (Iota)",
             94,
             "RI",
             9,
             94
            ],
            [
             "21F (Iota)",
             10,
             "SC",
             9,
             10
            ],
            [
             "21F (Iota)",
             2,
             "DC",
             9,
             2
            ],
            [
             "21F (Iota)",
             2,
             "MO",
             9,
             2
            ],
            [
             "21F (Iota)",
             8,
             "NM",
             9,
             8
            ],
            [
             "21F (Iota)",
             26,
             "MD",
             9,
             26
            ],
            [
             "21F (Iota)",
             130,
             "MA",
             9,
             130
            ],
            [
             "21F (Iota)",
             37,
             "NJ",
             9,
             37
            ],
            [
             "21F (Iota)",
             2,
             "ND",
             9,
             2
            ],
            [
             "21F (Iota)",
             19,
             "NH",
             9,
             19
            ],
            [
             "21F (Iota)",
             13,
             "MI",
             9,
             13
            ],
            [
             "21F (Iota)",
             1,
             "AR",
             9,
             1
            ],
            [
             "21F (Iota)",
             78,
             "MN",
             9,
             78
            ],
            [
             "21F (Iota)",
             60,
             "ME",
             9,
             60
            ],
            [
             "21F (Iota)",
             6,
             "WI",
             9,
             6
            ],
            [
             "21F (Iota)",
             12,
             "VT",
             9,
             12
            ],
            [
             "21F (Iota)",
             455,
             "WV",
             9,
             455
            ],
            [
             "21F (Iota)",
             49,
             "NC",
             9,
             49
            ],
            [
             "21F (Iota)",
             28,
             "CT",
             9,
             28
            ],
            [
             "21F (Iota)",
             28,
             "NY",
             9,
             28
            ],
            [
             "21F (Iota)",
             149,
             "CO",
             9,
             149
            ]
           ],
           "geo": "geo",
           "hovertemplate": "<b>%{hovertext}</b><br><br>clade=%{customdata[0]}<br>count=%{customdata[1]}<extra></extra>",
           "hovertext": [
            "MT",
            "PA",
            "PR",
            "RI",
            "SC",
            "DC",
            "MO",
            "NM",
            "MD",
            "MA",
            "NJ",
            "ND",
            "NH",
            "MI",
            "AR",
            "MN",
            "ME",
            "WI",
            "VT",
            "WV",
            "NC",
            "CT",
            "NY",
            "CO"
           ],
           "legendgroup": "21F (Iota)",
           "locationmode": "USA-states",
           "locations": [
            "MT",
            "PA",
            "PR",
            "RI",
            "SC",
            "DC",
            "MO",
            "NM",
            "MD",
            "MA",
            "NJ",
            "ND",
            "NH",
            "MI",
            "AR",
            "MN",
            "ME",
            "WI",
            "VT",
            "WV",
            "NC",
            "CT",
            "NY",
            "CO"
           ],
           "marker": {
            "color": "rgb(137,208,165)",
            "size": [
             3,
             81,
             3,
             94,
             10,
             2,
             2,
             8,
             26,
             130,
             37,
             2,
             19,
             13,
             1,
             78,
             60,
             6,
             12,
             455,
             49,
             28,
             28,
             149
            ],
            "sizemode": "area",
            "sizeref": 1.175,
            "symbol": "circle"
           },
           "mode": "markers",
           "name": "21F (Iota)",
           "showlegend": true,
           "type": "scattergeo"
          }
         ],
         "name": "9"
        },
        {
         "data": [
          {
           "customdata": [
            [
             "20A",
             3,
             "AL",
             10,
             3
            ]
           ],
           "geo": "geo",
           "hovertemplate": "<b>%{hovertext}</b><br><br>clade=%{customdata[0]}<br>count=%{customdata[1]}<extra></extra>",
           "hovertext": [
            "AL"
           ],
           "legendgroup": "20A",
           "locationmode": "USA-states",
           "locations": [
            "AL"
           ],
           "marker": {
            "color": "rgb(213,62,79)",
            "size": [
             3
            ],
            "sizemode": "area",
            "sizeref": 1.175,
            "symbol": "circle"
           },
           "mode": "markers",
           "name": "20A",
           "showlegend": true,
           "type": "scattergeo"
          },
          {
           "customdata": [
            [
             "20B",
             42,
             "AK",
             10,
             42
            ]
           ],
           "geo": "geo",
           "hovertemplate": "<b>%{hovertext}</b><br><br>clade=%{customdata[0]}<br>count=%{customdata[1]}<extra></extra>",
           "hovertext": [
            "AK"
           ],
           "legendgroup": "20B",
           "locationmode": "USA-states",
           "locations": [
            "AK"
           ],
           "marker": {
            "color": "rgb(229,86,73)",
            "size": [
             42
            ],
            "sizemode": "area",
            "sizeref": 1.175,
            "symbol": "circle"
           },
           "mode": "markers",
           "name": "20B",
           "showlegend": true,
           "type": "scattergeo"
          },
          {
           "customdata": [
            [
             "20C",
             9,
             "AZ",
             10,
             9
            ],
            [
             "20C",
             6,
             "ME",
             10,
             6
            ],
            [
             "20C",
             27,
             "ID",
             10,
             27
            ],
            [
             "20C",
             1,
             "ND",
             10,
             1
            ]
           ],
           "geo": "geo",
           "hovertemplate": "<b>%{hovertext}</b><br><br>clade=%{customdata[0]}<br>count=%{customdata[1]}<extra></extra>",
           "hovertext": [
            "AZ",
            "ME",
            "ID",
            "ND"
           ],
           "legendgroup": "20C",
           "locationmode": "USA-states",
           "locations": [
            "AZ",
            "ME",
            "ID",
            "ND"
           ],
           "marker": {
            "color": "rgb(244,109,67)",
            "size": [
             9,
             6,
             27,
             1
            ],
            "sizemode": "area",
            "sizeref": 1.175,
            "symbol": "circle"
           },
           "mode": "markers",
           "name": "20C",
           "showlegend": true,
           "type": "scattergeo"
          },
          {
           "customdata": [
            [
             "20I (Alpha, V1)",
             29,
             "WV",
             10,
             29
            ],
            [
             "20I (Alpha, V1)",
             3,
             "UT",
             10,
             3
            ],
            [
             "20I (Alpha, V1)",
             38,
             "TN",
             10,
             38
            ],
            [
             "20I (Alpha, V1)",
             101,
             "FL",
             10,
             101
            ],
            [
             "20I (Alpha, V1)",
             64,
             "WA",
             10,
             64
            ],
            [
             "20I (Alpha, V1)",
             93,
             "CA",
             10,
             93
            ],
            [
             "20I (Alpha, V1)",
             101,
             "TX",
             10,
             101
            ],
            [
             "20I (Alpha, V1)",
             2918,
             "VA",
             10,
             2918
            ],
            [
             "20I (Alpha, V1)",
             156,
             "CO",
             10,
             156
            ],
            [
             "20I (Alpha, V1)",
             66,
             "CT",
             10,
             66
            ],
            [
             "20I (Alpha, V1)",
             9,
             "WI",
             10,
             9
            ],
            [
             "20I (Alpha, V1)",
             38,
             "GA",
             10,
             38
            ],
            [
             "20I (Alpha, V1)",
             1,
             "NE",
             10,
             1
            ],
            [
             "20I (Alpha, V1)",
             13,
             "MD",
             10,
             13
            ],
            [
             "20I (Alpha, V1)",
             16,
             "OR",
             10,
             16
            ],
            [
             "20I (Alpha, V1)",
             12,
             "IN",
             10,
             12
            ],
            [
             "20I (Alpha, V1)",
             1,
             "OK",
             10,
             1
            ],
            [
             "20I (Alpha, V1)",
             1,
             "MI",
             10,
             1
            ],
            [
             "20I (Alpha, V1)",
             105,
             "OH",
             10,
             105
            ],
            [
             "20I (Alpha, V1)",
             2,
             "KY",
             10,
             2
            ],
            [
             "20I (Alpha, V1)",
             14,
             "NJ",
             10,
             14
            ],
            [
             "20I (Alpha, V1)",
             10,
             "NV",
             10,
             10
            ],
            [
             "20I (Alpha, V1)",
             49,
             "LA",
             10,
             49
            ],
            [
             "20I (Alpha, V1)",
             18,
             "MA",
             10,
             18
            ],
            [
             "20I (Alpha, V1)",
             72,
             "MN",
             10,
             72
            ],
            [
             "20I (Alpha, V1)",
             117,
             "IL",
             10,
             117
            ],
            [
             "20I (Alpha, V1)",
             13,
             "NM",
             10,
             13
            ],
            [
             "20I (Alpha, V1)",
             7,
             "MS",
             10,
             7
            ],
            [
             "20I (Alpha, V1)",
             2,
             "SD",
             10,
             2
            ],
            [
             "20I (Alpha, V1)",
             19,
             "MT",
             10,
             19
            ],
            [
             "20I (Alpha, V1)",
             1,
             "HI",
             10,
             1
            ],
            [
             "20I (Alpha, V1)",
             43,
             "NC",
             10,
             43
            ],
            [
             "20I (Alpha, V1)",
             46,
             "MO",
             10,
             46
            ],
            [
             "20I (Alpha, V1)",
             129,
             "SC",
             10,
             129
            ]
           ],
           "geo": "geo",
           "hovertemplate": "<b>%{hovertext}</b><br><br>clade=%{customdata[0]}<br>count=%{customdata[1]}<extra></extra>",
           "hovertext": [
            "WV",
            "UT",
            "TN",
            "FL",
            "WA",
            "CA",
            "TX",
            "VA",
            "CO",
            "CT",
            "WI",
            "GA",
            "NE",
            "MD",
            "OR",
            "IN",
            "OK",
            "MI",
            "OH",
            "KY",
            "NJ",
            "NV",
            "LA",
            "MA",
            "MN",
            "IL",
            "NM",
            "MS",
            "SD",
            "MT",
            "HI",
            "NC",
            "MO",
            "SC"
           ],
           "legendgroup": "20I (Alpha, V1)",
           "locationmode": "USA-states",
           "locations": [
            "WV",
            "UT",
            "TN",
            "FL",
            "WA",
            "CA",
            "TX",
            "VA",
            "CO",
            "CT",
            "WI",
            "GA",
            "NE",
            "MD",
            "OR",
            "IN",
            "OK",
            "MI",
            "OH",
            "KY",
            "NJ",
            "NV",
            "LA",
            "MA",
            "MN",
            "IL",
            "NM",
            "MS",
            "SD",
            "MT",
            "HI",
            "NC",
            "MO",
            "SC"
           ],
           "marker": {
            "color": "rgb(255,240,165)",
            "size": [
             29,
             3,
             38,
             101,
             64,
             93,
             101,
             2918,
             156,
             66,
             9,
             38,
             1,
             13,
             16,
             12,
             1,
             1,
             105,
             2,
             14,
             10,
             49,
             18,
             72,
             117,
             13,
             7,
             2,
             19,
             1,
             43,
             46,
             129
            ],
            "sizemode": "area",
            "sizeref": 1.175,
            "symbol": "circle"
           },
           "mode": "markers",
           "name": "20I (Alpha, V1)",
           "showlegend": true,
           "type": "scattergeo"
          },
          {
           "customdata": [
            [
             "20J (Gamma, V3)",
             23,
             "PA",
             10,
             23
            ],
            [
             "20J (Gamma, V3)",
             6,
             "NY",
             10,
             6
            ],
            [
             "20J (Gamma, V3)",
             55,
             "IA",
             10,
             55
            ]
           ],
           "geo": "geo",
           "hovertemplate": "<b>%{hovertext}</b><br><br>clade=%{customdata[0]}<br>count=%{customdata[1]}<extra></extra>",
           "hovertext": [
            "PA",
            "NY",
            "IA"
           ],
           "legendgroup": "20J (Gamma, V3)",
           "locationmode": "USA-states",
           "locations": [
            "PA",
            "NY",
            "IA"
           ],
           "marker": {
            "color": "rgb(255,255,191)",
            "size": [
             23,
             6,
             55
            ],
            "sizemode": "area",
            "sizeref": 1.175,
            "symbol": "circle"
           },
           "mode": "markers",
           "name": "20J (Gamma, V3)",
           "showlegend": true,
           "type": "scattergeo"
          },
          {
           "customdata": [
            [
             "21F (Iota)",
             5,
             "AR",
             10,
             5
            ],
            [
             "21F (Iota)",
             3,
             "UT",
             10,
             3
            ],
            [
             "21F (Iota)",
             34,
             "WY",
             10,
             34
            ],
            [
             "21F (Iota)",
             1,
             "MI",
             10,
             1
            ],
            [
             "21F (Iota)",
             3,
             "NH",
             10,
             3
            ],
            [
             "21F (Iota)",
             2,
             "KY",
             10,
             2
            ],
            [
             "21F (Iota)",
             3,
             "PR",
             10,
             3
            ],
            [
             "21F (Iota)",
             82,
             "RI",
             10,
             82
            ]
           ],
           "geo": "geo",
           "hovertemplate": "<b>%{hovertext}</b><br><br>clade=%{customdata[0]}<br>count=%{customdata[1]}<extra></extra>",
           "hovertext": [
            "AR",
            "UT",
            "WY",
            "MI",
            "NH",
            "KY",
            "PR",
            "RI"
           ],
           "legendgroup": "21F (Iota)",
           "locationmode": "USA-states",
           "locations": [
            "AR",
            "UT",
            "WY",
            "MI",
            "NH",
            "KY",
            "PR",
            "RI"
           ],
           "marker": {
            "color": "rgb(137,208,165)",
            "size": [
             5,
             3,
             34,
             1,
             3,
             2,
             3,
             82
            ],
            "sizemode": "area",
            "sizeref": 1.175,
            "symbol": "circle"
           },
           "mode": "markers",
           "name": "21F (Iota)",
           "showlegend": true,
           "type": "scattergeo"
          }
         ],
         "name": "10"
        },
        {
         "data": [
          {
           "customdata": [
            [
             "20A",
             3,
             "MN",
             11,
             3
            ],
            [
             "20A",
             1,
             "OK",
             11,
             1
            ]
           ],
           "geo": "geo",
           "hovertemplate": "<b>%{hovertext}</b><br><br>clade=%{customdata[0]}<br>count=%{customdata[1]}<extra></extra>",
           "hovertext": [
            "MN",
            "OK"
           ],
           "legendgroup": "20A",
           "locationmode": "USA-states",
           "locations": [
            "MN",
            "OK"
           ],
           "marker": {
            "color": "rgb(213,62,79)",
            "size": [
             3,
             1
            ],
            "sizemode": "area",
            "sizeref": 1.175,
            "symbol": "circle"
           },
           "mode": "markers",
           "name": "20A",
           "showlegend": true,
           "type": "scattergeo"
          },
          {
           "customdata": [
            [
             "20C",
             4,
             "RI",
             11,
             4
            ],
            [
             "20C",
             4,
             "PR",
             11,
             4
            ],
            [
             "20C",
             30,
             "MA",
             11,
             30
            ]
           ],
           "geo": "geo",
           "hovertemplate": "<b>%{hovertext}</b><br><br>clade=%{customdata[0]}<br>count=%{customdata[1]}<extra></extra>",
           "hovertext": [
            "RI",
            "PR",
            "MA"
           ],
           "legendgroup": "20C",
           "locationmode": "USA-states",
           "locations": [
            "RI",
            "PR",
            "MA"
           ],
           "marker": {
            "color": "rgb(244,109,67)",
            "size": [
             4,
             4,
             30
            ],
            "sizemode": "area",
            "sizeref": 1.175,
            "symbol": "circle"
           },
           "mode": "markers",
           "name": "20C",
           "showlegend": true,
           "type": "scattergeo"
          },
          {
           "customdata": [
            [
             "20D",
             7,
             "MI",
             11,
             7
            ]
           ],
           "geo": "geo",
           "hovertemplate": "<b>%{hovertext}</b><br><br>clade=%{customdata[0]}<br>count=%{customdata[1]}<extra></extra>",
           "hovertext": [
            "MI"
           ],
           "legendgroup": "20D",
           "locationmode": "USA-states",
           "locations": [
            "MI"
           ],
           "marker": {
            "color": "rgb(249,142,82)",
            "size": [
             7
            ],
            "sizemode": "area",
            "sizeref": 1.175,
            "symbol": "circle"
           },
           "mode": "markers",
           "name": "20D",
           "showlegend": true,
           "type": "scattergeo"
          },
          {
           "customdata": [
            [
             "20I (Alpha, V1)",
             41,
             "WA",
             11,
             41
            ],
            [
             "20I (Alpha, V1)",
             6,
             "MS",
             11,
             6
            ],
            [
             "20I (Alpha, V1)",
             43,
             "MD",
             11,
             43
            ],
            [
             "20I (Alpha, V1)",
             25,
             "NC",
             11,
             25
            ],
            [
             "20I (Alpha, V1)",
             24,
             "WV",
             11,
             24
            ],
            [
             "20I (Alpha, V1)",
             4,
             "NH",
             11,
             4
            ],
            [
             "20I (Alpha, V1)",
             18,
             "AR",
             11,
             18
            ],
            [
             "20I (Alpha, V1)",
             3,
             "MO",
             11,
             3
            ],
            [
             "20I (Alpha, V1)",
             2,
             "ND",
             11,
             2
            ],
            [
             "20I (Alpha, V1)",
             8,
             "AK",
             11,
             8
            ],
            [
             "20I (Alpha, V1)",
             3,
             "NE",
             11,
             3
            ],
            [
             "20I (Alpha, V1)",
             2,
             "SD",
             11,
             2
            ],
            [
             "20I (Alpha, V1)",
             968,
             "NM",
             11,
             968
            ],
            [
             "20I (Alpha, V1)",
             7,
             "GU",
             11,
             7
            ],
            [
             "20I (Alpha, V1)",
             11,
             "SC",
             11,
             11
            ],
            [
             "20I (Alpha, V1)",
             17,
             "TN",
             11,
             17
            ],
            [
             "20I (Alpha, V1)",
             1,
             "DE",
             11,
             1
            ],
            [
             "20I (Alpha, V1)",
             15,
             "PA",
             11,
             15
            ],
            [
             "20I (Alpha, V1)",
             4,
             "ID",
             11,
             4
            ],
            [
             "20I (Alpha, V1)",
             40,
             "OR",
             11,
             40
            ],
            [
             "20I (Alpha, V1)",
             1,
             "OK",
             11,
             1
            ],
            [
             "20I (Alpha, V1)",
             5,
             "IN",
             11,
             5
            ],
            [
             "20I (Alpha, V1)",
             19,
             "CO",
             11,
             19
            ],
            [
             "20I (Alpha, V1)",
             4,
             "KS",
             11,
             4
            ],
            [
             "20I (Alpha, V1)",
             9,
             "VA",
             11,
             9
            ],
            [
             "20I (Alpha, V1)",
             27,
             "GA",
             11,
             27
            ],
            [
             "20I (Alpha, V1)",
             20,
             "NV",
             11,
             20
            ],
            [
             "20I (Alpha, V1)",
             1,
             "CT",
             11,
             1
            ],
            [
             "20I (Alpha, V1)",
             10,
             "KY",
             11,
             10
            ]
           ],
           "geo": "geo",
           "hovertemplate": "<b>%{hovertext}</b><br><br>clade=%{customdata[0]}<br>count=%{customdata[1]}<extra></extra>",
           "hovertext": [
            "WA",
            "MS",
            "MD",
            "NC",
            "WV",
            "NH",
            "AR",
            "MO",
            "ND",
            "AK",
            "NE",
            "SD",
            "NM",
            "GU",
            "SC",
            "TN",
            "DE",
            "PA",
            "ID",
            "OR",
            "OK",
            "IN",
            "CO",
            "KS",
            "VA",
            "GA",
            "NV",
            "CT",
            "KY"
           ],
           "legendgroup": "20I (Alpha, V1)",
           "locationmode": "USA-states",
           "locations": [
            "WA",
            "MS",
            "MD",
            "NC",
            "WV",
            "NH",
            "AR",
            "MO",
            "ND",
            "AK",
            "NE",
            "SD",
            "NM",
            "GU",
            "SC",
            "TN",
            "DE",
            "PA",
            "ID",
            "OR",
            "OK",
            "IN",
            "CO",
            "KS",
            "VA",
            "GA",
            "NV",
            "CT",
            "KY"
           ],
           "marker": {
            "color": "rgb(255,240,165)",
            "size": [
             41,
             6,
             43,
             25,
             24,
             4,
             18,
             3,
             2,
             8,
             3,
             2,
             968,
             7,
             11,
             17,
             1,
             15,
             4,
             40,
             1,
             5,
             19,
             4,
             9,
             27,
             20,
             1,
             10
            ],
            "sizemode": "area",
            "sizeref": 1.175,
            "symbol": "circle"
           },
           "mode": "markers",
           "name": "20I (Alpha, V1)",
           "showlegend": true,
           "type": "scattergeo"
          },
          {
           "customdata": [
            [
             "20J (Gamma, V3)",
             3,
             "WI",
             11,
             3
            ],
            [
             "20J (Gamma, V3)",
             4,
             "HI",
             11,
             4
            ],
            [
             "20J (Gamma, V3)",
             9,
             "IL",
             11,
             9
            ],
            [
             "20J (Gamma, V3)",
             6,
             "AZ",
             11,
             6
            ],
            [
             "20J (Gamma, V3)",
             1,
             "CT",
             11,
             1
            ],
            [
             "20J (Gamma, V3)",
             446,
             "CA",
             11,
             446
            ]
           ],
           "geo": "geo",
           "hovertemplate": "<b>%{hovertext}</b><br><br>clade=%{customdata[0]}<br>count=%{customdata[1]}<extra></extra>",
           "hovertext": [
            "WI",
            "HI",
            "IL",
            "AZ",
            "CT",
            "CA"
           ],
           "legendgroup": "20J (Gamma, V3)",
           "locationmode": "USA-states",
           "locations": [
            "WI",
            "HI",
            "IL",
            "AZ",
            "CT",
            "CA"
           ],
           "marker": {
            "color": "rgb(255,255,191)",
            "size": [
             3,
             4,
             9,
             6,
             1,
             446
            ],
            "sizemode": "area",
            "sizeref": 1.175,
            "symbol": "circle"
           },
           "mode": "markers",
           "name": "20J (Gamma, V3)",
           "showlegend": true,
           "type": "scattergeo"
          },
          {
           "customdata": [
            [
             "21A (Delta)",
             753,
             "NJ",
             11,
             753
            ],
            [
             "21A (Delta)",
             31,
             "AL",
             11,
             31
            ],
            [
             "21A (Delta)",
             559,
             "FL",
             11,
             559
            ],
            [
             "21A (Delta)",
             126,
             "TX",
             11,
             126
            ],
            [
             "21A (Delta)",
             1,
             "CT",
             11,
             1
            ],
            [
             "21A (Delta)",
             3,
             "UT",
             11,
             3
            ],
            [
             "21A (Delta)",
             29,
             "OH",
             11,
             29
            ],
            [
             "21A (Delta)",
             13,
             "NY",
             11,
             13
            ]
           ],
           "geo": "geo",
           "hovertemplate": "<b>%{hovertext}</b><br><br>clade=%{customdata[0]}<br>count=%{customdata[1]}<extra></extra>",
           "hovertext": [
            "NJ",
            "AL",
            "FL",
            "TX",
            "CT",
            "UT",
            "OH",
            "NY"
           ],
           "legendgroup": "21A (Delta)",
           "locationmode": "USA-states",
           "locations": [
            "NJ",
            "AL",
            "FL",
            "TX",
            "CT",
            "UT",
            "OH",
            "NY"
           ],
           "marker": {
            "color": "rgb(243,250,172)",
            "size": [
             753,
             31,
             559,
             126,
             1,
             3,
             29,
             13
            ],
            "sizemode": "area",
            "sizeref": 1.175,
            "symbol": "circle"
           },
           "mode": "markers",
           "name": "21A (Delta)",
           "showlegend": true,
           "type": "scattergeo"
          },
          {
           "customdata": [
            [
             "21F (Iota)",
             2,
             "ND",
             11,
             2
            ]
           ],
           "geo": "geo",
           "hovertemplate": "<b>%{hovertext}</b><br><br>clade=%{customdata[0]}<br>count=%{customdata[1]}<extra></extra>",
           "hovertext": [
            "ND"
           ],
           "legendgroup": "21F (Iota)",
           "locationmode": "USA-states",
           "locations": [
            "ND"
           ],
           "marker": {
            "color": "rgb(137,208,165)",
            "size": [
             2
            ],
            "sizemode": "area",
            "sizeref": 1.175,
            "symbol": "circle"
           },
           "mode": "markers",
           "name": "21F (Iota)",
           "showlegend": true,
           "type": "scattergeo"
          },
          {
           "customdata": [
            [
             "21G (Lambda)",
             7,
             "MI",
             11,
             7
            ]
           ],
           "geo": "geo",
           "hovertemplate": "<b>%{hovertext}</b><br><br>clade=%{customdata[0]}<br>count=%{customdata[1]}<extra></extra>",
           "hovertext": [
            "MI"
           ],
           "legendgroup": "21G (Lambda)",
           "locationmode": "USA-states",
           "locations": [
            "MI"
           ],
           "marker": {
            "color": "rgb(102,194,165)",
            "size": [
             7
            ],
            "sizemode": "area",
            "sizeref": 1.175,
            "symbol": "circle"
           },
           "mode": "markers",
           "name": "21G (Lambda)",
           "showlegend": true,
           "type": "scattergeo"
          },
          {
           "customdata": [
            [
             "21J (Delta)",
             282,
             "LA",
             11,
             282
            ]
           ],
           "geo": "geo",
           "hovertemplate": "<b>%{hovertext}</b><br><br>clade=%{customdata[0]}<br>count=%{customdata[1]}<extra></extra>",
           "hovertext": [
            "LA"
           ],
           "legendgroup": "21J (Delta)",
           "locationmode": "USA-states",
           "locations": [
            "LA"
           ],
           "marker": {
            "color": "rgb(72,108,176)",
            "size": [
             282
            ],
            "sizemode": "area",
            "sizeref": 1.175,
            "symbol": "circle"
           },
           "mode": "markers",
           "name": "21J (Delta)",
           "showlegend": true,
           "type": "scattergeo"
          }
         ],
         "name": "11"
        }
       ],
       "layout": {
        "geo": {
         "center": {},
         "domain": {
          "x": [
           0,
           1
          ],
          "y": [
           0,
           1
          ]
         },
         "projection": {
          "type": "albers usa"
         },
         "scope": "usa"
        },
        "legend": {
         "itemsizing": "constant",
         "title": {
          "text": "clade"
         },
         "tracegroupgap": 0
        },
        "sliders": [
         {
          "active": 0,
          "currentvalue": {
           "prefix": "timespan="
          },
          "len": 0.9,
          "pad": {
           "b": 10,
           "t": 60
          },
          "steps": [
           {
            "args": [
             [
              "1"
             ],
             {
              "frame": {
               "duration": 0,
               "redraw": true
              },
              "fromcurrent": true,
              "mode": "immediate",
              "transition": {
               "duration": 0,
               "easing": "linear"
              }
             }
            ],
            "label": "1",
            "method": "animate"
           },
           {
            "args": [
             [
              "2"
             ],
             {
              "frame": {
               "duration": 0,
               "redraw": true
              },
              "fromcurrent": true,
              "mode": "immediate",
              "transition": {
               "duration": 0,
               "easing": "linear"
              }
             }
            ],
            "label": "2",
            "method": "animate"
           },
           {
            "args": [
             [
              "3"
             ],
             {
              "frame": {
               "duration": 0,
               "redraw": true
              },
              "fromcurrent": true,
              "mode": "immediate",
              "transition": {
               "duration": 0,
               "easing": "linear"
              }
             }
            ],
            "label": "3",
            "method": "animate"
           },
           {
            "args": [
             [
              "4"
             ],
             {
              "frame": {
               "duration": 0,
               "redraw": true
              },
              "fromcurrent": true,
              "mode": "immediate",
              "transition": {
               "duration": 0,
               "easing": "linear"
              }
             }
            ],
            "label": "4",
            "method": "animate"
           },
           {
            "args": [
             [
              "5"
             ],
             {
              "frame": {
               "duration": 0,
               "redraw": true
              },
              "fromcurrent": true,
              "mode": "immediate",
              "transition": {
               "duration": 0,
               "easing": "linear"
              }
             }
            ],
            "label": "5",
            "method": "animate"
           },
           {
            "args": [
             [
              "6"
             ],
             {
              "frame": {
               "duration": 0,
               "redraw": true
              },
              "fromcurrent": true,
              "mode": "immediate",
              "transition": {
               "duration": 0,
               "easing": "linear"
              }
             }
            ],
            "label": "6",
            "method": "animate"
           },
           {
            "args": [
             [
              "7"
             ],
             {
              "frame": {
               "duration": 0,
               "redraw": true
              },
              "fromcurrent": true,
              "mode": "immediate",
              "transition": {
               "duration": 0,
               "easing": "linear"
              }
             }
            ],
            "label": "7",
            "method": "animate"
           },
           {
            "args": [
             [
              "8"
             ],
             {
              "frame": {
               "duration": 0,
               "redraw": true
              },
              "fromcurrent": true,
              "mode": "immediate",
              "transition": {
               "duration": 0,
               "easing": "linear"
              }
             }
            ],
            "label": "8",
            "method": "animate"
           },
           {
            "args": [
             [
              "9"
             ],
             {
              "frame": {
               "duration": 0,
               "redraw": true
              },
              "fromcurrent": true,
              "mode": "immediate",
              "transition": {
               "duration": 0,
               "easing": "linear"
              }
             }
            ],
            "label": "9",
            "method": "animate"
           },
           {
            "args": [
             [
              "10"
             ],
             {
              "frame": {
               "duration": 0,
               "redraw": true
              },
              "fromcurrent": true,
              "mode": "immediate",
              "transition": {
               "duration": 0,
               "easing": "linear"
              }
             }
            ],
            "label": "10",
            "method": "animate"
           },
           {
            "args": [
             [
              "11"
             ],
             {
              "frame": {
               "duration": 0,
               "redraw": true
              },
              "fromcurrent": true,
              "mode": "immediate",
              "transition": {
               "duration": 0,
               "easing": "linear"
              }
             }
            ],
            "label": "11",
            "method": "animate"
           }
          ],
          "x": 0.1,
          "xanchor": "left",
          "y": 0,
          "yanchor": "top"
         }
        ],
        "template": {
         "data": {
          "bar": [
           {
            "error_x": {
             "color": "#2a3f5f"
            },
            "error_y": {
             "color": "#2a3f5f"
            },
            "marker": {
             "line": {
              "color": "#E5ECF6",
              "width": 0.5
             },
             "pattern": {
              "fillmode": "overlay",
              "size": 10,
              "solidity": 0.2
             }
            },
            "type": "bar"
           }
          ],
          "barpolar": [
           {
            "marker": {
             "line": {
              "color": "#E5ECF6",
              "width": 0.5
             },
             "pattern": {
              "fillmode": "overlay",
              "size": 10,
              "solidity": 0.2
             }
            },
            "type": "barpolar"
           }
          ],
          "carpet": [
           {
            "aaxis": {
             "endlinecolor": "#2a3f5f",
             "gridcolor": "white",
             "linecolor": "white",
             "minorgridcolor": "white",
             "startlinecolor": "#2a3f5f"
            },
            "baxis": {
             "endlinecolor": "#2a3f5f",
             "gridcolor": "white",
             "linecolor": "white",
             "minorgridcolor": "white",
             "startlinecolor": "#2a3f5f"
            },
            "type": "carpet"
           }
          ],
          "choropleth": [
           {
            "colorbar": {
             "outlinewidth": 0,
             "ticks": ""
            },
            "type": "choropleth"
           }
          ],
          "contour": [
           {
            "colorbar": {
             "outlinewidth": 0,
             "ticks": ""
            },
            "colorscale": [
             [
              0,
              "#0d0887"
             ],
             [
              0.1111111111111111,
              "#46039f"
             ],
             [
              0.2222222222222222,
              "#7201a8"
             ],
             [
              0.3333333333333333,
              "#9c179e"
             ],
             [
              0.4444444444444444,
              "#bd3786"
             ],
             [
              0.5555555555555556,
              "#d8576b"
             ],
             [
              0.6666666666666666,
              "#ed7953"
             ],
             [
              0.7777777777777778,
              "#fb9f3a"
             ],
             [
              0.8888888888888888,
              "#fdca26"
             ],
             [
              1,
              "#f0f921"
             ]
            ],
            "type": "contour"
           }
          ],
          "contourcarpet": [
           {
            "colorbar": {
             "outlinewidth": 0,
             "ticks": ""
            },
            "type": "contourcarpet"
           }
          ],
          "heatmap": [
           {
            "colorbar": {
             "outlinewidth": 0,
             "ticks": ""
            },
            "colorscale": [
             [
              0,
              "#0d0887"
             ],
             [
              0.1111111111111111,
              "#46039f"
             ],
             [
              0.2222222222222222,
              "#7201a8"
             ],
             [
              0.3333333333333333,
              "#9c179e"
             ],
             [
              0.4444444444444444,
              "#bd3786"
             ],
             [
              0.5555555555555556,
              "#d8576b"
             ],
             [
              0.6666666666666666,
              "#ed7953"
             ],
             [
              0.7777777777777778,
              "#fb9f3a"
             ],
             [
              0.8888888888888888,
              "#fdca26"
             ],
             [
              1,
              "#f0f921"
             ]
            ],
            "type": "heatmap"
           }
          ],
          "heatmapgl": [
           {
            "colorbar": {
             "outlinewidth": 0,
             "ticks": ""
            },
            "colorscale": [
             [
              0,
              "#0d0887"
             ],
             [
              0.1111111111111111,
              "#46039f"
             ],
             [
              0.2222222222222222,
              "#7201a8"
             ],
             [
              0.3333333333333333,
              "#9c179e"
             ],
             [
              0.4444444444444444,
              "#bd3786"
             ],
             [
              0.5555555555555556,
              "#d8576b"
             ],
             [
              0.6666666666666666,
              "#ed7953"
             ],
             [
              0.7777777777777778,
              "#fb9f3a"
             ],
             [
              0.8888888888888888,
              "#fdca26"
             ],
             [
              1,
              "#f0f921"
             ]
            ],
            "type": "heatmapgl"
           }
          ],
          "histogram": [
           {
            "marker": {
             "pattern": {
              "fillmode": "overlay",
              "size": 10,
              "solidity": 0.2
             }
            },
            "type": "histogram"
           }
          ],
          "histogram2d": [
           {
            "colorbar": {
             "outlinewidth": 0,
             "ticks": ""
            },
            "colorscale": [
             [
              0,
              "#0d0887"
             ],
             [
              0.1111111111111111,
              "#46039f"
             ],
             [
              0.2222222222222222,
              "#7201a8"
             ],
             [
              0.3333333333333333,
              "#9c179e"
             ],
             [
              0.4444444444444444,
              "#bd3786"
             ],
             [
              0.5555555555555556,
              "#d8576b"
             ],
             [
              0.6666666666666666,
              "#ed7953"
             ],
             [
              0.7777777777777778,
              "#fb9f3a"
             ],
             [
              0.8888888888888888,
              "#fdca26"
             ],
             [
              1,
              "#f0f921"
             ]
            ],
            "type": "histogram2d"
           }
          ],
          "histogram2dcontour": [
           {
            "colorbar": {
             "outlinewidth": 0,
             "ticks": ""
            },
            "colorscale": [
             [
              0,
              "#0d0887"
             ],
             [
              0.1111111111111111,
              "#46039f"
             ],
             [
              0.2222222222222222,
              "#7201a8"
             ],
             [
              0.3333333333333333,
              "#9c179e"
             ],
             [
              0.4444444444444444,
              "#bd3786"
             ],
             [
              0.5555555555555556,
              "#d8576b"
             ],
             [
              0.6666666666666666,
              "#ed7953"
             ],
             [
              0.7777777777777778,
              "#fb9f3a"
             ],
             [
              0.8888888888888888,
              "#fdca26"
             ],
             [
              1,
              "#f0f921"
             ]
            ],
            "type": "histogram2dcontour"
           }
          ],
          "mesh3d": [
           {
            "colorbar": {
             "outlinewidth": 0,
             "ticks": ""
            },
            "type": "mesh3d"
           }
          ],
          "parcoords": [
           {
            "line": {
             "colorbar": {
              "outlinewidth": 0,
              "ticks": ""
             }
            },
            "type": "parcoords"
           }
          ],
          "pie": [
           {
            "automargin": true,
            "type": "pie"
           }
          ],
          "scatter": [
           {
            "marker": {
             "colorbar": {
              "outlinewidth": 0,
              "ticks": ""
             }
            },
            "type": "scatter"
           }
          ],
          "scatter3d": [
           {
            "line": {
             "colorbar": {
              "outlinewidth": 0,
              "ticks": ""
             }
            },
            "marker": {
             "colorbar": {
              "outlinewidth": 0,
              "ticks": ""
             }
            },
            "type": "scatter3d"
           }
          ],
          "scattercarpet": [
           {
            "marker": {
             "colorbar": {
              "outlinewidth": 0,
              "ticks": ""
             }
            },
            "type": "scattercarpet"
           }
          ],
          "scattergeo": [
           {
            "marker": {
             "colorbar": {
              "outlinewidth": 0,
              "ticks": ""
             }
            },
            "type": "scattergeo"
           }
          ],
          "scattergl": [
           {
            "marker": {
             "colorbar": {
              "outlinewidth": 0,
              "ticks": ""
             }
            },
            "type": "scattergl"
           }
          ],
          "scattermapbox": [
           {
            "marker": {
             "colorbar": {
              "outlinewidth": 0,
              "ticks": ""
             }
            },
            "type": "scattermapbox"
           }
          ],
          "scatterpolar": [
           {
            "marker": {
             "colorbar": {
              "outlinewidth": 0,
              "ticks": ""
             }
            },
            "type": "scatterpolar"
           }
          ],
          "scatterpolargl": [
           {
            "marker": {
             "colorbar": {
              "outlinewidth": 0,
              "ticks": ""
             }
            },
            "type": "scatterpolargl"
           }
          ],
          "scatterternary": [
           {
            "marker": {
             "colorbar": {
              "outlinewidth": 0,
              "ticks": ""
             }
            },
            "type": "scatterternary"
           }
          ],
          "surface": [
           {
            "colorbar": {
             "outlinewidth": 0,
             "ticks": ""
            },
            "colorscale": [
             [
              0,
              "#0d0887"
             ],
             [
              0.1111111111111111,
              "#46039f"
             ],
             [
              0.2222222222222222,
              "#7201a8"
             ],
             [
              0.3333333333333333,
              "#9c179e"
             ],
             [
              0.4444444444444444,
              "#bd3786"
             ],
             [
              0.5555555555555556,
              "#d8576b"
             ],
             [
              0.6666666666666666,
              "#ed7953"
             ],
             [
              0.7777777777777778,
              "#fb9f3a"
             ],
             [
              0.8888888888888888,
              "#fdca26"
             ],
             [
              1,
              "#f0f921"
             ]
            ],
            "type": "surface"
           }
          ],
          "table": [
           {
            "cells": {
             "fill": {
              "color": "#EBF0F8"
             },
             "line": {
              "color": "white"
             }
            },
            "header": {
             "fill": {
              "color": "#C8D4E3"
             },
             "line": {
              "color": "white"
             }
            },
            "type": "table"
           }
          ]
         },
         "layout": {
          "annotationdefaults": {
           "arrowcolor": "#2a3f5f",
           "arrowhead": 0,
           "arrowwidth": 1
          },
          "autotypenumbers": "strict",
          "coloraxis": {
           "colorbar": {
            "outlinewidth": 0,
            "ticks": ""
           }
          },
          "colorscale": {
           "diverging": [
            [
             0,
             "#8e0152"
            ],
            [
             0.1,
             "#c51b7d"
            ],
            [
             0.2,
             "#de77ae"
            ],
            [
             0.3,
             "#f1b6da"
            ],
            [
             0.4,
             "#fde0ef"
            ],
            [
             0.5,
             "#f7f7f7"
            ],
            [
             0.6,
             "#e6f5d0"
            ],
            [
             0.7,
             "#b8e186"
            ],
            [
             0.8,
             "#7fbc41"
            ],
            [
             0.9,
             "#4d9221"
            ],
            [
             1,
             "#276419"
            ]
           ],
           "sequential": [
            [
             0,
             "#0d0887"
            ],
            [
             0.1111111111111111,
             "#46039f"
            ],
            [
             0.2222222222222222,
             "#7201a8"
            ],
            [
             0.3333333333333333,
             "#9c179e"
            ],
            [
             0.4444444444444444,
             "#bd3786"
            ],
            [
             0.5555555555555556,
             "#d8576b"
            ],
            [
             0.6666666666666666,
             "#ed7953"
            ],
            [
             0.7777777777777778,
             "#fb9f3a"
            ],
            [
             0.8888888888888888,
             "#fdca26"
            ],
            [
             1,
             "#f0f921"
            ]
           ],
           "sequentialminus": [
            [
             0,
             "#0d0887"
            ],
            [
             0.1111111111111111,
             "#46039f"
            ],
            [
             0.2222222222222222,
             "#7201a8"
            ],
            [
             0.3333333333333333,
             "#9c179e"
            ],
            [
             0.4444444444444444,
             "#bd3786"
            ],
            [
             0.5555555555555556,
             "#d8576b"
            ],
            [
             0.6666666666666666,
             "#ed7953"
            ],
            [
             0.7777777777777778,
             "#fb9f3a"
            ],
            [
             0.8888888888888888,
             "#fdca26"
            ],
            [
             1,
             "#f0f921"
            ]
           ]
          },
          "colorway": [
           "#636efa",
           "#EF553B",
           "#00cc96",
           "#ab63fa",
           "#FFA15A",
           "#19d3f3",
           "#FF6692",
           "#B6E880",
           "#FF97FF",
           "#FECB52"
          ],
          "font": {
           "color": "#2a3f5f"
          },
          "geo": {
           "bgcolor": "white",
           "lakecolor": "white",
           "landcolor": "#E5ECF6",
           "showlakes": true,
           "showland": true,
           "subunitcolor": "white"
          },
          "hoverlabel": {
           "align": "left"
          },
          "hovermode": "closest",
          "mapbox": {
           "style": "light"
          },
          "paper_bgcolor": "white",
          "plot_bgcolor": "#E5ECF6",
          "polar": {
           "angularaxis": {
            "gridcolor": "white",
            "linecolor": "white",
            "ticks": ""
           },
           "bgcolor": "#E5ECF6",
           "radialaxis": {
            "gridcolor": "white",
            "linecolor": "white",
            "ticks": ""
           }
          },
          "scene": {
           "xaxis": {
            "backgroundcolor": "#E5ECF6",
            "gridcolor": "white",
            "gridwidth": 2,
            "linecolor": "white",
            "showbackground": true,
            "ticks": "",
            "zerolinecolor": "white"
           },
           "yaxis": {
            "backgroundcolor": "#E5ECF6",
            "gridcolor": "white",
            "gridwidth": 2,
            "linecolor": "white",
            "showbackground": true,
            "ticks": "",
            "zerolinecolor": "white"
           },
           "zaxis": {
            "backgroundcolor": "#E5ECF6",
            "gridcolor": "white",
            "gridwidth": 2,
            "linecolor": "white",
            "showbackground": true,
            "ticks": "",
            "zerolinecolor": "white"
           }
          },
          "shapedefaults": {
           "line": {
            "color": "#2a3f5f"
           }
          },
          "ternary": {
           "aaxis": {
            "gridcolor": "white",
            "linecolor": "white",
            "ticks": ""
           },
           "baxis": {
            "gridcolor": "white",
            "linecolor": "white",
            "ticks": ""
           },
           "bgcolor": "#E5ECF6",
           "caxis": {
            "gridcolor": "white",
            "linecolor": "white",
            "ticks": ""
           }
          },
          "title": {
           "x": 0.05
          },
          "xaxis": {
           "automargin": true,
           "gridcolor": "white",
           "linecolor": "white",
           "ticks": "",
           "title": {
            "standoff": 15
           },
           "zerolinecolor": "white",
           "zerolinewidth": 2
          },
          "yaxis": {
           "automargin": true,
           "gridcolor": "white",
           "linecolor": "white",
           "ticks": "",
           "title": {
            "standoff": 15
           },
           "zerolinecolor": "white",
           "zerolinewidth": 2
          }
         }
        },
        "title": {
         "text": "Top clade (most recordings) for each state and timestamp"
        },
        "updatemenus": [
         {
          "buttons": [
           {
            "args": [
             null,
             {
              "frame": {
               "duration": 500,
               "redraw": true
              },
              "fromcurrent": true,
              "mode": "immediate",
              "transition": {
               "duration": 500,
               "easing": "linear"
              }
             }
            ],
            "label": "&#9654;",
            "method": "animate"
           },
           {
            "args": [
             [
              null
             ],
             {
              "frame": {
               "duration": 0,
               "redraw": true
              },
              "fromcurrent": true,
              "mode": "immediate",
              "transition": {
               "duration": 0,
               "easing": "linear"
              }
             }
            ],
            "label": "&#9724;",
            "method": "animate"
           }
          ],
          "direction": "left",
          "pad": {
           "r": 10,
           "t": 70
          },
          "showactive": false,
          "type": "buttons",
          "x": 0.1,
          "xanchor": "right",
          "y": 0,
          "yanchor": "top"
         }
        ]
       }
      },
      "text/html": [
       "<div>                            <div id=\"931e86e2-9c18-44c7-aff9-753b0f7da2fb\" class=\"plotly-graph-div\" style=\"height:525px; width:100%;\"></div>            <script type=\"text/javascript\">                require([\"plotly\"], function(Plotly) {                    window.PLOTLYENV=window.PLOTLYENV || {};                                    if (document.getElementById(\"931e86e2-9c18-44c7-aff9-753b0f7da2fb\")) {                    Plotly.newPlot(                        \"931e86e2-9c18-44c7-aff9-753b0f7da2fb\",                        [{\"customdata\":[[\"19A\",10,\"CA\",1,10]],\"geo\":\"geo\",\"hovertemplate\":\"<b>%{hovertext}</b><br><br>clade=%{customdata[0]}<br>count=%{customdata[1]}<extra></extra>\",\"hovertext\":[\"CA\"],\"legendgroup\":\"19A\",\"locationmode\":\"USA-states\",\"locations\":[\"CA\"],\"marker\":{\"color\":\"rgb(158,1,66)\",\"size\":[10],\"sizemode\":\"area\",\"sizeref\":1.175,\"symbol\":\"circle\"},\"mode\":\"markers\",\"name\":\"19A\",\"showlegend\":true,\"type\":\"scattergeo\"},{\"customdata\":[[\"19B\",2,\"AZ\",1,2],[\"19B\",1444,\"WA\",1,1444],[\"19B\",1,\"CO\",1,1],[\"19B\",2,\"FL\",1,2],[\"19B\",12,\"UT\",1,12],[\"19B\",2,\"NV\",1,2]],\"geo\":\"geo\",\"hovertemplate\":\"<b>%{hovertext}</b><br><br>clade=%{customdata[0]}<br>count=%{customdata[1]}<extra></extra>\",\"hovertext\":[\"AZ\",\"WA\",\"CO\",\"FL\",\"UT\",\"NV\"],\"legendgroup\":\"19B\",\"locationmode\":\"USA-states\",\"locations\":[\"AZ\",\"WA\",\"CO\",\"FL\",\"UT\",\"NV\"],\"marker\":{\"color\":\"rgb(186,32,73)\",\"size\":[2,1444,1,2,12,2],\"sizemode\":\"area\",\"sizeref\":1.175,\"symbol\":\"circle\"},\"mode\":\"markers\",\"name\":\"19B\",\"showlegend\":true,\"type\":\"scattergeo\"},{\"customdata\":[[\"20A\",6,\"WI\",1,6],[\"20A\",9,\"IN\",1,9],[\"20A\",5,\"IA\",1,5],[\"20A\",4,\"MA\",1,4],[\"20A\",3,\"VA\",1,3],[\"20A\",3,\"ME\",1,3],[\"20A\",1,\"MD\",1,1]],\"geo\":\"geo\",\"hovertemplate\":\"<b>%{hovertext}</b><br><br>clade=%{customdata[0]}<br>count=%{customdata[1]}<extra></extra>\",\"hovertext\":[\"WI\",\"IN\",\"IA\",\"MA\",\"VA\",\"ME\",\"MD\"],\"legendgroup\":\"20A\",\"locationmode\":\"USA-states\",\"locations\":[\"WI\",\"IN\",\"IA\",\"MA\",\"VA\",\"ME\",\"MD\"],\"marker\":{\"color\":\"rgb(213,62,79)\",\"size\":[6,9,5,4,3,3,1],\"sizemode\":\"area\",\"sizeref\":1.175,\"symbol\":\"circle\"},\"mode\":\"markers\",\"name\":\"20A\",\"showlegend\":true,\"type\":\"scattergeo\"},{\"customdata\":[[\"20B\",2,\"GA\",1,2]],\"geo\":\"geo\",\"hovertemplate\":\"<b>%{hovertext}</b><br><br>clade=%{customdata[0]}<br>count=%{customdata[1]}<extra></extra>\",\"hovertext\":[\"GA\"],\"legendgroup\":\"20B\",\"locationmode\":\"USA-states\",\"locations\":[\"GA\"],\"marker\":{\"color\":\"rgb(229,86,73)\",\"size\":[2],\"sizemode\":\"area\",\"sizeref\":1.175,\"symbol\":\"circle\"},\"mode\":\"markers\",\"name\":\"20B\",\"showlegend\":true,\"type\":\"scattergeo\"},{\"customdata\":[[\"20C\",1,\"LA\",1,1],[\"20C\",1,\"PA\",1,1],[\"20C\",23,\"NY\",1,23],[\"20C\",1,\"ID\",1,1],[\"20C\",1,\"TX\",1,1],[\"20C\",2,\"CT\",1,2],[\"20C\",8,\"MN\",1,8],[\"20C\",9,\"MI\",1,9],[\"20C\",1,\"MD\",1,1]],\"geo\":\"geo\",\"hovertemplate\":\"<b>%{hovertext}</b><br><br>clade=%{customdata[0]}<br>count=%{customdata[1]}<extra></extra>\",\"hovertext\":[\"LA\",\"PA\",\"NY\",\"ID\",\"TX\",\"CT\",\"MN\",\"MI\",\"MD\"],\"legendgroup\":\"20C\",\"locationmode\":\"USA-states\",\"locations\":[\"LA\",\"PA\",\"NY\",\"ID\",\"TX\",\"CT\",\"MN\",\"MI\",\"MD\"],\"marker\":{\"color\":\"rgb(244,109,67)\",\"size\":[1,1,23,1,1,2,8,9,1],\"sizemode\":\"area\",\"sizeref\":1.175,\"symbol\":\"circle\"},\"mode\":\"markers\",\"name\":\"20C\",\"showlegend\":true,\"type\":\"scattergeo\"}],                        {\"template\":{\"data\":{\"bar\":[{\"error_x\":{\"color\":\"#2a3f5f\"},\"error_y\":{\"color\":\"#2a3f5f\"},\"marker\":{\"line\":{\"color\":\"#E5ECF6\",\"width\":0.5},\"pattern\":{\"fillmode\":\"overlay\",\"size\":10,\"solidity\":0.2}},\"type\":\"bar\"}],\"barpolar\":[{\"marker\":{\"line\":{\"color\":\"#E5ECF6\",\"width\":0.5},\"pattern\":{\"fillmode\":\"overlay\",\"size\":10,\"solidity\":0.2}},\"type\":\"barpolar\"}],\"carpet\":[{\"aaxis\":{\"endlinecolor\":\"#2a3f5f\",\"gridcolor\":\"white\",\"linecolor\":\"white\",\"minorgridcolor\":\"white\",\"startlinecolor\":\"#2a3f5f\"},\"baxis\":{\"endlinecolor\":\"#2a3f5f\",\"gridcolor\":\"white\",\"linecolor\":\"white\",\"minorgridcolor\":\"white\",\"startlinecolor\":\"#2a3f5f\"},\"type\":\"carpet\"}],\"choropleth\":[{\"colorbar\":{\"outlinewidth\":0,\"ticks\":\"\"},\"type\":\"choropleth\"}],\"contour\":[{\"colorbar\":{\"outlinewidth\":0,\"ticks\":\"\"},\"colorscale\":[[0.0,\"#0d0887\"],[0.1111111111111111,\"#46039f\"],[0.2222222222222222,\"#7201a8\"],[0.3333333333333333,\"#9c179e\"],[0.4444444444444444,\"#bd3786\"],[0.5555555555555556,\"#d8576b\"],[0.6666666666666666,\"#ed7953\"],[0.7777777777777778,\"#fb9f3a\"],[0.8888888888888888,\"#fdca26\"],[1.0,\"#f0f921\"]],\"type\":\"contour\"}],\"contourcarpet\":[{\"colorbar\":{\"outlinewidth\":0,\"ticks\":\"\"},\"type\":\"contourcarpet\"}],\"heatmap\":[{\"colorbar\":{\"outlinewidth\":0,\"ticks\":\"\"},\"colorscale\":[[0.0,\"#0d0887\"],[0.1111111111111111,\"#46039f\"],[0.2222222222222222,\"#7201a8\"],[0.3333333333333333,\"#9c179e\"],[0.4444444444444444,\"#bd3786\"],[0.5555555555555556,\"#d8576b\"],[0.6666666666666666,\"#ed7953\"],[0.7777777777777778,\"#fb9f3a\"],[0.8888888888888888,\"#fdca26\"],[1.0,\"#f0f921\"]],\"type\":\"heatmap\"}],\"heatmapgl\":[{\"colorbar\":{\"outlinewidth\":0,\"ticks\":\"\"},\"colorscale\":[[0.0,\"#0d0887\"],[0.1111111111111111,\"#46039f\"],[0.2222222222222222,\"#7201a8\"],[0.3333333333333333,\"#9c179e\"],[0.4444444444444444,\"#bd3786\"],[0.5555555555555556,\"#d8576b\"],[0.6666666666666666,\"#ed7953\"],[0.7777777777777778,\"#fb9f3a\"],[0.8888888888888888,\"#fdca26\"],[1.0,\"#f0f921\"]],\"type\":\"heatmapgl\"}],\"histogram\":[{\"marker\":{\"pattern\":{\"fillmode\":\"overlay\",\"size\":10,\"solidity\":0.2}},\"type\":\"histogram\"}],\"histogram2d\":[{\"colorbar\":{\"outlinewidth\":0,\"ticks\":\"\"},\"colorscale\":[[0.0,\"#0d0887\"],[0.1111111111111111,\"#46039f\"],[0.2222222222222222,\"#7201a8\"],[0.3333333333333333,\"#9c179e\"],[0.4444444444444444,\"#bd3786\"],[0.5555555555555556,\"#d8576b\"],[0.6666666666666666,\"#ed7953\"],[0.7777777777777778,\"#fb9f3a\"],[0.8888888888888888,\"#fdca26\"],[1.0,\"#f0f921\"]],\"type\":\"histogram2d\"}],\"histogram2dcontour\":[{\"colorbar\":{\"outlinewidth\":0,\"ticks\":\"\"},\"colorscale\":[[0.0,\"#0d0887\"],[0.1111111111111111,\"#46039f\"],[0.2222222222222222,\"#7201a8\"],[0.3333333333333333,\"#9c179e\"],[0.4444444444444444,\"#bd3786\"],[0.5555555555555556,\"#d8576b\"],[0.6666666666666666,\"#ed7953\"],[0.7777777777777778,\"#fb9f3a\"],[0.8888888888888888,\"#fdca26\"],[1.0,\"#f0f921\"]],\"type\":\"histogram2dcontour\"}],\"mesh3d\":[{\"colorbar\":{\"outlinewidth\":0,\"ticks\":\"\"},\"type\":\"mesh3d\"}],\"parcoords\":[{\"line\":{\"colorbar\":{\"outlinewidth\":0,\"ticks\":\"\"}},\"type\":\"parcoords\"}],\"pie\":[{\"automargin\":true,\"type\":\"pie\"}],\"scatter\":[{\"marker\":{\"colorbar\":{\"outlinewidth\":0,\"ticks\":\"\"}},\"type\":\"scatter\"}],\"scatter3d\":[{\"line\":{\"colorbar\":{\"outlinewidth\":0,\"ticks\":\"\"}},\"marker\":{\"colorbar\":{\"outlinewidth\":0,\"ticks\":\"\"}},\"type\":\"scatter3d\"}],\"scattercarpet\":[{\"marker\":{\"colorbar\":{\"outlinewidth\":0,\"ticks\":\"\"}},\"type\":\"scattercarpet\"}],\"scattergeo\":[{\"marker\":{\"colorbar\":{\"outlinewidth\":0,\"ticks\":\"\"}},\"type\":\"scattergeo\"}],\"scattergl\":[{\"marker\":{\"colorbar\":{\"outlinewidth\":0,\"ticks\":\"\"}},\"type\":\"scattergl\"}],\"scattermapbox\":[{\"marker\":{\"colorbar\":{\"outlinewidth\":0,\"ticks\":\"\"}},\"type\":\"scattermapbox\"}],\"scatterpolar\":[{\"marker\":{\"colorbar\":{\"outlinewidth\":0,\"ticks\":\"\"}},\"type\":\"scatterpolar\"}],\"scatterpolargl\":[{\"marker\":{\"colorbar\":{\"outlinewidth\":0,\"ticks\":\"\"}},\"type\":\"scatterpolargl\"}],\"scatterternary\":[{\"marker\":{\"colorbar\":{\"outlinewidth\":0,\"ticks\":\"\"}},\"type\":\"scatterternary\"}],\"surface\":[{\"colorbar\":{\"outlinewidth\":0,\"ticks\":\"\"},\"colorscale\":[[0.0,\"#0d0887\"],[0.1111111111111111,\"#46039f\"],[0.2222222222222222,\"#7201a8\"],[0.3333333333333333,\"#9c179e\"],[0.4444444444444444,\"#bd3786\"],[0.5555555555555556,\"#d8576b\"],[0.6666666666666666,\"#ed7953\"],[0.7777777777777778,\"#fb9f3a\"],[0.8888888888888888,\"#fdca26\"],[1.0,\"#f0f921\"]],\"type\":\"surface\"}],\"table\":[{\"cells\":{\"fill\":{\"color\":\"#EBF0F8\"},\"line\":{\"color\":\"white\"}},\"header\":{\"fill\":{\"color\":\"#C8D4E3\"},\"line\":{\"color\":\"white\"}},\"type\":\"table\"}]},\"layout\":{\"annotationdefaults\":{\"arrowcolor\":\"#2a3f5f\",\"arrowhead\":0,\"arrowwidth\":1},\"autotypenumbers\":\"strict\",\"coloraxis\":{\"colorbar\":{\"outlinewidth\":0,\"ticks\":\"\"}},\"colorscale\":{\"diverging\":[[0,\"#8e0152\"],[0.1,\"#c51b7d\"],[0.2,\"#de77ae\"],[0.3,\"#f1b6da\"],[0.4,\"#fde0ef\"],[0.5,\"#f7f7f7\"],[0.6,\"#e6f5d0\"],[0.7,\"#b8e186\"],[0.8,\"#7fbc41\"],[0.9,\"#4d9221\"],[1,\"#276419\"]],\"sequential\":[[0.0,\"#0d0887\"],[0.1111111111111111,\"#46039f\"],[0.2222222222222222,\"#7201a8\"],[0.3333333333333333,\"#9c179e\"],[0.4444444444444444,\"#bd3786\"],[0.5555555555555556,\"#d8576b\"],[0.6666666666666666,\"#ed7953\"],[0.7777777777777778,\"#fb9f3a\"],[0.8888888888888888,\"#fdca26\"],[1.0,\"#f0f921\"]],\"sequentialminus\":[[0.0,\"#0d0887\"],[0.1111111111111111,\"#46039f\"],[0.2222222222222222,\"#7201a8\"],[0.3333333333333333,\"#9c179e\"],[0.4444444444444444,\"#bd3786\"],[0.5555555555555556,\"#d8576b\"],[0.6666666666666666,\"#ed7953\"],[0.7777777777777778,\"#fb9f3a\"],[0.8888888888888888,\"#fdca26\"],[1.0,\"#f0f921\"]]},\"colorway\":[\"#636efa\",\"#EF553B\",\"#00cc96\",\"#ab63fa\",\"#FFA15A\",\"#19d3f3\",\"#FF6692\",\"#B6E880\",\"#FF97FF\",\"#FECB52\"],\"font\":{\"color\":\"#2a3f5f\"},\"geo\":{\"bgcolor\":\"white\",\"lakecolor\":\"white\",\"landcolor\":\"#E5ECF6\",\"showlakes\":true,\"showland\":true,\"subunitcolor\":\"white\"},\"hoverlabel\":{\"align\":\"left\"},\"hovermode\":\"closest\",\"mapbox\":{\"style\":\"light\"},\"paper_bgcolor\":\"white\",\"plot_bgcolor\":\"#E5ECF6\",\"polar\":{\"angularaxis\":{\"gridcolor\":\"white\",\"linecolor\":\"white\",\"ticks\":\"\"},\"bgcolor\":\"#E5ECF6\",\"radialaxis\":{\"gridcolor\":\"white\",\"linecolor\":\"white\",\"ticks\":\"\"}},\"scene\":{\"xaxis\":{\"backgroundcolor\":\"#E5ECF6\",\"gridcolor\":\"white\",\"gridwidth\":2,\"linecolor\":\"white\",\"showbackground\":true,\"ticks\":\"\",\"zerolinecolor\":\"white\"},\"yaxis\":{\"backgroundcolor\":\"#E5ECF6\",\"gridcolor\":\"white\",\"gridwidth\":2,\"linecolor\":\"white\",\"showbackground\":true,\"ticks\":\"\",\"zerolinecolor\":\"white\"},\"zaxis\":{\"backgroundcolor\":\"#E5ECF6\",\"gridcolor\":\"white\",\"gridwidth\":2,\"linecolor\":\"white\",\"showbackground\":true,\"ticks\":\"\",\"zerolinecolor\":\"white\"}},\"shapedefaults\":{\"line\":{\"color\":\"#2a3f5f\"}},\"ternary\":{\"aaxis\":{\"gridcolor\":\"white\",\"linecolor\":\"white\",\"ticks\":\"\"},\"baxis\":{\"gridcolor\":\"white\",\"linecolor\":\"white\",\"ticks\":\"\"},\"bgcolor\":\"#E5ECF6\",\"caxis\":{\"gridcolor\":\"white\",\"linecolor\":\"white\",\"ticks\":\"\"}},\"title\":{\"x\":0.05},\"xaxis\":{\"automargin\":true,\"gridcolor\":\"white\",\"linecolor\":\"white\",\"ticks\":\"\",\"title\":{\"standoff\":15},\"zerolinecolor\":\"white\",\"zerolinewidth\":2},\"yaxis\":{\"automargin\":true,\"gridcolor\":\"white\",\"linecolor\":\"white\",\"ticks\":\"\",\"title\":{\"standoff\":15},\"zerolinecolor\":\"white\",\"zerolinewidth\":2}}},\"geo\":{\"domain\":{\"x\":[0.0,1.0],\"y\":[0.0,1.0]},\"projection\":{\"type\":\"albers usa\"},\"center\":{},\"scope\":\"usa\"},\"legend\":{\"title\":{\"text\":\"clade\"},\"tracegroupgap\":0,\"itemsizing\":\"constant\"},\"title\":{\"text\":\"Top clade (most recordings) for each state and timestamp\"},\"updatemenus\":[{\"buttons\":[{\"args\":[null,{\"frame\":{\"duration\":500,\"redraw\":true},\"mode\":\"immediate\",\"fromcurrent\":true,\"transition\":{\"duration\":500,\"easing\":\"linear\"}}],\"label\":\"&#9654;\",\"method\":\"animate\"},{\"args\":[[null],{\"frame\":{\"duration\":0,\"redraw\":true},\"mode\":\"immediate\",\"fromcurrent\":true,\"transition\":{\"duration\":0,\"easing\":\"linear\"}}],\"label\":\"&#9724;\",\"method\":\"animate\"}],\"direction\":\"left\",\"pad\":{\"r\":10,\"t\":70},\"showactive\":false,\"type\":\"buttons\",\"x\":0.1,\"xanchor\":\"right\",\"y\":0,\"yanchor\":\"top\"}],\"sliders\":[{\"active\":0,\"currentvalue\":{\"prefix\":\"timespan=\"},\"len\":0.9,\"pad\":{\"b\":10,\"t\":60},\"steps\":[{\"args\":[[\"1\"],{\"frame\":{\"duration\":0,\"redraw\":true},\"mode\":\"immediate\",\"fromcurrent\":true,\"transition\":{\"duration\":0,\"easing\":\"linear\"}}],\"label\":\"1\",\"method\":\"animate\"},{\"args\":[[\"2\"],{\"frame\":{\"duration\":0,\"redraw\":true},\"mode\":\"immediate\",\"fromcurrent\":true,\"transition\":{\"duration\":0,\"easing\":\"linear\"}}],\"label\":\"2\",\"method\":\"animate\"},{\"args\":[[\"3\"],{\"frame\":{\"duration\":0,\"redraw\":true},\"mode\":\"immediate\",\"fromcurrent\":true,\"transition\":{\"duration\":0,\"easing\":\"linear\"}}],\"label\":\"3\",\"method\":\"animate\"},{\"args\":[[\"4\"],{\"frame\":{\"duration\":0,\"redraw\":true},\"mode\":\"immediate\",\"fromcurrent\":true,\"transition\":{\"duration\":0,\"easing\":\"linear\"}}],\"label\":\"4\",\"method\":\"animate\"},{\"args\":[[\"5\"],{\"frame\":{\"duration\":0,\"redraw\":true},\"mode\":\"immediate\",\"fromcurrent\":true,\"transition\":{\"duration\":0,\"easing\":\"linear\"}}],\"label\":\"5\",\"method\":\"animate\"},{\"args\":[[\"6\"],{\"frame\":{\"duration\":0,\"redraw\":true},\"mode\":\"immediate\",\"fromcurrent\":true,\"transition\":{\"duration\":0,\"easing\":\"linear\"}}],\"label\":\"6\",\"method\":\"animate\"},{\"args\":[[\"7\"],{\"frame\":{\"duration\":0,\"redraw\":true},\"mode\":\"immediate\",\"fromcurrent\":true,\"transition\":{\"duration\":0,\"easing\":\"linear\"}}],\"label\":\"7\",\"method\":\"animate\"},{\"args\":[[\"8\"],{\"frame\":{\"duration\":0,\"redraw\":true},\"mode\":\"immediate\",\"fromcurrent\":true,\"transition\":{\"duration\":0,\"easing\":\"linear\"}}],\"label\":\"8\",\"method\":\"animate\"},{\"args\":[[\"9\"],{\"frame\":{\"duration\":0,\"redraw\":true},\"mode\":\"immediate\",\"fromcurrent\":true,\"transition\":{\"duration\":0,\"easing\":\"linear\"}}],\"label\":\"9\",\"method\":\"animate\"},{\"args\":[[\"10\"],{\"frame\":{\"duration\":0,\"redraw\":true},\"mode\":\"immediate\",\"fromcurrent\":true,\"transition\":{\"duration\":0,\"easing\":\"linear\"}}],\"label\":\"10\",\"method\":\"animate\"},{\"args\":[[\"11\"],{\"frame\":{\"duration\":0,\"redraw\":true},\"mode\":\"immediate\",\"fromcurrent\":true,\"transition\":{\"duration\":0,\"easing\":\"linear\"}}],\"label\":\"11\",\"method\":\"animate\"}],\"x\":0.1,\"xanchor\":\"left\",\"y\":0,\"yanchor\":\"top\"}]},                        {\"responsive\": true}                    ).then(function(){\n",
       "                            Plotly.addFrames('931e86e2-9c18-44c7-aff9-753b0f7da2fb', [{\"data\":[{\"customdata\":[[\"19A\",10,\"CA\",1,10]],\"geo\":\"geo\",\"hovertemplate\":\"<b>%{hovertext}</b><br><br>clade=%{customdata[0]}<br>count=%{customdata[1]}<extra></extra>\",\"hovertext\":[\"CA\"],\"legendgroup\":\"19A\",\"locationmode\":\"USA-states\",\"locations\":[\"CA\"],\"marker\":{\"color\":\"rgb(158,1,66)\",\"size\":[10],\"sizemode\":\"area\",\"sizeref\":1.175,\"symbol\":\"circle\"},\"mode\":\"markers\",\"name\":\"19A\",\"showlegend\":true,\"type\":\"scattergeo\"},{\"customdata\":[[\"19B\",2,\"AZ\",1,2],[\"19B\",1444,\"WA\",1,1444],[\"19B\",1,\"CO\",1,1],[\"19B\",2,\"FL\",1,2],[\"19B\",12,\"UT\",1,12],[\"19B\",2,\"NV\",1,2]],\"geo\":\"geo\",\"hovertemplate\":\"<b>%{hovertext}</b><br><br>clade=%{customdata[0]}<br>count=%{customdata[1]}<extra></extra>\",\"hovertext\":[\"AZ\",\"WA\",\"CO\",\"FL\",\"UT\",\"NV\"],\"legendgroup\":\"19B\",\"locationmode\":\"USA-states\",\"locations\":[\"AZ\",\"WA\",\"CO\",\"FL\",\"UT\",\"NV\"],\"marker\":{\"color\":\"rgb(186,32,73)\",\"size\":[2,1444,1,2,12,2],\"sizemode\":\"area\",\"sizeref\":1.175,\"symbol\":\"circle\"},\"mode\":\"markers\",\"name\":\"19B\",\"showlegend\":true,\"type\":\"scattergeo\"},{\"customdata\":[[\"20A\",6,\"WI\",1,6],[\"20A\",9,\"IN\",1,9],[\"20A\",5,\"IA\",1,5],[\"20A\",4,\"MA\",1,4],[\"20A\",3,\"VA\",1,3],[\"20A\",3,\"ME\",1,3],[\"20A\",1,\"MD\",1,1]],\"geo\":\"geo\",\"hovertemplate\":\"<b>%{hovertext}</b><br><br>clade=%{customdata[0]}<br>count=%{customdata[1]}<extra></extra>\",\"hovertext\":[\"WI\",\"IN\",\"IA\",\"MA\",\"VA\",\"ME\",\"MD\"],\"legendgroup\":\"20A\",\"locationmode\":\"USA-states\",\"locations\":[\"WI\",\"IN\",\"IA\",\"MA\",\"VA\",\"ME\",\"MD\"],\"marker\":{\"color\":\"rgb(213,62,79)\",\"size\":[6,9,5,4,3,3,1],\"sizemode\":\"area\",\"sizeref\":1.175,\"symbol\":\"circle\"},\"mode\":\"markers\",\"name\":\"20A\",\"showlegend\":true,\"type\":\"scattergeo\"},{\"customdata\":[[\"20B\",2,\"GA\",1,2]],\"geo\":\"geo\",\"hovertemplate\":\"<b>%{hovertext}</b><br><br>clade=%{customdata[0]}<br>count=%{customdata[1]}<extra></extra>\",\"hovertext\":[\"GA\"],\"legendgroup\":\"20B\",\"locationmode\":\"USA-states\",\"locations\":[\"GA\"],\"marker\":{\"color\":\"rgb(229,86,73)\",\"size\":[2],\"sizemode\":\"area\",\"sizeref\":1.175,\"symbol\":\"circle\"},\"mode\":\"markers\",\"name\":\"20B\",\"showlegend\":true,\"type\":\"scattergeo\"},{\"customdata\":[[\"20C\",1,\"LA\",1,1],[\"20C\",1,\"PA\",1,1],[\"20C\",23,\"NY\",1,23],[\"20C\",1,\"ID\",1,1],[\"20C\",1,\"TX\",1,1],[\"20C\",2,\"CT\",1,2],[\"20C\",8,\"MN\",1,8],[\"20C\",9,\"MI\",1,9],[\"20C\",1,\"MD\",1,1]],\"geo\":\"geo\",\"hovertemplate\":\"<b>%{hovertext}</b><br><br>clade=%{customdata[0]}<br>count=%{customdata[1]}<extra></extra>\",\"hovertext\":[\"LA\",\"PA\",\"NY\",\"ID\",\"TX\",\"CT\",\"MN\",\"MI\",\"MD\"],\"legendgroup\":\"20C\",\"locationmode\":\"USA-states\",\"locations\":[\"LA\",\"PA\",\"NY\",\"ID\",\"TX\",\"CT\",\"MN\",\"MI\",\"MD\"],\"marker\":{\"color\":\"rgb(244,109,67)\",\"size\":[1,1,23,1,1,2,8,9,1],\"sizemode\":\"area\",\"sizeref\":1.175,\"symbol\":\"circle\"},\"mode\":\"markers\",\"name\":\"20C\",\"showlegend\":true,\"type\":\"scattergeo\"}],\"name\":\"1\"},{\"data\":[{\"customdata\":[[\"19A\",3,\"MD\",2,3]],\"geo\":\"geo\",\"hovertemplate\":\"<b>%{hovertext}</b><br><br>clade=%{customdata[0]}<br>count=%{customdata[1]}<extra></extra>\",\"hovertext\":[\"MD\"],\"legendgroup\":\"19A\",\"locationmode\":\"USA-states\",\"locations\":[\"MD\"],\"marker\":{\"color\":\"rgb(158,1,66)\",\"size\":[3],\"sizemode\":\"area\",\"sizeref\":1.175,\"symbol\":\"circle\"},\"mode\":\"markers\",\"name\":\"19A\",\"showlegend\":true,\"type\":\"scattergeo\"},{\"customdata\":[[\"19B\",1172,\"WA\",2,1172]],\"geo\":\"geo\",\"hovertemplate\":\"<b>%{hovertext}</b><br><br>clade=%{customdata[0]}<br>count=%{customdata[1]}<extra></extra>\",\"hovertext\":[\"WA\"],\"legendgroup\":\"19B\",\"locationmode\":\"USA-states\",\"locations\":[\"WA\"],\"marker\":{\"color\":\"rgb(186,32,73)\",\"size\":[1172],\"sizemode\":\"area\",\"sizeref\":1.175,\"symbol\":\"circle\"},\"mode\":\"markers\",\"name\":\"19B\",\"showlegend\":true,\"type\":\"scattergeo\"},{\"customdata\":[[\"20A\",15,\"FL\",2,15],[\"20A\",2,\"CT\",2,2],[\"20A\",1,\"NM\",2,1],[\"20A\",21,\"AK\",2,21],[\"20A\",85,\"MA\",2,85],[\"20A\",5,\"WI\",2,5]],\"geo\":\"geo\",\"hovertemplate\":\"<b>%{hovertext}</b><br><br>clade=%{customdata[0]}<br>count=%{customdata[1]}<extra></extra>\",\"hovertext\":[\"FL\",\"CT\",\"NM\",\"AK\",\"MA\",\"WI\"],\"legendgroup\":\"20A\",\"locationmode\":\"USA-states\",\"locations\":[\"FL\",\"CT\",\"NM\",\"AK\",\"MA\",\"WI\"],\"marker\":{\"color\":\"rgb(213,62,79)\",\"size\":[15,2,1,21,85,5],\"sizemode\":\"area\",\"sizeref\":1.175,\"symbol\":\"circle\"},\"mode\":\"markers\",\"name\":\"20A\",\"showlegend\":true,\"type\":\"scattergeo\"},{\"customdata\":[[\"20C\",18,\"MN\",2,18],[\"20C\",1,\"TX\",2,1],[\"20C\",1,\"PR\",2,1],[\"20C\",1,\"TN\",2,1],[\"20C\",61,\"MI\",2,61],[\"20C\",2,\"ND\",2,2],[\"20C\",1,\"ME\",2,1],[\"20C\",1,\"ID\",2,1],[\"20C\",4,\"UT\",2,4],[\"20C\",2,\"IL\",2,2],[\"20C\",1,\"WY\",2,1],[\"20C\",13,\"PA\",2,13],[\"20C\",25,\"VA\",2,25],[\"20C\",19,\"LA\",2,19],[\"20C\",5,\"NY\",2,5],[\"20C\",80,\"CA\",2,80]],\"geo\":\"geo\",\"hovertemplate\":\"<b>%{hovertext}</b><br><br>clade=%{customdata[0]}<br>count=%{customdata[1]}<extra></extra>\",\"hovertext\":[\"MN\",\"TX\",\"PR\",\"TN\",\"MI\",\"ND\",\"ME\",\"ID\",\"UT\",\"IL\",\"WY\",\"PA\",\"VA\",\"LA\",\"NY\",\"CA\"],\"legendgroup\":\"20C\",\"locationmode\":\"USA-states\",\"locations\":[\"MN\",\"TX\",\"PR\",\"TN\",\"MI\",\"ND\",\"ME\",\"ID\",\"UT\",\"IL\",\"WY\",\"PA\",\"VA\",\"LA\",\"NY\",\"CA\"],\"marker\":{\"color\":\"rgb(244,109,67)\",\"size\":[18,1,1,1,61,2,1,1,4,2,1,13,25,19,5,80],\"sizemode\":\"area\",\"sizeref\":1.175,\"symbol\":\"circle\"},\"mode\":\"markers\",\"name\":\"20C\",\"showlegend\":true,\"type\":\"scattergeo\"}],\"name\":\"2\"},{\"data\":[{\"customdata\":[[\"19B\",1,\"NY\",3,1],[\"19B\",209,\"WA\",3,209]],\"geo\":\"geo\",\"hovertemplate\":\"<b>%{hovertext}</b><br><br>clade=%{customdata[0]}<br>count=%{customdata[1]}<extra></extra>\",\"hovertext\":[\"NY\",\"WA\"],\"legendgroup\":\"19B\",\"locationmode\":\"USA-states\",\"locations\":[\"NY\",\"WA\"],\"marker\":{\"color\":\"rgb(186,32,73)\",\"size\":[1,209],\"sizemode\":\"area\",\"sizeref\":1.175,\"symbol\":\"circle\"},\"mode\":\"markers\",\"name\":\"19B\",\"showlegend\":true,\"type\":\"scattergeo\"},{\"customdata\":[[\"20A\",2,\"IL\",3,2],[\"20A\",1,\"NV\",3,1],[\"20A\",8,\"AK\",3,8]],\"geo\":\"geo\",\"hovertemplate\":\"<b>%{hovertext}</b><br><br>clade=%{customdata[0]}<br>count=%{customdata[1]}<extra></extra>\",\"hovertext\":[\"IL\",\"NV\",\"AK\"],\"legendgroup\":\"20A\",\"locationmode\":\"USA-states\",\"locations\":[\"IL\",\"NV\",\"AK\"],\"marker\":{\"color\":\"rgb(213,62,79)\",\"size\":[2,1,8],\"sizemode\":\"area\",\"sizeref\":1.175,\"symbol\":\"circle\"},\"mode\":\"markers\",\"name\":\"20A\",\"showlegend\":true,\"type\":\"scattergeo\"},{\"customdata\":[[\"20B\",1,\"NJ\",3,1],[\"20B\",5,\"NC\",3,5]],\"geo\":\"geo\",\"hovertemplate\":\"<b>%{hovertext}</b><br><br>clade=%{customdata[0]}<br>count=%{customdata[1]}<extra></extra>\",\"hovertext\":[\"NJ\",\"NC\"],\"legendgroup\":\"20B\",\"locationmode\":\"USA-states\",\"locations\":[\"NJ\",\"NC\"],\"marker\":{\"color\":\"rgb(229,86,73)\",\"size\":[1,5],\"sizemode\":\"area\",\"sizeref\":1.175,\"symbol\":\"circle\"},\"mode\":\"markers\",\"name\":\"20B\",\"showlegend\":true,\"type\":\"scattergeo\"},{\"customdata\":[[\"20C\",4,\"PA\",3,4],[\"20C\",14,\"UT\",3,14],[\"20C\",1,\"NV\",3,1],[\"20C\",60,\"MA\",3,60],[\"20C\",173,\"MN\",3,173],[\"20C\",121,\"FL\",3,121],[\"20C\",3,\"LA\",3,3],[\"20C\",26,\"GA\",3,26],[\"20C\",17,\"SC\",3,17],[\"20C\",20,\"MD\",3,20],[\"20C\",11,\"OH\",3,11],[\"20C\",52,\"NM\",3,52],[\"20C\",1,\"AR\",3,1],[\"20C\",50,\"WI\",3,50],[\"20C\",1,\"AL\",3,1],[\"20C\",363,\"CA\",3,363],[\"20C\",348,\"VA\",3,348]],\"geo\":\"geo\",\"hovertemplate\":\"<b>%{hovertext}</b><br><br>clade=%{customdata[0]}<br>count=%{customdata[1]}<extra></extra>\",\"hovertext\":[\"PA\",\"UT\",\"NV\",\"MA\",\"MN\",\"FL\",\"LA\",\"GA\",\"SC\",\"MD\",\"OH\",\"NM\",\"AR\",\"WI\",\"AL\",\"CA\",\"VA\"],\"legendgroup\":\"20C\",\"locationmode\":\"USA-states\",\"locations\":[\"PA\",\"UT\",\"NV\",\"MA\",\"MN\",\"FL\",\"LA\",\"GA\",\"SC\",\"MD\",\"OH\",\"NM\",\"AR\",\"WI\",\"AL\",\"CA\",\"VA\"],\"marker\":{\"color\":\"rgb(244,109,67)\",\"size\":[4,14,1,60,173,121,3,26,17,20,11,52,1,50,1,363,348],\"sizemode\":\"area\",\"sizeref\":1.175,\"symbol\":\"circle\"},\"mode\":\"markers\",\"name\":\"20C\",\"showlegend\":true,\"type\":\"scattergeo\"},{\"customdata\":[[\"20G\",1,\"KY\",3,1],[\"20G\",43,\"TX\",3,43]],\"geo\":\"geo\",\"hovertemplate\":\"<b>%{hovertext}</b><br><br>clade=%{customdata[0]}<br>count=%{customdata[1]}<extra></extra>\",\"hovertext\":[\"KY\",\"TX\"],\"legendgroup\":\"20G\",\"locationmode\":\"USA-states\",\"locations\":[\"KY\",\"TX\"],\"marker\":{\"color\":\"rgb(254,199,118)\",\"size\":[1,43],\"sizemode\":\"area\",\"sizeref\":1.175,\"symbol\":\"circle\"},\"mode\":\"markers\",\"name\":\"20G\",\"showlegend\":true,\"type\":\"scattergeo\"}],\"name\":\"3\"},{\"data\":[{\"customdata\":[[\"19B\",26,\"WA\",4,26]],\"geo\":\"geo\",\"hovertemplate\":\"<b>%{hovertext}</b><br><br>clade=%{customdata[0]}<br>count=%{customdata[1]}<extra></extra>\",\"hovertext\":[\"WA\"],\"legendgroup\":\"19B\",\"locationmode\":\"USA-states\",\"locations\":[\"WA\"],\"marker\":{\"color\":\"rgb(186,32,73)\",\"size\":[26],\"sizemode\":\"area\",\"sizeref\":1.175,\"symbol\":\"circle\"},\"mode\":\"markers\",\"name\":\"19B\",\"showlegend\":true,\"type\":\"scattergeo\"},{\"customdata\":[[\"20A\",7,\"OK\",4,7],[\"20A\",2,\"WY\",4,2],[\"20A\",1,\"NH\",4,1],[\"20A\",1,\"RI\",4,1],[\"20A\",115,\"FL\",4,115],[\"20A\",82,\"MD\",4,82],[\"20A\",1,\"DE\",4,1],[\"20A\",4,\"LA\",4,4],[\"20A\",2,\"NY\",4,2],[\"20A\",5,\"GU\",4,5],[\"20A\",11,\"NV\",4,11]],\"geo\":\"geo\",\"hovertemplate\":\"<b>%{hovertext}</b><br><br>clade=%{customdata[0]}<br>count=%{customdata[1]}<extra></extra>\",\"hovertext\":[\"OK\",\"WY\",\"NH\",\"RI\",\"FL\",\"MD\",\"DE\",\"LA\",\"NY\",\"GU\",\"NV\"],\"legendgroup\":\"20A\",\"locationmode\":\"USA-states\",\"locations\":[\"OK\",\"WY\",\"NH\",\"RI\",\"FL\",\"MD\",\"DE\",\"LA\",\"NY\",\"GU\",\"NV\"],\"marker\":{\"color\":\"rgb(213,62,79)\",\"size\":[7,2,1,1,115,82,1,4,2,5,11],\"sizemode\":\"area\",\"sizeref\":1.175,\"symbol\":\"circle\"},\"mode\":\"markers\",\"name\":\"20A\",\"showlegend\":true,\"type\":\"scattergeo\"},{\"customdata\":[[\"20B\",4,\"CO\",4,4],[\"20B\",3,\"NC\",4,3],[\"20B\",121,\"KS\",4,121],[\"20B\",66,\"MA\",4,66],[\"20B\",99,\"AK\",4,99],[\"20B\",19,\"TX\",4,19],[\"20B\",425,\"VA\",4,425],[\"20B\",2,\"AZ\",4,2],[\"20B\",2,\"NY\",4,2]],\"geo\":\"geo\",\"hovertemplate\":\"<b>%{hovertext}</b><br><br>clade=%{customdata[0]}<br>count=%{customdata[1]}<extra></extra>\",\"hovertext\":[\"CO\",\"NC\",\"KS\",\"MA\",\"AK\",\"TX\",\"VA\",\"AZ\",\"NY\"],\"legendgroup\":\"20B\",\"locationmode\":\"USA-states\",\"locations\":[\"CO\",\"NC\",\"KS\",\"MA\",\"AK\",\"TX\",\"VA\",\"AZ\",\"NY\"],\"marker\":{\"color\":\"rgb(229,86,73)\",\"size\":[4,3,121,66,99,19,425,2,2],\"sizemode\":\"area\",\"sizeref\":1.175,\"symbol\":\"circle\"},\"mode\":\"markers\",\"name\":\"20B\",\"showlegend\":true,\"type\":\"scattergeo\"},{\"customdata\":[[\"20C\",8,\"NJ\",4,8],[\"20C\",7,\"SC\",4,7],[\"20C\",1,\"MI\",4,1],[\"20C\",55,\"NM\",4,55],[\"20C\",4,\"IN\",4,4],[\"20C\",60,\"CT\",4,60],[\"20C\",1,\"VT\",4,1],[\"20C\",28,\"NE\",4,28],[\"20C\",52,\"MN\",4,52]],\"geo\":\"geo\",\"hovertemplate\":\"<b>%{hovertext}</b><br><br>clade=%{customdata[0]}<br>count=%{customdata[1]}<extra></extra>\",\"hovertext\":[\"NJ\",\"SC\",\"MI\",\"NM\",\"IN\",\"CT\",\"VT\",\"NE\",\"MN\"],\"legendgroup\":\"20C\",\"locationmode\":\"USA-states\",\"locations\":[\"NJ\",\"SC\",\"MI\",\"NM\",\"IN\",\"CT\",\"VT\",\"NE\",\"MN\"],\"marker\":{\"color\":\"rgb(244,109,67)\",\"size\":[8,7,1,55,4,60,1,28,52],\"sizemode\":\"area\",\"sizeref\":1.175,\"symbol\":\"circle\"},\"mode\":\"markers\",\"name\":\"20C\",\"showlegend\":true,\"type\":\"scattergeo\"},{\"customdata\":[[\"20G\",2,\"MT\",4,2],[\"20G\",6,\"OH\",4,6],[\"20G\",349,\"SD\",4,349],[\"20G\",250,\"AL\",4,250],[\"20G\",3,\"IA\",4,3],[\"20G\",5,\"ND\",4,5],[\"20G\",3,\"MS\",4,3],[\"20G\",39,\"OR\",4,39],[\"20G\",11,\"KY\",4,11],[\"20G\",6,\"ID\",4,6],[\"20G\",16,\"MO\",4,16],[\"20G\",5,\"WV\",4,5],[\"20G\",5,\"IL\",4,5],[\"20G\",4,\"PA\",4,4],[\"20G\",1,\"HI\",4,1],[\"20G\",3,\"NC\",4,3],[\"20G\",25,\"GA\",4,25],[\"20G\",44,\"WI\",4,44],[\"20G\",1,\"UT\",4,1],[\"20G\",17,\"TN\",4,17]],\"geo\":\"geo\",\"hovertemplate\":\"<b>%{hovertext}</b><br><br>clade=%{customdata[0]}<br>count=%{customdata[1]}<extra></extra>\",\"hovertext\":[\"MT\",\"OH\",\"SD\",\"AL\",\"IA\",\"ND\",\"MS\",\"OR\",\"KY\",\"ID\",\"MO\",\"WV\",\"IL\",\"PA\",\"HI\",\"NC\",\"GA\",\"WI\",\"UT\",\"TN\"],\"legendgroup\":\"20G\",\"locationmode\":\"USA-states\",\"locations\":[\"MT\",\"OH\",\"SD\",\"AL\",\"IA\",\"ND\",\"MS\",\"OR\",\"KY\",\"ID\",\"MO\",\"WV\",\"IL\",\"PA\",\"HI\",\"NC\",\"GA\",\"WI\",\"UT\",\"TN\"],\"marker\":{\"color\":\"rgb(254,199,118)\",\"size\":[2,6,349,250,3,5,3,39,11,6,16,5,5,4,1,3,25,44,1,17],\"sizemode\":\"area\",\"sizeref\":1.175,\"symbol\":\"circle\"},\"mode\":\"markers\",\"name\":\"20G\",\"showlegend\":true,\"type\":\"scattergeo\"},{\"customdata\":[[\"21C (Epsilon)\",347,\"CA\",4,347]],\"geo\":\"geo\",\"hovertemplate\":\"<b>%{hovertext}</b><br><br>clade=%{customdata[0]}<br>count=%{customdata[1]}<extra></extra>\",\"hovertext\":[\"CA\"],\"legendgroup\":\"21C (Epsilon)\",\"locationmode\":\"USA-states\",\"locations\":[\"CA\"],\"marker\":{\"color\":\"rgb(201,233,158)\",\"size\":[347],\"sizemode\":\"area\",\"sizeref\":1.175,\"symbol\":\"circle\"},\"mode\":\"markers\",\"name\":\"21C (Epsilon)\",\"showlegend\":true,\"type\":\"scattergeo\"}],\"name\":\"4\"},{\"data\":[{\"customdata\":[[\"19B\",2,\"NH\",5,2]],\"geo\":\"geo\",\"hovertemplate\":\"<b>%{hovertext}</b><br><br>clade=%{customdata[0]}<br>count=%{customdata[1]}<extra></extra>\",\"hovertext\":[\"NH\"],\"legendgroup\":\"19B\",\"locationmode\":\"USA-states\",\"locations\":[\"NH\"],\"marker\":{\"color\":\"rgb(186,32,73)\",\"size\":[2],\"sizemode\":\"area\",\"sizeref\":1.175,\"symbol\":\"circle\"},\"mode\":\"markers\",\"name\":\"19B\",\"showlegend\":true,\"type\":\"scattergeo\"},{\"customdata\":[[\"20A\",33,\"MS\",5,33],[\"20A\",32,\"AR\",5,32],[\"20A\",30,\"WI\",5,30],[\"20A\",2,\"GU\",5,2],[\"20A\",17,\"UT\",5,17],[\"20A\",2,\"PR\",5,2],[\"20A\",7,\"ID\",5,7],[\"20A\",249,\"CA\",5,249]],\"geo\":\"geo\",\"hovertemplate\":\"<b>%{hovertext}</b><br><br>clade=%{customdata[0]}<br>count=%{customdata[1]}<extra></extra>\",\"hovertext\":[\"MS\",\"AR\",\"WI\",\"GU\",\"UT\",\"PR\",\"ID\",\"CA\"],\"legendgroup\":\"20A\",\"locationmode\":\"USA-states\",\"locations\":[\"MS\",\"AR\",\"WI\",\"GU\",\"UT\",\"PR\",\"ID\",\"CA\"],\"marker\":{\"color\":\"rgb(213,62,79)\",\"size\":[33,32,30,2,17,2,7,249],\"sizemode\":\"area\",\"sizeref\":1.175,\"symbol\":\"circle\"},\"mode\":\"markers\",\"name\":\"20A\",\"showlegend\":true,\"type\":\"scattergeo\"},{\"customdata\":[[\"20B\",35,\"WA\",5,35],[\"20B\",6,\"AK\",5,6],[\"20B\",15,\"RI\",5,15]],\"geo\":\"geo\",\"hovertemplate\":\"<b>%{hovertext}</b><br><br>clade=%{customdata[0]}<br>count=%{customdata[1]}<extra></extra>\",\"hovertext\":[\"WA\",\"AK\",\"RI\"],\"legendgroup\":\"20B\",\"locationmode\":\"USA-states\",\"locations\":[\"WA\",\"AK\",\"RI\"],\"marker\":{\"color\":\"rgb(229,86,73)\",\"size\":[35,6,15],\"sizemode\":\"area\",\"sizeref\":1.175,\"symbol\":\"circle\"},\"mode\":\"markers\",\"name\":\"20B\",\"showlegend\":true,\"type\":\"scattergeo\"},{\"customdata\":[[\"20C\",3614,\"VA\",5,3614],[\"20C\",32,\"CT\",5,32],[\"20C\",3,\"DE\",5,3],[\"20C\",1,\"HI\",5,1]],\"geo\":\"geo\",\"hovertemplate\":\"<b>%{hovertext}</b><br><br>clade=%{customdata[0]}<br>count=%{customdata[1]}<extra></extra>\",\"hovertext\":[\"VA\",\"CT\",\"DE\",\"HI\"],\"legendgroup\":\"20C\",\"locationmode\":\"USA-states\",\"locations\":[\"VA\",\"CT\",\"DE\",\"HI\"],\"marker\":{\"color\":\"rgb(244,109,67)\",\"size\":[3614,32,3,1],\"sizemode\":\"area\",\"sizeref\":1.175,\"symbol\":\"circle\"},\"mode\":\"markers\",\"name\":\"20C\",\"showlegend\":true,\"type\":\"scattergeo\"},{\"customdata\":[[\"20G\",8,\"ME\",5,8],[\"20G\",10,\"NV\",5,10],[\"20G\",102,\"MA\",5,102],[\"20G\",8,\"WY\",5,8],[\"20G\",3,\"OR\",5,3],[\"20G\",48,\"ND\",5,48],[\"20G\",30,\"NY\",5,30],[\"20G\",7,\"OK\",5,7],[\"20G\",48,\"MD\",5,48],[\"20G\",15,\"LA\",5,15],[\"20G\",35,\"OH\",5,35],[\"20G\",16,\"AZ\",5,16],[\"20G\",17,\"KY\",5,17],[\"20G\",53,\"IN\",5,53],[\"20G\",51,\"NM\",5,51],[\"20G\",21,\"KS\",5,21],[\"20G\",101,\"AL\",5,101],[\"20G\",10,\"WV\",5,10],[\"20G\",19,\"CO\",5,19],[\"20G\",26,\"TN\",5,26],[\"20G\",2,\"NH\",5,2],[\"20G\",58,\"GA\",5,58],[\"20G\",6,\"AK\",5,6],[\"20G\",3,\"VT\",5,3],[\"20G\",88,\"NC\",5,88],[\"20G\",62,\"TX\",5,62],[\"20G\",61,\"FL\",5,61],[\"20G\",78,\"MN\",5,78],[\"20G\",46,\"MO\",5,46],[\"20G\",65,\"MT\",5,65],[\"20G\",2,\"GU\",5,2],[\"20G\",1,\"HI\",5,1],[\"20G\",36,\"MI\",5,36],[\"20G\",10,\"IL\",5,10],[\"20G\",5,\"NJ\",5,5],[\"20G\",3,\"IA\",5,3],[\"20G\",32,\"SC\",5,32],[\"20G\",40,\"PA\",5,40],[\"20G\",2,\"NE\",5,2],[\"20G\",2,\"SD\",5,2]],\"geo\":\"geo\",\"hovertemplate\":\"<b>%{hovertext}</b><br><br>clade=%{customdata[0]}<br>count=%{customdata[1]}<extra></extra>\",\"hovertext\":[\"ME\",\"NV\",\"MA\",\"WY\",\"OR\",\"ND\",\"NY\",\"OK\",\"MD\",\"LA\",\"OH\",\"AZ\",\"KY\",\"IN\",\"NM\",\"KS\",\"AL\",\"WV\",\"CO\",\"TN\",\"NH\",\"GA\",\"AK\",\"VT\",\"NC\",\"TX\",\"FL\",\"MN\",\"MO\",\"MT\",\"GU\",\"HI\",\"MI\",\"IL\",\"NJ\",\"IA\",\"SC\",\"PA\",\"NE\",\"SD\"],\"legendgroup\":\"20G\",\"locationmode\":\"USA-states\",\"locations\":[\"ME\",\"NV\",\"MA\",\"WY\",\"OR\",\"ND\",\"NY\",\"OK\",\"MD\",\"LA\",\"OH\",\"AZ\",\"KY\",\"IN\",\"NM\",\"KS\",\"AL\",\"WV\",\"CO\",\"TN\",\"NH\",\"GA\",\"AK\",\"VT\",\"NC\",\"TX\",\"FL\",\"MN\",\"MO\",\"MT\",\"GU\",\"HI\",\"MI\",\"IL\",\"NJ\",\"IA\",\"SC\",\"PA\",\"NE\",\"SD\"],\"marker\":{\"color\":\"rgb(254,199,118)\",\"size\":[8,10,102,8,3,48,30,7,48,15,35,16,17,53,51,21,101,10,19,26,2,58,6,3,88,62,61,78,46,65,2,1,36,10,5,3,32,40,2,2],\"sizemode\":\"area\",\"sizeref\":1.175,\"symbol\":\"circle\"},\"mode\":\"markers\",\"name\":\"20G\",\"showlegend\":true,\"type\":\"scattergeo\"},{\"customdata\":[[\"21C (Epsilon)\",1,\"HI\",5,1]],\"geo\":\"geo\",\"hovertemplate\":\"<b>%{hovertext}</b><br><br>clade=%{customdata[0]}<br>count=%{customdata[1]}<extra></extra>\",\"hovertext\":[\"HI\"],\"legendgroup\":\"21C (Epsilon)\",\"locationmode\":\"USA-states\",\"locations\":[\"HI\"],\"marker\":{\"color\":\"rgb(201,233,158)\",\"size\":[1],\"sizemode\":\"area\",\"sizeref\":1.175,\"symbol\":\"circle\"},\"mode\":\"markers\",\"name\":\"21C (Epsilon)\",\"showlegend\":true,\"type\":\"scattergeo\"}],\"name\":\"5\"},{\"data\":[{\"customdata\":[[\"20A\",450,\"MD\",6,450],[\"20A\",3,\"NE\",6,3],[\"20A\",2,\"IA\",6,2],[\"20A\",31,\"CO\",6,31],[\"20A\",56,\"AR\",6,56],[\"20A\",23,\"NY\",6,23],[\"20A\",27,\"AZ\",6,27]],\"geo\":\"geo\",\"hovertemplate\":\"<b>%{hovertext}</b><br><br>clade=%{customdata[0]}<br>count=%{customdata[1]}<extra></extra>\",\"hovertext\":[\"MD\",\"NE\",\"IA\",\"CO\",\"AR\",\"NY\",\"AZ\"],\"legendgroup\":\"20A\",\"locationmode\":\"USA-states\",\"locations\":[\"MD\",\"NE\",\"IA\",\"CO\",\"AR\",\"NY\",\"AZ\"],\"marker\":{\"color\":\"rgb(213,62,79)\",\"size\":[450,3,2,31,56,23,27],\"sizemode\":\"area\",\"sizeref\":1.175,\"symbol\":\"circle\"},\"mode\":\"markers\",\"name\":\"20A\",\"showlegend\":true,\"type\":\"scattergeo\"},{\"customdata\":[[\"20B\",61,\"NH\",6,61],[\"20B\",36,\"NM\",6,36],[\"20B\",3,\"VT\",6,3],[\"20B\",2,\"MT\",6,2],[\"20B\",28,\"WA\",6,28]],\"geo\":\"geo\",\"hovertemplate\":\"<b>%{hovertext}</b><br><br>clade=%{customdata[0]}<br>count=%{customdata[1]}<extra></extra>\",\"hovertext\":[\"NH\",\"NM\",\"VT\",\"MT\",\"WA\"],\"legendgroup\":\"20B\",\"locationmode\":\"USA-states\",\"locations\":[\"NH\",\"NM\",\"VT\",\"MT\",\"WA\"],\"marker\":{\"color\":\"rgb(229,86,73)\",\"size\":[61,36,3,2,28],\"sizemode\":\"area\",\"sizeref\":1.175,\"symbol\":\"circle\"},\"mode\":\"markers\",\"name\":\"20B\",\"showlegend\":true,\"type\":\"scattergeo\"},{\"customdata\":[[\"20C\",72,\"ME\",6,72],[\"20C\",96,\"RI\",6,96],[\"20C\",30,\"TN\",6,30],[\"20C\",6,\"VA\",6,6],[\"20C\",177,\"MA\",6,177],[\"20C\",2,\"KS\",6,2],[\"20C\",13,\"OR\",6,13],[\"20C\",10,\"MS\",6,10]],\"geo\":\"geo\",\"hovertemplate\":\"<b>%{hovertext}</b><br><br>clade=%{customdata[0]}<br>count=%{customdata[1]}<extra></extra>\",\"hovertext\":[\"ME\",\"RI\",\"TN\",\"VA\",\"MA\",\"KS\",\"OR\",\"MS\"],\"legendgroup\":\"20C\",\"locationmode\":\"USA-states\",\"locations\":[\"ME\",\"RI\",\"TN\",\"VA\",\"MA\",\"KS\",\"OR\",\"MS\"],\"marker\":{\"color\":\"rgb(244,109,67)\",\"size\":[72,96,30,6,177,2,13,10],\"sizemode\":\"area\",\"sizeref\":1.175,\"symbol\":\"circle\"},\"mode\":\"markers\",\"name\":\"20C\",\"showlegend\":true,\"type\":\"scattergeo\"},{\"customdata\":[[\"20G\",18,\"NJ\",6,18],[\"20G\",71,\"MN\",6,71],[\"20G\",22,\"AL\",6,22],[\"20G\",86,\"MO\",6,86],[\"20G\",114,\"AK\",6,114],[\"20G\",30,\"MI\",6,30],[\"20G\",13,\"WY\",6,13],[\"20G\",27,\"UT\",6,27],[\"20G\",39,\"NC\",6,39],[\"20G\",177,\"SC\",6,177],[\"20G\",24,\"HI\",6,24],[\"20G\",619,\"GA\",6,619],[\"20G\",4230,\"TX\",6,4230],[\"20G\",29,\"CT\",6,29],[\"20G\",5,\"DC\",6,5],[\"20G\",4,\"ID\",6,4],[\"20G\",10,\"WV\",6,10],[\"20G\",3,\"NE\",6,3],[\"20G\",58,\"IL\",6,58],[\"20G\",122,\"NV\",6,122],[\"20G\",47,\"ND\",6,47],[\"20G\",10,\"WI\",6,10],[\"20G\",44,\"LA\",6,44],[\"20G\",123,\"KY\",6,123],[\"20G\",106,\"OH\",6,106],[\"20G\",4,\"OK\",6,4],[\"20G\",57,\"IN\",6,57],[\"20G\",132,\"PA\",6,132]],\"geo\":\"geo\",\"hovertemplate\":\"<b>%{hovertext}</b><br><br>clade=%{customdata[0]}<br>count=%{customdata[1]}<extra></extra>\",\"hovertext\":[\"NJ\",\"MN\",\"AL\",\"MO\",\"AK\",\"MI\",\"WY\",\"UT\",\"NC\",\"SC\",\"HI\",\"GA\",\"TX\",\"CT\",\"DC\",\"ID\",\"WV\",\"NE\",\"IL\",\"NV\",\"ND\",\"WI\",\"LA\",\"KY\",\"OH\",\"OK\",\"IN\",\"PA\"],\"legendgroup\":\"20G\",\"locationmode\":\"USA-states\",\"locations\":[\"NJ\",\"MN\",\"AL\",\"MO\",\"AK\",\"MI\",\"WY\",\"UT\",\"NC\",\"SC\",\"HI\",\"GA\",\"TX\",\"CT\",\"DC\",\"ID\",\"WV\",\"NE\",\"IL\",\"NV\",\"ND\",\"WI\",\"LA\",\"KY\",\"OH\",\"OK\",\"IN\",\"PA\"],\"marker\":{\"color\":\"rgb(254,199,118)\",\"size\":[18,71,22,86,114,30,13,27,39,177,24,619,4230,29,5,4,10,3,58,122,47,10,44,123,106,4,57,132],\"sizemode\":\"area\",\"sizeref\":1.175,\"symbol\":\"circle\"},\"mode\":\"markers\",\"name\":\"20G\",\"showlegend\":true,\"type\":\"scattergeo\"},{\"customdata\":[[\"21C (Epsilon)\",799,\"CA\",6,799]],\"geo\":\"geo\",\"hovertemplate\":\"<b>%{hovertext}</b><br><br>clade=%{customdata[0]}<br>count=%{customdata[1]}<extra></extra>\",\"hovertext\":[\"CA\"],\"legendgroup\":\"21C (Epsilon)\",\"locationmode\":\"USA-states\",\"locations\":[\"CA\"],\"marker\":{\"color\":\"rgb(201,233,158)\",\"size\":[799],\"sizemode\":\"area\",\"sizeref\":1.175,\"symbol\":\"circle\"},\"mode\":\"markers\",\"name\":\"21C (Epsilon)\",\"showlegend\":true,\"type\":\"scattergeo\"},{\"customdata\":[[\"21F (Iota)\",271,\"FL\",6,271]],\"geo\":\"geo\",\"hovertemplate\":\"<b>%{hovertext}</b><br><br>clade=%{customdata[0]}<br>count=%{customdata[1]}<extra></extra>\",\"hovertext\":[\"FL\"],\"legendgroup\":\"21F (Iota)\",\"locationmode\":\"USA-states\",\"locations\":[\"FL\"],\"marker\":{\"color\":\"rgb(137,208,165)\",\"size\":[271],\"sizemode\":\"area\",\"sizeref\":1.175,\"symbol\":\"circle\"},\"mode\":\"markers\",\"name\":\"21F (Iota)\",\"showlegend\":true,\"type\":\"scattergeo\"}],\"name\":\"6\"},{\"data\":[{\"customdata\":[[\"20A\",31,\"NH\",7,31],[\"20A\",11,\"SD\",7,11],[\"20A\",178,\"PA\",7,178],[\"20A\",31,\"OK\",7,31]],\"geo\":\"geo\",\"hovertemplate\":\"<b>%{hovertext}</b><br><br>clade=%{customdata[0]}<br>count=%{customdata[1]}<extra></extra>\",\"hovertext\":[\"NH\",\"SD\",\"PA\",\"OK\"],\"legendgroup\":\"20A\",\"locationmode\":\"USA-states\",\"locations\":[\"NH\",\"SD\",\"PA\",\"OK\"],\"marker\":{\"color\":\"rgb(213,62,79)\",\"size\":[31,11,178,31],\"sizemode\":\"area\",\"sizeref\":1.175,\"symbol\":\"circle\"},\"mode\":\"markers\",\"name\":\"20A\",\"showlegend\":true,\"type\":\"scattergeo\"},{\"customdata\":[[\"20B\",3,\"ND\",7,3],[\"20B\",8,\"VA\",7,8],[\"20B\",37,\"NM\",7,37],[\"20B\",4,\"WY\",7,4],[\"20B\",7,\"AK\",7,7]],\"geo\":\"geo\",\"hovertemplate\":\"<b>%{hovertext}</b><br><br>clade=%{customdata[0]}<br>count=%{customdata[1]}<extra></extra>\",\"hovertext\":[\"ND\",\"VA\",\"NM\",\"WY\",\"AK\"],\"legendgroup\":\"20B\",\"locationmode\":\"USA-states\",\"locations\":[\"ND\",\"VA\",\"NM\",\"WY\",\"AK\"],\"marker\":{\"color\":\"rgb(229,86,73)\",\"size\":[3,8,37,4,7],\"sizemode\":\"area\",\"sizeref\":1.175,\"symbol\":\"circle\"},\"mode\":\"markers\",\"name\":\"20B\",\"showlegend\":true,\"type\":\"scattergeo\"},{\"customdata\":[[\"20C\",294,\"NJ\",7,294],[\"20C\",44,\"DE\",7,44]],\"geo\":\"geo\",\"hovertemplate\":\"<b>%{hovertext}</b><br><br>clade=%{customdata[0]}<br>count=%{customdata[1]}<extra></extra>\",\"hovertext\":[\"NJ\",\"DE\"],\"legendgroup\":\"20C\",\"locationmode\":\"USA-states\",\"locations\":[\"NJ\",\"DE\"],\"marker\":{\"color\":\"rgb(244,109,67)\",\"size\":[294,44],\"sizemode\":\"area\",\"sizeref\":1.175,\"symbol\":\"circle\"},\"mode\":\"markers\",\"name\":\"20C\",\"showlegend\":true,\"type\":\"scattergeo\"},{\"customdata\":[[\"20G\",49,\"NC\",7,49],[\"20G\",127,\"TX\",7,127],[\"20G\",30,\"TN\",7,30],[\"20G\",55,\"SC\",7,55],[\"20G\",7,\"NE\",7,7],[\"20G\",4,\"UT\",7,4],[\"20G\",50,\"NY\",7,50],[\"20G\",19,\"NV\",7,19],[\"20G\",19,\"WI\",7,19],[\"20G\",44,\"WV\",7,44],[\"20G\",31,\"NH\",7,31],[\"20G\",540,\"OH\",7,540],[\"20G\",6,\"PR\",7,6],[\"20G\",4,\"KS\",7,4],[\"20G\",100,\"FL\",7,100],[\"20G\",14,\"MD\",7,14],[\"20G\",134,\"MI\",7,134],[\"20G\",67,\"IA\",7,67],[\"20G\",25,\"ID\",7,25],[\"20G\",5,\"AR\",7,5],[\"20G\",315,\"MN\",7,315],[\"20G\",10,\"CO\",7,10],[\"20G\",43,\"IN\",7,43],[\"20G\",7,\"MO\",7,7],[\"20G\",27,\"AL\",7,27],[\"20G\",18,\"LA\",7,18],[\"20G\",141,\"CT\",7,141],[\"20G\",28,\"KY\",7,28],[\"20G\",29,\"ME\",7,29],[\"20G\",92,\"IL\",7,92],[\"20G\",68,\"GA\",7,68]],\"geo\":\"geo\",\"hovertemplate\":\"<b>%{hovertext}</b><br><br>clade=%{customdata[0]}<br>count=%{customdata[1]}<extra></extra>\",\"hovertext\":[\"NC\",\"TX\",\"TN\",\"SC\",\"NE\",\"UT\",\"NY\",\"NV\",\"WI\",\"WV\",\"NH\",\"OH\",\"PR\",\"KS\",\"FL\",\"MD\",\"MI\",\"IA\",\"ID\",\"AR\",\"MN\",\"CO\",\"IN\",\"MO\",\"AL\",\"LA\",\"CT\",\"KY\",\"ME\",\"IL\",\"GA\"],\"legendgroup\":\"20G\",\"locationmode\":\"USA-states\",\"locations\":[\"NC\",\"TX\",\"TN\",\"SC\",\"NE\",\"UT\",\"NY\",\"NV\",\"WI\",\"WV\",\"NH\",\"OH\",\"PR\",\"KS\",\"FL\",\"MD\",\"MI\",\"IA\",\"ID\",\"AR\",\"MN\",\"CO\",\"IN\",\"MO\",\"AL\",\"LA\",\"CT\",\"KY\",\"ME\",\"IL\",\"GA\"],\"marker\":{\"color\":\"rgb(254,199,118)\",\"size\":[49,127,30,55,7,4,50,19,19,44,31,540,6,4,100,14,134,67,25,5,315,10,43,7,27,18,141,28,29,92,68],\"sizemode\":\"area\",\"sizeref\":1.175,\"symbol\":\"circle\"},\"mode\":\"markers\",\"name\":\"20G\",\"showlegend\":true,\"type\":\"scattergeo\"},{\"customdata\":[[\"21C (Epsilon)\",2,\"WA\",7,2],[\"21C (Epsilon)\",8,\"VT\",7,8],[\"21C (Epsilon)\",5,\"OR\",7,5],[\"21C (Epsilon)\",82,\"MS\",7,82],[\"21C (Epsilon)\",23,\"AZ\",7,23],[\"21C (Epsilon)\",289,\"CA\",7,289],[\"21C (Epsilon)\",4,\"MT\",7,4],[\"21C (Epsilon)\",3,\"HI\",7,3]],\"geo\":\"geo\",\"hovertemplate\":\"<b>%{hovertext}</b><br><br>clade=%{customdata[0]}<br>count=%{customdata[1]}<extra></extra>\",\"hovertext\":[\"WA\",\"VT\",\"OR\",\"MS\",\"AZ\",\"CA\",\"MT\",\"HI\"],\"legendgroup\":\"21C (Epsilon)\",\"locationmode\":\"USA-states\",\"locations\":[\"WA\",\"VT\",\"OR\",\"MS\",\"AZ\",\"CA\",\"MT\",\"HI\"],\"marker\":{\"color\":\"rgb(201,233,158)\",\"size\":[2,8,5,82,23,289,4,3],\"sizemode\":\"area\",\"sizeref\":1.175,\"symbol\":\"circle\"},\"mode\":\"markers\",\"name\":\"21C (Epsilon)\",\"showlegend\":true,\"type\":\"scattergeo\"},{\"customdata\":[[\"21F (Iota)\",65,\"RI\",7,65],[\"21F (Iota)\",135,\"MA\",7,135],[\"21F (Iota)\",7,\"DC\",7,7]],\"geo\":\"geo\",\"hovertemplate\":\"<b>%{hovertext}</b><br><br>clade=%{customdata[0]}<br>count=%{customdata[1]}<extra></extra>\",\"hovertext\":[\"RI\",\"MA\",\"DC\"],\"legendgroup\":\"21F (Iota)\",\"locationmode\":\"USA-states\",\"locations\":[\"RI\",\"MA\",\"DC\"],\"marker\":{\"color\":\"rgb(137,208,165)\",\"size\":[65,135,7],\"sizemode\":\"area\",\"sizeref\":1.175,\"symbol\":\"circle\"},\"mode\":\"markers\",\"name\":\"21F (Iota)\",\"showlegend\":true,\"type\":\"scattergeo\"}],\"name\":\"7\"},{\"data\":[{\"customdata\":[[\"20A\",1,\"KS\",8,1],[\"20A\",1,\"SD\",8,1]],\"geo\":\"geo\",\"hovertemplate\":\"<b>%{hovertext}</b><br><br>clade=%{customdata[0]}<br>count=%{customdata[1]}<extra></extra>\",\"hovertext\":[\"KS\",\"SD\"],\"legendgroup\":\"20A\",\"locationmode\":\"USA-states\",\"locations\":[\"KS\",\"SD\"],\"marker\":{\"color\":\"rgb(213,62,79)\",\"size\":[1,1],\"sizemode\":\"area\",\"sizeref\":1.175,\"symbol\":\"circle\"},\"mode\":\"markers\",\"name\":\"20A\",\"showlegend\":true,\"type\":\"scattergeo\"},{\"customdata\":[[\"20B\",9,\"DC\",8,9],[\"20B\",11,\"NM\",8,11],[\"20B\",5,\"UT\",8,5],[\"20B\",83,\"TX\",8,83],[\"20B\",9,\"NV\",8,9],[\"20B\",1,\"KS\",8,1],[\"20B\",1,\"HI\",8,1],[\"20B\",1,\"AL\",8,1],[\"20B\",47,\"AK\",8,47],[\"20B\",6,\"IA\",8,6],[\"20B\",4,\"NE\",8,4]],\"geo\":\"geo\",\"hovertemplate\":\"<b>%{hovertext}</b><br><br>clade=%{customdata[0]}<br>count=%{customdata[1]}<extra></extra>\",\"hovertext\":[\"DC\",\"NM\",\"UT\",\"TX\",\"NV\",\"KS\",\"HI\",\"AL\",\"AK\",\"IA\",\"NE\"],\"legendgroup\":\"20B\",\"locationmode\":\"USA-states\",\"locations\":[\"DC\",\"NM\",\"UT\",\"TX\",\"NV\",\"KS\",\"HI\",\"AL\",\"AK\",\"IA\",\"NE\"],\"marker\":{\"color\":\"rgb(229,86,73)\",\"size\":[9,11,5,83,9,1,1,1,47,6,4],\"sizemode\":\"area\",\"sizeref\":1.175,\"symbol\":\"circle\"},\"mode\":\"markers\",\"name\":\"20B\",\"showlegend\":true,\"type\":\"scattergeo\"},{\"customdata\":[[\"20C\",7,\"VA\",8,7],[\"20C\",3,\"KY\",8,3],[\"20C\",2,\"ND\",8,2]],\"geo\":\"geo\",\"hovertemplate\":\"<b>%{hovertext}</b><br><br>clade=%{customdata[0]}<br>count=%{customdata[1]}<extra></extra>\",\"hovertext\":[\"VA\",\"KY\",\"ND\"],\"legendgroup\":\"20C\",\"locationmode\":\"USA-states\",\"locations\":[\"VA\",\"KY\",\"ND\"],\"marker\":{\"color\":\"rgb(244,109,67)\",\"size\":[7,3,2],\"sizemode\":\"area\",\"sizeref\":1.175,\"symbol\":\"circle\"},\"mode\":\"markers\",\"name\":\"20C\",\"showlegend\":true,\"type\":\"scattergeo\"},{\"customdata\":[[\"20G\",17,\"IN\",8,17],[\"20G\",28,\"OH\",8,28],[\"20G\",5,\"AZ\",8,5],[\"20G\",5,\"WV\",8,5],[\"20G\",20,\"TN\",8,20],[\"20G\",1,\"SD\",8,1],[\"20G\",2,\"MT\",8,2],[\"20G\",6,\"SC\",8,6],[\"20G\",91,\"MI\",8,91],[\"20G\",1,\"KS\",8,1],[\"20G\",70,\"WI\",8,70]],\"geo\":\"geo\",\"hovertemplate\":\"<b>%{hovertext}</b><br><br>clade=%{customdata[0]}<br>count=%{customdata[1]}<extra></extra>\",\"hovertext\":[\"IN\",\"OH\",\"AZ\",\"WV\",\"TN\",\"SD\",\"MT\",\"SC\",\"MI\",\"KS\",\"WI\"],\"legendgroup\":\"20G\",\"locationmode\":\"USA-states\",\"locations\":[\"IN\",\"OH\",\"AZ\",\"WV\",\"TN\",\"SD\",\"MT\",\"SC\",\"MI\",\"KS\",\"WI\"],\"marker\":{\"color\":\"rgb(254,199,118)\",\"size\":[17,28,5,5,20,1,2,6,91,1,70],\"sizemode\":\"area\",\"sizeref\":1.175,\"symbol\":\"circle\"},\"mode\":\"markers\",\"name\":\"20G\",\"showlegend\":true,\"type\":\"scattergeo\"},{\"customdata\":[[\"20J (Gamma, V3)\",124,\"IL\",8,124],[\"20J (Gamma, V3)\",41,\"GA\",8,41],[\"20J (Gamma, V3)\",1,\"HI\",8,1],[\"20J (Gamma, V3)\",1,\"KS\",8,1],[\"20J (Gamma, V3)\",5,\"WA\",8,5]],\"geo\":\"geo\",\"hovertemplate\":\"<b>%{hovertext}</b><br><br>clade=%{customdata[0]}<br>count=%{customdata[1]}<extra></extra>\",\"hovertext\":[\"IL\",\"GA\",\"HI\",\"KS\",\"WA\"],\"legendgroup\":\"20J (Gamma, V3)\",\"locationmode\":\"USA-states\",\"locations\":[\"IL\",\"GA\",\"HI\",\"KS\",\"WA\"],\"marker\":{\"color\":\"rgb(255,255,191)\",\"size\":[124,41,1,1,5],\"sizemode\":\"area\",\"sizeref\":1.175,\"symbol\":\"circle\"},\"mode\":\"markers\",\"name\":\"20J (Gamma, V3)\",\"showlegend\":true,\"type\":\"scattergeo\"},{\"customdata\":[[\"21B (Kappa)\",1,\"OK\",8,1]],\"geo\":\"geo\",\"hovertemplate\":\"<b>%{hovertext}</b><br><br>clade=%{customdata[0]}<br>count=%{customdata[1]}<extra></extra>\",\"hovertext\":[\"OK\"],\"legendgroup\":\"21B (Kappa)\",\"locationmode\":\"USA-states\",\"locations\":[\"OK\"],\"marker\":{\"color\":\"rgb(230,245,152)\",\"size\":[1],\"sizemode\":\"area\",\"sizeref\":1.175,\"symbol\":\"circle\"},\"mode\":\"markers\",\"name\":\"21B (Kappa)\",\"showlegend\":true,\"type\":\"scattergeo\"},{\"customdata\":[[\"21C (Epsilon)\",78,\"CA\",8,78],[\"21C (Epsilon)\",2,\"ID\",8,2],[\"21C (Epsilon)\",70,\"CO\",8,70],[\"21C (Epsilon)\",2,\"ND\",8,2],[\"21C (Epsilon)\",75,\"WY\",8,75],[\"21C (Epsilon)\",70,\"MN\",8,70],[\"21C (Epsilon)\",4,\"AR\",8,4],[\"21C (Epsilon)\",1,\"OK\",8,1],[\"21C (Epsilon)\",33,\"OR\",8,33],[\"21C (Epsilon)\",1,\"HI\",8,1]],\"geo\":\"geo\",\"hovertemplate\":\"<b>%{hovertext}</b><br><br>clade=%{customdata[0]}<br>count=%{customdata[1]}<extra></extra>\",\"hovertext\":[\"CA\",\"ID\",\"CO\",\"ND\",\"WY\",\"MN\",\"AR\",\"OK\",\"OR\",\"HI\"],\"legendgroup\":\"21C (Epsilon)\",\"locationmode\":\"USA-states\",\"locations\":[\"CA\",\"ID\",\"CO\",\"ND\",\"WY\",\"MN\",\"AR\",\"OK\",\"OR\",\"HI\"],\"marker\":{\"color\":\"rgb(201,233,158)\",\"size\":[78,2,70,2,75,70,4,1,33,1],\"sizemode\":\"area\",\"sizeref\":1.175,\"symbol\":\"circle\"},\"mode\":\"markers\",\"name\":\"21C (Epsilon)\",\"showlegend\":true,\"type\":\"scattergeo\"},{\"customdata\":[[\"21F (Iota)\",8,\"LA\",8,8],[\"21F (Iota)\",2,\"DE\",8,2],[\"21F (Iota)\",49,\"MD\",8,49],[\"21F (Iota)\",15,\"PR\",8,15],[\"21F (Iota)\",296,\"PA\",8,296],[\"21F (Iota)\",115,\"MA\",8,115],[\"21F (Iota)\",1092,\"NY\",8,1092],[\"21F (Iota)\",45,\"VT\",8,45],[\"21F (Iota)\",448,\"CT\",8,448],[\"21F (Iota)\",117,\"FL\",8,117],[\"21F (Iota)\",107,\"MO\",8,107],[\"21F (Iota)\",76,\"NC\",8,76],[\"21F (Iota)\",1,\"SD\",8,1],[\"21F (Iota)\",285,\"NJ\",8,285],[\"21F (Iota)\",6,\"ME\",8,6],[\"21F (Iota)\",263,\"RI\",8,263],[\"21F (Iota)\",64,\"NH\",8,64]],\"geo\":\"geo\",\"hovertemplate\":\"<b>%{hovertext}</b><br><br>clade=%{customdata[0]}<br>count=%{customdata[1]}<extra></extra>\",\"hovertext\":[\"LA\",\"DE\",\"MD\",\"PR\",\"PA\",\"MA\",\"NY\",\"VT\",\"CT\",\"FL\",\"MO\",\"NC\",\"SD\",\"NJ\",\"ME\",\"RI\",\"NH\"],\"legendgroup\":\"21F (Iota)\",\"locationmode\":\"USA-states\",\"locations\":[\"LA\",\"DE\",\"MD\",\"PR\",\"PA\",\"MA\",\"NY\",\"VT\",\"CT\",\"FL\",\"MO\",\"NC\",\"SD\",\"NJ\",\"ME\",\"RI\",\"NH\"],\"marker\":{\"color\":\"rgb(137,208,165)\",\"size\":[8,2,49,15,296,115,1092,45,448,117,107,76,1,285,6,263,64],\"sizemode\":\"area\",\"sizeref\":1.175,\"symbol\":\"circle\"},\"mode\":\"markers\",\"name\":\"21F (Iota)\",\"showlegend\":true,\"type\":\"scattergeo\"}],\"name\":\"8\"},{\"data\":[{\"customdata\":[[\"19B\",15,\"GA\",9,15]],\"geo\":\"geo\",\"hovertemplate\":\"<b>%{hovertext}</b><br><br>clade=%{customdata[0]}<br>count=%{customdata[1]}<extra></extra>\",\"hovertext\":[\"GA\"],\"legendgroup\":\"19B\",\"locationmode\":\"USA-states\",\"locations\":[\"GA\"],\"marker\":{\"color\":\"rgb(186,32,73)\",\"size\":[15],\"sizemode\":\"area\",\"sizeref\":1.175,\"symbol\":\"circle\"},\"mode\":\"markers\",\"name\":\"19B\",\"showlegend\":true,\"type\":\"scattergeo\"},{\"customdata\":[[\"20B\",1,\"OK\",9,1],[\"20B\",3,\"KY\",9,3]],\"geo\":\"geo\",\"hovertemplate\":\"<b>%{hovertext}</b><br><br>clade=%{customdata[0]}<br>count=%{customdata[1]}<extra></extra>\",\"hovertext\":[\"OK\",\"KY\"],\"legendgroup\":\"20B\",\"locationmode\":\"USA-states\",\"locations\":[\"OK\",\"KY\"],\"marker\":{\"color\":\"rgb(229,86,73)\",\"size\":[1,3],\"sizemode\":\"area\",\"sizeref\":1.175,\"symbol\":\"circle\"},\"mode\":\"markers\",\"name\":\"20B\",\"showlegend\":true,\"type\":\"scattergeo\"},{\"customdata\":[[\"20C\",1,\"NV\",9,1]],\"geo\":\"geo\",\"hovertemplate\":\"<b>%{hovertext}</b><br><br>clade=%{customdata[0]}<br>count=%{customdata[1]}<extra></extra>\",\"hovertext\":[\"NV\"],\"legendgroup\":\"20C\",\"locationmode\":\"USA-states\",\"locations\":[\"NV\"],\"marker\":{\"color\":\"rgb(244,109,67)\",\"size\":[1],\"sizemode\":\"area\",\"sizeref\":1.175,\"symbol\":\"circle\"},\"mode\":\"markers\",\"name\":\"20C\",\"showlegend\":true,\"type\":\"scattergeo\"},{\"customdata\":[[\"20G\",21,\"AZ\",9,21],[\"20G\",2,\"AL\",9,2]],\"geo\":\"geo\",\"hovertemplate\":\"<b>%{hovertext}</b><br><br>clade=%{customdata[0]}<br>count=%{customdata[1]}<extra></extra>\",\"hovertext\":[\"AZ\",\"AL\"],\"legendgroup\":\"20G\",\"locationmode\":\"USA-states\",\"locations\":[\"AZ\",\"AL\"],\"marker\":{\"color\":\"rgb(254,199,118)\",\"size\":[21,2],\"sizemode\":\"area\",\"sizeref\":1.175,\"symbol\":\"circle\"},\"mode\":\"markers\",\"name\":\"20G\",\"showlegend\":true,\"type\":\"scattergeo\"},{\"customdata\":[[\"20I (Alpha, V1)\",19,\"LA\",9,19]],\"geo\":\"geo\",\"hovertemplate\":\"<b>%{hovertext}</b><br><br>clade=%{customdata[0]}<br>count=%{customdata[1]}<extra></extra>\",\"hovertext\":[\"LA\"],\"legendgroup\":\"20I (Alpha, V1)\",\"locationmode\":\"USA-states\",\"locations\":[\"LA\"],\"marker\":{\"color\":\"rgb(255,240,165)\",\"size\":[19],\"sizemode\":\"area\",\"sizeref\":1.175,\"symbol\":\"circle\"},\"mode\":\"markers\",\"name\":\"20I (Alpha, V1)\",\"showlegend\":true,\"type\":\"scattergeo\"},{\"customdata\":[[\"20J (Gamma, V3)\",187,\"IL\",9,187],[\"20J (Gamma, V3)\",17,\"TX\",9,17],[\"20J (Gamma, V3)\",4,\"ID\",9,4],[\"20J (Gamma, V3)\",1,\"IA\",9,1],[\"20J (Gamma, V3)\",78,\"FL\",9,78],[\"20J (Gamma, V3)\",3,\"TN\",9,3],[\"20J (Gamma, V3)\",1,\"HI\",9,1],[\"20J (Gamma, V3)\",22,\"IN\",9,22],[\"20J (Gamma, V3)\",1525,\"VA\",9,1525],[\"20J (Gamma, V3)\",10,\"WA\",9,10],[\"20J (Gamma, V3)\",72,\"CA\",9,72],[\"20J (Gamma, V3)\",3,\"MT\",9,3],[\"20J (Gamma, V3)\",14,\"OH\",9,14],[\"20J (Gamma, V3)\",2,\"KS\",9,2],[\"20J (Gamma, V3)\",1,\"NE\",9,1]],\"geo\":\"geo\",\"hovertemplate\":\"<b>%{hovertext}</b><br><br>clade=%{customdata[0]}<br>count=%{customdata[1]}<extra></extra>\",\"hovertext\":[\"IL\",\"TX\",\"ID\",\"IA\",\"FL\",\"TN\",\"HI\",\"IN\",\"VA\",\"WA\",\"CA\",\"MT\",\"OH\",\"KS\",\"NE\"],\"legendgroup\":\"20J (Gamma, V3)\",\"locationmode\":\"USA-states\",\"locations\":[\"IL\",\"TX\",\"ID\",\"IA\",\"FL\",\"TN\",\"HI\",\"IN\",\"VA\",\"WA\",\"CA\",\"MT\",\"OH\",\"KS\",\"NE\"],\"marker\":{\"color\":\"rgb(255,255,191)\",\"size\":[187,17,4,1,78,3,1,22,1525,10,72,3,14,2,1],\"sizemode\":\"area\",\"sizeref\":1.175,\"symbol\":\"circle\"},\"mode\":\"markers\",\"name\":\"20J (Gamma, V3)\",\"showlegend\":true,\"type\":\"scattergeo\"},{\"customdata\":[[\"21C (Epsilon)\",12,\"OR\",9,12],[\"21C (Epsilon)\",2,\"UT\",9,2],[\"21C (Epsilon)\",166,\"AK\",9,166]],\"geo\":\"geo\",\"hovertemplate\":\"<b>%{hovertext}</b><br><br>clade=%{customdata[0]}<br>count=%{customdata[1]}<extra></extra>\",\"hovertext\":[\"OR\",\"UT\",\"AK\"],\"legendgroup\":\"21C (Epsilon)\",\"locationmode\":\"USA-states\",\"locations\":[\"OR\",\"UT\",\"AK\"],\"marker\":{\"color\":\"rgb(201,233,158)\",\"size\":[12,2,166],\"sizemode\":\"area\",\"sizeref\":1.175,\"symbol\":\"circle\"},\"mode\":\"markers\",\"name\":\"21C (Epsilon)\",\"showlegend\":true,\"type\":\"scattergeo\"},{\"customdata\":[[\"21F (Iota)\",3,\"MT\",9,3],[\"21F (Iota)\",81,\"PA\",9,81],[\"21F (Iota)\",3,\"PR\",9,3],[\"21F (Iota)\",94,\"RI\",9,94],[\"21F (Iota)\",10,\"SC\",9,10],[\"21F (Iota)\",2,\"DC\",9,2],[\"21F (Iota)\",2,\"MO\",9,2],[\"21F (Iota)\",8,\"NM\",9,8],[\"21F (Iota)\",26,\"MD\",9,26],[\"21F (Iota)\",130,\"MA\",9,130],[\"21F (Iota)\",37,\"NJ\",9,37],[\"21F (Iota)\",2,\"ND\",9,2],[\"21F (Iota)\",19,\"NH\",9,19],[\"21F (Iota)\",13,\"MI\",9,13],[\"21F (Iota)\",1,\"AR\",9,1],[\"21F (Iota)\",78,\"MN\",9,78],[\"21F (Iota)\",60,\"ME\",9,60],[\"21F (Iota)\",6,\"WI\",9,6],[\"21F (Iota)\",12,\"VT\",9,12],[\"21F (Iota)\",455,\"WV\",9,455],[\"21F (Iota)\",49,\"NC\",9,49],[\"21F (Iota)\",28,\"CT\",9,28],[\"21F (Iota)\",28,\"NY\",9,28],[\"21F (Iota)\",149,\"CO\",9,149]],\"geo\":\"geo\",\"hovertemplate\":\"<b>%{hovertext}</b><br><br>clade=%{customdata[0]}<br>count=%{customdata[1]}<extra></extra>\",\"hovertext\":[\"MT\",\"PA\",\"PR\",\"RI\",\"SC\",\"DC\",\"MO\",\"NM\",\"MD\",\"MA\",\"NJ\",\"ND\",\"NH\",\"MI\",\"AR\",\"MN\",\"ME\",\"WI\",\"VT\",\"WV\",\"NC\",\"CT\",\"NY\",\"CO\"],\"legendgroup\":\"21F (Iota)\",\"locationmode\":\"USA-states\",\"locations\":[\"MT\",\"PA\",\"PR\",\"RI\",\"SC\",\"DC\",\"MO\",\"NM\",\"MD\",\"MA\",\"NJ\",\"ND\",\"NH\",\"MI\",\"AR\",\"MN\",\"ME\",\"WI\",\"VT\",\"WV\",\"NC\",\"CT\",\"NY\",\"CO\"],\"marker\":{\"color\":\"rgb(137,208,165)\",\"size\":[3,81,3,94,10,2,2,8,26,130,37,2,19,13,1,78,60,6,12,455,49,28,28,149],\"sizemode\":\"area\",\"sizeref\":1.175,\"symbol\":\"circle\"},\"mode\":\"markers\",\"name\":\"21F (Iota)\",\"showlegend\":true,\"type\":\"scattergeo\"}],\"name\":\"9\"},{\"data\":[{\"customdata\":[[\"20A\",3,\"AL\",10,3]],\"geo\":\"geo\",\"hovertemplate\":\"<b>%{hovertext}</b><br><br>clade=%{customdata[0]}<br>count=%{customdata[1]}<extra></extra>\",\"hovertext\":[\"AL\"],\"legendgroup\":\"20A\",\"locationmode\":\"USA-states\",\"locations\":[\"AL\"],\"marker\":{\"color\":\"rgb(213,62,79)\",\"size\":[3],\"sizemode\":\"area\",\"sizeref\":1.175,\"symbol\":\"circle\"},\"mode\":\"markers\",\"name\":\"20A\",\"showlegend\":true,\"type\":\"scattergeo\"},{\"customdata\":[[\"20B\",42,\"AK\",10,42]],\"geo\":\"geo\",\"hovertemplate\":\"<b>%{hovertext}</b><br><br>clade=%{customdata[0]}<br>count=%{customdata[1]}<extra></extra>\",\"hovertext\":[\"AK\"],\"legendgroup\":\"20B\",\"locationmode\":\"USA-states\",\"locations\":[\"AK\"],\"marker\":{\"color\":\"rgb(229,86,73)\",\"size\":[42],\"sizemode\":\"area\",\"sizeref\":1.175,\"symbol\":\"circle\"},\"mode\":\"markers\",\"name\":\"20B\",\"showlegend\":true,\"type\":\"scattergeo\"},{\"customdata\":[[\"20C\",9,\"AZ\",10,9],[\"20C\",6,\"ME\",10,6],[\"20C\",27,\"ID\",10,27],[\"20C\",1,\"ND\",10,1]],\"geo\":\"geo\",\"hovertemplate\":\"<b>%{hovertext}</b><br><br>clade=%{customdata[0]}<br>count=%{customdata[1]}<extra></extra>\",\"hovertext\":[\"AZ\",\"ME\",\"ID\",\"ND\"],\"legendgroup\":\"20C\",\"locationmode\":\"USA-states\",\"locations\":[\"AZ\",\"ME\",\"ID\",\"ND\"],\"marker\":{\"color\":\"rgb(244,109,67)\",\"size\":[9,6,27,1],\"sizemode\":\"area\",\"sizeref\":1.175,\"symbol\":\"circle\"},\"mode\":\"markers\",\"name\":\"20C\",\"showlegend\":true,\"type\":\"scattergeo\"},{\"customdata\":[[\"20I (Alpha, V1)\",29,\"WV\",10,29],[\"20I (Alpha, V1)\",3,\"UT\",10,3],[\"20I (Alpha, V1)\",38,\"TN\",10,38],[\"20I (Alpha, V1)\",101,\"FL\",10,101],[\"20I (Alpha, V1)\",64,\"WA\",10,64],[\"20I (Alpha, V1)\",93,\"CA\",10,93],[\"20I (Alpha, V1)\",101,\"TX\",10,101],[\"20I (Alpha, V1)\",2918,\"VA\",10,2918],[\"20I (Alpha, V1)\",156,\"CO\",10,156],[\"20I (Alpha, V1)\",66,\"CT\",10,66],[\"20I (Alpha, V1)\",9,\"WI\",10,9],[\"20I (Alpha, V1)\",38,\"GA\",10,38],[\"20I (Alpha, V1)\",1,\"NE\",10,1],[\"20I (Alpha, V1)\",13,\"MD\",10,13],[\"20I (Alpha, V1)\",16,\"OR\",10,16],[\"20I (Alpha, V1)\",12,\"IN\",10,12],[\"20I (Alpha, V1)\",1,\"OK\",10,1],[\"20I (Alpha, V1)\",1,\"MI\",10,1],[\"20I (Alpha, V1)\",105,\"OH\",10,105],[\"20I (Alpha, V1)\",2,\"KY\",10,2],[\"20I (Alpha, V1)\",14,\"NJ\",10,14],[\"20I (Alpha, V1)\",10,\"NV\",10,10],[\"20I (Alpha, V1)\",49,\"LA\",10,49],[\"20I (Alpha, V1)\",18,\"MA\",10,18],[\"20I (Alpha, V1)\",72,\"MN\",10,72],[\"20I (Alpha, V1)\",117,\"IL\",10,117],[\"20I (Alpha, V1)\",13,\"NM\",10,13],[\"20I (Alpha, V1)\",7,\"MS\",10,7],[\"20I (Alpha, V1)\",2,\"SD\",10,2],[\"20I (Alpha, V1)\",19,\"MT\",10,19],[\"20I (Alpha, V1)\",1,\"HI\",10,1],[\"20I (Alpha, V1)\",43,\"NC\",10,43],[\"20I (Alpha, V1)\",46,\"MO\",10,46],[\"20I (Alpha, V1)\",129,\"SC\",10,129]],\"geo\":\"geo\",\"hovertemplate\":\"<b>%{hovertext}</b><br><br>clade=%{customdata[0]}<br>count=%{customdata[1]}<extra></extra>\",\"hovertext\":[\"WV\",\"UT\",\"TN\",\"FL\",\"WA\",\"CA\",\"TX\",\"VA\",\"CO\",\"CT\",\"WI\",\"GA\",\"NE\",\"MD\",\"OR\",\"IN\",\"OK\",\"MI\",\"OH\",\"KY\",\"NJ\",\"NV\",\"LA\",\"MA\",\"MN\",\"IL\",\"NM\",\"MS\",\"SD\",\"MT\",\"HI\",\"NC\",\"MO\",\"SC\"],\"legendgroup\":\"20I (Alpha, V1)\",\"locationmode\":\"USA-states\",\"locations\":[\"WV\",\"UT\",\"TN\",\"FL\",\"WA\",\"CA\",\"TX\",\"VA\",\"CO\",\"CT\",\"WI\",\"GA\",\"NE\",\"MD\",\"OR\",\"IN\",\"OK\",\"MI\",\"OH\",\"KY\",\"NJ\",\"NV\",\"LA\",\"MA\",\"MN\",\"IL\",\"NM\",\"MS\",\"SD\",\"MT\",\"HI\",\"NC\",\"MO\",\"SC\"],\"marker\":{\"color\":\"rgb(255,240,165)\",\"size\":[29,3,38,101,64,93,101,2918,156,66,9,38,1,13,16,12,1,1,105,2,14,10,49,18,72,117,13,7,2,19,1,43,46,129],\"sizemode\":\"area\",\"sizeref\":1.175,\"symbol\":\"circle\"},\"mode\":\"markers\",\"name\":\"20I (Alpha, V1)\",\"showlegend\":true,\"type\":\"scattergeo\"},{\"customdata\":[[\"20J (Gamma, V3)\",23,\"PA\",10,23],[\"20J (Gamma, V3)\",6,\"NY\",10,6],[\"20J (Gamma, V3)\",55,\"IA\",10,55]],\"geo\":\"geo\",\"hovertemplate\":\"<b>%{hovertext}</b><br><br>clade=%{customdata[0]}<br>count=%{customdata[1]}<extra></extra>\",\"hovertext\":[\"PA\",\"NY\",\"IA\"],\"legendgroup\":\"20J (Gamma, V3)\",\"locationmode\":\"USA-states\",\"locations\":[\"PA\",\"NY\",\"IA\"],\"marker\":{\"color\":\"rgb(255,255,191)\",\"size\":[23,6,55],\"sizemode\":\"area\",\"sizeref\":1.175,\"symbol\":\"circle\"},\"mode\":\"markers\",\"name\":\"20J (Gamma, V3)\",\"showlegend\":true,\"type\":\"scattergeo\"},{\"customdata\":[[\"21F (Iota)\",5,\"AR\",10,5],[\"21F (Iota)\",3,\"UT\",10,3],[\"21F (Iota)\",34,\"WY\",10,34],[\"21F (Iota)\",1,\"MI\",10,1],[\"21F (Iota)\",3,\"NH\",10,3],[\"21F (Iota)\",2,\"KY\",10,2],[\"21F (Iota)\",3,\"PR\",10,3],[\"21F (Iota)\",82,\"RI\",10,82]],\"geo\":\"geo\",\"hovertemplate\":\"<b>%{hovertext}</b><br><br>clade=%{customdata[0]}<br>count=%{customdata[1]}<extra></extra>\",\"hovertext\":[\"AR\",\"UT\",\"WY\",\"MI\",\"NH\",\"KY\",\"PR\",\"RI\"],\"legendgroup\":\"21F (Iota)\",\"locationmode\":\"USA-states\",\"locations\":[\"AR\",\"UT\",\"WY\",\"MI\",\"NH\",\"KY\",\"PR\",\"RI\"],\"marker\":{\"color\":\"rgb(137,208,165)\",\"size\":[5,3,34,1,3,2,3,82],\"sizemode\":\"area\",\"sizeref\":1.175,\"symbol\":\"circle\"},\"mode\":\"markers\",\"name\":\"21F (Iota)\",\"showlegend\":true,\"type\":\"scattergeo\"}],\"name\":\"10\"},{\"data\":[{\"customdata\":[[\"20A\",3,\"MN\",11,3],[\"20A\",1,\"OK\",11,1]],\"geo\":\"geo\",\"hovertemplate\":\"<b>%{hovertext}</b><br><br>clade=%{customdata[0]}<br>count=%{customdata[1]}<extra></extra>\",\"hovertext\":[\"MN\",\"OK\"],\"legendgroup\":\"20A\",\"locationmode\":\"USA-states\",\"locations\":[\"MN\",\"OK\"],\"marker\":{\"color\":\"rgb(213,62,79)\",\"size\":[3,1],\"sizemode\":\"area\",\"sizeref\":1.175,\"symbol\":\"circle\"},\"mode\":\"markers\",\"name\":\"20A\",\"showlegend\":true,\"type\":\"scattergeo\"},{\"customdata\":[[\"20C\",4,\"RI\",11,4],[\"20C\",4,\"PR\",11,4],[\"20C\",30,\"MA\",11,30]],\"geo\":\"geo\",\"hovertemplate\":\"<b>%{hovertext}</b><br><br>clade=%{customdata[0]}<br>count=%{customdata[1]}<extra></extra>\",\"hovertext\":[\"RI\",\"PR\",\"MA\"],\"legendgroup\":\"20C\",\"locationmode\":\"USA-states\",\"locations\":[\"RI\",\"PR\",\"MA\"],\"marker\":{\"color\":\"rgb(244,109,67)\",\"size\":[4,4,30],\"sizemode\":\"area\",\"sizeref\":1.175,\"symbol\":\"circle\"},\"mode\":\"markers\",\"name\":\"20C\",\"showlegend\":true,\"type\":\"scattergeo\"},{\"customdata\":[[\"20D\",7,\"MI\",11,7]],\"geo\":\"geo\",\"hovertemplate\":\"<b>%{hovertext}</b><br><br>clade=%{customdata[0]}<br>count=%{customdata[1]}<extra></extra>\",\"hovertext\":[\"MI\"],\"legendgroup\":\"20D\",\"locationmode\":\"USA-states\",\"locations\":[\"MI\"],\"marker\":{\"color\":\"rgb(249,142,82)\",\"size\":[7],\"sizemode\":\"area\",\"sizeref\":1.175,\"symbol\":\"circle\"},\"mode\":\"markers\",\"name\":\"20D\",\"showlegend\":true,\"type\":\"scattergeo\"},{\"customdata\":[[\"20I (Alpha, V1)\",41,\"WA\",11,41],[\"20I (Alpha, V1)\",6,\"MS\",11,6],[\"20I (Alpha, V1)\",43,\"MD\",11,43],[\"20I (Alpha, V1)\",25,\"NC\",11,25],[\"20I (Alpha, V1)\",24,\"WV\",11,24],[\"20I (Alpha, V1)\",4,\"NH\",11,4],[\"20I (Alpha, V1)\",18,\"AR\",11,18],[\"20I (Alpha, V1)\",3,\"MO\",11,3],[\"20I (Alpha, V1)\",2,\"ND\",11,2],[\"20I (Alpha, V1)\",8,\"AK\",11,8],[\"20I (Alpha, V1)\",3,\"NE\",11,3],[\"20I (Alpha, V1)\",2,\"SD\",11,2],[\"20I (Alpha, V1)\",968,\"NM\",11,968],[\"20I (Alpha, V1)\",7,\"GU\",11,7],[\"20I (Alpha, V1)\",11,\"SC\",11,11],[\"20I (Alpha, V1)\",17,\"TN\",11,17],[\"20I (Alpha, V1)\",1,\"DE\",11,1],[\"20I (Alpha, V1)\",15,\"PA\",11,15],[\"20I (Alpha, V1)\",4,\"ID\",11,4],[\"20I (Alpha, V1)\",40,\"OR\",11,40],[\"20I (Alpha, V1)\",1,\"OK\",11,1],[\"20I (Alpha, V1)\",5,\"IN\",11,5],[\"20I (Alpha, V1)\",19,\"CO\",11,19],[\"20I (Alpha, V1)\",4,\"KS\",11,4],[\"20I (Alpha, V1)\",9,\"VA\",11,9],[\"20I (Alpha, V1)\",27,\"GA\",11,27],[\"20I (Alpha, V1)\",20,\"NV\",11,20],[\"20I (Alpha, V1)\",1,\"CT\",11,1],[\"20I (Alpha, V1)\",10,\"KY\",11,10]],\"geo\":\"geo\",\"hovertemplate\":\"<b>%{hovertext}</b><br><br>clade=%{customdata[0]}<br>count=%{customdata[1]}<extra></extra>\",\"hovertext\":[\"WA\",\"MS\",\"MD\",\"NC\",\"WV\",\"NH\",\"AR\",\"MO\",\"ND\",\"AK\",\"NE\",\"SD\",\"NM\",\"GU\",\"SC\",\"TN\",\"DE\",\"PA\",\"ID\",\"OR\",\"OK\",\"IN\",\"CO\",\"KS\",\"VA\",\"GA\",\"NV\",\"CT\",\"KY\"],\"legendgroup\":\"20I (Alpha, V1)\",\"locationmode\":\"USA-states\",\"locations\":[\"WA\",\"MS\",\"MD\",\"NC\",\"WV\",\"NH\",\"AR\",\"MO\",\"ND\",\"AK\",\"NE\",\"SD\",\"NM\",\"GU\",\"SC\",\"TN\",\"DE\",\"PA\",\"ID\",\"OR\",\"OK\",\"IN\",\"CO\",\"KS\",\"VA\",\"GA\",\"NV\",\"CT\",\"KY\"],\"marker\":{\"color\":\"rgb(255,240,165)\",\"size\":[41,6,43,25,24,4,18,3,2,8,3,2,968,7,11,17,1,15,4,40,1,5,19,4,9,27,20,1,10],\"sizemode\":\"area\",\"sizeref\":1.175,\"symbol\":\"circle\"},\"mode\":\"markers\",\"name\":\"20I (Alpha, V1)\",\"showlegend\":true,\"type\":\"scattergeo\"},{\"customdata\":[[\"20J (Gamma, V3)\",3,\"WI\",11,3],[\"20J (Gamma, V3)\",4,\"HI\",11,4],[\"20J (Gamma, V3)\",9,\"IL\",11,9],[\"20J (Gamma, V3)\",6,\"AZ\",11,6],[\"20J (Gamma, V3)\",1,\"CT\",11,1],[\"20J (Gamma, V3)\",446,\"CA\",11,446]],\"geo\":\"geo\",\"hovertemplate\":\"<b>%{hovertext}</b><br><br>clade=%{customdata[0]}<br>count=%{customdata[1]}<extra></extra>\",\"hovertext\":[\"WI\",\"HI\",\"IL\",\"AZ\",\"CT\",\"CA\"],\"legendgroup\":\"20J (Gamma, V3)\",\"locationmode\":\"USA-states\",\"locations\":[\"WI\",\"HI\",\"IL\",\"AZ\",\"CT\",\"CA\"],\"marker\":{\"color\":\"rgb(255,255,191)\",\"size\":[3,4,9,6,1,446],\"sizemode\":\"area\",\"sizeref\":1.175,\"symbol\":\"circle\"},\"mode\":\"markers\",\"name\":\"20J (Gamma, V3)\",\"showlegend\":true,\"type\":\"scattergeo\"},{\"customdata\":[[\"21A (Delta)\",753,\"NJ\",11,753],[\"21A (Delta)\",31,\"AL\",11,31],[\"21A (Delta)\",559,\"FL\",11,559],[\"21A (Delta)\",126,\"TX\",11,126],[\"21A (Delta)\",1,\"CT\",11,1],[\"21A (Delta)\",3,\"UT\",11,3],[\"21A (Delta)\",29,\"OH\",11,29],[\"21A (Delta)\",13,\"NY\",11,13]],\"geo\":\"geo\",\"hovertemplate\":\"<b>%{hovertext}</b><br><br>clade=%{customdata[0]}<br>count=%{customdata[1]}<extra></extra>\",\"hovertext\":[\"NJ\",\"AL\",\"FL\",\"TX\",\"CT\",\"UT\",\"OH\",\"NY\"],\"legendgroup\":\"21A (Delta)\",\"locationmode\":\"USA-states\",\"locations\":[\"NJ\",\"AL\",\"FL\",\"TX\",\"CT\",\"UT\",\"OH\",\"NY\"],\"marker\":{\"color\":\"rgb(243,250,172)\",\"size\":[753,31,559,126,1,3,29,13],\"sizemode\":\"area\",\"sizeref\":1.175,\"symbol\":\"circle\"},\"mode\":\"markers\",\"name\":\"21A (Delta)\",\"showlegend\":true,\"type\":\"scattergeo\"},{\"customdata\":[[\"21F (Iota)\",2,\"ND\",11,2]],\"geo\":\"geo\",\"hovertemplate\":\"<b>%{hovertext}</b><br><br>clade=%{customdata[0]}<br>count=%{customdata[1]}<extra></extra>\",\"hovertext\":[\"ND\"],\"legendgroup\":\"21F (Iota)\",\"locationmode\":\"USA-states\",\"locations\":[\"ND\"],\"marker\":{\"color\":\"rgb(137,208,165)\",\"size\":[2],\"sizemode\":\"area\",\"sizeref\":1.175,\"symbol\":\"circle\"},\"mode\":\"markers\",\"name\":\"21F (Iota)\",\"showlegend\":true,\"type\":\"scattergeo\"},{\"customdata\":[[\"21G (Lambda)\",7,\"MI\",11,7]],\"geo\":\"geo\",\"hovertemplate\":\"<b>%{hovertext}</b><br><br>clade=%{customdata[0]}<br>count=%{customdata[1]}<extra></extra>\",\"hovertext\":[\"MI\"],\"legendgroup\":\"21G (Lambda)\",\"locationmode\":\"USA-states\",\"locations\":[\"MI\"],\"marker\":{\"color\":\"rgb(102,194,165)\",\"size\":[7],\"sizemode\":\"area\",\"sizeref\":1.175,\"symbol\":\"circle\"},\"mode\":\"markers\",\"name\":\"21G (Lambda)\",\"showlegend\":true,\"type\":\"scattergeo\"},{\"customdata\":[[\"21J (Delta)\",282,\"LA\",11,282]],\"geo\":\"geo\",\"hovertemplate\":\"<b>%{hovertext}</b><br><br>clade=%{customdata[0]}<br>count=%{customdata[1]}<extra></extra>\",\"hovertext\":[\"LA\"],\"legendgroup\":\"21J (Delta)\",\"locationmode\":\"USA-states\",\"locations\":[\"LA\"],\"marker\":{\"color\":\"rgb(72,108,176)\",\"size\":[282],\"sizemode\":\"area\",\"sizeref\":1.175,\"symbol\":\"circle\"},\"mode\":\"markers\",\"name\":\"21J (Delta)\",\"showlegend\":true,\"type\":\"scattergeo\"}],\"name\":\"11\"}]);\n",
       "                        }).then(function(){\n",
       "                            \n",
       "var gd = document.getElementById('931e86e2-9c18-44c7-aff9-753b0f7da2fb');\n",
       "var x = new MutationObserver(function (mutations, observer) {{\n",
       "        var display = window.getComputedStyle(gd).display;\n",
       "        if (!display || display === 'none') {{\n",
       "            console.log([gd, 'removed!']);\n",
       "            Plotly.purge(gd);\n",
       "            observer.disconnect();\n",
       "        }}\n",
       "}});\n",
       "\n",
       "// Listen for the removal of the full notebook cells\n",
       "var notebookContainer = gd.closest('#notebook-container');\n",
       "if (notebookContainer) {{\n",
       "    x.observe(notebookContainer, {childList: true});\n",
       "}}\n",
       "\n",
       "// Listen for the clearing of the current output cell\n",
       "var outputEl = gd.closest('.output');\n",
       "if (outputEl) {{\n",
       "    x.observe(outputEl, {childList: true});\n",
       "}}\n",
       "\n",
       "                        })                };                });            </script>        </div>"
      ]
     },
     "metadata": {},
     "output_type": "display_data"
    }
   ],
   "source": [
    "plot_top_clade_bubble(save = \"regular\")"
   ]
  },
  {
   "cell_type": "markdown",
   "id": "0c7f4f56",
   "metadata": {},
   "source": [
    "add per capita - count per 100,000 for sizing the dot"
   ]
  },
  {
   "cell_type": "code",
   "execution_count": 7,
   "id": "e096a001",
   "metadata": {},
   "outputs": [],
   "source": [
    "population_df = pd.read_csv(os.path.join(project_folder, \"data\", \"population\", \"clean_state_population.csv\"))\n",
    "# make population dictionary with postal code key and population as the value\n",
    "population_dictionary = {state:pop for (state, pop) in zip(population_df['Postal Code'], population_df['Population'])}"
   ]
  },
  {
   "cell_type": "code",
   "execution_count": 12,
   "id": "bfbbf578",
   "metadata": {},
   "outputs": [
    {
     "data": {
      "application/vnd.plotly.v1+json": {
       "config": {
        "plotlyServerURL": "https://plot.ly"
       },
       "data": [
        {
         "customdata": [
          [
           "19A",
           10,
           "CA",
           1,
           0.02529198138216783
          ]
         ],
         "geo": "geo",
         "hovertemplate": "<b>%{hovertext}</b><br><br>clade=%{customdata[0]}<br>per_capita=%{customdata[4]}<br>count=%{customdata[1]}<extra></extra>",
         "hovertext": [
          "CA"
         ],
         "legendgroup": "19A",
         "locationmode": "USA-states",
         "locations": [
          "CA"
         ],
         "marker": {
          "color": "rgb(158,1,66)",
          "size": [
           0.02529198138216783
          ],
          "sizemode": "area",
          "sizeref": 0.012698280768222898,
          "symbol": "circle"
         },
         "mode": "markers",
         "name": "19A",
         "showlegend": true,
         "type": "scattergeo"
        },
        {
         "customdata": [
          [
           "19B",
           2,
           "AZ",
           1,
           0.027966153124196844
          ],
          [
           "19B",
           1444,
           "WA",
           1,
           18.740393763705697
          ],
          [
           "19B",
           1,
           "CO",
           1,
           0.017319874174578097
          ],
          [
           "19B",
           2,
           "FL",
           1,
           0.009285832646916846
          ],
          [
           "19B",
           12,
           "UT",
           1,
           0.36679121266065456
          ],
          [
           "19B",
           2,
           "NV",
           1,
           0.06442024676819727
          ]
         ],
         "geo": "geo",
         "hovertemplate": "<b>%{hovertext}</b><br><br>clade=%{customdata[0]}<br>per_capita=%{customdata[4]}<br>count=%{customdata[1]}<extra></extra>",
         "hovertext": [
          "AZ",
          "WA",
          "CO",
          "FL",
          "UT",
          "NV"
         ],
         "legendgroup": "19B",
         "locationmode": "USA-states",
         "locations": [
          "AZ",
          "WA",
          "CO",
          "FL",
          "UT",
          "NV"
         ],
         "marker": {
          "color": "rgb(186,32,73)",
          "size": [
           0.027966153124196844,
           18.740393763705697,
           0.017319874174578097,
           0.009285832646916846,
           0.36679121266065456,
           0.06442024676819727
          ],
          "sizemode": "area",
          "sizeref": 0.012698280768222898,
          "symbol": "circle"
         },
         "mode": "markers",
         "name": "19B",
         "showlegend": true,
         "type": "scattergeo"
        },
        {
         "customdata": [
          [
           "20A",
           6,
           "WI",
           1,
           0.10180330989708025
          ],
          [
           "20A",
           9,
           "IN",
           1,
           0.13263522013320114
          ],
          [
           "20A",
           5,
           "IA",
           1,
           0.1567216832911804
          ],
          [
           "20A",
           4,
           "MA",
           1,
           0.05689967605591929
          ],
          [
           "20A",
           3,
           "VA",
           1,
           0.03475684631669535
          ],
          [
           "20A",
           3,
           "ME",
           1,
           0.22020627455758726
          ],
          [
           "20A",
           1,
           "MD",
           1,
           0.0161885015016454
          ]
         ],
         "geo": "geo",
         "hovertemplate": "<b>%{hovertext}</b><br><br>clade=%{customdata[0]}<br>per_capita=%{customdata[4]}<br>count=%{customdata[1]}<extra></extra>",
         "hovertext": [
          "WI",
          "IN",
          "IA",
          "MA",
          "VA",
          "ME",
          "MD"
         ],
         "legendgroup": "20A",
         "locationmode": "USA-states",
         "locations": [
          "WI",
          "IN",
          "IA",
          "MA",
          "VA",
          "ME",
          "MD"
         ],
         "marker": {
          "color": "rgb(213,62,79)",
          "size": [
           0.10180330989708025,
           0.13263522013320114,
           0.1567216832911804,
           0.05689967605591929,
           0.03475684631669535,
           0.22020627455758726,
           0.0161885015016454
          ],
          "sizemode": "area",
          "sizeref": 0.012698280768222898,
          "symbol": "circle"
         },
         "mode": "markers",
         "name": "20A",
         "showlegend": true,
         "type": "scattergeo"
        },
        {
         "customdata": [
          [
           "20B",
           2,
           "GA",
           1,
           0.018670810092842473
          ]
         ],
         "geo": "geo",
         "hovertemplate": "<b>%{hovertext}</b><br><br>clade=%{customdata[0]}<br>per_capita=%{customdata[4]}<br>count=%{customdata[1]}<extra></extra>",
         "hovertext": [
          "GA"
         ],
         "legendgroup": "20B",
         "locationmode": "USA-states",
         "locations": [
          "GA"
         ],
         "marker": {
          "color": "rgb(229,86,73)",
          "size": [
           0.018670810092842473
          ],
          "sizemode": "area",
          "sizeref": 0.012698280768222898,
          "symbol": "circle"
         },
         "mode": "markers",
         "name": "20B",
         "showlegend": true,
         "type": "scattergeo"
        },
        {
         "customdata": [
          [
           "20C",
           1,
           "LA",
           1,
           0.021469561421946226
          ],
          [
           "20C",
           1,
           "PA",
           1,
           0.007690710390918809
          ],
          [
           "20C",
           23,
           "NY",
           1,
           0.11385434633274406
          ],
          [
           "20C",
           1,
           "ID",
           1,
           0.054374244877674255
          ],
          [
           "20C",
           1,
           "TX",
           1,
           0.003431060810234717
          ],
          [
           "20C",
           2,
           "CT",
           1,
           0.05546397836461132
          ],
          [
           "20C",
           8,
           "MN",
           1,
           0.1401911576530178
          ],
          [
           "20C",
           9,
           "MI",
           1,
           0.0893093617744619
          ],
          [
           "20C",
           1,
           "MD",
           1,
           0.0161885015016454
          ]
         ],
         "geo": "geo",
         "hovertemplate": "<b>%{hovertext}</b><br><br>clade=%{customdata[0]}<br>per_capita=%{customdata[4]}<br>count=%{customdata[1]}<extra></extra>",
         "hovertext": [
          "LA",
          "PA",
          "NY",
          "ID",
          "TX",
          "CT",
          "MN",
          "MI",
          "MD"
         ],
         "legendgroup": "20C",
         "locationmode": "USA-states",
         "locations": [
          "LA",
          "PA",
          "NY",
          "ID",
          "TX",
          "CT",
          "MN",
          "MI",
          "MD"
         ],
         "marker": {
          "color": "rgb(244,109,67)",
          "size": [
           0.021469561421946226,
           0.007690710390918809,
           0.11385434633274406,
           0.054374244877674255,
           0.003431060810234717,
           0.05546397836461132,
           0.1401911576530178,
           0.0893093617744619,
           0.0161885015016454
          ],
          "sizemode": "area",
          "sizeref": 0.012698280768222898,
          "symbol": "circle"
         },
         "mode": "markers",
         "name": "20C",
         "showlegend": true,
         "type": "scattergeo"
        }
       ],
       "frames": [
        {
         "data": [
          {
           "customdata": [
            [
             "19A",
             10,
             "CA",
             1,
             0.02529198138216783
            ]
           ],
           "geo": "geo",
           "hovertemplate": "<b>%{hovertext}</b><br><br>clade=%{customdata[0]}<br>per_capita=%{customdata[4]}<br>count=%{customdata[1]}<extra></extra>",
           "hovertext": [
            "CA"
           ],
           "legendgroup": "19A",
           "locationmode": "USA-states",
           "locations": [
            "CA"
           ],
           "marker": {
            "color": "rgb(158,1,66)",
            "size": [
             0.02529198138216783
            ],
            "sizemode": "area",
            "sizeref": 0.012698280768222898,
            "symbol": "circle"
           },
           "mode": "markers",
           "name": "19A",
           "showlegend": true,
           "type": "scattergeo"
          },
          {
           "customdata": [
            [
             "19B",
             2,
             "AZ",
             1,
             0.027966153124196844
            ],
            [
             "19B",
             1444,
             "WA",
             1,
             18.740393763705697
            ],
            [
             "19B",
             1,
             "CO",
             1,
             0.017319874174578097
            ],
            [
             "19B",
             2,
             "FL",
             1,
             0.009285832646916846
            ],
            [
             "19B",
             12,
             "UT",
             1,
             0.36679121266065456
            ],
            [
             "19B",
             2,
             "NV",
             1,
             0.06442024676819727
            ]
           ],
           "geo": "geo",
           "hovertemplate": "<b>%{hovertext}</b><br><br>clade=%{customdata[0]}<br>per_capita=%{customdata[4]}<br>count=%{customdata[1]}<extra></extra>",
           "hovertext": [
            "AZ",
            "WA",
            "CO",
            "FL",
            "UT",
            "NV"
           ],
           "legendgroup": "19B",
           "locationmode": "USA-states",
           "locations": [
            "AZ",
            "WA",
            "CO",
            "FL",
            "UT",
            "NV"
           ],
           "marker": {
            "color": "rgb(186,32,73)",
            "size": [
             0.027966153124196844,
             18.740393763705697,
             0.017319874174578097,
             0.009285832646916846,
             0.36679121266065456,
             0.06442024676819727
            ],
            "sizemode": "area",
            "sizeref": 0.012698280768222898,
            "symbol": "circle"
           },
           "mode": "markers",
           "name": "19B",
           "showlegend": true,
           "type": "scattergeo"
          },
          {
           "customdata": [
            [
             "20A",
             6,
             "WI",
             1,
             0.10180330989708025
            ],
            [
             "20A",
             9,
             "IN",
             1,
             0.13263522013320114
            ],
            [
             "20A",
             5,
             "IA",
             1,
             0.1567216832911804
            ],
            [
             "20A",
             4,
             "MA",
             1,
             0.05689967605591929
            ],
            [
             "20A",
             3,
             "VA",
             1,
             0.03475684631669535
            ],
            [
             "20A",
             3,
             "ME",
             1,
             0.22020627455758726
            ],
            [
             "20A",
             1,
             "MD",
             1,
             0.0161885015016454
            ]
           ],
           "geo": "geo",
           "hovertemplate": "<b>%{hovertext}</b><br><br>clade=%{customdata[0]}<br>per_capita=%{customdata[4]}<br>count=%{customdata[1]}<extra></extra>",
           "hovertext": [
            "WI",
            "IN",
            "IA",
            "MA",
            "VA",
            "ME",
            "MD"
           ],
           "legendgroup": "20A",
           "locationmode": "USA-states",
           "locations": [
            "WI",
            "IN",
            "IA",
            "MA",
            "VA",
            "ME",
            "MD"
           ],
           "marker": {
            "color": "rgb(213,62,79)",
            "size": [
             0.10180330989708025,
             0.13263522013320114,
             0.1567216832911804,
             0.05689967605591929,
             0.03475684631669535,
             0.22020627455758726,
             0.0161885015016454
            ],
            "sizemode": "area",
            "sizeref": 0.012698280768222898,
            "symbol": "circle"
           },
           "mode": "markers",
           "name": "20A",
           "showlegend": true,
           "type": "scattergeo"
          },
          {
           "customdata": [
            [
             "20B",
             2,
             "GA",
             1,
             0.018670810092842473
            ]
           ],
           "geo": "geo",
           "hovertemplate": "<b>%{hovertext}</b><br><br>clade=%{customdata[0]}<br>per_capita=%{customdata[4]}<br>count=%{customdata[1]}<extra></extra>",
           "hovertext": [
            "GA"
           ],
           "legendgroup": "20B",
           "locationmode": "USA-states",
           "locations": [
            "GA"
           ],
           "marker": {
            "color": "rgb(229,86,73)",
            "size": [
             0.018670810092842473
            ],
            "sizemode": "area",
            "sizeref": 0.012698280768222898,
            "symbol": "circle"
           },
           "mode": "markers",
           "name": "20B",
           "showlegend": true,
           "type": "scattergeo"
          },
          {
           "customdata": [
            [
             "20C",
             1,
             "LA",
             1,
             0.021469561421946226
            ],
            [
             "20C",
             1,
             "PA",
             1,
             0.007690710390918809
            ],
            [
             "20C",
             23,
             "NY",
             1,
             0.11385434633274406
            ],
            [
             "20C",
             1,
             "ID",
             1,
             0.054374244877674255
            ],
            [
             "20C",
             1,
             "TX",
             1,
             0.003431060810234717
            ],
            [
             "20C",
             2,
             "CT",
             1,
             0.05546397836461132
            ],
            [
             "20C",
             8,
             "MN",
             1,
             0.1401911576530178
            ],
            [
             "20C",
             9,
             "MI",
             1,
             0.0893093617744619
            ],
            [
             "20C",
             1,
             "MD",
             1,
             0.0161885015016454
            ]
           ],
           "geo": "geo",
           "hovertemplate": "<b>%{hovertext}</b><br><br>clade=%{customdata[0]}<br>per_capita=%{customdata[4]}<br>count=%{customdata[1]}<extra></extra>",
           "hovertext": [
            "LA",
            "PA",
            "NY",
            "ID",
            "TX",
            "CT",
            "MN",
            "MI",
            "MD"
           ],
           "legendgroup": "20C",
           "locationmode": "USA-states",
           "locations": [
            "LA",
            "PA",
            "NY",
            "ID",
            "TX",
            "CT",
            "MN",
            "MI",
            "MD"
           ],
           "marker": {
            "color": "rgb(244,109,67)",
            "size": [
             0.021469561421946226,
             0.007690710390918809,
             0.11385434633274406,
             0.054374244877674255,
             0.003431060810234717,
             0.05546397836461132,
             0.1401911576530178,
             0.0893093617744619,
             0.0161885015016454
            ],
            "sizemode": "area",
            "sizeref": 0.012698280768222898,
            "symbol": "circle"
           },
           "mode": "markers",
           "name": "20C",
           "showlegend": true,
           "type": "scattergeo"
          }
         ],
         "name": "1"
        },
        {
         "data": [
          {
           "customdata": [
            [
             "19A",
             3,
             "MD",
             2,
             0.04856550450493619
            ]
           ],
           "geo": "geo",
           "hovertemplate": "<b>%{hovertext}</b><br><br>clade=%{customdata[0]}<br>per_capita=%{customdata[4]}<br>count=%{customdata[1]}<extra></extra>",
           "hovertext": [
            "MD"
           ],
           "legendgroup": "19A",
           "locationmode": "USA-states",
           "locations": [
            "MD"
           ],
           "marker": {
            "color": "rgb(158,1,66)",
            "size": [
             0.04856550450493619
            ],
            "sizemode": "area",
            "sizeref": 0.012698280768222898,
            "symbol": "circle"
           },
           "mode": "markers",
           "name": "19A",
           "showlegend": true,
           "type": "scattergeo"
          },
          {
           "customdata": [
            [
             "19B",
             1172,
             "WA",
             2,
             15.210347292979971
            ]
           ],
           "geo": "geo",
           "hovertemplate": "<b>%{hovertext}</b><br><br>clade=%{customdata[0]}<br>per_capita=%{customdata[4]}<br>count=%{customdata[1]}<extra></extra>",
           "hovertext": [
            "WA"
           ],
           "legendgroup": "19B",
           "locationmode": "USA-states",
           "locations": [
            "WA"
           ],
           "marker": {
            "color": "rgb(186,32,73)",
            "size": [
             15.210347292979971
            ],
            "sizemode": "area",
            "sizeref": 0.012698280768222898,
            "symbol": "circle"
           },
           "mode": "markers",
           "name": "19B",
           "showlegend": true,
           "type": "scattergeo"
          },
          {
           "customdata": [
            [
             "20A",
             15,
             "FL",
             2,
             0.06964374485187634
            ],
            [
             "20A",
             2,
             "CT",
             2,
             0.05546397836461132
            ],
            [
             "20A",
             1,
             "NM",
             2,
             0.04722501112149012
            ],
            [
             "20A",
             21,
             "AK",
             2,
             2.8634111953923624
            ],
            [
             "20A",
             85,
             "MA",
             2,
             1.209118116188285
            ],
            [
             "20A",
             5,
             "WI",
             2,
             0.0848360915809002
            ]
           ],
           "geo": "geo",
           "hovertemplate": "<b>%{hovertext}</b><br><br>clade=%{customdata[0]}<br>per_capita=%{customdata[4]}<br>count=%{customdata[1]}<extra></extra>",
           "hovertext": [
            "FL",
            "CT",
            "NM",
            "AK",
            "MA",
            "WI"
           ],
           "legendgroup": "20A",
           "locationmode": "USA-states",
           "locations": [
            "FL",
            "CT",
            "NM",
            "AK",
            "MA",
            "WI"
           ],
           "marker": {
            "color": "rgb(213,62,79)",
            "size": [
             0.06964374485187634,
             0.05546397836461132,
             0.04722501112149012,
             2.8634111953923624,
             1.209118116188285,
             0.0848360915809002
            ],
            "sizemode": "area",
            "sizeref": 0.012698280768222898,
            "symbol": "circle"
           },
           "mode": "markers",
           "name": "20A",
           "showlegend": true,
           "type": "scattergeo"
          },
          {
           "customdata": [
            [
             "20C",
             18,
             "MN",
             2,
             0.31543010471929
            ],
            [
             "20C",
             1,
             "TX",
             2,
             0.003431060810234717
            ],
            [
             "20C",
             1,
             "PR",
             2,
             0.030433303285518555
            ],
            [
             "20C",
             1,
             "TN",
             2,
             0.014470021010470506
            ],
            [
             "20C",
             61,
             "MI",
             2,
             0.605319007582464
            ],
            [
             "20C",
             2,
             "ND",
             2,
             0.25670843312873676
            ],
            [
             "20C",
             1,
             "ME",
             2,
             0.07340209151919574
            ],
            [
             "20C",
             1,
             "ID",
             2,
             0.054374244877674255
            ],
            [
             "20C",
             4,
             "UT",
             2,
             0.12226373755355151
            ],
            [
             "20C",
             2,
             "IL",
             2,
             0.015609746350987644
            ],
            [
             "20C",
             1,
             "WY",
             2,
             0.1733549911502277
            ],
            [
             "20C",
             13,
             "PA",
             2,
             0.09997923508194452
            ],
            [
             "20C",
             25,
             "VA",
             2,
             0.2896403859724612
            ],
            [
             "20C",
             19,
             "LA",
             2,
             0.4079216670169783
            ],
            [
             "20C",
             5,
             "NY",
             2,
             0.024750944854944362
            ],
            [
             "20C",
             80,
             "CA",
             2,
             0.20233585105734264
            ]
           ],
           "geo": "geo",
           "hovertemplate": "<b>%{hovertext}</b><br><br>clade=%{customdata[0]}<br>per_capita=%{customdata[4]}<br>count=%{customdata[1]}<extra></extra>",
           "hovertext": [
            "MN",
            "TX",
            "PR",
            "TN",
            "MI",
            "ND",
            "ME",
            "ID",
            "UT",
            "IL",
            "WY",
            "PA",
            "VA",
            "LA",
            "NY",
            "CA"
           ],
           "legendgroup": "20C",
           "locationmode": "USA-states",
           "locations": [
            "MN",
            "TX",
            "PR",
            "TN",
            "MI",
            "ND",
            "ME",
            "ID",
            "UT",
            "IL",
            "WY",
            "PA",
            "VA",
            "LA",
            "NY",
            "CA"
           ],
           "marker": {
            "color": "rgb(244,109,67)",
            "size": [
             0.31543010471929,
             0.003431060810234717,
             0.030433303285518555,
             0.014470021010470506,
             0.605319007582464,
             0.25670843312873676,
             0.07340209151919574,
             0.054374244877674255,
             0.12226373755355151,
             0.015609746350987644,
             0.1733549911502277,
             0.09997923508194452,
             0.2896403859724612,
             0.4079216670169783,
             0.024750944854944362,
             0.20233585105734264
            ],
            "sizemode": "area",
            "sizeref": 0.012698280768222898,
            "symbol": "circle"
           },
           "mode": "markers",
           "name": "20C",
           "showlegend": true,
           "type": "scattergeo"
          }
         ],
         "name": "2"
        },
        {
         "data": [
          {
           "customdata": [
            [
             "19B",
             1,
             "NY",
             3,
             0.004950188970988873
            ],
            [
             "19B",
             209,
             "WA",
             3,
             2.7124254131679297
            ]
           ],
           "geo": "geo",
           "hovertemplate": "<b>%{hovertext}</b><br><br>clade=%{customdata[0]}<br>per_capita=%{customdata[4]}<br>count=%{customdata[1]}<extra></extra>",
           "hovertext": [
            "NY",
            "WA"
           ],
           "legendgroup": "19B",
           "locationmode": "USA-states",
           "locations": [
            "NY",
            "WA"
           ],
           "marker": {
            "color": "rgb(186,32,73)",
            "size": [
             0.004950188970988873,
             2.7124254131679297
            ],
            "sizemode": "area",
            "sizeref": 0.012698280768222898,
            "symbol": "circle"
           },
           "mode": "markers",
           "name": "19B",
           "showlegend": true,
           "type": "scattergeo"
          },
          {
           "customdata": [
            [
             "20A",
             2,
             "IL",
             3,
             0.015609746350987644
            ],
            [
             "20A",
             1,
             "NV",
             3,
             0.032210123384098635
            ],
            [
             "20A",
             8,
             "AK",
             3,
             1.0908233125304236
            ]
           ],
           "geo": "geo",
           "hovertemplate": "<b>%{hovertext}</b><br><br>clade=%{customdata[0]}<br>per_capita=%{customdata[4]}<br>count=%{customdata[1]}<extra></extra>",
           "hovertext": [
            "IL",
            "NV",
            "AK"
           ],
           "legendgroup": "20A",
           "locationmode": "USA-states",
           "locations": [
            "IL",
            "NV",
            "AK"
           ],
           "marker": {
            "color": "rgb(213,62,79)",
            "size": [
             0.015609746350987644,
             0.032210123384098635,
             1.0908233125304236
            ],
            "sizemode": "area",
            "sizeref": 0.012698280768222898,
            "symbol": "circle"
           },
           "mode": "markers",
           "name": "20A",
           "showlegend": true,
           "type": "scattergeo"
          },
          {
           "customdata": [
            [
             "20B",
             1,
             "NJ",
             3,
             0.010765428419912855
            ],
            [
             "20B",
             5,
             "NC",
             3,
             0.04789552797539473
            ]
           ],
           "geo": "geo",
           "hovertemplate": "<b>%{hovertext}</b><br><br>clade=%{customdata[0]}<br>per_capita=%{customdata[4]}<br>count=%{customdata[1]}<extra></extra>",
           "hovertext": [
            "NJ",
            "NC"
           ],
           "legendgroup": "20B",
           "locationmode": "USA-states",
           "locations": [
            "NJ",
            "NC"
           ],
           "marker": {
            "color": "rgb(229,86,73)",
            "size": [
             0.010765428419912855,
             0.04789552797539473
            ],
            "sizemode": "area",
            "sizeref": 0.012698280768222898,
            "symbol": "circle"
           },
           "mode": "markers",
           "name": "20B",
           "showlegend": true,
           "type": "scattergeo"
          },
          {
           "customdata": [
            [
             "20C",
             4,
             "PA",
             3,
             0.030762841563675238
            ],
            [
             "20C",
             14,
             "UT",
             3,
             0.4279230814374303
            ],
            [
             "20C",
             1,
             "NV",
             3,
             0.032210123384098635
            ],
            [
             "20C",
             60,
             "MA",
             3,
             0.8534951408387894
            ],
            [
             "20C",
             173,
             "MN",
             3,
             3.0316337842465093
            ],
            [
             "20C",
             121,
             "FL",
             3,
             0.5617928751384692
            ],
            [
             "20C",
             3,
             "LA",
             3,
             0.06440868426583869
            ],
            [
             "20C",
             26,
             "GA",
             3,
             0.2427205312069521
            ],
            [
             "20C",
             17,
             "SC",
             3,
             0.3321334199485193
            ],
            [
             "20C",
             20,
             "MD",
             3,
             0.32377003003290794
            ],
            [
             "20C",
             11,
             "OH",
             3,
             0.09322470000291538
            ],
            [
             "20C",
             52,
             "NM",
             3,
             2.455700578317486
            ],
            [
             "20C",
             1,
             "AR",
             3,
             0.03320577886810797
            ],
            [
             "20C",
             50,
             "WI",
             3,
             0.848360915809002
            ],
            [
             "20C",
             1,
             "AL",
             3,
             0.019903353297060136
            ],
            [
             "20C",
             363,
             "CA",
             3,
             0.9180989241726923
            ],
            [
             "20C",
             348,
             "VA",
             3,
             4.03179417273666
            ]
           ],
           "geo": "geo",
           "hovertemplate": "<b>%{hovertext}</b><br><br>clade=%{customdata[0]}<br>per_capita=%{customdata[4]}<br>count=%{customdata[1]}<extra></extra>",
           "hovertext": [
            "PA",
            "UT",
            "NV",
            "MA",
            "MN",
            "FL",
            "LA",
            "GA",
            "SC",
            "MD",
            "OH",
            "NM",
            "AR",
            "WI",
            "AL",
            "CA",
            "VA"
           ],
           "legendgroup": "20C",
           "locationmode": "USA-states",
           "locations": [
            "PA",
            "UT",
            "NV",
            "MA",
            "MN",
            "FL",
            "LA",
            "GA",
            "SC",
            "MD",
            "OH",
            "NM",
            "AR",
            "WI",
            "AL",
            "CA",
            "VA"
           ],
           "marker": {
            "color": "rgb(244,109,67)",
            "size": [
             0.030762841563675238,
             0.4279230814374303,
             0.032210123384098635,
             0.8534951408387894,
             3.0316337842465093,
             0.5617928751384692,
             0.06440868426583869,
             0.2427205312069521,
             0.3321334199485193,
             0.32377003003290794,
             0.09322470000291538,
             2.455700578317486,
             0.03320577886810797,
             0.848360915809002,
             0.019903353297060136,
             0.9180989241726923,
             4.03179417273666
            ],
            "sizemode": "area",
            "sizeref": 0.012698280768222898,
            "symbol": "circle"
           },
           "mode": "markers",
           "name": "20C",
           "showlegend": true,
           "type": "scattergeo"
          },
          {
           "customdata": [
            [
             "20G",
             1,
             "KY",
             3,
             0.0221934397967436
            ],
            [
             "20G",
             43,
             "TX",
             3,
             0.14753561484009284
            ]
           ],
           "geo": "geo",
           "hovertemplate": "<b>%{hovertext}</b><br><br>clade=%{customdata[0]}<br>per_capita=%{customdata[4]}<br>count=%{customdata[1]}<extra></extra>",
           "hovertext": [
            "KY",
            "TX"
           ],
           "legendgroup": "20G",
           "locationmode": "USA-states",
           "locations": [
            "KY",
            "TX"
           ],
           "marker": {
            "color": "rgb(254,199,118)",
            "size": [
             0.0221934397967436,
             0.14753561484009284
            ],
            "sizemode": "area",
            "sizeref": 0.012698280768222898,
            "symbol": "circle"
           },
           "mode": "markers",
           "name": "20G",
           "showlegend": true,
           "type": "scattergeo"
          }
         ],
         "name": "3"
        },
        {
         "data": [
          {
           "customdata": [
            [
             "19B",
             26,
             "WA",
             4,
             0.33743091264290037
            ]
           ],
           "geo": "geo",
           "hovertemplate": "<b>%{hovertext}</b><br><br>clade=%{customdata[0]}<br>per_capita=%{customdata[4]}<br>count=%{customdata[1]}<extra></extra>",
           "hovertext": [
            "WA"
           ],
           "legendgroup": "19B",
           "locationmode": "USA-states",
           "locations": [
            "WA"
           ],
           "marker": {
            "color": "rgb(186,32,73)",
            "size": [
             0.33743091264290037
            ],
            "sizemode": "area",
            "sizeref": 0.012698280768222898,
            "symbol": "circle"
           },
           "mode": "markers",
           "name": "19B",
           "showlegend": true,
           "type": "scattergeo"
          },
          {
           "customdata": [
            [
             "20A",
             7,
             "OK",
             4,
             0.17679656246866596
            ],
            [
             "20A",
             2,
             "WY",
             4,
             0.3467099823004554
            ],
            [
             "20A",
             1,
             "NH",
             4,
             0.07259375301717785
            ],
            [
             "20A",
             1,
             "RI",
             4,
             0.0911262198383603
            ],
            [
             "20A",
             115,
             "FL",
             4,
             0.5339353771977187
            ],
            [
             "20A",
             82,
             "MD",
             4,
             1.3274571231349226
            ],
            [
             "20A",
             1,
             "DE",
             4,
             0.10101540686985579
            ],
            [
             "20A",
             4,
             "LA",
             4,
             0.0858782456877849
            ],
            [
             "20A",
             2,
             "NY",
             4,
             0.009900377941977746
            ],
            [
             "20A",
             5,
             "GU",
             4,
             0
            ],
            [
             "20A",
             11,
             "NV",
             4,
             0.354311357225085
            ]
           ],
           "geo": "geo",
           "hovertemplate": "<b>%{hovertext}</b><br><br>clade=%{customdata[0]}<br>per_capita=%{customdata[4]}<br>count=%{customdata[1]}<extra></extra>",
           "hovertext": [
            "OK",
            "WY",
            "NH",
            "RI",
            "FL",
            "MD",
            "DE",
            "LA",
            "NY",
            "GU",
            "NV"
           ],
           "legendgroup": "20A",
           "locationmode": "USA-states",
           "locations": [
            "OK",
            "WY",
            "NH",
            "RI",
            "FL",
            "MD",
            "DE",
            "LA",
            "NY",
            "GU",
            "NV"
           ],
           "marker": {
            "color": "rgb(213,62,79)",
            "size": [
             0.17679656246866596,
             0.3467099823004554,
             0.07259375301717785,
             0.0911262198383603,
             0.5339353771977187,
             1.3274571231349226,
             0.10101540686985579,
             0.0858782456877849,
             0.009900377941977746,
             0,
             0.354311357225085
            ],
            "sizemode": "area",
            "sizeref": 0.012698280768222898,
            "symbol": "circle"
           },
           "mode": "markers",
           "name": "20A",
           "showlegend": true,
           "type": "scattergeo"
          },
          {
           "customdata": [
            [
             "20B",
             4,
             "CO",
             4,
             0.06927949669831239
            ],
            [
             "20B",
             3,
             "NC",
             4,
             0.028737316785236836
            ],
            [
             "20B",
             121,
             "KS",
             4,
             4.118616144975288
            ],
            [
             "20B",
             66,
             "MA",
             4,
             0.9388446549226683
            ],
            [
             "20B",
             99,
             "AK",
             4,
             13.498938492563994
            ],
            [
             "20B",
             19,
             "TX",
             4,
             0.06519015539445963
            ],
            [
             "20B",
             425,
             "VA",
             4,
             4.923886561531841
            ],
            [
             "20B",
             2,
             "AZ",
             4,
             0.027966153124196844
            ],
            [
             "20B",
             2,
             "NY",
             4,
             0.009900377941977746
            ]
           ],
           "geo": "geo",
           "hovertemplate": "<b>%{hovertext}</b><br><br>clade=%{customdata[0]}<br>per_capita=%{customdata[4]}<br>count=%{customdata[1]}<extra></extra>",
           "hovertext": [
            "CO",
            "NC",
            "KS",
            "MA",
            "AK",
            "TX",
            "VA",
            "AZ",
            "NY"
           ],
           "legendgroup": "20B",
           "locationmode": "USA-states",
           "locations": [
            "CO",
            "NC",
            "KS",
            "MA",
            "AK",
            "TX",
            "VA",
            "AZ",
            "NY"
           ],
           "marker": {
            "color": "rgb(229,86,73)",
            "size": [
             0.06927949669831239,
             0.028737316785236836,
             4.118616144975288,
             0.9388446549226683,
             13.498938492563994,
             0.06519015539445963,
             4.923886561531841,
             0.027966153124196844,
             0.009900377941977746
            ],
            "sizemode": "area",
            "sizeref": 0.012698280768222898,
            "symbol": "circle"
           },
           "mode": "markers",
           "name": "20B",
           "showlegend": true,
           "type": "scattergeo"
          },
          {
           "customdata": [
            [
             "20C",
             8,
             "NJ",
             4,
             0.08612342735930284
            ],
            [
             "20C",
             7,
             "SC",
             4,
             0.13676081997880207
            ],
            [
             "20C",
             1,
             "MI",
             4,
             0.009923262419384656
            ],
            [
             "20C",
             55,
             "NM",
             4,
             2.5973756116819566
            ],
            [
             "20C",
             4,
             "IN",
             4,
             0.05894898672586717
            ],
            [
             "20C",
             60,
             "CT",
             4,
             1.6639193509383396
            ],
            [
             "20C",
             1,
             "VT",
             4,
             0.1555023737437352
            ],
            [
             "20C",
             28,
             "NE",
             4,
             1.427476059187236
            ],
            [
             "20C",
             52,
             "MN",
             4,
             0.9112425247446155
            ]
           ],
           "geo": "geo",
           "hovertemplate": "<b>%{hovertext}</b><br><br>clade=%{customdata[0]}<br>per_capita=%{customdata[4]}<br>count=%{customdata[1]}<extra></extra>",
           "hovertext": [
            "NJ",
            "SC",
            "MI",
            "NM",
            "IN",
            "CT",
            "VT",
            "NE",
            "MN"
           ],
           "legendgroup": "20C",
           "locationmode": "USA-states",
           "locations": [
            "NJ",
            "SC",
            "MI",
            "NM",
            "IN",
            "CT",
            "VT",
            "NE",
            "MN"
           ],
           "marker": {
            "color": "rgb(244,109,67)",
            "size": [
             0.08612342735930284,
             0.13676081997880207,
             0.009923262419384656,
             2.5973756116819566,
             0.05894898672586717,
             1.6639193509383396,
             0.1555023737437352,
             1.427476059187236,
             0.9112425247446155
            ],
            "sizemode": "area",
            "sizeref": 0.012698280768222898,
            "symbol": "circle"
           },
           "mode": "markers",
           "name": "20C",
           "showlegend": true,
           "type": "scattergeo"
          },
          {
           "customdata": [
            [
             "20G",
             2,
             "MT",
             4,
             0.18446355691853628
            ],
            [
             "20G",
             6,
             "OH",
             4,
             0.050849836365226574
            ],
            [
             "20G",
             349,
             "SD",
             4,
             39.36088745831299
            ],
            [
             "20G",
             250,
             "AL",
             4,
             4.975838324265034
            ],
            [
             "20G",
             3,
             "IA",
             4,
             0.09403300997470826
            ],
            [
             "20G",
             5,
             "ND",
             4,
             0.6417710828218418
            ],
            [
             "20G",
             3,
             "MS",
             4,
             0.10130757689498356
            ],
            [
             "20G",
             39,
             "OR",
             4,
             0.9204069803665391
            ],
            [
             "20G",
             11,
             "KY",
             4,
             0.2441278377641796
            ],
            [
             "20G",
             6,
             "ID",
             4,
             0.3262454692660456
            ],
            [
             "20G",
             16,
             "MO",
             4,
             0.2599549335628302
            ],
            [
             "20G",
             5,
             "WV",
             4,
             0.27875092824059106
            ],
            [
             "20G",
             5,
             "IL",
             4,
             0.03902436587746911
            ],
            [
             "20G",
             4,
             "PA",
             4,
             0.030762841563675238
            ],
            [
             "20G",
             1,
             "HI",
             4,
             0.0687157237380529
            ],
            [
             "20G",
             3,
             "NC",
             4,
             0.028737316785236836
            ],
            [
             "20G",
             25,
             "GA",
             4,
             0.23338512616053086
            ],
            [
             "20G",
             44,
             "WI",
             4,
             0.7465576059119218
            ],
            [
             "20G",
             1,
             "UT",
             4,
             0.030565934388387877
            ],
            [
             "20G",
             17,
             "TN",
             4,
             0.24599035717799864
            ]
           ],
           "geo": "geo",
           "hovertemplate": "<b>%{hovertext}</b><br><br>clade=%{customdata[0]}<br>per_capita=%{customdata[4]}<br>count=%{customdata[1]}<extra></extra>",
           "hovertext": [
            "MT",
            "OH",
            "SD",
            "AL",
            "IA",
            "ND",
            "MS",
            "OR",
            "KY",
            "ID",
            "MO",
            "WV",
            "IL",
            "PA",
            "HI",
            "NC",
            "GA",
            "WI",
            "UT",
            "TN"
           ],
           "legendgroup": "20G",
           "locationmode": "USA-states",
           "locations": [
            "MT",
            "OH",
            "SD",
            "AL",
            "IA",
            "ND",
            "MS",
            "OR",
            "KY",
            "ID",
            "MO",
            "WV",
            "IL",
            "PA",
            "HI",
            "NC",
            "GA",
            "WI",
            "UT",
            "TN"
           ],
           "marker": {
            "color": "rgb(254,199,118)",
            "size": [
             0.18446355691853628,
             0.050849836365226574,
             39.36088745831299,
             4.975838324265034,
             0.09403300997470826,
             0.6417710828218418,
             0.10130757689498356,
             0.9204069803665391,
             0.2441278377641796,
             0.3262454692660456,
             0.2599549335628302,
             0.27875092824059106,
             0.03902436587746911,
             0.030762841563675238,
             0.0687157237380529,
             0.028737316785236836,
             0.23338512616053086,
             0.7465576059119218,
             0.030565934388387877,
             0.24599035717799864
            ],
            "sizemode": "area",
            "sizeref": 0.012698280768222898,
            "symbol": "circle"
           },
           "mode": "markers",
           "name": "20G",
           "showlegend": true,
           "type": "scattergeo"
          },
          {
           "customdata": [
            [
             "21C (Epsilon)",
             347,
             "CA",
             4,
             0.8776317539612238
            ]
           ],
           "geo": "geo",
           "hovertemplate": "<b>%{hovertext}</b><br><br>clade=%{customdata[0]}<br>per_capita=%{customdata[4]}<br>count=%{customdata[1]}<extra></extra>",
           "hovertext": [
            "CA"
           ],
           "legendgroup": "21C (Epsilon)",
           "locationmode": "USA-states",
           "locations": [
            "CA"
           ],
           "marker": {
            "color": "rgb(201,233,158)",
            "size": [
             0.8776317539612238
            ],
            "sizemode": "area",
            "sizeref": 0.012698280768222898,
            "symbol": "circle"
           },
           "mode": "markers",
           "name": "21C (Epsilon)",
           "showlegend": true,
           "type": "scattergeo"
          }
         ],
         "name": "4"
        },
        {
         "data": [
          {
           "customdata": [
            [
             "19B",
             2,
             "NH",
             5,
             0.1451875060343557
            ]
           ],
           "geo": "geo",
           "hovertemplate": "<b>%{hovertext}</b><br><br>clade=%{customdata[0]}<br>per_capita=%{customdata[4]}<br>count=%{customdata[1]}<extra></extra>",
           "hovertext": [
            "NH"
           ],
           "legendgroup": "19B",
           "locationmode": "USA-states",
           "locations": [
            "NH"
           ],
           "marker": {
            "color": "rgb(186,32,73)",
            "size": [
             0.1451875060343557
            ],
            "sizemode": "area",
            "sizeref": 0.012698280768222898,
            "symbol": "circle"
           },
           "mode": "markers",
           "name": "19B",
           "showlegend": true,
           "type": "scattergeo"
          },
          {
           "customdata": [
            [
             "20A",
             33,
             "MS",
             5,
             1.1143833458448191
            ],
            [
             "20A",
             32,
             "AR",
             5,
             1.0625849237794551
            ],
            [
             "20A",
             30,
             "WI",
             5,
             0.5090165494854012
            ],
            [
             "20A",
             2,
             "GU",
             5,
             0
            ],
            [
             "20A",
             17,
             "UT",
             5,
             0.5196208846025939
            ],
            [
             "20A",
             2,
             "PR",
             5,
             0.06086660657103711
            ],
            [
             "20A",
             7,
             "ID",
             5,
             0.3806197141437198
            ],
            [
             "20A",
             249,
             "CA",
             5,
             0.629770336415979
            ]
           ],
           "geo": "geo",
           "hovertemplate": "<b>%{hovertext}</b><br><br>clade=%{customdata[0]}<br>per_capita=%{customdata[4]}<br>count=%{customdata[1]}<extra></extra>",
           "hovertext": [
            "MS",
            "AR",
            "WI",
            "GU",
            "UT",
            "PR",
            "ID",
            "CA"
           ],
           "legendgroup": "20A",
           "locationmode": "USA-states",
           "locations": [
            "MS",
            "AR",
            "WI",
            "GU",
            "UT",
            "PR",
            "ID",
            "CA"
           ],
           "marker": {
            "color": "rgb(213,62,79)",
            "size": [
             1.1143833458448191,
             1.0625849237794551,
             0.5090165494854012,
             0,
             0.5196208846025939,
             0.06086660657103711,
             0.3806197141437198,
             0.629770336415979
            ],
            "sizemode": "area",
            "sizeref": 0.012698280768222898,
            "symbol": "circle"
           },
           "mode": "markers",
           "name": "20A",
           "showlegend": true,
           "type": "scattergeo"
          },
          {
           "customdata": [
            [
             "20B",
             35,
             "WA",
             5,
             0.45423392086544284
            ],
            [
             "20B",
             6,
             "AK",
             5,
             0.8181174843978178
            ],
            [
             "20B",
             15,
             "RI",
             5,
             1.3668932975754047
            ]
           ],
           "geo": "geo",
           "hovertemplate": "<b>%{hovertext}</b><br><br>clade=%{customdata[0]}<br>per_capita=%{customdata[4]}<br>count=%{customdata[1]}<extra></extra>",
           "hovertext": [
            "WA",
            "AK",
            "RI"
           ],
           "legendgroup": "20B",
           "locationmode": "USA-states",
           "locations": [
            "WA",
            "AK",
            "RI"
           ],
           "marker": {
            "color": "rgb(229,86,73)",
            "size": [
             0.45423392086544284,
             0.8181174843978178,
             1.3668932975754047
            ],
            "sizemode": "area",
            "sizeref": 0.012698280768222898,
            "symbol": "circle"
           },
           "mode": "markers",
           "name": "20B",
           "showlegend": true,
           "type": "scattergeo"
          },
          {
           "customdata": [
            [
             "20C",
             3614,
             "VA",
             5,
             41.87041419617899
            ],
            [
             "20C",
             32,
             "CT",
             5,
             0.8874236538337811
            ],
            [
             "20C",
             3,
             "DE",
             5,
             0.3030462206095674
            ],
            [
             "20C",
             1,
             "HI",
             5,
             0.0687157237380529
            ]
           ],
           "geo": "geo",
           "hovertemplate": "<b>%{hovertext}</b><br><br>clade=%{customdata[0]}<br>per_capita=%{customdata[4]}<br>count=%{customdata[1]}<extra></extra>",
           "hovertext": [
            "VA",
            "CT",
            "DE",
            "HI"
           ],
           "legendgroup": "20C",
           "locationmode": "USA-states",
           "locations": [
            "VA",
            "CT",
            "DE",
            "HI"
           ],
           "marker": {
            "color": "rgb(244,109,67)",
            "size": [
             41.87041419617899,
             0.8874236538337811,
             0.3030462206095674,
             0.0687157237380529
            ],
            "sizemode": "area",
            "sizeref": 0.012698280768222898,
            "symbol": "circle"
           },
           "mode": "markers",
           "name": "20C",
           "showlegend": true,
           "type": "scattergeo"
          },
          {
           "customdata": [
            [
             "20G",
             8,
             "ME",
             5,
             0.587216732153566
            ],
            [
             "20G",
             10,
             "NV",
             5,
             0.3221012338409863
            ],
            [
             "20G",
             102,
             "MA",
             5,
             1.450941739425942
            ],
            [
             "20G",
             8,
             "WY",
             5,
             1.3868399292018216
            ],
            [
             "20G",
             3,
             "OR",
             5,
             0.07080053695127224
            ],
            [
             "20G",
             48,
             "ND",
             5,
             6.161002395089681
            ],
            [
             "20G",
             30,
             "NY",
             5,
             0.1485056691296662
            ],
            [
             "20G",
             7,
             "OK",
             5,
             0.17679656246866596
            ],
            [
             "20G",
             48,
             "MD",
             5,
             0.7770480720789791
            ],
            [
             "20G",
             15,
             "LA",
             5,
             0.3220434213291934
            ],
            [
             "20G",
             35,
             "OH",
             5,
             0.2966240454638217
            ],
            [
             "20G",
             16,
             "AZ",
             5,
             0.22372922499357475
            ],
            [
             "20G",
             17,
             "KY",
             5,
             0.3772884765446412
            ],
            [
             "20G",
             53,
             "IN",
             5,
             0.7810740741177399
            ],
            [
             "20G",
             51,
             "NM",
             5,
             2.408475567195996
            ],
            [
             "20G",
             21,
             "KS",
             5,
             0.7148011491279427
            ],
            [
             "20G",
             101,
             "AL",
             5,
             2.010238683003074
            ],
            [
             "20G",
             10,
             "WV",
             5,
             0.5575018564811821
            ],
            [
             "20G",
             19,
             "CO",
             5,
             0.3290776093169838
            ],
            [
             "20G",
             26,
             "TN",
             5,
             0.37622054627223317
            ],
            [
             "20G",
             2,
             "NH",
             5,
             0.1451875060343557
            ],
            [
             "20G",
             58,
             "GA",
             5,
             0.5414534926924317
            ],
            [
             "20G",
             6,
             "AK",
             5,
             0.8181174843978178
            ],
            [
             "20G",
             3,
             "VT",
             5,
             0.4665071212312056
            ],
            [
             "20G",
             88,
             "NC",
             5,
             0.8429612923669472
            ],
            [
             "20G",
             62,
             "TX",
             5,
             0.21272577023455247
            ],
            [
             "20G",
             61,
             "FL",
             5,
             0.2832178957309638
            ],
            [
             "20G",
             78,
             "MN",
             5,
             1.3668637871169234
            ],
            [
             "20G",
             46,
             "MO",
             5,
             0.7473704339931369
            ],
            [
             "20G",
             65,
             "MT",
             5,
             5.995065599852429
            ],
            [
             "20G",
             2,
             "GU",
             5,
             0
            ],
            [
             "20G",
             1,
             "HI",
             5,
             0.0687157237380529
            ],
            [
             "20G",
             36,
             "MI",
             5,
             0.3572374470978476
            ],
            [
             "20G",
             10,
             "IL",
             5,
             0.07804873175493822
            ],
            [
             "20G",
             5,
             "NJ",
             5,
             0.05382714209956428
            ],
            [
             "20G",
             3,
             "IA",
             5,
             0.09403300997470826
            ],
            [
             "20G",
             32,
             "SC",
             5,
             0.6251923199030952
            ],
            [
             "20G",
             40,
             "PA",
             5,
             0.30762841563675236
            ],
            [
             "20G",
             2,
             "NE",
             5,
             0.10196257565623112
            ],
            [
             "20G",
             2,
             "SD",
             5,
             0.22556382497600563
            ]
           ],
           "geo": "geo",
           "hovertemplate": "<b>%{hovertext}</b><br><br>clade=%{customdata[0]}<br>per_capita=%{customdata[4]}<br>count=%{customdata[1]}<extra></extra>",
           "hovertext": [
            "ME",
            "NV",
            "MA",
            "WY",
            "OR",
            "ND",
            "NY",
            "OK",
            "MD",
            "LA",
            "OH",
            "AZ",
            "KY",
            "IN",
            "NM",
            "KS",
            "AL",
            "WV",
            "CO",
            "TN",
            "NH",
            "GA",
            "AK",
            "VT",
            "NC",
            "TX",
            "FL",
            "MN",
            "MO",
            "MT",
            "GU",
            "HI",
            "MI",
            "IL",
            "NJ",
            "IA",
            "SC",
            "PA",
            "NE",
            "SD"
           ],
           "legendgroup": "20G",
           "locationmode": "USA-states",
           "locations": [
            "ME",
            "NV",
            "MA",
            "WY",
            "OR",
            "ND",
            "NY",
            "OK",
            "MD",
            "LA",
            "OH",
            "AZ",
            "KY",
            "IN",
            "NM",
            "KS",
            "AL",
            "WV",
            "CO",
            "TN",
            "NH",
            "GA",
            "AK",
            "VT",
            "NC",
            "TX",
            "FL",
            "MN",
            "MO",
            "MT",
            "GU",
            "HI",
            "MI",
            "IL",
            "NJ",
            "IA",
            "SC",
            "PA",
            "NE",
            "SD"
           ],
           "marker": {
            "color": "rgb(254,199,118)",
            "size": [
             0.587216732153566,
             0.3221012338409863,
             1.450941739425942,
             1.3868399292018216,
             0.07080053695127224,
             6.161002395089681,
             0.1485056691296662,
             0.17679656246866596,
             0.7770480720789791,
             0.3220434213291934,
             0.2966240454638217,
             0.22372922499357475,
             0.3772884765446412,
             0.7810740741177399,
             2.408475567195996,
             0.7148011491279427,
             2.010238683003074,
             0.5575018564811821,
             0.3290776093169838,
             0.37622054627223317,
             0.1451875060343557,
             0.5414534926924317,
             0.8181174843978178,
             0.4665071212312056,
             0.8429612923669472,
             0.21272577023455247,
             0.2832178957309638,
             1.3668637871169234,
             0.7473704339931369,
             5.995065599852429,
             0,
             0.0687157237380529,
             0.3572374470978476,
             0.07804873175493822,
             0.05382714209956428,
             0.09403300997470826,
             0.6251923199030952,
             0.30762841563675236,
             0.10196257565623112,
             0.22556382497600563
            ],
            "sizemode": "area",
            "sizeref": 0.012698280768222898,
            "symbol": "circle"
           },
           "mode": "markers",
           "name": "20G",
           "showlegend": true,
           "type": "scattergeo"
          },
          {
           "customdata": [
            [
             "21C (Epsilon)",
             1,
             "HI",
             5,
             0.0687157237380529
            ]
           ],
           "geo": "geo",
           "hovertemplate": "<b>%{hovertext}</b><br><br>clade=%{customdata[0]}<br>per_capita=%{customdata[4]}<br>count=%{customdata[1]}<extra></extra>",
           "hovertext": [
            "HI"
           ],
           "legendgroup": "21C (Epsilon)",
           "locationmode": "USA-states",
           "locations": [
            "HI"
           ],
           "marker": {
            "color": "rgb(201,233,158)",
            "size": [
             0.0687157237380529
            ],
            "sizemode": "area",
            "sizeref": 0.012698280768222898,
            "symbol": "circle"
           },
           "mode": "markers",
           "name": "21C (Epsilon)",
           "showlegend": true,
           "type": "scattergeo"
          }
         ],
         "name": "5"
        },
        {
         "data": [
          {
           "customdata": [
            [
             "20A",
             450,
             "MD",
             6,
             7.2848256757404295
            ],
            [
             "20A",
             3,
             "NE",
             6,
             0.15294386348434671
            ],
            [
             "20A",
             2,
             "IA",
             6,
             0.06268867331647217
            ],
            [
             "20A",
             31,
             "CO",
             6,
             0.536916099411921
            ],
            [
             "20A",
             56,
             "AR",
             6,
             1.8595236166140467
            ],
            [
             "20A",
             23,
             "NY",
             6,
             0.11385434633274406
            ],
            [
             "20A",
             27,
             "AZ",
             6,
             0.3775430671766574
            ]
           ],
           "geo": "geo",
           "hovertemplate": "<b>%{hovertext}</b><br><br>clade=%{customdata[0]}<br>per_capita=%{customdata[4]}<br>count=%{customdata[1]}<extra></extra>",
           "hovertext": [
            "MD",
            "NE",
            "IA",
            "CO",
            "AR",
            "NY",
            "AZ"
           ],
           "legendgroup": "20A",
           "locationmode": "USA-states",
           "locations": [
            "MD",
            "NE",
            "IA",
            "CO",
            "AR",
            "NY",
            "AZ"
           ],
           "marker": {
            "color": "rgb(213,62,79)",
            "size": [
             7.2848256757404295,
             0.15294386348434671,
             0.06268867331647217,
             0.536916099411921,
             1.8595236166140467,
             0.11385434633274406,
             0.3775430671766574
            ],
            "sizemode": "area",
            "sizeref": 0.012698280768222898,
            "symbol": "circle"
           },
           "mode": "markers",
           "name": "20A",
           "showlegend": true,
           "type": "scattergeo"
          },
          {
           "customdata": [
            [
             "20B",
             61,
             "NH",
             6,
             4.42821893404785
            ],
            [
             "20B",
             36,
             "NM",
             6,
             1.7001004003736442
            ],
            [
             "20B",
             3,
             "VT",
             6,
             0.4665071212312056
            ],
            [
             "20B",
             2,
             "MT",
             6,
             0.18446355691853628
            ],
            [
             "20B",
             28,
             "WA",
             6,
             0.3633871366923543
            ]
           ],
           "geo": "geo",
           "hovertemplate": "<b>%{hovertext}</b><br><br>clade=%{customdata[0]}<br>per_capita=%{customdata[4]}<br>count=%{customdata[1]}<extra></extra>",
           "hovertext": [
            "NH",
            "NM",
            "VT",
            "MT",
            "WA"
           ],
           "legendgroup": "20B",
           "locationmode": "USA-states",
           "locations": [
            "NH",
            "NM",
            "VT",
            "MT",
            "WA"
           ],
           "marker": {
            "color": "rgb(229,86,73)",
            "size": [
             4.42821893404785,
             1.7001004003736442,
             0.4665071212312056,
             0.18446355691853628,
             0.3633871366923543
            ],
            "sizemode": "area",
            "sizeref": 0.012698280768222898,
            "symbol": "circle"
           },
           "mode": "markers",
           "name": "20B",
           "showlegend": true,
           "type": "scattergeo"
          },
          {
           "customdata": [
            [
             "20C",
             72,
             "ME",
             6,
             5.284950589382094
            ],
            [
             "20C",
             96,
             "RI",
             6,
             8.74811710448259
            ],
            [
             "20C",
             30,
             "TN",
             6,
             0.4341006303141152
            ],
            [
             "20C",
             6,
             "VA",
             6,
             0.0695136926333907
            ],
            [
             "20C",
             177,
             "MA",
             6,
             2.5178106654744288
            ],
            [
             "20C",
             2,
             "KS",
             6,
             0.06807629991694691
            ],
            [
             "20C",
             13,
             "OR",
             6,
             0.3068023267888464
            ],
            [
             "20C",
             10,
             "MS",
             6,
             0.3376919229832785
            ]
           ],
           "geo": "geo",
           "hovertemplate": "<b>%{hovertext}</b><br><br>clade=%{customdata[0]}<br>per_capita=%{customdata[4]}<br>count=%{customdata[1]}<extra></extra>",
           "hovertext": [
            "ME",
            "RI",
            "TN",
            "VA",
            "MA",
            "KS",
            "OR",
            "MS"
           ],
           "legendgroup": "20C",
           "locationmode": "USA-states",
           "locations": [
            "ME",
            "RI",
            "TN",
            "VA",
            "MA",
            "KS",
            "OR",
            "MS"
           ],
           "marker": {
            "color": "rgb(244,109,67)",
            "size": [
             5.284950589382094,
             8.74811710448259,
             0.4341006303141152,
             0.0695136926333907,
             2.5178106654744288,
             0.06807629991694691,
             0.3068023267888464,
             0.3376919229832785
            ],
            "sizemode": "area",
            "sizeref": 0.012698280768222898,
            "symbol": "circle"
           },
           "mode": "markers",
           "name": "20C",
           "showlegend": true,
           "type": "scattergeo"
          },
          {
           "customdata": [
            [
             "20G",
             18,
             "NJ",
             6,
             0.19377771155843143
            ],
            [
             "20G",
             71,
             "MN",
             6,
             1.2441965241705326
            ],
            [
             "20G",
             22,
             "AL",
             6,
             0.437873772535323
            ],
            [
             "20G",
             86,
             "MO",
             6,
             1.3972577679002123
            ],
            [
             "20G",
             114,
             "AK",
             6,
             15.54423220355854
            ],
            [
             "20G",
             30,
             "MI",
             6,
             0.2976978725815397
            ],
            [
             "20G",
             13,
             "WY",
             6,
             2.25361488495296
            ],
            [
             "20G",
             27,
             "UT",
             6,
             0.8252802284864728
            ],
            [
             "20G",
             39,
             "NC",
             6,
             0.3735851182080789
            ],
            [
             "20G",
             177,
             "SC",
             6,
             3.4580950194639954
            ],
            [
             "20G",
             24,
             "HI",
             6,
             1.64917736971327
            ],
            [
             "20G",
             619,
             "GA",
             6,
             5.778615723734744
            ],
            [
             "20G",
             4230,
             "TX",
             6,
             14.513387227292855
            ],
            [
             "20G",
             29,
             "CT",
             6,
             0.8042276862868641
            ],
            [
             "20G",
             5,
             "DC",
             6,
             0
            ],
            [
             "20G",
             4,
             "ID",
             6,
             0.21749697951069702
            ],
            [
             "20G",
             10,
             "WV",
             6,
             0.5575018564811821
            ],
            [
             "20G",
             3,
             "NE",
             6,
             0.15294386348434671
            ],
            [
             "20G",
             58,
             "IL",
             6,
             0.4526826441786417
            ],
            [
             "20G",
             122,
             "NV",
             6,
             3.929635052860033
            ],
            [
             "20G",
             47,
             "ND",
             6,
             6.032648178525313
            ],
            [
             "20G",
             10,
             "WI",
             6,
             0.1696721831618004
            ],
            [
             "20G",
             44,
             "LA",
             6,
             0.9446607025656341
            ],
            [
             "20G",
             123,
             "KY",
             6,
             2.729793094999463
            ],
            [
             "20G",
             106,
             "OH",
             6,
             0.898347109119003
            ],
            [
             "20G",
             4,
             "OK",
             6,
             0.10102660712495197
            ],
            [
             "20G",
             57,
             "IN",
             6,
             0.8400230608436072
            ],
            [
             "20G",
             132,
             "PA",
             6,
             1.0151737716012827
            ]
           ],
           "geo": "geo",
           "hovertemplate": "<b>%{hovertext}</b><br><br>clade=%{customdata[0]}<br>per_capita=%{customdata[4]}<br>count=%{customdata[1]}<extra></extra>",
           "hovertext": [
            "NJ",
            "MN",
            "AL",
            "MO",
            "AK",
            "MI",
            "WY",
            "UT",
            "NC",
            "SC",
            "HI",
            "GA",
            "TX",
            "CT",
            "DC",
            "ID",
            "WV",
            "NE",
            "IL",
            "NV",
            "ND",
            "WI",
            "LA",
            "KY",
            "OH",
            "OK",
            "IN",
            "PA"
           ],
           "legendgroup": "20G",
           "locationmode": "USA-states",
           "locations": [
            "NJ",
            "MN",
            "AL",
            "MO",
            "AK",
            "MI",
            "WY",
            "UT",
            "NC",
            "SC",
            "HI",
            "GA",
            "TX",
            "CT",
            "DC",
            "ID",
            "WV",
            "NE",
            "IL",
            "NV",
            "ND",
            "WI",
            "LA",
            "KY",
            "OH",
            "OK",
            "IN",
            "PA"
           ],
           "marker": {
            "color": "rgb(254,199,118)",
            "size": [
             0.19377771155843143,
             1.2441965241705326,
             0.437873772535323,
             1.3972577679002123,
             15.54423220355854,
             0.2976978725815397,
             2.25361488495296,
             0.8252802284864728,
             0.3735851182080789,
             3.4580950194639954,
             1.64917736971327,
             5.778615723734744,
             14.513387227292855,
             0.8042276862868641,
             0,
             0.21749697951069702,
             0.5575018564811821,
             0.15294386348434671,
             0.4526826441786417,
             3.929635052860033,
             6.032648178525313,
             0.1696721831618004,
             0.9446607025656341,
             2.729793094999463,
             0.898347109119003,
             0.10102660712495197,
             0.8400230608436072,
             1.0151737716012827
            ],
            "sizemode": "area",
            "sizeref": 0.012698280768222898,
            "symbol": "circle"
           },
           "mode": "markers",
           "name": "20G",
           "showlegend": true,
           "type": "scattergeo"
          },
          {
           "customdata": [
            [
             "21C (Epsilon)",
             799,
             "CA",
             6,
             2.0208293124352097
            ]
           ],
           "geo": "geo",
           "hovertemplate": "<b>%{hovertext}</b><br><br>clade=%{customdata[0]}<br>per_capita=%{customdata[4]}<br>count=%{customdata[1]}<extra></extra>",
           "hovertext": [
            "CA"
           ],
           "legendgroup": "21C (Epsilon)",
           "locationmode": "USA-states",
           "locations": [
            "CA"
           ],
           "marker": {
            "color": "rgb(201,233,158)",
            "size": [
             2.0208293124352097
            ],
            "sizemode": "area",
            "sizeref": 0.012698280768222898,
            "symbol": "circle"
           },
           "mode": "markers",
           "name": "21C (Epsilon)",
           "showlegend": true,
           "type": "scattergeo"
          },
          {
           "customdata": [
            [
             "21F (Iota)",
             271,
             "FL",
             6,
             1.2582303236572325
            ]
           ],
           "geo": "geo",
           "hovertemplate": "<b>%{hovertext}</b><br><br>clade=%{customdata[0]}<br>per_capita=%{customdata[4]}<br>count=%{customdata[1]}<extra></extra>",
           "hovertext": [
            "FL"
           ],
           "legendgroup": "21F (Iota)",
           "locationmode": "USA-states",
           "locations": [
            "FL"
           ],
           "marker": {
            "color": "rgb(137,208,165)",
            "size": [
             1.2582303236572325
            ],
            "sizemode": "area",
            "sizeref": 0.012698280768222898,
            "symbol": "circle"
           },
           "mode": "markers",
           "name": "21F (Iota)",
           "showlegend": true,
           "type": "scattergeo"
          }
         ],
         "name": "6"
        },
        {
         "data": [
          {
           "customdata": [
            [
             "20A",
             31,
             "NH",
             7,
             2.2504063435325135
            ],
            [
             "20A",
             11,
             "SD",
             7,
             1.2406010373680312
            ],
            [
             "20A",
             178,
             "PA",
             7,
             1.3689464495835482
            ],
            [
             "20A",
             31,
             "OK",
             7,
             0.7829562052183778
            ]
           ],
           "geo": "geo",
           "hovertemplate": "<b>%{hovertext}</b><br><br>clade=%{customdata[0]}<br>per_capita=%{customdata[4]}<br>count=%{customdata[1]}<extra></extra>",
           "hovertext": [
            "NH",
            "SD",
            "PA",
            "OK"
           ],
           "legendgroup": "20A",
           "locationmode": "USA-states",
           "locations": [
            "NH",
            "SD",
            "PA",
            "OK"
           ],
           "marker": {
            "color": "rgb(213,62,79)",
            "size": [
             2.2504063435325135,
             1.2406010373680312,
             1.3689464495835482,
             0.7829562052183778
            ],
            "sizemode": "area",
            "sizeref": 0.012698280768222898,
            "symbol": "circle"
           },
           "mode": "markers",
           "name": "20A",
           "showlegend": true,
           "type": "scattergeo"
          },
          {
           "customdata": [
            [
             "20B",
             3,
             "ND",
             7,
             0.38506264969310505
            ],
            [
             "20B",
             8,
             "VA",
             7,
             0.0926849235111876
            ],
            [
             "20B",
             37,
             "NM",
             7,
             1.7473254114951344
            ],
            [
             "20B",
             4,
             "WY",
             7,
             0.6934199646009108
            ],
            [
             "20B",
             7,
             "AK",
             7,
             0.9544703984641209
            ]
           ],
           "geo": "geo",
           "hovertemplate": "<b>%{hovertext}</b><br><br>clade=%{customdata[0]}<br>per_capita=%{customdata[4]}<br>count=%{customdata[1]}<extra></extra>",
           "hovertext": [
            "ND",
            "VA",
            "NM",
            "WY",
            "AK"
           ],
           "legendgroup": "20B",
           "locationmode": "USA-states",
           "locations": [
            "ND",
            "VA",
            "NM",
            "WY",
            "AK"
           ],
           "marker": {
            "color": "rgb(229,86,73)",
            "size": [
             0.38506264969310505,
             0.0926849235111876,
             1.7473254114951344,
             0.6934199646009108,
             0.9544703984641209
            ],
            "sizemode": "area",
            "sizeref": 0.012698280768222898,
            "symbol": "circle"
           },
           "mode": "markers",
           "name": "20B",
           "showlegend": true,
           "type": "scattergeo"
          },
          {
           "customdata": [
            [
             "20C",
             294,
             "NJ",
             7,
             3.1650359554543797
            ],
            [
             "20C",
             44,
             "DE",
             7,
             4.4446779022736544
            ]
           ],
           "geo": "geo",
           "hovertemplate": "<b>%{hovertext}</b><br><br>clade=%{customdata[0]}<br>per_capita=%{customdata[4]}<br>count=%{customdata[1]}<extra></extra>",
           "hovertext": [
            "NJ",
            "DE"
           ],
           "legendgroup": "20C",
           "locationmode": "USA-states",
           "locations": [
            "NJ",
            "DE"
           ],
           "marker": {
            "color": "rgb(244,109,67)",
            "size": [
             3.1650359554543797,
             4.4446779022736544
            ],
            "sizemode": "area",
            "sizeref": 0.012698280768222898,
            "symbol": "circle"
           },
           "mode": "markers",
           "name": "20C",
           "showlegend": true,
           "type": "scattergeo"
          },
          {
           "customdata": [
            [
             "20G",
             49,
             "NC",
             7,
             0.46937617415886834
            ],
            [
             "20G",
             127,
             "TX",
             7,
             0.4357447228998091
            ],
            [
             "20G",
             30,
             "TN",
             7,
             0.4341006303141152
            ],
            [
             "20G",
             55,
             "SC",
             7,
             1.074549299833445
            ],
            [
             "20G",
             7,
             "NE",
             7,
             0.356869014796809
            ],
            [
             "20G",
             4,
             "UT",
             7,
             0.12226373755355151
            ],
            [
             "20G",
             50,
             "NY",
             7,
             0.24750944854944365
            ],
            [
             "20G",
             19,
             "NV",
             7,
             0.6119923442978741
            ],
            [
             "20G",
             19,
             "WI",
             7,
             0.3223771480074208
            ],
            [
             "20G",
             44,
             "WV",
             7,
             2.453008168517201
            ],
            [
             "20G",
             31,
             "NH",
             7,
             2.2504063435325135
            ],
            [
             "20G",
             540,
             "OH",
             7,
             4.576485272870392
            ],
            [
             "20G",
             6,
             "PR",
             7,
             0.18259981971311134
            ],
            [
             "20G",
             4,
             "KS",
             7,
             0.13615259983389383
            ],
            [
             "20G",
             100,
             "FL",
             7,
             0.46429163234584225
            ],
            [
             "20G",
             14,
             "MD",
             7,
             0.2266390210230356
            ],
            [
             "20G",
             134,
             "MI",
             7,
             1.329717164197544
            ],
            [
             "20G",
             67,
             "IA",
             7,
             2.1000705561018176
            ],
            [
             "20G",
             25,
             "ID",
             7,
             1.3593561219418566
            ],
            [
             "20G",
             5,
             "AR",
             7,
             0.16602889434053986
            ],
            [
             "20G",
             315,
             "MN",
             7,
             5.5200268325875745
            ],
            [
             "20G",
             10,
             "CO",
             7,
             0.17319874174578098
            ],
            [
             "20G",
             43,
             "IN",
             7,
             0.6337016073030721
            ],
            [
             "20G",
             7,
             "MO",
             7,
             0.11373028343373821
            ],
            [
             "20G",
             27,
             "AL",
             7,
             0.5373905390206236
            ],
            [
             "20G",
             18,
             "LA",
             7,
             0.38645210559503207
            ],
            [
             "20G",
             141,
             "CT",
             7,
             3.9102104747050976
            ],
            [
             "20G",
             28,
             "KY",
             7,
             0.6214163143088208
            ],
            [
             "20G",
             29,
             "ME",
             7,
             2.128660654056677
            ],
            [
             "20G",
             92,
             "IL",
             7,
             0.7180483321454316
            ],
            [
             "20G",
             68,
             "GA",
             7,
             0.6348075431566439
            ]
           ],
           "geo": "geo",
           "hovertemplate": "<b>%{hovertext}</b><br><br>clade=%{customdata[0]}<br>per_capita=%{customdata[4]}<br>count=%{customdata[1]}<extra></extra>",
           "hovertext": [
            "NC",
            "TX",
            "TN",
            "SC",
            "NE",
            "UT",
            "NY",
            "NV",
            "WI",
            "WV",
            "NH",
            "OH",
            "PR",
            "KS",
            "FL",
            "MD",
            "MI",
            "IA",
            "ID",
            "AR",
            "MN",
            "CO",
            "IN",
            "MO",
            "AL",
            "LA",
            "CT",
            "KY",
            "ME",
            "IL",
            "GA"
           ],
           "legendgroup": "20G",
           "locationmode": "USA-states",
           "locations": [
            "NC",
            "TX",
            "TN",
            "SC",
            "NE",
            "UT",
            "NY",
            "NV",
            "WI",
            "WV",
            "NH",
            "OH",
            "PR",
            "KS",
            "FL",
            "MD",
            "MI",
            "IA",
            "ID",
            "AR",
            "MN",
            "CO",
            "IN",
            "MO",
            "AL",
            "LA",
            "CT",
            "KY",
            "ME",
            "IL",
            "GA"
           ],
           "marker": {
            "color": "rgb(254,199,118)",
            "size": [
             0.46937617415886834,
             0.4357447228998091,
             0.4341006303141152,
             1.074549299833445,
             0.356869014796809,
             0.12226373755355151,
             0.24750944854944365,
             0.6119923442978741,
             0.3223771480074208,
             2.453008168517201,
             2.2504063435325135,
             4.576485272870392,
             0.18259981971311134,
             0.13615259983389383,
             0.46429163234584225,
             0.2266390210230356,
             1.329717164197544,
             2.1000705561018176,
             1.3593561219418566,
             0.16602889434053986,
             5.5200268325875745,
             0.17319874174578098,
             0.6337016073030721,
             0.11373028343373821,
             0.5373905390206236,
             0.38645210559503207,
             3.9102104747050976,
             0.6214163143088208,
             2.128660654056677,
             0.7180483321454316,
             0.6348075431566439
            ],
            "sizemode": "area",
            "sizeref": 0.012698280768222898,
            "symbol": "circle"
           },
           "mode": "markers",
           "name": "20G",
           "showlegend": true,
           "type": "scattergeo"
          },
          {
           "customdata": [
            [
             "21C (Epsilon)",
             2,
             "WA",
             7,
             0.025956224049453875
            ],
            [
             "21C (Epsilon)",
             8,
             "VT",
             7,
             1.2440189899498817
            ],
            [
             "21C (Epsilon)",
             5,
             "OR",
             7,
             0.11800089491878707
            ],
            [
             "21C (Epsilon)",
             82,
             "MS",
             7,
             2.7690737684628837
            ],
            [
             "21C (Epsilon)",
             23,
             "AZ",
             7,
             0.32161076092826374
            ],
            [
             "21C (Epsilon)",
             289,
             "CA",
             7,
             0.7309382619446504
            ],
            [
             "21C (Epsilon)",
             4,
             "MT",
             7,
             0.36892711383707255
            ],
            [
             "21C (Epsilon)",
             3,
             "HI",
             7,
             0.20614717121415874
            ]
           ],
           "geo": "geo",
           "hovertemplate": "<b>%{hovertext}</b><br><br>clade=%{customdata[0]}<br>per_capita=%{customdata[4]}<br>count=%{customdata[1]}<extra></extra>",
           "hovertext": [
            "WA",
            "VT",
            "OR",
            "MS",
            "AZ",
            "CA",
            "MT",
            "HI"
           ],
           "legendgroup": "21C (Epsilon)",
           "locationmode": "USA-states",
           "locations": [
            "WA",
            "VT",
            "OR",
            "MS",
            "AZ",
            "CA",
            "MT",
            "HI"
           ],
           "marker": {
            "color": "rgb(201,233,158)",
            "size": [
             0.025956224049453875,
             1.2440189899498817,
             0.11800089491878707,
             2.7690737684628837,
             0.32161076092826374,
             0.7309382619446504,
             0.36892711383707255,
             0.20614717121415874
            ],
            "sizemode": "area",
            "sizeref": 0.012698280768222898,
            "symbol": "circle"
           },
           "mode": "markers",
           "name": "21C (Epsilon)",
           "showlegend": true,
           "type": "scattergeo"
          },
          {
           "customdata": [
            [
             "21F (Iota)",
             65,
             "RI",
             7,
             5.9232042894934205
            ],
            [
             "21F (Iota)",
             135,
             "MA",
             7,
             1.9203640668872763
            ],
            [
             "21F (Iota)",
             7,
             "DC",
             7,
             0
            ]
           ],
           "geo": "geo",
           "hovertemplate": "<b>%{hovertext}</b><br><br>clade=%{customdata[0]}<br>per_capita=%{customdata[4]}<br>count=%{customdata[1]}<extra></extra>",
           "hovertext": [
            "RI",
            "MA",
            "DC"
           ],
           "legendgroup": "21F (Iota)",
           "locationmode": "USA-states",
           "locations": [
            "RI",
            "MA",
            "DC"
           ],
           "marker": {
            "color": "rgb(137,208,165)",
            "size": [
             5.9232042894934205,
             1.9203640668872763,
             0
            ],
            "sizemode": "area",
            "sizeref": 0.012698280768222898,
            "symbol": "circle"
           },
           "mode": "markers",
           "name": "21F (Iota)",
           "showlegend": true,
           "type": "scattergeo"
          }
         ],
         "name": "7"
        },
        {
         "data": [
          {
           "customdata": [
            [
             "20A",
             1,
             "KS",
             8,
             0.03403814995847346
            ],
            [
             "20A",
             1,
             "SD",
             8,
             0.11278191248800282
            ]
           ],
           "geo": "geo",
           "hovertemplate": "<b>%{hovertext}</b><br><br>clade=%{customdata[0]}<br>per_capita=%{customdata[4]}<br>count=%{customdata[1]}<extra></extra>",
           "hovertext": [
            "KS",
            "SD"
           ],
           "legendgroup": "20A",
           "locationmode": "USA-states",
           "locations": [
            "KS",
            "SD"
           ],
           "marker": {
            "color": "rgb(213,62,79)",
            "size": [
             0.03403814995847346,
             0.11278191248800282
            ],
            "sizemode": "area",
            "sizeref": 0.012698280768222898,
            "symbol": "circle"
           },
           "mode": "markers",
           "name": "20A",
           "showlegend": true,
           "type": "scattergeo"
          },
          {
           "customdata": [
            [
             "20B",
             9,
             "DC",
             8,
             0
            ],
            [
             "20B",
             11,
             "NM",
             8,
             0.5194751223363913
            ],
            [
             "20B",
             5,
             "UT",
             8,
             0.1528296719419394
            ],
            [
             "20B",
             83,
             "TX",
             8,
             0.2847780472494815
            ],
            [
             "20B",
             9,
             "NV",
             8,
             0.2898911104568877
            ],
            [
             "20B",
             1,
             "KS",
             8,
             0.03403814995847346
            ],
            [
             "20B",
             1,
             "HI",
             8,
             0.0687157237380529
            ],
            [
             "20B",
             1,
             "AL",
             8,
             0.019903353297060136
            ],
            [
             "20B",
             47,
             "AK",
             8,
             6.40858696111624
            ],
            [
             "20B",
             6,
             "IA",
             8,
             0.18806601994941652
            ],
            [
             "20B",
             4,
             "NE",
             8,
             0.20392515131246225
            ]
           ],
           "geo": "geo",
           "hovertemplate": "<b>%{hovertext}</b><br><br>clade=%{customdata[0]}<br>per_capita=%{customdata[4]}<br>count=%{customdata[1]}<extra></extra>",
           "hovertext": [
            "DC",
            "NM",
            "UT",
            "TX",
            "NV",
            "KS",
            "HI",
            "AL",
            "AK",
            "IA",
            "NE"
           ],
           "legendgroup": "20B",
           "locationmode": "USA-states",
           "locations": [
            "DC",
            "NM",
            "UT",
            "TX",
            "NV",
            "KS",
            "HI",
            "AL",
            "AK",
            "IA",
            "NE"
           ],
           "marker": {
            "color": "rgb(229,86,73)",
            "size": [
             0,
             0.5194751223363913,
             0.1528296719419394,
             0.2847780472494815,
             0.2898911104568877,
             0.03403814995847346,
             0.0687157237380529,
             0.019903353297060136,
             6.40858696111624,
             0.18806601994941652,
             0.20392515131246225
            ],
            "sizemode": "area",
            "sizeref": 0.012698280768222898,
            "symbol": "circle"
           },
           "mode": "markers",
           "name": "20B",
           "showlegend": true,
           "type": "scattergeo"
          },
          {
           "customdata": [
            [
             "20C",
             7,
             "VA",
             8,
             0.08109930807228914
            ],
            [
             "20C",
             3,
             "KY",
             8,
             0.0665803193902308
            ],
            [
             "20C",
             2,
             "ND",
             8,
             0.25670843312873676
            ]
           ],
           "geo": "geo",
           "hovertemplate": "<b>%{hovertext}</b><br><br>clade=%{customdata[0]}<br>per_capita=%{customdata[4]}<br>count=%{customdata[1]}<extra></extra>",
           "hovertext": [
            "VA",
            "KY",
            "ND"
           ],
           "legendgroup": "20C",
           "locationmode": "USA-states",
           "locations": [
            "VA",
            "KY",
            "ND"
           ],
           "marker": {
            "color": "rgb(244,109,67)",
            "size": [
             0.08109930807228914,
             0.0665803193902308,
             0.25670843312873676
            ],
            "sizemode": "area",
            "sizeref": 0.012698280768222898,
            "symbol": "circle"
           },
           "mode": "markers",
           "name": "20C",
           "showlegend": true,
           "type": "scattergeo"
          },
          {
           "customdata": [
            [
             "20G",
             17,
             "IN",
             8,
             0.2505331935849355
            ],
            [
             "20G",
             28,
             "OH",
             8,
             0.23729923637105738
            ],
            [
             "20G",
             5,
             "AZ",
             8,
             0.06991538281049212
            ],
            [
             "20G",
             5,
             "WV",
             8,
             0.27875092824059106
            ],
            [
             "20G",
             20,
             "TN",
             8,
             0.28940042020941015
            ],
            [
             "20G",
             1,
             "SD",
             8,
             0.11278191248800282
            ],
            [
             "20G",
             2,
             "MT",
             8,
             0.18446355691853628
            ],
            [
             "20G",
             6,
             "SC",
             8,
             0.11722355998183036
            ],
            [
             "20G",
             91,
             "MI",
             8,
             0.9030168801640037
            ],
            [
             "20G",
             1,
             "KS",
             8,
             0.03403814995847346
            ],
            [
             "20G",
             70,
             "WI",
             8,
             1.1877052821326028
            ]
           ],
           "geo": "geo",
           "hovertemplate": "<b>%{hovertext}</b><br><br>clade=%{customdata[0]}<br>per_capita=%{customdata[4]}<br>count=%{customdata[1]}<extra></extra>",
           "hovertext": [
            "IN",
            "OH",
            "AZ",
            "WV",
            "TN",
            "SD",
            "MT",
            "SC",
            "MI",
            "KS",
            "WI"
           ],
           "legendgroup": "20G",
           "locationmode": "USA-states",
           "locations": [
            "IN",
            "OH",
            "AZ",
            "WV",
            "TN",
            "SD",
            "MT",
            "SC",
            "MI",
            "KS",
            "WI"
           ],
           "marker": {
            "color": "rgb(254,199,118)",
            "size": [
             0.2505331935849355,
             0.23729923637105738,
             0.06991538281049212,
             0.27875092824059106,
             0.28940042020941015,
             0.11278191248800282,
             0.18446355691853628,
             0.11722355998183036,
             0.9030168801640037,
             0.03403814995847346,
             1.1877052821326028
            ],
            "sizemode": "area",
            "sizeref": 0.012698280768222898,
            "symbol": "circle"
           },
           "mode": "markers",
           "name": "20G",
           "showlegend": true,
           "type": "scattergeo"
          },
          {
           "customdata": [
            [
             "20J (Gamma, V3)",
             124,
             "IL",
             8,
             0.9678042737612339
            ],
            [
             "20J (Gamma, V3)",
             41,
             "GA",
             8,
             0.38275160690327065
            ],
            [
             "20J (Gamma, V3)",
             1,
             "HI",
             8,
             0.0687157237380529
            ],
            [
             "20J (Gamma, V3)",
             1,
             "KS",
             8,
             0.03403814995847346
            ],
            [
             "20J (Gamma, V3)",
             5,
             "WA",
             8,
             0.06489056012363469
            ]
           ],
           "geo": "geo",
           "hovertemplate": "<b>%{hovertext}</b><br><br>clade=%{customdata[0]}<br>per_capita=%{customdata[4]}<br>count=%{customdata[1]}<extra></extra>",
           "hovertext": [
            "IL",
            "GA",
            "HI",
            "KS",
            "WA"
           ],
           "legendgroup": "20J (Gamma, V3)",
           "locationmode": "USA-states",
           "locations": [
            "IL",
            "GA",
            "HI",
            "KS",
            "WA"
           ],
           "marker": {
            "color": "rgb(255,255,191)",
            "size": [
             0.9678042737612339,
             0.38275160690327065,
             0.0687157237380529,
             0.03403814995847346,
             0.06489056012363469
            ],
            "sizemode": "area",
            "sizeref": 0.012698280768222898,
            "symbol": "circle"
           },
           "mode": "markers",
           "name": "20J (Gamma, V3)",
           "showlegend": true,
           "type": "scattergeo"
          },
          {
           "customdata": [
            [
             "21B (Kappa)",
             1,
             "OK",
             8,
             0.025256651781237992
            ]
           ],
           "geo": "geo",
           "hovertemplate": "<b>%{hovertext}</b><br><br>clade=%{customdata[0]}<br>per_capita=%{customdata[4]}<br>count=%{customdata[1]}<extra></extra>",
           "hovertext": [
            "OK"
           ],
           "legendgroup": "21B (Kappa)",
           "locationmode": "USA-states",
           "locations": [
            "OK"
           ],
           "marker": {
            "color": "rgb(230,245,152)",
            "size": [
             0.025256651781237992
            ],
            "sizemode": "area",
            "sizeref": 0.012698280768222898,
            "symbol": "circle"
           },
           "mode": "markers",
           "name": "21B (Kappa)",
           "showlegend": true,
           "type": "scattergeo"
          },
          {
           "customdata": [
            [
             "21C (Epsilon)",
             78,
             "CA",
             8,
             0.1972774547809091
            ],
            [
             "21C (Epsilon)",
             2,
             "ID",
             8,
             0.10874848975534851
            ],
            [
             "21C (Epsilon)",
             70,
             "CO",
             8,
             1.2123911922204669
            ],
            [
             "21C (Epsilon)",
             2,
             "ND",
             8,
             0.25670843312873676
            ],
            [
             "21C (Epsilon)",
             75,
             "WY",
             8,
             13.001624336267078
            ],
            [
             "21C (Epsilon)",
             70,
             "MN",
             8,
             1.2266726294639057
            ],
            [
             "21C (Epsilon)",
             4,
             "AR",
             8,
             0.1328231154724319
            ],
            [
             "21C (Epsilon)",
             1,
             "OK",
             8,
             0.025256651781237992
            ],
            [
             "21C (Epsilon)",
             33,
             "OR",
             8,
             0.7788059064639946
            ],
            [
             "21C (Epsilon)",
             1,
             "HI",
             8,
             0.0687157237380529
            ]
           ],
           "geo": "geo",
           "hovertemplate": "<b>%{hovertext}</b><br><br>clade=%{customdata[0]}<br>per_capita=%{customdata[4]}<br>count=%{customdata[1]}<extra></extra>",
           "hovertext": [
            "CA",
            "ID",
            "CO",
            "ND",
            "WY",
            "MN",
            "AR",
            "OK",
            "OR",
            "HI"
           ],
           "legendgroup": "21C (Epsilon)",
           "locationmode": "USA-states",
           "locations": [
            "CA",
            "ID",
            "CO",
            "ND",
            "WY",
            "MN",
            "AR",
            "OK",
            "OR",
            "HI"
           ],
           "marker": {
            "color": "rgb(201,233,158)",
            "size": [
             0.1972774547809091,
             0.10874848975534851,
             1.2123911922204669,
             0.25670843312873676,
             13.001624336267078,
             1.2266726294639057,
             0.1328231154724319,
             0.025256651781237992,
             0.7788059064639946,
             0.0687157237380529
            ],
            "sizemode": "area",
            "sizeref": 0.012698280768222898,
            "symbol": "circle"
           },
           "mode": "markers",
           "name": "21C (Epsilon)",
           "showlegend": true,
           "type": "scattergeo"
          },
          {
           "customdata": [
            [
             "21F (Iota)",
             8,
             "LA",
             8,
             0.1717564913755698
            ],
            [
             "21F (Iota)",
             2,
             "DE",
             8,
             0.20203081373971157
            ],
            [
             "21F (Iota)",
             49,
             "MD",
             8,
             0.7932365735806245
            ],
            [
             "21F (Iota)",
             15,
             "PR",
             8,
             0.45649954928277836
            ],
            [
             "21F (Iota)",
             296,
             "PA",
             8,
             2.2764502757119676
            ],
            [
             "21F (Iota)",
             115,
             "MA",
             8,
             1.63586568660768
            ],
            [
             "21F (Iota)",
             1092,
             "NY",
             8,
             5.405606356319849
            ],
            [
             "21F (Iota)",
             45,
             "VT",
             8,
             6.997606818468084
            ],
            [
             "21F (Iota)",
             448,
             "CT",
             8,
             12.423931153672935
            ],
            [
             "21F (Iota)",
             117,
             "FL",
             8,
             0.5432212098446355
            ],
            [
             "21F (Iota)",
             107,
             "MO",
             8,
             1.738448618201427
            ],
            [
             "21F (Iota)",
             76,
             "NC",
             8,
             0.7280120252259998
            ],
            [
             "21F (Iota)",
             1,
             "SD",
             8,
             0.11278191248800282
            ],
            [
             "21F (Iota)",
             285,
             "NJ",
             8,
             3.068147099675164
            ],
            [
             "21F (Iota)",
             6,
             "ME",
             8,
             0.4404125491151745
            ],
            [
             "21F (Iota)",
             263,
             "RI",
             8,
             23.96619581748876
            ],
            [
             "21F (Iota)",
             64,
             "NH",
             8,
             4.646000193099383
            ]
           ],
           "geo": "geo",
           "hovertemplate": "<b>%{hovertext}</b><br><br>clade=%{customdata[0]}<br>per_capita=%{customdata[4]}<br>count=%{customdata[1]}<extra></extra>",
           "hovertext": [
            "LA",
            "DE",
            "MD",
            "PR",
            "PA",
            "MA",
            "NY",
            "VT",
            "CT",
            "FL",
            "MO",
            "NC",
            "SD",
            "NJ",
            "ME",
            "RI",
            "NH"
           ],
           "legendgroup": "21F (Iota)",
           "locationmode": "USA-states",
           "locations": [
            "LA",
            "DE",
            "MD",
            "PR",
            "PA",
            "MA",
            "NY",
            "VT",
            "CT",
            "FL",
            "MO",
            "NC",
            "SD",
            "NJ",
            "ME",
            "RI",
            "NH"
           ],
           "marker": {
            "color": "rgb(137,208,165)",
            "size": [
             0.1717564913755698,
             0.20203081373971157,
             0.7932365735806245,
             0.45649954928277836,
             2.2764502757119676,
             1.63586568660768,
             5.405606356319849,
             6.997606818468084,
             12.423931153672935,
             0.5432212098446355,
             1.738448618201427,
             0.7280120252259998,
             0.11278191248800282,
             3.068147099675164,
             0.4404125491151745,
             23.96619581748876,
             4.646000193099383
            ],
            "sizemode": "area",
            "sizeref": 0.012698280768222898,
            "symbol": "circle"
           },
           "mode": "markers",
           "name": "21F (Iota)",
           "showlegend": true,
           "type": "scattergeo"
          }
         ],
         "name": "8"
        },
        {
         "data": [
          {
           "customdata": [
            [
             "19B",
             15,
             "GA",
             9,
             0.14003107569631854
            ]
           ],
           "geo": "geo",
           "hovertemplate": "<b>%{hovertext}</b><br><br>clade=%{customdata[0]}<br>per_capita=%{customdata[4]}<br>count=%{customdata[1]}<extra></extra>",
           "hovertext": [
            "GA"
           ],
           "legendgroup": "19B",
           "locationmode": "USA-states",
           "locations": [
            "GA"
           ],
           "marker": {
            "color": "rgb(186,32,73)",
            "size": [
             0.14003107569631854
            ],
            "sizemode": "area",
            "sizeref": 0.012698280768222898,
            "symbol": "circle"
           },
           "mode": "markers",
           "name": "19B",
           "showlegend": true,
           "type": "scattergeo"
          },
          {
           "customdata": [
            [
             "20B",
             1,
             "OK",
             9,
             0.025256651781237992
            ],
            [
             "20B",
             3,
             "KY",
             9,
             0.0665803193902308
            ]
           ],
           "geo": "geo",
           "hovertemplate": "<b>%{hovertext}</b><br><br>clade=%{customdata[0]}<br>per_capita=%{customdata[4]}<br>count=%{customdata[1]}<extra></extra>",
           "hovertext": [
            "OK",
            "KY"
           ],
           "legendgroup": "20B",
           "locationmode": "USA-states",
           "locations": [
            "OK",
            "KY"
           ],
           "marker": {
            "color": "rgb(229,86,73)",
            "size": [
             0.025256651781237992,
             0.0665803193902308
            ],
            "sizemode": "area",
            "sizeref": 0.012698280768222898,
            "symbol": "circle"
           },
           "mode": "markers",
           "name": "20B",
           "showlegend": true,
           "type": "scattergeo"
          },
          {
           "customdata": [
            [
             "20C",
             1,
             "NV",
             9,
             0.032210123384098635
            ]
           ],
           "geo": "geo",
           "hovertemplate": "<b>%{hovertext}</b><br><br>clade=%{customdata[0]}<br>per_capita=%{customdata[4]}<br>count=%{customdata[1]}<extra></extra>",
           "hovertext": [
            "NV"
           ],
           "legendgroup": "20C",
           "locationmode": "USA-states",
           "locations": [
            "NV"
           ],
           "marker": {
            "color": "rgb(244,109,67)",
            "size": [
             0.032210123384098635
            ],
            "sizemode": "area",
            "sizeref": 0.012698280768222898,
            "symbol": "circle"
           },
           "mode": "markers",
           "name": "20C",
           "showlegend": true,
           "type": "scattergeo"
          },
          {
           "customdata": [
            [
             "20G",
             21,
             "AZ",
             9,
             0.2936446078040669
            ],
            [
             "20G",
             2,
             "AL",
             9,
             0.03980670659412027
            ]
           ],
           "geo": "geo",
           "hovertemplate": "<b>%{hovertext}</b><br><br>clade=%{customdata[0]}<br>per_capita=%{customdata[4]}<br>count=%{customdata[1]}<extra></extra>",
           "hovertext": [
            "AZ",
            "AL"
           ],
           "legendgroup": "20G",
           "locationmode": "USA-states",
           "locations": [
            "AZ",
            "AL"
           ],
           "marker": {
            "color": "rgb(254,199,118)",
            "size": [
             0.2936446078040669,
             0.03980670659412027
            ],
            "sizemode": "area",
            "sizeref": 0.012698280768222898,
            "symbol": "circle"
           },
           "mode": "markers",
           "name": "20G",
           "showlegend": true,
           "type": "scattergeo"
          },
          {
           "customdata": [
            [
             "20I (Alpha, V1)",
             19,
             "LA",
             9,
             0.4079216670169783
            ]
           ],
           "geo": "geo",
           "hovertemplate": "<b>%{hovertext}</b><br><br>clade=%{customdata[0]}<br>per_capita=%{customdata[4]}<br>count=%{customdata[1]}<extra></extra>",
           "hovertext": [
            "LA"
           ],
           "legendgroup": "20I (Alpha, V1)",
           "locationmode": "USA-states",
           "locations": [
            "LA"
           ],
           "marker": {
            "color": "rgb(255,240,165)",
            "size": [
             0.4079216670169783
            ],
            "sizemode": "area",
            "sizeref": 0.012698280768222898,
            "symbol": "circle"
           },
           "mode": "markers",
           "name": "20I (Alpha, V1)",
           "showlegend": true,
           "type": "scattergeo"
          },
          {
           "customdata": [
            [
             "20J (Gamma, V3)",
             187,
             "IL",
             9,
             1.4595112838173447
            ],
            [
             "20J (Gamma, V3)",
             17,
             "TX",
             9,
             0.05832803377399019
            ],
            [
             "20J (Gamma, V3)",
             4,
             "ID",
             9,
             0.21749697951069702
            ],
            [
             "20J (Gamma, V3)",
             1,
             "IA",
             9,
             0.031344336658236084
            ],
            [
             "20J (Gamma, V3)",
             78,
             "FL",
             9,
             0.362147473229757
            ],
            [
             "20J (Gamma, V3)",
             3,
             "TN",
             9,
             0.04341006303141152
            ],
            [
             "20J (Gamma, V3)",
             1,
             "HI",
             9,
             0.0687157237380529
            ],
            [
             "20J (Gamma, V3)",
             22,
             "IN",
             9,
             0.32421942699226947
            ],
            [
             "20J (Gamma, V3)",
             1525,
             "VA",
             9,
             17.668063544320134
            ],
            [
             "20J (Gamma, V3)",
             10,
             "WA",
             9,
             0.12978112024726937
            ],
            [
             "20J (Gamma, V3)",
             72,
             "CA",
             9,
             0.1821022659516084
            ],
            [
             "20J (Gamma, V3)",
             3,
             "MT",
             9,
             0.27669533537780444
            ],
            [
             "20J (Gamma, V3)",
             14,
             "OH",
             9,
             0.11864961818552869
            ],
            [
             "20J (Gamma, V3)",
             2,
             "KS",
             9,
             0.06807629991694691
            ],
            [
             "20J (Gamma, V3)",
             1,
             "NE",
             9,
             0.05098128782811556
            ]
           ],
           "geo": "geo",
           "hovertemplate": "<b>%{hovertext}</b><br><br>clade=%{customdata[0]}<br>per_capita=%{customdata[4]}<br>count=%{customdata[1]}<extra></extra>",
           "hovertext": [
            "IL",
            "TX",
            "ID",
            "IA",
            "FL",
            "TN",
            "HI",
            "IN",
            "VA",
            "WA",
            "CA",
            "MT",
            "OH",
            "KS",
            "NE"
           ],
           "legendgroup": "20J (Gamma, V3)",
           "locationmode": "USA-states",
           "locations": [
            "IL",
            "TX",
            "ID",
            "IA",
            "FL",
            "TN",
            "HI",
            "IN",
            "VA",
            "WA",
            "CA",
            "MT",
            "OH",
            "KS",
            "NE"
           ],
           "marker": {
            "color": "rgb(255,255,191)",
            "size": [
             1.4595112838173447,
             0.05832803377399019,
             0.21749697951069702,
             0.031344336658236084,
             0.362147473229757,
             0.04341006303141152,
             0.0687157237380529,
             0.32421942699226947,
             17.668063544320134,
             0.12978112024726937,
             0.1821022659516084,
             0.27669533537780444,
             0.11864961818552869,
             0.06807629991694691,
             0.05098128782811556
            ],
            "sizemode": "area",
            "sizeref": 0.012698280768222898,
            "symbol": "circle"
           },
           "mode": "markers",
           "name": "20J (Gamma, V3)",
           "showlegend": true,
           "type": "scattergeo"
          },
          {
           "customdata": [
            [
             "21C (Epsilon)",
             12,
             "OR",
             9,
             0.28320214780508896
            ],
            [
             "21C (Epsilon)",
             2,
             "UT",
             9,
             0.061131868776775754
            ],
            [
             "21C (Epsilon)",
             166,
             "AK",
             9,
             22.634583735006295
            ]
           ],
           "geo": "geo",
           "hovertemplate": "<b>%{hovertext}</b><br><br>clade=%{customdata[0]}<br>per_capita=%{customdata[4]}<br>count=%{customdata[1]}<extra></extra>",
           "hovertext": [
            "OR",
            "UT",
            "AK"
           ],
           "legendgroup": "21C (Epsilon)",
           "locationmode": "USA-states",
           "locations": [
            "OR",
            "UT",
            "AK"
           ],
           "marker": {
            "color": "rgb(201,233,158)",
            "size": [
             0.28320214780508896,
             0.061131868776775754,
             22.634583735006295
            ],
            "sizemode": "area",
            "sizeref": 0.012698280768222898,
            "symbol": "circle"
           },
           "mode": "markers",
           "name": "21C (Epsilon)",
           "showlegend": true,
           "type": "scattergeo"
          },
          {
           "customdata": [
            [
             "21F (Iota)",
             3,
             "MT",
             9,
             0.27669533537780444
            ],
            [
             "21F (Iota)",
             81,
             "PA",
             9,
             0.6229475416644236
            ],
            [
             "21F (Iota)",
             3,
             "PR",
             9,
             0.09129990985655567
            ],
            [
             "21F (Iota)",
             94,
             "RI",
             9,
             8.565864664805869
            ],
            [
             "21F (Iota)",
             10,
             "SC",
             9,
             0.19537259996971726
            ],
            [
             "21F (Iota)",
             2,
             "DC",
             9,
             0
            ],
            [
             "21F (Iota)",
             2,
             "MO",
             9,
             0.03249436669535378
            ],
            [
             "21F (Iota)",
             8,
             "NM",
             9,
             0.37780008897192097
            ],
            [
             "21F (Iota)",
             26,
             "MD",
             9,
             0.42090103904278037
            ],
            [
             "21F (Iota)",
             130,
             "MA",
             9,
             1.849239471817377
            ],
            [
             "21F (Iota)",
             37,
             "NJ",
             9,
             0.3983208515367757
            ],
            [
             "21F (Iota)",
             2,
             "ND",
             9,
             0.25670843312873676
            ],
            [
             "21F (Iota)",
             19,
             "NH",
             9,
             1.3792813073263792
            ],
            [
             "21F (Iota)",
             13,
             "MI",
             9,
             0.12900241145200053
            ],
            [
             "21F (Iota)",
             1,
             "AR",
             9,
             0.03320577886810797
            ],
            [
             "21F (Iota)",
             78,
             "MN",
             9,
             1.3668637871169234
            ],
            [
             "21F (Iota)",
             60,
             "ME",
             9,
             4.404125491151745
            ],
            [
             "21F (Iota)",
             6,
             "WI",
             9,
             0.10180330989708025
            ],
            [
             "21F (Iota)",
             12,
             "VT",
             9,
             1.8660284849248223
            ],
            [
             "21F (Iota)",
             455,
             "WV",
             9,
             25.366334469893786
            ],
            [
             "21F (Iota)",
             49,
             "NC",
             9,
             0.46937617415886834
            ],
            [
             "21F (Iota)",
             28,
             "CT",
             9,
             0.7764956971045585
            ],
            [
             "21F (Iota)",
             28,
             "NY",
             9,
             0.13860529118768844
            ],
            [
             "21F (Iota)",
             149,
             "CO",
             9,
             2.5806612520121366
            ]
           ],
           "geo": "geo",
           "hovertemplate": "<b>%{hovertext}</b><br><br>clade=%{customdata[0]}<br>per_capita=%{customdata[4]}<br>count=%{customdata[1]}<extra></extra>",
           "hovertext": [
            "MT",
            "PA",
            "PR",
            "RI",
            "SC",
            "DC",
            "MO",
            "NM",
            "MD",
            "MA",
            "NJ",
            "ND",
            "NH",
            "MI",
            "AR",
            "MN",
            "ME",
            "WI",
            "VT",
            "WV",
            "NC",
            "CT",
            "NY",
            "CO"
           ],
           "legendgroup": "21F (Iota)",
           "locationmode": "USA-states",
           "locations": [
            "MT",
            "PA",
            "PR",
            "RI",
            "SC",
            "DC",
            "MO",
            "NM",
            "MD",
            "MA",
            "NJ",
            "ND",
            "NH",
            "MI",
            "AR",
            "MN",
            "ME",
            "WI",
            "VT",
            "WV",
            "NC",
            "CT",
            "NY",
            "CO"
           ],
           "marker": {
            "color": "rgb(137,208,165)",
            "size": [
             0.27669533537780444,
             0.6229475416644236,
             0.09129990985655567,
             8.565864664805869,
             0.19537259996971726,
             0,
             0.03249436669535378,
             0.37780008897192097,
             0.42090103904278037,
             1.849239471817377,
             0.3983208515367757,
             0.25670843312873676,
             1.3792813073263792,
             0.12900241145200053,
             0.03320577886810797,
             1.3668637871169234,
             4.404125491151745,
             0.10180330989708025,
             1.8660284849248223,
             25.366334469893786,
             0.46937617415886834,
             0.7764956971045585,
             0.13860529118768844,
             2.5806612520121366
            ],
            "sizemode": "area",
            "sizeref": 0.012698280768222898,
            "symbol": "circle"
           },
           "mode": "markers",
           "name": "21F (Iota)",
           "showlegend": true,
           "type": "scattergeo"
          }
         ],
         "name": "9"
        },
        {
         "data": [
          {
           "customdata": [
            [
             "20A",
             3,
             "AL",
             10,
             0.05971005989118041
            ]
           ],
           "geo": "geo",
           "hovertemplate": "<b>%{hovertext}</b><br><br>clade=%{customdata[0]}<br>per_capita=%{customdata[4]}<br>count=%{customdata[1]}<extra></extra>",
           "hovertext": [
            "AL"
           ],
           "legendgroup": "20A",
           "locationmode": "USA-states",
           "locations": [
            "AL"
           ],
           "marker": {
            "color": "rgb(213,62,79)",
            "size": [
             0.05971005989118041
            ],
            "sizemode": "area",
            "sizeref": 0.012698280768222898,
            "symbol": "circle"
           },
           "mode": "markers",
           "name": "20A",
           "showlegend": true,
           "type": "scattergeo"
          },
          {
           "customdata": [
            [
             "20B",
             42,
             "AK",
             10,
             5.726822390784725
            ]
           ],
           "geo": "geo",
           "hovertemplate": "<b>%{hovertext}</b><br><br>clade=%{customdata[0]}<br>per_capita=%{customdata[4]}<br>count=%{customdata[1]}<extra></extra>",
           "hovertext": [
            "AK"
           ],
           "legendgroup": "20B",
           "locationmode": "USA-states",
           "locations": [
            "AK"
           ],
           "marker": {
            "color": "rgb(229,86,73)",
            "size": [
             5.726822390784725
            ],
            "sizemode": "area",
            "sizeref": 0.012698280768222898,
            "symbol": "circle"
           },
           "mode": "markers",
           "name": "20B",
           "showlegend": true,
           "type": "scattergeo"
          },
          {
           "customdata": [
            [
             "20C",
             9,
             "AZ",
             10,
             0.1258476890588858
            ],
            [
             "20C",
             6,
             "ME",
             10,
             0.4404125491151745
            ],
            [
             "20C",
             27,
             "ID",
             10,
             1.4681046116972052
            ],
            [
             "20C",
             1,
             "ND",
             10,
             0.12835421656436838
            ]
           ],
           "geo": "geo",
           "hovertemplate": "<b>%{hovertext}</b><br><br>clade=%{customdata[0]}<br>per_capita=%{customdata[4]}<br>count=%{customdata[1]}<extra></extra>",
           "hovertext": [
            "AZ",
            "ME",
            "ID",
            "ND"
           ],
           "legendgroup": "20C",
           "locationmode": "USA-states",
           "locations": [
            "AZ",
            "ME",
            "ID",
            "ND"
           ],
           "marker": {
            "color": "rgb(244,109,67)",
            "size": [
             0.1258476890588858,
             0.4404125491151745,
             1.4681046116972052,
             0.12835421656436838
            ],
            "sizemode": "area",
            "sizeref": 0.012698280768222898,
            "symbol": "circle"
           },
           "mode": "markers",
           "name": "20C",
           "showlegend": true,
           "type": "scattergeo"
          },
          {
           "customdata": [
            [
             "20I (Alpha, V1)",
             29,
             "WV",
             10,
             1.616755383795428
            ],
            [
             "20I (Alpha, V1)",
             3,
             "UT",
             10,
             0.09169780316516364
            ],
            [
             "20I (Alpha, V1)",
             38,
             "TN",
             10,
             0.5498607983978793
            ],
            [
             "20I (Alpha, V1)",
             101,
             "FL",
             10,
             0.4689345486693007
            ],
            [
             "20I (Alpha, V1)",
             64,
             "WA",
             10,
             0.830599169582524
            ],
            [
             "20I (Alpha, V1)",
             93,
             "CA",
             10,
             0.23521542685416083
            ],
            [
             "20I (Alpha, V1)",
             101,
             "TX",
             10,
             0.34653714183370643
            ],
            [
             "20I (Alpha, V1)",
             2918,
             "VA",
             10,
             33.80682585070568
            ],
            [
             "20I (Alpha, V1)",
             156,
             "CO",
             10,
             2.701900371234183
            ],
            [
             "20I (Alpha, V1)",
             66,
             "CT",
             10,
             1.8303112860321735
            ],
            [
             "20I (Alpha, V1)",
             9,
             "WI",
             10,
             0.15270496484562038
            ],
            [
             "20I (Alpha, V1)",
             38,
             "GA",
             10,
             0.35474539176400693
            ],
            [
             "20I (Alpha, V1)",
             1,
             "NE",
             10,
             0.05098128782811556
            ],
            [
             "20I (Alpha, V1)",
             13,
             "MD",
             10,
             0.21045051952139018
            ],
            [
             "20I (Alpha, V1)",
             16,
             "OR",
             10,
             0.3776028637401186
            ],
            [
             "20I (Alpha, V1)",
             12,
             "IN",
             10,
             0.1768469601776015
            ],
            [
             "20I (Alpha, V1)",
             1,
             "OK",
             10,
             0.025256651781237992
            ],
            [
             "20I (Alpha, V1)",
             1,
             "MI",
             10,
             0.009923262419384656
            ],
            [
             "20I (Alpha, V1)",
             105,
             "OH",
             10,
             0.889872136391465
            ],
            [
             "20I (Alpha, V1)",
             2,
             "KY",
             10,
             0.0443868795934872
            ],
            [
             "20I (Alpha, V1)",
             14,
             "NJ",
             10,
             0.15071599787877998
            ],
            [
             "20I (Alpha, V1)",
             10,
             "NV",
             10,
             0.3221012338409863
            ],
            [
             "20I (Alpha, V1)",
             49,
             "LA",
             10,
             1.052008509675365
            ],
            [
             "20I (Alpha, V1)",
             18,
             "MA",
             10,
             0.2560485422516368
            ],
            [
             "20I (Alpha, V1)",
             72,
             "MN",
             10,
             1.26172041887716
            ],
            [
             "20I (Alpha, V1)",
             117,
             "IL",
             10,
             0.9131701615327773
            ],
            [
             "20I (Alpha, V1)",
             13,
             "NM",
             10,
             0.6139251445793715
            ],
            [
             "20I (Alpha, V1)",
             7,
             "MS",
             10,
             0.23638434608829495
            ],
            [
             "20I (Alpha, V1)",
             2,
             "SD",
             10,
             0.22556382497600563
            ],
            [
             "20I (Alpha, V1)",
             19,
             "MT",
             10,
             1.7524037907260945
            ],
            [
             "20I (Alpha, V1)",
             1,
             "HI",
             10,
             0.0687157237380529
            ],
            [
             "20I (Alpha, V1)",
             43,
             "NC",
             10,
             0.4119015405883946
            ],
            [
             "20I (Alpha, V1)",
             46,
             "MO",
             10,
             0.7473704339931369
            ],
            [
             "20I (Alpha, V1)",
             129,
             "SC",
             10,
             2.5203065396093525
            ]
           ],
           "geo": "geo",
           "hovertemplate": "<b>%{hovertext}</b><br><br>clade=%{customdata[0]}<br>per_capita=%{customdata[4]}<br>count=%{customdata[1]}<extra></extra>",
           "hovertext": [
            "WV",
            "UT",
            "TN",
            "FL",
            "WA",
            "CA",
            "TX",
            "VA",
            "CO",
            "CT",
            "WI",
            "GA",
            "NE",
            "MD",
            "OR",
            "IN",
            "OK",
            "MI",
            "OH",
            "KY",
            "NJ",
            "NV",
            "LA",
            "MA",
            "MN",
            "IL",
            "NM",
            "MS",
            "SD",
            "MT",
            "HI",
            "NC",
            "MO",
            "SC"
           ],
           "legendgroup": "20I (Alpha, V1)",
           "locationmode": "USA-states",
           "locations": [
            "WV",
            "UT",
            "TN",
            "FL",
            "WA",
            "CA",
            "TX",
            "VA",
            "CO",
            "CT",
            "WI",
            "GA",
            "NE",
            "MD",
            "OR",
            "IN",
            "OK",
            "MI",
            "OH",
            "KY",
            "NJ",
            "NV",
            "LA",
            "MA",
            "MN",
            "IL",
            "NM",
            "MS",
            "SD",
            "MT",
            "HI",
            "NC",
            "MO",
            "SC"
           ],
           "marker": {
            "color": "rgb(255,240,165)",
            "size": [
             1.616755383795428,
             0.09169780316516364,
             0.5498607983978793,
             0.4689345486693007,
             0.830599169582524,
             0.23521542685416083,
             0.34653714183370643,
             33.80682585070568,
             2.701900371234183,
             1.8303112860321735,
             0.15270496484562038,
             0.35474539176400693,
             0.05098128782811556,
             0.21045051952139018,
             0.3776028637401186,
             0.1768469601776015,
             0.025256651781237992,
             0.009923262419384656,
             0.889872136391465,
             0.0443868795934872,
             0.15071599787877998,
             0.3221012338409863,
             1.052008509675365,
             0.2560485422516368,
             1.26172041887716,
             0.9131701615327773,
             0.6139251445793715,
             0.23638434608829495,
             0.22556382497600563,
             1.7524037907260945,
             0.0687157237380529,
             0.4119015405883946,
             0.7473704339931369,
             2.5203065396093525
            ],
            "sizemode": "area",
            "sizeref": 0.012698280768222898,
            "symbol": "circle"
           },
           "mode": "markers",
           "name": "20I (Alpha, V1)",
           "showlegend": true,
           "type": "scattergeo"
          },
          {
           "customdata": [
            [
             "20J (Gamma, V3)",
             23,
             "PA",
             10,
             0.17688633899113262
            ],
            [
             "20J (Gamma, V3)",
             6,
             "NY",
             10,
             0.02970113382593324
            ],
            [
             "20J (Gamma, V3)",
             55,
             "IA",
             10,
             1.7239385162029845
            ]
           ],
           "geo": "geo",
           "hovertemplate": "<b>%{hovertext}</b><br><br>clade=%{customdata[0]}<br>per_capita=%{customdata[4]}<br>count=%{customdata[1]}<extra></extra>",
           "hovertext": [
            "PA",
            "NY",
            "IA"
           ],
           "legendgroup": "20J (Gamma, V3)",
           "locationmode": "USA-states",
           "locations": [
            "PA",
            "NY",
            "IA"
           ],
           "marker": {
            "color": "rgb(255,255,191)",
            "size": [
             0.17688633899113262,
             0.02970113382593324,
             1.7239385162029845
            ],
            "sizemode": "area",
            "sizeref": 0.012698280768222898,
            "symbol": "circle"
           },
           "mode": "markers",
           "name": "20J (Gamma, V3)",
           "showlegend": true,
           "type": "scattergeo"
          },
          {
           "customdata": [
            [
             "21F (Iota)",
             5,
             "AR",
             10,
             0.16602889434053986
            ],
            [
             "21F (Iota)",
             3,
             "UT",
             10,
             0.09169780316516364
            ],
            [
             "21F (Iota)",
             34,
             "WY",
             10,
             5.8940696991077415
            ],
            [
             "21F (Iota)",
             1,
             "MI",
             10,
             0.009923262419384656
            ],
            [
             "21F (Iota)",
             3,
             "NH",
             10,
             0.2177812590515336
            ],
            [
             "21F (Iota)",
             2,
             "KY",
             10,
             0.0443868795934872
            ],
            [
             "21F (Iota)",
             3,
             "PR",
             10,
             0.09129990985655567
            ],
            [
             "21F (Iota)",
             82,
             "RI",
             10,
             7.472350026745546
            ]
           ],
           "geo": "geo",
           "hovertemplate": "<b>%{hovertext}</b><br><br>clade=%{customdata[0]}<br>per_capita=%{customdata[4]}<br>count=%{customdata[1]}<extra></extra>",
           "hovertext": [
            "AR",
            "UT",
            "WY",
            "MI",
            "NH",
            "KY",
            "PR",
            "RI"
           ],
           "legendgroup": "21F (Iota)",
           "locationmode": "USA-states",
           "locations": [
            "AR",
            "UT",
            "WY",
            "MI",
            "NH",
            "KY",
            "PR",
            "RI"
           ],
           "marker": {
            "color": "rgb(137,208,165)",
            "size": [
             0.16602889434053986,
             0.09169780316516364,
             5.8940696991077415,
             0.009923262419384656,
             0.2177812590515336,
             0.0443868795934872,
             0.09129990985655567,
             7.472350026745546
            ],
            "sizemode": "area",
            "sizeref": 0.012698280768222898,
            "symbol": "circle"
           },
           "mode": "markers",
           "name": "21F (Iota)",
           "showlegend": true,
           "type": "scattergeo"
          }
         ],
         "name": "10"
        },
        {
         "data": [
          {
           "customdata": [
            [
             "20A",
             3,
             "MN",
             11,
             0.05257168411988166
            ],
            [
             "20A",
             1,
             "OK",
             11,
             0.025256651781237992
            ]
           ],
           "geo": "geo",
           "hovertemplate": "<b>%{hovertext}</b><br><br>clade=%{customdata[0]}<br>per_capita=%{customdata[4]}<br>count=%{customdata[1]}<extra></extra>",
           "hovertext": [
            "MN",
            "OK"
           ],
           "legendgroup": "20A",
           "locationmode": "USA-states",
           "locations": [
            "MN",
            "OK"
           ],
           "marker": {
            "color": "rgb(213,62,79)",
            "size": [
             0.05257168411988166,
             0.025256651781237992
            ],
            "sizemode": "area",
            "sizeref": 0.012698280768222898,
            "symbol": "circle"
           },
           "mode": "markers",
           "name": "20A",
           "showlegend": true,
           "type": "scattergeo"
          },
          {
           "customdata": [
            [
             "20C",
             4,
             "RI",
             11,
             0.3645048793534412
            ],
            [
             "20C",
             4,
             "PR",
             11,
             0.12173321314207422
            ],
            [
             "20C",
             30,
             "MA",
             11,
             0.4267475704193947
            ]
           ],
           "geo": "geo",
           "hovertemplate": "<b>%{hovertext}</b><br><br>clade=%{customdata[0]}<br>per_capita=%{customdata[4]}<br>count=%{customdata[1]}<extra></extra>",
           "hovertext": [
            "RI",
            "PR",
            "MA"
           ],
           "legendgroup": "20C",
           "locationmode": "USA-states",
           "locations": [
            "RI",
            "PR",
            "MA"
           ],
           "marker": {
            "color": "rgb(244,109,67)",
            "size": [
             0.3645048793534412,
             0.12173321314207422,
             0.4267475704193947
            ],
            "sizemode": "area",
            "sizeref": 0.012698280768222898,
            "symbol": "circle"
           },
           "mode": "markers",
           "name": "20C",
           "showlegend": true,
           "type": "scattergeo"
          },
          {
           "customdata": [
            [
             "20D",
             7,
             "MI",
             11,
             0.0694628369356926
            ]
           ],
           "geo": "geo",
           "hovertemplate": "<b>%{hovertext}</b><br><br>clade=%{customdata[0]}<br>per_capita=%{customdata[4]}<br>count=%{customdata[1]}<extra></extra>",
           "hovertext": [
            "MI"
           ],
           "legendgroup": "20D",
           "locationmode": "USA-states",
           "locations": [
            "MI"
           ],
           "marker": {
            "color": "rgb(249,142,82)",
            "size": [
             0.0694628369356926
            ],
            "sizemode": "area",
            "sizeref": 0.012698280768222898,
            "symbol": "circle"
           },
           "mode": "markers",
           "name": "20D",
           "showlegend": true,
           "type": "scattergeo"
          },
          {
           "customdata": [
            [
             "20I (Alpha, V1)",
             41,
             "WA",
             11,
             0.5321025930138045
            ],
            [
             "20I (Alpha, V1)",
             6,
             "MS",
             11,
             0.2026151537899671
            ],
            [
             "20I (Alpha, V1)",
             43,
             "MD",
             11,
             0.6961055645707521
            ],
            [
             "20I (Alpha, V1)",
             25,
             "NC",
             11,
             0.23947763987697362
            ],
            [
             "20I (Alpha, V1)",
             24,
             "WV",
             11,
             1.3380044555548372
            ],
            [
             "20I (Alpha, V1)",
             4,
             "NH",
             11,
             0.2903750120687114
            ],
            [
             "20I (Alpha, V1)",
             18,
             "AR",
             11,
             0.5977040196259436
            ],
            [
             "20I (Alpha, V1)",
             3,
             "MO",
             11,
             0.04874155004303067
            ],
            [
             "20I (Alpha, V1)",
             2,
             "ND",
             11,
             0.25670843312873676
            ],
            [
             "20I (Alpha, V1)",
             8,
             "AK",
             11,
             1.0908233125304236
            ],
            [
             "20I (Alpha, V1)",
             3,
             "NE",
             11,
             0.15294386348434671
            ],
            [
             "20I (Alpha, V1)",
             2,
             "SD",
             11,
             0.22556382497600563
            ],
            [
             "20I (Alpha, V1)",
             968,
             "NM",
             11,
             45.71381076560243
            ],
            [
             "20I (Alpha, V1)",
             7,
             "GU",
             11,
             0
            ],
            [
             "20I (Alpha, V1)",
             11,
             "SC",
             11,
             0.214909859966689
            ],
            [
             "20I (Alpha, V1)",
             17,
             "TN",
             11,
             0.24599035717799864
            ],
            [
             "20I (Alpha, V1)",
             1,
             "DE",
             11,
             0.10101540686985579
            ],
            [
             "20I (Alpha, V1)",
             15,
             "PA",
             11,
             0.11536065586378215
            ],
            [
             "20I (Alpha, V1)",
             4,
             "ID",
             11,
             0.21749697951069702
            ],
            [
             "20I (Alpha, V1)",
             40,
             "OR",
             11,
             0.9440071593502966
            ],
            [
             "20I (Alpha, V1)",
             1,
             "OK",
             11,
             0.025256651781237992
            ],
            [
             "20I (Alpha, V1)",
             5,
             "IN",
             11,
             0.07368623340733396
            ],
            [
             "20I (Alpha, V1)",
             19,
             "CO",
             11,
             0.3290776093169838
            ],
            [
             "20I (Alpha, V1)",
             4,
             "KS",
             11,
             0.13615259983389383
            ],
            [
             "20I (Alpha, V1)",
             9,
             "VA",
             11,
             0.10427053895008605
            ],
            [
             "20I (Alpha, V1)",
             27,
             "GA",
             11,
             0.25205593625337336
            ],
            [
             "20I (Alpha, V1)",
             20,
             "NV",
             11,
             0.6442024676819726
            ],
            [
             "20I (Alpha, V1)",
             1,
             "CT",
             11,
             0.02773198918230566
            ],
            [
             "20I (Alpha, V1)",
             10,
             "KY",
             11,
             0.22193439796743603
            ]
           ],
           "geo": "geo",
           "hovertemplate": "<b>%{hovertext}</b><br><br>clade=%{customdata[0]}<br>per_capita=%{customdata[4]}<br>count=%{customdata[1]}<extra></extra>",
           "hovertext": [
            "WA",
            "MS",
            "MD",
            "NC",
            "WV",
            "NH",
            "AR",
            "MO",
            "ND",
            "AK",
            "NE",
            "SD",
            "NM",
            "GU",
            "SC",
            "TN",
            "DE",
            "PA",
            "ID",
            "OR",
            "OK",
            "IN",
            "CO",
            "KS",
            "VA",
            "GA",
            "NV",
            "CT",
            "KY"
           ],
           "legendgroup": "20I (Alpha, V1)",
           "locationmode": "USA-states",
           "locations": [
            "WA",
            "MS",
            "MD",
            "NC",
            "WV",
            "NH",
            "AR",
            "MO",
            "ND",
            "AK",
            "NE",
            "SD",
            "NM",
            "GU",
            "SC",
            "TN",
            "DE",
            "PA",
            "ID",
            "OR",
            "OK",
            "IN",
            "CO",
            "KS",
            "VA",
            "GA",
            "NV",
            "CT",
            "KY"
           ],
           "marker": {
            "color": "rgb(255,240,165)",
            "size": [
             0.5321025930138045,
             0.2026151537899671,
             0.6961055645707521,
             0.23947763987697362,
             1.3380044555548372,
             0.2903750120687114,
             0.5977040196259436,
             0.04874155004303067,
             0.25670843312873676,
             1.0908233125304236,
             0.15294386348434671,
             0.22556382497600563,
             45.71381076560243,
             0,
             0.214909859966689,
             0.24599035717799864,
             0.10101540686985579,
             0.11536065586378215,
             0.21749697951069702,
             0.9440071593502966,
             0.025256651781237992,
             0.07368623340733396,
             0.3290776093169838,
             0.13615259983389383,
             0.10427053895008605,
             0.25205593625337336,
             0.6442024676819726,
             0.02773198918230566,
             0.22193439796743603
            ],
            "sizemode": "area",
            "sizeref": 0.012698280768222898,
            "symbol": "circle"
           },
           "mode": "markers",
           "name": "20I (Alpha, V1)",
           "showlegend": true,
           "type": "scattergeo"
          },
          {
           "customdata": [
            [
             "20J (Gamma, V3)",
             3,
             "WI",
             11,
             0.050901654948540126
            ],
            [
             "20J (Gamma, V3)",
             4,
             "HI",
             11,
             0.2748628949522116
            ],
            [
             "20J (Gamma, V3)",
             9,
             "IL",
             11,
             0.0702438585794444
            ],
            [
             "20J (Gamma, V3)",
             6,
             "AZ",
             11,
             0.08389845937259054
            ],
            [
             "20J (Gamma, V3)",
             1,
             "CT",
             11,
             0.02773198918230566
            ],
            [
             "20J (Gamma, V3)",
             446,
             "CA",
             11,
             1.1280223696446852
            ]
           ],
           "geo": "geo",
           "hovertemplate": "<b>%{hovertext}</b><br><br>clade=%{customdata[0]}<br>per_capita=%{customdata[4]}<br>count=%{customdata[1]}<extra></extra>",
           "hovertext": [
            "WI",
            "HI",
            "IL",
            "AZ",
            "CT",
            "CA"
           ],
           "legendgroup": "20J (Gamma, V3)",
           "locationmode": "USA-states",
           "locations": [
            "WI",
            "HI",
            "IL",
            "AZ",
            "CT",
            "CA"
           ],
           "marker": {
            "color": "rgb(255,255,191)",
            "size": [
             0.050901654948540126,
             0.2748628949522116,
             0.0702438585794444,
             0.08389845937259054,
             0.02773198918230566,
             1.1280223696446852
            ],
            "sizemode": "area",
            "sizeref": 0.012698280768222898,
            "symbol": "circle"
           },
           "mode": "markers",
           "name": "20J (Gamma, V3)",
           "showlegend": true,
           "type": "scattergeo"
          },
          {
           "customdata": [
            [
             "21A (Delta)",
             753,
             "NJ",
             11,
             8.10636760019438
            ],
            [
             "21A (Delta)",
             31,
             "AL",
             11,
             0.6170039522088642
            ],
            [
             "21A (Delta)",
             559,
             "FL",
             11,
             2.5953902248132583
            ],
            [
             "21A (Delta)",
             126,
             "TX",
             11,
             0.4323136620895744
            ],
            [
             "21A (Delta)",
             1,
             "CT",
             11,
             0.02773198918230566
            ],
            [
             "21A (Delta)",
             3,
             "UT",
             11,
             0.09169780316516364
            ],
            [
             "21A (Delta)",
             29,
             "OH",
             11,
             0.24577420909859513
            ],
            [
             "21A (Delta)",
             13,
             "NY",
             11,
             0.06435245662285534
            ]
           ],
           "geo": "geo",
           "hovertemplate": "<b>%{hovertext}</b><br><br>clade=%{customdata[0]}<br>per_capita=%{customdata[4]}<br>count=%{customdata[1]}<extra></extra>",
           "hovertext": [
            "NJ",
            "AL",
            "FL",
            "TX",
            "CT",
            "UT",
            "OH",
            "NY"
           ],
           "legendgroup": "21A (Delta)",
           "locationmode": "USA-states",
           "locations": [
            "NJ",
            "AL",
            "FL",
            "TX",
            "CT",
            "UT",
            "OH",
            "NY"
           ],
           "marker": {
            "color": "rgb(243,250,172)",
            "size": [
             8.10636760019438,
             0.6170039522088642,
             2.5953902248132583,
             0.4323136620895744,
             0.02773198918230566,
             0.09169780316516364,
             0.24577420909859513,
             0.06435245662285534
            ],
            "sizemode": "area",
            "sizeref": 0.012698280768222898,
            "symbol": "circle"
           },
           "mode": "markers",
           "name": "21A (Delta)",
           "showlegend": true,
           "type": "scattergeo"
          },
          {
           "customdata": [
            [
             "21F (Iota)",
             2,
             "ND",
             11,
             0.25670843312873676
            ]
           ],
           "geo": "geo",
           "hovertemplate": "<b>%{hovertext}</b><br><br>clade=%{customdata[0]}<br>per_capita=%{customdata[4]}<br>count=%{customdata[1]}<extra></extra>",
           "hovertext": [
            "ND"
           ],
           "legendgroup": "21F (Iota)",
           "locationmode": "USA-states",
           "locations": [
            "ND"
           ],
           "marker": {
            "color": "rgb(137,208,165)",
            "size": [
             0.25670843312873676
            ],
            "sizemode": "area",
            "sizeref": 0.012698280768222898,
            "symbol": "circle"
           },
           "mode": "markers",
           "name": "21F (Iota)",
           "showlegend": true,
           "type": "scattergeo"
          },
          {
           "customdata": [
            [
             "21G (Lambda)",
             7,
             "MI",
             11,
             0.0694628369356926
            ]
           ],
           "geo": "geo",
           "hovertemplate": "<b>%{hovertext}</b><br><br>clade=%{customdata[0]}<br>per_capita=%{customdata[4]}<br>count=%{customdata[1]}<extra></extra>",
           "hovertext": [
            "MI"
           ],
           "legendgroup": "21G (Lambda)",
           "locationmode": "USA-states",
           "locations": [
            "MI"
           ],
           "marker": {
            "color": "rgb(102,194,165)",
            "size": [
             0.0694628369356926
            ],
            "sizemode": "area",
            "sizeref": 0.012698280768222898,
            "symbol": "circle"
           },
           "mode": "markers",
           "name": "21G (Lambda)",
           "showlegend": true,
           "type": "scattergeo"
          },
          {
           "customdata": [
            [
             "21J (Delta)",
             282,
             "LA",
             11,
             6.054416320988836
            ]
           ],
           "geo": "geo",
           "hovertemplate": "<b>%{hovertext}</b><br><br>clade=%{customdata[0]}<br>per_capita=%{customdata[4]}<br>count=%{customdata[1]}<extra></extra>",
           "hovertext": [
            "LA"
           ],
           "legendgroup": "21J (Delta)",
           "locationmode": "USA-states",
           "locations": [
            "LA"
           ],
           "marker": {
            "color": "rgb(72,108,176)",
            "size": [
             6.054416320988836
            ],
            "sizemode": "area",
            "sizeref": 0.012698280768222898,
            "symbol": "circle"
           },
           "mode": "markers",
           "name": "21J (Delta)",
           "showlegend": true,
           "type": "scattergeo"
          }
         ],
         "name": "11"
        }
       ],
       "layout": {
        "geo": {
         "center": {},
         "domain": {
          "x": [
           0,
           1
          ],
          "y": [
           0,
           1
          ]
         },
         "projection": {
          "type": "albers usa"
         },
         "scope": "usa"
        },
        "legend": {
         "itemsizing": "constant",
         "title": {
          "text": "clade"
         },
         "tracegroupgap": 0
        },
        "sliders": [
         {
          "active": 0,
          "currentvalue": {
           "prefix": "timespan="
          },
          "len": 0.9,
          "pad": {
           "b": 10,
           "t": 60
          },
          "steps": [
           {
            "args": [
             [
              "1"
             ],
             {
              "frame": {
               "duration": 0,
               "redraw": true
              },
              "fromcurrent": true,
              "mode": "immediate",
              "transition": {
               "duration": 0,
               "easing": "linear"
              }
             }
            ],
            "label": "1",
            "method": "animate"
           },
           {
            "args": [
             [
              "2"
             ],
             {
              "frame": {
               "duration": 0,
               "redraw": true
              },
              "fromcurrent": true,
              "mode": "immediate",
              "transition": {
               "duration": 0,
               "easing": "linear"
              }
             }
            ],
            "label": "2",
            "method": "animate"
           },
           {
            "args": [
             [
              "3"
             ],
             {
              "frame": {
               "duration": 0,
               "redraw": true
              },
              "fromcurrent": true,
              "mode": "immediate",
              "transition": {
               "duration": 0,
               "easing": "linear"
              }
             }
            ],
            "label": "3",
            "method": "animate"
           },
           {
            "args": [
             [
              "4"
             ],
             {
              "frame": {
               "duration": 0,
               "redraw": true
              },
              "fromcurrent": true,
              "mode": "immediate",
              "transition": {
               "duration": 0,
               "easing": "linear"
              }
             }
            ],
            "label": "4",
            "method": "animate"
           },
           {
            "args": [
             [
              "5"
             ],
             {
              "frame": {
               "duration": 0,
               "redraw": true
              },
              "fromcurrent": true,
              "mode": "immediate",
              "transition": {
               "duration": 0,
               "easing": "linear"
              }
             }
            ],
            "label": "5",
            "method": "animate"
           },
           {
            "args": [
             [
              "6"
             ],
             {
              "frame": {
               "duration": 0,
               "redraw": true
              },
              "fromcurrent": true,
              "mode": "immediate",
              "transition": {
               "duration": 0,
               "easing": "linear"
              }
             }
            ],
            "label": "6",
            "method": "animate"
           },
           {
            "args": [
             [
              "7"
             ],
             {
              "frame": {
               "duration": 0,
               "redraw": true
              },
              "fromcurrent": true,
              "mode": "immediate",
              "transition": {
               "duration": 0,
               "easing": "linear"
              }
             }
            ],
            "label": "7",
            "method": "animate"
           },
           {
            "args": [
             [
              "8"
             ],
             {
              "frame": {
               "duration": 0,
               "redraw": true
              },
              "fromcurrent": true,
              "mode": "immediate",
              "transition": {
               "duration": 0,
               "easing": "linear"
              }
             }
            ],
            "label": "8",
            "method": "animate"
           },
           {
            "args": [
             [
              "9"
             ],
             {
              "frame": {
               "duration": 0,
               "redraw": true
              },
              "fromcurrent": true,
              "mode": "immediate",
              "transition": {
               "duration": 0,
               "easing": "linear"
              }
             }
            ],
            "label": "9",
            "method": "animate"
           },
           {
            "args": [
             [
              "10"
             ],
             {
              "frame": {
               "duration": 0,
               "redraw": true
              },
              "fromcurrent": true,
              "mode": "immediate",
              "transition": {
               "duration": 0,
               "easing": "linear"
              }
             }
            ],
            "label": "10",
            "method": "animate"
           },
           {
            "args": [
             [
              "11"
             ],
             {
              "frame": {
               "duration": 0,
               "redraw": true
              },
              "fromcurrent": true,
              "mode": "immediate",
              "transition": {
               "duration": 0,
               "easing": "linear"
              }
             }
            ],
            "label": "11",
            "method": "animate"
           }
          ],
          "x": 0.1,
          "xanchor": "left",
          "y": 0,
          "yanchor": "top"
         }
        ],
        "template": {
         "data": {
          "bar": [
           {
            "error_x": {
             "color": "#2a3f5f"
            },
            "error_y": {
             "color": "#2a3f5f"
            },
            "marker": {
             "line": {
              "color": "#E5ECF6",
              "width": 0.5
             },
             "pattern": {
              "fillmode": "overlay",
              "size": 10,
              "solidity": 0.2
             }
            },
            "type": "bar"
           }
          ],
          "barpolar": [
           {
            "marker": {
             "line": {
              "color": "#E5ECF6",
              "width": 0.5
             },
             "pattern": {
              "fillmode": "overlay",
              "size": 10,
              "solidity": 0.2
             }
            },
            "type": "barpolar"
           }
          ],
          "carpet": [
           {
            "aaxis": {
             "endlinecolor": "#2a3f5f",
             "gridcolor": "white",
             "linecolor": "white",
             "minorgridcolor": "white",
             "startlinecolor": "#2a3f5f"
            },
            "baxis": {
             "endlinecolor": "#2a3f5f",
             "gridcolor": "white",
             "linecolor": "white",
             "minorgridcolor": "white",
             "startlinecolor": "#2a3f5f"
            },
            "type": "carpet"
           }
          ],
          "choropleth": [
           {
            "colorbar": {
             "outlinewidth": 0,
             "ticks": ""
            },
            "type": "choropleth"
           }
          ],
          "contour": [
           {
            "colorbar": {
             "outlinewidth": 0,
             "ticks": ""
            },
            "colorscale": [
             [
              0,
              "#0d0887"
             ],
             [
              0.1111111111111111,
              "#46039f"
             ],
             [
              0.2222222222222222,
              "#7201a8"
             ],
             [
              0.3333333333333333,
              "#9c179e"
             ],
             [
              0.4444444444444444,
              "#bd3786"
             ],
             [
              0.5555555555555556,
              "#d8576b"
             ],
             [
              0.6666666666666666,
              "#ed7953"
             ],
             [
              0.7777777777777778,
              "#fb9f3a"
             ],
             [
              0.8888888888888888,
              "#fdca26"
             ],
             [
              1,
              "#f0f921"
             ]
            ],
            "type": "contour"
           }
          ],
          "contourcarpet": [
           {
            "colorbar": {
             "outlinewidth": 0,
             "ticks": ""
            },
            "type": "contourcarpet"
           }
          ],
          "heatmap": [
           {
            "colorbar": {
             "outlinewidth": 0,
             "ticks": ""
            },
            "colorscale": [
             [
              0,
              "#0d0887"
             ],
             [
              0.1111111111111111,
              "#46039f"
             ],
             [
              0.2222222222222222,
              "#7201a8"
             ],
             [
              0.3333333333333333,
              "#9c179e"
             ],
             [
              0.4444444444444444,
              "#bd3786"
             ],
             [
              0.5555555555555556,
              "#d8576b"
             ],
             [
              0.6666666666666666,
              "#ed7953"
             ],
             [
              0.7777777777777778,
              "#fb9f3a"
             ],
             [
              0.8888888888888888,
              "#fdca26"
             ],
             [
              1,
              "#f0f921"
             ]
            ],
            "type": "heatmap"
           }
          ],
          "heatmapgl": [
           {
            "colorbar": {
             "outlinewidth": 0,
             "ticks": ""
            },
            "colorscale": [
             [
              0,
              "#0d0887"
             ],
             [
              0.1111111111111111,
              "#46039f"
             ],
             [
              0.2222222222222222,
              "#7201a8"
             ],
             [
              0.3333333333333333,
              "#9c179e"
             ],
             [
              0.4444444444444444,
              "#bd3786"
             ],
             [
              0.5555555555555556,
              "#d8576b"
             ],
             [
              0.6666666666666666,
              "#ed7953"
             ],
             [
              0.7777777777777778,
              "#fb9f3a"
             ],
             [
              0.8888888888888888,
              "#fdca26"
             ],
             [
              1,
              "#f0f921"
             ]
            ],
            "type": "heatmapgl"
           }
          ],
          "histogram": [
           {
            "marker": {
             "pattern": {
              "fillmode": "overlay",
              "size": 10,
              "solidity": 0.2
             }
            },
            "type": "histogram"
           }
          ],
          "histogram2d": [
           {
            "colorbar": {
             "outlinewidth": 0,
             "ticks": ""
            },
            "colorscale": [
             [
              0,
              "#0d0887"
             ],
             [
              0.1111111111111111,
              "#46039f"
             ],
             [
              0.2222222222222222,
              "#7201a8"
             ],
             [
              0.3333333333333333,
              "#9c179e"
             ],
             [
              0.4444444444444444,
              "#bd3786"
             ],
             [
              0.5555555555555556,
              "#d8576b"
             ],
             [
              0.6666666666666666,
              "#ed7953"
             ],
             [
              0.7777777777777778,
              "#fb9f3a"
             ],
             [
              0.8888888888888888,
              "#fdca26"
             ],
             [
              1,
              "#f0f921"
             ]
            ],
            "type": "histogram2d"
           }
          ],
          "histogram2dcontour": [
           {
            "colorbar": {
             "outlinewidth": 0,
             "ticks": ""
            },
            "colorscale": [
             [
              0,
              "#0d0887"
             ],
             [
              0.1111111111111111,
              "#46039f"
             ],
             [
              0.2222222222222222,
              "#7201a8"
             ],
             [
              0.3333333333333333,
              "#9c179e"
             ],
             [
              0.4444444444444444,
              "#bd3786"
             ],
             [
              0.5555555555555556,
              "#d8576b"
             ],
             [
              0.6666666666666666,
              "#ed7953"
             ],
             [
              0.7777777777777778,
              "#fb9f3a"
             ],
             [
              0.8888888888888888,
              "#fdca26"
             ],
             [
              1,
              "#f0f921"
             ]
            ],
            "type": "histogram2dcontour"
           }
          ],
          "mesh3d": [
           {
            "colorbar": {
             "outlinewidth": 0,
             "ticks": ""
            },
            "type": "mesh3d"
           }
          ],
          "parcoords": [
           {
            "line": {
             "colorbar": {
              "outlinewidth": 0,
              "ticks": ""
             }
            },
            "type": "parcoords"
           }
          ],
          "pie": [
           {
            "automargin": true,
            "type": "pie"
           }
          ],
          "scatter": [
           {
            "marker": {
             "colorbar": {
              "outlinewidth": 0,
              "ticks": ""
             }
            },
            "type": "scatter"
           }
          ],
          "scatter3d": [
           {
            "line": {
             "colorbar": {
              "outlinewidth": 0,
              "ticks": ""
             }
            },
            "marker": {
             "colorbar": {
              "outlinewidth": 0,
              "ticks": ""
             }
            },
            "type": "scatter3d"
           }
          ],
          "scattercarpet": [
           {
            "marker": {
             "colorbar": {
              "outlinewidth": 0,
              "ticks": ""
             }
            },
            "type": "scattercarpet"
           }
          ],
          "scattergeo": [
           {
            "marker": {
             "colorbar": {
              "outlinewidth": 0,
              "ticks": ""
             }
            },
            "type": "scattergeo"
           }
          ],
          "scattergl": [
           {
            "marker": {
             "colorbar": {
              "outlinewidth": 0,
              "ticks": ""
             }
            },
            "type": "scattergl"
           }
          ],
          "scattermapbox": [
           {
            "marker": {
             "colorbar": {
              "outlinewidth": 0,
              "ticks": ""
             }
            },
            "type": "scattermapbox"
           }
          ],
          "scatterpolar": [
           {
            "marker": {
             "colorbar": {
              "outlinewidth": 0,
              "ticks": ""
             }
            },
            "type": "scatterpolar"
           }
          ],
          "scatterpolargl": [
           {
            "marker": {
             "colorbar": {
              "outlinewidth": 0,
              "ticks": ""
             }
            },
            "type": "scatterpolargl"
           }
          ],
          "scatterternary": [
           {
            "marker": {
             "colorbar": {
              "outlinewidth": 0,
              "ticks": ""
             }
            },
            "type": "scatterternary"
           }
          ],
          "surface": [
           {
            "colorbar": {
             "outlinewidth": 0,
             "ticks": ""
            },
            "colorscale": [
             [
              0,
              "#0d0887"
             ],
             [
              0.1111111111111111,
              "#46039f"
             ],
             [
              0.2222222222222222,
              "#7201a8"
             ],
             [
              0.3333333333333333,
              "#9c179e"
             ],
             [
              0.4444444444444444,
              "#bd3786"
             ],
             [
              0.5555555555555556,
              "#d8576b"
             ],
             [
              0.6666666666666666,
              "#ed7953"
             ],
             [
              0.7777777777777778,
              "#fb9f3a"
             ],
             [
              0.8888888888888888,
              "#fdca26"
             ],
             [
              1,
              "#f0f921"
             ]
            ],
            "type": "surface"
           }
          ],
          "table": [
           {
            "cells": {
             "fill": {
              "color": "#EBF0F8"
             },
             "line": {
              "color": "white"
             }
            },
            "header": {
             "fill": {
              "color": "#C8D4E3"
             },
             "line": {
              "color": "white"
             }
            },
            "type": "table"
           }
          ]
         },
         "layout": {
          "annotationdefaults": {
           "arrowcolor": "#2a3f5f",
           "arrowhead": 0,
           "arrowwidth": 1
          },
          "autotypenumbers": "strict",
          "coloraxis": {
           "colorbar": {
            "outlinewidth": 0,
            "ticks": ""
           }
          },
          "colorscale": {
           "diverging": [
            [
             0,
             "#8e0152"
            ],
            [
             0.1,
             "#c51b7d"
            ],
            [
             0.2,
             "#de77ae"
            ],
            [
             0.3,
             "#f1b6da"
            ],
            [
             0.4,
             "#fde0ef"
            ],
            [
             0.5,
             "#f7f7f7"
            ],
            [
             0.6,
             "#e6f5d0"
            ],
            [
             0.7,
             "#b8e186"
            ],
            [
             0.8,
             "#7fbc41"
            ],
            [
             0.9,
             "#4d9221"
            ],
            [
             1,
             "#276419"
            ]
           ],
           "sequential": [
            [
             0,
             "#0d0887"
            ],
            [
             0.1111111111111111,
             "#46039f"
            ],
            [
             0.2222222222222222,
             "#7201a8"
            ],
            [
             0.3333333333333333,
             "#9c179e"
            ],
            [
             0.4444444444444444,
             "#bd3786"
            ],
            [
             0.5555555555555556,
             "#d8576b"
            ],
            [
             0.6666666666666666,
             "#ed7953"
            ],
            [
             0.7777777777777778,
             "#fb9f3a"
            ],
            [
             0.8888888888888888,
             "#fdca26"
            ],
            [
             1,
             "#f0f921"
            ]
           ],
           "sequentialminus": [
            [
             0,
             "#0d0887"
            ],
            [
             0.1111111111111111,
             "#46039f"
            ],
            [
             0.2222222222222222,
             "#7201a8"
            ],
            [
             0.3333333333333333,
             "#9c179e"
            ],
            [
             0.4444444444444444,
             "#bd3786"
            ],
            [
             0.5555555555555556,
             "#d8576b"
            ],
            [
             0.6666666666666666,
             "#ed7953"
            ],
            [
             0.7777777777777778,
             "#fb9f3a"
            ],
            [
             0.8888888888888888,
             "#fdca26"
            ],
            [
             1,
             "#f0f921"
            ]
           ]
          },
          "colorway": [
           "#636efa",
           "#EF553B",
           "#00cc96",
           "#ab63fa",
           "#FFA15A",
           "#19d3f3",
           "#FF6692",
           "#B6E880",
           "#FF97FF",
           "#FECB52"
          ],
          "font": {
           "color": "#2a3f5f"
          },
          "geo": {
           "bgcolor": "white",
           "lakecolor": "white",
           "landcolor": "#E5ECF6",
           "showlakes": true,
           "showland": true,
           "subunitcolor": "white"
          },
          "hoverlabel": {
           "align": "left"
          },
          "hovermode": "closest",
          "mapbox": {
           "style": "light"
          },
          "paper_bgcolor": "white",
          "plot_bgcolor": "#E5ECF6",
          "polar": {
           "angularaxis": {
            "gridcolor": "white",
            "linecolor": "white",
            "ticks": ""
           },
           "bgcolor": "#E5ECF6",
           "radialaxis": {
            "gridcolor": "white",
            "linecolor": "white",
            "ticks": ""
           }
          },
          "scene": {
           "xaxis": {
            "backgroundcolor": "#E5ECF6",
            "gridcolor": "white",
            "gridwidth": 2,
            "linecolor": "white",
            "showbackground": true,
            "ticks": "",
            "zerolinecolor": "white"
           },
           "yaxis": {
            "backgroundcolor": "#E5ECF6",
            "gridcolor": "white",
            "gridwidth": 2,
            "linecolor": "white",
            "showbackground": true,
            "ticks": "",
            "zerolinecolor": "white"
           },
           "zaxis": {
            "backgroundcolor": "#E5ECF6",
            "gridcolor": "white",
            "gridwidth": 2,
            "linecolor": "white",
            "showbackground": true,
            "ticks": "",
            "zerolinecolor": "white"
           }
          },
          "shapedefaults": {
           "line": {
            "color": "#2a3f5f"
           }
          },
          "ternary": {
           "aaxis": {
            "gridcolor": "white",
            "linecolor": "white",
            "ticks": ""
           },
           "baxis": {
            "gridcolor": "white",
            "linecolor": "white",
            "ticks": ""
           },
           "bgcolor": "#E5ECF6",
           "caxis": {
            "gridcolor": "white",
            "linecolor": "white",
            "ticks": ""
           }
          },
          "title": {
           "x": 0.05
          },
          "xaxis": {
           "automargin": true,
           "gridcolor": "white",
           "linecolor": "white",
           "ticks": "",
           "title": {
            "standoff": 15
           },
           "zerolinecolor": "white",
           "zerolinewidth": 2
          },
          "yaxis": {
           "automargin": true,
           "gridcolor": "white",
           "linecolor": "white",
           "ticks": "",
           "title": {
            "standoff": 15
           },
           "zerolinecolor": "white",
           "zerolinewidth": 2
          }
         }
        },
        "title": {
         "text": "Top clade Per Capita (most recordings per 100,000 people) for each state and timestamp"
        },
        "updatemenus": [
         {
          "buttons": [
           {
            "args": [
             null,
             {
              "frame": {
               "duration": 500,
               "redraw": true
              },
              "fromcurrent": true,
              "mode": "immediate",
              "transition": {
               "duration": 500,
               "easing": "linear"
              }
             }
            ],
            "label": "&#9654;",
            "method": "animate"
           },
           {
            "args": [
             [
              null
             ],
             {
              "frame": {
               "duration": 0,
               "redraw": true
              },
              "fromcurrent": true,
              "mode": "immediate",
              "transition": {
               "duration": 0,
               "easing": "linear"
              }
             }
            ],
            "label": "&#9724;",
            "method": "animate"
           }
          ],
          "direction": "left",
          "pad": {
           "r": 10,
           "t": 70
          },
          "showactive": false,
          "type": "buttons",
          "x": 0.1,
          "xanchor": "right",
          "y": 0,
          "yanchor": "top"
         }
        ]
       }
      },
      "text/html": [
       "<div>                            <div id=\"90383bf2-c0b4-4eb5-8ced-4c34e441e1c1\" class=\"plotly-graph-div\" style=\"height:525px; width:100%;\"></div>            <script type=\"text/javascript\">                require([\"plotly\"], function(Plotly) {                    window.PLOTLYENV=window.PLOTLYENV || {};                                    if (document.getElementById(\"90383bf2-c0b4-4eb5-8ced-4c34e441e1c1\")) {                    Plotly.newPlot(                        \"90383bf2-c0b4-4eb5-8ced-4c34e441e1c1\",                        [{\"customdata\":[[\"19A\",10,\"CA\",1,0.02529198138216783]],\"geo\":\"geo\",\"hovertemplate\":\"<b>%{hovertext}</b><br><br>clade=%{customdata[0]}<br>per_capita=%{customdata[4]}<br>count=%{customdata[1]}<extra></extra>\",\"hovertext\":[\"CA\"],\"legendgroup\":\"19A\",\"locationmode\":\"USA-states\",\"locations\":[\"CA\"],\"marker\":{\"color\":\"rgb(158,1,66)\",\"size\":[0.02529198138216783],\"sizemode\":\"area\",\"sizeref\":0.012698280768222898,\"symbol\":\"circle\"},\"mode\":\"markers\",\"name\":\"19A\",\"showlegend\":true,\"type\":\"scattergeo\"},{\"customdata\":[[\"19B\",2,\"AZ\",1,0.027966153124196844],[\"19B\",1444,\"WA\",1,18.740393763705697],[\"19B\",1,\"CO\",1,0.017319874174578097],[\"19B\",2,\"FL\",1,0.009285832646916846],[\"19B\",12,\"UT\",1,0.36679121266065456],[\"19B\",2,\"NV\",1,0.06442024676819727]],\"geo\":\"geo\",\"hovertemplate\":\"<b>%{hovertext}</b><br><br>clade=%{customdata[0]}<br>per_capita=%{customdata[4]}<br>count=%{customdata[1]}<extra></extra>\",\"hovertext\":[\"AZ\",\"WA\",\"CO\",\"FL\",\"UT\",\"NV\"],\"legendgroup\":\"19B\",\"locationmode\":\"USA-states\",\"locations\":[\"AZ\",\"WA\",\"CO\",\"FL\",\"UT\",\"NV\"],\"marker\":{\"color\":\"rgb(186,32,73)\",\"size\":[0.027966153124196844,18.740393763705697,0.017319874174578097,0.009285832646916846,0.36679121266065456,0.06442024676819727],\"sizemode\":\"area\",\"sizeref\":0.012698280768222898,\"symbol\":\"circle\"},\"mode\":\"markers\",\"name\":\"19B\",\"showlegend\":true,\"type\":\"scattergeo\"},{\"customdata\":[[\"20A\",6,\"WI\",1,0.10180330989708025],[\"20A\",9,\"IN\",1,0.13263522013320114],[\"20A\",5,\"IA\",1,0.1567216832911804],[\"20A\",4,\"MA\",1,0.05689967605591929],[\"20A\",3,\"VA\",1,0.03475684631669535],[\"20A\",3,\"ME\",1,0.22020627455758726],[\"20A\",1,\"MD\",1,0.0161885015016454]],\"geo\":\"geo\",\"hovertemplate\":\"<b>%{hovertext}</b><br><br>clade=%{customdata[0]}<br>per_capita=%{customdata[4]}<br>count=%{customdata[1]}<extra></extra>\",\"hovertext\":[\"WI\",\"IN\",\"IA\",\"MA\",\"VA\",\"ME\",\"MD\"],\"legendgroup\":\"20A\",\"locationmode\":\"USA-states\",\"locations\":[\"WI\",\"IN\",\"IA\",\"MA\",\"VA\",\"ME\",\"MD\"],\"marker\":{\"color\":\"rgb(213,62,79)\",\"size\":[0.10180330989708025,0.13263522013320114,0.1567216832911804,0.05689967605591929,0.03475684631669535,0.22020627455758726,0.0161885015016454],\"sizemode\":\"area\",\"sizeref\":0.012698280768222898,\"symbol\":\"circle\"},\"mode\":\"markers\",\"name\":\"20A\",\"showlegend\":true,\"type\":\"scattergeo\"},{\"customdata\":[[\"20B\",2,\"GA\",1,0.018670810092842473]],\"geo\":\"geo\",\"hovertemplate\":\"<b>%{hovertext}</b><br><br>clade=%{customdata[0]}<br>per_capita=%{customdata[4]}<br>count=%{customdata[1]}<extra></extra>\",\"hovertext\":[\"GA\"],\"legendgroup\":\"20B\",\"locationmode\":\"USA-states\",\"locations\":[\"GA\"],\"marker\":{\"color\":\"rgb(229,86,73)\",\"size\":[0.018670810092842473],\"sizemode\":\"area\",\"sizeref\":0.012698280768222898,\"symbol\":\"circle\"},\"mode\":\"markers\",\"name\":\"20B\",\"showlegend\":true,\"type\":\"scattergeo\"},{\"customdata\":[[\"20C\",1,\"LA\",1,0.021469561421946226],[\"20C\",1,\"PA\",1,0.007690710390918809],[\"20C\",23,\"NY\",1,0.11385434633274406],[\"20C\",1,\"ID\",1,0.054374244877674255],[\"20C\",1,\"TX\",1,0.003431060810234717],[\"20C\",2,\"CT\",1,0.05546397836461132],[\"20C\",8,\"MN\",1,0.1401911576530178],[\"20C\",9,\"MI\",1,0.0893093617744619],[\"20C\",1,\"MD\",1,0.0161885015016454]],\"geo\":\"geo\",\"hovertemplate\":\"<b>%{hovertext}</b><br><br>clade=%{customdata[0]}<br>per_capita=%{customdata[4]}<br>count=%{customdata[1]}<extra></extra>\",\"hovertext\":[\"LA\",\"PA\",\"NY\",\"ID\",\"TX\",\"CT\",\"MN\",\"MI\",\"MD\"],\"legendgroup\":\"20C\",\"locationmode\":\"USA-states\",\"locations\":[\"LA\",\"PA\",\"NY\",\"ID\",\"TX\",\"CT\",\"MN\",\"MI\",\"MD\"],\"marker\":{\"color\":\"rgb(244,109,67)\",\"size\":[0.021469561421946226,0.007690710390918809,0.11385434633274406,0.054374244877674255,0.003431060810234717,0.05546397836461132,0.1401911576530178,0.0893093617744619,0.0161885015016454],\"sizemode\":\"area\",\"sizeref\":0.012698280768222898,\"symbol\":\"circle\"},\"mode\":\"markers\",\"name\":\"20C\",\"showlegend\":true,\"type\":\"scattergeo\"}],                        {\"template\":{\"data\":{\"bar\":[{\"error_x\":{\"color\":\"#2a3f5f\"},\"error_y\":{\"color\":\"#2a3f5f\"},\"marker\":{\"line\":{\"color\":\"#E5ECF6\",\"width\":0.5},\"pattern\":{\"fillmode\":\"overlay\",\"size\":10,\"solidity\":0.2}},\"type\":\"bar\"}],\"barpolar\":[{\"marker\":{\"line\":{\"color\":\"#E5ECF6\",\"width\":0.5},\"pattern\":{\"fillmode\":\"overlay\",\"size\":10,\"solidity\":0.2}},\"type\":\"barpolar\"}],\"carpet\":[{\"aaxis\":{\"endlinecolor\":\"#2a3f5f\",\"gridcolor\":\"white\",\"linecolor\":\"white\",\"minorgridcolor\":\"white\",\"startlinecolor\":\"#2a3f5f\"},\"baxis\":{\"endlinecolor\":\"#2a3f5f\",\"gridcolor\":\"white\",\"linecolor\":\"white\",\"minorgridcolor\":\"white\",\"startlinecolor\":\"#2a3f5f\"},\"type\":\"carpet\"}],\"choropleth\":[{\"colorbar\":{\"outlinewidth\":0,\"ticks\":\"\"},\"type\":\"choropleth\"}],\"contour\":[{\"colorbar\":{\"outlinewidth\":0,\"ticks\":\"\"},\"colorscale\":[[0.0,\"#0d0887\"],[0.1111111111111111,\"#46039f\"],[0.2222222222222222,\"#7201a8\"],[0.3333333333333333,\"#9c179e\"],[0.4444444444444444,\"#bd3786\"],[0.5555555555555556,\"#d8576b\"],[0.6666666666666666,\"#ed7953\"],[0.7777777777777778,\"#fb9f3a\"],[0.8888888888888888,\"#fdca26\"],[1.0,\"#f0f921\"]],\"type\":\"contour\"}],\"contourcarpet\":[{\"colorbar\":{\"outlinewidth\":0,\"ticks\":\"\"},\"type\":\"contourcarpet\"}],\"heatmap\":[{\"colorbar\":{\"outlinewidth\":0,\"ticks\":\"\"},\"colorscale\":[[0.0,\"#0d0887\"],[0.1111111111111111,\"#46039f\"],[0.2222222222222222,\"#7201a8\"],[0.3333333333333333,\"#9c179e\"],[0.4444444444444444,\"#bd3786\"],[0.5555555555555556,\"#d8576b\"],[0.6666666666666666,\"#ed7953\"],[0.7777777777777778,\"#fb9f3a\"],[0.8888888888888888,\"#fdca26\"],[1.0,\"#f0f921\"]],\"type\":\"heatmap\"}],\"heatmapgl\":[{\"colorbar\":{\"outlinewidth\":0,\"ticks\":\"\"},\"colorscale\":[[0.0,\"#0d0887\"],[0.1111111111111111,\"#46039f\"],[0.2222222222222222,\"#7201a8\"],[0.3333333333333333,\"#9c179e\"],[0.4444444444444444,\"#bd3786\"],[0.5555555555555556,\"#d8576b\"],[0.6666666666666666,\"#ed7953\"],[0.7777777777777778,\"#fb9f3a\"],[0.8888888888888888,\"#fdca26\"],[1.0,\"#f0f921\"]],\"type\":\"heatmapgl\"}],\"histogram\":[{\"marker\":{\"pattern\":{\"fillmode\":\"overlay\",\"size\":10,\"solidity\":0.2}},\"type\":\"histogram\"}],\"histogram2d\":[{\"colorbar\":{\"outlinewidth\":0,\"ticks\":\"\"},\"colorscale\":[[0.0,\"#0d0887\"],[0.1111111111111111,\"#46039f\"],[0.2222222222222222,\"#7201a8\"],[0.3333333333333333,\"#9c179e\"],[0.4444444444444444,\"#bd3786\"],[0.5555555555555556,\"#d8576b\"],[0.6666666666666666,\"#ed7953\"],[0.7777777777777778,\"#fb9f3a\"],[0.8888888888888888,\"#fdca26\"],[1.0,\"#f0f921\"]],\"type\":\"histogram2d\"}],\"histogram2dcontour\":[{\"colorbar\":{\"outlinewidth\":0,\"ticks\":\"\"},\"colorscale\":[[0.0,\"#0d0887\"],[0.1111111111111111,\"#46039f\"],[0.2222222222222222,\"#7201a8\"],[0.3333333333333333,\"#9c179e\"],[0.4444444444444444,\"#bd3786\"],[0.5555555555555556,\"#d8576b\"],[0.6666666666666666,\"#ed7953\"],[0.7777777777777778,\"#fb9f3a\"],[0.8888888888888888,\"#fdca26\"],[1.0,\"#f0f921\"]],\"type\":\"histogram2dcontour\"}],\"mesh3d\":[{\"colorbar\":{\"outlinewidth\":0,\"ticks\":\"\"},\"type\":\"mesh3d\"}],\"parcoords\":[{\"line\":{\"colorbar\":{\"outlinewidth\":0,\"ticks\":\"\"}},\"type\":\"parcoords\"}],\"pie\":[{\"automargin\":true,\"type\":\"pie\"}],\"scatter\":[{\"marker\":{\"colorbar\":{\"outlinewidth\":0,\"ticks\":\"\"}},\"type\":\"scatter\"}],\"scatter3d\":[{\"line\":{\"colorbar\":{\"outlinewidth\":0,\"ticks\":\"\"}},\"marker\":{\"colorbar\":{\"outlinewidth\":0,\"ticks\":\"\"}},\"type\":\"scatter3d\"}],\"scattercarpet\":[{\"marker\":{\"colorbar\":{\"outlinewidth\":0,\"ticks\":\"\"}},\"type\":\"scattercarpet\"}],\"scattergeo\":[{\"marker\":{\"colorbar\":{\"outlinewidth\":0,\"ticks\":\"\"}},\"type\":\"scattergeo\"}],\"scattergl\":[{\"marker\":{\"colorbar\":{\"outlinewidth\":0,\"ticks\":\"\"}},\"type\":\"scattergl\"}],\"scattermapbox\":[{\"marker\":{\"colorbar\":{\"outlinewidth\":0,\"ticks\":\"\"}},\"type\":\"scattermapbox\"}],\"scatterpolar\":[{\"marker\":{\"colorbar\":{\"outlinewidth\":0,\"ticks\":\"\"}},\"type\":\"scatterpolar\"}],\"scatterpolargl\":[{\"marker\":{\"colorbar\":{\"outlinewidth\":0,\"ticks\":\"\"}},\"type\":\"scatterpolargl\"}],\"scatterternary\":[{\"marker\":{\"colorbar\":{\"outlinewidth\":0,\"ticks\":\"\"}},\"type\":\"scatterternary\"}],\"surface\":[{\"colorbar\":{\"outlinewidth\":0,\"ticks\":\"\"},\"colorscale\":[[0.0,\"#0d0887\"],[0.1111111111111111,\"#46039f\"],[0.2222222222222222,\"#7201a8\"],[0.3333333333333333,\"#9c179e\"],[0.4444444444444444,\"#bd3786\"],[0.5555555555555556,\"#d8576b\"],[0.6666666666666666,\"#ed7953\"],[0.7777777777777778,\"#fb9f3a\"],[0.8888888888888888,\"#fdca26\"],[1.0,\"#f0f921\"]],\"type\":\"surface\"}],\"table\":[{\"cells\":{\"fill\":{\"color\":\"#EBF0F8\"},\"line\":{\"color\":\"white\"}},\"header\":{\"fill\":{\"color\":\"#C8D4E3\"},\"line\":{\"color\":\"white\"}},\"type\":\"table\"}]},\"layout\":{\"annotationdefaults\":{\"arrowcolor\":\"#2a3f5f\",\"arrowhead\":0,\"arrowwidth\":1},\"autotypenumbers\":\"strict\",\"coloraxis\":{\"colorbar\":{\"outlinewidth\":0,\"ticks\":\"\"}},\"colorscale\":{\"diverging\":[[0,\"#8e0152\"],[0.1,\"#c51b7d\"],[0.2,\"#de77ae\"],[0.3,\"#f1b6da\"],[0.4,\"#fde0ef\"],[0.5,\"#f7f7f7\"],[0.6,\"#e6f5d0\"],[0.7,\"#b8e186\"],[0.8,\"#7fbc41\"],[0.9,\"#4d9221\"],[1,\"#276419\"]],\"sequential\":[[0.0,\"#0d0887\"],[0.1111111111111111,\"#46039f\"],[0.2222222222222222,\"#7201a8\"],[0.3333333333333333,\"#9c179e\"],[0.4444444444444444,\"#bd3786\"],[0.5555555555555556,\"#d8576b\"],[0.6666666666666666,\"#ed7953\"],[0.7777777777777778,\"#fb9f3a\"],[0.8888888888888888,\"#fdca26\"],[1.0,\"#f0f921\"]],\"sequentialminus\":[[0.0,\"#0d0887\"],[0.1111111111111111,\"#46039f\"],[0.2222222222222222,\"#7201a8\"],[0.3333333333333333,\"#9c179e\"],[0.4444444444444444,\"#bd3786\"],[0.5555555555555556,\"#d8576b\"],[0.6666666666666666,\"#ed7953\"],[0.7777777777777778,\"#fb9f3a\"],[0.8888888888888888,\"#fdca26\"],[1.0,\"#f0f921\"]]},\"colorway\":[\"#636efa\",\"#EF553B\",\"#00cc96\",\"#ab63fa\",\"#FFA15A\",\"#19d3f3\",\"#FF6692\",\"#B6E880\",\"#FF97FF\",\"#FECB52\"],\"font\":{\"color\":\"#2a3f5f\"},\"geo\":{\"bgcolor\":\"white\",\"lakecolor\":\"white\",\"landcolor\":\"#E5ECF6\",\"showlakes\":true,\"showland\":true,\"subunitcolor\":\"white\"},\"hoverlabel\":{\"align\":\"left\"},\"hovermode\":\"closest\",\"mapbox\":{\"style\":\"light\"},\"paper_bgcolor\":\"white\",\"plot_bgcolor\":\"#E5ECF6\",\"polar\":{\"angularaxis\":{\"gridcolor\":\"white\",\"linecolor\":\"white\",\"ticks\":\"\"},\"bgcolor\":\"#E5ECF6\",\"radialaxis\":{\"gridcolor\":\"white\",\"linecolor\":\"white\",\"ticks\":\"\"}},\"scene\":{\"xaxis\":{\"backgroundcolor\":\"#E5ECF6\",\"gridcolor\":\"white\",\"gridwidth\":2,\"linecolor\":\"white\",\"showbackground\":true,\"ticks\":\"\",\"zerolinecolor\":\"white\"},\"yaxis\":{\"backgroundcolor\":\"#E5ECF6\",\"gridcolor\":\"white\",\"gridwidth\":2,\"linecolor\":\"white\",\"showbackground\":true,\"ticks\":\"\",\"zerolinecolor\":\"white\"},\"zaxis\":{\"backgroundcolor\":\"#E5ECF6\",\"gridcolor\":\"white\",\"gridwidth\":2,\"linecolor\":\"white\",\"showbackground\":true,\"ticks\":\"\",\"zerolinecolor\":\"white\"}},\"shapedefaults\":{\"line\":{\"color\":\"#2a3f5f\"}},\"ternary\":{\"aaxis\":{\"gridcolor\":\"white\",\"linecolor\":\"white\",\"ticks\":\"\"},\"baxis\":{\"gridcolor\":\"white\",\"linecolor\":\"white\",\"ticks\":\"\"},\"bgcolor\":\"#E5ECF6\",\"caxis\":{\"gridcolor\":\"white\",\"linecolor\":\"white\",\"ticks\":\"\"}},\"title\":{\"x\":0.05},\"xaxis\":{\"automargin\":true,\"gridcolor\":\"white\",\"linecolor\":\"white\",\"ticks\":\"\",\"title\":{\"standoff\":15},\"zerolinecolor\":\"white\",\"zerolinewidth\":2},\"yaxis\":{\"automargin\":true,\"gridcolor\":\"white\",\"linecolor\":\"white\",\"ticks\":\"\",\"title\":{\"standoff\":15},\"zerolinecolor\":\"white\",\"zerolinewidth\":2}}},\"geo\":{\"domain\":{\"x\":[0.0,1.0],\"y\":[0.0,1.0]},\"projection\":{\"type\":\"albers usa\"},\"center\":{},\"scope\":\"usa\"},\"legend\":{\"title\":{\"text\":\"clade\"},\"tracegroupgap\":0,\"itemsizing\":\"constant\"},\"title\":{\"text\":\"Top clade Per Capita (most recordings per 100,000 people) for each state and timestamp\"},\"updatemenus\":[{\"buttons\":[{\"args\":[null,{\"frame\":{\"duration\":500,\"redraw\":true},\"mode\":\"immediate\",\"fromcurrent\":true,\"transition\":{\"duration\":500,\"easing\":\"linear\"}}],\"label\":\"&#9654;\",\"method\":\"animate\"},{\"args\":[[null],{\"frame\":{\"duration\":0,\"redraw\":true},\"mode\":\"immediate\",\"fromcurrent\":true,\"transition\":{\"duration\":0,\"easing\":\"linear\"}}],\"label\":\"&#9724;\",\"method\":\"animate\"}],\"direction\":\"left\",\"pad\":{\"r\":10,\"t\":70},\"showactive\":false,\"type\":\"buttons\",\"x\":0.1,\"xanchor\":\"right\",\"y\":0,\"yanchor\":\"top\"}],\"sliders\":[{\"active\":0,\"currentvalue\":{\"prefix\":\"timespan=\"},\"len\":0.9,\"pad\":{\"b\":10,\"t\":60},\"steps\":[{\"args\":[[\"1\"],{\"frame\":{\"duration\":0,\"redraw\":true},\"mode\":\"immediate\",\"fromcurrent\":true,\"transition\":{\"duration\":0,\"easing\":\"linear\"}}],\"label\":\"1\",\"method\":\"animate\"},{\"args\":[[\"2\"],{\"frame\":{\"duration\":0,\"redraw\":true},\"mode\":\"immediate\",\"fromcurrent\":true,\"transition\":{\"duration\":0,\"easing\":\"linear\"}}],\"label\":\"2\",\"method\":\"animate\"},{\"args\":[[\"3\"],{\"frame\":{\"duration\":0,\"redraw\":true},\"mode\":\"immediate\",\"fromcurrent\":true,\"transition\":{\"duration\":0,\"easing\":\"linear\"}}],\"label\":\"3\",\"method\":\"animate\"},{\"args\":[[\"4\"],{\"frame\":{\"duration\":0,\"redraw\":true},\"mode\":\"immediate\",\"fromcurrent\":true,\"transition\":{\"duration\":0,\"easing\":\"linear\"}}],\"label\":\"4\",\"method\":\"animate\"},{\"args\":[[\"5\"],{\"frame\":{\"duration\":0,\"redraw\":true},\"mode\":\"immediate\",\"fromcurrent\":true,\"transition\":{\"duration\":0,\"easing\":\"linear\"}}],\"label\":\"5\",\"method\":\"animate\"},{\"args\":[[\"6\"],{\"frame\":{\"duration\":0,\"redraw\":true},\"mode\":\"immediate\",\"fromcurrent\":true,\"transition\":{\"duration\":0,\"easing\":\"linear\"}}],\"label\":\"6\",\"method\":\"animate\"},{\"args\":[[\"7\"],{\"frame\":{\"duration\":0,\"redraw\":true},\"mode\":\"immediate\",\"fromcurrent\":true,\"transition\":{\"duration\":0,\"easing\":\"linear\"}}],\"label\":\"7\",\"method\":\"animate\"},{\"args\":[[\"8\"],{\"frame\":{\"duration\":0,\"redraw\":true},\"mode\":\"immediate\",\"fromcurrent\":true,\"transition\":{\"duration\":0,\"easing\":\"linear\"}}],\"label\":\"8\",\"method\":\"animate\"},{\"args\":[[\"9\"],{\"frame\":{\"duration\":0,\"redraw\":true},\"mode\":\"immediate\",\"fromcurrent\":true,\"transition\":{\"duration\":0,\"easing\":\"linear\"}}],\"label\":\"9\",\"method\":\"animate\"},{\"args\":[[\"10\"],{\"frame\":{\"duration\":0,\"redraw\":true},\"mode\":\"immediate\",\"fromcurrent\":true,\"transition\":{\"duration\":0,\"easing\":\"linear\"}}],\"label\":\"10\",\"method\":\"animate\"},{\"args\":[[\"11\"],{\"frame\":{\"duration\":0,\"redraw\":true},\"mode\":\"immediate\",\"fromcurrent\":true,\"transition\":{\"duration\":0,\"easing\":\"linear\"}}],\"label\":\"11\",\"method\":\"animate\"}],\"x\":0.1,\"xanchor\":\"left\",\"y\":0,\"yanchor\":\"top\"}]},                        {\"responsive\": true}                    ).then(function(){\n",
       "                            Plotly.addFrames('90383bf2-c0b4-4eb5-8ced-4c34e441e1c1', [{\"data\":[{\"customdata\":[[\"19A\",10,\"CA\",1,0.02529198138216783]],\"geo\":\"geo\",\"hovertemplate\":\"<b>%{hovertext}</b><br><br>clade=%{customdata[0]}<br>per_capita=%{customdata[4]}<br>count=%{customdata[1]}<extra></extra>\",\"hovertext\":[\"CA\"],\"legendgroup\":\"19A\",\"locationmode\":\"USA-states\",\"locations\":[\"CA\"],\"marker\":{\"color\":\"rgb(158,1,66)\",\"size\":[0.02529198138216783],\"sizemode\":\"area\",\"sizeref\":0.012698280768222898,\"symbol\":\"circle\"},\"mode\":\"markers\",\"name\":\"19A\",\"showlegend\":true,\"type\":\"scattergeo\"},{\"customdata\":[[\"19B\",2,\"AZ\",1,0.027966153124196844],[\"19B\",1444,\"WA\",1,18.740393763705697],[\"19B\",1,\"CO\",1,0.017319874174578097],[\"19B\",2,\"FL\",1,0.009285832646916846],[\"19B\",12,\"UT\",1,0.36679121266065456],[\"19B\",2,\"NV\",1,0.06442024676819727]],\"geo\":\"geo\",\"hovertemplate\":\"<b>%{hovertext}</b><br><br>clade=%{customdata[0]}<br>per_capita=%{customdata[4]}<br>count=%{customdata[1]}<extra></extra>\",\"hovertext\":[\"AZ\",\"WA\",\"CO\",\"FL\",\"UT\",\"NV\"],\"legendgroup\":\"19B\",\"locationmode\":\"USA-states\",\"locations\":[\"AZ\",\"WA\",\"CO\",\"FL\",\"UT\",\"NV\"],\"marker\":{\"color\":\"rgb(186,32,73)\",\"size\":[0.027966153124196844,18.740393763705697,0.017319874174578097,0.009285832646916846,0.36679121266065456,0.06442024676819727],\"sizemode\":\"area\",\"sizeref\":0.012698280768222898,\"symbol\":\"circle\"},\"mode\":\"markers\",\"name\":\"19B\",\"showlegend\":true,\"type\":\"scattergeo\"},{\"customdata\":[[\"20A\",6,\"WI\",1,0.10180330989708025],[\"20A\",9,\"IN\",1,0.13263522013320114],[\"20A\",5,\"IA\",1,0.1567216832911804],[\"20A\",4,\"MA\",1,0.05689967605591929],[\"20A\",3,\"VA\",1,0.03475684631669535],[\"20A\",3,\"ME\",1,0.22020627455758726],[\"20A\",1,\"MD\",1,0.0161885015016454]],\"geo\":\"geo\",\"hovertemplate\":\"<b>%{hovertext}</b><br><br>clade=%{customdata[0]}<br>per_capita=%{customdata[4]}<br>count=%{customdata[1]}<extra></extra>\",\"hovertext\":[\"WI\",\"IN\",\"IA\",\"MA\",\"VA\",\"ME\",\"MD\"],\"legendgroup\":\"20A\",\"locationmode\":\"USA-states\",\"locations\":[\"WI\",\"IN\",\"IA\",\"MA\",\"VA\",\"ME\",\"MD\"],\"marker\":{\"color\":\"rgb(213,62,79)\",\"size\":[0.10180330989708025,0.13263522013320114,0.1567216832911804,0.05689967605591929,0.03475684631669535,0.22020627455758726,0.0161885015016454],\"sizemode\":\"area\",\"sizeref\":0.012698280768222898,\"symbol\":\"circle\"},\"mode\":\"markers\",\"name\":\"20A\",\"showlegend\":true,\"type\":\"scattergeo\"},{\"customdata\":[[\"20B\",2,\"GA\",1,0.018670810092842473]],\"geo\":\"geo\",\"hovertemplate\":\"<b>%{hovertext}</b><br><br>clade=%{customdata[0]}<br>per_capita=%{customdata[4]}<br>count=%{customdata[1]}<extra></extra>\",\"hovertext\":[\"GA\"],\"legendgroup\":\"20B\",\"locationmode\":\"USA-states\",\"locations\":[\"GA\"],\"marker\":{\"color\":\"rgb(229,86,73)\",\"size\":[0.018670810092842473],\"sizemode\":\"area\",\"sizeref\":0.012698280768222898,\"symbol\":\"circle\"},\"mode\":\"markers\",\"name\":\"20B\",\"showlegend\":true,\"type\":\"scattergeo\"},{\"customdata\":[[\"20C\",1,\"LA\",1,0.021469561421946226],[\"20C\",1,\"PA\",1,0.007690710390918809],[\"20C\",23,\"NY\",1,0.11385434633274406],[\"20C\",1,\"ID\",1,0.054374244877674255],[\"20C\",1,\"TX\",1,0.003431060810234717],[\"20C\",2,\"CT\",1,0.05546397836461132],[\"20C\",8,\"MN\",1,0.1401911576530178],[\"20C\",9,\"MI\",1,0.0893093617744619],[\"20C\",1,\"MD\",1,0.0161885015016454]],\"geo\":\"geo\",\"hovertemplate\":\"<b>%{hovertext}</b><br><br>clade=%{customdata[0]}<br>per_capita=%{customdata[4]}<br>count=%{customdata[1]}<extra></extra>\",\"hovertext\":[\"LA\",\"PA\",\"NY\",\"ID\",\"TX\",\"CT\",\"MN\",\"MI\",\"MD\"],\"legendgroup\":\"20C\",\"locationmode\":\"USA-states\",\"locations\":[\"LA\",\"PA\",\"NY\",\"ID\",\"TX\",\"CT\",\"MN\",\"MI\",\"MD\"],\"marker\":{\"color\":\"rgb(244,109,67)\",\"size\":[0.021469561421946226,0.007690710390918809,0.11385434633274406,0.054374244877674255,0.003431060810234717,0.05546397836461132,0.1401911576530178,0.0893093617744619,0.0161885015016454],\"sizemode\":\"area\",\"sizeref\":0.012698280768222898,\"symbol\":\"circle\"},\"mode\":\"markers\",\"name\":\"20C\",\"showlegend\":true,\"type\":\"scattergeo\"}],\"name\":\"1\"},{\"data\":[{\"customdata\":[[\"19A\",3,\"MD\",2,0.04856550450493619]],\"geo\":\"geo\",\"hovertemplate\":\"<b>%{hovertext}</b><br><br>clade=%{customdata[0]}<br>per_capita=%{customdata[4]}<br>count=%{customdata[1]}<extra></extra>\",\"hovertext\":[\"MD\"],\"legendgroup\":\"19A\",\"locationmode\":\"USA-states\",\"locations\":[\"MD\"],\"marker\":{\"color\":\"rgb(158,1,66)\",\"size\":[0.04856550450493619],\"sizemode\":\"area\",\"sizeref\":0.012698280768222898,\"symbol\":\"circle\"},\"mode\":\"markers\",\"name\":\"19A\",\"showlegend\":true,\"type\":\"scattergeo\"},{\"customdata\":[[\"19B\",1172,\"WA\",2,15.210347292979971]],\"geo\":\"geo\",\"hovertemplate\":\"<b>%{hovertext}</b><br><br>clade=%{customdata[0]}<br>per_capita=%{customdata[4]}<br>count=%{customdata[1]}<extra></extra>\",\"hovertext\":[\"WA\"],\"legendgroup\":\"19B\",\"locationmode\":\"USA-states\",\"locations\":[\"WA\"],\"marker\":{\"color\":\"rgb(186,32,73)\",\"size\":[15.210347292979971],\"sizemode\":\"area\",\"sizeref\":0.012698280768222898,\"symbol\":\"circle\"},\"mode\":\"markers\",\"name\":\"19B\",\"showlegend\":true,\"type\":\"scattergeo\"},{\"customdata\":[[\"20A\",15,\"FL\",2,0.06964374485187634],[\"20A\",2,\"CT\",2,0.05546397836461132],[\"20A\",1,\"NM\",2,0.04722501112149012],[\"20A\",21,\"AK\",2,2.8634111953923624],[\"20A\",85,\"MA\",2,1.209118116188285],[\"20A\",5,\"WI\",2,0.0848360915809002]],\"geo\":\"geo\",\"hovertemplate\":\"<b>%{hovertext}</b><br><br>clade=%{customdata[0]}<br>per_capita=%{customdata[4]}<br>count=%{customdata[1]}<extra></extra>\",\"hovertext\":[\"FL\",\"CT\",\"NM\",\"AK\",\"MA\",\"WI\"],\"legendgroup\":\"20A\",\"locationmode\":\"USA-states\",\"locations\":[\"FL\",\"CT\",\"NM\",\"AK\",\"MA\",\"WI\"],\"marker\":{\"color\":\"rgb(213,62,79)\",\"size\":[0.06964374485187634,0.05546397836461132,0.04722501112149012,2.8634111953923624,1.209118116188285,0.0848360915809002],\"sizemode\":\"area\",\"sizeref\":0.012698280768222898,\"symbol\":\"circle\"},\"mode\":\"markers\",\"name\":\"20A\",\"showlegend\":true,\"type\":\"scattergeo\"},{\"customdata\":[[\"20C\",18,\"MN\",2,0.31543010471929],[\"20C\",1,\"TX\",2,0.003431060810234717],[\"20C\",1,\"PR\",2,0.030433303285518555],[\"20C\",1,\"TN\",2,0.014470021010470506],[\"20C\",61,\"MI\",2,0.605319007582464],[\"20C\",2,\"ND\",2,0.25670843312873676],[\"20C\",1,\"ME\",2,0.07340209151919574],[\"20C\",1,\"ID\",2,0.054374244877674255],[\"20C\",4,\"UT\",2,0.12226373755355151],[\"20C\",2,\"IL\",2,0.015609746350987644],[\"20C\",1,\"WY\",2,0.1733549911502277],[\"20C\",13,\"PA\",2,0.09997923508194452],[\"20C\",25,\"VA\",2,0.2896403859724612],[\"20C\",19,\"LA\",2,0.4079216670169783],[\"20C\",5,\"NY\",2,0.024750944854944362],[\"20C\",80,\"CA\",2,0.20233585105734264]],\"geo\":\"geo\",\"hovertemplate\":\"<b>%{hovertext}</b><br><br>clade=%{customdata[0]}<br>per_capita=%{customdata[4]}<br>count=%{customdata[1]}<extra></extra>\",\"hovertext\":[\"MN\",\"TX\",\"PR\",\"TN\",\"MI\",\"ND\",\"ME\",\"ID\",\"UT\",\"IL\",\"WY\",\"PA\",\"VA\",\"LA\",\"NY\",\"CA\"],\"legendgroup\":\"20C\",\"locationmode\":\"USA-states\",\"locations\":[\"MN\",\"TX\",\"PR\",\"TN\",\"MI\",\"ND\",\"ME\",\"ID\",\"UT\",\"IL\",\"WY\",\"PA\",\"VA\",\"LA\",\"NY\",\"CA\"],\"marker\":{\"color\":\"rgb(244,109,67)\",\"size\":[0.31543010471929,0.003431060810234717,0.030433303285518555,0.014470021010470506,0.605319007582464,0.25670843312873676,0.07340209151919574,0.054374244877674255,0.12226373755355151,0.015609746350987644,0.1733549911502277,0.09997923508194452,0.2896403859724612,0.4079216670169783,0.024750944854944362,0.20233585105734264],\"sizemode\":\"area\",\"sizeref\":0.012698280768222898,\"symbol\":\"circle\"},\"mode\":\"markers\",\"name\":\"20C\",\"showlegend\":true,\"type\":\"scattergeo\"}],\"name\":\"2\"},{\"data\":[{\"customdata\":[[\"19B\",1,\"NY\",3,0.004950188970988873],[\"19B\",209,\"WA\",3,2.7124254131679297]],\"geo\":\"geo\",\"hovertemplate\":\"<b>%{hovertext}</b><br><br>clade=%{customdata[0]}<br>per_capita=%{customdata[4]}<br>count=%{customdata[1]}<extra></extra>\",\"hovertext\":[\"NY\",\"WA\"],\"legendgroup\":\"19B\",\"locationmode\":\"USA-states\",\"locations\":[\"NY\",\"WA\"],\"marker\":{\"color\":\"rgb(186,32,73)\",\"size\":[0.004950188970988873,2.7124254131679297],\"sizemode\":\"area\",\"sizeref\":0.012698280768222898,\"symbol\":\"circle\"},\"mode\":\"markers\",\"name\":\"19B\",\"showlegend\":true,\"type\":\"scattergeo\"},{\"customdata\":[[\"20A\",2,\"IL\",3,0.015609746350987644],[\"20A\",1,\"NV\",3,0.032210123384098635],[\"20A\",8,\"AK\",3,1.0908233125304236]],\"geo\":\"geo\",\"hovertemplate\":\"<b>%{hovertext}</b><br><br>clade=%{customdata[0]}<br>per_capita=%{customdata[4]}<br>count=%{customdata[1]}<extra></extra>\",\"hovertext\":[\"IL\",\"NV\",\"AK\"],\"legendgroup\":\"20A\",\"locationmode\":\"USA-states\",\"locations\":[\"IL\",\"NV\",\"AK\"],\"marker\":{\"color\":\"rgb(213,62,79)\",\"size\":[0.015609746350987644,0.032210123384098635,1.0908233125304236],\"sizemode\":\"area\",\"sizeref\":0.012698280768222898,\"symbol\":\"circle\"},\"mode\":\"markers\",\"name\":\"20A\",\"showlegend\":true,\"type\":\"scattergeo\"},{\"customdata\":[[\"20B\",1,\"NJ\",3,0.010765428419912855],[\"20B\",5,\"NC\",3,0.04789552797539473]],\"geo\":\"geo\",\"hovertemplate\":\"<b>%{hovertext}</b><br><br>clade=%{customdata[0]}<br>per_capita=%{customdata[4]}<br>count=%{customdata[1]}<extra></extra>\",\"hovertext\":[\"NJ\",\"NC\"],\"legendgroup\":\"20B\",\"locationmode\":\"USA-states\",\"locations\":[\"NJ\",\"NC\"],\"marker\":{\"color\":\"rgb(229,86,73)\",\"size\":[0.010765428419912855,0.04789552797539473],\"sizemode\":\"area\",\"sizeref\":0.012698280768222898,\"symbol\":\"circle\"},\"mode\":\"markers\",\"name\":\"20B\",\"showlegend\":true,\"type\":\"scattergeo\"},{\"customdata\":[[\"20C\",4,\"PA\",3,0.030762841563675238],[\"20C\",14,\"UT\",3,0.4279230814374303],[\"20C\",1,\"NV\",3,0.032210123384098635],[\"20C\",60,\"MA\",3,0.8534951408387894],[\"20C\",173,\"MN\",3,3.0316337842465093],[\"20C\",121,\"FL\",3,0.5617928751384692],[\"20C\",3,\"LA\",3,0.06440868426583869],[\"20C\",26,\"GA\",3,0.2427205312069521],[\"20C\",17,\"SC\",3,0.3321334199485193],[\"20C\",20,\"MD\",3,0.32377003003290794],[\"20C\",11,\"OH\",3,0.09322470000291538],[\"20C\",52,\"NM\",3,2.455700578317486],[\"20C\",1,\"AR\",3,0.03320577886810797],[\"20C\",50,\"WI\",3,0.848360915809002],[\"20C\",1,\"AL\",3,0.019903353297060136],[\"20C\",363,\"CA\",3,0.9180989241726923],[\"20C\",348,\"VA\",3,4.03179417273666]],\"geo\":\"geo\",\"hovertemplate\":\"<b>%{hovertext}</b><br><br>clade=%{customdata[0]}<br>per_capita=%{customdata[4]}<br>count=%{customdata[1]}<extra></extra>\",\"hovertext\":[\"PA\",\"UT\",\"NV\",\"MA\",\"MN\",\"FL\",\"LA\",\"GA\",\"SC\",\"MD\",\"OH\",\"NM\",\"AR\",\"WI\",\"AL\",\"CA\",\"VA\"],\"legendgroup\":\"20C\",\"locationmode\":\"USA-states\",\"locations\":[\"PA\",\"UT\",\"NV\",\"MA\",\"MN\",\"FL\",\"LA\",\"GA\",\"SC\",\"MD\",\"OH\",\"NM\",\"AR\",\"WI\",\"AL\",\"CA\",\"VA\"],\"marker\":{\"color\":\"rgb(244,109,67)\",\"size\":[0.030762841563675238,0.4279230814374303,0.032210123384098635,0.8534951408387894,3.0316337842465093,0.5617928751384692,0.06440868426583869,0.2427205312069521,0.3321334199485193,0.32377003003290794,0.09322470000291538,2.455700578317486,0.03320577886810797,0.848360915809002,0.019903353297060136,0.9180989241726923,4.03179417273666],\"sizemode\":\"area\",\"sizeref\":0.012698280768222898,\"symbol\":\"circle\"},\"mode\":\"markers\",\"name\":\"20C\",\"showlegend\":true,\"type\":\"scattergeo\"},{\"customdata\":[[\"20G\",1,\"KY\",3,0.0221934397967436],[\"20G\",43,\"TX\",3,0.14753561484009284]],\"geo\":\"geo\",\"hovertemplate\":\"<b>%{hovertext}</b><br><br>clade=%{customdata[0]}<br>per_capita=%{customdata[4]}<br>count=%{customdata[1]}<extra></extra>\",\"hovertext\":[\"KY\",\"TX\"],\"legendgroup\":\"20G\",\"locationmode\":\"USA-states\",\"locations\":[\"KY\",\"TX\"],\"marker\":{\"color\":\"rgb(254,199,118)\",\"size\":[0.0221934397967436,0.14753561484009284],\"sizemode\":\"area\",\"sizeref\":0.012698280768222898,\"symbol\":\"circle\"},\"mode\":\"markers\",\"name\":\"20G\",\"showlegend\":true,\"type\":\"scattergeo\"}],\"name\":\"3\"},{\"data\":[{\"customdata\":[[\"19B\",26,\"WA\",4,0.33743091264290037]],\"geo\":\"geo\",\"hovertemplate\":\"<b>%{hovertext}</b><br><br>clade=%{customdata[0]}<br>per_capita=%{customdata[4]}<br>count=%{customdata[1]}<extra></extra>\",\"hovertext\":[\"WA\"],\"legendgroup\":\"19B\",\"locationmode\":\"USA-states\",\"locations\":[\"WA\"],\"marker\":{\"color\":\"rgb(186,32,73)\",\"size\":[0.33743091264290037],\"sizemode\":\"area\",\"sizeref\":0.012698280768222898,\"symbol\":\"circle\"},\"mode\":\"markers\",\"name\":\"19B\",\"showlegend\":true,\"type\":\"scattergeo\"},{\"customdata\":[[\"20A\",7,\"OK\",4,0.17679656246866596],[\"20A\",2,\"WY\",4,0.3467099823004554],[\"20A\",1,\"NH\",4,0.07259375301717785],[\"20A\",1,\"RI\",4,0.0911262198383603],[\"20A\",115,\"FL\",4,0.5339353771977187],[\"20A\",82,\"MD\",4,1.3274571231349226],[\"20A\",1,\"DE\",4,0.10101540686985579],[\"20A\",4,\"LA\",4,0.0858782456877849],[\"20A\",2,\"NY\",4,0.009900377941977746],[\"20A\",5,\"GU\",4,0.0],[\"20A\",11,\"NV\",4,0.354311357225085]],\"geo\":\"geo\",\"hovertemplate\":\"<b>%{hovertext}</b><br><br>clade=%{customdata[0]}<br>per_capita=%{customdata[4]}<br>count=%{customdata[1]}<extra></extra>\",\"hovertext\":[\"OK\",\"WY\",\"NH\",\"RI\",\"FL\",\"MD\",\"DE\",\"LA\",\"NY\",\"GU\",\"NV\"],\"legendgroup\":\"20A\",\"locationmode\":\"USA-states\",\"locations\":[\"OK\",\"WY\",\"NH\",\"RI\",\"FL\",\"MD\",\"DE\",\"LA\",\"NY\",\"GU\",\"NV\"],\"marker\":{\"color\":\"rgb(213,62,79)\",\"size\":[0.17679656246866596,0.3467099823004554,0.07259375301717785,0.0911262198383603,0.5339353771977187,1.3274571231349226,0.10101540686985579,0.0858782456877849,0.009900377941977746,0.0,0.354311357225085],\"sizemode\":\"area\",\"sizeref\":0.012698280768222898,\"symbol\":\"circle\"},\"mode\":\"markers\",\"name\":\"20A\",\"showlegend\":true,\"type\":\"scattergeo\"},{\"customdata\":[[\"20B\",4,\"CO\",4,0.06927949669831239],[\"20B\",3,\"NC\",4,0.028737316785236836],[\"20B\",121,\"KS\",4,4.118616144975288],[\"20B\",66,\"MA\",4,0.9388446549226683],[\"20B\",99,\"AK\",4,13.498938492563994],[\"20B\",19,\"TX\",4,0.06519015539445963],[\"20B\",425,\"VA\",4,4.923886561531841],[\"20B\",2,\"AZ\",4,0.027966153124196844],[\"20B\",2,\"NY\",4,0.009900377941977746]],\"geo\":\"geo\",\"hovertemplate\":\"<b>%{hovertext}</b><br><br>clade=%{customdata[0]}<br>per_capita=%{customdata[4]}<br>count=%{customdata[1]}<extra></extra>\",\"hovertext\":[\"CO\",\"NC\",\"KS\",\"MA\",\"AK\",\"TX\",\"VA\",\"AZ\",\"NY\"],\"legendgroup\":\"20B\",\"locationmode\":\"USA-states\",\"locations\":[\"CO\",\"NC\",\"KS\",\"MA\",\"AK\",\"TX\",\"VA\",\"AZ\",\"NY\"],\"marker\":{\"color\":\"rgb(229,86,73)\",\"size\":[0.06927949669831239,0.028737316785236836,4.118616144975288,0.9388446549226683,13.498938492563994,0.06519015539445963,4.923886561531841,0.027966153124196844,0.009900377941977746],\"sizemode\":\"area\",\"sizeref\":0.012698280768222898,\"symbol\":\"circle\"},\"mode\":\"markers\",\"name\":\"20B\",\"showlegend\":true,\"type\":\"scattergeo\"},{\"customdata\":[[\"20C\",8,\"NJ\",4,0.08612342735930284],[\"20C\",7,\"SC\",4,0.13676081997880207],[\"20C\",1,\"MI\",4,0.009923262419384656],[\"20C\",55,\"NM\",4,2.5973756116819566],[\"20C\",4,\"IN\",4,0.05894898672586717],[\"20C\",60,\"CT\",4,1.6639193509383396],[\"20C\",1,\"VT\",4,0.1555023737437352],[\"20C\",28,\"NE\",4,1.427476059187236],[\"20C\",52,\"MN\",4,0.9112425247446155]],\"geo\":\"geo\",\"hovertemplate\":\"<b>%{hovertext}</b><br><br>clade=%{customdata[0]}<br>per_capita=%{customdata[4]}<br>count=%{customdata[1]}<extra></extra>\",\"hovertext\":[\"NJ\",\"SC\",\"MI\",\"NM\",\"IN\",\"CT\",\"VT\",\"NE\",\"MN\"],\"legendgroup\":\"20C\",\"locationmode\":\"USA-states\",\"locations\":[\"NJ\",\"SC\",\"MI\",\"NM\",\"IN\",\"CT\",\"VT\",\"NE\",\"MN\"],\"marker\":{\"color\":\"rgb(244,109,67)\",\"size\":[0.08612342735930284,0.13676081997880207,0.009923262419384656,2.5973756116819566,0.05894898672586717,1.6639193509383396,0.1555023737437352,1.427476059187236,0.9112425247446155],\"sizemode\":\"area\",\"sizeref\":0.012698280768222898,\"symbol\":\"circle\"},\"mode\":\"markers\",\"name\":\"20C\",\"showlegend\":true,\"type\":\"scattergeo\"},{\"customdata\":[[\"20G\",2,\"MT\",4,0.18446355691853628],[\"20G\",6,\"OH\",4,0.050849836365226574],[\"20G\",349,\"SD\",4,39.36088745831299],[\"20G\",250,\"AL\",4,4.975838324265034],[\"20G\",3,\"IA\",4,0.09403300997470826],[\"20G\",5,\"ND\",4,0.6417710828218418],[\"20G\",3,\"MS\",4,0.10130757689498356],[\"20G\",39,\"OR\",4,0.9204069803665391],[\"20G\",11,\"KY\",4,0.2441278377641796],[\"20G\",6,\"ID\",4,0.3262454692660456],[\"20G\",16,\"MO\",4,0.2599549335628302],[\"20G\",5,\"WV\",4,0.27875092824059106],[\"20G\",5,\"IL\",4,0.03902436587746911],[\"20G\",4,\"PA\",4,0.030762841563675238],[\"20G\",1,\"HI\",4,0.0687157237380529],[\"20G\",3,\"NC\",4,0.028737316785236836],[\"20G\",25,\"GA\",4,0.23338512616053086],[\"20G\",44,\"WI\",4,0.7465576059119218],[\"20G\",1,\"UT\",4,0.030565934388387877],[\"20G\",17,\"TN\",4,0.24599035717799864]],\"geo\":\"geo\",\"hovertemplate\":\"<b>%{hovertext}</b><br><br>clade=%{customdata[0]}<br>per_capita=%{customdata[4]}<br>count=%{customdata[1]}<extra></extra>\",\"hovertext\":[\"MT\",\"OH\",\"SD\",\"AL\",\"IA\",\"ND\",\"MS\",\"OR\",\"KY\",\"ID\",\"MO\",\"WV\",\"IL\",\"PA\",\"HI\",\"NC\",\"GA\",\"WI\",\"UT\",\"TN\"],\"legendgroup\":\"20G\",\"locationmode\":\"USA-states\",\"locations\":[\"MT\",\"OH\",\"SD\",\"AL\",\"IA\",\"ND\",\"MS\",\"OR\",\"KY\",\"ID\",\"MO\",\"WV\",\"IL\",\"PA\",\"HI\",\"NC\",\"GA\",\"WI\",\"UT\",\"TN\"],\"marker\":{\"color\":\"rgb(254,199,118)\",\"size\":[0.18446355691853628,0.050849836365226574,39.36088745831299,4.975838324265034,0.09403300997470826,0.6417710828218418,0.10130757689498356,0.9204069803665391,0.2441278377641796,0.3262454692660456,0.2599549335628302,0.27875092824059106,0.03902436587746911,0.030762841563675238,0.0687157237380529,0.028737316785236836,0.23338512616053086,0.7465576059119218,0.030565934388387877,0.24599035717799864],\"sizemode\":\"area\",\"sizeref\":0.012698280768222898,\"symbol\":\"circle\"},\"mode\":\"markers\",\"name\":\"20G\",\"showlegend\":true,\"type\":\"scattergeo\"},{\"customdata\":[[\"21C (Epsilon)\",347,\"CA\",4,0.8776317539612238]],\"geo\":\"geo\",\"hovertemplate\":\"<b>%{hovertext}</b><br><br>clade=%{customdata[0]}<br>per_capita=%{customdata[4]}<br>count=%{customdata[1]}<extra></extra>\",\"hovertext\":[\"CA\"],\"legendgroup\":\"21C (Epsilon)\",\"locationmode\":\"USA-states\",\"locations\":[\"CA\"],\"marker\":{\"color\":\"rgb(201,233,158)\",\"size\":[0.8776317539612238],\"sizemode\":\"area\",\"sizeref\":0.012698280768222898,\"symbol\":\"circle\"},\"mode\":\"markers\",\"name\":\"21C (Epsilon)\",\"showlegend\":true,\"type\":\"scattergeo\"}],\"name\":\"4\"},{\"data\":[{\"customdata\":[[\"19B\",2,\"NH\",5,0.1451875060343557]],\"geo\":\"geo\",\"hovertemplate\":\"<b>%{hovertext}</b><br><br>clade=%{customdata[0]}<br>per_capita=%{customdata[4]}<br>count=%{customdata[1]}<extra></extra>\",\"hovertext\":[\"NH\"],\"legendgroup\":\"19B\",\"locationmode\":\"USA-states\",\"locations\":[\"NH\"],\"marker\":{\"color\":\"rgb(186,32,73)\",\"size\":[0.1451875060343557],\"sizemode\":\"area\",\"sizeref\":0.012698280768222898,\"symbol\":\"circle\"},\"mode\":\"markers\",\"name\":\"19B\",\"showlegend\":true,\"type\":\"scattergeo\"},{\"customdata\":[[\"20A\",33,\"MS\",5,1.1143833458448191],[\"20A\",32,\"AR\",5,1.0625849237794551],[\"20A\",30,\"WI\",5,0.5090165494854012],[\"20A\",2,\"GU\",5,0.0],[\"20A\",17,\"UT\",5,0.5196208846025939],[\"20A\",2,\"PR\",5,0.06086660657103711],[\"20A\",7,\"ID\",5,0.3806197141437198],[\"20A\",249,\"CA\",5,0.629770336415979]],\"geo\":\"geo\",\"hovertemplate\":\"<b>%{hovertext}</b><br><br>clade=%{customdata[0]}<br>per_capita=%{customdata[4]}<br>count=%{customdata[1]}<extra></extra>\",\"hovertext\":[\"MS\",\"AR\",\"WI\",\"GU\",\"UT\",\"PR\",\"ID\",\"CA\"],\"legendgroup\":\"20A\",\"locationmode\":\"USA-states\",\"locations\":[\"MS\",\"AR\",\"WI\",\"GU\",\"UT\",\"PR\",\"ID\",\"CA\"],\"marker\":{\"color\":\"rgb(213,62,79)\",\"size\":[1.1143833458448191,1.0625849237794551,0.5090165494854012,0.0,0.5196208846025939,0.06086660657103711,0.3806197141437198,0.629770336415979],\"sizemode\":\"area\",\"sizeref\":0.012698280768222898,\"symbol\":\"circle\"},\"mode\":\"markers\",\"name\":\"20A\",\"showlegend\":true,\"type\":\"scattergeo\"},{\"customdata\":[[\"20B\",35,\"WA\",5,0.45423392086544284],[\"20B\",6,\"AK\",5,0.8181174843978178],[\"20B\",15,\"RI\",5,1.3668932975754047]],\"geo\":\"geo\",\"hovertemplate\":\"<b>%{hovertext}</b><br><br>clade=%{customdata[0]}<br>per_capita=%{customdata[4]}<br>count=%{customdata[1]}<extra></extra>\",\"hovertext\":[\"WA\",\"AK\",\"RI\"],\"legendgroup\":\"20B\",\"locationmode\":\"USA-states\",\"locations\":[\"WA\",\"AK\",\"RI\"],\"marker\":{\"color\":\"rgb(229,86,73)\",\"size\":[0.45423392086544284,0.8181174843978178,1.3668932975754047],\"sizemode\":\"area\",\"sizeref\":0.012698280768222898,\"symbol\":\"circle\"},\"mode\":\"markers\",\"name\":\"20B\",\"showlegend\":true,\"type\":\"scattergeo\"},{\"customdata\":[[\"20C\",3614,\"VA\",5,41.87041419617899],[\"20C\",32,\"CT\",5,0.8874236538337811],[\"20C\",3,\"DE\",5,0.3030462206095674],[\"20C\",1,\"HI\",5,0.0687157237380529]],\"geo\":\"geo\",\"hovertemplate\":\"<b>%{hovertext}</b><br><br>clade=%{customdata[0]}<br>per_capita=%{customdata[4]}<br>count=%{customdata[1]}<extra></extra>\",\"hovertext\":[\"VA\",\"CT\",\"DE\",\"HI\"],\"legendgroup\":\"20C\",\"locationmode\":\"USA-states\",\"locations\":[\"VA\",\"CT\",\"DE\",\"HI\"],\"marker\":{\"color\":\"rgb(244,109,67)\",\"size\":[41.87041419617899,0.8874236538337811,0.3030462206095674,0.0687157237380529],\"sizemode\":\"area\",\"sizeref\":0.012698280768222898,\"symbol\":\"circle\"},\"mode\":\"markers\",\"name\":\"20C\",\"showlegend\":true,\"type\":\"scattergeo\"},{\"customdata\":[[\"20G\",8,\"ME\",5,0.587216732153566],[\"20G\",10,\"NV\",5,0.3221012338409863],[\"20G\",102,\"MA\",5,1.450941739425942],[\"20G\",8,\"WY\",5,1.3868399292018216],[\"20G\",3,\"OR\",5,0.07080053695127224],[\"20G\",48,\"ND\",5,6.161002395089681],[\"20G\",30,\"NY\",5,0.1485056691296662],[\"20G\",7,\"OK\",5,0.17679656246866596],[\"20G\",48,\"MD\",5,0.7770480720789791],[\"20G\",15,\"LA\",5,0.3220434213291934],[\"20G\",35,\"OH\",5,0.2966240454638217],[\"20G\",16,\"AZ\",5,0.22372922499357475],[\"20G\",17,\"KY\",5,0.3772884765446412],[\"20G\",53,\"IN\",5,0.7810740741177399],[\"20G\",51,\"NM\",5,2.408475567195996],[\"20G\",21,\"KS\",5,0.7148011491279427],[\"20G\",101,\"AL\",5,2.010238683003074],[\"20G\",10,\"WV\",5,0.5575018564811821],[\"20G\",19,\"CO\",5,0.3290776093169838],[\"20G\",26,\"TN\",5,0.37622054627223317],[\"20G\",2,\"NH\",5,0.1451875060343557],[\"20G\",58,\"GA\",5,0.5414534926924317],[\"20G\",6,\"AK\",5,0.8181174843978178],[\"20G\",3,\"VT\",5,0.4665071212312056],[\"20G\",88,\"NC\",5,0.8429612923669472],[\"20G\",62,\"TX\",5,0.21272577023455247],[\"20G\",61,\"FL\",5,0.2832178957309638],[\"20G\",78,\"MN\",5,1.3668637871169234],[\"20G\",46,\"MO\",5,0.7473704339931369],[\"20G\",65,\"MT\",5,5.995065599852429],[\"20G\",2,\"GU\",5,0.0],[\"20G\",1,\"HI\",5,0.0687157237380529],[\"20G\",36,\"MI\",5,0.3572374470978476],[\"20G\",10,\"IL\",5,0.07804873175493822],[\"20G\",5,\"NJ\",5,0.05382714209956428],[\"20G\",3,\"IA\",5,0.09403300997470826],[\"20G\",32,\"SC\",5,0.6251923199030952],[\"20G\",40,\"PA\",5,0.30762841563675236],[\"20G\",2,\"NE\",5,0.10196257565623112],[\"20G\",2,\"SD\",5,0.22556382497600563]],\"geo\":\"geo\",\"hovertemplate\":\"<b>%{hovertext}</b><br><br>clade=%{customdata[0]}<br>per_capita=%{customdata[4]}<br>count=%{customdata[1]}<extra></extra>\",\"hovertext\":[\"ME\",\"NV\",\"MA\",\"WY\",\"OR\",\"ND\",\"NY\",\"OK\",\"MD\",\"LA\",\"OH\",\"AZ\",\"KY\",\"IN\",\"NM\",\"KS\",\"AL\",\"WV\",\"CO\",\"TN\",\"NH\",\"GA\",\"AK\",\"VT\",\"NC\",\"TX\",\"FL\",\"MN\",\"MO\",\"MT\",\"GU\",\"HI\",\"MI\",\"IL\",\"NJ\",\"IA\",\"SC\",\"PA\",\"NE\",\"SD\"],\"legendgroup\":\"20G\",\"locationmode\":\"USA-states\",\"locations\":[\"ME\",\"NV\",\"MA\",\"WY\",\"OR\",\"ND\",\"NY\",\"OK\",\"MD\",\"LA\",\"OH\",\"AZ\",\"KY\",\"IN\",\"NM\",\"KS\",\"AL\",\"WV\",\"CO\",\"TN\",\"NH\",\"GA\",\"AK\",\"VT\",\"NC\",\"TX\",\"FL\",\"MN\",\"MO\",\"MT\",\"GU\",\"HI\",\"MI\",\"IL\",\"NJ\",\"IA\",\"SC\",\"PA\",\"NE\",\"SD\"],\"marker\":{\"color\":\"rgb(254,199,118)\",\"size\":[0.587216732153566,0.3221012338409863,1.450941739425942,1.3868399292018216,0.07080053695127224,6.161002395089681,0.1485056691296662,0.17679656246866596,0.7770480720789791,0.3220434213291934,0.2966240454638217,0.22372922499357475,0.3772884765446412,0.7810740741177399,2.408475567195996,0.7148011491279427,2.010238683003074,0.5575018564811821,0.3290776093169838,0.37622054627223317,0.1451875060343557,0.5414534926924317,0.8181174843978178,0.4665071212312056,0.8429612923669472,0.21272577023455247,0.2832178957309638,1.3668637871169234,0.7473704339931369,5.995065599852429,0.0,0.0687157237380529,0.3572374470978476,0.07804873175493822,0.05382714209956428,0.09403300997470826,0.6251923199030952,0.30762841563675236,0.10196257565623112,0.22556382497600563],\"sizemode\":\"area\",\"sizeref\":0.012698280768222898,\"symbol\":\"circle\"},\"mode\":\"markers\",\"name\":\"20G\",\"showlegend\":true,\"type\":\"scattergeo\"},{\"customdata\":[[\"21C (Epsilon)\",1,\"HI\",5,0.0687157237380529]],\"geo\":\"geo\",\"hovertemplate\":\"<b>%{hovertext}</b><br><br>clade=%{customdata[0]}<br>per_capita=%{customdata[4]}<br>count=%{customdata[1]}<extra></extra>\",\"hovertext\":[\"HI\"],\"legendgroup\":\"21C (Epsilon)\",\"locationmode\":\"USA-states\",\"locations\":[\"HI\"],\"marker\":{\"color\":\"rgb(201,233,158)\",\"size\":[0.0687157237380529],\"sizemode\":\"area\",\"sizeref\":0.012698280768222898,\"symbol\":\"circle\"},\"mode\":\"markers\",\"name\":\"21C (Epsilon)\",\"showlegend\":true,\"type\":\"scattergeo\"}],\"name\":\"5\"},{\"data\":[{\"customdata\":[[\"20A\",450,\"MD\",6,7.2848256757404295],[\"20A\",3,\"NE\",6,0.15294386348434671],[\"20A\",2,\"IA\",6,0.06268867331647217],[\"20A\",31,\"CO\",6,0.536916099411921],[\"20A\",56,\"AR\",6,1.8595236166140467],[\"20A\",23,\"NY\",6,0.11385434633274406],[\"20A\",27,\"AZ\",6,0.3775430671766574]],\"geo\":\"geo\",\"hovertemplate\":\"<b>%{hovertext}</b><br><br>clade=%{customdata[0]}<br>per_capita=%{customdata[4]}<br>count=%{customdata[1]}<extra></extra>\",\"hovertext\":[\"MD\",\"NE\",\"IA\",\"CO\",\"AR\",\"NY\",\"AZ\"],\"legendgroup\":\"20A\",\"locationmode\":\"USA-states\",\"locations\":[\"MD\",\"NE\",\"IA\",\"CO\",\"AR\",\"NY\",\"AZ\"],\"marker\":{\"color\":\"rgb(213,62,79)\",\"size\":[7.2848256757404295,0.15294386348434671,0.06268867331647217,0.536916099411921,1.8595236166140467,0.11385434633274406,0.3775430671766574],\"sizemode\":\"area\",\"sizeref\":0.012698280768222898,\"symbol\":\"circle\"},\"mode\":\"markers\",\"name\":\"20A\",\"showlegend\":true,\"type\":\"scattergeo\"},{\"customdata\":[[\"20B\",61,\"NH\",6,4.42821893404785],[\"20B\",36,\"NM\",6,1.7001004003736442],[\"20B\",3,\"VT\",6,0.4665071212312056],[\"20B\",2,\"MT\",6,0.18446355691853628],[\"20B\",28,\"WA\",6,0.3633871366923543]],\"geo\":\"geo\",\"hovertemplate\":\"<b>%{hovertext}</b><br><br>clade=%{customdata[0]}<br>per_capita=%{customdata[4]}<br>count=%{customdata[1]}<extra></extra>\",\"hovertext\":[\"NH\",\"NM\",\"VT\",\"MT\",\"WA\"],\"legendgroup\":\"20B\",\"locationmode\":\"USA-states\",\"locations\":[\"NH\",\"NM\",\"VT\",\"MT\",\"WA\"],\"marker\":{\"color\":\"rgb(229,86,73)\",\"size\":[4.42821893404785,1.7001004003736442,0.4665071212312056,0.18446355691853628,0.3633871366923543],\"sizemode\":\"area\",\"sizeref\":0.012698280768222898,\"symbol\":\"circle\"},\"mode\":\"markers\",\"name\":\"20B\",\"showlegend\":true,\"type\":\"scattergeo\"},{\"customdata\":[[\"20C\",72,\"ME\",6,5.284950589382094],[\"20C\",96,\"RI\",6,8.74811710448259],[\"20C\",30,\"TN\",6,0.4341006303141152],[\"20C\",6,\"VA\",6,0.0695136926333907],[\"20C\",177,\"MA\",6,2.5178106654744288],[\"20C\",2,\"KS\",6,0.06807629991694691],[\"20C\",13,\"OR\",6,0.3068023267888464],[\"20C\",10,\"MS\",6,0.3376919229832785]],\"geo\":\"geo\",\"hovertemplate\":\"<b>%{hovertext}</b><br><br>clade=%{customdata[0]}<br>per_capita=%{customdata[4]}<br>count=%{customdata[1]}<extra></extra>\",\"hovertext\":[\"ME\",\"RI\",\"TN\",\"VA\",\"MA\",\"KS\",\"OR\",\"MS\"],\"legendgroup\":\"20C\",\"locationmode\":\"USA-states\",\"locations\":[\"ME\",\"RI\",\"TN\",\"VA\",\"MA\",\"KS\",\"OR\",\"MS\"],\"marker\":{\"color\":\"rgb(244,109,67)\",\"size\":[5.284950589382094,8.74811710448259,0.4341006303141152,0.0695136926333907,2.5178106654744288,0.06807629991694691,0.3068023267888464,0.3376919229832785],\"sizemode\":\"area\",\"sizeref\":0.012698280768222898,\"symbol\":\"circle\"},\"mode\":\"markers\",\"name\":\"20C\",\"showlegend\":true,\"type\":\"scattergeo\"},{\"customdata\":[[\"20G\",18,\"NJ\",6,0.19377771155843143],[\"20G\",71,\"MN\",6,1.2441965241705326],[\"20G\",22,\"AL\",6,0.437873772535323],[\"20G\",86,\"MO\",6,1.3972577679002123],[\"20G\",114,\"AK\",6,15.54423220355854],[\"20G\",30,\"MI\",6,0.2976978725815397],[\"20G\",13,\"WY\",6,2.25361488495296],[\"20G\",27,\"UT\",6,0.8252802284864728],[\"20G\",39,\"NC\",6,0.3735851182080789],[\"20G\",177,\"SC\",6,3.4580950194639954],[\"20G\",24,\"HI\",6,1.64917736971327],[\"20G\",619,\"GA\",6,5.778615723734744],[\"20G\",4230,\"TX\",6,14.513387227292855],[\"20G\",29,\"CT\",6,0.8042276862868641],[\"20G\",5,\"DC\",6,0.0],[\"20G\",4,\"ID\",6,0.21749697951069702],[\"20G\",10,\"WV\",6,0.5575018564811821],[\"20G\",3,\"NE\",6,0.15294386348434671],[\"20G\",58,\"IL\",6,0.4526826441786417],[\"20G\",122,\"NV\",6,3.929635052860033],[\"20G\",47,\"ND\",6,6.032648178525313],[\"20G\",10,\"WI\",6,0.1696721831618004],[\"20G\",44,\"LA\",6,0.9446607025656341],[\"20G\",123,\"KY\",6,2.729793094999463],[\"20G\",106,\"OH\",6,0.898347109119003],[\"20G\",4,\"OK\",6,0.10102660712495197],[\"20G\",57,\"IN\",6,0.8400230608436072],[\"20G\",132,\"PA\",6,1.0151737716012827]],\"geo\":\"geo\",\"hovertemplate\":\"<b>%{hovertext}</b><br><br>clade=%{customdata[0]}<br>per_capita=%{customdata[4]}<br>count=%{customdata[1]}<extra></extra>\",\"hovertext\":[\"NJ\",\"MN\",\"AL\",\"MO\",\"AK\",\"MI\",\"WY\",\"UT\",\"NC\",\"SC\",\"HI\",\"GA\",\"TX\",\"CT\",\"DC\",\"ID\",\"WV\",\"NE\",\"IL\",\"NV\",\"ND\",\"WI\",\"LA\",\"KY\",\"OH\",\"OK\",\"IN\",\"PA\"],\"legendgroup\":\"20G\",\"locationmode\":\"USA-states\",\"locations\":[\"NJ\",\"MN\",\"AL\",\"MO\",\"AK\",\"MI\",\"WY\",\"UT\",\"NC\",\"SC\",\"HI\",\"GA\",\"TX\",\"CT\",\"DC\",\"ID\",\"WV\",\"NE\",\"IL\",\"NV\",\"ND\",\"WI\",\"LA\",\"KY\",\"OH\",\"OK\",\"IN\",\"PA\"],\"marker\":{\"color\":\"rgb(254,199,118)\",\"size\":[0.19377771155843143,1.2441965241705326,0.437873772535323,1.3972577679002123,15.54423220355854,0.2976978725815397,2.25361488495296,0.8252802284864728,0.3735851182080789,3.4580950194639954,1.64917736971327,5.778615723734744,14.513387227292855,0.8042276862868641,0.0,0.21749697951069702,0.5575018564811821,0.15294386348434671,0.4526826441786417,3.929635052860033,6.032648178525313,0.1696721831618004,0.9446607025656341,2.729793094999463,0.898347109119003,0.10102660712495197,0.8400230608436072,1.0151737716012827],\"sizemode\":\"area\",\"sizeref\":0.012698280768222898,\"symbol\":\"circle\"},\"mode\":\"markers\",\"name\":\"20G\",\"showlegend\":true,\"type\":\"scattergeo\"},{\"customdata\":[[\"21C (Epsilon)\",799,\"CA\",6,2.0208293124352097]],\"geo\":\"geo\",\"hovertemplate\":\"<b>%{hovertext}</b><br><br>clade=%{customdata[0]}<br>per_capita=%{customdata[4]}<br>count=%{customdata[1]}<extra></extra>\",\"hovertext\":[\"CA\"],\"legendgroup\":\"21C (Epsilon)\",\"locationmode\":\"USA-states\",\"locations\":[\"CA\"],\"marker\":{\"color\":\"rgb(201,233,158)\",\"size\":[2.0208293124352097],\"sizemode\":\"area\",\"sizeref\":0.012698280768222898,\"symbol\":\"circle\"},\"mode\":\"markers\",\"name\":\"21C (Epsilon)\",\"showlegend\":true,\"type\":\"scattergeo\"},{\"customdata\":[[\"21F (Iota)\",271,\"FL\",6,1.2582303236572325]],\"geo\":\"geo\",\"hovertemplate\":\"<b>%{hovertext}</b><br><br>clade=%{customdata[0]}<br>per_capita=%{customdata[4]}<br>count=%{customdata[1]}<extra></extra>\",\"hovertext\":[\"FL\"],\"legendgroup\":\"21F (Iota)\",\"locationmode\":\"USA-states\",\"locations\":[\"FL\"],\"marker\":{\"color\":\"rgb(137,208,165)\",\"size\":[1.2582303236572325],\"sizemode\":\"area\",\"sizeref\":0.012698280768222898,\"symbol\":\"circle\"},\"mode\":\"markers\",\"name\":\"21F (Iota)\",\"showlegend\":true,\"type\":\"scattergeo\"}],\"name\":\"6\"},{\"data\":[{\"customdata\":[[\"20A\",31,\"NH\",7,2.2504063435325135],[\"20A\",11,\"SD\",7,1.2406010373680312],[\"20A\",178,\"PA\",7,1.3689464495835482],[\"20A\",31,\"OK\",7,0.7829562052183778]],\"geo\":\"geo\",\"hovertemplate\":\"<b>%{hovertext}</b><br><br>clade=%{customdata[0]}<br>per_capita=%{customdata[4]}<br>count=%{customdata[1]}<extra></extra>\",\"hovertext\":[\"NH\",\"SD\",\"PA\",\"OK\"],\"legendgroup\":\"20A\",\"locationmode\":\"USA-states\",\"locations\":[\"NH\",\"SD\",\"PA\",\"OK\"],\"marker\":{\"color\":\"rgb(213,62,79)\",\"size\":[2.2504063435325135,1.2406010373680312,1.3689464495835482,0.7829562052183778],\"sizemode\":\"area\",\"sizeref\":0.012698280768222898,\"symbol\":\"circle\"},\"mode\":\"markers\",\"name\":\"20A\",\"showlegend\":true,\"type\":\"scattergeo\"},{\"customdata\":[[\"20B\",3,\"ND\",7,0.38506264969310505],[\"20B\",8,\"VA\",7,0.0926849235111876],[\"20B\",37,\"NM\",7,1.7473254114951344],[\"20B\",4,\"WY\",7,0.6934199646009108],[\"20B\",7,\"AK\",7,0.9544703984641209]],\"geo\":\"geo\",\"hovertemplate\":\"<b>%{hovertext}</b><br><br>clade=%{customdata[0]}<br>per_capita=%{customdata[4]}<br>count=%{customdata[1]}<extra></extra>\",\"hovertext\":[\"ND\",\"VA\",\"NM\",\"WY\",\"AK\"],\"legendgroup\":\"20B\",\"locationmode\":\"USA-states\",\"locations\":[\"ND\",\"VA\",\"NM\",\"WY\",\"AK\"],\"marker\":{\"color\":\"rgb(229,86,73)\",\"size\":[0.38506264969310505,0.0926849235111876,1.7473254114951344,0.6934199646009108,0.9544703984641209],\"sizemode\":\"area\",\"sizeref\":0.012698280768222898,\"symbol\":\"circle\"},\"mode\":\"markers\",\"name\":\"20B\",\"showlegend\":true,\"type\":\"scattergeo\"},{\"customdata\":[[\"20C\",294,\"NJ\",7,3.1650359554543797],[\"20C\",44,\"DE\",7,4.4446779022736544]],\"geo\":\"geo\",\"hovertemplate\":\"<b>%{hovertext}</b><br><br>clade=%{customdata[0]}<br>per_capita=%{customdata[4]}<br>count=%{customdata[1]}<extra></extra>\",\"hovertext\":[\"NJ\",\"DE\"],\"legendgroup\":\"20C\",\"locationmode\":\"USA-states\",\"locations\":[\"NJ\",\"DE\"],\"marker\":{\"color\":\"rgb(244,109,67)\",\"size\":[3.1650359554543797,4.4446779022736544],\"sizemode\":\"area\",\"sizeref\":0.012698280768222898,\"symbol\":\"circle\"},\"mode\":\"markers\",\"name\":\"20C\",\"showlegend\":true,\"type\":\"scattergeo\"},{\"customdata\":[[\"20G\",49,\"NC\",7,0.46937617415886834],[\"20G\",127,\"TX\",7,0.4357447228998091],[\"20G\",30,\"TN\",7,0.4341006303141152],[\"20G\",55,\"SC\",7,1.074549299833445],[\"20G\",7,\"NE\",7,0.356869014796809],[\"20G\",4,\"UT\",7,0.12226373755355151],[\"20G\",50,\"NY\",7,0.24750944854944365],[\"20G\",19,\"NV\",7,0.6119923442978741],[\"20G\",19,\"WI\",7,0.3223771480074208],[\"20G\",44,\"WV\",7,2.453008168517201],[\"20G\",31,\"NH\",7,2.2504063435325135],[\"20G\",540,\"OH\",7,4.576485272870392],[\"20G\",6,\"PR\",7,0.18259981971311134],[\"20G\",4,\"KS\",7,0.13615259983389383],[\"20G\",100,\"FL\",7,0.46429163234584225],[\"20G\",14,\"MD\",7,0.2266390210230356],[\"20G\",134,\"MI\",7,1.329717164197544],[\"20G\",67,\"IA\",7,2.1000705561018176],[\"20G\",25,\"ID\",7,1.3593561219418566],[\"20G\",5,\"AR\",7,0.16602889434053986],[\"20G\",315,\"MN\",7,5.5200268325875745],[\"20G\",10,\"CO\",7,0.17319874174578098],[\"20G\",43,\"IN\",7,0.6337016073030721],[\"20G\",7,\"MO\",7,0.11373028343373821],[\"20G\",27,\"AL\",7,0.5373905390206236],[\"20G\",18,\"LA\",7,0.38645210559503207],[\"20G\",141,\"CT\",7,3.9102104747050976],[\"20G\",28,\"KY\",7,0.6214163143088208],[\"20G\",29,\"ME\",7,2.128660654056677],[\"20G\",92,\"IL\",7,0.7180483321454316],[\"20G\",68,\"GA\",7,0.6348075431566439]],\"geo\":\"geo\",\"hovertemplate\":\"<b>%{hovertext}</b><br><br>clade=%{customdata[0]}<br>per_capita=%{customdata[4]}<br>count=%{customdata[1]}<extra></extra>\",\"hovertext\":[\"NC\",\"TX\",\"TN\",\"SC\",\"NE\",\"UT\",\"NY\",\"NV\",\"WI\",\"WV\",\"NH\",\"OH\",\"PR\",\"KS\",\"FL\",\"MD\",\"MI\",\"IA\",\"ID\",\"AR\",\"MN\",\"CO\",\"IN\",\"MO\",\"AL\",\"LA\",\"CT\",\"KY\",\"ME\",\"IL\",\"GA\"],\"legendgroup\":\"20G\",\"locationmode\":\"USA-states\",\"locations\":[\"NC\",\"TX\",\"TN\",\"SC\",\"NE\",\"UT\",\"NY\",\"NV\",\"WI\",\"WV\",\"NH\",\"OH\",\"PR\",\"KS\",\"FL\",\"MD\",\"MI\",\"IA\",\"ID\",\"AR\",\"MN\",\"CO\",\"IN\",\"MO\",\"AL\",\"LA\",\"CT\",\"KY\",\"ME\",\"IL\",\"GA\"],\"marker\":{\"color\":\"rgb(254,199,118)\",\"size\":[0.46937617415886834,0.4357447228998091,0.4341006303141152,1.074549299833445,0.356869014796809,0.12226373755355151,0.24750944854944365,0.6119923442978741,0.3223771480074208,2.453008168517201,2.2504063435325135,4.576485272870392,0.18259981971311134,0.13615259983389383,0.46429163234584225,0.2266390210230356,1.329717164197544,2.1000705561018176,1.3593561219418566,0.16602889434053986,5.5200268325875745,0.17319874174578098,0.6337016073030721,0.11373028343373821,0.5373905390206236,0.38645210559503207,3.9102104747050976,0.6214163143088208,2.128660654056677,0.7180483321454316,0.6348075431566439],\"sizemode\":\"area\",\"sizeref\":0.012698280768222898,\"symbol\":\"circle\"},\"mode\":\"markers\",\"name\":\"20G\",\"showlegend\":true,\"type\":\"scattergeo\"},{\"customdata\":[[\"21C (Epsilon)\",2,\"WA\",7,0.025956224049453875],[\"21C (Epsilon)\",8,\"VT\",7,1.2440189899498817],[\"21C (Epsilon)\",5,\"OR\",7,0.11800089491878707],[\"21C (Epsilon)\",82,\"MS\",7,2.7690737684628837],[\"21C (Epsilon)\",23,\"AZ\",7,0.32161076092826374],[\"21C (Epsilon)\",289,\"CA\",7,0.7309382619446504],[\"21C (Epsilon)\",4,\"MT\",7,0.36892711383707255],[\"21C (Epsilon)\",3,\"HI\",7,0.20614717121415874]],\"geo\":\"geo\",\"hovertemplate\":\"<b>%{hovertext}</b><br><br>clade=%{customdata[0]}<br>per_capita=%{customdata[4]}<br>count=%{customdata[1]}<extra></extra>\",\"hovertext\":[\"WA\",\"VT\",\"OR\",\"MS\",\"AZ\",\"CA\",\"MT\",\"HI\"],\"legendgroup\":\"21C (Epsilon)\",\"locationmode\":\"USA-states\",\"locations\":[\"WA\",\"VT\",\"OR\",\"MS\",\"AZ\",\"CA\",\"MT\",\"HI\"],\"marker\":{\"color\":\"rgb(201,233,158)\",\"size\":[0.025956224049453875,1.2440189899498817,0.11800089491878707,2.7690737684628837,0.32161076092826374,0.7309382619446504,0.36892711383707255,0.20614717121415874],\"sizemode\":\"area\",\"sizeref\":0.012698280768222898,\"symbol\":\"circle\"},\"mode\":\"markers\",\"name\":\"21C (Epsilon)\",\"showlegend\":true,\"type\":\"scattergeo\"},{\"customdata\":[[\"21F (Iota)\",65,\"RI\",7,5.9232042894934205],[\"21F (Iota)\",135,\"MA\",7,1.9203640668872763],[\"21F (Iota)\",7,\"DC\",7,0.0]],\"geo\":\"geo\",\"hovertemplate\":\"<b>%{hovertext}</b><br><br>clade=%{customdata[0]}<br>per_capita=%{customdata[4]}<br>count=%{customdata[1]}<extra></extra>\",\"hovertext\":[\"RI\",\"MA\",\"DC\"],\"legendgroup\":\"21F (Iota)\",\"locationmode\":\"USA-states\",\"locations\":[\"RI\",\"MA\",\"DC\"],\"marker\":{\"color\":\"rgb(137,208,165)\",\"size\":[5.9232042894934205,1.9203640668872763,0.0],\"sizemode\":\"area\",\"sizeref\":0.012698280768222898,\"symbol\":\"circle\"},\"mode\":\"markers\",\"name\":\"21F (Iota)\",\"showlegend\":true,\"type\":\"scattergeo\"}],\"name\":\"7\"},{\"data\":[{\"customdata\":[[\"20A\",1,\"KS\",8,0.03403814995847346],[\"20A\",1,\"SD\",8,0.11278191248800282]],\"geo\":\"geo\",\"hovertemplate\":\"<b>%{hovertext}</b><br><br>clade=%{customdata[0]}<br>per_capita=%{customdata[4]}<br>count=%{customdata[1]}<extra></extra>\",\"hovertext\":[\"KS\",\"SD\"],\"legendgroup\":\"20A\",\"locationmode\":\"USA-states\",\"locations\":[\"KS\",\"SD\"],\"marker\":{\"color\":\"rgb(213,62,79)\",\"size\":[0.03403814995847346,0.11278191248800282],\"sizemode\":\"area\",\"sizeref\":0.012698280768222898,\"symbol\":\"circle\"},\"mode\":\"markers\",\"name\":\"20A\",\"showlegend\":true,\"type\":\"scattergeo\"},{\"customdata\":[[\"20B\",9,\"DC\",8,0.0],[\"20B\",11,\"NM\",8,0.5194751223363913],[\"20B\",5,\"UT\",8,0.1528296719419394],[\"20B\",83,\"TX\",8,0.2847780472494815],[\"20B\",9,\"NV\",8,0.2898911104568877],[\"20B\",1,\"KS\",8,0.03403814995847346],[\"20B\",1,\"HI\",8,0.0687157237380529],[\"20B\",1,\"AL\",8,0.019903353297060136],[\"20B\",47,\"AK\",8,6.40858696111624],[\"20B\",6,\"IA\",8,0.18806601994941652],[\"20B\",4,\"NE\",8,0.20392515131246225]],\"geo\":\"geo\",\"hovertemplate\":\"<b>%{hovertext}</b><br><br>clade=%{customdata[0]}<br>per_capita=%{customdata[4]}<br>count=%{customdata[1]}<extra></extra>\",\"hovertext\":[\"DC\",\"NM\",\"UT\",\"TX\",\"NV\",\"KS\",\"HI\",\"AL\",\"AK\",\"IA\",\"NE\"],\"legendgroup\":\"20B\",\"locationmode\":\"USA-states\",\"locations\":[\"DC\",\"NM\",\"UT\",\"TX\",\"NV\",\"KS\",\"HI\",\"AL\",\"AK\",\"IA\",\"NE\"],\"marker\":{\"color\":\"rgb(229,86,73)\",\"size\":[0.0,0.5194751223363913,0.1528296719419394,0.2847780472494815,0.2898911104568877,0.03403814995847346,0.0687157237380529,0.019903353297060136,6.40858696111624,0.18806601994941652,0.20392515131246225],\"sizemode\":\"area\",\"sizeref\":0.012698280768222898,\"symbol\":\"circle\"},\"mode\":\"markers\",\"name\":\"20B\",\"showlegend\":true,\"type\":\"scattergeo\"},{\"customdata\":[[\"20C\",7,\"VA\",8,0.08109930807228914],[\"20C\",3,\"KY\",8,0.0665803193902308],[\"20C\",2,\"ND\",8,0.25670843312873676]],\"geo\":\"geo\",\"hovertemplate\":\"<b>%{hovertext}</b><br><br>clade=%{customdata[0]}<br>per_capita=%{customdata[4]}<br>count=%{customdata[1]}<extra></extra>\",\"hovertext\":[\"VA\",\"KY\",\"ND\"],\"legendgroup\":\"20C\",\"locationmode\":\"USA-states\",\"locations\":[\"VA\",\"KY\",\"ND\"],\"marker\":{\"color\":\"rgb(244,109,67)\",\"size\":[0.08109930807228914,0.0665803193902308,0.25670843312873676],\"sizemode\":\"area\",\"sizeref\":0.012698280768222898,\"symbol\":\"circle\"},\"mode\":\"markers\",\"name\":\"20C\",\"showlegend\":true,\"type\":\"scattergeo\"},{\"customdata\":[[\"20G\",17,\"IN\",8,0.2505331935849355],[\"20G\",28,\"OH\",8,0.23729923637105738],[\"20G\",5,\"AZ\",8,0.06991538281049212],[\"20G\",5,\"WV\",8,0.27875092824059106],[\"20G\",20,\"TN\",8,0.28940042020941015],[\"20G\",1,\"SD\",8,0.11278191248800282],[\"20G\",2,\"MT\",8,0.18446355691853628],[\"20G\",6,\"SC\",8,0.11722355998183036],[\"20G\",91,\"MI\",8,0.9030168801640037],[\"20G\",1,\"KS\",8,0.03403814995847346],[\"20G\",70,\"WI\",8,1.1877052821326028]],\"geo\":\"geo\",\"hovertemplate\":\"<b>%{hovertext}</b><br><br>clade=%{customdata[0]}<br>per_capita=%{customdata[4]}<br>count=%{customdata[1]}<extra></extra>\",\"hovertext\":[\"IN\",\"OH\",\"AZ\",\"WV\",\"TN\",\"SD\",\"MT\",\"SC\",\"MI\",\"KS\",\"WI\"],\"legendgroup\":\"20G\",\"locationmode\":\"USA-states\",\"locations\":[\"IN\",\"OH\",\"AZ\",\"WV\",\"TN\",\"SD\",\"MT\",\"SC\",\"MI\",\"KS\",\"WI\"],\"marker\":{\"color\":\"rgb(254,199,118)\",\"size\":[0.2505331935849355,0.23729923637105738,0.06991538281049212,0.27875092824059106,0.28940042020941015,0.11278191248800282,0.18446355691853628,0.11722355998183036,0.9030168801640037,0.03403814995847346,1.1877052821326028],\"sizemode\":\"area\",\"sizeref\":0.012698280768222898,\"symbol\":\"circle\"},\"mode\":\"markers\",\"name\":\"20G\",\"showlegend\":true,\"type\":\"scattergeo\"},{\"customdata\":[[\"20J (Gamma, V3)\",124,\"IL\",8,0.9678042737612339],[\"20J (Gamma, V3)\",41,\"GA\",8,0.38275160690327065],[\"20J (Gamma, V3)\",1,\"HI\",8,0.0687157237380529],[\"20J (Gamma, V3)\",1,\"KS\",8,0.03403814995847346],[\"20J (Gamma, V3)\",5,\"WA\",8,0.06489056012363469]],\"geo\":\"geo\",\"hovertemplate\":\"<b>%{hovertext}</b><br><br>clade=%{customdata[0]}<br>per_capita=%{customdata[4]}<br>count=%{customdata[1]}<extra></extra>\",\"hovertext\":[\"IL\",\"GA\",\"HI\",\"KS\",\"WA\"],\"legendgroup\":\"20J (Gamma, V3)\",\"locationmode\":\"USA-states\",\"locations\":[\"IL\",\"GA\",\"HI\",\"KS\",\"WA\"],\"marker\":{\"color\":\"rgb(255,255,191)\",\"size\":[0.9678042737612339,0.38275160690327065,0.0687157237380529,0.03403814995847346,0.06489056012363469],\"sizemode\":\"area\",\"sizeref\":0.012698280768222898,\"symbol\":\"circle\"},\"mode\":\"markers\",\"name\":\"20J (Gamma, V3)\",\"showlegend\":true,\"type\":\"scattergeo\"},{\"customdata\":[[\"21B (Kappa)\",1,\"OK\",8,0.025256651781237992]],\"geo\":\"geo\",\"hovertemplate\":\"<b>%{hovertext}</b><br><br>clade=%{customdata[0]}<br>per_capita=%{customdata[4]}<br>count=%{customdata[1]}<extra></extra>\",\"hovertext\":[\"OK\"],\"legendgroup\":\"21B (Kappa)\",\"locationmode\":\"USA-states\",\"locations\":[\"OK\"],\"marker\":{\"color\":\"rgb(230,245,152)\",\"size\":[0.025256651781237992],\"sizemode\":\"area\",\"sizeref\":0.012698280768222898,\"symbol\":\"circle\"},\"mode\":\"markers\",\"name\":\"21B (Kappa)\",\"showlegend\":true,\"type\":\"scattergeo\"},{\"customdata\":[[\"21C (Epsilon)\",78,\"CA\",8,0.1972774547809091],[\"21C (Epsilon)\",2,\"ID\",8,0.10874848975534851],[\"21C (Epsilon)\",70,\"CO\",8,1.2123911922204669],[\"21C (Epsilon)\",2,\"ND\",8,0.25670843312873676],[\"21C (Epsilon)\",75,\"WY\",8,13.001624336267078],[\"21C (Epsilon)\",70,\"MN\",8,1.2266726294639057],[\"21C (Epsilon)\",4,\"AR\",8,0.1328231154724319],[\"21C (Epsilon)\",1,\"OK\",8,0.025256651781237992],[\"21C (Epsilon)\",33,\"OR\",8,0.7788059064639946],[\"21C (Epsilon)\",1,\"HI\",8,0.0687157237380529]],\"geo\":\"geo\",\"hovertemplate\":\"<b>%{hovertext}</b><br><br>clade=%{customdata[0]}<br>per_capita=%{customdata[4]}<br>count=%{customdata[1]}<extra></extra>\",\"hovertext\":[\"CA\",\"ID\",\"CO\",\"ND\",\"WY\",\"MN\",\"AR\",\"OK\",\"OR\",\"HI\"],\"legendgroup\":\"21C (Epsilon)\",\"locationmode\":\"USA-states\",\"locations\":[\"CA\",\"ID\",\"CO\",\"ND\",\"WY\",\"MN\",\"AR\",\"OK\",\"OR\",\"HI\"],\"marker\":{\"color\":\"rgb(201,233,158)\",\"size\":[0.1972774547809091,0.10874848975534851,1.2123911922204669,0.25670843312873676,13.001624336267078,1.2266726294639057,0.1328231154724319,0.025256651781237992,0.7788059064639946,0.0687157237380529],\"sizemode\":\"area\",\"sizeref\":0.012698280768222898,\"symbol\":\"circle\"},\"mode\":\"markers\",\"name\":\"21C (Epsilon)\",\"showlegend\":true,\"type\":\"scattergeo\"},{\"customdata\":[[\"21F (Iota)\",8,\"LA\",8,0.1717564913755698],[\"21F (Iota)\",2,\"DE\",8,0.20203081373971157],[\"21F (Iota)\",49,\"MD\",8,0.7932365735806245],[\"21F (Iota)\",15,\"PR\",8,0.45649954928277836],[\"21F (Iota)\",296,\"PA\",8,2.2764502757119676],[\"21F (Iota)\",115,\"MA\",8,1.63586568660768],[\"21F (Iota)\",1092,\"NY\",8,5.405606356319849],[\"21F (Iota)\",45,\"VT\",8,6.997606818468084],[\"21F (Iota)\",448,\"CT\",8,12.423931153672935],[\"21F (Iota)\",117,\"FL\",8,0.5432212098446355],[\"21F (Iota)\",107,\"MO\",8,1.738448618201427],[\"21F (Iota)\",76,\"NC\",8,0.7280120252259998],[\"21F (Iota)\",1,\"SD\",8,0.11278191248800282],[\"21F (Iota)\",285,\"NJ\",8,3.068147099675164],[\"21F (Iota)\",6,\"ME\",8,0.4404125491151745],[\"21F (Iota)\",263,\"RI\",8,23.96619581748876],[\"21F (Iota)\",64,\"NH\",8,4.646000193099383]],\"geo\":\"geo\",\"hovertemplate\":\"<b>%{hovertext}</b><br><br>clade=%{customdata[0]}<br>per_capita=%{customdata[4]}<br>count=%{customdata[1]}<extra></extra>\",\"hovertext\":[\"LA\",\"DE\",\"MD\",\"PR\",\"PA\",\"MA\",\"NY\",\"VT\",\"CT\",\"FL\",\"MO\",\"NC\",\"SD\",\"NJ\",\"ME\",\"RI\",\"NH\"],\"legendgroup\":\"21F (Iota)\",\"locationmode\":\"USA-states\",\"locations\":[\"LA\",\"DE\",\"MD\",\"PR\",\"PA\",\"MA\",\"NY\",\"VT\",\"CT\",\"FL\",\"MO\",\"NC\",\"SD\",\"NJ\",\"ME\",\"RI\",\"NH\"],\"marker\":{\"color\":\"rgb(137,208,165)\",\"size\":[0.1717564913755698,0.20203081373971157,0.7932365735806245,0.45649954928277836,2.2764502757119676,1.63586568660768,5.405606356319849,6.997606818468084,12.423931153672935,0.5432212098446355,1.738448618201427,0.7280120252259998,0.11278191248800282,3.068147099675164,0.4404125491151745,23.96619581748876,4.646000193099383],\"sizemode\":\"area\",\"sizeref\":0.012698280768222898,\"symbol\":\"circle\"},\"mode\":\"markers\",\"name\":\"21F (Iota)\",\"showlegend\":true,\"type\":\"scattergeo\"}],\"name\":\"8\"},{\"data\":[{\"customdata\":[[\"19B\",15,\"GA\",9,0.14003107569631854]],\"geo\":\"geo\",\"hovertemplate\":\"<b>%{hovertext}</b><br><br>clade=%{customdata[0]}<br>per_capita=%{customdata[4]}<br>count=%{customdata[1]}<extra></extra>\",\"hovertext\":[\"GA\"],\"legendgroup\":\"19B\",\"locationmode\":\"USA-states\",\"locations\":[\"GA\"],\"marker\":{\"color\":\"rgb(186,32,73)\",\"size\":[0.14003107569631854],\"sizemode\":\"area\",\"sizeref\":0.012698280768222898,\"symbol\":\"circle\"},\"mode\":\"markers\",\"name\":\"19B\",\"showlegend\":true,\"type\":\"scattergeo\"},{\"customdata\":[[\"20B\",1,\"OK\",9,0.025256651781237992],[\"20B\",3,\"KY\",9,0.0665803193902308]],\"geo\":\"geo\",\"hovertemplate\":\"<b>%{hovertext}</b><br><br>clade=%{customdata[0]}<br>per_capita=%{customdata[4]}<br>count=%{customdata[1]}<extra></extra>\",\"hovertext\":[\"OK\",\"KY\"],\"legendgroup\":\"20B\",\"locationmode\":\"USA-states\",\"locations\":[\"OK\",\"KY\"],\"marker\":{\"color\":\"rgb(229,86,73)\",\"size\":[0.025256651781237992,0.0665803193902308],\"sizemode\":\"area\",\"sizeref\":0.012698280768222898,\"symbol\":\"circle\"},\"mode\":\"markers\",\"name\":\"20B\",\"showlegend\":true,\"type\":\"scattergeo\"},{\"customdata\":[[\"20C\",1,\"NV\",9,0.032210123384098635]],\"geo\":\"geo\",\"hovertemplate\":\"<b>%{hovertext}</b><br><br>clade=%{customdata[0]}<br>per_capita=%{customdata[4]}<br>count=%{customdata[1]}<extra></extra>\",\"hovertext\":[\"NV\"],\"legendgroup\":\"20C\",\"locationmode\":\"USA-states\",\"locations\":[\"NV\"],\"marker\":{\"color\":\"rgb(244,109,67)\",\"size\":[0.032210123384098635],\"sizemode\":\"area\",\"sizeref\":0.012698280768222898,\"symbol\":\"circle\"},\"mode\":\"markers\",\"name\":\"20C\",\"showlegend\":true,\"type\":\"scattergeo\"},{\"customdata\":[[\"20G\",21,\"AZ\",9,0.2936446078040669],[\"20G\",2,\"AL\",9,0.03980670659412027]],\"geo\":\"geo\",\"hovertemplate\":\"<b>%{hovertext}</b><br><br>clade=%{customdata[0]}<br>per_capita=%{customdata[4]}<br>count=%{customdata[1]}<extra></extra>\",\"hovertext\":[\"AZ\",\"AL\"],\"legendgroup\":\"20G\",\"locationmode\":\"USA-states\",\"locations\":[\"AZ\",\"AL\"],\"marker\":{\"color\":\"rgb(254,199,118)\",\"size\":[0.2936446078040669,0.03980670659412027],\"sizemode\":\"area\",\"sizeref\":0.012698280768222898,\"symbol\":\"circle\"},\"mode\":\"markers\",\"name\":\"20G\",\"showlegend\":true,\"type\":\"scattergeo\"},{\"customdata\":[[\"20I (Alpha, V1)\",19,\"LA\",9,0.4079216670169783]],\"geo\":\"geo\",\"hovertemplate\":\"<b>%{hovertext}</b><br><br>clade=%{customdata[0]}<br>per_capita=%{customdata[4]}<br>count=%{customdata[1]}<extra></extra>\",\"hovertext\":[\"LA\"],\"legendgroup\":\"20I (Alpha, V1)\",\"locationmode\":\"USA-states\",\"locations\":[\"LA\"],\"marker\":{\"color\":\"rgb(255,240,165)\",\"size\":[0.4079216670169783],\"sizemode\":\"area\",\"sizeref\":0.012698280768222898,\"symbol\":\"circle\"},\"mode\":\"markers\",\"name\":\"20I (Alpha, V1)\",\"showlegend\":true,\"type\":\"scattergeo\"},{\"customdata\":[[\"20J (Gamma, V3)\",187,\"IL\",9,1.4595112838173447],[\"20J (Gamma, V3)\",17,\"TX\",9,0.05832803377399019],[\"20J (Gamma, V3)\",4,\"ID\",9,0.21749697951069702],[\"20J (Gamma, V3)\",1,\"IA\",9,0.031344336658236084],[\"20J (Gamma, V3)\",78,\"FL\",9,0.362147473229757],[\"20J (Gamma, V3)\",3,\"TN\",9,0.04341006303141152],[\"20J (Gamma, V3)\",1,\"HI\",9,0.0687157237380529],[\"20J (Gamma, V3)\",22,\"IN\",9,0.32421942699226947],[\"20J (Gamma, V3)\",1525,\"VA\",9,17.668063544320134],[\"20J (Gamma, V3)\",10,\"WA\",9,0.12978112024726937],[\"20J (Gamma, V3)\",72,\"CA\",9,0.1821022659516084],[\"20J (Gamma, V3)\",3,\"MT\",9,0.27669533537780444],[\"20J (Gamma, V3)\",14,\"OH\",9,0.11864961818552869],[\"20J (Gamma, V3)\",2,\"KS\",9,0.06807629991694691],[\"20J (Gamma, V3)\",1,\"NE\",9,0.05098128782811556]],\"geo\":\"geo\",\"hovertemplate\":\"<b>%{hovertext}</b><br><br>clade=%{customdata[0]}<br>per_capita=%{customdata[4]}<br>count=%{customdata[1]}<extra></extra>\",\"hovertext\":[\"IL\",\"TX\",\"ID\",\"IA\",\"FL\",\"TN\",\"HI\",\"IN\",\"VA\",\"WA\",\"CA\",\"MT\",\"OH\",\"KS\",\"NE\"],\"legendgroup\":\"20J (Gamma, V3)\",\"locationmode\":\"USA-states\",\"locations\":[\"IL\",\"TX\",\"ID\",\"IA\",\"FL\",\"TN\",\"HI\",\"IN\",\"VA\",\"WA\",\"CA\",\"MT\",\"OH\",\"KS\",\"NE\"],\"marker\":{\"color\":\"rgb(255,255,191)\",\"size\":[1.4595112838173447,0.05832803377399019,0.21749697951069702,0.031344336658236084,0.362147473229757,0.04341006303141152,0.0687157237380529,0.32421942699226947,17.668063544320134,0.12978112024726937,0.1821022659516084,0.27669533537780444,0.11864961818552869,0.06807629991694691,0.05098128782811556],\"sizemode\":\"area\",\"sizeref\":0.012698280768222898,\"symbol\":\"circle\"},\"mode\":\"markers\",\"name\":\"20J (Gamma, V3)\",\"showlegend\":true,\"type\":\"scattergeo\"},{\"customdata\":[[\"21C (Epsilon)\",12,\"OR\",9,0.28320214780508896],[\"21C (Epsilon)\",2,\"UT\",9,0.061131868776775754],[\"21C (Epsilon)\",166,\"AK\",9,22.634583735006295]],\"geo\":\"geo\",\"hovertemplate\":\"<b>%{hovertext}</b><br><br>clade=%{customdata[0]}<br>per_capita=%{customdata[4]}<br>count=%{customdata[1]}<extra></extra>\",\"hovertext\":[\"OR\",\"UT\",\"AK\"],\"legendgroup\":\"21C (Epsilon)\",\"locationmode\":\"USA-states\",\"locations\":[\"OR\",\"UT\",\"AK\"],\"marker\":{\"color\":\"rgb(201,233,158)\",\"size\":[0.28320214780508896,0.061131868776775754,22.634583735006295],\"sizemode\":\"area\",\"sizeref\":0.012698280768222898,\"symbol\":\"circle\"},\"mode\":\"markers\",\"name\":\"21C (Epsilon)\",\"showlegend\":true,\"type\":\"scattergeo\"},{\"customdata\":[[\"21F (Iota)\",3,\"MT\",9,0.27669533537780444],[\"21F (Iota)\",81,\"PA\",9,0.6229475416644236],[\"21F (Iota)\",3,\"PR\",9,0.09129990985655567],[\"21F (Iota)\",94,\"RI\",9,8.565864664805869],[\"21F (Iota)\",10,\"SC\",9,0.19537259996971726],[\"21F (Iota)\",2,\"DC\",9,0.0],[\"21F (Iota)\",2,\"MO\",9,0.03249436669535378],[\"21F (Iota)\",8,\"NM\",9,0.37780008897192097],[\"21F (Iota)\",26,\"MD\",9,0.42090103904278037],[\"21F (Iota)\",130,\"MA\",9,1.849239471817377],[\"21F (Iota)\",37,\"NJ\",9,0.3983208515367757],[\"21F (Iota)\",2,\"ND\",9,0.25670843312873676],[\"21F (Iota)\",19,\"NH\",9,1.3792813073263792],[\"21F (Iota)\",13,\"MI\",9,0.12900241145200053],[\"21F (Iota)\",1,\"AR\",9,0.03320577886810797],[\"21F (Iota)\",78,\"MN\",9,1.3668637871169234],[\"21F (Iota)\",60,\"ME\",9,4.404125491151745],[\"21F (Iota)\",6,\"WI\",9,0.10180330989708025],[\"21F (Iota)\",12,\"VT\",9,1.8660284849248223],[\"21F (Iota)\",455,\"WV\",9,25.366334469893786],[\"21F (Iota)\",49,\"NC\",9,0.46937617415886834],[\"21F (Iota)\",28,\"CT\",9,0.7764956971045585],[\"21F (Iota)\",28,\"NY\",9,0.13860529118768844],[\"21F (Iota)\",149,\"CO\",9,2.5806612520121366]],\"geo\":\"geo\",\"hovertemplate\":\"<b>%{hovertext}</b><br><br>clade=%{customdata[0]}<br>per_capita=%{customdata[4]}<br>count=%{customdata[1]}<extra></extra>\",\"hovertext\":[\"MT\",\"PA\",\"PR\",\"RI\",\"SC\",\"DC\",\"MO\",\"NM\",\"MD\",\"MA\",\"NJ\",\"ND\",\"NH\",\"MI\",\"AR\",\"MN\",\"ME\",\"WI\",\"VT\",\"WV\",\"NC\",\"CT\",\"NY\",\"CO\"],\"legendgroup\":\"21F (Iota)\",\"locationmode\":\"USA-states\",\"locations\":[\"MT\",\"PA\",\"PR\",\"RI\",\"SC\",\"DC\",\"MO\",\"NM\",\"MD\",\"MA\",\"NJ\",\"ND\",\"NH\",\"MI\",\"AR\",\"MN\",\"ME\",\"WI\",\"VT\",\"WV\",\"NC\",\"CT\",\"NY\",\"CO\"],\"marker\":{\"color\":\"rgb(137,208,165)\",\"size\":[0.27669533537780444,0.6229475416644236,0.09129990985655567,8.565864664805869,0.19537259996971726,0.0,0.03249436669535378,0.37780008897192097,0.42090103904278037,1.849239471817377,0.3983208515367757,0.25670843312873676,1.3792813073263792,0.12900241145200053,0.03320577886810797,1.3668637871169234,4.404125491151745,0.10180330989708025,1.8660284849248223,25.366334469893786,0.46937617415886834,0.7764956971045585,0.13860529118768844,2.5806612520121366],\"sizemode\":\"area\",\"sizeref\":0.012698280768222898,\"symbol\":\"circle\"},\"mode\":\"markers\",\"name\":\"21F (Iota)\",\"showlegend\":true,\"type\":\"scattergeo\"}],\"name\":\"9\"},{\"data\":[{\"customdata\":[[\"20A\",3,\"AL\",10,0.05971005989118041]],\"geo\":\"geo\",\"hovertemplate\":\"<b>%{hovertext}</b><br><br>clade=%{customdata[0]}<br>per_capita=%{customdata[4]}<br>count=%{customdata[1]}<extra></extra>\",\"hovertext\":[\"AL\"],\"legendgroup\":\"20A\",\"locationmode\":\"USA-states\",\"locations\":[\"AL\"],\"marker\":{\"color\":\"rgb(213,62,79)\",\"size\":[0.05971005989118041],\"sizemode\":\"area\",\"sizeref\":0.012698280768222898,\"symbol\":\"circle\"},\"mode\":\"markers\",\"name\":\"20A\",\"showlegend\":true,\"type\":\"scattergeo\"},{\"customdata\":[[\"20B\",42,\"AK\",10,5.726822390784725]],\"geo\":\"geo\",\"hovertemplate\":\"<b>%{hovertext}</b><br><br>clade=%{customdata[0]}<br>per_capita=%{customdata[4]}<br>count=%{customdata[1]}<extra></extra>\",\"hovertext\":[\"AK\"],\"legendgroup\":\"20B\",\"locationmode\":\"USA-states\",\"locations\":[\"AK\"],\"marker\":{\"color\":\"rgb(229,86,73)\",\"size\":[5.726822390784725],\"sizemode\":\"area\",\"sizeref\":0.012698280768222898,\"symbol\":\"circle\"},\"mode\":\"markers\",\"name\":\"20B\",\"showlegend\":true,\"type\":\"scattergeo\"},{\"customdata\":[[\"20C\",9,\"AZ\",10,0.1258476890588858],[\"20C\",6,\"ME\",10,0.4404125491151745],[\"20C\",27,\"ID\",10,1.4681046116972052],[\"20C\",1,\"ND\",10,0.12835421656436838]],\"geo\":\"geo\",\"hovertemplate\":\"<b>%{hovertext}</b><br><br>clade=%{customdata[0]}<br>per_capita=%{customdata[4]}<br>count=%{customdata[1]}<extra></extra>\",\"hovertext\":[\"AZ\",\"ME\",\"ID\",\"ND\"],\"legendgroup\":\"20C\",\"locationmode\":\"USA-states\",\"locations\":[\"AZ\",\"ME\",\"ID\",\"ND\"],\"marker\":{\"color\":\"rgb(244,109,67)\",\"size\":[0.1258476890588858,0.4404125491151745,1.4681046116972052,0.12835421656436838],\"sizemode\":\"area\",\"sizeref\":0.012698280768222898,\"symbol\":\"circle\"},\"mode\":\"markers\",\"name\":\"20C\",\"showlegend\":true,\"type\":\"scattergeo\"},{\"customdata\":[[\"20I (Alpha, V1)\",29,\"WV\",10,1.616755383795428],[\"20I (Alpha, V1)\",3,\"UT\",10,0.09169780316516364],[\"20I (Alpha, V1)\",38,\"TN\",10,0.5498607983978793],[\"20I (Alpha, V1)\",101,\"FL\",10,0.4689345486693007],[\"20I (Alpha, V1)\",64,\"WA\",10,0.830599169582524],[\"20I (Alpha, V1)\",93,\"CA\",10,0.23521542685416083],[\"20I (Alpha, V1)\",101,\"TX\",10,0.34653714183370643],[\"20I (Alpha, V1)\",2918,\"VA\",10,33.80682585070568],[\"20I (Alpha, V1)\",156,\"CO\",10,2.701900371234183],[\"20I (Alpha, V1)\",66,\"CT\",10,1.8303112860321735],[\"20I (Alpha, V1)\",9,\"WI\",10,0.15270496484562038],[\"20I (Alpha, V1)\",38,\"GA\",10,0.35474539176400693],[\"20I (Alpha, V1)\",1,\"NE\",10,0.05098128782811556],[\"20I (Alpha, V1)\",13,\"MD\",10,0.21045051952139018],[\"20I (Alpha, V1)\",16,\"OR\",10,0.3776028637401186],[\"20I (Alpha, V1)\",12,\"IN\",10,0.1768469601776015],[\"20I (Alpha, V1)\",1,\"OK\",10,0.025256651781237992],[\"20I (Alpha, V1)\",1,\"MI\",10,0.009923262419384656],[\"20I (Alpha, V1)\",105,\"OH\",10,0.889872136391465],[\"20I (Alpha, V1)\",2,\"KY\",10,0.0443868795934872],[\"20I (Alpha, V1)\",14,\"NJ\",10,0.15071599787877998],[\"20I (Alpha, V1)\",10,\"NV\",10,0.3221012338409863],[\"20I (Alpha, V1)\",49,\"LA\",10,1.052008509675365],[\"20I (Alpha, V1)\",18,\"MA\",10,0.2560485422516368],[\"20I (Alpha, V1)\",72,\"MN\",10,1.26172041887716],[\"20I (Alpha, V1)\",117,\"IL\",10,0.9131701615327773],[\"20I (Alpha, V1)\",13,\"NM\",10,0.6139251445793715],[\"20I (Alpha, V1)\",7,\"MS\",10,0.23638434608829495],[\"20I (Alpha, V1)\",2,\"SD\",10,0.22556382497600563],[\"20I (Alpha, V1)\",19,\"MT\",10,1.7524037907260945],[\"20I (Alpha, V1)\",1,\"HI\",10,0.0687157237380529],[\"20I (Alpha, V1)\",43,\"NC\",10,0.4119015405883946],[\"20I (Alpha, V1)\",46,\"MO\",10,0.7473704339931369],[\"20I (Alpha, V1)\",129,\"SC\",10,2.5203065396093525]],\"geo\":\"geo\",\"hovertemplate\":\"<b>%{hovertext}</b><br><br>clade=%{customdata[0]}<br>per_capita=%{customdata[4]}<br>count=%{customdata[1]}<extra></extra>\",\"hovertext\":[\"WV\",\"UT\",\"TN\",\"FL\",\"WA\",\"CA\",\"TX\",\"VA\",\"CO\",\"CT\",\"WI\",\"GA\",\"NE\",\"MD\",\"OR\",\"IN\",\"OK\",\"MI\",\"OH\",\"KY\",\"NJ\",\"NV\",\"LA\",\"MA\",\"MN\",\"IL\",\"NM\",\"MS\",\"SD\",\"MT\",\"HI\",\"NC\",\"MO\",\"SC\"],\"legendgroup\":\"20I (Alpha, V1)\",\"locationmode\":\"USA-states\",\"locations\":[\"WV\",\"UT\",\"TN\",\"FL\",\"WA\",\"CA\",\"TX\",\"VA\",\"CO\",\"CT\",\"WI\",\"GA\",\"NE\",\"MD\",\"OR\",\"IN\",\"OK\",\"MI\",\"OH\",\"KY\",\"NJ\",\"NV\",\"LA\",\"MA\",\"MN\",\"IL\",\"NM\",\"MS\",\"SD\",\"MT\",\"HI\",\"NC\",\"MO\",\"SC\"],\"marker\":{\"color\":\"rgb(255,240,165)\",\"size\":[1.616755383795428,0.09169780316516364,0.5498607983978793,0.4689345486693007,0.830599169582524,0.23521542685416083,0.34653714183370643,33.80682585070568,2.701900371234183,1.8303112860321735,0.15270496484562038,0.35474539176400693,0.05098128782811556,0.21045051952139018,0.3776028637401186,0.1768469601776015,0.025256651781237992,0.009923262419384656,0.889872136391465,0.0443868795934872,0.15071599787877998,0.3221012338409863,1.052008509675365,0.2560485422516368,1.26172041887716,0.9131701615327773,0.6139251445793715,0.23638434608829495,0.22556382497600563,1.7524037907260945,0.0687157237380529,0.4119015405883946,0.7473704339931369,2.5203065396093525],\"sizemode\":\"area\",\"sizeref\":0.012698280768222898,\"symbol\":\"circle\"},\"mode\":\"markers\",\"name\":\"20I (Alpha, V1)\",\"showlegend\":true,\"type\":\"scattergeo\"},{\"customdata\":[[\"20J (Gamma, V3)\",23,\"PA\",10,0.17688633899113262],[\"20J (Gamma, V3)\",6,\"NY\",10,0.02970113382593324],[\"20J (Gamma, V3)\",55,\"IA\",10,1.7239385162029845]],\"geo\":\"geo\",\"hovertemplate\":\"<b>%{hovertext}</b><br><br>clade=%{customdata[0]}<br>per_capita=%{customdata[4]}<br>count=%{customdata[1]}<extra></extra>\",\"hovertext\":[\"PA\",\"NY\",\"IA\"],\"legendgroup\":\"20J (Gamma, V3)\",\"locationmode\":\"USA-states\",\"locations\":[\"PA\",\"NY\",\"IA\"],\"marker\":{\"color\":\"rgb(255,255,191)\",\"size\":[0.17688633899113262,0.02970113382593324,1.7239385162029845],\"sizemode\":\"area\",\"sizeref\":0.012698280768222898,\"symbol\":\"circle\"},\"mode\":\"markers\",\"name\":\"20J (Gamma, V3)\",\"showlegend\":true,\"type\":\"scattergeo\"},{\"customdata\":[[\"21F (Iota)\",5,\"AR\",10,0.16602889434053986],[\"21F (Iota)\",3,\"UT\",10,0.09169780316516364],[\"21F (Iota)\",34,\"WY\",10,5.8940696991077415],[\"21F (Iota)\",1,\"MI\",10,0.009923262419384656],[\"21F (Iota)\",3,\"NH\",10,0.2177812590515336],[\"21F (Iota)\",2,\"KY\",10,0.0443868795934872],[\"21F (Iota)\",3,\"PR\",10,0.09129990985655567],[\"21F (Iota)\",82,\"RI\",10,7.472350026745546]],\"geo\":\"geo\",\"hovertemplate\":\"<b>%{hovertext}</b><br><br>clade=%{customdata[0]}<br>per_capita=%{customdata[4]}<br>count=%{customdata[1]}<extra></extra>\",\"hovertext\":[\"AR\",\"UT\",\"WY\",\"MI\",\"NH\",\"KY\",\"PR\",\"RI\"],\"legendgroup\":\"21F (Iota)\",\"locationmode\":\"USA-states\",\"locations\":[\"AR\",\"UT\",\"WY\",\"MI\",\"NH\",\"KY\",\"PR\",\"RI\"],\"marker\":{\"color\":\"rgb(137,208,165)\",\"size\":[0.16602889434053986,0.09169780316516364,5.8940696991077415,0.009923262419384656,0.2177812590515336,0.0443868795934872,0.09129990985655567,7.472350026745546],\"sizemode\":\"area\",\"sizeref\":0.012698280768222898,\"symbol\":\"circle\"},\"mode\":\"markers\",\"name\":\"21F (Iota)\",\"showlegend\":true,\"type\":\"scattergeo\"}],\"name\":\"10\"},{\"data\":[{\"customdata\":[[\"20A\",3,\"MN\",11,0.05257168411988166],[\"20A\",1,\"OK\",11,0.025256651781237992]],\"geo\":\"geo\",\"hovertemplate\":\"<b>%{hovertext}</b><br><br>clade=%{customdata[0]}<br>per_capita=%{customdata[4]}<br>count=%{customdata[1]}<extra></extra>\",\"hovertext\":[\"MN\",\"OK\"],\"legendgroup\":\"20A\",\"locationmode\":\"USA-states\",\"locations\":[\"MN\",\"OK\"],\"marker\":{\"color\":\"rgb(213,62,79)\",\"size\":[0.05257168411988166,0.025256651781237992],\"sizemode\":\"area\",\"sizeref\":0.012698280768222898,\"symbol\":\"circle\"},\"mode\":\"markers\",\"name\":\"20A\",\"showlegend\":true,\"type\":\"scattergeo\"},{\"customdata\":[[\"20C\",4,\"RI\",11,0.3645048793534412],[\"20C\",4,\"PR\",11,0.12173321314207422],[\"20C\",30,\"MA\",11,0.4267475704193947]],\"geo\":\"geo\",\"hovertemplate\":\"<b>%{hovertext}</b><br><br>clade=%{customdata[0]}<br>per_capita=%{customdata[4]}<br>count=%{customdata[1]}<extra></extra>\",\"hovertext\":[\"RI\",\"PR\",\"MA\"],\"legendgroup\":\"20C\",\"locationmode\":\"USA-states\",\"locations\":[\"RI\",\"PR\",\"MA\"],\"marker\":{\"color\":\"rgb(244,109,67)\",\"size\":[0.3645048793534412,0.12173321314207422,0.4267475704193947],\"sizemode\":\"area\",\"sizeref\":0.012698280768222898,\"symbol\":\"circle\"},\"mode\":\"markers\",\"name\":\"20C\",\"showlegend\":true,\"type\":\"scattergeo\"},{\"customdata\":[[\"20D\",7,\"MI\",11,0.0694628369356926]],\"geo\":\"geo\",\"hovertemplate\":\"<b>%{hovertext}</b><br><br>clade=%{customdata[0]}<br>per_capita=%{customdata[4]}<br>count=%{customdata[1]}<extra></extra>\",\"hovertext\":[\"MI\"],\"legendgroup\":\"20D\",\"locationmode\":\"USA-states\",\"locations\":[\"MI\"],\"marker\":{\"color\":\"rgb(249,142,82)\",\"size\":[0.0694628369356926],\"sizemode\":\"area\",\"sizeref\":0.012698280768222898,\"symbol\":\"circle\"},\"mode\":\"markers\",\"name\":\"20D\",\"showlegend\":true,\"type\":\"scattergeo\"},{\"customdata\":[[\"20I (Alpha, V1)\",41,\"WA\",11,0.5321025930138045],[\"20I (Alpha, V1)\",6,\"MS\",11,0.2026151537899671],[\"20I (Alpha, V1)\",43,\"MD\",11,0.6961055645707521],[\"20I (Alpha, V1)\",25,\"NC\",11,0.23947763987697362],[\"20I (Alpha, V1)\",24,\"WV\",11,1.3380044555548372],[\"20I (Alpha, V1)\",4,\"NH\",11,0.2903750120687114],[\"20I (Alpha, V1)\",18,\"AR\",11,0.5977040196259436],[\"20I (Alpha, V1)\",3,\"MO\",11,0.04874155004303067],[\"20I (Alpha, V1)\",2,\"ND\",11,0.25670843312873676],[\"20I (Alpha, V1)\",8,\"AK\",11,1.0908233125304236],[\"20I (Alpha, V1)\",3,\"NE\",11,0.15294386348434671],[\"20I (Alpha, V1)\",2,\"SD\",11,0.22556382497600563],[\"20I (Alpha, V1)\",968,\"NM\",11,45.71381076560243],[\"20I (Alpha, V1)\",7,\"GU\",11,0.0],[\"20I (Alpha, V1)\",11,\"SC\",11,0.214909859966689],[\"20I (Alpha, V1)\",17,\"TN\",11,0.24599035717799864],[\"20I (Alpha, V1)\",1,\"DE\",11,0.10101540686985579],[\"20I (Alpha, V1)\",15,\"PA\",11,0.11536065586378215],[\"20I (Alpha, V1)\",4,\"ID\",11,0.21749697951069702],[\"20I (Alpha, V1)\",40,\"OR\",11,0.9440071593502966],[\"20I (Alpha, V1)\",1,\"OK\",11,0.025256651781237992],[\"20I (Alpha, V1)\",5,\"IN\",11,0.07368623340733396],[\"20I (Alpha, V1)\",19,\"CO\",11,0.3290776093169838],[\"20I (Alpha, V1)\",4,\"KS\",11,0.13615259983389383],[\"20I (Alpha, V1)\",9,\"VA\",11,0.10427053895008605],[\"20I (Alpha, V1)\",27,\"GA\",11,0.25205593625337336],[\"20I (Alpha, V1)\",20,\"NV\",11,0.6442024676819726],[\"20I (Alpha, V1)\",1,\"CT\",11,0.02773198918230566],[\"20I (Alpha, V1)\",10,\"KY\",11,0.22193439796743603]],\"geo\":\"geo\",\"hovertemplate\":\"<b>%{hovertext}</b><br><br>clade=%{customdata[0]}<br>per_capita=%{customdata[4]}<br>count=%{customdata[1]}<extra></extra>\",\"hovertext\":[\"WA\",\"MS\",\"MD\",\"NC\",\"WV\",\"NH\",\"AR\",\"MO\",\"ND\",\"AK\",\"NE\",\"SD\",\"NM\",\"GU\",\"SC\",\"TN\",\"DE\",\"PA\",\"ID\",\"OR\",\"OK\",\"IN\",\"CO\",\"KS\",\"VA\",\"GA\",\"NV\",\"CT\",\"KY\"],\"legendgroup\":\"20I (Alpha, V1)\",\"locationmode\":\"USA-states\",\"locations\":[\"WA\",\"MS\",\"MD\",\"NC\",\"WV\",\"NH\",\"AR\",\"MO\",\"ND\",\"AK\",\"NE\",\"SD\",\"NM\",\"GU\",\"SC\",\"TN\",\"DE\",\"PA\",\"ID\",\"OR\",\"OK\",\"IN\",\"CO\",\"KS\",\"VA\",\"GA\",\"NV\",\"CT\",\"KY\"],\"marker\":{\"color\":\"rgb(255,240,165)\",\"size\":[0.5321025930138045,0.2026151537899671,0.6961055645707521,0.23947763987697362,1.3380044555548372,0.2903750120687114,0.5977040196259436,0.04874155004303067,0.25670843312873676,1.0908233125304236,0.15294386348434671,0.22556382497600563,45.71381076560243,0.0,0.214909859966689,0.24599035717799864,0.10101540686985579,0.11536065586378215,0.21749697951069702,0.9440071593502966,0.025256651781237992,0.07368623340733396,0.3290776093169838,0.13615259983389383,0.10427053895008605,0.25205593625337336,0.6442024676819726,0.02773198918230566,0.22193439796743603],\"sizemode\":\"area\",\"sizeref\":0.012698280768222898,\"symbol\":\"circle\"},\"mode\":\"markers\",\"name\":\"20I (Alpha, V1)\",\"showlegend\":true,\"type\":\"scattergeo\"},{\"customdata\":[[\"20J (Gamma, V3)\",3,\"WI\",11,0.050901654948540126],[\"20J (Gamma, V3)\",4,\"HI\",11,0.2748628949522116],[\"20J (Gamma, V3)\",9,\"IL\",11,0.0702438585794444],[\"20J (Gamma, V3)\",6,\"AZ\",11,0.08389845937259054],[\"20J (Gamma, V3)\",1,\"CT\",11,0.02773198918230566],[\"20J (Gamma, V3)\",446,\"CA\",11,1.1280223696446852]],\"geo\":\"geo\",\"hovertemplate\":\"<b>%{hovertext}</b><br><br>clade=%{customdata[0]}<br>per_capita=%{customdata[4]}<br>count=%{customdata[1]}<extra></extra>\",\"hovertext\":[\"WI\",\"HI\",\"IL\",\"AZ\",\"CT\",\"CA\"],\"legendgroup\":\"20J (Gamma, V3)\",\"locationmode\":\"USA-states\",\"locations\":[\"WI\",\"HI\",\"IL\",\"AZ\",\"CT\",\"CA\"],\"marker\":{\"color\":\"rgb(255,255,191)\",\"size\":[0.050901654948540126,0.2748628949522116,0.0702438585794444,0.08389845937259054,0.02773198918230566,1.1280223696446852],\"sizemode\":\"area\",\"sizeref\":0.012698280768222898,\"symbol\":\"circle\"},\"mode\":\"markers\",\"name\":\"20J (Gamma, V3)\",\"showlegend\":true,\"type\":\"scattergeo\"},{\"customdata\":[[\"21A (Delta)\",753,\"NJ\",11,8.10636760019438],[\"21A (Delta)\",31,\"AL\",11,0.6170039522088642],[\"21A (Delta)\",559,\"FL\",11,2.5953902248132583],[\"21A (Delta)\",126,\"TX\",11,0.4323136620895744],[\"21A (Delta)\",1,\"CT\",11,0.02773198918230566],[\"21A (Delta)\",3,\"UT\",11,0.09169780316516364],[\"21A (Delta)\",29,\"OH\",11,0.24577420909859513],[\"21A (Delta)\",13,\"NY\",11,0.06435245662285534]],\"geo\":\"geo\",\"hovertemplate\":\"<b>%{hovertext}</b><br><br>clade=%{customdata[0]}<br>per_capita=%{customdata[4]}<br>count=%{customdata[1]}<extra></extra>\",\"hovertext\":[\"NJ\",\"AL\",\"FL\",\"TX\",\"CT\",\"UT\",\"OH\",\"NY\"],\"legendgroup\":\"21A (Delta)\",\"locationmode\":\"USA-states\",\"locations\":[\"NJ\",\"AL\",\"FL\",\"TX\",\"CT\",\"UT\",\"OH\",\"NY\"],\"marker\":{\"color\":\"rgb(243,250,172)\",\"size\":[8.10636760019438,0.6170039522088642,2.5953902248132583,0.4323136620895744,0.02773198918230566,0.09169780316516364,0.24577420909859513,0.06435245662285534],\"sizemode\":\"area\",\"sizeref\":0.012698280768222898,\"symbol\":\"circle\"},\"mode\":\"markers\",\"name\":\"21A (Delta)\",\"showlegend\":true,\"type\":\"scattergeo\"},{\"customdata\":[[\"21F (Iota)\",2,\"ND\",11,0.25670843312873676]],\"geo\":\"geo\",\"hovertemplate\":\"<b>%{hovertext}</b><br><br>clade=%{customdata[0]}<br>per_capita=%{customdata[4]}<br>count=%{customdata[1]}<extra></extra>\",\"hovertext\":[\"ND\"],\"legendgroup\":\"21F (Iota)\",\"locationmode\":\"USA-states\",\"locations\":[\"ND\"],\"marker\":{\"color\":\"rgb(137,208,165)\",\"size\":[0.25670843312873676],\"sizemode\":\"area\",\"sizeref\":0.012698280768222898,\"symbol\":\"circle\"},\"mode\":\"markers\",\"name\":\"21F (Iota)\",\"showlegend\":true,\"type\":\"scattergeo\"},{\"customdata\":[[\"21G (Lambda)\",7,\"MI\",11,0.0694628369356926]],\"geo\":\"geo\",\"hovertemplate\":\"<b>%{hovertext}</b><br><br>clade=%{customdata[0]}<br>per_capita=%{customdata[4]}<br>count=%{customdata[1]}<extra></extra>\",\"hovertext\":[\"MI\"],\"legendgroup\":\"21G (Lambda)\",\"locationmode\":\"USA-states\",\"locations\":[\"MI\"],\"marker\":{\"color\":\"rgb(102,194,165)\",\"size\":[0.0694628369356926],\"sizemode\":\"area\",\"sizeref\":0.012698280768222898,\"symbol\":\"circle\"},\"mode\":\"markers\",\"name\":\"21G (Lambda)\",\"showlegend\":true,\"type\":\"scattergeo\"},{\"customdata\":[[\"21J (Delta)\",282,\"LA\",11,6.054416320988836]],\"geo\":\"geo\",\"hovertemplate\":\"<b>%{hovertext}</b><br><br>clade=%{customdata[0]}<br>per_capita=%{customdata[4]}<br>count=%{customdata[1]}<extra></extra>\",\"hovertext\":[\"LA\"],\"legendgroup\":\"21J (Delta)\",\"locationmode\":\"USA-states\",\"locations\":[\"LA\"],\"marker\":{\"color\":\"rgb(72,108,176)\",\"size\":[6.054416320988836],\"sizemode\":\"area\",\"sizeref\":0.012698280768222898,\"symbol\":\"circle\"},\"mode\":\"markers\",\"name\":\"21J (Delta)\",\"showlegend\":true,\"type\":\"scattergeo\"}],\"name\":\"11\"}]);\n",
       "                        }).then(function(){\n",
       "                            \n",
       "var gd = document.getElementById('90383bf2-c0b4-4eb5-8ced-4c34e441e1c1');\n",
       "var x = new MutationObserver(function (mutations, observer) {{\n",
       "        var display = window.getComputedStyle(gd).display;\n",
       "        if (!display || display === 'none') {{\n",
       "            console.log([gd, 'removed!']);\n",
       "            Plotly.purge(gd);\n",
       "            observer.disconnect();\n",
       "        }}\n",
       "}});\n",
       "\n",
       "// Listen for the removal of the full notebook cells\n",
       "var notebookContainer = gd.closest('#notebook-container');\n",
       "if (notebookContainer) {{\n",
       "    x.observe(notebookContainer, {childList: true});\n",
       "}}\n",
       "\n",
       "// Listen for the clearing of the current output cell\n",
       "var outputEl = gd.closest('.output');\n",
       "if (outputEl) {{\n",
       "    x.observe(outputEl, {childList: true});\n",
       "}}\n",
       "\n",
       "                        })                };                });            </script>        </div>"
      ]
     },
     "metadata": {},
     "output_type": "display_data"
    }
   ],
   "source": [
    "plot_top_clade_bubble(per_capita = True, population_dictionary = population_dictionary, save = \"per_capita\")"
   ]
  },
  {
   "cell_type": "markdown",
   "id": "1a1a7d4d",
   "metadata": {},
   "source": [
    " Want to see if we can do pie chart to show top 2 clades as percentage of total reports & others, and pie radius scaled by number of reports"
   ]
  },
  {
   "cell_type": "code",
   "execution_count": null,
   "id": "d2084689",
   "metadata": {},
   "outputs": [],
   "source": []
  }
 ],
 "metadata": {
  "kernelspec": {
   "display_name": "Python 3 (ipykernel)",
   "language": "python",
   "name": "python3"
  },
  "language_info": {
   "codemirror_mode": {
    "name": "ipython",
    "version": 3
   },
   "file_extension": ".py",
   "mimetype": "text/x-python",
   "name": "python",
   "nbconvert_exporter": "python",
   "pygments_lexer": "ipython3",
   "version": "3.9.7"
  }
 },
 "nbformat": 4,
 "nbformat_minor": 5
}
