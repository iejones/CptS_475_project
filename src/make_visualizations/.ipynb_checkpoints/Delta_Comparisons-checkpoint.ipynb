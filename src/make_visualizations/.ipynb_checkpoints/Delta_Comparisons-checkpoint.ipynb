{
 "cells": [
  {
   "cell_type": "markdown",
   "id": "f810ec9c",
   "metadata": {},
   "source": [
    "Compare delta"
   ]
  },
  {
   "cell_type": "code",
   "execution_count": 1,
   "id": "d157c871",
   "metadata": {},
   "outputs": [],
   "source": [
    "import pandas as pd\n",
    "import os\n",
    "import plotly.graph_objects as go\n",
    "import plotly.express as px\n",
    "import numpy as np\n",
    "\n",
    "project_folder = os.path.join(\"..\", \"..\")"
   ]
  },
  {
   "cell_type": "code",
   "execution_count": 2,
   "id": "6ae74c5a",
   "metadata": {},
   "outputs": [
    {
     "data": {
      "text/html": [
       "<div>\n",
       "<style scoped>\n",
       "    .dataframe tbody tr th:only-of-type {\n",
       "        vertical-align: middle;\n",
       "    }\n",
       "\n",
       "    .dataframe tbody tr th {\n",
       "        vertical-align: top;\n",
       "    }\n",
       "\n",
       "    .dataframe thead th {\n",
       "        text-align: right;\n",
       "    }\n",
       "</style>\n",
       "<table border=\"1\" class=\"dataframe\">\n",
       "  <thead>\n",
       "    <tr style=\"text-align: right;\">\n",
       "      <th></th>\n",
       "      <th>state</th>\n",
       "      <th>p_sequence</th>\n",
       "      <th>p_accession</th>\n",
       "      <th>date</th>\n",
       "      <th>count</th>\n",
       "      <th>n_accession</th>\n",
       "      <th>n_sequence</th>\n",
       "      <th>clade</th>\n",
       "      <th>timespan</th>\n",
       "    </tr>\n",
       "  </thead>\n",
       "  <tbody>\n",
       "    <tr>\n",
       "      <th>0</th>\n",
       "      <td>MA</td>\n",
       "      <td>\"MFVFLVLLPLVSSQCVNLTTRTQLPPAYTNSFTRGVYYPDKVFRS...</td>\n",
       "      <td>QTP71261</td>\n",
       "      <td>2020</td>\n",
       "      <td>2</td>\n",
       "      <td>MW885877</td>\n",
       "      <td>GGTAACAAACCAACCAACTTTCGATCTCTTGTAGATCTGTTCTCTA...</td>\n",
       "      <td>20A</td>\n",
       "      <td>1</td>\n",
       "    </tr>\n",
       "  </tbody>\n",
       "</table>\n",
       "</div>"
      ],
      "text/plain": [
       "  state                                         p_sequence p_accession  date  \\\n",
       "0    MA  \"MFVFLVLLPLVSSQCVNLTTRTQLPPAYTNSFTRGVYYPDKVFRS...    QTP71261  2020   \n",
       "\n",
       "   count n_accession                                         n_sequence clade  \\\n",
       "0      2    MW885877  GGTAACAAACCAACCAACTTTCGATCTCTTGTAGATCTGTTCTCTA...   20A   \n",
       "\n",
       "   timespan  \n",
       "0         1  "
      ]
     },
     "execution_count": 2,
     "metadata": {},
     "output_type": "execute_result"
    }
   ],
   "source": [
    "df = pd.read_csv(os.path.join(project_folder, 'data', 'final', \"all.csv\"))\n",
    "df.head(1)"
   ]
  },
  {
   "cell_type": "code",
   "execution_count": 3,
   "id": "9e60eee1",
   "metadata": {},
   "outputs": [],
   "source": [
    "def get_base(df):\n",
    "    temp =  df[df['clade'] == '19A'].groupby('clade', as_index = False).max('count')\n",
    "    df = df.merge(temp, on=['clade', 'count']).sort_values('clade', ignore_index = True) # reindex so order of clade matches index\n",
    "    return df.loc[0]\n",
    "    \n",
    "top_19A = get_base(df)"
   ]
  },
  {
   "cell_type": "code",
   "execution_count": 4,
   "id": "296f009f",
   "metadata": {},
   "outputs": [],
   "source": [
    "def get_deltas(df, delta):\n",
    "    if delta == 'all':\n",
    "        return df[(df['clade'] == '21A (Delta)') | (df['clade'] == '21I (Delta)') | (df['clade'] == '21J (Delta)')]\n",
    "    return df[df['clade'] == delta].sort_values('count', ascending = False)"
   ]
  },
  {
   "cell_type": "code",
   "execution_count": 5,
   "id": "47e6778a",
   "metadata": {},
   "outputs": [],
   "source": [
    "df_all_delta = get_deltas(df, 'all')"
   ]
  },
  {
   "cell_type": "code",
   "execution_count": 6,
   "id": "53b10ae8",
   "metadata": {},
   "outputs": [],
   "source": [
    "colors = {'21A (Delta)':px.colors.qualitative.Safe[0], '21I (Delta)':px.colors.qualitative.Safe[1],'21J (Delta)':px.colors.qualitative.Safe[2]}\n",
    "US_regions = {\"West\":[\"WA\", \"OR\", \"ID\", \"MT\", \"WY\", \"CA\", \"NV\", \"UT\", \"CO\", \"AZ\", \"NM\"],\n",
    "              \"Midwest\":[\"ND\", \"MN\", \"WI\", \"MI\", \"OH\", \"IN\", \"IL\", \"MO\", \"IA\", \"SD\", \"NE\", \"KS\"],\n",
    "             \"Northeast\":[\"ME\", \"VT\", \"NH\", \"MA\",\"CT\", \"RI\", \"NY\", \"NJ\", \"PA\"],\n",
    "             \"South\":[\"TX\", \"OK\", \"AR\", \"LA\", \"MS\", \"TH\", \"KY\", \"WV\", \"MD\", \"DE\", \"VA\", \"NC\", \"SC\", \"GA\", \"AL\", \"FL\"]}\n",
    "mapping = {}\n",
    "for region, states in US_regions.items():\n",
    "    for s in states:\n",
    "        mapping[s] = region\n",
    "\n",
    "df_all_delta = df_all_delta.copy()\n",
    "df_all_delta['region'] =  df_all_delta['state'].map(mapping)\n",
    "df_all_delta['color'] =  df_all_delta['clade'].map(colors)"
   ]
  },
  {
   "cell_type": "code",
   "execution_count": 7,
   "id": "727898ab",
   "metadata": {},
   "outputs": [],
   "source": [
    "df_21A = get_deltas(df_all_delta, '21A (Delta)')\n",
    "df_21I = get_deltas(df_all_delta, '21I (Delta)')\n",
    "df_21J = get_deltas(df_all_delta, '21J (Delta)')"
   ]
  },
  {
   "cell_type": "markdown",
   "id": "a4d1e05e",
   "metadata": {},
   "source": [
    "bubble map\n",
    "x axis - data emerged in US (timeline)\n",
    "\n",
    "y axis - state\n",
    "size -  count\n",
    "color - which delta clade"
   ]
  },
  {
   "cell_type": "code",
   "execution_count": 17,
   "id": "3ba10f12",
   "metadata": {},
   "outputs": [
    {
     "data": {
      "application/vnd.plotly.v1+json": {
       "config": {
        "displayModeBar": true,
        "doubleClick": "reset",
        "modeBarButtonsToRemove": [
         "zoom2d",
         "zoomIn2d",
         "zoomOut2d",
         "autoScale2d",
         "lasso2d",
         "select2d"
        ],
        "plotlyServerURL": "https://plot.ly",
        "scrollZoom": false
       },
       "data": [
        {
         "customdata": [
          [
           129,
           "QXO37508"
          ],
          [
           29,
           "QXQ22426"
          ],
          [
           27,
           "QXQ22414"
          ],
          [
           15,
           "QXQ22714"
          ],
          [
           10,
           "QXQ22630"
          ],
          [
           8,
           "QXP81803"
          ],
          [
           6,
           "QXQ22522"
          ],
          [
           5,
           "QYC62786"
          ],
          [
           4,
           "QXY06321"
          ],
          [
           3,
           "UAQ85863"
          ],
          [
           3,
           "QYP78661"
          ],
          [
           3,
           "QXQ22870"
          ],
          [
           3,
           "QXY07509"
          ],
          [
           2,
           "QXY06561"
          ],
          [
           2,
           "QXY06501"
          ],
          [
           2,
           "QXP81275"
          ],
          [
           2,
           "QXQ22810"
          ],
          [
           2,
           "QXP81659"
          ],
          [
           2,
           "QXY24434"
          ],
          [
           2,
           "QXY06813"
          ],
          [
           2,
           "QYZ50694"
          ],
          [
           2,
           "QYL46882"
          ],
          [
           1,
           "QYC62727"
          ],
          [
           1,
           "QZL39190"
          ],
          [
           1,
           "QXY06441"
          ],
          [
           1,
           "QZW95162"
          ],
          [
           1,
           "QXY06669"
          ],
          [
           1,
           "QXY23918"
          ],
          [
           1,
           "QYZ49975"
          ],
          [
           1,
           "QYZ49998"
          ],
          [
           1,
           "QYY75074"
          ],
          [
           1,
           "QXY23618"
          ],
          [
           1,
           "QXY06729"
          ],
          [
           1,
           "QYJ58469"
          ],
          [
           1,
           "QXY23642"
          ],
          [
           1,
           "UAX33098"
          ],
          [
           1,
           "QXY23870"
          ],
          [
           1,
           "QXY24026"
          ],
          [
           1,
           "QXY06309"
          ],
          [
           1,
           "QZP62185"
          ],
          [
           1,
           "QXY24110"
          ],
          [
           1,
           "QXF90157"
          ],
          [
           1,
           "QXY06921"
          ],
          [
           1,
           "QXY24158"
          ],
          [
           1,
           "QYZ50318"
          ],
          [
           1,
           "QYH83804"
          ],
          [
           1,
           "QXP81851"
          ],
          [
           1,
           "QXP81875"
          ],
          [
           1,
           "QXQ22570"
          ],
          [
           1,
           "QXQ22930"
          ],
          [
           1,
           "QXP81551"
          ],
          [
           1,
           "QXP81467"
          ],
          [
           1,
           "QXP81815"
          ],
          [
           1,
           "QXQ22534"
          ],
          [
           1,
           "QXP81635"
          ],
          [
           1,
           "QXP81431"
          ],
          [
           1,
           "QXQ22858"
          ],
          [
           1,
           "QXQ22942"
          ],
          [
           1,
           "QXP81887"
          ],
          [
           1,
           "QXY23246"
          ],
          [
           1,
           "QXY07341"
          ],
          [
           1,
           "QXY23342"
          ],
          [
           1,
           "QYH78104"
          ],
          [
           1,
           "QXY07137"
          ],
          [
           1,
           "QYZ41997"
          ],
          [
           1,
           "QXY07041"
          ],
          [
           1,
           "QZB04874"
          ]
         ],
         "hovertemplate": "<b>%{customdata[1]}</b><br>%{customdata[0]} reports hear after<br>%{meta[0]}<extra>%{y[0]}<br>%{y[1]}<br>%{x}<br></extra>",
         "marker": {
          "color": [
           "rgb(221, 204, 119)",
           "rgb(221, 204, 119)",
           "rgb(221, 204, 119)",
           "rgb(221, 204, 119)",
           "rgb(221, 204, 119)",
           "rgb(221, 204, 119)",
           "rgb(221, 204, 119)",
           "rgb(221, 204, 119)",
           "rgb(221, 204, 119)",
           "rgb(221, 204, 119)",
           "rgb(221, 204, 119)",
           "rgb(221, 204, 119)",
           "rgb(221, 204, 119)",
           "rgb(221, 204, 119)",
           "rgb(221, 204, 119)",
           "rgb(221, 204, 119)",
           "rgb(221, 204, 119)",
           "rgb(221, 204, 119)",
           "rgb(221, 204, 119)",
           "rgb(221, 204, 119)",
           "rgb(221, 204, 119)",
           "rgb(221, 204, 119)",
           "rgb(221, 204, 119)",
           "rgb(221, 204, 119)",
           "rgb(221, 204, 119)",
           "rgb(221, 204, 119)",
           "rgb(221, 204, 119)",
           "rgb(221, 204, 119)",
           "rgb(221, 204, 119)",
           "rgb(221, 204, 119)",
           "rgb(221, 204, 119)",
           "rgb(221, 204, 119)",
           "rgb(221, 204, 119)",
           "rgb(221, 204, 119)",
           "rgb(221, 204, 119)",
           "rgb(221, 204, 119)",
           "rgb(221, 204, 119)",
           "rgb(221, 204, 119)",
           "rgb(221, 204, 119)",
           "rgb(221, 204, 119)",
           "rgb(221, 204, 119)",
           "rgb(221, 204, 119)",
           "rgb(221, 204, 119)",
           "rgb(221, 204, 119)",
           "rgb(221, 204, 119)",
           "rgb(221, 204, 119)",
           "rgb(221, 204, 119)",
           "rgb(221, 204, 119)",
           "rgb(221, 204, 119)",
           "rgb(221, 204, 119)",
           "rgb(221, 204, 119)",
           "rgb(221, 204, 119)",
           "rgb(221, 204, 119)",
           "rgb(221, 204, 119)",
           "rgb(221, 204, 119)",
           "rgb(221, 204, 119)",
           "rgb(221, 204, 119)",
           "rgb(221, 204, 119)",
           "rgb(221, 204, 119)",
           "rgb(221, 204, 119)",
           "rgb(221, 204, 119)",
           "rgb(221, 204, 119)",
           "rgb(221, 204, 119)",
           "rgb(221, 204, 119)",
           "rgb(221, 204, 119)",
           "rgb(221, 204, 119)",
           "rgb(221, 204, 119)"
          ],
          "opacity": 0.75,
          "size": [
           129,
           29,
           27,
           15,
           10,
           8,
           6,
           5,
           4,
           3,
           3,
           3,
           3,
           2,
           2,
           2,
           2,
           2,
           2,
           2,
           2,
           2,
           1,
           1,
           1,
           1,
           1,
           1,
           1,
           1,
           1,
           1,
           1,
           1,
           1,
           1,
           1,
           1,
           1,
           1,
           1,
           1,
           1,
           1,
           1,
           1,
           1,
           1,
           1,
           1,
           1,
           1,
           1,
           1,
           1,
           1,
           1,
           1,
           1,
           1,
           1,
           1,
           1,
           1,
           1,
           1,
           1
          ],
          "sizemin": 3,
          "sizeref": 2
         },
         "meta": [
          "21J"
         ],
         "mode": "markers",
         "name": "21J",
         "showlegend": true,
         "type": "scatter",
         "x": [
          "2021-07-05",
          "2021-07-06",
          "2021-07-06",
          "2021-07-11",
          "2021-07-10",
          "2021-07-07",
          "2021-07-08",
          "2021-07-16",
          "2021-07-13",
          "2021-07-24",
          "2021-07-13",
          "2021-07-11",
          "2021-07-15",
          "2021-07-14",
          "2021-07-15",
          "2021-07-12",
          "2021-07-12",
          "2021-07-11",
          "2021-07-17",
          "2021-07-19",
          "2021-07-22",
          "2021-07-29",
          "2021-07-19",
          "2021-07-30",
          "2021-07-17",
          "2021-07-30",
          "2021-07-17",
          "2021-07-18",
          "2021-07-19",
          "2021-07-19",
          "2021-07-28",
          "2021-07-19",
          "2021-07-19",
          "2021-07-26",
          "2021-07-19",
          "2021-07-25",
          "2021-07-19",
          "2021-07-19",
          "2021-07-19",
          "2021-07-20",
          "2021-07-17",
          "2021-06-09",
          "2021-07-14",
          "2021-07-16",
          "2021-07-16",
          "2021-07-06",
          "2021-07-06",
          "2021-07-07",
          "2021-07-08",
          "2021-07-08",
          "2021-07-08",
          "2021-07-09",
          "2021-07-09",
          "2021-07-10",
          "2021-07-10",
          "2021-07-11",
          "2021-07-12",
          "2021-07-12",
          "2021-07-12",
          "2021-07-13",
          "2021-07-13",
          "2021-07-14",
          "2021-07-05",
          "2021-07-14",
          "2021-07-15",
          "2021-07-15",
          "2021-07-30"
         ],
         "y": [
          [
           "South",
           "South",
           "South",
           "South",
           "South",
           "South",
           "South",
           "South",
           "South",
           "South",
           "West",
           "South",
           "South",
           "South",
           "South",
           "South",
           "South",
           "South",
           "South",
           "South",
           "West",
           "West",
           "South",
           "West",
           "South",
           "West",
           "South",
           "South",
           "West",
           "South",
           "South",
           "South",
           "South",
           "West",
           "South",
           "West",
           "South",
           "South",
           "South",
           "South",
           "South",
           "South",
           "South",
           "South",
           "South",
           "South",
           "South",
           "South",
           "South",
           "South",
           "South",
           "South",
           "South",
           "South",
           "South",
           "South",
           "South",
           "South",
           "South",
           "South",
           "South",
           "South",
           "South",
           "South",
           "West",
           "South",
           "West"
          ],
          [
           "LA",
           "LA",
           "LA",
           "LA",
           "LA",
           "LA",
           "LA",
           "LA",
           "LA",
           "NC",
           "CA",
           "LA",
           "LA",
           "LA",
           "LA",
           "LA",
           "LA",
           "LA",
           "LA",
           "LA",
           "CO",
           "OR",
           "LA",
           "OR",
           "LA",
           "CA",
           "LA",
           "LA",
           "CO",
           "GA",
           "GA",
           "LA",
           "LA",
           "OR",
           "LA",
           "CO",
           "LA",
           "LA",
           "MS",
           "SC",
           "LA",
           "TX",
           "LA",
           "LA",
           "LA",
           "FL",
           "LA",
           "LA",
           "LA",
           "LA",
           "MS",
           "LA",
           "LA",
           "LA",
           "LA",
           "LA",
           "LA",
           "LA",
           "LA",
           "LA",
           "LA",
           "LA",
           "FL",
           "NC",
           "CO",
           "LA",
           "OR"
          ]
         ]
        },
        {
         "customdata": [
          [
           8,
           "QXY23330"
          ],
          [
           4,
           "QXP81155"
          ],
          [
           4,
           "QXQ22774"
          ],
          [
           3,
           "QYC62739"
          ],
          [
           2,
           "QYJ49982"
          ],
          [
           2,
           "QXY23294"
          ],
          [
           1,
           "QYP37656"
          ],
          [
           1,
           "QZX14550"
          ],
          [
           1,
           "QZQ05743"
          ],
          [
           1,
           "QXY07377"
          ],
          [
           1,
           "QYL46928"
          ],
          [
           1,
           "QWX30232"
          ],
          [
           1,
           "QXY24530"
          ],
          [
           1,
           "QXY24410"
          ],
          [
           1,
           "QXP81755"
          ],
          [
           1,
           "QXP81179"
          ],
          [
           1,
           "QZB04898"
          ]
         ],
         "hovertemplate": "<b>%{customdata[1]}</b><br>%{customdata[0]} reports hear after<br>%{meta[0]}<extra>%{y[0]}<br>%{y[1]}<br>%{x}<br></extra>",
         "marker": {
          "color": [
           "rgb(204, 102, 119)",
           "rgb(204, 102, 119)",
           "rgb(204, 102, 119)",
           "rgb(204, 102, 119)",
           "rgb(204, 102, 119)",
           "rgb(204, 102, 119)",
           "rgb(204, 102, 119)",
           "rgb(204, 102, 119)",
           "rgb(204, 102, 119)",
           "rgb(204, 102, 119)",
           "rgb(204, 102, 119)",
           "rgb(204, 102, 119)",
           "rgb(204, 102, 119)",
           "rgb(204, 102, 119)",
           "rgb(204, 102, 119)",
           "rgb(204, 102, 119)",
           "rgb(204, 102, 119)"
          ],
          "opacity": 0.75,
          "size": [
           8,
           4,
           4,
           3,
           2,
           2,
           1,
           1,
           1,
           1,
           1,
           1,
           1,
           1,
           1,
           1,
           1
          ],
          "sizemin": 3,
          "sizeref": 2
         },
         "meta": [
          "21I"
         ],
         "mode": "markers",
         "name": "21I",
         "showlegend": true,
         "type": "scatter",
         "x": [
          "2021-07-12",
          "2021-07-10",
          "2021-07-08",
          "2021-07-14",
          "2021-07-09",
          "2021-07-13",
          "2021-07-16",
          "2021-07-29",
          "2021-07-26",
          "2021-07-19",
          "2021-07-19",
          "2021-06-01",
          "2021-07-15",
          "2021-07-15",
          "2021-07-11",
          "2021-07-11",
          "2021-07-30"
         ],
         "y": [
          [
           "South",
           "South",
           "South",
           "South",
           "South",
           "South",
           "South",
           null,
           "South",
           "South",
           "West",
           "South",
           "South",
           "South",
           "South",
           "South",
           "West"
          ],
          [
           "LA",
           "LA",
           "LA",
           "LA",
           "FL",
           "LA",
           "FL",
           "TN",
           "FL",
           "LA",
           "OR",
           "LA",
           "LA",
           "LA",
           "LA",
           "LA",
           "OR"
          ]
         ]
        },
        {
         "customdata": [
          [
           750,
           "QZD09591"
          ],
          [
           393,
           "QYJ42034"
          ],
          [
           95,
           "QXL91697"
          ],
          [
           58,
           "QYB96653"
          ],
          [
           57,
           "QYJ41843"
          ],
          [
           33,
           "QYP52957"
          ],
          [
           29,
           "QZD01238"
          ],
          [
           28,
           "QYL32654"
          ],
          [
           21,
           "UAR26044"
          ],
          [
           18,
           "QXP15181"
          ],
          [
           18,
           "UAR18191"
          ],
          [
           18,
           "QWU49875"
          ],
          [
           13,
           "QZD05685"
          ],
          [
           12,
           "QYP80051"
          ],
          [
           11,
           "QYJ25126"
          ],
          [
           9,
           "QZC99246"
          ],
          [
           9,
           "QYJ28830"
          ],
          [
           7,
           "QYV89333"
          ],
          [
           7,
           "QXV98628"
          ],
          [
           6,
           "QWY58528"
          ],
          [
           5,
           "QZR85474"
          ],
          [
           5,
           "QZF65786"
          ],
          [
           5,
           "QZQ08080"
          ],
          [
           4,
           "QZQ06584"
          ],
          [
           4,
           "QYP28820"
          ],
          [
           4,
           "QXT22451"
          ],
          [
           3,
           "QXY24278"
          ],
          [
           3,
           "QYV92619"
          ],
          [
           3,
           "UAL80741"
          ],
          [
           3,
           "QYP83240"
          ],
          [
           3,
           "QYP83060"
          ],
          [
           3,
           "QWT98177"
          ],
          [
           3,
           "QYJ53021"
          ],
          [
           2,
           "QZP82837"
          ],
          [
           2,
           "QYC95735"
          ],
          [
           2,
           "QYP43833"
          ],
          [
           2,
           "UAQ73997"
          ],
          [
           2,
           "UAT90408"
          ],
          [
           2,
           "QYV80740"
          ],
          [
           2,
           "QZP91985"
          ],
          [
           2,
           "QZE75052"
          ],
          [
           2,
           "QXP81455"
          ],
          [
           2,
           "QYJ53610"
          ],
          [
           2,
           "QXT25612"
          ],
          [
           1,
           "QZF51336"
          ],
          [
           1,
           "QZF16793"
          ],
          [
           1,
           "QZE77441"
          ],
          [
           1,
           "QZS07222"
          ],
          [
           1,
           "QZS02772"
          ],
          [
           1,
           "QZS00141"
          ],
          [
           1,
           "UAJ60363"
          ],
          [
           1,
           "QZE81029"
          ],
          [
           1,
           "UAJ59639"
          ],
          [
           1,
           "QYJ56900"
          ],
          [
           1,
           "QZS04353"
          ],
          [
           1,
           "QZW59077"
          ],
          [
           1,
           "QZR87608"
          ],
          [
           1,
           "QZR86368"
          ],
          [
           1,
           "QZF33447"
          ],
          [
           1,
           "QZU40509"
          ],
          [
           1,
           "QZU43637"
          ],
          [
           1,
           "QZP97660"
          ],
          [
           1,
           "QZP87881"
          ],
          [
           1,
           "QZU59218"
          ],
          [
           1,
           "QZX20608"
          ],
          [
           1,
           "QZQ21774"
          ],
          [
           1,
           "QZP47878"
          ],
          [
           1,
           "QZE82020"
          ],
          [
           1,
           "QZW64634"
          ],
          [
           1,
           "QZW62445"
          ],
          [
           1,
           "QYY78367"
          ],
          [
           1,
           "QZE85274"
          ],
          [
           1,
           "QZE79250"
          ],
          [
           1,
           "UAJ35792"
          ],
          [
           1,
           "QZE70301"
          ],
          [
           1,
           "QZW96860"
          ],
          [
           1,
           "QZX07087"
          ],
          [
           1,
           "QZX40456"
          ],
          [
           1,
           "QZX39710"
          ],
          [
           1,
           "QZW98614"
          ],
          [
           1,
           "QZW77789"
          ],
          [
           1,
           "QZX20420"
          ],
          [
           1,
           "QZW70549"
          ],
          [
           1,
           "QZX24724"
          ],
          [
           1,
           "QZW70372"
          ],
          [
           1,
           "QZX30052"
          ],
          [
           1,
           "QZF13834"
          ],
          [
           1,
           "QZX32529"
          ],
          [
           1,
           "QZW90134"
          ],
          [
           1,
           "QZU53431"
          ],
          [
           1,
           "QZW87673"
          ],
          [
           1,
           "QZU68303"
          ],
          [
           1,
           "QZW85167"
          ],
          [
           1,
           "QZW81470"
          ],
          [
           1,
           "QZQ27878"
          ],
          [
           1,
           "QYT07878"
          ],
          [
           1,
           "QYX09636"
          ],
          [
           1,
           "QYN92280"
          ],
          [
           1,
           "QXY07820"
          ],
          [
           1,
           "QYP81119"
          ],
          [
           1,
           "QYP81096"
          ],
          [
           1,
           "QYJ26186"
          ],
          [
           1,
           "QYP60113"
          ],
          [
           1,
           "UAR23780"
          ],
          [
           1,
           "QXQ22606"
          ],
          [
           1,
           "QZD16928"
          ],
          [
           1,
           "QYJ32131"
          ],
          [
           1,
           "QYJ27113"
          ],
          [
           1,
           "QYV58238"
          ],
          [
           1,
           "UAR19895"
          ],
          [
           1,
           "QYJ29807"
          ],
          [
           1,
           "QYI23661"
          ],
          [
           1,
           "QZD06562"
          ],
          [
           1,
           "UAR21745"
          ],
          [
           1,
           "QXP81611"
          ],
          [
           1,
           "QYJ53009"
          ],
          [
           1,
           "QYN95950"
          ],
          [
           1,
           "QYJ53633"
          ],
          [
           1,
           "QZC99549"
          ],
          [
           1,
           "QXO37520"
          ],
          [
           1,
           "QXO32397"
          ],
          [
           1,
           "QWU04007"
          ],
          [
           1,
           "QXF96549"
          ],
          [
           1,
           "QYV73806"
          ],
          [
           1,
           "UAR07716"
          ],
          [
           1,
           "QZP86733"
          ],
          [
           1,
           "QZW20857"
          ],
          [
           1,
           "UAQ60618"
          ],
          [
           1,
           "QZQ14544"
          ],
          [
           1,
           "QZQ06717"
          ],
          [
           1,
           "UAQ55750"
          ],
          [
           1,
           "QYP88444"
          ],
          [
           1,
           "UAQ72219"
          ],
          [
           1,
           "QYZ47288"
          ],
          [
           1,
           "QZP63475"
          ],
          [
           1,
           "QZP62678"
          ],
          [
           1,
           "UAQ93276"
          ],
          [
           1,
           "QYP50647"
          ],
          [
           1,
           "QYT07104"
          ],
          [
           1,
           "QYT06574"
          ],
          [
           1,
           "QYZ46957"
          ],
          [
           1,
           "QXY07245"
          ],
          [
           1,
           "QYP73800"
          ],
          [
           1,
           "QYP50504"
          ],
          [
           1,
           "QYP34252"
          ],
          [
           1,
           "QZA73866"
          ],
          [
           1,
           "QYP64595"
          ],
          [
           1,
           "QYP36850"
          ],
          [
           1,
           "QYV89546"
          ],
          [
           1,
           "QYP36348"
          ],
          [
           1,
           "QYS41316"
          ],
          [
           1,
           "QYP76690"
          ],
          [
           1,
           "QZE86564"
          ]
         ],
         "hovertemplate": "<b>%{customdata[1]}</b><br>%{customdata[0]} reports hear after<br>%{meta[0]}<extra>%{y[0]}<br>%{y[1]}<br>%{x}<br></extra>",
         "marker": {
          "color": [
           "rgb(136, 204, 238)",
           "rgb(136, 204, 238)",
           "rgb(136, 204, 238)",
           "rgb(136, 204, 238)",
           "rgb(136, 204, 238)",
           "rgb(136, 204, 238)",
           "rgb(136, 204, 238)",
           "rgb(136, 204, 238)",
           "rgb(136, 204, 238)",
           "rgb(136, 204, 238)",
           "rgb(136, 204, 238)",
           "rgb(136, 204, 238)",
           "rgb(136, 204, 238)",
           "rgb(136, 204, 238)",
           "rgb(136, 204, 238)",
           "rgb(136, 204, 238)",
           "rgb(136, 204, 238)",
           "rgb(136, 204, 238)",
           "rgb(136, 204, 238)",
           "rgb(136, 204, 238)",
           "rgb(136, 204, 238)",
           "rgb(136, 204, 238)",
           "rgb(136, 204, 238)",
           "rgb(136, 204, 238)",
           "rgb(136, 204, 238)",
           "rgb(136, 204, 238)",
           "rgb(136, 204, 238)",
           "rgb(136, 204, 238)",
           "rgb(136, 204, 238)",
           "rgb(136, 204, 238)",
           "rgb(136, 204, 238)",
           "rgb(136, 204, 238)",
           "rgb(136, 204, 238)",
           "rgb(136, 204, 238)",
           "rgb(136, 204, 238)",
           "rgb(136, 204, 238)",
           "rgb(136, 204, 238)",
           "rgb(136, 204, 238)",
           "rgb(136, 204, 238)",
           "rgb(136, 204, 238)",
           "rgb(136, 204, 238)",
           "rgb(136, 204, 238)",
           "rgb(136, 204, 238)",
           "rgb(136, 204, 238)",
           "rgb(136, 204, 238)",
           "rgb(136, 204, 238)",
           "rgb(136, 204, 238)",
           "rgb(136, 204, 238)",
           "rgb(136, 204, 238)",
           "rgb(136, 204, 238)",
           "rgb(136, 204, 238)",
           "rgb(136, 204, 238)",
           "rgb(136, 204, 238)",
           "rgb(136, 204, 238)",
           "rgb(136, 204, 238)",
           "rgb(136, 204, 238)",
           "rgb(136, 204, 238)",
           "rgb(136, 204, 238)",
           "rgb(136, 204, 238)",
           "rgb(136, 204, 238)",
           "rgb(136, 204, 238)",
           "rgb(136, 204, 238)",
           "rgb(136, 204, 238)",
           "rgb(136, 204, 238)",
           "rgb(136, 204, 238)",
           "rgb(136, 204, 238)",
           "rgb(136, 204, 238)",
           "rgb(136, 204, 238)",
           "rgb(136, 204, 238)",
           "rgb(136, 204, 238)",
           "rgb(136, 204, 238)",
           "rgb(136, 204, 238)",
           "rgb(136, 204, 238)",
           "rgb(136, 204, 238)",
           "rgb(136, 204, 238)",
           "rgb(136, 204, 238)",
           "rgb(136, 204, 238)",
           "rgb(136, 204, 238)",
           "rgb(136, 204, 238)",
           "rgb(136, 204, 238)",
           "rgb(136, 204, 238)",
           "rgb(136, 204, 238)",
           "rgb(136, 204, 238)",
           "rgb(136, 204, 238)",
           "rgb(136, 204, 238)",
           "rgb(136, 204, 238)",
           "rgb(136, 204, 238)",
           "rgb(136, 204, 238)",
           "rgb(136, 204, 238)",
           "rgb(136, 204, 238)",
           "rgb(136, 204, 238)",
           "rgb(136, 204, 238)",
           "rgb(136, 204, 238)",
           "rgb(136, 204, 238)",
           "rgb(136, 204, 238)",
           "rgb(136, 204, 238)",
           "rgb(136, 204, 238)",
           "rgb(136, 204, 238)",
           "rgb(136, 204, 238)",
           "rgb(136, 204, 238)",
           "rgb(136, 204, 238)",
           "rgb(136, 204, 238)",
           "rgb(136, 204, 238)",
           "rgb(136, 204, 238)",
           "rgb(136, 204, 238)",
           "rgb(136, 204, 238)",
           "rgb(136, 204, 238)",
           "rgb(136, 204, 238)",
           "rgb(136, 204, 238)",
           "rgb(136, 204, 238)",
           "rgb(136, 204, 238)",
           "rgb(136, 204, 238)",
           "rgb(136, 204, 238)",
           "rgb(136, 204, 238)",
           "rgb(136, 204, 238)",
           "rgb(136, 204, 238)",
           "rgb(136, 204, 238)",
           "rgb(136, 204, 238)",
           "rgb(136, 204, 238)",
           "rgb(136, 204, 238)",
           "rgb(136, 204, 238)",
           "rgb(136, 204, 238)",
           "rgb(136, 204, 238)",
           "rgb(136, 204, 238)",
           "rgb(136, 204, 238)",
           "rgb(136, 204, 238)",
           "rgb(136, 204, 238)",
           "rgb(136, 204, 238)",
           "rgb(136, 204, 238)",
           "rgb(136, 204, 238)",
           "rgb(136, 204, 238)",
           "rgb(136, 204, 238)",
           "rgb(136, 204, 238)",
           "rgb(136, 204, 238)",
           "rgb(136, 204, 238)",
           "rgb(136, 204, 238)",
           "rgb(136, 204, 238)",
           "rgb(136, 204, 238)",
           "rgb(136, 204, 238)",
           "rgb(136, 204, 238)",
           "rgb(136, 204, 238)",
           "rgb(136, 204, 238)",
           "rgb(136, 204, 238)",
           "rgb(136, 204, 238)",
           "rgb(136, 204, 238)",
           "rgb(136, 204, 238)",
           "rgb(136, 204, 238)",
           "rgb(136, 204, 238)",
           "rgb(136, 204, 238)",
           "rgb(136, 204, 238)",
           "rgb(136, 204, 238)",
           "rgb(136, 204, 238)",
           "rgb(136, 204, 238)"
          ],
          "opacity": 0.75,
          "size": [
           750,
           393,
           95,
           58,
           57,
           33,
           29,
           28,
           21,
           18,
           18,
           18,
           13,
           12,
           11,
           9,
           9,
           7,
           7,
           6,
           5,
           5,
           5,
           4,
           4,
           4,
           3,
           3,
           3,
           3,
           3,
           3,
           3,
           2,
           2,
           2,
           2,
           2,
           2,
           2,
           2,
           2,
           2,
           2,
           1,
           1,
           1,
           1,
           1,
           1,
           1,
           1,
           1,
           1,
           1,
           1,
           1,
           1,
           1,
           1,
           1,
           1,
           1,
           1,
           1,
           1,
           1,
           1,
           1,
           1,
           1,
           1,
           1,
           1,
           1,
           1,
           1,
           1,
           1,
           1,
           1,
           1,
           1,
           1,
           1,
           1,
           1,
           1,
           1,
           1,
           1,
           1,
           1,
           1,
           1,
           1,
           1,
           1,
           1,
           1,
           1,
           1,
           1,
           1,
           1,
           1,
           1,
           1,
           1,
           1,
           1,
           1,
           1,
           1,
           1,
           1,
           1,
           1,
           1,
           1,
           1,
           1,
           1,
           1,
           1,
           1,
           1,
           1,
           1,
           1,
           1,
           1,
           1,
           1,
           1,
           1,
           1,
           1,
           1,
           1,
           1,
           1,
           1,
           1,
           1,
           1,
           1,
           1,
           1,
           1,
           1,
           1,
           1
          ],
          "sizemin": 3,
          "sizeref": 2
         },
         "meta": [
          "21A"
         ],
         "mode": "markers",
         "name": "21A",
         "showlegend": true,
         "type": "scatter",
         "x": [
          "2021-07-01",
          "2021-07-02",
          "2021-06",
          "2021-07-02",
          "2021-07-02",
          "2021-07-01",
          "2021-07-06",
          "2021-07-11",
          "2021-07-11",
          "2021-06",
          "2021-07-10",
          "2021-06",
          "2021-07-01",
          "2021-07-12",
          "2021-07-10",
          "2021-07-01",
          "2021-07-09",
          "2021-07-16",
          "2021-07-16",
          "2021-06-04",
          "2021-07-26",
          "2021-07-20",
          "2021-07-23",
          "2021-07-22",
          "2021-07-16",
          "2021-07-03",
          "2021-07-16",
          "2021-07-17",
          "2021-07-29",
          "2021-07-14",
          "2021-07-11",
          "2021-06-03",
          "2021-07-07",
          "2021-07-24",
          "2021-07-14",
          "2021-07-19",
          "2021-07-22",
          "2021-07-25",
          "2021-07-12",
          "2021-07-25",
          "2021-07-30",
          "2021-07-07",
          "2021-07-06",
          "2021-07-02",
          "2021-07-29",
          "2021-07-26",
          "2021-07-27",
          "2021-07-27",
          "2021-07-27",
          "2021-07-27",
          "2021-07-27",
          "2021-07-30",
          "2021-07-27",
          "2021-07-26",
          "2021-07-26",
          "2021-07-28",
          "2021-07-26",
          "2021-07-26",
          "2021-07-30",
          "2021-07-31",
          "2021-07-31",
          "2021-07-26",
          "2021-07-26",
          "2021-07-31",
          "2021-07-26",
          "2021-07-25",
          "2021-07-31",
          "2021-07-27",
          "2021-07-28",
          "2021-07-28",
          "2021-07-29",
          "2021-07-29",
          "2021-07-29",
          "2021-07-30",
          "2021-07-29",
          "2021-07-30",
          "2021-07-30",
          "2021-07-29",
          "2021-07-29",
          "2021-07-29",
          "2021-07-29",
          "2021-07-30",
          "2021-07-29",
          "2021-07-30",
          "2021-07-29",
          "2021-07-30",
          "2021-07-28",
          "2021-07-30",
          "2021-07-28",
          "2021-07-30",
          "2021-07-28",
          "2021-07-30",
          "2021-07-28",
          "2021-07-28",
          "2021-07-29",
          "2021-07-19",
          "2021-07-24",
          "2021-07-14",
          "2021-07-13",
          "2021-07-13",
          "2021-07-13",
          "2021-07-12",
          "2021-07-12",
          "2021-07-12",
          "2021-07-11",
          "2021-07-11",
          "2021-07-10",
          "2021-07-10",
          "2021-07-10",
          "2021-07-10",
          "2021-07-09",
          "2021-07-08",
          "2021-07-08",
          "2021-07-08",
          "2021-07-07",
          "2021-07-07",
          "2021-07-07",
          "2021-07-06",
          "2021-07-02",
          "2021-07-01",
          "2021-06-08",
          "2021-06-04",
          "2021-06-02",
          "2021-07-14",
          "2021-07-15",
          "2021-07-24",
          "2021-07-15",
          "2021-07-24",
          "2021-07-23",
          "2021-07-23",
          "2021-07-23",
          "2021-07-21",
          "2021-07-21",
          "2021-07-20",
          "2021-07-20",
          "2021-07-20",
          "2021-07-20",
          "2021-07-19",
          "2021-07-19",
          "2021-07-19",
          "2021-07-19",
          "2021-07-18",
          "2021-07-18",
          "2021-07-18",
          "2021-07-18",
          "2021-07-18",
          "2021-07-17",
          "2021-07-17",
          "2021-07-17",
          "2021-07-16",
          "2021-07-16",
          "2021-07-15",
          "2021-07-31"
         ],
         "y": [
          [
           "Northeast",
           "South",
           "South",
           "South",
           "South",
           "South",
           "South",
           "Midwest",
           "South",
           "South",
           "South",
           "South",
           "Northeast",
           "South",
           "South",
           "South",
           "South",
           "South",
           "West",
           "South",
           "West",
           "West",
           "South",
           "West",
           "West",
           "South",
           "South",
           "South",
           "Northeast",
           "South",
           "West",
           "South",
           "West",
           "South",
           "South",
           "Midwest",
           "Northeast",
           "South",
           "South",
           "South",
           "South",
           "South",
           "South",
           "South",
           "West",
           "South",
           "South",
           "Midwest",
           "West",
           "Midwest",
           "West",
           "South",
           "West",
           "South",
           "South",
           "Northeast",
           "West",
           "Midwest",
           "South",
           "South",
           "South",
           "South",
           null,
           "South",
           "South",
           "South",
           "Midwest",
           "South",
           "South",
           "South",
           "South",
           "South",
           "South",
           "South",
           "South",
           "South",
           "South",
           "West",
           "South",
           "South",
           "South",
           "South",
           "South",
           "South",
           "South",
           "South",
           "South",
           "South",
           "Midwest",
           "South",
           "Northeast",
           "South",
           "West",
           "South",
           "West",
           "Northeast",
           "Northeast",
           "Midwest",
           "South",
           "South",
           "South",
           "South",
           "South",
           "South",
           "South",
           "South",
           "West",
           "West",
           "West",
           "South",
           "South",
           null,
           "South",
           "Northeast",
           "South",
           "West",
           "West",
           "South",
           "South",
           "South",
           "Midwest",
           "South",
           "South",
           "South",
           "West",
           "South",
           "South",
           "South",
           "South",
           "South",
           "South",
           "West",
           "South",
           "South",
           "South",
           "South",
           "South",
           "South",
           "Northeast",
           "Northeast",
           "South",
           "South",
           "South",
           "South",
           "South",
           "South",
           "South",
           "South",
           "South",
           "South",
           "Midwest",
           "South",
           "South"
          ],
          [
           "NJ",
           "FL",
           "VA",
           "TX",
           "FL",
           "TX",
           "AL",
           "OH",
           "FL",
           "VA",
           "TX",
           "VA",
           "NY",
           "NC",
           "FL",
           "LA",
           "TX",
           "FL",
           "OR",
           "FL",
           "NV",
           "CA",
           "FL",
           "CA",
           "AZ",
           "MD",
           "LA",
           "FL",
           "MA",
           "FL",
           "CA",
           "FL",
           "CA",
           "FL",
           "MD",
           "IL",
           "NJ",
           "FL",
           "FL",
           "FL",
           "FL",
           "LA",
           "TX",
           "GA",
           "CA",
           "NC",
           "FL",
           "IL",
           "CA",
           "MO",
           "CA",
           "FL",
           "CA",
           "NC",
           "FL",
           "NJ",
           "CA",
           "MI",
           "FL",
           "TX",
           "TX",
           "NC",
           "TN",
           "FL",
           "FL",
           "FL",
           "OH",
           "FL",
           "FL",
           "FL",
           "NC",
           "FL",
           "FL",
           "FL",
           "FL",
           "FL",
           "FL",
           "CA",
           "FL",
           "FL",
           "NC",
           "FL",
           "FL",
           "FL",
           "FL",
           "FL",
           "FL",
           "GA",
           "NE",
           "TX",
           "CT",
           "FL",
           "CA",
           "FL",
           "UT",
           "PA",
           "PA",
           "MN",
           "LA",
           "FL",
           "FL",
           "FL",
           "TX",
           "FL",
           "LA",
           "NC",
           "CA",
           "CA",
           "UT",
           "TX",
           "FL",
           "TN",
           "FL",
           "PA",
           "LA",
           "CA",
           "CA",
           "TX",
           "LA",
           "LA",
           "MO",
           "VA",
           "MD",
           "NC",
           "NV",
           "FL",
           "FL",
           "FL",
           "FL",
           "FL",
           "FL",
           "UT",
           "NC",
           "GA",
           "FL",
           "FL",
           "FL",
           "FL",
           "PA",
           "PA",
           "NC",
           "LA",
           "FL",
           "FL",
           "GA",
           "AL",
           "AL",
           "FL",
           "FL",
           "FL",
           "MO",
           "FL",
           "FL"
          ]
         ]
        }
       ],
       "layout": {
        "height": 800,
        "legend": {
         "itemsizing": "constant",
         "traceorder": "reversed"
        },
        "plot_bgcolor": "white",
        "template": {
         "data": {
          "bar": [
           {
            "error_x": {
             "color": "#2a3f5f"
            },
            "error_y": {
             "color": "#2a3f5f"
            },
            "marker": {
             "line": {
              "color": "#E5ECF6",
              "width": 0.5
             },
             "pattern": {
              "fillmode": "overlay",
              "size": 10,
              "solidity": 0.2
             }
            },
            "type": "bar"
           }
          ],
          "barpolar": [
           {
            "marker": {
             "line": {
              "color": "#E5ECF6",
              "width": 0.5
             },
             "pattern": {
              "fillmode": "overlay",
              "size": 10,
              "solidity": 0.2
             }
            },
            "type": "barpolar"
           }
          ],
          "carpet": [
           {
            "aaxis": {
             "endlinecolor": "#2a3f5f",
             "gridcolor": "white",
             "linecolor": "white",
             "minorgridcolor": "white",
             "startlinecolor": "#2a3f5f"
            },
            "baxis": {
             "endlinecolor": "#2a3f5f",
             "gridcolor": "white",
             "linecolor": "white",
             "minorgridcolor": "white",
             "startlinecolor": "#2a3f5f"
            },
            "type": "carpet"
           }
          ],
          "choropleth": [
           {
            "colorbar": {
             "outlinewidth": 0,
             "ticks": ""
            },
            "type": "choropleth"
           }
          ],
          "contour": [
           {
            "colorbar": {
             "outlinewidth": 0,
             "ticks": ""
            },
            "colorscale": [
             [
              0,
              "#0d0887"
             ],
             [
              0.1111111111111111,
              "#46039f"
             ],
             [
              0.2222222222222222,
              "#7201a8"
             ],
             [
              0.3333333333333333,
              "#9c179e"
             ],
             [
              0.4444444444444444,
              "#bd3786"
             ],
             [
              0.5555555555555556,
              "#d8576b"
             ],
             [
              0.6666666666666666,
              "#ed7953"
             ],
             [
              0.7777777777777778,
              "#fb9f3a"
             ],
             [
              0.8888888888888888,
              "#fdca26"
             ],
             [
              1,
              "#f0f921"
             ]
            ],
            "type": "contour"
           }
          ],
          "contourcarpet": [
           {
            "colorbar": {
             "outlinewidth": 0,
             "ticks": ""
            },
            "type": "contourcarpet"
           }
          ],
          "heatmap": [
           {
            "colorbar": {
             "outlinewidth": 0,
             "ticks": ""
            },
            "colorscale": [
             [
              0,
              "#0d0887"
             ],
             [
              0.1111111111111111,
              "#46039f"
             ],
             [
              0.2222222222222222,
              "#7201a8"
             ],
             [
              0.3333333333333333,
              "#9c179e"
             ],
             [
              0.4444444444444444,
              "#bd3786"
             ],
             [
              0.5555555555555556,
              "#d8576b"
             ],
             [
              0.6666666666666666,
              "#ed7953"
             ],
             [
              0.7777777777777778,
              "#fb9f3a"
             ],
             [
              0.8888888888888888,
              "#fdca26"
             ],
             [
              1,
              "#f0f921"
             ]
            ],
            "type": "heatmap"
           }
          ],
          "heatmapgl": [
           {
            "colorbar": {
             "outlinewidth": 0,
             "ticks": ""
            },
            "colorscale": [
             [
              0,
              "#0d0887"
             ],
             [
              0.1111111111111111,
              "#46039f"
             ],
             [
              0.2222222222222222,
              "#7201a8"
             ],
             [
              0.3333333333333333,
              "#9c179e"
             ],
             [
              0.4444444444444444,
              "#bd3786"
             ],
             [
              0.5555555555555556,
              "#d8576b"
             ],
             [
              0.6666666666666666,
              "#ed7953"
             ],
             [
              0.7777777777777778,
              "#fb9f3a"
             ],
             [
              0.8888888888888888,
              "#fdca26"
             ],
             [
              1,
              "#f0f921"
             ]
            ],
            "type": "heatmapgl"
           }
          ],
          "histogram": [
           {
            "marker": {
             "pattern": {
              "fillmode": "overlay",
              "size": 10,
              "solidity": 0.2
             }
            },
            "type": "histogram"
           }
          ],
          "histogram2d": [
           {
            "colorbar": {
             "outlinewidth": 0,
             "ticks": ""
            },
            "colorscale": [
             [
              0,
              "#0d0887"
             ],
             [
              0.1111111111111111,
              "#46039f"
             ],
             [
              0.2222222222222222,
              "#7201a8"
             ],
             [
              0.3333333333333333,
              "#9c179e"
             ],
             [
              0.4444444444444444,
              "#bd3786"
             ],
             [
              0.5555555555555556,
              "#d8576b"
             ],
             [
              0.6666666666666666,
              "#ed7953"
             ],
             [
              0.7777777777777778,
              "#fb9f3a"
             ],
             [
              0.8888888888888888,
              "#fdca26"
             ],
             [
              1,
              "#f0f921"
             ]
            ],
            "type": "histogram2d"
           }
          ],
          "histogram2dcontour": [
           {
            "colorbar": {
             "outlinewidth": 0,
             "ticks": ""
            },
            "colorscale": [
             [
              0,
              "#0d0887"
             ],
             [
              0.1111111111111111,
              "#46039f"
             ],
             [
              0.2222222222222222,
              "#7201a8"
             ],
             [
              0.3333333333333333,
              "#9c179e"
             ],
             [
              0.4444444444444444,
              "#bd3786"
             ],
             [
              0.5555555555555556,
              "#d8576b"
             ],
             [
              0.6666666666666666,
              "#ed7953"
             ],
             [
              0.7777777777777778,
              "#fb9f3a"
             ],
             [
              0.8888888888888888,
              "#fdca26"
             ],
             [
              1,
              "#f0f921"
             ]
            ],
            "type": "histogram2dcontour"
           }
          ],
          "mesh3d": [
           {
            "colorbar": {
             "outlinewidth": 0,
             "ticks": ""
            },
            "type": "mesh3d"
           }
          ],
          "parcoords": [
           {
            "line": {
             "colorbar": {
              "outlinewidth": 0,
              "ticks": ""
             }
            },
            "type": "parcoords"
           }
          ],
          "pie": [
           {
            "automargin": true,
            "type": "pie"
           }
          ],
          "scatter": [
           {
            "marker": {
             "colorbar": {
              "outlinewidth": 0,
              "ticks": ""
             }
            },
            "type": "scatter"
           }
          ],
          "scatter3d": [
           {
            "line": {
             "colorbar": {
              "outlinewidth": 0,
              "ticks": ""
             }
            },
            "marker": {
             "colorbar": {
              "outlinewidth": 0,
              "ticks": ""
             }
            },
            "type": "scatter3d"
           }
          ],
          "scattercarpet": [
           {
            "marker": {
             "colorbar": {
              "outlinewidth": 0,
              "ticks": ""
             }
            },
            "type": "scattercarpet"
           }
          ],
          "scattergeo": [
           {
            "marker": {
             "colorbar": {
              "outlinewidth": 0,
              "ticks": ""
             }
            },
            "type": "scattergeo"
           }
          ],
          "scattergl": [
           {
            "marker": {
             "colorbar": {
              "outlinewidth": 0,
              "ticks": ""
             }
            },
            "type": "scattergl"
           }
          ],
          "scattermapbox": [
           {
            "marker": {
             "colorbar": {
              "outlinewidth": 0,
              "ticks": ""
             }
            },
            "type": "scattermapbox"
           }
          ],
          "scatterpolar": [
           {
            "marker": {
             "colorbar": {
              "outlinewidth": 0,
              "ticks": ""
             }
            },
            "type": "scatterpolar"
           }
          ],
          "scatterpolargl": [
           {
            "marker": {
             "colorbar": {
              "outlinewidth": 0,
              "ticks": ""
             }
            },
            "type": "scatterpolargl"
           }
          ],
          "scatterternary": [
           {
            "marker": {
             "colorbar": {
              "outlinewidth": 0,
              "ticks": ""
             }
            },
            "type": "scatterternary"
           }
          ],
          "surface": [
           {
            "colorbar": {
             "outlinewidth": 0,
             "ticks": ""
            },
            "colorscale": [
             [
              0,
              "#0d0887"
             ],
             [
              0.1111111111111111,
              "#46039f"
             ],
             [
              0.2222222222222222,
              "#7201a8"
             ],
             [
              0.3333333333333333,
              "#9c179e"
             ],
             [
              0.4444444444444444,
              "#bd3786"
             ],
             [
              0.5555555555555556,
              "#d8576b"
             ],
             [
              0.6666666666666666,
              "#ed7953"
             ],
             [
              0.7777777777777778,
              "#fb9f3a"
             ],
             [
              0.8888888888888888,
              "#fdca26"
             ],
             [
              1,
              "#f0f921"
             ]
            ],
            "type": "surface"
           }
          ],
          "table": [
           {
            "cells": {
             "fill": {
              "color": "#EBF0F8"
             },
             "line": {
              "color": "white"
             }
            },
            "header": {
             "fill": {
              "color": "#C8D4E3"
             },
             "line": {
              "color": "white"
             }
            },
            "type": "table"
           }
          ]
         },
         "layout": {
          "annotationdefaults": {
           "arrowcolor": "#2a3f5f",
           "arrowhead": 0,
           "arrowwidth": 1
          },
          "autotypenumbers": "strict",
          "coloraxis": {
           "colorbar": {
            "outlinewidth": 0,
            "ticks": ""
           }
          },
          "colorscale": {
           "diverging": [
            [
             0,
             "#8e0152"
            ],
            [
             0.1,
             "#c51b7d"
            ],
            [
             0.2,
             "#de77ae"
            ],
            [
             0.3,
             "#f1b6da"
            ],
            [
             0.4,
             "#fde0ef"
            ],
            [
             0.5,
             "#f7f7f7"
            ],
            [
             0.6,
             "#e6f5d0"
            ],
            [
             0.7,
             "#b8e186"
            ],
            [
             0.8,
             "#7fbc41"
            ],
            [
             0.9,
             "#4d9221"
            ],
            [
             1,
             "#276419"
            ]
           ],
           "sequential": [
            [
             0,
             "#0d0887"
            ],
            [
             0.1111111111111111,
             "#46039f"
            ],
            [
             0.2222222222222222,
             "#7201a8"
            ],
            [
             0.3333333333333333,
             "#9c179e"
            ],
            [
             0.4444444444444444,
             "#bd3786"
            ],
            [
             0.5555555555555556,
             "#d8576b"
            ],
            [
             0.6666666666666666,
             "#ed7953"
            ],
            [
             0.7777777777777778,
             "#fb9f3a"
            ],
            [
             0.8888888888888888,
             "#fdca26"
            ],
            [
             1,
             "#f0f921"
            ]
           ],
           "sequentialminus": [
            [
             0,
             "#0d0887"
            ],
            [
             0.1111111111111111,
             "#46039f"
            ],
            [
             0.2222222222222222,
             "#7201a8"
            ],
            [
             0.3333333333333333,
             "#9c179e"
            ],
            [
             0.4444444444444444,
             "#bd3786"
            ],
            [
             0.5555555555555556,
             "#d8576b"
            ],
            [
             0.6666666666666666,
             "#ed7953"
            ],
            [
             0.7777777777777778,
             "#fb9f3a"
            ],
            [
             0.8888888888888888,
             "#fdca26"
            ],
            [
             1,
             "#f0f921"
            ]
           ]
          },
          "colorway": [
           "#636efa",
           "#EF553B",
           "#00cc96",
           "#ab63fa",
           "#FFA15A",
           "#19d3f3",
           "#FF6692",
           "#B6E880",
           "#FF97FF",
           "#FECB52"
          ],
          "font": {
           "color": "#2a3f5f"
          },
          "geo": {
           "bgcolor": "white",
           "lakecolor": "white",
           "landcolor": "#E5ECF6",
           "showlakes": true,
           "showland": true,
           "subunitcolor": "white"
          },
          "hoverlabel": {
           "align": "left"
          },
          "hovermode": "closest",
          "mapbox": {
           "style": "light"
          },
          "paper_bgcolor": "white",
          "plot_bgcolor": "#E5ECF6",
          "polar": {
           "angularaxis": {
            "gridcolor": "white",
            "linecolor": "white",
            "ticks": ""
           },
           "bgcolor": "#E5ECF6",
           "radialaxis": {
            "gridcolor": "white",
            "linecolor": "white",
            "ticks": ""
           }
          },
          "scene": {
           "xaxis": {
            "backgroundcolor": "#E5ECF6",
            "gridcolor": "white",
            "gridwidth": 2,
            "linecolor": "white",
            "showbackground": true,
            "ticks": "",
            "zerolinecolor": "white"
           },
           "yaxis": {
            "backgroundcolor": "#E5ECF6",
            "gridcolor": "white",
            "gridwidth": 2,
            "linecolor": "white",
            "showbackground": true,
            "ticks": "",
            "zerolinecolor": "white"
           },
           "zaxis": {
            "backgroundcolor": "#E5ECF6",
            "gridcolor": "white",
            "gridwidth": 2,
            "linecolor": "white",
            "showbackground": true,
            "ticks": "",
            "zerolinecolor": "white"
           }
          },
          "shapedefaults": {
           "line": {
            "color": "#2a3f5f"
           }
          },
          "ternary": {
           "aaxis": {
            "gridcolor": "white",
            "linecolor": "white",
            "ticks": ""
           },
           "baxis": {
            "gridcolor": "white",
            "linecolor": "white",
            "ticks": ""
           },
           "bgcolor": "#E5ECF6",
           "caxis": {
            "gridcolor": "white",
            "linecolor": "white",
            "ticks": ""
           }
          },
          "title": {
           "x": 0.05
          },
          "xaxis": {
           "automargin": true,
           "gridcolor": "white",
           "linecolor": "white",
           "ticks": "",
           "title": {
            "standoff": 15
           },
           "zerolinecolor": "white",
           "zerolinewidth": 2
          },
          "yaxis": {
           "automargin": true,
           "gridcolor": "white",
           "linecolor": "white",
           "ticks": "",
           "title": {
            "standoff": 15
           },
           "zerolinecolor": "white",
           "zerolinewidth": 2
          }
         }
        },
        "title": {
         "text": "Delta Emergence in the USA",
         "x": 0.5
        },
        "xaxis": {
         "title": {
          "text": "Date"
         }
        },
        "yaxis": {
         "categoryarray": [
          "West",
          "Midwest",
          "Northeast",
          "South"
         ],
         "categoryorder": "array",
         "gridcolor": "lightgrey",
         "showdividers": true,
         "showline": true,
         "tickson": "labels",
         "title": {
          "text": "State"
         },
         "type": "multicategory"
        }
       }
      },
      "text/html": [
       "<div>                            <div id=\"db74dafc-2586-4e7b-9953-d6c0ba12f750\" class=\"plotly-graph-div\" style=\"height:800px; width:100%;\"></div>            <script type=\"text/javascript\">                require([\"plotly\"], function(Plotly) {                    window.PLOTLYENV=window.PLOTLYENV || {};                                    if (document.getElementById(\"db74dafc-2586-4e7b-9953-d6c0ba12f750\")) {                    Plotly.newPlot(                        \"db74dafc-2586-4e7b-9953-d6c0ba12f750\",                        [{\"customdata\":[[129,\"QXO37508\"],[29,\"QXQ22426\"],[27,\"QXQ22414\"],[15,\"QXQ22714\"],[10,\"QXQ22630\"],[8,\"QXP81803\"],[6,\"QXQ22522\"],[5,\"QYC62786\"],[4,\"QXY06321\"],[3,\"UAQ85863\"],[3,\"QYP78661\"],[3,\"QXQ22870\"],[3,\"QXY07509\"],[2,\"QXY06561\"],[2,\"QXY06501\"],[2,\"QXP81275\"],[2,\"QXQ22810\"],[2,\"QXP81659\"],[2,\"QXY24434\"],[2,\"QXY06813\"],[2,\"QYZ50694\"],[2,\"QYL46882\"],[1,\"QYC62727\"],[1,\"QZL39190\"],[1,\"QXY06441\"],[1,\"QZW95162\"],[1,\"QXY06669\"],[1,\"QXY23918\"],[1,\"QYZ49975\"],[1,\"QYZ49998\"],[1,\"QYY75074\"],[1,\"QXY23618\"],[1,\"QXY06729\"],[1,\"QYJ58469\"],[1,\"QXY23642\"],[1,\"UAX33098\"],[1,\"QXY23870\"],[1,\"QXY24026\"],[1,\"QXY06309\"],[1,\"QZP62185\"],[1,\"QXY24110\"],[1,\"QXF90157\"],[1,\"QXY06921\"],[1,\"QXY24158\"],[1,\"QYZ50318\"],[1,\"QYH83804\"],[1,\"QXP81851\"],[1,\"QXP81875\"],[1,\"QXQ22570\"],[1,\"QXQ22930\"],[1,\"QXP81551\"],[1,\"QXP81467\"],[1,\"QXP81815\"],[1,\"QXQ22534\"],[1,\"QXP81635\"],[1,\"QXP81431\"],[1,\"QXQ22858\"],[1,\"QXQ22942\"],[1,\"QXP81887\"],[1,\"QXY23246\"],[1,\"QXY07341\"],[1,\"QXY23342\"],[1,\"QYH78104\"],[1,\"QXY07137\"],[1,\"QYZ41997\"],[1,\"QXY07041\"],[1,\"QZB04874\"]],\"hovertemplate\":\"<b>%{customdata[1]}</b><br>%{customdata[0]} reports hear after<br>%{meta[0]}<extra>%{y[0]}<br>%{y[1]}<br>%{x}<br></extra>\",\"marker\":{\"color\":[\"rgb(221, 204, 119)\",\"rgb(221, 204, 119)\",\"rgb(221, 204, 119)\",\"rgb(221, 204, 119)\",\"rgb(221, 204, 119)\",\"rgb(221, 204, 119)\",\"rgb(221, 204, 119)\",\"rgb(221, 204, 119)\",\"rgb(221, 204, 119)\",\"rgb(221, 204, 119)\",\"rgb(221, 204, 119)\",\"rgb(221, 204, 119)\",\"rgb(221, 204, 119)\",\"rgb(221, 204, 119)\",\"rgb(221, 204, 119)\",\"rgb(221, 204, 119)\",\"rgb(221, 204, 119)\",\"rgb(221, 204, 119)\",\"rgb(221, 204, 119)\",\"rgb(221, 204, 119)\",\"rgb(221, 204, 119)\",\"rgb(221, 204, 119)\",\"rgb(221, 204, 119)\",\"rgb(221, 204, 119)\",\"rgb(221, 204, 119)\",\"rgb(221, 204, 119)\",\"rgb(221, 204, 119)\",\"rgb(221, 204, 119)\",\"rgb(221, 204, 119)\",\"rgb(221, 204, 119)\",\"rgb(221, 204, 119)\",\"rgb(221, 204, 119)\",\"rgb(221, 204, 119)\",\"rgb(221, 204, 119)\",\"rgb(221, 204, 119)\",\"rgb(221, 204, 119)\",\"rgb(221, 204, 119)\",\"rgb(221, 204, 119)\",\"rgb(221, 204, 119)\",\"rgb(221, 204, 119)\",\"rgb(221, 204, 119)\",\"rgb(221, 204, 119)\",\"rgb(221, 204, 119)\",\"rgb(221, 204, 119)\",\"rgb(221, 204, 119)\",\"rgb(221, 204, 119)\",\"rgb(221, 204, 119)\",\"rgb(221, 204, 119)\",\"rgb(221, 204, 119)\",\"rgb(221, 204, 119)\",\"rgb(221, 204, 119)\",\"rgb(221, 204, 119)\",\"rgb(221, 204, 119)\",\"rgb(221, 204, 119)\",\"rgb(221, 204, 119)\",\"rgb(221, 204, 119)\",\"rgb(221, 204, 119)\",\"rgb(221, 204, 119)\",\"rgb(221, 204, 119)\",\"rgb(221, 204, 119)\",\"rgb(221, 204, 119)\",\"rgb(221, 204, 119)\",\"rgb(221, 204, 119)\",\"rgb(221, 204, 119)\",\"rgb(221, 204, 119)\",\"rgb(221, 204, 119)\",\"rgb(221, 204, 119)\"],\"opacity\":0.75,\"size\":[129,29,27,15,10,8,6,5,4,3,3,3,3,2,2,2,2,2,2,2,2,2,1,1,1,1,1,1,1,1,1,1,1,1,1,1,1,1,1,1,1,1,1,1,1,1,1,1,1,1,1,1,1,1,1,1,1,1,1,1,1,1,1,1,1,1,1],\"sizemin\":3,\"sizeref\":2},\"meta\":[\"21J\"],\"mode\":\"markers\",\"name\":\"21J\",\"showlegend\":true,\"x\":[\"2021-07-05\",\"2021-07-06\",\"2021-07-06\",\"2021-07-11\",\"2021-07-10\",\"2021-07-07\",\"2021-07-08\",\"2021-07-16\",\"2021-07-13\",\"2021-07-24\",\"2021-07-13\",\"2021-07-11\",\"2021-07-15\",\"2021-07-14\",\"2021-07-15\",\"2021-07-12\",\"2021-07-12\",\"2021-07-11\",\"2021-07-17\",\"2021-07-19\",\"2021-07-22\",\"2021-07-29\",\"2021-07-19\",\"2021-07-30\",\"2021-07-17\",\"2021-07-30\",\"2021-07-17\",\"2021-07-18\",\"2021-07-19\",\"2021-07-19\",\"2021-07-28\",\"2021-07-19\",\"2021-07-19\",\"2021-07-26\",\"2021-07-19\",\"2021-07-25\",\"2021-07-19\",\"2021-07-19\",\"2021-07-19\",\"2021-07-20\",\"2021-07-17\",\"2021-06-09\",\"2021-07-14\",\"2021-07-16\",\"2021-07-16\",\"2021-07-06\",\"2021-07-06\",\"2021-07-07\",\"2021-07-08\",\"2021-07-08\",\"2021-07-08\",\"2021-07-09\",\"2021-07-09\",\"2021-07-10\",\"2021-07-10\",\"2021-07-11\",\"2021-07-12\",\"2021-07-12\",\"2021-07-12\",\"2021-07-13\",\"2021-07-13\",\"2021-07-14\",\"2021-07-05\",\"2021-07-14\",\"2021-07-15\",\"2021-07-15\",\"2021-07-30\"],\"y\":[[\"South\",\"South\",\"South\",\"South\",\"South\",\"South\",\"South\",\"South\",\"South\",\"South\",\"West\",\"South\",\"South\",\"South\",\"South\",\"South\",\"South\",\"South\",\"South\",\"South\",\"West\",\"West\",\"South\",\"West\",\"South\",\"West\",\"South\",\"South\",\"West\",\"South\",\"South\",\"South\",\"South\",\"West\",\"South\",\"West\",\"South\",\"South\",\"South\",\"South\",\"South\",\"South\",\"South\",\"South\",\"South\",\"South\",\"South\",\"South\",\"South\",\"South\",\"South\",\"South\",\"South\",\"South\",\"South\",\"South\",\"South\",\"South\",\"South\",\"South\",\"South\",\"South\",\"South\",\"South\",\"West\",\"South\",\"West\"],[\"LA\",\"LA\",\"LA\",\"LA\",\"LA\",\"LA\",\"LA\",\"LA\",\"LA\",\"NC\",\"CA\",\"LA\",\"LA\",\"LA\",\"LA\",\"LA\",\"LA\",\"LA\",\"LA\",\"LA\",\"CO\",\"OR\",\"LA\",\"OR\",\"LA\",\"CA\",\"LA\",\"LA\",\"CO\",\"GA\",\"GA\",\"LA\",\"LA\",\"OR\",\"LA\",\"CO\",\"LA\",\"LA\",\"MS\",\"SC\",\"LA\",\"TX\",\"LA\",\"LA\",\"LA\",\"FL\",\"LA\",\"LA\",\"LA\",\"LA\",\"MS\",\"LA\",\"LA\",\"LA\",\"LA\",\"LA\",\"LA\",\"LA\",\"LA\",\"LA\",\"LA\",\"LA\",\"FL\",\"NC\",\"CO\",\"LA\",\"OR\"]],\"type\":\"scatter\"},{\"customdata\":[[8,\"QXY23330\"],[4,\"QXP81155\"],[4,\"QXQ22774\"],[3,\"QYC62739\"],[2,\"QYJ49982\"],[2,\"QXY23294\"],[1,\"QYP37656\"],[1,\"QZX14550\"],[1,\"QZQ05743\"],[1,\"QXY07377\"],[1,\"QYL46928\"],[1,\"QWX30232\"],[1,\"QXY24530\"],[1,\"QXY24410\"],[1,\"QXP81755\"],[1,\"QXP81179\"],[1,\"QZB04898\"]],\"hovertemplate\":\"<b>%{customdata[1]}</b><br>%{customdata[0]} reports hear after<br>%{meta[0]}<extra>%{y[0]}<br>%{y[1]}<br>%{x}<br></extra>\",\"marker\":{\"color\":[\"rgb(204, 102, 119)\",\"rgb(204, 102, 119)\",\"rgb(204, 102, 119)\",\"rgb(204, 102, 119)\",\"rgb(204, 102, 119)\",\"rgb(204, 102, 119)\",\"rgb(204, 102, 119)\",\"rgb(204, 102, 119)\",\"rgb(204, 102, 119)\",\"rgb(204, 102, 119)\",\"rgb(204, 102, 119)\",\"rgb(204, 102, 119)\",\"rgb(204, 102, 119)\",\"rgb(204, 102, 119)\",\"rgb(204, 102, 119)\",\"rgb(204, 102, 119)\",\"rgb(204, 102, 119)\"],\"opacity\":0.75,\"size\":[8,4,4,3,2,2,1,1,1,1,1,1,1,1,1,1,1],\"sizemin\":3,\"sizeref\":2},\"meta\":[\"21I\"],\"mode\":\"markers\",\"name\":\"21I\",\"showlegend\":true,\"x\":[\"2021-07-12\",\"2021-07-10\",\"2021-07-08\",\"2021-07-14\",\"2021-07-09\",\"2021-07-13\",\"2021-07-16\",\"2021-07-29\",\"2021-07-26\",\"2021-07-19\",\"2021-07-19\",\"2021-06-01\",\"2021-07-15\",\"2021-07-15\",\"2021-07-11\",\"2021-07-11\",\"2021-07-30\"],\"y\":[[\"South\",\"South\",\"South\",\"South\",\"South\",\"South\",\"South\",null,\"South\",\"South\",\"West\",\"South\",\"South\",\"South\",\"South\",\"South\",\"West\"],[\"LA\",\"LA\",\"LA\",\"LA\",\"FL\",\"LA\",\"FL\",\"TN\",\"FL\",\"LA\",\"OR\",\"LA\",\"LA\",\"LA\",\"LA\",\"LA\",\"OR\"]],\"type\":\"scatter\"},{\"customdata\":[[750,\"QZD09591\"],[393,\"QYJ42034\"],[95,\"QXL91697\"],[58,\"QYB96653\"],[57,\"QYJ41843\"],[33,\"QYP52957\"],[29,\"QZD01238\"],[28,\"QYL32654\"],[21,\"UAR26044\"],[18,\"QXP15181\"],[18,\"UAR18191\"],[18,\"QWU49875\"],[13,\"QZD05685\"],[12,\"QYP80051\"],[11,\"QYJ25126\"],[9,\"QZC99246\"],[9,\"QYJ28830\"],[7,\"QYV89333\"],[7,\"QXV98628\"],[6,\"QWY58528\"],[5,\"QZR85474\"],[5,\"QZF65786\"],[5,\"QZQ08080\"],[4,\"QZQ06584\"],[4,\"QYP28820\"],[4,\"QXT22451\"],[3,\"QXY24278\"],[3,\"QYV92619\"],[3,\"UAL80741\"],[3,\"QYP83240\"],[3,\"QYP83060\"],[3,\"QWT98177\"],[3,\"QYJ53021\"],[2,\"QZP82837\"],[2,\"QYC95735\"],[2,\"QYP43833\"],[2,\"UAQ73997\"],[2,\"UAT90408\"],[2,\"QYV80740\"],[2,\"QZP91985\"],[2,\"QZE75052\"],[2,\"QXP81455\"],[2,\"QYJ53610\"],[2,\"QXT25612\"],[1,\"QZF51336\"],[1,\"QZF16793\"],[1,\"QZE77441\"],[1,\"QZS07222\"],[1,\"QZS02772\"],[1,\"QZS00141\"],[1,\"UAJ60363\"],[1,\"QZE81029\"],[1,\"UAJ59639\"],[1,\"QYJ56900\"],[1,\"QZS04353\"],[1,\"QZW59077\"],[1,\"QZR87608\"],[1,\"QZR86368\"],[1,\"QZF33447\"],[1,\"QZU40509\"],[1,\"QZU43637\"],[1,\"QZP97660\"],[1,\"QZP87881\"],[1,\"QZU59218\"],[1,\"QZX20608\"],[1,\"QZQ21774\"],[1,\"QZP47878\"],[1,\"QZE82020\"],[1,\"QZW64634\"],[1,\"QZW62445\"],[1,\"QYY78367\"],[1,\"QZE85274\"],[1,\"QZE79250\"],[1,\"UAJ35792\"],[1,\"QZE70301\"],[1,\"QZW96860\"],[1,\"QZX07087\"],[1,\"QZX40456\"],[1,\"QZX39710\"],[1,\"QZW98614\"],[1,\"QZW77789\"],[1,\"QZX20420\"],[1,\"QZW70549\"],[1,\"QZX24724\"],[1,\"QZW70372\"],[1,\"QZX30052\"],[1,\"QZF13834\"],[1,\"QZX32529\"],[1,\"QZW90134\"],[1,\"QZU53431\"],[1,\"QZW87673\"],[1,\"QZU68303\"],[1,\"QZW85167\"],[1,\"QZW81470\"],[1,\"QZQ27878\"],[1,\"QYT07878\"],[1,\"QYX09636\"],[1,\"QYN92280\"],[1,\"QXY07820\"],[1,\"QYP81119\"],[1,\"QYP81096\"],[1,\"QYJ26186\"],[1,\"QYP60113\"],[1,\"UAR23780\"],[1,\"QXQ22606\"],[1,\"QZD16928\"],[1,\"QYJ32131\"],[1,\"QYJ27113\"],[1,\"QYV58238\"],[1,\"UAR19895\"],[1,\"QYJ29807\"],[1,\"QYI23661\"],[1,\"QZD06562\"],[1,\"UAR21745\"],[1,\"QXP81611\"],[1,\"QYJ53009\"],[1,\"QYN95950\"],[1,\"QYJ53633\"],[1,\"QZC99549\"],[1,\"QXO37520\"],[1,\"QXO32397\"],[1,\"QWU04007\"],[1,\"QXF96549\"],[1,\"QYV73806\"],[1,\"UAR07716\"],[1,\"QZP86733\"],[1,\"QZW20857\"],[1,\"UAQ60618\"],[1,\"QZQ14544\"],[1,\"QZQ06717\"],[1,\"UAQ55750\"],[1,\"QYP88444\"],[1,\"UAQ72219\"],[1,\"QYZ47288\"],[1,\"QZP63475\"],[1,\"QZP62678\"],[1,\"UAQ93276\"],[1,\"QYP50647\"],[1,\"QYT07104\"],[1,\"QYT06574\"],[1,\"QYZ46957\"],[1,\"QXY07245\"],[1,\"QYP73800\"],[1,\"QYP50504\"],[1,\"QYP34252\"],[1,\"QZA73866\"],[1,\"QYP64595\"],[1,\"QYP36850\"],[1,\"QYV89546\"],[1,\"QYP36348\"],[1,\"QYS41316\"],[1,\"QYP76690\"],[1,\"QZE86564\"]],\"hovertemplate\":\"<b>%{customdata[1]}</b><br>%{customdata[0]} reports hear after<br>%{meta[0]}<extra>%{y[0]}<br>%{y[1]}<br>%{x}<br></extra>\",\"marker\":{\"color\":[\"rgb(136, 204, 238)\",\"rgb(136, 204, 238)\",\"rgb(136, 204, 238)\",\"rgb(136, 204, 238)\",\"rgb(136, 204, 238)\",\"rgb(136, 204, 238)\",\"rgb(136, 204, 238)\",\"rgb(136, 204, 238)\",\"rgb(136, 204, 238)\",\"rgb(136, 204, 238)\",\"rgb(136, 204, 238)\",\"rgb(136, 204, 238)\",\"rgb(136, 204, 238)\",\"rgb(136, 204, 238)\",\"rgb(136, 204, 238)\",\"rgb(136, 204, 238)\",\"rgb(136, 204, 238)\",\"rgb(136, 204, 238)\",\"rgb(136, 204, 238)\",\"rgb(136, 204, 238)\",\"rgb(136, 204, 238)\",\"rgb(136, 204, 238)\",\"rgb(136, 204, 238)\",\"rgb(136, 204, 238)\",\"rgb(136, 204, 238)\",\"rgb(136, 204, 238)\",\"rgb(136, 204, 238)\",\"rgb(136, 204, 238)\",\"rgb(136, 204, 238)\",\"rgb(136, 204, 238)\",\"rgb(136, 204, 238)\",\"rgb(136, 204, 238)\",\"rgb(136, 204, 238)\",\"rgb(136, 204, 238)\",\"rgb(136, 204, 238)\",\"rgb(136, 204, 238)\",\"rgb(136, 204, 238)\",\"rgb(136, 204, 238)\",\"rgb(136, 204, 238)\",\"rgb(136, 204, 238)\",\"rgb(136, 204, 238)\",\"rgb(136, 204, 238)\",\"rgb(136, 204, 238)\",\"rgb(136, 204, 238)\",\"rgb(136, 204, 238)\",\"rgb(136, 204, 238)\",\"rgb(136, 204, 238)\",\"rgb(136, 204, 238)\",\"rgb(136, 204, 238)\",\"rgb(136, 204, 238)\",\"rgb(136, 204, 238)\",\"rgb(136, 204, 238)\",\"rgb(136, 204, 238)\",\"rgb(136, 204, 238)\",\"rgb(136, 204, 238)\",\"rgb(136, 204, 238)\",\"rgb(136, 204, 238)\",\"rgb(136, 204, 238)\",\"rgb(136, 204, 238)\",\"rgb(136, 204, 238)\",\"rgb(136, 204, 238)\",\"rgb(136, 204, 238)\",\"rgb(136, 204, 238)\",\"rgb(136, 204, 238)\",\"rgb(136, 204, 238)\",\"rgb(136, 204, 238)\",\"rgb(136, 204, 238)\",\"rgb(136, 204, 238)\",\"rgb(136, 204, 238)\",\"rgb(136, 204, 238)\",\"rgb(136, 204, 238)\",\"rgb(136, 204, 238)\",\"rgb(136, 204, 238)\",\"rgb(136, 204, 238)\",\"rgb(136, 204, 238)\",\"rgb(136, 204, 238)\",\"rgb(136, 204, 238)\",\"rgb(136, 204, 238)\",\"rgb(136, 204, 238)\",\"rgb(136, 204, 238)\",\"rgb(136, 204, 238)\",\"rgb(136, 204, 238)\",\"rgb(136, 204, 238)\",\"rgb(136, 204, 238)\",\"rgb(136, 204, 238)\",\"rgb(136, 204, 238)\",\"rgb(136, 204, 238)\",\"rgb(136, 204, 238)\",\"rgb(136, 204, 238)\",\"rgb(136, 204, 238)\",\"rgb(136, 204, 238)\",\"rgb(136, 204, 238)\",\"rgb(136, 204, 238)\",\"rgb(136, 204, 238)\",\"rgb(136, 204, 238)\",\"rgb(136, 204, 238)\",\"rgb(136, 204, 238)\",\"rgb(136, 204, 238)\",\"rgb(136, 204, 238)\",\"rgb(136, 204, 238)\",\"rgb(136, 204, 238)\",\"rgb(136, 204, 238)\",\"rgb(136, 204, 238)\",\"rgb(136, 204, 238)\",\"rgb(136, 204, 238)\",\"rgb(136, 204, 238)\",\"rgb(136, 204, 238)\",\"rgb(136, 204, 238)\",\"rgb(136, 204, 238)\",\"rgb(136, 204, 238)\",\"rgb(136, 204, 238)\",\"rgb(136, 204, 238)\",\"rgb(136, 204, 238)\",\"rgb(136, 204, 238)\",\"rgb(136, 204, 238)\",\"rgb(136, 204, 238)\",\"rgb(136, 204, 238)\",\"rgb(136, 204, 238)\",\"rgb(136, 204, 238)\",\"rgb(136, 204, 238)\",\"rgb(136, 204, 238)\",\"rgb(136, 204, 238)\",\"rgb(136, 204, 238)\",\"rgb(136, 204, 238)\",\"rgb(136, 204, 238)\",\"rgb(136, 204, 238)\",\"rgb(136, 204, 238)\",\"rgb(136, 204, 238)\",\"rgb(136, 204, 238)\",\"rgb(136, 204, 238)\",\"rgb(136, 204, 238)\",\"rgb(136, 204, 238)\",\"rgb(136, 204, 238)\",\"rgb(136, 204, 238)\",\"rgb(136, 204, 238)\",\"rgb(136, 204, 238)\",\"rgb(136, 204, 238)\",\"rgb(136, 204, 238)\",\"rgb(136, 204, 238)\",\"rgb(136, 204, 238)\",\"rgb(136, 204, 238)\",\"rgb(136, 204, 238)\",\"rgb(136, 204, 238)\",\"rgb(136, 204, 238)\",\"rgb(136, 204, 238)\",\"rgb(136, 204, 238)\",\"rgb(136, 204, 238)\",\"rgb(136, 204, 238)\",\"rgb(136, 204, 238)\",\"rgb(136, 204, 238)\",\"rgb(136, 204, 238)\",\"rgb(136, 204, 238)\",\"rgb(136, 204, 238)\"],\"opacity\":0.75,\"size\":[750,393,95,58,57,33,29,28,21,18,18,18,13,12,11,9,9,7,7,6,5,5,5,4,4,4,3,3,3,3,3,3,3,2,2,2,2,2,2,2,2,2,2,2,1,1,1,1,1,1,1,1,1,1,1,1,1,1,1,1,1,1,1,1,1,1,1,1,1,1,1,1,1,1,1,1,1,1,1,1,1,1,1,1,1,1,1,1,1,1,1,1,1,1,1,1,1,1,1,1,1,1,1,1,1,1,1,1,1,1,1,1,1,1,1,1,1,1,1,1,1,1,1,1,1,1,1,1,1,1,1,1,1,1,1,1,1,1,1,1,1,1,1,1,1,1,1,1,1,1,1,1,1],\"sizemin\":3,\"sizeref\":2},\"meta\":[\"21A\"],\"mode\":\"markers\",\"name\":\"21A\",\"showlegend\":true,\"x\":[\"2021-07-01\",\"2021-07-02\",\"2021-06\",\"2021-07-02\",\"2021-07-02\",\"2021-07-01\",\"2021-07-06\",\"2021-07-11\",\"2021-07-11\",\"2021-06\",\"2021-07-10\",\"2021-06\",\"2021-07-01\",\"2021-07-12\",\"2021-07-10\",\"2021-07-01\",\"2021-07-09\",\"2021-07-16\",\"2021-07-16\",\"2021-06-04\",\"2021-07-26\",\"2021-07-20\",\"2021-07-23\",\"2021-07-22\",\"2021-07-16\",\"2021-07-03\",\"2021-07-16\",\"2021-07-17\",\"2021-07-29\",\"2021-07-14\",\"2021-07-11\",\"2021-06-03\",\"2021-07-07\",\"2021-07-24\",\"2021-07-14\",\"2021-07-19\",\"2021-07-22\",\"2021-07-25\",\"2021-07-12\",\"2021-07-25\",\"2021-07-30\",\"2021-07-07\",\"2021-07-06\",\"2021-07-02\",\"2021-07-29\",\"2021-07-26\",\"2021-07-27\",\"2021-07-27\",\"2021-07-27\",\"2021-07-27\",\"2021-07-27\",\"2021-07-30\",\"2021-07-27\",\"2021-07-26\",\"2021-07-26\",\"2021-07-28\",\"2021-07-26\",\"2021-07-26\",\"2021-07-30\",\"2021-07-31\",\"2021-07-31\",\"2021-07-26\",\"2021-07-26\",\"2021-07-31\",\"2021-07-26\",\"2021-07-25\",\"2021-07-31\",\"2021-07-27\",\"2021-07-28\",\"2021-07-28\",\"2021-07-29\",\"2021-07-29\",\"2021-07-29\",\"2021-07-30\",\"2021-07-29\",\"2021-07-30\",\"2021-07-30\",\"2021-07-29\",\"2021-07-29\",\"2021-07-29\",\"2021-07-29\",\"2021-07-30\",\"2021-07-29\",\"2021-07-30\",\"2021-07-29\",\"2021-07-30\",\"2021-07-28\",\"2021-07-30\",\"2021-07-28\",\"2021-07-30\",\"2021-07-28\",\"2021-07-30\",\"2021-07-28\",\"2021-07-28\",\"2021-07-29\",\"2021-07-19\",\"2021-07-24\",\"2021-07-14\",\"2021-07-13\",\"2021-07-13\",\"2021-07-13\",\"2021-07-12\",\"2021-07-12\",\"2021-07-12\",\"2021-07-11\",\"2021-07-11\",\"2021-07-10\",\"2021-07-10\",\"2021-07-10\",\"2021-07-10\",\"2021-07-09\",\"2021-07-08\",\"2021-07-08\",\"2021-07-08\",\"2021-07-07\",\"2021-07-07\",\"2021-07-07\",\"2021-07-06\",\"2021-07-02\",\"2021-07-01\",\"2021-06-08\",\"2021-06-04\",\"2021-06-02\",\"2021-07-14\",\"2021-07-15\",\"2021-07-24\",\"2021-07-15\",\"2021-07-24\",\"2021-07-23\",\"2021-07-23\",\"2021-07-23\",\"2021-07-21\",\"2021-07-21\",\"2021-07-20\",\"2021-07-20\",\"2021-07-20\",\"2021-07-20\",\"2021-07-19\",\"2021-07-19\",\"2021-07-19\",\"2021-07-19\",\"2021-07-18\",\"2021-07-18\",\"2021-07-18\",\"2021-07-18\",\"2021-07-18\",\"2021-07-17\",\"2021-07-17\",\"2021-07-17\",\"2021-07-16\",\"2021-07-16\",\"2021-07-15\",\"2021-07-31\"],\"y\":[[\"Northeast\",\"South\",\"South\",\"South\",\"South\",\"South\",\"South\",\"Midwest\",\"South\",\"South\",\"South\",\"South\",\"Northeast\",\"South\",\"South\",\"South\",\"South\",\"South\",\"West\",\"South\",\"West\",\"West\",\"South\",\"West\",\"West\",\"South\",\"South\",\"South\",\"Northeast\",\"South\",\"West\",\"South\",\"West\",\"South\",\"South\",\"Midwest\",\"Northeast\",\"South\",\"South\",\"South\",\"South\",\"South\",\"South\",\"South\",\"West\",\"South\",\"South\",\"Midwest\",\"West\",\"Midwest\",\"West\",\"South\",\"West\",\"South\",\"South\",\"Northeast\",\"West\",\"Midwest\",\"South\",\"South\",\"South\",\"South\",null,\"South\",\"South\",\"South\",\"Midwest\",\"South\",\"South\",\"South\",\"South\",\"South\",\"South\",\"South\",\"South\",\"South\",\"South\",\"West\",\"South\",\"South\",\"South\",\"South\",\"South\",\"South\",\"South\",\"South\",\"South\",\"South\",\"Midwest\",\"South\",\"Northeast\",\"South\",\"West\",\"South\",\"West\",\"Northeast\",\"Northeast\",\"Midwest\",\"South\",\"South\",\"South\",\"South\",\"South\",\"South\",\"South\",\"South\",\"West\",\"West\",\"West\",\"South\",\"South\",null,\"South\",\"Northeast\",\"South\",\"West\",\"West\",\"South\",\"South\",\"South\",\"Midwest\",\"South\",\"South\",\"South\",\"West\",\"South\",\"South\",\"South\",\"South\",\"South\",\"South\",\"West\",\"South\",\"South\",\"South\",\"South\",\"South\",\"South\",\"Northeast\",\"Northeast\",\"South\",\"South\",\"South\",\"South\",\"South\",\"South\",\"South\",\"South\",\"South\",\"South\",\"Midwest\",\"South\",\"South\"],[\"NJ\",\"FL\",\"VA\",\"TX\",\"FL\",\"TX\",\"AL\",\"OH\",\"FL\",\"VA\",\"TX\",\"VA\",\"NY\",\"NC\",\"FL\",\"LA\",\"TX\",\"FL\",\"OR\",\"FL\",\"NV\",\"CA\",\"FL\",\"CA\",\"AZ\",\"MD\",\"LA\",\"FL\",\"MA\",\"FL\",\"CA\",\"FL\",\"CA\",\"FL\",\"MD\",\"IL\",\"NJ\",\"FL\",\"FL\",\"FL\",\"FL\",\"LA\",\"TX\",\"GA\",\"CA\",\"NC\",\"FL\",\"IL\",\"CA\",\"MO\",\"CA\",\"FL\",\"CA\",\"NC\",\"FL\",\"NJ\",\"CA\",\"MI\",\"FL\",\"TX\",\"TX\",\"NC\",\"TN\",\"FL\",\"FL\",\"FL\",\"OH\",\"FL\",\"FL\",\"FL\",\"NC\",\"FL\",\"FL\",\"FL\",\"FL\",\"FL\",\"FL\",\"CA\",\"FL\",\"FL\",\"NC\",\"FL\",\"FL\",\"FL\",\"FL\",\"FL\",\"FL\",\"GA\",\"NE\",\"TX\",\"CT\",\"FL\",\"CA\",\"FL\",\"UT\",\"PA\",\"PA\",\"MN\",\"LA\",\"FL\",\"FL\",\"FL\",\"TX\",\"FL\",\"LA\",\"NC\",\"CA\",\"CA\",\"UT\",\"TX\",\"FL\",\"TN\",\"FL\",\"PA\",\"LA\",\"CA\",\"CA\",\"TX\",\"LA\",\"LA\",\"MO\",\"VA\",\"MD\",\"NC\",\"NV\",\"FL\",\"FL\",\"FL\",\"FL\",\"FL\",\"FL\",\"UT\",\"NC\",\"GA\",\"FL\",\"FL\",\"FL\",\"FL\",\"PA\",\"PA\",\"NC\",\"LA\",\"FL\",\"FL\",\"GA\",\"AL\",\"AL\",\"FL\",\"FL\",\"FL\",\"MO\",\"FL\",\"FL\"]],\"type\":\"scatter\"}],                        {\"template\":{\"data\":{\"bar\":[{\"error_x\":{\"color\":\"#2a3f5f\"},\"error_y\":{\"color\":\"#2a3f5f\"},\"marker\":{\"line\":{\"color\":\"#E5ECF6\",\"width\":0.5},\"pattern\":{\"fillmode\":\"overlay\",\"size\":10,\"solidity\":0.2}},\"type\":\"bar\"}],\"barpolar\":[{\"marker\":{\"line\":{\"color\":\"#E5ECF6\",\"width\":0.5},\"pattern\":{\"fillmode\":\"overlay\",\"size\":10,\"solidity\":0.2}},\"type\":\"barpolar\"}],\"carpet\":[{\"aaxis\":{\"endlinecolor\":\"#2a3f5f\",\"gridcolor\":\"white\",\"linecolor\":\"white\",\"minorgridcolor\":\"white\",\"startlinecolor\":\"#2a3f5f\"},\"baxis\":{\"endlinecolor\":\"#2a3f5f\",\"gridcolor\":\"white\",\"linecolor\":\"white\",\"minorgridcolor\":\"white\",\"startlinecolor\":\"#2a3f5f\"},\"type\":\"carpet\"}],\"choropleth\":[{\"colorbar\":{\"outlinewidth\":0,\"ticks\":\"\"},\"type\":\"choropleth\"}],\"contour\":[{\"colorbar\":{\"outlinewidth\":0,\"ticks\":\"\"},\"colorscale\":[[0.0,\"#0d0887\"],[0.1111111111111111,\"#46039f\"],[0.2222222222222222,\"#7201a8\"],[0.3333333333333333,\"#9c179e\"],[0.4444444444444444,\"#bd3786\"],[0.5555555555555556,\"#d8576b\"],[0.6666666666666666,\"#ed7953\"],[0.7777777777777778,\"#fb9f3a\"],[0.8888888888888888,\"#fdca26\"],[1.0,\"#f0f921\"]],\"type\":\"contour\"}],\"contourcarpet\":[{\"colorbar\":{\"outlinewidth\":0,\"ticks\":\"\"},\"type\":\"contourcarpet\"}],\"heatmap\":[{\"colorbar\":{\"outlinewidth\":0,\"ticks\":\"\"},\"colorscale\":[[0.0,\"#0d0887\"],[0.1111111111111111,\"#46039f\"],[0.2222222222222222,\"#7201a8\"],[0.3333333333333333,\"#9c179e\"],[0.4444444444444444,\"#bd3786\"],[0.5555555555555556,\"#d8576b\"],[0.6666666666666666,\"#ed7953\"],[0.7777777777777778,\"#fb9f3a\"],[0.8888888888888888,\"#fdca26\"],[1.0,\"#f0f921\"]],\"type\":\"heatmap\"}],\"heatmapgl\":[{\"colorbar\":{\"outlinewidth\":0,\"ticks\":\"\"},\"colorscale\":[[0.0,\"#0d0887\"],[0.1111111111111111,\"#46039f\"],[0.2222222222222222,\"#7201a8\"],[0.3333333333333333,\"#9c179e\"],[0.4444444444444444,\"#bd3786\"],[0.5555555555555556,\"#d8576b\"],[0.6666666666666666,\"#ed7953\"],[0.7777777777777778,\"#fb9f3a\"],[0.8888888888888888,\"#fdca26\"],[1.0,\"#f0f921\"]],\"type\":\"heatmapgl\"}],\"histogram\":[{\"marker\":{\"pattern\":{\"fillmode\":\"overlay\",\"size\":10,\"solidity\":0.2}},\"type\":\"histogram\"}],\"histogram2d\":[{\"colorbar\":{\"outlinewidth\":0,\"ticks\":\"\"},\"colorscale\":[[0.0,\"#0d0887\"],[0.1111111111111111,\"#46039f\"],[0.2222222222222222,\"#7201a8\"],[0.3333333333333333,\"#9c179e\"],[0.4444444444444444,\"#bd3786\"],[0.5555555555555556,\"#d8576b\"],[0.6666666666666666,\"#ed7953\"],[0.7777777777777778,\"#fb9f3a\"],[0.8888888888888888,\"#fdca26\"],[1.0,\"#f0f921\"]],\"type\":\"histogram2d\"}],\"histogram2dcontour\":[{\"colorbar\":{\"outlinewidth\":0,\"ticks\":\"\"},\"colorscale\":[[0.0,\"#0d0887\"],[0.1111111111111111,\"#46039f\"],[0.2222222222222222,\"#7201a8\"],[0.3333333333333333,\"#9c179e\"],[0.4444444444444444,\"#bd3786\"],[0.5555555555555556,\"#d8576b\"],[0.6666666666666666,\"#ed7953\"],[0.7777777777777778,\"#fb9f3a\"],[0.8888888888888888,\"#fdca26\"],[1.0,\"#f0f921\"]],\"type\":\"histogram2dcontour\"}],\"mesh3d\":[{\"colorbar\":{\"outlinewidth\":0,\"ticks\":\"\"},\"type\":\"mesh3d\"}],\"parcoords\":[{\"line\":{\"colorbar\":{\"outlinewidth\":0,\"ticks\":\"\"}},\"type\":\"parcoords\"}],\"pie\":[{\"automargin\":true,\"type\":\"pie\"}],\"scatter\":[{\"marker\":{\"colorbar\":{\"outlinewidth\":0,\"ticks\":\"\"}},\"type\":\"scatter\"}],\"scatter3d\":[{\"line\":{\"colorbar\":{\"outlinewidth\":0,\"ticks\":\"\"}},\"marker\":{\"colorbar\":{\"outlinewidth\":0,\"ticks\":\"\"}},\"type\":\"scatter3d\"}],\"scattercarpet\":[{\"marker\":{\"colorbar\":{\"outlinewidth\":0,\"ticks\":\"\"}},\"type\":\"scattercarpet\"}],\"scattergeo\":[{\"marker\":{\"colorbar\":{\"outlinewidth\":0,\"ticks\":\"\"}},\"type\":\"scattergeo\"}],\"scattergl\":[{\"marker\":{\"colorbar\":{\"outlinewidth\":0,\"ticks\":\"\"}},\"type\":\"scattergl\"}],\"scattermapbox\":[{\"marker\":{\"colorbar\":{\"outlinewidth\":0,\"ticks\":\"\"}},\"type\":\"scattermapbox\"}],\"scatterpolar\":[{\"marker\":{\"colorbar\":{\"outlinewidth\":0,\"ticks\":\"\"}},\"type\":\"scatterpolar\"}],\"scatterpolargl\":[{\"marker\":{\"colorbar\":{\"outlinewidth\":0,\"ticks\":\"\"}},\"type\":\"scatterpolargl\"}],\"scatterternary\":[{\"marker\":{\"colorbar\":{\"outlinewidth\":0,\"ticks\":\"\"}},\"type\":\"scatterternary\"}],\"surface\":[{\"colorbar\":{\"outlinewidth\":0,\"ticks\":\"\"},\"colorscale\":[[0.0,\"#0d0887\"],[0.1111111111111111,\"#46039f\"],[0.2222222222222222,\"#7201a8\"],[0.3333333333333333,\"#9c179e\"],[0.4444444444444444,\"#bd3786\"],[0.5555555555555556,\"#d8576b\"],[0.6666666666666666,\"#ed7953\"],[0.7777777777777778,\"#fb9f3a\"],[0.8888888888888888,\"#fdca26\"],[1.0,\"#f0f921\"]],\"type\":\"surface\"}],\"table\":[{\"cells\":{\"fill\":{\"color\":\"#EBF0F8\"},\"line\":{\"color\":\"white\"}},\"header\":{\"fill\":{\"color\":\"#C8D4E3\"},\"line\":{\"color\":\"white\"}},\"type\":\"table\"}]},\"layout\":{\"annotationdefaults\":{\"arrowcolor\":\"#2a3f5f\",\"arrowhead\":0,\"arrowwidth\":1},\"autotypenumbers\":\"strict\",\"coloraxis\":{\"colorbar\":{\"outlinewidth\":0,\"ticks\":\"\"}},\"colorscale\":{\"diverging\":[[0,\"#8e0152\"],[0.1,\"#c51b7d\"],[0.2,\"#de77ae\"],[0.3,\"#f1b6da\"],[0.4,\"#fde0ef\"],[0.5,\"#f7f7f7\"],[0.6,\"#e6f5d0\"],[0.7,\"#b8e186\"],[0.8,\"#7fbc41\"],[0.9,\"#4d9221\"],[1,\"#276419\"]],\"sequential\":[[0.0,\"#0d0887\"],[0.1111111111111111,\"#46039f\"],[0.2222222222222222,\"#7201a8\"],[0.3333333333333333,\"#9c179e\"],[0.4444444444444444,\"#bd3786\"],[0.5555555555555556,\"#d8576b\"],[0.6666666666666666,\"#ed7953\"],[0.7777777777777778,\"#fb9f3a\"],[0.8888888888888888,\"#fdca26\"],[1.0,\"#f0f921\"]],\"sequentialminus\":[[0.0,\"#0d0887\"],[0.1111111111111111,\"#46039f\"],[0.2222222222222222,\"#7201a8\"],[0.3333333333333333,\"#9c179e\"],[0.4444444444444444,\"#bd3786\"],[0.5555555555555556,\"#d8576b\"],[0.6666666666666666,\"#ed7953\"],[0.7777777777777778,\"#fb9f3a\"],[0.8888888888888888,\"#fdca26\"],[1.0,\"#f0f921\"]]},\"colorway\":[\"#636efa\",\"#EF553B\",\"#00cc96\",\"#ab63fa\",\"#FFA15A\",\"#19d3f3\",\"#FF6692\",\"#B6E880\",\"#FF97FF\",\"#FECB52\"],\"font\":{\"color\":\"#2a3f5f\"},\"geo\":{\"bgcolor\":\"white\",\"lakecolor\":\"white\",\"landcolor\":\"#E5ECF6\",\"showlakes\":true,\"showland\":true,\"subunitcolor\":\"white\"},\"hoverlabel\":{\"align\":\"left\"},\"hovermode\":\"closest\",\"mapbox\":{\"style\":\"light\"},\"paper_bgcolor\":\"white\",\"plot_bgcolor\":\"#E5ECF6\",\"polar\":{\"angularaxis\":{\"gridcolor\":\"white\",\"linecolor\":\"white\",\"ticks\":\"\"},\"bgcolor\":\"#E5ECF6\",\"radialaxis\":{\"gridcolor\":\"white\",\"linecolor\":\"white\",\"ticks\":\"\"}},\"scene\":{\"xaxis\":{\"backgroundcolor\":\"#E5ECF6\",\"gridcolor\":\"white\",\"gridwidth\":2,\"linecolor\":\"white\",\"showbackground\":true,\"ticks\":\"\",\"zerolinecolor\":\"white\"},\"yaxis\":{\"backgroundcolor\":\"#E5ECF6\",\"gridcolor\":\"white\",\"gridwidth\":2,\"linecolor\":\"white\",\"showbackground\":true,\"ticks\":\"\",\"zerolinecolor\":\"white\"},\"zaxis\":{\"backgroundcolor\":\"#E5ECF6\",\"gridcolor\":\"white\",\"gridwidth\":2,\"linecolor\":\"white\",\"showbackground\":true,\"ticks\":\"\",\"zerolinecolor\":\"white\"}},\"shapedefaults\":{\"line\":{\"color\":\"#2a3f5f\"}},\"ternary\":{\"aaxis\":{\"gridcolor\":\"white\",\"linecolor\":\"white\",\"ticks\":\"\"},\"baxis\":{\"gridcolor\":\"white\",\"linecolor\":\"white\",\"ticks\":\"\"},\"bgcolor\":\"#E5ECF6\",\"caxis\":{\"gridcolor\":\"white\",\"linecolor\":\"white\",\"ticks\":\"\"}},\"title\":{\"x\":0.05},\"xaxis\":{\"automargin\":true,\"gridcolor\":\"white\",\"linecolor\":\"white\",\"ticks\":\"\",\"title\":{\"standoff\":15},\"zerolinecolor\":\"white\",\"zerolinewidth\":2},\"yaxis\":{\"automargin\":true,\"gridcolor\":\"white\",\"linecolor\":\"white\",\"ticks\":\"\",\"title\":{\"standoff\":15},\"zerolinecolor\":\"white\",\"zerolinewidth\":2}}},\"title\":{\"text\":\"Delta Emergence in the USA\",\"x\":0.5},\"legend\":{\"itemsizing\":\"constant\",\"traceorder\":\"reversed\"},\"plot_bgcolor\":\"white\",\"height\":800,\"yaxis\":{\"title\":{\"text\":\"State\"},\"showline\":true,\"gridcolor\":\"lightgrey\",\"categoryorder\":\"array\",\"categoryarray\":[\"West\",\"Midwest\",\"Northeast\",\"South\"],\"type\":\"multicategory\",\"showdividers\":true,\"tickson\":\"labels\"},\"xaxis\":{\"title\":{\"text\":\"Date\"}}},                        {\"scrollZoom\": false, \"doubleClick\": \"reset\", \"displayModeBar\": true, \"modeBarButtonsToRemove\": [\"zoom2d\", \"zoomIn2d\", \"zoomOut2d\", \"autoScale2d\", \"lasso2d\", \"select2d\"], \"responsive\": true}                    ).then(function(){\n",
       "                            \n",
       "var gd = document.getElementById('db74dafc-2586-4e7b-9953-d6c0ba12f750');\n",
       "var x = new MutationObserver(function (mutations, observer) {{\n",
       "        var display = window.getComputedStyle(gd).display;\n",
       "        if (!display || display === 'none') {{\n",
       "            console.log([gd, 'removed!']);\n",
       "            Plotly.purge(gd);\n",
       "            observer.disconnect();\n",
       "        }}\n",
       "}});\n",
       "\n",
       "// Listen for the removal of the full notebook cells\n",
       "var notebookContainer = gd.closest('#notebook-container');\n",
       "if (notebookContainer) {{\n",
       "    x.observe(notebookContainer, {childList: true});\n",
       "}}\n",
       "\n",
       "// Listen for the clearing of the current output cell\n",
       "var outputEl = gd.closest('.output');\n",
       "if (outputEl) {{\n",
       "    x.observe(outputEl, {childList: true});\n",
       "}}\n",
       "\n",
       "                        })                };                });            </script>        </div>"
      ]
     },
     "metadata": {},
     "output_type": "display_data"
    }
   ],
   "source": [
    "def add_clade_trace(df, fig, name):\n",
    "    customdf = np.stack((df['count'], df['p_accession'] ),axis = -1)\n",
    "    fig.add_trace(\n",
    "        go.Scatter(mode = 'markers', x=df[\"date\"], y=[df['region'],df[\"state\"]],\n",
    "                        showlegend = True,\n",
    "                   name = name,meta = [name],\n",
    "                   customdata = customdf,\n",
    "                   hovertemplate = \"<b>%{customdata[1]}</b><br>%{customdata[0]} reports hear after<br>%{meta[0]}<extra>%{y[0]}<br>%{y[1]}<br>%{x}<br></extra>\",\n",
    "                     marker = dict(\n",
    "                         size=df[\"count\"],\n",
    "                         sizeref = 2, \n",
    "                         sizemin = 3,\n",
    "                         color=df[\"color\"],\n",
    "                         opacity = 0.75),\n",
    "                  ))\n",
    "\n",
    "fig = go.Figure()\n",
    "\n",
    "add_clade_trace(df_21J, fig, \"21J\")\n",
    "add_clade_trace(df_21I, fig, \"21I\")\n",
    "add_clade_trace(df_21A, fig, \"21A\")\n",
    "\n",
    "\n",
    "\n",
    "\n",
    "\n",
    "fig.update_layout(\n",
    "            title = dict(text = \"Delta Emergence in the USA\", x= 0.5),\n",
    "            plot_bgcolor = 'white',\n",
    "            legend = dict(itemsizing = 'constant', traceorder = \"reversed\"),\n",
    "            height = 800\n",
    "            )\n",
    "fig.update_yaxes(\n",
    "            title = dict(text = 'State'),\n",
    "            showline = True,\n",
    "            gridcolor = 'lightgrey',\n",
    "            categoryorder = 'array',\n",
    "            categoryarray = ['West', 'Midwest', 'Northeast', 'South'],\n",
    "            type = 'multicategory',\n",
    "            showdividers=True,\n",
    "            tickson = 'labels'\n",
    ")\n",
    "fig.update_xaxes(\n",
    "            title = dict(text = 'Date')\n",
    ")\n",
    "config = dict(scrollZoom = False, doubleClick = 'reset', displayModeBar = True,\n",
    "                  modeBarButtonsToRemove=['zoom2d','zoomIn2d', 'zoomOut2d','autoScale2d','lasso2d','select2d'])\n",
    "fig.show(config = config)\n",
    "fig.write_html('../../visualizations/delta_emergence.html', config = config)"
   ]
  },
  {
   "cell_type": "markdown",
   "id": "856ec713",
   "metadata": {},
   "source": [
    "Jun 1st dates may actually be later in month (missing day). All emerged in the us around the same time (begining of july). 21A seems to have the most cases and the two sequences that are seen a lot, first recorded in NJ and Florida. There looks to be one sequence of 21J with more counts. "
   ]
  },
  {
   "cell_type": "markdown",
   "id": "84b658c8",
   "metadata": {},
   "source": [
    "Want to compare the actual sequence next"
   ]
  },
  {
   "cell_type": "code",
   "execution_count": 9,
   "id": "304f833a",
   "metadata": {},
   "outputs": [
    {
     "data": {
      "text/html": [
       "<div>\n",
       "<style scoped>\n",
       "    .dataframe tbody tr th:only-of-type {\n",
       "        vertical-align: middle;\n",
       "    }\n",
       "\n",
       "    .dataframe tbody tr th {\n",
       "        vertical-align: top;\n",
       "    }\n",
       "\n",
       "    .dataframe thead th {\n",
       "        text-align: right;\n",
       "    }\n",
       "</style>\n",
       "<table border=\"1\" class=\"dataframe\">\n",
       "  <thead>\n",
       "    <tr style=\"text-align: right;\">\n",
       "      <th></th>\n",
       "      <th>state</th>\n",
       "      <th>p_sequence</th>\n",
       "      <th>p_accession</th>\n",
       "      <th>date</th>\n",
       "      <th>count</th>\n",
       "      <th>n_accession</th>\n",
       "      <th>n_sequence</th>\n",
       "      <th>clade</th>\n",
       "      <th>timespan</th>\n",
       "      <th>region</th>\n",
       "      <th>color</th>\n",
       "    </tr>\n",
       "  </thead>\n",
       "  <tbody>\n",
       "    <tr>\n",
       "      <th>7531</th>\n",
       "      <td>NJ</td>\n",
       "      <td>\"MFVFLVLLPLVSSQCVNLRTRTQLPPAYTNSFTRGVYYPDKVFRS...</td>\n",
       "      <td>QZD09591</td>\n",
       "      <td>2021-07-01</td>\n",
       "      <td>750</td>\n",
       "      <td>MZ849750</td>\n",
       "      <td>CTGCATGCTTAGTGCACTCACGCAGTATAATTAATAACTAATTACT...</td>\n",
       "      <td>21A (Delta)</td>\n",
       "      <td>11</td>\n",
       "      <td>Northeast</td>\n",
       "      <td>rgb(136, 204, 238)</td>\n",
       "    </tr>\n",
       "    <tr>\n",
       "      <th>7608</th>\n",
       "      <td>FL</td>\n",
       "      <td>\"MFVFLVLLPLVSSQCVNLRTRTQLPPAYTNSFTRGVYYPDKVFRS...</td>\n",
       "      <td>QYJ42034</td>\n",
       "      <td>2021-07-02</td>\n",
       "      <td>393</td>\n",
       "      <td>MZ705184</td>\n",
       "      <td>CCAACTTTCGATCTCTTGTAGATCTGTTCTCTAAACGAACTTTAAA...</td>\n",
       "      <td>21A (Delta)</td>\n",
       "      <td>11</td>\n",
       "      <td>South</td>\n",
       "      <td>rgb(136, 204, 238)</td>\n",
       "    </tr>\n",
       "    <tr>\n",
       "      <th>7702</th>\n",
       "      <td>LA</td>\n",
       "      <td>\"MFVFLVLLPLVSSQCVNLRTRTQLPPAYTNSFTRGVYYPDKVFRS...</td>\n",
       "      <td>QXO37508</td>\n",
       "      <td>2021-07-05</td>\n",
       "      <td>129</td>\n",
       "      <td>MZ568101</td>\n",
       "      <td>AGGTTTATACCTTCCCAGGTAACAAACCAACCAACTTTCGATCTCT...</td>\n",
       "      <td>21J (Delta)</td>\n",
       "      <td>11</td>\n",
       "      <td>South</td>\n",
       "      <td>rgb(221, 204, 119)</td>\n",
       "    </tr>\n",
       "    <tr>\n",
       "      <th>6841</th>\n",
       "      <td>VA</td>\n",
       "      <td>\"MFVFLVLLPLVSSQCVNFTNRTQLPSAYTNSFTRGVYYPDKVFRS...</td>\n",
       "      <td>QXL91697</td>\n",
       "      <td>2021-06</td>\n",
       "      <td>95</td>\n",
       "      <td>MZ542744</td>\n",
       "      <td>CTTGTAGATCTGTTCTCTAAACGAACTTTAAAATCTGTGTGGCTGT...</td>\n",
       "      <td>21A (Delta)</td>\n",
       "      <td>10</td>\n",
       "      <td>South</td>\n",
       "      <td>rgb(136, 204, 238)</td>\n",
       "    </tr>\n",
       "    <tr>\n",
       "      <th>7622</th>\n",
       "      <td>TX</td>\n",
       "      <td>\"MFVFLVLLPLVSSQCVNLRTRTQLPPAYTNSFTRGVYYPDKVFRS...</td>\n",
       "      <td>QYB96653</td>\n",
       "      <td>2021-07-02</td>\n",
       "      <td>58</td>\n",
       "      <td>MZ655453</td>\n",
       "      <td>AGATCTGTTCTCTAAACGAACTTTAAAATCTGTGTGGCTGTCACTC...</td>\n",
       "      <td>21A (Delta)</td>\n",
       "      <td>11</td>\n",
       "      <td>South</td>\n",
       "      <td>rgb(136, 204, 238)</td>\n",
       "    </tr>\n",
       "    <tr>\n",
       "      <th>7607</th>\n",
       "      <td>FL</td>\n",
       "      <td>\"MFVFLVLLPLVSSQCVNLRTRTQLPPAYTNSFTRGVYYPDKVFRS...</td>\n",
       "      <td>QYJ41843</td>\n",
       "      <td>2021-07-02</td>\n",
       "      <td>57</td>\n",
       "      <td>MZ705167</td>\n",
       "      <td>ACCAACCAACTTTCGATCTCTTGTAGATCTGTTCTCTAAACGAACT...</td>\n",
       "      <td>21A (Delta)</td>\n",
       "      <td>11</td>\n",
       "      <td>South</td>\n",
       "      <td>rgb(136, 204, 238)</td>\n",
       "    </tr>\n",
       "    <tr>\n",
       "      <th>7542</th>\n",
       "      <td>TX</td>\n",
       "      <td>\"MFVFLVLLPLVSSQCVNLRTRTQLPPAYTNSFTRGVYYPDKVFRS...</td>\n",
       "      <td>QYP52957</td>\n",
       "      <td>2021-07-01</td>\n",
       "      <td>33</td>\n",
       "      <td>MZ742858</td>\n",
       "      <td>ACCAACCAACTTTCGATCTCTTGTAGATCTGTTCTCTAAACGAACT...</td>\n",
       "      <td>21A (Delta)</td>\n",
       "      <td>11</td>\n",
       "      <td>South</td>\n",
       "      <td>rgb(136, 204, 238)</td>\n",
       "    </tr>\n",
       "    <tr>\n",
       "      <th>7704</th>\n",
       "      <td>AL</td>\n",
       "      <td>\"MFVFLVLLPLVSSQCVNLRTRTQLPPAYTNSFTRGVYYPDKVFRS...</td>\n",
       "      <td>QZD01238</td>\n",
       "      <td>2021-07-06</td>\n",
       "      <td>29</td>\n",
       "      <td>MZ848991</td>\n",
       "      <td>ATAACTAATTACTGTCGTTGACAGGACACGAGTAACTCGTCTATCT...</td>\n",
       "      <td>21A (Delta)</td>\n",
       "      <td>11</td>\n",
       "      <td>South</td>\n",
       "      <td>rgb(136, 204, 238)</td>\n",
       "    </tr>\n",
       "    <tr>\n",
       "      <th>7749</th>\n",
       "      <td>LA</td>\n",
       "      <td>\"MFVFLVLLPLVSSQCVNLRTRTQLPPAYTNSFTRGVYYPDKVFRS...</td>\n",
       "      <td>QXQ22426</td>\n",
       "      <td>2021-07-06</td>\n",
       "      <td>29</td>\n",
       "      <td>MZ577498</td>\n",
       "      <td>GGTTTATACCTTCCCAGGTAACAAACCAACCAACTTTCGATCTCTT...</td>\n",
       "      <td>21J (Delta)</td>\n",
       "      <td>11</td>\n",
       "      <td>South</td>\n",
       "      <td>rgb(221, 204, 119)</td>\n",
       "    </tr>\n",
       "    <tr>\n",
       "      <th>7908</th>\n",
       "      <td>OH</td>\n",
       "      <td>\"MFVFLVLLPLVSSQCVNLRTRTQLPPAYTNSFTRGVYYPDKVFRS...</td>\n",
       "      <td>QYL32654</td>\n",
       "      <td>2021-07-11</td>\n",
       "      <td>28</td>\n",
       "      <td>MZ714377</td>\n",
       "      <td>ATTAAAGGTTTATACCTTCCCAGGTAACAAACCAACCAACTTTCGA...</td>\n",
       "      <td>21A (Delta)</td>\n",
       "      <td>11</td>\n",
       "      <td>Midwest</td>\n",
       "      <td>rgb(136, 204, 238)</td>\n",
       "    </tr>\n",
       "  </tbody>\n",
       "</table>\n",
       "</div>"
      ],
      "text/plain": [
       "     state                                         p_sequence p_accession  \\\n",
       "7531    NJ  \"MFVFLVLLPLVSSQCVNLRTRTQLPPAYTNSFTRGVYYPDKVFRS...    QZD09591   \n",
       "7608    FL  \"MFVFLVLLPLVSSQCVNLRTRTQLPPAYTNSFTRGVYYPDKVFRS...    QYJ42034   \n",
       "7702    LA  \"MFVFLVLLPLVSSQCVNLRTRTQLPPAYTNSFTRGVYYPDKVFRS...    QXO37508   \n",
       "6841    VA  \"MFVFLVLLPLVSSQCVNFTNRTQLPSAYTNSFTRGVYYPDKVFRS...    QXL91697   \n",
       "7622    TX  \"MFVFLVLLPLVSSQCVNLRTRTQLPPAYTNSFTRGVYYPDKVFRS...    QYB96653   \n",
       "7607    FL  \"MFVFLVLLPLVSSQCVNLRTRTQLPPAYTNSFTRGVYYPDKVFRS...    QYJ41843   \n",
       "7542    TX  \"MFVFLVLLPLVSSQCVNLRTRTQLPPAYTNSFTRGVYYPDKVFRS...    QYP52957   \n",
       "7704    AL  \"MFVFLVLLPLVSSQCVNLRTRTQLPPAYTNSFTRGVYYPDKVFRS...    QZD01238   \n",
       "7749    LA  \"MFVFLVLLPLVSSQCVNLRTRTQLPPAYTNSFTRGVYYPDKVFRS...    QXQ22426   \n",
       "7908    OH  \"MFVFLVLLPLVSSQCVNLRTRTQLPPAYTNSFTRGVYYPDKVFRS...    QYL32654   \n",
       "\n",
       "            date  count n_accession  \\\n",
       "7531  2021-07-01    750    MZ849750   \n",
       "7608  2021-07-02    393    MZ705184   \n",
       "7702  2021-07-05    129    MZ568101   \n",
       "6841     2021-06     95    MZ542744   \n",
       "7622  2021-07-02     58    MZ655453   \n",
       "7607  2021-07-02     57    MZ705167   \n",
       "7542  2021-07-01     33    MZ742858   \n",
       "7704  2021-07-06     29    MZ848991   \n",
       "7749  2021-07-06     29    MZ577498   \n",
       "7908  2021-07-11     28    MZ714377   \n",
       "\n",
       "                                             n_sequence        clade  \\\n",
       "7531  CTGCATGCTTAGTGCACTCACGCAGTATAATTAATAACTAATTACT...  21A (Delta)   \n",
       "7608  CCAACTTTCGATCTCTTGTAGATCTGTTCTCTAAACGAACTTTAAA...  21A (Delta)   \n",
       "7702  AGGTTTATACCTTCCCAGGTAACAAACCAACCAACTTTCGATCTCT...  21J (Delta)   \n",
       "6841  CTTGTAGATCTGTTCTCTAAACGAACTTTAAAATCTGTGTGGCTGT...  21A (Delta)   \n",
       "7622  AGATCTGTTCTCTAAACGAACTTTAAAATCTGTGTGGCTGTCACTC...  21A (Delta)   \n",
       "7607  ACCAACCAACTTTCGATCTCTTGTAGATCTGTTCTCTAAACGAACT...  21A (Delta)   \n",
       "7542  ACCAACCAACTTTCGATCTCTTGTAGATCTGTTCTCTAAACGAACT...  21A (Delta)   \n",
       "7704  ATAACTAATTACTGTCGTTGACAGGACACGAGTAACTCGTCTATCT...  21A (Delta)   \n",
       "7749  GGTTTATACCTTCCCAGGTAACAAACCAACCAACTTTCGATCTCTT...  21J (Delta)   \n",
       "7908  ATTAAAGGTTTATACCTTCCCAGGTAACAAACCAACCAACTTTCGA...  21A (Delta)   \n",
       "\n",
       "      timespan     region               color  \n",
       "7531        11  Northeast  rgb(136, 204, 238)  \n",
       "7608        11      South  rgb(136, 204, 238)  \n",
       "7702        11      South  rgb(221, 204, 119)  \n",
       "6841        10      South  rgb(136, 204, 238)  \n",
       "7622        11      South  rgb(136, 204, 238)  \n",
       "7607        11      South  rgb(136, 204, 238)  \n",
       "7542        11      South  rgb(136, 204, 238)  \n",
       "7704        11      South  rgb(136, 204, 238)  \n",
       "7749        11      South  rgb(221, 204, 119)  \n",
       "7908        11    Midwest  rgb(136, 204, 238)  "
      ]
     },
     "execution_count": 9,
     "metadata": {},
     "output_type": "execute_result"
    }
   ],
   "source": [
    "df_all_delta.sort_values('count', ascending = False)[0:10]"
   ]
  },
  {
   "cell_type": "code",
   "execution_count": 10,
   "id": "32a4684e",
   "metadata": {},
   "outputs": [],
   "source": [
    "from Bio import Align\n",
    "from Bio.Align import substitution_matrices\n",
    "import plotly.graph_objects as go\n",
    "from plotly.subplots import make_subplots\n",
    "import numpy as np"
   ]
  },
  {
   "cell_type": "code",
   "execution_count": 11,
   "id": "7ee5f763",
   "metadata": {},
   "outputs": [],
   "source": [
    "def make_aligner():\n",
    "    aligner = Align.PairwiseAligner(match = 4,\n",
    "         mismatch = -1, \n",
    "         target_open_gap_score = -1000, \n",
    "         target_extend_gap_score  = -1000,\n",
    "         query_open_gap_score = -20,\n",
    "         query_extend_gap_score = -4) # parameters from this paper https://www.ncbi.nlm.nih.gov/pmc/articles/PMC7314508/\n",
    "\n",
    "    substitution_matrices.load() \n",
    "    matrix = substitution_matrices.load(\"BLOSUM62\")\n",
    "    aligner.substitution_matrix = matrix\n",
    "    return aligner\n",
    "\n",
    "def get_relevent_seqs(baseline, other):\n",
    "    aligner = make_aligner()\n",
    "    alignments = aligner.align(baseline['p_sequence'][1:-1], other['p_sequence'][1:-1])\n",
    "    return alignments"
   ]
  },
  {
   "cell_type": "code",
   "execution_count": 12,
   "id": "11dccc95",
   "metadata": {},
   "outputs": [],
   "source": [
    "   \n",
    "def calc_traces_labels_and_subtitle(baseline, other, y_height, showlegend = False, clades_in_legend = [], debug = False):\n",
    "    alignments = get_relevent_seqs(baseline, other)\n",
    "    target, query = baseline['p_accession'][1:-1], other['p_accession'][1:-1]\n",
    "    string_alignments = alignments[0].format().split('\\n')\n",
    "    target = string_alignments[0]\n",
    "    match_type = string_alignments[1]\n",
    "    query = string_alignments[2]\n",
    "    length = len(target)\n",
    "    if debug:\n",
    "        print(length)\n",
    "        \n",
    "    x_insert =[None]\n",
    "    x_delete =[None]\n",
    "    x_sub_low =[None]\n",
    "    x_sub_high =[None] # none means it will show in legend even when there is no data\n",
    "    labels = {'insert':[None], 'delete':[None], 'low':[None], 'high':[None]}\n",
    "\n",
    "    yshift = 18\n",
    "    level = 0\n",
    "    for i in range(0, length):\n",
    "        if match_type[i] == '.':\n",
    "            # substitution, low conservation\n",
    "            x_sub_low.append(i + 1)\n",
    "            labels['low'].append(target[i] + str(i + 1) + query[i])\n",
    "        elif match_type[i] == ':':\n",
    "            # subsitution, high conservation\n",
    "            x_sub_high.append(i+1)\n",
    "            labels['high'].append(target[i] + str(i + 1) + query[i])\n",
    "        elif match_type[i] == '-':\n",
    "            # deletion or insertion\n",
    "            if target[i] =='-':\n",
    "                # insertion\n",
    "                x_insert.append(i+ 1)\n",
    "                labels['insert'].append(str(i+ 1) + query[i])\n",
    "            else: \n",
    "                # deletion (alg not allowed to match gap to gap)\n",
    "                x_delete.append(i+1)\n",
    "                labels['delete'].append(target[i] + str(i+1))\n",
    "                \n",
    "    flat_labels = set(labels['insert'] + labels['delete'] + labels['low'] + labels['high'])\n",
    "    # sort by index\n",
    "    flat_labels.remove(None)\n",
    "                \n",
    "    total = len(x_insert)+ len(x_delete) +len(x_sub_low) + len(x_sub_high) - 4 # total number of changes\n",
    "    if total == 0:\n",
    "        total = 1 # exact match, won't affect bars because each is 0, do want to avoid division by zero\n",
    "    counts = [len(x_insert)-1, len(x_delete) - 1, len(x_sub_low) -1 , len(x_sub_high) - 1 ]\n",
    "    names = ['Insertions', 'Deletions', 'Substitution, semi-conservative', 'Substitution, conservative']\n",
    "    \n",
    "    if debug:\n",
    "        print(total)\n",
    "\n",
    "    score_percentage = (alignments[0].score / 6722)# best score is when all positions match, match contributes score of 4\n",
    "    \n",
    "    if other[\"clade\"] not in clades_in_legend:\n",
    "        clades_in_legend = True\n",
    "    else:\n",
    "        clades_in_legend = False\n",
    "    \n",
    "    traces =  [go.Scatter( # base gray line\n",
    "            mode = \"lines\",\n",
    "            x =  [1, length],\n",
    "            y = [y_height, y_height], \n",
    "            name = \"sequence line\",\n",
    "            line = {'color':  'gray'},\n",
    "            showlegend = False,\n",
    "            hoverinfo = 'skip',\n",
    "            visible = True,\n",
    "            yaxis='y'\n",
    "        ),\n",
    "        go.Bar(\n",
    "           name = other[\"clade\"],\n",
    "           y = [y_height],\n",
    "           x= [1278],\n",
    "           orientation = 'h',\n",
    "           yaxis = 'y',\n",
    "           #width = 100,\n",
    "           marker_color = \"rgba(\" +other['color'][4:-1] + \", 0.15)\",\n",
    "           showlegend = clades_in_legend,\n",
    "           legendgroup = \"Clade\",\n",
    "            legendgrouptitle_text = \"Clade\",\n",
    "            legendgrouptitle_font_size = 14,\n",
    "           visible = True,\n",
    "           #marker_line_width = 0,\n",
    "           customdata=  pd.DataFrame(data=[[other['clade'], other['count'], len(x_insert) - 1, len(x_delete)-1, len(x_sub_low) - 1, len(x_sub_high)-1]], columns=['clade', 'count', 'insertions', 'deletions','sublow', 'subhigh']),\n",
    "           hovertemplate = \"<b>%{y}</b><br>Clade: %{customdata[0]}<br>Count: %{customdata[1]}<br><br>%{customdata[2]} inserts<br>%{customdata[3]} deletions<br>%{customdata[4]} semi-comservative substitutions<br>%{customdata[5]} conservative substitutions<extra></extra>\"\n",
    "        ),\n",
    "         go.Scatter( # S1  line\n",
    "            mode = \"lines\",\n",
    "            x =  [14, 685],\n",
    "            y = [y_height, y_height], \n",
    "            name = \"S1\",\n",
    "            line = {'color':  'plum', 'width' : 3},\n",
    "            legendgroup = 'Subunit',\n",
    "            showlegend = showlegend,\n",
    "             legendgrouptitle_text = \"Subunit\",\n",
    "             legendgrouptitle_font_size = 14,\n",
    "            hoverinfo = 'skip',\n",
    "            visible = True,\n",
    "            yaxis='y2'\n",
    "        ),\n",
    "         go.Scatter( # S2  line\n",
    "            mode = \"lines\",\n",
    "            x =  [686, 1273],\n",
    "            y = [y_height, y_height], \n",
    "            name = \"S2\",\n",
    "            line = {'color':  'pink', 'width':3},\n",
    "            legendgroup = 'Subunit',\n",
    "            showlegend = showlegend,\n",
    "            hoverinfo = 'skip',\n",
    "            visible = True,\n",
    "            yaxis='y2'\n",
    "        ),\n",
    "        go.Scatter( # insert markers\n",
    "            mode = \"markers\",\n",
    "            x = x_insert ,\n",
    "            y = [y_height for y in x_insert], \n",
    "            text = labels['insert'],\n",
    "            name = \"insertion\",\n",
    "            marker=dict(size=6, color = 'orange', symbol = 'square'),\n",
    "            legendgroup = 'changes',\n",
    "            showlegend = showlegend,\n",
    "            legendgrouptitle_text = \"Sequence Difference\",\n",
    "            legendgrouptitle_font_size = 14,\n",
    "            hoverinfo = 'text',\n",
    "            visible = True,\n",
    "             yaxis='y2'\n",
    "        ),\n",
    "          go.Scatter( # delete markers\n",
    "            mode = \"markers\",\n",
    "            x = x_delete,\n",
    "            y = [y_height for y in x_delete], \n",
    "            name = \"deletion\",\n",
    "            marker=dict(size=6, color = 'red', symbol = 'square'),\n",
    "            legendgroup = 'changes',\n",
    "            showlegend = showlegend,\n",
    "            text = labels['delete'],\n",
    "            hoverinfo = 'text',\n",
    "            visible = True,\n",
    "               yaxis='y2'\n",
    "        ),\n",
    "         go.Scatter( # sub semi markers\n",
    "            mode = \"markers\",\n",
    "            x = x_sub_low ,\n",
    "            y = [y_height for y in x_sub_low], \n",
    "            name = \"substitution, semi-conservative\",\n",
    "            marker=dict(size=6, color = 'blue', symbol = 'circle'),\n",
    "            legendgroup = 'changes',\n",
    "             showlegend = showlegend,\n",
    "            text = labels['low'],\n",
    "            hoverinfo = 'text',\n",
    "            visible = True,\n",
    "              yaxis='y2'\n",
    "        ),\n",
    "          go.Scatter( # sub conservative markers\n",
    "            mode = \"markers\",\n",
    "            x = x_sub_high ,\n",
    "            y = [y_height for y in x_sub_high], \n",
    "            name = \"substitution, conservative\",\n",
    "            marker=dict(size=6, color = 'green', symbol = 'circle'),\n",
    "            legendgroup = 'changes',\n",
    "            showlegend = showlegend,\n",
    "            text = labels['high'],\n",
    "            hoverinfo = 'text',\n",
    "            visible = True,\n",
    "               yaxis='y2'\n",
    "        )\n",
    "\n",
    "    ]\n",
    "    \n",
    "    score_label = {'x':1300, 'y':y_height ,'text': \"{:.2f}%\".format(score_percentage * 100) ,'font': { 'size': 14},'showarrow':False, 'xanchor':'left', 'yanchor':'middle' }\n",
    "    return dict(data = traces,  score_label = score_label, changes = flat_labels)\n",
    "        \n"
   ]
  },
  {
   "cell_type": "code",
   "execution_count": 13,
   "id": "bc135bcd",
   "metadata": {},
   "outputs": [],
   "source": [
    "\n",
    "def plot_alignment_plotly(df_all_delta, top_19A, save = False, debug = False):\n",
    "    df = df_all_delta.sort_values('count', ascending = False)[0:10]\n",
    "    \n",
    "    # build traces and tick labels\n",
    "    traces = []\n",
    "    accessions = []\n",
    "    annotations = []\n",
    "    clades = []\n",
    "    shared_changes = None\n",
    "    for i in range(10):\n",
    "        row = df.iloc[i]\n",
    "        if i == 0:\n",
    "            s = True\n",
    "        else:\n",
    "            s  = False\n",
    "        r = calc_traces_labels_and_subtitle(top_19A, row, 9.5 - i, showlegend = s, clades_in_legend =clades )\n",
    "        clades.append(row['clade'])\n",
    "        traces.extend(r['data'])\n",
    "        accessions.append(row['p_accession'])\n",
    "        annotations.append(r['score_label']['text'])\n",
    "        if i == 0:\n",
    "            shared_changes = r['changes']\n",
    "        else:\n",
    "            shared_changes = shared_changes.intersection(r['changes'])\n",
    "    accessions.reverse()\n",
    "    \n",
    "    # sort the changes by index\n",
    "    def get_index_from_label(label):\n",
    "        try:\n",
    "            l = int(label[1:]) # insertion\n",
    "        except:\n",
    "            try:\n",
    "                l = int(label[:-1]) # deletion\n",
    "            except:\n",
    "                l = int(label[1:-1])\n",
    "        return l\n",
    "    shared_changes = list(shared_changes)\n",
    "    shared_changes.sort(key = get_index_from_label)\n",
    "    shared_changes_str = ''\n",
    "    if len(shared_changes) < 4:\n",
    "        shared_changes_str = ', '.join(shared_changes)\n",
    "    else:\n",
    "        n = 0\n",
    "        s = iter(shared_changes)\n",
    "        for a,b,c in zip(s,s,s):\n",
    "            shared_changes_str = shared_changes_str + '<br>' + \"        \"+ ', '.join([a,b,c]) +','\n",
    "            n = n + 3\n",
    "        # check if 1 or 2 left\n",
    "        n = len(shared_changes) - n\n",
    "        if n > 0:\n",
    "            shared_changes_str = shared_changes_str +\"<br>\" + \"        \"+ ', '.join(shared_changes[-n:])\n",
    "    \n",
    "    fig = go.Figure(traces)\n",
    "    \n",
    "    for change in shared_changes:\n",
    "        i = get_index_from_label(change)\n",
    "        fig.add_shape(\n",
    "               type=\"line\",\n",
    "                x0= i, y0=0.1, x1= i, y1=9.9,\n",
    "                line=dict(color=\"orange\", width = 1),\n",
    "            layer = 'below',\n",
    "        )\n",
    "    \n",
    "    fig.update_xaxes(\n",
    "            range = [-15,1288],\n",
    "            showgrid=False, # thin lines in the background\n",
    "            showspikes = True, # spike line draws a vertical line when hover on a substitution/insertion/deletion\n",
    "            spikemode = 'across',\n",
    "            spikethickness = 1,\n",
    "            title = \"Index\"\n",
    "            )\n",
    "\n",
    "    fig.update_yaxes(\n",
    "            range =[0,10],\n",
    "            showgrid= False, # thin lines in the background\n",
    "            )\n",
    "    \n",
    "    fig.update_layout(plot_bgcolor='white',\n",
    "                      height=700,\n",
    "                      width = 1200,\n",
    "                      barmode = 'overlay',\n",
    "                      title = \"Top 10 Delta Sequences: Spike Protien Comparison to Top 19A Sequence\",\n",
    "                      legend=dict(\n",
    "                                yanchor=\"top\",\n",
    "                                y=1,\n",
    "                                xanchor=\"left\",\n",
    "                                x=1.2,\n",
    "                                  font_size = 14  \n",
    "                    ),\n",
    "                      bargap=0,\n",
    "                    annotations= [dict(text = \"Shared Changes: {0}\".format(shared_changes_str),\n",
    "                                       xref='paper',yref='paper',x = 1.21, y = 0, xanchor = 'left', yanchor = 'bottom',\n",
    "                                       bordercolor='orange', borderwidth=1, showarrow = False, \n",
    "                                       align = 'left', borderpad = 4,\n",
    "                                       font_size = 14)],\n",
    "                    yaxis=dict(title='Accession', range=(0, 10),\n",
    "                               title_font_size = 14,\n",
    "                              tickmode = 'array',\n",
    "                              tickvals = [i+0.5 for i in range(0,10)],\n",
    "                              ticktext = accessions,\n",
    "                              tickfont = dict(size = 14)),\n",
    "                    yaxis2=dict(title='Alignment Score', range=(0, 10) ,overlaying=\"y\",\n",
    "                                title_font_size = 14,\n",
    "                                side='right' ,\n",
    "                                tickmode = 'array',\n",
    "                                tickvals = [i+0.5 for i in range(0,10)],\n",
    "                                ticktext = annotations,\n",
    "                                tickfont = dict(size = 14)\n",
    "                               )\n",
    "    )    \n",
    "    config = dict(scrollZoom = False, doubleClick = 'reset', displayModeBar = True,\n",
    "                  modeBarButtonsToRemove=['zoom2d','zoomIn2d', 'zoomOut2d','autoScale2d','lasso2d','select2d'])\n",
    "    fig.show(config = config)\n",
    "    if save:\n",
    "        fig.write_html('../../visualizations/compare_delta.html', config = config)\n",
    "        # center\n",
    "        with open('../../visualizations/compare_delta.html', 'r') as f:\n",
    "            lines = f.readlines()\n",
    "        lines = [\"<center>\\n\"] + lines + [\"</center>\\n\"]    \n",
    "        with open('../../visualizations/compare_delta.html', 'w') as f:\n",
    "            f.writelines(lines)\n",
    "        # save svg\n",
    "        fig.write_image('../../visualizations/compare_delta.svg')"
   ]
  },
  {
   "cell_type": "code",
   "execution_count": 14,
   "id": "47b96c01",
   "metadata": {},
   "outputs": [
    {
     "data": {
      "application/vnd.plotly.v1+json": {
       "config": {
        "displayModeBar": true,
        "doubleClick": "reset",
        "modeBarButtonsToRemove": [
         "zoom2d",
         "zoomIn2d",
         "zoomOut2d",
         "autoScale2d",
         "lasso2d",
         "select2d"
        ],
        "plotlyServerURL": "https://plot.ly",
        "scrollZoom": false
       },
       "data": [
        {
         "hoverinfo": "skip",
         "line": {
          "color": "gray"
         },
         "mode": "lines",
         "name": "sequence line",
         "showlegend": false,
         "type": "scatter",
         "visible": true,
         "x": [
          1,
          1273
         ],
         "y": [
          9.5,
          9.5
         ],
         "yaxis": "y"
        },
        {
         "customdata": [
          [
           "21A (Delta)",
           750,
           0,
           2,
           10,
           0
          ]
         ],
         "hovertemplate": "<b>%{y}</b><br>Clade: %{customdata[0]}<br>Count: %{customdata[1]}<br><br>%{customdata[2]} inserts<br>%{customdata[3]} deletions<br>%{customdata[4]} semi-comservative substitutions<br>%{customdata[5]} conservative substitutions<extra></extra>",
         "legendgroup": "Clade",
         "legendgrouptitle": {
          "font": {
           "size": 14
          },
          "text": "Clade"
         },
         "marker": {
          "color": "rgba(136, 204, 238, 0.15)"
         },
         "name": "21A (Delta)",
         "orientation": "h",
         "showlegend": true,
         "type": "bar",
         "visible": true,
         "x": [
          1278
         ],
         "y": [
          9.5
         ],
         "yaxis": "y"
        },
        {
         "hoverinfo": "skip",
         "legendgroup": "Subunit",
         "legendgrouptitle": {
          "font": {
           "size": 14
          },
          "text": "Subunit"
         },
         "line": {
          "color": "plum",
          "width": 3
         },
         "mode": "lines",
         "name": "S1",
         "showlegend": true,
         "type": "scatter",
         "visible": true,
         "x": [
          14,
          685
         ],
         "y": [
          9.5,
          9.5
         ],
         "yaxis": "y2"
        },
        {
         "hoverinfo": "skip",
         "legendgroup": "Subunit",
         "line": {
          "color": "pink",
          "width": 3
         },
         "mode": "lines",
         "name": "S2",
         "showlegend": true,
         "type": "scatter",
         "visible": true,
         "x": [
          686,
          1273
         ],
         "y": [
          9.5,
          9.5
         ],
         "yaxis": "y2"
        },
        {
         "hoverinfo": "text",
         "legendgroup": "changes",
         "legendgrouptitle": {
          "font": {
           "size": 14
          },
          "text": "Sequence Difference"
         },
         "marker": {
          "color": "orange",
          "size": 6,
          "symbol": "square"
         },
         "mode": "markers",
         "name": "insertion",
         "showlegend": true,
         "text": [
          null
         ],
         "type": "scatter",
         "visible": true,
         "x": [
          null
         ],
         "y": [
          9.5
         ],
         "yaxis": "y2"
        },
        {
         "hoverinfo": "text",
         "legendgroup": "changes",
         "marker": {
          "color": "red",
          "size": 6,
          "symbol": "square"
         },
         "mode": "markers",
         "name": "deletion",
         "showlegend": true,
         "text": [
          null,
          "E156",
          "F157"
         ],
         "type": "scatter",
         "visible": true,
         "x": [
          null,
          156,
          157
         ],
         "y": [
          9.5,
          9.5,
          9.5
         ],
         "yaxis": "y2"
        },
        {
         "hoverinfo": "text",
         "legendgroup": "changes",
         "marker": {
          "color": "blue",
          "size": 6,
          "symbol": "circle"
         },
         "mode": "markers",
         "name": "substitution, semi-conservative",
         "showlegend": true,
         "text": [
          null,
          "F5L",
          "T19R",
          "K77T",
          "G142D",
          "R158G",
          "L452R",
          "T478K",
          "D614G",
          "P681R",
          "D950N"
         ],
         "type": "scatter",
         "visible": true,
         "x": [
          null,
          5,
          19,
          77,
          142,
          158,
          452,
          478,
          614,
          681,
          950
         ],
         "y": [
          9.5,
          9.5,
          9.5,
          9.5,
          9.5,
          9.5,
          9.5,
          9.5,
          9.5,
          9.5,
          9.5
         ],
         "yaxis": "y2"
        },
        {
         "hoverinfo": "text",
         "legendgroup": "changes",
         "marker": {
          "color": "green",
          "size": 6,
          "symbol": "circle"
         },
         "mode": "markers",
         "name": "substitution, conservative",
         "showlegend": true,
         "text": [
          null
         ],
         "type": "scatter",
         "visible": true,
         "x": [
          null
         ],
         "y": [
          9.5
         ],
         "yaxis": "y2"
        },
        {
         "hoverinfo": "skip",
         "line": {
          "color": "gray"
         },
         "mode": "lines",
         "name": "sequence line",
         "showlegend": false,
         "type": "scatter",
         "visible": true,
         "x": [
          1,
          1273
         ],
         "y": [
          8.5,
          8.5
         ],
         "yaxis": "y"
        },
        {
         "customdata": [
          [
           "21A (Delta)",
           393,
           0,
           2,
           9,
           0
          ]
         ],
         "hovertemplate": "<b>%{y}</b><br>Clade: %{customdata[0]}<br>Count: %{customdata[1]}<br><br>%{customdata[2]} inserts<br>%{customdata[3]} deletions<br>%{customdata[4]} semi-comservative substitutions<br>%{customdata[5]} conservative substitutions<extra></extra>",
         "legendgroup": "Clade",
         "legendgrouptitle": {
          "font": {
           "size": 14
          },
          "text": "Clade"
         },
         "marker": {
          "color": "rgba(136, 204, 238, 0.15)"
         },
         "name": "21A (Delta)",
         "orientation": "h",
         "showlegend": false,
         "type": "bar",
         "visible": true,
         "x": [
          1278
         ],
         "y": [
          8.5
         ],
         "yaxis": "y"
        },
        {
         "hoverinfo": "skip",
         "legendgroup": "Subunit",
         "legendgrouptitle": {
          "font": {
           "size": 14
          },
          "text": "Subunit"
         },
         "line": {
          "color": "plum",
          "width": 3
         },
         "mode": "lines",
         "name": "S1",
         "showlegend": false,
         "type": "scatter",
         "visible": true,
         "x": [
          14,
          685
         ],
         "y": [
          8.5,
          8.5
         ],
         "yaxis": "y2"
        },
        {
         "hoverinfo": "skip",
         "legendgroup": "Subunit",
         "line": {
          "color": "pink",
          "width": 3
         },
         "mode": "lines",
         "name": "S2",
         "showlegend": false,
         "type": "scatter",
         "visible": true,
         "x": [
          686,
          1273
         ],
         "y": [
          8.5,
          8.5
         ],
         "yaxis": "y2"
        },
        {
         "hoverinfo": "text",
         "legendgroup": "changes",
         "legendgrouptitle": {
          "font": {
           "size": 14
          },
          "text": "Sequence Difference"
         },
         "marker": {
          "color": "orange",
          "size": 6,
          "symbol": "square"
         },
         "mode": "markers",
         "name": "insertion",
         "showlegend": false,
         "text": [
          null
         ],
         "type": "scatter",
         "visible": true,
         "x": [
          null
         ],
         "y": [
          8.5
         ],
         "yaxis": "y2"
        },
        {
         "hoverinfo": "text",
         "legendgroup": "changes",
         "marker": {
          "color": "red",
          "size": 6,
          "symbol": "square"
         },
         "mode": "markers",
         "name": "deletion",
         "showlegend": false,
         "text": [
          null,
          "E156",
          "F157"
         ],
         "type": "scatter",
         "visible": true,
         "x": [
          null,
          156,
          157
         ],
         "y": [
          8.5,
          8.5,
          8.5
         ],
         "yaxis": "y2"
        },
        {
         "hoverinfo": "text",
         "legendgroup": "changes",
         "marker": {
          "color": "blue",
          "size": 6,
          "symbol": "circle"
         },
         "mode": "markers",
         "name": "substitution, semi-conservative",
         "showlegend": false,
         "text": [
          null,
          "F5L",
          "T19R",
          "K77T",
          "R158G",
          "L452R",
          "T478K",
          "D614G",
          "P681R",
          "D950N"
         ],
         "type": "scatter",
         "visible": true,
         "x": [
          null,
          5,
          19,
          77,
          158,
          452,
          478,
          614,
          681,
          950
         ],
         "y": [
          8.5,
          8.5,
          8.5,
          8.5,
          8.5,
          8.5,
          8.5,
          8.5,
          8.5,
          8.5
         ],
         "yaxis": "y2"
        },
        {
         "hoverinfo": "text",
         "legendgroup": "changes",
         "marker": {
          "color": "green",
          "size": 6,
          "symbol": "circle"
         },
         "mode": "markers",
         "name": "substitution, conservative",
         "showlegend": false,
         "text": [
          null
         ],
         "type": "scatter",
         "visible": true,
         "x": [
          null
         ],
         "y": [
          8.5
         ],
         "yaxis": "y2"
        },
        {
         "hoverinfo": "skip",
         "line": {
          "color": "gray"
         },
         "mode": "lines",
         "name": "sequence line",
         "showlegend": false,
         "type": "scatter",
         "visible": true,
         "x": [
          1,
          1273
         ],
         "y": [
          7.5,
          7.5
         ],
         "yaxis": "y"
        },
        {
         "customdata": [
          [
           "21J (Delta)",
           129,
           0,
           0,
           9,
           0
          ]
         ],
         "hovertemplate": "<b>%{y}</b><br>Clade: %{customdata[0]}<br>Count: %{customdata[1]}<br><br>%{customdata[2]} inserts<br>%{customdata[3]} deletions<br>%{customdata[4]} semi-comservative substitutions<br>%{customdata[5]} conservative substitutions<extra></extra>",
         "legendgroup": "Clade",
         "legendgrouptitle": {
          "font": {
           "size": 14
          },
          "text": "Clade"
         },
         "marker": {
          "color": "rgba(221, 204, 119, 0.15)"
         },
         "name": "21J (Delta)",
         "orientation": "h",
         "showlegend": true,
         "type": "bar",
         "visible": true,
         "x": [
          1278
         ],
         "y": [
          7.5
         ],
         "yaxis": "y"
        },
        {
         "hoverinfo": "skip",
         "legendgroup": "Subunit",
         "legendgrouptitle": {
          "font": {
           "size": 14
          },
          "text": "Subunit"
         },
         "line": {
          "color": "plum",
          "width": 3
         },
         "mode": "lines",
         "name": "S1",
         "showlegend": false,
         "type": "scatter",
         "visible": true,
         "x": [
          14,
          685
         ],
         "y": [
          7.5,
          7.5
         ],
         "yaxis": "y2"
        },
        {
         "hoverinfo": "skip",
         "legendgroup": "Subunit",
         "line": {
          "color": "pink",
          "width": 3
         },
         "mode": "lines",
         "name": "S2",
         "showlegend": false,
         "type": "scatter",
         "visible": true,
         "x": [
          686,
          1273
         ],
         "y": [
          7.5,
          7.5
         ],
         "yaxis": "y2"
        },
        {
         "hoverinfo": "text",
         "legendgroup": "changes",
         "legendgrouptitle": {
          "font": {
           "size": 14
          },
          "text": "Sequence Difference"
         },
         "marker": {
          "color": "orange",
          "size": 6,
          "symbol": "square"
         },
         "mode": "markers",
         "name": "insertion",
         "showlegend": false,
         "text": [
          null
         ],
         "type": "scatter",
         "visible": true,
         "x": [
          null
         ],
         "y": [
          7.5
         ],
         "yaxis": "y2"
        },
        {
         "hoverinfo": "text",
         "legendgroup": "changes",
         "marker": {
          "color": "red",
          "size": 6,
          "symbol": "square"
         },
         "mode": "markers",
         "name": "deletion",
         "showlegend": false,
         "text": [
          null
         ],
         "type": "scatter",
         "visible": true,
         "x": [
          null
         ],
         "y": [
          7.5
         ],
         "yaxis": "y2"
        },
        {
         "hoverinfo": "text",
         "legendgroup": "changes",
         "marker": {
          "color": "blue",
          "size": 6,
          "symbol": "circle"
         },
         "mode": "markers",
         "name": "substitution, semi-conservative",
         "showlegend": false,
         "text": [
          null,
          "F5L",
          "T19R",
          "F157C",
          "R158G",
          "L452R",
          "T478K",
          "D614G",
          "P681R",
          "D950N"
         ],
         "type": "scatter",
         "visible": true,
         "x": [
          null,
          5,
          19,
          157,
          158,
          452,
          478,
          614,
          681,
          950
         ],
         "y": [
          7.5,
          7.5,
          7.5,
          7.5,
          7.5,
          7.5,
          7.5,
          7.5,
          7.5,
          7.5
         ],
         "yaxis": "y2"
        },
        {
         "hoverinfo": "text",
         "legendgroup": "changes",
         "marker": {
          "color": "green",
          "size": 6,
          "symbol": "circle"
         },
         "mode": "markers",
         "name": "substitution, conservative",
         "showlegend": false,
         "text": [
          null
         ],
         "type": "scatter",
         "visible": true,
         "x": [
          null
         ],
         "y": [
          7.5
         ],
         "yaxis": "y2"
        },
        {
         "hoverinfo": "skip",
         "line": {
          "color": "gray"
         },
         "mode": "lines",
         "name": "sequence line",
         "showlegend": false,
         "type": "scatter",
         "visible": true,
         "x": [
          1,
          1273
         ],
         "y": [
          6.5,
          6.5
         ],
         "yaxis": "y"
        },
        {
         "customdata": [
          [
           "21A (Delta)",
           95,
           0,
           0,
           16,
           0
          ]
         ],
         "hovertemplate": "<b>%{y}</b><br>Clade: %{customdata[0]}<br>Count: %{customdata[1]}<br><br>%{customdata[2]} inserts<br>%{customdata[3]} deletions<br>%{customdata[4]} semi-comservative substitutions<br>%{customdata[5]} conservative substitutions<extra></extra>",
         "legendgroup": "Clade",
         "legendgrouptitle": {
          "font": {
           "size": 14
          },
          "text": "Clade"
         },
         "marker": {
          "color": "rgba(136, 204, 238, 0.15)"
         },
         "name": "21A (Delta)",
         "orientation": "h",
         "showlegend": false,
         "type": "bar",
         "visible": true,
         "x": [
          1278
         ],
         "y": [
          6.5
         ],
         "yaxis": "y"
        },
        {
         "hoverinfo": "skip",
         "legendgroup": "Subunit",
         "legendgrouptitle": {
          "font": {
           "size": 14
          },
          "text": "Subunit"
         },
         "line": {
          "color": "plum",
          "width": 3
         },
         "mode": "lines",
         "name": "S1",
         "showlegend": false,
         "type": "scatter",
         "visible": true,
         "x": [
          14,
          685
         ],
         "y": [
          6.5,
          6.5
         ],
         "yaxis": "y2"
        },
        {
         "hoverinfo": "skip",
         "legendgroup": "Subunit",
         "line": {
          "color": "pink",
          "width": 3
         },
         "mode": "lines",
         "name": "S2",
         "showlegend": false,
         "type": "scatter",
         "visible": true,
         "x": [
          686,
          1273
         ],
         "y": [
          6.5,
          6.5
         ],
         "yaxis": "y2"
        },
        {
         "hoverinfo": "text",
         "legendgroup": "changes",
         "legendgrouptitle": {
          "font": {
           "size": 14
          },
          "text": "Sequence Difference"
         },
         "marker": {
          "color": "orange",
          "size": 6,
          "symbol": "square"
         },
         "mode": "markers",
         "name": "insertion",
         "showlegend": false,
         "text": [
          null
         ],
         "type": "scatter",
         "visible": true,
         "x": [
          null
         ],
         "y": [
          6.5
         ],
         "yaxis": "y2"
        },
        {
         "hoverinfo": "text",
         "legendgroup": "changes",
         "marker": {
          "color": "red",
          "size": 6,
          "symbol": "square"
         },
         "mode": "markers",
         "name": "deletion",
         "showlegend": false,
         "text": [
          null
         ],
         "type": "scatter",
         "visible": true,
         "x": [
          null
         ],
         "y": [
          6.5
         ],
         "yaxis": "y2"
        },
        {
         "hoverinfo": "text",
         "legendgroup": "changes",
         "marker": {
          "color": "blue",
          "size": 6,
          "symbol": "circle"
         },
         "mode": "markers",
         "name": "substitution, semi-conservative",
         "showlegend": false,
         "text": [
          null,
          "F5L",
          "L18F",
          "T20N",
          "P26S",
          "D138Y",
          "R190S",
          "K417T",
          "E484K",
          "N501Y",
          "D614G",
          "A653V",
          "H655Y",
          "A688V",
          "A1020S",
          "T1027I",
          "V1176F"
         ],
         "type": "scatter",
         "visible": true,
         "x": [
          null,
          5,
          18,
          20,
          26,
          138,
          190,
          417,
          484,
          501,
          614,
          653,
          655,
          688,
          1020,
          1027,
          1176
         ],
         "y": [
          6.5,
          6.5,
          6.5,
          6.5,
          6.5,
          6.5,
          6.5,
          6.5,
          6.5,
          6.5,
          6.5,
          6.5,
          6.5,
          6.5,
          6.5,
          6.5,
          6.5
         ],
         "yaxis": "y2"
        },
        {
         "hoverinfo": "text",
         "legendgroup": "changes",
         "marker": {
          "color": "green",
          "size": 6,
          "symbol": "circle"
         },
         "mode": "markers",
         "name": "substitution, conservative",
         "showlegend": false,
         "text": [
          null
         ],
         "type": "scatter",
         "visible": true,
         "x": [
          null
         ],
         "y": [
          6.5
         ],
         "yaxis": "y2"
        },
        {
         "hoverinfo": "skip",
         "line": {
          "color": "gray"
         },
         "mode": "lines",
         "name": "sequence line",
         "showlegend": false,
         "type": "scatter",
         "visible": true,
         "x": [
          1,
          1273
         ],
         "y": [
          5.5,
          5.5
         ],
         "yaxis": "y"
        },
        {
         "customdata": [
          [
           "21A (Delta)",
           58,
           0,
           2,
           11,
           0
          ]
         ],
         "hovertemplate": "<b>%{y}</b><br>Clade: %{customdata[0]}<br>Count: %{customdata[1]}<br><br>%{customdata[2]} inserts<br>%{customdata[3]} deletions<br>%{customdata[4]} semi-comservative substitutions<br>%{customdata[5]} conservative substitutions<extra></extra>",
         "legendgroup": "Clade",
         "legendgrouptitle": {
          "font": {
           "size": 14
          },
          "text": "Clade"
         },
         "marker": {
          "color": "rgba(136, 204, 238, 0.15)"
         },
         "name": "21A (Delta)",
         "orientation": "h",
         "showlegend": false,
         "type": "bar",
         "visible": true,
         "x": [
          1278
         ],
         "y": [
          5.5
         ],
         "yaxis": "y"
        },
        {
         "hoverinfo": "skip",
         "legendgroup": "Subunit",
         "legendgrouptitle": {
          "font": {
           "size": 14
          },
          "text": "Subunit"
         },
         "line": {
          "color": "plum",
          "width": 3
         },
         "mode": "lines",
         "name": "S1",
         "showlegend": false,
         "type": "scatter",
         "visible": true,
         "x": [
          14,
          685
         ],
         "y": [
          5.5,
          5.5
         ],
         "yaxis": "y2"
        },
        {
         "hoverinfo": "skip",
         "legendgroup": "Subunit",
         "line": {
          "color": "pink",
          "width": 3
         },
         "mode": "lines",
         "name": "S2",
         "showlegend": false,
         "type": "scatter",
         "visible": true,
         "x": [
          686,
          1273
         ],
         "y": [
          5.5,
          5.5
         ],
         "yaxis": "y2"
        },
        {
         "hoverinfo": "text",
         "legendgroup": "changes",
         "legendgrouptitle": {
          "font": {
           "size": 14
          },
          "text": "Sequence Difference"
         },
         "marker": {
          "color": "orange",
          "size": 6,
          "symbol": "square"
         },
         "mode": "markers",
         "name": "insertion",
         "showlegend": false,
         "text": [
          null
         ],
         "type": "scatter",
         "visible": true,
         "x": [
          null
         ],
         "y": [
          5.5
         ],
         "yaxis": "y2"
        },
        {
         "hoverinfo": "text",
         "legendgroup": "changes",
         "marker": {
          "color": "red",
          "size": 6,
          "symbol": "square"
         },
         "mode": "markers",
         "name": "deletion",
         "showlegend": false,
         "text": [
          null,
          "E156",
          "F157"
         ],
         "type": "scatter",
         "visible": true,
         "x": [
          null,
          156,
          157
         ],
         "y": [
          5.5,
          5.5,
          5.5
         ],
         "yaxis": "y2"
        },
        {
         "hoverinfo": "text",
         "legendgroup": "changes",
         "marker": {
          "color": "blue",
          "size": 6,
          "symbol": "circle"
         },
         "mode": "markers",
         "name": "substitution, semi-conservative",
         "showlegend": false,
         "text": [
          null,
          "F5L",
          "T19R",
          "K77T",
          "G142D",
          "R158G",
          "L452R",
          "T478K",
          "E484Q",
          "D614G",
          "P681R",
          "D950N"
         ],
         "type": "scatter",
         "visible": true,
         "x": [
          null,
          5,
          19,
          77,
          142,
          158,
          452,
          478,
          484,
          614,
          681,
          950
         ],
         "y": [
          5.5,
          5.5,
          5.5,
          5.5,
          5.5,
          5.5,
          5.5,
          5.5,
          5.5,
          5.5,
          5.5,
          5.5
         ],
         "yaxis": "y2"
        },
        {
         "hoverinfo": "text",
         "legendgroup": "changes",
         "marker": {
          "color": "green",
          "size": 6,
          "symbol": "circle"
         },
         "mode": "markers",
         "name": "substitution, conservative",
         "showlegend": false,
         "text": [
          null
         ],
         "type": "scatter",
         "visible": true,
         "x": [
          null
         ],
         "y": [
          5.5
         ],
         "yaxis": "y2"
        },
        {
         "hoverinfo": "skip",
         "line": {
          "color": "gray"
         },
         "mode": "lines",
         "name": "sequence line",
         "showlegend": false,
         "type": "scatter",
         "visible": true,
         "x": [
          1,
          1273
         ],
         "y": [
          4.5,
          4.5
         ],
         "yaxis": "y"
        },
        {
         "customdata": [
          [
           "21A (Delta)",
           57,
           0,
           2,
           8,
           0
          ]
         ],
         "hovertemplate": "<b>%{y}</b><br>Clade: %{customdata[0]}<br>Count: %{customdata[1]}<br><br>%{customdata[2]} inserts<br>%{customdata[3]} deletions<br>%{customdata[4]} semi-comservative substitutions<br>%{customdata[5]} conservative substitutions<extra></extra>",
         "legendgroup": "Clade",
         "legendgrouptitle": {
          "font": {
           "size": 14
          },
          "text": "Clade"
         },
         "marker": {
          "color": "rgba(136, 204, 238, 0.15)"
         },
         "name": "21A (Delta)",
         "orientation": "h",
         "showlegend": false,
         "type": "bar",
         "visible": true,
         "x": [
          1278
         ],
         "y": [
          4.5
         ],
         "yaxis": "y"
        },
        {
         "hoverinfo": "skip",
         "legendgroup": "Subunit",
         "legendgrouptitle": {
          "font": {
           "size": 14
          },
          "text": "Subunit"
         },
         "line": {
          "color": "plum",
          "width": 3
         },
         "mode": "lines",
         "name": "S1",
         "showlegend": false,
         "type": "scatter",
         "visible": true,
         "x": [
          14,
          685
         ],
         "y": [
          4.5,
          4.5
         ],
         "yaxis": "y2"
        },
        {
         "hoverinfo": "skip",
         "legendgroup": "Subunit",
         "line": {
          "color": "pink",
          "width": 3
         },
         "mode": "lines",
         "name": "S2",
         "showlegend": false,
         "type": "scatter",
         "visible": true,
         "x": [
          686,
          1273
         ],
         "y": [
          4.5,
          4.5
         ],
         "yaxis": "y2"
        },
        {
         "hoverinfo": "text",
         "legendgroup": "changes",
         "legendgrouptitle": {
          "font": {
           "size": 14
          },
          "text": "Sequence Difference"
         },
         "marker": {
          "color": "orange",
          "size": 6,
          "symbol": "square"
         },
         "mode": "markers",
         "name": "insertion",
         "showlegend": false,
         "text": [
          null
         ],
         "type": "scatter",
         "visible": true,
         "x": [
          null
         ],
         "y": [
          4.5
         ],
         "yaxis": "y2"
        },
        {
         "hoverinfo": "text",
         "legendgroup": "changes",
         "marker": {
          "color": "red",
          "size": 6,
          "symbol": "square"
         },
         "mode": "markers",
         "name": "deletion",
         "showlegend": false,
         "text": [
          null,
          "E156",
          "F157"
         ],
         "type": "scatter",
         "visible": true,
         "x": [
          null,
          156,
          157
         ],
         "y": [
          4.5,
          4.5,
          4.5
         ],
         "yaxis": "y2"
        },
        {
         "hoverinfo": "text",
         "legendgroup": "changes",
         "marker": {
          "color": "blue",
          "size": 6,
          "symbol": "circle"
         },
         "mode": "markers",
         "name": "substitution, semi-conservative",
         "showlegend": false,
         "text": [
          null,
          "F5L",
          "T19R",
          "K77T",
          "R158G",
          "L452R",
          "T478K",
          "D614G",
          "P681R"
         ],
         "type": "scatter",
         "visible": true,
         "x": [
          null,
          5,
          19,
          77,
          158,
          452,
          478,
          614,
          681
         ],
         "y": [
          4.5,
          4.5,
          4.5,
          4.5,
          4.5,
          4.5,
          4.5,
          4.5,
          4.5
         ],
         "yaxis": "y2"
        },
        {
         "hoverinfo": "text",
         "legendgroup": "changes",
         "marker": {
          "color": "green",
          "size": 6,
          "symbol": "circle"
         },
         "mode": "markers",
         "name": "substitution, conservative",
         "showlegend": false,
         "text": [
          null
         ],
         "type": "scatter",
         "visible": true,
         "x": [
          null
         ],
         "y": [
          4.5
         ],
         "yaxis": "y2"
        },
        {
         "hoverinfo": "skip",
         "line": {
          "color": "gray"
         },
         "mode": "lines",
         "name": "sequence line",
         "showlegend": false,
         "type": "scatter",
         "visible": true,
         "x": [
          1,
          1273
         ],
         "y": [
          3.5,
          3.5
         ],
         "yaxis": "y"
        },
        {
         "customdata": [
          [
           "21A (Delta)",
           33,
           0,
           2,
           10,
           0
          ]
         ],
         "hovertemplate": "<b>%{y}</b><br>Clade: %{customdata[0]}<br>Count: %{customdata[1]}<br><br>%{customdata[2]} inserts<br>%{customdata[3]} deletions<br>%{customdata[4]} semi-comservative substitutions<br>%{customdata[5]} conservative substitutions<extra></extra>",
         "legendgroup": "Clade",
         "legendgrouptitle": {
          "font": {
           "size": 14
          },
          "text": "Clade"
         },
         "marker": {
          "color": "rgba(136, 204, 238, 0.15)"
         },
         "name": "21A (Delta)",
         "orientation": "h",
         "showlegend": false,
         "type": "bar",
         "visible": true,
         "x": [
          1278
         ],
         "y": [
          3.5
         ],
         "yaxis": "y"
        },
        {
         "hoverinfo": "skip",
         "legendgroup": "Subunit",
         "legendgrouptitle": {
          "font": {
           "size": 14
          },
          "text": "Subunit"
         },
         "line": {
          "color": "plum",
          "width": 3
         },
         "mode": "lines",
         "name": "S1",
         "showlegend": false,
         "type": "scatter",
         "visible": true,
         "x": [
          14,
          685
         ],
         "y": [
          3.5,
          3.5
         ],
         "yaxis": "y2"
        },
        {
         "hoverinfo": "skip",
         "legendgroup": "Subunit",
         "line": {
          "color": "pink",
          "width": 3
         },
         "mode": "lines",
         "name": "S2",
         "showlegend": false,
         "type": "scatter",
         "visible": true,
         "x": [
          686,
          1273
         ],
         "y": [
          3.5,
          3.5
         ],
         "yaxis": "y2"
        },
        {
         "hoverinfo": "text",
         "legendgroup": "changes",
         "legendgrouptitle": {
          "font": {
           "size": 14
          },
          "text": "Sequence Difference"
         },
         "marker": {
          "color": "orange",
          "size": 6,
          "symbol": "square"
         },
         "mode": "markers",
         "name": "insertion",
         "showlegend": false,
         "text": [
          null
         ],
         "type": "scatter",
         "visible": true,
         "x": [
          null
         ],
         "y": [
          3.5
         ],
         "yaxis": "y2"
        },
        {
         "hoverinfo": "text",
         "legendgroup": "changes",
         "marker": {
          "color": "red",
          "size": 6,
          "symbol": "square"
         },
         "mode": "markers",
         "name": "deletion",
         "showlegend": false,
         "text": [
          null,
          "E156",
          "F157"
         ],
         "type": "scatter",
         "visible": true,
         "x": [
          null,
          156,
          157
         ],
         "y": [
          3.5,
          3.5,
          3.5
         ],
         "yaxis": "y2"
        },
        {
         "hoverinfo": "text",
         "legendgroup": "changes",
         "marker": {
          "color": "blue",
          "size": 6,
          "symbol": "circle"
         },
         "mode": "markers",
         "name": "substitution, semi-conservative",
         "showlegend": false,
         "text": [
          null,
          "F5L",
          "T19R",
          "K77T",
          "R158G",
          "L452R",
          "T478K",
          "E484Q",
          "D614G",
          "P681R",
          "D950N"
         ],
         "type": "scatter",
         "visible": true,
         "x": [
          null,
          5,
          19,
          77,
          158,
          452,
          478,
          484,
          614,
          681,
          950
         ],
         "y": [
          3.5,
          3.5,
          3.5,
          3.5,
          3.5,
          3.5,
          3.5,
          3.5,
          3.5,
          3.5,
          3.5
         ],
         "yaxis": "y2"
        },
        {
         "hoverinfo": "text",
         "legendgroup": "changes",
         "marker": {
          "color": "green",
          "size": 6,
          "symbol": "circle"
         },
         "mode": "markers",
         "name": "substitution, conservative",
         "showlegend": false,
         "text": [
          null
         ],
         "type": "scatter",
         "visible": true,
         "x": [
          null
         ],
         "y": [
          3.5
         ],
         "yaxis": "y2"
        },
        {
         "hoverinfo": "skip",
         "line": {
          "color": "gray"
         },
         "mode": "lines",
         "name": "sequence line",
         "showlegend": false,
         "type": "scatter",
         "visible": true,
         "x": [
          1,
          1273
         ],
         "y": [
          2.5,
          2.5
         ],
         "yaxis": "y"
        },
        {
         "customdata": [
          [
           "21A (Delta)",
           29,
           0,
           2,
           11,
           0
          ]
         ],
         "hovertemplate": "<b>%{y}</b><br>Clade: %{customdata[0]}<br>Count: %{customdata[1]}<br><br>%{customdata[2]} inserts<br>%{customdata[3]} deletions<br>%{customdata[4]} semi-comservative substitutions<br>%{customdata[5]} conservative substitutions<extra></extra>",
         "legendgroup": "Clade",
         "legendgrouptitle": {
          "font": {
           "size": 14
          },
          "text": "Clade"
         },
         "marker": {
          "color": "rgba(136, 204, 238, 0.15)"
         },
         "name": "21A (Delta)",
         "orientation": "h",
         "showlegend": false,
         "type": "bar",
         "visible": true,
         "x": [
          1278
         ],
         "y": [
          2.5
         ],
         "yaxis": "y"
        },
        {
         "hoverinfo": "skip",
         "legendgroup": "Subunit",
         "legendgrouptitle": {
          "font": {
           "size": 14
          },
          "text": "Subunit"
         },
         "line": {
          "color": "plum",
          "width": 3
         },
         "mode": "lines",
         "name": "S1",
         "showlegend": false,
         "type": "scatter",
         "visible": true,
         "x": [
          14,
          685
         ],
         "y": [
          2.5,
          2.5
         ],
         "yaxis": "y2"
        },
        {
         "hoverinfo": "skip",
         "legendgroup": "Subunit",
         "line": {
          "color": "pink",
          "width": 3
         },
         "mode": "lines",
         "name": "S2",
         "showlegend": false,
         "type": "scatter",
         "visible": true,
         "x": [
          686,
          1273
         ],
         "y": [
          2.5,
          2.5
         ],
         "yaxis": "y2"
        },
        {
         "hoverinfo": "text",
         "legendgroup": "changes",
         "legendgrouptitle": {
          "font": {
           "size": 14
          },
          "text": "Sequence Difference"
         },
         "marker": {
          "color": "orange",
          "size": 6,
          "symbol": "square"
         },
         "mode": "markers",
         "name": "insertion",
         "showlegend": false,
         "text": [
          null
         ],
         "type": "scatter",
         "visible": true,
         "x": [
          null
         ],
         "y": [
          2.5
         ],
         "yaxis": "y2"
        },
        {
         "hoverinfo": "text",
         "legendgroup": "changes",
         "marker": {
          "color": "red",
          "size": 6,
          "symbol": "square"
         },
         "mode": "markers",
         "name": "deletion",
         "showlegend": false,
         "text": [
          null,
          "E156",
          "F157"
         ],
         "type": "scatter",
         "visible": true,
         "x": [
          null,
          156,
          157
         ],
         "y": [
          2.5,
          2.5,
          2.5
         ],
         "yaxis": "y2"
        },
        {
         "hoverinfo": "text",
         "legendgroup": "changes",
         "marker": {
          "color": "blue",
          "size": 6,
          "symbol": "circle"
         },
         "mode": "markers",
         "name": "substitution, semi-conservative",
         "showlegend": false,
         "text": [
          null,
          "F5L",
          "T19R",
          "K77T",
          "G142D",
          "R158G",
          "L452R",
          "T478K",
          "D614G",
          "P681R",
          "A684V",
          "D950N"
         ],
         "type": "scatter",
         "visible": true,
         "x": [
          null,
          5,
          19,
          77,
          142,
          158,
          452,
          478,
          614,
          681,
          684,
          950
         ],
         "y": [
          2.5,
          2.5,
          2.5,
          2.5,
          2.5,
          2.5,
          2.5,
          2.5,
          2.5,
          2.5,
          2.5,
          2.5
         ],
         "yaxis": "y2"
        },
        {
         "hoverinfo": "text",
         "legendgroup": "changes",
         "marker": {
          "color": "green",
          "size": 6,
          "symbol": "circle"
         },
         "mode": "markers",
         "name": "substitution, conservative",
         "showlegend": false,
         "text": [
          null
         ],
         "type": "scatter",
         "visible": true,
         "x": [
          null
         ],
         "y": [
          2.5
         ],
         "yaxis": "y2"
        },
        {
         "hoverinfo": "skip",
         "line": {
          "color": "gray"
         },
         "mode": "lines",
         "name": "sequence line",
         "showlegend": false,
         "type": "scatter",
         "visible": true,
         "x": [
          1,
          1273
         ],
         "y": [
          1.5,
          1.5
         ],
         "yaxis": "y"
        },
        {
         "customdata": [
          [
           "21J (Delta)",
           29,
           0,
           0,
           8,
           0
          ]
         ],
         "hovertemplate": "<b>%{y}</b><br>Clade: %{customdata[0]}<br>Count: %{customdata[1]}<br><br>%{customdata[2]} inserts<br>%{customdata[3]} deletions<br>%{customdata[4]} semi-comservative substitutions<br>%{customdata[5]} conservative substitutions<extra></extra>",
         "legendgroup": "Clade",
         "legendgrouptitle": {
          "font": {
           "size": 14
          },
          "text": "Clade"
         },
         "marker": {
          "color": "rgba(221, 204, 119, 0.15)"
         },
         "name": "21J (Delta)",
         "orientation": "h",
         "showlegend": false,
         "type": "bar",
         "visible": true,
         "x": [
          1278
         ],
         "y": [
          1.5
         ],
         "yaxis": "y"
        },
        {
         "hoverinfo": "skip",
         "legendgroup": "Subunit",
         "legendgrouptitle": {
          "font": {
           "size": 14
          },
          "text": "Subunit"
         },
         "line": {
          "color": "plum",
          "width": 3
         },
         "mode": "lines",
         "name": "S1",
         "showlegend": false,
         "type": "scatter",
         "visible": true,
         "x": [
          14,
          685
         ],
         "y": [
          1.5,
          1.5
         ],
         "yaxis": "y2"
        },
        {
         "hoverinfo": "skip",
         "legendgroup": "Subunit",
         "line": {
          "color": "pink",
          "width": 3
         },
         "mode": "lines",
         "name": "S2",
         "showlegend": false,
         "type": "scatter",
         "visible": true,
         "x": [
          686,
          1273
         ],
         "y": [
          1.5,
          1.5
         ],
         "yaxis": "y2"
        },
        {
         "hoverinfo": "text",
         "legendgroup": "changes",
         "legendgrouptitle": {
          "font": {
           "size": 14
          },
          "text": "Sequence Difference"
         },
         "marker": {
          "color": "orange",
          "size": 6,
          "symbol": "square"
         },
         "mode": "markers",
         "name": "insertion",
         "showlegend": false,
         "text": [
          null
         ],
         "type": "scatter",
         "visible": true,
         "x": [
          null
         ],
         "y": [
          1.5
         ],
         "yaxis": "y2"
        },
        {
         "hoverinfo": "text",
         "legendgroup": "changes",
         "marker": {
          "color": "red",
          "size": 6,
          "symbol": "square"
         },
         "mode": "markers",
         "name": "deletion",
         "showlegend": false,
         "text": [
          null
         ],
         "type": "scatter",
         "visible": true,
         "x": [
          null
         ],
         "y": [
          1.5
         ],
         "yaxis": "y2"
        },
        {
         "hoverinfo": "text",
         "legendgroup": "changes",
         "marker": {
          "color": "blue",
          "size": 6,
          "symbol": "circle"
         },
         "mode": "markers",
         "name": "substitution, semi-conservative",
         "showlegend": false,
         "text": [
          null,
          "F5L",
          "T19R",
          "R158G",
          "L452R",
          "T478K",
          "D614G",
          "P681R",
          "D950N"
         ],
         "type": "scatter",
         "visible": true,
         "x": [
          null,
          5,
          19,
          158,
          452,
          478,
          614,
          681,
          950
         ],
         "y": [
          1.5,
          1.5,
          1.5,
          1.5,
          1.5,
          1.5,
          1.5,
          1.5,
          1.5
         ],
         "yaxis": "y2"
        },
        {
         "hoverinfo": "text",
         "legendgroup": "changes",
         "marker": {
          "color": "green",
          "size": 6,
          "symbol": "circle"
         },
         "mode": "markers",
         "name": "substitution, conservative",
         "showlegend": false,
         "text": [
          null
         ],
         "type": "scatter",
         "visible": true,
         "x": [
          null
         ],
         "y": [
          1.5
         ],
         "yaxis": "y2"
        },
        {
         "hoverinfo": "skip",
         "line": {
          "color": "gray"
         },
         "mode": "lines",
         "name": "sequence line",
         "showlegend": false,
         "type": "scatter",
         "visible": true,
         "x": [
          1,
          1273
         ],
         "y": [
          0.5,
          0.5
         ],
         "yaxis": "y"
        },
        {
         "customdata": [
          [
           "21A (Delta)",
           28,
           0,
           2,
           9,
           0
          ]
         ],
         "hovertemplate": "<b>%{y}</b><br>Clade: %{customdata[0]}<br>Count: %{customdata[1]}<br><br>%{customdata[2]} inserts<br>%{customdata[3]} deletions<br>%{customdata[4]} semi-comservative substitutions<br>%{customdata[5]} conservative substitutions<extra></extra>",
         "legendgroup": "Clade",
         "legendgrouptitle": {
          "font": {
           "size": 14
          },
          "text": "Clade"
         },
         "marker": {
          "color": "rgba(136, 204, 238, 0.15)"
         },
         "name": "21A (Delta)",
         "orientation": "h",
         "showlegend": false,
         "type": "bar",
         "visible": true,
         "x": [
          1278
         ],
         "y": [
          0.5
         ],
         "yaxis": "y"
        },
        {
         "hoverinfo": "skip",
         "legendgroup": "Subunit",
         "legendgrouptitle": {
          "font": {
           "size": 14
          },
          "text": "Subunit"
         },
         "line": {
          "color": "plum",
          "width": 3
         },
         "mode": "lines",
         "name": "S1",
         "showlegend": false,
         "type": "scatter",
         "visible": true,
         "x": [
          14,
          685
         ],
         "y": [
          0.5,
          0.5
         ],
         "yaxis": "y2"
        },
        {
         "hoverinfo": "skip",
         "legendgroup": "Subunit",
         "line": {
          "color": "pink",
          "width": 3
         },
         "mode": "lines",
         "name": "S2",
         "showlegend": false,
         "type": "scatter",
         "visible": true,
         "x": [
          686,
          1273
         ],
         "y": [
          0.5,
          0.5
         ],
         "yaxis": "y2"
        },
        {
         "hoverinfo": "text",
         "legendgroup": "changes",
         "legendgrouptitle": {
          "font": {
           "size": 14
          },
          "text": "Sequence Difference"
         },
         "marker": {
          "color": "orange",
          "size": 6,
          "symbol": "square"
         },
         "mode": "markers",
         "name": "insertion",
         "showlegend": false,
         "text": [
          null
         ],
         "type": "scatter",
         "visible": true,
         "x": [
          null
         ],
         "y": [
          0.5
         ],
         "yaxis": "y2"
        },
        {
         "hoverinfo": "text",
         "legendgroup": "changes",
         "marker": {
          "color": "red",
          "size": 6,
          "symbol": "square"
         },
         "mode": "markers",
         "name": "deletion",
         "showlegend": false,
         "text": [
          null,
          "E156",
          "F157"
         ],
         "type": "scatter",
         "visible": true,
         "x": [
          null,
          156,
          157
         ],
         "y": [
          0.5,
          0.5,
          0.5
         ],
         "yaxis": "y2"
        },
        {
         "hoverinfo": "text",
         "legendgroup": "changes",
         "marker": {
          "color": "blue",
          "size": 6,
          "symbol": "circle"
         },
         "mode": "markers",
         "name": "substitution, semi-conservative",
         "showlegend": false,
         "text": [
          null,
          "F5L",
          "T19R",
          "G142D",
          "R158G",
          "L452R",
          "T478K",
          "D614G",
          "P681R",
          "D950N"
         ],
         "type": "scatter",
         "visible": true,
         "x": [
          null,
          5,
          19,
          142,
          158,
          452,
          478,
          614,
          681,
          950
         ],
         "y": [
          0.5,
          0.5,
          0.5,
          0.5,
          0.5,
          0.5,
          0.5,
          0.5,
          0.5,
          0.5
         ],
         "yaxis": "y2"
        },
        {
         "hoverinfo": "text",
         "legendgroup": "changes",
         "marker": {
          "color": "green",
          "size": 6,
          "symbol": "circle"
         },
         "mode": "markers",
         "name": "substitution, conservative",
         "showlegend": false,
         "text": [
          null
         ],
         "type": "scatter",
         "visible": true,
         "x": [
          null
         ],
         "y": [
          0.5
         ],
         "yaxis": "y2"
        }
       ],
       "layout": {
        "annotations": [
         {
          "align": "left",
          "bordercolor": "orange",
          "borderpad": 4,
          "borderwidth": 1,
          "font": {
           "size": 14
          },
          "showarrow": false,
          "text": "Shared Changes: F5L, D614G",
          "x": 1.21,
          "xanchor": "left",
          "xref": "paper",
          "y": 0,
          "yanchor": "bottom",
          "yref": "paper"
         }
        ],
        "bargap": 0,
        "barmode": "overlay",
        "height": 700,
        "legend": {
         "font": {
          "size": 14
         },
         "x": 1.2,
         "xanchor": "left",
         "y": 1,
         "yanchor": "top"
        },
        "plot_bgcolor": "white",
        "shapes": [
         {
          "layer": "below",
          "line": {
           "color": "orange",
           "width": 1
          },
          "type": "line",
          "x0": 5,
          "x1": 5,
          "y0": 0.1,
          "y1": 9.9
         },
         {
          "layer": "below",
          "line": {
           "color": "orange",
           "width": 1
          },
          "type": "line",
          "x0": 614,
          "x1": 614,
          "y0": 0.1,
          "y1": 9.9
         }
        ],
        "template": {
         "data": {
          "bar": [
           {
            "error_x": {
             "color": "#2a3f5f"
            },
            "error_y": {
             "color": "#2a3f5f"
            },
            "marker": {
             "line": {
              "color": "#E5ECF6",
              "width": 0.5
             },
             "pattern": {
              "fillmode": "overlay",
              "size": 10,
              "solidity": 0.2
             }
            },
            "type": "bar"
           }
          ],
          "barpolar": [
           {
            "marker": {
             "line": {
              "color": "#E5ECF6",
              "width": 0.5
             },
             "pattern": {
              "fillmode": "overlay",
              "size": 10,
              "solidity": 0.2
             }
            },
            "type": "barpolar"
           }
          ],
          "carpet": [
           {
            "aaxis": {
             "endlinecolor": "#2a3f5f",
             "gridcolor": "white",
             "linecolor": "white",
             "minorgridcolor": "white",
             "startlinecolor": "#2a3f5f"
            },
            "baxis": {
             "endlinecolor": "#2a3f5f",
             "gridcolor": "white",
             "linecolor": "white",
             "minorgridcolor": "white",
             "startlinecolor": "#2a3f5f"
            },
            "type": "carpet"
           }
          ],
          "choropleth": [
           {
            "colorbar": {
             "outlinewidth": 0,
             "ticks": ""
            },
            "type": "choropleth"
           }
          ],
          "contour": [
           {
            "colorbar": {
             "outlinewidth": 0,
             "ticks": ""
            },
            "colorscale": [
             [
              0,
              "#0d0887"
             ],
             [
              0.1111111111111111,
              "#46039f"
             ],
             [
              0.2222222222222222,
              "#7201a8"
             ],
             [
              0.3333333333333333,
              "#9c179e"
             ],
             [
              0.4444444444444444,
              "#bd3786"
             ],
             [
              0.5555555555555556,
              "#d8576b"
             ],
             [
              0.6666666666666666,
              "#ed7953"
             ],
             [
              0.7777777777777778,
              "#fb9f3a"
             ],
             [
              0.8888888888888888,
              "#fdca26"
             ],
             [
              1,
              "#f0f921"
             ]
            ],
            "type": "contour"
           }
          ],
          "contourcarpet": [
           {
            "colorbar": {
             "outlinewidth": 0,
             "ticks": ""
            },
            "type": "contourcarpet"
           }
          ],
          "heatmap": [
           {
            "colorbar": {
             "outlinewidth": 0,
             "ticks": ""
            },
            "colorscale": [
             [
              0,
              "#0d0887"
             ],
             [
              0.1111111111111111,
              "#46039f"
             ],
             [
              0.2222222222222222,
              "#7201a8"
             ],
             [
              0.3333333333333333,
              "#9c179e"
             ],
             [
              0.4444444444444444,
              "#bd3786"
             ],
             [
              0.5555555555555556,
              "#d8576b"
             ],
             [
              0.6666666666666666,
              "#ed7953"
             ],
             [
              0.7777777777777778,
              "#fb9f3a"
             ],
             [
              0.8888888888888888,
              "#fdca26"
             ],
             [
              1,
              "#f0f921"
             ]
            ],
            "type": "heatmap"
           }
          ],
          "heatmapgl": [
           {
            "colorbar": {
             "outlinewidth": 0,
             "ticks": ""
            },
            "colorscale": [
             [
              0,
              "#0d0887"
             ],
             [
              0.1111111111111111,
              "#46039f"
             ],
             [
              0.2222222222222222,
              "#7201a8"
             ],
             [
              0.3333333333333333,
              "#9c179e"
             ],
             [
              0.4444444444444444,
              "#bd3786"
             ],
             [
              0.5555555555555556,
              "#d8576b"
             ],
             [
              0.6666666666666666,
              "#ed7953"
             ],
             [
              0.7777777777777778,
              "#fb9f3a"
             ],
             [
              0.8888888888888888,
              "#fdca26"
             ],
             [
              1,
              "#f0f921"
             ]
            ],
            "type": "heatmapgl"
           }
          ],
          "histogram": [
           {
            "marker": {
             "pattern": {
              "fillmode": "overlay",
              "size": 10,
              "solidity": 0.2
             }
            },
            "type": "histogram"
           }
          ],
          "histogram2d": [
           {
            "colorbar": {
             "outlinewidth": 0,
             "ticks": ""
            },
            "colorscale": [
             [
              0,
              "#0d0887"
             ],
             [
              0.1111111111111111,
              "#46039f"
             ],
             [
              0.2222222222222222,
              "#7201a8"
             ],
             [
              0.3333333333333333,
              "#9c179e"
             ],
             [
              0.4444444444444444,
              "#bd3786"
             ],
             [
              0.5555555555555556,
              "#d8576b"
             ],
             [
              0.6666666666666666,
              "#ed7953"
             ],
             [
              0.7777777777777778,
              "#fb9f3a"
             ],
             [
              0.8888888888888888,
              "#fdca26"
             ],
             [
              1,
              "#f0f921"
             ]
            ],
            "type": "histogram2d"
           }
          ],
          "histogram2dcontour": [
           {
            "colorbar": {
             "outlinewidth": 0,
             "ticks": ""
            },
            "colorscale": [
             [
              0,
              "#0d0887"
             ],
             [
              0.1111111111111111,
              "#46039f"
             ],
             [
              0.2222222222222222,
              "#7201a8"
             ],
             [
              0.3333333333333333,
              "#9c179e"
             ],
             [
              0.4444444444444444,
              "#bd3786"
             ],
             [
              0.5555555555555556,
              "#d8576b"
             ],
             [
              0.6666666666666666,
              "#ed7953"
             ],
             [
              0.7777777777777778,
              "#fb9f3a"
             ],
             [
              0.8888888888888888,
              "#fdca26"
             ],
             [
              1,
              "#f0f921"
             ]
            ],
            "type": "histogram2dcontour"
           }
          ],
          "mesh3d": [
           {
            "colorbar": {
             "outlinewidth": 0,
             "ticks": ""
            },
            "type": "mesh3d"
           }
          ],
          "parcoords": [
           {
            "line": {
             "colorbar": {
              "outlinewidth": 0,
              "ticks": ""
             }
            },
            "type": "parcoords"
           }
          ],
          "pie": [
           {
            "automargin": true,
            "type": "pie"
           }
          ],
          "scatter": [
           {
            "marker": {
             "colorbar": {
              "outlinewidth": 0,
              "ticks": ""
             }
            },
            "type": "scatter"
           }
          ],
          "scatter3d": [
           {
            "line": {
             "colorbar": {
              "outlinewidth": 0,
              "ticks": ""
             }
            },
            "marker": {
             "colorbar": {
              "outlinewidth": 0,
              "ticks": ""
             }
            },
            "type": "scatter3d"
           }
          ],
          "scattercarpet": [
           {
            "marker": {
             "colorbar": {
              "outlinewidth": 0,
              "ticks": ""
             }
            },
            "type": "scattercarpet"
           }
          ],
          "scattergeo": [
           {
            "marker": {
             "colorbar": {
              "outlinewidth": 0,
              "ticks": ""
             }
            },
            "type": "scattergeo"
           }
          ],
          "scattergl": [
           {
            "marker": {
             "colorbar": {
              "outlinewidth": 0,
              "ticks": ""
             }
            },
            "type": "scattergl"
           }
          ],
          "scattermapbox": [
           {
            "marker": {
             "colorbar": {
              "outlinewidth": 0,
              "ticks": ""
             }
            },
            "type": "scattermapbox"
           }
          ],
          "scatterpolar": [
           {
            "marker": {
             "colorbar": {
              "outlinewidth": 0,
              "ticks": ""
             }
            },
            "type": "scatterpolar"
           }
          ],
          "scatterpolargl": [
           {
            "marker": {
             "colorbar": {
              "outlinewidth": 0,
              "ticks": ""
             }
            },
            "type": "scatterpolargl"
           }
          ],
          "scatterternary": [
           {
            "marker": {
             "colorbar": {
              "outlinewidth": 0,
              "ticks": ""
             }
            },
            "type": "scatterternary"
           }
          ],
          "surface": [
           {
            "colorbar": {
             "outlinewidth": 0,
             "ticks": ""
            },
            "colorscale": [
             [
              0,
              "#0d0887"
             ],
             [
              0.1111111111111111,
              "#46039f"
             ],
             [
              0.2222222222222222,
              "#7201a8"
             ],
             [
              0.3333333333333333,
              "#9c179e"
             ],
             [
              0.4444444444444444,
              "#bd3786"
             ],
             [
              0.5555555555555556,
              "#d8576b"
             ],
             [
              0.6666666666666666,
              "#ed7953"
             ],
             [
              0.7777777777777778,
              "#fb9f3a"
             ],
             [
              0.8888888888888888,
              "#fdca26"
             ],
             [
              1,
              "#f0f921"
             ]
            ],
            "type": "surface"
           }
          ],
          "table": [
           {
            "cells": {
             "fill": {
              "color": "#EBF0F8"
             },
             "line": {
              "color": "white"
             }
            },
            "header": {
             "fill": {
              "color": "#C8D4E3"
             },
             "line": {
              "color": "white"
             }
            },
            "type": "table"
           }
          ]
         },
         "layout": {
          "annotationdefaults": {
           "arrowcolor": "#2a3f5f",
           "arrowhead": 0,
           "arrowwidth": 1
          },
          "autotypenumbers": "strict",
          "coloraxis": {
           "colorbar": {
            "outlinewidth": 0,
            "ticks": ""
           }
          },
          "colorscale": {
           "diverging": [
            [
             0,
             "#8e0152"
            ],
            [
             0.1,
             "#c51b7d"
            ],
            [
             0.2,
             "#de77ae"
            ],
            [
             0.3,
             "#f1b6da"
            ],
            [
             0.4,
             "#fde0ef"
            ],
            [
             0.5,
             "#f7f7f7"
            ],
            [
             0.6,
             "#e6f5d0"
            ],
            [
             0.7,
             "#b8e186"
            ],
            [
             0.8,
             "#7fbc41"
            ],
            [
             0.9,
             "#4d9221"
            ],
            [
             1,
             "#276419"
            ]
           ],
           "sequential": [
            [
             0,
             "#0d0887"
            ],
            [
             0.1111111111111111,
             "#46039f"
            ],
            [
             0.2222222222222222,
             "#7201a8"
            ],
            [
             0.3333333333333333,
             "#9c179e"
            ],
            [
             0.4444444444444444,
             "#bd3786"
            ],
            [
             0.5555555555555556,
             "#d8576b"
            ],
            [
             0.6666666666666666,
             "#ed7953"
            ],
            [
             0.7777777777777778,
             "#fb9f3a"
            ],
            [
             0.8888888888888888,
             "#fdca26"
            ],
            [
             1,
             "#f0f921"
            ]
           ],
           "sequentialminus": [
            [
             0,
             "#0d0887"
            ],
            [
             0.1111111111111111,
             "#46039f"
            ],
            [
             0.2222222222222222,
             "#7201a8"
            ],
            [
             0.3333333333333333,
             "#9c179e"
            ],
            [
             0.4444444444444444,
             "#bd3786"
            ],
            [
             0.5555555555555556,
             "#d8576b"
            ],
            [
             0.6666666666666666,
             "#ed7953"
            ],
            [
             0.7777777777777778,
             "#fb9f3a"
            ],
            [
             0.8888888888888888,
             "#fdca26"
            ],
            [
             1,
             "#f0f921"
            ]
           ]
          },
          "colorway": [
           "#636efa",
           "#EF553B",
           "#00cc96",
           "#ab63fa",
           "#FFA15A",
           "#19d3f3",
           "#FF6692",
           "#B6E880",
           "#FF97FF",
           "#FECB52"
          ],
          "font": {
           "color": "#2a3f5f"
          },
          "geo": {
           "bgcolor": "white",
           "lakecolor": "white",
           "landcolor": "#E5ECF6",
           "showlakes": true,
           "showland": true,
           "subunitcolor": "white"
          },
          "hoverlabel": {
           "align": "left"
          },
          "hovermode": "closest",
          "mapbox": {
           "style": "light"
          },
          "paper_bgcolor": "white",
          "plot_bgcolor": "#E5ECF6",
          "polar": {
           "angularaxis": {
            "gridcolor": "white",
            "linecolor": "white",
            "ticks": ""
           },
           "bgcolor": "#E5ECF6",
           "radialaxis": {
            "gridcolor": "white",
            "linecolor": "white",
            "ticks": ""
           }
          },
          "scene": {
           "xaxis": {
            "backgroundcolor": "#E5ECF6",
            "gridcolor": "white",
            "gridwidth": 2,
            "linecolor": "white",
            "showbackground": true,
            "ticks": "",
            "zerolinecolor": "white"
           },
           "yaxis": {
            "backgroundcolor": "#E5ECF6",
            "gridcolor": "white",
            "gridwidth": 2,
            "linecolor": "white",
            "showbackground": true,
            "ticks": "",
            "zerolinecolor": "white"
           },
           "zaxis": {
            "backgroundcolor": "#E5ECF6",
            "gridcolor": "white",
            "gridwidth": 2,
            "linecolor": "white",
            "showbackground": true,
            "ticks": "",
            "zerolinecolor": "white"
           }
          },
          "shapedefaults": {
           "line": {
            "color": "#2a3f5f"
           }
          },
          "ternary": {
           "aaxis": {
            "gridcolor": "white",
            "linecolor": "white",
            "ticks": ""
           },
           "baxis": {
            "gridcolor": "white",
            "linecolor": "white",
            "ticks": ""
           },
           "bgcolor": "#E5ECF6",
           "caxis": {
            "gridcolor": "white",
            "linecolor": "white",
            "ticks": ""
           }
          },
          "title": {
           "x": 0.05
          },
          "xaxis": {
           "automargin": true,
           "gridcolor": "white",
           "linecolor": "white",
           "ticks": "",
           "title": {
            "standoff": 15
           },
           "zerolinecolor": "white",
           "zerolinewidth": 2
          },
          "yaxis": {
           "automargin": true,
           "gridcolor": "white",
           "linecolor": "white",
           "ticks": "",
           "title": {
            "standoff": 15
           },
           "zerolinecolor": "white",
           "zerolinewidth": 2
          }
         }
        },
        "title": {
         "text": "Top 10 Delta Sequences: Spike Protien Comparison to Top 19A Sequence"
        },
        "width": 1200,
        "xaxis": {
         "range": [
          -15,
          1288
         ],
         "showgrid": false,
         "showspikes": true,
         "spikemode": "across",
         "spikethickness": 1,
         "title": {
          "text": "Index"
         }
        },
        "yaxis": {
         "range": [
          0,
          10
         ],
         "showgrid": false,
         "tickfont": {
          "size": 14
         },
         "tickmode": "array",
         "ticktext": [
          "QYL32654",
          "QXQ22426",
          "QZD01238",
          "QYP52957",
          "QYJ41843",
          "QYB96653",
          "QXL91697",
          "QXO37508",
          "QYJ42034",
          "QZD09591"
         ],
         "tickvals": [
          0.5,
          1.5,
          2.5,
          3.5,
          4.5,
          5.5,
          6.5,
          7.5,
          8.5,
          9.5
         ],
         "title": {
          "font": {
           "size": 14
          },
          "text": "Accession"
         }
        },
        "yaxis2": {
         "overlaying": "y",
         "range": [
          0,
          10
         ],
         "side": "right",
         "tickfont": {
          "size": 14
         },
         "tickmode": "array",
         "ticktext": [
          "98.54%",
          "98.65%",
          "99.14%",
          "98.68%",
          "98.50%",
          "98.72%",
          "98.60%",
          "98.48%",
          "99.26%",
          "98.63%"
         ],
         "tickvals": [
          0.5,
          1.5,
          2.5,
          3.5,
          4.5,
          5.5,
          6.5,
          7.5,
          8.5,
          9.5
         ],
         "title": {
          "font": {
           "size": 14
          },
          "text": "Alignment Score"
         }
        }
       }
      },
      "text/html": [
       "<div>                            <div id=\"18f01c64-02ca-4b06-830a-4eaae9839b30\" class=\"plotly-graph-div\" style=\"height:700px; width:1200px;\"></div>            <script type=\"text/javascript\">                require([\"plotly\"], function(Plotly) {                    window.PLOTLYENV=window.PLOTLYENV || {};                                    if (document.getElementById(\"18f01c64-02ca-4b06-830a-4eaae9839b30\")) {                    Plotly.newPlot(                        \"18f01c64-02ca-4b06-830a-4eaae9839b30\",                        [{\"hoverinfo\":\"skip\",\"line\":{\"color\":\"gray\"},\"mode\":\"lines\",\"name\":\"sequence line\",\"showlegend\":false,\"visible\":true,\"x\":[1,1273],\"y\":[9.5,9.5],\"yaxis\":\"y\",\"type\":\"scatter\"},{\"customdata\":[[\"21A (Delta)\",750,0,2,10,0]],\"hovertemplate\":\"<b>%{y}</b><br>Clade: %{customdata[0]}<br>Count: %{customdata[1]}<br><br>%{customdata[2]} inserts<br>%{customdata[3]} deletions<br>%{customdata[4]} semi-comservative substitutions<br>%{customdata[5]} conservative substitutions<extra></extra>\",\"legendgroup\":\"Clade\",\"legendgrouptitle\":{\"font\":{\"size\":14},\"text\":\"Clade\"},\"marker\":{\"color\":\"rgba(136, 204, 238, 0.15)\"},\"name\":\"21A (Delta)\",\"orientation\":\"h\",\"showlegend\":true,\"visible\":true,\"x\":[1278],\"y\":[9.5],\"yaxis\":\"y\",\"type\":\"bar\"},{\"hoverinfo\":\"skip\",\"legendgroup\":\"Subunit\",\"legendgrouptitle\":{\"font\":{\"size\":14},\"text\":\"Subunit\"},\"line\":{\"color\":\"plum\",\"width\":3},\"mode\":\"lines\",\"name\":\"S1\",\"showlegend\":true,\"visible\":true,\"x\":[14,685],\"y\":[9.5,9.5],\"yaxis\":\"y2\",\"type\":\"scatter\"},{\"hoverinfo\":\"skip\",\"legendgroup\":\"Subunit\",\"line\":{\"color\":\"pink\",\"width\":3},\"mode\":\"lines\",\"name\":\"S2\",\"showlegend\":true,\"visible\":true,\"x\":[686,1273],\"y\":[9.5,9.5],\"yaxis\":\"y2\",\"type\":\"scatter\"},{\"hoverinfo\":\"text\",\"legendgroup\":\"changes\",\"legendgrouptitle\":{\"font\":{\"size\":14},\"text\":\"Sequence Difference\"},\"marker\":{\"color\":\"orange\",\"size\":6,\"symbol\":\"square\"},\"mode\":\"markers\",\"name\":\"insertion\",\"showlegend\":true,\"text\":[null],\"visible\":true,\"x\":[null],\"y\":[9.5],\"yaxis\":\"y2\",\"type\":\"scatter\"},{\"hoverinfo\":\"text\",\"legendgroup\":\"changes\",\"marker\":{\"color\":\"red\",\"size\":6,\"symbol\":\"square\"},\"mode\":\"markers\",\"name\":\"deletion\",\"showlegend\":true,\"text\":[null,\"E156\",\"F157\"],\"visible\":true,\"x\":[null,156,157],\"y\":[9.5,9.5,9.5],\"yaxis\":\"y2\",\"type\":\"scatter\"},{\"hoverinfo\":\"text\",\"legendgroup\":\"changes\",\"marker\":{\"color\":\"blue\",\"size\":6,\"symbol\":\"circle\"},\"mode\":\"markers\",\"name\":\"substitution, semi-conservative\",\"showlegend\":true,\"text\":[null,\"F5L\",\"T19R\",\"K77T\",\"G142D\",\"R158G\",\"L452R\",\"T478K\",\"D614G\",\"P681R\",\"D950N\"],\"visible\":true,\"x\":[null,5,19,77,142,158,452,478,614,681,950],\"y\":[9.5,9.5,9.5,9.5,9.5,9.5,9.5,9.5,9.5,9.5,9.5],\"yaxis\":\"y2\",\"type\":\"scatter\"},{\"hoverinfo\":\"text\",\"legendgroup\":\"changes\",\"marker\":{\"color\":\"green\",\"size\":6,\"symbol\":\"circle\"},\"mode\":\"markers\",\"name\":\"substitution, conservative\",\"showlegend\":true,\"text\":[null],\"visible\":true,\"x\":[null],\"y\":[9.5],\"yaxis\":\"y2\",\"type\":\"scatter\"},{\"hoverinfo\":\"skip\",\"line\":{\"color\":\"gray\"},\"mode\":\"lines\",\"name\":\"sequence line\",\"showlegend\":false,\"visible\":true,\"x\":[1,1273],\"y\":[8.5,8.5],\"yaxis\":\"y\",\"type\":\"scatter\"},{\"customdata\":[[\"21A (Delta)\",393,0,2,9,0]],\"hovertemplate\":\"<b>%{y}</b><br>Clade: %{customdata[0]}<br>Count: %{customdata[1]}<br><br>%{customdata[2]} inserts<br>%{customdata[3]} deletions<br>%{customdata[4]} semi-comservative substitutions<br>%{customdata[5]} conservative substitutions<extra></extra>\",\"legendgroup\":\"Clade\",\"legendgrouptitle\":{\"font\":{\"size\":14},\"text\":\"Clade\"},\"marker\":{\"color\":\"rgba(136, 204, 238, 0.15)\"},\"name\":\"21A (Delta)\",\"orientation\":\"h\",\"showlegend\":false,\"visible\":true,\"x\":[1278],\"y\":[8.5],\"yaxis\":\"y\",\"type\":\"bar\"},{\"hoverinfo\":\"skip\",\"legendgroup\":\"Subunit\",\"legendgrouptitle\":{\"font\":{\"size\":14},\"text\":\"Subunit\"},\"line\":{\"color\":\"plum\",\"width\":3},\"mode\":\"lines\",\"name\":\"S1\",\"showlegend\":false,\"visible\":true,\"x\":[14,685],\"y\":[8.5,8.5],\"yaxis\":\"y2\",\"type\":\"scatter\"},{\"hoverinfo\":\"skip\",\"legendgroup\":\"Subunit\",\"line\":{\"color\":\"pink\",\"width\":3},\"mode\":\"lines\",\"name\":\"S2\",\"showlegend\":false,\"visible\":true,\"x\":[686,1273],\"y\":[8.5,8.5],\"yaxis\":\"y2\",\"type\":\"scatter\"},{\"hoverinfo\":\"text\",\"legendgroup\":\"changes\",\"legendgrouptitle\":{\"font\":{\"size\":14},\"text\":\"Sequence Difference\"},\"marker\":{\"color\":\"orange\",\"size\":6,\"symbol\":\"square\"},\"mode\":\"markers\",\"name\":\"insertion\",\"showlegend\":false,\"text\":[null],\"visible\":true,\"x\":[null],\"y\":[8.5],\"yaxis\":\"y2\",\"type\":\"scatter\"},{\"hoverinfo\":\"text\",\"legendgroup\":\"changes\",\"marker\":{\"color\":\"red\",\"size\":6,\"symbol\":\"square\"},\"mode\":\"markers\",\"name\":\"deletion\",\"showlegend\":false,\"text\":[null,\"E156\",\"F157\"],\"visible\":true,\"x\":[null,156,157],\"y\":[8.5,8.5,8.5],\"yaxis\":\"y2\",\"type\":\"scatter\"},{\"hoverinfo\":\"text\",\"legendgroup\":\"changes\",\"marker\":{\"color\":\"blue\",\"size\":6,\"symbol\":\"circle\"},\"mode\":\"markers\",\"name\":\"substitution, semi-conservative\",\"showlegend\":false,\"text\":[null,\"F5L\",\"T19R\",\"K77T\",\"R158G\",\"L452R\",\"T478K\",\"D614G\",\"P681R\",\"D950N\"],\"visible\":true,\"x\":[null,5,19,77,158,452,478,614,681,950],\"y\":[8.5,8.5,8.5,8.5,8.5,8.5,8.5,8.5,8.5,8.5],\"yaxis\":\"y2\",\"type\":\"scatter\"},{\"hoverinfo\":\"text\",\"legendgroup\":\"changes\",\"marker\":{\"color\":\"green\",\"size\":6,\"symbol\":\"circle\"},\"mode\":\"markers\",\"name\":\"substitution, conservative\",\"showlegend\":false,\"text\":[null],\"visible\":true,\"x\":[null],\"y\":[8.5],\"yaxis\":\"y2\",\"type\":\"scatter\"},{\"hoverinfo\":\"skip\",\"line\":{\"color\":\"gray\"},\"mode\":\"lines\",\"name\":\"sequence line\",\"showlegend\":false,\"visible\":true,\"x\":[1,1273],\"y\":[7.5,7.5],\"yaxis\":\"y\",\"type\":\"scatter\"},{\"customdata\":[[\"21J (Delta)\",129,0,0,9,0]],\"hovertemplate\":\"<b>%{y}</b><br>Clade: %{customdata[0]}<br>Count: %{customdata[1]}<br><br>%{customdata[2]} inserts<br>%{customdata[3]} deletions<br>%{customdata[4]} semi-comservative substitutions<br>%{customdata[5]} conservative substitutions<extra></extra>\",\"legendgroup\":\"Clade\",\"legendgrouptitle\":{\"font\":{\"size\":14},\"text\":\"Clade\"},\"marker\":{\"color\":\"rgba(221, 204, 119, 0.15)\"},\"name\":\"21J (Delta)\",\"orientation\":\"h\",\"showlegend\":true,\"visible\":true,\"x\":[1278],\"y\":[7.5],\"yaxis\":\"y\",\"type\":\"bar\"},{\"hoverinfo\":\"skip\",\"legendgroup\":\"Subunit\",\"legendgrouptitle\":{\"font\":{\"size\":14},\"text\":\"Subunit\"},\"line\":{\"color\":\"plum\",\"width\":3},\"mode\":\"lines\",\"name\":\"S1\",\"showlegend\":false,\"visible\":true,\"x\":[14,685],\"y\":[7.5,7.5],\"yaxis\":\"y2\",\"type\":\"scatter\"},{\"hoverinfo\":\"skip\",\"legendgroup\":\"Subunit\",\"line\":{\"color\":\"pink\",\"width\":3},\"mode\":\"lines\",\"name\":\"S2\",\"showlegend\":false,\"visible\":true,\"x\":[686,1273],\"y\":[7.5,7.5],\"yaxis\":\"y2\",\"type\":\"scatter\"},{\"hoverinfo\":\"text\",\"legendgroup\":\"changes\",\"legendgrouptitle\":{\"font\":{\"size\":14},\"text\":\"Sequence Difference\"},\"marker\":{\"color\":\"orange\",\"size\":6,\"symbol\":\"square\"},\"mode\":\"markers\",\"name\":\"insertion\",\"showlegend\":false,\"text\":[null],\"visible\":true,\"x\":[null],\"y\":[7.5],\"yaxis\":\"y2\",\"type\":\"scatter\"},{\"hoverinfo\":\"text\",\"legendgroup\":\"changes\",\"marker\":{\"color\":\"red\",\"size\":6,\"symbol\":\"square\"},\"mode\":\"markers\",\"name\":\"deletion\",\"showlegend\":false,\"text\":[null],\"visible\":true,\"x\":[null],\"y\":[7.5],\"yaxis\":\"y2\",\"type\":\"scatter\"},{\"hoverinfo\":\"text\",\"legendgroup\":\"changes\",\"marker\":{\"color\":\"blue\",\"size\":6,\"symbol\":\"circle\"},\"mode\":\"markers\",\"name\":\"substitution, semi-conservative\",\"showlegend\":false,\"text\":[null,\"F5L\",\"T19R\",\"F157C\",\"R158G\",\"L452R\",\"T478K\",\"D614G\",\"P681R\",\"D950N\"],\"visible\":true,\"x\":[null,5,19,157,158,452,478,614,681,950],\"y\":[7.5,7.5,7.5,7.5,7.5,7.5,7.5,7.5,7.5,7.5],\"yaxis\":\"y2\",\"type\":\"scatter\"},{\"hoverinfo\":\"text\",\"legendgroup\":\"changes\",\"marker\":{\"color\":\"green\",\"size\":6,\"symbol\":\"circle\"},\"mode\":\"markers\",\"name\":\"substitution, conservative\",\"showlegend\":false,\"text\":[null],\"visible\":true,\"x\":[null],\"y\":[7.5],\"yaxis\":\"y2\",\"type\":\"scatter\"},{\"hoverinfo\":\"skip\",\"line\":{\"color\":\"gray\"},\"mode\":\"lines\",\"name\":\"sequence line\",\"showlegend\":false,\"visible\":true,\"x\":[1,1273],\"y\":[6.5,6.5],\"yaxis\":\"y\",\"type\":\"scatter\"},{\"customdata\":[[\"21A (Delta)\",95,0,0,16,0]],\"hovertemplate\":\"<b>%{y}</b><br>Clade: %{customdata[0]}<br>Count: %{customdata[1]}<br><br>%{customdata[2]} inserts<br>%{customdata[3]} deletions<br>%{customdata[4]} semi-comservative substitutions<br>%{customdata[5]} conservative substitutions<extra></extra>\",\"legendgroup\":\"Clade\",\"legendgrouptitle\":{\"font\":{\"size\":14},\"text\":\"Clade\"},\"marker\":{\"color\":\"rgba(136, 204, 238, 0.15)\"},\"name\":\"21A (Delta)\",\"orientation\":\"h\",\"showlegend\":false,\"visible\":true,\"x\":[1278],\"y\":[6.5],\"yaxis\":\"y\",\"type\":\"bar\"},{\"hoverinfo\":\"skip\",\"legendgroup\":\"Subunit\",\"legendgrouptitle\":{\"font\":{\"size\":14},\"text\":\"Subunit\"},\"line\":{\"color\":\"plum\",\"width\":3},\"mode\":\"lines\",\"name\":\"S1\",\"showlegend\":false,\"visible\":true,\"x\":[14,685],\"y\":[6.5,6.5],\"yaxis\":\"y2\",\"type\":\"scatter\"},{\"hoverinfo\":\"skip\",\"legendgroup\":\"Subunit\",\"line\":{\"color\":\"pink\",\"width\":3},\"mode\":\"lines\",\"name\":\"S2\",\"showlegend\":false,\"visible\":true,\"x\":[686,1273],\"y\":[6.5,6.5],\"yaxis\":\"y2\",\"type\":\"scatter\"},{\"hoverinfo\":\"text\",\"legendgroup\":\"changes\",\"legendgrouptitle\":{\"font\":{\"size\":14},\"text\":\"Sequence Difference\"},\"marker\":{\"color\":\"orange\",\"size\":6,\"symbol\":\"square\"},\"mode\":\"markers\",\"name\":\"insertion\",\"showlegend\":false,\"text\":[null],\"visible\":true,\"x\":[null],\"y\":[6.5],\"yaxis\":\"y2\",\"type\":\"scatter\"},{\"hoverinfo\":\"text\",\"legendgroup\":\"changes\",\"marker\":{\"color\":\"red\",\"size\":6,\"symbol\":\"square\"},\"mode\":\"markers\",\"name\":\"deletion\",\"showlegend\":false,\"text\":[null],\"visible\":true,\"x\":[null],\"y\":[6.5],\"yaxis\":\"y2\",\"type\":\"scatter\"},{\"hoverinfo\":\"text\",\"legendgroup\":\"changes\",\"marker\":{\"color\":\"blue\",\"size\":6,\"symbol\":\"circle\"},\"mode\":\"markers\",\"name\":\"substitution, semi-conservative\",\"showlegend\":false,\"text\":[null,\"F5L\",\"L18F\",\"T20N\",\"P26S\",\"D138Y\",\"R190S\",\"K417T\",\"E484K\",\"N501Y\",\"D614G\",\"A653V\",\"H655Y\",\"A688V\",\"A1020S\",\"T1027I\",\"V1176F\"],\"visible\":true,\"x\":[null,5,18,20,26,138,190,417,484,501,614,653,655,688,1020,1027,1176],\"y\":[6.5,6.5,6.5,6.5,6.5,6.5,6.5,6.5,6.5,6.5,6.5,6.5,6.5,6.5,6.5,6.5,6.5],\"yaxis\":\"y2\",\"type\":\"scatter\"},{\"hoverinfo\":\"text\",\"legendgroup\":\"changes\",\"marker\":{\"color\":\"green\",\"size\":6,\"symbol\":\"circle\"},\"mode\":\"markers\",\"name\":\"substitution, conservative\",\"showlegend\":false,\"text\":[null],\"visible\":true,\"x\":[null],\"y\":[6.5],\"yaxis\":\"y2\",\"type\":\"scatter\"},{\"hoverinfo\":\"skip\",\"line\":{\"color\":\"gray\"},\"mode\":\"lines\",\"name\":\"sequence line\",\"showlegend\":false,\"visible\":true,\"x\":[1,1273],\"y\":[5.5,5.5],\"yaxis\":\"y\",\"type\":\"scatter\"},{\"customdata\":[[\"21A (Delta)\",58,0,2,11,0]],\"hovertemplate\":\"<b>%{y}</b><br>Clade: %{customdata[0]}<br>Count: %{customdata[1]}<br><br>%{customdata[2]} inserts<br>%{customdata[3]} deletions<br>%{customdata[4]} semi-comservative substitutions<br>%{customdata[5]} conservative substitutions<extra></extra>\",\"legendgroup\":\"Clade\",\"legendgrouptitle\":{\"font\":{\"size\":14},\"text\":\"Clade\"},\"marker\":{\"color\":\"rgba(136, 204, 238, 0.15)\"},\"name\":\"21A (Delta)\",\"orientation\":\"h\",\"showlegend\":false,\"visible\":true,\"x\":[1278],\"y\":[5.5],\"yaxis\":\"y\",\"type\":\"bar\"},{\"hoverinfo\":\"skip\",\"legendgroup\":\"Subunit\",\"legendgrouptitle\":{\"font\":{\"size\":14},\"text\":\"Subunit\"},\"line\":{\"color\":\"plum\",\"width\":3},\"mode\":\"lines\",\"name\":\"S1\",\"showlegend\":false,\"visible\":true,\"x\":[14,685],\"y\":[5.5,5.5],\"yaxis\":\"y2\",\"type\":\"scatter\"},{\"hoverinfo\":\"skip\",\"legendgroup\":\"Subunit\",\"line\":{\"color\":\"pink\",\"width\":3},\"mode\":\"lines\",\"name\":\"S2\",\"showlegend\":false,\"visible\":true,\"x\":[686,1273],\"y\":[5.5,5.5],\"yaxis\":\"y2\",\"type\":\"scatter\"},{\"hoverinfo\":\"text\",\"legendgroup\":\"changes\",\"legendgrouptitle\":{\"font\":{\"size\":14},\"text\":\"Sequence Difference\"},\"marker\":{\"color\":\"orange\",\"size\":6,\"symbol\":\"square\"},\"mode\":\"markers\",\"name\":\"insertion\",\"showlegend\":false,\"text\":[null],\"visible\":true,\"x\":[null],\"y\":[5.5],\"yaxis\":\"y2\",\"type\":\"scatter\"},{\"hoverinfo\":\"text\",\"legendgroup\":\"changes\",\"marker\":{\"color\":\"red\",\"size\":6,\"symbol\":\"square\"},\"mode\":\"markers\",\"name\":\"deletion\",\"showlegend\":false,\"text\":[null,\"E156\",\"F157\"],\"visible\":true,\"x\":[null,156,157],\"y\":[5.5,5.5,5.5],\"yaxis\":\"y2\",\"type\":\"scatter\"},{\"hoverinfo\":\"text\",\"legendgroup\":\"changes\",\"marker\":{\"color\":\"blue\",\"size\":6,\"symbol\":\"circle\"},\"mode\":\"markers\",\"name\":\"substitution, semi-conservative\",\"showlegend\":false,\"text\":[null,\"F5L\",\"T19R\",\"K77T\",\"G142D\",\"R158G\",\"L452R\",\"T478K\",\"E484Q\",\"D614G\",\"P681R\",\"D950N\"],\"visible\":true,\"x\":[null,5,19,77,142,158,452,478,484,614,681,950],\"y\":[5.5,5.5,5.5,5.5,5.5,5.5,5.5,5.5,5.5,5.5,5.5,5.5],\"yaxis\":\"y2\",\"type\":\"scatter\"},{\"hoverinfo\":\"text\",\"legendgroup\":\"changes\",\"marker\":{\"color\":\"green\",\"size\":6,\"symbol\":\"circle\"},\"mode\":\"markers\",\"name\":\"substitution, conservative\",\"showlegend\":false,\"text\":[null],\"visible\":true,\"x\":[null],\"y\":[5.5],\"yaxis\":\"y2\",\"type\":\"scatter\"},{\"hoverinfo\":\"skip\",\"line\":{\"color\":\"gray\"},\"mode\":\"lines\",\"name\":\"sequence line\",\"showlegend\":false,\"visible\":true,\"x\":[1,1273],\"y\":[4.5,4.5],\"yaxis\":\"y\",\"type\":\"scatter\"},{\"customdata\":[[\"21A (Delta)\",57,0,2,8,0]],\"hovertemplate\":\"<b>%{y}</b><br>Clade: %{customdata[0]}<br>Count: %{customdata[1]}<br><br>%{customdata[2]} inserts<br>%{customdata[3]} deletions<br>%{customdata[4]} semi-comservative substitutions<br>%{customdata[5]} conservative substitutions<extra></extra>\",\"legendgroup\":\"Clade\",\"legendgrouptitle\":{\"font\":{\"size\":14},\"text\":\"Clade\"},\"marker\":{\"color\":\"rgba(136, 204, 238, 0.15)\"},\"name\":\"21A (Delta)\",\"orientation\":\"h\",\"showlegend\":false,\"visible\":true,\"x\":[1278],\"y\":[4.5],\"yaxis\":\"y\",\"type\":\"bar\"},{\"hoverinfo\":\"skip\",\"legendgroup\":\"Subunit\",\"legendgrouptitle\":{\"font\":{\"size\":14},\"text\":\"Subunit\"},\"line\":{\"color\":\"plum\",\"width\":3},\"mode\":\"lines\",\"name\":\"S1\",\"showlegend\":false,\"visible\":true,\"x\":[14,685],\"y\":[4.5,4.5],\"yaxis\":\"y2\",\"type\":\"scatter\"},{\"hoverinfo\":\"skip\",\"legendgroup\":\"Subunit\",\"line\":{\"color\":\"pink\",\"width\":3},\"mode\":\"lines\",\"name\":\"S2\",\"showlegend\":false,\"visible\":true,\"x\":[686,1273],\"y\":[4.5,4.5],\"yaxis\":\"y2\",\"type\":\"scatter\"},{\"hoverinfo\":\"text\",\"legendgroup\":\"changes\",\"legendgrouptitle\":{\"font\":{\"size\":14},\"text\":\"Sequence Difference\"},\"marker\":{\"color\":\"orange\",\"size\":6,\"symbol\":\"square\"},\"mode\":\"markers\",\"name\":\"insertion\",\"showlegend\":false,\"text\":[null],\"visible\":true,\"x\":[null],\"y\":[4.5],\"yaxis\":\"y2\",\"type\":\"scatter\"},{\"hoverinfo\":\"text\",\"legendgroup\":\"changes\",\"marker\":{\"color\":\"red\",\"size\":6,\"symbol\":\"square\"},\"mode\":\"markers\",\"name\":\"deletion\",\"showlegend\":false,\"text\":[null,\"E156\",\"F157\"],\"visible\":true,\"x\":[null,156,157],\"y\":[4.5,4.5,4.5],\"yaxis\":\"y2\",\"type\":\"scatter\"},{\"hoverinfo\":\"text\",\"legendgroup\":\"changes\",\"marker\":{\"color\":\"blue\",\"size\":6,\"symbol\":\"circle\"},\"mode\":\"markers\",\"name\":\"substitution, semi-conservative\",\"showlegend\":false,\"text\":[null,\"F5L\",\"T19R\",\"K77T\",\"R158G\",\"L452R\",\"T478K\",\"D614G\",\"P681R\"],\"visible\":true,\"x\":[null,5,19,77,158,452,478,614,681],\"y\":[4.5,4.5,4.5,4.5,4.5,4.5,4.5,4.5,4.5],\"yaxis\":\"y2\",\"type\":\"scatter\"},{\"hoverinfo\":\"text\",\"legendgroup\":\"changes\",\"marker\":{\"color\":\"green\",\"size\":6,\"symbol\":\"circle\"},\"mode\":\"markers\",\"name\":\"substitution, conservative\",\"showlegend\":false,\"text\":[null],\"visible\":true,\"x\":[null],\"y\":[4.5],\"yaxis\":\"y2\",\"type\":\"scatter\"},{\"hoverinfo\":\"skip\",\"line\":{\"color\":\"gray\"},\"mode\":\"lines\",\"name\":\"sequence line\",\"showlegend\":false,\"visible\":true,\"x\":[1,1273],\"y\":[3.5,3.5],\"yaxis\":\"y\",\"type\":\"scatter\"},{\"customdata\":[[\"21A (Delta)\",33,0,2,10,0]],\"hovertemplate\":\"<b>%{y}</b><br>Clade: %{customdata[0]}<br>Count: %{customdata[1]}<br><br>%{customdata[2]} inserts<br>%{customdata[3]} deletions<br>%{customdata[4]} semi-comservative substitutions<br>%{customdata[5]} conservative substitutions<extra></extra>\",\"legendgroup\":\"Clade\",\"legendgrouptitle\":{\"font\":{\"size\":14},\"text\":\"Clade\"},\"marker\":{\"color\":\"rgba(136, 204, 238, 0.15)\"},\"name\":\"21A (Delta)\",\"orientation\":\"h\",\"showlegend\":false,\"visible\":true,\"x\":[1278],\"y\":[3.5],\"yaxis\":\"y\",\"type\":\"bar\"},{\"hoverinfo\":\"skip\",\"legendgroup\":\"Subunit\",\"legendgrouptitle\":{\"font\":{\"size\":14},\"text\":\"Subunit\"},\"line\":{\"color\":\"plum\",\"width\":3},\"mode\":\"lines\",\"name\":\"S1\",\"showlegend\":false,\"visible\":true,\"x\":[14,685],\"y\":[3.5,3.5],\"yaxis\":\"y2\",\"type\":\"scatter\"},{\"hoverinfo\":\"skip\",\"legendgroup\":\"Subunit\",\"line\":{\"color\":\"pink\",\"width\":3},\"mode\":\"lines\",\"name\":\"S2\",\"showlegend\":false,\"visible\":true,\"x\":[686,1273],\"y\":[3.5,3.5],\"yaxis\":\"y2\",\"type\":\"scatter\"},{\"hoverinfo\":\"text\",\"legendgroup\":\"changes\",\"legendgrouptitle\":{\"font\":{\"size\":14},\"text\":\"Sequence Difference\"},\"marker\":{\"color\":\"orange\",\"size\":6,\"symbol\":\"square\"},\"mode\":\"markers\",\"name\":\"insertion\",\"showlegend\":false,\"text\":[null],\"visible\":true,\"x\":[null],\"y\":[3.5],\"yaxis\":\"y2\",\"type\":\"scatter\"},{\"hoverinfo\":\"text\",\"legendgroup\":\"changes\",\"marker\":{\"color\":\"red\",\"size\":6,\"symbol\":\"square\"},\"mode\":\"markers\",\"name\":\"deletion\",\"showlegend\":false,\"text\":[null,\"E156\",\"F157\"],\"visible\":true,\"x\":[null,156,157],\"y\":[3.5,3.5,3.5],\"yaxis\":\"y2\",\"type\":\"scatter\"},{\"hoverinfo\":\"text\",\"legendgroup\":\"changes\",\"marker\":{\"color\":\"blue\",\"size\":6,\"symbol\":\"circle\"},\"mode\":\"markers\",\"name\":\"substitution, semi-conservative\",\"showlegend\":false,\"text\":[null,\"F5L\",\"T19R\",\"K77T\",\"R158G\",\"L452R\",\"T478K\",\"E484Q\",\"D614G\",\"P681R\",\"D950N\"],\"visible\":true,\"x\":[null,5,19,77,158,452,478,484,614,681,950],\"y\":[3.5,3.5,3.5,3.5,3.5,3.5,3.5,3.5,3.5,3.5,3.5],\"yaxis\":\"y2\",\"type\":\"scatter\"},{\"hoverinfo\":\"text\",\"legendgroup\":\"changes\",\"marker\":{\"color\":\"green\",\"size\":6,\"symbol\":\"circle\"},\"mode\":\"markers\",\"name\":\"substitution, conservative\",\"showlegend\":false,\"text\":[null],\"visible\":true,\"x\":[null],\"y\":[3.5],\"yaxis\":\"y2\",\"type\":\"scatter\"},{\"hoverinfo\":\"skip\",\"line\":{\"color\":\"gray\"},\"mode\":\"lines\",\"name\":\"sequence line\",\"showlegend\":false,\"visible\":true,\"x\":[1,1273],\"y\":[2.5,2.5],\"yaxis\":\"y\",\"type\":\"scatter\"},{\"customdata\":[[\"21A (Delta)\",29,0,2,11,0]],\"hovertemplate\":\"<b>%{y}</b><br>Clade: %{customdata[0]}<br>Count: %{customdata[1]}<br><br>%{customdata[2]} inserts<br>%{customdata[3]} deletions<br>%{customdata[4]} semi-comservative substitutions<br>%{customdata[5]} conservative substitutions<extra></extra>\",\"legendgroup\":\"Clade\",\"legendgrouptitle\":{\"font\":{\"size\":14},\"text\":\"Clade\"},\"marker\":{\"color\":\"rgba(136, 204, 238, 0.15)\"},\"name\":\"21A (Delta)\",\"orientation\":\"h\",\"showlegend\":false,\"visible\":true,\"x\":[1278],\"y\":[2.5],\"yaxis\":\"y\",\"type\":\"bar\"},{\"hoverinfo\":\"skip\",\"legendgroup\":\"Subunit\",\"legendgrouptitle\":{\"font\":{\"size\":14},\"text\":\"Subunit\"},\"line\":{\"color\":\"plum\",\"width\":3},\"mode\":\"lines\",\"name\":\"S1\",\"showlegend\":false,\"visible\":true,\"x\":[14,685],\"y\":[2.5,2.5],\"yaxis\":\"y2\",\"type\":\"scatter\"},{\"hoverinfo\":\"skip\",\"legendgroup\":\"Subunit\",\"line\":{\"color\":\"pink\",\"width\":3},\"mode\":\"lines\",\"name\":\"S2\",\"showlegend\":false,\"visible\":true,\"x\":[686,1273],\"y\":[2.5,2.5],\"yaxis\":\"y2\",\"type\":\"scatter\"},{\"hoverinfo\":\"text\",\"legendgroup\":\"changes\",\"legendgrouptitle\":{\"font\":{\"size\":14},\"text\":\"Sequence Difference\"},\"marker\":{\"color\":\"orange\",\"size\":6,\"symbol\":\"square\"},\"mode\":\"markers\",\"name\":\"insertion\",\"showlegend\":false,\"text\":[null],\"visible\":true,\"x\":[null],\"y\":[2.5],\"yaxis\":\"y2\",\"type\":\"scatter\"},{\"hoverinfo\":\"text\",\"legendgroup\":\"changes\",\"marker\":{\"color\":\"red\",\"size\":6,\"symbol\":\"square\"},\"mode\":\"markers\",\"name\":\"deletion\",\"showlegend\":false,\"text\":[null,\"E156\",\"F157\"],\"visible\":true,\"x\":[null,156,157],\"y\":[2.5,2.5,2.5],\"yaxis\":\"y2\",\"type\":\"scatter\"},{\"hoverinfo\":\"text\",\"legendgroup\":\"changes\",\"marker\":{\"color\":\"blue\",\"size\":6,\"symbol\":\"circle\"},\"mode\":\"markers\",\"name\":\"substitution, semi-conservative\",\"showlegend\":false,\"text\":[null,\"F5L\",\"T19R\",\"K77T\",\"G142D\",\"R158G\",\"L452R\",\"T478K\",\"D614G\",\"P681R\",\"A684V\",\"D950N\"],\"visible\":true,\"x\":[null,5,19,77,142,158,452,478,614,681,684,950],\"y\":[2.5,2.5,2.5,2.5,2.5,2.5,2.5,2.5,2.5,2.5,2.5,2.5],\"yaxis\":\"y2\",\"type\":\"scatter\"},{\"hoverinfo\":\"text\",\"legendgroup\":\"changes\",\"marker\":{\"color\":\"green\",\"size\":6,\"symbol\":\"circle\"},\"mode\":\"markers\",\"name\":\"substitution, conservative\",\"showlegend\":false,\"text\":[null],\"visible\":true,\"x\":[null],\"y\":[2.5],\"yaxis\":\"y2\",\"type\":\"scatter\"},{\"hoverinfo\":\"skip\",\"line\":{\"color\":\"gray\"},\"mode\":\"lines\",\"name\":\"sequence line\",\"showlegend\":false,\"visible\":true,\"x\":[1,1273],\"y\":[1.5,1.5],\"yaxis\":\"y\",\"type\":\"scatter\"},{\"customdata\":[[\"21J (Delta)\",29,0,0,8,0]],\"hovertemplate\":\"<b>%{y}</b><br>Clade: %{customdata[0]}<br>Count: %{customdata[1]}<br><br>%{customdata[2]} inserts<br>%{customdata[3]} deletions<br>%{customdata[4]} semi-comservative substitutions<br>%{customdata[5]} conservative substitutions<extra></extra>\",\"legendgroup\":\"Clade\",\"legendgrouptitle\":{\"font\":{\"size\":14},\"text\":\"Clade\"},\"marker\":{\"color\":\"rgba(221, 204, 119, 0.15)\"},\"name\":\"21J (Delta)\",\"orientation\":\"h\",\"showlegend\":false,\"visible\":true,\"x\":[1278],\"y\":[1.5],\"yaxis\":\"y\",\"type\":\"bar\"},{\"hoverinfo\":\"skip\",\"legendgroup\":\"Subunit\",\"legendgrouptitle\":{\"font\":{\"size\":14},\"text\":\"Subunit\"},\"line\":{\"color\":\"plum\",\"width\":3},\"mode\":\"lines\",\"name\":\"S1\",\"showlegend\":false,\"visible\":true,\"x\":[14,685],\"y\":[1.5,1.5],\"yaxis\":\"y2\",\"type\":\"scatter\"},{\"hoverinfo\":\"skip\",\"legendgroup\":\"Subunit\",\"line\":{\"color\":\"pink\",\"width\":3},\"mode\":\"lines\",\"name\":\"S2\",\"showlegend\":false,\"visible\":true,\"x\":[686,1273],\"y\":[1.5,1.5],\"yaxis\":\"y2\",\"type\":\"scatter\"},{\"hoverinfo\":\"text\",\"legendgroup\":\"changes\",\"legendgrouptitle\":{\"font\":{\"size\":14},\"text\":\"Sequence Difference\"},\"marker\":{\"color\":\"orange\",\"size\":6,\"symbol\":\"square\"},\"mode\":\"markers\",\"name\":\"insertion\",\"showlegend\":false,\"text\":[null],\"visible\":true,\"x\":[null],\"y\":[1.5],\"yaxis\":\"y2\",\"type\":\"scatter\"},{\"hoverinfo\":\"text\",\"legendgroup\":\"changes\",\"marker\":{\"color\":\"red\",\"size\":6,\"symbol\":\"square\"},\"mode\":\"markers\",\"name\":\"deletion\",\"showlegend\":false,\"text\":[null],\"visible\":true,\"x\":[null],\"y\":[1.5],\"yaxis\":\"y2\",\"type\":\"scatter\"},{\"hoverinfo\":\"text\",\"legendgroup\":\"changes\",\"marker\":{\"color\":\"blue\",\"size\":6,\"symbol\":\"circle\"},\"mode\":\"markers\",\"name\":\"substitution, semi-conservative\",\"showlegend\":false,\"text\":[null,\"F5L\",\"T19R\",\"R158G\",\"L452R\",\"T478K\",\"D614G\",\"P681R\",\"D950N\"],\"visible\":true,\"x\":[null,5,19,158,452,478,614,681,950],\"y\":[1.5,1.5,1.5,1.5,1.5,1.5,1.5,1.5,1.5],\"yaxis\":\"y2\",\"type\":\"scatter\"},{\"hoverinfo\":\"text\",\"legendgroup\":\"changes\",\"marker\":{\"color\":\"green\",\"size\":6,\"symbol\":\"circle\"},\"mode\":\"markers\",\"name\":\"substitution, conservative\",\"showlegend\":false,\"text\":[null],\"visible\":true,\"x\":[null],\"y\":[1.5],\"yaxis\":\"y2\",\"type\":\"scatter\"},{\"hoverinfo\":\"skip\",\"line\":{\"color\":\"gray\"},\"mode\":\"lines\",\"name\":\"sequence line\",\"showlegend\":false,\"visible\":true,\"x\":[1,1273],\"y\":[0.5,0.5],\"yaxis\":\"y\",\"type\":\"scatter\"},{\"customdata\":[[\"21A (Delta)\",28,0,2,9,0]],\"hovertemplate\":\"<b>%{y}</b><br>Clade: %{customdata[0]}<br>Count: %{customdata[1]}<br><br>%{customdata[2]} inserts<br>%{customdata[3]} deletions<br>%{customdata[4]} semi-comservative substitutions<br>%{customdata[5]} conservative substitutions<extra></extra>\",\"legendgroup\":\"Clade\",\"legendgrouptitle\":{\"font\":{\"size\":14},\"text\":\"Clade\"},\"marker\":{\"color\":\"rgba(136, 204, 238, 0.15)\"},\"name\":\"21A (Delta)\",\"orientation\":\"h\",\"showlegend\":false,\"visible\":true,\"x\":[1278],\"y\":[0.5],\"yaxis\":\"y\",\"type\":\"bar\"},{\"hoverinfo\":\"skip\",\"legendgroup\":\"Subunit\",\"legendgrouptitle\":{\"font\":{\"size\":14},\"text\":\"Subunit\"},\"line\":{\"color\":\"plum\",\"width\":3},\"mode\":\"lines\",\"name\":\"S1\",\"showlegend\":false,\"visible\":true,\"x\":[14,685],\"y\":[0.5,0.5],\"yaxis\":\"y2\",\"type\":\"scatter\"},{\"hoverinfo\":\"skip\",\"legendgroup\":\"Subunit\",\"line\":{\"color\":\"pink\",\"width\":3},\"mode\":\"lines\",\"name\":\"S2\",\"showlegend\":false,\"visible\":true,\"x\":[686,1273],\"y\":[0.5,0.5],\"yaxis\":\"y2\",\"type\":\"scatter\"},{\"hoverinfo\":\"text\",\"legendgroup\":\"changes\",\"legendgrouptitle\":{\"font\":{\"size\":14},\"text\":\"Sequence Difference\"},\"marker\":{\"color\":\"orange\",\"size\":6,\"symbol\":\"square\"},\"mode\":\"markers\",\"name\":\"insertion\",\"showlegend\":false,\"text\":[null],\"visible\":true,\"x\":[null],\"y\":[0.5],\"yaxis\":\"y2\",\"type\":\"scatter\"},{\"hoverinfo\":\"text\",\"legendgroup\":\"changes\",\"marker\":{\"color\":\"red\",\"size\":6,\"symbol\":\"square\"},\"mode\":\"markers\",\"name\":\"deletion\",\"showlegend\":false,\"text\":[null,\"E156\",\"F157\"],\"visible\":true,\"x\":[null,156,157],\"y\":[0.5,0.5,0.5],\"yaxis\":\"y2\",\"type\":\"scatter\"},{\"hoverinfo\":\"text\",\"legendgroup\":\"changes\",\"marker\":{\"color\":\"blue\",\"size\":6,\"symbol\":\"circle\"},\"mode\":\"markers\",\"name\":\"substitution, semi-conservative\",\"showlegend\":false,\"text\":[null,\"F5L\",\"T19R\",\"G142D\",\"R158G\",\"L452R\",\"T478K\",\"D614G\",\"P681R\",\"D950N\"],\"visible\":true,\"x\":[null,5,19,142,158,452,478,614,681,950],\"y\":[0.5,0.5,0.5,0.5,0.5,0.5,0.5,0.5,0.5,0.5],\"yaxis\":\"y2\",\"type\":\"scatter\"},{\"hoverinfo\":\"text\",\"legendgroup\":\"changes\",\"marker\":{\"color\":\"green\",\"size\":6,\"symbol\":\"circle\"},\"mode\":\"markers\",\"name\":\"substitution, conservative\",\"showlegend\":false,\"text\":[null],\"visible\":true,\"x\":[null],\"y\":[0.5],\"yaxis\":\"y2\",\"type\":\"scatter\"}],                        {\"template\":{\"data\":{\"bar\":[{\"error_x\":{\"color\":\"#2a3f5f\"},\"error_y\":{\"color\":\"#2a3f5f\"},\"marker\":{\"line\":{\"color\":\"#E5ECF6\",\"width\":0.5},\"pattern\":{\"fillmode\":\"overlay\",\"size\":10,\"solidity\":0.2}},\"type\":\"bar\"}],\"barpolar\":[{\"marker\":{\"line\":{\"color\":\"#E5ECF6\",\"width\":0.5},\"pattern\":{\"fillmode\":\"overlay\",\"size\":10,\"solidity\":0.2}},\"type\":\"barpolar\"}],\"carpet\":[{\"aaxis\":{\"endlinecolor\":\"#2a3f5f\",\"gridcolor\":\"white\",\"linecolor\":\"white\",\"minorgridcolor\":\"white\",\"startlinecolor\":\"#2a3f5f\"},\"baxis\":{\"endlinecolor\":\"#2a3f5f\",\"gridcolor\":\"white\",\"linecolor\":\"white\",\"minorgridcolor\":\"white\",\"startlinecolor\":\"#2a3f5f\"},\"type\":\"carpet\"}],\"choropleth\":[{\"colorbar\":{\"outlinewidth\":0,\"ticks\":\"\"},\"type\":\"choropleth\"}],\"contour\":[{\"colorbar\":{\"outlinewidth\":0,\"ticks\":\"\"},\"colorscale\":[[0.0,\"#0d0887\"],[0.1111111111111111,\"#46039f\"],[0.2222222222222222,\"#7201a8\"],[0.3333333333333333,\"#9c179e\"],[0.4444444444444444,\"#bd3786\"],[0.5555555555555556,\"#d8576b\"],[0.6666666666666666,\"#ed7953\"],[0.7777777777777778,\"#fb9f3a\"],[0.8888888888888888,\"#fdca26\"],[1.0,\"#f0f921\"]],\"type\":\"contour\"}],\"contourcarpet\":[{\"colorbar\":{\"outlinewidth\":0,\"ticks\":\"\"},\"type\":\"contourcarpet\"}],\"heatmap\":[{\"colorbar\":{\"outlinewidth\":0,\"ticks\":\"\"},\"colorscale\":[[0.0,\"#0d0887\"],[0.1111111111111111,\"#46039f\"],[0.2222222222222222,\"#7201a8\"],[0.3333333333333333,\"#9c179e\"],[0.4444444444444444,\"#bd3786\"],[0.5555555555555556,\"#d8576b\"],[0.6666666666666666,\"#ed7953\"],[0.7777777777777778,\"#fb9f3a\"],[0.8888888888888888,\"#fdca26\"],[1.0,\"#f0f921\"]],\"type\":\"heatmap\"}],\"heatmapgl\":[{\"colorbar\":{\"outlinewidth\":0,\"ticks\":\"\"},\"colorscale\":[[0.0,\"#0d0887\"],[0.1111111111111111,\"#46039f\"],[0.2222222222222222,\"#7201a8\"],[0.3333333333333333,\"#9c179e\"],[0.4444444444444444,\"#bd3786\"],[0.5555555555555556,\"#d8576b\"],[0.6666666666666666,\"#ed7953\"],[0.7777777777777778,\"#fb9f3a\"],[0.8888888888888888,\"#fdca26\"],[1.0,\"#f0f921\"]],\"type\":\"heatmapgl\"}],\"histogram\":[{\"marker\":{\"pattern\":{\"fillmode\":\"overlay\",\"size\":10,\"solidity\":0.2}},\"type\":\"histogram\"}],\"histogram2d\":[{\"colorbar\":{\"outlinewidth\":0,\"ticks\":\"\"},\"colorscale\":[[0.0,\"#0d0887\"],[0.1111111111111111,\"#46039f\"],[0.2222222222222222,\"#7201a8\"],[0.3333333333333333,\"#9c179e\"],[0.4444444444444444,\"#bd3786\"],[0.5555555555555556,\"#d8576b\"],[0.6666666666666666,\"#ed7953\"],[0.7777777777777778,\"#fb9f3a\"],[0.8888888888888888,\"#fdca26\"],[1.0,\"#f0f921\"]],\"type\":\"histogram2d\"}],\"histogram2dcontour\":[{\"colorbar\":{\"outlinewidth\":0,\"ticks\":\"\"},\"colorscale\":[[0.0,\"#0d0887\"],[0.1111111111111111,\"#46039f\"],[0.2222222222222222,\"#7201a8\"],[0.3333333333333333,\"#9c179e\"],[0.4444444444444444,\"#bd3786\"],[0.5555555555555556,\"#d8576b\"],[0.6666666666666666,\"#ed7953\"],[0.7777777777777778,\"#fb9f3a\"],[0.8888888888888888,\"#fdca26\"],[1.0,\"#f0f921\"]],\"type\":\"histogram2dcontour\"}],\"mesh3d\":[{\"colorbar\":{\"outlinewidth\":0,\"ticks\":\"\"},\"type\":\"mesh3d\"}],\"parcoords\":[{\"line\":{\"colorbar\":{\"outlinewidth\":0,\"ticks\":\"\"}},\"type\":\"parcoords\"}],\"pie\":[{\"automargin\":true,\"type\":\"pie\"}],\"scatter\":[{\"marker\":{\"colorbar\":{\"outlinewidth\":0,\"ticks\":\"\"}},\"type\":\"scatter\"}],\"scatter3d\":[{\"line\":{\"colorbar\":{\"outlinewidth\":0,\"ticks\":\"\"}},\"marker\":{\"colorbar\":{\"outlinewidth\":0,\"ticks\":\"\"}},\"type\":\"scatter3d\"}],\"scattercarpet\":[{\"marker\":{\"colorbar\":{\"outlinewidth\":0,\"ticks\":\"\"}},\"type\":\"scattercarpet\"}],\"scattergeo\":[{\"marker\":{\"colorbar\":{\"outlinewidth\":0,\"ticks\":\"\"}},\"type\":\"scattergeo\"}],\"scattergl\":[{\"marker\":{\"colorbar\":{\"outlinewidth\":0,\"ticks\":\"\"}},\"type\":\"scattergl\"}],\"scattermapbox\":[{\"marker\":{\"colorbar\":{\"outlinewidth\":0,\"ticks\":\"\"}},\"type\":\"scattermapbox\"}],\"scatterpolar\":[{\"marker\":{\"colorbar\":{\"outlinewidth\":0,\"ticks\":\"\"}},\"type\":\"scatterpolar\"}],\"scatterpolargl\":[{\"marker\":{\"colorbar\":{\"outlinewidth\":0,\"ticks\":\"\"}},\"type\":\"scatterpolargl\"}],\"scatterternary\":[{\"marker\":{\"colorbar\":{\"outlinewidth\":0,\"ticks\":\"\"}},\"type\":\"scatterternary\"}],\"surface\":[{\"colorbar\":{\"outlinewidth\":0,\"ticks\":\"\"},\"colorscale\":[[0.0,\"#0d0887\"],[0.1111111111111111,\"#46039f\"],[0.2222222222222222,\"#7201a8\"],[0.3333333333333333,\"#9c179e\"],[0.4444444444444444,\"#bd3786\"],[0.5555555555555556,\"#d8576b\"],[0.6666666666666666,\"#ed7953\"],[0.7777777777777778,\"#fb9f3a\"],[0.8888888888888888,\"#fdca26\"],[1.0,\"#f0f921\"]],\"type\":\"surface\"}],\"table\":[{\"cells\":{\"fill\":{\"color\":\"#EBF0F8\"},\"line\":{\"color\":\"white\"}},\"header\":{\"fill\":{\"color\":\"#C8D4E3\"},\"line\":{\"color\":\"white\"}},\"type\":\"table\"}]},\"layout\":{\"annotationdefaults\":{\"arrowcolor\":\"#2a3f5f\",\"arrowhead\":0,\"arrowwidth\":1},\"autotypenumbers\":\"strict\",\"coloraxis\":{\"colorbar\":{\"outlinewidth\":0,\"ticks\":\"\"}},\"colorscale\":{\"diverging\":[[0,\"#8e0152\"],[0.1,\"#c51b7d\"],[0.2,\"#de77ae\"],[0.3,\"#f1b6da\"],[0.4,\"#fde0ef\"],[0.5,\"#f7f7f7\"],[0.6,\"#e6f5d0\"],[0.7,\"#b8e186\"],[0.8,\"#7fbc41\"],[0.9,\"#4d9221\"],[1,\"#276419\"]],\"sequential\":[[0.0,\"#0d0887\"],[0.1111111111111111,\"#46039f\"],[0.2222222222222222,\"#7201a8\"],[0.3333333333333333,\"#9c179e\"],[0.4444444444444444,\"#bd3786\"],[0.5555555555555556,\"#d8576b\"],[0.6666666666666666,\"#ed7953\"],[0.7777777777777778,\"#fb9f3a\"],[0.8888888888888888,\"#fdca26\"],[1.0,\"#f0f921\"]],\"sequentialminus\":[[0.0,\"#0d0887\"],[0.1111111111111111,\"#46039f\"],[0.2222222222222222,\"#7201a8\"],[0.3333333333333333,\"#9c179e\"],[0.4444444444444444,\"#bd3786\"],[0.5555555555555556,\"#d8576b\"],[0.6666666666666666,\"#ed7953\"],[0.7777777777777778,\"#fb9f3a\"],[0.8888888888888888,\"#fdca26\"],[1.0,\"#f0f921\"]]},\"colorway\":[\"#636efa\",\"#EF553B\",\"#00cc96\",\"#ab63fa\",\"#FFA15A\",\"#19d3f3\",\"#FF6692\",\"#B6E880\",\"#FF97FF\",\"#FECB52\"],\"font\":{\"color\":\"#2a3f5f\"},\"geo\":{\"bgcolor\":\"white\",\"lakecolor\":\"white\",\"landcolor\":\"#E5ECF6\",\"showlakes\":true,\"showland\":true,\"subunitcolor\":\"white\"},\"hoverlabel\":{\"align\":\"left\"},\"hovermode\":\"closest\",\"mapbox\":{\"style\":\"light\"},\"paper_bgcolor\":\"white\",\"plot_bgcolor\":\"#E5ECF6\",\"polar\":{\"angularaxis\":{\"gridcolor\":\"white\",\"linecolor\":\"white\",\"ticks\":\"\"},\"bgcolor\":\"#E5ECF6\",\"radialaxis\":{\"gridcolor\":\"white\",\"linecolor\":\"white\",\"ticks\":\"\"}},\"scene\":{\"xaxis\":{\"backgroundcolor\":\"#E5ECF6\",\"gridcolor\":\"white\",\"gridwidth\":2,\"linecolor\":\"white\",\"showbackground\":true,\"ticks\":\"\",\"zerolinecolor\":\"white\"},\"yaxis\":{\"backgroundcolor\":\"#E5ECF6\",\"gridcolor\":\"white\",\"gridwidth\":2,\"linecolor\":\"white\",\"showbackground\":true,\"ticks\":\"\",\"zerolinecolor\":\"white\"},\"zaxis\":{\"backgroundcolor\":\"#E5ECF6\",\"gridcolor\":\"white\",\"gridwidth\":2,\"linecolor\":\"white\",\"showbackground\":true,\"ticks\":\"\",\"zerolinecolor\":\"white\"}},\"shapedefaults\":{\"line\":{\"color\":\"#2a3f5f\"}},\"ternary\":{\"aaxis\":{\"gridcolor\":\"white\",\"linecolor\":\"white\",\"ticks\":\"\"},\"baxis\":{\"gridcolor\":\"white\",\"linecolor\":\"white\",\"ticks\":\"\"},\"bgcolor\":\"#E5ECF6\",\"caxis\":{\"gridcolor\":\"white\",\"linecolor\":\"white\",\"ticks\":\"\"}},\"title\":{\"x\":0.05},\"xaxis\":{\"automargin\":true,\"gridcolor\":\"white\",\"linecolor\":\"white\",\"ticks\":\"\",\"title\":{\"standoff\":15},\"zerolinecolor\":\"white\",\"zerolinewidth\":2},\"yaxis\":{\"automargin\":true,\"gridcolor\":\"white\",\"linecolor\":\"white\",\"ticks\":\"\",\"title\":{\"standoff\":15},\"zerolinecolor\":\"white\",\"zerolinewidth\":2}}},\"shapes\":[{\"layer\":\"below\",\"line\":{\"color\":\"orange\",\"width\":1},\"type\":\"line\",\"x0\":5,\"x1\":5,\"y0\":0.1,\"y1\":9.9},{\"layer\":\"below\",\"line\":{\"color\":\"orange\",\"width\":1},\"type\":\"line\",\"x0\":614,\"x1\":614,\"y0\":0.1,\"y1\":9.9}],\"xaxis\":{\"range\":[-15,1288],\"showgrid\":false,\"showspikes\":true,\"spikemode\":\"across\",\"spikethickness\":1,\"title\":{\"text\":\"Index\"}},\"yaxis\":{\"range\":[0,10],\"showgrid\":false,\"title\":{\"text\":\"Accession\",\"font\":{\"size\":14}},\"tickfont\":{\"size\":14},\"tickmode\":\"array\",\"tickvals\":[0.5,1.5,2.5,3.5,4.5,5.5,6.5,7.5,8.5,9.5],\"ticktext\":[\"QYL32654\",\"QXQ22426\",\"QZD01238\",\"QYP52957\",\"QYJ41843\",\"QYB96653\",\"QXL91697\",\"QXO37508\",\"QYJ42034\",\"QZD09591\"]},\"legend\":{\"font\":{\"size\":14},\"yanchor\":\"top\",\"y\":1,\"xanchor\":\"left\",\"x\":1.2},\"yaxis2\":{\"title\":{\"text\":\"Alignment Score\",\"font\":{\"size\":14}},\"range\":[0,10],\"overlaying\":\"y\",\"side\":\"right\",\"tickmode\":\"array\",\"tickvals\":[0.5,1.5,2.5,3.5,4.5,5.5,6.5,7.5,8.5,9.5],\"ticktext\":[\"98.54%\",\"98.65%\",\"99.14%\",\"98.68%\",\"98.50%\",\"98.72%\",\"98.60%\",\"98.48%\",\"99.26%\",\"98.63%\"],\"tickfont\":{\"size\":14}},\"plot_bgcolor\":\"white\",\"height\":700,\"width\":1200,\"barmode\":\"overlay\",\"title\":{\"text\":\"Top 10 Delta Sequences: Spike Protien Comparison to Top 19A Sequence\"},\"bargap\":0,\"annotations\":[{\"align\":\"left\",\"bordercolor\":\"orange\",\"borderpad\":4,\"borderwidth\":1,\"showarrow\":false,\"text\":\"Shared Changes: F5L, D614G\",\"x\":1.21,\"xanchor\":\"left\",\"xref\":\"paper\",\"y\":0,\"yanchor\":\"bottom\",\"yref\":\"paper\",\"font\":{\"size\":14}}]},                        {\"scrollZoom\": false, \"doubleClick\": \"reset\", \"displayModeBar\": true, \"modeBarButtonsToRemove\": [\"zoom2d\", \"zoomIn2d\", \"zoomOut2d\", \"autoScale2d\", \"lasso2d\", \"select2d\"], \"responsive\": true}                    ).then(function(){\n",
       "                            \n",
       "var gd = document.getElementById('18f01c64-02ca-4b06-830a-4eaae9839b30');\n",
       "var x = new MutationObserver(function (mutations, observer) {{\n",
       "        var display = window.getComputedStyle(gd).display;\n",
       "        if (!display || display === 'none') {{\n",
       "            console.log([gd, 'removed!']);\n",
       "            Plotly.purge(gd);\n",
       "            observer.disconnect();\n",
       "        }}\n",
       "}});\n",
       "\n",
       "// Listen for the removal of the full notebook cells\n",
       "var notebookContainer = gd.closest('#notebook-container');\n",
       "if (notebookContainer) {{\n",
       "    x.observe(notebookContainer, {childList: true});\n",
       "}}\n",
       "\n",
       "// Listen for the clearing of the current output cell\n",
       "var outputEl = gd.closest('.output');\n",
       "if (outputEl) {{\n",
       "    x.observe(outputEl, {childList: true});\n",
       "}}\n",
       "\n",
       "                        })                };                });            </script>        </div>"
      ]
     },
     "metadata": {},
     "output_type": "display_data"
    }
   ],
   "source": [
    "plot_alignment_plotly(df_all_delta, top_19A, save = True)"
   ]
  },
  {
   "cell_type": "code",
   "execution_count": null,
   "id": "4a4482e9",
   "metadata": {},
   "outputs": [],
   "source": []
  },
  {
   "cell_type": "code",
   "execution_count": null,
   "id": "38a9c6f6",
   "metadata": {},
   "outputs": [],
   "source": []
  },
  {
   "cell_type": "code",
   "execution_count": null,
   "id": "f3a38f9c",
   "metadata": {},
   "outputs": [],
   "source": []
  }
 ],
 "metadata": {
  "kernelspec": {
   "display_name": "Python 3 (ipykernel)",
   "language": "python",
   "name": "python3"
  },
  "language_info": {
   "codemirror_mode": {
    "name": "ipython",
    "version": 3
   },
   "file_extension": ".py",
   "mimetype": "text/x-python",
   "name": "python",
   "nbconvert_exporter": "python",
   "pygments_lexer": "ipython3",
   "version": "3.9.7"
  }
 },
 "nbformat": 4,
 "nbformat_minor": 5
}
