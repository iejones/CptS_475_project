{
 "cells": [
  {
   "cell_type": "markdown",
   "id": "5aa8c6e2",
   "metadata": {},
   "source": [
    "# Pairwise alignmnet visualization for all the most seen sequence in each timespan\n",
    "First, get our 10 rows with the most seen seq for each timespan"
   ]
  },
  {
   "cell_type": "code",
   "execution_count": 13,
   "id": "aa63582e",
   "metadata": {},
   "outputs": [],
   "source": [
    "import pandas as pd\n",
    "import os\n",
    "\n",
    "project_folder = os.path.join(\"..\", \"..\")"
   ]
  },
  {
   "cell_type": "code",
   "execution_count": 14,
   "id": "86fa5e7a",
   "metadata": {},
   "outputs": [
    {
     "data": {
      "text/html": [
       "<div>\n",
       "<style scoped>\n",
       "    .dataframe tbody tr th:only-of-type {\n",
       "        vertical-align: middle;\n",
       "    }\n",
       "\n",
       "    .dataframe tbody tr th {\n",
       "        vertical-align: top;\n",
       "    }\n",
       "\n",
       "    .dataframe thead th {\n",
       "        text-align: right;\n",
       "    }\n",
       "</style>\n",
       "<table border=\"1\" class=\"dataframe\">\n",
       "  <thead>\n",
       "    <tr style=\"text-align: right;\">\n",
       "      <th></th>\n",
       "      <th>state</th>\n",
       "      <th>p_sequence</th>\n",
       "      <th>p_accession</th>\n",
       "      <th>date</th>\n",
       "      <th>count</th>\n",
       "      <th>n_accession</th>\n",
       "      <th>n_sequence</th>\n",
       "      <th>clade</th>\n",
       "      <th>timespan</th>\n",
       "    </tr>\n",
       "  </thead>\n",
       "  <tbody>\n",
       "    <tr>\n",
       "      <th>0</th>\n",
       "      <td>MA</td>\n",
       "      <td>\"MFVFLVLLPLVSSQCVNLTTRTQLPPAYTNSFTRGVYYPDKVFRS...</td>\n",
       "      <td>QTP71261</td>\n",
       "      <td>2020</td>\n",
       "      <td>2</td>\n",
       "      <td>MW885877</td>\n",
       "      <td>GGTAACAAACCAACCAACTTTCGATCTCTTGTAGATCTGTTCTCTA...</td>\n",
       "      <td>20A</td>\n",
       "      <td>1</td>\n",
       "    </tr>\n",
       "  </tbody>\n",
       "</table>\n",
       "</div>"
      ],
      "text/plain": [
       "  state                                         p_sequence p_accession  date  \\\n",
       "0    MA  \"MFVFLVLLPLVSSQCVNLTTRTQLPPAYTNSFTRGVYYPDKVFRS...    QTP71261  2020   \n",
       "\n",
       "   count n_accession                                         n_sequence clade  \\\n",
       "0      2    MW885877  GGTAACAAACCAACCAACTTTCGATCTCTTGTAGATCTGTTCTCTA...   20A   \n",
       "\n",
       "   timespan  \n",
       "0         1  "
      ]
     },
     "execution_count": 14,
     "metadata": {},
     "output_type": "execute_result"
    }
   ],
   "source": [
    "df = pd.read_csv(os.path.join(project_folder, 'data', 'final', \"all.csv\"))\n",
    "df.head(1)"
   ]
  },
  {
   "cell_type": "code",
   "execution_count": 15,
   "id": "6bdd4d35",
   "metadata": {},
   "outputs": [],
   "source": [
    "temp = df.groupby('timespan', as_index = False).max('count')\n",
    "top_count_clade_per_timespan_df = df.merge(temp, on = ['timespan', 'count']).sort_values('timespan')"
   ]
  },
  {
   "cell_type": "code",
   "execution_count": 16,
   "id": "74e71598",
   "metadata": {},
   "outputs": [
    {
     "data": {
      "text/html": [
       "<div>\n",
       "<style scoped>\n",
       "    .dataframe tbody tr th:only-of-type {\n",
       "        vertical-align: middle;\n",
       "    }\n",
       "\n",
       "    .dataframe tbody tr th {\n",
       "        vertical-align: top;\n",
       "    }\n",
       "\n",
       "    .dataframe thead th {\n",
       "        text-align: right;\n",
       "    }\n",
       "</style>\n",
       "<table border=\"1\" class=\"dataframe\">\n",
       "  <thead>\n",
       "    <tr style=\"text-align: right;\">\n",
       "      <th></th>\n",
       "      <th>state</th>\n",
       "      <th>p_sequence</th>\n",
       "      <th>p_accession</th>\n",
       "      <th>date</th>\n",
       "      <th>count</th>\n",
       "      <th>n_accession</th>\n",
       "      <th>n_sequence</th>\n",
       "      <th>clade</th>\n",
       "      <th>timespan</th>\n",
       "    </tr>\n",
       "  </thead>\n",
       "  <tbody>\n",
       "    <tr>\n",
       "      <th>0</th>\n",
       "      <td>WA</td>\n",
       "      <td>\"MFVFLVLLPLVSSQCVNLTTRTQLPPAYTNSFTRGVYYPDKVFRS...</td>\n",
       "      <td>QLJ57227</td>\n",
       "      <td>2020</td>\n",
       "      <td>1367</td>\n",
       "      <td>MT252714</td>\n",
       "      <td>CTTGTAGATCTGTTCTCTAAACGAACTTTAAAATCTGTGTGGCTGT...</td>\n",
       "      <td>19B</td>\n",
       "      <td>1</td>\n",
       "    </tr>\n",
       "    <tr>\n",
       "      <th>1</th>\n",
       "      <td>WA</td>\n",
       "      <td>\"MFVFLVLLPLVSSQCVNLTTRTQLPPAYTNSFTRGVYYPDKVFRS...</td>\n",
       "      <td>QLJ57227</td>\n",
       "      <td>2020</td>\n",
       "      <td>1129</td>\n",
       "      <td>MT252714</td>\n",
       "      <td>CTTGTAGATCTGTTCTCTAAACGAACTTTAAAATCTGTGTGGCTGT...</td>\n",
       "      <td>19B</td>\n",
       "      <td>2</td>\n",
       "    </tr>\n",
       "    <tr>\n",
       "      <th>2</th>\n",
       "      <td>CA</td>\n",
       "      <td>\"MFVFLVLLPLVSSQCVNLTTRTQLPPAYTNSFTRGVYYPDKVFRS...</td>\n",
       "      <td>QTX16612</td>\n",
       "      <td>2020-05</td>\n",
       "      <td>187</td>\n",
       "      <td>MW940521</td>\n",
       "      <td>AGATCTGTTCTCTAAACGAACTTTAAAATCTGTGTGGCTGTCACTC...</td>\n",
       "      <td>20C</td>\n",
       "      <td>3</td>\n",
       "    </tr>\n",
       "    <tr>\n",
       "      <th>3</th>\n",
       "      <td>SD</td>\n",
       "      <td>\"MFVFLVLLPLVSSQCVNLTTRTQLPPAYTNSFTRGVYYPDKVFRS...</td>\n",
       "      <td>QWE90634</td>\n",
       "      <td>2020-09-23</td>\n",
       "      <td>297</td>\n",
       "      <td>MZ346443</td>\n",
       "      <td>ACTTTCGATCTCTTGTAGATCTGTTCTCTAAACGAACTTTAAAATC...</td>\n",
       "      <td>20G</td>\n",
       "      <td>4</td>\n",
       "    </tr>\n",
       "    <tr>\n",
       "      <th>4</th>\n",
       "      <td>VA</td>\n",
       "      <td>\"MFVFLVLLPLVSSQCVNLTTRTQLPPAYTNSFTRGVYYPDKVFRS...</td>\n",
       "      <td>QTN63407</td>\n",
       "      <td>2021-01</td>\n",
       "      <td>3558</td>\n",
       "      <td>MW868904</td>\n",
       "      <td>ACTTTCGATCTCTTGTAGATCTGTTCTCTAAACGAACTTTAAAATC...</td>\n",
       "      <td>20C</td>\n",
       "      <td>5</td>\n",
       "    </tr>\n",
       "    <tr>\n",
       "      <th>5</th>\n",
       "      <td>TX</td>\n",
       "      <td>\"MFVFLVLLPLVSSQCVNLTTRTQLPPAYTNSFTRGVYYPDKVFRS...</td>\n",
       "      <td>QVR40162</td>\n",
       "      <td>2/1/21</td>\n",
       "      <td>3755</td>\n",
       "      <td>MZ267386</td>\n",
       "      <td>ATTAAAGGTTTATACCTTCCCAGGTAACAAACCAACCAACTTTCGA...</td>\n",
       "      <td>20G</td>\n",
       "      <td>6</td>\n",
       "    </tr>\n",
       "    <tr>\n",
       "      <th>6</th>\n",
       "      <td>OH</td>\n",
       "      <td>\"MFVFLVLLPLVSSQCVNLTTRTQLPPAYTNSFTRGVYYPDKVFRS...</td>\n",
       "      <td>QVO59492</td>\n",
       "      <td>3/1/21</td>\n",
       "      <td>499</td>\n",
       "      <td>MZ256071</td>\n",
       "      <td>TAAAGGTTTATACCTTCCCAGGTAACAAACCAACCAACTTTCGATC...</td>\n",
       "      <td>20G</td>\n",
       "      <td>7</td>\n",
       "    </tr>\n",
       "    <tr>\n",
       "      <th>7</th>\n",
       "      <td>NY</td>\n",
       "      <td>\"MFVFFVLLPLVSSQCVNLTTRTQLPPAYTNSFTRGVYYPDKVFRS...</td>\n",
       "      <td>QUQ04393</td>\n",
       "      <td>2021-04-01</td>\n",
       "      <td>1005</td>\n",
       "      <td>MZ082876</td>\n",
       "      <td>AAAGGTTTATACCTTCCCAGGTAACAAACCAACCAACTTTCGATCT...</td>\n",
       "      <td>21F (Iota)</td>\n",
       "      <td>8</td>\n",
       "    </tr>\n",
       "    <tr>\n",
       "      <th>8</th>\n",
       "      <td>VA</td>\n",
       "      <td>\"MFVFLVLLPLVSSQCVNFTNRTQLPSAYTNSFTRGVYYPDKVFRS...</td>\n",
       "      <td>QWY94091</td>\n",
       "      <td>2021-05</td>\n",
       "      <td>1509</td>\n",
       "      <td>MZ451365</td>\n",
       "      <td>ACTTTCGATCTCTTGTAGATCTGTTCTCTAAACGAACTTTAAAATC...</td>\n",
       "      <td>20J (Gamma, V3)</td>\n",
       "      <td>9</td>\n",
       "    </tr>\n",
       "    <tr>\n",
       "      <th>9</th>\n",
       "      <td>VA</td>\n",
       "      <td>\"MFVFFVLLPLVSSQCVNLTTRTQLPPAYTNSFTRGVYYPDKVFRS...</td>\n",
       "      <td>QXP14639</td>\n",
       "      <td>2021-06</td>\n",
       "      <td>2493</td>\n",
       "      <td>MZ571287</td>\n",
       "      <td>TTTCGATCTCTTGTAGATCTGTTCTCTAAACGAACTTTAAAATCTG...</td>\n",
       "      <td>20I (Alpha, V1)</td>\n",
       "      <td>10</td>\n",
       "    </tr>\n",
       "  </tbody>\n",
       "</table>\n",
       "</div>"
      ],
      "text/plain": [
       "  state                                         p_sequence p_accession  \\\n",
       "0    WA  \"MFVFLVLLPLVSSQCVNLTTRTQLPPAYTNSFTRGVYYPDKVFRS...    QLJ57227   \n",
       "1    WA  \"MFVFLVLLPLVSSQCVNLTTRTQLPPAYTNSFTRGVYYPDKVFRS...    QLJ57227   \n",
       "2    CA  \"MFVFLVLLPLVSSQCVNLTTRTQLPPAYTNSFTRGVYYPDKVFRS...    QTX16612   \n",
       "3    SD  \"MFVFLVLLPLVSSQCVNLTTRTQLPPAYTNSFTRGVYYPDKVFRS...    QWE90634   \n",
       "4    VA  \"MFVFLVLLPLVSSQCVNLTTRTQLPPAYTNSFTRGVYYPDKVFRS...    QTN63407   \n",
       "5    TX  \"MFVFLVLLPLVSSQCVNLTTRTQLPPAYTNSFTRGVYYPDKVFRS...    QVR40162   \n",
       "6    OH  \"MFVFLVLLPLVSSQCVNLTTRTQLPPAYTNSFTRGVYYPDKVFRS...    QVO59492   \n",
       "7    NY  \"MFVFFVLLPLVSSQCVNLTTRTQLPPAYTNSFTRGVYYPDKVFRS...    QUQ04393   \n",
       "8    VA  \"MFVFLVLLPLVSSQCVNFTNRTQLPSAYTNSFTRGVYYPDKVFRS...    QWY94091   \n",
       "9    VA  \"MFVFFVLLPLVSSQCVNLTTRTQLPPAYTNSFTRGVYYPDKVFRS...    QXP14639   \n",
       "\n",
       "         date  count n_accession  \\\n",
       "0        2020   1367    MT252714   \n",
       "1        2020   1129    MT252714   \n",
       "2     2020-05    187    MW940521   \n",
       "3  2020-09-23    297    MZ346443   \n",
       "4     2021-01   3558    MW868904   \n",
       "5      2/1/21   3755    MZ267386   \n",
       "6      3/1/21    499    MZ256071   \n",
       "7  2021-04-01   1005    MZ082876   \n",
       "8     2021-05   1509    MZ451365   \n",
       "9     2021-06   2493    MZ571287   \n",
       "\n",
       "                                          n_sequence            clade  \\\n",
       "0  CTTGTAGATCTGTTCTCTAAACGAACTTTAAAATCTGTGTGGCTGT...              19B   \n",
       "1  CTTGTAGATCTGTTCTCTAAACGAACTTTAAAATCTGTGTGGCTGT...              19B   \n",
       "2  AGATCTGTTCTCTAAACGAACTTTAAAATCTGTGTGGCTGTCACTC...              20C   \n",
       "3  ACTTTCGATCTCTTGTAGATCTGTTCTCTAAACGAACTTTAAAATC...              20G   \n",
       "4  ACTTTCGATCTCTTGTAGATCTGTTCTCTAAACGAACTTTAAAATC...              20C   \n",
       "5  ATTAAAGGTTTATACCTTCCCAGGTAACAAACCAACCAACTTTCGA...              20G   \n",
       "6  TAAAGGTTTATACCTTCCCAGGTAACAAACCAACCAACTTTCGATC...              20G   \n",
       "7  AAAGGTTTATACCTTCCCAGGTAACAAACCAACCAACTTTCGATCT...       21F (Iota)   \n",
       "8  ACTTTCGATCTCTTGTAGATCTGTTCTCTAAACGAACTTTAAAATC...  20J (Gamma, V3)   \n",
       "9  TTTCGATCTCTTGTAGATCTGTTCTCTAAACGAACTTTAAAATCTG...  20I (Alpha, V1)   \n",
       "\n",
       "   timespan  \n",
       "0         1  \n",
       "1         2  \n",
       "2         3  \n",
       "3         4  \n",
       "4         5  \n",
       "5         6  \n",
       "6         7  \n",
       "7         8  \n",
       "8         9  \n",
       "9        10  "
      ]
     },
     "execution_count": 16,
     "metadata": {},
     "output_type": "execute_result"
    }
   ],
   "source": [
    "top_count_clade_per_timespan_df.head(10)"
   ]
  },
  {
   "cell_type": "markdown",
   "id": "6069d120",
   "metadata": {},
   "source": [
    "Now, build our interactive plot"
   ]
  },
  {
   "cell_type": "code",
   "execution_count": 17,
   "id": "0fb3b64e",
   "metadata": {},
   "outputs": [],
   "source": [
    "from Bio import Align\n",
    "from Bio.Align import substitution_matrices\n",
    "import plotly.graph_objects as go\n",
    "import math"
   ]
  },
  {
   "cell_type": "code",
   "execution_count": 18,
   "id": "e39c4f4b",
   "metadata": {},
   "outputs": [],
   "source": [
    "def make_aligner():\n",
    "    aligner = Align.PairwiseAligner(match = 4,\n",
    "         mismatch = -1, \n",
    "         target_open_gap_score = -1000, \n",
    "         target_extend_gap_score  = -1000,\n",
    "         query_open_gap_score = -20,\n",
    "         query_extend_gap_score = -4) # parameters from this paper https://www.ncbi.nlm.nih.gov/pmc/articles/PMC7314508/\n",
    "\n",
    "    substitution_matrices.load() \n",
    "    matrix = substitution_matrices.load(\"BLOSUM62\")\n",
    "    aligner.substitution_matrix = matrix\n",
    "    return aligner\n",
    "\n",
    "def get_relevent_seqs(top_count_clade_per_timespan_df,timespan1, timespan2):\n",
    "    seq1 = top_count_clade_per_timespan_df.loc[timespan1 - 1]\n",
    "    seq2 = top_count_clade_per_timespan_df.loc[timespan2 - 1]\n",
    "    aligner = make_aligner()\n",
    "    alignments = aligner.align(seq1['p_sequence'][1:-1], seq2['p_sequence'][1:-1])\n",
    "    target_row = df.loc[df['p_accession'] == seq1['p_accession']].to_dict('records')[0]\n",
    "    query_row =df.loc[df['p_accession'] == seq2['p_accession']].to_dict('records')[0]\n",
    "    return alignments, target_row, query_row\n",
    "    \n",
    "def calc_traces_labels_and_subtitle(top_count_clade_per_timespan_df,timespan1, timespan2, debug = False):\n",
    "    alignments, target_row, query_row = get_relevent_seqs(top_count_clade_per_timespan_df,timespan1, timespan2)\n",
    "    string_alignments = alignments[0].format().split('\\n')\n",
    "    target = string_alignments[0]\n",
    "    match_type = string_alignments[1]\n",
    "    query = string_alignments[2]\n",
    "    y_height = 1\n",
    "    length = len(target)\n",
    "    if debug:\n",
    "        print(length)\n",
    "        \n",
    "    x_insert =[None]\n",
    "    x_delete =[None]\n",
    "    x_sub_low =[None]\n",
    "    x_sub_high =[None] # none means it will show in legend even when there is no data\n",
    "\n",
    "    labels = []\n",
    "    yshift = 18\n",
    "    level = 0\n",
    "    for i in range(0, length):\n",
    "        if match_type[i] == '.':\n",
    "            # substitution, low conservation\n",
    "            x_sub_low.append(i+1)\n",
    "            labels.append({\"text\":target[i] + str(i+1) + query[i], 'x':i+1, 'y':y_height , \n",
    "                           'font' :{'size': 12}, 'showarrow':False, 'yshift': yshift * (level % 2 + 1), 'yanchor':'middle', 'xanchor':'center'})\n",
    "           \n",
    "            if yshift < 0:\n",
    "                level = level + 1\n",
    "            yshift = -yshift\n",
    "        elif match_type[i] == ':':\n",
    "            # subsitution, high conservation\n",
    "            x_sub_high.append(i+1)\n",
    "            labels.append({\"text\":target[i] + str(i+1) + query[i], 'x' :i+1,  'y':y_height , \n",
    "                           'font' :{'size': 12}, 'showarrow':False, 'yshift': yshift * (level % 2 + 1), 'yanchor':'middle', 'xanchor':'center'})\n",
    "            if yshift < 0:\n",
    "                level = level + 1\n",
    "            yshift = -yshift\n",
    "        elif match_type[i] == '-':\n",
    "            # deletion or insertion\n",
    "            if target[i] =='-':\n",
    "                # insertion\n",
    "                x_insert.append(i+1)\n",
    "                labels.append({\"text\":str(i+1) + query[i], 'x' :i+1,  'y':y_height , \n",
    "                           'font' :{'size': 12}, 'showarrow':False, 'yshift': yshift * (level % 2 + 1), 'yanchor':'middle', 'xanchor':'center'})\n",
    "                if yshift < 0:\n",
    "                    level = level + 1\n",
    "                yshift = -yshift\n",
    "            else: \n",
    "                # deletion (alg not allowed to match gap to gap)\n",
    "                x_delete.append(i+1)\n",
    "                labels.append({\"text\": target[i] + str(i+1), 'x' :i+1, 'y':y_height , \n",
    "                           'font' :{'size': 12}, 'showarrow':False, 'yshift': yshift * (level % 2 + 1), 'yanchor':'middle', 'xanchor':'center'})\n",
    "                if yshift < 0:\n",
    "                    level = level + 1\n",
    "                yshift = -yshift\n",
    "                \n",
    "    total = len(x_insert)+ len(x_delete) +len(x_sub_low) + len(x_sub_high) - 4 # total number of changes\n",
    "    if total == 0:\n",
    "        # same sequence /exact match\n",
    "        labels.append({'x':680, 'y':1, 'text':'Same Sequence', 'yanchor':'bottom','showarrow':False, 'textangle':0, 'font':{'size':16}})\n",
    "        total = 1 # exact match, won't affect bars because each is 0, do want to avoid division by zero\n",
    "    counts = [len(x_insert)-1, len(x_delete) - 1, len(x_sub_low) -1 , len(x_sub_high) - 1 ]\n",
    "    names = ['Insertions', 'Deletions', 'Substitution, semi-conservative', 'Substitution, conservative']\n",
    "    \n",
    "    if debug:\n",
    "        print(total)\n",
    "    score_percentage = (alignments[0].score / 6722)\n",
    "    \n",
    "    traces =  [go.Scatter( # base gray line\n",
    "            mode = \"lines\",\n",
    "            x =  [0, length],\n",
    "            y = [y_height, y_height], \n",
    "            name = \"sequence line\",\n",
    "            line = {'color':  'gray'},\n",
    "            showlegend = False,\n",
    "            hoverinfo = 'skip',\n",
    "            visible = False\n",
    "        ),\n",
    "         go.Scatter( # S1  line\n",
    "            mode = \"lines\",\n",
    "            x =  [14, 685],\n",
    "            y = [y_height, y_height], \n",
    "            name = \"S1\",\n",
    "            line = {'color':  'plum', 'width' : 3},\n",
    "            legendgroup = 'Subunit',\n",
    "            showlegend = True,\n",
    "            hoverinfo = 'skip',\n",
    "            visible = False\n",
    "        ),\n",
    "         go.Scatter( # S2  line\n",
    "            mode = \"lines\",\n",
    "            x =  [686, 1273],\n",
    "            y = [y_height, y_height], \n",
    "            name = \"S2\",\n",
    "            line = {'color':  'pink', 'width':3},\n",
    "            legendgroup = 'Subunit',\n",
    "            showlegend = True,\n",
    "            hoverinfo = 'skip',\n",
    "            visible = False\n",
    "        ),\n",
    "        go.Scatter( # insert markers\n",
    "            mode = \"markers\",\n",
    "            x = x_insert ,\n",
    "            y = [y_height for y in x_insert], \n",
    "            name = \"insertion\",\n",
    "            marker=dict(size=8, color = 'orange', symbol = 'square'),\n",
    "            legendgroup = 'changes',\n",
    "            showlegend = True,\n",
    "            hoverinfo = 'x',\n",
    "            visible = False\n",
    "        ),\n",
    "          go.Scatter( # delete markers\n",
    "            mode = \"markers\",\n",
    "            x = x_delete,\n",
    "            y = [y_height for y in x_delete], \n",
    "            name = \"deletion\",\n",
    "            marker=dict(size=8, color = 'red', symbol = 'square'),\n",
    "            legendgroup = 'changes',\n",
    "            showlegend = True,\n",
    "            hoverinfo = 'x',\n",
    "            visible = False\n",
    "        ),\n",
    "         go.Scatter( # sub semi markers\n",
    "            mode = \"markers\",\n",
    "            x = x_sub_low ,\n",
    "            y = [y_height for y in x_sub_low], \n",
    "            name = \"substitution, semi-conservative\",\n",
    "            marker=dict(size=8, color = 'blue', symbol = 'circle'),\n",
    "            legendgroup = 'changes',\n",
    "             showlegend = True,\n",
    "            hoverinfo = 'x',\n",
    "            visible = False\n",
    "        ),\n",
    "          go.Scatter( # sub conservative markers\n",
    "            mode = \"markers\",\n",
    "            x = x_sub_high ,\n",
    "            y = [y_height for y in x_sub_high], \n",
    "            name = \"substitution, conservative\",\n",
    "            marker=dict(size=8, color = 'lightblue', symbol = 'circle'),\n",
    "            legendgroup = 'changes',\n",
    "            showlegend = True,\n",
    "            hoverinfo = 'x',\n",
    "            visible = False\n",
    "        ),\n",
    "         # go.Bar( # score bar\n",
    "          #   x = [length, (alignments[0].score / 6722) * length], # best score is when all positions match, match contributes score of 4\n",
    "          #                               # could use log score, got 6722 when matched sequence with itself\n",
    "          #   y = [0.08, 0.08],\n",
    "          #   orientation = 'h',\n",
    "          #   showlegend = False,\n",
    "          #   width = 0.16,\n",
    "           #  text = [None, int(alignments[0].score)], # score should always be int, we don't need decimal precision and don't want .0 cluttering\n",
    "          #   textposition = ['inside', \"outside\"],\n",
    "          #   marker_color =['lightgray', 'lightgray'],\n",
    "          #   marker = dict(pattern = {'bgcolor':['lightgray', 'gray'], 'shape':['', '/'], 'size':5}),\n",
    "          #   hoverinfo = 'skip',\n",
    "          #  visible = False\n",
    "       #  ) ,\n",
    "        go.Bar( # counts bars\n",
    "             name = \"counts\",\n",
    "             x = [1540, 1590, 1640,1700], \n",
    "             y = [(c/total) *0.85 for c in counts ],\n",
    "             showlegend = False,\n",
    "             width = 30,\n",
    "             text =  counts, \n",
    "             marker_color =['orange', 'red', 'blue', 'lightblue'],\n",
    "             marker = {'line' :dict(width = 2, color = ['orange','red','blue','lightblue'])},\n",
    "             textposition = 'outside',\n",
    "             hoverinfo = 'skip', # can't get the names without them in x,y,text\n",
    "            visible = False\n",
    "         )\n",
    "\n",
    "    ]\n",
    "    \n",
    "    labels.append({'x': 0.0, 'y':0.0 ,'text': \"Alignment Score: {:.2f}%\".format(score_percentage * 100) ,'font': { 'size': 14},'showarrow':False, 'xanchor':'left', 'yanchor':'bottom' })\n",
    "    labels.append({'x':1450, 'y':0, 'text':'counts', 'yanchor':'bottom','showarrow':False, 'textangle':0})\n",
    "    subtitle = \"{2} (T{5}, {3}) difference from {0} (T{4}, {1})\".format(target_row['p_accession'], target_row['clade'], query_row['p_accession'], query_row['clade'], target_row['timespan'], query_row['timespan'])\n",
    "    title = \"Spike Protein Comparison<br><sup>of Most Frequent Sequence of Selected Timespan to First Timespan<br>{0}<sup>\".format(subtitle)\n",
    "\n",
    "    return [dict(data = traces), dict(annotations = labels, title = dict(text = title, x = 0.1))]\n",
    "        \n",
    "\n",
    "def plot_alignment_plotly(top_count_clade_per_timespan_df, save = False, debug = False):\n",
    "    pairwise = dict()\n",
    "    t1 = 1\n",
    "    \n",
    "    # t2 as special case so can switch visible to true so we see it when graph origonal renders\n",
    "    pairwise[2] = calc_traces_labels_and_subtitle(top_count_clade_per_timespan_df, t1, 2)\n",
    "    traces =  pairwise[2][0]['data']\n",
    "    for trace in traces:\n",
    "        trace.update(visible = True)\n",
    "    for t2  in range(3,12):\n",
    "        pairwise[t2] = calc_traces_labels_and_subtitle(top_count_clade_per_timespan_df, t1, t2)\n",
    "        traces = traces + pairwise[t2][0]['data']\n",
    "            \n",
    "    states = pairwise[2]\n",
    "    t2 = 2\n",
    "    def get_state(pairwise, query = None):\n",
    "        if query is None:\n",
    "            return states\n",
    "        elif query:\n",
    "            t2 = query\n",
    "        states = pairwise[t2]\n",
    "\n",
    "        visible = []\n",
    "        for t in range(1,11):\n",
    "            if t == t2 - 1: #-1 because no row for timespan 1\n",
    "                visible = visible + [True, True, True, True, True, True, True, True]\n",
    "            else:\n",
    "                visible = visible + [False, False,False,False,False,False,False,False]\n",
    "        return [dict(visible = visible),states[1]]\n",
    "    \n",
    "    \n",
    "    \n",
    "    fig = go.Figure(traces)\n",
    "\n",
    "    fig.update_xaxes(\n",
    "            range = [-15,1850],\n",
    "            showgrid=False, # thin lines in the background\n",
    "            zeroline= False, # thick line at x=0\n",
    "            visible= False  # numbers below\n",
    "            )\n",
    "\n",
    "    fig.update_yaxes(\n",
    "            range =[0,1.5],\n",
    "            showgrid= False, # thin lines in the background\n",
    "            zeroline= False, # thick line at x=0\n",
    "            visible= False  # numbers below\n",
    "            )\n",
    "    \n",
    "    button_layer_1_height = 0.7\n",
    "    fig.update_layout(plot_bgcolor='white',\n",
    "                      height=380,\n",
    "                      width = 1100,\n",
    "                      barmode = 'overlay',\n",
    "                      title = states[1]['title'],\n",
    "                      legend=dict(\n",
    "                                yanchor=\"middle\",\n",
    "                                y=1,\n",
    "                                xanchor=\"right\",\n",
    "                                x=1\n",
    "                    ),\n",
    "                      annotations= states[1]['annotations'],\n",
    "                      \n",
    "                      updatemenus=[\n",
    "                               \n",
    "                                  dict(\n",
    "                                    buttons=list([\n",
    "                                        dict(\n",
    "                                            label=\"Mar 21, 2020 to Apr 30, 2020\",\n",
    "                                             method=\"update\",\n",
    "                                             args = get_state(pairwise,query = 2)\n",
    "                                        ),\n",
    "                                        dict(\n",
    "                                            label=\"May 1, 2020 to Sep 20, 2020\",\n",
    "                                            method=\"update\",\n",
    "                                            args = get_state(pairwise,query = 3)\n",
    "                                        ),\n",
    "                                        dict(\n",
    "                                            label=\"Sep 21, 2020 to Dec 31, 2020\",\n",
    "                                            method=\"update\",\n",
    "                                            args = get_state(pairwise,query = 4)\n",
    "                                        ),\n",
    "                                        dict(\n",
    "                                            label=\"Jan 2021\",\n",
    "                                            method=\"update\",\n",
    "                                            args = get_state(pairwise,query = 5)\n",
    "                                        ),\n",
    "                                        dict(\n",
    "                                            label=\"Feb 2021\",\n",
    "                                            method=\"update\",\n",
    "                                            args = get_state(pairwise,query = 6)\n",
    "                                        ),\n",
    "                                        dict(\n",
    "                                            label=\"Mar 2021\",\n",
    "                                            method=\"update\",\n",
    "                                            args = get_state(pairwise,query = 7)\n",
    "                                        ),\n",
    "                                        dict(\n",
    "                                            label=\"Apr 2021\",\n",
    "                                            method=\"update\",\n",
    "                                            args = get_state(pairwise,query = 8)\n",
    "                                        ) ,\n",
    "                                        dict(\n",
    "                                            label=\"May 2021\",\n",
    "                                            method=\"update\",\n",
    "                                            args = get_state(pairwise,query = 9)\n",
    "                                        )  ,\n",
    "                                        dict(\n",
    "                                            label=\"Jun 2021\",\n",
    "                                            method=\"update\",\n",
    "                                            args = get_state(pairwise,query = 10)\n",
    "                                        )  ,\n",
    "                                        dict(\n",
    "                                            label=\"Jul 2021\",\n",
    "                                            method=\"update\",\n",
    "                                            args = get_state(pairwise,query = 11)\n",
    "                                        )  \n",
    "                                        \n",
    "                                    ]),\n",
    "                                    direction = 'down',\n",
    "                                    pad={\"r\": 10, \"t\": 10},\n",
    "                                    showactive=True,\n",
    "                                    x=0.5,\n",
    "                                    xanchor=\"left\",\n",
    "                                    y=1.4,\n",
    "                                    yanchor=\"top\"\n",
    "                                    \n",
    "                                )]\n",
    "    )\n",
    "    config = dict(scrollZoom = False, doubleClick = 'reset', displayModeBar = False)\n",
    "    fig.show(config = config)\n",
    "    if save:\n",
    "        fig.write_html('../../visualizations/compare_most_frequent_seq_for_timespanx_to_timespan1.html', config = config)"
   ]
  },
  {
   "cell_type": "code",
   "execution_count": 19,
   "id": "70ca5917",
   "metadata": {},
   "outputs": [
    {
     "data": {
      "application/vnd.plotly.v1+json": {
       "config": {
        "displayModeBar": false,
        "doubleClick": "reset",
        "plotlyServerURL": "https://plot.ly",
        "scrollZoom": false
       },
       "data": [
        {
         "hoverinfo": "skip",
         "line": {
          "color": "gray"
         },
         "mode": "lines",
         "name": "sequence line",
         "showlegend": false,
         "type": "scatter",
         "visible": true,
         "x": [
          0,
          1273
         ],
         "y": [
          1,
          1
         ]
        },
        {
         "hoverinfo": "skip",
         "legendgroup": "Subunit",
         "line": {
          "color": "plum",
          "width": 3
         },
         "mode": "lines",
         "name": "S1",
         "showlegend": true,
         "type": "scatter",
         "visible": true,
         "x": [
          14,
          685
         ],
         "y": [
          1,
          1
         ]
        },
        {
         "hoverinfo": "skip",
         "legendgroup": "Subunit",
         "line": {
          "color": "pink",
          "width": 3
         },
         "mode": "lines",
         "name": "S2",
         "showlegend": true,
         "type": "scatter",
         "visible": true,
         "x": [
          686,
          1273
         ],
         "y": [
          1,
          1
         ]
        },
        {
         "hoverinfo": "x",
         "legendgroup": "changes",
         "marker": {
          "color": "orange",
          "size": 8,
          "symbol": "square"
         },
         "mode": "markers",
         "name": "insertion",
         "showlegend": true,
         "type": "scatter",
         "visible": true,
         "x": [
          null
         ],
         "y": [
          1
         ]
        },
        {
         "hoverinfo": "x",
         "legendgroup": "changes",
         "marker": {
          "color": "red",
          "size": 8,
          "symbol": "square"
         },
         "mode": "markers",
         "name": "deletion",
         "showlegend": true,
         "type": "scatter",
         "visible": true,
         "x": [
          null
         ],
         "y": [
          1
         ]
        },
        {
         "hoverinfo": "x",
         "legendgroup": "changes",
         "marker": {
          "color": "blue",
          "size": 8,
          "symbol": "circle"
         },
         "mode": "markers",
         "name": "substitution, semi-conservative",
         "showlegend": true,
         "type": "scatter",
         "visible": true,
         "x": [
          null
         ],
         "y": [
          1
         ]
        },
        {
         "hoverinfo": "x",
         "legendgroup": "changes",
         "marker": {
          "color": "lightblue",
          "size": 8,
          "symbol": "circle"
         },
         "mode": "markers",
         "name": "substitution, conservative",
         "showlegend": true,
         "type": "scatter",
         "visible": true,
         "x": [
          null
         ],
         "y": [
          1
         ]
        },
        {
         "hoverinfo": "skip",
         "marker": {
          "color": [
           "orange",
           "red",
           "blue",
           "lightblue"
          ],
          "line": {
           "color": [
            "orange",
            "red",
            "blue",
            "lightblue"
           ],
           "width": 2
          }
         },
         "name": "counts",
         "showlegend": false,
         "text": [
          "0",
          "0",
          "0",
          "0"
         ],
         "textposition": "outside",
         "type": "bar",
         "visible": true,
         "width": 30,
         "x": [
          1540,
          1590,
          1640,
          1700
         ],
         "y": [
          0,
          0,
          0,
          0
         ]
        },
        {
         "hoverinfo": "skip",
         "line": {
          "color": "gray"
         },
         "mode": "lines",
         "name": "sequence line",
         "showlegend": false,
         "type": "scatter",
         "visible": false,
         "x": [
          0,
          1273
         ],
         "y": [
          1,
          1
         ]
        },
        {
         "hoverinfo": "skip",
         "legendgroup": "Subunit",
         "line": {
          "color": "plum",
          "width": 3
         },
         "mode": "lines",
         "name": "S1",
         "showlegend": true,
         "type": "scatter",
         "visible": false,
         "x": [
          14,
          685
         ],
         "y": [
          1,
          1
         ]
        },
        {
         "hoverinfo": "skip",
         "legendgroup": "Subunit",
         "line": {
          "color": "pink",
          "width": 3
         },
         "mode": "lines",
         "name": "S2",
         "showlegend": true,
         "type": "scatter",
         "visible": false,
         "x": [
          686,
          1273
         ],
         "y": [
          1,
          1
         ]
        },
        {
         "hoverinfo": "x",
         "legendgroup": "changes",
         "marker": {
          "color": "orange",
          "size": 8,
          "symbol": "square"
         },
         "mode": "markers",
         "name": "insertion",
         "showlegend": true,
         "type": "scatter",
         "visible": false,
         "x": [
          null
         ],
         "y": [
          1
         ]
        },
        {
         "hoverinfo": "x",
         "legendgroup": "changes",
         "marker": {
          "color": "red",
          "size": 8,
          "symbol": "square"
         },
         "mode": "markers",
         "name": "deletion",
         "showlegend": true,
         "type": "scatter",
         "visible": false,
         "x": [
          null
         ],
         "y": [
          1
         ]
        },
        {
         "hoverinfo": "x",
         "legendgroup": "changes",
         "marker": {
          "color": "blue",
          "size": 8,
          "symbol": "circle"
         },
         "mode": "markers",
         "name": "substitution, semi-conservative",
         "showlegend": true,
         "type": "scatter",
         "visible": false,
         "x": [
          null,
          253,
          614
         ],
         "y": [
          1,
          1,
          1
         ]
        },
        {
         "hoverinfo": "x",
         "legendgroup": "changes",
         "marker": {
          "color": "lightblue",
          "size": 8,
          "symbol": "circle"
         },
         "mode": "markers",
         "name": "substitution, conservative",
         "showlegend": true,
         "type": "scatter",
         "visible": false,
         "x": [
          null
         ],
         "y": [
          1
         ]
        },
        {
         "hoverinfo": "skip",
         "marker": {
          "color": [
           "orange",
           "red",
           "blue",
           "lightblue"
          ],
          "line": {
           "color": [
            "orange",
            "red",
            "blue",
            "lightblue"
           ],
           "width": 2
          }
         },
         "name": "counts",
         "showlegend": false,
         "text": [
          "0",
          "0",
          "2",
          "0"
         ],
         "textposition": "outside",
         "type": "bar",
         "visible": false,
         "width": 30,
         "x": [
          1540,
          1590,
          1640,
          1700
         ],
         "y": [
          0,
          0,
          0.85,
          0
         ]
        },
        {
         "hoverinfo": "skip",
         "line": {
          "color": "gray"
         },
         "mode": "lines",
         "name": "sequence line",
         "showlegend": false,
         "type": "scatter",
         "visible": false,
         "x": [
          0,
          1273
         ],
         "y": [
          1,
          1
         ]
        },
        {
         "hoverinfo": "skip",
         "legendgroup": "Subunit",
         "line": {
          "color": "plum",
          "width": 3
         },
         "mode": "lines",
         "name": "S1",
         "showlegend": true,
         "type": "scatter",
         "visible": false,
         "x": [
          14,
          685
         ],
         "y": [
          1,
          1
         ]
        },
        {
         "hoverinfo": "skip",
         "legendgroup": "Subunit",
         "line": {
          "color": "pink",
          "width": 3
         },
         "mode": "lines",
         "name": "S2",
         "showlegend": true,
         "type": "scatter",
         "visible": false,
         "x": [
          686,
          1273
         ],
         "y": [
          1,
          1
         ]
        },
        {
         "hoverinfo": "x",
         "legendgroup": "changes",
         "marker": {
          "color": "orange",
          "size": 8,
          "symbol": "square"
         },
         "mode": "markers",
         "name": "insertion",
         "showlegend": true,
         "type": "scatter",
         "visible": false,
         "x": [
          null
         ],
         "y": [
          1
         ]
        },
        {
         "hoverinfo": "x",
         "legendgroup": "changes",
         "marker": {
          "color": "red",
          "size": 8,
          "symbol": "square"
         },
         "mode": "markers",
         "name": "deletion",
         "showlegend": true,
         "type": "scatter",
         "visible": false,
         "x": [
          null
         ],
         "y": [
          1
         ]
        },
        {
         "hoverinfo": "x",
         "legendgroup": "changes",
         "marker": {
          "color": "blue",
          "size": 8,
          "symbol": "circle"
         },
         "mode": "markers",
         "name": "substitution, semi-conservative",
         "showlegend": true,
         "type": "scatter",
         "visible": false,
         "x": [
          null,
          614,
          677
         ],
         "y": [
          1,
          1,
          1
         ]
        },
        {
         "hoverinfo": "x",
         "legendgroup": "changes",
         "marker": {
          "color": "lightblue",
          "size": 8,
          "symbol": "circle"
         },
         "mode": "markers",
         "name": "substitution, conservative",
         "showlegend": true,
         "type": "scatter",
         "visible": false,
         "x": [
          null
         ],
         "y": [
          1
         ]
        },
        {
         "hoverinfo": "skip",
         "marker": {
          "color": [
           "orange",
           "red",
           "blue",
           "lightblue"
          ],
          "line": {
           "color": [
            "orange",
            "red",
            "blue",
            "lightblue"
           ],
           "width": 2
          }
         },
         "name": "counts",
         "showlegend": false,
         "text": [
          "0",
          "0",
          "2",
          "0"
         ],
         "textposition": "outside",
         "type": "bar",
         "visible": false,
         "width": 30,
         "x": [
          1540,
          1590,
          1640,
          1700
         ],
         "y": [
          0,
          0,
          0.85,
          0
         ]
        },
        {
         "hoverinfo": "skip",
         "line": {
          "color": "gray"
         },
         "mode": "lines",
         "name": "sequence line",
         "showlegend": false,
         "type": "scatter",
         "visible": false,
         "x": [
          0,
          1273
         ],
         "y": [
          1,
          1
         ]
        },
        {
         "hoverinfo": "skip",
         "legendgroup": "Subunit",
         "line": {
          "color": "plum",
          "width": 3
         },
         "mode": "lines",
         "name": "S1",
         "showlegend": true,
         "type": "scatter",
         "visible": false,
         "x": [
          14,
          685
         ],
         "y": [
          1,
          1
         ]
        },
        {
         "hoverinfo": "skip",
         "legendgroup": "Subunit",
         "line": {
          "color": "pink",
          "width": 3
         },
         "mode": "lines",
         "name": "S2",
         "showlegend": true,
         "type": "scatter",
         "visible": false,
         "x": [
          686,
          1273
         ],
         "y": [
          1,
          1
         ]
        },
        {
         "hoverinfo": "x",
         "legendgroup": "changes",
         "marker": {
          "color": "orange",
          "size": 8,
          "symbol": "square"
         },
         "mode": "markers",
         "name": "insertion",
         "showlegend": true,
         "type": "scatter",
         "visible": false,
         "x": [
          null
         ],
         "y": [
          1
         ]
        },
        {
         "hoverinfo": "x",
         "legendgroup": "changes",
         "marker": {
          "color": "red",
          "size": 8,
          "symbol": "square"
         },
         "mode": "markers",
         "name": "deletion",
         "showlegend": true,
         "type": "scatter",
         "visible": false,
         "x": [
          null
         ],
         "y": [
          1
         ]
        },
        {
         "hoverinfo": "x",
         "legendgroup": "changes",
         "marker": {
          "color": "blue",
          "size": 8,
          "symbol": "circle"
         },
         "mode": "markers",
         "name": "substitution, semi-conservative",
         "showlegend": true,
         "type": "scatter",
         "visible": false,
         "x": [
          null,
          614
         ],
         "y": [
          1,
          1
         ]
        },
        {
         "hoverinfo": "x",
         "legendgroup": "changes",
         "marker": {
          "color": "lightblue",
          "size": 8,
          "symbol": "circle"
         },
         "mode": "markers",
         "name": "substitution, conservative",
         "showlegend": true,
         "type": "scatter",
         "visible": false,
         "x": [
          null
         ],
         "y": [
          1
         ]
        },
        {
         "hoverinfo": "skip",
         "marker": {
          "color": [
           "orange",
           "red",
           "blue",
           "lightblue"
          ],
          "line": {
           "color": [
            "orange",
            "red",
            "blue",
            "lightblue"
           ],
           "width": 2
          }
         },
         "name": "counts",
         "showlegend": false,
         "text": [
          "0",
          "0",
          "1",
          "0"
         ],
         "textposition": "outside",
         "type": "bar",
         "visible": false,
         "width": 30,
         "x": [
          1540,
          1590,
          1640,
          1700
         ],
         "y": [
          0,
          0,
          0.85,
          0
         ]
        },
        {
         "hoverinfo": "skip",
         "line": {
          "color": "gray"
         },
         "mode": "lines",
         "name": "sequence line",
         "showlegend": false,
         "type": "scatter",
         "visible": false,
         "x": [
          0,
          1273
         ],
         "y": [
          1,
          1
         ]
        },
        {
         "hoverinfo": "skip",
         "legendgroup": "Subunit",
         "line": {
          "color": "plum",
          "width": 3
         },
         "mode": "lines",
         "name": "S1",
         "showlegend": true,
         "type": "scatter",
         "visible": false,
         "x": [
          14,
          685
         ],
         "y": [
          1,
          1
         ]
        },
        {
         "hoverinfo": "skip",
         "legendgroup": "Subunit",
         "line": {
          "color": "pink",
          "width": 3
         },
         "mode": "lines",
         "name": "S2",
         "showlegend": true,
         "type": "scatter",
         "visible": false,
         "x": [
          686,
          1273
         ],
         "y": [
          1,
          1
         ]
        },
        {
         "hoverinfo": "x",
         "legendgroup": "changes",
         "marker": {
          "color": "orange",
          "size": 8,
          "symbol": "square"
         },
         "mode": "markers",
         "name": "insertion",
         "showlegend": true,
         "type": "scatter",
         "visible": false,
         "x": [
          null
         ],
         "y": [
          1
         ]
        },
        {
         "hoverinfo": "x",
         "legendgroup": "changes",
         "marker": {
          "color": "red",
          "size": 8,
          "symbol": "square"
         },
         "mode": "markers",
         "name": "deletion",
         "showlegend": true,
         "type": "scatter",
         "visible": false,
         "x": [
          null
         ],
         "y": [
          1
         ]
        },
        {
         "hoverinfo": "x",
         "legendgroup": "changes",
         "marker": {
          "color": "blue",
          "size": 8,
          "symbol": "circle"
         },
         "mode": "markers",
         "name": "substitution, semi-conservative",
         "showlegend": true,
         "type": "scatter",
         "visible": false,
         "x": [
          null,
          614
         ],
         "y": [
          1,
          1
         ]
        },
        {
         "hoverinfo": "x",
         "legendgroup": "changes",
         "marker": {
          "color": "lightblue",
          "size": 8,
          "symbol": "circle"
         },
         "mode": "markers",
         "name": "substitution, conservative",
         "showlegend": true,
         "type": "scatter",
         "visible": false,
         "x": [
          null
         ],
         "y": [
          1
         ]
        },
        {
         "hoverinfo": "skip",
         "marker": {
          "color": [
           "orange",
           "red",
           "blue",
           "lightblue"
          ],
          "line": {
           "color": [
            "orange",
            "red",
            "blue",
            "lightblue"
           ],
           "width": 2
          }
         },
         "name": "counts",
         "showlegend": false,
         "text": [
          "0",
          "0",
          "1",
          "0"
         ],
         "textposition": "outside",
         "type": "bar",
         "visible": false,
         "width": 30,
         "x": [
          1540,
          1590,
          1640,
          1700
         ],
         "y": [
          0,
          0,
          0.85,
          0
         ]
        },
        {
         "hoverinfo": "skip",
         "line": {
          "color": "gray"
         },
         "mode": "lines",
         "name": "sequence line",
         "showlegend": false,
         "type": "scatter",
         "visible": false,
         "x": [
          0,
          1273
         ],
         "y": [
          1,
          1
         ]
        },
        {
         "hoverinfo": "skip",
         "legendgroup": "Subunit",
         "line": {
          "color": "plum",
          "width": 3
         },
         "mode": "lines",
         "name": "S1",
         "showlegend": true,
         "type": "scatter",
         "visible": false,
         "x": [
          14,
          685
         ],
         "y": [
          1,
          1
         ]
        },
        {
         "hoverinfo": "skip",
         "legendgroup": "Subunit",
         "line": {
          "color": "pink",
          "width": 3
         },
         "mode": "lines",
         "name": "S2",
         "showlegend": true,
         "type": "scatter",
         "visible": false,
         "x": [
          686,
          1273
         ],
         "y": [
          1,
          1
         ]
        },
        {
         "hoverinfo": "x",
         "legendgroup": "changes",
         "marker": {
          "color": "orange",
          "size": 8,
          "symbol": "square"
         },
         "mode": "markers",
         "name": "insertion",
         "showlegend": true,
         "type": "scatter",
         "visible": false,
         "x": [
          null
         ],
         "y": [
          1
         ]
        },
        {
         "hoverinfo": "x",
         "legendgroup": "changes",
         "marker": {
          "color": "red",
          "size": 8,
          "symbol": "square"
         },
         "mode": "markers",
         "name": "deletion",
         "showlegend": true,
         "type": "scatter",
         "visible": false,
         "x": [
          null
         ],
         "y": [
          1
         ]
        },
        {
         "hoverinfo": "x",
         "legendgroup": "changes",
         "marker": {
          "color": "blue",
          "size": 8,
          "symbol": "circle"
         },
         "mode": "markers",
         "name": "substitution, semi-conservative",
         "showlegend": true,
         "type": "scatter",
         "visible": false,
         "x": [
          null,
          614,
          677
         ],
         "y": [
          1,
          1,
          1
         ]
        },
        {
         "hoverinfo": "x",
         "legendgroup": "changes",
         "marker": {
          "color": "lightblue",
          "size": 8,
          "symbol": "circle"
         },
         "mode": "markers",
         "name": "substitution, conservative",
         "showlegend": true,
         "type": "scatter",
         "visible": false,
         "x": [
          null
         ],
         "y": [
          1
         ]
        },
        {
         "hoverinfo": "skip",
         "marker": {
          "color": [
           "orange",
           "red",
           "blue",
           "lightblue"
          ],
          "line": {
           "color": [
            "orange",
            "red",
            "blue",
            "lightblue"
           ],
           "width": 2
          }
         },
         "name": "counts",
         "showlegend": false,
         "text": [
          "0",
          "0",
          "2",
          "0"
         ],
         "textposition": "outside",
         "type": "bar",
         "visible": false,
         "width": 30,
         "x": [
          1540,
          1590,
          1640,
          1700
         ],
         "y": [
          0,
          0,
          0.85,
          0
         ]
        },
        {
         "hoverinfo": "skip",
         "line": {
          "color": "gray"
         },
         "mode": "lines",
         "name": "sequence line",
         "showlegend": false,
         "type": "scatter",
         "visible": false,
         "x": [
          0,
          1273
         ],
         "y": [
          1,
          1
         ]
        },
        {
         "hoverinfo": "skip",
         "legendgroup": "Subunit",
         "line": {
          "color": "plum",
          "width": 3
         },
         "mode": "lines",
         "name": "S1",
         "showlegend": true,
         "type": "scatter",
         "visible": false,
         "x": [
          14,
          685
         ],
         "y": [
          1,
          1
         ]
        },
        {
         "hoverinfo": "skip",
         "legendgroup": "Subunit",
         "line": {
          "color": "pink",
          "width": 3
         },
         "mode": "lines",
         "name": "S2",
         "showlegend": true,
         "type": "scatter",
         "visible": false,
         "x": [
          686,
          1273
         ],
         "y": [
          1,
          1
         ]
        },
        {
         "hoverinfo": "x",
         "legendgroup": "changes",
         "marker": {
          "color": "orange",
          "size": 8,
          "symbol": "square"
         },
         "mode": "markers",
         "name": "insertion",
         "showlegend": true,
         "type": "scatter",
         "visible": false,
         "x": [
          null
         ],
         "y": [
          1
         ]
        },
        {
         "hoverinfo": "x",
         "legendgroup": "changes",
         "marker": {
          "color": "red",
          "size": 8,
          "symbol": "square"
         },
         "mode": "markers",
         "name": "deletion",
         "showlegend": true,
         "type": "scatter",
         "visible": false,
         "x": [
          null
         ],
         "y": [
          1
         ]
        },
        {
         "hoverinfo": "x",
         "legendgroup": "changes",
         "marker": {
          "color": "blue",
          "size": 8,
          "symbol": "circle"
         },
         "mode": "markers",
         "name": "substitution, semi-conservative",
         "showlegend": true,
         "type": "scatter",
         "visible": false,
         "x": [
          null,
          5,
          95,
          253,
          477,
          614,
          957
         ],
         "y": [
          1,
          1,
          1,
          1,
          1,
          1,
          1
         ]
        },
        {
         "hoverinfo": "x",
         "legendgroup": "changes",
         "marker": {
          "color": "lightblue",
          "size": 8,
          "symbol": "circle"
         },
         "mode": "markers",
         "name": "substitution, conservative",
         "showlegend": true,
         "type": "scatter",
         "visible": false,
         "x": [
          null
         ],
         "y": [
          1
         ]
        },
        {
         "hoverinfo": "skip",
         "marker": {
          "color": [
           "orange",
           "red",
           "blue",
           "lightblue"
          ],
          "line": {
           "color": [
            "orange",
            "red",
            "blue",
            "lightblue"
           ],
           "width": 2
          }
         },
         "name": "counts",
         "showlegend": false,
         "text": [
          "0",
          "0",
          "6",
          "0"
         ],
         "textposition": "outside",
         "type": "bar",
         "visible": false,
         "width": 30,
         "x": [
          1540,
          1590,
          1640,
          1700
         ],
         "y": [
          0,
          0,
          0.85,
          0
         ]
        },
        {
         "hoverinfo": "skip",
         "line": {
          "color": "gray"
         },
         "mode": "lines",
         "name": "sequence line",
         "showlegend": false,
         "type": "scatter",
         "visible": false,
         "x": [
          0,
          1273
         ],
         "y": [
          1,
          1
         ]
        },
        {
         "hoverinfo": "skip",
         "legendgroup": "Subunit",
         "line": {
          "color": "plum",
          "width": 3
         },
         "mode": "lines",
         "name": "S1",
         "showlegend": true,
         "type": "scatter",
         "visible": false,
         "x": [
          14,
          685
         ],
         "y": [
          1,
          1
         ]
        },
        {
         "hoverinfo": "skip",
         "legendgroup": "Subunit",
         "line": {
          "color": "pink",
          "width": 3
         },
         "mode": "lines",
         "name": "S2",
         "showlegend": true,
         "type": "scatter",
         "visible": false,
         "x": [
          686,
          1273
         ],
         "y": [
          1,
          1
         ]
        },
        {
         "hoverinfo": "x",
         "legendgroup": "changes",
         "marker": {
          "color": "orange",
          "size": 8,
          "symbol": "square"
         },
         "mode": "markers",
         "name": "insertion",
         "showlegend": true,
         "type": "scatter",
         "visible": false,
         "x": [
          null
         ],
         "y": [
          1
         ]
        },
        {
         "hoverinfo": "x",
         "legendgroup": "changes",
         "marker": {
          "color": "red",
          "size": 8,
          "symbol": "square"
         },
         "mode": "markers",
         "name": "deletion",
         "showlegend": true,
         "type": "scatter",
         "visible": false,
         "x": [
          null
         ],
         "y": [
          1
         ]
        },
        {
         "hoverinfo": "x",
         "legendgroup": "changes",
         "marker": {
          "color": "blue",
          "size": 8,
          "symbol": "circle"
         },
         "mode": "markers",
         "name": "substitution, semi-conservative",
         "showlegend": true,
         "type": "scatter",
         "visible": false,
         "x": [
          null,
          18,
          20,
          26,
          138,
          190,
          417,
          484,
          501,
          614,
          655,
          1027,
          1176
         ],
         "y": [
          1,
          1,
          1,
          1,
          1,
          1,
          1,
          1,
          1,
          1,
          1,
          1,
          1
         ]
        },
        {
         "hoverinfo": "x",
         "legendgroup": "changes",
         "marker": {
          "color": "lightblue",
          "size": 8,
          "symbol": "circle"
         },
         "mode": "markers",
         "name": "substitution, conservative",
         "showlegend": true,
         "type": "scatter",
         "visible": false,
         "x": [
          null
         ],
         "y": [
          1
         ]
        },
        {
         "hoverinfo": "skip",
         "marker": {
          "color": [
           "orange",
           "red",
           "blue",
           "lightblue"
          ],
          "line": {
           "color": [
            "orange",
            "red",
            "blue",
            "lightblue"
           ],
           "width": 2
          }
         },
         "name": "counts",
         "showlegend": false,
         "text": [
          "0",
          "0",
          "12",
          "0"
         ],
         "textposition": "outside",
         "type": "bar",
         "visible": false,
         "width": 30,
         "x": [
          1540,
          1590,
          1640,
          1700
         ],
         "y": [
          0,
          0,
          0.85,
          0
         ]
        },
        {
         "hoverinfo": "skip",
         "line": {
          "color": "gray"
         },
         "mode": "lines",
         "name": "sequence line",
         "showlegend": false,
         "type": "scatter",
         "visible": false,
         "x": [
          0,
          1273
         ],
         "y": [
          1,
          1
         ]
        },
        {
         "hoverinfo": "skip",
         "legendgroup": "Subunit",
         "line": {
          "color": "plum",
          "width": 3
         },
         "mode": "lines",
         "name": "S1",
         "showlegend": true,
         "type": "scatter",
         "visible": false,
         "x": [
          14,
          685
         ],
         "y": [
          1,
          1
         ]
        },
        {
         "hoverinfo": "skip",
         "legendgroup": "Subunit",
         "line": {
          "color": "pink",
          "width": 3
         },
         "mode": "lines",
         "name": "S2",
         "showlegend": true,
         "type": "scatter",
         "visible": false,
         "x": [
          686,
          1273
         ],
         "y": [
          1,
          1
         ]
        },
        {
         "hoverinfo": "x",
         "legendgroup": "changes",
         "marker": {
          "color": "orange",
          "size": 8,
          "symbol": "square"
         },
         "mode": "markers",
         "name": "insertion",
         "showlegend": true,
         "type": "scatter",
         "visible": false,
         "x": [
          null
         ],
         "y": [
          1
         ]
        },
        {
         "hoverinfo": "x",
         "legendgroup": "changes",
         "marker": {
          "color": "red",
          "size": 8,
          "symbol": "square"
         },
         "mode": "markers",
         "name": "deletion",
         "showlegend": true,
         "type": "scatter",
         "visible": false,
         "x": [
          null
         ],
         "y": [
          1
         ]
        },
        {
         "hoverinfo": "x",
         "legendgroup": "changes",
         "marker": {
          "color": "blue",
          "size": 8,
          "symbol": "circle"
         },
         "mode": "markers",
         "name": "substitution, semi-conservative",
         "showlegend": true,
         "type": "scatter",
         "visible": false,
         "x": [
          null,
          5,
          95,
          253,
          484,
          614,
          701,
          818
         ],
         "y": [
          1,
          1,
          1,
          1,
          1,
          1,
          1,
          1
         ]
        },
        {
         "hoverinfo": "x",
         "legendgroup": "changes",
         "marker": {
          "color": "lightblue",
          "size": 8,
          "symbol": "circle"
         },
         "mode": "markers",
         "name": "substitution, conservative",
         "showlegend": true,
         "type": "scatter",
         "visible": false,
         "x": [
          null
         ],
         "y": [
          1
         ]
        },
        {
         "hoverinfo": "skip",
         "marker": {
          "color": [
           "orange",
           "red",
           "blue",
           "lightblue"
          ],
          "line": {
           "color": [
            "orange",
            "red",
            "blue",
            "lightblue"
           ],
           "width": 2
          }
         },
         "name": "counts",
         "showlegend": false,
         "text": [
          "0",
          "0",
          "7",
          "0"
         ],
         "textposition": "outside",
         "type": "bar",
         "visible": false,
         "width": 30,
         "x": [
          1540,
          1590,
          1640,
          1700
         ],
         "y": [
          0,
          0,
          0.85,
          0
         ]
        },
        {
         "hoverinfo": "skip",
         "line": {
          "color": "gray"
         },
         "mode": "lines",
         "name": "sequence line",
         "showlegend": false,
         "type": "scatter",
         "visible": false,
         "x": [
          0,
          1273
         ],
         "y": [
          1,
          1
         ]
        },
        {
         "hoverinfo": "skip",
         "legendgroup": "Subunit",
         "line": {
          "color": "plum",
          "width": 3
         },
         "mode": "lines",
         "name": "S1",
         "showlegend": true,
         "type": "scatter",
         "visible": false,
         "x": [
          14,
          685
         ],
         "y": [
          1,
          1
         ]
        },
        {
         "hoverinfo": "skip",
         "legendgroup": "Subunit",
         "line": {
          "color": "pink",
          "width": 3
         },
         "mode": "lines",
         "name": "S2",
         "showlegend": true,
         "type": "scatter",
         "visible": false,
         "x": [
          686,
          1273
         ],
         "y": [
          1,
          1
         ]
        },
        {
         "hoverinfo": "x",
         "legendgroup": "changes",
         "marker": {
          "color": "orange",
          "size": 8,
          "symbol": "square"
         },
         "mode": "markers",
         "name": "insertion",
         "showlegend": true,
         "type": "scatter",
         "visible": false,
         "x": [
          null
         ],
         "y": [
          1
         ]
        },
        {
         "hoverinfo": "x",
         "legendgroup": "changes",
         "marker": {
          "color": "red",
          "size": 8,
          "symbol": "square"
         },
         "mode": "markers",
         "name": "deletion",
         "showlegend": true,
         "type": "scatter",
         "visible": false,
         "x": [
          null,
          69,
          70,
          144
         ],
         "y": [
          1,
          1,
          1,
          1
         ]
        },
        {
         "hoverinfo": "x",
         "legendgroup": "changes",
         "marker": {
          "color": "blue",
          "size": 8,
          "symbol": "circle"
         },
         "mode": "markers",
         "name": "substitution, semi-conservative",
         "showlegend": true,
         "type": "scatter",
         "visible": false,
         "x": [
          null,
          501,
          570,
          614,
          681,
          716,
          982,
          1118
         ],
         "y": [
          1,
          1,
          1,
          1,
          1,
          1,
          1,
          1
         ]
        },
        {
         "hoverinfo": "x",
         "legendgroup": "changes",
         "marker": {
          "color": "lightblue",
          "size": 8,
          "symbol": "circle"
         },
         "mode": "markers",
         "name": "substitution, conservative",
         "showlegend": true,
         "type": "scatter",
         "visible": false,
         "x": [
          null
         ],
         "y": [
          1
         ]
        },
        {
         "hoverinfo": "skip",
         "marker": {
          "color": [
           "orange",
           "red",
           "blue",
           "lightblue"
          ],
          "line": {
           "color": [
            "orange",
            "red",
            "blue",
            "lightblue"
           ],
           "width": 2
          }
         },
         "name": "counts",
         "showlegend": false,
         "text": [
          "0",
          "3",
          "7",
          "0"
         ],
         "textposition": "outside",
         "type": "bar",
         "visible": false,
         "width": 30,
         "x": [
          1540,
          1590,
          1640,
          1700
         ],
         "y": [
          0,
          0.255,
          0.595,
          0
         ]
        }
       ],
       "layout": {
        "annotations": [
         {
          "font": {
           "size": 16
          },
          "showarrow": false,
          "text": "Same Sequence",
          "textangle": 0,
          "x": 680,
          "y": 1,
          "yanchor": "bottom"
         },
         {
          "font": {
           "size": 14
          },
          "showarrow": false,
          "text": "Alignment Score: 100.00%",
          "x": 0,
          "xanchor": "left",
          "y": 0,
          "yanchor": "bottom"
         },
         {
          "showarrow": false,
          "text": "counts",
          "textangle": 0,
          "x": 1450,
          "y": 0,
          "yanchor": "bottom"
         }
        ],
        "barmode": "overlay",
        "height": 380,
        "legend": {
         "x": 1,
         "xanchor": "right",
         "y": 1,
         "yanchor": "middle"
        },
        "plot_bgcolor": "white",
        "template": {
         "data": {
          "bar": [
           {
            "error_x": {
             "color": "#2a3f5f"
            },
            "error_y": {
             "color": "#2a3f5f"
            },
            "marker": {
             "line": {
              "color": "#E5ECF6",
              "width": 0.5
             },
             "pattern": {
              "fillmode": "overlay",
              "size": 10,
              "solidity": 0.2
             }
            },
            "type": "bar"
           }
          ],
          "barpolar": [
           {
            "marker": {
             "line": {
              "color": "#E5ECF6",
              "width": 0.5
             },
             "pattern": {
              "fillmode": "overlay",
              "size": 10,
              "solidity": 0.2
             }
            },
            "type": "barpolar"
           }
          ],
          "carpet": [
           {
            "aaxis": {
             "endlinecolor": "#2a3f5f",
             "gridcolor": "white",
             "linecolor": "white",
             "minorgridcolor": "white",
             "startlinecolor": "#2a3f5f"
            },
            "baxis": {
             "endlinecolor": "#2a3f5f",
             "gridcolor": "white",
             "linecolor": "white",
             "minorgridcolor": "white",
             "startlinecolor": "#2a3f5f"
            },
            "type": "carpet"
           }
          ],
          "choropleth": [
           {
            "colorbar": {
             "outlinewidth": 0,
             "ticks": ""
            },
            "type": "choropleth"
           }
          ],
          "contour": [
           {
            "colorbar": {
             "outlinewidth": 0,
             "ticks": ""
            },
            "colorscale": [
             [
              0,
              "#0d0887"
             ],
             [
              0.1111111111111111,
              "#46039f"
             ],
             [
              0.2222222222222222,
              "#7201a8"
             ],
             [
              0.3333333333333333,
              "#9c179e"
             ],
             [
              0.4444444444444444,
              "#bd3786"
             ],
             [
              0.5555555555555556,
              "#d8576b"
             ],
             [
              0.6666666666666666,
              "#ed7953"
             ],
             [
              0.7777777777777778,
              "#fb9f3a"
             ],
             [
              0.8888888888888888,
              "#fdca26"
             ],
             [
              1,
              "#f0f921"
             ]
            ],
            "type": "contour"
           }
          ],
          "contourcarpet": [
           {
            "colorbar": {
             "outlinewidth": 0,
             "ticks": ""
            },
            "type": "contourcarpet"
           }
          ],
          "heatmap": [
           {
            "colorbar": {
             "outlinewidth": 0,
             "ticks": ""
            },
            "colorscale": [
             [
              0,
              "#0d0887"
             ],
             [
              0.1111111111111111,
              "#46039f"
             ],
             [
              0.2222222222222222,
              "#7201a8"
             ],
             [
              0.3333333333333333,
              "#9c179e"
             ],
             [
              0.4444444444444444,
              "#bd3786"
             ],
             [
              0.5555555555555556,
              "#d8576b"
             ],
             [
              0.6666666666666666,
              "#ed7953"
             ],
             [
              0.7777777777777778,
              "#fb9f3a"
             ],
             [
              0.8888888888888888,
              "#fdca26"
             ],
             [
              1,
              "#f0f921"
             ]
            ],
            "type": "heatmap"
           }
          ],
          "heatmapgl": [
           {
            "colorbar": {
             "outlinewidth": 0,
             "ticks": ""
            },
            "colorscale": [
             [
              0,
              "#0d0887"
             ],
             [
              0.1111111111111111,
              "#46039f"
             ],
             [
              0.2222222222222222,
              "#7201a8"
             ],
             [
              0.3333333333333333,
              "#9c179e"
             ],
             [
              0.4444444444444444,
              "#bd3786"
             ],
             [
              0.5555555555555556,
              "#d8576b"
             ],
             [
              0.6666666666666666,
              "#ed7953"
             ],
             [
              0.7777777777777778,
              "#fb9f3a"
             ],
             [
              0.8888888888888888,
              "#fdca26"
             ],
             [
              1,
              "#f0f921"
             ]
            ],
            "type": "heatmapgl"
           }
          ],
          "histogram": [
           {
            "marker": {
             "pattern": {
              "fillmode": "overlay",
              "size": 10,
              "solidity": 0.2
             }
            },
            "type": "histogram"
           }
          ],
          "histogram2d": [
           {
            "colorbar": {
             "outlinewidth": 0,
             "ticks": ""
            },
            "colorscale": [
             [
              0,
              "#0d0887"
             ],
             [
              0.1111111111111111,
              "#46039f"
             ],
             [
              0.2222222222222222,
              "#7201a8"
             ],
             [
              0.3333333333333333,
              "#9c179e"
             ],
             [
              0.4444444444444444,
              "#bd3786"
             ],
             [
              0.5555555555555556,
              "#d8576b"
             ],
             [
              0.6666666666666666,
              "#ed7953"
             ],
             [
              0.7777777777777778,
              "#fb9f3a"
             ],
             [
              0.8888888888888888,
              "#fdca26"
             ],
             [
              1,
              "#f0f921"
             ]
            ],
            "type": "histogram2d"
           }
          ],
          "histogram2dcontour": [
           {
            "colorbar": {
             "outlinewidth": 0,
             "ticks": ""
            },
            "colorscale": [
             [
              0,
              "#0d0887"
             ],
             [
              0.1111111111111111,
              "#46039f"
             ],
             [
              0.2222222222222222,
              "#7201a8"
             ],
             [
              0.3333333333333333,
              "#9c179e"
             ],
             [
              0.4444444444444444,
              "#bd3786"
             ],
             [
              0.5555555555555556,
              "#d8576b"
             ],
             [
              0.6666666666666666,
              "#ed7953"
             ],
             [
              0.7777777777777778,
              "#fb9f3a"
             ],
             [
              0.8888888888888888,
              "#fdca26"
             ],
             [
              1,
              "#f0f921"
             ]
            ],
            "type": "histogram2dcontour"
           }
          ],
          "mesh3d": [
           {
            "colorbar": {
             "outlinewidth": 0,
             "ticks": ""
            },
            "type": "mesh3d"
           }
          ],
          "parcoords": [
           {
            "line": {
             "colorbar": {
              "outlinewidth": 0,
              "ticks": ""
             }
            },
            "type": "parcoords"
           }
          ],
          "pie": [
           {
            "automargin": true,
            "type": "pie"
           }
          ],
          "scatter": [
           {
            "marker": {
             "colorbar": {
              "outlinewidth": 0,
              "ticks": ""
             }
            },
            "type": "scatter"
           }
          ],
          "scatter3d": [
           {
            "line": {
             "colorbar": {
              "outlinewidth": 0,
              "ticks": ""
             }
            },
            "marker": {
             "colorbar": {
              "outlinewidth": 0,
              "ticks": ""
             }
            },
            "type": "scatter3d"
           }
          ],
          "scattercarpet": [
           {
            "marker": {
             "colorbar": {
              "outlinewidth": 0,
              "ticks": ""
             }
            },
            "type": "scattercarpet"
           }
          ],
          "scattergeo": [
           {
            "marker": {
             "colorbar": {
              "outlinewidth": 0,
              "ticks": ""
             }
            },
            "type": "scattergeo"
           }
          ],
          "scattergl": [
           {
            "marker": {
             "colorbar": {
              "outlinewidth": 0,
              "ticks": ""
             }
            },
            "type": "scattergl"
           }
          ],
          "scattermapbox": [
           {
            "marker": {
             "colorbar": {
              "outlinewidth": 0,
              "ticks": ""
             }
            },
            "type": "scattermapbox"
           }
          ],
          "scatterpolar": [
           {
            "marker": {
             "colorbar": {
              "outlinewidth": 0,
              "ticks": ""
             }
            },
            "type": "scatterpolar"
           }
          ],
          "scatterpolargl": [
           {
            "marker": {
             "colorbar": {
              "outlinewidth": 0,
              "ticks": ""
             }
            },
            "type": "scatterpolargl"
           }
          ],
          "scatterternary": [
           {
            "marker": {
             "colorbar": {
              "outlinewidth": 0,
              "ticks": ""
             }
            },
            "type": "scatterternary"
           }
          ],
          "surface": [
           {
            "colorbar": {
             "outlinewidth": 0,
             "ticks": ""
            },
            "colorscale": [
             [
              0,
              "#0d0887"
             ],
             [
              0.1111111111111111,
              "#46039f"
             ],
             [
              0.2222222222222222,
              "#7201a8"
             ],
             [
              0.3333333333333333,
              "#9c179e"
             ],
             [
              0.4444444444444444,
              "#bd3786"
             ],
             [
              0.5555555555555556,
              "#d8576b"
             ],
             [
              0.6666666666666666,
              "#ed7953"
             ],
             [
              0.7777777777777778,
              "#fb9f3a"
             ],
             [
              0.8888888888888888,
              "#fdca26"
             ],
             [
              1,
              "#f0f921"
             ]
            ],
            "type": "surface"
           }
          ],
          "table": [
           {
            "cells": {
             "fill": {
              "color": "#EBF0F8"
             },
             "line": {
              "color": "white"
             }
            },
            "header": {
             "fill": {
              "color": "#C8D4E3"
             },
             "line": {
              "color": "white"
             }
            },
            "type": "table"
           }
          ]
         },
         "layout": {
          "annotationdefaults": {
           "arrowcolor": "#2a3f5f",
           "arrowhead": 0,
           "arrowwidth": 1
          },
          "autotypenumbers": "strict",
          "coloraxis": {
           "colorbar": {
            "outlinewidth": 0,
            "ticks": ""
           }
          },
          "colorscale": {
           "diverging": [
            [
             0,
             "#8e0152"
            ],
            [
             0.1,
             "#c51b7d"
            ],
            [
             0.2,
             "#de77ae"
            ],
            [
             0.3,
             "#f1b6da"
            ],
            [
             0.4,
             "#fde0ef"
            ],
            [
             0.5,
             "#f7f7f7"
            ],
            [
             0.6,
             "#e6f5d0"
            ],
            [
             0.7,
             "#b8e186"
            ],
            [
             0.8,
             "#7fbc41"
            ],
            [
             0.9,
             "#4d9221"
            ],
            [
             1,
             "#276419"
            ]
           ],
           "sequential": [
            [
             0,
             "#0d0887"
            ],
            [
             0.1111111111111111,
             "#46039f"
            ],
            [
             0.2222222222222222,
             "#7201a8"
            ],
            [
             0.3333333333333333,
             "#9c179e"
            ],
            [
             0.4444444444444444,
             "#bd3786"
            ],
            [
             0.5555555555555556,
             "#d8576b"
            ],
            [
             0.6666666666666666,
             "#ed7953"
            ],
            [
             0.7777777777777778,
             "#fb9f3a"
            ],
            [
             0.8888888888888888,
             "#fdca26"
            ],
            [
             1,
             "#f0f921"
            ]
           ],
           "sequentialminus": [
            [
             0,
             "#0d0887"
            ],
            [
             0.1111111111111111,
             "#46039f"
            ],
            [
             0.2222222222222222,
             "#7201a8"
            ],
            [
             0.3333333333333333,
             "#9c179e"
            ],
            [
             0.4444444444444444,
             "#bd3786"
            ],
            [
             0.5555555555555556,
             "#d8576b"
            ],
            [
             0.6666666666666666,
             "#ed7953"
            ],
            [
             0.7777777777777778,
             "#fb9f3a"
            ],
            [
             0.8888888888888888,
             "#fdca26"
            ],
            [
             1,
             "#f0f921"
            ]
           ]
          },
          "colorway": [
           "#636efa",
           "#EF553B",
           "#00cc96",
           "#ab63fa",
           "#FFA15A",
           "#19d3f3",
           "#FF6692",
           "#B6E880",
           "#FF97FF",
           "#FECB52"
          ],
          "font": {
           "color": "#2a3f5f"
          },
          "geo": {
           "bgcolor": "white",
           "lakecolor": "white",
           "landcolor": "#E5ECF6",
           "showlakes": true,
           "showland": true,
           "subunitcolor": "white"
          },
          "hoverlabel": {
           "align": "left"
          },
          "hovermode": "closest",
          "mapbox": {
           "style": "light"
          },
          "paper_bgcolor": "white",
          "plot_bgcolor": "#E5ECF6",
          "polar": {
           "angularaxis": {
            "gridcolor": "white",
            "linecolor": "white",
            "ticks": ""
           },
           "bgcolor": "#E5ECF6",
           "radialaxis": {
            "gridcolor": "white",
            "linecolor": "white",
            "ticks": ""
           }
          },
          "scene": {
           "xaxis": {
            "backgroundcolor": "#E5ECF6",
            "gridcolor": "white",
            "gridwidth": 2,
            "linecolor": "white",
            "showbackground": true,
            "ticks": "",
            "zerolinecolor": "white"
           },
           "yaxis": {
            "backgroundcolor": "#E5ECF6",
            "gridcolor": "white",
            "gridwidth": 2,
            "linecolor": "white",
            "showbackground": true,
            "ticks": "",
            "zerolinecolor": "white"
           },
           "zaxis": {
            "backgroundcolor": "#E5ECF6",
            "gridcolor": "white",
            "gridwidth": 2,
            "linecolor": "white",
            "showbackground": true,
            "ticks": "",
            "zerolinecolor": "white"
           }
          },
          "shapedefaults": {
           "line": {
            "color": "#2a3f5f"
           }
          },
          "ternary": {
           "aaxis": {
            "gridcolor": "white",
            "linecolor": "white",
            "ticks": ""
           },
           "baxis": {
            "gridcolor": "white",
            "linecolor": "white",
            "ticks": ""
           },
           "bgcolor": "#E5ECF6",
           "caxis": {
            "gridcolor": "white",
            "linecolor": "white",
            "ticks": ""
           }
          },
          "title": {
           "x": 0.05
          },
          "xaxis": {
           "automargin": true,
           "gridcolor": "white",
           "linecolor": "white",
           "ticks": "",
           "title": {
            "standoff": 15
           },
           "zerolinecolor": "white",
           "zerolinewidth": 2
          },
          "yaxis": {
           "automargin": true,
           "gridcolor": "white",
           "linecolor": "white",
           "ticks": "",
           "title": {
            "standoff": 15
           },
           "zerolinecolor": "white",
           "zerolinewidth": 2
          }
         }
        },
        "title": {
         "text": "Spike Protein Comparison<br><sup>of Most Frequent Sequence of Selected Timespan to First Timespan<br>QLJ57227 (T1, 19B) difference from QLJ57227 (T1, 19B)<sup>",
         "x": 0.1
        },
        "updatemenus": [
         {
          "buttons": [
           {
            "args": [
             {
              "visible": [
               true,
               true,
               true,
               true,
               true,
               true,
               true,
               true,
               false,
               false,
               false,
               false,
               false,
               false,
               false,
               false,
               false,
               false,
               false,
               false,
               false,
               false,
               false,
               false,
               false,
               false,
               false,
               false,
               false,
               false,
               false,
               false,
               false,
               false,
               false,
               false,
               false,
               false,
               false,
               false,
               false,
               false,
               false,
               false,
               false,
               false,
               false,
               false,
               false,
               false,
               false,
               false,
               false,
               false,
               false,
               false,
               false,
               false,
               false,
               false,
               false,
               false,
               false,
               false,
               false,
               false,
               false,
               false,
               false,
               false,
               false,
               false,
               false,
               false,
               false,
               false,
               false,
               false,
               false,
               false
              ]
             },
             {
              "annotations": [
               {
                "font": {
                 "size": 16
                },
                "showarrow": false,
                "text": "Same Sequence",
                "textangle": 0,
                "x": 680,
                "y": 1,
                "yanchor": "bottom"
               },
               {
                "font": {
                 "size": 14
                },
                "showarrow": false,
                "text": "Alignment Score: 100.00%",
                "x": 0,
                "xanchor": "left",
                "y": 0,
                "yanchor": "bottom"
               },
               {
                "showarrow": false,
                "text": "counts",
                "textangle": 0,
                "x": 1450,
                "y": 0,
                "yanchor": "bottom"
               }
              ],
              "title": {
               "text": "Spike Protein Comparison<br><sup>of Most Frequent Sequence of Selected Timespan to First Timespan<br>QLJ57227 (T1, 19B) difference from QLJ57227 (T1, 19B)<sup>",
               "x": 0.1
              }
             }
            ],
            "label": "Mar 21, 2020 to Apr 30, 2020",
            "method": "update"
           },
           {
            "args": [
             {
              "visible": [
               false,
               false,
               false,
               false,
               false,
               false,
               false,
               false,
               true,
               true,
               true,
               true,
               true,
               true,
               true,
               true,
               false,
               false,
               false,
               false,
               false,
               false,
               false,
               false,
               false,
               false,
               false,
               false,
               false,
               false,
               false,
               false,
               false,
               false,
               false,
               false,
               false,
               false,
               false,
               false,
               false,
               false,
               false,
               false,
               false,
               false,
               false,
               false,
               false,
               false,
               false,
               false,
               false,
               false,
               false,
               false,
               false,
               false,
               false,
               false,
               false,
               false,
               false,
               false,
               false,
               false,
               false,
               false,
               false,
               false,
               false,
               false,
               false,
               false,
               false,
               false,
               false,
               false,
               false,
               false
              ]
             },
             {
              "annotations": [
               {
                "font": {
                 "size": 12
                },
                "showarrow": false,
                "text": "D253G",
                "x": 253,
                "xanchor": "center",
                "y": 1,
                "yanchor": "middle",
                "yshift": 18
               },
               {
                "font": {
                 "size": 12
                },
                "showarrow": false,
                "text": "D614G",
                "x": 614,
                "xanchor": "center",
                "y": 1,
                "yanchor": "middle",
                "yshift": -18
               },
               {
                "font": {
                 "size": 14
                },
                "showarrow": false,
                "text": "Alignment Score: 99.79%",
                "x": 0,
                "xanchor": "left",
                "y": 0,
                "yanchor": "bottom"
               },
               {
                "showarrow": false,
                "text": "counts",
                "textangle": 0,
                "x": 1450,
                "y": 0,
                "yanchor": "bottom"
               }
              ],
              "title": {
               "text": "Spike Protein Comparison<br><sup>of Most Frequent Sequence of Selected Timespan to First Timespan<br>QTX16612 (T3, 20C) difference from QLJ57227 (T1, 19B)<sup>",
               "x": 0.1
              }
             }
            ],
            "label": "May 1, 2020 to Sep 20, 2020",
            "method": "update"
           },
           {
            "args": [
             {
              "visible": [
               false,
               false,
               false,
               false,
               false,
               false,
               false,
               false,
               false,
               false,
               false,
               false,
               false,
               false,
               false,
               false,
               true,
               true,
               true,
               true,
               true,
               true,
               true,
               true,
               false,
               false,
               false,
               false,
               false,
               false,
               false,
               false,
               false,
               false,
               false,
               false,
               false,
               false,
               false,
               false,
               false,
               false,
               false,
               false,
               false,
               false,
               false,
               false,
               false,
               false,
               false,
               false,
               false,
               false,
               false,
               false,
               false,
               false,
               false,
               false,
               false,
               false,
               false,
               false,
               false,
               false,
               false,
               false,
               false,
               false,
               false,
               false,
               false,
               false,
               false,
               false,
               false,
               false,
               false,
               false
              ]
             },
             {
              "annotations": [
               {
                "font": {
                 "size": 12
                },
                "showarrow": false,
                "text": "D614G",
                "x": 614,
                "xanchor": "center",
                "y": 1,
                "yanchor": "middle",
                "yshift": 18
               },
               {
                "font": {
                 "size": 12
                },
                "showarrow": false,
                "text": "Q677H",
                "x": 677,
                "xanchor": "center",
                "y": 1,
                "yanchor": "middle",
                "yshift": -18
               },
               {
                "font": {
                 "size": 14
                },
                "showarrow": false,
                "text": "Alignment Score: 99.82%",
                "x": 0,
                "xanchor": "left",
                "y": 0,
                "yanchor": "bottom"
               },
               {
                "showarrow": false,
                "text": "counts",
                "textangle": 0,
                "x": 1450,
                "y": 0,
                "yanchor": "bottom"
               }
              ],
              "title": {
               "text": "Spike Protein Comparison<br><sup>of Most Frequent Sequence of Selected Timespan to First Timespan<br>QWE90634 (T4, 20G) difference from QLJ57227 (T1, 19B)<sup>",
               "x": 0.1
              }
             }
            ],
            "label": "Sep 21, 2020 to Dec 31, 2020",
            "method": "update"
           },
           {
            "args": [
             {
              "visible": [
               false,
               false,
               false,
               false,
               false,
               false,
               false,
               false,
               false,
               false,
               false,
               false,
               false,
               false,
               false,
               false,
               false,
               false,
               false,
               false,
               false,
               false,
               false,
               false,
               true,
               true,
               true,
               true,
               true,
               true,
               true,
               true,
               false,
               false,
               false,
               false,
               false,
               false,
               false,
               false,
               false,
               false,
               false,
               false,
               false,
               false,
               false,
               false,
               false,
               false,
               false,
               false,
               false,
               false,
               false,
               false,
               false,
               false,
               false,
               false,
               false,
               false,
               false,
               false,
               false,
               false,
               false,
               false,
               false,
               false,
               false,
               false,
               false,
               false,
               false,
               false,
               false,
               false,
               false,
               false
              ]
             },
             {
              "annotations": [
               {
                "font": {
                 "size": 12
                },
                "showarrow": false,
                "text": "D614G",
                "x": 614,
                "xanchor": "center",
                "y": 1,
                "yanchor": "middle",
                "yshift": 18
               },
               {
                "font": {
                 "size": 14
                },
                "showarrow": false,
                "text": "Alignment Score: 99.90%",
                "x": 0,
                "xanchor": "left",
                "y": 0,
                "yanchor": "bottom"
               },
               {
                "showarrow": false,
                "text": "counts",
                "textangle": 0,
                "x": 1450,
                "y": 0,
                "yanchor": "bottom"
               }
              ],
              "title": {
               "text": "Spike Protein Comparison<br><sup>of Most Frequent Sequence of Selected Timespan to First Timespan<br>QTN63407 (T5, 20C) difference from QLJ57227 (T1, 19B)<sup>",
               "x": 0.1
              }
             }
            ],
            "label": "Jan 2021",
            "method": "update"
           },
           {
            "args": [
             {
              "visible": [
               false,
               false,
               false,
               false,
               false,
               false,
               false,
               false,
               false,
               false,
               false,
               false,
               false,
               false,
               false,
               false,
               false,
               false,
               false,
               false,
               false,
               false,
               false,
               false,
               false,
               false,
               false,
               false,
               false,
               false,
               false,
               false,
               true,
               true,
               true,
               true,
               true,
               true,
               true,
               true,
               false,
               false,
               false,
               false,
               false,
               false,
               false,
               false,
               false,
               false,
               false,
               false,
               false,
               false,
               false,
               false,
               false,
               false,
               false,
               false,
               false,
               false,
               false,
               false,
               false,
               false,
               false,
               false,
               false,
               false,
               false,
               false,
               false,
               false,
               false,
               false,
               false,
               false,
               false,
               false
              ]
             },
             {
              "annotations": [
               {
                "font": {
                 "size": 12
                },
                "showarrow": false,
                "text": "D614G",
                "x": 614,
                "xanchor": "center",
                "y": 1,
                "yanchor": "middle",
                "yshift": 18
               },
               {
                "font": {
                 "size": 14
                },
                "showarrow": false,
                "text": "Alignment Score: 99.90%",
                "x": 0,
                "xanchor": "left",
                "y": 0,
                "yanchor": "bottom"
               },
               {
                "showarrow": false,
                "text": "counts",
                "textangle": 0,
                "x": 1450,
                "y": 0,
                "yanchor": "bottom"
               }
              ],
              "title": {
               "text": "Spike Protein Comparison<br><sup>of Most Frequent Sequence of Selected Timespan to First Timespan<br>QVR40162 (T6, 20G) difference from QLJ57227 (T1, 19B)<sup>",
               "x": 0.1
              }
             }
            ],
            "label": "Feb 2021",
            "method": "update"
           },
           {
            "args": [
             {
              "visible": [
               false,
               false,
               false,
               false,
               false,
               false,
               false,
               false,
               false,
               false,
               false,
               false,
               false,
               false,
               false,
               false,
               false,
               false,
               false,
               false,
               false,
               false,
               false,
               false,
               false,
               false,
               false,
               false,
               false,
               false,
               false,
               false,
               false,
               false,
               false,
               false,
               false,
               false,
               false,
               false,
               true,
               true,
               true,
               true,
               true,
               true,
               true,
               true,
               false,
               false,
               false,
               false,
               false,
               false,
               false,
               false,
               false,
               false,
               false,
               false,
               false,
               false,
               false,
               false,
               false,
               false,
               false,
               false,
               false,
               false,
               false,
               false,
               false,
               false,
               false,
               false,
               false,
               false,
               false,
               false
              ]
             },
             {
              "annotations": [
               {
                "font": {
                 "size": 12
                },
                "showarrow": false,
                "text": "D614G",
                "x": 614,
                "xanchor": "center",
                "y": 1,
                "yanchor": "middle",
                "yshift": 18
               },
               {
                "font": {
                 "size": 12
                },
                "showarrow": false,
                "text": "Q677H",
                "x": 677,
                "xanchor": "center",
                "y": 1,
                "yanchor": "middle",
                "yshift": -18
               },
               {
                "font": {
                 "size": 14
                },
                "showarrow": false,
                "text": "Alignment Score: 99.82%",
                "x": 0,
                "xanchor": "left",
                "y": 0,
                "yanchor": "bottom"
               },
               {
                "showarrow": false,
                "text": "counts",
                "textangle": 0,
                "x": 1450,
                "y": 0,
                "yanchor": "bottom"
               }
              ],
              "title": {
               "text": "Spike Protein Comparison<br><sup>of Most Frequent Sequence of Selected Timespan to First Timespan<br>QVO59492 (T7, 20G) difference from QLJ57227 (T1, 19B)<sup>",
               "x": 0.1
              }
             }
            ],
            "label": "Mar 2021",
            "method": "update"
           },
           {
            "args": [
             {
              "visible": [
               false,
               false,
               false,
               false,
               false,
               false,
               false,
               false,
               false,
               false,
               false,
               false,
               false,
               false,
               false,
               false,
               false,
               false,
               false,
               false,
               false,
               false,
               false,
               false,
               false,
               false,
               false,
               false,
               false,
               false,
               false,
               false,
               false,
               false,
               false,
               false,
               false,
               false,
               false,
               false,
               false,
               false,
               false,
               false,
               false,
               false,
               false,
               false,
               true,
               true,
               true,
               true,
               true,
               true,
               true,
               true,
               false,
               false,
               false,
               false,
               false,
               false,
               false,
               false,
               false,
               false,
               false,
               false,
               false,
               false,
               false,
               false,
               false,
               false,
               false,
               false,
               false,
               false,
               false,
               false
              ]
             },
             {
              "annotations": [
               {
                "font": {
                 "size": 12
                },
                "showarrow": false,
                "text": "L5F",
                "x": 5,
                "xanchor": "center",
                "y": 1,
                "yanchor": "middle",
                "yshift": 18
               },
               {
                "font": {
                 "size": 12
                },
                "showarrow": false,
                "text": "T95I",
                "x": 95,
                "xanchor": "center",
                "y": 1,
                "yanchor": "middle",
                "yshift": -18
               },
               {
                "font": {
                 "size": 12
                },
                "showarrow": false,
                "text": "D253G",
                "x": 253,
                "xanchor": "center",
                "y": 1,
                "yanchor": "middle",
                "yshift": 36
               },
               {
                "font": {
                 "size": 12
                },
                "showarrow": false,
                "text": "S477N",
                "x": 477,
                "xanchor": "center",
                "y": 1,
                "yanchor": "middle",
                "yshift": -36
               },
               {
                "font": {
                 "size": 12
                },
                "showarrow": false,
                "text": "D614G",
                "x": 614,
                "xanchor": "center",
                "y": 1,
                "yanchor": "middle",
                "yshift": 18
               },
               {
                "font": {
                 "size": 12
                },
                "showarrow": false,
                "text": "Q957R",
                "x": 957,
                "xanchor": "center",
                "y": 1,
                "yanchor": "middle",
                "yshift": -18
               },
               {
                "font": {
                 "size": 14
                },
                "showarrow": false,
                "text": "Alignment Score: 99.54%",
                "x": 0,
                "xanchor": "left",
                "y": 0,
                "yanchor": "bottom"
               },
               {
                "showarrow": false,
                "text": "counts",
                "textangle": 0,
                "x": 1450,
                "y": 0,
                "yanchor": "bottom"
               }
              ],
              "title": {
               "text": "Spike Protein Comparison<br><sup>of Most Frequent Sequence of Selected Timespan to First Timespan<br>QUQ04393 (T8, 21F (Iota)) difference from QLJ57227 (T1, 19B)<sup>",
               "x": 0.1
              }
             }
            ],
            "label": "Apr 2021",
            "method": "update"
           },
           {
            "args": [
             {
              "visible": [
               false,
               false,
               false,
               false,
               false,
               false,
               false,
               false,
               false,
               false,
               false,
               false,
               false,
               false,
               false,
               false,
               false,
               false,
               false,
               false,
               false,
               false,
               false,
               false,
               false,
               false,
               false,
               false,
               false,
               false,
               false,
               false,
               false,
               false,
               false,
               false,
               false,
               false,
               false,
               false,
               false,
               false,
               false,
               false,
               false,
               false,
               false,
               false,
               false,
               false,
               false,
               false,
               false,
               false,
               false,
               false,
               true,
               true,
               true,
               true,
               true,
               true,
               true,
               true,
               false,
               false,
               false,
               false,
               false,
               false,
               false,
               false,
               false,
               false,
               false,
               false,
               false,
               false,
               false,
               false
              ]
             },
             {
              "annotations": [
               {
                "font": {
                 "size": 12
                },
                "showarrow": false,
                "text": "L18F",
                "x": 18,
                "xanchor": "center",
                "y": 1,
                "yanchor": "middle",
                "yshift": 18
               },
               {
                "font": {
                 "size": 12
                },
                "showarrow": false,
                "text": "T20N",
                "x": 20,
                "xanchor": "center",
                "y": 1,
                "yanchor": "middle",
                "yshift": -18
               },
               {
                "font": {
                 "size": 12
                },
                "showarrow": false,
                "text": "P26S",
                "x": 26,
                "xanchor": "center",
                "y": 1,
                "yanchor": "middle",
                "yshift": 36
               },
               {
                "font": {
                 "size": 12
                },
                "showarrow": false,
                "text": "D138Y",
                "x": 138,
                "xanchor": "center",
                "y": 1,
                "yanchor": "middle",
                "yshift": -36
               },
               {
                "font": {
                 "size": 12
                },
                "showarrow": false,
                "text": "R190S",
                "x": 190,
                "xanchor": "center",
                "y": 1,
                "yanchor": "middle",
                "yshift": 18
               },
               {
                "font": {
                 "size": 12
                },
                "showarrow": false,
                "text": "K417T",
                "x": 417,
                "xanchor": "center",
                "y": 1,
                "yanchor": "middle",
                "yshift": -18
               },
               {
                "font": {
                 "size": 12
                },
                "showarrow": false,
                "text": "E484K",
                "x": 484,
                "xanchor": "center",
                "y": 1,
                "yanchor": "middle",
                "yshift": 36
               },
               {
                "font": {
                 "size": 12
                },
                "showarrow": false,
                "text": "N501Y",
                "x": 501,
                "xanchor": "center",
                "y": 1,
                "yanchor": "middle",
                "yshift": -36
               },
               {
                "font": {
                 "size": 12
                },
                "showarrow": false,
                "text": "D614G",
                "x": 614,
                "xanchor": "center",
                "y": 1,
                "yanchor": "middle",
                "yshift": 18
               },
               {
                "font": {
                 "size": 12
                },
                "showarrow": false,
                "text": "H655Y",
                "x": 655,
                "xanchor": "center",
                "y": 1,
                "yanchor": "middle",
                "yshift": -18
               },
               {
                "font": {
                 "size": 12
                },
                "showarrow": false,
                "text": "T1027I",
                "x": 1027,
                "xanchor": "center",
                "y": 1,
                "yanchor": "middle",
                "yshift": 36
               },
               {
                "font": {
                 "size": 12
                },
                "showarrow": false,
                "text": "V1176F",
                "x": 1176,
                "xanchor": "center",
                "y": 1,
                "yanchor": "middle",
                "yshift": -36
               },
               {
                "font": {
                 "size": 14
                },
                "showarrow": false,
                "text": "Alignment Score: 98.90%",
                "x": 0,
                "xanchor": "left",
                "y": 0,
                "yanchor": "bottom"
               },
               {
                "showarrow": false,
                "text": "counts",
                "textangle": 0,
                "x": 1450,
                "y": 0,
                "yanchor": "bottom"
               }
              ],
              "title": {
               "text": "Spike Protein Comparison<br><sup>of Most Frequent Sequence of Selected Timespan to First Timespan<br>QWY94091 (T9, 20J (Gamma, V3)) difference from QLJ57227 (T1, 19B)<sup>",
               "x": 0.1
              }
             }
            ],
            "label": "May 2021",
            "method": "update"
           },
           {
            "args": [
             {
              "visible": [
               false,
               false,
               false,
               false,
               false,
               false,
               false,
               false,
               false,
               false,
               false,
               false,
               false,
               false,
               false,
               false,
               false,
               false,
               false,
               false,
               false,
               false,
               false,
               false,
               false,
               false,
               false,
               false,
               false,
               false,
               false,
               false,
               false,
               false,
               false,
               false,
               false,
               false,
               false,
               false,
               false,
               false,
               false,
               false,
               false,
               false,
               false,
               false,
               false,
               false,
               false,
               false,
               false,
               false,
               false,
               false,
               false,
               false,
               false,
               false,
               false,
               false,
               false,
               false,
               true,
               true,
               true,
               true,
               true,
               true,
               true,
               true,
               false,
               false,
               false,
               false,
               false,
               false,
               false,
               false
              ]
             },
             {
              "annotations": [
               {
                "font": {
                 "size": 12
                },
                "showarrow": false,
                "text": "L5F",
                "x": 5,
                "xanchor": "center",
                "y": 1,
                "yanchor": "middle",
                "yshift": 18
               },
               {
                "font": {
                 "size": 12
                },
                "showarrow": false,
                "text": "T95I",
                "x": 95,
                "xanchor": "center",
                "y": 1,
                "yanchor": "middle",
                "yshift": -18
               },
               {
                "font": {
                 "size": 12
                },
                "showarrow": false,
                "text": "D253G",
                "x": 253,
                "xanchor": "center",
                "y": 1,
                "yanchor": "middle",
                "yshift": 36
               },
               {
                "font": {
                 "size": 12
                },
                "showarrow": false,
                "text": "E484K",
                "x": 484,
                "xanchor": "center",
                "y": 1,
                "yanchor": "middle",
                "yshift": -36
               },
               {
                "font": {
                 "size": 12
                },
                "showarrow": false,
                "text": "D614G",
                "x": 614,
                "xanchor": "center",
                "y": 1,
                "yanchor": "middle",
                "yshift": 18
               },
               {
                "font": {
                 "size": 12
                },
                "showarrow": false,
                "text": "A701V",
                "x": 701,
                "xanchor": "center",
                "y": 1,
                "yanchor": "middle",
                "yshift": -18
               },
               {
                "font": {
                 "size": 12
                },
                "showarrow": false,
                "text": "I818V",
                "x": 818,
                "xanchor": "center",
                "y": 1,
                "yanchor": "middle",
                "yshift": 36
               },
               {
                "font": {
                 "size": 14
                },
                "showarrow": false,
                "text": "Alignment Score: 99.51%",
                "x": 0,
                "xanchor": "left",
                "y": 0,
                "yanchor": "bottom"
               },
               {
                "showarrow": false,
                "text": "counts",
                "textangle": 0,
                "x": 1450,
                "y": 0,
                "yanchor": "bottom"
               }
              ],
              "title": {
               "text": "Spike Protein Comparison<br><sup>of Most Frequent Sequence of Selected Timespan to First Timespan<br>QXP14639 (T10, 20I (Alpha, V1)) difference from QLJ57227 (T1, 19B)<sup>",
               "x": 0.1
              }
             }
            ],
            "label": "Jun 2021",
            "method": "update"
           },
           {
            "args": [
             {
              "visible": [
               false,
               false,
               false,
               false,
               false,
               false,
               false,
               false,
               false,
               false,
               false,
               false,
               false,
               false,
               false,
               false,
               false,
               false,
               false,
               false,
               false,
               false,
               false,
               false,
               false,
               false,
               false,
               false,
               false,
               false,
               false,
               false,
               false,
               false,
               false,
               false,
               false,
               false,
               false,
               false,
               false,
               false,
               false,
               false,
               false,
               false,
               false,
               false,
               false,
               false,
               false,
               false,
               false,
               false,
               false,
               false,
               false,
               false,
               false,
               false,
               false,
               false,
               false,
               false,
               false,
               false,
               false,
               false,
               false,
               false,
               false,
               false,
               true,
               true,
               true,
               true,
               true,
               true,
               true,
               true
              ]
             },
             {
              "annotations": [
               {
                "font": {
                 "size": 12
                },
                "showarrow": false,
                "text": "H69",
                "x": 69,
                "xanchor": "center",
                "y": 1,
                "yanchor": "middle",
                "yshift": 18
               },
               {
                "font": {
                 "size": 12
                },
                "showarrow": false,
                "text": "V70",
                "x": 70,
                "xanchor": "center",
                "y": 1,
                "yanchor": "middle",
                "yshift": -18
               },
               {
                "font": {
                 "size": 12
                },
                "showarrow": false,
                "text": "Y144",
                "x": 144,
                "xanchor": "center",
                "y": 1,
                "yanchor": "middle",
                "yshift": 36
               },
               {
                "font": {
                 "size": 12
                },
                "showarrow": false,
                "text": "N501Y",
                "x": 501,
                "xanchor": "center",
                "y": 1,
                "yanchor": "middle",
                "yshift": -36
               },
               {
                "font": {
                 "size": 12
                },
                "showarrow": false,
                "text": "A570D",
                "x": 570,
                "xanchor": "center",
                "y": 1,
                "yanchor": "middle",
                "yshift": 18
               },
               {
                "font": {
                 "size": 12
                },
                "showarrow": false,
                "text": "D614G",
                "x": 614,
                "xanchor": "center",
                "y": 1,
                "yanchor": "middle",
                "yshift": -18
               },
               {
                "font": {
                 "size": 12
                },
                "showarrow": false,
                "text": "P681H",
                "x": 681,
                "xanchor": "center",
                "y": 1,
                "yanchor": "middle",
                "yshift": 36
               },
               {
                "font": {
                 "size": 12
                },
                "showarrow": false,
                "text": "T716I",
                "x": 716,
                "xanchor": "center",
                "y": 1,
                "yanchor": "middle",
                "yshift": -36
               },
               {
                "font": {
                 "size": 12
                },
                "showarrow": false,
                "text": "S982A",
                "x": 982,
                "xanchor": "center",
                "y": 1,
                "yanchor": "middle",
                "yshift": 18
               },
               {
                "font": {
                 "size": 12
                },
                "showarrow": false,
                "text": "D1118H",
                "x": 1118,
                "xanchor": "center",
                "y": 1,
                "yanchor": "middle",
                "yshift": -18
               },
               {
                "font": {
                 "size": 14
                },
                "showarrow": false,
                "text": "Alignment Score: 98.38%",
                "x": 0,
                "xanchor": "left",
                "y": 0,
                "yanchor": "bottom"
               },
               {
                "showarrow": false,
                "text": "counts",
                "textangle": 0,
                "x": 1450,
                "y": 0,
                "yanchor": "bottom"
               }
              ],
              "title": {
               "text": "Spike Protein Comparison<br><sup>of Most Frequent Sequence of Selected Timespan to First Timespan<br>UAZ03150 (T11, 20I (Alpha, V1)) difference from QLJ57227 (T1, 19B)<sup>",
               "x": 0.1
              }
             }
            ],
            "label": "Jul 2021",
            "method": "update"
           }
          ],
          "direction": "down",
          "pad": {
           "r": 10,
           "t": 10
          },
          "showactive": true,
          "x": 0.5,
          "xanchor": "left",
          "y": 1.4,
          "yanchor": "top"
         }
        ],
        "width": 1100,
        "xaxis": {
         "range": [
          -15,
          1850
         ],
         "showgrid": false,
         "visible": false,
         "zeroline": false
        },
        "yaxis": {
         "range": [
          0,
          1.5
         ],
         "showgrid": false,
         "visible": false,
         "zeroline": false
        }
       }
      },
      "text/html": [
       "<div>                            <div id=\"d81b1e2a-21ce-4761-8100-2edd4c788b2a\" class=\"plotly-graph-div\" style=\"height:380px; width:1100px;\"></div>            <script type=\"text/javascript\">                require([\"plotly\"], function(Plotly) {                    window.PLOTLYENV=window.PLOTLYENV || {};                                    if (document.getElementById(\"d81b1e2a-21ce-4761-8100-2edd4c788b2a\")) {                    Plotly.newPlot(                        \"d81b1e2a-21ce-4761-8100-2edd4c788b2a\",                        [{\"hoverinfo\":\"skip\",\"line\":{\"color\":\"gray\"},\"mode\":\"lines\",\"name\":\"sequence line\",\"showlegend\":false,\"visible\":true,\"x\":[0,1273],\"y\":[1,1],\"type\":\"scatter\"},{\"hoverinfo\":\"skip\",\"legendgroup\":\"Subunit\",\"line\":{\"color\":\"plum\",\"width\":3},\"mode\":\"lines\",\"name\":\"S1\",\"showlegend\":true,\"visible\":true,\"x\":[14,685],\"y\":[1,1],\"type\":\"scatter\"},{\"hoverinfo\":\"skip\",\"legendgroup\":\"Subunit\",\"line\":{\"color\":\"pink\",\"width\":3},\"mode\":\"lines\",\"name\":\"S2\",\"showlegend\":true,\"visible\":true,\"x\":[686,1273],\"y\":[1,1],\"type\":\"scatter\"},{\"hoverinfo\":\"x\",\"legendgroup\":\"changes\",\"marker\":{\"color\":\"orange\",\"size\":8,\"symbol\":\"square\"},\"mode\":\"markers\",\"name\":\"insertion\",\"showlegend\":true,\"visible\":true,\"x\":[null],\"y\":[1],\"type\":\"scatter\"},{\"hoverinfo\":\"x\",\"legendgroup\":\"changes\",\"marker\":{\"color\":\"red\",\"size\":8,\"symbol\":\"square\"},\"mode\":\"markers\",\"name\":\"deletion\",\"showlegend\":true,\"visible\":true,\"x\":[null],\"y\":[1],\"type\":\"scatter\"},{\"hoverinfo\":\"x\",\"legendgroup\":\"changes\",\"marker\":{\"color\":\"blue\",\"size\":8,\"symbol\":\"circle\"},\"mode\":\"markers\",\"name\":\"substitution, semi-conservative\",\"showlegend\":true,\"visible\":true,\"x\":[null],\"y\":[1],\"type\":\"scatter\"},{\"hoverinfo\":\"x\",\"legendgroup\":\"changes\",\"marker\":{\"color\":\"lightblue\",\"size\":8,\"symbol\":\"circle\"},\"mode\":\"markers\",\"name\":\"substitution, conservative\",\"showlegend\":true,\"visible\":true,\"x\":[null],\"y\":[1],\"type\":\"scatter\"},{\"hoverinfo\":\"skip\",\"marker\":{\"color\":[\"orange\",\"red\",\"blue\",\"lightblue\"],\"line\":{\"color\":[\"orange\",\"red\",\"blue\",\"lightblue\"],\"width\":2}},\"name\":\"counts\",\"showlegend\":false,\"text\":[\"0\",\"0\",\"0\",\"0\"],\"textposition\":\"outside\",\"visible\":true,\"width\":30,\"x\":[1540,1590,1640,1700],\"y\":[0.0,0.0,0.0,0.0],\"type\":\"bar\"},{\"hoverinfo\":\"skip\",\"line\":{\"color\":\"gray\"},\"mode\":\"lines\",\"name\":\"sequence line\",\"showlegend\":false,\"visible\":false,\"x\":[0,1273],\"y\":[1,1],\"type\":\"scatter\"},{\"hoverinfo\":\"skip\",\"legendgroup\":\"Subunit\",\"line\":{\"color\":\"plum\",\"width\":3},\"mode\":\"lines\",\"name\":\"S1\",\"showlegend\":true,\"visible\":false,\"x\":[14,685],\"y\":[1,1],\"type\":\"scatter\"},{\"hoverinfo\":\"skip\",\"legendgroup\":\"Subunit\",\"line\":{\"color\":\"pink\",\"width\":3},\"mode\":\"lines\",\"name\":\"S2\",\"showlegend\":true,\"visible\":false,\"x\":[686,1273],\"y\":[1,1],\"type\":\"scatter\"},{\"hoverinfo\":\"x\",\"legendgroup\":\"changes\",\"marker\":{\"color\":\"orange\",\"size\":8,\"symbol\":\"square\"},\"mode\":\"markers\",\"name\":\"insertion\",\"showlegend\":true,\"visible\":false,\"x\":[null],\"y\":[1],\"type\":\"scatter\"},{\"hoverinfo\":\"x\",\"legendgroup\":\"changes\",\"marker\":{\"color\":\"red\",\"size\":8,\"symbol\":\"square\"},\"mode\":\"markers\",\"name\":\"deletion\",\"showlegend\":true,\"visible\":false,\"x\":[null],\"y\":[1],\"type\":\"scatter\"},{\"hoverinfo\":\"x\",\"legendgroup\":\"changes\",\"marker\":{\"color\":\"blue\",\"size\":8,\"symbol\":\"circle\"},\"mode\":\"markers\",\"name\":\"substitution, semi-conservative\",\"showlegend\":true,\"visible\":false,\"x\":[null,253,614],\"y\":[1,1,1],\"type\":\"scatter\"},{\"hoverinfo\":\"x\",\"legendgroup\":\"changes\",\"marker\":{\"color\":\"lightblue\",\"size\":8,\"symbol\":\"circle\"},\"mode\":\"markers\",\"name\":\"substitution, conservative\",\"showlegend\":true,\"visible\":false,\"x\":[null],\"y\":[1],\"type\":\"scatter\"},{\"hoverinfo\":\"skip\",\"marker\":{\"color\":[\"orange\",\"red\",\"blue\",\"lightblue\"],\"line\":{\"color\":[\"orange\",\"red\",\"blue\",\"lightblue\"],\"width\":2}},\"name\":\"counts\",\"showlegend\":false,\"text\":[\"0\",\"0\",\"2\",\"0\"],\"textposition\":\"outside\",\"visible\":false,\"width\":30,\"x\":[1540,1590,1640,1700],\"y\":[0.0,0.0,0.85,0.0],\"type\":\"bar\"},{\"hoverinfo\":\"skip\",\"line\":{\"color\":\"gray\"},\"mode\":\"lines\",\"name\":\"sequence line\",\"showlegend\":false,\"visible\":false,\"x\":[0,1273],\"y\":[1,1],\"type\":\"scatter\"},{\"hoverinfo\":\"skip\",\"legendgroup\":\"Subunit\",\"line\":{\"color\":\"plum\",\"width\":3},\"mode\":\"lines\",\"name\":\"S1\",\"showlegend\":true,\"visible\":false,\"x\":[14,685],\"y\":[1,1],\"type\":\"scatter\"},{\"hoverinfo\":\"skip\",\"legendgroup\":\"Subunit\",\"line\":{\"color\":\"pink\",\"width\":3},\"mode\":\"lines\",\"name\":\"S2\",\"showlegend\":true,\"visible\":false,\"x\":[686,1273],\"y\":[1,1],\"type\":\"scatter\"},{\"hoverinfo\":\"x\",\"legendgroup\":\"changes\",\"marker\":{\"color\":\"orange\",\"size\":8,\"symbol\":\"square\"},\"mode\":\"markers\",\"name\":\"insertion\",\"showlegend\":true,\"visible\":false,\"x\":[null],\"y\":[1],\"type\":\"scatter\"},{\"hoverinfo\":\"x\",\"legendgroup\":\"changes\",\"marker\":{\"color\":\"red\",\"size\":8,\"symbol\":\"square\"},\"mode\":\"markers\",\"name\":\"deletion\",\"showlegend\":true,\"visible\":false,\"x\":[null],\"y\":[1],\"type\":\"scatter\"},{\"hoverinfo\":\"x\",\"legendgroup\":\"changes\",\"marker\":{\"color\":\"blue\",\"size\":8,\"symbol\":\"circle\"},\"mode\":\"markers\",\"name\":\"substitution, semi-conservative\",\"showlegend\":true,\"visible\":false,\"x\":[null,614,677],\"y\":[1,1,1],\"type\":\"scatter\"},{\"hoverinfo\":\"x\",\"legendgroup\":\"changes\",\"marker\":{\"color\":\"lightblue\",\"size\":8,\"symbol\":\"circle\"},\"mode\":\"markers\",\"name\":\"substitution, conservative\",\"showlegend\":true,\"visible\":false,\"x\":[null],\"y\":[1],\"type\":\"scatter\"},{\"hoverinfo\":\"skip\",\"marker\":{\"color\":[\"orange\",\"red\",\"blue\",\"lightblue\"],\"line\":{\"color\":[\"orange\",\"red\",\"blue\",\"lightblue\"],\"width\":2}},\"name\":\"counts\",\"showlegend\":false,\"text\":[\"0\",\"0\",\"2\",\"0\"],\"textposition\":\"outside\",\"visible\":false,\"width\":30,\"x\":[1540,1590,1640,1700],\"y\":[0.0,0.0,0.85,0.0],\"type\":\"bar\"},{\"hoverinfo\":\"skip\",\"line\":{\"color\":\"gray\"},\"mode\":\"lines\",\"name\":\"sequence line\",\"showlegend\":false,\"visible\":false,\"x\":[0,1273],\"y\":[1,1],\"type\":\"scatter\"},{\"hoverinfo\":\"skip\",\"legendgroup\":\"Subunit\",\"line\":{\"color\":\"plum\",\"width\":3},\"mode\":\"lines\",\"name\":\"S1\",\"showlegend\":true,\"visible\":false,\"x\":[14,685],\"y\":[1,1],\"type\":\"scatter\"},{\"hoverinfo\":\"skip\",\"legendgroup\":\"Subunit\",\"line\":{\"color\":\"pink\",\"width\":3},\"mode\":\"lines\",\"name\":\"S2\",\"showlegend\":true,\"visible\":false,\"x\":[686,1273],\"y\":[1,1],\"type\":\"scatter\"},{\"hoverinfo\":\"x\",\"legendgroup\":\"changes\",\"marker\":{\"color\":\"orange\",\"size\":8,\"symbol\":\"square\"},\"mode\":\"markers\",\"name\":\"insertion\",\"showlegend\":true,\"visible\":false,\"x\":[null],\"y\":[1],\"type\":\"scatter\"},{\"hoverinfo\":\"x\",\"legendgroup\":\"changes\",\"marker\":{\"color\":\"red\",\"size\":8,\"symbol\":\"square\"},\"mode\":\"markers\",\"name\":\"deletion\",\"showlegend\":true,\"visible\":false,\"x\":[null],\"y\":[1],\"type\":\"scatter\"},{\"hoverinfo\":\"x\",\"legendgroup\":\"changes\",\"marker\":{\"color\":\"blue\",\"size\":8,\"symbol\":\"circle\"},\"mode\":\"markers\",\"name\":\"substitution, semi-conservative\",\"showlegend\":true,\"visible\":false,\"x\":[null,614],\"y\":[1,1],\"type\":\"scatter\"},{\"hoverinfo\":\"x\",\"legendgroup\":\"changes\",\"marker\":{\"color\":\"lightblue\",\"size\":8,\"symbol\":\"circle\"},\"mode\":\"markers\",\"name\":\"substitution, conservative\",\"showlegend\":true,\"visible\":false,\"x\":[null],\"y\":[1],\"type\":\"scatter\"},{\"hoverinfo\":\"skip\",\"marker\":{\"color\":[\"orange\",\"red\",\"blue\",\"lightblue\"],\"line\":{\"color\":[\"orange\",\"red\",\"blue\",\"lightblue\"],\"width\":2}},\"name\":\"counts\",\"showlegend\":false,\"text\":[\"0\",\"0\",\"1\",\"0\"],\"textposition\":\"outside\",\"visible\":false,\"width\":30,\"x\":[1540,1590,1640,1700],\"y\":[0.0,0.0,0.85,0.0],\"type\":\"bar\"},{\"hoverinfo\":\"skip\",\"line\":{\"color\":\"gray\"},\"mode\":\"lines\",\"name\":\"sequence line\",\"showlegend\":false,\"visible\":false,\"x\":[0,1273],\"y\":[1,1],\"type\":\"scatter\"},{\"hoverinfo\":\"skip\",\"legendgroup\":\"Subunit\",\"line\":{\"color\":\"plum\",\"width\":3},\"mode\":\"lines\",\"name\":\"S1\",\"showlegend\":true,\"visible\":false,\"x\":[14,685],\"y\":[1,1],\"type\":\"scatter\"},{\"hoverinfo\":\"skip\",\"legendgroup\":\"Subunit\",\"line\":{\"color\":\"pink\",\"width\":3},\"mode\":\"lines\",\"name\":\"S2\",\"showlegend\":true,\"visible\":false,\"x\":[686,1273],\"y\":[1,1],\"type\":\"scatter\"},{\"hoverinfo\":\"x\",\"legendgroup\":\"changes\",\"marker\":{\"color\":\"orange\",\"size\":8,\"symbol\":\"square\"},\"mode\":\"markers\",\"name\":\"insertion\",\"showlegend\":true,\"visible\":false,\"x\":[null],\"y\":[1],\"type\":\"scatter\"},{\"hoverinfo\":\"x\",\"legendgroup\":\"changes\",\"marker\":{\"color\":\"red\",\"size\":8,\"symbol\":\"square\"},\"mode\":\"markers\",\"name\":\"deletion\",\"showlegend\":true,\"visible\":false,\"x\":[null],\"y\":[1],\"type\":\"scatter\"},{\"hoverinfo\":\"x\",\"legendgroup\":\"changes\",\"marker\":{\"color\":\"blue\",\"size\":8,\"symbol\":\"circle\"},\"mode\":\"markers\",\"name\":\"substitution, semi-conservative\",\"showlegend\":true,\"visible\":false,\"x\":[null,614],\"y\":[1,1],\"type\":\"scatter\"},{\"hoverinfo\":\"x\",\"legendgroup\":\"changes\",\"marker\":{\"color\":\"lightblue\",\"size\":8,\"symbol\":\"circle\"},\"mode\":\"markers\",\"name\":\"substitution, conservative\",\"showlegend\":true,\"visible\":false,\"x\":[null],\"y\":[1],\"type\":\"scatter\"},{\"hoverinfo\":\"skip\",\"marker\":{\"color\":[\"orange\",\"red\",\"blue\",\"lightblue\"],\"line\":{\"color\":[\"orange\",\"red\",\"blue\",\"lightblue\"],\"width\":2}},\"name\":\"counts\",\"showlegend\":false,\"text\":[\"0\",\"0\",\"1\",\"0\"],\"textposition\":\"outside\",\"visible\":false,\"width\":30,\"x\":[1540,1590,1640,1700],\"y\":[0.0,0.0,0.85,0.0],\"type\":\"bar\"},{\"hoverinfo\":\"skip\",\"line\":{\"color\":\"gray\"},\"mode\":\"lines\",\"name\":\"sequence line\",\"showlegend\":false,\"visible\":false,\"x\":[0,1273],\"y\":[1,1],\"type\":\"scatter\"},{\"hoverinfo\":\"skip\",\"legendgroup\":\"Subunit\",\"line\":{\"color\":\"plum\",\"width\":3},\"mode\":\"lines\",\"name\":\"S1\",\"showlegend\":true,\"visible\":false,\"x\":[14,685],\"y\":[1,1],\"type\":\"scatter\"},{\"hoverinfo\":\"skip\",\"legendgroup\":\"Subunit\",\"line\":{\"color\":\"pink\",\"width\":3},\"mode\":\"lines\",\"name\":\"S2\",\"showlegend\":true,\"visible\":false,\"x\":[686,1273],\"y\":[1,1],\"type\":\"scatter\"},{\"hoverinfo\":\"x\",\"legendgroup\":\"changes\",\"marker\":{\"color\":\"orange\",\"size\":8,\"symbol\":\"square\"},\"mode\":\"markers\",\"name\":\"insertion\",\"showlegend\":true,\"visible\":false,\"x\":[null],\"y\":[1],\"type\":\"scatter\"},{\"hoverinfo\":\"x\",\"legendgroup\":\"changes\",\"marker\":{\"color\":\"red\",\"size\":8,\"symbol\":\"square\"},\"mode\":\"markers\",\"name\":\"deletion\",\"showlegend\":true,\"visible\":false,\"x\":[null],\"y\":[1],\"type\":\"scatter\"},{\"hoverinfo\":\"x\",\"legendgroup\":\"changes\",\"marker\":{\"color\":\"blue\",\"size\":8,\"symbol\":\"circle\"},\"mode\":\"markers\",\"name\":\"substitution, semi-conservative\",\"showlegend\":true,\"visible\":false,\"x\":[null,614,677],\"y\":[1,1,1],\"type\":\"scatter\"},{\"hoverinfo\":\"x\",\"legendgroup\":\"changes\",\"marker\":{\"color\":\"lightblue\",\"size\":8,\"symbol\":\"circle\"},\"mode\":\"markers\",\"name\":\"substitution, conservative\",\"showlegend\":true,\"visible\":false,\"x\":[null],\"y\":[1],\"type\":\"scatter\"},{\"hoverinfo\":\"skip\",\"marker\":{\"color\":[\"orange\",\"red\",\"blue\",\"lightblue\"],\"line\":{\"color\":[\"orange\",\"red\",\"blue\",\"lightblue\"],\"width\":2}},\"name\":\"counts\",\"showlegend\":false,\"text\":[\"0\",\"0\",\"2\",\"0\"],\"textposition\":\"outside\",\"visible\":false,\"width\":30,\"x\":[1540,1590,1640,1700],\"y\":[0.0,0.0,0.85,0.0],\"type\":\"bar\"},{\"hoverinfo\":\"skip\",\"line\":{\"color\":\"gray\"},\"mode\":\"lines\",\"name\":\"sequence line\",\"showlegend\":false,\"visible\":false,\"x\":[0,1273],\"y\":[1,1],\"type\":\"scatter\"},{\"hoverinfo\":\"skip\",\"legendgroup\":\"Subunit\",\"line\":{\"color\":\"plum\",\"width\":3},\"mode\":\"lines\",\"name\":\"S1\",\"showlegend\":true,\"visible\":false,\"x\":[14,685],\"y\":[1,1],\"type\":\"scatter\"},{\"hoverinfo\":\"skip\",\"legendgroup\":\"Subunit\",\"line\":{\"color\":\"pink\",\"width\":3},\"mode\":\"lines\",\"name\":\"S2\",\"showlegend\":true,\"visible\":false,\"x\":[686,1273],\"y\":[1,1],\"type\":\"scatter\"},{\"hoverinfo\":\"x\",\"legendgroup\":\"changes\",\"marker\":{\"color\":\"orange\",\"size\":8,\"symbol\":\"square\"},\"mode\":\"markers\",\"name\":\"insertion\",\"showlegend\":true,\"visible\":false,\"x\":[null],\"y\":[1],\"type\":\"scatter\"},{\"hoverinfo\":\"x\",\"legendgroup\":\"changes\",\"marker\":{\"color\":\"red\",\"size\":8,\"symbol\":\"square\"},\"mode\":\"markers\",\"name\":\"deletion\",\"showlegend\":true,\"visible\":false,\"x\":[null],\"y\":[1],\"type\":\"scatter\"},{\"hoverinfo\":\"x\",\"legendgroup\":\"changes\",\"marker\":{\"color\":\"blue\",\"size\":8,\"symbol\":\"circle\"},\"mode\":\"markers\",\"name\":\"substitution, semi-conservative\",\"showlegend\":true,\"visible\":false,\"x\":[null,5,95,253,477,614,957],\"y\":[1,1,1,1,1,1,1],\"type\":\"scatter\"},{\"hoverinfo\":\"x\",\"legendgroup\":\"changes\",\"marker\":{\"color\":\"lightblue\",\"size\":8,\"symbol\":\"circle\"},\"mode\":\"markers\",\"name\":\"substitution, conservative\",\"showlegend\":true,\"visible\":false,\"x\":[null],\"y\":[1],\"type\":\"scatter\"},{\"hoverinfo\":\"skip\",\"marker\":{\"color\":[\"orange\",\"red\",\"blue\",\"lightblue\"],\"line\":{\"color\":[\"orange\",\"red\",\"blue\",\"lightblue\"],\"width\":2}},\"name\":\"counts\",\"showlegend\":false,\"text\":[\"0\",\"0\",\"6\",\"0\"],\"textposition\":\"outside\",\"visible\":false,\"width\":30,\"x\":[1540,1590,1640,1700],\"y\":[0.0,0.0,0.85,0.0],\"type\":\"bar\"},{\"hoverinfo\":\"skip\",\"line\":{\"color\":\"gray\"},\"mode\":\"lines\",\"name\":\"sequence line\",\"showlegend\":false,\"visible\":false,\"x\":[0,1273],\"y\":[1,1],\"type\":\"scatter\"},{\"hoverinfo\":\"skip\",\"legendgroup\":\"Subunit\",\"line\":{\"color\":\"plum\",\"width\":3},\"mode\":\"lines\",\"name\":\"S1\",\"showlegend\":true,\"visible\":false,\"x\":[14,685],\"y\":[1,1],\"type\":\"scatter\"},{\"hoverinfo\":\"skip\",\"legendgroup\":\"Subunit\",\"line\":{\"color\":\"pink\",\"width\":3},\"mode\":\"lines\",\"name\":\"S2\",\"showlegend\":true,\"visible\":false,\"x\":[686,1273],\"y\":[1,1],\"type\":\"scatter\"},{\"hoverinfo\":\"x\",\"legendgroup\":\"changes\",\"marker\":{\"color\":\"orange\",\"size\":8,\"symbol\":\"square\"},\"mode\":\"markers\",\"name\":\"insertion\",\"showlegend\":true,\"visible\":false,\"x\":[null],\"y\":[1],\"type\":\"scatter\"},{\"hoverinfo\":\"x\",\"legendgroup\":\"changes\",\"marker\":{\"color\":\"red\",\"size\":8,\"symbol\":\"square\"},\"mode\":\"markers\",\"name\":\"deletion\",\"showlegend\":true,\"visible\":false,\"x\":[null],\"y\":[1],\"type\":\"scatter\"},{\"hoverinfo\":\"x\",\"legendgroup\":\"changes\",\"marker\":{\"color\":\"blue\",\"size\":8,\"symbol\":\"circle\"},\"mode\":\"markers\",\"name\":\"substitution, semi-conservative\",\"showlegend\":true,\"visible\":false,\"x\":[null,18,20,26,138,190,417,484,501,614,655,1027,1176],\"y\":[1,1,1,1,1,1,1,1,1,1,1,1,1],\"type\":\"scatter\"},{\"hoverinfo\":\"x\",\"legendgroup\":\"changes\",\"marker\":{\"color\":\"lightblue\",\"size\":8,\"symbol\":\"circle\"},\"mode\":\"markers\",\"name\":\"substitution, conservative\",\"showlegend\":true,\"visible\":false,\"x\":[null],\"y\":[1],\"type\":\"scatter\"},{\"hoverinfo\":\"skip\",\"marker\":{\"color\":[\"orange\",\"red\",\"blue\",\"lightblue\"],\"line\":{\"color\":[\"orange\",\"red\",\"blue\",\"lightblue\"],\"width\":2}},\"name\":\"counts\",\"showlegend\":false,\"text\":[\"0\",\"0\",\"12\",\"0\"],\"textposition\":\"outside\",\"visible\":false,\"width\":30,\"x\":[1540,1590,1640,1700],\"y\":[0.0,0.0,0.85,0.0],\"type\":\"bar\"},{\"hoverinfo\":\"skip\",\"line\":{\"color\":\"gray\"},\"mode\":\"lines\",\"name\":\"sequence line\",\"showlegend\":false,\"visible\":false,\"x\":[0,1273],\"y\":[1,1],\"type\":\"scatter\"},{\"hoverinfo\":\"skip\",\"legendgroup\":\"Subunit\",\"line\":{\"color\":\"plum\",\"width\":3},\"mode\":\"lines\",\"name\":\"S1\",\"showlegend\":true,\"visible\":false,\"x\":[14,685],\"y\":[1,1],\"type\":\"scatter\"},{\"hoverinfo\":\"skip\",\"legendgroup\":\"Subunit\",\"line\":{\"color\":\"pink\",\"width\":3},\"mode\":\"lines\",\"name\":\"S2\",\"showlegend\":true,\"visible\":false,\"x\":[686,1273],\"y\":[1,1],\"type\":\"scatter\"},{\"hoverinfo\":\"x\",\"legendgroup\":\"changes\",\"marker\":{\"color\":\"orange\",\"size\":8,\"symbol\":\"square\"},\"mode\":\"markers\",\"name\":\"insertion\",\"showlegend\":true,\"visible\":false,\"x\":[null],\"y\":[1],\"type\":\"scatter\"},{\"hoverinfo\":\"x\",\"legendgroup\":\"changes\",\"marker\":{\"color\":\"red\",\"size\":8,\"symbol\":\"square\"},\"mode\":\"markers\",\"name\":\"deletion\",\"showlegend\":true,\"visible\":false,\"x\":[null],\"y\":[1],\"type\":\"scatter\"},{\"hoverinfo\":\"x\",\"legendgroup\":\"changes\",\"marker\":{\"color\":\"blue\",\"size\":8,\"symbol\":\"circle\"},\"mode\":\"markers\",\"name\":\"substitution, semi-conservative\",\"showlegend\":true,\"visible\":false,\"x\":[null,5,95,253,484,614,701,818],\"y\":[1,1,1,1,1,1,1,1],\"type\":\"scatter\"},{\"hoverinfo\":\"x\",\"legendgroup\":\"changes\",\"marker\":{\"color\":\"lightblue\",\"size\":8,\"symbol\":\"circle\"},\"mode\":\"markers\",\"name\":\"substitution, conservative\",\"showlegend\":true,\"visible\":false,\"x\":[null],\"y\":[1],\"type\":\"scatter\"},{\"hoverinfo\":\"skip\",\"marker\":{\"color\":[\"orange\",\"red\",\"blue\",\"lightblue\"],\"line\":{\"color\":[\"orange\",\"red\",\"blue\",\"lightblue\"],\"width\":2}},\"name\":\"counts\",\"showlegend\":false,\"text\":[\"0\",\"0\",\"7\",\"0\"],\"textposition\":\"outside\",\"visible\":false,\"width\":30,\"x\":[1540,1590,1640,1700],\"y\":[0.0,0.0,0.85,0.0],\"type\":\"bar\"},{\"hoverinfo\":\"skip\",\"line\":{\"color\":\"gray\"},\"mode\":\"lines\",\"name\":\"sequence line\",\"showlegend\":false,\"visible\":false,\"x\":[0,1273],\"y\":[1,1],\"type\":\"scatter\"},{\"hoverinfo\":\"skip\",\"legendgroup\":\"Subunit\",\"line\":{\"color\":\"plum\",\"width\":3},\"mode\":\"lines\",\"name\":\"S1\",\"showlegend\":true,\"visible\":false,\"x\":[14,685],\"y\":[1,1],\"type\":\"scatter\"},{\"hoverinfo\":\"skip\",\"legendgroup\":\"Subunit\",\"line\":{\"color\":\"pink\",\"width\":3},\"mode\":\"lines\",\"name\":\"S2\",\"showlegend\":true,\"visible\":false,\"x\":[686,1273],\"y\":[1,1],\"type\":\"scatter\"},{\"hoverinfo\":\"x\",\"legendgroup\":\"changes\",\"marker\":{\"color\":\"orange\",\"size\":8,\"symbol\":\"square\"},\"mode\":\"markers\",\"name\":\"insertion\",\"showlegend\":true,\"visible\":false,\"x\":[null],\"y\":[1],\"type\":\"scatter\"},{\"hoverinfo\":\"x\",\"legendgroup\":\"changes\",\"marker\":{\"color\":\"red\",\"size\":8,\"symbol\":\"square\"},\"mode\":\"markers\",\"name\":\"deletion\",\"showlegend\":true,\"visible\":false,\"x\":[null,69,70,144],\"y\":[1,1,1,1],\"type\":\"scatter\"},{\"hoverinfo\":\"x\",\"legendgroup\":\"changes\",\"marker\":{\"color\":\"blue\",\"size\":8,\"symbol\":\"circle\"},\"mode\":\"markers\",\"name\":\"substitution, semi-conservative\",\"showlegend\":true,\"visible\":false,\"x\":[null,501,570,614,681,716,982,1118],\"y\":[1,1,1,1,1,1,1,1],\"type\":\"scatter\"},{\"hoverinfo\":\"x\",\"legendgroup\":\"changes\",\"marker\":{\"color\":\"lightblue\",\"size\":8,\"symbol\":\"circle\"},\"mode\":\"markers\",\"name\":\"substitution, conservative\",\"showlegend\":true,\"visible\":false,\"x\":[null],\"y\":[1],\"type\":\"scatter\"},{\"hoverinfo\":\"skip\",\"marker\":{\"color\":[\"orange\",\"red\",\"blue\",\"lightblue\"],\"line\":{\"color\":[\"orange\",\"red\",\"blue\",\"lightblue\"],\"width\":2}},\"name\":\"counts\",\"showlegend\":false,\"text\":[\"0\",\"3\",\"7\",\"0\"],\"textposition\":\"outside\",\"visible\":false,\"width\":30,\"x\":[1540,1590,1640,1700],\"y\":[0.0,0.255,0.595,0.0],\"type\":\"bar\"}],                        {\"template\":{\"data\":{\"bar\":[{\"error_x\":{\"color\":\"#2a3f5f\"},\"error_y\":{\"color\":\"#2a3f5f\"},\"marker\":{\"line\":{\"color\":\"#E5ECF6\",\"width\":0.5},\"pattern\":{\"fillmode\":\"overlay\",\"size\":10,\"solidity\":0.2}},\"type\":\"bar\"}],\"barpolar\":[{\"marker\":{\"line\":{\"color\":\"#E5ECF6\",\"width\":0.5},\"pattern\":{\"fillmode\":\"overlay\",\"size\":10,\"solidity\":0.2}},\"type\":\"barpolar\"}],\"carpet\":[{\"aaxis\":{\"endlinecolor\":\"#2a3f5f\",\"gridcolor\":\"white\",\"linecolor\":\"white\",\"minorgridcolor\":\"white\",\"startlinecolor\":\"#2a3f5f\"},\"baxis\":{\"endlinecolor\":\"#2a3f5f\",\"gridcolor\":\"white\",\"linecolor\":\"white\",\"minorgridcolor\":\"white\",\"startlinecolor\":\"#2a3f5f\"},\"type\":\"carpet\"}],\"choropleth\":[{\"colorbar\":{\"outlinewidth\":0,\"ticks\":\"\"},\"type\":\"choropleth\"}],\"contour\":[{\"colorbar\":{\"outlinewidth\":0,\"ticks\":\"\"},\"colorscale\":[[0.0,\"#0d0887\"],[0.1111111111111111,\"#46039f\"],[0.2222222222222222,\"#7201a8\"],[0.3333333333333333,\"#9c179e\"],[0.4444444444444444,\"#bd3786\"],[0.5555555555555556,\"#d8576b\"],[0.6666666666666666,\"#ed7953\"],[0.7777777777777778,\"#fb9f3a\"],[0.8888888888888888,\"#fdca26\"],[1.0,\"#f0f921\"]],\"type\":\"contour\"}],\"contourcarpet\":[{\"colorbar\":{\"outlinewidth\":0,\"ticks\":\"\"},\"type\":\"contourcarpet\"}],\"heatmap\":[{\"colorbar\":{\"outlinewidth\":0,\"ticks\":\"\"},\"colorscale\":[[0.0,\"#0d0887\"],[0.1111111111111111,\"#46039f\"],[0.2222222222222222,\"#7201a8\"],[0.3333333333333333,\"#9c179e\"],[0.4444444444444444,\"#bd3786\"],[0.5555555555555556,\"#d8576b\"],[0.6666666666666666,\"#ed7953\"],[0.7777777777777778,\"#fb9f3a\"],[0.8888888888888888,\"#fdca26\"],[1.0,\"#f0f921\"]],\"type\":\"heatmap\"}],\"heatmapgl\":[{\"colorbar\":{\"outlinewidth\":0,\"ticks\":\"\"},\"colorscale\":[[0.0,\"#0d0887\"],[0.1111111111111111,\"#46039f\"],[0.2222222222222222,\"#7201a8\"],[0.3333333333333333,\"#9c179e\"],[0.4444444444444444,\"#bd3786\"],[0.5555555555555556,\"#d8576b\"],[0.6666666666666666,\"#ed7953\"],[0.7777777777777778,\"#fb9f3a\"],[0.8888888888888888,\"#fdca26\"],[1.0,\"#f0f921\"]],\"type\":\"heatmapgl\"}],\"histogram\":[{\"marker\":{\"pattern\":{\"fillmode\":\"overlay\",\"size\":10,\"solidity\":0.2}},\"type\":\"histogram\"}],\"histogram2d\":[{\"colorbar\":{\"outlinewidth\":0,\"ticks\":\"\"},\"colorscale\":[[0.0,\"#0d0887\"],[0.1111111111111111,\"#46039f\"],[0.2222222222222222,\"#7201a8\"],[0.3333333333333333,\"#9c179e\"],[0.4444444444444444,\"#bd3786\"],[0.5555555555555556,\"#d8576b\"],[0.6666666666666666,\"#ed7953\"],[0.7777777777777778,\"#fb9f3a\"],[0.8888888888888888,\"#fdca26\"],[1.0,\"#f0f921\"]],\"type\":\"histogram2d\"}],\"histogram2dcontour\":[{\"colorbar\":{\"outlinewidth\":0,\"ticks\":\"\"},\"colorscale\":[[0.0,\"#0d0887\"],[0.1111111111111111,\"#46039f\"],[0.2222222222222222,\"#7201a8\"],[0.3333333333333333,\"#9c179e\"],[0.4444444444444444,\"#bd3786\"],[0.5555555555555556,\"#d8576b\"],[0.6666666666666666,\"#ed7953\"],[0.7777777777777778,\"#fb9f3a\"],[0.8888888888888888,\"#fdca26\"],[1.0,\"#f0f921\"]],\"type\":\"histogram2dcontour\"}],\"mesh3d\":[{\"colorbar\":{\"outlinewidth\":0,\"ticks\":\"\"},\"type\":\"mesh3d\"}],\"parcoords\":[{\"line\":{\"colorbar\":{\"outlinewidth\":0,\"ticks\":\"\"}},\"type\":\"parcoords\"}],\"pie\":[{\"automargin\":true,\"type\":\"pie\"}],\"scatter\":[{\"marker\":{\"colorbar\":{\"outlinewidth\":0,\"ticks\":\"\"}},\"type\":\"scatter\"}],\"scatter3d\":[{\"line\":{\"colorbar\":{\"outlinewidth\":0,\"ticks\":\"\"}},\"marker\":{\"colorbar\":{\"outlinewidth\":0,\"ticks\":\"\"}},\"type\":\"scatter3d\"}],\"scattercarpet\":[{\"marker\":{\"colorbar\":{\"outlinewidth\":0,\"ticks\":\"\"}},\"type\":\"scattercarpet\"}],\"scattergeo\":[{\"marker\":{\"colorbar\":{\"outlinewidth\":0,\"ticks\":\"\"}},\"type\":\"scattergeo\"}],\"scattergl\":[{\"marker\":{\"colorbar\":{\"outlinewidth\":0,\"ticks\":\"\"}},\"type\":\"scattergl\"}],\"scattermapbox\":[{\"marker\":{\"colorbar\":{\"outlinewidth\":0,\"ticks\":\"\"}},\"type\":\"scattermapbox\"}],\"scatterpolar\":[{\"marker\":{\"colorbar\":{\"outlinewidth\":0,\"ticks\":\"\"}},\"type\":\"scatterpolar\"}],\"scatterpolargl\":[{\"marker\":{\"colorbar\":{\"outlinewidth\":0,\"ticks\":\"\"}},\"type\":\"scatterpolargl\"}],\"scatterternary\":[{\"marker\":{\"colorbar\":{\"outlinewidth\":0,\"ticks\":\"\"}},\"type\":\"scatterternary\"}],\"surface\":[{\"colorbar\":{\"outlinewidth\":0,\"ticks\":\"\"},\"colorscale\":[[0.0,\"#0d0887\"],[0.1111111111111111,\"#46039f\"],[0.2222222222222222,\"#7201a8\"],[0.3333333333333333,\"#9c179e\"],[0.4444444444444444,\"#bd3786\"],[0.5555555555555556,\"#d8576b\"],[0.6666666666666666,\"#ed7953\"],[0.7777777777777778,\"#fb9f3a\"],[0.8888888888888888,\"#fdca26\"],[1.0,\"#f0f921\"]],\"type\":\"surface\"}],\"table\":[{\"cells\":{\"fill\":{\"color\":\"#EBF0F8\"},\"line\":{\"color\":\"white\"}},\"header\":{\"fill\":{\"color\":\"#C8D4E3\"},\"line\":{\"color\":\"white\"}},\"type\":\"table\"}]},\"layout\":{\"annotationdefaults\":{\"arrowcolor\":\"#2a3f5f\",\"arrowhead\":0,\"arrowwidth\":1},\"autotypenumbers\":\"strict\",\"coloraxis\":{\"colorbar\":{\"outlinewidth\":0,\"ticks\":\"\"}},\"colorscale\":{\"diverging\":[[0,\"#8e0152\"],[0.1,\"#c51b7d\"],[0.2,\"#de77ae\"],[0.3,\"#f1b6da\"],[0.4,\"#fde0ef\"],[0.5,\"#f7f7f7\"],[0.6,\"#e6f5d0\"],[0.7,\"#b8e186\"],[0.8,\"#7fbc41\"],[0.9,\"#4d9221\"],[1,\"#276419\"]],\"sequential\":[[0.0,\"#0d0887\"],[0.1111111111111111,\"#46039f\"],[0.2222222222222222,\"#7201a8\"],[0.3333333333333333,\"#9c179e\"],[0.4444444444444444,\"#bd3786\"],[0.5555555555555556,\"#d8576b\"],[0.6666666666666666,\"#ed7953\"],[0.7777777777777778,\"#fb9f3a\"],[0.8888888888888888,\"#fdca26\"],[1.0,\"#f0f921\"]],\"sequentialminus\":[[0.0,\"#0d0887\"],[0.1111111111111111,\"#46039f\"],[0.2222222222222222,\"#7201a8\"],[0.3333333333333333,\"#9c179e\"],[0.4444444444444444,\"#bd3786\"],[0.5555555555555556,\"#d8576b\"],[0.6666666666666666,\"#ed7953\"],[0.7777777777777778,\"#fb9f3a\"],[0.8888888888888888,\"#fdca26\"],[1.0,\"#f0f921\"]]},\"colorway\":[\"#636efa\",\"#EF553B\",\"#00cc96\",\"#ab63fa\",\"#FFA15A\",\"#19d3f3\",\"#FF6692\",\"#B6E880\",\"#FF97FF\",\"#FECB52\"],\"font\":{\"color\":\"#2a3f5f\"},\"geo\":{\"bgcolor\":\"white\",\"lakecolor\":\"white\",\"landcolor\":\"#E5ECF6\",\"showlakes\":true,\"showland\":true,\"subunitcolor\":\"white\"},\"hoverlabel\":{\"align\":\"left\"},\"hovermode\":\"closest\",\"mapbox\":{\"style\":\"light\"},\"paper_bgcolor\":\"white\",\"plot_bgcolor\":\"#E5ECF6\",\"polar\":{\"angularaxis\":{\"gridcolor\":\"white\",\"linecolor\":\"white\",\"ticks\":\"\"},\"bgcolor\":\"#E5ECF6\",\"radialaxis\":{\"gridcolor\":\"white\",\"linecolor\":\"white\",\"ticks\":\"\"}},\"scene\":{\"xaxis\":{\"backgroundcolor\":\"#E5ECF6\",\"gridcolor\":\"white\",\"gridwidth\":2,\"linecolor\":\"white\",\"showbackground\":true,\"ticks\":\"\",\"zerolinecolor\":\"white\"},\"yaxis\":{\"backgroundcolor\":\"#E5ECF6\",\"gridcolor\":\"white\",\"gridwidth\":2,\"linecolor\":\"white\",\"showbackground\":true,\"ticks\":\"\",\"zerolinecolor\":\"white\"},\"zaxis\":{\"backgroundcolor\":\"#E5ECF6\",\"gridcolor\":\"white\",\"gridwidth\":2,\"linecolor\":\"white\",\"showbackground\":true,\"ticks\":\"\",\"zerolinecolor\":\"white\"}},\"shapedefaults\":{\"line\":{\"color\":\"#2a3f5f\"}},\"ternary\":{\"aaxis\":{\"gridcolor\":\"white\",\"linecolor\":\"white\",\"ticks\":\"\"},\"baxis\":{\"gridcolor\":\"white\",\"linecolor\":\"white\",\"ticks\":\"\"},\"bgcolor\":\"#E5ECF6\",\"caxis\":{\"gridcolor\":\"white\",\"linecolor\":\"white\",\"ticks\":\"\"}},\"title\":{\"x\":0.05},\"xaxis\":{\"automargin\":true,\"gridcolor\":\"white\",\"linecolor\":\"white\",\"ticks\":\"\",\"title\":{\"standoff\":15},\"zerolinecolor\":\"white\",\"zerolinewidth\":2},\"yaxis\":{\"automargin\":true,\"gridcolor\":\"white\",\"linecolor\":\"white\",\"ticks\":\"\",\"title\":{\"standoff\":15},\"zerolinecolor\":\"white\",\"zerolinewidth\":2}}},\"xaxis\":{\"range\":[-15,1850],\"showgrid\":false,\"zeroline\":false,\"visible\":false},\"yaxis\":{\"range\":[0,1.5],\"showgrid\":false,\"zeroline\":false,\"visible\":false},\"title\":{\"text\":\"Spike Protein Comparison<br><sup>of Most Frequent Sequence of Selected Timespan to First Timespan<br>QLJ57227 (T1, 19B) difference from QLJ57227 (T1, 19B)<sup>\",\"x\":0.1},\"legend\":{\"yanchor\":\"middle\",\"y\":1,\"xanchor\":\"right\",\"x\":1},\"plot_bgcolor\":\"white\",\"height\":380,\"width\":1100,\"barmode\":\"overlay\",\"annotations\":[{\"font\":{\"size\":16},\"showarrow\":false,\"text\":\"Same Sequence\",\"textangle\":0,\"x\":680,\"y\":1,\"yanchor\":\"bottom\"},{\"font\":{\"size\":14},\"showarrow\":false,\"text\":\"Alignment Score: 100.00%\",\"x\":0.0,\"xanchor\":\"left\",\"y\":0.0,\"yanchor\":\"bottom\"},{\"showarrow\":false,\"text\":\"counts\",\"textangle\":0,\"x\":1450,\"y\":0,\"yanchor\":\"bottom\"}],\"updatemenus\":[{\"buttons\":[{\"args\":[{\"visible\":[true,true,true,true,true,true,true,true,false,false,false,false,false,false,false,false,false,false,false,false,false,false,false,false,false,false,false,false,false,false,false,false,false,false,false,false,false,false,false,false,false,false,false,false,false,false,false,false,false,false,false,false,false,false,false,false,false,false,false,false,false,false,false,false,false,false,false,false,false,false,false,false,false,false,false,false,false,false,false,false]},{\"annotations\":[{\"x\":680,\"y\":1,\"text\":\"Same Sequence\",\"yanchor\":\"bottom\",\"showarrow\":false,\"textangle\":0,\"font\":{\"size\":16}},{\"x\":0.0,\"y\":0.0,\"text\":\"Alignment Score: 100.00%\",\"font\":{\"size\":14},\"showarrow\":false,\"xanchor\":\"left\",\"yanchor\":\"bottom\"},{\"x\":1450,\"y\":0,\"text\":\"counts\",\"yanchor\":\"bottom\",\"showarrow\":false,\"textangle\":0}],\"title\":{\"text\":\"Spike Protein Comparison<br><sup>of Most Frequent Sequence of Selected Timespan to First Timespan<br>QLJ57227 (T1, 19B) difference from QLJ57227 (T1, 19B)<sup>\",\"x\":0.1}}],\"label\":\"Mar 21, 2020 to Apr 30, 2020\",\"method\":\"update\"},{\"args\":[{\"visible\":[false,false,false,false,false,false,false,false,true,true,true,true,true,true,true,true,false,false,false,false,false,false,false,false,false,false,false,false,false,false,false,false,false,false,false,false,false,false,false,false,false,false,false,false,false,false,false,false,false,false,false,false,false,false,false,false,false,false,false,false,false,false,false,false,false,false,false,false,false,false,false,false,false,false,false,false,false,false,false,false]},{\"annotations\":[{\"text\":\"D253G\",\"x\":253,\"y\":1,\"font\":{\"size\":12},\"showarrow\":false,\"yshift\":18,\"yanchor\":\"middle\",\"xanchor\":\"center\"},{\"text\":\"D614G\",\"x\":614,\"y\":1,\"font\":{\"size\":12},\"showarrow\":false,\"yshift\":-18,\"yanchor\":\"middle\",\"xanchor\":\"center\"},{\"x\":0.0,\"y\":0.0,\"text\":\"Alignment Score: 99.79%\",\"font\":{\"size\":14},\"showarrow\":false,\"xanchor\":\"left\",\"yanchor\":\"bottom\"},{\"x\":1450,\"y\":0,\"text\":\"counts\",\"yanchor\":\"bottom\",\"showarrow\":false,\"textangle\":0}],\"title\":{\"text\":\"Spike Protein Comparison<br><sup>of Most Frequent Sequence of Selected Timespan to First Timespan<br>QTX16612 (T3, 20C) difference from QLJ57227 (T1, 19B)<sup>\",\"x\":0.1}}],\"label\":\"May 1, 2020 to Sep 20, 2020\",\"method\":\"update\"},{\"args\":[{\"visible\":[false,false,false,false,false,false,false,false,false,false,false,false,false,false,false,false,true,true,true,true,true,true,true,true,false,false,false,false,false,false,false,false,false,false,false,false,false,false,false,false,false,false,false,false,false,false,false,false,false,false,false,false,false,false,false,false,false,false,false,false,false,false,false,false,false,false,false,false,false,false,false,false,false,false,false,false,false,false,false,false]},{\"annotations\":[{\"text\":\"D614G\",\"x\":614,\"y\":1,\"font\":{\"size\":12},\"showarrow\":false,\"yshift\":18,\"yanchor\":\"middle\",\"xanchor\":\"center\"},{\"text\":\"Q677H\",\"x\":677,\"y\":1,\"font\":{\"size\":12},\"showarrow\":false,\"yshift\":-18,\"yanchor\":\"middle\",\"xanchor\":\"center\"},{\"x\":0.0,\"y\":0.0,\"text\":\"Alignment Score: 99.82%\",\"font\":{\"size\":14},\"showarrow\":false,\"xanchor\":\"left\",\"yanchor\":\"bottom\"},{\"x\":1450,\"y\":0,\"text\":\"counts\",\"yanchor\":\"bottom\",\"showarrow\":false,\"textangle\":0}],\"title\":{\"text\":\"Spike Protein Comparison<br><sup>of Most Frequent Sequence of Selected Timespan to First Timespan<br>QWE90634 (T4, 20G) difference from QLJ57227 (T1, 19B)<sup>\",\"x\":0.1}}],\"label\":\"Sep 21, 2020 to Dec 31, 2020\",\"method\":\"update\"},{\"args\":[{\"visible\":[false,false,false,false,false,false,false,false,false,false,false,false,false,false,false,false,false,false,false,false,false,false,false,false,true,true,true,true,true,true,true,true,false,false,false,false,false,false,false,false,false,false,false,false,false,false,false,false,false,false,false,false,false,false,false,false,false,false,false,false,false,false,false,false,false,false,false,false,false,false,false,false,false,false,false,false,false,false,false,false]},{\"annotations\":[{\"text\":\"D614G\",\"x\":614,\"y\":1,\"font\":{\"size\":12},\"showarrow\":false,\"yshift\":18,\"yanchor\":\"middle\",\"xanchor\":\"center\"},{\"x\":0.0,\"y\":0.0,\"text\":\"Alignment Score: 99.90%\",\"font\":{\"size\":14},\"showarrow\":false,\"xanchor\":\"left\",\"yanchor\":\"bottom\"},{\"x\":1450,\"y\":0,\"text\":\"counts\",\"yanchor\":\"bottom\",\"showarrow\":false,\"textangle\":0}],\"title\":{\"text\":\"Spike Protein Comparison<br><sup>of Most Frequent Sequence of Selected Timespan to First Timespan<br>QTN63407 (T5, 20C) difference from QLJ57227 (T1, 19B)<sup>\",\"x\":0.1}}],\"label\":\"Jan 2021\",\"method\":\"update\"},{\"args\":[{\"visible\":[false,false,false,false,false,false,false,false,false,false,false,false,false,false,false,false,false,false,false,false,false,false,false,false,false,false,false,false,false,false,false,false,true,true,true,true,true,true,true,true,false,false,false,false,false,false,false,false,false,false,false,false,false,false,false,false,false,false,false,false,false,false,false,false,false,false,false,false,false,false,false,false,false,false,false,false,false,false,false,false]},{\"annotations\":[{\"text\":\"D614G\",\"x\":614,\"y\":1,\"font\":{\"size\":12},\"showarrow\":false,\"yshift\":18,\"yanchor\":\"middle\",\"xanchor\":\"center\"},{\"x\":0.0,\"y\":0.0,\"text\":\"Alignment Score: 99.90%\",\"font\":{\"size\":14},\"showarrow\":false,\"xanchor\":\"left\",\"yanchor\":\"bottom\"},{\"x\":1450,\"y\":0,\"text\":\"counts\",\"yanchor\":\"bottom\",\"showarrow\":false,\"textangle\":0}],\"title\":{\"text\":\"Spike Protein Comparison<br><sup>of Most Frequent Sequence of Selected Timespan to First Timespan<br>QVR40162 (T6, 20G) difference from QLJ57227 (T1, 19B)<sup>\",\"x\":0.1}}],\"label\":\"Feb 2021\",\"method\":\"update\"},{\"args\":[{\"visible\":[false,false,false,false,false,false,false,false,false,false,false,false,false,false,false,false,false,false,false,false,false,false,false,false,false,false,false,false,false,false,false,false,false,false,false,false,false,false,false,false,true,true,true,true,true,true,true,true,false,false,false,false,false,false,false,false,false,false,false,false,false,false,false,false,false,false,false,false,false,false,false,false,false,false,false,false,false,false,false,false]},{\"annotations\":[{\"text\":\"D614G\",\"x\":614,\"y\":1,\"font\":{\"size\":12},\"showarrow\":false,\"yshift\":18,\"yanchor\":\"middle\",\"xanchor\":\"center\"},{\"text\":\"Q677H\",\"x\":677,\"y\":1,\"font\":{\"size\":12},\"showarrow\":false,\"yshift\":-18,\"yanchor\":\"middle\",\"xanchor\":\"center\"},{\"x\":0.0,\"y\":0.0,\"text\":\"Alignment Score: 99.82%\",\"font\":{\"size\":14},\"showarrow\":false,\"xanchor\":\"left\",\"yanchor\":\"bottom\"},{\"x\":1450,\"y\":0,\"text\":\"counts\",\"yanchor\":\"bottom\",\"showarrow\":false,\"textangle\":0}],\"title\":{\"text\":\"Spike Protein Comparison<br><sup>of Most Frequent Sequence of Selected Timespan to First Timespan<br>QVO59492 (T7, 20G) difference from QLJ57227 (T1, 19B)<sup>\",\"x\":0.1}}],\"label\":\"Mar 2021\",\"method\":\"update\"},{\"args\":[{\"visible\":[false,false,false,false,false,false,false,false,false,false,false,false,false,false,false,false,false,false,false,false,false,false,false,false,false,false,false,false,false,false,false,false,false,false,false,false,false,false,false,false,false,false,false,false,false,false,false,false,true,true,true,true,true,true,true,true,false,false,false,false,false,false,false,false,false,false,false,false,false,false,false,false,false,false,false,false,false,false,false,false]},{\"annotations\":[{\"text\":\"L5F\",\"x\":5,\"y\":1,\"font\":{\"size\":12},\"showarrow\":false,\"yshift\":18,\"yanchor\":\"middle\",\"xanchor\":\"center\"},{\"text\":\"T95I\",\"x\":95,\"y\":1,\"font\":{\"size\":12},\"showarrow\":false,\"yshift\":-18,\"yanchor\":\"middle\",\"xanchor\":\"center\"},{\"text\":\"D253G\",\"x\":253,\"y\":1,\"font\":{\"size\":12},\"showarrow\":false,\"yshift\":36,\"yanchor\":\"middle\",\"xanchor\":\"center\"},{\"text\":\"S477N\",\"x\":477,\"y\":1,\"font\":{\"size\":12},\"showarrow\":false,\"yshift\":-36,\"yanchor\":\"middle\",\"xanchor\":\"center\"},{\"text\":\"D614G\",\"x\":614,\"y\":1,\"font\":{\"size\":12},\"showarrow\":false,\"yshift\":18,\"yanchor\":\"middle\",\"xanchor\":\"center\"},{\"text\":\"Q957R\",\"x\":957,\"y\":1,\"font\":{\"size\":12},\"showarrow\":false,\"yshift\":-18,\"yanchor\":\"middle\",\"xanchor\":\"center\"},{\"x\":0.0,\"y\":0.0,\"text\":\"Alignment Score: 99.54%\",\"font\":{\"size\":14},\"showarrow\":false,\"xanchor\":\"left\",\"yanchor\":\"bottom\"},{\"x\":1450,\"y\":0,\"text\":\"counts\",\"yanchor\":\"bottom\",\"showarrow\":false,\"textangle\":0}],\"title\":{\"text\":\"Spike Protein Comparison<br><sup>of Most Frequent Sequence of Selected Timespan to First Timespan<br>QUQ04393 (T8, 21F (Iota)) difference from QLJ57227 (T1, 19B)<sup>\",\"x\":0.1}}],\"label\":\"Apr 2021\",\"method\":\"update\"},{\"args\":[{\"visible\":[false,false,false,false,false,false,false,false,false,false,false,false,false,false,false,false,false,false,false,false,false,false,false,false,false,false,false,false,false,false,false,false,false,false,false,false,false,false,false,false,false,false,false,false,false,false,false,false,false,false,false,false,false,false,false,false,true,true,true,true,true,true,true,true,false,false,false,false,false,false,false,false,false,false,false,false,false,false,false,false]},{\"annotations\":[{\"text\":\"L18F\",\"x\":18,\"y\":1,\"font\":{\"size\":12},\"showarrow\":false,\"yshift\":18,\"yanchor\":\"middle\",\"xanchor\":\"center\"},{\"text\":\"T20N\",\"x\":20,\"y\":1,\"font\":{\"size\":12},\"showarrow\":false,\"yshift\":-18,\"yanchor\":\"middle\",\"xanchor\":\"center\"},{\"text\":\"P26S\",\"x\":26,\"y\":1,\"font\":{\"size\":12},\"showarrow\":false,\"yshift\":36,\"yanchor\":\"middle\",\"xanchor\":\"center\"},{\"text\":\"D138Y\",\"x\":138,\"y\":1,\"font\":{\"size\":12},\"showarrow\":false,\"yshift\":-36,\"yanchor\":\"middle\",\"xanchor\":\"center\"},{\"text\":\"R190S\",\"x\":190,\"y\":1,\"font\":{\"size\":12},\"showarrow\":false,\"yshift\":18,\"yanchor\":\"middle\",\"xanchor\":\"center\"},{\"text\":\"K417T\",\"x\":417,\"y\":1,\"font\":{\"size\":12},\"showarrow\":false,\"yshift\":-18,\"yanchor\":\"middle\",\"xanchor\":\"center\"},{\"text\":\"E484K\",\"x\":484,\"y\":1,\"font\":{\"size\":12},\"showarrow\":false,\"yshift\":36,\"yanchor\":\"middle\",\"xanchor\":\"center\"},{\"text\":\"N501Y\",\"x\":501,\"y\":1,\"font\":{\"size\":12},\"showarrow\":false,\"yshift\":-36,\"yanchor\":\"middle\",\"xanchor\":\"center\"},{\"text\":\"D614G\",\"x\":614,\"y\":1,\"font\":{\"size\":12},\"showarrow\":false,\"yshift\":18,\"yanchor\":\"middle\",\"xanchor\":\"center\"},{\"text\":\"H655Y\",\"x\":655,\"y\":1,\"font\":{\"size\":12},\"showarrow\":false,\"yshift\":-18,\"yanchor\":\"middle\",\"xanchor\":\"center\"},{\"text\":\"T1027I\",\"x\":1027,\"y\":1,\"font\":{\"size\":12},\"showarrow\":false,\"yshift\":36,\"yanchor\":\"middle\",\"xanchor\":\"center\"},{\"text\":\"V1176F\",\"x\":1176,\"y\":1,\"font\":{\"size\":12},\"showarrow\":false,\"yshift\":-36,\"yanchor\":\"middle\",\"xanchor\":\"center\"},{\"x\":0.0,\"y\":0.0,\"text\":\"Alignment Score: 98.90%\",\"font\":{\"size\":14},\"showarrow\":false,\"xanchor\":\"left\",\"yanchor\":\"bottom\"},{\"x\":1450,\"y\":0,\"text\":\"counts\",\"yanchor\":\"bottom\",\"showarrow\":false,\"textangle\":0}],\"title\":{\"text\":\"Spike Protein Comparison<br><sup>of Most Frequent Sequence of Selected Timespan to First Timespan<br>QWY94091 (T9, 20J (Gamma, V3)) difference from QLJ57227 (T1, 19B)<sup>\",\"x\":0.1}}],\"label\":\"May 2021\",\"method\":\"update\"},{\"args\":[{\"visible\":[false,false,false,false,false,false,false,false,false,false,false,false,false,false,false,false,false,false,false,false,false,false,false,false,false,false,false,false,false,false,false,false,false,false,false,false,false,false,false,false,false,false,false,false,false,false,false,false,false,false,false,false,false,false,false,false,false,false,false,false,false,false,false,false,true,true,true,true,true,true,true,true,false,false,false,false,false,false,false,false]},{\"annotations\":[{\"text\":\"L5F\",\"x\":5,\"y\":1,\"font\":{\"size\":12},\"showarrow\":false,\"yshift\":18,\"yanchor\":\"middle\",\"xanchor\":\"center\"},{\"text\":\"T95I\",\"x\":95,\"y\":1,\"font\":{\"size\":12},\"showarrow\":false,\"yshift\":-18,\"yanchor\":\"middle\",\"xanchor\":\"center\"},{\"text\":\"D253G\",\"x\":253,\"y\":1,\"font\":{\"size\":12},\"showarrow\":false,\"yshift\":36,\"yanchor\":\"middle\",\"xanchor\":\"center\"},{\"text\":\"E484K\",\"x\":484,\"y\":1,\"font\":{\"size\":12},\"showarrow\":false,\"yshift\":-36,\"yanchor\":\"middle\",\"xanchor\":\"center\"},{\"text\":\"D614G\",\"x\":614,\"y\":1,\"font\":{\"size\":12},\"showarrow\":false,\"yshift\":18,\"yanchor\":\"middle\",\"xanchor\":\"center\"},{\"text\":\"A701V\",\"x\":701,\"y\":1,\"font\":{\"size\":12},\"showarrow\":false,\"yshift\":-18,\"yanchor\":\"middle\",\"xanchor\":\"center\"},{\"text\":\"I818V\",\"x\":818,\"y\":1,\"font\":{\"size\":12},\"showarrow\":false,\"yshift\":36,\"yanchor\":\"middle\",\"xanchor\":\"center\"},{\"x\":0.0,\"y\":0.0,\"text\":\"Alignment Score: 99.51%\",\"font\":{\"size\":14},\"showarrow\":false,\"xanchor\":\"left\",\"yanchor\":\"bottom\"},{\"x\":1450,\"y\":0,\"text\":\"counts\",\"yanchor\":\"bottom\",\"showarrow\":false,\"textangle\":0}],\"title\":{\"text\":\"Spike Protein Comparison<br><sup>of Most Frequent Sequence of Selected Timespan to First Timespan<br>QXP14639 (T10, 20I (Alpha, V1)) difference from QLJ57227 (T1, 19B)<sup>\",\"x\":0.1}}],\"label\":\"Jun 2021\",\"method\":\"update\"},{\"args\":[{\"visible\":[false,false,false,false,false,false,false,false,false,false,false,false,false,false,false,false,false,false,false,false,false,false,false,false,false,false,false,false,false,false,false,false,false,false,false,false,false,false,false,false,false,false,false,false,false,false,false,false,false,false,false,false,false,false,false,false,false,false,false,false,false,false,false,false,false,false,false,false,false,false,false,false,true,true,true,true,true,true,true,true]},{\"annotations\":[{\"text\":\"H69\",\"x\":69,\"y\":1,\"font\":{\"size\":12},\"showarrow\":false,\"yshift\":18,\"yanchor\":\"middle\",\"xanchor\":\"center\"},{\"text\":\"V70\",\"x\":70,\"y\":1,\"font\":{\"size\":12},\"showarrow\":false,\"yshift\":-18,\"yanchor\":\"middle\",\"xanchor\":\"center\"},{\"text\":\"Y144\",\"x\":144,\"y\":1,\"font\":{\"size\":12},\"showarrow\":false,\"yshift\":36,\"yanchor\":\"middle\",\"xanchor\":\"center\"},{\"text\":\"N501Y\",\"x\":501,\"y\":1,\"font\":{\"size\":12},\"showarrow\":false,\"yshift\":-36,\"yanchor\":\"middle\",\"xanchor\":\"center\"},{\"text\":\"A570D\",\"x\":570,\"y\":1,\"font\":{\"size\":12},\"showarrow\":false,\"yshift\":18,\"yanchor\":\"middle\",\"xanchor\":\"center\"},{\"text\":\"D614G\",\"x\":614,\"y\":1,\"font\":{\"size\":12},\"showarrow\":false,\"yshift\":-18,\"yanchor\":\"middle\",\"xanchor\":\"center\"},{\"text\":\"P681H\",\"x\":681,\"y\":1,\"font\":{\"size\":12},\"showarrow\":false,\"yshift\":36,\"yanchor\":\"middle\",\"xanchor\":\"center\"},{\"text\":\"T716I\",\"x\":716,\"y\":1,\"font\":{\"size\":12},\"showarrow\":false,\"yshift\":-36,\"yanchor\":\"middle\",\"xanchor\":\"center\"},{\"text\":\"S982A\",\"x\":982,\"y\":1,\"font\":{\"size\":12},\"showarrow\":false,\"yshift\":18,\"yanchor\":\"middle\",\"xanchor\":\"center\"},{\"text\":\"D1118H\",\"x\":1118,\"y\":1,\"font\":{\"size\":12},\"showarrow\":false,\"yshift\":-18,\"yanchor\":\"middle\",\"xanchor\":\"center\"},{\"x\":0.0,\"y\":0.0,\"text\":\"Alignment Score: 98.38%\",\"font\":{\"size\":14},\"showarrow\":false,\"xanchor\":\"left\",\"yanchor\":\"bottom\"},{\"x\":1450,\"y\":0,\"text\":\"counts\",\"yanchor\":\"bottom\",\"showarrow\":false,\"textangle\":0}],\"title\":{\"text\":\"Spike Protein Comparison<br><sup>of Most Frequent Sequence of Selected Timespan to First Timespan<br>UAZ03150 (T11, 20I (Alpha, V1)) difference from QLJ57227 (T1, 19B)<sup>\",\"x\":0.1}}],\"label\":\"Jul 2021\",\"method\":\"update\"}],\"direction\":\"down\",\"pad\":{\"r\":10,\"t\":10},\"showactive\":true,\"x\":0.5,\"xanchor\":\"left\",\"y\":1.4,\"yanchor\":\"top\"}]},                        {\"scrollZoom\": false, \"doubleClick\": \"reset\", \"displayModeBar\": false, \"responsive\": true}                    ).then(function(){\n",
       "                            \n",
       "var gd = document.getElementById('d81b1e2a-21ce-4761-8100-2edd4c788b2a');\n",
       "var x = new MutationObserver(function (mutations, observer) {{\n",
       "        var display = window.getComputedStyle(gd).display;\n",
       "        if (!display || display === 'none') {{\n",
       "            console.log([gd, 'removed!']);\n",
       "            Plotly.purge(gd);\n",
       "            observer.disconnect();\n",
       "        }}\n",
       "}});\n",
       "\n",
       "// Listen for the removal of the full notebook cells\n",
       "var notebookContainer = gd.closest('#notebook-container');\n",
       "if (notebookContainer) {{\n",
       "    x.observe(notebookContainer, {childList: true});\n",
       "}}\n",
       "\n",
       "// Listen for the clearing of the current output cell\n",
       "var outputEl = gd.closest('.output');\n",
       "if (outputEl) {{\n",
       "    x.observe(outputEl, {childList: true});\n",
       "}}\n",
       "\n",
       "                        })                };                });            </script>        </div>"
      ]
     },
     "metadata": {},
     "output_type": "display_data"
    }
   ],
   "source": [
    "plot_alignment_plotly(top_count_clade_per_timespan_df, save = True, debug = False)"
   ]
  },
  {
   "cell_type": "markdown",
   "id": "426a32cd",
   "metadata": {},
   "source": [
    "# Improvement points\n",
    "Title could use some work to be clearer and also consise\n",
    "The counts are not as useful when there are not any insertions and deletions. (scores stay high, one bar)\n",
    "Since these sequences are not all that different, we could just have the seqences side by side for these timespans?\n",
    "# Future work\n",
    "compairison of different delta sequences? - check if the clade delta is the same as what we think of as delta in the news\n"
   ]
  },
  {
   "cell_type": "code",
   "execution_count": null,
   "id": "3bf97c72",
   "metadata": {},
   "outputs": [],
   "source": []
  }
 ],
 "metadata": {
  "kernelspec": {
   "display_name": "Python 3 (ipykernel)",
   "language": "python",
   "name": "python3"
  },
  "language_info": {
   "codemirror_mode": {
    "name": "ipython",
    "version": 3
   },
   "file_extension": ".py",
   "mimetype": "text/x-python",
   "name": "python",
   "nbconvert_exporter": "python",
   "pygments_lexer": "ipython3",
   "version": "3.9.7"
  }
 },
 "nbformat": 4,
 "nbformat_minor": 5
}
