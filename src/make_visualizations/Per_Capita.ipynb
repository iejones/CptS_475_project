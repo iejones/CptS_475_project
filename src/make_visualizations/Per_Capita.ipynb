{
 "cells": [
  {
   "cell_type": "markdown",
   "id": "552112f2",
   "metadata": {},
   "source": [
    "Generate interactive maps displaying info for each state (on a per capita basis) and over the timespans.\n",
    "The main info is general statistics about number or reports, unique sequences, and clades."
   ]
  },
  {
   "cell_type": "code",
   "execution_count": 1,
   "id": "7593224d",
   "metadata": {},
   "outputs": [],
   "source": [
    "# set up\n",
    "import pandas as pd\n",
    "from plotly.offline import plot, iplot\n",
    "import os\n",
    "\n",
    "project_folder = os.path.join(\"..\", \"..\")"
   ]
  },
  {
   "cell_type": "code",
   "execution_count": 2,
   "id": "a06bcb85",
   "metadata": {},
   "outputs": [
    {
     "data": {
      "text/html": [
       "<div>\n",
       "<style scoped>\n",
       "    .dataframe tbody tr th:only-of-type {\n",
       "        vertical-align: middle;\n",
       "    }\n",
       "\n",
       "    .dataframe tbody tr th {\n",
       "        vertical-align: top;\n",
       "    }\n",
       "\n",
       "    .dataframe thead th {\n",
       "        text-align: right;\n",
       "    }\n",
       "</style>\n",
       "<table border=\"1\" class=\"dataframe\">\n",
       "  <thead>\n",
       "    <tr style=\"text-align: right;\">\n",
       "      <th></th>\n",
       "      <th>GEO_ID</th>\n",
       "      <th>Population</th>\n",
       "      <th>Name</th>\n",
       "      <th>Postal Code</th>\n",
       "      <th>FIPS</th>\n",
       "    </tr>\n",
       "  </thead>\n",
       "  <tbody>\n",
       "    <tr>\n",
       "      <th>0</th>\n",
       "      <td>0400000US01</td>\n",
       "      <td>5024279</td>\n",
       "      <td>Alabama</td>\n",
       "      <td>AL</td>\n",
       "      <td>1</td>\n",
       "    </tr>\n",
       "  </tbody>\n",
       "</table>\n",
       "</div>"
      ],
      "text/plain": [
       "        GEO_ID  Population     Name Postal Code  FIPS\n",
       "0  0400000US01     5024279  Alabama          AL     1"
      ]
     },
     "execution_count": 2,
     "metadata": {},
     "output_type": "execute_result"
    }
   ],
   "source": [
    "# read in population dataframe\n",
    "population_df = pd.read_csv(os.path.join(project_folder, \"data\", \"population\", \"clean_state_population.csv\"))\n",
    "population_df.head(1)"
   ]
  },
  {
   "cell_type": "code",
   "execution_count": 3,
   "id": "49b38654",
   "metadata": {},
   "outputs": [],
   "source": [
    "# make population dictionary with postal code key and population as the value\n",
    "population_dictionary = {state:pop for (state, pop) in zip(population_df['Postal Code'], population_df['Population'])}"
   ]
  },
  {
   "cell_type": "code",
   "execution_count": 4,
   "id": "6438e159",
   "metadata": {},
   "outputs": [
    {
     "data": {
      "text/html": [
       "<div>\n",
       "<style scoped>\n",
       "    .dataframe tbody tr th:only-of-type {\n",
       "        vertical-align: middle;\n",
       "    }\n",
       "\n",
       "    .dataframe tbody tr th {\n",
       "        vertical-align: top;\n",
       "    }\n",
       "\n",
       "    .dataframe thead th {\n",
       "        text-align: right;\n",
       "    }\n",
       "</style>\n",
       "<table border=\"1\" class=\"dataframe\">\n",
       "  <thead>\n",
       "    <tr style=\"text-align: right;\">\n",
       "      <th></th>\n",
       "      <th>state</th>\n",
       "      <th>p_sequence</th>\n",
       "      <th>p_accession</th>\n",
       "      <th>date</th>\n",
       "      <th>count</th>\n",
       "      <th>n_accession</th>\n",
       "      <th>n_sequence</th>\n",
       "      <th>clade</th>\n",
       "    </tr>\n",
       "  </thead>\n",
       "  <tbody>\n",
       "    <tr>\n",
       "      <th>0</th>\n",
       "      <td>GA</td>\n",
       "      <td>\"MFVFLVLLPLVSSQCVNLTTRTQLPPAYTNSFTRGVYYPDKVFRS...</td>\n",
       "      <td>QVJ86123</td>\n",
       "      <td>2021</td>\n",
       "      <td>1</td>\n",
       "      <td>MZ217195</td>\n",
       "      <td>ATTAAAGGTTTATACCTTCCCAGGTAACAAACCAACCAACTTTCGA...</td>\n",
       "      <td>20B</td>\n",
       "    </tr>\n",
       "  </tbody>\n",
       "</table>\n",
       "</div>"
      ],
      "text/plain": [
       "  state                                         p_sequence p_accession  date  \\\n",
       "0    GA  \"MFVFLVLLPLVSSQCVNLTTRTQLPPAYTNSFTRGVYYPDKVFRS...    QVJ86123  2021   \n",
       "\n",
       "   count n_accession                                         n_sequence clade  \n",
       "0      1    MZ217195  ATTAAAGGTTTATACCTTCCCAGGTAACAAACCAACCAACTTTCGA...   20B  "
      ]
     },
     "execution_count": 4,
     "metadata": {},
     "output_type": "execute_result"
    }
   ],
   "source": [
    "# read in our timespan dataframes\n",
    "dfs = []\n",
    "for i in range(11):\n",
    "    dfs.append(pd.read_csv(os.path.join(project_folder, 'data', 'final', \"T\" + str(i + 1) + \".csv\")))\n",
    "\n",
    "dfs[4].head(1)"
   ]
  },
  {
   "cell_type": "code",
   "execution_count": 38,
   "id": "1ba275d5",
   "metadata": {},
   "outputs": [],
   "source": [
    "def generate_map(dfs, title, colorbar_title, transform_function, zmax, fill_column, save = False):\n",
    "    data_slider = []\n",
    "    for df in dfs:\n",
    "        df = transform_function(df)\n",
    "        data_slider.append(dict(type = 'choropleth', locations=df['state'], locationmode=\"USA-states\",\n",
    "                      z=df[fill_column], zmax = zmax, zmin = 0, colorbar = {'title':colorbar_title}))\n",
    "\n",
    "    steps = []\n",
    "    for i in range(len(data_slider)):\n",
    "        step = dict(method='restyle', args= ['visible', [False]*len(data_slider)], label = 'Timespan {}'.format(i+1))\n",
    "        step['args'][1][i] = True\n",
    "        steps.append(step)\n",
    "\n",
    "\n",
    "    sliders = [dict(active=0, pad={\"t\": 1}, steps=steps)]\n",
    "\n",
    "    layout = dict(title =title, geo=dict(scope='usa',\n",
    "                           projection={'type': 'albers usa'}),\n",
    "                  sliders=sliders)\n",
    "\n",
    "    fig = dict(data=data_slider, layout=layout)\n",
    "\n",
    "    if save:\n",
    "        name =  os.path.join(project_folder, 'visualizations', title.replace(\" \", \"_\")+'.html')\n",
    "        plot(fig, image_width=2000, image_height=1000, filename=name, validate=True)\n",
    "    iplot(fig)"
   ]
  },
  {
   "cell_type": "code",
   "execution_count": 39,
   "id": "ab541e6e",
   "metadata": {},
   "outputs": [],
   "source": [
    "def transform_to_total_reports_per_capita(timeperiod_df):\n",
    "    df = timeperiod_df.groupby(by = 'state', as_index=False).agg({'count': 'sum'})\n",
    "    df['per_capita'] = (df['count'] / df['state'].map(population_dictionary)) * 100000\n",
    "    return df\n",
    "\n",
    "def transform_to_unique_reports_per_capita(timeperiod_df):\n",
    "    df = timeperiod_df.groupby(by = 'state', as_index=False).agg({'count': 'count'})\n",
    "    df['per_capita'] = df['count'] / df['state'].map(population_dictionary) * 100000\n",
    "    return df\n",
    "\n",
    "def transform_to_unique_clades(timeperiod_df):\n",
    "    df = timeperiod_df.groupby(by = ['state', 'clade'], as_index=False).agg({\"count\":\"sum\"}).groupby(by='state',as_index=False).agg({\"clade\":\"count\"})\n",
    "    return df"
   ]
  },
  {
   "cell_type": "code",
   "execution_count": 40,
   "id": "48a6a34a",
   "metadata": {},
   "outputs": [
    {
     "data": {
      "application/vnd.plotly.v1+json": {
       "config": {
        "linkText": "Export to plot.ly",
        "plotlyServerURL": "https://plot.ly",
        "showLink": false
       },
       "data": [
        {
         "colorbar": {
          "title": {
           "text": "Reports per 100,000"
          }
         },
         "locationmode": "USA-states",
         "locations": [
          "AZ",
          "CA",
          "CO",
          "CT",
          "FL",
          "GA",
          "IA",
          "ID",
          "IN",
          "LA",
          "MA",
          "MD",
          "ME",
          "MI",
          "MN",
          "NV",
          "NY",
          "PA",
          "TX",
          "UT",
          "VA",
          "WA",
          "WI"
         ],
         "type": "choropleth",
         "z": [
          0.04194922968629527,
          0.07840514228472027,
          0.017319874174578097,
          0.05546397836461132,
          0.01392874897037527,
          0.028006215139263706,
          0.1567216832911804,
          0.054374244877674255,
          0.13263522013320114,
          0.021469561421946226,
          0.08534951408387895,
          0.0323770030032908,
          0.3670104575959787,
          0.09923262419384657,
          0.19276284177289943,
          0.06442024676819727,
          0.12375472427472183,
          0.007690710390918809,
          0.003431060810234717,
          0.764148359709697,
          0.0926849235111876,
          18.831240547878785,
          0.18663940147798044
         ],
         "zmax": 50,
         "zmin": 0
        },
        {
         "colorbar": {
          "title": {
           "text": "Reports per 100,000"
          }
         },
         "locationmode": "USA-states",
         "locations": [
          "AK",
          "CA",
          "CT",
          "FL",
          "ID",
          "IL",
          "LA",
          "MA",
          "MD",
          "ME",
          "MI",
          "MN",
          "ND",
          "NM",
          "NY",
          "PA",
          "PR",
          "TN",
          "TX",
          "UT",
          "VA",
          "WA",
          "WI",
          "WY"
         ],
         "type": "choropleth",
         "z": [
          3.1361170235249682,
          0.43755127791150356,
          0.05546397836461132,
          0.13000165705683586,
          0.054374244877674255,
          0.015609746350987644,
          0.4079216670169783,
          1.4793915774539015,
          0.08094250750822699,
          0.07340209151919574,
          0.6251655324212333,
          0.5607646306120712,
          0.25670843312873676,
          0.04722501112149012,
          0.024750944854944362,
          0.09997923508194452,
          0.030433303285518555,
          0.014470021010470506,
          0.003431060810234717,
          0.12226373755355151,
          0.4518390021170395,
          15.755427998018503,
          0.13573774652944032,
          0.1733549911502277
         ],
         "zmax": 50,
         "zmin": 0
        },
        {
         "colorbar": {
          "title": {
           "text": "Reports per 100,000"
          }
         },
         "locationmode": "USA-states",
         "locations": [
          "AK",
          "AL",
          "AR",
          "CA",
          "FL",
          "GA",
          "IL",
          "KY",
          "LA",
          "MA",
          "MD",
          "MN",
          "NC",
          "NJ",
          "NM",
          "NV",
          "NY",
          "OH",
          "PA",
          "SC",
          "TX",
          "UT",
          "VA",
          "WA",
          "WI"
         ],
         "type": "choropleth",
         "z": [
          1.0908233125304236,
          0.019903353297060136,
          0.03320577886810797,
          1.5782196382472728,
          0.7103661974891387,
          0.2613913412997946,
          0.015609746350987644,
          0.0221934397967436,
          0.06440868426583869,
          1.3655922253420631,
          0.35614703303619877,
          3.504778941325444,
          0.05747463357047367,
          0.010765428419912855,
          3.87245091196219,
          0.06442024676819727,
          0.004950188970988873,
          0.12712459091306644,
          0.038453551954594045,
          0.48843149992429313,
          0.34996820264394113,
          0.5501868189909818,
          5.074499562237521,
          6.411187340215107,
          2.2227055994195855
         ],
         "zmax": 50,
         "zmin": 0
        },
        {
         "colorbar": {
          "title": {
           "text": "Reports per 100,000"
          }
         },
         "locationmode": "USA-states",
         "locations": [
          "AK",
          "AL",
          "AZ",
          "CA",
          "CO",
          "CT",
          "DE",
          "FL",
          "GA",
          "GU",
          "HI",
          "IA",
          "ID",
          "IL",
          "IN",
          "KS",
          "KY",
          "LA",
          "MA",
          "MD",
          "MI",
          "MN",
          "MO",
          "MS",
          "MT",
          "NC",
          "ND",
          "NE",
          "NH",
          "NJ",
          "NM",
          "NV",
          "NY",
          "OH",
          "OK",
          "OR",
          "PA",
          "RI",
          "SC",
          "SD",
          "TN",
          "TX",
          "UT",
          "VA",
          "VT",
          "WA",
          "WI",
          "WV",
          "WY"
         ],
         "type": "choropleth",
         "z": [
          14.862467633227022,
          9.215252576538843,
          0.027966153124196844,
          2.180168795142867,
          0.15587886757120287,
          1.8303112860321735,
          0.10101540686985579,
          1.1328715829238551,
          0.29873296148547956,
          null,
          0.0687157237380529,
          0.09403300997470826,
          0.3262454692660456,
          0.03902436587746911,
          0.16210971349613473,
          4.254768744809183,
          0.2441278377641796,
          0.1502869299536236,
          2.5320355844884084,
          3.156757792820853,
          0.009923262419384656,
          3.0491576789531365,
          0.2599549335628302,
          0.1350767691933114,
          0.27669533537780444,
          0.07663284476063156,
          0.7701252993862101,
          1.9882702252965072,
          0.07259375301717785,
          0.11841971261904143,
          6.233701468036696,
          0.5475720975296767,
          0.024750944854944362,
          0.07627475454783986,
          0.30307982137485595,
          1.36881038105793,
          0.061525683127350475,
          0.0911262198383603,
          0.17583533997274553,
          39.47366937080099,
          0.3328104832408217,
          0.11665606754798039,
          0.030565934388387877,
          11.272803822048191,
          0.1555023737437352,
          0.8954897297061586,
          1.9681973246768847,
          0.39025129953682747,
          0.520064973450683
         ],
         "zmax": 50,
         "zmin": 0
        },
        {
         "colorbar": {
          "title": {
           "text": "Reports per 100,000"
          }
         },
         "locationmode": "USA-states",
         "locations": [
          "AK",
          "AL",
          "AR",
          "AZ",
          "CA",
          "CO",
          "CT",
          "DE",
          "FL",
          "GA",
          "GU",
          "HI",
          "IA",
          "ID",
          "IL",
          "IN",
          "KS",
          "KY",
          "LA",
          "MA",
          "MD",
          "ME",
          "MI",
          "MN",
          "MO",
          "MS",
          "MT",
          "NC",
          "ND",
          "NE",
          "NH",
          "NJ",
          "NM",
          "NV",
          "NY",
          "OH",
          "OK",
          "OR",
          "PA",
          "PR",
          "RI",
          "SC",
          "SD",
          "TN",
          "TX",
          "UT",
          "VA",
          "VT",
          "WA",
          "WI",
          "WV",
          "WY"
         ],
         "type": "choropleth",
         "z": [
          2.7270582813260593,
          2.2490789225677954,
          1.4610542701967508,
          0.5453399859218385,
          2.357212664818042,
          0.3983571060152962,
          1.8303112860321735,
          0.6060924412191347,
          0.571078707785386,
          1.0082237450134934,
          null,
          0.20614717121415874,
          0.1567216832911804,
          0.3806197141437198,
          0.1092682244569135,
          0.8989720475694742,
          1.497678598172832,
          0.7323835132925388,
          0.45086078986087086,
          3.954527485886391,
          1.974997183200739,
          1.174433464307132,
          0.4267002840335402,
          2.8038231530603555,
          0.9910781842082902,
          1.4858444611264254,
          11.621204085867786,
          1.0824389322439207,
          6.674419261347154,
          0.20392515131246225,
          0.4355625181030672,
          0.17224685471860568,
          4.958626167756462,
          0.5153619741455782,
          0.4356166294470208,
          0.3644238272841238,
          0.32833647315609393,
          0.11800089491878707,
          0.4614426234551286,
          0.09129990985655567,
          2.91603903482753,
          0.8401021798697841,
          0.22556382497600563,
          0.44857065132458573,
          0.34996820264394113,
          0.8864120972632485,
          63.4660013742857,
          0.4665071212312056,
          1.1031395221017897,
          0.7804920425442818,
          0.7247524134255368,
          2.25361488495296
         ],
         "zmax": 50,
         "zmin": 0
        },
        {
         "colorbar": {
          "title": {
           "text": "Reports per 100,000"
          }
         },
         "locationmode": "USA-states",
         "locations": [
          "AK",
          "AL",
          "AR",
          "AZ",
          "CA",
          "CO",
          "CT",
          "DC",
          "FL",
          "GA",
          "HI",
          "IA",
          "ID",
          "IL",
          "IN",
          "KS",
          "KY",
          "LA",
          "MA",
          "MD",
          "ME",
          "MI",
          "MN",
          "MO",
          "MS",
          "MT",
          "NC",
          "ND",
          "NE",
          "NH",
          "NJ",
          "NM",
          "NV",
          "NY",
          "OH",
          "OK",
          "OR",
          "PA",
          "RI",
          "SC",
          "TN",
          "TX",
          "UT",
          "VA",
          "VT",
          "WA",
          "WI",
          "WV",
          "WY"
         ],
         "type": "choropleth",
         "z": [
          19.089407969282416,
          0.736424071991225,
          3.486606781151337,
          0.7550861343533148,
          4.729600518465385,
          1.6627079207594972,
          1.802579296849868,
          null,
          3.5936172343568193,
          6.320069216427176,
          2.13018743587964,
          0.06268867331647217,
          0.21749697951069702,
          0.5619508686355552,
          0.987395527658275,
          0.06807629991694691,
          2.77417997459295,
          1.0734780710973115,
          4.907597059823039,
          7.835234726796373,
          7.780621701034749,
          0.47631659613046357,
          2.120391259501894,
          1.7546958015491039,
          0.675383845966557,
          0.18446355691853628,
          0.5364299133244209,
          6.931127694475892,
          0.30588772696869343,
          8.566062856026988,
          0.3660245662770371,
          3.2585257673828183,
          5.443510851912669,
          0.2871109603173546,
          1.0169967273045315,
          0.10102660712495197,
          0.5428041166264205,
          1.5842863405292744,
          11.846408578986841,
          6.740354698955246,
          0.4630406723350562,
          15.103529686653225,
          0.8252802284864728,
          0.16219861614457828,
          0.4665071212312056,
          1.064205186027609,
          0.22057383811034054,
          0.5575018564811821,
          2.25361488495296
         ],
         "zmax": 50,
         "zmin": 0
        },
        {
         "colorbar": {
          "title": {
           "text": "Reports per 100,000"
          }
         },
         "locationmode": "USA-states",
         "locations": [
          "AK",
          "AL",
          "AR",
          "AZ",
          "CA",
          "CO",
          "CT",
          "DC",
          "DE",
          "FL",
          "GA",
          "HI",
          "IA",
          "ID",
          "IL",
          "IN",
          "KS",
          "KY",
          "LA",
          "MA",
          "MD",
          "ME",
          "MI",
          "MN",
          "MO",
          "MS",
          "MT",
          "NC",
          "ND",
          "NE",
          "NH",
          "NJ",
          "NM",
          "NV",
          "NY",
          "OH",
          "OK",
          "OR",
          "PA",
          "PR",
          "RI",
          "SC",
          "SD",
          "TN",
          "TX",
          "UT",
          "VA",
          "VT",
          "WA",
          "WI",
          "WV",
          "WY"
         ],
         "type": "choropleth",
         "z": [
          1.2271762265967268,
          0.6170039522088642,
          0.2656462309448638,
          0.6292384452944291,
          1.6009824214912238,
          0.24247823844409336,
          6.406089501112608,
          null,
          6.262955225931059,
          1.448589892919028,
          1.1575902257562332,
          0.20614717121415874,
          2.7583016259247755,
          1.848724325840925,
          2.318047333121665,
          1.5474109015540134,
          0.13615259983389383,
          0.6214163143088208,
          0.558208596970602,
          6.785286369668375,
          0.7770480720789791,
          2.4222690201334593,
          1.9052663845218543,
          6.746699462051481,
          0.2599549335628302,
          3.545765191324424,
          0.645622449214877,
          0.9100150315324997,
          0.38506264969310505,
          0.356869014796809,
          6.243062759477295,
          5.09204764261878,
          3.589100845233249,
          1.0951441950593535,
          0.5742219206347092,
          4.974808991064667,
          0.8334695087808539,
          0.11800089491878707,
          3.906880878586755,
          0.273899729569667,
          8.65699088464423,
          2.0123377796880875,
          1.5789467748320396,
          0.5498607983978793,
          0.8680583849893835,
          0.3056593438838788,
          0.2085410779001721,
          2.0215308586685574,
          0.025956224049453875,
          0.4581148945368611,
          2.6760089111096743,
          0.6934199646009108
         ],
         "zmax": 50,
         "zmin": 0
        },
        {
         "colorbar": {
          "title": {
           "text": "Reports per 100,000"
          }
         },
         "locationmode": "USA-states",
         "locations": [
          "AK",
          "AL",
          "AR",
          "AZ",
          "CA",
          "CO",
          "CT",
          "DC",
          "DE",
          "FL",
          "GA",
          "HI",
          "IA",
          "ID",
          "IL",
          "IN",
          "KS",
          "KY",
          "LA",
          "MA",
          "MD",
          "ME",
          "MI",
          "MN",
          "MO",
          "MT",
          "NC",
          "ND",
          "NE",
          "NH",
          "NJ",
          "NM",
          "NV",
          "NY",
          "OH",
          "OK",
          "OR",
          "PA",
          "PR",
          "RI",
          "SC",
          "SD",
          "TN",
          "TX",
          "UT",
          "VA",
          "VT",
          "WA",
          "WI",
          "WV",
          "WY"
         ],
         "type": "choropleth",
         "z": [
          7.36305735958036,
          0.019903353297060136,
          0.19923467320864782,
          0.23771230155567322,
          0.5083688257815735,
          2.7365401195833394,
          13.2281588399598,
          null,
          0.20203081373971157,
          1.2768019889510662,
          0.6721491633423289,
          0.20614717121415874,
          0.2194103566076526,
          0.21749697951069702,
          1.6546331132046903,
          1.0463445143841423,
          0.13615259983389383,
          0.1553540785772052,
          0.3005738599072472,
          4.509299327431604,
          1.0036870931020148,
          1.0276292812687404,
          2.6792808532338572,
          5.467455148467693,
          1.884673268330519,
          0.27669533537780444,
          1.1782299881947103,
          0.5134168662574735,
          0.2549064391405778,
          5.226750217236806,
          5.318121639436951,
          1.180625278037253,
          0.6442024676819726,
          5.687767127666215,
          0.7881724636610119,
          0.050513303562475985,
          1.2272093071553856,
          3.7376852499865416,
          0.547799459139334,
          27.61124461102317,
          0.214909859966689,
          0.3383457374640085,
          0.6222109034502318,
          0.7308159525799948,
          0.21396154071871515,
          0.2780547705335628,
          7.464113939699289,
          0.19467168037090407,
          2.103935071206325,
          0.44600148518494565,
          13.348334318567533
         ],
         "zmax": 50,
         "zmin": 0
        },
        {
         "colorbar": {
          "title": {
           "text": "Reports per 100,000"
          }
         },
         "locationmode": "USA-states",
         "locations": [
          "AK",
          "AL",
          "AR",
          "AZ",
          "CA",
          "CO",
          "CT",
          "DC",
          "FL",
          "GA",
          "HI",
          "IA",
          "ID",
          "IL",
          "IN",
          "KS",
          "KY",
          "LA",
          "MA",
          "MD",
          "ME",
          "MI",
          "MN",
          "MO",
          "MT",
          "NC",
          "ND",
          "NE",
          "NH",
          "NJ",
          "NM",
          "NV",
          "NY",
          "OH",
          "OK",
          "OR",
          "PA",
          "PR",
          "RI",
          "SC",
          "TN",
          "TX",
          "UT",
          "VA",
          "VT",
          "WA",
          "WI",
          "WV"
         ],
         "type": "choropleth",
         "z": [
          26.316112414796475,
          0.05971005989118041,
          0.03320577886810797,
          0.6432215218565275,
          0.41984689094398603,
          2.9790183580274325,
          1.0260835997453095,
          null,
          0.8403678545459745,
          0.22404972111410965,
          0.0687157237380529,
          0.031344336658236084,
          0.2718712243883713,
          1.9356085475224678,
          0.4568546471254705,
          0.06807629991694691,
          0.11096719898371801,
          0.42939122843892463,
          3.1294821830755613,
          0.485655045049362,
          5.064744314824507,
          0.2083885108070778,
          2.120391259501894,
          0.04874155004303067,
          0.645622449214877,
          1.0728598266488418,
          0.38506264969310505,
          0.05098128782811556,
          1.5970625663779128,
          0.5275059925757299,
          0.7556001779438419,
          0.032210123384098635,
          0.15345585810065507,
          0.28814907273628393,
          0.025256651781237992,
          0.5192039376426631,
          0.7613803287009621,
          0.09129990985655567,
          8.74811710448259,
          0.214909859966689,
          0.057880084041882024,
          0.17498410132197056,
          0.061131868776775754,
          35.984921553218584,
          1.8660284849248223,
          0.23360601644508489,
          0.2545082747427006,
          26.09108688331932
         ],
         "zmax": 50,
         "zmin": 0
        },
        {
         "colorbar": {
          "title": {
           "text": "Reports per 100,000"
          }
         },
         "locationmode": "USA-states",
         "locations": [
          "AK",
          "AL",
          "AR",
          "AZ",
          "CA",
          "CO",
          "CT",
          "FL",
          "GA",
          "HI",
          "IA",
          "ID",
          "IL",
          "IN",
          "KY",
          "LA",
          "MA",
          "MD",
          "ME",
          "MI",
          "MN",
          "MO",
          "MS",
          "MT",
          "NC",
          "ND",
          "NE",
          "NH",
          "NJ",
          "NM",
          "NV",
          "NY",
          "OH",
          "OK",
          "OR",
          "PA",
          "PR",
          "RI",
          "SC",
          "SD",
          "TN",
          "TX",
          "UT",
          "VA",
          "WA",
          "WI",
          "WV",
          "WY"
         ],
         "type": "choropleth",
         "z": [
          9.953762726840116,
          0.13932347307942095,
          0.16602889434053986,
          0.26567845467987006,
          0.24786141754524474,
          3.030977980551167,
          1.8580432752144793,
          0.8914399341040172,
          0.38275160690327065,
          0.0687157237380529,
          1.7239385162029845,
          2.066221305351622,
          1.0380481323406785,
          0.1768469601776015,
          0.0887737591869744,
          1.0949476325192575,
          0.3840728133774552,
          0.4532780420460712,
          0.8074230067111532,
          0.019846524838769312,
          1.5596266288898228,
          0.861100717426875,
          0.23638434608829495,
          2.0290991261038993,
          0.46937617415886834,
          0.12835421656436838,
          0.05098128782811556,
          0.2903750120687114,
          0.2906665673376471,
          1.180625278037253,
          0.354311357225085,
          0.06930264559384422,
          0.966146890939305,
          0.025256651781237992,
          0.5900044745939353,
          0.5152775961915602,
          0.15216651642759277,
          8.383612225129148,
          2.637530099591183,
          0.22556382497600563,
          0.5788008404188203,
          0.3980030539872272,
          0.18339560633032728,
          46.89857129666092,
          1.1680300822254244,
          0.15270496484562038,
          2.2300074259247284,
          6.06742469025797
         ],
         "zmax": 50,
         "zmin": 0
        },
        {
         "colorbar": {
          "title": {
           "text": "Reports per 100,000"
          }
         },
         "locationmode": "USA-states",
         "locations": [
          "AK",
          "AL",
          "AR",
          "AZ",
          "CA",
          "CO",
          "CT",
          "DE",
          "FL",
          "GA",
          "GU",
          "HI",
          "ID",
          "IL",
          "IN",
          "KS",
          "KY",
          "LA",
          "MA",
          "MD",
          "MI",
          "MN",
          "MO",
          "MS",
          "NC",
          "ND",
          "NE",
          "NH",
          "NJ",
          "NM",
          "NV",
          "NY",
          "OH",
          "OK",
          "OR",
          "PA",
          "PR",
          "RI",
          "SC",
          "SD",
          "TN",
          "TX",
          "UT",
          "VA",
          "WA",
          "WI",
          "WV"
         ],
         "type": "choropleth",
         "z": [
          1.0908233125304236,
          0.9553609582588866,
          0.7637329139664835,
          0.27966153124196846,
          1.8260810557925176,
          0.6581552186339676,
          0.08319596754691698,
          0.10101540686985579,
          3.9557647075865763,
          0.4294286321353768,
          null,
          0.34357861869026457,
          0.3806197141437198,
          0.1482925903343826,
          0.07368623340733396,
          0.13615259983389383,
          0.44386879593487205,
          8.630763691622384,
          0.5832216795731728,
          1.2303261141250503,
          0.1587721987101545,
          0.12266726294639055,
          0.08123591673838444,
          0.2701535383866228,
          0.8046448699866313,
          0.5134168662574735,
          0.20392515131246225,
          0.3629687650858893,
          8.278614454912987,
          46.42218593242479,
          1.1273543184434522,
          0.10395396839076634,
          0.31357399091889726,
          0.050513303562475985,
          1.321610023090415,
          0.17688633899113262,
          0.12173321314207422,
          0.5467573190301619,
          0.23444711996366072,
          0.22556382497600563,
          0.3183404622303512,
          0.9435417228145473,
          0.21396154071871515,
          0.1390273852667814,
          0.7527304974341624,
          0.0848360915809002,
          1.3937546412029553
         ],
         "zmax": 50,
         "zmin": 0
        }
       ],
       "layout": {
        "geo": {
         "projection": {
          "type": "albers usa"
         },
         "scope": "usa"
        },
        "sliders": [
         {
          "active": 0,
          "pad": {
           "t": 1
          },
          "steps": [
           {
            "args": [
             "visible",
             [
              true,
              false,
              false,
              false,
              false,
              false,
              false,
              false,
              false,
              false,
              false
             ]
            ],
            "label": "Timespan 1",
            "method": "restyle"
           },
           {
            "args": [
             "visible",
             [
              false,
              true,
              false,
              false,
              false,
              false,
              false,
              false,
              false,
              false,
              false
             ]
            ],
            "label": "Timespan 2",
            "method": "restyle"
           },
           {
            "args": [
             "visible",
             [
              false,
              false,
              true,
              false,
              false,
              false,
              false,
              false,
              false,
              false,
              false
             ]
            ],
            "label": "Timespan 3",
            "method": "restyle"
           },
           {
            "args": [
             "visible",
             [
              false,
              false,
              false,
              true,
              false,
              false,
              false,
              false,
              false,
              false,
              false
             ]
            ],
            "label": "Timespan 4",
            "method": "restyle"
           },
           {
            "args": [
             "visible",
             [
              false,
              false,
              false,
              false,
              true,
              false,
              false,
              false,
              false,
              false,
              false
             ]
            ],
            "label": "Timespan 5",
            "method": "restyle"
           },
           {
            "args": [
             "visible",
             [
              false,
              false,
              false,
              false,
              false,
              true,
              false,
              false,
              false,
              false,
              false
             ]
            ],
            "label": "Timespan 6",
            "method": "restyle"
           },
           {
            "args": [
             "visible",
             [
              false,
              false,
              false,
              false,
              false,
              false,
              true,
              false,
              false,
              false,
              false
             ]
            ],
            "label": "Timespan 7",
            "method": "restyle"
           },
           {
            "args": [
             "visible",
             [
              false,
              false,
              false,
              false,
              false,
              false,
              false,
              true,
              false,
              false,
              false
             ]
            ],
            "label": "Timespan 8",
            "method": "restyle"
           },
           {
            "args": [
             "visible",
             [
              false,
              false,
              false,
              false,
              false,
              false,
              false,
              false,
              true,
              false,
              false
             ]
            ],
            "label": "Timespan 9",
            "method": "restyle"
           },
           {
            "args": [
             "visible",
             [
              false,
              false,
              false,
              false,
              false,
              false,
              false,
              false,
              false,
              true,
              false
             ]
            ],
            "label": "Timespan 10",
            "method": "restyle"
           },
           {
            "args": [
             "visible",
             [
              false,
              false,
              false,
              false,
              false,
              false,
              false,
              false,
              false,
              false,
              true
             ]
            ],
            "label": "Timespan 11",
            "method": "restyle"
           }
          ]
         }
        ],
        "template": {
         "data": {
          "bar": [
           {
            "error_x": {
             "color": "#2a3f5f"
            },
            "error_y": {
             "color": "#2a3f5f"
            },
            "marker": {
             "line": {
              "color": "#E5ECF6",
              "width": 0.5
             },
             "pattern": {
              "fillmode": "overlay",
              "size": 10,
              "solidity": 0.2
             }
            },
            "type": "bar"
           }
          ],
          "barpolar": [
           {
            "marker": {
             "line": {
              "color": "#E5ECF6",
              "width": 0.5
             },
             "pattern": {
              "fillmode": "overlay",
              "size": 10,
              "solidity": 0.2
             }
            },
            "type": "barpolar"
           }
          ],
          "carpet": [
           {
            "aaxis": {
             "endlinecolor": "#2a3f5f",
             "gridcolor": "white",
             "linecolor": "white",
             "minorgridcolor": "white",
             "startlinecolor": "#2a3f5f"
            },
            "baxis": {
             "endlinecolor": "#2a3f5f",
             "gridcolor": "white",
             "linecolor": "white",
             "minorgridcolor": "white",
             "startlinecolor": "#2a3f5f"
            },
            "type": "carpet"
           }
          ],
          "choropleth": [
           {
            "colorbar": {
             "outlinewidth": 0,
             "ticks": ""
            },
            "type": "choropleth"
           }
          ],
          "contour": [
           {
            "colorbar": {
             "outlinewidth": 0,
             "ticks": ""
            },
            "colorscale": [
             [
              0,
              "#0d0887"
             ],
             [
              0.1111111111111111,
              "#46039f"
             ],
             [
              0.2222222222222222,
              "#7201a8"
             ],
             [
              0.3333333333333333,
              "#9c179e"
             ],
             [
              0.4444444444444444,
              "#bd3786"
             ],
             [
              0.5555555555555556,
              "#d8576b"
             ],
             [
              0.6666666666666666,
              "#ed7953"
             ],
             [
              0.7777777777777778,
              "#fb9f3a"
             ],
             [
              0.8888888888888888,
              "#fdca26"
             ],
             [
              1,
              "#f0f921"
             ]
            ],
            "type": "contour"
           }
          ],
          "contourcarpet": [
           {
            "colorbar": {
             "outlinewidth": 0,
             "ticks": ""
            },
            "type": "contourcarpet"
           }
          ],
          "heatmap": [
           {
            "colorbar": {
             "outlinewidth": 0,
             "ticks": ""
            },
            "colorscale": [
             [
              0,
              "#0d0887"
             ],
             [
              0.1111111111111111,
              "#46039f"
             ],
             [
              0.2222222222222222,
              "#7201a8"
             ],
             [
              0.3333333333333333,
              "#9c179e"
             ],
             [
              0.4444444444444444,
              "#bd3786"
             ],
             [
              0.5555555555555556,
              "#d8576b"
             ],
             [
              0.6666666666666666,
              "#ed7953"
             ],
             [
              0.7777777777777778,
              "#fb9f3a"
             ],
             [
              0.8888888888888888,
              "#fdca26"
             ],
             [
              1,
              "#f0f921"
             ]
            ],
            "type": "heatmap"
           }
          ],
          "heatmapgl": [
           {
            "colorbar": {
             "outlinewidth": 0,
             "ticks": ""
            },
            "colorscale": [
             [
              0,
              "#0d0887"
             ],
             [
              0.1111111111111111,
              "#46039f"
             ],
             [
              0.2222222222222222,
              "#7201a8"
             ],
             [
              0.3333333333333333,
              "#9c179e"
             ],
             [
              0.4444444444444444,
              "#bd3786"
             ],
             [
              0.5555555555555556,
              "#d8576b"
             ],
             [
              0.6666666666666666,
              "#ed7953"
             ],
             [
              0.7777777777777778,
              "#fb9f3a"
             ],
             [
              0.8888888888888888,
              "#fdca26"
             ],
             [
              1,
              "#f0f921"
             ]
            ],
            "type": "heatmapgl"
           }
          ],
          "histogram": [
           {
            "marker": {
             "pattern": {
              "fillmode": "overlay",
              "size": 10,
              "solidity": 0.2
             }
            },
            "type": "histogram"
           }
          ],
          "histogram2d": [
           {
            "colorbar": {
             "outlinewidth": 0,
             "ticks": ""
            },
            "colorscale": [
             [
              0,
              "#0d0887"
             ],
             [
              0.1111111111111111,
              "#46039f"
             ],
             [
              0.2222222222222222,
              "#7201a8"
             ],
             [
              0.3333333333333333,
              "#9c179e"
             ],
             [
              0.4444444444444444,
              "#bd3786"
             ],
             [
              0.5555555555555556,
              "#d8576b"
             ],
             [
              0.6666666666666666,
              "#ed7953"
             ],
             [
              0.7777777777777778,
              "#fb9f3a"
             ],
             [
              0.8888888888888888,
              "#fdca26"
             ],
             [
              1,
              "#f0f921"
             ]
            ],
            "type": "histogram2d"
           }
          ],
          "histogram2dcontour": [
           {
            "colorbar": {
             "outlinewidth": 0,
             "ticks": ""
            },
            "colorscale": [
             [
              0,
              "#0d0887"
             ],
             [
              0.1111111111111111,
              "#46039f"
             ],
             [
              0.2222222222222222,
              "#7201a8"
             ],
             [
              0.3333333333333333,
              "#9c179e"
             ],
             [
              0.4444444444444444,
              "#bd3786"
             ],
             [
              0.5555555555555556,
              "#d8576b"
             ],
             [
              0.6666666666666666,
              "#ed7953"
             ],
             [
              0.7777777777777778,
              "#fb9f3a"
             ],
             [
              0.8888888888888888,
              "#fdca26"
             ],
             [
              1,
              "#f0f921"
             ]
            ],
            "type": "histogram2dcontour"
           }
          ],
          "mesh3d": [
           {
            "colorbar": {
             "outlinewidth": 0,
             "ticks": ""
            },
            "type": "mesh3d"
           }
          ],
          "parcoords": [
           {
            "line": {
             "colorbar": {
              "outlinewidth": 0,
              "ticks": ""
             }
            },
            "type": "parcoords"
           }
          ],
          "pie": [
           {
            "automargin": true,
            "type": "pie"
           }
          ],
          "scatter": [
           {
            "marker": {
             "colorbar": {
              "outlinewidth": 0,
              "ticks": ""
             }
            },
            "type": "scatter"
           }
          ],
          "scatter3d": [
           {
            "line": {
             "colorbar": {
              "outlinewidth": 0,
              "ticks": ""
             }
            },
            "marker": {
             "colorbar": {
              "outlinewidth": 0,
              "ticks": ""
             }
            },
            "type": "scatter3d"
           }
          ],
          "scattercarpet": [
           {
            "marker": {
             "colorbar": {
              "outlinewidth": 0,
              "ticks": ""
             }
            },
            "type": "scattercarpet"
           }
          ],
          "scattergeo": [
           {
            "marker": {
             "colorbar": {
              "outlinewidth": 0,
              "ticks": ""
             }
            },
            "type": "scattergeo"
           }
          ],
          "scattergl": [
           {
            "marker": {
             "colorbar": {
              "outlinewidth": 0,
              "ticks": ""
             }
            },
            "type": "scattergl"
           }
          ],
          "scattermapbox": [
           {
            "marker": {
             "colorbar": {
              "outlinewidth": 0,
              "ticks": ""
             }
            },
            "type": "scattermapbox"
           }
          ],
          "scatterpolar": [
           {
            "marker": {
             "colorbar": {
              "outlinewidth": 0,
              "ticks": ""
             }
            },
            "type": "scatterpolar"
           }
          ],
          "scatterpolargl": [
           {
            "marker": {
             "colorbar": {
              "outlinewidth": 0,
              "ticks": ""
             }
            },
            "type": "scatterpolargl"
           }
          ],
          "scatterternary": [
           {
            "marker": {
             "colorbar": {
              "outlinewidth": 0,
              "ticks": ""
             }
            },
            "type": "scatterternary"
           }
          ],
          "surface": [
           {
            "colorbar": {
             "outlinewidth": 0,
             "ticks": ""
            },
            "colorscale": [
             [
              0,
              "#0d0887"
             ],
             [
              0.1111111111111111,
              "#46039f"
             ],
             [
              0.2222222222222222,
              "#7201a8"
             ],
             [
              0.3333333333333333,
              "#9c179e"
             ],
             [
              0.4444444444444444,
              "#bd3786"
             ],
             [
              0.5555555555555556,
              "#d8576b"
             ],
             [
              0.6666666666666666,
              "#ed7953"
             ],
             [
              0.7777777777777778,
              "#fb9f3a"
             ],
             [
              0.8888888888888888,
              "#fdca26"
             ],
             [
              1,
              "#f0f921"
             ]
            ],
            "type": "surface"
           }
          ],
          "table": [
           {
            "cells": {
             "fill": {
              "color": "#EBF0F8"
             },
             "line": {
              "color": "white"
             }
            },
            "header": {
             "fill": {
              "color": "#C8D4E3"
             },
             "line": {
              "color": "white"
             }
            },
            "type": "table"
           }
          ]
         },
         "layout": {
          "annotationdefaults": {
           "arrowcolor": "#2a3f5f",
           "arrowhead": 0,
           "arrowwidth": 1
          },
          "autotypenumbers": "strict",
          "coloraxis": {
           "colorbar": {
            "outlinewidth": 0,
            "ticks": ""
           }
          },
          "colorscale": {
           "diverging": [
            [
             0,
             "#8e0152"
            ],
            [
             0.1,
             "#c51b7d"
            ],
            [
             0.2,
             "#de77ae"
            ],
            [
             0.3,
             "#f1b6da"
            ],
            [
             0.4,
             "#fde0ef"
            ],
            [
             0.5,
             "#f7f7f7"
            ],
            [
             0.6,
             "#e6f5d0"
            ],
            [
             0.7,
             "#b8e186"
            ],
            [
             0.8,
             "#7fbc41"
            ],
            [
             0.9,
             "#4d9221"
            ],
            [
             1,
             "#276419"
            ]
           ],
           "sequential": [
            [
             0,
             "#0d0887"
            ],
            [
             0.1111111111111111,
             "#46039f"
            ],
            [
             0.2222222222222222,
             "#7201a8"
            ],
            [
             0.3333333333333333,
             "#9c179e"
            ],
            [
             0.4444444444444444,
             "#bd3786"
            ],
            [
             0.5555555555555556,
             "#d8576b"
            ],
            [
             0.6666666666666666,
             "#ed7953"
            ],
            [
             0.7777777777777778,
             "#fb9f3a"
            ],
            [
             0.8888888888888888,
             "#fdca26"
            ],
            [
             1,
             "#f0f921"
            ]
           ],
           "sequentialminus": [
            [
             0,
             "#0d0887"
            ],
            [
             0.1111111111111111,
             "#46039f"
            ],
            [
             0.2222222222222222,
             "#7201a8"
            ],
            [
             0.3333333333333333,
             "#9c179e"
            ],
            [
             0.4444444444444444,
             "#bd3786"
            ],
            [
             0.5555555555555556,
             "#d8576b"
            ],
            [
             0.6666666666666666,
             "#ed7953"
            ],
            [
             0.7777777777777778,
             "#fb9f3a"
            ],
            [
             0.8888888888888888,
             "#fdca26"
            ],
            [
             1,
             "#f0f921"
            ]
           ]
          },
          "colorway": [
           "#636efa",
           "#EF553B",
           "#00cc96",
           "#ab63fa",
           "#FFA15A",
           "#19d3f3",
           "#FF6692",
           "#B6E880",
           "#FF97FF",
           "#FECB52"
          ],
          "font": {
           "color": "#2a3f5f"
          },
          "geo": {
           "bgcolor": "white",
           "lakecolor": "white",
           "landcolor": "#E5ECF6",
           "showlakes": true,
           "showland": true,
           "subunitcolor": "white"
          },
          "hoverlabel": {
           "align": "left"
          },
          "hovermode": "closest",
          "mapbox": {
           "style": "light"
          },
          "paper_bgcolor": "white",
          "plot_bgcolor": "#E5ECF6",
          "polar": {
           "angularaxis": {
            "gridcolor": "white",
            "linecolor": "white",
            "ticks": ""
           },
           "bgcolor": "#E5ECF6",
           "radialaxis": {
            "gridcolor": "white",
            "linecolor": "white",
            "ticks": ""
           }
          },
          "scene": {
           "xaxis": {
            "backgroundcolor": "#E5ECF6",
            "gridcolor": "white",
            "gridwidth": 2,
            "linecolor": "white",
            "showbackground": true,
            "ticks": "",
            "zerolinecolor": "white"
           },
           "yaxis": {
            "backgroundcolor": "#E5ECF6",
            "gridcolor": "white",
            "gridwidth": 2,
            "linecolor": "white",
            "showbackground": true,
            "ticks": "",
            "zerolinecolor": "white"
           },
           "zaxis": {
            "backgroundcolor": "#E5ECF6",
            "gridcolor": "white",
            "gridwidth": 2,
            "linecolor": "white",
            "showbackground": true,
            "ticks": "",
            "zerolinecolor": "white"
           }
          },
          "shapedefaults": {
           "line": {
            "color": "#2a3f5f"
           }
          },
          "ternary": {
           "aaxis": {
            "gridcolor": "white",
            "linecolor": "white",
            "ticks": ""
           },
           "baxis": {
            "gridcolor": "white",
            "linecolor": "white",
            "ticks": ""
           },
           "bgcolor": "#E5ECF6",
           "caxis": {
            "gridcolor": "white",
            "linecolor": "white",
            "ticks": ""
           }
          },
          "title": {
           "x": 0.05
          },
          "xaxis": {
           "automargin": true,
           "gridcolor": "white",
           "linecolor": "white",
           "ticks": "",
           "title": {
            "standoff": 15
           },
           "zerolinecolor": "white",
           "zerolinewidth": 2
          },
          "yaxis": {
           "automargin": true,
           "gridcolor": "white",
           "linecolor": "white",
           "ticks": "",
           "title": {
            "standoff": 15
           },
           "zerolinecolor": "white",
           "zerolinewidth": 2
          }
         }
        },
        "title": {
         "text": "Reports per 100,000 people by state and timeperiod"
        }
       }
      },
      "text/html": [
       "<div>                            <div id=\"fc833fce-7f3c-465b-a90c-4b5e366f64dc\" class=\"plotly-graph-div\" style=\"height:525px; width:100%;\"></div>            <script type=\"text/javascript\">                require([\"plotly\"], function(Plotly) {                    window.PLOTLYENV=window.PLOTLYENV || {};                                    if (document.getElementById(\"fc833fce-7f3c-465b-a90c-4b5e366f64dc\")) {                    Plotly.newPlot(                        \"fc833fce-7f3c-465b-a90c-4b5e366f64dc\",                        [{\"colorbar\":{\"title\":{\"text\":\"Reports per 100,000\"}},\"locationmode\":\"USA-states\",\"locations\":[\"AZ\",\"CA\",\"CO\",\"CT\",\"FL\",\"GA\",\"IA\",\"ID\",\"IN\",\"LA\",\"MA\",\"MD\",\"ME\",\"MI\",\"MN\",\"NV\",\"NY\",\"PA\",\"TX\",\"UT\",\"VA\",\"WA\",\"WI\"],\"z\":[0.04194922968629527,0.07840514228472027,0.017319874174578097,0.05546397836461132,0.01392874897037527,0.028006215139263706,0.1567216832911804,0.054374244877674255,0.13263522013320114,0.021469561421946226,0.08534951408387895,0.0323770030032908,0.3670104575959787,0.09923262419384657,0.19276284177289943,0.06442024676819727,0.12375472427472183,0.007690710390918809,0.003431060810234717,0.764148359709697,0.0926849235111876,18.831240547878785,0.18663940147798044],\"zmax\":50,\"zmin\":0,\"type\":\"choropleth\"},{\"colorbar\":{\"title\":{\"text\":\"Reports per 100,000\"}},\"locationmode\":\"USA-states\",\"locations\":[\"AK\",\"CA\",\"CT\",\"FL\",\"ID\",\"IL\",\"LA\",\"MA\",\"MD\",\"ME\",\"MI\",\"MN\",\"ND\",\"NM\",\"NY\",\"PA\",\"PR\",\"TN\",\"TX\",\"UT\",\"VA\",\"WA\",\"WI\",\"WY\"],\"z\":[3.1361170235249682,0.43755127791150356,0.05546397836461132,0.13000165705683586,0.054374244877674255,0.015609746350987644,0.4079216670169783,1.4793915774539015,0.08094250750822699,0.07340209151919574,0.6251655324212333,0.5607646306120712,0.25670843312873676,0.04722501112149012,0.024750944854944362,0.09997923508194452,0.030433303285518555,0.014470021010470506,0.003431060810234717,0.12226373755355151,0.4518390021170395,15.755427998018503,0.13573774652944032,0.1733549911502277],\"zmax\":50,\"zmin\":0,\"type\":\"choropleth\"},{\"colorbar\":{\"title\":{\"text\":\"Reports per 100,000\"}},\"locationmode\":\"USA-states\",\"locations\":[\"AK\",\"AL\",\"AR\",\"CA\",\"FL\",\"GA\",\"IL\",\"KY\",\"LA\",\"MA\",\"MD\",\"MN\",\"NC\",\"NJ\",\"NM\",\"NV\",\"NY\",\"OH\",\"PA\",\"SC\",\"TX\",\"UT\",\"VA\",\"WA\",\"WI\"],\"z\":[1.0908233125304236,0.019903353297060136,0.03320577886810797,1.5782196382472728,0.7103661974891387,0.2613913412997946,0.015609746350987644,0.0221934397967436,0.06440868426583869,1.3655922253420631,0.35614703303619877,3.504778941325444,0.05747463357047367,0.010765428419912855,3.87245091196219,0.06442024676819727,0.004950188970988873,0.12712459091306644,0.038453551954594045,0.48843149992429313,0.34996820264394113,0.5501868189909818,5.074499562237521,6.411187340215107,2.2227055994195855],\"zmax\":50,\"zmin\":0,\"type\":\"choropleth\"},{\"colorbar\":{\"title\":{\"text\":\"Reports per 100,000\"}},\"locationmode\":\"USA-states\",\"locations\":[\"AK\",\"AL\",\"AZ\",\"CA\",\"CO\",\"CT\",\"DE\",\"FL\",\"GA\",\"GU\",\"HI\",\"IA\",\"ID\",\"IL\",\"IN\",\"KS\",\"KY\",\"LA\",\"MA\",\"MD\",\"MI\",\"MN\",\"MO\",\"MS\",\"MT\",\"NC\",\"ND\",\"NE\",\"NH\",\"NJ\",\"NM\",\"NV\",\"NY\",\"OH\",\"OK\",\"OR\",\"PA\",\"RI\",\"SC\",\"SD\",\"TN\",\"TX\",\"UT\",\"VA\",\"VT\",\"WA\",\"WI\",\"WV\",\"WY\"],\"z\":[14.862467633227022,9.215252576538843,0.027966153124196844,2.180168795142867,0.15587886757120287,1.8303112860321735,0.10101540686985579,1.1328715829238551,0.29873296148547956,null,0.0687157237380529,0.09403300997470826,0.3262454692660456,0.03902436587746911,0.16210971349613473,4.254768744809183,0.2441278377641796,0.1502869299536236,2.5320355844884084,3.156757792820853,0.009923262419384656,3.0491576789531365,0.2599549335628302,0.1350767691933114,0.27669533537780444,0.07663284476063156,0.7701252993862101,1.9882702252965072,0.07259375301717785,0.11841971261904143,6.233701468036696,0.5475720975296767,0.024750944854944362,0.07627475454783986,0.30307982137485595,1.36881038105793,0.061525683127350475,0.0911262198383603,0.17583533997274553,39.47366937080099,0.3328104832408217,0.11665606754798039,0.030565934388387877,11.272803822048191,0.1555023737437352,0.8954897297061586,1.9681973246768847,0.39025129953682747,0.520064973450683],\"zmax\":50,\"zmin\":0,\"type\":\"choropleth\"},{\"colorbar\":{\"title\":{\"text\":\"Reports per 100,000\"}},\"locationmode\":\"USA-states\",\"locations\":[\"AK\",\"AL\",\"AR\",\"AZ\",\"CA\",\"CO\",\"CT\",\"DE\",\"FL\",\"GA\",\"GU\",\"HI\",\"IA\",\"ID\",\"IL\",\"IN\",\"KS\",\"KY\",\"LA\",\"MA\",\"MD\",\"ME\",\"MI\",\"MN\",\"MO\",\"MS\",\"MT\",\"NC\",\"ND\",\"NE\",\"NH\",\"NJ\",\"NM\",\"NV\",\"NY\",\"OH\",\"OK\",\"OR\",\"PA\",\"PR\",\"RI\",\"SC\",\"SD\",\"TN\",\"TX\",\"UT\",\"VA\",\"VT\",\"WA\",\"WI\",\"WV\",\"WY\"],\"z\":[2.7270582813260593,2.2490789225677954,1.4610542701967508,0.5453399859218385,2.357212664818042,0.3983571060152962,1.8303112860321735,0.6060924412191347,0.571078707785386,1.0082237450134934,null,0.20614717121415874,0.1567216832911804,0.3806197141437198,0.1092682244569135,0.8989720475694742,1.497678598172832,0.7323835132925388,0.45086078986087086,3.954527485886391,1.974997183200739,1.174433464307132,0.4267002840335402,2.8038231530603555,0.9910781842082902,1.4858444611264254,11.621204085867786,1.0824389322439207,6.674419261347154,0.20392515131246225,0.4355625181030672,0.17224685471860568,4.958626167756462,0.5153619741455782,0.4356166294470208,0.3644238272841238,0.32833647315609393,0.11800089491878707,0.4614426234551286,0.09129990985655567,2.91603903482753,0.8401021798697841,0.22556382497600563,0.44857065132458573,0.34996820264394113,0.8864120972632485,63.4660013742857,0.4665071212312056,1.1031395221017897,0.7804920425442818,0.7247524134255368,2.25361488495296],\"zmax\":50,\"zmin\":0,\"type\":\"choropleth\"},{\"colorbar\":{\"title\":{\"text\":\"Reports per 100,000\"}},\"locationmode\":\"USA-states\",\"locations\":[\"AK\",\"AL\",\"AR\",\"AZ\",\"CA\",\"CO\",\"CT\",\"DC\",\"FL\",\"GA\",\"HI\",\"IA\",\"ID\",\"IL\",\"IN\",\"KS\",\"KY\",\"LA\",\"MA\",\"MD\",\"ME\",\"MI\",\"MN\",\"MO\",\"MS\",\"MT\",\"NC\",\"ND\",\"NE\",\"NH\",\"NJ\",\"NM\",\"NV\",\"NY\",\"OH\",\"OK\",\"OR\",\"PA\",\"RI\",\"SC\",\"TN\",\"TX\",\"UT\",\"VA\",\"VT\",\"WA\",\"WI\",\"WV\",\"WY\"],\"z\":[19.089407969282416,0.736424071991225,3.486606781151337,0.7550861343533148,4.729600518465385,1.6627079207594972,1.802579296849868,null,3.5936172343568193,6.320069216427176,2.13018743587964,0.06268867331647217,0.21749697951069702,0.5619508686355552,0.987395527658275,0.06807629991694691,2.77417997459295,1.0734780710973115,4.907597059823039,7.835234726796373,7.780621701034749,0.47631659613046357,2.120391259501894,1.7546958015491039,0.675383845966557,0.18446355691853628,0.5364299133244209,6.931127694475892,0.30588772696869343,8.566062856026988,0.3660245662770371,3.2585257673828183,5.443510851912669,0.2871109603173546,1.0169967273045315,0.10102660712495197,0.5428041166264205,1.5842863405292744,11.846408578986841,6.740354698955246,0.4630406723350562,15.103529686653225,0.8252802284864728,0.16219861614457828,0.4665071212312056,1.064205186027609,0.22057383811034054,0.5575018564811821,2.25361488495296],\"zmax\":50,\"zmin\":0,\"type\":\"choropleth\"},{\"colorbar\":{\"title\":{\"text\":\"Reports per 100,000\"}},\"locationmode\":\"USA-states\",\"locations\":[\"AK\",\"AL\",\"AR\",\"AZ\",\"CA\",\"CO\",\"CT\",\"DC\",\"DE\",\"FL\",\"GA\",\"HI\",\"IA\",\"ID\",\"IL\",\"IN\",\"KS\",\"KY\",\"LA\",\"MA\",\"MD\",\"ME\",\"MI\",\"MN\",\"MO\",\"MS\",\"MT\",\"NC\",\"ND\",\"NE\",\"NH\",\"NJ\",\"NM\",\"NV\",\"NY\",\"OH\",\"OK\",\"OR\",\"PA\",\"PR\",\"RI\",\"SC\",\"SD\",\"TN\",\"TX\",\"UT\",\"VA\",\"VT\",\"WA\",\"WI\",\"WV\",\"WY\"],\"z\":[1.2271762265967268,0.6170039522088642,0.2656462309448638,0.6292384452944291,1.6009824214912238,0.24247823844409336,6.406089501112608,null,6.262955225931059,1.448589892919028,1.1575902257562332,0.20614717121415874,2.7583016259247755,1.848724325840925,2.318047333121665,1.5474109015540134,0.13615259983389383,0.6214163143088208,0.558208596970602,6.785286369668375,0.7770480720789791,2.4222690201334593,1.9052663845218543,6.746699462051481,0.2599549335628302,3.545765191324424,0.645622449214877,0.9100150315324997,0.38506264969310505,0.356869014796809,6.243062759477295,5.09204764261878,3.589100845233249,1.0951441950593535,0.5742219206347092,4.974808991064667,0.8334695087808539,0.11800089491878707,3.906880878586755,0.273899729569667,8.65699088464423,2.0123377796880875,1.5789467748320396,0.5498607983978793,0.8680583849893835,0.3056593438838788,0.2085410779001721,2.0215308586685574,0.025956224049453875,0.4581148945368611,2.6760089111096743,0.6934199646009108],\"zmax\":50,\"zmin\":0,\"type\":\"choropleth\"},{\"colorbar\":{\"title\":{\"text\":\"Reports per 100,000\"}},\"locationmode\":\"USA-states\",\"locations\":[\"AK\",\"AL\",\"AR\",\"AZ\",\"CA\",\"CO\",\"CT\",\"DC\",\"DE\",\"FL\",\"GA\",\"HI\",\"IA\",\"ID\",\"IL\",\"IN\",\"KS\",\"KY\",\"LA\",\"MA\",\"MD\",\"ME\",\"MI\",\"MN\",\"MO\",\"MT\",\"NC\",\"ND\",\"NE\",\"NH\",\"NJ\",\"NM\",\"NV\",\"NY\",\"OH\",\"OK\",\"OR\",\"PA\",\"PR\",\"RI\",\"SC\",\"SD\",\"TN\",\"TX\",\"UT\",\"VA\",\"VT\",\"WA\",\"WI\",\"WV\",\"WY\"],\"z\":[7.36305735958036,0.019903353297060136,0.19923467320864782,0.23771230155567322,0.5083688257815735,2.7365401195833394,13.2281588399598,null,0.20203081373971157,1.2768019889510662,0.6721491633423289,0.20614717121415874,0.2194103566076526,0.21749697951069702,1.6546331132046903,1.0463445143841423,0.13615259983389383,0.1553540785772052,0.3005738599072472,4.509299327431604,1.0036870931020148,1.0276292812687404,2.6792808532338572,5.467455148467693,1.884673268330519,0.27669533537780444,1.1782299881947103,0.5134168662574735,0.2549064391405778,5.226750217236806,5.318121639436951,1.180625278037253,0.6442024676819726,5.687767127666215,0.7881724636610119,0.050513303562475985,1.2272093071553856,3.7376852499865416,0.547799459139334,27.61124461102317,0.214909859966689,0.3383457374640085,0.6222109034502318,0.7308159525799948,0.21396154071871515,0.2780547705335628,7.464113939699289,0.19467168037090407,2.103935071206325,0.44600148518494565,13.348334318567533],\"zmax\":50,\"zmin\":0,\"type\":\"choropleth\"},{\"colorbar\":{\"title\":{\"text\":\"Reports per 100,000\"}},\"locationmode\":\"USA-states\",\"locations\":[\"AK\",\"AL\",\"AR\",\"AZ\",\"CA\",\"CO\",\"CT\",\"DC\",\"FL\",\"GA\",\"HI\",\"IA\",\"ID\",\"IL\",\"IN\",\"KS\",\"KY\",\"LA\",\"MA\",\"MD\",\"ME\",\"MI\",\"MN\",\"MO\",\"MT\",\"NC\",\"ND\",\"NE\",\"NH\",\"NJ\",\"NM\",\"NV\",\"NY\",\"OH\",\"OK\",\"OR\",\"PA\",\"PR\",\"RI\",\"SC\",\"TN\",\"TX\",\"UT\",\"VA\",\"VT\",\"WA\",\"WI\",\"WV\"],\"z\":[26.316112414796475,0.05971005989118041,0.03320577886810797,0.6432215218565275,0.41984689094398603,2.9790183580274325,1.0260835997453095,null,0.8403678545459745,0.22404972111410965,0.0687157237380529,0.031344336658236084,0.2718712243883713,1.9356085475224678,0.4568546471254705,0.06807629991694691,0.11096719898371801,0.42939122843892463,3.1294821830755613,0.485655045049362,5.064744314824507,0.2083885108070778,2.120391259501894,0.04874155004303067,0.645622449214877,1.0728598266488418,0.38506264969310505,0.05098128782811556,1.5970625663779128,0.5275059925757299,0.7556001779438419,0.032210123384098635,0.15345585810065507,0.28814907273628393,0.025256651781237992,0.5192039376426631,0.7613803287009621,0.09129990985655567,8.74811710448259,0.214909859966689,0.057880084041882024,0.17498410132197056,0.061131868776775754,35.984921553218584,1.8660284849248223,0.23360601644508489,0.2545082747427006,26.09108688331932],\"zmax\":50,\"zmin\":0,\"type\":\"choropleth\"},{\"colorbar\":{\"title\":{\"text\":\"Reports per 100,000\"}},\"locationmode\":\"USA-states\",\"locations\":[\"AK\",\"AL\",\"AR\",\"AZ\",\"CA\",\"CO\",\"CT\",\"FL\",\"GA\",\"HI\",\"IA\",\"ID\",\"IL\",\"IN\",\"KY\",\"LA\",\"MA\",\"MD\",\"ME\",\"MI\",\"MN\",\"MO\",\"MS\",\"MT\",\"NC\",\"ND\",\"NE\",\"NH\",\"NJ\",\"NM\",\"NV\",\"NY\",\"OH\",\"OK\",\"OR\",\"PA\",\"PR\",\"RI\",\"SC\",\"SD\",\"TN\",\"TX\",\"UT\",\"VA\",\"WA\",\"WI\",\"WV\",\"WY\"],\"z\":[9.953762726840116,0.13932347307942095,0.16602889434053986,0.26567845467987006,0.24786141754524474,3.030977980551167,1.8580432752144793,0.8914399341040172,0.38275160690327065,0.0687157237380529,1.7239385162029845,2.066221305351622,1.0380481323406785,0.1768469601776015,0.0887737591869744,1.0949476325192575,0.3840728133774552,0.4532780420460712,0.8074230067111532,0.019846524838769312,1.5596266288898228,0.861100717426875,0.23638434608829495,2.0290991261038993,0.46937617415886834,0.12835421656436838,0.05098128782811556,0.2903750120687114,0.2906665673376471,1.180625278037253,0.354311357225085,0.06930264559384422,0.966146890939305,0.025256651781237992,0.5900044745939353,0.5152775961915602,0.15216651642759277,8.383612225129148,2.637530099591183,0.22556382497600563,0.5788008404188203,0.3980030539872272,0.18339560633032728,46.89857129666092,1.1680300822254244,0.15270496484562038,2.2300074259247284,6.06742469025797],\"zmax\":50,\"zmin\":0,\"type\":\"choropleth\"},{\"colorbar\":{\"title\":{\"text\":\"Reports per 100,000\"}},\"locationmode\":\"USA-states\",\"locations\":[\"AK\",\"AL\",\"AR\",\"AZ\",\"CA\",\"CO\",\"CT\",\"DE\",\"FL\",\"GA\",\"GU\",\"HI\",\"ID\",\"IL\",\"IN\",\"KS\",\"KY\",\"LA\",\"MA\",\"MD\",\"MI\",\"MN\",\"MO\",\"MS\",\"NC\",\"ND\",\"NE\",\"NH\",\"NJ\",\"NM\",\"NV\",\"NY\",\"OH\",\"OK\",\"OR\",\"PA\",\"PR\",\"RI\",\"SC\",\"SD\",\"TN\",\"TX\",\"UT\",\"VA\",\"WA\",\"WI\",\"WV\"],\"z\":[1.0908233125304236,0.9553609582588866,0.7637329139664835,0.27966153124196846,1.8260810557925176,0.6581552186339676,0.08319596754691698,0.10101540686985579,3.9557647075865763,0.4294286321353768,null,0.34357861869026457,0.3806197141437198,0.1482925903343826,0.07368623340733396,0.13615259983389383,0.44386879593487205,8.630763691622384,0.5832216795731728,1.2303261141250503,0.1587721987101545,0.12266726294639055,0.08123591673838444,0.2701535383866228,0.8046448699866313,0.5134168662574735,0.20392515131246225,0.3629687650858893,8.278614454912987,46.42218593242479,1.1273543184434522,0.10395396839076634,0.31357399091889726,0.050513303562475985,1.321610023090415,0.17688633899113262,0.12173321314207422,0.5467573190301619,0.23444711996366072,0.22556382497600563,0.3183404622303512,0.9435417228145473,0.21396154071871515,0.1390273852667814,0.7527304974341624,0.0848360915809002,1.3937546412029553],\"zmax\":50,\"zmin\":0,\"type\":\"choropleth\"}],                        {\"geo\":{\"projection\":{\"type\":\"albers usa\"},\"scope\":\"usa\"},\"sliders\":[{\"active\":0,\"pad\":{\"t\":1},\"steps\":[{\"args\":[\"visible\",[true,false,false,false,false,false,false,false,false,false,false]],\"label\":\"Timespan 1\",\"method\":\"restyle\"},{\"args\":[\"visible\",[false,true,false,false,false,false,false,false,false,false,false]],\"label\":\"Timespan 2\",\"method\":\"restyle\"},{\"args\":[\"visible\",[false,false,true,false,false,false,false,false,false,false,false]],\"label\":\"Timespan 3\",\"method\":\"restyle\"},{\"args\":[\"visible\",[false,false,false,true,false,false,false,false,false,false,false]],\"label\":\"Timespan 4\",\"method\":\"restyle\"},{\"args\":[\"visible\",[false,false,false,false,true,false,false,false,false,false,false]],\"label\":\"Timespan 5\",\"method\":\"restyle\"},{\"args\":[\"visible\",[false,false,false,false,false,true,false,false,false,false,false]],\"label\":\"Timespan 6\",\"method\":\"restyle\"},{\"args\":[\"visible\",[false,false,false,false,false,false,true,false,false,false,false]],\"label\":\"Timespan 7\",\"method\":\"restyle\"},{\"args\":[\"visible\",[false,false,false,false,false,false,false,true,false,false,false]],\"label\":\"Timespan 8\",\"method\":\"restyle\"},{\"args\":[\"visible\",[false,false,false,false,false,false,false,false,true,false,false]],\"label\":\"Timespan 9\",\"method\":\"restyle\"},{\"args\":[\"visible\",[false,false,false,false,false,false,false,false,false,true,false]],\"label\":\"Timespan 10\",\"method\":\"restyle\"},{\"args\":[\"visible\",[false,false,false,false,false,false,false,false,false,false,true]],\"label\":\"Timespan 11\",\"method\":\"restyle\"}]}],\"template\":{\"data\":{\"barpolar\":[{\"marker\":{\"line\":{\"color\":\"#E5ECF6\",\"width\":0.5},\"pattern\":{\"fillmode\":\"overlay\",\"size\":10,\"solidity\":0.2}},\"type\":\"barpolar\"}],\"bar\":[{\"error_x\":{\"color\":\"#2a3f5f\"},\"error_y\":{\"color\":\"#2a3f5f\"},\"marker\":{\"line\":{\"color\":\"#E5ECF6\",\"width\":0.5},\"pattern\":{\"fillmode\":\"overlay\",\"size\":10,\"solidity\":0.2}},\"type\":\"bar\"}],\"carpet\":[{\"aaxis\":{\"endlinecolor\":\"#2a3f5f\",\"gridcolor\":\"white\",\"linecolor\":\"white\",\"minorgridcolor\":\"white\",\"startlinecolor\":\"#2a3f5f\"},\"baxis\":{\"endlinecolor\":\"#2a3f5f\",\"gridcolor\":\"white\",\"linecolor\":\"white\",\"minorgridcolor\":\"white\",\"startlinecolor\":\"#2a3f5f\"},\"type\":\"carpet\"}],\"choropleth\":[{\"colorbar\":{\"outlinewidth\":0,\"ticks\":\"\"},\"type\":\"choropleth\"}],\"contourcarpet\":[{\"colorbar\":{\"outlinewidth\":0,\"ticks\":\"\"},\"type\":\"contourcarpet\"}],\"contour\":[{\"colorbar\":{\"outlinewidth\":0,\"ticks\":\"\"},\"colorscale\":[[0.0,\"#0d0887\"],[0.1111111111111111,\"#46039f\"],[0.2222222222222222,\"#7201a8\"],[0.3333333333333333,\"#9c179e\"],[0.4444444444444444,\"#bd3786\"],[0.5555555555555556,\"#d8576b\"],[0.6666666666666666,\"#ed7953\"],[0.7777777777777778,\"#fb9f3a\"],[0.8888888888888888,\"#fdca26\"],[1.0,\"#f0f921\"]],\"type\":\"contour\"}],\"heatmapgl\":[{\"colorbar\":{\"outlinewidth\":0,\"ticks\":\"\"},\"colorscale\":[[0.0,\"#0d0887\"],[0.1111111111111111,\"#46039f\"],[0.2222222222222222,\"#7201a8\"],[0.3333333333333333,\"#9c179e\"],[0.4444444444444444,\"#bd3786\"],[0.5555555555555556,\"#d8576b\"],[0.6666666666666666,\"#ed7953\"],[0.7777777777777778,\"#fb9f3a\"],[0.8888888888888888,\"#fdca26\"],[1.0,\"#f0f921\"]],\"type\":\"heatmapgl\"}],\"heatmap\":[{\"colorbar\":{\"outlinewidth\":0,\"ticks\":\"\"},\"colorscale\":[[0.0,\"#0d0887\"],[0.1111111111111111,\"#46039f\"],[0.2222222222222222,\"#7201a8\"],[0.3333333333333333,\"#9c179e\"],[0.4444444444444444,\"#bd3786\"],[0.5555555555555556,\"#d8576b\"],[0.6666666666666666,\"#ed7953\"],[0.7777777777777778,\"#fb9f3a\"],[0.8888888888888888,\"#fdca26\"],[1.0,\"#f0f921\"]],\"type\":\"heatmap\"}],\"histogram2dcontour\":[{\"colorbar\":{\"outlinewidth\":0,\"ticks\":\"\"},\"colorscale\":[[0.0,\"#0d0887\"],[0.1111111111111111,\"#46039f\"],[0.2222222222222222,\"#7201a8\"],[0.3333333333333333,\"#9c179e\"],[0.4444444444444444,\"#bd3786\"],[0.5555555555555556,\"#d8576b\"],[0.6666666666666666,\"#ed7953\"],[0.7777777777777778,\"#fb9f3a\"],[0.8888888888888888,\"#fdca26\"],[1.0,\"#f0f921\"]],\"type\":\"histogram2dcontour\"}],\"histogram2d\":[{\"colorbar\":{\"outlinewidth\":0,\"ticks\":\"\"},\"colorscale\":[[0.0,\"#0d0887\"],[0.1111111111111111,\"#46039f\"],[0.2222222222222222,\"#7201a8\"],[0.3333333333333333,\"#9c179e\"],[0.4444444444444444,\"#bd3786\"],[0.5555555555555556,\"#d8576b\"],[0.6666666666666666,\"#ed7953\"],[0.7777777777777778,\"#fb9f3a\"],[0.8888888888888888,\"#fdca26\"],[1.0,\"#f0f921\"]],\"type\":\"histogram2d\"}],\"histogram\":[{\"marker\":{\"pattern\":{\"fillmode\":\"overlay\",\"size\":10,\"solidity\":0.2}},\"type\":\"histogram\"}],\"mesh3d\":[{\"colorbar\":{\"outlinewidth\":0,\"ticks\":\"\"},\"type\":\"mesh3d\"}],\"parcoords\":[{\"line\":{\"colorbar\":{\"outlinewidth\":0,\"ticks\":\"\"}},\"type\":\"parcoords\"}],\"pie\":[{\"automargin\":true,\"type\":\"pie\"}],\"scatter3d\":[{\"line\":{\"colorbar\":{\"outlinewidth\":0,\"ticks\":\"\"}},\"marker\":{\"colorbar\":{\"outlinewidth\":0,\"ticks\":\"\"}},\"type\":\"scatter3d\"}],\"scattercarpet\":[{\"marker\":{\"colorbar\":{\"outlinewidth\":0,\"ticks\":\"\"}},\"type\":\"scattercarpet\"}],\"scattergeo\":[{\"marker\":{\"colorbar\":{\"outlinewidth\":0,\"ticks\":\"\"}},\"type\":\"scattergeo\"}],\"scattergl\":[{\"marker\":{\"colorbar\":{\"outlinewidth\":0,\"ticks\":\"\"}},\"type\":\"scattergl\"}],\"scattermapbox\":[{\"marker\":{\"colorbar\":{\"outlinewidth\":0,\"ticks\":\"\"}},\"type\":\"scattermapbox\"}],\"scatterpolargl\":[{\"marker\":{\"colorbar\":{\"outlinewidth\":0,\"ticks\":\"\"}},\"type\":\"scatterpolargl\"}],\"scatterpolar\":[{\"marker\":{\"colorbar\":{\"outlinewidth\":0,\"ticks\":\"\"}},\"type\":\"scatterpolar\"}],\"scatter\":[{\"marker\":{\"colorbar\":{\"outlinewidth\":0,\"ticks\":\"\"}},\"type\":\"scatter\"}],\"scatterternary\":[{\"marker\":{\"colorbar\":{\"outlinewidth\":0,\"ticks\":\"\"}},\"type\":\"scatterternary\"}],\"surface\":[{\"colorbar\":{\"outlinewidth\":0,\"ticks\":\"\"},\"colorscale\":[[0.0,\"#0d0887\"],[0.1111111111111111,\"#46039f\"],[0.2222222222222222,\"#7201a8\"],[0.3333333333333333,\"#9c179e\"],[0.4444444444444444,\"#bd3786\"],[0.5555555555555556,\"#d8576b\"],[0.6666666666666666,\"#ed7953\"],[0.7777777777777778,\"#fb9f3a\"],[0.8888888888888888,\"#fdca26\"],[1.0,\"#f0f921\"]],\"type\":\"surface\"}],\"table\":[{\"cells\":{\"fill\":{\"color\":\"#EBF0F8\"},\"line\":{\"color\":\"white\"}},\"header\":{\"fill\":{\"color\":\"#C8D4E3\"},\"line\":{\"color\":\"white\"}},\"type\":\"table\"}]},\"layout\":{\"annotationdefaults\":{\"arrowcolor\":\"#2a3f5f\",\"arrowhead\":0,\"arrowwidth\":1},\"autotypenumbers\":\"strict\",\"coloraxis\":{\"colorbar\":{\"outlinewidth\":0,\"ticks\":\"\"}},\"colorscale\":{\"diverging\":[[0,\"#8e0152\"],[0.1,\"#c51b7d\"],[0.2,\"#de77ae\"],[0.3,\"#f1b6da\"],[0.4,\"#fde0ef\"],[0.5,\"#f7f7f7\"],[0.6,\"#e6f5d0\"],[0.7,\"#b8e186\"],[0.8,\"#7fbc41\"],[0.9,\"#4d9221\"],[1,\"#276419\"]],\"sequential\":[[0.0,\"#0d0887\"],[0.1111111111111111,\"#46039f\"],[0.2222222222222222,\"#7201a8\"],[0.3333333333333333,\"#9c179e\"],[0.4444444444444444,\"#bd3786\"],[0.5555555555555556,\"#d8576b\"],[0.6666666666666666,\"#ed7953\"],[0.7777777777777778,\"#fb9f3a\"],[0.8888888888888888,\"#fdca26\"],[1.0,\"#f0f921\"]],\"sequentialminus\":[[0.0,\"#0d0887\"],[0.1111111111111111,\"#46039f\"],[0.2222222222222222,\"#7201a8\"],[0.3333333333333333,\"#9c179e\"],[0.4444444444444444,\"#bd3786\"],[0.5555555555555556,\"#d8576b\"],[0.6666666666666666,\"#ed7953\"],[0.7777777777777778,\"#fb9f3a\"],[0.8888888888888888,\"#fdca26\"],[1.0,\"#f0f921\"]]},\"colorway\":[\"#636efa\",\"#EF553B\",\"#00cc96\",\"#ab63fa\",\"#FFA15A\",\"#19d3f3\",\"#FF6692\",\"#B6E880\",\"#FF97FF\",\"#FECB52\"],\"font\":{\"color\":\"#2a3f5f\"},\"geo\":{\"bgcolor\":\"white\",\"lakecolor\":\"white\",\"landcolor\":\"#E5ECF6\",\"showlakes\":true,\"showland\":true,\"subunitcolor\":\"white\"},\"hoverlabel\":{\"align\":\"left\"},\"hovermode\":\"closest\",\"mapbox\":{\"style\":\"light\"},\"paper_bgcolor\":\"white\",\"plot_bgcolor\":\"#E5ECF6\",\"polar\":{\"angularaxis\":{\"gridcolor\":\"white\",\"linecolor\":\"white\",\"ticks\":\"\"},\"bgcolor\":\"#E5ECF6\",\"radialaxis\":{\"gridcolor\":\"white\",\"linecolor\":\"white\",\"ticks\":\"\"}},\"scene\":{\"xaxis\":{\"backgroundcolor\":\"#E5ECF6\",\"gridcolor\":\"white\",\"gridwidth\":2,\"linecolor\":\"white\",\"showbackground\":true,\"ticks\":\"\",\"zerolinecolor\":\"white\"},\"yaxis\":{\"backgroundcolor\":\"#E5ECF6\",\"gridcolor\":\"white\",\"gridwidth\":2,\"linecolor\":\"white\",\"showbackground\":true,\"ticks\":\"\",\"zerolinecolor\":\"white\"},\"zaxis\":{\"backgroundcolor\":\"#E5ECF6\",\"gridcolor\":\"white\",\"gridwidth\":2,\"linecolor\":\"white\",\"showbackground\":true,\"ticks\":\"\",\"zerolinecolor\":\"white\"}},\"shapedefaults\":{\"line\":{\"color\":\"#2a3f5f\"}},\"ternary\":{\"aaxis\":{\"gridcolor\":\"white\",\"linecolor\":\"white\",\"ticks\":\"\"},\"baxis\":{\"gridcolor\":\"white\",\"linecolor\":\"white\",\"ticks\":\"\"},\"bgcolor\":\"#E5ECF6\",\"caxis\":{\"gridcolor\":\"white\",\"linecolor\":\"white\",\"ticks\":\"\"}},\"title\":{\"x\":0.05},\"xaxis\":{\"automargin\":true,\"gridcolor\":\"white\",\"linecolor\":\"white\",\"ticks\":\"\",\"title\":{\"standoff\":15},\"zerolinecolor\":\"white\",\"zerolinewidth\":2},\"yaxis\":{\"automargin\":true,\"gridcolor\":\"white\",\"linecolor\":\"white\",\"ticks\":\"\",\"title\":{\"standoff\":15},\"zerolinecolor\":\"white\",\"zerolinewidth\":2}}},\"title\":{\"text\":\"Reports per 100,000 people by state and timeperiod\"}},                        {\"responsive\": true}                    ).then(function(){\n",
       "                            \n",
       "var gd = document.getElementById('fc833fce-7f3c-465b-a90c-4b5e366f64dc');\n",
       "var x = new MutationObserver(function (mutations, observer) {{\n",
       "        var display = window.getComputedStyle(gd).display;\n",
       "        if (!display || display === 'none') {{\n",
       "            console.log([gd, 'removed!']);\n",
       "            Plotly.purge(gd);\n",
       "            observer.disconnect();\n",
       "        }}\n",
       "}});\n",
       "\n",
       "// Listen for the removal of the full notebook cells\n",
       "var notebookContainer = gd.closest('#notebook-container');\n",
       "if (notebookContainer) {{\n",
       "    x.observe(notebookContainer, {childList: true});\n",
       "}}\n",
       "\n",
       "// Listen for the clearing of the current output cell\n",
       "var outputEl = gd.closest('.output');\n",
       "if (outputEl) {{\n",
       "    x.observe(outputEl, {childList: true});\n",
       "}}\n",
       "\n",
       "                        })                };                });            </script>        </div>"
      ]
     },
     "metadata": {},
     "output_type": "display_data"
    }
   ],
   "source": [
    "generate_map(dfs, title = \"Reports per 100,000 people by state and timeperiod\", colorbar_title = \"Reports per 100,000\", transform_function = transform_to_total_reports_per_capita, zmax=50, fill_column = \"per_capita\",save = True)"
   ]
  },
  {
   "cell_type": "code",
   "execution_count": 41,
   "id": "fa404c34",
   "metadata": {},
   "outputs": [
    {
     "data": {
      "application/vnd.plotly.v1+json": {
       "config": {
        "linkText": "Export to plot.ly",
        "plotlyServerURL": "https://plot.ly",
        "showLink": false
       },
       "data": [
        {
         "colorbar": {
          "title": {
           "text": "Unique sequence reports per 100,000"
          }
         },
         "locationmode": "USA-states",
         "locations": [
          "AZ",
          "CA",
          "CO",
          "CT",
          "FL",
          "GA",
          "IA",
          "ID",
          "IN",
          "LA",
          "MA",
          "MD",
          "ME",
          "MI",
          "MN",
          "NV",
          "NY",
          "PA",
          "TX",
          "UT",
          "VA",
          "WA",
          "WI"
         ],
         "type": "choropleth",
         "z": [
          0.027966153124196844,
          0.06322995345541958,
          0.017319874174578097,
          0.05546397836461132,
          0.01392874897037527,
          0.018670810092842473,
          0.031344336658236084,
          0.054374244877674255,
          0.014737246681466792,
          0.021469561421946226,
          0.07112459506989911,
          0.0323770030032908,
          0.293608366076783,
          0.07938609935507725,
          0.12266726294639055,
          0.032210123384098635,
          0.07920302353582197,
          0.007690710390918809,
          0.003431060810234717,
          0.33622527827226667,
          0.05792807719449224,
          0.3763652487170812,
          0.0848360915809002
         ],
         "zmax": 4,
         "zmin": 0
        },
        {
         "colorbar": {
          "title": {
           "text": "Unique sequence reports per 100,000"
          }
         },
         "locationmode": "USA-states",
         "locations": [
          "AK",
          "CA",
          "CT",
          "FL",
          "ID",
          "IL",
          "LA",
          "MA",
          "MD",
          "ME",
          "MI",
          "MN",
          "ND",
          "NM",
          "NY",
          "PA",
          "PR",
          "TN",
          "TX",
          "UT",
          "VA",
          "WA",
          "WI",
          "WY"
         ],
         "type": "choropleth",
         "z": [
          0.4090587421989089,
          0.14922269015479023,
          0.05546397836461132,
          0.08357249382225161,
          0.054374244877674255,
          0.015609746350987644,
          0.19322605279751603,
          0.45519740844735435,
          0.04856550450493619,
          0.07340209151919574,
          0.09923262419384657,
          0.26285842059940834,
          0.12835421656436838,
          0.04722501112149012,
          0.009900377941977746,
          0.038453551954594045,
          0.030433303285518555,
          0.014470021010470506,
          0.003431060810234717,
          0.030565934388387877,
          0.2201266933390705,
          0.6618837132610739,
          0.13573774652944032,
          0.1733549911502277
         ],
         "zmax": 4,
         "zmin": 0
        },
        {
         "colorbar": {
          "title": {
           "text": "Unique sequence reports per 100,000"
          }
         },
         "locationmode": "USA-states",
         "locations": [
          "AK",
          "AL",
          "AR",
          "CA",
          "FL",
          "GA",
          "IL",
          "KY",
          "LA",
          "MA",
          "MD",
          "MN",
          "NC",
          "NJ",
          "NM",
          "NV",
          "NY",
          "OH",
          "PA",
          "SC",
          "TX",
          "UT",
          "VA",
          "WA",
          "WI"
         ],
         "type": "choropleth",
         "z": [
          0.2727058281326059,
          0.019903353297060136,
          0.03320577886810797,
          0.3313249561063986,
          0.24143164881983797,
          0.028006215139263706,
          0.007804873175493822,
          0.0221934397967436,
          0.021469561421946226,
          0.3840728133774552,
          0.242827522524681,
          0.38552568354579886,
          0.03831642238031578,
          0.010765428419912855,
          1.227850289158743,
          0.06442024676819727,
          0.004950188970988873,
          0.016949945455075527,
          0.023072131172756426,
          0.23444711996366072,
          0.13038031078891926,
          0.12226373755355151,
          0.7183081572117038,
          1.1810081942501514,
          0.9162297890737222
         ],
         "zmax": 4,
         "zmin": 0
        },
        {
         "colorbar": {
          "title": {
           "text": "Unique sequence reports per 100,000"
          }
         },
         "locationmode": "USA-states",
         "locations": [
          "AK",
          "AL",
          "AZ",
          "CA",
          "CO",
          "CT",
          "DE",
          "FL",
          "GA",
          "GU",
          "HI",
          "IA",
          "ID",
          "IL",
          "IN",
          "KS",
          "KY",
          "LA",
          "MA",
          "MD",
          "MI",
          "MN",
          "MO",
          "MS",
          "MT",
          "NC",
          "ND",
          "NE",
          "NH",
          "NJ",
          "NM",
          "NV",
          "NY",
          "OH",
          "OK",
          "OR",
          "PA",
          "RI",
          "SC",
          "SD",
          "TN",
          "TX",
          "UT",
          "VA",
          "VT",
          "WA",
          "WI",
          "WV",
          "WY"
         ],
         "type": "choropleth",
         "z": [
          1.0908233125304236,
          2.0699487428942542,
          0.027966153124196844,
          0.47043085370832166,
          0.08659937087289049,
          0.11092795672922263,
          0.10101540686985579,
          0.18571665293833692,
          0.09335405046421236,
          null,
          0.0687157237380529,
          0.06268867331647217,
          0.1631227346330228,
          0.03902436587746911,
          0.14737246681466792,
          0.17019074979236729,
          0.0443868795934872,
          0.0858782456877849,
          0.6970210316850114,
          0.9551215885970786,
          0.009923262419384656,
          0.9462903141578699,
          0.06498873339070756,
          0.1350767691933114,
          0.27669533537780444,
          0.04789552797539473,
          0.6417710828218418,
          0.2549064391405778,
          0.07259375301717785,
          0.03229628525973857,
          2.455700578317486,
          0.2576809870727891,
          0.024750944854944362,
          0.04237486363768882,
          0.12628325890619,
          0.21240161085381673,
          0.061525683127350475,
          0.0911262198383603,
          0.05861177999091518,
          0.45112764995201127,
          0.07235010505235254,
          0.03431060810234717,
          0.030565934388387877,
          1.2164896210843372,
          0.1555023737437352,
          0.3114746885934465,
          0.6617215143310216,
          0.27875092824059106,
          0.520064973450683
         ],
         "zmax": 4,
         "zmin": 0
        },
        {
         "colorbar": {
          "title": {
           "text": "Unique sequence reports per 100,000"
          }
         },
         "locationmode": "USA-states",
         "locations": [
          "AK",
          "AL",
          "AR",
          "AZ",
          "CA",
          "CO",
          "CT",
          "DE",
          "FL",
          "GA",
          "GU",
          "HI",
          "IA",
          "ID",
          "IL",
          "IN",
          "KS",
          "KY",
          "LA",
          "MA",
          "MD",
          "ME",
          "MI",
          "MN",
          "MO",
          "MS",
          "MT",
          "NC",
          "ND",
          "NE",
          "NH",
          "NJ",
          "NM",
          "NV",
          "NY",
          "OH",
          "OK",
          "OR",
          "PA",
          "PR",
          "RI",
          "SC",
          "SD",
          "TN",
          "TX",
          "UT",
          "VA",
          "VT",
          "WA",
          "WI",
          "WV",
          "WY"
         ],
         "type": "choropleth",
         "z": [
          1.4998820547293326,
          0.736424071991225,
          0.39846934641729564,
          0.33559383749036215,
          0.7182922712535664,
          0.13855899339662478,
          0.6655677403753358,
          0.505077034349279,
          0.3250041426420896,
          0.5227826825995892,
          null,
          0.20614717121415874,
          0.1567216832911804,
          0.10874848975534851,
          0.10146335128141969,
          0.353693920355203,
          0.374419649543208,
          0.4216753561381284,
          0.279104298485301,
          1.1095436830904264,
          0.9065560840921424,
          0.7340209151919574,
          0.10915588661323122,
          0.8586708406247339,
          0.3086964836058609,
          0.2026151537899671,
          0.8300860061334133,
          0.3640060126129999,
          0.8984795159505784,
          0.20392515131246225,
          0.3629687650858893,
          0.1291851410389543,
          2.077900489345565,
          0.4831518507614795,
          0.10395396839076634,
          0.2118743181884441,
          0.17679656246866596,
          0.09440071593502965,
          0.2691748636821583,
          0.06086660657103711,
          1.184640857898684,
          0.429819719933378,
          0.11278191248800282,
          0.20258029414658713,
          0.22645001347549135,
          0.3056593438838788,
          0.8225786961617899,
          0.3110047474874704,
          0.28551846454399266,
          0.3223771480074208,
          0.6132520421293003,
          1.3868399292018216
         ],
         "zmax": 4,
         "zmin": 0
        },
        {
         "colorbar": {
          "title": {
           "text": "Unique sequence reports per 100,000"
          }
         },
         "locationmode": "USA-states",
         "locations": [
          "AK",
          "AL",
          "AR",
          "AZ",
          "CA",
          "CO",
          "CT",
          "DC",
          "FL",
          "GA",
          "HI",
          "IA",
          "ID",
          "IL",
          "IN",
          "KS",
          "KY",
          "LA",
          "MA",
          "MD",
          "ME",
          "MI",
          "MN",
          "MO",
          "MS",
          "MT",
          "NC",
          "ND",
          "NE",
          "NH",
          "NJ",
          "NM",
          "NV",
          "NY",
          "OH",
          "OK",
          "OR",
          "PA",
          "RI",
          "SC",
          "TN",
          "TX",
          "UT",
          "VA",
          "VT",
          "WA",
          "WI",
          "WV",
          "WY"
         ],
         "type": "choropleth",
         "z": [
          0.8181174843978178,
          0.17913017967354122,
          0.3652635675491877,
          0.22372922499357475,
          0.1972774547809091,
          0.13855899339662478,
          0.49917580528150185,
          null,
          0.4596487160223839,
          0.29873296148547956,
          0.20614717121415874,
          0.031344336658236084,
          0.10874848975534851,
          0.11707309763240734,
          0.13263522013320114,
          0.03403814995847346,
          0.0887737591869744,
          0.23616517564140851,
          0.5263220035172534,
          0.1133195105115178,
          0.6606188236727617,
          0.12900241145200053,
          0.3680017888391716,
          0.2762021169105071,
          0.1350767691933114,
          0.09223177845926814,
          0.17242390071142102,
          0.38506264969310505,
          0.10196257565623112,
          0.7259375301717786,
          0.06459257051947714,
          0.42502510009341105,
          0.4831518507614795,
          0.0544520786808776,
          0.11864961818552869,
          0.025256651781237992,
          0.11800089491878707,
          0.2537934429003207,
          0.6378835388685221,
          0.4493569799303497,
          0.028940042020941012,
          0.22645001347549135,
          0.18339560633032728,
          0.0463424617555938,
          0.1555023737437352,
          0.11680300822254244,
          0.06786887326472016,
          0.11150037129623641,
          0.520064973450683
         ],
         "zmax": 4,
         "zmin": 0
        },
        {
         "colorbar": {
          "title": {
           "text": "Unique sequence reports per 100,000"
          }
         },
         "locationmode": "USA-states",
         "locations": [
          "AK",
          "AL",
          "AR",
          "AZ",
          "CA",
          "CO",
          "CT",
          "DC",
          "DE",
          "FL",
          "GA",
          "HI",
          "IA",
          "ID",
          "IL",
          "IN",
          "KS",
          "KY",
          "LA",
          "MA",
          "MD",
          "ME",
          "MI",
          "MN",
          "MO",
          "MS",
          "MT",
          "NC",
          "ND",
          "NE",
          "NH",
          "NJ",
          "NM",
          "NV",
          "NY",
          "OH",
          "OK",
          "OR",
          "PA",
          "PR",
          "RI",
          "SC",
          "SD",
          "TN",
          "TX",
          "UT",
          "VA",
          "VT",
          "WA",
          "WI",
          "WV",
          "WY"
         ],
         "type": "choropleth",
         "z": [
          0.5454116562652118,
          0.11942011978236082,
          0.09961733660432391,
          0.1817799953072795,
          0.18716066222804198,
          0.034639748349156195,
          0.4714438160991962,
          null,
          0.505077034349279,
          0.2832178957309638,
          0.1960435059748459,
          0.0687157237380529,
          0.2194103566076526,
          0.21749697951069702,
          0.28878030749327144,
          0.22105870022200186,
          0.03403814995847346,
          0.0665803193902308,
          0.1717564913755698,
          0.725470869712971,
          0.21045051952139018,
          0.587216732153566,
          0.2976978725815397,
          0.47314515707893495,
          0.09748310008606134,
          0.23638434608829495,
          0.27669533537780444,
          0.19158211190157892,
          0.12835421656436838,
          0.15294386348434671,
          0.7985312831889564,
          0.3337282810172985,
          0.5194751223363913,
          0.19326074030459184,
          0.11880453530373296,
          0.19492437273336854,
          0.050513303562475985,
          0.047200357967514824,
          0.43067978189145334,
          0.09129990985655567,
          0.9112621983836031,
          0.3321334199485193,
          0.22556382497600563,
          0.1591702311151756,
          0.16812197970150114,
          0.12226373755355151,
          0.0463424617555938,
          0.3110047474874704,
          0.012978112024726937,
          0.1187705282132603,
          0.27875092824059106,
          0.1733549911502277
         ],
         "zmax": 4,
         "zmin": 0
        },
        {
         "colorbar": {
          "title": {
           "text": "Unique sequence reports per 100,000"
          }
         },
         "locationmode": "USA-states",
         "locations": [
          "AK",
          "AL",
          "AR",
          "AZ",
          "CA",
          "CO",
          "CT",
          "DC",
          "DE",
          "FL",
          "GA",
          "HI",
          "IA",
          "ID",
          "IL",
          "IN",
          "KS",
          "KY",
          "LA",
          "MA",
          "MD",
          "ME",
          "MI",
          "MN",
          "MO",
          "MT",
          "NC",
          "ND",
          "NE",
          "NH",
          "NJ",
          "NM",
          "NV",
          "NY",
          "OH",
          "OK",
          "OR",
          "PA",
          "PR",
          "RI",
          "SC",
          "SD",
          "TN",
          "TX",
          "UT",
          "VA",
          "VT",
          "WA",
          "WI",
          "WV",
          "WY"
         ],
         "type": "choropleth",
         "z": [
          3.545175765723877,
          0.019903353297060136,
          0.09961733660432391,
          0.1817799953072795,
          0.2377446249923776,
          0.46763660271360863,
          0.8042276862868641,
          null,
          0.20203081373971157,
          0.6685799505780129,
          0.18670810092842471,
          0.20614717121415874,
          0.09403300997470826,
          0.21749697951069702,
          0.6243898540395058,
          0.5452781272142713,
          0.13615259983389383,
          0.1331606387804616,
          0.12881736853167738,
          1.3371423873141033,
          0.2752045255279718,
          0.8074230067111532,
          0.8236307808089265,
          1.57715052359645,
          0.146224650129092,
          0.27669533537780444,
          0.4214806461834736,
          0.25670843312873676,
          0.10196257565623112,
          1.3792813073263792,
          1.1626662693505885,
          0.6139251445793715,
          0.2898911104568877,
          0.3217622831142768,
          0.4491735545595015,
          0.050513303562475985,
          0.5192039376426631,
          1.045936613164958,
          0.24346642628414844,
          3.280543914180971,
          0.09768629998485863,
          0.3383457374640085,
          0.14470021010470507,
          0.2367431959061955,
          0.1528296719419394,
          0.1390273852667814,
          0.6220094949749408,
          0.1038248961978155,
          0.35631158463978085,
          0.3345011138887093,
          0.520064973450683
         ],
         "zmax": 4,
         "zmin": 0
        },
        {
         "colorbar": {
          "title": {
           "text": "Unique sequence reports per 100,000"
          }
         },
         "locationmode": "USA-states",
         "locations": [
          "AK",
          "AL",
          "AR",
          "AZ",
          "CA",
          "CO",
          "CT",
          "DC",
          "FL",
          "GA",
          "HI",
          "IA",
          "ID",
          "IL",
          "IN",
          "KS",
          "KY",
          "LA",
          "MA",
          "MD",
          "ME",
          "MI",
          "MN",
          "MO",
          "MT",
          "NC",
          "ND",
          "NE",
          "NH",
          "NJ",
          "NM",
          "NV",
          "NY",
          "OH",
          "OK",
          "OR",
          "PA",
          "PR",
          "RI",
          "SC",
          "TN",
          "TX",
          "UT",
          "VA",
          "VT",
          "WA",
          "WI",
          "WV"
         ],
         "type": "choropleth",
         "z": [
          1.4998820547293326,
          0.03980670659412027,
          0.03320577886810797,
          0.27966153124196846,
          0.12645990691083916,
          0.43299685436445245,
          0.4714438160991962,
          null,
          0.4178624691112581,
          0.05601243027852741,
          0.0687157237380529,
          0.031344336658236084,
          0.1631227346330228,
          0.3121949270197529,
          0.2505331935849355,
          0.06807629991694691,
          0.0887737591869744,
          0.23616517564140851,
          0.8677200598527692,
          0.14569651351480858,
          1.0276292812687404,
          0.12900241145200053,
          0.7710513670915977,
          0.04874155004303067,
          0.27669533537780444,
          0.34484780142284205,
          0.38506264969310505,
          0.05098128782811556,
          0.7985312831889564,
          0.34449370943721136,
          0.4722501112149012,
          0.032210123384098635,
          0.1089041573617552,
          0.1610244818232175,
          0.025256651781237992,
          0.2596019688213316,
          0.4076076507186969,
          0.09129990985655567,
          1.184640857898684,
          0.1562980799757738,
          0.057880084041882024,
          0.0995007634968068,
          0.030565934388387877,
          0.2201266933390705,
          0.4665071212312056,
          0.15573734429672326,
          0.15270496484562038,
          0.6132520421293003
         ],
         "zmax": 4,
         "zmin": 0
        },
        {
         "colorbar": {
          "title": {
           "text": "Unique sequence reports per 100,000"
          }
         },
         "locationmode": "USA-states",
         "locations": [
          "AK",
          "AL",
          "AR",
          "AZ",
          "CA",
          "CO",
          "CT",
          "FL",
          "GA",
          "HI",
          "IA",
          "ID",
          "IL",
          "IN",
          "KY",
          "LA",
          "MA",
          "MD",
          "ME",
          "MI",
          "MN",
          "MO",
          "MS",
          "MT",
          "NC",
          "ND",
          "NE",
          "NH",
          "NJ",
          "NM",
          "NV",
          "NY",
          "OH",
          "OK",
          "OR",
          "PA",
          "PR",
          "RI",
          "SC",
          "SD",
          "TN",
          "TX",
          "UT",
          "VA",
          "WA",
          "WI",
          "WV",
          "WY"
         ],
         "type": "choropleth",
         "z": [
          0.8181174843978178,
          0.09951676648530067,
          0.09961733660432391,
          0.11186461249678738,
          0.09863872739045455,
          0.8486738345543268,
          0.11092795672922263,
          0.38536205484704905,
          0.14936648074273978,
          0.0687157237380529,
          0.09403300997470826,
          0.5437424487767426,
          0.218536448913827,
          0.10316072677026754,
          0.0887737591869744,
          0.25763473706335477,
          0.1706990281677579,
          0.3075815285312626,
          0.5138146406343702,
          0.019846524838769312,
          0.7184796829717162,
          0.17871901682444577,
          0.2026151537899671,
          0.5533906707556089,
          0.2490567454720526,
          0.12835421656436838,
          0.05098128782811556,
          0.2177812590515336,
          0.15071599787877998,
          0.5194751223363913,
          0.16105061692049316,
          0.03465132279692211,
          0.17797442727829302,
          0.025256651781237992,
          0.401203042723876,
          0.19226775977297023,
          0.12173321314207422,
          0.7290097587068824,
          0.37120793994246276,
          0.11278191248800282,
          0.20258029414658713,
          0.17155304051173587,
          0.12226373755355151,
          0.5908663873838209,
          0.18169356834617714,
          0.050901654948540126,
          0.8920029703698913,
          0.3467099823004554
         ],
         "zmax": 4,
         "zmin": 0
        },
        {
         "colorbar": {
          "title": {
           "text": "Unique sequence reports per 100,000"
          }
         },
         "locationmode": "USA-states",
         "locations": [
          "AK",
          "AL",
          "AR",
          "AZ",
          "CA",
          "CO",
          "CT",
          "DE",
          "FL",
          "GA",
          "GU",
          "HI",
          "ID",
          "IL",
          "IN",
          "KS",
          "KY",
          "LA",
          "MA",
          "MD",
          "MI",
          "MN",
          "MO",
          "MS",
          "NC",
          "ND",
          "NE",
          "NH",
          "NJ",
          "NM",
          "NV",
          "NY",
          "OH",
          "OK",
          "OR",
          "PA",
          "PR",
          "RI",
          "SC",
          "SD",
          "TN",
          "TX",
          "UT",
          "VA",
          "WA",
          "WI",
          "WV"
         ],
         "type": "choropleth",
         "z": [
          0.6817645703315148,
          0.2786469461588419,
          0.3320577886810797,
          0.15381384218308267,
          0.21498184174842655,
          0.3983571060152962,
          0.08319596754691698,
          0.10101540686985579,
          0.6871516158718466,
          0.25205593625337336,
          null,
          0.1374314474761058,
          0.10874848975534851,
          0.08585360493043204,
          0.05894898672586717,
          0.10211444987542037,
          0.11096719898371801,
          2.061077896506838,
          0.08534951408387895,
          0.4532780420460712,
          0.039693049677538624,
          0.10514336823976332,
          0.06498873339070756,
          0.2026151537899671,
          0.44063885737363145,
          0.25670843312873676,
          0.10196257565623112,
          0.1451875060343557,
          0.16148142629869283,
          0.42502510009341105,
          0.4509417273773809,
          0.019800755883955492,
          0.059324809092764344,
          0.050513303562475985,
          0.401203042723876,
          0.0922885246910257,
          0.030433303285518555,
          0.3645048793534412,
          0.19537259996971726,
          0.11278191248800282,
          0.2315203361675281,
          0.2367431959061955,
          0.18339560633032728,
          0.0695136926333907,
          0.2984965765687196,
          0.06786887326472016,
          0.39025129953682747
         ],
         "zmax": 4,
         "zmin": 0
        }
       ],
       "layout": {
        "geo": {
         "projection": {
          "type": "albers usa"
         },
         "scope": "usa"
        },
        "sliders": [
         {
          "active": 0,
          "pad": {
           "t": 1
          },
          "steps": [
           {
            "args": [
             "visible",
             [
              true,
              false,
              false,
              false,
              false,
              false,
              false,
              false,
              false,
              false,
              false
             ]
            ],
            "label": "Timespan 1",
            "method": "restyle"
           },
           {
            "args": [
             "visible",
             [
              false,
              true,
              false,
              false,
              false,
              false,
              false,
              false,
              false,
              false,
              false
             ]
            ],
            "label": "Timespan 2",
            "method": "restyle"
           },
           {
            "args": [
             "visible",
             [
              false,
              false,
              true,
              false,
              false,
              false,
              false,
              false,
              false,
              false,
              false
             ]
            ],
            "label": "Timespan 3",
            "method": "restyle"
           },
           {
            "args": [
             "visible",
             [
              false,
              false,
              false,
              true,
              false,
              false,
              false,
              false,
              false,
              false,
              false
             ]
            ],
            "label": "Timespan 4",
            "method": "restyle"
           },
           {
            "args": [
             "visible",
             [
              false,
              false,
              false,
              false,
              true,
              false,
              false,
              false,
              false,
              false,
              false
             ]
            ],
            "label": "Timespan 5",
            "method": "restyle"
           },
           {
            "args": [
             "visible",
             [
              false,
              false,
              false,
              false,
              false,
              true,
              false,
              false,
              false,
              false,
              false
             ]
            ],
            "label": "Timespan 6",
            "method": "restyle"
           },
           {
            "args": [
             "visible",
             [
              false,
              false,
              false,
              false,
              false,
              false,
              true,
              false,
              false,
              false,
              false
             ]
            ],
            "label": "Timespan 7",
            "method": "restyle"
           },
           {
            "args": [
             "visible",
             [
              false,
              false,
              false,
              false,
              false,
              false,
              false,
              true,
              false,
              false,
              false
             ]
            ],
            "label": "Timespan 8",
            "method": "restyle"
           },
           {
            "args": [
             "visible",
             [
              false,
              false,
              false,
              false,
              false,
              false,
              false,
              false,
              true,
              false,
              false
             ]
            ],
            "label": "Timespan 9",
            "method": "restyle"
           },
           {
            "args": [
             "visible",
             [
              false,
              false,
              false,
              false,
              false,
              false,
              false,
              false,
              false,
              true,
              false
             ]
            ],
            "label": "Timespan 10",
            "method": "restyle"
           },
           {
            "args": [
             "visible",
             [
              false,
              false,
              false,
              false,
              false,
              false,
              false,
              false,
              false,
              false,
              true
             ]
            ],
            "label": "Timespan 11",
            "method": "restyle"
           }
          ]
         }
        ],
        "template": {
         "data": {
          "bar": [
           {
            "error_x": {
             "color": "#2a3f5f"
            },
            "error_y": {
             "color": "#2a3f5f"
            },
            "marker": {
             "line": {
              "color": "#E5ECF6",
              "width": 0.5
             },
             "pattern": {
              "fillmode": "overlay",
              "size": 10,
              "solidity": 0.2
             }
            },
            "type": "bar"
           }
          ],
          "barpolar": [
           {
            "marker": {
             "line": {
              "color": "#E5ECF6",
              "width": 0.5
             },
             "pattern": {
              "fillmode": "overlay",
              "size": 10,
              "solidity": 0.2
             }
            },
            "type": "barpolar"
           }
          ],
          "carpet": [
           {
            "aaxis": {
             "endlinecolor": "#2a3f5f",
             "gridcolor": "white",
             "linecolor": "white",
             "minorgridcolor": "white",
             "startlinecolor": "#2a3f5f"
            },
            "baxis": {
             "endlinecolor": "#2a3f5f",
             "gridcolor": "white",
             "linecolor": "white",
             "minorgridcolor": "white",
             "startlinecolor": "#2a3f5f"
            },
            "type": "carpet"
           }
          ],
          "choropleth": [
           {
            "colorbar": {
             "outlinewidth": 0,
             "ticks": ""
            },
            "type": "choropleth"
           }
          ],
          "contour": [
           {
            "colorbar": {
             "outlinewidth": 0,
             "ticks": ""
            },
            "colorscale": [
             [
              0,
              "#0d0887"
             ],
             [
              0.1111111111111111,
              "#46039f"
             ],
             [
              0.2222222222222222,
              "#7201a8"
             ],
             [
              0.3333333333333333,
              "#9c179e"
             ],
             [
              0.4444444444444444,
              "#bd3786"
             ],
             [
              0.5555555555555556,
              "#d8576b"
             ],
             [
              0.6666666666666666,
              "#ed7953"
             ],
             [
              0.7777777777777778,
              "#fb9f3a"
             ],
             [
              0.8888888888888888,
              "#fdca26"
             ],
             [
              1,
              "#f0f921"
             ]
            ],
            "type": "contour"
           }
          ],
          "contourcarpet": [
           {
            "colorbar": {
             "outlinewidth": 0,
             "ticks": ""
            },
            "type": "contourcarpet"
           }
          ],
          "heatmap": [
           {
            "colorbar": {
             "outlinewidth": 0,
             "ticks": ""
            },
            "colorscale": [
             [
              0,
              "#0d0887"
             ],
             [
              0.1111111111111111,
              "#46039f"
             ],
             [
              0.2222222222222222,
              "#7201a8"
             ],
             [
              0.3333333333333333,
              "#9c179e"
             ],
             [
              0.4444444444444444,
              "#bd3786"
             ],
             [
              0.5555555555555556,
              "#d8576b"
             ],
             [
              0.6666666666666666,
              "#ed7953"
             ],
             [
              0.7777777777777778,
              "#fb9f3a"
             ],
             [
              0.8888888888888888,
              "#fdca26"
             ],
             [
              1,
              "#f0f921"
             ]
            ],
            "type": "heatmap"
           }
          ],
          "heatmapgl": [
           {
            "colorbar": {
             "outlinewidth": 0,
             "ticks": ""
            },
            "colorscale": [
             [
              0,
              "#0d0887"
             ],
             [
              0.1111111111111111,
              "#46039f"
             ],
             [
              0.2222222222222222,
              "#7201a8"
             ],
             [
              0.3333333333333333,
              "#9c179e"
             ],
             [
              0.4444444444444444,
              "#bd3786"
             ],
             [
              0.5555555555555556,
              "#d8576b"
             ],
             [
              0.6666666666666666,
              "#ed7953"
             ],
             [
              0.7777777777777778,
              "#fb9f3a"
             ],
             [
              0.8888888888888888,
              "#fdca26"
             ],
             [
              1,
              "#f0f921"
             ]
            ],
            "type": "heatmapgl"
           }
          ],
          "histogram": [
           {
            "marker": {
             "pattern": {
              "fillmode": "overlay",
              "size": 10,
              "solidity": 0.2
             }
            },
            "type": "histogram"
           }
          ],
          "histogram2d": [
           {
            "colorbar": {
             "outlinewidth": 0,
             "ticks": ""
            },
            "colorscale": [
             [
              0,
              "#0d0887"
             ],
             [
              0.1111111111111111,
              "#46039f"
             ],
             [
              0.2222222222222222,
              "#7201a8"
             ],
             [
              0.3333333333333333,
              "#9c179e"
             ],
             [
              0.4444444444444444,
              "#bd3786"
             ],
             [
              0.5555555555555556,
              "#d8576b"
             ],
             [
              0.6666666666666666,
              "#ed7953"
             ],
             [
              0.7777777777777778,
              "#fb9f3a"
             ],
             [
              0.8888888888888888,
              "#fdca26"
             ],
             [
              1,
              "#f0f921"
             ]
            ],
            "type": "histogram2d"
           }
          ],
          "histogram2dcontour": [
           {
            "colorbar": {
             "outlinewidth": 0,
             "ticks": ""
            },
            "colorscale": [
             [
              0,
              "#0d0887"
             ],
             [
              0.1111111111111111,
              "#46039f"
             ],
             [
              0.2222222222222222,
              "#7201a8"
             ],
             [
              0.3333333333333333,
              "#9c179e"
             ],
             [
              0.4444444444444444,
              "#bd3786"
             ],
             [
              0.5555555555555556,
              "#d8576b"
             ],
             [
              0.6666666666666666,
              "#ed7953"
             ],
             [
              0.7777777777777778,
              "#fb9f3a"
             ],
             [
              0.8888888888888888,
              "#fdca26"
             ],
             [
              1,
              "#f0f921"
             ]
            ],
            "type": "histogram2dcontour"
           }
          ],
          "mesh3d": [
           {
            "colorbar": {
             "outlinewidth": 0,
             "ticks": ""
            },
            "type": "mesh3d"
           }
          ],
          "parcoords": [
           {
            "line": {
             "colorbar": {
              "outlinewidth": 0,
              "ticks": ""
             }
            },
            "type": "parcoords"
           }
          ],
          "pie": [
           {
            "automargin": true,
            "type": "pie"
           }
          ],
          "scatter": [
           {
            "marker": {
             "colorbar": {
              "outlinewidth": 0,
              "ticks": ""
             }
            },
            "type": "scatter"
           }
          ],
          "scatter3d": [
           {
            "line": {
             "colorbar": {
              "outlinewidth": 0,
              "ticks": ""
             }
            },
            "marker": {
             "colorbar": {
              "outlinewidth": 0,
              "ticks": ""
             }
            },
            "type": "scatter3d"
           }
          ],
          "scattercarpet": [
           {
            "marker": {
             "colorbar": {
              "outlinewidth": 0,
              "ticks": ""
             }
            },
            "type": "scattercarpet"
           }
          ],
          "scattergeo": [
           {
            "marker": {
             "colorbar": {
              "outlinewidth": 0,
              "ticks": ""
             }
            },
            "type": "scattergeo"
           }
          ],
          "scattergl": [
           {
            "marker": {
             "colorbar": {
              "outlinewidth": 0,
              "ticks": ""
             }
            },
            "type": "scattergl"
           }
          ],
          "scattermapbox": [
           {
            "marker": {
             "colorbar": {
              "outlinewidth": 0,
              "ticks": ""
             }
            },
            "type": "scattermapbox"
           }
          ],
          "scatterpolar": [
           {
            "marker": {
             "colorbar": {
              "outlinewidth": 0,
              "ticks": ""
             }
            },
            "type": "scatterpolar"
           }
          ],
          "scatterpolargl": [
           {
            "marker": {
             "colorbar": {
              "outlinewidth": 0,
              "ticks": ""
             }
            },
            "type": "scatterpolargl"
           }
          ],
          "scatterternary": [
           {
            "marker": {
             "colorbar": {
              "outlinewidth": 0,
              "ticks": ""
             }
            },
            "type": "scatterternary"
           }
          ],
          "surface": [
           {
            "colorbar": {
             "outlinewidth": 0,
             "ticks": ""
            },
            "colorscale": [
             [
              0,
              "#0d0887"
             ],
             [
              0.1111111111111111,
              "#46039f"
             ],
             [
              0.2222222222222222,
              "#7201a8"
             ],
             [
              0.3333333333333333,
              "#9c179e"
             ],
             [
              0.4444444444444444,
              "#bd3786"
             ],
             [
              0.5555555555555556,
              "#d8576b"
             ],
             [
              0.6666666666666666,
              "#ed7953"
             ],
             [
              0.7777777777777778,
              "#fb9f3a"
             ],
             [
              0.8888888888888888,
              "#fdca26"
             ],
             [
              1,
              "#f0f921"
             ]
            ],
            "type": "surface"
           }
          ],
          "table": [
           {
            "cells": {
             "fill": {
              "color": "#EBF0F8"
             },
             "line": {
              "color": "white"
             }
            },
            "header": {
             "fill": {
              "color": "#C8D4E3"
             },
             "line": {
              "color": "white"
             }
            },
            "type": "table"
           }
          ]
         },
         "layout": {
          "annotationdefaults": {
           "arrowcolor": "#2a3f5f",
           "arrowhead": 0,
           "arrowwidth": 1
          },
          "autotypenumbers": "strict",
          "coloraxis": {
           "colorbar": {
            "outlinewidth": 0,
            "ticks": ""
           }
          },
          "colorscale": {
           "diverging": [
            [
             0,
             "#8e0152"
            ],
            [
             0.1,
             "#c51b7d"
            ],
            [
             0.2,
             "#de77ae"
            ],
            [
             0.3,
             "#f1b6da"
            ],
            [
             0.4,
             "#fde0ef"
            ],
            [
             0.5,
             "#f7f7f7"
            ],
            [
             0.6,
             "#e6f5d0"
            ],
            [
             0.7,
             "#b8e186"
            ],
            [
             0.8,
             "#7fbc41"
            ],
            [
             0.9,
             "#4d9221"
            ],
            [
             1,
             "#276419"
            ]
           ],
           "sequential": [
            [
             0,
             "#0d0887"
            ],
            [
             0.1111111111111111,
             "#46039f"
            ],
            [
             0.2222222222222222,
             "#7201a8"
            ],
            [
             0.3333333333333333,
             "#9c179e"
            ],
            [
             0.4444444444444444,
             "#bd3786"
            ],
            [
             0.5555555555555556,
             "#d8576b"
            ],
            [
             0.6666666666666666,
             "#ed7953"
            ],
            [
             0.7777777777777778,
             "#fb9f3a"
            ],
            [
             0.8888888888888888,
             "#fdca26"
            ],
            [
             1,
             "#f0f921"
            ]
           ],
           "sequentialminus": [
            [
             0,
             "#0d0887"
            ],
            [
             0.1111111111111111,
             "#46039f"
            ],
            [
             0.2222222222222222,
             "#7201a8"
            ],
            [
             0.3333333333333333,
             "#9c179e"
            ],
            [
             0.4444444444444444,
             "#bd3786"
            ],
            [
             0.5555555555555556,
             "#d8576b"
            ],
            [
             0.6666666666666666,
             "#ed7953"
            ],
            [
             0.7777777777777778,
             "#fb9f3a"
            ],
            [
             0.8888888888888888,
             "#fdca26"
            ],
            [
             1,
             "#f0f921"
            ]
           ]
          },
          "colorway": [
           "#636efa",
           "#EF553B",
           "#00cc96",
           "#ab63fa",
           "#FFA15A",
           "#19d3f3",
           "#FF6692",
           "#B6E880",
           "#FF97FF",
           "#FECB52"
          ],
          "font": {
           "color": "#2a3f5f"
          },
          "geo": {
           "bgcolor": "white",
           "lakecolor": "white",
           "landcolor": "#E5ECF6",
           "showlakes": true,
           "showland": true,
           "subunitcolor": "white"
          },
          "hoverlabel": {
           "align": "left"
          },
          "hovermode": "closest",
          "mapbox": {
           "style": "light"
          },
          "paper_bgcolor": "white",
          "plot_bgcolor": "#E5ECF6",
          "polar": {
           "angularaxis": {
            "gridcolor": "white",
            "linecolor": "white",
            "ticks": ""
           },
           "bgcolor": "#E5ECF6",
           "radialaxis": {
            "gridcolor": "white",
            "linecolor": "white",
            "ticks": ""
           }
          },
          "scene": {
           "xaxis": {
            "backgroundcolor": "#E5ECF6",
            "gridcolor": "white",
            "gridwidth": 2,
            "linecolor": "white",
            "showbackground": true,
            "ticks": "",
            "zerolinecolor": "white"
           },
           "yaxis": {
            "backgroundcolor": "#E5ECF6",
            "gridcolor": "white",
            "gridwidth": 2,
            "linecolor": "white",
            "showbackground": true,
            "ticks": "",
            "zerolinecolor": "white"
           },
           "zaxis": {
            "backgroundcolor": "#E5ECF6",
            "gridcolor": "white",
            "gridwidth": 2,
            "linecolor": "white",
            "showbackground": true,
            "ticks": "",
            "zerolinecolor": "white"
           }
          },
          "shapedefaults": {
           "line": {
            "color": "#2a3f5f"
           }
          },
          "ternary": {
           "aaxis": {
            "gridcolor": "white",
            "linecolor": "white",
            "ticks": ""
           },
           "baxis": {
            "gridcolor": "white",
            "linecolor": "white",
            "ticks": ""
           },
           "bgcolor": "#E5ECF6",
           "caxis": {
            "gridcolor": "white",
            "linecolor": "white",
            "ticks": ""
           }
          },
          "title": {
           "x": 0.05
          },
          "xaxis": {
           "automargin": true,
           "gridcolor": "white",
           "linecolor": "white",
           "ticks": "",
           "title": {
            "standoff": 15
           },
           "zerolinecolor": "white",
           "zerolinewidth": 2
          },
          "yaxis": {
           "automargin": true,
           "gridcolor": "white",
           "linecolor": "white",
           "ticks": "",
           "title": {
            "standoff": 15
           },
           "zerolinecolor": "white",
           "zerolinewidth": 2
          }
         }
        },
        "title": {
         "text": "Unique sequences reported per 100,000 people by state and timeperiod"
        }
       }
      },
      "text/html": [
       "<div>                            <div id=\"149ba048-ca46-4fcc-819a-6d05772e92e8\" class=\"plotly-graph-div\" style=\"height:525px; width:100%;\"></div>            <script type=\"text/javascript\">                require([\"plotly\"], function(Plotly) {                    window.PLOTLYENV=window.PLOTLYENV || {};                                    if (document.getElementById(\"149ba048-ca46-4fcc-819a-6d05772e92e8\")) {                    Plotly.newPlot(                        \"149ba048-ca46-4fcc-819a-6d05772e92e8\",                        [{\"colorbar\":{\"title\":{\"text\":\"Unique sequence reports per 100,000\"}},\"locationmode\":\"USA-states\",\"locations\":[\"AZ\",\"CA\",\"CO\",\"CT\",\"FL\",\"GA\",\"IA\",\"ID\",\"IN\",\"LA\",\"MA\",\"MD\",\"ME\",\"MI\",\"MN\",\"NV\",\"NY\",\"PA\",\"TX\",\"UT\",\"VA\",\"WA\",\"WI\"],\"z\":[0.027966153124196844,0.06322995345541958,0.017319874174578097,0.05546397836461132,0.01392874897037527,0.018670810092842473,0.031344336658236084,0.054374244877674255,0.014737246681466792,0.021469561421946226,0.07112459506989911,0.0323770030032908,0.293608366076783,0.07938609935507725,0.12266726294639055,0.032210123384098635,0.07920302353582197,0.007690710390918809,0.003431060810234717,0.33622527827226667,0.05792807719449224,0.3763652487170812,0.0848360915809002],\"zmax\":4,\"zmin\":0,\"type\":\"choropleth\"},{\"colorbar\":{\"title\":{\"text\":\"Unique sequence reports per 100,000\"}},\"locationmode\":\"USA-states\",\"locations\":[\"AK\",\"CA\",\"CT\",\"FL\",\"ID\",\"IL\",\"LA\",\"MA\",\"MD\",\"ME\",\"MI\",\"MN\",\"ND\",\"NM\",\"NY\",\"PA\",\"PR\",\"TN\",\"TX\",\"UT\",\"VA\",\"WA\",\"WI\",\"WY\"],\"z\":[0.4090587421989089,0.14922269015479023,0.05546397836461132,0.08357249382225161,0.054374244877674255,0.015609746350987644,0.19322605279751603,0.45519740844735435,0.04856550450493619,0.07340209151919574,0.09923262419384657,0.26285842059940834,0.12835421656436838,0.04722501112149012,0.009900377941977746,0.038453551954594045,0.030433303285518555,0.014470021010470506,0.003431060810234717,0.030565934388387877,0.2201266933390705,0.6618837132610739,0.13573774652944032,0.1733549911502277],\"zmax\":4,\"zmin\":0,\"type\":\"choropleth\"},{\"colorbar\":{\"title\":{\"text\":\"Unique sequence reports per 100,000\"}},\"locationmode\":\"USA-states\",\"locations\":[\"AK\",\"AL\",\"AR\",\"CA\",\"FL\",\"GA\",\"IL\",\"KY\",\"LA\",\"MA\",\"MD\",\"MN\",\"NC\",\"NJ\",\"NM\",\"NV\",\"NY\",\"OH\",\"PA\",\"SC\",\"TX\",\"UT\",\"VA\",\"WA\",\"WI\"],\"z\":[0.2727058281326059,0.019903353297060136,0.03320577886810797,0.3313249561063986,0.24143164881983797,0.028006215139263706,0.007804873175493822,0.0221934397967436,0.021469561421946226,0.3840728133774552,0.242827522524681,0.38552568354579886,0.03831642238031578,0.010765428419912855,1.227850289158743,0.06442024676819727,0.004950188970988873,0.016949945455075527,0.023072131172756426,0.23444711996366072,0.13038031078891926,0.12226373755355151,0.7183081572117038,1.1810081942501514,0.9162297890737222],\"zmax\":4,\"zmin\":0,\"type\":\"choropleth\"},{\"colorbar\":{\"title\":{\"text\":\"Unique sequence reports per 100,000\"}},\"locationmode\":\"USA-states\",\"locations\":[\"AK\",\"AL\",\"AZ\",\"CA\",\"CO\",\"CT\",\"DE\",\"FL\",\"GA\",\"GU\",\"HI\",\"IA\",\"ID\",\"IL\",\"IN\",\"KS\",\"KY\",\"LA\",\"MA\",\"MD\",\"MI\",\"MN\",\"MO\",\"MS\",\"MT\",\"NC\",\"ND\",\"NE\",\"NH\",\"NJ\",\"NM\",\"NV\",\"NY\",\"OH\",\"OK\",\"OR\",\"PA\",\"RI\",\"SC\",\"SD\",\"TN\",\"TX\",\"UT\",\"VA\",\"VT\",\"WA\",\"WI\",\"WV\",\"WY\"],\"z\":[1.0908233125304236,2.0699487428942542,0.027966153124196844,0.47043085370832166,0.08659937087289049,0.11092795672922263,0.10101540686985579,0.18571665293833692,0.09335405046421236,null,0.0687157237380529,0.06268867331647217,0.1631227346330228,0.03902436587746911,0.14737246681466792,0.17019074979236729,0.0443868795934872,0.0858782456877849,0.6970210316850114,0.9551215885970786,0.009923262419384656,0.9462903141578699,0.06498873339070756,0.1350767691933114,0.27669533537780444,0.04789552797539473,0.6417710828218418,0.2549064391405778,0.07259375301717785,0.03229628525973857,2.455700578317486,0.2576809870727891,0.024750944854944362,0.04237486363768882,0.12628325890619,0.21240161085381673,0.061525683127350475,0.0911262198383603,0.05861177999091518,0.45112764995201127,0.07235010505235254,0.03431060810234717,0.030565934388387877,1.2164896210843372,0.1555023737437352,0.3114746885934465,0.6617215143310216,0.27875092824059106,0.520064973450683],\"zmax\":4,\"zmin\":0,\"type\":\"choropleth\"},{\"colorbar\":{\"title\":{\"text\":\"Unique sequence reports per 100,000\"}},\"locationmode\":\"USA-states\",\"locations\":[\"AK\",\"AL\",\"AR\",\"AZ\",\"CA\",\"CO\",\"CT\",\"DE\",\"FL\",\"GA\",\"GU\",\"HI\",\"IA\",\"ID\",\"IL\",\"IN\",\"KS\",\"KY\",\"LA\",\"MA\",\"MD\",\"ME\",\"MI\",\"MN\",\"MO\",\"MS\",\"MT\",\"NC\",\"ND\",\"NE\",\"NH\",\"NJ\",\"NM\",\"NV\",\"NY\",\"OH\",\"OK\",\"OR\",\"PA\",\"PR\",\"RI\",\"SC\",\"SD\",\"TN\",\"TX\",\"UT\",\"VA\",\"VT\",\"WA\",\"WI\",\"WV\",\"WY\"],\"z\":[1.4998820547293326,0.736424071991225,0.39846934641729564,0.33559383749036215,0.7182922712535664,0.13855899339662478,0.6655677403753358,0.505077034349279,0.3250041426420896,0.5227826825995892,null,0.20614717121415874,0.1567216832911804,0.10874848975534851,0.10146335128141969,0.353693920355203,0.374419649543208,0.4216753561381284,0.279104298485301,1.1095436830904264,0.9065560840921424,0.7340209151919574,0.10915588661323122,0.8586708406247339,0.3086964836058609,0.2026151537899671,0.8300860061334133,0.3640060126129999,0.8984795159505784,0.20392515131246225,0.3629687650858893,0.1291851410389543,2.077900489345565,0.4831518507614795,0.10395396839076634,0.2118743181884441,0.17679656246866596,0.09440071593502965,0.2691748636821583,0.06086660657103711,1.184640857898684,0.429819719933378,0.11278191248800282,0.20258029414658713,0.22645001347549135,0.3056593438838788,0.8225786961617899,0.3110047474874704,0.28551846454399266,0.3223771480074208,0.6132520421293003,1.3868399292018216],\"zmax\":4,\"zmin\":0,\"type\":\"choropleth\"},{\"colorbar\":{\"title\":{\"text\":\"Unique sequence reports per 100,000\"}},\"locationmode\":\"USA-states\",\"locations\":[\"AK\",\"AL\",\"AR\",\"AZ\",\"CA\",\"CO\",\"CT\",\"DC\",\"FL\",\"GA\",\"HI\",\"IA\",\"ID\",\"IL\",\"IN\",\"KS\",\"KY\",\"LA\",\"MA\",\"MD\",\"ME\",\"MI\",\"MN\",\"MO\",\"MS\",\"MT\",\"NC\",\"ND\",\"NE\",\"NH\",\"NJ\",\"NM\",\"NV\",\"NY\",\"OH\",\"OK\",\"OR\",\"PA\",\"RI\",\"SC\",\"TN\",\"TX\",\"UT\",\"VA\",\"VT\",\"WA\",\"WI\",\"WV\",\"WY\"],\"z\":[0.8181174843978178,0.17913017967354122,0.3652635675491877,0.22372922499357475,0.1972774547809091,0.13855899339662478,0.49917580528150185,null,0.4596487160223839,0.29873296148547956,0.20614717121415874,0.031344336658236084,0.10874848975534851,0.11707309763240734,0.13263522013320114,0.03403814995847346,0.0887737591869744,0.23616517564140851,0.5263220035172534,0.1133195105115178,0.6606188236727617,0.12900241145200053,0.3680017888391716,0.2762021169105071,0.1350767691933114,0.09223177845926814,0.17242390071142102,0.38506264969310505,0.10196257565623112,0.7259375301717786,0.06459257051947714,0.42502510009341105,0.4831518507614795,0.0544520786808776,0.11864961818552869,0.025256651781237992,0.11800089491878707,0.2537934429003207,0.6378835388685221,0.4493569799303497,0.028940042020941012,0.22645001347549135,0.18339560633032728,0.0463424617555938,0.1555023737437352,0.11680300822254244,0.06786887326472016,0.11150037129623641,0.520064973450683],\"zmax\":4,\"zmin\":0,\"type\":\"choropleth\"},{\"colorbar\":{\"title\":{\"text\":\"Unique sequence reports per 100,000\"}},\"locationmode\":\"USA-states\",\"locations\":[\"AK\",\"AL\",\"AR\",\"AZ\",\"CA\",\"CO\",\"CT\",\"DC\",\"DE\",\"FL\",\"GA\",\"HI\",\"IA\",\"ID\",\"IL\",\"IN\",\"KS\",\"KY\",\"LA\",\"MA\",\"MD\",\"ME\",\"MI\",\"MN\",\"MO\",\"MS\",\"MT\",\"NC\",\"ND\",\"NE\",\"NH\",\"NJ\",\"NM\",\"NV\",\"NY\",\"OH\",\"OK\",\"OR\",\"PA\",\"PR\",\"RI\",\"SC\",\"SD\",\"TN\",\"TX\",\"UT\",\"VA\",\"VT\",\"WA\",\"WI\",\"WV\",\"WY\"],\"z\":[0.5454116562652118,0.11942011978236082,0.09961733660432391,0.1817799953072795,0.18716066222804198,0.034639748349156195,0.4714438160991962,null,0.505077034349279,0.2832178957309638,0.1960435059748459,0.0687157237380529,0.2194103566076526,0.21749697951069702,0.28878030749327144,0.22105870022200186,0.03403814995847346,0.0665803193902308,0.1717564913755698,0.725470869712971,0.21045051952139018,0.587216732153566,0.2976978725815397,0.47314515707893495,0.09748310008606134,0.23638434608829495,0.27669533537780444,0.19158211190157892,0.12835421656436838,0.15294386348434671,0.7985312831889564,0.3337282810172985,0.5194751223363913,0.19326074030459184,0.11880453530373296,0.19492437273336854,0.050513303562475985,0.047200357967514824,0.43067978189145334,0.09129990985655567,0.9112621983836031,0.3321334199485193,0.22556382497600563,0.1591702311151756,0.16812197970150114,0.12226373755355151,0.0463424617555938,0.3110047474874704,0.012978112024726937,0.1187705282132603,0.27875092824059106,0.1733549911502277],\"zmax\":4,\"zmin\":0,\"type\":\"choropleth\"},{\"colorbar\":{\"title\":{\"text\":\"Unique sequence reports per 100,000\"}},\"locationmode\":\"USA-states\",\"locations\":[\"AK\",\"AL\",\"AR\",\"AZ\",\"CA\",\"CO\",\"CT\",\"DC\",\"DE\",\"FL\",\"GA\",\"HI\",\"IA\",\"ID\",\"IL\",\"IN\",\"KS\",\"KY\",\"LA\",\"MA\",\"MD\",\"ME\",\"MI\",\"MN\",\"MO\",\"MT\",\"NC\",\"ND\",\"NE\",\"NH\",\"NJ\",\"NM\",\"NV\",\"NY\",\"OH\",\"OK\",\"OR\",\"PA\",\"PR\",\"RI\",\"SC\",\"SD\",\"TN\",\"TX\",\"UT\",\"VA\",\"VT\",\"WA\",\"WI\",\"WV\",\"WY\"],\"z\":[3.545175765723877,0.019903353297060136,0.09961733660432391,0.1817799953072795,0.2377446249923776,0.46763660271360863,0.8042276862868641,null,0.20203081373971157,0.6685799505780129,0.18670810092842471,0.20614717121415874,0.09403300997470826,0.21749697951069702,0.6243898540395058,0.5452781272142713,0.13615259983389383,0.1331606387804616,0.12881736853167738,1.3371423873141033,0.2752045255279718,0.8074230067111532,0.8236307808089265,1.57715052359645,0.146224650129092,0.27669533537780444,0.4214806461834736,0.25670843312873676,0.10196257565623112,1.3792813073263792,1.1626662693505885,0.6139251445793715,0.2898911104568877,0.3217622831142768,0.4491735545595015,0.050513303562475985,0.5192039376426631,1.045936613164958,0.24346642628414844,3.280543914180971,0.09768629998485863,0.3383457374640085,0.14470021010470507,0.2367431959061955,0.1528296719419394,0.1390273852667814,0.6220094949749408,0.1038248961978155,0.35631158463978085,0.3345011138887093,0.520064973450683],\"zmax\":4,\"zmin\":0,\"type\":\"choropleth\"},{\"colorbar\":{\"title\":{\"text\":\"Unique sequence reports per 100,000\"}},\"locationmode\":\"USA-states\",\"locations\":[\"AK\",\"AL\",\"AR\",\"AZ\",\"CA\",\"CO\",\"CT\",\"DC\",\"FL\",\"GA\",\"HI\",\"IA\",\"ID\",\"IL\",\"IN\",\"KS\",\"KY\",\"LA\",\"MA\",\"MD\",\"ME\",\"MI\",\"MN\",\"MO\",\"MT\",\"NC\",\"ND\",\"NE\",\"NH\",\"NJ\",\"NM\",\"NV\",\"NY\",\"OH\",\"OK\",\"OR\",\"PA\",\"PR\",\"RI\",\"SC\",\"TN\",\"TX\",\"UT\",\"VA\",\"VT\",\"WA\",\"WI\",\"WV\"],\"z\":[1.4998820547293326,0.03980670659412027,0.03320577886810797,0.27966153124196846,0.12645990691083916,0.43299685436445245,0.4714438160991962,null,0.4178624691112581,0.05601243027852741,0.0687157237380529,0.031344336658236084,0.1631227346330228,0.3121949270197529,0.2505331935849355,0.06807629991694691,0.0887737591869744,0.23616517564140851,0.8677200598527692,0.14569651351480858,1.0276292812687404,0.12900241145200053,0.7710513670915977,0.04874155004303067,0.27669533537780444,0.34484780142284205,0.38506264969310505,0.05098128782811556,0.7985312831889564,0.34449370943721136,0.4722501112149012,0.032210123384098635,0.1089041573617552,0.1610244818232175,0.025256651781237992,0.2596019688213316,0.4076076507186969,0.09129990985655567,1.184640857898684,0.1562980799757738,0.057880084041882024,0.0995007634968068,0.030565934388387877,0.2201266933390705,0.4665071212312056,0.15573734429672326,0.15270496484562038,0.6132520421293003],\"zmax\":4,\"zmin\":0,\"type\":\"choropleth\"},{\"colorbar\":{\"title\":{\"text\":\"Unique sequence reports per 100,000\"}},\"locationmode\":\"USA-states\",\"locations\":[\"AK\",\"AL\",\"AR\",\"AZ\",\"CA\",\"CO\",\"CT\",\"FL\",\"GA\",\"HI\",\"IA\",\"ID\",\"IL\",\"IN\",\"KY\",\"LA\",\"MA\",\"MD\",\"ME\",\"MI\",\"MN\",\"MO\",\"MS\",\"MT\",\"NC\",\"ND\",\"NE\",\"NH\",\"NJ\",\"NM\",\"NV\",\"NY\",\"OH\",\"OK\",\"OR\",\"PA\",\"PR\",\"RI\",\"SC\",\"SD\",\"TN\",\"TX\",\"UT\",\"VA\",\"WA\",\"WI\",\"WV\",\"WY\"],\"z\":[0.8181174843978178,0.09951676648530067,0.09961733660432391,0.11186461249678738,0.09863872739045455,0.8486738345543268,0.11092795672922263,0.38536205484704905,0.14936648074273978,0.0687157237380529,0.09403300997470826,0.5437424487767426,0.218536448913827,0.10316072677026754,0.0887737591869744,0.25763473706335477,0.1706990281677579,0.3075815285312626,0.5138146406343702,0.019846524838769312,0.7184796829717162,0.17871901682444577,0.2026151537899671,0.5533906707556089,0.2490567454720526,0.12835421656436838,0.05098128782811556,0.2177812590515336,0.15071599787877998,0.5194751223363913,0.16105061692049316,0.03465132279692211,0.17797442727829302,0.025256651781237992,0.401203042723876,0.19226775977297023,0.12173321314207422,0.7290097587068824,0.37120793994246276,0.11278191248800282,0.20258029414658713,0.17155304051173587,0.12226373755355151,0.5908663873838209,0.18169356834617714,0.050901654948540126,0.8920029703698913,0.3467099823004554],\"zmax\":4,\"zmin\":0,\"type\":\"choropleth\"},{\"colorbar\":{\"title\":{\"text\":\"Unique sequence reports per 100,000\"}},\"locationmode\":\"USA-states\",\"locations\":[\"AK\",\"AL\",\"AR\",\"AZ\",\"CA\",\"CO\",\"CT\",\"DE\",\"FL\",\"GA\",\"GU\",\"HI\",\"ID\",\"IL\",\"IN\",\"KS\",\"KY\",\"LA\",\"MA\",\"MD\",\"MI\",\"MN\",\"MO\",\"MS\",\"NC\",\"ND\",\"NE\",\"NH\",\"NJ\",\"NM\",\"NV\",\"NY\",\"OH\",\"OK\",\"OR\",\"PA\",\"PR\",\"RI\",\"SC\",\"SD\",\"TN\",\"TX\",\"UT\",\"VA\",\"WA\",\"WI\",\"WV\"],\"z\":[0.6817645703315148,0.2786469461588419,0.3320577886810797,0.15381384218308267,0.21498184174842655,0.3983571060152962,0.08319596754691698,0.10101540686985579,0.6871516158718466,0.25205593625337336,null,0.1374314474761058,0.10874848975534851,0.08585360493043204,0.05894898672586717,0.10211444987542037,0.11096719898371801,2.061077896506838,0.08534951408387895,0.4532780420460712,0.039693049677538624,0.10514336823976332,0.06498873339070756,0.2026151537899671,0.44063885737363145,0.25670843312873676,0.10196257565623112,0.1451875060343557,0.16148142629869283,0.42502510009341105,0.4509417273773809,0.019800755883955492,0.059324809092764344,0.050513303562475985,0.401203042723876,0.0922885246910257,0.030433303285518555,0.3645048793534412,0.19537259996971726,0.11278191248800282,0.2315203361675281,0.2367431959061955,0.18339560633032728,0.0695136926333907,0.2984965765687196,0.06786887326472016,0.39025129953682747],\"zmax\":4,\"zmin\":0,\"type\":\"choropleth\"}],                        {\"geo\":{\"projection\":{\"type\":\"albers usa\"},\"scope\":\"usa\"},\"sliders\":[{\"active\":0,\"pad\":{\"t\":1},\"steps\":[{\"args\":[\"visible\",[true,false,false,false,false,false,false,false,false,false,false]],\"label\":\"Timespan 1\",\"method\":\"restyle\"},{\"args\":[\"visible\",[false,true,false,false,false,false,false,false,false,false,false]],\"label\":\"Timespan 2\",\"method\":\"restyle\"},{\"args\":[\"visible\",[false,false,true,false,false,false,false,false,false,false,false]],\"label\":\"Timespan 3\",\"method\":\"restyle\"},{\"args\":[\"visible\",[false,false,false,true,false,false,false,false,false,false,false]],\"label\":\"Timespan 4\",\"method\":\"restyle\"},{\"args\":[\"visible\",[false,false,false,false,true,false,false,false,false,false,false]],\"label\":\"Timespan 5\",\"method\":\"restyle\"},{\"args\":[\"visible\",[false,false,false,false,false,true,false,false,false,false,false]],\"label\":\"Timespan 6\",\"method\":\"restyle\"},{\"args\":[\"visible\",[false,false,false,false,false,false,true,false,false,false,false]],\"label\":\"Timespan 7\",\"method\":\"restyle\"},{\"args\":[\"visible\",[false,false,false,false,false,false,false,true,false,false,false]],\"label\":\"Timespan 8\",\"method\":\"restyle\"},{\"args\":[\"visible\",[false,false,false,false,false,false,false,false,true,false,false]],\"label\":\"Timespan 9\",\"method\":\"restyle\"},{\"args\":[\"visible\",[false,false,false,false,false,false,false,false,false,true,false]],\"label\":\"Timespan 10\",\"method\":\"restyle\"},{\"args\":[\"visible\",[false,false,false,false,false,false,false,false,false,false,true]],\"label\":\"Timespan 11\",\"method\":\"restyle\"}]}],\"template\":{\"data\":{\"barpolar\":[{\"marker\":{\"line\":{\"color\":\"#E5ECF6\",\"width\":0.5},\"pattern\":{\"fillmode\":\"overlay\",\"size\":10,\"solidity\":0.2}},\"type\":\"barpolar\"}],\"bar\":[{\"error_x\":{\"color\":\"#2a3f5f\"},\"error_y\":{\"color\":\"#2a3f5f\"},\"marker\":{\"line\":{\"color\":\"#E5ECF6\",\"width\":0.5},\"pattern\":{\"fillmode\":\"overlay\",\"size\":10,\"solidity\":0.2}},\"type\":\"bar\"}],\"carpet\":[{\"aaxis\":{\"endlinecolor\":\"#2a3f5f\",\"gridcolor\":\"white\",\"linecolor\":\"white\",\"minorgridcolor\":\"white\",\"startlinecolor\":\"#2a3f5f\"},\"baxis\":{\"endlinecolor\":\"#2a3f5f\",\"gridcolor\":\"white\",\"linecolor\":\"white\",\"minorgridcolor\":\"white\",\"startlinecolor\":\"#2a3f5f\"},\"type\":\"carpet\"}],\"choropleth\":[{\"colorbar\":{\"outlinewidth\":0,\"ticks\":\"\"},\"type\":\"choropleth\"}],\"contourcarpet\":[{\"colorbar\":{\"outlinewidth\":0,\"ticks\":\"\"},\"type\":\"contourcarpet\"}],\"contour\":[{\"colorbar\":{\"outlinewidth\":0,\"ticks\":\"\"},\"colorscale\":[[0.0,\"#0d0887\"],[0.1111111111111111,\"#46039f\"],[0.2222222222222222,\"#7201a8\"],[0.3333333333333333,\"#9c179e\"],[0.4444444444444444,\"#bd3786\"],[0.5555555555555556,\"#d8576b\"],[0.6666666666666666,\"#ed7953\"],[0.7777777777777778,\"#fb9f3a\"],[0.8888888888888888,\"#fdca26\"],[1.0,\"#f0f921\"]],\"type\":\"contour\"}],\"heatmapgl\":[{\"colorbar\":{\"outlinewidth\":0,\"ticks\":\"\"},\"colorscale\":[[0.0,\"#0d0887\"],[0.1111111111111111,\"#46039f\"],[0.2222222222222222,\"#7201a8\"],[0.3333333333333333,\"#9c179e\"],[0.4444444444444444,\"#bd3786\"],[0.5555555555555556,\"#d8576b\"],[0.6666666666666666,\"#ed7953\"],[0.7777777777777778,\"#fb9f3a\"],[0.8888888888888888,\"#fdca26\"],[1.0,\"#f0f921\"]],\"type\":\"heatmapgl\"}],\"heatmap\":[{\"colorbar\":{\"outlinewidth\":0,\"ticks\":\"\"},\"colorscale\":[[0.0,\"#0d0887\"],[0.1111111111111111,\"#46039f\"],[0.2222222222222222,\"#7201a8\"],[0.3333333333333333,\"#9c179e\"],[0.4444444444444444,\"#bd3786\"],[0.5555555555555556,\"#d8576b\"],[0.6666666666666666,\"#ed7953\"],[0.7777777777777778,\"#fb9f3a\"],[0.8888888888888888,\"#fdca26\"],[1.0,\"#f0f921\"]],\"type\":\"heatmap\"}],\"histogram2dcontour\":[{\"colorbar\":{\"outlinewidth\":0,\"ticks\":\"\"},\"colorscale\":[[0.0,\"#0d0887\"],[0.1111111111111111,\"#46039f\"],[0.2222222222222222,\"#7201a8\"],[0.3333333333333333,\"#9c179e\"],[0.4444444444444444,\"#bd3786\"],[0.5555555555555556,\"#d8576b\"],[0.6666666666666666,\"#ed7953\"],[0.7777777777777778,\"#fb9f3a\"],[0.8888888888888888,\"#fdca26\"],[1.0,\"#f0f921\"]],\"type\":\"histogram2dcontour\"}],\"histogram2d\":[{\"colorbar\":{\"outlinewidth\":0,\"ticks\":\"\"},\"colorscale\":[[0.0,\"#0d0887\"],[0.1111111111111111,\"#46039f\"],[0.2222222222222222,\"#7201a8\"],[0.3333333333333333,\"#9c179e\"],[0.4444444444444444,\"#bd3786\"],[0.5555555555555556,\"#d8576b\"],[0.6666666666666666,\"#ed7953\"],[0.7777777777777778,\"#fb9f3a\"],[0.8888888888888888,\"#fdca26\"],[1.0,\"#f0f921\"]],\"type\":\"histogram2d\"}],\"histogram\":[{\"marker\":{\"pattern\":{\"fillmode\":\"overlay\",\"size\":10,\"solidity\":0.2}},\"type\":\"histogram\"}],\"mesh3d\":[{\"colorbar\":{\"outlinewidth\":0,\"ticks\":\"\"},\"type\":\"mesh3d\"}],\"parcoords\":[{\"line\":{\"colorbar\":{\"outlinewidth\":0,\"ticks\":\"\"}},\"type\":\"parcoords\"}],\"pie\":[{\"automargin\":true,\"type\":\"pie\"}],\"scatter3d\":[{\"line\":{\"colorbar\":{\"outlinewidth\":0,\"ticks\":\"\"}},\"marker\":{\"colorbar\":{\"outlinewidth\":0,\"ticks\":\"\"}},\"type\":\"scatter3d\"}],\"scattercarpet\":[{\"marker\":{\"colorbar\":{\"outlinewidth\":0,\"ticks\":\"\"}},\"type\":\"scattercarpet\"}],\"scattergeo\":[{\"marker\":{\"colorbar\":{\"outlinewidth\":0,\"ticks\":\"\"}},\"type\":\"scattergeo\"}],\"scattergl\":[{\"marker\":{\"colorbar\":{\"outlinewidth\":0,\"ticks\":\"\"}},\"type\":\"scattergl\"}],\"scattermapbox\":[{\"marker\":{\"colorbar\":{\"outlinewidth\":0,\"ticks\":\"\"}},\"type\":\"scattermapbox\"}],\"scatterpolargl\":[{\"marker\":{\"colorbar\":{\"outlinewidth\":0,\"ticks\":\"\"}},\"type\":\"scatterpolargl\"}],\"scatterpolar\":[{\"marker\":{\"colorbar\":{\"outlinewidth\":0,\"ticks\":\"\"}},\"type\":\"scatterpolar\"}],\"scatter\":[{\"marker\":{\"colorbar\":{\"outlinewidth\":0,\"ticks\":\"\"}},\"type\":\"scatter\"}],\"scatterternary\":[{\"marker\":{\"colorbar\":{\"outlinewidth\":0,\"ticks\":\"\"}},\"type\":\"scatterternary\"}],\"surface\":[{\"colorbar\":{\"outlinewidth\":0,\"ticks\":\"\"},\"colorscale\":[[0.0,\"#0d0887\"],[0.1111111111111111,\"#46039f\"],[0.2222222222222222,\"#7201a8\"],[0.3333333333333333,\"#9c179e\"],[0.4444444444444444,\"#bd3786\"],[0.5555555555555556,\"#d8576b\"],[0.6666666666666666,\"#ed7953\"],[0.7777777777777778,\"#fb9f3a\"],[0.8888888888888888,\"#fdca26\"],[1.0,\"#f0f921\"]],\"type\":\"surface\"}],\"table\":[{\"cells\":{\"fill\":{\"color\":\"#EBF0F8\"},\"line\":{\"color\":\"white\"}},\"header\":{\"fill\":{\"color\":\"#C8D4E3\"},\"line\":{\"color\":\"white\"}},\"type\":\"table\"}]},\"layout\":{\"annotationdefaults\":{\"arrowcolor\":\"#2a3f5f\",\"arrowhead\":0,\"arrowwidth\":1},\"autotypenumbers\":\"strict\",\"coloraxis\":{\"colorbar\":{\"outlinewidth\":0,\"ticks\":\"\"}},\"colorscale\":{\"diverging\":[[0,\"#8e0152\"],[0.1,\"#c51b7d\"],[0.2,\"#de77ae\"],[0.3,\"#f1b6da\"],[0.4,\"#fde0ef\"],[0.5,\"#f7f7f7\"],[0.6,\"#e6f5d0\"],[0.7,\"#b8e186\"],[0.8,\"#7fbc41\"],[0.9,\"#4d9221\"],[1,\"#276419\"]],\"sequential\":[[0.0,\"#0d0887\"],[0.1111111111111111,\"#46039f\"],[0.2222222222222222,\"#7201a8\"],[0.3333333333333333,\"#9c179e\"],[0.4444444444444444,\"#bd3786\"],[0.5555555555555556,\"#d8576b\"],[0.6666666666666666,\"#ed7953\"],[0.7777777777777778,\"#fb9f3a\"],[0.8888888888888888,\"#fdca26\"],[1.0,\"#f0f921\"]],\"sequentialminus\":[[0.0,\"#0d0887\"],[0.1111111111111111,\"#46039f\"],[0.2222222222222222,\"#7201a8\"],[0.3333333333333333,\"#9c179e\"],[0.4444444444444444,\"#bd3786\"],[0.5555555555555556,\"#d8576b\"],[0.6666666666666666,\"#ed7953\"],[0.7777777777777778,\"#fb9f3a\"],[0.8888888888888888,\"#fdca26\"],[1.0,\"#f0f921\"]]},\"colorway\":[\"#636efa\",\"#EF553B\",\"#00cc96\",\"#ab63fa\",\"#FFA15A\",\"#19d3f3\",\"#FF6692\",\"#B6E880\",\"#FF97FF\",\"#FECB52\"],\"font\":{\"color\":\"#2a3f5f\"},\"geo\":{\"bgcolor\":\"white\",\"lakecolor\":\"white\",\"landcolor\":\"#E5ECF6\",\"showlakes\":true,\"showland\":true,\"subunitcolor\":\"white\"},\"hoverlabel\":{\"align\":\"left\"},\"hovermode\":\"closest\",\"mapbox\":{\"style\":\"light\"},\"paper_bgcolor\":\"white\",\"plot_bgcolor\":\"#E5ECF6\",\"polar\":{\"angularaxis\":{\"gridcolor\":\"white\",\"linecolor\":\"white\",\"ticks\":\"\"},\"bgcolor\":\"#E5ECF6\",\"radialaxis\":{\"gridcolor\":\"white\",\"linecolor\":\"white\",\"ticks\":\"\"}},\"scene\":{\"xaxis\":{\"backgroundcolor\":\"#E5ECF6\",\"gridcolor\":\"white\",\"gridwidth\":2,\"linecolor\":\"white\",\"showbackground\":true,\"ticks\":\"\",\"zerolinecolor\":\"white\"},\"yaxis\":{\"backgroundcolor\":\"#E5ECF6\",\"gridcolor\":\"white\",\"gridwidth\":2,\"linecolor\":\"white\",\"showbackground\":true,\"ticks\":\"\",\"zerolinecolor\":\"white\"},\"zaxis\":{\"backgroundcolor\":\"#E5ECF6\",\"gridcolor\":\"white\",\"gridwidth\":2,\"linecolor\":\"white\",\"showbackground\":true,\"ticks\":\"\",\"zerolinecolor\":\"white\"}},\"shapedefaults\":{\"line\":{\"color\":\"#2a3f5f\"}},\"ternary\":{\"aaxis\":{\"gridcolor\":\"white\",\"linecolor\":\"white\",\"ticks\":\"\"},\"baxis\":{\"gridcolor\":\"white\",\"linecolor\":\"white\",\"ticks\":\"\"},\"bgcolor\":\"#E5ECF6\",\"caxis\":{\"gridcolor\":\"white\",\"linecolor\":\"white\",\"ticks\":\"\"}},\"title\":{\"x\":0.05},\"xaxis\":{\"automargin\":true,\"gridcolor\":\"white\",\"linecolor\":\"white\",\"ticks\":\"\",\"title\":{\"standoff\":15},\"zerolinecolor\":\"white\",\"zerolinewidth\":2},\"yaxis\":{\"automargin\":true,\"gridcolor\":\"white\",\"linecolor\":\"white\",\"ticks\":\"\",\"title\":{\"standoff\":15},\"zerolinecolor\":\"white\",\"zerolinewidth\":2}}},\"title\":{\"text\":\"Unique sequences reported per 100,000 people by state and timeperiod\"}},                        {\"responsive\": true}                    ).then(function(){\n",
       "                            \n",
       "var gd = document.getElementById('149ba048-ca46-4fcc-819a-6d05772e92e8');\n",
       "var x = new MutationObserver(function (mutations, observer) {{\n",
       "        var display = window.getComputedStyle(gd).display;\n",
       "        if (!display || display === 'none') {{\n",
       "            console.log([gd, 'removed!']);\n",
       "            Plotly.purge(gd);\n",
       "            observer.disconnect();\n",
       "        }}\n",
       "}});\n",
       "\n",
       "// Listen for the removal of the full notebook cells\n",
       "var notebookContainer = gd.closest('#notebook-container');\n",
       "if (notebookContainer) {{\n",
       "    x.observe(notebookContainer, {childList: true});\n",
       "}}\n",
       "\n",
       "// Listen for the clearing of the current output cell\n",
       "var outputEl = gd.closest('.output');\n",
       "if (outputEl) {{\n",
       "    x.observe(outputEl, {childList: true});\n",
       "}}\n",
       "\n",
       "                        })                };                });            </script>        </div>"
      ]
     },
     "metadata": {},
     "output_type": "display_data"
    }
   ],
   "source": [
    "generate_map(dfs, title = \"Unique sequences reported per 100,000 people by state and timeperiod\", colorbar_title = \"Unique sequence reports per 100,000\", transform_function = transform_to_unique_reports_per_capita, zmax=4, fill_column = \"per_capita\", save = True)"
   ]
  },
  {
   "cell_type": "code",
   "execution_count": 42,
   "id": "d8d194b8",
   "metadata": {},
   "outputs": [
    {
     "data": {
      "application/vnd.plotly.v1+json": {
       "config": {
        "linkText": "Export to plot.ly",
        "plotlyServerURL": "https://plot.ly",
        "showLink": false
       },
       "data": [
        {
         "colorbar": {
          "title": {
           "text": "Number of clades"
          }
         },
         "locationmode": "USA-states",
         "locations": [
          "AZ",
          "CA",
          "CO",
          "CT",
          "FL",
          "GA",
          "IA",
          "ID",
          "IN",
          "LA",
          "MA",
          "MD",
          "ME",
          "MI",
          "MN",
          "NV",
          "NY",
          "PA",
          "TX",
          "UT",
          "VA",
          "WA",
          "WI"
         ],
         "type": "choropleth",
         "z": [
          2,
          5,
          1,
          1,
          2,
          2,
          1,
          1,
          1,
          1,
          2,
          2,
          2,
          2,
          2,
          1,
          3,
          1,
          1,
          3,
          4,
          3,
          3
         ],
         "zmax": 20,
         "zmin": 0
        },
        {
         "colorbar": {
          "title": {
           "text": "Number of clades"
          }
         },
         "locationmode": "USA-states",
         "locations": [
          "AK",
          "CA",
          "CT",
          "FL",
          "ID",
          "IL",
          "LA",
          "MA",
          "MD",
          "ME",
          "MI",
          "MN",
          "ND",
          "NM",
          "NY",
          "PA",
          "PR",
          "TN",
          "TX",
          "UT",
          "VA",
          "WA",
          "WI",
          "WY"
         ],
         "type": "choropleth",
         "z": [
          2,
          5,
          1,
          4,
          1,
          1,
          1,
          2,
          3,
          1,
          2,
          5,
          1,
          1,
          1,
          1,
          1,
          1,
          1,
          1,
          5,
          5,
          2,
          1
         ],
         "zmax": 20,
         "zmin": 0
        },
        {
         "colorbar": {
          "title": {
           "text": "Number of clades"
          }
         },
         "locationmode": "USA-states",
         "locations": [
          "AK",
          "AL",
          "AR",
          "CA",
          "FL",
          "GA",
          "IL",
          "KY",
          "LA",
          "MA",
          "MD",
          "MN",
          "NC",
          "NJ",
          "NM",
          "NV",
          "NY",
          "OH",
          "PA",
          "SC",
          "TX",
          "UT",
          "VA",
          "WA",
          "WI"
         ],
         "type": "choropleth",
         "z": [
          1,
          1,
          1,
          6,
          5,
          3,
          1,
          1,
          1,
          3,
          2,
          3,
          2,
          1,
          5,
          2,
          1,
          2,
          2,
          3,
          4,
          2,
          5,
          6,
          4
         ],
         "zmax": 20,
         "zmin": 0
        },
        {
         "colorbar": {
          "title": {
           "text": "Number of clades"
          }
         },
         "locationmode": "USA-states",
         "locations": [
          "AK",
          "AL",
          "AZ",
          "CA",
          "CO",
          "CT",
          "DE",
          "FL",
          "GA",
          "GU",
          "HI",
          "IA",
          "ID",
          "IL",
          "IN",
          "KS",
          "KY",
          "LA",
          "MA",
          "MD",
          "MI",
          "MN",
          "MO",
          "MS",
          "MT",
          "NC",
          "ND",
          "NE",
          "NH",
          "NJ",
          "NM",
          "NV",
          "NY",
          "OH",
          "OK",
          "OR",
          "PA",
          "RI",
          "SC",
          "SD",
          "TN",
          "TX",
          "UT",
          "VA",
          "VT",
          "WA",
          "WI",
          "WV",
          "WY"
         ],
         "type": "choropleth",
         "z": [
          3,
          5,
          1,
          6,
          3,
          2,
          1,
          4,
          3,
          1,
          1,
          1,
          1,
          1,
          4,
          4,
          1,
          2,
          5,
          5,
          1,
          4,
          1,
          2,
          2,
          3,
          2,
          2,
          1,
          3,
          5,
          4,
          3,
          3,
          3,
          3,
          4,
          1,
          3,
          2,
          2,
          4,
          1,
          4,
          1,
          6,
          5,
          3,
          2
         ],
         "zmax": 20,
         "zmin": 0
        },
        {
         "colorbar": {
          "title": {
           "text": "Number of clades"
          }
         },
         "locationmode": "USA-states",
         "locations": [
          "AK",
          "AL",
          "AR",
          "AZ",
          "CA",
          "CO",
          "CT",
          "DE",
          "FL",
          "GA",
          "GU",
          "HI",
          "IA",
          "ID",
          "IL",
          "IN",
          "KS",
          "KY",
          "LA",
          "MA",
          "MD",
          "ME",
          "MI",
          "MN",
          "MO",
          "MS",
          "MT",
          "NC",
          "ND",
          "NE",
          "NH",
          "NJ",
          "NM",
          "NV",
          "NY",
          "OH",
          "OK",
          "OR",
          "PA",
          "PR",
          "RI",
          "SC",
          "SD",
          "TN",
          "TX",
          "UT",
          "VA",
          "VT",
          "WA",
          "WI",
          "WV",
          "WY"
         ],
         "type": "choropleth",
         "z": [
          5,
          3,
          3,
          5,
          8,
          4,
          5,
          3,
          7,
          5,
          3,
          3,
          3,
          1,
          4,
          3,
          4,
          5,
          4,
          5,
          6,
          4,
          4,
          5,
          5,
          2,
          3,
          6,
          3,
          3,
          4,
          5,
          6,
          4,
          6,
          4,
          4,
          3,
          4,
          2,
          4,
          4,
          1,
          3,
          5,
          4,
          5,
          1,
          7,
          4,
          2,
          3
         ],
         "zmax": 20,
         "zmin": 0
        },
        {
         "colorbar": {
          "title": {
           "text": "Number of clades"
          }
         },
         "locationmode": "USA-states",
         "locations": [
          "AK",
          "AL",
          "AR",
          "AZ",
          "CA",
          "CO",
          "CT",
          "DC",
          "FL",
          "GA",
          "HI",
          "IA",
          "ID",
          "IL",
          "IN",
          "KS",
          "KY",
          "LA",
          "MA",
          "MD",
          "ME",
          "MI",
          "MN",
          "MO",
          "MS",
          "MT",
          "NC",
          "ND",
          "NE",
          "NH",
          "NJ",
          "NM",
          "NV",
          "NY",
          "OH",
          "OK",
          "OR",
          "PA",
          "RI",
          "SC",
          "TN",
          "TX",
          "UT",
          "VA",
          "VT",
          "WA",
          "WI",
          "WV",
          "WY"
         ],
         "type": "choropleth",
         "z": [
          4,
          3,
          3,
          5,
          5,
          5,
          5,
          2,
          6,
          5,
          2,
          1,
          1,
          4,
          5,
          1,
          2,
          4,
          6,
          3,
          4,
          4,
          5,
          3,
          3,
          1,
          5,
          3,
          2,
          4,
          4,
          6,
          3,
          5,
          4,
          1,
          2,
          6,
          5,
          4,
          2,
          5,
          1,
          3,
          1,
          6,
          2,
          1,
          1
         ],
         "zmax": 20,
         "zmin": 0
        },
        {
         "colorbar": {
          "title": {
           "text": "Number of clades"
          }
         },
         "locationmode": "USA-states",
         "locations": [
          "AK",
          "AL",
          "AR",
          "AZ",
          "CA",
          "CO",
          "CT",
          "DC",
          "DE",
          "FL",
          "GA",
          "HI",
          "IA",
          "ID",
          "IL",
          "IN",
          "KS",
          "KY",
          "LA",
          "MA",
          "MD",
          "ME",
          "MI",
          "MN",
          "MO",
          "MS",
          "MT",
          "NC",
          "ND",
          "NE",
          "NH",
          "NJ",
          "NM",
          "NV",
          "NY",
          "OH",
          "OK",
          "OR",
          "PA",
          "PR",
          "RI",
          "SC",
          "SD",
          "TN",
          "TX",
          "UT",
          "VA",
          "VT",
          "WA",
          "WI",
          "WV",
          "WY"
         ],
         "type": "choropleth",
         "z": [
          2,
          3,
          2,
          4,
          8,
          2,
          5,
          1,
          3,
          8,
          5,
          1,
          5,
          2,
          7,
          6,
          1,
          1,
          3,
          7,
          7,
          3,
          5,
          6,
          4,
          3,
          2,
          6,
          1,
          1,
          6,
          6,
          4,
          3,
          6,
          5,
          2,
          1,
          7,
          2,
          6,
          7,
          2,
          2,
          5,
          4,
          3,
          2,
          1,
          3,
          3,
          1
         ],
         "zmax": 20,
         "zmin": 0
        },
        {
         "colorbar": {
          "title": {
           "text": "Number of clades"
          }
         },
         "locationmode": "USA-states",
         "locations": [
          "AK",
          "AL",
          "AR",
          "AZ",
          "CA",
          "CO",
          "CT",
          "DC",
          "DE",
          "FL",
          "GA",
          "HI",
          "IA",
          "ID",
          "IL",
          "IN",
          "KS",
          "KY",
          "LA",
          "MA",
          "MD",
          "ME",
          "MI",
          "MN",
          "MO",
          "MT",
          "NC",
          "ND",
          "NE",
          "NH",
          "NJ",
          "NM",
          "NV",
          "NY",
          "OH",
          "OK",
          "OR",
          "PA",
          "PR",
          "RI",
          "SC",
          "SD",
          "TN",
          "TX",
          "UT",
          "VA",
          "VT",
          "WA",
          "WI",
          "WV",
          "WY"
         ],
         "type": "choropleth",
         "z": [
          6,
          1,
          3,
          7,
          8,
          5,
          5,
          1,
          1,
          10,
          7,
          3,
          2,
          3,
          8,
          7,
          4,
          5,
          4,
          10,
          6,
          4,
          9,
          10,
          4,
          2,
          7,
          2,
          2,
          6,
          11,
          5,
          5,
          7,
          8,
          2,
          6,
          10,
          4,
          8,
          4,
          3,
          5,
          8,
          2,
          5,
          2,
          4,
          6,
          4,
          3
         ],
         "zmax": 20,
         "zmin": 0
        },
        {
         "colorbar": {
          "title": {
           "text": "Number of clades"
          }
         },
         "locationmode": "USA-states",
         "locations": [
          "AK",
          "AL",
          "AR",
          "AZ",
          "CA",
          "CO",
          "CT",
          "DC",
          "FL",
          "GA",
          "HI",
          "IA",
          "ID",
          "IL",
          "IN",
          "KS",
          "KY",
          "LA",
          "MA",
          "MD",
          "ME",
          "MI",
          "MN",
          "MO",
          "MT",
          "NC",
          "ND",
          "NE",
          "NH",
          "NJ",
          "NM",
          "NV",
          "NY",
          "OH",
          "OK",
          "OR",
          "PA",
          "PR",
          "RI",
          "SC",
          "TN",
          "TX",
          "UT",
          "VA",
          "VT",
          "WA",
          "WI",
          "WV"
         ],
         "type": "choropleth",
         "z": [
          4,
          2,
          1,
          9,
          8,
          5,
          3,
          2,
          7,
          4,
          1,
          1,
          2,
          8,
          4,
          1,
          3,
          2,
          7,
          3,
          2,
          4,
          5,
          2,
          3,
          4,
          2,
          1,
          4,
          4,
          3,
          1,
          3,
          8,
          1,
          5,
          10,
          1,
          3,
          2,
          2,
          7,
          1,
          6,
          1,
          4,
          5,
          4
         ],
         "zmax": 20,
         "zmin": 0
        },
        {
         "colorbar": {
          "title": {
           "text": "Number of clades"
          }
         },
         "locationmode": "USA-states",
         "locations": [
          "AK",
          "AL",
          "AR",
          "AZ",
          "CA",
          "CO",
          "CT",
          "FL",
          "GA",
          "HI",
          "IA",
          "ID",
          "IL",
          "IN",
          "KY",
          "LA",
          "MA",
          "MD",
          "ME",
          "MI",
          "MN",
          "MO",
          "MS",
          "MT",
          "NC",
          "ND",
          "NE",
          "NH",
          "NJ",
          "NM",
          "NV",
          "NY",
          "OH",
          "OK",
          "OR",
          "PA",
          "PR",
          "RI",
          "SC",
          "SD",
          "TN",
          "TX",
          "UT",
          "VA",
          "WA",
          "WI",
          "WV",
          "WY"
         ],
         "type": "choropleth",
         "z": [
          3,
          5,
          1,
          4,
          4,
          4,
          2,
          11,
          3,
          1,
          1,
          2,
          4,
          1,
          2,
          3,
          4,
          6,
          4,
          2,
          4,
          3,
          1,
          3,
          4,
          1,
          1,
          2,
          4,
          3,
          2,
          4,
          4,
          1,
          5,
          6,
          2,
          4,
          4,
          1,
          3,
          7,
          2,
          7,
          4,
          1,
          2,
          2
         ],
         "zmax": 20,
         "zmin": 0
        },
        {
         "colorbar": {
          "title": {
           "text": "Number of clades"
          }
         },
         "locationmode": "USA-states",
         "locations": [
          "AK",
          "AL",
          "AR",
          "AZ",
          "CA",
          "CO",
          "CT",
          "DE",
          "FL",
          "GA",
          "GU",
          "HI",
          "ID",
          "IL",
          "IN",
          "KS",
          "KY",
          "LA",
          "MA",
          "MD",
          "MI",
          "MN",
          "MO",
          "MS",
          "NC",
          "ND",
          "NE",
          "NH",
          "NJ",
          "NM",
          "NV",
          "NY",
          "OH",
          "OK",
          "OR",
          "PA",
          "PR",
          "RI",
          "SC",
          "SD",
          "TN",
          "TX",
          "UT",
          "VA",
          "WA",
          "WI",
          "WV"
         ],
         "type": "choropleth",
         "z": [
          1,
          4,
          3,
          5,
          9,
          5,
          3,
          1,
          10,
          7,
          1,
          2,
          2,
          3,
          1,
          1,
          3,
          5,
          6,
          10,
          4,
          4,
          2,
          2,
          10,
          2,
          2,
          2,
          4,
          4,
          4,
          4,
          3,
          2,
          6,
          4,
          1,
          3,
          2,
          1,
          5,
          9,
          4,
          3,
          3,
          2,
          2
         ],
         "zmax": 20,
         "zmin": 0
        }
       ],
       "layout": {
        "geo": {
         "projection": {
          "type": "albers usa"
         },
         "scope": "usa"
        },
        "sliders": [
         {
          "active": 0,
          "pad": {
           "t": 1
          },
          "steps": [
           {
            "args": [
             "visible",
             [
              true,
              false,
              false,
              false,
              false,
              false,
              false,
              false,
              false,
              false,
              false
             ]
            ],
            "label": "Timespan 1",
            "method": "restyle"
           },
           {
            "args": [
             "visible",
             [
              false,
              true,
              false,
              false,
              false,
              false,
              false,
              false,
              false,
              false,
              false
             ]
            ],
            "label": "Timespan 2",
            "method": "restyle"
           },
           {
            "args": [
             "visible",
             [
              false,
              false,
              true,
              false,
              false,
              false,
              false,
              false,
              false,
              false,
              false
             ]
            ],
            "label": "Timespan 3",
            "method": "restyle"
           },
           {
            "args": [
             "visible",
             [
              false,
              false,
              false,
              true,
              false,
              false,
              false,
              false,
              false,
              false,
              false
             ]
            ],
            "label": "Timespan 4",
            "method": "restyle"
           },
           {
            "args": [
             "visible",
             [
              false,
              false,
              false,
              false,
              true,
              false,
              false,
              false,
              false,
              false,
              false
             ]
            ],
            "label": "Timespan 5",
            "method": "restyle"
           },
           {
            "args": [
             "visible",
             [
              false,
              false,
              false,
              false,
              false,
              true,
              false,
              false,
              false,
              false,
              false
             ]
            ],
            "label": "Timespan 6",
            "method": "restyle"
           },
           {
            "args": [
             "visible",
             [
              false,
              false,
              false,
              false,
              false,
              false,
              true,
              false,
              false,
              false,
              false
             ]
            ],
            "label": "Timespan 7",
            "method": "restyle"
           },
           {
            "args": [
             "visible",
             [
              false,
              false,
              false,
              false,
              false,
              false,
              false,
              true,
              false,
              false,
              false
             ]
            ],
            "label": "Timespan 8",
            "method": "restyle"
           },
           {
            "args": [
             "visible",
             [
              false,
              false,
              false,
              false,
              false,
              false,
              false,
              false,
              true,
              false,
              false
             ]
            ],
            "label": "Timespan 9",
            "method": "restyle"
           },
           {
            "args": [
             "visible",
             [
              false,
              false,
              false,
              false,
              false,
              false,
              false,
              false,
              false,
              true,
              false
             ]
            ],
            "label": "Timespan 10",
            "method": "restyle"
           },
           {
            "args": [
             "visible",
             [
              false,
              false,
              false,
              false,
              false,
              false,
              false,
              false,
              false,
              false,
              true
             ]
            ],
            "label": "Timespan 11",
            "method": "restyle"
           }
          ]
         }
        ],
        "template": {
         "data": {
          "bar": [
           {
            "error_x": {
             "color": "#2a3f5f"
            },
            "error_y": {
             "color": "#2a3f5f"
            },
            "marker": {
             "line": {
              "color": "#E5ECF6",
              "width": 0.5
             },
             "pattern": {
              "fillmode": "overlay",
              "size": 10,
              "solidity": 0.2
             }
            },
            "type": "bar"
           }
          ],
          "barpolar": [
           {
            "marker": {
             "line": {
              "color": "#E5ECF6",
              "width": 0.5
             },
             "pattern": {
              "fillmode": "overlay",
              "size": 10,
              "solidity": 0.2
             }
            },
            "type": "barpolar"
           }
          ],
          "carpet": [
           {
            "aaxis": {
             "endlinecolor": "#2a3f5f",
             "gridcolor": "white",
             "linecolor": "white",
             "minorgridcolor": "white",
             "startlinecolor": "#2a3f5f"
            },
            "baxis": {
             "endlinecolor": "#2a3f5f",
             "gridcolor": "white",
             "linecolor": "white",
             "minorgridcolor": "white",
             "startlinecolor": "#2a3f5f"
            },
            "type": "carpet"
           }
          ],
          "choropleth": [
           {
            "colorbar": {
             "outlinewidth": 0,
             "ticks": ""
            },
            "type": "choropleth"
           }
          ],
          "contour": [
           {
            "colorbar": {
             "outlinewidth": 0,
             "ticks": ""
            },
            "colorscale": [
             [
              0,
              "#0d0887"
             ],
             [
              0.1111111111111111,
              "#46039f"
             ],
             [
              0.2222222222222222,
              "#7201a8"
             ],
             [
              0.3333333333333333,
              "#9c179e"
             ],
             [
              0.4444444444444444,
              "#bd3786"
             ],
             [
              0.5555555555555556,
              "#d8576b"
             ],
             [
              0.6666666666666666,
              "#ed7953"
             ],
             [
              0.7777777777777778,
              "#fb9f3a"
             ],
             [
              0.8888888888888888,
              "#fdca26"
             ],
             [
              1,
              "#f0f921"
             ]
            ],
            "type": "contour"
           }
          ],
          "contourcarpet": [
           {
            "colorbar": {
             "outlinewidth": 0,
             "ticks": ""
            },
            "type": "contourcarpet"
           }
          ],
          "heatmap": [
           {
            "colorbar": {
             "outlinewidth": 0,
             "ticks": ""
            },
            "colorscale": [
             [
              0,
              "#0d0887"
             ],
             [
              0.1111111111111111,
              "#46039f"
             ],
             [
              0.2222222222222222,
              "#7201a8"
             ],
             [
              0.3333333333333333,
              "#9c179e"
             ],
             [
              0.4444444444444444,
              "#bd3786"
             ],
             [
              0.5555555555555556,
              "#d8576b"
             ],
             [
              0.6666666666666666,
              "#ed7953"
             ],
             [
              0.7777777777777778,
              "#fb9f3a"
             ],
             [
              0.8888888888888888,
              "#fdca26"
             ],
             [
              1,
              "#f0f921"
             ]
            ],
            "type": "heatmap"
           }
          ],
          "heatmapgl": [
           {
            "colorbar": {
             "outlinewidth": 0,
             "ticks": ""
            },
            "colorscale": [
             [
              0,
              "#0d0887"
             ],
             [
              0.1111111111111111,
              "#46039f"
             ],
             [
              0.2222222222222222,
              "#7201a8"
             ],
             [
              0.3333333333333333,
              "#9c179e"
             ],
             [
              0.4444444444444444,
              "#bd3786"
             ],
             [
              0.5555555555555556,
              "#d8576b"
             ],
             [
              0.6666666666666666,
              "#ed7953"
             ],
             [
              0.7777777777777778,
              "#fb9f3a"
             ],
             [
              0.8888888888888888,
              "#fdca26"
             ],
             [
              1,
              "#f0f921"
             ]
            ],
            "type": "heatmapgl"
           }
          ],
          "histogram": [
           {
            "marker": {
             "pattern": {
              "fillmode": "overlay",
              "size": 10,
              "solidity": 0.2
             }
            },
            "type": "histogram"
           }
          ],
          "histogram2d": [
           {
            "colorbar": {
             "outlinewidth": 0,
             "ticks": ""
            },
            "colorscale": [
             [
              0,
              "#0d0887"
             ],
             [
              0.1111111111111111,
              "#46039f"
             ],
             [
              0.2222222222222222,
              "#7201a8"
             ],
             [
              0.3333333333333333,
              "#9c179e"
             ],
             [
              0.4444444444444444,
              "#bd3786"
             ],
             [
              0.5555555555555556,
              "#d8576b"
             ],
             [
              0.6666666666666666,
              "#ed7953"
             ],
             [
              0.7777777777777778,
              "#fb9f3a"
             ],
             [
              0.8888888888888888,
              "#fdca26"
             ],
             [
              1,
              "#f0f921"
             ]
            ],
            "type": "histogram2d"
           }
          ],
          "histogram2dcontour": [
           {
            "colorbar": {
             "outlinewidth": 0,
             "ticks": ""
            },
            "colorscale": [
             [
              0,
              "#0d0887"
             ],
             [
              0.1111111111111111,
              "#46039f"
             ],
             [
              0.2222222222222222,
              "#7201a8"
             ],
             [
              0.3333333333333333,
              "#9c179e"
             ],
             [
              0.4444444444444444,
              "#bd3786"
             ],
             [
              0.5555555555555556,
              "#d8576b"
             ],
             [
              0.6666666666666666,
              "#ed7953"
             ],
             [
              0.7777777777777778,
              "#fb9f3a"
             ],
             [
              0.8888888888888888,
              "#fdca26"
             ],
             [
              1,
              "#f0f921"
             ]
            ],
            "type": "histogram2dcontour"
           }
          ],
          "mesh3d": [
           {
            "colorbar": {
             "outlinewidth": 0,
             "ticks": ""
            },
            "type": "mesh3d"
           }
          ],
          "parcoords": [
           {
            "line": {
             "colorbar": {
              "outlinewidth": 0,
              "ticks": ""
             }
            },
            "type": "parcoords"
           }
          ],
          "pie": [
           {
            "automargin": true,
            "type": "pie"
           }
          ],
          "scatter": [
           {
            "marker": {
             "colorbar": {
              "outlinewidth": 0,
              "ticks": ""
             }
            },
            "type": "scatter"
           }
          ],
          "scatter3d": [
           {
            "line": {
             "colorbar": {
              "outlinewidth": 0,
              "ticks": ""
             }
            },
            "marker": {
             "colorbar": {
              "outlinewidth": 0,
              "ticks": ""
             }
            },
            "type": "scatter3d"
           }
          ],
          "scattercarpet": [
           {
            "marker": {
             "colorbar": {
              "outlinewidth": 0,
              "ticks": ""
             }
            },
            "type": "scattercarpet"
           }
          ],
          "scattergeo": [
           {
            "marker": {
             "colorbar": {
              "outlinewidth": 0,
              "ticks": ""
             }
            },
            "type": "scattergeo"
           }
          ],
          "scattergl": [
           {
            "marker": {
             "colorbar": {
              "outlinewidth": 0,
              "ticks": ""
             }
            },
            "type": "scattergl"
           }
          ],
          "scattermapbox": [
           {
            "marker": {
             "colorbar": {
              "outlinewidth": 0,
              "ticks": ""
             }
            },
            "type": "scattermapbox"
           }
          ],
          "scatterpolar": [
           {
            "marker": {
             "colorbar": {
              "outlinewidth": 0,
              "ticks": ""
             }
            },
            "type": "scatterpolar"
           }
          ],
          "scatterpolargl": [
           {
            "marker": {
             "colorbar": {
              "outlinewidth": 0,
              "ticks": ""
             }
            },
            "type": "scatterpolargl"
           }
          ],
          "scatterternary": [
           {
            "marker": {
             "colorbar": {
              "outlinewidth": 0,
              "ticks": ""
             }
            },
            "type": "scatterternary"
           }
          ],
          "surface": [
           {
            "colorbar": {
             "outlinewidth": 0,
             "ticks": ""
            },
            "colorscale": [
             [
              0,
              "#0d0887"
             ],
             [
              0.1111111111111111,
              "#46039f"
             ],
             [
              0.2222222222222222,
              "#7201a8"
             ],
             [
              0.3333333333333333,
              "#9c179e"
             ],
             [
              0.4444444444444444,
              "#bd3786"
             ],
             [
              0.5555555555555556,
              "#d8576b"
             ],
             [
              0.6666666666666666,
              "#ed7953"
             ],
             [
              0.7777777777777778,
              "#fb9f3a"
             ],
             [
              0.8888888888888888,
              "#fdca26"
             ],
             [
              1,
              "#f0f921"
             ]
            ],
            "type": "surface"
           }
          ],
          "table": [
           {
            "cells": {
             "fill": {
              "color": "#EBF0F8"
             },
             "line": {
              "color": "white"
             }
            },
            "header": {
             "fill": {
              "color": "#C8D4E3"
             },
             "line": {
              "color": "white"
             }
            },
            "type": "table"
           }
          ]
         },
         "layout": {
          "annotationdefaults": {
           "arrowcolor": "#2a3f5f",
           "arrowhead": 0,
           "arrowwidth": 1
          },
          "autotypenumbers": "strict",
          "coloraxis": {
           "colorbar": {
            "outlinewidth": 0,
            "ticks": ""
           }
          },
          "colorscale": {
           "diverging": [
            [
             0,
             "#8e0152"
            ],
            [
             0.1,
             "#c51b7d"
            ],
            [
             0.2,
             "#de77ae"
            ],
            [
             0.3,
             "#f1b6da"
            ],
            [
             0.4,
             "#fde0ef"
            ],
            [
             0.5,
             "#f7f7f7"
            ],
            [
             0.6,
             "#e6f5d0"
            ],
            [
             0.7,
             "#b8e186"
            ],
            [
             0.8,
             "#7fbc41"
            ],
            [
             0.9,
             "#4d9221"
            ],
            [
             1,
             "#276419"
            ]
           ],
           "sequential": [
            [
             0,
             "#0d0887"
            ],
            [
             0.1111111111111111,
             "#46039f"
            ],
            [
             0.2222222222222222,
             "#7201a8"
            ],
            [
             0.3333333333333333,
             "#9c179e"
            ],
            [
             0.4444444444444444,
             "#bd3786"
            ],
            [
             0.5555555555555556,
             "#d8576b"
            ],
            [
             0.6666666666666666,
             "#ed7953"
            ],
            [
             0.7777777777777778,
             "#fb9f3a"
            ],
            [
             0.8888888888888888,
             "#fdca26"
            ],
            [
             1,
             "#f0f921"
            ]
           ],
           "sequentialminus": [
            [
             0,
             "#0d0887"
            ],
            [
             0.1111111111111111,
             "#46039f"
            ],
            [
             0.2222222222222222,
             "#7201a8"
            ],
            [
             0.3333333333333333,
             "#9c179e"
            ],
            [
             0.4444444444444444,
             "#bd3786"
            ],
            [
             0.5555555555555556,
             "#d8576b"
            ],
            [
             0.6666666666666666,
             "#ed7953"
            ],
            [
             0.7777777777777778,
             "#fb9f3a"
            ],
            [
             0.8888888888888888,
             "#fdca26"
            ],
            [
             1,
             "#f0f921"
            ]
           ]
          },
          "colorway": [
           "#636efa",
           "#EF553B",
           "#00cc96",
           "#ab63fa",
           "#FFA15A",
           "#19d3f3",
           "#FF6692",
           "#B6E880",
           "#FF97FF",
           "#FECB52"
          ],
          "font": {
           "color": "#2a3f5f"
          },
          "geo": {
           "bgcolor": "white",
           "lakecolor": "white",
           "landcolor": "#E5ECF6",
           "showlakes": true,
           "showland": true,
           "subunitcolor": "white"
          },
          "hoverlabel": {
           "align": "left"
          },
          "hovermode": "closest",
          "mapbox": {
           "style": "light"
          },
          "paper_bgcolor": "white",
          "plot_bgcolor": "#E5ECF6",
          "polar": {
           "angularaxis": {
            "gridcolor": "white",
            "linecolor": "white",
            "ticks": ""
           },
           "bgcolor": "#E5ECF6",
           "radialaxis": {
            "gridcolor": "white",
            "linecolor": "white",
            "ticks": ""
           }
          },
          "scene": {
           "xaxis": {
            "backgroundcolor": "#E5ECF6",
            "gridcolor": "white",
            "gridwidth": 2,
            "linecolor": "white",
            "showbackground": true,
            "ticks": "",
            "zerolinecolor": "white"
           },
           "yaxis": {
            "backgroundcolor": "#E5ECF6",
            "gridcolor": "white",
            "gridwidth": 2,
            "linecolor": "white",
            "showbackground": true,
            "ticks": "",
            "zerolinecolor": "white"
           },
           "zaxis": {
            "backgroundcolor": "#E5ECF6",
            "gridcolor": "white",
            "gridwidth": 2,
            "linecolor": "white",
            "showbackground": true,
            "ticks": "",
            "zerolinecolor": "white"
           }
          },
          "shapedefaults": {
           "line": {
            "color": "#2a3f5f"
           }
          },
          "ternary": {
           "aaxis": {
            "gridcolor": "white",
            "linecolor": "white",
            "ticks": ""
           },
           "baxis": {
            "gridcolor": "white",
            "linecolor": "white",
            "ticks": ""
           },
           "bgcolor": "#E5ECF6",
           "caxis": {
            "gridcolor": "white",
            "linecolor": "white",
            "ticks": ""
           }
          },
          "title": {
           "x": 0.05
          },
          "xaxis": {
           "automargin": true,
           "gridcolor": "white",
           "linecolor": "white",
           "ticks": "",
           "title": {
            "standoff": 15
           },
           "zerolinecolor": "white",
           "zerolinewidth": 2
          },
          "yaxis": {
           "automargin": true,
           "gridcolor": "white",
           "linecolor": "white",
           "ticks": "",
           "title": {
            "standoff": 15
           },
           "zerolinecolor": "white",
           "zerolinewidth": 2
          }
         }
        },
        "title": {
         "text": "Number of clades in state and timeperiod"
        }
       }
      },
      "text/html": [
       "<div>                            <div id=\"ec19c742-93a2-4cbf-b0c5-919e9ba6ec81\" class=\"plotly-graph-div\" style=\"height:525px; width:100%;\"></div>            <script type=\"text/javascript\">                require([\"plotly\"], function(Plotly) {                    window.PLOTLYENV=window.PLOTLYENV || {};                                    if (document.getElementById(\"ec19c742-93a2-4cbf-b0c5-919e9ba6ec81\")) {                    Plotly.newPlot(                        \"ec19c742-93a2-4cbf-b0c5-919e9ba6ec81\",                        [{\"colorbar\":{\"title\":{\"text\":\"Number of clades\"}},\"locationmode\":\"USA-states\",\"locations\":[\"AZ\",\"CA\",\"CO\",\"CT\",\"FL\",\"GA\",\"IA\",\"ID\",\"IN\",\"LA\",\"MA\",\"MD\",\"ME\",\"MI\",\"MN\",\"NV\",\"NY\",\"PA\",\"TX\",\"UT\",\"VA\",\"WA\",\"WI\"],\"z\":[2,5,1,1,2,2,1,1,1,1,2,2,2,2,2,1,3,1,1,3,4,3,3],\"zmax\":20,\"zmin\":0,\"type\":\"choropleth\"},{\"colorbar\":{\"title\":{\"text\":\"Number of clades\"}},\"locationmode\":\"USA-states\",\"locations\":[\"AK\",\"CA\",\"CT\",\"FL\",\"ID\",\"IL\",\"LA\",\"MA\",\"MD\",\"ME\",\"MI\",\"MN\",\"ND\",\"NM\",\"NY\",\"PA\",\"PR\",\"TN\",\"TX\",\"UT\",\"VA\",\"WA\",\"WI\",\"WY\"],\"z\":[2,5,1,4,1,1,1,2,3,1,2,5,1,1,1,1,1,1,1,1,5,5,2,1],\"zmax\":20,\"zmin\":0,\"type\":\"choropleth\"},{\"colorbar\":{\"title\":{\"text\":\"Number of clades\"}},\"locationmode\":\"USA-states\",\"locations\":[\"AK\",\"AL\",\"AR\",\"CA\",\"FL\",\"GA\",\"IL\",\"KY\",\"LA\",\"MA\",\"MD\",\"MN\",\"NC\",\"NJ\",\"NM\",\"NV\",\"NY\",\"OH\",\"PA\",\"SC\",\"TX\",\"UT\",\"VA\",\"WA\",\"WI\"],\"z\":[1,1,1,6,5,3,1,1,1,3,2,3,2,1,5,2,1,2,2,3,4,2,5,6,4],\"zmax\":20,\"zmin\":0,\"type\":\"choropleth\"},{\"colorbar\":{\"title\":{\"text\":\"Number of clades\"}},\"locationmode\":\"USA-states\",\"locations\":[\"AK\",\"AL\",\"AZ\",\"CA\",\"CO\",\"CT\",\"DE\",\"FL\",\"GA\",\"GU\",\"HI\",\"IA\",\"ID\",\"IL\",\"IN\",\"KS\",\"KY\",\"LA\",\"MA\",\"MD\",\"MI\",\"MN\",\"MO\",\"MS\",\"MT\",\"NC\",\"ND\",\"NE\",\"NH\",\"NJ\",\"NM\",\"NV\",\"NY\",\"OH\",\"OK\",\"OR\",\"PA\",\"RI\",\"SC\",\"SD\",\"TN\",\"TX\",\"UT\",\"VA\",\"VT\",\"WA\",\"WI\",\"WV\",\"WY\"],\"z\":[3,5,1,6,3,2,1,4,3,1,1,1,1,1,4,4,1,2,5,5,1,4,1,2,2,3,2,2,1,3,5,4,3,3,3,3,4,1,3,2,2,4,1,4,1,6,5,3,2],\"zmax\":20,\"zmin\":0,\"type\":\"choropleth\"},{\"colorbar\":{\"title\":{\"text\":\"Number of clades\"}},\"locationmode\":\"USA-states\",\"locations\":[\"AK\",\"AL\",\"AR\",\"AZ\",\"CA\",\"CO\",\"CT\",\"DE\",\"FL\",\"GA\",\"GU\",\"HI\",\"IA\",\"ID\",\"IL\",\"IN\",\"KS\",\"KY\",\"LA\",\"MA\",\"MD\",\"ME\",\"MI\",\"MN\",\"MO\",\"MS\",\"MT\",\"NC\",\"ND\",\"NE\",\"NH\",\"NJ\",\"NM\",\"NV\",\"NY\",\"OH\",\"OK\",\"OR\",\"PA\",\"PR\",\"RI\",\"SC\",\"SD\",\"TN\",\"TX\",\"UT\",\"VA\",\"VT\",\"WA\",\"WI\",\"WV\",\"WY\"],\"z\":[5,3,3,5,8,4,5,3,7,5,3,3,3,1,4,3,4,5,4,5,6,4,4,5,5,2,3,6,3,3,4,5,6,4,6,4,4,3,4,2,4,4,1,3,5,4,5,1,7,4,2,3],\"zmax\":20,\"zmin\":0,\"type\":\"choropleth\"},{\"colorbar\":{\"title\":{\"text\":\"Number of clades\"}},\"locationmode\":\"USA-states\",\"locations\":[\"AK\",\"AL\",\"AR\",\"AZ\",\"CA\",\"CO\",\"CT\",\"DC\",\"FL\",\"GA\",\"HI\",\"IA\",\"ID\",\"IL\",\"IN\",\"KS\",\"KY\",\"LA\",\"MA\",\"MD\",\"ME\",\"MI\",\"MN\",\"MO\",\"MS\",\"MT\",\"NC\",\"ND\",\"NE\",\"NH\",\"NJ\",\"NM\",\"NV\",\"NY\",\"OH\",\"OK\",\"OR\",\"PA\",\"RI\",\"SC\",\"TN\",\"TX\",\"UT\",\"VA\",\"VT\",\"WA\",\"WI\",\"WV\",\"WY\"],\"z\":[4,3,3,5,5,5,5,2,6,5,2,1,1,4,5,1,2,4,6,3,4,4,5,3,3,1,5,3,2,4,4,6,3,5,4,1,2,6,5,4,2,5,1,3,1,6,2,1,1],\"zmax\":20,\"zmin\":0,\"type\":\"choropleth\"},{\"colorbar\":{\"title\":{\"text\":\"Number of clades\"}},\"locationmode\":\"USA-states\",\"locations\":[\"AK\",\"AL\",\"AR\",\"AZ\",\"CA\",\"CO\",\"CT\",\"DC\",\"DE\",\"FL\",\"GA\",\"HI\",\"IA\",\"ID\",\"IL\",\"IN\",\"KS\",\"KY\",\"LA\",\"MA\",\"MD\",\"ME\",\"MI\",\"MN\",\"MO\",\"MS\",\"MT\",\"NC\",\"ND\",\"NE\",\"NH\",\"NJ\",\"NM\",\"NV\",\"NY\",\"OH\",\"OK\",\"OR\",\"PA\",\"PR\",\"RI\",\"SC\",\"SD\",\"TN\",\"TX\",\"UT\",\"VA\",\"VT\",\"WA\",\"WI\",\"WV\",\"WY\"],\"z\":[2,3,2,4,8,2,5,1,3,8,5,1,5,2,7,6,1,1,3,7,7,3,5,6,4,3,2,6,1,1,6,6,4,3,6,5,2,1,7,2,6,7,2,2,5,4,3,2,1,3,3,1],\"zmax\":20,\"zmin\":0,\"type\":\"choropleth\"},{\"colorbar\":{\"title\":{\"text\":\"Number of clades\"}},\"locationmode\":\"USA-states\",\"locations\":[\"AK\",\"AL\",\"AR\",\"AZ\",\"CA\",\"CO\",\"CT\",\"DC\",\"DE\",\"FL\",\"GA\",\"HI\",\"IA\",\"ID\",\"IL\",\"IN\",\"KS\",\"KY\",\"LA\",\"MA\",\"MD\",\"ME\",\"MI\",\"MN\",\"MO\",\"MT\",\"NC\",\"ND\",\"NE\",\"NH\",\"NJ\",\"NM\",\"NV\",\"NY\",\"OH\",\"OK\",\"OR\",\"PA\",\"PR\",\"RI\",\"SC\",\"SD\",\"TN\",\"TX\",\"UT\",\"VA\",\"VT\",\"WA\",\"WI\",\"WV\",\"WY\"],\"z\":[6,1,3,7,8,5,5,1,1,10,7,3,2,3,8,7,4,5,4,10,6,4,9,10,4,2,7,2,2,6,11,5,5,7,8,2,6,10,4,8,4,3,5,8,2,5,2,4,6,4,3],\"zmax\":20,\"zmin\":0,\"type\":\"choropleth\"},{\"colorbar\":{\"title\":{\"text\":\"Number of clades\"}},\"locationmode\":\"USA-states\",\"locations\":[\"AK\",\"AL\",\"AR\",\"AZ\",\"CA\",\"CO\",\"CT\",\"DC\",\"FL\",\"GA\",\"HI\",\"IA\",\"ID\",\"IL\",\"IN\",\"KS\",\"KY\",\"LA\",\"MA\",\"MD\",\"ME\",\"MI\",\"MN\",\"MO\",\"MT\",\"NC\",\"ND\",\"NE\",\"NH\",\"NJ\",\"NM\",\"NV\",\"NY\",\"OH\",\"OK\",\"OR\",\"PA\",\"PR\",\"RI\",\"SC\",\"TN\",\"TX\",\"UT\",\"VA\",\"VT\",\"WA\",\"WI\",\"WV\"],\"z\":[4,2,1,9,8,5,3,2,7,4,1,1,2,8,4,1,3,2,7,3,2,4,5,2,3,4,2,1,4,4,3,1,3,8,1,5,10,1,3,2,2,7,1,6,1,4,5,4],\"zmax\":20,\"zmin\":0,\"type\":\"choropleth\"},{\"colorbar\":{\"title\":{\"text\":\"Number of clades\"}},\"locationmode\":\"USA-states\",\"locations\":[\"AK\",\"AL\",\"AR\",\"AZ\",\"CA\",\"CO\",\"CT\",\"FL\",\"GA\",\"HI\",\"IA\",\"ID\",\"IL\",\"IN\",\"KY\",\"LA\",\"MA\",\"MD\",\"ME\",\"MI\",\"MN\",\"MO\",\"MS\",\"MT\",\"NC\",\"ND\",\"NE\",\"NH\",\"NJ\",\"NM\",\"NV\",\"NY\",\"OH\",\"OK\",\"OR\",\"PA\",\"PR\",\"RI\",\"SC\",\"SD\",\"TN\",\"TX\",\"UT\",\"VA\",\"WA\",\"WI\",\"WV\",\"WY\"],\"z\":[3,5,1,4,4,4,2,11,3,1,1,2,4,1,2,3,4,6,4,2,4,3,1,3,4,1,1,2,4,3,2,4,4,1,5,6,2,4,4,1,3,7,2,7,4,1,2,2],\"zmax\":20,\"zmin\":0,\"type\":\"choropleth\"},{\"colorbar\":{\"title\":{\"text\":\"Number of clades\"}},\"locationmode\":\"USA-states\",\"locations\":[\"AK\",\"AL\",\"AR\",\"AZ\",\"CA\",\"CO\",\"CT\",\"DE\",\"FL\",\"GA\",\"GU\",\"HI\",\"ID\",\"IL\",\"IN\",\"KS\",\"KY\",\"LA\",\"MA\",\"MD\",\"MI\",\"MN\",\"MO\",\"MS\",\"NC\",\"ND\",\"NE\",\"NH\",\"NJ\",\"NM\",\"NV\",\"NY\",\"OH\",\"OK\",\"OR\",\"PA\",\"PR\",\"RI\",\"SC\",\"SD\",\"TN\",\"TX\",\"UT\",\"VA\",\"WA\",\"WI\",\"WV\"],\"z\":[1,4,3,5,9,5,3,1,10,7,1,2,2,3,1,1,3,5,6,10,4,4,2,2,10,2,2,2,4,4,4,4,3,2,6,4,1,3,2,1,5,9,4,3,3,2,2],\"zmax\":20,\"zmin\":0,\"type\":\"choropleth\"}],                        {\"geo\":{\"projection\":{\"type\":\"albers usa\"},\"scope\":\"usa\"},\"sliders\":[{\"active\":0,\"pad\":{\"t\":1},\"steps\":[{\"args\":[\"visible\",[true,false,false,false,false,false,false,false,false,false,false]],\"label\":\"Timespan 1\",\"method\":\"restyle\"},{\"args\":[\"visible\",[false,true,false,false,false,false,false,false,false,false,false]],\"label\":\"Timespan 2\",\"method\":\"restyle\"},{\"args\":[\"visible\",[false,false,true,false,false,false,false,false,false,false,false]],\"label\":\"Timespan 3\",\"method\":\"restyle\"},{\"args\":[\"visible\",[false,false,false,true,false,false,false,false,false,false,false]],\"label\":\"Timespan 4\",\"method\":\"restyle\"},{\"args\":[\"visible\",[false,false,false,false,true,false,false,false,false,false,false]],\"label\":\"Timespan 5\",\"method\":\"restyle\"},{\"args\":[\"visible\",[false,false,false,false,false,true,false,false,false,false,false]],\"label\":\"Timespan 6\",\"method\":\"restyle\"},{\"args\":[\"visible\",[false,false,false,false,false,false,true,false,false,false,false]],\"label\":\"Timespan 7\",\"method\":\"restyle\"},{\"args\":[\"visible\",[false,false,false,false,false,false,false,true,false,false,false]],\"label\":\"Timespan 8\",\"method\":\"restyle\"},{\"args\":[\"visible\",[false,false,false,false,false,false,false,false,true,false,false]],\"label\":\"Timespan 9\",\"method\":\"restyle\"},{\"args\":[\"visible\",[false,false,false,false,false,false,false,false,false,true,false]],\"label\":\"Timespan 10\",\"method\":\"restyle\"},{\"args\":[\"visible\",[false,false,false,false,false,false,false,false,false,false,true]],\"label\":\"Timespan 11\",\"method\":\"restyle\"}]}],\"template\":{\"data\":{\"barpolar\":[{\"marker\":{\"line\":{\"color\":\"#E5ECF6\",\"width\":0.5},\"pattern\":{\"fillmode\":\"overlay\",\"size\":10,\"solidity\":0.2}},\"type\":\"barpolar\"}],\"bar\":[{\"error_x\":{\"color\":\"#2a3f5f\"},\"error_y\":{\"color\":\"#2a3f5f\"},\"marker\":{\"line\":{\"color\":\"#E5ECF6\",\"width\":0.5},\"pattern\":{\"fillmode\":\"overlay\",\"size\":10,\"solidity\":0.2}},\"type\":\"bar\"}],\"carpet\":[{\"aaxis\":{\"endlinecolor\":\"#2a3f5f\",\"gridcolor\":\"white\",\"linecolor\":\"white\",\"minorgridcolor\":\"white\",\"startlinecolor\":\"#2a3f5f\"},\"baxis\":{\"endlinecolor\":\"#2a3f5f\",\"gridcolor\":\"white\",\"linecolor\":\"white\",\"minorgridcolor\":\"white\",\"startlinecolor\":\"#2a3f5f\"},\"type\":\"carpet\"}],\"choropleth\":[{\"colorbar\":{\"outlinewidth\":0,\"ticks\":\"\"},\"type\":\"choropleth\"}],\"contourcarpet\":[{\"colorbar\":{\"outlinewidth\":0,\"ticks\":\"\"},\"type\":\"contourcarpet\"}],\"contour\":[{\"colorbar\":{\"outlinewidth\":0,\"ticks\":\"\"},\"colorscale\":[[0.0,\"#0d0887\"],[0.1111111111111111,\"#46039f\"],[0.2222222222222222,\"#7201a8\"],[0.3333333333333333,\"#9c179e\"],[0.4444444444444444,\"#bd3786\"],[0.5555555555555556,\"#d8576b\"],[0.6666666666666666,\"#ed7953\"],[0.7777777777777778,\"#fb9f3a\"],[0.8888888888888888,\"#fdca26\"],[1.0,\"#f0f921\"]],\"type\":\"contour\"}],\"heatmapgl\":[{\"colorbar\":{\"outlinewidth\":0,\"ticks\":\"\"},\"colorscale\":[[0.0,\"#0d0887\"],[0.1111111111111111,\"#46039f\"],[0.2222222222222222,\"#7201a8\"],[0.3333333333333333,\"#9c179e\"],[0.4444444444444444,\"#bd3786\"],[0.5555555555555556,\"#d8576b\"],[0.6666666666666666,\"#ed7953\"],[0.7777777777777778,\"#fb9f3a\"],[0.8888888888888888,\"#fdca26\"],[1.0,\"#f0f921\"]],\"type\":\"heatmapgl\"}],\"heatmap\":[{\"colorbar\":{\"outlinewidth\":0,\"ticks\":\"\"},\"colorscale\":[[0.0,\"#0d0887\"],[0.1111111111111111,\"#46039f\"],[0.2222222222222222,\"#7201a8\"],[0.3333333333333333,\"#9c179e\"],[0.4444444444444444,\"#bd3786\"],[0.5555555555555556,\"#d8576b\"],[0.6666666666666666,\"#ed7953\"],[0.7777777777777778,\"#fb9f3a\"],[0.8888888888888888,\"#fdca26\"],[1.0,\"#f0f921\"]],\"type\":\"heatmap\"}],\"histogram2dcontour\":[{\"colorbar\":{\"outlinewidth\":0,\"ticks\":\"\"},\"colorscale\":[[0.0,\"#0d0887\"],[0.1111111111111111,\"#46039f\"],[0.2222222222222222,\"#7201a8\"],[0.3333333333333333,\"#9c179e\"],[0.4444444444444444,\"#bd3786\"],[0.5555555555555556,\"#d8576b\"],[0.6666666666666666,\"#ed7953\"],[0.7777777777777778,\"#fb9f3a\"],[0.8888888888888888,\"#fdca26\"],[1.0,\"#f0f921\"]],\"type\":\"histogram2dcontour\"}],\"histogram2d\":[{\"colorbar\":{\"outlinewidth\":0,\"ticks\":\"\"},\"colorscale\":[[0.0,\"#0d0887\"],[0.1111111111111111,\"#46039f\"],[0.2222222222222222,\"#7201a8\"],[0.3333333333333333,\"#9c179e\"],[0.4444444444444444,\"#bd3786\"],[0.5555555555555556,\"#d8576b\"],[0.6666666666666666,\"#ed7953\"],[0.7777777777777778,\"#fb9f3a\"],[0.8888888888888888,\"#fdca26\"],[1.0,\"#f0f921\"]],\"type\":\"histogram2d\"}],\"histogram\":[{\"marker\":{\"pattern\":{\"fillmode\":\"overlay\",\"size\":10,\"solidity\":0.2}},\"type\":\"histogram\"}],\"mesh3d\":[{\"colorbar\":{\"outlinewidth\":0,\"ticks\":\"\"},\"type\":\"mesh3d\"}],\"parcoords\":[{\"line\":{\"colorbar\":{\"outlinewidth\":0,\"ticks\":\"\"}},\"type\":\"parcoords\"}],\"pie\":[{\"automargin\":true,\"type\":\"pie\"}],\"scatter3d\":[{\"line\":{\"colorbar\":{\"outlinewidth\":0,\"ticks\":\"\"}},\"marker\":{\"colorbar\":{\"outlinewidth\":0,\"ticks\":\"\"}},\"type\":\"scatter3d\"}],\"scattercarpet\":[{\"marker\":{\"colorbar\":{\"outlinewidth\":0,\"ticks\":\"\"}},\"type\":\"scattercarpet\"}],\"scattergeo\":[{\"marker\":{\"colorbar\":{\"outlinewidth\":0,\"ticks\":\"\"}},\"type\":\"scattergeo\"}],\"scattergl\":[{\"marker\":{\"colorbar\":{\"outlinewidth\":0,\"ticks\":\"\"}},\"type\":\"scattergl\"}],\"scattermapbox\":[{\"marker\":{\"colorbar\":{\"outlinewidth\":0,\"ticks\":\"\"}},\"type\":\"scattermapbox\"}],\"scatterpolargl\":[{\"marker\":{\"colorbar\":{\"outlinewidth\":0,\"ticks\":\"\"}},\"type\":\"scatterpolargl\"}],\"scatterpolar\":[{\"marker\":{\"colorbar\":{\"outlinewidth\":0,\"ticks\":\"\"}},\"type\":\"scatterpolar\"}],\"scatter\":[{\"marker\":{\"colorbar\":{\"outlinewidth\":0,\"ticks\":\"\"}},\"type\":\"scatter\"}],\"scatterternary\":[{\"marker\":{\"colorbar\":{\"outlinewidth\":0,\"ticks\":\"\"}},\"type\":\"scatterternary\"}],\"surface\":[{\"colorbar\":{\"outlinewidth\":0,\"ticks\":\"\"},\"colorscale\":[[0.0,\"#0d0887\"],[0.1111111111111111,\"#46039f\"],[0.2222222222222222,\"#7201a8\"],[0.3333333333333333,\"#9c179e\"],[0.4444444444444444,\"#bd3786\"],[0.5555555555555556,\"#d8576b\"],[0.6666666666666666,\"#ed7953\"],[0.7777777777777778,\"#fb9f3a\"],[0.8888888888888888,\"#fdca26\"],[1.0,\"#f0f921\"]],\"type\":\"surface\"}],\"table\":[{\"cells\":{\"fill\":{\"color\":\"#EBF0F8\"},\"line\":{\"color\":\"white\"}},\"header\":{\"fill\":{\"color\":\"#C8D4E3\"},\"line\":{\"color\":\"white\"}},\"type\":\"table\"}]},\"layout\":{\"annotationdefaults\":{\"arrowcolor\":\"#2a3f5f\",\"arrowhead\":0,\"arrowwidth\":1},\"autotypenumbers\":\"strict\",\"coloraxis\":{\"colorbar\":{\"outlinewidth\":0,\"ticks\":\"\"}},\"colorscale\":{\"diverging\":[[0,\"#8e0152\"],[0.1,\"#c51b7d\"],[0.2,\"#de77ae\"],[0.3,\"#f1b6da\"],[0.4,\"#fde0ef\"],[0.5,\"#f7f7f7\"],[0.6,\"#e6f5d0\"],[0.7,\"#b8e186\"],[0.8,\"#7fbc41\"],[0.9,\"#4d9221\"],[1,\"#276419\"]],\"sequential\":[[0.0,\"#0d0887\"],[0.1111111111111111,\"#46039f\"],[0.2222222222222222,\"#7201a8\"],[0.3333333333333333,\"#9c179e\"],[0.4444444444444444,\"#bd3786\"],[0.5555555555555556,\"#d8576b\"],[0.6666666666666666,\"#ed7953\"],[0.7777777777777778,\"#fb9f3a\"],[0.8888888888888888,\"#fdca26\"],[1.0,\"#f0f921\"]],\"sequentialminus\":[[0.0,\"#0d0887\"],[0.1111111111111111,\"#46039f\"],[0.2222222222222222,\"#7201a8\"],[0.3333333333333333,\"#9c179e\"],[0.4444444444444444,\"#bd3786\"],[0.5555555555555556,\"#d8576b\"],[0.6666666666666666,\"#ed7953\"],[0.7777777777777778,\"#fb9f3a\"],[0.8888888888888888,\"#fdca26\"],[1.0,\"#f0f921\"]]},\"colorway\":[\"#636efa\",\"#EF553B\",\"#00cc96\",\"#ab63fa\",\"#FFA15A\",\"#19d3f3\",\"#FF6692\",\"#B6E880\",\"#FF97FF\",\"#FECB52\"],\"font\":{\"color\":\"#2a3f5f\"},\"geo\":{\"bgcolor\":\"white\",\"lakecolor\":\"white\",\"landcolor\":\"#E5ECF6\",\"showlakes\":true,\"showland\":true,\"subunitcolor\":\"white\"},\"hoverlabel\":{\"align\":\"left\"},\"hovermode\":\"closest\",\"mapbox\":{\"style\":\"light\"},\"paper_bgcolor\":\"white\",\"plot_bgcolor\":\"#E5ECF6\",\"polar\":{\"angularaxis\":{\"gridcolor\":\"white\",\"linecolor\":\"white\",\"ticks\":\"\"},\"bgcolor\":\"#E5ECF6\",\"radialaxis\":{\"gridcolor\":\"white\",\"linecolor\":\"white\",\"ticks\":\"\"}},\"scene\":{\"xaxis\":{\"backgroundcolor\":\"#E5ECF6\",\"gridcolor\":\"white\",\"gridwidth\":2,\"linecolor\":\"white\",\"showbackground\":true,\"ticks\":\"\",\"zerolinecolor\":\"white\"},\"yaxis\":{\"backgroundcolor\":\"#E5ECF6\",\"gridcolor\":\"white\",\"gridwidth\":2,\"linecolor\":\"white\",\"showbackground\":true,\"ticks\":\"\",\"zerolinecolor\":\"white\"},\"zaxis\":{\"backgroundcolor\":\"#E5ECF6\",\"gridcolor\":\"white\",\"gridwidth\":2,\"linecolor\":\"white\",\"showbackground\":true,\"ticks\":\"\",\"zerolinecolor\":\"white\"}},\"shapedefaults\":{\"line\":{\"color\":\"#2a3f5f\"}},\"ternary\":{\"aaxis\":{\"gridcolor\":\"white\",\"linecolor\":\"white\",\"ticks\":\"\"},\"baxis\":{\"gridcolor\":\"white\",\"linecolor\":\"white\",\"ticks\":\"\"},\"bgcolor\":\"#E5ECF6\",\"caxis\":{\"gridcolor\":\"white\",\"linecolor\":\"white\",\"ticks\":\"\"}},\"title\":{\"x\":0.05},\"xaxis\":{\"automargin\":true,\"gridcolor\":\"white\",\"linecolor\":\"white\",\"ticks\":\"\",\"title\":{\"standoff\":15},\"zerolinecolor\":\"white\",\"zerolinewidth\":2},\"yaxis\":{\"automargin\":true,\"gridcolor\":\"white\",\"linecolor\":\"white\",\"ticks\":\"\",\"title\":{\"standoff\":15},\"zerolinecolor\":\"white\",\"zerolinewidth\":2}}},\"title\":{\"text\":\"Number of clades in state and timeperiod\"}},                        {\"responsive\": true}                    ).then(function(){\n",
       "                            \n",
       "var gd = document.getElementById('ec19c742-93a2-4cbf-b0c5-919e9ba6ec81');\n",
       "var x = new MutationObserver(function (mutations, observer) {{\n",
       "        var display = window.getComputedStyle(gd).display;\n",
       "        if (!display || display === 'none') {{\n",
       "            console.log([gd, 'removed!']);\n",
       "            Plotly.purge(gd);\n",
       "            observer.disconnect();\n",
       "        }}\n",
       "}});\n",
       "\n",
       "// Listen for the removal of the full notebook cells\n",
       "var notebookContainer = gd.closest('#notebook-container');\n",
       "if (notebookContainer) {{\n",
       "    x.observe(notebookContainer, {childList: true});\n",
       "}}\n",
       "\n",
       "// Listen for the clearing of the current output cell\n",
       "var outputEl = gd.closest('.output');\n",
       "if (outputEl) {{\n",
       "    x.observe(outputEl, {childList: true});\n",
       "}}\n",
       "\n",
       "                        })                };                });            </script>        </div>"
      ]
     },
     "metadata": {},
     "output_type": "display_data"
    }
   ],
   "source": [
    "generate_map(dfs, title = \"Number of clades in state and timeperiod\", colorbar_title = \"Number of clades\", transform_function = transform_to_unique_clades, zmax=20, fill_column = \"clade\", save = True)"
   ]
  },
  {
   "cell_type": "code",
   "execution_count": null,
   "id": "5a65ca56",
   "metadata": {},
   "outputs": [],
   "source": []
  },
  {
   "cell_type": "code",
   "execution_count": null,
   "id": "1b43393e",
   "metadata": {},
   "outputs": [],
   "source": []
  }
 ],
 "metadata": {
  "kernelspec": {
   "display_name": "Python 3 (ipykernel)",
   "language": "python",
   "name": "python3"
  },
  "language_info": {
   "codemirror_mode": {
    "name": "ipython",
    "version": 3
   },
   "file_extension": ".py",
   "mimetype": "text/x-python",
   "name": "python",
   "nbconvert_exporter": "python",
   "pygments_lexer": "ipython3",
   "version": "3.9.7"
  }
 },
 "nbformat": 4,
 "nbformat_minor": 5
}
