{
 "cells": [
  {
   "cell_type": "markdown",
   "id": "eed8b953",
   "metadata": {},
   "source": [
    "Find the most seen sequence for each timeperiod. Do gloabl pairwise comparisons for all pairs. Allow to toggle which pair looking at (interactive graph). Always use the older timeframe as the target and the newer as the query. "
   ]
  },
  {
   "cell_type": "markdown",
   "id": "004e2c7c",
   "metadata": {},
   "source": [
    "first I want to see if I can plot the same thing in plotly so that I can use their interactivity features"
   ]
  },
  {
   "cell_type": "code",
   "execution_count": 96,
   "id": "e3281c70",
   "metadata": {},
   "outputs": [],
   "source": [
    "import pandas as pd\n",
    "import os\n",
    "\n",
    "project_folder = os.path.join(\"..\", \"..\")"
   ]
  },
  {
   "cell_type": "code",
   "execution_count": 97,
   "id": "c926f89b",
   "metadata": {},
   "outputs": [
    {
     "data": {
      "text/html": [
       "<div>\n",
       "<style scoped>\n",
       "    .dataframe tbody tr th:only-of-type {\n",
       "        vertical-align: middle;\n",
       "    }\n",
       "\n",
       "    .dataframe tbody tr th {\n",
       "        vertical-align: top;\n",
       "    }\n",
       "\n",
       "    .dataframe thead th {\n",
       "        text-align: right;\n",
       "    }\n",
       "</style>\n",
       "<table border=\"1\" class=\"dataframe\">\n",
       "  <thead>\n",
       "    <tr style=\"text-align: right;\">\n",
       "      <th></th>\n",
       "      <th>state</th>\n",
       "      <th>p_sequence</th>\n",
       "      <th>p_accession</th>\n",
       "      <th>date</th>\n",
       "      <th>count</th>\n",
       "      <th>n_accession</th>\n",
       "      <th>n_sequence</th>\n",
       "      <th>clade</th>\n",
       "      <th>timespan</th>\n",
       "    </tr>\n",
       "  </thead>\n",
       "  <tbody>\n",
       "    <tr>\n",
       "      <th>0</th>\n",
       "      <td>MA</td>\n",
       "      <td>\"MFVFLVLLPLVSSQCVNLTTRTQLPPAYTNSFTRGVYYPDKVFRS...</td>\n",
       "      <td>QTP71261</td>\n",
       "      <td>2020</td>\n",
       "      <td>2</td>\n",
       "      <td>MW885877</td>\n",
       "      <td>GGTAACAAACCAACCAACTTTCGATCTCTTGTAGATCTGTTCTCTA...</td>\n",
       "      <td>20A</td>\n",
       "      <td>1</td>\n",
       "    </tr>\n",
       "    <tr>\n",
       "      <th>1</th>\n",
       "      <td>WA</td>\n",
       "      <td>\"MFVFLVLLPLVSSQCVNLTTRTQLPPAYTNSFTRGVYYPDKVFRS...</td>\n",
       "      <td>QLJ57227</td>\n",
       "      <td>2020</td>\n",
       "      <td>1367</td>\n",
       "      <td>MT252714</td>\n",
       "      <td>CTTGTAGATCTGTTCTCTAAACGAACTTTAAAATCTGTGTGGCTGT...</td>\n",
       "      <td>19B</td>\n",
       "      <td>1</td>\n",
       "    </tr>\n",
       "    <tr>\n",
       "      <th>2</th>\n",
       "      <td>WA</td>\n",
       "      <td>\"MFVFLVLLPLVSSQCVNLTTRTQLPPAYTNSFTRGVYYPDKVFRS...</td>\n",
       "      <td>QLJ57383</td>\n",
       "      <td>2020</td>\n",
       "      <td>1</td>\n",
       "      <td>MT252753</td>\n",
       "      <td>CCCTTHAACTTTCGATCTCTTGTAGATCTGTTCTCTAAACGAACTT...</td>\n",
       "      <td>19A</td>\n",
       "      <td>1</td>\n",
       "    </tr>\n",
       "    <tr>\n",
       "      <th>3</th>\n",
       "      <td>CA</td>\n",
       "      <td>\"MFVFLVLLPLVSSQCVNLTTRTQLPPAYTNSFTRGVYYPDKVFRS...</td>\n",
       "      <td>QHW06059</td>\n",
       "      <td>2020-01-29</td>\n",
       "      <td>2</td>\n",
       "      <td>MT027064</td>\n",
       "      <td>ATTAAAGGTTTATACCTTCCCAGGTAACAAACCAACCAACTTTCGA...</td>\n",
       "      <td>19A</td>\n",
       "      <td>1</td>\n",
       "    </tr>\n",
       "    <tr>\n",
       "      <th>4</th>\n",
       "      <td>WA</td>\n",
       "      <td>\"MFVFLVLLPLVSSQCVNLTTRTQLPPAYTNSFTRGVYYPDKVFRS...</td>\n",
       "      <td>QKS89879</td>\n",
       "      <td>2020-02-29</td>\n",
       "      <td>26</td>\n",
       "      <td>MT627216</td>\n",
       "      <td>TAAAGGTTTATACCTTCCCAGGTAACAAACCAACCAACTTTCGATC...</td>\n",
       "      <td>19B</td>\n",
       "      <td>1</td>\n",
       "    </tr>\n",
       "  </tbody>\n",
       "</table>\n",
       "</div>"
      ],
      "text/plain": [
       "  state                                         p_sequence p_accession  \\\n",
       "0    MA  \"MFVFLVLLPLVSSQCVNLTTRTQLPPAYTNSFTRGVYYPDKVFRS...    QTP71261   \n",
       "1    WA  \"MFVFLVLLPLVSSQCVNLTTRTQLPPAYTNSFTRGVYYPDKVFRS...    QLJ57227   \n",
       "2    WA  \"MFVFLVLLPLVSSQCVNLTTRTQLPPAYTNSFTRGVYYPDKVFRS...    QLJ57383   \n",
       "3    CA  \"MFVFLVLLPLVSSQCVNLTTRTQLPPAYTNSFTRGVYYPDKVFRS...    QHW06059   \n",
       "4    WA  \"MFVFLVLLPLVSSQCVNLTTRTQLPPAYTNSFTRGVYYPDKVFRS...    QKS89879   \n",
       "\n",
       "         date  count n_accession  \\\n",
       "0        2020      2    MW885877   \n",
       "1        2020   1367    MT252714   \n",
       "2        2020      1    MT252753   \n",
       "3  2020-01-29      2    MT027064   \n",
       "4  2020-02-29     26    MT627216   \n",
       "\n",
       "                                          n_sequence clade  timespan  \n",
       "0  GGTAACAAACCAACCAACTTTCGATCTCTTGTAGATCTGTTCTCTA...   20A         1  \n",
       "1  CTTGTAGATCTGTTCTCTAAACGAACTTTAAAATCTGTGTGGCTGT...   19B         1  \n",
       "2  CCCTTHAACTTTCGATCTCTTGTAGATCTGTTCTCTAAACGAACTT...   19A         1  \n",
       "3  ATTAAAGGTTTATACCTTCCCAGGTAACAAACCAACCAACTTTCGA...   19A         1  \n",
       "4  TAAAGGTTTATACCTTCCCAGGTAACAAACCAACCAACTTTCGATC...   19B         1  "
      ]
     },
     "execution_count": 97,
     "metadata": {},
     "output_type": "execute_result"
    }
   ],
   "source": [
    "df = pd.read_csv(os.path.join(project_folder, 'data', 'final', \"all.csv\"))\n",
    "df.head()"
   ]
  },
  {
   "cell_type": "code",
   "execution_count": 1,
   "id": "4321004a",
   "metadata": {},
   "outputs": [],
   "source": [
    "seq1 = '''MFVFLVLLPLVSSQCVNLTTRTQLPPAYTNSFTRGVYYPDKVFRSSVLHSTQDLFLPFFSNVTWFHAISG\n",
    "TNGTKRFDNPVLPFNDGVYFASTEKSNIIRGWIFGTTLDSKTQSLLIVNNATNVVIKVCEFQFCNDPFLG\n",
    "VYHKNNKSWMESEFRVYSSANNCTFEYVSQPFLMDLEGKQGNFKNLREFVFKNIDGYFKIYSKHTPINLV\n",
    "RDLPQGFSALEPLVDLPIGINITRFQTLLALHRSYLTPGDSSSGWTAGAAAYYVGYLQPRTFLLKYNENG\n",
    "TITDAVDCALDPLSETKCTLKSFTVEKGIYQTSNFRVQPTESIVRFPNITNLCPFGEVFNATRFASVYAW\n",
    "NRKRISNCVADYSVLYNSASFSTFKCYGVSPTKLNDLCFTNVYADSFVIRGDEVRQIAPGQTGKIADYNY\n",
    "KLPDDFTGCVIAWNSNNLDSKVGGNYNYLYRLFRKSNLKPFERDISTEIYQAGSTPCNGVEGFNCYFPLQ\n",
    "SYGFQPTYGVGYQPYRVVVLSFELLHAPATVCGPKKSTNLVKNKCVNFNFNGLTGTGVLTESNKKFLPFQ\n",
    "QFGRDIDDTTDAVRDPQTLEILDITPCSFGGVSVITPGTNTSNQVAVLYQGVNCTEVPVAIHADQLTPTW\n",
    "RVYSTGSNVFQTRAGCLIGAEHVNNSYECDIPIGAGICASYQTQTNSHRRARSVASQSIIAYTMSLGAEN\n",
    "SVAYSNNSIAIPINFTISVTTEILPVSMTKTSVDCTMYICGDSTECSNLLLQYGSFCTQLNRALTGIAVE\n",
    "QDKNTQEVFAQVKQIYKTPPIKDFGGFNFSQILPDPSKPSKRSFIEDLLFNKVTLADAGFIKQYGDCLGD\n",
    "IAARDLICAQKFNGLTVLPPLLTDEMIAQYTSALLAGTITSGWTFGAGAALQIPFAMQMAYRFNGIGVTQ\n",
    "NVLYENQKLIANQFNSAIGKIQDSLSSTASALGKLQDVVNQNAQALNTLVKQLSSNFGAISSVLNDILAR\n",
    "LDKVEAEVQIDRLITGRLQSLQTYVTQQLIRAAEIRASANLAATKMSECVLGQSKRVDFCGKGYHLMSFP\n",
    "QSAPHGVVFLHVTYVPAQEKNFTTAPAICHDGKAHFPREGVFVSNGTHWFVTQRNFYEPQIITTHNTFVS\n",
    "GNCDVVIGIVNNTVYDPLQPELDSFKEELDKYFKNHTSPDVDLGDISGINASVVNIQKEIDRLNEVAKNL\n",
    "NESLIDLQELGKYEQYIKWPWYIWLGFIAGLIAIVMVTIMLCCMTSCCSCLKGCCSCGSCCKFDEDDSEP\n",
    "VLRGVKLHYT\n",
    "'''\n",
    "seq2 = '''MFVFLVLLPLVSSQCVNLTTRTQLPPAYTNSFTRGVYYPDKVFRSSVLHSTQDLFLPFFSNVTWFHAIHV\n",
    "SGTNGTKRFDNPVLPFNDGVYFASTEKSNIIRGWIFGTTLDSKTQSLLIVNNATNVVIKVCEFQFCNDPF\n",
    "LGVYYHKNNKSWMESEFRVYSSANNCTFEYVSQPFLMDLEGKQGNFKNLREFVFKNIDGYFKIYSKHTPI\n",
    "NLVRDLPQGFSALEPLVDLPIGINITRFQTLLALHRSYLTPGDSSSGWTAGAAAYYVGYLQPRTFLLKYN\n",
    "ENGTITDAVDCALDPLSETKCTLKSFTVEKGIYQTSNFRVQPTESIVRFPNITNLCPFGEVFNATRFASV\n",
    "YAWNRKRISNCVADYSVLYNSASFSTFKCYGVSPTKLNDLCFTNVYADSFVIRGDEVRQIAPGQTGKIAD\n",
    "YNYKLPDDFTGCVIAWNSNNLDSKVGGNYNYLYRLFRKSNLKPFERDISTEIYQAGSTPCNGAEGFNCYF\n",
    "PLQSYGFQPTNGVGYQPYRVVVLSFELLHAPATVCGPKKSTNLVKNKCVNFNFNGLTGTGVLTESNKKFL\n",
    "PFQQFGRDIADTTDAVRDPQTLEILDITPCSFGGVSVITPGTNTSNQVAVLYQDVNCTEVPVAIHADQLT\n",
    "PTWRVYSTGSNVFQTRAGCLIGAEHVNNSYECDIPIGAGICASYQTQTNSPRRARSVASQSIIAYTMSLG\n",
    "AENSVAYSNNSIAIPTNFTISVTTEILPVSMTKTSVDCTMYICGDSTECSNLLLQYGSFCTQLNRALTGI\n",
    "AVEQDKNTQEVFAQVKQIYKTPPIKDFGGFNFSQILPDPSKPSKRSFIEDLLFNKVTLADAGFIKQYGDC\n",
    "LGDIAARDLICAQKFNGLTVLPPLLTDEMIAQYTSALLAGTITSGWTFGAGAALQIPFAMQMAYRFNGIG\n",
    "VTQNVLYENQKLIANQFNSAIGKIQDSLSSTASALGKLQDVVNQNAQALNTLVKQLSSNFGAISSVLNDI\n",
    "LSRLDKVEAEVQIDRLITGRLQSLQTYVTQQLIRAAEIRASANLAATKMSECVLGQSKRVDFCGKGYHLM\n",
    "SFPQSAPHGVVFLHVTYVPAQEKNFTTAPAICHDGKAHFPREGVFVSNGTHWFVTQRNFYEPQIITTDNT\n",
    "FVSGNCDVVIGIVNNTVYDPLQPELDSFKEELDKYFKNHTSPDVDLGDISGINASVVNIQKEIDRLNEVA\n",
    "KNLNESLIDLQELGKYEQYIKWPWYIWLGFIAGLIAIVMVTIMLCCMTSCCSCLKGCCSCGSCCKFDEDD\n",
    "SEPVLKGVKLHYT'''"
   ]
  },
  {
   "cell_type": "code",
   "execution_count": 38,
   "id": "72226d66",
   "metadata": {},
   "outputs": [],
   "source": [
    "from Bio import Align\n",
    "aligner = Align.PairwiseAligner(match = 4,\n",
    " mismatch = -1, \n",
    " target_open_gap_score = -1000, \n",
    " target_extend_gap_score  = -1000,\n",
    " query_open_gap_score = -20,\n",
    " query_extend_gap_score = -4) # parameters from this paper https://www.ncbi.nlm.nih.gov/pmc/articles/PMC7314508/\n",
    "alignments = aligner.align(seq1, seq2)"
   ]
  },
  {
   "cell_type": "code",
   "execution_count": 4,
   "id": "367fea76",
   "metadata": {},
   "outputs": [
    {
     "name": "stdout",
     "output_type": "stream",
     "text": [
      "#  Matrix made by matblas from blosum62.iij\n",
      "#  * column uses minimum score\n",
      "#  BLOSUM Clustered Scoring Matrix in 1/2 Bit Units\n",
      "#  Blocks Database = /data/blocks_5.0/blocks.dat\n",
      "#  Cluster Percentage: >= 62\n",
      "#  Entropy =   0.6979, Expected =  -0.5209\n",
      "     A    R    N    D    C    Q    E    G    H    I    L    K    M    F    P    S    T    W    Y    V    B    Z    X    *\n",
      "A  4.0 -1.0 -2.0 -2.0  0.0 -1.0 -1.0  0.0 -2.0 -1.0 -1.0 -1.0 -1.0 -2.0 -1.0  1.0  0.0 -3.0 -2.0  0.0 -2.0 -1.0  0.0 -4.0\n",
      "R -1.0  5.0  0.0 -2.0 -3.0  1.0  0.0 -2.0  0.0 -3.0 -2.0  2.0 -1.0 -3.0 -2.0 -1.0 -1.0 -3.0 -2.0 -3.0 -1.0  0.0 -1.0 -4.0\n",
      "N -2.0  0.0  6.0  1.0 -3.0  0.0  0.0  0.0  1.0 -3.0 -3.0  0.0 -2.0 -3.0 -2.0  1.0  0.0 -4.0 -2.0 -3.0  3.0  0.0 -1.0 -4.0\n",
      "D -2.0 -2.0  1.0  6.0 -3.0  0.0  2.0 -1.0 -1.0 -3.0 -4.0 -1.0 -3.0 -3.0 -1.0  0.0 -1.0 -4.0 -3.0 -3.0  4.0  1.0 -1.0 -4.0\n",
      "C  0.0 -3.0 -3.0 -3.0  9.0 -3.0 -4.0 -3.0 -3.0 -1.0 -1.0 -3.0 -1.0 -2.0 -3.0 -1.0 -1.0 -2.0 -2.0 -1.0 -3.0 -3.0 -2.0 -4.0\n",
      "Q -1.0  1.0  0.0  0.0 -3.0  5.0  2.0 -2.0  0.0 -3.0 -2.0  1.0  0.0 -3.0 -1.0  0.0 -1.0 -2.0 -1.0 -2.0  0.0  3.0 -1.0 -4.0\n",
      "E -1.0  0.0  0.0  2.0 -4.0  2.0  5.0 -2.0  0.0 -3.0 -3.0  1.0 -2.0 -3.0 -1.0  0.0 -1.0 -3.0 -2.0 -2.0  1.0  4.0 -1.0 -4.0\n",
      "G  0.0 -2.0  0.0 -1.0 -3.0 -2.0 -2.0  6.0 -2.0 -4.0 -4.0 -2.0 -3.0 -3.0 -2.0  0.0 -2.0 -2.0 -3.0 -3.0 -1.0 -2.0 -1.0 -4.0\n",
      "H -2.0  0.0  1.0 -1.0 -3.0  0.0  0.0 -2.0  8.0 -3.0 -3.0 -1.0 -2.0 -1.0 -2.0 -1.0 -2.0 -2.0  2.0 -3.0  0.0  0.0 -1.0 -4.0\n",
      "I -1.0 -3.0 -3.0 -3.0 -1.0 -3.0 -3.0 -4.0 -3.0  4.0  2.0 -3.0  1.0  0.0 -3.0 -2.0 -1.0 -3.0 -1.0  3.0 -3.0 -3.0 -1.0 -4.0\n",
      "L -1.0 -2.0 -3.0 -4.0 -1.0 -2.0 -3.0 -4.0 -3.0  2.0  4.0 -2.0  2.0  0.0 -3.0 -2.0 -1.0 -2.0 -1.0  1.0 -4.0 -3.0 -1.0 -4.0\n",
      "K -1.0  2.0  0.0 -1.0 -3.0  1.0  1.0 -2.0 -1.0 -3.0 -2.0  5.0 -1.0 -3.0 -1.0  0.0 -1.0 -3.0 -2.0 -2.0  0.0  1.0 -1.0 -4.0\n",
      "M -1.0 -1.0 -2.0 -3.0 -1.0  0.0 -2.0 -3.0 -2.0  1.0  2.0 -1.0  5.0  0.0 -2.0 -1.0 -1.0 -1.0 -1.0  1.0 -3.0 -1.0 -1.0 -4.0\n",
      "F -2.0 -3.0 -3.0 -3.0 -2.0 -3.0 -3.0 -3.0 -1.0  0.0  0.0 -3.0  0.0  6.0 -4.0 -2.0 -2.0  1.0  3.0 -1.0 -3.0 -3.0 -1.0 -4.0\n",
      "P -1.0 -2.0 -2.0 -1.0 -3.0 -1.0 -1.0 -2.0 -2.0 -3.0 -3.0 -1.0 -2.0 -4.0  7.0 -1.0 -1.0 -4.0 -3.0 -2.0 -2.0 -1.0 -2.0 -4.0\n",
      "S  1.0 -1.0  1.0  0.0 -1.0  0.0  0.0  0.0 -1.0 -2.0 -2.0  0.0 -1.0 -2.0 -1.0  4.0  1.0 -3.0 -2.0 -2.0  0.0  0.0  0.0 -4.0\n",
      "T  0.0 -1.0  0.0 -1.0 -1.0 -1.0 -1.0 -2.0 -2.0 -1.0 -1.0 -1.0 -1.0 -2.0 -1.0  1.0  5.0 -2.0 -2.0  0.0 -1.0 -1.0  0.0 -4.0\n",
      "W -3.0 -3.0 -4.0 -4.0 -2.0 -2.0 -3.0 -2.0 -2.0 -3.0 -2.0 -3.0 -1.0  1.0 -4.0 -3.0 -2.0 11.0  2.0 -3.0 -4.0 -3.0 -2.0 -4.0\n",
      "Y -2.0 -2.0 -2.0 -3.0 -2.0 -1.0 -2.0 -3.0  2.0 -1.0 -1.0 -2.0 -1.0  3.0 -3.0 -2.0 -2.0  2.0  7.0 -1.0 -3.0 -2.0 -1.0 -4.0\n",
      "V  0.0 -3.0 -3.0 -3.0 -1.0 -2.0 -2.0 -3.0 -3.0  3.0  1.0 -2.0  1.0 -1.0 -2.0 -2.0  0.0 -3.0 -1.0  4.0 -3.0 -2.0 -1.0 -4.0\n",
      "B -2.0 -1.0  3.0  4.0 -3.0  0.0  1.0 -1.0  0.0 -3.0 -4.0  0.0 -3.0 -3.0 -2.0  0.0 -1.0 -4.0 -3.0 -3.0  4.0  1.0 -1.0 -4.0\n",
      "Z -1.0  0.0  0.0  1.0 -3.0  3.0  4.0 -2.0  0.0 -3.0 -3.0  1.0 -1.0 -3.0 -1.0  0.0 -1.0 -3.0 -2.0 -2.0  1.0  4.0 -1.0 -4.0\n",
      "X  0.0 -1.0 -1.0 -1.0 -2.0 -1.0 -1.0 -1.0 -1.0 -1.0 -1.0 -1.0 -1.0 -1.0 -2.0  0.0  0.0 -2.0 -1.0 -1.0 -1.0 -1.0 -1.0 -4.0\n",
      "* -4.0 -4.0 -4.0 -4.0 -4.0 -4.0 -4.0 -4.0 -4.0 -4.0 -4.0 -4.0 -4.0 -4.0 -4.0 -4.0 -4.0 -4.0 -4.0 -4.0 -4.0 -4.0 -4.0  1.0\n",
      "\n",
      "24.0\n",
      "Needleman-Wunsch\n"
     ]
    }
   ],
   "source": [
    "from Bio.Align import substitution_matrices\n",
    "substitution_matrices.load() \n",
    "matrix = substitution_matrices.load(\"BLOSUM62\")\n",
    "print(matrix)  #doctest: +ELLIPSIS\n",
    "aligner.substitution_matrix = matrix\n",
    "score = aligner.score(\"ACDQ\", \"ACDQ\")\n",
    "print(score)\n",
    "print(aligner.algorithm)"
   ]
  },
  {
   "cell_type": "code",
   "execution_count": 39,
   "id": "b45aa667",
   "metadata": {},
   "outputs": [],
   "source": [
    "alignments = aligner.align(seq1.replace('\\n', ''), seq2.replace('\\n', ''))"
   ]
  },
  {
   "cell_type": "code",
   "execution_count": 6,
   "id": "8d5f2fea",
   "metadata": {},
   "outputs": [],
   "source": [
    "import matplotlib.pyplot as plt\n",
    "import matplotlib.patches as patches"
   ]
  },
  {
   "cell_type": "markdown",
   "id": "8239bb42",
   "metadata": {},
   "source": [
    "dot . indicates weak conservation on substitution\n",
    "\n",
    "colon : indicates strong conservation on substitution\n",
    "\n",
    "pipe | indicates conserved (same)"
   ]
  },
  {
   "cell_type": "code",
   "execution_count": 138,
   "id": "31a96f0e",
   "metadata": {},
   "outputs": [],
   "source": [
    "\n",
    "def graph_pairwise(alignments, target_row, query_row, save = False, debug = False):\n",
    "    string_alignments = alignments[0].format().split('\\n')\n",
    "    target = string_alignments[0]\n",
    "    match_type = string_alignments[1]\n",
    "    query = string_alignments[2]\n",
    "    \n",
    "    length = len(target)\n",
    "    if debug:\n",
    "        print(length)\n",
    "    \n",
    "    # Create figure and axes\n",
    "    fig, ax = plt.subplots()\n",
    "    fig.set_size_inches(18.5, 2.25)\n",
    "    fig.suptitle(\"Spike Protien Amino Acid Sequence Comparison\",  fontsize = 'xx-large',  fontweight='normal', horizontalalignment = 'center')\n",
    "    ax.set_title(\"{0}({1}) difference from {2}({3})\".format(target_row['p_accession'], target_row['clade'], query_row['p_accession'], query_row['clade']), \n",
    "                 fontsize = 'x-large',  fontweight='normal', horizontalalignment = 'center')\n",
    "    ax.axes.get_xaxis().set_visible(False)\n",
    "    ax.axes.get_yaxis().set_visible(False)\n",
    "    ax.set_xlim([-15,1850])\n",
    "    ax.set_ylim([0.5,1.5])\n",
    "\n",
    "    y_height = 1\n",
    "    ax.hlines(y=y_height, xmin=0, xmax=length, linewidth=1, color='k')\n",
    "\n",
    "    up_factor = 0.03\n",
    "    # Create rectangle patches for subunits\n",
    "    rects = []\n",
    "    rects.append(patches.Rectangle((14, y_height - 3 * up_factor), 671, up_factor*6, linewidth=0, edgecolor='r', facecolor='#C5B0D5', label = \"S1\"))\n",
    "    rects.append(patches.Rectangle((686, y_height - 3 * up_factor), 587, up_factor*6, linewidth=0, edgecolor='b', facecolor='#F7B6D2', label = \"S2\"))\n",
    "\n",
    "    # Add patches to the Axes\n",
    "    for r in rects:\n",
    "        ax.add_patch(r)\n",
    "\n",
    "\n",
    "\n",
    "    x_insert =[]\n",
    "    x_delete =[]\n",
    "    x_sub_low =[]\n",
    "    x_sub_high =[]\n",
    "    up = 1\n",
    "    up_factor = 0.2\n",
    "    labels = []\n",
    "    for i in range(0, length):\n",
    "        if match_type[i] == '.':\n",
    "            # substitution, low conservation\n",
    "            x_sub_low.append(i)\n",
    "            labels.append({\"text\":target[i] + str(i) + query[i], 'xy' :(i, y_height + up *up_factor ), 'fontsize': 'large', 'verticalalignment':'center', 'horizontalalignment':'center'})\n",
    "            up = - up\n",
    "        elif match_type[i] == ':':\n",
    "            # subsitution, high conservation\n",
    "            x_sub_high.append(i)\n",
    "            labels.append({\"text\":target[i] + str(i) + query[i], 'xy' :(i, y_height + up *up_factor ), 'fontsize': 'large', 'verticalalignment':'center', 'horizontalalignment':'center'})\n",
    "            up = - up\n",
    "        elif match_type[i] == '-':\n",
    "            # deletion or insertion\n",
    "            if target[i] =='-':\n",
    "                # insertion\n",
    "                x_insert.append(i)\n",
    "                labels.append({\"text\":str(i) + query[i], 'xy' :(i, y_height + up *up_factor ), 'fontsize': 'large', 'verticalalignment':'center', 'horizontalalignment':'center'})\n",
    "                up = - up\n",
    "            else: \n",
    "                # deletion (alg not allowed to match gap to gap)\n",
    "                x_delete.append(i)\n",
    "                labels.append({\"text\": target[i] + str(i), 'xy' :(change[1], y_height + up *up_factor ), 'fontsize': 'large', 'verticalalignment':'center', 'horizontalalignment':'center'})\n",
    "                up = - up\n",
    "\n",
    "\n",
    "    ax.plot(x_insert ,[y_height for y in x_insert], color = 'tab:orange', marker='P', markersize=10, linewidth = 0, label = 'insertion')\n",
    "    ax.plot(x_delete ,[y_height for y in x_delete], color = 'tab:red', marker='X', markersize = 10, linewidth = 0, label = 'deletion')\n",
    "    ax.plot(x_sub_low ,[y_height for y in x_sub_low], color = 'tab:blue', marker='o', markersize= 8,linewidth = 0, label = 'substitution, semi-conservative')\n",
    "    ax.plot(x_sub_high ,[y_height for y in x_sub_high], color = 'tab:cyan', marker='o', markersize= 8,linewidth = 0, label = 'substitution, conservative')\n",
    "    ax.legend(fontsize = 'x-large', loc= 'center right')\n",
    "\n",
    "    for l in labels:\n",
    "        ax.annotate(**l)\n",
    "\n",
    "    # remove frame\n",
    "    ax.spines['top'].set_visible(False)\n",
    "    ax.spines['right'].set_visible(False)\n",
    "    ax.spines['bottom'].set_visible(False)\n",
    "    ax.spines['left'].set_visible(False)\n",
    "\n",
    "    plt.subplots_adjust(top=0.75)\n",
    "    plt.show()\n",
    "    if save:\n",
    "        fig.savefig('test.png', dpi=100, facecolor=fig.get_facecolor())\n",
    "        # missing the background behind the title on the saved image"
   ]
  },
  {
   "cell_type": "code",
   "execution_count": 139,
   "id": "38b20e1d",
   "metadata": {},
   "outputs": [
    {
     "name": "stdout",
     "output_type": "stream",
     "text": [
      "1273\n"
     ]
    },
    {
     "data": {
      "image/png": "[encoded data removed]",
      "text/plain": [
       "<Figure size 1332x162 with 1 Axes>"
      ]
     },
     "metadata": {
      "needs_background": "light"
     },
     "output_type": "display_data"
    }
   ],
   "source": [
    "graph_pairwise(alignments, df.loc[df['p_accession'] == 'QKS89879'].to_dict('records')[0], df.loc[df['p_accession'] == 'QKS89879'].to_dict('records')[0], save = False, debug = True)"
   ]
  },
  {
   "cell_type": "code",
   "execution_count": 734,
   "id": "abe66382",
   "metadata": {},
   "outputs": [],
   "source": [
    "import plotly.graph_objects as go\n",
    "import math"
   ]
  },
  {
   "cell_type": "code",
   "execution_count": 843,
   "id": "e01f70eb",
   "metadata": {},
   "outputs": [],
   "source": [
    "def plot_alignment_plotly(alignments, target_row, query_row, save = False, debug = False):\n",
    "    string_alignments = alignments[0].format().split('\\n')\n",
    "    target = string_alignments[0]\n",
    "    match_type = string_alignments[1]\n",
    "    query = string_alignments[2]\n",
    "    y_height = 1\n",
    "    length = len(target)\n",
    "    if debug:\n",
    "        print(length)\n",
    "        \n",
    "    x_insert =[None]\n",
    "    x_delete =[None]\n",
    "    x_sub_low =[None]\n",
    "    x_sub_high =[None] # none means it will show in legend even when there is no data\n",
    "\n",
    "    labels = []\n",
    "    yshift = 18\n",
    "    level = 0\n",
    "    for i in range(0, length):\n",
    "        if match_type[i] == '.':\n",
    "            # substitution, low conservation\n",
    "            x_sub_low.append(i)\n",
    "            labels.append({\"text\":target[i] + str(i) + query[i], 'x':i, 'y':y_height , \n",
    "                           'font' :{'size': 12}, 'showarrow':False, 'yshift': yshift * (level % 2 + 1), 'yanchor':'middle', 'xanchor':'center'})\n",
    "           \n",
    "            if yshift < 0:\n",
    "                level = level + 1\n",
    "            yshift = -yshift\n",
    "        elif match_type[i] == ':':\n",
    "            # subsitution, high conservation\n",
    "            x_sub_high.append(i)\n",
    "            labels.append({\"text\":target[i] + str(i) + query[i], 'x' :i,  'y':y_height , \n",
    "                           'font' :{'size': 12}, 'showarrow':False, 'yshift': yshift * (level % 2 + 1), 'yanchor':'middle', 'xanchor':'center'})\n",
    "            if yshift < 0:\n",
    "                level = level + 1\n",
    "            yshift = -yshift\n",
    "        elif match_type[i] == '-':\n",
    "            # deletion or insertion\n",
    "            if target[i] =='-':\n",
    "                # insertion\n",
    "                x_insert.append(i)\n",
    "                labels.append({\"text\":str(i) + query[i], 'x' :i,  'y':y_height , \n",
    "                           'font' :{'size': 12}, 'showarrow':False, 'yshift': yshift * (level % 2 + 1), 'yanchor':'middle', 'xanchor':'center'})\n",
    "                if yshift < 0:\n",
    "                    level = level + 1\n",
    "                yshift = -yshift\n",
    "            else: \n",
    "                # deletion (alg not allowed to match gap to gap)\n",
    "                x_delete.append(i)\n",
    "                labels.append({\"text\": target[i] + str(i), 'x' :i, 'y':y_height , \n",
    "                           'font' :{'size': 12}, 'showarrow':False, 'yshift': yshift * (level % 2 + 1), 'yanchor':'middle', 'xanchor':'center'})\n",
    "                if yshift < 0:\n",
    "                    level = level + 1\n",
    "                yshift = -yshift\n",
    "                \n",
    "    total = len(x_insert)+ len(x_delete) +len(x_sub_low) + len(x_sub_high) - 4 # total number of changes\n",
    "    counts = [len(x_insert)-1, len(x_delete) - 1, len(x_sub_low) -1 , len(x_sub_high) - 1 ]\n",
    "    names = ['Insertions', 'Deletions', 'Substitution, semi-conservative', 'Substitution, conservative']\n",
    "    \n",
    "    if debug:\n",
    "        print(total)\n",
    "\n",
    "    fig = go.Figure(\n",
    "        [go.Scatter( # base gray line\n",
    "            mode = \"lines\",\n",
    "            x =  [0, length],\n",
    "            y = [y_height, y_height], \n",
    "            name = \"sequence line\",\n",
    "            line = {'color':  'gray'},\n",
    "            showlegend = False,\n",
    "            hoverinfo = 'skip'\n",
    "        ),\n",
    "         go.Scatter( # S1  line\n",
    "            mode = \"lines\",\n",
    "            x =  [14, 685],\n",
    "            y = [y_height, y_height], \n",
    "            name = \"S1\",\n",
    "            line = {'color':  'plum', 'width' : 3},\n",
    "            legendgroup = 'Subunit',\n",
    "            showlegend = True,\n",
    "            hoverinfo = 'skip'\n",
    "        ),\n",
    "         go.Scatter( # S2  line\n",
    "            mode = \"lines\",\n",
    "            x =  [686, 1273],\n",
    "            y = [y_height, y_height], \n",
    "            name = \"S2\",\n",
    "            line = {'color':  'pink', 'width':3},\n",
    "            legendgroup = 'Subunit',\n",
    "            showlegend = True,\n",
    "            hoverinfo = 'skip'\n",
    "        ),\n",
    "        go.Scatter( # insert markers\n",
    "            mode = \"markers\",\n",
    "            x = x_insert ,\n",
    "            y = [y_height for y in x_insert], \n",
    "            name = \"insertion\",\n",
    "            marker=dict(size=8, color = 'orange', symbol = 'square'),\n",
    "            legendgroup = 'changes',\n",
    "            showlegend = True,\n",
    "            hoverinfo = 'x'\n",
    "        ),\n",
    "          go.Scatter( # delete markers\n",
    "            mode = \"markers\",\n",
    "            x = x_delete,\n",
    "            y = [y_height for y in x_delete], \n",
    "            name = \"deletion\",\n",
    "            marker=dict(size=8, color = 'red', symbol = 'square'),\n",
    "            legendgroup = 'changes',\n",
    "            showlegend = True,\n",
    "            hoverinfo = 'x'\n",
    "        ),\n",
    "         go.Scatter( # sub semi markers\n",
    "            mode = \"markers\",\n",
    "            x = x_sub_low ,\n",
    "            y = [y_height for y in x_sub_low], \n",
    "            name = \"substitution, semi-conservative\",\n",
    "            marker=dict(size=8, color = 'blue', symbol = 'circle'),\n",
    "            legendgroup = 'changes',\n",
    "             showlegend = True,\n",
    "            hoverinfo = 'x'\n",
    "        ),\n",
    "          go.Scatter( # sub conservative markers\n",
    "            mode = \"markers\",\n",
    "            x = x_sub_high ,\n",
    "            y = [y_height for y in x_sub_high], \n",
    "            name = \"substitution, conservative\",\n",
    "            marker=dict(size=8, color = 'lightblue', symbol = 'circle'),\n",
    "            legendgroup = 'changes',\n",
    "            showlegend = True,\n",
    "            hoverinfo = 'x'\n",
    "        ),\n",
    "          go.Bar( # score bar\n",
    "             x = [length, (math.log(alignments[0].score) / math.log(4*length)) * length], # best score is when all positions match, match contributes score of 4\n",
    "                                         # since penalty for mismatch is so heavy (1000) using log will make the score look more intuitive\n",
    "             y = [0.08, 0.08],\n",
    "             orientation = 'h',\n",
    "             showlegend = False,\n",
    "             width = 0.16,\n",
    "             text = [None, int(alignments[0].score)], # score should always be int, we don't need decimal precision and don't want .0 cluttering\n",
    "             textposition = ['inside', \"outside\"],\n",
    "             marker_color =['lightgray', 'gray'],\n",
    "             hoverinfo = 'skip'\n",
    "         ) ,\n",
    "        go.Bar( # counts bars\n",
    "             name = \"counts\",\n",
    "             x = [1540, 1590, 1640,1700], \n",
    "             y = [(c/total) *0.9 for c in counts ],\n",
    "             showlegend = False,\n",
    "             width = 30,\n",
    "             text =  counts, \n",
    "             marker_color =['orange', 'red', 'blue', 'lightblue'],\n",
    "             marker = {'line' :dict(width = 2, color = ['orange','red','blue','lightblue'])},\n",
    "             textposition = 'outside',\n",
    "             hoverinfo = 'skip' # can't get the names without them in x,y,text\n",
    "         )\n",
    "\n",
    "        ]\n",
    "    )\n",
    "\n",
    "    fig.update_xaxes(\n",
    "            range = [-15,1850],\n",
    "            showgrid=False, # thin lines in the background\n",
    "            zeroline= False, # thick line at x=0\n",
    "            visible= False  # numbers below\n",
    "            )\n",
    "\n",
    "    fig.update_yaxes(\n",
    "            range =[0,1.5],\n",
    "            showgrid= False, # thin lines in the background\n",
    "            zeroline= False, # thick line at x=0\n",
    "            visible= False  # numbers below\n",
    "            )\n",
    "    \n",
    "    labels.append({'x': 0, 'y':0.25 ,'text': \"Alignment Score\" ,'font': { 'size': 12},'showarrow':False, 'xanchor':'left', 'yanchor':'bottom' })\n",
    "    labels.append({'x':1450, 'y':0, 'text':'counts', 'yanchor':'bottom','showarrow':False, 'textangle':0})\n",
    "    subtitle = \"{0} (T{4}, {1}) difference from {2} (T{5}, {3})\".format(target_row['p_accession'], target_row['clade'], query_row['p_accession'], query_row['clade'], target_row['timespan'], query_row['timespan'])\n",
    "    \n",
    "    fig.update_layout(plot_bgcolor='white',\n",
    "                      height=380,\n",
    "                      width = 1100,\n",
    "                      barmode = 'overlay',\n",
    "                      title = dict(text = \"Spike Protien Amino Acid Sequence Comparison<br><sup>{0}<sup>\".format(subtitle),\n",
    "                                   x = 0.1\n",
    "                                  ),\n",
    "                      legend=dict(\n",
    "                                yanchor=\"middle\",\n",
    "                                y=1,\n",
    "                                xanchor=\"right\",\n",
    "                                x=1\n",
    "                    ),\n",
    "                      annotations= labels\n",
    "    )\n",
    "    \n",
    "    fig.show()\n",
    "    if save:\n",
    "        fig.write_html('test2.html')\n",
    "        fig.write_image('test2.png')\n"
   ]
  },
  {
   "cell_type": "code",
   "execution_count": 844,
   "id": "bb762dc5",
   "metadata": {},
   "outputs": [
    {
     "data": {
      "application/vnd.plotly.v1+json": {
       "config": {
        "plotlyServerURL": "https://plot.ly"
       },
       "data": [
        {
         "hoverinfo": "skip",
         "line": {
          "color": "gray"
         },
         "mode": "lines",
         "name": "sequence line",
         "showlegend": false,
         "type": "scatter",
         "x": [
          0,
          1273
         ],
         "y": [
          1,
          1
         ]
        },
        {
         "hoverinfo": "skip",
         "legendgroup": "Subunit",
         "line": {
          "color": "plum",
          "width": 3
         },
         "mode": "lines",
         "name": "S1",
         "showlegend": true,
         "type": "scatter",
         "x": [
          14,
          685
         ],
         "y": [
          1,
          1
         ]
        },
        {
         "hoverinfo": "skip",
         "legendgroup": "Subunit",
         "line": {
          "color": "pink",
          "width": 3
         },
         "mode": "lines",
         "name": "S2",
         "showlegend": true,
         "type": "scatter",
         "x": [
          686,
          1273
         ],
         "y": [
          1,
          1
         ]
        },
        {
         "hoverinfo": "x",
         "legendgroup": "changes",
         "marker": {
          "color": "orange",
          "size": 8,
          "symbol": "square"
         },
         "mode": "markers",
         "name": "insertion",
         "showlegend": true,
         "type": "scatter",
         "x": [
          null,
          68,
          69,
          143
         ],
         "y": [
          1,
          1,
          1,
          1
         ]
        },
        {
         "hoverinfo": "x",
         "legendgroup": "changes",
         "marker": {
          "color": "red",
          "size": 8,
          "symbol": "square"
         },
         "mode": "markers",
         "name": "deletion",
         "showlegend": true,
         "type": "scatter",
         "x": [
          null
         ],
         "y": [
          1
         ]
        },
        {
         "hoverinfo": "x",
         "legendgroup": "changes",
         "marker": {
          "color": "blue",
          "size": 8,
          "symbol": "circle"
         },
         "mode": "markers",
         "name": "substitution, semi-conservative",
         "showlegend": true,
         "type": "scatter",
         "x": [
          null,
          482,
          500,
          569,
          613,
          680,
          715,
          981,
          1117,
          1265
         ],
         "y": [
          1,
          1,
          1,
          1,
          1,
          1,
          1,
          1,
          1,
          1
         ]
        },
        {
         "hoverinfo": "x",
         "legendgroup": "changes",
         "marker": {
          "color": "lightblue",
          "size": 8,
          "symbol": "circle"
         },
         "mode": "markers",
         "name": "substitution, conservative",
         "showlegend": true,
         "type": "scatter",
         "x": [
          null
         ],
         "y": [
          1
         ]
        },
        {
         "hoverinfo": "skip",
         "marker": {
          "color": [
           "lightgray",
           "gray"
          ]
         },
         "orientation": "h",
         "showlegend": false,
         "text": [
          null,
          "2035"
         ],
         "textposition": [
          "inside",
          "outside"
         ],
         "type": "bar",
         "width": 0.16,
         "x": [
          1273,
          1136.209685774568
         ],
         "y": [
          0.08,
          0.08
         ]
        },
        {
         "hoverinfo": "skip",
         "marker": {
          "color": [
           "orange",
           "red",
           "blue",
           "lightblue"
          ],
          "line": {
           "color": [
            "orange",
            "red",
            "blue",
            "lightblue"
           ],
           "width": 2
          }
         },
         "name": "counts",
         "showlegend": false,
         "text": [
          "3",
          "0",
          "9",
          "0"
         ],
         "textposition": "outside",
         "type": "bar",
         "width": 30,
         "x": [
          1540,
          1590,
          1640,
          1700
         ],
         "y": [
          0.225,
          0,
          0.675,
          0
         ]
        }
       ],
       "layout": {
        "annotations": [
         {
          "font": {
           "size": 12
          },
          "showarrow": false,
          "text": "68H",
          "x": 68,
          "xanchor": "center",
          "y": 1,
          "yanchor": "middle",
          "yshift": 18
         },
         {
          "font": {
           "size": 12
          },
          "showarrow": false,
          "text": "69V",
          "x": 69,
          "xanchor": "center",
          "y": 1,
          "yanchor": "middle",
          "yshift": -18
         },
         {
          "font": {
           "size": 12
          },
          "showarrow": false,
          "text": "143Y",
          "x": 143,
          "xanchor": "center",
          "y": 1,
          "yanchor": "middle",
          "yshift": 36
         },
         {
          "font": {
           "size": 12
          },
          "showarrow": false,
          "text": "V482A",
          "x": 482,
          "xanchor": "center",
          "y": 1,
          "yanchor": "middle",
          "yshift": -36
         },
         {
          "font": {
           "size": 12
          },
          "showarrow": false,
          "text": "Y500N",
          "x": 500,
          "xanchor": "center",
          "y": 1,
          "yanchor": "middle",
          "yshift": 18
         },
         {
          "font": {
           "size": 12
          },
          "showarrow": false,
          "text": "D569A",
          "x": 569,
          "xanchor": "center",
          "y": 1,
          "yanchor": "middle",
          "yshift": -18
         },
         {
          "font": {
           "size": 12
          },
          "showarrow": false,
          "text": "G613D",
          "x": 613,
          "xanchor": "center",
          "y": 1,
          "yanchor": "middle",
          "yshift": 36
         },
         {
          "font": {
           "size": 12
          },
          "showarrow": false,
          "text": "H680P",
          "x": 680,
          "xanchor": "center",
          "y": 1,
          "yanchor": "middle",
          "yshift": -36
         },
         {
          "font": {
           "size": 12
          },
          "showarrow": false,
          "text": "I715T",
          "x": 715,
          "xanchor": "center",
          "y": 1,
          "yanchor": "middle",
          "yshift": 18
         },
         {
          "font": {
           "size": 12
          },
          "showarrow": false,
          "text": "A981S",
          "x": 981,
          "xanchor": "center",
          "y": 1,
          "yanchor": "middle",
          "yshift": -18
         },
         {
          "font": {
           "size": 12
          },
          "showarrow": false,
          "text": "H1117D",
          "x": 1117,
          "xanchor": "center",
          "y": 1,
          "yanchor": "middle",
          "yshift": 36
         },
         {
          "font": {
           "size": 12
          },
          "showarrow": false,
          "text": "R1265K",
          "x": 1265,
          "xanchor": "center",
          "y": 1,
          "yanchor": "middle",
          "yshift": -36
         },
         {
          "font": {
           "size": 12
          },
          "showarrow": false,
          "text": "Alignment Score",
          "x": 0,
          "xanchor": "left",
          "y": 0.25,
          "yanchor": "bottom"
         },
         {
          "showarrow": false,
          "text": "counts",
          "textangle": 0,
          "x": 1450,
          "y": 0,
          "yanchor": "bottom"
         }
        ],
        "barmode": "overlay",
        "height": 380,
        "legend": {
         "x": 1,
         "xanchor": "right",
         "y": 1,
         "yanchor": "middle"
        },
        "plot_bgcolor": "white",
        "template": {
         "data": {
          "bar": [
           {
            "error_x": {
             "color": "#2a3f5f"
            },
            "error_y": {
             "color": "#2a3f5f"
            },
            "marker": {
             "line": {
              "color": "#E5ECF6",
              "width": 0.5
             },
             "pattern": {
              "fillmode": "overlay",
              "size": 10,
              "solidity": 0.2
             }
            },
            "type": "bar"
           }
          ],
          "barpolar": [
           {
            "marker": {
             "line": {
              "color": "#E5ECF6",
              "width": 0.5
             },
             "pattern": {
              "fillmode": "overlay",
              "size": 10,
              "solidity": 0.2
             }
            },
            "type": "barpolar"
           }
          ],
          "carpet": [
           {
            "aaxis": {
             "endlinecolor": "#2a3f5f",
             "gridcolor": "white",
             "linecolor": "white",
             "minorgridcolor": "white",
             "startlinecolor": "#2a3f5f"
            },
            "baxis": {
             "endlinecolor": "#2a3f5f",
             "gridcolor": "white",
             "linecolor": "white",
             "minorgridcolor": "white",
             "startlinecolor": "#2a3f5f"
            },
            "type": "carpet"
           }
          ],
          "choropleth": [
           {
            "colorbar": {
             "outlinewidth": 0,
             "ticks": ""
            },
            "type": "choropleth"
           }
          ],
          "contour": [
           {
            "colorbar": {
             "outlinewidth": 0,
             "ticks": ""
            },
            "colorscale": [
             [
              0,
              "#0d0887"
             ],
             [
              0.1111111111111111,
              "#46039f"
             ],
             [
              0.2222222222222222,
              "#7201a8"
             ],
             [
              0.3333333333333333,
              "#9c179e"
             ],
             [
              0.4444444444444444,
              "#bd3786"
             ],
             [
              0.5555555555555556,
              "#d8576b"
             ],
             [
              0.6666666666666666,
              "#ed7953"
             ],
             [
              0.7777777777777778,
              "#fb9f3a"
             ],
             [
              0.8888888888888888,
              "#fdca26"
             ],
             [
              1,
              "#f0f921"
             ]
            ],
            "type": "contour"
           }
          ],
          "contourcarpet": [
           {
            "colorbar": {
             "outlinewidth": 0,
             "ticks": ""
            },
            "type": "contourcarpet"
           }
          ],
          "heatmap": [
           {
            "colorbar": {
             "outlinewidth": 0,
             "ticks": ""
            },
            "colorscale": [
             [
              0,
              "#0d0887"
             ],
             [
              0.1111111111111111,
              "#46039f"
             ],
             [
              0.2222222222222222,
              "#7201a8"
             ],
             [
              0.3333333333333333,
              "#9c179e"
             ],
             [
              0.4444444444444444,
              "#bd3786"
             ],
             [
              0.5555555555555556,
              "#d8576b"
             ],
             [
              0.6666666666666666,
              "#ed7953"
             ],
             [
              0.7777777777777778,
              "#fb9f3a"
             ],
             [
              0.8888888888888888,
              "#fdca26"
             ],
             [
              1,
              "#f0f921"
             ]
            ],
            "type": "heatmap"
           }
          ],
          "heatmapgl": [
           {
            "colorbar": {
             "outlinewidth": 0,
             "ticks": ""
            },
            "colorscale": [
             [
              0,
              "#0d0887"
             ],
             [
              0.1111111111111111,
              "#46039f"
             ],
             [
              0.2222222222222222,
              "#7201a8"
             ],
             [
              0.3333333333333333,
              "#9c179e"
             ],
             [
              0.4444444444444444,
              "#bd3786"
             ],
             [
              0.5555555555555556,
              "#d8576b"
             ],
             [
              0.6666666666666666,
              "#ed7953"
             ],
             [
              0.7777777777777778,
              "#fb9f3a"
             ],
             [
              0.8888888888888888,
              "#fdca26"
             ],
             [
              1,
              "#f0f921"
             ]
            ],
            "type": "heatmapgl"
           }
          ],
          "histogram": [
           {
            "marker": {
             "pattern": {
              "fillmode": "overlay",
              "size": 10,
              "solidity": 0.2
             }
            },
            "type": "histogram"
           }
          ],
          "histogram2d": [
           {
            "colorbar": {
             "outlinewidth": 0,
             "ticks": ""
            },
            "colorscale": [
             [
              0,
              "#0d0887"
             ],
             [
              0.1111111111111111,
              "#46039f"
             ],
             [
              0.2222222222222222,
              "#7201a8"
             ],
             [
              0.3333333333333333,
              "#9c179e"
             ],
             [
              0.4444444444444444,
              "#bd3786"
             ],
             [
              0.5555555555555556,
              "#d8576b"
             ],
             [
              0.6666666666666666,
              "#ed7953"
             ],
             [
              0.7777777777777778,
              "#fb9f3a"
             ],
             [
              0.8888888888888888,
              "#fdca26"
             ],
             [
              1,
              "#f0f921"
             ]
            ],
            "type": "histogram2d"
           }
          ],
          "histogram2dcontour": [
           {
            "colorbar": {
             "outlinewidth": 0,
             "ticks": ""
            },
            "colorscale": [
             [
              0,
              "#0d0887"
             ],
             [
              0.1111111111111111,
              "#46039f"
             ],
             [
              0.2222222222222222,
              "#7201a8"
             ],
             [
              0.3333333333333333,
              "#9c179e"
             ],
             [
              0.4444444444444444,
              "#bd3786"
             ],
             [
              0.5555555555555556,
              "#d8576b"
             ],
             [
              0.6666666666666666,
              "#ed7953"
             ],
             [
              0.7777777777777778,
              "#fb9f3a"
             ],
             [
              0.8888888888888888,
              "#fdca26"
             ],
             [
              1,
              "#f0f921"
             ]
            ],
            "type": "histogram2dcontour"
           }
          ],
          "mesh3d": [
           {
            "colorbar": {
             "outlinewidth": 0,
             "ticks": ""
            },
            "type": "mesh3d"
           }
          ],
          "parcoords": [
           {
            "line": {
             "colorbar": {
              "outlinewidth": 0,
              "ticks": ""
             }
            },
            "type": "parcoords"
           }
          ],
          "pie": [
           {
            "automargin": true,
            "type": "pie"
           }
          ],
          "scatter": [
           {
            "marker": {
             "colorbar": {
              "outlinewidth": 0,
              "ticks": ""
             }
            },
            "type": "scatter"
           }
          ],
          "scatter3d": [
           {
            "line": {
             "colorbar": {
              "outlinewidth": 0,
              "ticks": ""
             }
            },
            "marker": {
             "colorbar": {
              "outlinewidth": 0,
              "ticks": ""
             }
            },
            "type": "scatter3d"
           }
          ],
          "scattercarpet": [
           {
            "marker": {
             "colorbar": {
              "outlinewidth": 0,
              "ticks": ""
             }
            },
            "type": "scattercarpet"
           }
          ],
          "scattergeo": [
           {
            "marker": {
             "colorbar": {
              "outlinewidth": 0,
              "ticks": ""
             }
            },
            "type": "scattergeo"
           }
          ],
          "scattergl": [
           {
            "marker": {
             "colorbar": {
              "outlinewidth": 0,
              "ticks": ""
             }
            },
            "type": "scattergl"
           }
          ],
          "scattermapbox": [
           {
            "marker": {
             "colorbar": {
              "outlinewidth": 0,
              "ticks": ""
             }
            },
            "type": "scattermapbox"
           }
          ],
          "scatterpolar": [
           {
            "marker": {
             "colorbar": {
              "outlinewidth": 0,
              "ticks": ""
             }
            },
            "type": "scatterpolar"
           }
          ],
          "scatterpolargl": [
           {
            "marker": {
             "colorbar": {
              "outlinewidth": 0,
              "ticks": ""
             }
            },
            "type": "scatterpolargl"
           }
          ],
          "scatterternary": [
           {
            "marker": {
             "colorbar": {
              "outlinewidth": 0,
              "ticks": ""
             }
            },
            "type": "scatterternary"
           }
          ],
          "surface": [
           {
            "colorbar": {
             "outlinewidth": 0,
             "ticks": ""
            },
            "colorscale": [
             [
              0,
              "#0d0887"
             ],
             [
              0.1111111111111111,
              "#46039f"
             ],
             [
              0.2222222222222222,
              "#7201a8"
             ],
             [
              0.3333333333333333,
              "#9c179e"
             ],
             [
              0.4444444444444444,
              "#bd3786"
             ],
             [
              0.5555555555555556,
              "#d8576b"
             ],
             [
              0.6666666666666666,
              "#ed7953"
             ],
             [
              0.7777777777777778,
              "#fb9f3a"
             ],
             [
              0.8888888888888888,
              "#fdca26"
             ],
             [
              1,
              "#f0f921"
             ]
            ],
            "type": "surface"
           }
          ],
          "table": [
           {
            "cells": {
             "fill": {
              "color": "#EBF0F8"
             },
             "line": {
              "color": "white"
             }
            },
            "header": {
             "fill": {
              "color": "#C8D4E3"
             },
             "line": {
              "color": "white"
             }
            },
            "type": "table"
           }
          ]
         },
         "layout": {
          "annotationdefaults": {
           "arrowcolor": "#2a3f5f",
           "arrowhead": 0,
           "arrowwidth": 1
          },
          "autotypenumbers": "strict",
          "coloraxis": {
           "colorbar": {
            "outlinewidth": 0,
            "ticks": ""
           }
          },
          "colorscale": {
           "diverging": [
            [
             0,
             "#8e0152"
            ],
            [
             0.1,
             "#c51b7d"
            ],
            [
             0.2,
             "#de77ae"
            ],
            [
             0.3,
             "#f1b6da"
            ],
            [
             0.4,
             "#fde0ef"
            ],
            [
             0.5,
             "#f7f7f7"
            ],
            [
             0.6,
             "#e6f5d0"
            ],
            [
             0.7,
             "#b8e186"
            ],
            [
             0.8,
             "#7fbc41"
            ],
            [
             0.9,
             "#4d9221"
            ],
            [
             1,
             "#276419"
            ]
           ],
           "sequential": [
            [
             0,
             "#0d0887"
            ],
            [
             0.1111111111111111,
             "#46039f"
            ],
            [
             0.2222222222222222,
             "#7201a8"
            ],
            [
             0.3333333333333333,
             "#9c179e"
            ],
            [
             0.4444444444444444,
             "#bd3786"
            ],
            [
             0.5555555555555556,
             "#d8576b"
            ],
            [
             0.6666666666666666,
             "#ed7953"
            ],
            [
             0.7777777777777778,
             "#fb9f3a"
            ],
            [
             0.8888888888888888,
             "#fdca26"
            ],
            [
             1,
             "#f0f921"
            ]
           ],
           "sequentialminus": [
            [
             0,
             "#0d0887"
            ],
            [
             0.1111111111111111,
             "#46039f"
            ],
            [
             0.2222222222222222,
             "#7201a8"
            ],
            [
             0.3333333333333333,
             "#9c179e"
            ],
            [
             0.4444444444444444,
             "#bd3786"
            ],
            [
             0.5555555555555556,
             "#d8576b"
            ],
            [
             0.6666666666666666,
             "#ed7953"
            ],
            [
             0.7777777777777778,
             "#fb9f3a"
            ],
            [
             0.8888888888888888,
             "#fdca26"
            ],
            [
             1,
             "#f0f921"
            ]
           ]
          },
          "colorway": [
           "#636efa",
           "#EF553B",
           "#00cc96",
           "#ab63fa",
           "#FFA15A",
           "#19d3f3",
           "#FF6692",
           "#B6E880",
           "#FF97FF",
           "#FECB52"
          ],
          "font": {
           "color": "#2a3f5f"
          },
          "geo": {
           "bgcolor": "white",
           "lakecolor": "white",
           "landcolor": "#E5ECF6",
           "showlakes": true,
           "showland": true,
           "subunitcolor": "white"
          },
          "hoverlabel": {
           "align": "left"
          },
          "hovermode": "closest",
          "mapbox": {
           "style": "light"
          },
          "paper_bgcolor": "white",
          "plot_bgcolor": "#E5ECF6",
          "polar": {
           "angularaxis": {
            "gridcolor": "white",
            "linecolor": "white",
            "ticks": ""
           },
           "bgcolor": "#E5ECF6",
           "radialaxis": {
            "gridcolor": "white",
            "linecolor": "white",
            "ticks": ""
           }
          },
          "scene": {
           "xaxis": {
            "backgroundcolor": "#E5ECF6",
            "gridcolor": "white",
            "gridwidth": 2,
            "linecolor": "white",
            "showbackground": true,
            "ticks": "",
            "zerolinecolor": "white"
           },
           "yaxis": {
            "backgroundcolor": "#E5ECF6",
            "gridcolor": "white",
            "gridwidth": 2,
            "linecolor": "white",
            "showbackground": true,
            "ticks": "",
            "zerolinecolor": "white"
           },
           "zaxis": {
            "backgroundcolor": "#E5ECF6",
            "gridcolor": "white",
            "gridwidth": 2,
            "linecolor": "white",
            "showbackground": true,
            "ticks": "",
            "zerolinecolor": "white"
           }
          },
          "shapedefaults": {
           "line": {
            "color": "#2a3f5f"
           }
          },
          "ternary": {
           "aaxis": {
            "gridcolor": "white",
            "linecolor": "white",
            "ticks": ""
           },
           "baxis": {
            "gridcolor": "white",
            "linecolor": "white",
            "ticks": ""
           },
           "bgcolor": "#E5ECF6",
           "caxis": {
            "gridcolor": "white",
            "linecolor": "white",
            "ticks": ""
           }
          },
          "title": {
           "x": 0.05
          },
          "xaxis": {
           "automargin": true,
           "gridcolor": "white",
           "linecolor": "white",
           "ticks": "",
           "title": {
            "standoff": 15
           },
           "zerolinecolor": "white",
           "zerolinewidth": 2
          },
          "yaxis": {
           "automargin": true,
           "gridcolor": "white",
           "linecolor": "white",
           "ticks": "",
           "title": {
            "standoff": 15
           },
           "zerolinecolor": "white",
           "zerolinewidth": 2
          }
         }
        },
        "title": {
         "text": "Spike Protien Amino Acid Sequence Comparison<br><sup>QKS89879 (T1, 19B) difference from QKS89879 (T1, 19B)<sup>",
         "x": 0.1
        },
        "width": 1100,
        "xaxis": {
         "range": [
          -15,
          1850
         ],
         "showgrid": false,
         "visible": false,
         "zeroline": false
        },
        "yaxis": {
         "range": [
          0,
          1.5
         ],
         "showgrid": false,
         "visible": false,
         "zeroline": false
        }
       }
      },
      "text/html": [
       "<div>                            <div id=\"10ce0444-deb1-401b-bb88-2755aac49dc3\" class=\"plotly-graph-div\" style=\"height:380px; width:1100px;\"></div>            <script type=\"text/javascript\">                require([\"plotly\"], function(Plotly) {                    window.PLOTLYENV=window.PLOTLYENV || {};                                    if (document.getElementById(\"10ce0444-deb1-401b-bb88-2755aac49dc3\")) {                    Plotly.newPlot(                        \"10ce0444-deb1-401b-bb88-2755aac49dc3\",                        [{\"hoverinfo\":\"skip\",\"line\":{\"color\":\"gray\"},\"mode\":\"lines\",\"name\":\"sequence line\",\"showlegend\":false,\"x\":[0,1273],\"y\":[1,1],\"type\":\"scatter\"},{\"hoverinfo\":\"skip\",\"legendgroup\":\"Subunit\",\"line\":{\"color\":\"plum\",\"width\":3},\"mode\":\"lines\",\"name\":\"S1\",\"showlegend\":true,\"x\":[14,685],\"y\":[1,1],\"type\":\"scatter\"},{\"hoverinfo\":\"skip\",\"legendgroup\":\"Subunit\",\"line\":{\"color\":\"pink\",\"width\":3},\"mode\":\"lines\",\"name\":\"S2\",\"showlegend\":true,\"x\":[686,1273],\"y\":[1,1],\"type\":\"scatter\"},{\"hoverinfo\":\"x\",\"legendgroup\":\"changes\",\"marker\":{\"color\":\"orange\",\"size\":8,\"symbol\":\"square\"},\"mode\":\"markers\",\"name\":\"insertion\",\"showlegend\":true,\"x\":[null,68,69,143],\"y\":[1,1,1,1],\"type\":\"scatter\"},{\"hoverinfo\":\"x\",\"legendgroup\":\"changes\",\"marker\":{\"color\":\"red\",\"size\":8,\"symbol\":\"square\"},\"mode\":\"markers\",\"name\":\"deletion\",\"showlegend\":true,\"x\":[null],\"y\":[1],\"type\":\"scatter\"},{\"hoverinfo\":\"x\",\"legendgroup\":\"changes\",\"marker\":{\"color\":\"blue\",\"size\":8,\"symbol\":\"circle\"},\"mode\":\"markers\",\"name\":\"substitution, semi-conservative\",\"showlegend\":true,\"x\":[null,482,500,569,613,680,715,981,1117,1265],\"y\":[1,1,1,1,1,1,1,1,1,1],\"type\":\"scatter\"},{\"hoverinfo\":\"x\",\"legendgroup\":\"changes\",\"marker\":{\"color\":\"lightblue\",\"size\":8,\"symbol\":\"circle\"},\"mode\":\"markers\",\"name\":\"substitution, conservative\",\"showlegend\":true,\"x\":[null],\"y\":[1],\"type\":\"scatter\"},{\"hoverinfo\":\"skip\",\"marker\":{\"color\":[\"lightgray\",\"gray\"]},\"orientation\":\"h\",\"showlegend\":false,\"text\":[null,\"2035\"],\"textposition\":[\"inside\",\"outside\"],\"width\":0.16,\"x\":[1273,1136.209685774568],\"y\":[0.08,0.08],\"type\":\"bar\"},{\"hoverinfo\":\"skip\",\"marker\":{\"color\":[\"orange\",\"red\",\"blue\",\"lightblue\"],\"line\":{\"color\":[\"orange\",\"red\",\"blue\",\"lightblue\"],\"width\":2}},\"name\":\"counts\",\"showlegend\":false,\"text\":[\"3\",\"0\",\"9\",\"0\"],\"textposition\":\"outside\",\"width\":30,\"x\":[1540,1590,1640,1700],\"y\":[0.225,0.0,0.675,0.0],\"type\":\"bar\"}],                        {\"template\":{\"data\":{\"bar\":[{\"error_x\":{\"color\":\"#2a3f5f\"},\"error_y\":{\"color\":\"#2a3f5f\"},\"marker\":{\"line\":{\"color\":\"#E5ECF6\",\"width\":0.5},\"pattern\":{\"fillmode\":\"overlay\",\"size\":10,\"solidity\":0.2}},\"type\":\"bar\"}],\"barpolar\":[{\"marker\":{\"line\":{\"color\":\"#E5ECF6\",\"width\":0.5},\"pattern\":{\"fillmode\":\"overlay\",\"size\":10,\"solidity\":0.2}},\"type\":\"barpolar\"}],\"carpet\":[{\"aaxis\":{\"endlinecolor\":\"#2a3f5f\",\"gridcolor\":\"white\",\"linecolor\":\"white\",\"minorgridcolor\":\"white\",\"startlinecolor\":\"#2a3f5f\"},\"baxis\":{\"endlinecolor\":\"#2a3f5f\",\"gridcolor\":\"white\",\"linecolor\":\"white\",\"minorgridcolor\":\"white\",\"startlinecolor\":\"#2a3f5f\"},\"type\":\"carpet\"}],\"choropleth\":[{\"colorbar\":{\"outlinewidth\":0,\"ticks\":\"\"},\"type\":\"choropleth\"}],\"contour\":[{\"colorbar\":{\"outlinewidth\":0,\"ticks\":\"\"},\"colorscale\":[[0.0,\"#0d0887\"],[0.1111111111111111,\"#46039f\"],[0.2222222222222222,\"#7201a8\"],[0.3333333333333333,\"#9c179e\"],[0.4444444444444444,\"#bd3786\"],[0.5555555555555556,\"#d8576b\"],[0.6666666666666666,\"#ed7953\"],[0.7777777777777778,\"#fb9f3a\"],[0.8888888888888888,\"#fdca26\"],[1.0,\"#f0f921\"]],\"type\":\"contour\"}],\"contourcarpet\":[{\"colorbar\":{\"outlinewidth\":0,\"ticks\":\"\"},\"type\":\"contourcarpet\"}],\"heatmap\":[{\"colorbar\":{\"outlinewidth\":0,\"ticks\":\"\"},\"colorscale\":[[0.0,\"#0d0887\"],[0.1111111111111111,\"#46039f\"],[0.2222222222222222,\"#7201a8\"],[0.3333333333333333,\"#9c179e\"],[0.4444444444444444,\"#bd3786\"],[0.5555555555555556,\"#d8576b\"],[0.6666666666666666,\"#ed7953\"],[0.7777777777777778,\"#fb9f3a\"],[0.8888888888888888,\"#fdca26\"],[1.0,\"#f0f921\"]],\"type\":\"heatmap\"}],\"heatmapgl\":[{\"colorbar\":{\"outlinewidth\":0,\"ticks\":\"\"},\"colorscale\":[[0.0,\"#0d0887\"],[0.1111111111111111,\"#46039f\"],[0.2222222222222222,\"#7201a8\"],[0.3333333333333333,\"#9c179e\"],[0.4444444444444444,\"#bd3786\"],[0.5555555555555556,\"#d8576b\"],[0.6666666666666666,\"#ed7953\"],[0.7777777777777778,\"#fb9f3a\"],[0.8888888888888888,\"#fdca26\"],[1.0,\"#f0f921\"]],\"type\":\"heatmapgl\"}],\"histogram\":[{\"marker\":{\"pattern\":{\"fillmode\":\"overlay\",\"size\":10,\"solidity\":0.2}},\"type\":\"histogram\"}],\"histogram2d\":[{\"colorbar\":{\"outlinewidth\":0,\"ticks\":\"\"},\"colorscale\":[[0.0,\"#0d0887\"],[0.1111111111111111,\"#46039f\"],[0.2222222222222222,\"#7201a8\"],[0.3333333333333333,\"#9c179e\"],[0.4444444444444444,\"#bd3786\"],[0.5555555555555556,\"#d8576b\"],[0.6666666666666666,\"#ed7953\"],[0.7777777777777778,\"#fb9f3a\"],[0.8888888888888888,\"#fdca26\"],[1.0,\"#f0f921\"]],\"type\":\"histogram2d\"}],\"histogram2dcontour\":[{\"colorbar\":{\"outlinewidth\":0,\"ticks\":\"\"},\"colorscale\":[[0.0,\"#0d0887\"],[0.1111111111111111,\"#46039f\"],[0.2222222222222222,\"#7201a8\"],[0.3333333333333333,\"#9c179e\"],[0.4444444444444444,\"#bd3786\"],[0.5555555555555556,\"#d8576b\"],[0.6666666666666666,\"#ed7953\"],[0.7777777777777778,\"#fb9f3a\"],[0.8888888888888888,\"#fdca26\"],[1.0,\"#f0f921\"]],\"type\":\"histogram2dcontour\"}],\"mesh3d\":[{\"colorbar\":{\"outlinewidth\":0,\"ticks\":\"\"},\"type\":\"mesh3d\"}],\"parcoords\":[{\"line\":{\"colorbar\":{\"outlinewidth\":0,\"ticks\":\"\"}},\"type\":\"parcoords\"}],\"pie\":[{\"automargin\":true,\"type\":\"pie\"}],\"scatter\":[{\"marker\":{\"colorbar\":{\"outlinewidth\":0,\"ticks\":\"\"}},\"type\":\"scatter\"}],\"scatter3d\":[{\"line\":{\"colorbar\":{\"outlinewidth\":0,\"ticks\":\"\"}},\"marker\":{\"colorbar\":{\"outlinewidth\":0,\"ticks\":\"\"}},\"type\":\"scatter3d\"}],\"scattercarpet\":[{\"marker\":{\"colorbar\":{\"outlinewidth\":0,\"ticks\":\"\"}},\"type\":\"scattercarpet\"}],\"scattergeo\":[{\"marker\":{\"colorbar\":{\"outlinewidth\":0,\"ticks\":\"\"}},\"type\":\"scattergeo\"}],\"scattergl\":[{\"marker\":{\"colorbar\":{\"outlinewidth\":0,\"ticks\":\"\"}},\"type\":\"scattergl\"}],\"scattermapbox\":[{\"marker\":{\"colorbar\":{\"outlinewidth\":0,\"ticks\":\"\"}},\"type\":\"scattermapbox\"}],\"scatterpolar\":[{\"marker\":{\"colorbar\":{\"outlinewidth\":0,\"ticks\":\"\"}},\"type\":\"scatterpolar\"}],\"scatterpolargl\":[{\"marker\":{\"colorbar\":{\"outlinewidth\":0,\"ticks\":\"\"}},\"type\":\"scatterpolargl\"}],\"scatterternary\":[{\"marker\":{\"colorbar\":{\"outlinewidth\":0,\"ticks\":\"\"}},\"type\":\"scatterternary\"}],\"surface\":[{\"colorbar\":{\"outlinewidth\":0,\"ticks\":\"\"},\"colorscale\":[[0.0,\"#0d0887\"],[0.1111111111111111,\"#46039f\"],[0.2222222222222222,\"#7201a8\"],[0.3333333333333333,\"#9c179e\"],[0.4444444444444444,\"#bd3786\"],[0.5555555555555556,\"#d8576b\"],[0.6666666666666666,\"#ed7953\"],[0.7777777777777778,\"#fb9f3a\"],[0.8888888888888888,\"#fdca26\"],[1.0,\"#f0f921\"]],\"type\":\"surface\"}],\"table\":[{\"cells\":{\"fill\":{\"color\":\"#EBF0F8\"},\"line\":{\"color\":\"white\"}},\"header\":{\"fill\":{\"color\":\"#C8D4E3\"},\"line\":{\"color\":\"white\"}},\"type\":\"table\"}]},\"layout\":{\"annotationdefaults\":{\"arrowcolor\":\"#2a3f5f\",\"arrowhead\":0,\"arrowwidth\":1},\"autotypenumbers\":\"strict\",\"coloraxis\":{\"colorbar\":{\"outlinewidth\":0,\"ticks\":\"\"}},\"colorscale\":{\"diverging\":[[0,\"#8e0152\"],[0.1,\"#c51b7d\"],[0.2,\"#de77ae\"],[0.3,\"#f1b6da\"],[0.4,\"#fde0ef\"],[0.5,\"#f7f7f7\"],[0.6,\"#e6f5d0\"],[0.7,\"#b8e186\"],[0.8,\"#7fbc41\"],[0.9,\"#4d9221\"],[1,\"#276419\"]],\"sequential\":[[0.0,\"#0d0887\"],[0.1111111111111111,\"#46039f\"],[0.2222222222222222,\"#7201a8\"],[0.3333333333333333,\"#9c179e\"],[0.4444444444444444,\"#bd3786\"],[0.5555555555555556,\"#d8576b\"],[0.6666666666666666,\"#ed7953\"],[0.7777777777777778,\"#fb9f3a\"],[0.8888888888888888,\"#fdca26\"],[1.0,\"#f0f921\"]],\"sequentialminus\":[[0.0,\"#0d0887\"],[0.1111111111111111,\"#46039f\"],[0.2222222222222222,\"#7201a8\"],[0.3333333333333333,\"#9c179e\"],[0.4444444444444444,\"#bd3786\"],[0.5555555555555556,\"#d8576b\"],[0.6666666666666666,\"#ed7953\"],[0.7777777777777778,\"#fb9f3a\"],[0.8888888888888888,\"#fdca26\"],[1.0,\"#f0f921\"]]},\"colorway\":[\"#636efa\",\"#EF553B\",\"#00cc96\",\"#ab63fa\",\"#FFA15A\",\"#19d3f3\",\"#FF6692\",\"#B6E880\",\"#FF97FF\",\"#FECB52\"],\"font\":{\"color\":\"#2a3f5f\"},\"geo\":{\"bgcolor\":\"white\",\"lakecolor\":\"white\",\"landcolor\":\"#E5ECF6\",\"showlakes\":true,\"showland\":true,\"subunitcolor\":\"white\"},\"hoverlabel\":{\"align\":\"left\"},\"hovermode\":\"closest\",\"mapbox\":{\"style\":\"light\"},\"paper_bgcolor\":\"white\",\"plot_bgcolor\":\"#E5ECF6\",\"polar\":{\"angularaxis\":{\"gridcolor\":\"white\",\"linecolor\":\"white\",\"ticks\":\"\"},\"bgcolor\":\"#E5ECF6\",\"radialaxis\":{\"gridcolor\":\"white\",\"linecolor\":\"white\",\"ticks\":\"\"}},\"scene\":{\"xaxis\":{\"backgroundcolor\":\"#E5ECF6\",\"gridcolor\":\"white\",\"gridwidth\":2,\"linecolor\":\"white\",\"showbackground\":true,\"ticks\":\"\",\"zerolinecolor\":\"white\"},\"yaxis\":{\"backgroundcolor\":\"#E5ECF6\",\"gridcolor\":\"white\",\"gridwidth\":2,\"linecolor\":\"white\",\"showbackground\":true,\"ticks\":\"\",\"zerolinecolor\":\"white\"},\"zaxis\":{\"backgroundcolor\":\"#E5ECF6\",\"gridcolor\":\"white\",\"gridwidth\":2,\"linecolor\":\"white\",\"showbackground\":true,\"ticks\":\"\",\"zerolinecolor\":\"white\"}},\"shapedefaults\":{\"line\":{\"color\":\"#2a3f5f\"}},\"ternary\":{\"aaxis\":{\"gridcolor\":\"white\",\"linecolor\":\"white\",\"ticks\":\"\"},\"baxis\":{\"gridcolor\":\"white\",\"linecolor\":\"white\",\"ticks\":\"\"},\"bgcolor\":\"#E5ECF6\",\"caxis\":{\"gridcolor\":\"white\",\"linecolor\":\"white\",\"ticks\":\"\"}},\"title\":{\"x\":0.05},\"xaxis\":{\"automargin\":true,\"gridcolor\":\"white\",\"linecolor\":\"white\",\"ticks\":\"\",\"title\":{\"standoff\":15},\"zerolinecolor\":\"white\",\"zerolinewidth\":2},\"yaxis\":{\"automargin\":true,\"gridcolor\":\"white\",\"linecolor\":\"white\",\"ticks\":\"\",\"title\":{\"standoff\":15},\"zerolinecolor\":\"white\",\"zerolinewidth\":2}}},\"xaxis\":{\"range\":[-15,1850],\"showgrid\":false,\"zeroline\":false,\"visible\":false},\"yaxis\":{\"range\":[0,1.5],\"showgrid\":false,\"zeroline\":false,\"visible\":false},\"title\":{\"text\":\"Spike Protien Amino Acid Sequence Comparison<br><sup>QKS89879 (T1, 19B) difference from QKS89879 (T1, 19B)<sup>\",\"x\":0.1},\"legend\":{\"yanchor\":\"middle\",\"y\":1,\"xanchor\":\"right\",\"x\":1},\"plot_bgcolor\":\"white\",\"height\":380,\"width\":1100,\"barmode\":\"overlay\",\"annotations\":[{\"font\":{\"size\":12},\"showarrow\":false,\"text\":\"68H\",\"x\":68,\"xanchor\":\"center\",\"y\":1,\"yanchor\":\"middle\",\"yshift\":18},{\"font\":{\"size\":12},\"showarrow\":false,\"text\":\"69V\",\"x\":69,\"xanchor\":\"center\",\"y\":1,\"yanchor\":\"middle\",\"yshift\":-18},{\"font\":{\"size\":12},\"showarrow\":false,\"text\":\"143Y\",\"x\":143,\"xanchor\":\"center\",\"y\":1,\"yanchor\":\"middle\",\"yshift\":36},{\"font\":{\"size\":12},\"showarrow\":false,\"text\":\"V482A\",\"x\":482,\"xanchor\":\"center\",\"y\":1,\"yanchor\":\"middle\",\"yshift\":-36},{\"font\":{\"size\":12},\"showarrow\":false,\"text\":\"Y500N\",\"x\":500,\"xanchor\":\"center\",\"y\":1,\"yanchor\":\"middle\",\"yshift\":18},{\"font\":{\"size\":12},\"showarrow\":false,\"text\":\"D569A\",\"x\":569,\"xanchor\":\"center\",\"y\":1,\"yanchor\":\"middle\",\"yshift\":-18},{\"font\":{\"size\":12},\"showarrow\":false,\"text\":\"G613D\",\"x\":613,\"xanchor\":\"center\",\"y\":1,\"yanchor\":\"middle\",\"yshift\":36},{\"font\":{\"size\":12},\"showarrow\":false,\"text\":\"H680P\",\"x\":680,\"xanchor\":\"center\",\"y\":1,\"yanchor\":\"middle\",\"yshift\":-36},{\"font\":{\"size\":12},\"showarrow\":false,\"text\":\"I715T\",\"x\":715,\"xanchor\":\"center\",\"y\":1,\"yanchor\":\"middle\",\"yshift\":18},{\"font\":{\"size\":12},\"showarrow\":false,\"text\":\"A981S\",\"x\":981,\"xanchor\":\"center\",\"y\":1,\"yanchor\":\"middle\",\"yshift\":-18},{\"font\":{\"size\":12},\"showarrow\":false,\"text\":\"H1117D\",\"x\":1117,\"xanchor\":\"center\",\"y\":1,\"yanchor\":\"middle\",\"yshift\":36},{\"font\":{\"size\":12},\"showarrow\":false,\"text\":\"R1265K\",\"x\":1265,\"xanchor\":\"center\",\"y\":1,\"yanchor\":\"middle\",\"yshift\":-36},{\"font\":{\"size\":12},\"showarrow\":false,\"text\":\"Alignment Score\",\"x\":0,\"xanchor\":\"left\",\"y\":0.25,\"yanchor\":\"bottom\"},{\"showarrow\":false,\"text\":\"counts\",\"textangle\":0,\"x\":1450,\"y\":0,\"yanchor\":\"bottom\"}]},                        {\"responsive\": true}                    ).then(function(){\n",
       "                            \n",
       "var gd = document.getElementById('10ce0444-deb1-401b-bb88-2755aac49dc3');\n",
       "var x = new MutationObserver(function (mutations, observer) {{\n",
       "        var display = window.getComputedStyle(gd).display;\n",
       "        if (!display || display === 'none') {{\n",
       "            console.log([gd, 'removed!']);\n",
       "            Plotly.purge(gd);\n",
       "            observer.disconnect();\n",
       "        }}\n",
       "}});\n",
       "\n",
       "// Listen for the removal of the full notebook cells\n",
       "var notebookContainer = gd.closest('#notebook-container');\n",
       "if (notebookContainer) {{\n",
       "    x.observe(notebookContainer, {childList: true});\n",
       "}}\n",
       "\n",
       "// Listen for the clearing of the current output cell\n",
       "var outputEl = gd.closest('.output');\n",
       "if (outputEl) {{\n",
       "    x.observe(outputEl, {childList: true});\n",
       "}}\n",
       "\n",
       "                        })                };                });            </script>        </div>"
      ]
     },
     "metadata": {},
     "output_type": "display_data"
    }
   ],
   "source": [
    "plot_alignment_plotly(alignments, df.loc[df['p_accession'] == 'QKS89879'].to_dict('records')[0], df.loc[df['p_accession'] == 'QKS89879'].to_dict('records')[0], save = True, debug = False)"
   ]
  },
  {
   "cell_type": "markdown",
   "id": "ee853c4e",
   "metadata": {},
   "source": [
    "Try with alignment that has all four types and more changes so can see how spacing and score does."
   ]
  },
  {
   "cell_type": "code",
   "execution_count": null,
   "id": "a2ca72bf",
   "metadata": {},
   "outputs": [],
   "source": []
  }
 ],
 "metadata": {
  "kernelspec": {
   "display_name": "Python 3 (ipykernel)",
   "language": "python",
   "name": "python3"
  },
  "language_info": {
   "codemirror_mode": {
    "name": "ipython",
    "version": 3
   },
   "file_extension": ".py",
   "mimetype": "text/x-python",
   "name": "python",
   "nbconvert_exporter": "python",
   "pygments_lexer": "ipython3",
   "version": "3.9.7"
  }
 },
 "nbformat": 4,
 "nbformat_minor": 5
}
