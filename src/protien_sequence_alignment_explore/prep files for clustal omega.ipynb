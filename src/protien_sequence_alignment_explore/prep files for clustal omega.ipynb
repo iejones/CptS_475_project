{
 "cells": [
  {
   "cell_type": "markdown",
   "id": "640eac58",
   "metadata": {},
   "source": [
    "create input file for clustal omega"
   ]
  },
  {
   "cell_type": "code",
   "execution_count": 1,
   "id": "d0c62017",
   "metadata": {},
   "outputs": [],
   "source": [
    "import pandas as pd\n",
    "import os\n",
    "\n",
    "project_folder = os.path.join(\"..\", \"..\")"
   ]
  },
  {
   "cell_type": "code",
   "execution_count": 2,
   "id": "37bc298e",
   "metadata": {},
   "outputs": [
    {
     "data": {
      "text/html": [
       "<div>\n",
       "<style scoped>\n",
       "    .dataframe tbody tr th:only-of-type {\n",
       "        vertical-align: middle;\n",
       "    }\n",
       "\n",
       "    .dataframe tbody tr th {\n",
       "        vertical-align: top;\n",
       "    }\n",
       "\n",
       "    .dataframe thead th {\n",
       "        text-align: right;\n",
       "    }\n",
       "</style>\n",
       "<table border=\"1\" class=\"dataframe\">\n",
       "  <thead>\n",
       "    <tr style=\"text-align: right;\">\n",
       "      <th></th>\n",
       "      <th>state</th>\n",
       "      <th>p_sequence</th>\n",
       "      <th>p_accession</th>\n",
       "      <th>date</th>\n",
       "      <th>count</th>\n",
       "      <th>n_accession</th>\n",
       "      <th>n_sequence</th>\n",
       "      <th>clade</th>\n",
       "      <th>timespan</th>\n",
       "    </tr>\n",
       "  </thead>\n",
       "  <tbody>\n",
       "    <tr>\n",
       "      <th>0</th>\n",
       "      <td>MA</td>\n",
       "      <td>\"MFVFLVLLPLVSSQCVNLTTRTQLPPAYTNSFTRGVYYPDKVFRS...</td>\n",
       "      <td>QTP71261</td>\n",
       "      <td>2020</td>\n",
       "      <td>2</td>\n",
       "      <td>MW885877</td>\n",
       "      <td>GGTAACAAACCAACCAACTTTCGATCTCTTGTAGATCTGTTCTCTA...</td>\n",
       "      <td>20A</td>\n",
       "      <td>1</td>\n",
       "    </tr>\n",
       "    <tr>\n",
       "      <th>1</th>\n",
       "      <td>WA</td>\n",
       "      <td>\"MFVFLVLLPLVSSQCVNLTTRTQLPPAYTNSFTRGVYYPDKVFRS...</td>\n",
       "      <td>QLJ57227</td>\n",
       "      <td>2020</td>\n",
       "      <td>1367</td>\n",
       "      <td>MT252714</td>\n",
       "      <td>CTTGTAGATCTGTTCTCTAAACGAACTTTAAAATCTGTGTGGCTGT...</td>\n",
       "      <td>19B</td>\n",
       "      <td>1</td>\n",
       "    </tr>\n",
       "    <tr>\n",
       "      <th>2</th>\n",
       "      <td>WA</td>\n",
       "      <td>\"MFVFLVLLPLVSSQCVNLTTRTQLPPAYTNSFTRGVYYPDKVFRS...</td>\n",
       "      <td>QLJ57383</td>\n",
       "      <td>2020</td>\n",
       "      <td>1</td>\n",
       "      <td>MT252753</td>\n",
       "      <td>CCCTTHAACTTTCGATCTCTTGTAGATCTGTTCTCTAAACGAACTT...</td>\n",
       "      <td>19A</td>\n",
       "      <td>1</td>\n",
       "    </tr>\n",
       "    <tr>\n",
       "      <th>3</th>\n",
       "      <td>CA</td>\n",
       "      <td>\"MFVFLVLLPLVSSQCVNLTTRTQLPPAYTNSFTRGVYYPDKVFRS...</td>\n",
       "      <td>QHW06059</td>\n",
       "      <td>2020-01-29</td>\n",
       "      <td>2</td>\n",
       "      <td>MT027064</td>\n",
       "      <td>ATTAAAGGTTTATACCTTCCCAGGTAACAAACCAACCAACTTTCGA...</td>\n",
       "      <td>19A</td>\n",
       "      <td>1</td>\n",
       "    </tr>\n",
       "    <tr>\n",
       "      <th>4</th>\n",
       "      <td>WA</td>\n",
       "      <td>\"MFVFLVLLPLVSSQCVNLTTRTQLPPAYTNSFTRGVYYPDKVFRS...</td>\n",
       "      <td>QKS89879</td>\n",
       "      <td>2020-02-29</td>\n",
       "      <td>26</td>\n",
       "      <td>MT627216</td>\n",
       "      <td>TAAAGGTTTATACCTTCCCAGGTAACAAACCAACCAACTTTCGATC...</td>\n",
       "      <td>19B</td>\n",
       "      <td>1</td>\n",
       "    </tr>\n",
       "  </tbody>\n",
       "</table>\n",
       "</div>"
      ],
      "text/plain": [
       "  state                                         p_sequence p_accession  \\\n",
       "0    MA  \"MFVFLVLLPLVSSQCVNLTTRTQLPPAYTNSFTRGVYYPDKVFRS...    QTP71261   \n",
       "1    WA  \"MFVFLVLLPLVSSQCVNLTTRTQLPPAYTNSFTRGVYYPDKVFRS...    QLJ57227   \n",
       "2    WA  \"MFVFLVLLPLVSSQCVNLTTRTQLPPAYTNSFTRGVYYPDKVFRS...    QLJ57383   \n",
       "3    CA  \"MFVFLVLLPLVSSQCVNLTTRTQLPPAYTNSFTRGVYYPDKVFRS...    QHW06059   \n",
       "4    WA  \"MFVFLVLLPLVSSQCVNLTTRTQLPPAYTNSFTRGVYYPDKVFRS...    QKS89879   \n",
       "\n",
       "         date  count n_accession  \\\n",
       "0        2020      2    MW885877   \n",
       "1        2020   1367    MT252714   \n",
       "2        2020      1    MT252753   \n",
       "3  2020-01-29      2    MT027064   \n",
       "4  2020-02-29     26    MT627216   \n",
       "\n",
       "                                          n_sequence clade  timespan  \n",
       "0  GGTAACAAACCAACCAACTTTCGATCTCTTGTAGATCTGTTCTCTA...   20A         1  \n",
       "1  CTTGTAGATCTGTTCTCTAAACGAACTTTAAAATCTGTGTGGCTGT...   19B         1  \n",
       "2  CCCTTHAACTTTCGATCTCTTGTAGATCTGTTCTCTAAACGAACTT...   19A         1  \n",
       "3  ATTAAAGGTTTATACCTTCCCAGGTAACAAACCAACCAACTTTCGA...   19A         1  \n",
       "4  TAAAGGTTTATACCTTCCCAGGTAACAAACCAACCAACTTTCGATC...   19B         1  "
      ]
     },
     "execution_count": 2,
     "metadata": {},
     "output_type": "execute_result"
    }
   ],
   "source": [
    "df = pd.read_csv(os.path.join(project_folder, 'data', 'final', \"all.csv\"))\n",
    "df.head()"
   ]
  },
  {
   "cell_type": "code",
   "execution_count": 29,
   "id": "7add3621",
   "metadata": {},
   "outputs": [],
   "source": [
    "lines = []\n",
    "for index, row in df.iterrows():\n",
    "        lines.append(\">\" + row['p_accession'] + \"\\n\" \n",
    "                     + row['p_sequence'][1:-1] + '\\n') # remove the quotes from seq string\n"
   ]
  },
  {
   "cell_type": "code",
   "execution_count": 30,
   "id": "fc71e43d",
   "metadata": {},
   "outputs": [
    {
     "data": {
      "text/plain": [
       "['>QTP71261\\nMFVFLVLLPLVSSQCVNLTTRTQLPPAYTNSFTRGVYYPDKVFRSSVLHSTQDLFLPFFSNVTWFHAIHVSGTNGTKRFDNPVLPFNDGVYFASTEKSNIIRGWIFGTTLDSKTQSLLIVNNATNVVIKVCEFQFCNDPFLGVYYHKNNKSWMESEFRVYSSANNCTFEYVSQPFLMDLEGKQGNFKNLREFVFKNIDGYFKIYSKHTPINLVRDLPQGFSALEPLVDLPIGINITRFQTLLALHRSYLTPGDSSSGWTAGAAAYYVGYLQPRTFLLKYNENGTITDAVDCALDPLSETKCTLKSFTVEKGIYQTSNFRVQPTESIVRFPNITNLCPFGEVFNATRFASVYAWNRKRISNCVADYSVLYNSASFSTFKCYGVSPTKLNDLCFTNVYADSFVIRGDEVRQIAPGQTGKIADYNYKLPDDFTGCVIAWNSNNLDSKVGGNYNYLYRLFRKSNLKPFERDISTEIYQAGSTPCNGVEGFNCYFPLQSYGFQPTNGVGYQPYRVVVLSFELLHAPATVCGPKKSTNLVKNKCVNFNFNGLTGTGVLTESNKKFLPFQQFGRDIADTTDAVRDPQTLEILDITPCSFGGVSVITPGTNTSNQVAVLYQGVNCTEVPVAIHADQLTPTWRVYSTGSNVFQTRAGCLIGAEHVNNSYECDIPIGAGICASYQTQTNSPRRARSVASQSIIAYTMSLGAENSVAYSNNSIAIPTNFTISVTTEILPVSMTKTSVDCTMYICGDSTECSNLLLQYGSFCTQLNRALTGIAVEQDKNTQEVFAQVKQIYKTPPIKDFGGFNFSQILPDPSKPSKRSFIEDLLFNKVTLADAGFIKQYGDCLGDIDARDLICAQKFNGLTVLPPLLTDEMIAQYTSALLAGTITSGWTFGAGAALQIPFAMQMAYRFNGIGVTQNVLYENQKLIANQFNSAIGKIQDSLSSTASALGKLQDVVNQNAQALNTLVKQLSSNFGAISSVLNDILSRLDKVEAEVQIDRLITGRLQSLQTYVTQQLIRAAEIRASANLAATKMSECVLGQSKRVDFCGKGYHLMSFPQSAPHGVVFLHVTYVPAQEKNFTTAPAICHDGKAHFPREGVFVSNGTHWFVTQRNFYEPQIITTDNTFVSGNCDVVIGIVNNTVYDPLQPELDSFKEELDKYFKNHTSPDVDLGDISGINASVVNIQKEIDRLNEVAKNLNESLIDLQELGKYEQYIKWPWYIWLGFIAGLIAIVMVTIMLCCMTSCCSCLKGCCSCGSCCKFDEDDSEPVLKGVKLHYT\\n',\n",
       " '>QLJ57227\\nMFVFLVLLPLVSSQCVNLTTRTQLPPAYTNSFTRGVYYPDKVFRSSVLHSTQDLFLPFFSNVTWFHAIHVSGTNGTKRFDNPVLPFNDGVYFASTEKSNIIRGWIFGTTLDSKTQSLLIVNNATNVVIKVCEFQFCNDPFLGVYYHKNNKSWMESEFRVYSSANNCTFEYVSQPFLMDLEGKQGNFKNLREFVFKNIDGYFKIYSKHTPINLVRDLPQGFSALEPLVDLPIGINITRFQTLLALHRSYLTPGDSSSGWTAGAAAYYVGYLQPRTFLLKYNENGTITDAVDCALDPLSETKCTLKSFTVEKGIYQTSNFRVQPTESIVRFPNITNLCPFGEVFNATRFASVYAWNRKRISNCVADYSVLYNSASFSTFKCYGVSPTKLNDLCFTNVYADSFVIRGDEVRQIAPGQTGKIADYNYKLPDDFTGCVIAWNSNNLDSKVGGNYNYLYRLFRKSNLKPFERDISTEIYQAGSTPCNGVEGFNCYFPLQSYGFQPTNGVGYQPYRVVVLSFELLHAPATVCGPKKSTNLVKNKCVNFNFNGLTGTGVLTESNKKFLPFQQFGRDIADTTDAVRDPQTLEILDITPCSFGGVSVITPGTNTSNQVAVLYQDVNCTEVPVAIHADQLTPTWRVYSTGSNVFQTRAGCLIGAEHVNNSYECDIPIGAGICASYQTQTNSPRRARSVASQSIIAYTMSLGAENSVAYSNNSIAIPTNFTISVTTEILPVSMTKTSVDCTMYICGDSTECSNLLLQYGSFCTQLNRALTGIAVEQDKNTQEVFAQVKQIYKTPPIKDFGGFNFSQILPDPSKPSKRSFIEDLLFNKVTLADAGFIKQYGDCLGDIAARDLICAQKFNGLTVLPPLLTDEMIAQYTSALLAGTITSGWTFGAGAALQIPFAMQMAYRFNGIGVTQNVLYENQKLIANQFNSAIGKIQDSLSSTASALGKLQDVVNQNAQALNTLVKQLSSNFGAISSVLNDILSRLDKVEAEVQIDRLITGRLQSLQTYVTQQLIRAAEIRASANLAATKMSECVLGQSKRVDFCGKGYHLMSFPQSAPHGVVFLHVTYVPAQEKNFTTAPAICHDGKAHFPREGVFVSNGTHWFVTQRNFYEPQIITTDNTFVSGNCDVVIGIVNNTVYDPLQPELDSFKEELDKYFKNHTSPDVDLGDISGINASVVNIQKEIDRLNEVAKNLNESLIDLQELGKYEQYIKWPWYIWLGFIAGLIAIVMVTIMLCCMTSCCSCLKGCCSCGSCCKFDEDDSEPVLKGVKLHYT\\n']"
      ]
     },
     "execution_count": 30,
     "metadata": {},
     "output_type": "execute_result"
    }
   ],
   "source": [
    "lines[0:2]"
   ]
  },
  {
   "cell_type": "code",
   "execution_count": 31,
   "id": "25a2e95f",
   "metadata": {},
   "outputs": [],
   "source": [
    "with open('spike_protiens.txt', 'w') as f:\n",
    "    f.writelines(lines)"
   ]
  },
  {
   "cell_type": "code",
   "execution_count": 36,
   "id": "f2b9c14a",
   "metadata": {},
   "outputs": [],
   "source": [
    "subset = lines[4:6] + lines[200:202] + lines[1200:1202] + lines[7800:7802] + lines[8250:8251]"
   ]
  },
  {
   "cell_type": "code",
   "execution_count": 39,
   "id": "fdffc95c",
   "metadata": {},
   "outputs": [],
   "source": [
    "with open('subset_spike_protiens.txt', 'w') as f:\n",
    "    f.writelines(subset)"
   ]
  },
  {
   "cell_type": "code",
   "execution_count": null,
   "id": "20479773",
   "metadata": {},
   "outputs": [],
   "source": []
  },
  {
   "cell_type": "code",
   "execution_count": null,
   "id": "010cb696",
   "metadata": {},
   "outputs": [],
   "source": []
  }
 ],
 "metadata": {
  "kernelspec": {
   "display_name": "Python 3 (ipykernel)",
   "language": "python",
   "name": "python3"
  },
  "language_info": {
   "codemirror_mode": {
    "name": "ipython",
    "version": 3
   },
   "file_extension": ".py",
   "mimetype": "text/x-python",
   "name": "python",
   "nbconvert_exporter": "python",
   "pygments_lexer": "ipython3",
   "version": "3.9.7"
  }
 },
 "nbformat": 4,
 "nbformat_minor": 5
}
